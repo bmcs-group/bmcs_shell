{
 "cells": [
  {
   "cell_type": "code",
   "execution_count": 1,
   "metadata": {},
   "outputs": [],
   "source": [
    "from bmcs_shell.folding.fets2d3u1m import \\\n",
    "    FETS2D3U1M, FEWBShellMesh,XWBDomain, FECustomMesh\n",
    "import numpy as np\n",
    "from ibvpy.mats.mats2D.mats2D_elastic import MATS2DElastic\n",
    "from ibvpy.mats.mats2D import \\\n",
    "    MATS2DScalarDamage"
   ]
  },
  {
   "cell_type": "code",
   "execution_count": 2,
   "metadata": {},
   "outputs": [],
   "source": [
    "from bmcs_shell.folding.waterbomb_cell import WBElem"
   ]
  },
  {
   "cell_type": "code",
   "execution_count": 3,
   "metadata": {},
   "outputs": [],
   "source": [
    "fets = FETS2D3U1M()\n",
    "\n",
    "wb_mesh_0 = FECustomMesh(\n",
    "#    X_Id = [[1.5,2,0], [7,3.5,0], [4,7,0]],\n",
    "#    X_Id = [[-1,0,0], [1,0,0], [0,1,0]],\n",
    "    X_Id = [[0,0,0], [1,0,0], [0,1,0]],\n",
    "    I_Fi = [[0,1,2]],\n",
    "    fets=fets\n",
    ")\n",
    "fixed_dofs_0 = [0,1,2,4,5,6,8]\n",
    "loaded_dofs_0 = [3,7]\n",
    "\n",
    "wb_mesh_1 = FECustomMesh(\n",
    "    X_Id = [[0,-1,1], [0,1,1], [-2,0,0], [2,0,0]],\n",
    "    I_Fi = [[0,1,2], [0,3,1]],\n",
    "    fets=fets\n",
    ")\n",
    "fixed_dofs_1 = [2,5,6,7,8,10,11]\n",
    "loaded_dofs_1 = [9]\n",
    "\n",
    "wb_mesh_2 = FECustomMesh(\n",
    "    X_Id = [[0,0,0], [2,0,0], [2,2,0], [2,0,0], [1,1,0]],\n",
    "    I_Fi = [[0,1,4], [1,2,4], [2,3,4], [3,0,4]],\n",
    "    fets=fets\n",
    ")\n",
    "\n",
    "fixed_dofs_2 = [0,1,2,5,8,9,10,11,14]\n",
    "loaded_dofs_2 = [3,6]\n",
    "\n",
    "wb_mesh_3 = FECustomMesh(\n",
    "    X_Id = [[0,-1,1], [0,1,1], [2,0,0], [-2,0,0]],\n",
    "    I_Fi = [[0,2,1], [0,3,1]],\n",
    "    fets=fets\n",
    ")\n",
    "\n",
    "fixed_dofs_3 = [1,4,6,7,8,9,10,11]\n",
    "loaded_dofs_3 = [2,5]"
   ]
  },
  {
   "cell_type": "code",
   "execution_count": 4,
   "metadata": {},
   "outputs": [],
   "source": [
    "data = dict(alpha=1, a=5, b=9, c=4, n_phi_plus=1, n_x_plus=1)\n",
    "wb = WBElem(**data)\n",
    "wb_mesh = FEWBShellMesh(wb_cell=wb,**data)\n",
    "fixed_nodes = np.array([1,2,3,4])\n",
    "fixed_dofs = (fixed_nodes[:,np.newaxis] * 3 + np.arange(3)[np.newaxis,:]).flatten()\n",
    "loaded_dofs = [2]"
   ]
  },
  {
   "cell_type": "code",
   "execution_count": 5,
   "metadata": {},
   "outputs": [],
   "source": [
    "wb_mesh = wb_mesh_0\n",
    "fixed_dofs = fixed_dofs_0\n",
    "loaded_dofs = loaded_dofs_0"
   ]
  },
  {
   "cell_type": "code",
   "execution_count": 6,
   "metadata": {
    "pycharm": {
     "name": "#%%\n"
    }
   },
   "outputs": [],
   "source": [
    "xdomain = XWBDomain(\n",
    "    mesh=wb_mesh\n",
    ")"
   ]
  },
  {
   "cell_type": "markdown",
   "metadata": {},
   "source": [
    "\\begin{align}\n",
    " u_a = L_i u_{ia}\n",
    "\\end{align}\n",
    "\\begin{align}\n",
    "\\varepsilon_{ab} &= \\frac{1}{2} \n",
    "\\left(\\frac{\\partial u_a}{\\partial x_b} + \n",
    " \\frac{\\partial u_b}{\\partial x_a}\\right) \\\\ \n",
    "&= \\frac{1}{2} \n",
    "\\left( \\delta_{ac} \\delta_{bd} + \\delta_{ad} \\delta_{bc}\\right) \n",
    " \\frac{\\partial u_c}{\\partial x_d} \n",
    "\\\\\n",
    "&= \n",
    " \\frac{1}{2} \n",
    "\\left( \\delta_{ac} \\delta_{bd} + \\delta_{ad} \\delta_{bc}\\right) \n",
    " \\frac{\\partial L_i}{\\partial x_d} u_{ic}\n",
    "\\\\ \n",
    " &=\n",
    " \\frac{1}{2} \n",
    "\\left( \\delta_{ac} \\delta_{bd} + \\delta_{ad} \\delta_{bc}\\right) \n",
    "\\frac{\\partial L_i}{\\partial \\eta_j} \\frac{\\partial \\eta_j}{\\partial x_d} u_{ic}\n",
    "\\end{align}"
   ]
  },
  {
   "cell_type": "markdown",
   "metadata": {},
   "source": [
    "\\begin{align}\n",
    "L_1 &= \\eta_1, L_2 = \\eta_2, L_3 = 1 - \\eta_1 - \\eta_2 \\\\\n",
    "\\frac{\\partial L_i}{\\partial \\eta_j} & = \n",
    "\\left[\n",
    "\\begin{array}{rr}\n",
    "1 & 0 \\\\ 0 & 1 \\\\ -1 &-1\n",
    "\\end{array}\n",
    "\\right]\n",
    "\\end{align}"
   ]
  },
  {
   "cell_type": "markdown",
   "metadata": {},
   "source": [
    "\\begin{align}\n",
    "x_{a} = L_i x_{ia}\n",
    "\\end{align}\n",
    "\\begin{align}\n",
    "\\frac{\\partial x_a}{\\partial \\eta_j}\n",
    "& = \\frac{\\partial L_i}{\\partial \\eta_j} x_{ia}\n",
    "\\end{align}\n",
    "\\begin{align}\n",
    "\\end{align}"
   ]
  },
  {
   "cell_type": "code",
   "execution_count": 7,
   "metadata": {},
   "outputs": [
    {
     "data": {
      "text/plain": [
       "array([[[[1., 0.],\n",
       "         [0., 1.]]]])"
      ]
     },
     "execution_count": 7,
     "metadata": {},
     "output_type": "execute_result"
    }
   ],
   "source": [
    "x_Ia = xdomain.X_Id[...,:-1]\n",
    "x_Eia = x_Ia[xdomain.I_Ei]\n",
    "delta = np.identity(2)\n",
    "Diff1_abcd = 0.5 * (\n",
    "    np.einsum('ac,bd->abcd', delta, delta) +\n",
    "    np.einsum('ad,bc->abcd', delta, delta)\n",
    ")\n",
    "dN_mir = np.array([[[1,0],[0,1],[-1,-1]]], dtype=np.float_)\n",
    "J_Emar = np.einsum('mir,Eia->Emar', dN_mir, x_Eia)\n",
    "inv_J_Emra = np.linalg.inv(J_Emar)\n",
    "det_J_Emra = np.linalg.det(J_Emar)\n",
    "B_Eimabc = np.einsum('abcd,mir,Emrd->Eimabc',Diff1_abcd,dN_mir,inv_J_Emra)\n",
    "U_Eic = np.array([[[0,0],[1,0],[0,1]]], dtype=np.float_)\n",
    "eps_Emab = np.einsum('Eimabc,Eic->Emab', B_Eimabc, U_Eic)\n",
    "eps_Emab"
   ]
  },
  {
   "cell_type": "code",
   "execution_count": 8,
   "metadata": {},
   "outputs": [],
   "source": [
    "B2_Eimabc = np.einsum('abcd,imr,Emrd->Eimabc',Diff1_abcd,xdomain.fets.dN_imr,inv_J_Emra)"
   ]
  },
  {
   "cell_type": "code",
   "execution_count": 9,
   "metadata": {},
   "outputs": [
    {
     "data": {
      "text/plain": [
       "array([[[[-1., -1.],\n",
       "         [ 1.,  0.]]]])"
      ]
     },
     "execution_count": 9,
     "metadata": {},
     "output_type": "execute_result"
    }
   ],
   "source": [
    "inv_J_Emra"
   ]
  },
  {
   "cell_type": "code",
   "execution_count": 10,
   "metadata": {},
   "outputs": [
    {
     "data": {
      "text/plain": [
       "array([[[[-1.,  1.],\n",
       "         [ 1., -1.]]]])"
      ]
     },
     "execution_count": 10,
     "metadata": {},
     "output_type": "execute_result"
    }
   ],
   "source": [
    "eps2_Emab = np.einsum('Eimabc,Eic->Emab', xdomain.B1_Eimabc, U_Eic)\n",
    "eps2_Emab"
   ]
  },
  {
   "cell_type": "code",
   "execution_count": 11,
   "metadata": {},
   "outputs": [],
   "source": [
    "E_ = 1000\n",
    "nu_ = 0."
   ]
  },
  {
   "cell_type": "code",
   "execution_count": 28,
   "metadata": {},
   "outputs": [],
   "source": [
    "m = MATS2DElastic(E=E_, nu=nu_)\n",
    "sig_Emab, D_Emabcd = m.get_corr_pred(eps_Emab, 0)\n",
    "D_abcd = D_Emabcd[0,0]"
   ]
  },
  {
   "cell_type": "code",
   "execution_count": null,
   "metadata": {},
   "outputs": [],
   "source": [
    "BB_IJcdabef = np.einsum('EIabc,EJefd->EIabcJefd',\n",
    "            B_EIabc, B_EIabc) * det_J_E * 0.5"
   ]
  },
  {
   "cell_type": "code",
   "execution_count": null,
   "metadata": {},
   "outputs": [],
   "source": [
    "k_IcJd = np.einsum(\n",
    "    'EIabcJefd,abcd->EIcJd',\n",
    "    BB_IJcdabef, D_abcd\n",
    ")\n",
    "k1_ij = k_IcJd.reshape(6,6)\n",
    "k1_ij"
   ]
  },
  {
   "cell_type": "code",
   "execution_count": null,
   "metadata": {},
   "outputs": [],
   "source": []
  },
  {
   "cell_type": "code",
   "execution_count": null,
   "metadata": {},
   "outputs": [],
   "source": [
    "xx, yy = wb_mesh.X_Id[:,:-1].T\n",
    "xx, yy"
   ]
  },
  {
   "cell_type": "code",
   "execution_count": null,
   "metadata": {},
   "outputs": [],
   "source": [
    "y23 = yy[1] - yy[2]\n",
    "y31 = yy[2] - yy[0]\n",
    "y12 = yy[0] - yy[1] \n",
    "x32 = xx[2] - xx[1]\n",
    "x13 = xx[0] - xx[2]\n",
    "x21 = xx[1] - xx[0]\n",
    "x23 = -x32\n",
    "y32 = -y23\n",
    "y13 = -y31\n",
    "J_analytical = np.array([[[[x13,y13],[x23,y23]]]])\n",
    "J_analytical\n",
    "inv_J_analytical = np.linalg.inv(J_analytical)\n",
    "inv_J_analytical\n",
    "det_J_analytical = np.linalg.det(J_analytical)\n",
    "J_analytical, det_J_analytical"
   ]
  },
  {
   "cell_type": "code",
   "execution_count": null,
   "metadata": {},
   "outputs": [],
   "source": [
    "X_Eid = xdomain.X_Id[xdomain.I_Ei]\n",
    "J_Emar = np.einsum('imr,Eia->Emra', xdomain.fets.dN_imr, X_Eid[...,:-1])\n",
    "J_Emar, xdomain.det_J_Em, xdomain.J_Emar"
   ]
  },
  {
   "cell_type": "code",
   "execution_count": null,
   "metadata": {},
   "outputs": [],
   "source": [
    "B_so = np.array(\n",
    "    [\n",
    "        [y23, 0, y31, 0, y12, 0],\n",
    "        [0, x32, 0, x13, 0, x21],\n",
    "        [x32,y23,x13,y31,x21,y12]\n",
    "    ]\n",
    ") / det_J_analytical[0,0]"
   ]
  },
  {
   "cell_type": "code",
   "execution_count": null,
   "metadata": {},
   "outputs": [],
   "source": [
    "B_so"
   ]
  },
  {
   "cell_type": "code",
   "execution_count": null,
   "metadata": {},
   "outputs": [],
   "source": [
    "np.einsum('so,o->s', B_so, U_Ic.flatten())"
   ]
  },
  {
   "cell_type": "code",
   "execution_count": null,
   "metadata": {},
   "outputs": [],
   "source": [
    "D_st = E_ / (1 - nu_**2) * np.array([[1, nu_, 0], [nu_, 1, 0], [0, 0, 0.5*(1-nu_)]])"
   ]
  },
  {
   "cell_type": "code",
   "execution_count": null,
   "metadata": {},
   "outputs": [],
   "source": [
    "k2_ij = np.einsum('so,st,tp->op', B_so, D_st, B_so) * det_J_analytical[0,0] / 2"
   ]
  },
  {
   "cell_type": "code",
   "execution_count": null,
   "metadata": {},
   "outputs": [],
   "source": [
    "k2_ij"
   ]
  },
  {
   "cell_type": "code",
   "execution_count": null,
   "metadata": {},
   "outputs": [],
   "source": [
    "k1_ij"
   ]
  },
  {
   "cell_type": "code",
   "execution_count": null,
   "metadata": {},
   "outputs": [],
   "source": [
    "#m = MATS2DScalarDamage()"
   ]
  },
  {
   "cell_type": "code",
   "execution_count": null,
   "metadata": {},
   "outputs": [],
   "source": [
    "from ibvpy.bcond import BCDof"
   ]
  },
  {
   "cell_type": "code",
   "execution_count": null,
   "metadata": {},
   "outputs": [],
   "source": [
    "u_cntl = -1\n",
    "bc_fixed = [BCDof(var= 'u', dof=dof, value=0 )\n",
    "           for dof in fixed_dofs]\n",
    "bc_loaded = [BCDof(var= 'f', dof=dof, value=u_cntl )\n",
    "           for dof in loaded_dofs]"
   ]
  },
  {
   "cell_type": "code",
   "execution_count": null,
   "metadata": {},
   "outputs": [],
   "source": [
    "from ibvpy.sim.tstep_bc import TStepBC\n",
    "from ibvpy.mats.viz3d_scalar_field import \\\n",
    "    Vis3DStateField, Viz3DScalarField"
   ]
  },
  {
   "cell_type": "code",
   "execution_count": null,
   "metadata": {},
   "outputs": [],
   "source": [
    "from ibvpy.mats.viz3d_tensor_field import \\\n",
    "    Vis3DTensorField, Viz3DTensorField"
   ]
  },
  {
   "cell_type": "code",
   "execution_count": null,
   "metadata": {},
   "outputs": [],
   "source": [
    "ts = TStepBC(\n",
    "    domains=[(xdomain, m)],\n",
    "    bc=bc_fixed + bc_loaded,\n",
    ")\n",
    "\n",
    "# m.hist.vis_record = {\n",
    "#     'strain': Vis3DTensorField(var='eps_ab'),\n",
    "# #     'stress': Vis3DTensorField(var='sig_ab'),\n",
    "#    'damage': Vis3DStateField(var='omega_a'),\n",
    "#     #        'kinematic hardening': Vis3DStateField(var='z_a')\n",
    "# }"
   ]
  },
  {
   "cell_type": "code",
   "execution_count": null,
   "metadata": {},
   "outputs": [],
   "source": [
    "ts.fe_domain[0].tmodel"
   ]
  },
  {
   "cell_type": "code",
   "execution_count": null,
   "metadata": {},
   "outputs": [],
   "source": [
    "domain0 = ts.fe_domain[0]"
   ]
  },
  {
   "cell_type": "markdown",
   "metadata": {},
   "source": [
    "\\begin{align}\n",
    "u_f &= T_{fb} U_b \\\\\n",
    "f_e &= k_{ef} u_f \\\\\n",
    "F_a &= T_{ea} f_e\n",
    "\\end{align}\n",
    "\\begin{align}\n",
    " F_a = K_{ab} U_b = T_{ea} k_{ef} T_{fb} U_b\n",
    "\\end{align}\n"
   ]
  },
  {
   "cell_type": "code",
   "execution_count": null,
   "metadata": {
    "scrolled": false
   },
   "outputs": [],
   "source": [
    "s = ts.sim\n",
    "s.tloop.k_max = 10\n",
    "s.tline.step = 1\n",
    "s.tloop.verbose = True\n",
    "s.run()"
   ]
  },
  {
   "cell_type": "code",
   "execution_count": null,
   "metadata": {
    "pycharm": {
     "name": "#%%\n"
    }
   },
   "outputs": [],
   "source": [
    "import numpy as np\n",
    "F_to = ts.hist.F_t\n",
    "U_to = ts.hist.U_t\n",
    "F_loaded = np.sum(F_to[:, loaded_dofs], axis=-1)\n",
    "F_fixed = np.sum(F_to[:, fixed_dofs], axis=-1)\n",
    "U_loaded = np.average(U_to[:, loaded_dofs], axis=-1)"
   ]
  },
  {
   "cell_type": "code",
   "execution_count": null,
   "metadata": {},
   "outputs": [],
   "source": [
    "F_loaded\n",
    "U_loaded"
   ]
  },
  {
   "cell_type": "code",
   "execution_count": null,
   "metadata": {
    "pycharm": {
     "name": "#%%\n"
    }
   },
   "outputs": [],
   "source": [
    "import matplotlib.pylab as plt\n",
    "plt.plot(U_loaded, F_loaded)"
   ]
  },
  {
   "cell_type": "code",
   "execution_count": null,
   "metadata": {
    "pycharm": {
     "name": "#%%\n"
    }
   },
   "outputs": [],
   "source": [
    "U_1 = ts.hist.U_t[-1]\n",
    "U_1.reshape(-1,3)"
   ]
  },
  {
   "cell_type": "code",
   "execution_count": null,
   "metadata": {
    "pycharm": {
     "name": "#%%\n"
    }
   },
   "outputs": [],
   "source": [
    "X1_Id = xdomain.mesh.X_Id + (U_1.reshape(-1,3) * 1)\n",
    "X1_Id"
   ]
  },
  {
   "cell_type": "code",
   "execution_count": null,
   "metadata": {
    "scrolled": false
   },
   "outputs": [],
   "source": [
    "import k3d\n",
    "k3d_plot = k3d.plot()\n",
    "wb_cell_mesh_surfaces = k3d.mesh(xdomain.X_Id.astype(np.float32),\n",
    "                                 xdomain.I_Ei.astype(np.uint32),\n",
    "                                 color=0x999999,\n",
    "                                 side='double')\n",
    "k3d_plot += wb_cell_mesh_surfaces\n",
    "wb_cell_mesh_surfaces1 = k3d.mesh(X1_Id.astype(np.float32),\n",
    "                                 xdomain.I_Ei.astype(np.uint32),\n",
    "                                 color=0x999922,\n",
    "                                 side='double')\n",
    "k3d_plot += wb_cell_mesh_surfaces1\n",
    "k3d_plot.display()"
   ]
  },
  {
   "cell_type": "code",
   "execution_count": null,
   "metadata": {},
   "outputs": [],
   "source": []
  },
  {
   "cell_type": "code",
   "execution_count": null,
   "metadata": {},
   "outputs": [],
   "source": []
  },
  {
   "cell_type": "code",
   "execution_count": null,
   "metadata": {},
   "outputs": [],
   "source": []
  },
  {
   "cell_type": "code",
   "execution_count": null,
   "metadata": {},
   "outputs": [],
   "source": []
  }
 ],
 "metadata": {
  "kernelspec": {
   "display_name": "bmcs_env",
   "language": "python",
   "name": "bmcs_env"
  },
  "language_info": {
   "codemirror_mode": {
    "name": "ipython",
    "version": 3
   },
   "file_extension": ".py",
   "mimetype": "text/x-python",
   "name": "python",
   "nbconvert_exporter": "python",
   "pygments_lexer": "ipython3",
   "version": "3.9.0"
  },
  "toc": {
   "base_numbering": 1,
   "nav_menu": {},
   "number_sections": true,
   "sideBar": true,
   "skip_h1_title": false,
   "title_cell": "Table of Contents",
   "title_sidebar": "Contents",
   "toc_cell": false,
   "toc_position": {},
   "toc_section_display": true,
   "toc_window_display": false
  }
 },
 "nbformat": 4,
 "nbformat_minor": 1
}
