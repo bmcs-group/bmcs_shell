{
 "cells": [
  {
   "cell_type": "markdown",
   "metadata": {},
   "source": [
    "# Kinematics of waterbomb folding and derived characteristics"
   ]
  },
  {
   "cell_type": "code",
   "execution_count": 1,
   "metadata": {
    "pycharm": {
     "name": "#%%\n"
    }
   },
   "outputs": [],
   "source": [
    "%matplotlib widget"
   ]
  },
  {
   "cell_type": "code",
   "execution_count": null,
   "metadata": {},
   "outputs": [],
   "source": []
  },
  {
   "cell_type": "code",
   "execution_count": 2,
   "metadata": {},
   "outputs": [],
   "source": [
    "from bmcs_shell.folding.wb_cell import WBElem"
   ]
  },
  {
   "cell_type": "code",
   "execution_count": 3,
   "metadata": {},
   "outputs": [],
   "source": [
    "data = dict(alpha=1, a=1, b=1, c=.3)"
   ]
  },
  {
   "cell_type": "code",
   "execution_count": 4,
   "metadata": {
    "scrolled": false
   },
   "outputs": [
    {
     "data": {
      "application/vnd.jupyter.widget-view+json": {
       "model_id": "ba920333bee148beb8c33965843f1e4a",
       "version_major": 2,
       "version_minor": 0
      },
      "text/plain": [
       "Plot(antialias=3, axes=['x', 'y', 'z'], axes_helper=1.0, background_color=16777215, camera=[2, -3, 0.2, 0.0, 0…"
      ]
     },
     "metadata": {},
     "output_type": "display_data"
    },
    {
     "data": {
      "application/vnd.jupyter.widget-view+json": {
       "model_id": "1a68d416ef1f46c48e4b9c9cee00ed9b",
       "version_major": 2,
       "version_minor": 0
      },
      "text/plain": [
       "VBox(children=(Output(outputs=({'output_type': 'display_data', 'data': {}, 'metadata': {}},)), Tab(children=(V…"
      ]
     },
     "metadata": {},
     "output_type": "display_data"
    }
   ],
   "source": [
    "wb = WBElem(**data)\n",
    "wb.interact()"
   ]
  },
  {
   "cell_type": "markdown",
   "metadata": {},
   "source": [
    "## Cell folding"
   ]
  },
  {
   "cell_type": "code",
   "execution_count": 5,
   "metadata": {},
   "outputs": [],
   "source": [
    "import sympy as sp\n",
    "sp.init_printing()\n",
    "import numpy as np"
   ]
  },
  {
   "cell_type": "code",
   "execution_count": 6,
   "metadata": {},
   "outputs": [
    {
     "data": {
      "image/png": "[encoded data removed]",
      "text/latex": [
       "$\\displaystyle \\left( a^{2} + u_{2}^{2} + u_{3}^{2}, \\  u_{2}^{2} + \\left(a - c \\cos{\\left(\\alpha \\right)}\\right)^{2} + \\left(- c \\sin{\\left(\\alpha \\right)} + u_{3}\\right)^{2}\\right)$"
      ],
      "text/plain": [
       "⎛ 2     2     2    2                 2                   2⎞\n",
       "⎝a  + u₂  + u₃ , u₂  + (a - c⋅cos(α))  + (-c⋅sin(α) + u₃) ⎠"
      ]
     },
     "execution_count": 6,
     "metadata": {},
     "output_type": "execute_result"
    }
   ],
   "source": [
    "a, b, c = sp.symbols('a, b, c', positive=True)\n",
    "u_2, u_3 = sp.symbols('u_2, u_3', positive=True)\n",
    "alpha = sp.symbols('alpha', positive=True)\n",
    "\n",
    "U0_a = sp.Matrix([a, b, 0])\n",
    "W0_a = sp.Matrix([c, 0, 0])\n",
    "UW0_a = W0_a - U0_a\n",
    "L2_U_0 = (U0_a.T * U0_a)[0]\n",
    "L2_UW_0 = (UW0_a.T * UW0_a)[0]\n",
    "\n",
    "U1_a = sp.Matrix([a, u_2, u_3])\n",
    "W1_a = sp.Matrix([c * sp.cos(alpha), 0, c * sp.sin(alpha)])\n",
    "UW1_a = U1_a - W1_a\n",
    "L2_U_1 = (U1_a.T * U1_a)[0]\n",
    "L2_UW_1 = (UW1_a.T * UW1_a)[0]\n",
    "L2_U_1, L2_UW_1"
   ]
  },
  {
   "cell_type": "code",
   "execution_count": 7,
   "metadata": {},
   "outputs": [
    {
     "data": {
      "image/png": "[encoded data removed]",
      "text/latex": [
       "$\\displaystyle \\left( \\frac{a \\left(1 - \\cos{\\left(\\alpha \\right)}\\right)}{\\sin{\\left(\\alpha \\right)}}, \\  \\sqrt{- \\frac{a^{2} \\left(1 - \\cos{\\left(\\alpha \\right)}\\right)^{2}}{\\sin^{2}{\\left(\\alpha \\right)}} + b^{2}}\\right)$"
      ],
      "text/plain": [
       "⎛                      _________________________⎞\n",
       "⎜                     ╱    2             2      ⎟\n",
       "⎜a⋅(1 - cos(α))      ╱    a ⋅(1 - cos(α))     2 ⎟\n",
       "⎜──────────────,    ╱   - ──────────────── + b  ⎟\n",
       "⎜    sin(α)        ╱             2              ⎟\n",
       "⎝                ╲╱           sin (α)           ⎠"
      ]
     },
     "execution_count": 7,
     "metadata": {},
     "output_type": "execute_result"
    }
   ],
   "source": [
    "u2_sol = sp.solve(L2_U_1 - L2_U_0, u_2)[0]\n",
    "u3_sol = sp.solve((L2_UW_1 - L2_UW_0).subs(u_2, u2_sol), u_3)[0]\n",
    "u_3_ = u3_sol\n",
    "u_2_ = u2_sol.subs(u_3, u3_sol)\n",
    "u_3_, u_2_"
   ]
  },
  {
   "cell_type": "code",
   "execution_count": 8,
   "metadata": {},
   "outputs": [],
   "source": [
    "U_pp_a = U1_a.subs({u_2: u_2_, u_3: u_3_})\n",
    "U_mm_a = sp.Matrix([-U_pp_a[0], -U_pp_a[1], U_pp_a[2]])\n",
    "U_mp_a = sp.Matrix([-U_pp_a[0], U_pp_a[1], U_pp_a[2]])\n",
    "U_pm_a = sp.Matrix([U_pp_a[0], -U_pp_a[1], U_pp_a[2]])\n",
    "W_p_a = W1_a.subs({u_2: u_2_, u_3: u_3_})\n",
    "W_m_a = sp.Matrix([-W_p_a[0], W_p_a[1], W_p_a[2]])"
   ]
  },
  {
   "cell_type": "code",
   "execution_count": 9,
   "metadata": {},
   "outputs": [
    {
     "data": {
      "image/png": "[encoded data removed]",
      "text/latex": [
       "$\\displaystyle \\left( \\left[\\begin{matrix}a\\\\\\sqrt{- \\frac{a^{2} \\left(1 - \\cos{\\left(\\alpha \\right)}\\right)^{2}}{\\sin^{2}{\\left(\\alpha \\right)}} + b^{2}}\\\\\\frac{a \\left(1 - \\cos{\\left(\\alpha \\right)}\\right)}{\\sin{\\left(\\alpha \\right)}}\\end{matrix}\\right], \\  \\left[\\begin{matrix}c \\cos{\\left(\\alpha \\right)}\\\\0\\\\c \\sin{\\left(\\alpha \\right)}\\end{matrix}\\right]\\right)$"
      ],
      "text/plain": [
       "⎛⎡               a               ⎤            ⎞\n",
       "⎜⎢                               ⎥            ⎟\n",
       "⎜⎢      _________________________⎥            ⎟\n",
       "⎜⎢     ╱    2             2      ⎥            ⎟\n",
       "⎜⎢    ╱    a ⋅(1 - cos(α))     2 ⎥  ⎡c⋅cos(α)⎤⎟\n",
       "⎜⎢   ╱   - ──────────────── + b  ⎥  ⎢        ⎥⎟\n",
       "⎜⎢  ╱             2              ⎥, ⎢   0    ⎥⎟\n",
       "⎜⎢╲╱           sin (α)           ⎥  ⎢        ⎥⎟\n",
       "⎜⎢                               ⎥  ⎣c⋅sin(α)⎦⎟\n",
       "⎜⎢        a⋅(1 - cos(α))         ⎥            ⎟\n",
       "⎜⎢        ──────────────         ⎥            ⎟\n",
       "⎝⎣            sin(α)             ⎦            ⎠"
      ]
     },
     "execution_count": 9,
     "metadata": {},
     "output_type": "execute_result"
    }
   ],
   "source": [
    "U_pp_a, W_p_a"
   ]
  },
  {
   "cell_type": "markdown",
   "metadata": {},
   "source": [
    "## Compatible rotation of a cell around $x$ axis"
   ]
  },
  {
   "cell_type": "code",
   "execution_count": 10,
   "metadata": {},
   "outputs": [],
   "source": [
    "V_UW = U_pp_a - W_p_a\n",
    "L_UW = sp.sqrt(V_UW[1] ** 2 + V_UW[2] ** 2)\n",
    "theta_sol = sp.simplify(2 * sp.asin( V_UW[2] / L_UW))"
   ]
  },
  {
   "cell_type": "code",
   "execution_count": 11,
   "metadata": {},
   "outputs": [
    {
     "data": {
      "image/png": "[encoded data removed]",
      "text/latex": [
       "$\\displaystyle - 2 \\operatorname{asin}{\\left(\\frac{\\frac{a}{\\tan{\\left(\\alpha \\right)}} - \\frac{a}{\\sin{\\left(\\alpha \\right)}} + c \\sin{\\left(\\alpha \\right)}}{\\sqrt{2 a c \\cos{\\left(\\alpha \\right)} - 2 a c + b^{2} + c^{2} \\sin^{2}{\\left(\\alpha \\right)}}} \\right)}$"
      ],
      "text/plain": [
       "       ⎛           a        a                      ⎞\n",
       "       ⎜         ────── - ────── + c⋅sin(α)        ⎟\n",
       "       ⎜         tan(α)   sin(α)                   ⎟\n",
       "-2⋅asin⎜───────────────────────────────────────────⎟\n",
       "       ⎜   ________________________________________⎟\n",
       "       ⎜  ╱                         2    2    2    ⎟\n",
       "       ⎝╲╱  2⋅a⋅c⋅cos(α) - 2⋅a⋅c + b  + c ⋅sin (α) ⎠"
      ]
     },
     "execution_count": 11,
     "metadata": {},
     "output_type": "execute_result"
    }
   ],
   "source": [
    "theta_sol"
   ]
  },
  {
   "cell_type": "markdown",
   "metadata": {
    "pycharm": {
     "name": "#%%\n"
    }
   },
   "source": [
    "## Rotation of a cell  of a shifted cell"
   ]
  },
  {
   "cell_type": "code",
   "execution_count": 12,
   "metadata": {},
   "outputs": [
    {
     "data": {
      "image/png": "[encoded data removed]",
      "text/latex": [
       "$\\displaystyle \\cos{\\left(\\frac{\\theta}{2} \\right)} + \\sin{\\left(\\frac{\\theta}{2} \\right)} i + 0 j + 0 k$"
      ],
      "text/plain": [
       "cos(theta/2) + sin(theta/2)*i + 0*j + 0*k"
      ]
     },
     "execution_count": 12,
     "metadata": {},
     "output_type": "execute_result"
    }
   ],
   "source": [
    "from sympy.algebras.quaternion import Quaternion\n",
    "theta = sp.Symbol(r'theta')\n",
    "q_theta = Quaternion.from_axis_angle([1, 0, 0], theta)\n",
    "q_theta"
   ]
  },
  {
   "cell_type": "code",
   "execution_count": 100,
   "metadata": {},
   "outputs": [],
   "source": [
    "d_1, d_2, d_3 = sp.symbols('d_1, d_2, d_3')\n",
    "D_a = sp.Matrix([d_1, d_2, d_3])"
   ]
  },
  {
   "cell_type": "code",
   "execution_count": 101,
   "metadata": {},
   "outputs": [],
   "source": [
    "UD_pp_a = U_pp_a + D_a\n",
    "WD_p_a = W_p_a + D_a"
   ]
  },
  {
   "cell_type": "code",
   "execution_count": 102,
   "metadata": {},
   "outputs": [
    {
     "data": {
      "image/png": "[encoded data removed]",
      "text/latex": [
       "$\\displaystyle \\left[\\begin{matrix}a + c \\cos{\\left(\\alpha \\right)} + d_{1}\\\\d_{2} + \\sqrt{- \\frac{a^{2} \\left(1 - \\cos{\\left(\\alpha \\right)}\\right)^{2}}{\\sin^{2}{\\left(\\alpha \\right)}} + b^{2}}\\\\\\frac{a \\left(1 - \\cos{\\left(\\alpha \\right)}\\right)}{\\sin{\\left(\\alpha \\right)}} - c \\sin{\\left(\\alpha \\right)} + d_{3}\\end{matrix}\\right]$"
      ],
      "text/plain": [
       "⎡         a + c⋅cos(α) + d₁          ⎤\n",
       "⎢                                    ⎥\n",
       "⎢           _________________________⎥\n",
       "⎢          ╱    2             2      ⎥\n",
       "⎢         ╱    a ⋅(1 - cos(α))     2 ⎥\n",
       "⎢d₂ +    ╱   - ──────────────── + b  ⎥\n",
       "⎢       ╱             2              ⎥\n",
       "⎢     ╲╱           sin (α)           ⎥\n",
       "⎢                                    ⎥\n",
       "⎢   a⋅(1 - cos(α))                   ⎥\n",
       "⎢   ────────────── - c⋅sin(α) + d₃   ⎥\n",
       "⎣       sin(α)                       ⎦"
      ]
     },
     "execution_count": 102,
     "metadata": {},
     "output_type": "execute_result"
    }
   ],
   "source": [
    "UD_pp_a - W_m_a"
   ]
  },
  {
   "cell_type": "code",
   "execution_count": 103,
   "metadata": {},
   "outputs": [
    {
     "data": {
      "image/png": "[encoded data removed]",
      "text/latex": [
       "$\\displaystyle \\left\\{ d_{1} : - a - c \\cos{\\left(\\alpha \\right)}, \\  d_{2} : - \\sqrt{- \\frac{a^{2} \\cos^{2}{\\left(\\alpha \\right)}}{\\sin^{2}{\\left(\\alpha \\right)}} + \\frac{2 a^{2} \\cos{\\left(\\alpha \\right)}}{\\sin^{2}{\\left(\\alpha \\right)}} - \\frac{a^{2}}{\\sin^{2}{\\left(\\alpha \\right)}} + b^{2}}, \\  d_{3} : \\frac{a \\cos{\\left(\\alpha \\right)}}{\\sin{\\left(\\alpha \\right)}} - \\frac{a}{\\sin{\\left(\\alpha \\right)}} + c \\sin{\\left(\\alpha \\right)}\\right\\}$"
      ],
      "text/plain": [
       "⎧                              ___________________________________________    \n",
       "⎪                             ╱    2    2         2              2            \n",
       "⎪                            ╱    a ⋅cos (α)   2⋅a ⋅cos(α)      a       2     \n",
       "⎨d₁: -a - c⋅cos(α), d₂: -   ╱   - ────────── + ─────────── - ─────── + b  , d₃\n",
       "⎪                          ╱          2             2           2             \n",
       "⎪                        ╲╱        sin (α)       sin (α)     sin (α)          \n",
       "⎩                                                                             \n",
       "\n",
       "                              ⎫\n",
       "                              ⎪\n",
       "  a⋅cos(α)     a              ⎪\n",
       ": ──────── - ────── + c⋅sin(α)⎬\n",
       "   sin(α)    sin(α)           ⎪\n",
       "                              ⎪\n",
       "                              ⎭"
      ]
     },
     "execution_count": 103,
     "metadata": {},
     "output_type": "execute_result"
    }
   ],
   "source": [
    "d_subs = sp.solve(UD_pp_a - W_m_a, [d_1, d_2, d_3])\n",
    "d_subs"
   ]
  },
  {
   "cell_type": "markdown",
   "metadata": {},
   "source": [
    "## Rotate by $\\theta$"
   ]
  },
  {
   "cell_type": "markdown",
   "metadata": {},
   "source": [
    "Define the center of rotation"
   ]
  },
  {
   "cell_type": "code",
   "execution_count": 104,
   "metadata": {},
   "outputs": [],
   "source": [
    "UD_pp_a_ = UD_pp_a.subs(d_subs)"
   ]
  },
  {
   "cell_type": "markdown",
   "metadata": {},
   "source": [
    "Rostated point"
   ]
  },
  {
   "cell_type": "code",
   "execution_count": 105,
   "metadata": {},
   "outputs": [],
   "source": [
    "WD_p_a_ = WD_p_a.subs(d_subs)"
   ]
  },
  {
   "cell_type": "markdown",
   "metadata": {},
   "source": [
    "Pull back the point so that the center of rotation is at origin"
   ]
  },
  {
   "cell_type": "code",
   "execution_count": 106,
   "metadata": {},
   "outputs": [
    {
     "data": {
      "image/png": "[encoded data removed]",
      "text/latex": [
       "$\\displaystyle \\left[\\begin{matrix}- a + c \\cos{\\left(\\alpha \\right)} & - \\sqrt{- \\frac{a^{2} \\left(1 - \\cos{\\left(\\alpha \\right)}\\right)^{2}}{\\sin^{2}{\\left(\\alpha \\right)}} + b^{2}} & - \\frac{a \\left(1 - \\cos{\\left(\\alpha \\right)}\\right)}{\\sin{\\left(\\alpha \\right)}} + c \\sin{\\left(\\alpha \\right)}\\end{matrix}\\right]$"
      ],
      "text/plain": [
       "⎡                      _________________________                             ⎤\n",
       "⎢                     ╱    2             2                                   ⎥\n",
       "⎢                    ╱    a ⋅(1 - cos(α))     2     a⋅(1 - cos(α))           ⎥\n",
       "⎢-a + c⋅cos(α)  -   ╱   - ──────────────── + b    - ────────────── + c⋅sin(α)⎥\n",
       "⎢                  ╱             2                      sin(α)               ⎥\n",
       "⎣                ╲╱           sin (α)                                        ⎦"
      ]
     },
     "execution_count": 106,
     "metadata": {},
     "output_type": "execute_result"
    }
   ],
   "source": [
    "WD_p_a_pb = WD_p_a_ - UD_pp_a_\n",
    "WD_p_a_pb.T"
   ]
  },
  {
   "cell_type": "markdown",
   "metadata": {},
   "source": [
    "Rotate the point around the quaternion"
   ]
  },
  {
   "cell_type": "code",
   "execution_count": 71,
   "metadata": {},
   "outputs": [],
   "source": [
    "WD_p_a_rot = q_theta.rotate_point(WD_p_a_pb.T, q_theta)"
   ]
  },
  {
   "cell_type": "markdown",
   "metadata": {},
   "source": [
    "Push forward to the center of rotation"
   ]
  },
  {
   "cell_type": "code",
   "execution_count": 72,
   "metadata": {},
   "outputs": [],
   "source": [
    "WD_p_a_pf = sp.Matrix(WD_p_a_rot) + UD_pp_a_\n",
    "WD_p_a_theta = WD_p_a_pf.subs(theta, -theta_sol)"
   ]
  },
  {
   "cell_type": "markdown",
   "metadata": {},
   "source": [
    "Rotate also the midpoint"
   ]
  },
  {
   "cell_type": "code",
   "execution_count": 73,
   "metadata": {},
   "outputs": [],
   "source": [
    "DD_a_pb = D_a.subs(d_subs) - UD_pp_a_\n",
    "DD_a_rot = q_theta.rotate_point(DD_a_pb.T, q_theta)\n",
    "DD_a_pf = sp.simplify(sp.Matrix(DD_a_rot) + UD_pp_a_)\n",
    "DD_a_theta = DD_a_pf.subs(theta, -theta_sol)"
   ]
  },
  {
   "cell_type": "code",
   "execution_count": 74,
   "metadata": {},
   "outputs": [
    {
     "data": {
      "image/png": "[encoded data removed]",
      "text/latex": [
       "$\\displaystyle \\left[\\begin{matrix}- a - c \\cos{\\left(\\alpha \\right)}\\\\- \\frac{a \\sin{\\left(2 \\operatorname{asin}{\\left(\\frac{\\frac{a}{\\tan{\\left(\\alpha \\right)}} - \\frac{a}{\\sin{\\left(\\alpha \\right)}} + c \\sin{\\left(\\alpha \\right)}}{\\sqrt{2 a c \\cos{\\left(\\alpha \\right)} - 2 a c + b^{2} + c^{2} \\sin^{2}{\\left(\\alpha \\right)}}} \\right)} \\right)}}{\\tan{\\left(\\alpha \\right)}} + \\frac{a \\sin{\\left(2 \\operatorname{asin}{\\left(\\frac{\\frac{a}{\\tan{\\left(\\alpha \\right)}} - \\frac{a}{\\sin{\\left(\\alpha \\right)}} + c \\sin{\\left(\\alpha \\right)}}{\\sqrt{2 a c \\cos{\\left(\\alpha \\right)} - 2 a c + b^{2} + c^{2} \\sin^{2}{\\left(\\alpha \\right)}}} \\right)} \\right)}}{\\sin{\\left(\\alpha \\right)}} - 2 \\left(- \\frac{\\left(\\frac{a}{\\tan{\\left(\\alpha \\right)}} - \\frac{a}{\\sin{\\left(\\alpha \\right)}} + c \\sin{\\left(\\alpha \\right)}\\right)^{2}}{2 a c \\cos{\\left(\\alpha \\right)} - 2 a c + b^{2} + c^{2} \\sin^{2}{\\left(\\alpha \\right)}} + 1\\right) \\sqrt{a^{2} + \\frac{2 a^{2} \\cos{\\left(\\alpha \\right)}}{\\sin^{2}{\\left(\\alpha \\right)}} - \\frac{2 a^{2}}{\\sin^{2}{\\left(\\alpha \\right)}} + b^{2}} + \\sqrt{a^{2} + \\frac{2 a^{2} \\cos{\\left(\\alpha \\right)}}{\\sin^{2}{\\left(\\alpha \\right)}} - \\frac{2 a^{2}}{\\sin^{2}{\\left(\\alpha \\right)}} + b^{2}}\\\\- \\frac{2 a \\left(\\frac{a}{\\tan{\\left(\\alpha \\right)}} - \\frac{a}{\\sin{\\left(\\alpha \\right)}} + c \\sin{\\left(\\alpha \\right)}\\right)^{2}}{\\left(2 a c \\cos{\\left(\\alpha \\right)} - 2 a c + b^{2} + c^{2} \\sin^{2}{\\left(\\alpha \\right)}\\right) \\tan{\\left(\\alpha \\right)}} + \\frac{2 a \\left(\\frac{a}{\\tan{\\left(\\alpha \\right)}} - \\frac{a}{\\sin{\\left(\\alpha \\right)}} + c \\sin{\\left(\\alpha \\right)}\\right)^{2}}{\\left(2 a c \\cos{\\left(\\alpha \\right)} - 2 a c + b^{2} + c^{2} \\sin^{2}{\\left(\\alpha \\right)}\\right) \\sin{\\left(\\alpha \\right)}} + \\frac{a}{\\tan{\\left(\\alpha \\right)}} - \\frac{a}{\\sin{\\left(\\alpha \\right)}} + c \\sin{\\left(\\alpha \\right)} - \\frac{2 \\sqrt{- \\frac{\\left(\\frac{a}{\\tan{\\left(\\alpha \\right)}} - \\frac{a}{\\sin{\\left(\\alpha \\right)}} + c \\sin{\\left(\\alpha \\right)}\\right)^{2}}{2 a c \\cos{\\left(\\alpha \\right)} - 2 a c + b^{2} + c^{2} \\sin^{2}{\\left(\\alpha \\right)}} + 1} \\left(\\frac{a}{\\tan{\\left(\\alpha \\right)}} - \\frac{a}{\\sin{\\left(\\alpha \\right)}} + c \\sin{\\left(\\alpha \\right)}\\right) \\sqrt{a^{2} + \\frac{2 a^{2} \\cos{\\left(\\alpha \\right)}}{\\sin^{2}{\\left(\\alpha \\right)}} - \\frac{2 a^{2}}{\\sin^{2}{\\left(\\alpha \\right)}} + b^{2}}}{\\sqrt{2 a c \\cos{\\left(\\alpha \\right)} - 2 a c + b^{2} + c^{2} \\sin^{2}{\\left(\\alpha \\right)}}}\\end{matrix}\\right]$"
      ],
      "text/plain": [
       "⎡                                                                             \n",
       "⎢                                                                             \n",
       "⎢        ⎛      ⎛           a        a                      ⎞⎞        ⎛      ⎛\n",
       "⎢        ⎜      ⎜         ────── - ────── + c⋅sin(α)        ⎟⎟        ⎜      ⎜\n",
       "⎢        ⎜      ⎜         tan(α)   sin(α)                   ⎟⎟        ⎜      ⎜\n",
       "⎢   a⋅sin⎜2⋅asin⎜───────────────────────────────────────────⎟⎟   a⋅sin⎜2⋅asin⎜\n",
       "⎢        ⎜      ⎜   ________________________________________⎟⎟        ⎜      ⎜\n",
       "⎢        ⎜      ⎜  ╱                         2    2    2    ⎟⎟        ⎜      ⎜\n",
       "⎢        ⎝      ⎝╲╱  2⋅a⋅c⋅cos(α) - 2⋅a⋅c + b  + c ⋅sin (α) ⎠⎠        ⎝      ⎝\n",
       "⎢ - ────────────────────────────────────────────────────────── + ─────────────\n",
       "⎢                             tan(α)                                          \n",
       "⎢                                                                             \n",
       "⎢                                                                             \n",
       "⎢                                                                             \n",
       "⎢                                                                             \n",
       "⎢                                                                             \n",
       "⎢                                                                             \n",
       "⎢                                         2                                   \n",
       "⎢             ⎛  a        a              ⎞                      ⎛  a        a \n",
       "⎢         2⋅a⋅⎜────── - ────── + c⋅sin(α)⎟                  2⋅a⋅⎜────── - ────\n",
       "⎢             ⎝tan(α)   sin(α)           ⎠                      ⎝tan(α)   sin(\n",
       "⎢- ─────────────────────────────────────────────── + ─────────────────────────\n",
       "⎢  ⎛                        2    2    2   ⎞          ⎛                        \n",
       "⎢  ⎝2⋅a⋅c⋅cos(α) - 2⋅a⋅c + b  + c ⋅sin (α)⎠⋅tan(α)   ⎝2⋅a⋅c⋅cos(α) - 2⋅a⋅c + b\n",
       "⎣                                                                             \n",
       "\n",
       "                                            -a - c⋅cos(α)                     \n",
       "                                                                              \n",
       "           a        a                      ⎞⎞                                 \n",
       "         ────── - ────── + c⋅sin(α)        ⎟⎟                                 \n",
       "         tan(α)   sin(α)                   ⎟⎟                                 \n",
       "───────────────────────────────────────────⎟⎟     ⎛                           \n",
       "   ________________________________________⎟⎟     ⎜      ⎛  a        a        \n",
       "  ╱                         2    2    2    ⎟⎟     ⎜      ⎜────── - ────── + c⋅\n",
       "╲╱  2⋅a⋅c⋅cos(α) - 2⋅a⋅c + b  + c ⋅sin (α) ⎠⎠     ⎜      ⎝tan(α)   sin(α)     \n",
       "───────────────────────────────────────────── - 2⋅⎜- ─────────────────────────\n",
       "             sin(α)                               ⎜                          2\n",
       "                                                  ⎝  2⋅a⋅c⋅cos(α) - 2⋅a⋅c + b \n",
       "                                                                              \n",
       "                                                                ______________\n",
       "                                                               ╱              \n",
       "                                                              ╱        ⎛  a   \n",
       "                                                             ╱         ⎜──────\n",
       "              2                                             ╱          ⎝tan(α)\n",
       "             ⎞                                        2⋅   ╱     - ───────────\n",
       "── + c⋅sin(α)⎟                                            ╱                   \n",
       "α)           ⎠             a        a                   ╲╱         2⋅a⋅c⋅cos(α\n",
       "────────────────────── + ────── - ────── + c⋅sin(α) - ────────────────────────\n",
       "2    2    2   ⎞          tan(α)   sin(α)                                      \n",
       "  + c ⋅sin (α)⎠⋅sin(α)                                                        \n",
       "                                                                              \n",
       "\n",
       "                                                                              \n",
       "                                                                              \n",
       "                                                                              \n",
       "                                                                              \n",
       "                                                                              \n",
       "       2         ⎞                                                            \n",
       "      ⎞          ⎟       _________________________________         ___________\n",
       "sin(α)⎟          ⎟      ╱         2               2               ╱         2 \n",
       "      ⎠          ⎟     ╱   2   2⋅a ⋅cos(α)     2⋅a      2        ╱   2   2⋅a ⋅\n",
       "───────────── + 1⎟⋅   ╱   a  + ─────────── - ─────── + b   +    ╱   a  + ─────\n",
       "    2    2       ⎟   ╱              2           2              ╱              \n",
       " + c ⋅sin (α)    ⎠ ╲╱            sin (α)     sin (α)         ╲╱            sin\n",
       "                                                                              \n",
       "________________________________                                              \n",
       "                     2                                                        \n",
       "     a              ⎞                                               __________\n",
       " - ────── + c⋅sin(α)⎟                                              ╱         2\n",
       "   sin(α)           ⎠            ⎛  a        a              ⎞     ╱   2   2⋅a \n",
       "─────────────────────────── + 1 ⋅⎜────── - ────── + c⋅sin(α)⎟⋅   ╱   a  + ────\n",
       "             2    2    2         ⎝tan(α)   sin(α)           ⎠   ╱             \n",
       ") - 2⋅a⋅c + b  + c ⋅sin (α)                                   ╲╱            si\n",
       "──────────────────────────────────────────────────────────────────────────────\n",
       "                    ________________________________________                  \n",
       "                   ╱                         2    2    2                      \n",
       "                 ╲╱  2⋅a⋅c⋅cos(α) - 2⋅a⋅c + b  + c ⋅sin (α)                   \n",
       "\n",
       "                       ⎤\n",
       "                       ⎥\n",
       "                       ⎥\n",
       "                       ⎥\n",
       "                       ⎥\n",
       "                       ⎥\n",
       "______________________ ⎥\n",
       "              2        ⎥\n",
       "cos(α)     2⋅a      2  ⎥\n",
       "────── - ─────── + b   ⎥\n",
       "2           2          ⎥\n",
       " (α)     sin (α)       ⎥\n",
       "                       ⎥\n",
       "                       ⎥\n",
       "                       ⎥\n",
       "_______________________⎥\n",
       "               2       ⎥\n",
       "⋅cos(α)     2⋅a      2 ⎥\n",
       "─────── - ─────── + b  ⎥\n",
       " 2           2         ⎥\n",
       "n (α)     sin (α)      ⎥\n",
       "───────────────────────⎥\n",
       "                       ⎥\n",
       "                       ⎥\n",
       "                       ⎦"
      ]
     },
     "execution_count": 74,
     "metadata": {},
     "output_type": "execute_result"
    }
   ],
   "source": [
    "DD_a_theta"
   ]
  },
  {
   "cell_type": "code",
   "execution_count": 75,
   "metadata": {},
   "outputs": [],
   "source": [
    "get_U_mm_a = sp.lambdify((alpha, a, b, c), U_mm_a )\n",
    "get_WD_p_a_theta = sp.lambdify((alpha, a, b, c), WD_p_a_theta)"
   ]
  },
  {
   "cell_type": "code",
   "execution_count": 76,
   "metadata": {},
   "outputs": [
    {
     "data": {
      "text/plain": [
       "array([[-3.        ],\n",
       "       [-9.9954688 ],\n",
       "       [ 0.30100402]])"
      ]
     },
     "execution_count": 76,
     "metadata": {},
     "output_type": "execute_result"
    }
   ],
   "source": [
    "get_U_mm_a(0.2, 3, 10, 1)"
   ]
  },
  {
   "cell_type": "code",
   "execution_count": 77,
   "metadata": {},
   "outputs": [
    {
     "data": {
      "text/plain": [
       "array([[-3.        ],\n",
       "       [-9.9954688 ],\n",
       "       [ 0.30100402]])"
      ]
     },
     "execution_count": 77,
     "metadata": {},
     "output_type": "execute_result"
    }
   ],
   "source": [
    "get_WD_p_a_theta(0.2, 3, 10, 1)"
   ]
  },
  {
   "cell_type": "code",
   "execution_count": 78,
   "metadata": {},
   "outputs": [
    {
     "data": {
      "image/png": "[encoded data removed]",
      "text/latex": [
       "$\\displaystyle 0$"
      ],
      "text/plain": [
       "0"
      ]
     },
     "execution_count": 78,
     "metadata": {},
     "output_type": "execute_result"
    }
   ],
   "source": [
    "sp.simplify((WD_p_a_theta - U_mm_a)[0])"
   ]
  },
  {
   "cell_type": "markdown",
   "metadata": {},
   "source": [
    "## Cross sectional height"
   ]
  },
  {
   "cell_type": "code",
   "execution_count": 31,
   "metadata": {},
   "outputs": [
    {
     "data": {
      "image/png": "[encoded data removed]",
      "text/latex": [
       "$\\displaystyle c \\sin{\\left(\\alpha \\right)}$"
      ],
      "text/plain": [
       "c⋅sin(α)"
      ]
     },
     "execution_count": 31,
     "metadata": {},
     "output_type": "execute_result"
    }
   ],
   "source": [
    "H = W_p_a[2]\n",
    "H"
   ]
  },
  {
   "cell_type": "code",
   "execution_count": 32,
   "metadata": {},
   "outputs": [],
   "source": [
    "V_WD = (WD_p_a_theta - DD_a_theta)\n",
    "Vzy_WD = sp.Matrix([V_WD[1], V_WD[2]])"
   ]
  },
  {
   "cell_type": "code",
   "execution_count": 33,
   "metadata": {},
   "outputs": [],
   "source": [
    "L_WD = Vzy_WD.T * Vzy_WD"
   ]
  },
  {
   "cell_type": "code",
   "execution_count": 34,
   "metadata": {},
   "outputs": [],
   "source": [
    "get_L_WD = sp.lambdify((alpha, a, b, c), L_WD, 'numpy')"
   ]
  },
  {
   "cell_type": "code",
   "execution_count": 35,
   "metadata": {},
   "outputs": [
    {
     "data": {
      "text/plain": [
       "array([[5.]])"
      ]
     },
     "execution_count": 35,
     "metadata": {},
     "output_type": "execute_result"
    }
   ],
   "source": [
    "np.sqrt(get_L_WD(np.pi/2,2,3,5))"
   ]
  },
  {
   "cell_type": "markdown",
   "metadata": {},
   "source": [
    "## Symmetry axis of the cylinder"
   ]
  },
  {
   "cell_type": "code",
   "execution_count": 39,
   "metadata": {},
   "outputs": [],
   "source": [
    "D0_a = sp.Matrix([0,0,0])"
   ]
  },
  {
   "cell_type": "code",
   "execution_count": 40,
   "metadata": {},
   "outputs": [
    {
     "data": {
      "image/png": "[encoded data removed]",
      "text/latex": [
       "$\\displaystyle c \\sin{\\left(\\alpha \\right)}$"
      ],
      "text/plain": [
       "c⋅sin(α)"
      ]
     },
     "execution_count": 40,
     "metadata": {},
     "output_type": "execute_result"
    }
   ],
   "source": [
    "W_m_a[2]"
   ]
  },
  {
   "cell_type": "code",
   "execution_count": 41,
   "metadata": {},
   "outputs": [
    {
     "data": {
      "image/png": "[encoded data removed]",
      "text/latex": [
       "$\\displaystyle \\frac{a \\left(1 - \\cos{\\left(\\alpha \\right)}\\right)}{\\sin{\\left(\\alpha \\right)}}$"
      ],
      "text/plain": [
       "a⋅(1 - cos(α))\n",
       "──────────────\n",
       "    sin(α)    "
      ]
     },
     "execution_count": 41,
     "metadata": {},
     "output_type": "execute_result"
    }
   ],
   "source": [
    "U_mm_a[2]"
   ]
  },
  {
   "cell_type": "code",
   "execution_count": 42,
   "metadata": {},
   "outputs": [
    {
     "data": {
      "image/png": "[encoded data removed]",
      "text/latex": [
       "$\\displaystyle - \\frac{2 a \\left(\\frac{a}{\\tan{\\left(\\alpha \\right)}} - \\frac{a}{\\sin{\\left(\\alpha \\right)}} + c \\sin{\\left(\\alpha \\right)}\\right)^{2}}{\\left(2 a c \\cos{\\left(\\alpha \\right)} - 2 a c + b^{2} + c^{2} \\sin^{2}{\\left(\\alpha \\right)}\\right) \\tan{\\left(\\alpha \\right)}} + \\frac{2 a \\left(\\frac{a}{\\tan{\\left(\\alpha \\right)}} - \\frac{a}{\\sin{\\left(\\alpha \\right)}} + c \\sin{\\left(\\alpha \\right)}\\right)^{2}}{\\left(2 a c \\cos{\\left(\\alpha \\right)} - 2 a c + b^{2} + c^{2} \\sin^{2}{\\left(\\alpha \\right)}\\right) \\sin{\\left(\\alpha \\right)}} + \\frac{a}{\\tan{\\left(\\alpha \\right)}} - \\frac{a}{\\sin{\\left(\\alpha \\right)}} + c \\sin{\\left(\\alpha \\right)} - \\frac{2 \\sqrt{- \\frac{\\left(\\frac{a}{\\tan{\\left(\\alpha \\right)}} - \\frac{a}{\\sin{\\left(\\alpha \\right)}} + c \\sin{\\left(\\alpha \\right)}\\right)^{2}}{2 a c \\cos{\\left(\\alpha \\right)} - 2 a c + b^{2} + c^{2} \\sin^{2}{\\left(\\alpha \\right)}} + 1} \\left(\\frac{a}{\\tan{\\left(\\alpha \\right)}} - \\frac{a}{\\sin{\\left(\\alpha \\right)}} + c \\sin{\\left(\\alpha \\right)}\\right) \\sqrt{a^{2} + \\frac{2 a^{2} \\cos{\\left(\\alpha \\right)}}{\\sin^{2}{\\left(\\alpha \\right)}} - \\frac{2 a^{2}}{\\sin^{2}{\\left(\\alpha \\right)}} + b^{2}}}{\\sqrt{2 a c \\cos{\\left(\\alpha \\right)} - 2 a c + b^{2} + c^{2} \\sin^{2}{\\left(\\alpha \\right)}}}$"
      ],
      "text/plain": [
       "                                                                              \n",
       "                                                                              \n",
       "                                                                              \n",
       "                                                                              \n",
       "                                         2                                    \n",
       "             ⎛  a        a              ⎞                      ⎛  a        a  \n",
       "         2⋅a⋅⎜────── - ────── + c⋅sin(α)⎟                  2⋅a⋅⎜────── - ─────\n",
       "             ⎝tan(α)   sin(α)           ⎠                      ⎝tan(α)   sin(α\n",
       "- ─────────────────────────────────────────────── + ──────────────────────────\n",
       "  ⎛                        2    2    2   ⎞          ⎛                        2\n",
       "  ⎝2⋅a⋅c⋅cos(α) - 2⋅a⋅c + b  + c ⋅sin (α)⎠⋅tan(α)   ⎝2⋅a⋅c⋅cos(α) - 2⋅a⋅c + b \n",
       "                                                                              \n",
       "\n",
       "                                                               _______________\n",
       "                                                              ╱               \n",
       "                                                             ╱        ⎛  a    \n",
       "                                                            ╱         ⎜────── \n",
       "             2                                             ╱          ⎝tan(α) \n",
       "            ⎞                                        2⋅   ╱     - ────────────\n",
       "─ + c⋅sin(α)⎟                                            ╱                    \n",
       ")           ⎠             a        a                   ╲╱         2⋅a⋅c⋅cos(α)\n",
       "───────────────────── + ────── - ────── + c⋅sin(α) - ─────────────────────────\n",
       "    2    2   ⎞          tan(α)   sin(α)                                       \n",
       " + c ⋅sin (α)⎠⋅sin(α)                                                         \n",
       "                                                                              \n",
       "\n",
       "_______________________________                                               \n",
       "                    2                                                         \n",
       "    a              ⎞                                               ___________\n",
       "- ────── + c⋅sin(α)⎟                                              ╱         2 \n",
       "  sin(α)           ⎠            ⎛  a        a              ⎞     ╱   2   2⋅a ⋅\n",
       "────────────────────────── + 1 ⋅⎜────── - ────── + c⋅sin(α)⎟⋅   ╱   a  + ─────\n",
       "            2    2    2         ⎝tan(α)   sin(α)           ⎠   ╱              \n",
       " - 2⋅a⋅c + b  + c ⋅sin (α)                                   ╲╱            sin\n",
       "──────────────────────────────────────────────────────────────────────────────\n",
       "                   ________________________________________                   \n",
       "                  ╱                         2    2    2                       \n",
       "                ╲╱  2⋅a⋅c⋅cos(α) - 2⋅a⋅c + b  + c ⋅sin (α)                    \n",
       "\n",
       "                      \n",
       "                      \n",
       "______________________\n",
       "              2       \n",
       "cos(α)     2⋅a      2 \n",
       "────── - ─────── + b  \n",
       "2           2         \n",
       " (α)     sin (α)      \n",
       "──────────────────────\n",
       "                      \n",
       "                      \n",
       "                      "
      ]
     },
     "execution_count": 42,
     "metadata": {},
     "output_type": "execute_result"
    }
   ],
   "source": [
    "DD_a_theta[2]"
   ]
  },
  {
   "cell_type": "markdown",
   "metadata": {},
   "source": [
    "Find the point at which the line connection between\n",
    "\\begin{align}\n",
    " U_{mm} + \\rho (U_{mm} - D)\n",
    "\\end{align}\n",
    "intersects the vertical axis"
   ]
  },
  {
   "cell_type": "code",
   "execution_count": 43,
   "metadata": {},
   "outputs": [],
   "source": [
    "rho = (U_mm_a[2] - DD_a_theta[2]) / (U_mm_a[1] - DD_a_theta[1]) * U_mm_a[1]\n",
    "R_0 = U_mm_a[2] - rho"
   ]
  },
  {
   "cell_type": "code",
   "execution_count": 44,
   "metadata": {},
   "outputs": [],
   "source": [
    "get_U_mm_a = sp.lambdify((alpha, a, b, c), U_mm_a, 'numpy')\n",
    "get_DD_a_theta = sp.lambdify((alpha, a, b, c), DD_a_theta, 'numpy')\n",
    "get_rho = sp.lambdify((alpha, a, b, c), rho, 'numpy')\n",
    "get_R_0 = sp.lambdify((alpha, a, b, c), R_0, 'numpy')"
   ]
  },
  {
   "cell_type": "code",
   "execution_count": 45,
   "metadata": {},
   "outputs": [
    {
     "data": {
      "text/plain": [
       "array([[-1.        ],\n",
       "       [-0.83758796],\n",
       "       [ 0.54630249]])"
      ]
     },
     "execution_count": 45,
     "metadata": {},
     "output_type": "execute_result"
    }
   ],
   "source": [
    "data = dict(alpha=1, a=1, b=1, c=1)\n",
    "get_U_mm_a(**data)"
   ]
  },
  {
   "cell_type": "code",
   "execution_count": 46,
   "metadata": {},
   "outputs": [
    {
     "data": {
      "text/plain": [
       "array([[-1.54030231],\n",
       "       [-0.31003043],\n",
       "       [-0.10925565]])"
      ]
     },
     "execution_count": 46,
     "metadata": {},
     "output_type": "execute_result"
    }
   ],
   "source": [
    "get_DD_a_theta(**data)"
   ]
  },
  {
   "cell_type": "code",
   "execution_count": 47,
   "metadata": {},
   "outputs": [
    {
     "data": {
      "image/png": "[encoded data removed]",
      "text/latex": [
       "$\\displaystyle 1.0408108582960682$"
      ],
      "text/plain": [
       "1.0408108582960682"
      ]
     },
     "execution_count": 47,
     "metadata": {},
     "output_type": "execute_result"
    }
   ],
   "source": [
    "get_rho(**data)"
   ]
  },
  {
   "cell_type": "code",
   "execution_count": 48,
   "metadata": {},
   "outputs": [
    {
     "data": {
      "image/png": "[encoded data removed]",
      "text/latex": [
       "$\\displaystyle -0.49450836845227775$"
      ],
      "text/plain": [
       "-0.49450836845227775"
      ]
     },
     "execution_count": 48,
     "metadata": {},
     "output_type": "execute_result"
    }
   ],
   "source": [
    "get_R_0(**data)"
   ]
  },
  {
   "cell_type": "code",
   "execution_count": 49,
   "metadata": {},
   "outputs": [],
   "source": [
    "phi_0 = sp.asin( DD_a_theta[1] / R_0 )"
   ]
  },
  {
   "cell_type": "code",
   "execution_count": 50,
   "metadata": {},
   "outputs": [],
   "source": [
    "get_phi_0 = sp.lambdify((alpha, a, b, c), phi_0, 'numpy')"
   ]
  },
  {
   "cell_type": "code",
   "execution_count": 51,
   "metadata": {},
   "outputs": [
    {
     "data": {
      "image/png": "[encoded data removed]",
      "text/latex": [
       "$\\displaystyle 0.6776279099932295$"
      ],
      "text/plain": [
       "0.6776279099932295"
      ]
     },
     "execution_count": 51,
     "metadata": {},
     "output_type": "execute_result"
    }
   ],
   "source": [
    "get_phi_0(**data)"
   ]
  }
 ],
 "metadata": {
  "kernelspec": {
   "display_name": "bmcs_env",
   "language": "python",
   "name": "bmcs_env"
  },
  "language_info": {
   "codemirror_mode": {
    "name": "ipython",
    "version": 3
   },
   "file_extension": ".py",
   "mimetype": "text/x-python",
   "name": "python",
   "nbconvert_exporter": "python",
   "pygments_lexer": "ipython3",
   "version": "3.9.1"
  },
  "toc": {
   "base_numbering": 1,
   "nav_menu": {},
   "number_sections": true,
   "sideBar": true,
   "skip_h1_title": false,
   "title_cell": "Table of Contents",
   "title_sidebar": "Contents",
   "toc_cell": false,
   "toc_position": {},
   "toc_section_display": true,
   "toc_window_display": false
  }
 },
 "nbformat": 4,
 "nbformat_minor": 1
}
