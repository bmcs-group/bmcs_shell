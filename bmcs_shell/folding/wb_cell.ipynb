{
 "cells": [
  {
   "cell_type": "markdown",
   "metadata": {},
   "source": [
    "# Kinematics of waterbomb folding and derived characteristics"
   ]
  },
  {
   "cell_type": "code",
   "execution_count": 1,
   "metadata": {
    "pycharm": {
     "name": "#%%\n"
    }
   },
   "outputs": [],
   "source": [
    "%matplotlib widget"
   ]
  },
  {
   "cell_type": "code",
   "execution_count": 2,
   "metadata": {},
   "outputs": [],
   "source": [
    "from bmcs_shell.folding.wb_cell_5p import WBElem5Param, WBElemSymb5ParamXL"
   ]
  },
  {
   "cell_type": "code",
   "execution_count": 3,
   "metadata": {},
   "outputs": [],
   "source": [
    "import numpy as np"
   ]
  },
  {
   "cell_type": "code",
   "execution_count": 4,
   "metadata": {},
   "outputs": [],
   "source": [
    "data = dict(gamma=0.7, x_ur=1000, a=1000, b=1800, c=1000, show_wireframe=True)"
   ]
  },
  {
   "cell_type": "code",
   "execution_count": 5,
   "metadata": {},
   "outputs": [],
   "source": [
    "wb = WBElem5Param(**data)"
   ]
  },
  {
   "cell_type": "code",
   "execution_count": 6,
   "metadata": {
    "scrolled": false
   },
   "outputs": [
    {
     "data": {
      "application/vnd.jupyter.widget-view+json": {
       "model_id": "e2f18bbdf7ea4ef3bf65d0058e0ae41d",
       "version_major": 2,
       "version_minor": 0
      },
      "text/plain": [
       "VBox(children=(HBox(children=(VBox(children=(Tree(layout=Layout(align_items='stretch', border='solid 1px black…"
      ]
     },
     "metadata": {},
     "output_type": "display_data"
    }
   ],
   "source": [
    "wb.interact()"
   ]
  },
  {
   "cell_type": "markdown",
   "metadata": {},
   "source": [
    "## Waterbomb - 5 param folding"
   ]
  },
  {
   "cell_type": "code",
   "execution_count": 10,
   "metadata": {},
   "outputs": [],
   "source": [
    "import sympy as sp\n",
    "sp.init_printing()\n",
    "import numpy as np"
   ]
  },
  {
   "cell_type": "markdown",
   "metadata": {},
   "source": [
    "## Upper right corner node"
   ]
  },
  {
   "cell_type": "markdown",
   "metadata": {},
   "source": [
    "Control parameters $a, b, c$ and angle $\\alpha$"
   ]
  },
  {
   "cell_type": "code",
   "execution_count": 11,
   "metadata": {},
   "outputs": [],
   "source": [
    "a, b, c = sp.symbols('a, b, c', positive=True)\n",
    "alpha = sp.symbols('alpha', positive=True)"
   ]
  },
  {
   "cell_type": "markdown",
   "metadata": {},
   "source": [
    "Position variables to be determined for the above control parameters"
   ]
  },
  {
   "cell_type": "code",
   "execution_count": 12,
   "metadata": {},
   "outputs": [],
   "source": [
    "x_ur, y_ur, z_ur = sp.symbols(r'x^{\\urcorner}, y^{\\urcorner}, z^{\\urcorner}', positive=True)"
   ]
  },
  {
   "cell_type": "markdown",
   "metadata": {},
   "source": [
    "Node $V^\\dashv$ rotates in the $xz$ plane. The control angle $\\alpha = \\pi/2$ for a flat state, i.e. $z^\\dashv(\\alpha=\\pi/2) = 0$\n",
    "\\begin{align}\n",
    " V^\\dashv = [c \\sin(\\alpha), 0, c \\cos(\\alpha)]\n",
    "\\end{align}"
   ]
  },
  {
   "cell_type": "code",
   "execution_count": 69,
   "metadata": {},
   "outputs": [
    {
     "data": {
      "image/png": "[encoded data removed]",
      "text/latex": [
       "$\\displaystyle \\left[\\begin{matrix}c \\cos{\\left(\\alpha \\right)}\\\\0\\\\c \\sin{\\left(\\alpha \\right)}\\end{matrix}\\right]$"
      ],
      "text/plain": [
       "⎡c⋅cos(α)⎤\n",
       "⎢        ⎥\n",
       "⎢   0    ⎥\n",
       "⎢        ⎥\n",
       "⎣c⋅sin(α)⎦"
      ]
     },
     "execution_count": 69,
     "metadata": {},
     "output_type": "execute_result"
    }
   ],
   "source": [
    "V_r_1 = sp.Matrix([c * sp.cos(alpha), 0, c * sp.sin(alpha)])\n",
    "V_r_1"
   ]
  },
  {
   "cell_type": "markdown",
   "metadata": {},
   "source": [
    "Positions of $U^\\urcorner_0$ and $V^\\dashv_0$ "
   ]
  },
  {
   "cell_type": "code",
   "execution_count": 70,
   "metadata": {},
   "outputs": [],
   "source": [
    "U_ur_0 = sp.Matrix([a, b, 0])\n",
    "V_r_0 = sp.Matrix([c, 0, 0])"
   ]
  },
  {
   "cell_type": "markdown",
   "metadata": {},
   "source": [
    "Express the lengths $|OU^{\\urcorner}|$ and $|U^{\\urcorner}V^\\dashv|$ in initial state"
   ]
  },
  {
   "cell_type": "code",
   "execution_count": 71,
   "metadata": {},
   "outputs": [],
   "source": [
    "UV_r_0 = V_r_0 - U_ur_0\n",
    "L2_U_ur_0 = (U_ur_0.T * U_ur_0)[0]\n",
    "L2_UV_r_0 = (UV_r_0.T * UV_r_0)[0]"
   ]
  },
  {
   "cell_type": "markdown",
   "metadata": {},
   "source": [
    "And in a general state of folding"
   ]
  },
  {
   "cell_type": "code",
   "execution_count": 72,
   "metadata": {},
   "outputs": [],
   "source": [
    "U_ur_1 = sp.Matrix([x_ur, y_ur, z_ur])\n",
    "UV_r_1 = U_ur_1 - V_r_1\n",
    "L2_U_ur_1 = (U_ur_1.T * U_ur_1)[0]\n",
    "L2_UV_r_1 = (UV_r_1.T * UV_r_1)[0]"
   ]
  },
  {
   "cell_type": "markdown",
   "metadata": {},
   "source": [
    "Use the two quadratic equations to find $y^{\\urcorner}$ and $z^\\urcorner$ "
   ]
  },
  {
   "cell_type": "code",
   "execution_count": 73,
   "metadata": {},
   "outputs": [],
   "source": [
    "Eq_L2_U_ur = sp.simplify(sp.Eq(L2_U_ur_1-L2_U_ur_0,0))\n",
    "y_ur_sol = sp.solve(Eq_L2_U_ur, y_ur)[0]\n",
    "Eq_L2_UV_r = sp.simplify(sp.Eq(L2_UV_r_1-L2_UV_r_0,0))\n",
    "Eq_L2_UV_r_z_ur = Eq_L2_UV_r.subs(y_ur, y_ur_sol)\n",
    "z_ur_sol = sp.solve(Eq_L2_UV_r_z_ur, z_ur)[0]\n",
    "U_ur = sp.Matrix([x_ur, y_ur_sol.subs(z_ur, z_ur_sol), z_ur_sol])"
   ]
  },
  {
   "cell_type": "markdown",
   "metadata": {},
   "source": [
    "The resulting position of $U^\\urcorner$ reads"
   ]
  },
  {
   "cell_type": "code",
   "execution_count": 74,
   "metadata": {},
   "outputs": [
    {
     "data": {
      "image/png": "[encoded data removed]",
      "text/latex": [
       "$\\displaystyle \\left[\\begin{matrix}a\\\\\\sqrt{b^{2} - \\frac{\\left(- a \\cos{\\left(\\alpha \\right)} + a\\right)^{2}}{\\sin^{2}{\\left(\\alpha \\right)}}}\\\\\\frac{- a \\cos{\\left(\\alpha \\right)} + a}{\\sin{\\left(\\alpha \\right)}}\\end{matrix}\\right]$"
      ],
      "text/plain": [
       "⎡              a              ⎤\n",
       "⎢                             ⎥\n",
       "⎢      _______________________⎥\n",
       "⎢     ╱                     2 ⎥\n",
       "⎢    ╱   2   (-a⋅cos(α) + a)  ⎥\n",
       "⎢   ╱   b  - ──────────────── ⎥\n",
       "⎢  ╱                2         ⎥\n",
       "⎢╲╱              sin (α)      ⎥\n",
       "⎢                             ⎥\n",
       "⎢        -a⋅cos(α) + a        ⎥\n",
       "⎢        ─────────────        ⎥\n",
       "⎣            sin(α)           ⎦"
      ]
     },
     "execution_count": 74,
     "metadata": {},
     "output_type": "execute_result"
    }
   ],
   "source": [
    "U_ur.subs(x_ur,a)"
   ]
  },
  {
   "cell_type": "markdown",
   "metadata": {},
   "source": [
    "Check the obtained coordinates for $\\lim_{\\alpha \\rightarrow 0} U^\\urcorner$ for $x^\\urcorner = a$"
   ]
  },
  {
   "cell_type": "code",
   "execution_count": 75,
   "metadata": {},
   "outputs": [
    {
     "data": {
      "image/png": "[encoded data removed]",
      "text/latex": [
       "$\\displaystyle \\left[ a, \\  b, \\  0\\right]$"
      ],
      "text/plain": [
       "[a, b, 0]"
      ]
     },
     "execution_count": 75,
     "metadata": {},
     "output_type": "execute_result"
    }
   ],
   "source": [
    "[sp.limit( U_ur.subs(x_ur,a)[idx], alpha, 0) for idx in [0,1,2]]"
   ]
  },
  {
   "cell_type": "markdown",
   "metadata": {},
   "source": [
    "In a symmetric case, the other corner points can be simply mirrored \n",
    "with respect to the symmetry planes $xz$ and $xy$."
   ]
  },
  {
   "cell_type": "markdown",
   "metadata": {},
   "source": [
    "## Compatible rotation of a cell around $x$ axis"
   ]
  },
  {
   "cell_type": "code",
   "execution_count": 76,
   "metadata": {},
   "outputs": [
    {
     "data": {
      "image/png": "[encoded data removed]",
      "text/latex": [
       "$\\displaystyle \\frac{- c \\sin{\\left(\\alpha \\right)} + \\frac{- a \\cos{\\left(\\alpha \\right)} + a}{\\sin{\\left(\\alpha \\right)}}}{\\sqrt{2 a c \\cos{\\left(\\alpha \\right)} - 2 a c + b^{2} + c^{2} \\sin^{2}{\\left(\\alpha \\right)}}}$"
      ],
      "text/plain": [
       "                     -a⋅cos(α) + a         \n",
       "         -c⋅sin(α) + ─────────────         \n",
       "                         sin(α)            \n",
       "───────────────────────────────────────────\n",
       "   ________________________________________\n",
       "  ╱                         2    2    2    \n",
       "╲╱  2⋅a⋅c⋅cos(α) - 2⋅a⋅c + b  + c ⋅sin (α) "
      ]
     },
     "execution_count": 76,
     "metadata": {},
     "output_type": "execute_result"
    }
   ],
   "source": [
    "U_ur_a = U_ur.subs(x_ur,a)\n",
    "V_UV = sp.trigsimp(U_ur_a - V_r_1)\n",
    "L_UV = sp.sqrt(V_UV[1] ** 2 + V_UV[2] ** 2)\n",
    "sp.trigsimp(V_UV[2] / L_UV)"
   ]
  },
  {
   "cell_type": "code",
   "execution_count": 77,
   "metadata": {},
   "outputs": [
    {
     "data": {
      "image/png": "[encoded data removed]",
      "text/latex": [
       "$\\displaystyle 0$"
      ],
      "text/plain": [
       "0"
      ]
     },
     "execution_count": 77,
     "metadata": {},
     "output_type": "execute_result"
    }
   ],
   "source": [
    "sp.limit(V_UV[2] / L_UV, alpha, 0)"
   ]
  },
  {
   "cell_type": "code",
   "execution_count": 78,
   "metadata": {},
   "outputs": [],
   "source": [
    "theta_sol = sp.simplify(2 * sp.asin( V_UV[2] / L_UV))"
   ]
  },
  {
   "cell_type": "code",
   "execution_count": 79,
   "metadata": {},
   "outputs": [
    {
     "data": {
      "image/png": "[encoded data removed]",
      "text/latex": [
       "$\\displaystyle - 2 \\operatorname{asin}{\\left(\\frac{\\frac{a}{\\tan{\\left(\\alpha \\right)}} - \\frac{a}{\\sin{\\left(\\alpha \\right)}} + c \\sin{\\left(\\alpha \\right)}}{\\sqrt{2 a c \\cos{\\left(\\alpha \\right)} - 2 a c + b^{2} + c^{2} \\sin^{2}{\\left(\\alpha \\right)}}} \\right)}$"
      ],
      "text/plain": [
       "       ⎛           a        a                      ⎞\n",
       "       ⎜         ────── - ────── + c⋅sin(α)        ⎟\n",
       "       ⎜         tan(α)   sin(α)                   ⎟\n",
       "-2⋅asin⎜───────────────────────────────────────────⎟\n",
       "       ⎜   ________________________________________⎟\n",
       "       ⎜  ╱                         2    2    2    ⎟\n",
       "       ⎝╲╱  2⋅a⋅c⋅cos(α) - 2⋅a⋅c + b  + c ⋅sin (α) ⎠"
      ]
     },
     "execution_count": 79,
     "metadata": {},
     "output_type": "execute_result"
    }
   ],
   "source": [
    "sp.trigsimp(theta_sol)"
   ]
  },
  {
   "cell_type": "code",
   "execution_count": 80,
   "metadata": {},
   "outputs": [
    {
     "data": {
      "image/png": "[encoded data removed]",
      "text/latex": [
       "$\\displaystyle 0$"
      ],
      "text/plain": [
       "0"
      ]
     },
     "execution_count": 80,
     "metadata": {},
     "output_type": "execute_result"
    }
   ],
   "source": [
    "sp.limit(theta_sol, alpha, 0 )"
   ]
  },
  {
   "cell_type": "markdown",
   "metadata": {},
   "source": [
    "\\begin{align}\n",
    "\\sin(\\theta) &= \\frac{a - c \\cos^2(\\alpha) - a \\sin(\\alpha)}\n",
    "{ 2\\cos(\\alpha) \\sqrt{2ac \\sin(\\alpha) - 2ac + b^2 + c^2 \\cos^2(\\alpha)  } }\n",
    "\\end{align}"
   ]
  },
  {
   "cell_type": "markdown",
   "metadata": {
    "pycharm": {
     "name": "#%%\n"
    }
   },
   "source": [
    "## Rotation of  a shifted cell"
   ]
  },
  {
   "cell_type": "code",
   "execution_count": 81,
   "metadata": {},
   "outputs": [
    {
     "data": {
      "image/png": "[encoded data removed]",
      "text/latex": [
       "$\\displaystyle \\cos{\\left(\\frac{\\theta}{2} \\right)} + \\sin{\\left(\\frac{\\theta}{2} \\right)} i + 0 j + 0 k$"
      ],
      "text/plain": [
       "cos(theta/2) + sin(theta/2)*i + 0*j + 0*k"
      ]
     },
     "execution_count": 81,
     "metadata": {},
     "output_type": "execute_result"
    }
   ],
   "source": [
    "from sympy.algebras.quaternion import Quaternion\n",
    "theta = sp.Symbol(r'theta')\n",
    "q_theta = Quaternion.from_axis_angle([1, 0, 0], theta)\n",
    "q_theta"
   ]
  },
  {
   "cell_type": "code",
   "execution_count": 82,
   "metadata": {},
   "outputs": [],
   "source": [
    "d_1, d_2, d_3 = sp.symbols('d_1, d_2, d_3')\n",
    "D_a = sp.Matrix([d_1, d_2, d_3])"
   ]
  },
  {
   "cell_type": "code",
   "execution_count": 83,
   "metadata": {},
   "outputs": [],
   "source": [
    "UD_ur_a = U_ur_a + D_a\n",
    "VD_r_a = V_r_1 + D_a"
   ]
  },
  {
   "cell_type": "code",
   "execution_count": 84,
   "metadata": {},
   "outputs": [
    {
     "data": {
      "image/png": "[encoded data removed]",
      "text/latex": [
       "$\\displaystyle \\left[\\begin{matrix}a - c \\cos{\\left(\\alpha \\right)} + d_{1}\\\\d_{2} + \\sqrt{b^{2} - \\frac{\\left(- a \\cos{\\left(\\alpha \\right)} + a\\right)^{2}}{\\sin^{2}{\\left(\\alpha \\right)}}}\\\\- c \\sin{\\left(\\alpha \\right)} + d_{3} + \\frac{- a \\cos{\\left(\\alpha \\right)} + a}{\\sin{\\left(\\alpha \\right)}}\\end{matrix}\\right]$"
      ],
      "text/plain": [
       "⎡        a - c⋅cos(α) + d₁         ⎤\n",
       "⎢                                  ⎥\n",
       "⎢           _______________________⎥\n",
       "⎢          ╱                     2 ⎥\n",
       "⎢         ╱   2   (-a⋅cos(α) + a)  ⎥\n",
       "⎢d₂ +    ╱   b  - ──────────────── ⎥\n",
       "⎢       ╱                2         ⎥\n",
       "⎢     ╲╱              sin (α)      ⎥\n",
       "⎢                                  ⎥\n",
       "⎢                   -a⋅cos(α) + a  ⎥\n",
       "⎢  -c⋅sin(α) + d₃ + ─────────────  ⎥\n",
       "⎣                       sin(α)     ⎦"
      ]
     },
     "execution_count": 84,
     "metadata": {},
     "output_type": "execute_result"
    }
   ],
   "source": [
    "UD_ur_a - V_r_1"
   ]
  },
  {
   "cell_type": "code",
   "execution_count": 85,
   "metadata": {},
   "outputs": [
    {
     "data": {
      "image/png": "[encoded data removed]",
      "text/latex": [
       "$\\displaystyle \\left\\{ d_{1} : - a + c \\cos{\\left(\\alpha \\right)}, \\  d_{2} : - \\sqrt{- \\frac{a^{2} \\cos^{2}{\\left(\\alpha \\right)}}{\\sin^{2}{\\left(\\alpha \\right)}} + \\frac{2 a^{2} \\cos{\\left(\\alpha \\right)}}{\\sin^{2}{\\left(\\alpha \\right)}} - \\frac{a^{2}}{\\sin^{2}{\\left(\\alpha \\right)}} + b^{2}}, \\  d_{3} : \\frac{a \\cos{\\left(\\alpha \\right)}}{\\sin{\\left(\\alpha \\right)}} - \\frac{a}{\\sin{\\left(\\alpha \\right)}} + c \\sin{\\left(\\alpha \\right)}\\right\\}$"
      ],
      "text/plain": [
       "⎧                              ___________________________________________    \n",
       "⎪                             ╱    2    2         2              2            \n",
       "⎪                            ╱    a ⋅cos (α)   2⋅a ⋅cos(α)      a       2     \n",
       "⎨d₁: -a + c⋅cos(α), d₂: -   ╱   - ────────── + ─────────── - ─────── + b  , d₃\n",
       "⎪                          ╱          2             2           2             \n",
       "⎪                        ╲╱        sin (α)       sin (α)     sin (α)          \n",
       "⎩                                                                             \n",
       "\n",
       "                              ⎫\n",
       "                              ⎪\n",
       "  a⋅cos(α)     a              ⎪\n",
       ": ──────── - ────── + c⋅sin(α)⎬\n",
       "   sin(α)    sin(α)           ⎪\n",
       "                              ⎪\n",
       "                              ⎭"
      ]
     },
     "execution_count": 85,
     "metadata": {},
     "output_type": "execute_result"
    }
   ],
   "source": [
    "d_subs = sp.solve(UD_ur_a - V_r_1, [d_1, d_2, d_3])\n",
    "d_subs"
   ]
  },
  {
   "cell_type": "markdown",
   "metadata": {},
   "source": [
    "## Rotate by $\\theta$"
   ]
  },
  {
   "cell_type": "markdown",
   "metadata": {},
   "source": [
    "Define the center of rotation"
   ]
  },
  {
   "cell_type": "code",
   "execution_count": 86,
   "metadata": {},
   "outputs": [],
   "source": [
    "UD_ur_a_ = UD_ur_a.subs(d_subs)"
   ]
  },
  {
   "cell_type": "markdown",
   "metadata": {},
   "source": [
    "Rotated point"
   ]
  },
  {
   "cell_type": "code",
   "execution_count": 87,
   "metadata": {},
   "outputs": [],
   "source": [
    "WD_r_a_ = VD_r_a.subs(d_subs)"
   ]
  },
  {
   "cell_type": "markdown",
   "metadata": {},
   "source": [
    "Pull back the point so that the center of rotation is at origin"
   ]
  },
  {
   "cell_type": "code",
   "execution_count": 88,
   "metadata": {},
   "outputs": [
    {
     "data": {
      "image/png": "[encoded data removed]",
      "text/latex": [
       "$\\displaystyle \\left[\\begin{matrix}- a + c \\cos{\\left(\\alpha \\right)} & - \\sqrt{b^{2} - \\frac{\\left(- a \\cos{\\left(\\alpha \\right)} + a\\right)^{2}}{\\sin^{2}{\\left(\\alpha \\right)}}} & c \\sin{\\left(\\alpha \\right)} - \\frac{- a \\cos{\\left(\\alpha \\right)} + a}{\\sin{\\left(\\alpha \\right)}}\\end{matrix}\\right]$"
      ],
      "text/plain": [
       "⎡                      _______________________                          ⎤\n",
       "⎢                     ╱                     2                           ⎥\n",
       "⎢                    ╱   2   (-a⋅cos(α) + a)               -a⋅cos(α) + a⎥\n",
       "⎢-a + c⋅cos(α)  -   ╱   b  - ────────────────   c⋅sin(α) - ─────────────⎥\n",
       "⎢                  ╱                2                          sin(α)   ⎥\n",
       "⎣                ╲╱              sin (α)                                ⎦"
      ]
     },
     "execution_count": 88,
     "metadata": {},
     "output_type": "execute_result"
    }
   ],
   "source": [
    "WD_r_a_pb = WD_r_a_ - UD_ur_a_\n",
    "WD_r_a_pb.T"
   ]
  },
  {
   "cell_type": "markdown",
   "metadata": {},
   "source": [
    "Rotate the point around the quaternion"
   ]
  },
  {
   "cell_type": "code",
   "execution_count": 89,
   "metadata": {},
   "outputs": [],
   "source": [
    "WD_r_a_rot = q_theta.rotate_point(WD_r_a_pb.T, q_theta)"
   ]
  },
  {
   "cell_type": "markdown",
   "metadata": {},
   "source": [
    "Push forward to the center of rotation"
   ]
  },
  {
   "cell_type": "code",
   "execution_count": 90,
   "metadata": {},
   "outputs": [],
   "source": [
    "WD_r_a_pf = sp.Matrix(WD_r_a_rot) + UD_ur_a_\n",
    "WD_r_a_theta = WD_r_a_pf.subs(theta, -theta_sol)"
   ]
  },
  {
   "cell_type": "markdown",
   "metadata": {},
   "source": [
    "Rotate also the midpoint"
   ]
  },
  {
   "cell_type": "code",
   "execution_count": 91,
   "metadata": {},
   "outputs": [],
   "source": [
    "DD_a_pb = D_a.subs(d_subs) - UD_ur_a_\n",
    "DD_a_rot = q_theta.rotate_point(DD_a_pb.T, q_theta)\n",
    "DD_a_pf = sp.simplify(sp.Matrix(DD_a_rot) + UD_ur_a_)\n",
    "DD_a_theta = DD_a_pf.subs(theta, -theta_sol)"
   ]
  },
  {
   "cell_type": "code",
   "execution_count": 92,
   "metadata": {},
   "outputs": [
    {
     "data": {
      "image/png": "[encoded data removed]",
      "text/latex": [
       "$\\displaystyle \\left[\\begin{matrix}- a + c \\cos{\\left(\\alpha \\right)}\\\\- \\frac{a \\sin{\\left(2 \\operatorname{asin}{\\left(\\frac{\\frac{a}{\\tan{\\left(\\alpha \\right)}} - \\frac{a}{\\sin{\\left(\\alpha \\right)}} + c \\sin{\\left(\\alpha \\right)}}{\\sqrt{2 a c \\cos{\\left(\\alpha \\right)} - 2 a c + b^{2} + c^{2} \\sin^{2}{\\left(\\alpha \\right)}}} \\right)} \\right)}}{\\tan{\\left(\\alpha \\right)}} + \\frac{a \\sin{\\left(2 \\operatorname{asin}{\\left(\\frac{\\frac{a}{\\tan{\\left(\\alpha \\right)}} - \\frac{a}{\\sin{\\left(\\alpha \\right)}} + c \\sin{\\left(\\alpha \\right)}}{\\sqrt{2 a c \\cos{\\left(\\alpha \\right)} - 2 a c + b^{2} + c^{2} \\sin^{2}{\\left(\\alpha \\right)}}} \\right)} \\right)}}{\\sin{\\left(\\alpha \\right)}} - 2 \\left(- \\frac{\\left(\\frac{a}{\\tan{\\left(\\alpha \\right)}} - \\frac{a}{\\sin{\\left(\\alpha \\right)}} + c \\sin{\\left(\\alpha \\right)}\\right)^{2}}{2 a c \\cos{\\left(\\alpha \\right)} - 2 a c + b^{2} + c^{2} \\sin^{2}{\\left(\\alpha \\right)}} + 1\\right) \\sqrt{a^{2} + \\frac{2 a^{2} \\cos{\\left(\\alpha \\right)}}{\\sin^{2}{\\left(\\alpha \\right)}} - \\frac{2 a^{2}}{\\sin^{2}{\\left(\\alpha \\right)}} + b^{2}} + \\sqrt{a^{2} + \\frac{2 a^{2} \\cos{\\left(\\alpha \\right)}}{\\sin^{2}{\\left(\\alpha \\right)}} - \\frac{2 a^{2}}{\\sin^{2}{\\left(\\alpha \\right)}} + b^{2}}\\\\- \\frac{2 a \\left(\\frac{a}{\\tan{\\left(\\alpha \\right)}} - \\frac{a}{\\sin{\\left(\\alpha \\right)}} + c \\sin{\\left(\\alpha \\right)}\\right)^{2}}{\\left(2 a c \\cos{\\left(\\alpha \\right)} - 2 a c + b^{2} + c^{2} \\sin^{2}{\\left(\\alpha \\right)}\\right) \\tan{\\left(\\alpha \\right)}} + \\frac{2 a \\left(\\frac{a}{\\tan{\\left(\\alpha \\right)}} - \\frac{a}{\\sin{\\left(\\alpha \\right)}} + c \\sin{\\left(\\alpha \\right)}\\right)^{2}}{\\left(2 a c \\cos{\\left(\\alpha \\right)} - 2 a c + b^{2} + c^{2} \\sin^{2}{\\left(\\alpha \\right)}\\right) \\sin{\\left(\\alpha \\right)}} + \\frac{a}{\\tan{\\left(\\alpha \\right)}} - \\frac{a}{\\sin{\\left(\\alpha \\right)}} + c \\sin{\\left(\\alpha \\right)} - \\frac{2 \\sqrt{- \\frac{\\left(\\frac{a}{\\tan{\\left(\\alpha \\right)}} - \\frac{a}{\\sin{\\left(\\alpha \\right)}} + c \\sin{\\left(\\alpha \\right)}\\right)^{2}}{2 a c \\cos{\\left(\\alpha \\right)} - 2 a c + b^{2} + c^{2} \\sin^{2}{\\left(\\alpha \\right)}} + 1} \\left(\\frac{a}{\\tan{\\left(\\alpha \\right)}} - \\frac{a}{\\sin{\\left(\\alpha \\right)}} + c \\sin{\\left(\\alpha \\right)}\\right) \\sqrt{a^{2} + \\frac{2 a^{2} \\cos{\\left(\\alpha \\right)}}{\\sin^{2}{\\left(\\alpha \\right)}} - \\frac{2 a^{2}}{\\sin^{2}{\\left(\\alpha \\right)}} + b^{2}}}{\\sqrt{2 a c \\cos{\\left(\\alpha \\right)} - 2 a c + b^{2} + c^{2} \\sin^{2}{\\left(\\alpha \\right)}}}\\end{matrix}\\right]$"
      ],
      "text/plain": [
       "⎡                                                                             \n",
       "⎢                                                                             \n",
       "⎢        ⎛      ⎛           a        a                      ⎞⎞        ⎛      ⎛\n",
       "⎢        ⎜      ⎜         ────── - ────── + c⋅sin(α)        ⎟⎟        ⎜      ⎜\n",
       "⎢        ⎜      ⎜         tan(α)   sin(α)                   ⎟⎟        ⎜      ⎜\n",
       "⎢   a⋅sin⎜2⋅asin⎜───────────────────────────────────────────⎟⎟   a⋅sin⎜2⋅asin⎜\n",
       "⎢        ⎜      ⎜   ________________________________________⎟⎟        ⎜      ⎜\n",
       "⎢        ⎜      ⎜  ╱                         2    2    2    ⎟⎟        ⎜      ⎜\n",
       "⎢        ⎝      ⎝╲╱  2⋅a⋅c⋅cos(α) - 2⋅a⋅c + b  + c ⋅sin (α) ⎠⎠        ⎝      ⎝\n",
       "⎢ - ────────────────────────────────────────────────────────── + ─────────────\n",
       "⎢                             tan(α)                                          \n",
       "⎢                                                                             \n",
       "⎢                                                                             \n",
       "⎢                                                                             \n",
       "⎢                                                                             \n",
       "⎢                                                                             \n",
       "⎢                                                                             \n",
       "⎢                                         2                                   \n",
       "⎢             ⎛  a        a              ⎞                      ⎛  a        a \n",
       "⎢         2⋅a⋅⎜────── - ────── + c⋅sin(α)⎟                  2⋅a⋅⎜────── - ────\n",
       "⎢             ⎝tan(α)   sin(α)           ⎠                      ⎝tan(α)   sin(\n",
       "⎢- ─────────────────────────────────────────────── + ─────────────────────────\n",
       "⎢  ⎛                        2    2    2   ⎞          ⎛                        \n",
       "⎢  ⎝2⋅a⋅c⋅cos(α) - 2⋅a⋅c + b  + c ⋅sin (α)⎠⋅tan(α)   ⎝2⋅a⋅c⋅cos(α) - 2⋅a⋅c + b\n",
       "⎣                                                                             \n",
       "\n",
       "                                            -a + c⋅cos(α)                     \n",
       "                                                                              \n",
       "           a        a                      ⎞⎞                                 \n",
       "         ────── - ────── + c⋅sin(α)        ⎟⎟                                 \n",
       "         tan(α)   sin(α)                   ⎟⎟                                 \n",
       "───────────────────────────────────────────⎟⎟     ⎛                           \n",
       "   ________________________________________⎟⎟     ⎜      ⎛  a        a        \n",
       "  ╱                         2    2    2    ⎟⎟     ⎜      ⎜────── - ────── + c⋅\n",
       "╲╱  2⋅a⋅c⋅cos(α) - 2⋅a⋅c + b  + c ⋅sin (α) ⎠⎠     ⎜      ⎝tan(α)   sin(α)     \n",
       "───────────────────────────────────────────── - 2⋅⎜- ─────────────────────────\n",
       "             sin(α)                               ⎜                          2\n",
       "                                                  ⎝  2⋅a⋅c⋅cos(α) - 2⋅a⋅c + b \n",
       "                                                                              \n",
       "                                                                ______________\n",
       "                                                               ╱              \n",
       "                                                              ╱        ⎛  a   \n",
       "                                                             ╱         ⎜──────\n",
       "              2                                             ╱          ⎝tan(α)\n",
       "             ⎞                                        2⋅   ╱     - ───────────\n",
       "── + c⋅sin(α)⎟                                            ╱                   \n",
       "α)           ⎠             a        a                   ╲╱         2⋅a⋅c⋅cos(α\n",
       "────────────────────── + ────── - ────── + c⋅sin(α) - ────────────────────────\n",
       "2    2    2   ⎞          tan(α)   sin(α)                                      \n",
       "  + c ⋅sin (α)⎠⋅sin(α)                                                        \n",
       "                                                                              \n",
       "\n",
       "                                                                              \n",
       "                                                                              \n",
       "                                                                              \n",
       "                                                                              \n",
       "                                                                              \n",
       "       2         ⎞                                                            \n",
       "      ⎞          ⎟       _________________________________         ___________\n",
       "sin(α)⎟          ⎟      ╱         2               2               ╱         2 \n",
       "      ⎠          ⎟     ╱   2   2⋅a ⋅cos(α)     2⋅a      2        ╱   2   2⋅a ⋅\n",
       "───────────── + 1⎟⋅   ╱   a  + ─────────── - ─────── + b   +    ╱   a  + ─────\n",
       "    2    2       ⎟   ╱              2           2              ╱              \n",
       " + c ⋅sin (α)    ⎠ ╲╱            sin (α)     sin (α)         ╲╱            sin\n",
       "                                                                              \n",
       "________________________________                                              \n",
       "                     2                                                        \n",
       "     a              ⎞                                               __________\n",
       " - ────── + c⋅sin(α)⎟                                              ╱         2\n",
       "   sin(α)           ⎠            ⎛  a        a              ⎞     ╱   2   2⋅a \n",
       "─────────────────────────── + 1 ⋅⎜────── - ────── + c⋅sin(α)⎟⋅   ╱   a  + ────\n",
       "             2    2    2         ⎝tan(α)   sin(α)           ⎠   ╱             \n",
       ") - 2⋅a⋅c + b  + c ⋅sin (α)                                   ╲╱            si\n",
       "──────────────────────────────────────────────────────────────────────────────\n",
       "                    ________________________________________                  \n",
       "                   ╱                         2    2    2                      \n",
       "                 ╲╱  2⋅a⋅c⋅cos(α) - 2⋅a⋅c + b  + c ⋅sin (α)                   \n",
       "\n",
       "                       ⎤\n",
       "                       ⎥\n",
       "                       ⎥\n",
       "                       ⎥\n",
       "                       ⎥\n",
       "                       ⎥\n",
       "______________________ ⎥\n",
       "              2        ⎥\n",
       "cos(α)     2⋅a      2  ⎥\n",
       "────── - ─────── + b   ⎥\n",
       "2           2          ⎥\n",
       " (α)     sin (α)       ⎥\n",
       "                       ⎥\n",
       "                       ⎥\n",
       "                       ⎥\n",
       "_______________________⎥\n",
       "               2       ⎥\n",
       "⋅cos(α)     2⋅a      2 ⎥\n",
       "─────── - ─────── + b  ⎥\n",
       " 2           2         ⎥\n",
       "n (α)     sin (α)      ⎥\n",
       "───────────────────────⎥\n",
       "                       ⎥\n",
       "                       ⎥\n",
       "                       ⎦"
      ]
     },
     "execution_count": 92,
     "metadata": {},
     "output_type": "execute_result"
    }
   ],
   "source": [
    "DD_a_theta"
   ]
  },
  {
   "cell_type": "code",
   "execution_count": 96,
   "metadata": {},
   "outputs": [],
   "source": [
    "get_U_ur_a = sp.lambdify((alpha, a, b, c), U_ur_a )\n",
    "get_WD_r_a_theta = sp.lambdify((alpha, a, b, c), WD_r_a_theta)"
   ]
  },
  {
   "cell_type": "code",
   "execution_count": 97,
   "metadata": {},
   "outputs": [
    {
     "data": {
      "text/plain": [
       "array([[3.        ],\n",
       "       [9.9954688 ],\n",
       "       [0.30100402]])"
      ]
     },
     "execution_count": 97,
     "metadata": {},
     "output_type": "execute_result"
    }
   ],
   "source": [
    "get_U_ur_a(0.2, 3, 10, 1)"
   ]
  },
  {
   "cell_type": "code",
   "execution_count": 98,
   "metadata": {},
   "outputs": [
    {
     "data": {
      "text/plain": [
       "array([[-1.03986684],\n",
       "       [-9.9954688 ],\n",
       "       [ 0.30100402]])"
      ]
     },
     "execution_count": 98,
     "metadata": {},
     "output_type": "execute_result"
    }
   ],
   "source": [
    "get_WD_r_a_theta(0.2, 3, 10, 1)"
   ]
  },
  {
   "cell_type": "code",
   "execution_count": 99,
   "metadata": {},
   "outputs": [
    {
     "data": {
      "image/png": "[encoded data removed]",
      "text/latex": [
       "$\\displaystyle - 2 a + 2 c \\cos{\\left(\\alpha \\right)}$"
      ],
      "text/plain": [
       "-2⋅a + 2⋅c⋅cos(α)"
      ]
     },
     "execution_count": 99,
     "metadata": {},
     "output_type": "execute_result"
    }
   ],
   "source": [
    "sp.simplify((WD_r_a_theta - U_ur_a)[0])"
   ]
  },
  {
   "cell_type": "markdown",
   "metadata": {},
   "source": [
    "## Cross sectional height"
   ]
  },
  {
   "cell_type": "code",
   "execution_count": 68,
   "metadata": {},
   "outputs": [
    {
     "ename": "NameError",
     "evalue": "name 'W_r_a' is not defined",
     "output_type": "error",
     "traceback": [
      "\u001b[0;31m---------------------------------------------------------------------------\u001b[0m",
      "\u001b[0;31mNameError\u001b[0m                                 Traceback (most recent call last)",
      "\u001b[0;32m<ipython-input-68-1db97629ad23>\u001b[0m in \u001b[0;36m<module>\u001b[0;34m\u001b[0m\n\u001b[0;32m----> 1\u001b[0;31m \u001b[0mH\u001b[0m \u001b[0;34m=\u001b[0m \u001b[0mW_r_a\u001b[0m\u001b[0;34m[\u001b[0m\u001b[0;36m2\u001b[0m\u001b[0;34m]\u001b[0m\u001b[0;34m\u001b[0m\u001b[0;34m\u001b[0m\u001b[0m\n\u001b[0m\u001b[1;32m      2\u001b[0m \u001b[0mH\u001b[0m\u001b[0;34m\u001b[0m\u001b[0;34m\u001b[0m\u001b[0m\n",
      "\u001b[0;31mNameError\u001b[0m: name 'W_r_a' is not defined"
     ]
    }
   ],
   "source": [
    "H = W_p_a[2]\n",
    "H"
   ]
  },
  {
   "cell_type": "code",
   "execution_count": 32,
   "metadata": {},
   "outputs": [],
   "source": [
    "V_WD = (WD_p_a_theta - DD_a_theta)\n",
    "Vzy_WD = sp.Matrix([V_WD[1], V_WD[2]])"
   ]
  },
  {
   "cell_type": "code",
   "execution_count": 33,
   "metadata": {},
   "outputs": [],
   "source": [
    "L_WD = Vzy_WD.T * Vzy_WD"
   ]
  },
  {
   "cell_type": "code",
   "execution_count": 34,
   "metadata": {},
   "outputs": [],
   "source": [
    "get_L_WD = sp.lambdify((alpha, a, b, c), L_WD, 'numpy')"
   ]
  },
  {
   "cell_type": "code",
   "execution_count": 35,
   "metadata": {},
   "outputs": [
    {
     "data": {
      "text/plain": [
       "array([[5.]])"
      ]
     },
     "execution_count": 35,
     "metadata": {},
     "output_type": "execute_result"
    }
   ],
   "source": [
    "np.sqrt(get_L_WD(np.pi/2,2,3,5))"
   ]
  },
  {
   "cell_type": "markdown",
   "metadata": {},
   "source": [
    "## Symmetry axis of the cylinder"
   ]
  },
  {
   "cell_type": "code",
   "execution_count": 39,
   "metadata": {},
   "outputs": [],
   "source": [
    "D0_a = sp.Matrix([0,0,0])"
   ]
  },
  {
   "cell_type": "code",
   "execution_count": 40,
   "metadata": {},
   "outputs": [
    {
     "data": {
      "image/png": "[encoded data removed]",
      "text/latex": [
       "$\\displaystyle c \\sin{\\left(\\alpha \\right)}$"
      ],
      "text/plain": [
       "c⋅sin(α)"
      ]
     },
     "execution_count": 40,
     "metadata": {},
     "output_type": "execute_result"
    }
   ],
   "source": [
    "W_m_a[2]"
   ]
  },
  {
   "cell_type": "code",
   "execution_count": 41,
   "metadata": {},
   "outputs": [
    {
     "data": {
      "image/png": "[encoded data removed]",
      "text/latex": [
       "$\\displaystyle \\frac{a \\left(1 - \\cos{\\left(\\alpha \\right)}\\right)}{\\sin{\\left(\\alpha \\right)}}$"
      ],
      "text/plain": [
       "a⋅(1 - cos(α))\n",
       "──────────────\n",
       "    sin(α)    "
      ]
     },
     "execution_count": 41,
     "metadata": {},
     "output_type": "execute_result"
    }
   ],
   "source": [
    "U_mm_a[2]"
   ]
  },
  {
   "cell_type": "code",
   "execution_count": 42,
   "metadata": {},
   "outputs": [
    {
     "data": {
      "image/png": "[encoded data removed]",
      "text/latex": [
       "$\\displaystyle - \\frac{2 a \\left(\\frac{a}{\\tan{\\left(\\alpha \\right)}} - \\frac{a}{\\sin{\\left(\\alpha \\right)}} + c \\sin{\\left(\\alpha \\right)}\\right)^{2}}{\\left(2 a c \\cos{\\left(\\alpha \\right)} - 2 a c + b^{2} + c^{2} \\sin^{2}{\\left(\\alpha \\right)}\\right) \\tan{\\left(\\alpha \\right)}} + \\frac{2 a \\left(\\frac{a}{\\tan{\\left(\\alpha \\right)}} - \\frac{a}{\\sin{\\left(\\alpha \\right)}} + c \\sin{\\left(\\alpha \\right)}\\right)^{2}}{\\left(2 a c \\cos{\\left(\\alpha \\right)} - 2 a c + b^{2} + c^{2} \\sin^{2}{\\left(\\alpha \\right)}\\right) \\sin{\\left(\\alpha \\right)}} + \\frac{a}{\\tan{\\left(\\alpha \\right)}} - \\frac{a}{\\sin{\\left(\\alpha \\right)}} + c \\sin{\\left(\\alpha \\right)} - \\frac{2 \\sqrt{- \\frac{\\left(\\frac{a}{\\tan{\\left(\\alpha \\right)}} - \\frac{a}{\\sin{\\left(\\alpha \\right)}} + c \\sin{\\left(\\alpha \\right)}\\right)^{2}}{2 a c \\cos{\\left(\\alpha \\right)} - 2 a c + b^{2} + c^{2} \\sin^{2}{\\left(\\alpha \\right)}} + 1} \\left(\\frac{a}{\\tan{\\left(\\alpha \\right)}} - \\frac{a}{\\sin{\\left(\\alpha \\right)}} + c \\sin{\\left(\\alpha \\right)}\\right) \\sqrt{a^{2} + \\frac{2 a^{2} \\cos{\\left(\\alpha \\right)}}{\\sin^{2}{\\left(\\alpha \\right)}} - \\frac{2 a^{2}}{\\sin^{2}{\\left(\\alpha \\right)}} + b^{2}}}{\\sqrt{2 a c \\cos{\\left(\\alpha \\right)} - 2 a c + b^{2} + c^{2} \\sin^{2}{\\left(\\alpha \\right)}}}$"
      ],
      "text/plain": [
       "                                                                              \n",
       "                                                                              \n",
       "                                                                              \n",
       "                                                                              \n",
       "                                         2                                    \n",
       "             ⎛  a        a              ⎞                      ⎛  a        a  \n",
       "         2⋅a⋅⎜────── - ────── + c⋅sin(α)⎟                  2⋅a⋅⎜────── - ─────\n",
       "             ⎝tan(α)   sin(α)           ⎠                      ⎝tan(α)   sin(α\n",
       "- ─────────────────────────────────────────────── + ──────────────────────────\n",
       "  ⎛                        2    2    2   ⎞          ⎛                        2\n",
       "  ⎝2⋅a⋅c⋅cos(α) - 2⋅a⋅c + b  + c ⋅sin (α)⎠⋅tan(α)   ⎝2⋅a⋅c⋅cos(α) - 2⋅a⋅c + b \n",
       "                                                                              \n",
       "\n",
       "                                                               _______________\n",
       "                                                              ╱               \n",
       "                                                             ╱        ⎛  a    \n",
       "                                                            ╱         ⎜────── \n",
       "             2                                             ╱          ⎝tan(α) \n",
       "            ⎞                                        2⋅   ╱     - ────────────\n",
       "─ + c⋅sin(α)⎟                                            ╱                    \n",
       ")           ⎠             a        a                   ╲╱         2⋅a⋅c⋅cos(α)\n",
       "───────────────────── + ────── - ────── + c⋅sin(α) - ─────────────────────────\n",
       "    2    2   ⎞          tan(α)   sin(α)                                       \n",
       " + c ⋅sin (α)⎠⋅sin(α)                                                         \n",
       "                                                                              \n",
       "\n",
       "_______________________________                                               \n",
       "                    2                                                         \n",
       "    a              ⎞                                               ___________\n",
       "- ────── + c⋅sin(α)⎟                                              ╱         2 \n",
       "  sin(α)           ⎠            ⎛  a        a              ⎞     ╱   2   2⋅a ⋅\n",
       "────────────────────────── + 1 ⋅⎜────── - ────── + c⋅sin(α)⎟⋅   ╱   a  + ─────\n",
       "            2    2    2         ⎝tan(α)   sin(α)           ⎠   ╱              \n",
       " - 2⋅a⋅c + b  + c ⋅sin (α)                                   ╲╱            sin\n",
       "──────────────────────────────────────────────────────────────────────────────\n",
       "                   ________________________________________                   \n",
       "                  ╱                         2    2    2                       \n",
       "                ╲╱  2⋅a⋅c⋅cos(α) - 2⋅a⋅c + b  + c ⋅sin (α)                    \n",
       "\n",
       "                      \n",
       "                      \n",
       "______________________\n",
       "              2       \n",
       "cos(α)     2⋅a      2 \n",
       "────── - ─────── + b  \n",
       "2           2         \n",
       " (α)     sin (α)      \n",
       "──────────────────────\n",
       "                      \n",
       "                      \n",
       "                      "
      ]
     },
     "execution_count": 42,
     "metadata": {},
     "output_type": "execute_result"
    }
   ],
   "source": [
    "DD_a_theta[2]"
   ]
  },
  {
   "cell_type": "markdown",
   "metadata": {},
   "source": [
    "Find the point at which the line connection between\n",
    "\\begin{align}\n",
    " U_{mm} + \\rho (U_{mm} - D)\n",
    "\\end{align}\n",
    "intersects the vertical axis"
   ]
  },
  {
   "cell_type": "code",
   "execution_count": 43,
   "metadata": {},
   "outputs": [],
   "source": [
    "rho = (U_mm_a[2] - DD_a_theta[2]) / (U_mm_a[1] - DD_a_theta[1]) * U_mm_a[1]\n",
    "R_0 = U_mm_a[2] - rho"
   ]
  },
  {
   "cell_type": "code",
   "execution_count": 44,
   "metadata": {},
   "outputs": [],
   "source": [
    "get_U_mm_a = sp.lambdify((alpha, a, b, c), U_mm_a, 'numpy')\n",
    "get_DD_a_theta = sp.lambdify((alpha, a, b, c), DD_a_theta, 'numpy')\n",
    "get_rho = sp.lambdify((alpha, a, b, c), rho, 'numpy')\n",
    "get_R_0 = sp.lambdify((alpha, a, b, c), R_0, 'numpy')"
   ]
  },
  {
   "cell_type": "code",
   "execution_count": 45,
   "metadata": {},
   "outputs": [
    {
     "data": {
      "text/plain": [
       "array([[-1.        ],\n",
       "       [-0.83758796],\n",
       "       [ 0.54630249]])"
      ]
     },
     "execution_count": 45,
     "metadata": {},
     "output_type": "execute_result"
    }
   ],
   "source": [
    "data = dict(alpha=1, a=1, b=1, c=1)\n",
    "get_U_mm_a(**data)"
   ]
  },
  {
   "cell_type": "code",
   "execution_count": 46,
   "metadata": {},
   "outputs": [
    {
     "data": {
      "text/plain": [
       "array([[-1.54030231],\n",
       "       [-0.31003043],\n",
       "       [-0.10925565]])"
      ]
     },
     "execution_count": 46,
     "metadata": {},
     "output_type": "execute_result"
    }
   ],
   "source": [
    "get_DD_a_theta(**data)"
   ]
  },
  {
   "cell_type": "code",
   "execution_count": 47,
   "metadata": {},
   "outputs": [
    {
     "data": {
      "image/png": "[encoded data removed]",
      "text/latex": [
       "$\\displaystyle 1.0408108582960682$"
      ],
      "text/plain": [
       "1.0408108582960682"
      ]
     },
     "execution_count": 47,
     "metadata": {},
     "output_type": "execute_result"
    }
   ],
   "source": [
    "get_rho(**data)"
   ]
  },
  {
   "cell_type": "code",
   "execution_count": 48,
   "metadata": {},
   "outputs": [
    {
     "data": {
      "image/png": "[encoded data removed]",
      "text/latex": [
       "$\\displaystyle -0.49450836845227775$"
      ],
      "text/plain": [
       "-0.49450836845227775"
      ]
     },
     "execution_count": 48,
     "metadata": {},
     "output_type": "execute_result"
    }
   ],
   "source": [
    "get_R_0(**data)"
   ]
  },
  {
   "cell_type": "code",
   "execution_count": 49,
   "metadata": {},
   "outputs": [],
   "source": [
    "phi_0 = sp.asin( DD_a_theta[1] / R_0 )"
   ]
  },
  {
   "cell_type": "code",
   "execution_count": 50,
   "metadata": {},
   "outputs": [],
   "source": [
    "get_phi_0 = sp.lambdify((alpha, a, b, c), phi_0, 'numpy')"
   ]
  },
  {
   "cell_type": "code",
   "execution_count": 51,
   "metadata": {},
   "outputs": [
    {
     "data": {
      "image/png": "[encoded data removed]",
      "text/latex": [
       "$\\displaystyle 0.6776279099932295$"
      ],
      "text/plain": [
       "0.6776279099932295"
      ]
     },
     "execution_count": 51,
     "metadata": {},
     "output_type": "execute_result"
    }
   ],
   "source": [
    "get_phi_0(**data)"
   ]
  }
 ],
 "metadata": {
  "kernelspec": {
   "display_name": "bmcs_env",
   "language": "python",
   "name": "bmcs_env"
  },
  "language_info": {
   "codemirror_mode": {
    "name": "ipython",
    "version": 3
   },
   "file_extension": ".py",
   "mimetype": "text/x-python",
   "name": "python",
   "nbconvert_exporter": "python",
   "pygments_lexer": "ipython3",
   "version": "3.9.2"
  },
  "toc": {
   "base_numbering": 1,
   "nav_menu": {},
   "number_sections": true,
   "sideBar": true,
   "skip_h1_title": true,
   "title_cell": "Table of Contents",
   "title_sidebar": "Contents",
   "toc_cell": false,
   "toc_position": {},
   "toc_section_display": true,
   "toc_window_display": false
  }
 },
 "nbformat": 4,
 "nbformat_minor": 4
}
