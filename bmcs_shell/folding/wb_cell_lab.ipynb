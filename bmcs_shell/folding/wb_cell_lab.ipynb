{
 "cells": [
  {
   "cell_type": "markdown",
   "metadata": {},
   "source": [
    "# Waterbomb cell - 5 parameter folding"
   ]
  },
  {
   "cell_type": "code",
   "execution_count": 1,
   "metadata": {},
   "outputs": [],
   "source": [
    "import sympy as sp\n",
    "sp.init_printing()\n",
    "import numpy as np"
   ]
  },
  {
   "cell_type": "markdown",
   "metadata": {},
   "source": [
    "## Upper right corner node"
   ]
  },
  {
   "cell_type": "markdown",
   "metadata": {},
   "source": [
    "Control parameters $a, b, c$ and angle $\\alpha$"
   ]
  },
  {
   "cell_type": "code",
   "execution_count": 2,
   "metadata": {},
   "outputs": [],
   "source": [
    "a, b, c = sp.symbols('a, b, c', positive=True)\n",
    "gamma = sp.symbols('gamma', positive=True)"
   ]
  },
  {
   "cell_type": "markdown",
   "metadata": {},
   "source": [
    "Position variables to be determined for the above control parameters"
   ]
  },
  {
   "cell_type": "code",
   "execution_count": 3,
   "metadata": {},
   "outputs": [
    {
     "data": {
      "image/png": "[encoded data removed]",
      "text/latex": [
       "$\\displaystyle \\left( \\left[\\begin{matrix}- a\\\\b\\\\0\\end{matrix}\\right], \\  \\left[\\begin{matrix}- c\\\\0\\\\0\\end{matrix}\\right], \\  \\left[\\begin{matrix}a\\\\b\\\\0\\end{matrix}\\right], \\  \\left[\\begin{matrix}c\\\\0\\\\0\\end{matrix}\\right]\\right)$"
      ],
      "text/plain": [
       "⎛⎡-a⎤  ⎡-c⎤  ⎡a⎤  ⎡c⎤⎞\n",
       "⎜⎢  ⎥  ⎢  ⎥  ⎢ ⎥  ⎢ ⎥⎟\n",
       "⎜⎢b ⎥, ⎢0 ⎥, ⎢b⎥, ⎢0⎥⎟\n",
       "⎜⎢  ⎥  ⎢  ⎥  ⎢ ⎥  ⎢ ⎥⎟\n",
       "⎝⎣0 ⎦  ⎣0 ⎦  ⎣0⎦  ⎣0⎦⎠"
      ]
     },
     "execution_count": 3,
     "metadata": {},
     "output_type": "execute_result"
    }
   ],
   "source": [
    "U_ur_0 = sp.Matrix([a, b, 0])\n",
    "U_ul_0 = sp.Matrix([-a, b, 0])\n",
    "V_r_0 = sp.Matrix([c, 0, 0])\n",
    "V_l_0 = sp.Matrix([-c, 0, 0])\n",
    "U_ul_0, V_l_0, U_ur_0, V_r_0"
   ]
  },
  {
   "cell_type": "markdown",
   "metadata": {},
   "source": [
    "# Solution based on constant sector angles"
   ]
  },
  {
   "cell_type": "code",
   "execution_count": 50,
   "metadata": {},
   "outputs": [],
   "source": [
    "x_ur, y_ur, z_ur = sp.symbols(r'x^{\\urcorner}, y^{\\urcorner}, z^{\\urcorner}')\n",
    "x_ul, y_ul, z_ul = sp.symbols(r'x^{\\ulcorner}, y^{\\ulcorner}, z^{\\ulcorner}')"
   ]
  },
  {
   "cell_type": "markdown",
   "metadata": {},
   "source": [
    "Node $V^\\dashv$ rotates in the $xz$ plane. The control angle $\\gamma = \\pi/2$ for a flat state, i.e. $z^\\dashv(\\gamma=\\pi/2) = 0$\n",
    "\\begin{align}\n",
    " V^\\dashv = [c \\sin(\\gamma), 0, c \\cos(\\gamma)]\n",
    "\\end{align}"
   ]
  },
  {
   "cell_type": "code",
   "execution_count": 5,
   "metadata": {},
   "outputs": [
    {
     "data": {
      "image/png": "[encoded data removed]",
      "text/latex": [
       "$\\displaystyle \\left( \\left[\\begin{matrix}x^{\\urcorner}\\\\y^{\\urcorner}\\\\z^{\\urcorner}\\end{matrix}\\right], \\  \\left[\\begin{matrix}x^{\\ulcorner}\\\\y^{\\ulcorner}\\\\z^{\\ulcorner}\\end{matrix}\\right]\\right)$"
      ],
      "text/plain": [
       "⎛⎡x__{\\urcorner}⎤  ⎡x__{\\ulcorner}⎤⎞\n",
       "⎜⎢              ⎥  ⎢              ⎥⎟\n",
       "⎜⎢y__{\\urcorner}⎥, ⎢y__{\\ulcorner}⎥⎟\n",
       "⎜⎢              ⎥  ⎢              ⎥⎟\n",
       "⎝⎣z__{\\urcorner}⎦  ⎣z__{\\ulcorner}⎦⎠"
      ]
     },
     "execution_count": 5,
     "metadata": {},
     "output_type": "execute_result"
    }
   ],
   "source": [
    "U_ur_1 = sp.Matrix([x_ur, y_ur, z_ur])\n",
    "U_ul_1 = sp.Matrix([x_ul, y_ul, z_ul])\n",
    "U_ur_1, U_ul_1"
   ]
  },
  {
   "cell_type": "code",
   "execution_count": 6,
   "metadata": {},
   "outputs": [
    {
     "data": {
      "image/png": "[encoded data removed]",
      "text/latex": [
       "$\\displaystyle \\left( \\left[\\begin{matrix}c \\sin{\\left(\\gamma \\right)}\\\\0\\\\c \\cos{\\left(\\gamma \\right)}\\end{matrix}\\right], \\  \\left[\\begin{matrix}- c \\sin{\\left(\\gamma \\right)}\\\\0\\\\c \\cos{\\left(\\gamma \\right)}\\end{matrix}\\right]\\right)$"
      ],
      "text/plain": [
       "⎛⎡c⋅sin(γ)⎤  ⎡-c⋅sin(γ)⎤⎞\n",
       "⎜⎢        ⎥  ⎢         ⎥⎟\n",
       "⎜⎢   0    ⎥, ⎢    0    ⎥⎟\n",
       "⎜⎢        ⎥  ⎢         ⎥⎟\n",
       "⎝⎣c⋅cos(γ)⎦  ⎣c⋅cos(γ) ⎦⎠"
      ]
     },
     "execution_count": 6,
     "metadata": {},
     "output_type": "execute_result"
    }
   ],
   "source": [
    "V_r_1 = sp.Matrix([c * sp.sin(gamma), 0, c * sp.cos(gamma)])\n",
    "V_l_1 = sp.Matrix([-c * sp.sin(gamma), 0, c * sp.cos(gamma)])\n",
    "V_r_1, V_l_1"
   ]
  },
  {
   "cell_type": "markdown",
   "metadata": {},
   "source": [
    "Positions of $U^\\urcorner_0$ and $V^\\dashv_0$ "
   ]
  },
  {
   "cell_type": "code",
   "execution_count": 7,
   "metadata": {},
   "outputs": [],
   "source": [
    "UV_r_0 = V_r_0 - U_ur_0"
   ]
  },
  {
   "cell_type": "markdown",
   "metadata": {},
   "source": [
    "## Scalar product between the vetors $OU^\\urcorner$ and $OV^\\dashv$."
   ]
  },
  {
   "cell_type": "markdown",
   "metadata": {},
   "source": [
    "Express the lengths $|OU^{\\urcorner}|$ and $|U^{\\urcorner}V^\\dashv|$ in initial state"
   ]
  },
  {
   "cell_type": "code",
   "execution_count": 8,
   "metadata": {},
   "outputs": [
    {
     "data": {
      "image/png": "[encoded data removed]",
      "text/latex": [
       "$\\displaystyle \\left[\\begin{matrix}a c\\end{matrix}\\right]$"
      ],
      "text/plain": [
       "[a⋅c]"
      ]
     },
     "execution_count": 8,
     "metadata": {},
     "output_type": "execute_result"
    }
   ],
   "source": [
    "X_UOV_r_0 = U_ur_0.T * V_r_0\n",
    "X_UOV_r_0"
   ]
  },
  {
   "cell_type": "code",
   "execution_count": 9,
   "metadata": {},
   "outputs": [
    {
     "data": {
      "image/png": "[encoded data removed]",
      "text/latex": [
       "$\\displaystyle \\left[\\begin{matrix}c x^{\\urcorner} \\sin{\\left(\\gamma \\right)} + c z^{\\urcorner} \\cos{\\left(\\gamma \\right)}\\end{matrix}\\right]$"
      ],
      "text/plain": [
       "[c⋅x__{\\urcorner}⋅sin(γ) + c⋅z__{\\urcorner}⋅cos(γ)]"
      ]
     },
     "execution_count": 9,
     "metadata": {},
     "output_type": "execute_result"
    }
   ],
   "source": [
    "X_UOV_r_1 = U_ur_1.T * V_r_1\n",
    "X_UOV_r_1"
   ]
  },
  {
   "cell_type": "code",
   "execution_count": 10,
   "metadata": {},
   "outputs": [
    {
     "data": {
      "image/png": "[encoded data removed]",
      "text/latex": [
       "$\\displaystyle a c = c x^{\\urcorner} \\sin{\\left(\\gamma \\right)} + c z^{\\urcorner} \\cos{\\left(\\gamma \\right)}$"
      ],
      "text/plain": [
       "a⋅c = c⋅x__{\\urcorner}⋅sin(γ) + c⋅z__{\\urcorner}⋅cos(γ)"
      ]
     },
     "execution_count": 10,
     "metadata": {},
     "output_type": "execute_result"
    }
   ],
   "source": [
    "Eq_UOV_r = sp.Eq( X_UOV_r_0[0], X_UOV_r_1[0])\n",
    "Eq_UOV_r"
   ]
  },
  {
   "cell_type": "markdown",
   "metadata": {},
   "source": [
    "## Scalar product between $U^\\urcorner V^\\dashv$ and $U^{\\urcorner}O$"
   ]
  },
  {
   "cell_type": "code",
   "execution_count": 11,
   "metadata": {},
   "outputs": [
    {
     "data": {
      "image/png": "[encoded data removed]",
      "text/latex": [
       "$\\displaystyle \\left[\\begin{matrix}- a \\left(- a + c\\right) + b^{2}\\end{matrix}\\right]$"
      ],
      "text/plain": [
       "⎡               2⎤\n",
       "⎣-a⋅(-a + c) + b ⎦"
      ]
     },
     "execution_count": 11,
     "metadata": {},
     "output_type": "execute_result"
    }
   ],
   "source": [
    "X_VUO_r_0 = (V_r_0 - U_ur_0).T * (-U_ur_0)\n",
    "X_VUO_r_0"
   ]
  },
  {
   "cell_type": "code",
   "execution_count": 12,
   "metadata": {},
   "outputs": [
    {
     "data": {
      "image/png": "[encoded data removed]",
      "text/latex": [
       "$\\displaystyle \\left[\\begin{matrix}- x^{\\urcorner} \\left(c \\sin{\\left(\\gamma \\right)} - x^{\\urcorner}\\right) + \\left(y^{\\urcorner}\\right)^{2} - z^{\\urcorner} \\left(c \\cos{\\left(\\gamma \\right)} - z^{\\urcorner}\\right)\\end{matrix}\\right]$"
      ],
      "text/plain": [
       "⎡                                                            2                \n",
       "⎣-x__{\\urcorner}⋅(c⋅sin(γ) - x__{\\urcorner}) + y__{\\urcorner}  - z__{\\urcorner\n",
       "\n",
       "                             ⎤\n",
       "}⋅(c⋅cos(γ) - z__{\\urcorner})⎦"
      ]
     },
     "execution_count": 12,
     "metadata": {},
     "output_type": "execute_result"
    }
   ],
   "source": [
    "X_VUO_r_1 = (V_r_1 - U_ur_1).T * (-U_ur_1)\n",
    "X_VUO_r_1"
   ]
  },
  {
   "cell_type": "code",
   "execution_count": 13,
   "metadata": {},
   "outputs": [
    {
     "data": {
      "image/png": "[encoded data removed]",
      "text/latex": [
       "$\\displaystyle a \\left(- a + c\\right) - b^{2} = x^{\\urcorner} \\left(c \\sin{\\left(\\gamma \\right)} - x^{\\urcorner}\\right) - \\left(y^{\\urcorner}\\right)^{2} + z^{\\urcorner} \\left(c \\cos{\\left(\\gamma \\right)} - z^{\\urcorner}\\right)$"
      ],
      "text/plain": [
       "              2                                                              2\n",
       "a⋅(-a + c) - b  = x__{\\urcorner}⋅(c⋅sin(γ) - x__{\\urcorner}) - y__{\\urcorner} \n",
       "\n",
       "                                             \n",
       " + z__{\\urcorner}⋅(c⋅cos(γ) - z__{\\urcorner})"
      ]
     },
     "execution_count": 13,
     "metadata": {},
     "output_type": "execute_result"
    }
   ],
   "source": [
    "Eq_VUO_r = sp.Eq( -X_VUO_r_0[0], -X_VUO_r_1[0])\n",
    "Eq_VUO_r"
   ]
  },
  {
   "cell_type": "code",
   "execution_count": 14,
   "metadata": {},
   "outputs": [],
   "source": [
    "yz_ur_sol1, yz_ur_sol2 = sp.solve({Eq_UOV_r, Eq_VUO_r}, [y_ur, z_ur])"
   ]
  },
  {
   "cell_type": "code",
   "execution_count": 15,
   "metadata": {},
   "outputs": [
    {
     "data": {
      "image/png": "[encoded data removed]",
      "text/latex": [
       "$\\displaystyle \\left( \\sqrt{\\frac{- a^{2} + 2 a x^{\\urcorner} \\sin{\\left(\\gamma \\right)} - \\left(x^{\\urcorner}\\right)^{2} + \\left(a^{2} + b^{2}\\right) \\cos^{2}{\\left(\\gamma \\right)}}{\\cos^{2}{\\left(\\gamma \\right)}}}, \\  \\frac{a - x^{\\urcorner} \\sin{\\left(\\gamma \\right)}}{\\cos{\\left(\\gamma \\right)}}\\right)$"
      ],
      "text/plain": [
       "⎛      _______________________________________________________________________\n",
       "⎜     ╱    2                                             2   ⎛ 2    2⎞    2   \n",
       "⎜    ╱  - a  + 2⋅a⋅x__{\\urcorner}⋅sin(γ) - x__{\\urcorner}  + ⎝a  + b ⎠⋅cos (γ)\n",
       "⎜   ╱   ──────────────────────────────────────────────────────────────────────\n",
       "⎜  ╱                                      2                                   \n",
       "⎝╲╱                                    cos (γ)                                \n",
       "\n",
       "_                           ⎞\n",
       "                            ⎟\n",
       "   a - x__{\\urcorner}⋅sin(γ)⎟\n",
       " , ─────────────────────────⎟\n",
       "             cos(γ)         ⎟\n",
       "                            ⎠"
      ]
     },
     "execution_count": 15,
     "metadata": {},
     "output_type": "execute_result"
    }
   ],
   "source": [
    "yz_ur_sol1"
   ]
  },
  {
   "cell_type": "code",
   "execution_count": 16,
   "metadata": {},
   "outputs": [],
   "source": [
    "y_ur_sol, z_ur_sol = yz_ur_sol1"
   ]
  },
  {
   "cell_type": "markdown",
   "metadata": {},
   "source": [
    "## Solved for $U^\\urcorner$ with $x^\\urcorner$ as a free parameter"
   ]
  },
  {
   "cell_type": "code",
   "execution_count": 33,
   "metadata": {},
   "outputs": [
    {
     "data": {
      "image/png": "[encoded data removed]",
      "text/latex": [
       "$\\displaystyle \\left[\\begin{matrix}x^{\\urcorner}\\\\\\sqrt{\\frac{- a^{2} + 2 a x^{\\urcorner} \\sin{\\left(\\gamma \\right)} - \\left(x^{\\urcorner}\\right)^{2} + \\left(a^{2} + b^{2}\\right) \\cos^{2}{\\left(\\gamma \\right)}}{\\cos^{2}{\\left(\\gamma \\right)}}}\\\\\\frac{a - x^{\\urcorner} \\sin{\\left(\\gamma \\right)}}{\\cos{\\left(\\gamma \\right)}}\\end{matrix}\\right]$"
      ],
      "text/plain": [
       "⎡                                x__{\\urcorner}                               \n",
       "⎢                                                                             \n",
       "⎢      _______________________________________________________________________\n",
       "⎢     ╱    2                                             2   ⎛ 2    2⎞    2   \n",
       "⎢    ╱  - a  + 2⋅a⋅x__{\\urcorner}⋅sin(γ) - x__{\\urcorner}  + ⎝a  + b ⎠⋅cos (γ)\n",
       "⎢   ╱   ──────────────────────────────────────────────────────────────────────\n",
       "⎢  ╱                                      2                                   \n",
       "⎢╲╱                                    cos (γ)                                \n",
       "⎢                                                                             \n",
       "⎢                          a - x__{\\urcorner}⋅sin(γ)                          \n",
       "⎢                          ─────────────────────────                          \n",
       "⎣                                    cos(γ)                                   \n",
       "\n",
       " ⎤\n",
       " ⎥\n",
       "_⎥\n",
       " ⎥\n",
       " ⎥\n",
       " ⎥\n",
       " ⎥\n",
       " ⎥\n",
       " ⎥\n",
       " ⎥\n",
       " ⎥\n",
       " ⎦"
      ]
     },
     "execution_count": 33,
     "metadata": {},
     "output_type": "execute_result"
    }
   ],
   "source": [
    "U_ur_x = sp.Matrix([x_ur, y_ur_sol, z_ur_sol])\n",
    "U_ur_x"
   ]
  },
  {
   "cell_type": "markdown",
   "metadata": {},
   "source": [
    "## Scalar product between $OU^\\ulcorner$ and $OV^\\vdash$"
   ]
  },
  {
   "cell_type": "code",
   "execution_count": 34,
   "metadata": {},
   "outputs": [
    {
     "data": {
      "image/png": "[encoded data removed]",
      "text/latex": [
       "$\\displaystyle \\left[\\begin{matrix}- a c\\end{matrix}\\right]$"
      ],
      "text/plain": [
       "[-a⋅c]"
      ]
     },
     "execution_count": 34,
     "metadata": {},
     "output_type": "execute_result"
    }
   ],
   "source": [
    "X_VOU_0 = (U_ul_0).T * (V_r_0)\n",
    "X_VOU_0"
   ]
  },
  {
   "cell_type": "code",
   "execution_count": 35,
   "metadata": {},
   "outputs": [
    {
     "data": {
      "image/png": "[encoded data removed]",
      "text/latex": [
       "$\\displaystyle \\left[\\begin{matrix}c x^{\\ulcorner} \\sin{\\left(\\gamma \\right)} + c z^{\\ulcorner} \\cos{\\left(\\gamma \\right)}\\end{matrix}\\right]$"
      ],
      "text/plain": [
       "[c⋅x__{\\ulcorner}⋅sin(γ) + c⋅z__{\\ulcorner}⋅cos(γ)]"
      ]
     },
     "execution_count": 35,
     "metadata": {},
     "output_type": "execute_result"
    }
   ],
   "source": [
    "X_VOU_1 = (U_ul_1).T * (V_r_1)\n",
    "X_VOU_1"
   ]
  },
  {
   "cell_type": "code",
   "execution_count": 36,
   "metadata": {},
   "outputs": [
    {
     "data": {
      "image/png": "[encoded data removed]",
      "text/latex": [
       "$\\displaystyle - a c = c x^{\\ulcorner} \\sin{\\left(\\gamma \\right)} + c z^{\\ulcorner} \\cos{\\left(\\gamma \\right)}$"
      ],
      "text/plain": [
       "-a⋅c = c⋅x__{\\ulcorner}⋅sin(γ) + c⋅z__{\\ulcorner}⋅cos(γ)"
      ]
     },
     "execution_count": 36,
     "metadata": {},
     "output_type": "execute_result"
    }
   ],
   "source": [
    "Eq_VOU_l = sp.Eq(X_VOU_0[0], X_VOU_1[0])\n",
    "Eq_VOU_l"
   ]
  },
  {
   "cell_type": "code",
   "execution_count": 37,
   "metadata": {},
   "outputs": [
    {
     "data": {
      "image/png": "[encoded data removed]",
      "text/latex": [
       "$\\displaystyle - \\frac{a + x^{\\ulcorner} \\sin{\\left(\\gamma \\right)}}{\\cos{\\left(\\gamma \\right)}}$"
      ],
      "text/plain": [
       "-(a + x__{\\ulcorner}⋅sin(γ)) \n",
       "─────────────────────────────\n",
       "            cos(γ)           "
      ]
     },
     "execution_count": 37,
     "metadata": {},
     "output_type": "execute_result"
    }
   ],
   "source": [
    "z_ul_sol = sp.solve(Eq_VOU_l, z_ul)[0]\n",
    "z_ul_sol"
   ]
  },
  {
   "cell_type": "code",
   "execution_count": 38,
   "metadata": {},
   "outputs": [],
   "source": [
    "U_ul_xy = U_ul_1.subs(z_ul, z_ul_sol)"
   ]
  },
  {
   "cell_type": "markdown",
   "metadata": {},
   "source": [
    "## Scalar product between $U^\\ulcorner V^\\vdash$ and $U^{\\ulcorner}O$"
   ]
  },
  {
   "cell_type": "code",
   "execution_count": 39,
   "metadata": {},
   "outputs": [
    {
     "data": {
      "image/png": "[encoded data removed]",
      "text/latex": [
       "$\\displaystyle \\left[\\begin{matrix}a \\left(a - c\\right) + b^{2}\\end{matrix}\\right]$"
      ],
      "text/plain": [
       "⎡             2⎤\n",
       "⎣a⋅(a - c) + b ⎦"
      ]
     },
     "execution_count": 39,
     "metadata": {},
     "output_type": "execute_result"
    }
   ],
   "source": [
    "X_VUO_l_0 = (V_l_0 - U_ul_0).T * (-U_ul_0)\n",
    "X_VUO_l_0"
   ]
  },
  {
   "cell_type": "code",
   "execution_count": 40,
   "metadata": {},
   "outputs": [
    {
     "data": {
      "image/png": "[encoded data removed]",
      "text/latex": [
       "$\\displaystyle \\left[\\begin{matrix}- x^{\\ulcorner} \\left(- c \\sin{\\left(\\gamma \\right)} - x^{\\ulcorner}\\right) + \\left(y^{\\ulcorner}\\right)^{2} + \\frac{\\left(a + x^{\\ulcorner} \\sin{\\left(\\gamma \\right)}\\right) \\left(c \\cos{\\left(\\gamma \\right)} + \\frac{a + x^{\\ulcorner} \\sin{\\left(\\gamma \\right)}}{\\cos{\\left(\\gamma \\right)}}\\right)}{\\cos{\\left(\\gamma \\right)}}\\end{matrix}\\right]$"
      ],
      "text/plain": [
       "⎡                                                                             \n",
       "⎢                                                                 (a + x__{\\ul\n",
       "⎢                                                             2               \n",
       "⎢-x__{\\ulcorner}⋅(-c⋅sin(γ) - x__{\\ulcorner}) + y__{\\ulcorner}  + ────────────\n",
       "⎣                                                                             \n",
       "\n",
       "                ⎛           a + x__{\\ulcorner}⋅sin(γ)⎞⎤\n",
       "corner}⋅sin(γ))⋅⎜c⋅cos(γ) + ─────────────────────────⎟⎥\n",
       "                ⎝                     cos(γ)         ⎠⎥\n",
       "──────────────────────────────────────────────────────⎥\n",
       "                  cos(γ)                              ⎦"
      ]
     },
     "execution_count": 40,
     "metadata": {},
     "output_type": "execute_result"
    }
   ],
   "source": [
    "X_VUO_l_1 = (V_l_1 - U_ul_xy).T * (-U_ul_xy)\n",
    "X_VUO_l_1"
   ]
  },
  {
   "cell_type": "code",
   "execution_count": 41,
   "metadata": {},
   "outputs": [
    {
     "data": {
      "image/png": "[encoded data removed]",
      "text/latex": [
       "$\\displaystyle - a \\left(a - c\\right) - b^{2} = x^{\\ulcorner} \\left(- c \\sin{\\left(\\gamma \\right)} - x^{\\ulcorner}\\right) - \\left(y^{\\ulcorner}\\right)^{2} - \\frac{\\left(a + x^{\\ulcorner} \\sin{\\left(\\gamma \\right)}\\right) \\left(c \\cos{\\left(\\gamma \\right)} + \\frac{a + x^{\\ulcorner} \\sin{\\left(\\gamma \\right)}}{\\cos{\\left(\\gamma \\right)}}\\right)}{\\cos{\\left(\\gamma \\right)}}$"
      ],
      "text/plain": [
       "                                                                              \n",
       "                                                                              \n",
       "              2                                                               \n",
       "-a⋅(a - c) - b  = x__{\\ulcorner}⋅(-c⋅sin(γ) - x__{\\ulcorner}) - y__{\\ulcorner}\n",
       "                                                                              \n",
       "\n",
       "                                ⎛           a + x__{\\ulcorner}⋅sin(γ)⎞\n",
       "    (a + x__{\\ulcorner}⋅sin(γ))⋅⎜c⋅cos(γ) + ─────────────────────────⎟\n",
       "2                               ⎝                     cos(γ)         ⎠\n",
       "  - ──────────────────────────────────────────────────────────────────\n",
       "                                  cos(γ)                              "
      ]
     },
     "execution_count": 41,
     "metadata": {},
     "output_type": "execute_result"
    }
   ],
   "source": [
    "Eq_VUO_l = sp.Eq( -X_VUO_l_0[0], -X_VUO_l_1[0])\n",
    "Eq_VUO_l"
   ]
  },
  {
   "cell_type": "code",
   "execution_count": 42,
   "metadata": {},
   "outputs": [
    {
     "data": {
      "image/png": "[encoded data removed]",
      "text/latex": [
       "$\\displaystyle \\left( - \\frac{\\sqrt{a^{2} \\cos^{2}{\\left(\\gamma \\right)} - a^{2} - 2 a c \\cos^{2}{\\left(\\gamma \\right)} - 2 a x^{\\ulcorner} \\sin{\\left(\\gamma \\right)} + b^{2} \\cos^{2}{\\left(\\gamma \\right)} + 2 c x^{\\ulcorner} \\sin^{3}{\\left(\\gamma \\right)} - 2 c x^{\\ulcorner} \\sin{\\left(\\gamma \\right)} - \\left(x^{\\ulcorner}\\right)^{2}}}{\\cos{\\left(\\gamma \\right)}}, \\  \\frac{\\sqrt{a^{2} \\cos^{2}{\\left(\\gamma \\right)} - a^{2} - 2 a c \\cos^{2}{\\left(\\gamma \\right)} - 2 a x^{\\ulcorner} \\sin{\\left(\\gamma \\right)} + b^{2} \\cos^{2}{\\left(\\gamma \\right)} + 2 c x^{\\ulcorner} \\sin^{3}{\\left(\\gamma \\right)} - 2 c x^{\\ulcorner} \\sin{\\left(\\gamma \\right)} - \\left(x^{\\ulcorner}\\right)^{2}}}{\\cos{\\left(\\gamma \\right)}}\\right)$"
      ],
      "text/plain": [
       "⎛    _________________________________________________________________________\n",
       "⎜   ╱  2    2       2            2                                   2    2   \n",
       "⎜-╲╱  a ⋅cos (γ) - a  - 2⋅a⋅c⋅cos (γ) - 2⋅a⋅x__{\\ulcorner}⋅sin(γ) + b ⋅cos (γ)\n",
       "⎜─────────────────────────────────────────────────────────────────────────────\n",
       "⎝                                                                          cos\n",
       "\n",
       "____________________________________________________________________________  \n",
       "                         3                                                2   \n",
       " + 2⋅c⋅x__{\\ulcorner}⋅sin (γ) - 2⋅c⋅x__{\\ulcorner}⋅sin(γ) - x__{\\ulcorner}    \n",
       "─────────────────────────────────────────────────────────────────────────────,\n",
       "(γ)                                                                           \n",
       "\n",
       "    __________________________________________________________________________\n",
       "   ╱  2    2       2            2                                   2    2    \n",
       " ╲╱  a ⋅cos (γ) - a  - 2⋅a⋅c⋅cos (γ) - 2⋅a⋅x__{\\ulcorner}⋅sin(γ) + b ⋅cos (γ) \n",
       " ─────────────────────────────────────────────────────────────────────────────\n",
       "                                                                          cos(\n",
       "\n",
       "___________________________________________________________________________⎞\n",
       "                        3                                                2 ⎟\n",
       "+ 2⋅c⋅x__{\\ulcorner}⋅sin (γ) - 2⋅c⋅x__{\\ulcorner}⋅sin(γ) - x__{\\ulcorner}  ⎟\n",
       "───────────────────────────────────────────────────────────────────────────⎟\n",
       "γ)                                                                         ⎠"
      ]
     },
     "execution_count": 42,
     "metadata": {},
     "output_type": "execute_result"
    }
   ],
   "source": [
    "y_ul_sol_1, y_ul_sol_2 = sp.solve(Eq_VUO_l, y_ul)\n",
    "y_ul_sol_1, y_ul_sol_2"
   ]
  },
  {
   "cell_type": "code",
   "execution_count": 43,
   "metadata": {},
   "outputs": [
    {
     "data": {
      "image/png": "[encoded data removed]",
      "text/latex": [
       "$\\displaystyle \\left[\\begin{matrix}x^{\\ulcorner}\\\\\\frac{\\sqrt{a^{2} \\cos^{2}{\\left(\\gamma \\right)} - a^{2} - 2 a c \\cos^{2}{\\left(\\gamma \\right)} - 2 a x^{\\ulcorner} \\sin{\\left(\\gamma \\right)} + b^{2} \\cos^{2}{\\left(\\gamma \\right)} + 2 c x^{\\ulcorner} \\sin^{3}{\\left(\\gamma \\right)} - 2 c x^{\\ulcorner} \\sin{\\left(\\gamma \\right)} - \\left(x^{\\ulcorner}\\right)^{2}}}{\\cos{\\left(\\gamma \\right)}}\\\\- \\frac{a + x^{\\ulcorner} \\sin{\\left(\\gamma \\right)}}{\\cos{\\left(\\gamma \\right)}}\\end{matrix}\\right]$"
      ],
      "text/plain": [
       "⎡                                                                     x__{\\ulc\n",
       "⎢                                                                             \n",
       "⎢   __________________________________________________________________________\n",
       "⎢  ╱  2    2       2            2                                   2    2    \n",
       "⎢╲╱  a ⋅cos (γ) - a  - 2⋅a⋅c⋅cos (γ) - 2⋅a⋅x__{\\ulcorner}⋅sin(γ) + b ⋅cos (γ) \n",
       "⎢─────────────────────────────────────────────────────────────────────────────\n",
       "⎢                                                                         cos(\n",
       "⎢                                                                             \n",
       "⎢                                                             -(a + x__{\\ulcor\n",
       "⎢                                                             ────────────────\n",
       "⎣                                                                         cos(\n",
       "\n",
       "orner}                                                                     ⎤\n",
       "                                                                           ⎥\n",
       "___________________________________________________________________________⎥\n",
       "                        3                                                2 ⎥\n",
       "+ 2⋅c⋅x__{\\ulcorner}⋅sin (γ) - 2⋅c⋅x__{\\ulcorner}⋅sin(γ) - x__{\\ulcorner}  ⎥\n",
       "───────────────────────────────────────────────────────────────────────────⎥\n",
       "γ)                                                                         ⎥\n",
       "                                                                           ⎥\n",
       "ner}⋅sin(γ))                                                               ⎥\n",
       "─────────────                                                              ⎥\n",
       "γ)                                                                         ⎦"
      ]
     },
     "execution_count": 43,
     "metadata": {},
     "output_type": "execute_result"
    }
   ],
   "source": [
    "U_ul_x = U_ul_xy.subs(y_ul, y_ul_sol_2)\n",
    "U_ul_x"
   ]
  },
  {
   "cell_type": "markdown",
   "metadata": {},
   "source": [
    "## Scalar product between $OU^\\ulcorner$ and $OU^\\urcorner$"
   ]
  },
  {
   "cell_type": "code",
   "execution_count": 44,
   "metadata": {},
   "outputs": [
    {
     "data": {
      "image/png": "[encoded data removed]",
      "text/latex": [
       "$\\displaystyle \\left[\\begin{matrix}- a^{2} + b^{2}\\end{matrix}\\right]$"
      ],
      "text/plain": [
       "⎡   2    2⎤\n",
       "⎣- a  + b ⎦"
      ]
     },
     "execution_count": 44,
     "metadata": {},
     "output_type": "execute_result"
    }
   ],
   "source": [
    "X_UOU_0 = (U_ul_0).T * (U_ur_0)\n",
    "X_UOU_0"
   ]
  },
  {
   "cell_type": "code",
   "execution_count": 45,
   "metadata": {},
   "outputs": [
    {
     "data": {
      "image/png": "[encoded data removed]",
      "text/latex": [
       "$\\displaystyle \\left[\\begin{matrix}x^{\\ulcorner} x^{\\urcorner} + \\frac{\\sqrt{\\frac{- a^{2} + 2 a x^{\\urcorner} \\sin{\\left(\\gamma \\right)} - \\left(x^{\\urcorner}\\right)^{2} + \\left(a^{2} + b^{2}\\right) \\cos^{2}{\\left(\\gamma \\right)}}{\\cos^{2}{\\left(\\gamma \\right)}}} \\sqrt{a^{2} \\cos^{2}{\\left(\\gamma \\right)} - a^{2} - 2 a c \\cos^{2}{\\left(\\gamma \\right)} - 2 a x^{\\ulcorner} \\sin{\\left(\\gamma \\right)} + b^{2} \\cos^{2}{\\left(\\gamma \\right)} + 2 c x^{\\ulcorner} \\sin^{3}{\\left(\\gamma \\right)} - 2 c x^{\\ulcorner} \\sin{\\left(\\gamma \\right)} - \\left(x^{\\ulcorner}\\right)^{2}}}{\\cos{\\left(\\gamma \\right)}} - \\frac{\\left(a + x^{\\ulcorner} \\sin{\\left(\\gamma \\right)}\\right) \\left(a - x^{\\urcorner} \\sin{\\left(\\gamma \\right)}\\right)}{\\cos^{2}{\\left(\\gamma \\right)}}\\end{matrix}\\right]$"
      ],
      "text/plain": [
       "⎡                                      _______________________________________\n",
       "⎢                                     ╱    2                                  \n",
       "⎢                                    ╱  - a  + 2⋅a⋅x__{\\urcorner}⋅sin(γ) - x__\n",
       "⎢                                   ╱   ──────────────────────────────────────\n",
       "⎢                                  ╱                                      2   \n",
       "⎢                                ╲╱                                    cos (γ)\n",
       "⎢x__{\\ulcorner}⋅x__{\\urcorner} + ─────────────────────────────────────────────\n",
       "⎢                                                                             \n",
       "⎣                                                                             \n",
       "\n",
       "_________________________________                                             \n",
       "           2   ⎛ 2    2⎞    2        _________________________________________\n",
       "{\\urcorner}  + ⎝a  + b ⎠⋅cos (γ)    ╱  2    2       2            2            \n",
       "──────────────────────────────── ⋅╲╱  a ⋅cos (γ) - a  - 2⋅a⋅c⋅cos (γ) - 2⋅a⋅x_\n",
       "                                                                              \n",
       "                                                                              \n",
       "──────────────────────────────────────────────────────────────────────────────\n",
       "                                                                    cos(γ)    \n",
       "                                                                              \n",
       "\n",
       "                                                                              \n",
       "______________________________________________________________________________\n",
       "                       2    2                            3                    \n",
       "_{\\ulcorner}⋅sin(γ) + b ⋅cos (γ) + 2⋅c⋅x__{\\ulcorner}⋅sin (γ) - 2⋅c⋅x__{\\ulcor\n",
       "                                                                              \n",
       "                                                                              \n",
       "──────────────────────────────────────────────────────────────────────────────\n",
       "                                                                              \n",
       "                                                                              \n",
       "\n",
       "                                                                              \n",
       "______________________________                                                \n",
       "                            2                                                 \n",
       "ner}⋅sin(γ) - x__{\\ulcorner}                                                  \n",
       "                                                                              \n",
       "                                 (a + x__{\\ulcorner}⋅sin(γ))⋅(a - x__{\\urcorne\n",
       "────────────────────────────── - ─────────────────────────────────────────────\n",
       "                                                            2                 \n",
       "                                                         cos (γ)              \n",
       "\n",
       "          ⎤\n",
       "          ⎥\n",
       "          ⎥\n",
       "          ⎥\n",
       "          ⎥\n",
       "r}⋅sin(γ))⎥\n",
       "──────────⎥\n",
       "          ⎥\n",
       "          ⎦"
      ]
     },
     "execution_count": 45,
     "metadata": {},
     "output_type": "execute_result"
    }
   ],
   "source": [
    "X_UOU_1 = (U_ul_x).T * (U_ur_x)\n",
    "X_UOU_1"
   ]
  },
  {
   "cell_type": "code",
   "execution_count": 46,
   "metadata": {},
   "outputs": [
    {
     "data": {
      "image/png": "[encoded data removed]",
      "text/latex": [
       "$\\displaystyle - a^{2} + b^{2} = x^{\\ulcorner} x^{\\urcorner} + \\frac{\\sqrt{\\frac{- a^{2} + 2 a x^{\\urcorner} \\sin{\\left(\\gamma \\right)} - \\left(x^{\\urcorner}\\right)^{2} + \\left(a^{2} + b^{2}\\right) \\cos^{2}{\\left(\\gamma \\right)}}{\\cos^{2}{\\left(\\gamma \\right)}}} \\sqrt{a^{2} \\cos^{2}{\\left(\\gamma \\right)} - a^{2} - 2 a c \\cos^{2}{\\left(\\gamma \\right)} - 2 a x^{\\ulcorner} \\sin{\\left(\\gamma \\right)} + b^{2} \\cos^{2}{\\left(\\gamma \\right)} + 2 c x^{\\ulcorner} \\sin^{3}{\\left(\\gamma \\right)} - 2 c x^{\\ulcorner} \\sin{\\left(\\gamma \\right)} - \\left(x^{\\ulcorner}\\right)^{2}}}{\\cos{\\left(\\gamma \\right)}} - \\frac{\\left(a + x^{\\ulcorner} \\sin{\\left(\\gamma \\right)}\\right) \\left(a - x^{\\urcorner} \\sin{\\left(\\gamma \\right)}\\right)}{\\cos^{2}{\\left(\\gamma \\right)}}$"
      ],
      "text/plain": [
       "                                                  ____________________________\n",
       "                                                 ╱    2                       \n",
       "                                                ╱  - a  + 2⋅a⋅x__{\\urcorner}⋅s\n",
       "                                               ╱   ───────────────────────────\n",
       "                                              ╱                               \n",
       "   2    2                                   ╲╱                                \n",
       "- a  + b  = x__{\\ulcorner}⋅x__{\\urcorner} + ──────────────────────────────────\n",
       "                                                                              \n",
       "                                                                              \n",
       "\n",
       "____________________________________________                                  \n",
       "                      2   ⎛ 2    2⎞    2        ______________________________\n",
       "in(γ) - x__{\\urcorner}  + ⎝a  + b ⎠⋅cos (γ)    ╱  2    2       2            2 \n",
       "─────────────────────────────────────────── ⋅╲╱  a ⋅cos (γ) - a  - 2⋅a⋅c⋅cos (\n",
       "       2                                                                      \n",
       "    cos (γ)                                                                   \n",
       "──────────────────────────────────────────────────────────────────────────────\n",
       "                                                                              \n",
       "                                                                              \n",
       "\n",
       "                                                                              \n",
       "______________________________________________________________________________\n",
       "                                  2    2                            3         \n",
       "γ) - 2⋅a⋅x__{\\ulcorner}⋅sin(γ) + b ⋅cos (γ) + 2⋅c⋅x__{\\ulcorner}⋅sin (γ) - 2⋅c\n",
       "                                                                              \n",
       "                                                                              \n",
       "──────────────────────────────────────────────────────────────────────────────\n",
       " cos(γ)                                                                       \n",
       "                                                                              \n",
       "\n",
       "                                                                              \n",
       "_________________________________________                                     \n",
       "                                       2                                      \n",
       "⋅x__{\\ulcorner}⋅sin(γ) - x__{\\ulcorner}                                       \n",
       "                                                                              \n",
       "                                            (a + x__{\\ulcorner}⋅sin(γ))⋅(a - x\n",
       "───────────────────────────────────────── - ──────────────────────────────────\n",
       "                                                                       2      \n",
       "                                                                    cos (γ)   \n",
       "\n",
       "                     \n",
       "                     \n",
       "                     \n",
       "                     \n",
       "                     \n",
       "__{\\urcorner}⋅sin(γ))\n",
       "─────────────────────\n",
       "                     \n",
       "                     "
      ]
     },
     "execution_count": 46,
     "metadata": {},
     "output_type": "execute_result"
    }
   ],
   "source": [
    "Eq_UOU = sp.Eq(X_UOU_0[0], X_UOU_1[0])\n",
    "Eq_UOU"
   ]
  },
  {
   "cell_type": "code",
   "execution_count": 58,
   "metadata": {},
   "outputs": [],
   "source": [
    "x_ur_sol1_pi3, x_ur_sol2_pi3 = sp.solve( Eq_UOU.subs( gamma, sp.pi/3 ), x_ur)"
   ]
  },
  {
   "cell_type": "code",
   "execution_count": 59,
   "metadata": {},
   "outputs": [
    {
     "data": {
      "image/png": "[encoded data removed]",
      "text/latex": [
       "$\\displaystyle \\frac{\\sqrt{3} a^{2} c - \\sqrt{3} a b^{2} + \\frac{3 a c x^{\\ulcorner}}{2} - b^{2} x^{\\ulcorner} - \\frac{b \\sqrt{c} \\sqrt{6 a^{3} + 4 a^{2} c + 11 \\sqrt{3} a^{2} x^{\\ulcorner} - 2 a b^{2} + 4 \\sqrt{3} a c x^{\\ulcorner} + 20 a \\left(x^{\\ulcorner}\\right)^{2} - \\sqrt{3} b^{2} x^{\\ulcorner} + 3 c \\left(x^{\\ulcorner}\\right)^{2} + 4 \\sqrt{3} \\left(x^{\\ulcorner}\\right)^{3}}}{2}}{2 a c - b^{2} + \\sqrt{3} c x^{\\ulcorner}}$"
      ],
      "text/plain": [
       "                                                                       _______\n",
       "                                                                      ╱    3  \n",
       "    2           2   3⋅a⋅c⋅x__{\\ulcorner}    2                  b⋅√c⋅╲╱  6⋅a  +\n",
       "√3⋅a ⋅c - √3⋅a⋅b  + ──────────────────── - b ⋅x__{\\ulcorner} - ───────────────\n",
       "                             2                                                \n",
       "──────────────────────────────────────────────────────────────────────────────\n",
       "                                                                              \n",
       "                                                                              \n",
       "\n",
       "______________________________________________________________________________\n",
       "    2            2                       2                                    \n",
       " 4⋅a ⋅c + 11⋅√3⋅a ⋅x__{\\ulcorner} - 2⋅a⋅b  + 4⋅√3⋅a⋅c⋅x__{\\ulcorner} + 20⋅a⋅x_\n",
       "──────────────────────────────────────────────────────────────────────────────\n",
       "                                                                        2     \n",
       "──────────────────────────────────────────────────────────────────────────────\n",
       "                                  2                                           \n",
       "                         2⋅a⋅c - b  + √3⋅c⋅x__{\\ulcorner}                     \n",
       "\n",
       "______________________________________________________________________________\n",
       "            2       2                                    2                    \n",
       "_{\\ulcorner}  - √3⋅b ⋅x__{\\ulcorner} + 3⋅c⋅x__{\\ulcorner}  + 4⋅√3⋅x__{\\ulcorne\n",
       "──────────────────────────────────────────────────────────────────────────────\n",
       "                                                                              \n",
       "──────────────────────────────────────────────────────────────────────────────\n",
       "                                                                              \n",
       "                                                                              \n",
       "\n",
       "____\n",
       "  3 \n",
       "r}  \n",
       "────\n",
       "    \n",
       "────\n",
       "    \n",
       "    "
      ]
     },
     "execution_count": 59,
     "metadata": {},
     "output_type": "execute_result"
    }
   ],
   "source": [
    "x_ur_sol1_pi3"
   ]
  },
  {
   "cell_type": "code",
   "execution_count": 60,
   "metadata": {},
   "outputs": [
    {
     "data": {
      "image/png": "[encoded data removed]",
      "text/latex": [
       "$\\displaystyle \\frac{\\sqrt{3} a^{2} c - \\sqrt{3} a b^{2} + \\frac{3 a c x^{\\ulcorner}}{2} - b^{2} x^{\\ulcorner} + \\frac{b \\sqrt{c} \\sqrt{6 a^{3} + 4 a^{2} c + 11 \\sqrt{3} a^{2} x^{\\ulcorner} - 2 a b^{2} + 4 \\sqrt{3} a c x^{\\ulcorner} + 20 a \\left(x^{\\ulcorner}\\right)^{2} - \\sqrt{3} b^{2} x^{\\ulcorner} + 3 c \\left(x^{\\ulcorner}\\right)^{2} + 4 \\sqrt{3} \\left(x^{\\ulcorner}\\right)^{3}}}{2}}{2 a c - b^{2} + \\sqrt{3} c x^{\\ulcorner}}$"
      ],
      "text/plain": [
       "                                                                       _______\n",
       "                                                                      ╱    3  \n",
       "    2           2   3⋅a⋅c⋅x__{\\ulcorner}    2                  b⋅√c⋅╲╱  6⋅a  +\n",
       "√3⋅a ⋅c - √3⋅a⋅b  + ──────────────────── - b ⋅x__{\\ulcorner} + ───────────────\n",
       "                             2                                                \n",
       "──────────────────────────────────────────────────────────────────────────────\n",
       "                                                                              \n",
       "                                                                              \n",
       "\n",
       "______________________________________________________________________________\n",
       "    2            2                       2                                    \n",
       " 4⋅a ⋅c + 11⋅√3⋅a ⋅x__{\\ulcorner} - 2⋅a⋅b  + 4⋅√3⋅a⋅c⋅x__{\\ulcorner} + 20⋅a⋅x_\n",
       "──────────────────────────────────────────────────────────────────────────────\n",
       "                                                                        2     \n",
       "──────────────────────────────────────────────────────────────────────────────\n",
       "                                  2                                           \n",
       "                         2⋅a⋅c - b  + √3⋅c⋅x__{\\ulcorner}                     \n",
       "\n",
       "______________________________________________________________________________\n",
       "            2       2                                    2                    \n",
       "_{\\ulcorner}  - √3⋅b ⋅x__{\\ulcorner} + 3⋅c⋅x__{\\ulcorner}  + 4⋅√3⋅x__{\\ulcorne\n",
       "──────────────────────────────────────────────────────────────────────────────\n",
       "                                                                              \n",
       "──────────────────────────────────────────────────────────────────────────────\n",
       "                                                                              \n",
       "                                                                              \n",
       "\n",
       "____\n",
       "  3 \n",
       "r}  \n",
       "────\n",
       "    \n",
       "────\n",
       "    \n",
       "    "
      ]
     },
     "execution_count": 60,
     "metadata": {},
     "output_type": "execute_result"
    }
   ],
   "source": [
    "x_ur_sol2_pi3"
   ]
  },
  {
   "cell_type": "code",
   "execution_count": 61,
   "metadata": {},
   "outputs": [],
   "source": [
    "x_ur_sol1_pi6, x_ur_sol2_pi6 = sp.solve( Eq_UOU.subs( gamma, sp.pi/6 ), x_ur)"
   ]
  },
  {
   "cell_type": "code",
   "execution_count": 62,
   "metadata": {},
   "outputs": [
    {
     "data": {
      "image/png": "[encoded data removed]",
      "text/latex": [
       "$\\displaystyle \\frac{a^{2} c - a b^{2} + \\frac{a c x^{\\ulcorner}}{2} - b^{2} x^{\\ulcorner} - \\frac{b \\sqrt{c} \\sqrt{2 a^{3} + 12 a^{2} c + 9 a^{2} x^{\\ulcorner} - 6 a b^{2} + 12 a c x^{\\ulcorner} + 12 a \\left(x^{\\ulcorner}\\right)^{2} - 3 b^{2} x^{\\ulcorner} + 3 c \\left(x^{\\ulcorner}\\right)^{2} + 4 \\left(x^{\\ulcorner}\\right)^{3}}}{2}}{2 a c - b^{2} + c x^{\\ulcorner}}$"
      ],
      "text/plain": [
       "                                                               _______________\n",
       "                                                              ╱    3       2  \n",
       " 2        2   a⋅c⋅x__{\\ulcorner}    2                  b⋅√c⋅╲╱  2⋅a  + 12⋅a ⋅c\n",
       "a ⋅c - a⋅b  + ────────────────── - b ⋅x__{\\ulcorner} - ───────────────────────\n",
       "                      2                                                       \n",
       "──────────────────────────────────────────────────────────────────────────────\n",
       "                                                                              \n",
       "                                                                              \n",
       "\n",
       "______________________________________________________________________________\n",
       "      2                       2                                              2\n",
       " + 9⋅a ⋅x__{\\ulcorner} - 6⋅a⋅b  + 12⋅a⋅c⋅x__{\\ulcorner} + 12⋅a⋅x__{\\ulcorner} \n",
       "──────────────────────────────────────────────────────────────────────────────\n",
       "                                                           2                  \n",
       "──────────────────────────────────────────────────────────────────────────────\n",
       "                           2                                                  \n",
       "                  2⋅a⋅c - b  + c⋅x__{\\ulcorner}                               \n",
       "\n",
       "_________________________________________________________________\n",
       "      2                                    2                   3 \n",
       " - 3⋅b ⋅x__{\\ulcorner} + 3⋅c⋅x__{\\ulcorner}  + 4⋅x__{\\ulcorner}  \n",
       "─────────────────────────────────────────────────────────────────\n",
       "                                                                 \n",
       "─────────────────────────────────────────────────────────────────\n",
       "                                                                 \n",
       "                                                                 "
      ]
     },
     "execution_count": 62,
     "metadata": {},
     "output_type": "execute_result"
    }
   ],
   "source": [
    "x_ur_sol1_pi6"
   ]
  },
  {
   "cell_type": "code",
   "execution_count": 63,
   "metadata": {},
   "outputs": [
    {
     "data": {
      "image/png": "[encoded data removed]",
      "text/latex": [
       "$\\displaystyle \\frac{a^{2} c - a b^{2} + \\frac{a c x^{\\ulcorner}}{2} - b^{2} x^{\\ulcorner} + \\frac{b \\sqrt{c} \\sqrt{2 a^{3} + 12 a^{2} c + 9 a^{2} x^{\\ulcorner} - 6 a b^{2} + 12 a c x^{\\ulcorner} + 12 a \\left(x^{\\ulcorner}\\right)^{2} - 3 b^{2} x^{\\ulcorner} + 3 c \\left(x^{\\ulcorner}\\right)^{2} + 4 \\left(x^{\\ulcorner}\\right)^{3}}}{2}}{2 a c - b^{2} + c x^{\\ulcorner}}$"
      ],
      "text/plain": [
       "                                                               _______________\n",
       "                                                              ╱    3       2  \n",
       " 2        2   a⋅c⋅x__{\\ulcorner}    2                  b⋅√c⋅╲╱  2⋅a  + 12⋅a ⋅c\n",
       "a ⋅c - a⋅b  + ────────────────── - b ⋅x__{\\ulcorner} + ───────────────────────\n",
       "                      2                                                       \n",
       "──────────────────────────────────────────────────────────────────────────────\n",
       "                                                                              \n",
       "                                                                              \n",
       "\n",
       "______________________________________________________________________________\n",
       "      2                       2                                              2\n",
       " + 9⋅a ⋅x__{\\ulcorner} - 6⋅a⋅b  + 12⋅a⋅c⋅x__{\\ulcorner} + 12⋅a⋅x__{\\ulcorner} \n",
       "──────────────────────────────────────────────────────────────────────────────\n",
       "                                                           2                  \n",
       "──────────────────────────────────────────────────────────────────────────────\n",
       "                           2                                                  \n",
       "                  2⋅a⋅c - b  + c⋅x__{\\ulcorner}                               \n",
       "\n",
       "_________________________________________________________________\n",
       "      2                                    2                   3 \n",
       " - 3⋅b ⋅x__{\\ulcorner} + 3⋅c⋅x__{\\ulcorner}  + 4⋅x__{\\ulcorner}  \n",
       "─────────────────────────────────────────────────────────────────\n",
       "                                                                 \n",
       "─────────────────────────────────────────────────────────────────\n",
       "                                                                 \n",
       "                                                                 "
      ]
     },
     "execution_count": 63,
     "metadata": {},
     "output_type": "execute_result"
    }
   ],
   "source": [
    "x_ur_sol2_pi6"
   ]
  },
  {
   "cell_type": "markdown",
   "metadata": {},
   "source": [
    "# Solution with constant edge lengths "
   ]
  },
  {
   "cell_type": "code",
   "execution_count": 29,
   "metadata": {},
   "outputs": [
    {
     "data": {
      "image/png": "[encoded data removed]",
      "text/latex": [
       "$\\displaystyle \\left( \\left[\\begin{matrix}- a + c\\\\- b\\\\0\\end{matrix}\\right], \\  \\left[\\begin{matrix}c\\\\0\\\\0\\end{matrix}\\right]\\right)$"
      ],
      "text/plain": [
       "⎛⎡-a + c⎤  ⎡c⎤⎞\n",
       "⎜⎢      ⎥  ⎢ ⎥⎟\n",
       "⎜⎢  -b  ⎥, ⎢0⎥⎟\n",
       "⎜⎢      ⎥  ⎢ ⎥⎟\n",
       "⎝⎣  0   ⎦  ⎣0⎦⎠"
      ]
     },
     "execution_count": 29,
     "metadata": {},
     "output_type": "execute_result"
    }
   ],
   "source": [
    "L2_U_ur_0 = (U_ur_0.T * U_ur_0)[0]\n",
    "L2_UV_r_0 = (UV_r_0.T * UV_r_0)[0]\n",
    "UV_r_0, V_r_0"
   ]
  },
  {
   "cell_type": "markdown",
   "metadata": {},
   "source": [
    "And in a general state of folding"
   ]
  },
  {
   "cell_type": "code",
   "execution_count": 30,
   "metadata": {},
   "outputs": [],
   "source": [
    "UV_r_1 = U_ur_1 - V_r_l\n",
    "L2_U_ur_1 = (U_ur_1.T * U_ur_1)[0]\n",
    "L2_UV_r_1 = (UV_r_1.T * UV_r_1)[0]"
   ]
  },
  {
   "cell_type": "code",
   "execution_count": 33,
   "metadata": {},
   "outputs": [
    {
     "data": {
      "image/png": "[encoded data removed]",
      "text/latex": [
       "$\\displaystyle \\left[\\begin{matrix}c x^{\\urcorner} \\sin{\\left(\\gamma \\right)} + c z^{\\urcorner} \\cos{\\left(\\gamma \\right)}\\end{matrix}\\right]$"
      ],
      "text/plain": [
       "[c⋅x__{\\urcorner}⋅sin(γ) + c⋅z__{\\urcorner}⋅cos(γ)]"
      ]
     },
     "execution_count": 33,
     "metadata": {},
     "output_type": "execute_result"
    }
   ],
   "source": []
  },
  {
   "cell_type": "code",
   "execution_count": 36,
   "metadata": {},
   "outputs": [
    {
     "data": {
      "image/png": "[encoded data removed]",
      "text/latex": [
       "$\\displaystyle a c = c x^{\\urcorner} \\sin{\\left(\\gamma \\right)} + c z^{\\urcorner} \\cos{\\left(\\gamma \\right)}$"
      ],
      "text/plain": [
       "a⋅c = c⋅x__{\\urcorner}⋅sin(γ) + c⋅z__{\\urcorner}⋅cos(γ)"
      ]
     },
     "execution_count": 36,
     "metadata": {},
     "output_type": "execute_result"
    }
   ],
   "source": []
  },
  {
   "cell_type": "code",
   "execution_count": null,
   "metadata": {},
   "outputs": [],
   "source": []
  },
  {
   "cell_type": "code",
   "execution_count": 21,
   "metadata": {},
   "outputs": [
    {
     "data": {
      "image/png": "[encoded data removed]",
      "text/latex": [
       "$\\displaystyle \\left(x^{\\urcorner}\\right)^{2} + \\left(y^{\\urcorner}\\right)^{2} + \\left(z^{\\urcorner}\\right)^{2}$"
      ],
      "text/plain": [
       "              2                 2                 2\n",
       "x__{\\urcorner}  + y__{\\urcorner}  + z__{\\urcorner} "
      ]
     },
     "execution_count": 21,
     "metadata": {},
     "output_type": "execute_result"
    }
   ],
   "source": [
    "L2_U_ur_1"
   ]
  },
  {
   "cell_type": "code",
   "execution_count": 22,
   "metadata": {},
   "outputs": [
    {
     "ename": "ValueError",
     "evalue": "subs accepts either 1 or 2 arguments",
     "output_type": "error",
     "traceback": [
      "\u001b[0;31m---------------------------------------------------------------------------\u001b[0m",
      "\u001b[0;31mValueError\u001b[0m                                Traceback (most recent call last)",
      "\u001b[0;32m<ipython-input-22-a3189418ffc3>\u001b[0m in \u001b[0;36m<module>\u001b[0;34m\u001b[0m\n\u001b[0;32m----> 1\u001b[0;31m \u001b[0mL2_UV_r_1\u001b[0m\u001b[0;34m.\u001b[0m\u001b[0msubs\u001b[0m\u001b[0;34m(\u001b[0m\u001b[0;34m)\u001b[0m\u001b[0;34m\u001b[0m\u001b[0;34m\u001b[0m\u001b[0m\n\u001b[0m",
      "\u001b[0;32m~/miniconda3/envs/bmcs_env/lib/python3.9/site-packages/sympy/core/basic.py\u001b[0m in \u001b[0;36msubs\u001b[0;34m(self, *args, **kwargs)\u001b[0m\n\u001b[1;32m    892\u001b[0m             \u001b[0msequence\u001b[0m \u001b[0;34m=\u001b[0m \u001b[0;34m[\u001b[0m\u001b[0margs\u001b[0m\u001b[0;34m]\u001b[0m\u001b[0;34m\u001b[0m\u001b[0;34m\u001b[0m\u001b[0m\n\u001b[1;32m    893\u001b[0m         \u001b[0;32melse\u001b[0m\u001b[0;34m:\u001b[0m\u001b[0;34m\u001b[0m\u001b[0;34m\u001b[0m\u001b[0m\n\u001b[0;32m--> 894\u001b[0;31m             \u001b[0;32mraise\u001b[0m \u001b[0mValueError\u001b[0m\u001b[0;34m(\u001b[0m\u001b[0;34m\"subs accepts either 1 or 2 arguments\"\u001b[0m\u001b[0;34m)\u001b[0m\u001b[0;34m\u001b[0m\u001b[0;34m\u001b[0m\u001b[0m\n\u001b[0m\u001b[1;32m    895\u001b[0m \u001b[0;34m\u001b[0m\u001b[0m\n\u001b[1;32m    896\u001b[0m         \u001b[0msequence\u001b[0m \u001b[0;34m=\u001b[0m \u001b[0mlist\u001b[0m\u001b[0;34m(\u001b[0m\u001b[0msequence\u001b[0m\u001b[0;34m)\u001b[0m\u001b[0;34m\u001b[0m\u001b[0;34m\u001b[0m\u001b[0m\n",
      "\u001b[0;31mValueError\u001b[0m: subs accepts either 1 or 2 arguments"
     ]
    }
   ],
   "source": [
    "L2_UV_r_1.subs()"
   ]
  },
  {
   "cell_type": "markdown",
   "metadata": {},
   "source": [
    "Use the two quadratic equations to find $y^{\\urcorner}$ and $z^\\urcorner$ "
   ]
  },
  {
   "cell_type": "code",
   "execution_count": 31,
   "metadata": {},
   "outputs": [],
   "source": [
    "Eq_L2_U_ur = sp.simplify(sp.Eq(L2_U_ur_1-L2_U_ur_0,0))\n",
    "y_ur_sol = sp.solve(Eq_L2_U_ur, y_ur)[0]\n",
    "Eq_L2_UV_r = sp.simplify(sp.Eq(L2_UV_r_1-L2_UV_r_0,0))\n",
    "Eq_L2_UV_r_z_ur = Eq_L2_UV_r.subs(y_ur, y_ur_sol)\n",
    "z_ur_sol = sp.solve(Eq_L2_UV_r_z_ur, z_ur)[0]\n",
    "U_ur = sp.Matrix([x_ur, y_ur_sol.subs(z_ur, z_ur_sol), z_ur_sol])"
   ]
  },
  {
   "cell_type": "markdown",
   "metadata": {},
   "source": [
    "The resulting position of $U^\\urcorner$ reads"
   ]
  },
  {
   "cell_type": "code",
   "execution_count": 23,
   "metadata": {},
   "outputs": [
    {
     "data": {
      "image/png": "[encoded data removed]",
      "text/latex": [
       "$\\displaystyle \\left[\\begin{matrix}x^{\\urcorner}\\\\- \\sqrt{a^{2} + b^{2} - \\left(x^{\\urcorner}\\right)^{2} - \\frac{\\left(a - x^{\\urcorner} \\sin{\\left(\\alpha \\right)}\\right)^{2}}{\\cos^{2}{\\left(\\alpha \\right)}}}\\\\\\frac{a - x^{\\urcorner} \\sin{\\left(\\alpha \\right)}}{\\cos{\\left(\\alpha \\right)}}\\end{matrix}\\right]$"
      ],
      "text/plain": [
       "⎡                         x__{\\urcorner}                          ⎤\n",
       "⎢                                                                 ⎥\n",
       "⎢       __________________________________________________________⎥\n",
       "⎢      ╱                                                        2 ⎥\n",
       "⎢     ╱   2    2                 2   (a - x__{\\urcorner}⋅sin(α))  ⎥\n",
       "⎢-   ╱   a  + b  - x__{\\urcorner}  - ──────────────────────────── ⎥\n",
       "⎢   ╱                                             2               ⎥\n",
       "⎢ ╲╱                                           cos (α)            ⎥\n",
       "⎢                                                                 ⎥\n",
       "⎢                    a - x__{\\urcorner}⋅sin(α)                    ⎥\n",
       "⎢                    ─────────────────────────                    ⎥\n",
       "⎣                              cos(α)                             ⎦"
      ]
     },
     "execution_count": 23,
     "metadata": {},
     "output_type": "execute_result"
    }
   ],
   "source": [
    "U_ur"
   ]
  },
  {
   "cell_type": "markdown",
   "metadata": {},
   "source": [
    "Check the obtained coordinates for $\\lim_{\\alpha \\rightarrow 0} U^\\urcorner$ for $x^\\urcorner = a$"
   ]
  },
  {
   "cell_type": "code",
   "execution_count": 24,
   "metadata": {},
   "outputs": [
    {
     "data": {
      "image/png": "[encoded data removed]",
      "text/latex": [
       "$\\displaystyle \\left[ a, \\  - b, \\  0\\right]$"
      ],
      "text/plain": [
       "[a, -b, 0]"
      ]
     },
     "execution_count": 24,
     "metadata": {},
     "output_type": "execute_result"
    }
   ],
   "source": [
    "[sp.limit( U_ur.subs(x_ur,a)[idx], alpha, sp.pi/2) for idx in [0,1,2]]"
   ]
  },
  {
   "cell_type": "markdown",
   "metadata": {},
   "source": [
    "In a symmetric case, the other corner points can be simply mirrored \n",
    "with respect to the symmetry planes $xz$ and $xy$."
   ]
  },
  {
   "cell_type": "markdown",
   "metadata": {},
   "source": [
    "## Upper left corner in non-symmetric case\n",
    "Considering the upper left corner, we can reuse the solution of the upper right corner by\n",
    "substituting $U^{\\urcorner} = - U^\\ulcorner$\n",
    "and alternating the sign of the $x$ coordinate. "
   ]
  },
  {
   "cell_type": "code",
   "execution_count": 12,
   "metadata": {},
   "outputs": [],
   "source": [
    "x_ul = sp.symbols(r'x^{\\ulcorner}')"
   ]
  },
  {
   "cell_type": "code",
   "execution_count": 13,
   "metadata": {},
   "outputs": [
    {
     "data": {
      "image/png": "[encoded data removed]",
      "text/latex": [
       "$\\displaystyle \\left[\\begin{matrix}x^{\\ulcorner}\\\\- \\sqrt{a^{2} + b^{2} - \\left(x^{\\ulcorner}\\right)^{2} - \\frac{\\left(a + x^{\\ulcorner} \\sin{\\left(\\alpha \\right)}\\right)^{2}}{\\cos^{2}{\\left(\\alpha \\right)}}}\\\\\\frac{a + x^{\\ulcorner} \\sin{\\left(\\alpha \\right)}}{\\cos{\\left(\\alpha \\right)}}\\end{matrix}\\right]$"
      ],
      "text/plain": [
       "⎡                         x__{\\ulcorner}                          ⎤\n",
       "⎢                                                                 ⎥\n",
       "⎢       __________________________________________________________⎥\n",
       "⎢      ╱                                                        2 ⎥\n",
       "⎢     ╱   2    2                 2   (a + x__{\\ulcorner}⋅sin(α))  ⎥\n",
       "⎢-   ╱   a  + b  - x__{\\ulcorner}  - ──────────────────────────── ⎥\n",
       "⎢   ╱                                             2               ⎥\n",
       "⎢ ╲╱                                           cos (α)            ⎥\n",
       "⎢                                                                 ⎥\n",
       "⎢                    a + x__{\\ulcorner}⋅sin(α)                    ⎥\n",
       "⎢                    ─────────────────────────                    ⎥\n",
       "⎣                              cos(α)                             ⎦"
      ]
     },
     "execution_count": 13,
     "metadata": {},
     "output_type": "execute_result"
    }
   ],
   "source": [
    "U_ul = U_ur.subs(x_ur, -x_ul)\n",
    "U_ul[0] *= -1\n",
    "U_ul"
   ]
  },
  {
   "cell_type": "markdown",
   "metadata": {},
   "source": [
    "Check the limits"
   ]
  },
  {
   "cell_type": "code",
   "execution_count": 14,
   "metadata": {},
   "outputs": [
    {
     "data": {
      "image/png": "[encoded data removed]",
      "text/latex": [
       "$\\displaystyle \\left[ - a, \\  - b, \\  0\\right]$"
      ],
      "text/plain": [
       "[-a, -b, 0]"
      ]
     },
     "execution_count": 14,
     "metadata": {},
     "output_type": "execute_result"
    }
   ],
   "source": [
    "[sp.limit( U_ul.subs(x_ul,-a)[idx], alpha, sp.pi/2) for idx in [0,1,2]]"
   ]
  },
  {
   "cell_type": "markdown",
   "metadata": {},
   "source": [
    "Define a vector $U^{\\ulcorner\\urcorner}$ as"
   ]
  },
  {
   "cell_type": "code",
   "execution_count": 14,
   "metadata": {},
   "outputs": [
    {
     "data": {
      "image/png": "[encoded data removed]",
      "text/latex": [
       "$\\displaystyle \\left[\\begin{matrix}- x^{\\ulcorner} + x^{\\urcorner}\\\\\\sqrt{a^{2} + b^{2} - \\left(x^{\\ulcorner}\\right)^{2} - \\frac{\\left(a + x^{\\ulcorner} \\sin{\\left(\\alpha \\right)}\\right)^{2}}{\\cos^{2}{\\left(\\alpha \\right)}}} - \\sqrt{a^{2} + b^{2} - \\left(x^{\\urcorner}\\right)^{2} - \\frac{\\left(a - x^{\\urcorner} \\sin{\\left(\\alpha \\right)}\\right)^{2}}{\\cos^{2}{\\left(\\alpha \\right)}}}\\\\- \\frac{a + x^{\\ulcorner} \\sin{\\left(\\alpha \\right)}}{\\cos{\\left(\\alpha \\right)}} + \\frac{a - x^{\\urcorner} \\sin{\\left(\\alpha \\right)}}{\\cos{\\left(\\alpha \\right)}}\\end{matrix}\\right]$"
      ],
      "text/plain": [
       "⎡                                                 -x__{\\ulcorner} + x__{\\urcor\n",
       "⎢                                                                             \n",
       "⎢      __________________________________________________________         ____\n",
       "⎢     ╱                                                        2         ╱    \n",
       "⎢    ╱   2    2                 2   (a + x__{\\ulcorner}⋅sin(α))         ╱   2 \n",
       "⎢   ╱   a  + b  - x__{\\ulcorner}  - ────────────────────────────  -    ╱   a  \n",
       "⎢  ╱                                             2                    ╱       \n",
       "⎢╲╱                                           cos (α)               ╲╱        \n",
       "⎢                                                                             \n",
       "⎢                                        a + x__{\\ulcorner}⋅sin(α)   a - x__{\\\n",
       "⎢                                      - ───────────────────────── + ─────────\n",
       "⎣                                                  cos(α)                     \n",
       "\n",
       "ner}                                                  ⎤\n",
       "                                                      ⎥\n",
       "______________________________________________________⎥\n",
       "                                                    2 ⎥\n",
       "   2                 2   (a - x__{\\urcorner}⋅sin(α))  ⎥\n",
       "+ b  - x__{\\urcorner}  - ──────────────────────────── ⎥\n",
       "                                      2               ⎥\n",
       "                                   cos (α)            ⎥\n",
       "                                                      ⎥\n",
       "urcorner}⋅sin(α)                                      ⎥\n",
       "────────────────                                      ⎥\n",
       " cos(α)                                               ⎦"
      ]
     },
     "execution_count": 14,
     "metadata": {},
     "output_type": "execute_result"
    }
   ],
   "source": [
    "UU_u_1 = U_ur - U_ul\n",
    "UU_u_1"
   ]
  },
  {
   "cell_type": "markdown",
   "metadata": {},
   "source": [
    "Verify that by substituting $u^\\urcorner = a$ and $u^\\ulcorner = -1$ the symmetric case is recovered"
   ]
  },
  {
   "cell_type": "code",
   "execution_count": 15,
   "metadata": {},
   "outputs": [
    {
     "data": {
      "image/png": "[encoded data removed]",
      "text/latex": [
       "$\\displaystyle \\left[\\begin{matrix}2 a\\\\0\\\\0\\end{matrix}\\right]$"
      ],
      "text/plain": [
       "⎡2⋅a⎤\n",
       "⎢   ⎥\n",
       "⎢ 0 ⎥\n",
       "⎢   ⎥\n",
       "⎣ 0 ⎦"
      ]
     },
     "execution_count": 15,
     "metadata": {},
     "output_type": "execute_result"
    }
   ],
   "source": [
    "UU_u_1.subs({x_ur:a, x_ul:-a})"
   ]
  },
  {
   "cell_type": "markdown",
   "metadata": {},
   "source": [
    "Considering again the non-symmetric configuration let us calculate the squaer of the vector length $| U^{\\ulcorner\\urcorner} |^2$"
   ]
  },
  {
   "cell_type": "code",
   "execution_count": 16,
   "metadata": {},
   "outputs": [
    {
     "data": {
      "image/png": "[encoded data removed]",
      "text/latex": [
       "$\\displaystyle \\left(- x^{\\ulcorner} + x^{\\urcorner}\\right)^{2} + \\left(- \\frac{a + x^{\\ulcorner} \\sin{\\left(\\alpha \\right)}}{\\cos{\\left(\\alpha \\right)}} + \\frac{a - x^{\\urcorner} \\sin{\\left(\\alpha \\right)}}{\\cos{\\left(\\alpha \\right)}}\\right)^{2} + \\left(\\sqrt{a^{2} + b^{2} - \\left(x^{\\ulcorner}\\right)^{2} - \\frac{\\left(a + x^{\\ulcorner} \\sin{\\left(\\alpha \\right)}\\right)^{2}}{\\cos^{2}{\\left(\\alpha \\right)}}} - \\sqrt{a^{2} + b^{2} - \\left(x^{\\urcorner}\\right)^{2} - \\frac{\\left(a - x^{\\urcorner} \\sin{\\left(\\alpha \\right)}\\right)^{2}}{\\cos^{2}{\\left(\\alpha \\right)}}}\\right)^{2}$"
      ],
      "text/plain": [
       "                                                                              \n",
       "                                                                              \n",
       "                                                                              \n",
       "                                  2   ⎛  a + x__{\\ulcorner}⋅sin(α)   a - x__{\\\n",
       "(-x__{\\ulcorner} + x__{\\urcorner})  + ⎜- ───────────────────────── + ─────────\n",
       "                                      ⎝            cos(α)                     \n",
       "                                                                              \n",
       "\n",
       "                                                                              \n",
       "                     ⎛      __________________________________________________\n",
       "                 2   ⎜     ╱                                                  \n",
       "urcorner}⋅sin(α)⎞    ⎜    ╱   2    2                 2   (a + x__{\\ulcorner}⋅s\n",
       "────────────────⎟  + ⎜   ╱   a  + b  - x__{\\ulcorner}  - ─────────────────────\n",
       " cos(α)         ⎠    ⎜  ╱                                             2       \n",
       "                     ⎝╲╱                                           cos (α)    \n",
       "\n",
       "                                                                            2\n",
       "________         __________________________________________________________⎞ \n",
       "      2         ╱                                                        2 ⎟ \n",
       "in(α))         ╱   2    2                 2   (a - x__{\\urcorner}⋅sin(α))  ⎟ \n",
       "───────  -    ╱   a  + b  - x__{\\urcorner}  - ──────────────────────────── ⎟ \n",
       "             ╱                                             2               ⎟ \n",
       "           ╲╱                                           cos (α)            ⎠ "
      ]
     },
     "execution_count": 16,
     "metadata": {},
     "output_type": "execute_result"
    }
   ],
   "source": [
    "L2_UU_u_1 = (UU_u_1.T * UU_u_1)[0]\n",
    "L2_UU_u_1"
   ]
  },
  {
   "cell_type": "code",
   "execution_count": 17,
   "metadata": {},
   "outputs": [],
   "source": [
    "eta = sp.symbols('eta')"
   ]
  },
  {
   "cell_type": "markdown",
   "metadata": {},
   "source": [
    "To control the twist of the non-symmetric fold mode of the waterbomb base, let us link $x^\\ulcorner$ with \n",
    "$x^\\urcorner$ by setting\n",
    "\\begin{align}\n",
    " x^\\ulcorner = - \\eta \\, x^\\urcorner\n",
    "\\end{align}"
   ]
  },
  {
   "cell_type": "code",
   "execution_count": 18,
   "metadata": {},
   "outputs": [],
   "source": [
    "x_ul_ = - eta * x_ur"
   ]
  },
  {
   "cell_type": "markdown",
   "metadata": {},
   "source": [
    "and substitute for $x^\\ulcorner$ in $|U^{\\ulcorner\\urcorner}|^2$ to obtain"
   ]
  },
  {
   "cell_type": "code",
   "execution_count": 19,
   "metadata": {},
   "outputs": [
    {
     "data": {
      "image/png": "[encoded data removed]",
      "text/latex": [
       "$\\displaystyle \\left(\\eta x^{\\urcorner} + x^{\\urcorner}\\right)^{2} + \\left(\\frac{a - x^{\\urcorner} \\sin{\\left(\\alpha \\right)}}{\\cos{\\left(\\alpha \\right)}} - \\frac{a - \\eta x^{\\urcorner} \\sin{\\left(\\alpha \\right)}}{\\cos{\\left(\\alpha \\right)}}\\right)^{2} + \\left(- \\sqrt{a^{2} + b^{2} - \\left(x^{\\urcorner}\\right)^{2} - \\frac{\\left(a - x^{\\urcorner} \\sin{\\left(\\alpha \\right)}\\right)^{2}}{\\cos^{2}{\\left(\\alpha \\right)}}} + \\sqrt{a^{2} + b^{2} - \\eta^{2} \\left(x^{\\urcorner}\\right)^{2} - \\frac{\\left(a - \\eta x^{\\urcorner} \\sin{\\left(\\alpha \\right)}\\right)^{2}}{\\cos^{2}{\\left(\\alpha \\right)}}}\\right)^{2}$"
      ],
      "text/plain": [
       "                                                                              \n",
       "                                                                              \n",
       "                                                                              \n",
       "                                   2   ⎛a - x__{\\urcorner}⋅sin(α)   a - η⋅x__{\n",
       "(η⋅x__{\\urcorner} + x__{\\urcorner})  + ⎜───────────────────────── - ──────────\n",
       "                                       ⎝          cos(α)                      \n",
       "                                                                              \n",
       "\n",
       "                                                                              \n",
       "                      ⎛        _______________________________________________\n",
       "                  2   ⎜       ╱                                               \n",
       "\\urcorner}⋅sin(α)⎞    ⎜      ╱   2    2                 2   (a - x__{\\urcorner\n",
       "─────────────────⎟  + ⎜-    ╱   a  + b  - x__{\\urcorner}  - ──────────────────\n",
       " cos(α)          ⎠    ⎜    ╱                                             2    \n",
       "                      ⎝  ╲╱                                           cos (α) \n",
       "\n",
       "                                                                              \n",
       "___________         __________________________________________________________\n",
       "         2         ╱                                                          \n",
       "}⋅sin(α))         ╱   2    2    2               2   (a - η⋅x__{\\urcorner}⋅sin(\n",
       "──────────  +    ╱   a  + b  - η ⋅x__{\\urcorner}  - ──────────────────────────\n",
       "                ╱                                                 2           \n",
       "              ╲╱                                               cos (α)        \n",
       "\n",
       "      2\n",
       "_____⎞ \n",
       "   2 ⎟ \n",
       "α))  ⎟ \n",
       "──── ⎟ \n",
       "     ⎟ \n",
       "     ⎠ "
      ]
     },
     "execution_count": 19,
     "metadata": {},
     "output_type": "execute_result"
    }
   ],
   "source": [
    "L2_UU_u_1_eta = L2_UU_u_1.subs(x_ul,x_ul_)\n",
    "L2_UU_u_1_eta"
   ]
  },
  {
   "cell_type": "markdown",
   "metadata": {},
   "source": [
    "Finally, require that the length $|U^{\\ulcorner\\urcorner}| = 2a$ is equal to the original length\n",
    "at any state of folding"
   ]
  },
  {
   "cell_type": "code",
   "execution_count": 20,
   "metadata": {},
   "outputs": [
    {
     "data": {
      "image/png": "[encoded data removed]",
      "text/latex": [
       "$\\displaystyle - 4 a^{2} + \\left(\\eta x^{\\urcorner} + x^{\\urcorner}\\right)^{2} + \\left(\\frac{a - x^{\\urcorner} \\sin{\\left(\\alpha \\right)}}{\\cos{\\left(\\alpha \\right)}} - \\frac{a - \\eta x^{\\urcorner} \\sin{\\left(\\alpha \\right)}}{\\cos{\\left(\\alpha \\right)}}\\right)^{2} + \\left(- \\sqrt{a^{2} + b^{2} - \\left(x^{\\urcorner}\\right)^{2} - \\frac{\\left(a - x^{\\urcorner} \\sin{\\left(\\alpha \\right)}\\right)^{2}}{\\cos^{2}{\\left(\\alpha \\right)}}} + \\sqrt{a^{2} + b^{2} - \\eta^{2} \\left(x^{\\urcorner}\\right)^{2} - \\frac{\\left(a - \\eta x^{\\urcorner} \\sin{\\left(\\alpha \\right)}\\right)^{2}}{\\cos^{2}{\\left(\\alpha \\right)}}}\\right)^{2} = 0$"
      ],
      "text/plain": [
       "                                                                              \n",
       "                                                                              \n",
       "                                                                              \n",
       "     2                                      2   ⎛a - x__{\\urcorner}⋅sin(α)   a\n",
       "- 4⋅a  + (η⋅x__{\\urcorner} + x__{\\urcorner})  + ⎜───────────────────────── - ─\n",
       "                                                ⎝          cos(α)             \n",
       "                                                                              \n",
       "\n",
       "                                                                              \n",
       "                               ⎛        ______________________________________\n",
       "                           2   ⎜       ╱                                      \n",
       " - η⋅x__{\\urcorner}⋅sin(α)⎞    ⎜      ╱   2    2                 2   (a - x__{\n",
       "──────────────────────────⎟  + ⎜-    ╱   a  + b  - x__{\\urcorner}  - ─────────\n",
       "          cos(α)          ⎠    ⎜    ╱                                         \n",
       "                               ⎝  ╲╱                                          \n",
       "\n",
       "                                                                              \n",
       "____________________         _________________________________________________\n",
       "                  2         ╱                                                 \n",
       "\\urcorner}⋅sin(α))         ╱   2    2    2               2   (a - η⋅x__{\\urcor\n",
       "───────────────────  +    ╱   a  + b  - η ⋅x__{\\urcorner}  - ─────────────────\n",
       "    2                    ╱                                                 2  \n",
       " cos (α)               ╲╱                                               cos (α\n",
       "\n",
       "               2    \n",
       "______________⎞     \n",
       "            2 ⎟     \n",
       "ner}⋅sin(α))  ⎟     \n",
       "───────────── ⎟  = 0\n",
       "              ⎟     \n",
       ")             ⎠     "
      ]
     },
     "execution_count": 20,
     "metadata": {},
     "output_type": "execute_result"
    }
   ],
   "source": [
    "Eq_L2_UU_u_1 = sp.Eq(L2_UU_u_1_eta-(2*a)**2, 0)\n",
    "Eq_L2_UU_u_1"
   ]
  },
  {
   "cell_type": "markdown",
   "metadata": {},
   "source": [
    "The solver "
   ]
  },
  {
   "cell_type": "code",
   "execution_count": 21,
   "metadata": {},
   "outputs": [
    {
     "data": {
      "image/png": "[encoded data removed]",
      "text/latex": [
       "$\\displaystyle \\left( 2 a \\sqrt{\\frac{- a^{2} + b^{2}}{- 4 a^{2} \\eta + b^{2} \\eta^{2} + 2 b^{2} \\eta + b^{2}}}, \\  - 2 a \\sqrt{- \\frac{a^{2} - b^{2}}{- 4 a^{2} \\eta + b^{2} \\eta^{2} + 2 b^{2} \\eta + b^{2}}}\\right)$"
      ],
      "text/plain": [
       "⎛          ________________________________             ______________________\n",
       "⎜         ╱              2    2                        ╱           ⎛ 2    2⎞  \n",
       "⎜        ╱            - a  + b                        ╱           -⎝a  - b ⎠  \n",
       "⎜2⋅a⋅   ╱   ────────────────────────────── , -2⋅a⋅   ╱   ─────────────────────\n",
       "⎜      ╱         2      2  2      2      2          ╱         2      2  2     \n",
       "⎝    ╲╱     - 4⋅a ⋅η + b ⋅η  + 2⋅b ⋅η + b         ╲╱     - 4⋅a ⋅η + b ⋅η  + 2⋅\n",
       "\n",
       "__________⎞\n",
       "          ⎟\n",
       "          ⎟\n",
       "───────── ⎟\n",
       " 2      2 ⎟\n",
       "b ⋅η + b  ⎠"
      ]
     },
     "execution_count": 21,
     "metadata": {},
     "output_type": "execute_result"
    }
   ],
   "source": [
    "x_ur_sol_1, x_ur_sol_2 = sp.solve(Eq_L2_UU_u_1.subs(alpha,0), x_ur)\n",
    "x_ur_sol_1, x_ur_sol_2"
   ]
  },
  {
   "cell_type": "markdown",
   "metadata": {},
   "source": [
    "$\\eta = 1$ recovers the symmetric case"
   ]
  },
  {
   "cell_type": "code",
   "execution_count": 22,
   "metadata": {},
   "outputs": [
    {
     "data": {
      "image/png": "[encoded data removed]",
      "text/latex": [
       "$\\displaystyle a$"
      ],
      "text/plain": [
       "a"
      ]
     },
     "execution_count": 22,
     "metadata": {},
     "output_type": "execute_result"
    }
   ],
   "source": [
    "sp.simplify(x_ur_sol_1.subs(eta,1))"
   ]
  }
 ],
 "metadata": {
  "kernelspec": {
   "display_name": "bmcs_env",
   "language": "python",
   "name": "bmcs_env"
  },
  "language_info": {
   "codemirror_mode": {
    "name": "ipython",
    "version": 3
   },
   "file_extension": ".py",
   "mimetype": "text/x-python",
   "name": "python",
   "nbconvert_exporter": "python",
   "pygments_lexer": "ipython3",
   "version": "3.9.1"
  },
  "toc": {
   "base_numbering": 1,
   "nav_menu": {},
   "number_sections": true,
   "sideBar": true,
   "skip_h1_title": true,
   "title_cell": "Table of Contents",
   "title_sidebar": "Contents",
   "toc_cell": false,
   "toc_position": {},
   "toc_section_display": true,
   "toc_window_display": false
  }
 },
 "nbformat": 4,
 "nbformat_minor": 4
}
