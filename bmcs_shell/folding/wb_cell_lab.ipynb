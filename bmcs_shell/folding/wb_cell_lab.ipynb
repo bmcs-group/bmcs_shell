{
 "cells": [
  {
   "cell_type": "markdown",
   "metadata": {},
   "source": [
    "# Waterbomb cell - 5 parameter folding"
   ]
  },
  {
   "cell_type": "code",
   "execution_count": 1,
   "metadata": {},
   "outputs": [],
   "source": [
    "import sympy as sp\n",
    "sp.init_printing()\n",
    "import numpy as np"
   ]
  },
  {
   "cell_type": "markdown",
   "metadata": {},
   "source": [
    "## Upper right corner node"
   ]
  },
  {
   "cell_type": "markdown",
   "metadata": {},
   "source": [
    "Control parameters $a, b, c$ and angle $\\alpha$"
   ]
  },
  {
   "cell_type": "code",
   "execution_count": 2,
   "metadata": {},
   "outputs": [],
   "source": [
    "a, b, c = sp.symbols('a, b, c', positive=True)\n",
    "alpha = sp.symbols('alpha', positive=True)"
   ]
  },
  {
   "cell_type": "markdown",
   "metadata": {},
   "source": [
    "Position variables to be determined for the above control parameters"
   ]
  },
  {
   "cell_type": "code",
   "execution_count": 3,
   "metadata": {},
   "outputs": [],
   "source": [
    "x_ur, y_ur, z_ur = sp.symbols(r'x^{\\urcorner}, y^{\\urcorner}, z^{\\urcorner}')#, positive=True)"
   ]
  },
  {
   "cell_type": "markdown",
   "metadata": {},
   "source": [
    "Node $V^\\dashv$ rotates in the $xz$ plane. The control angle $\\alpha = \\pi/2$ for a flat state, i.e. $z^\\dashv(\\alpha=\\pi/2) = 0$\n",
    "\\begin{align}\n",
    " V^\\dashv = [c \\sin(\\alpha), 0, c \\cos(\\alpha)]\n",
    "\\end{align}"
   ]
  },
  {
   "cell_type": "code",
   "execution_count": 4,
   "metadata": {},
   "outputs": [
    {
     "data": {
      "image/png": "[encoded data removed]",
      "text/latex": [
       "$\\displaystyle \\left[\\begin{matrix}c \\sin{\\left(\\alpha \\right)}\\\\0\\\\c \\cos{\\left(\\alpha \\right)}\\end{matrix}\\right]$"
      ],
      "text/plain": [
       "⎡c⋅sin(α)⎤\n",
       "⎢        ⎥\n",
       "⎢   0    ⎥\n",
       "⎢        ⎥\n",
       "⎣c⋅cos(α)⎦"
      ]
     },
     "execution_count": 4,
     "metadata": {},
     "output_type": "execute_result"
    }
   ],
   "source": [
    "V_r_l = sp.Matrix([c * sp.sin(alpha), 0, c * sp.cos(alpha)])\n",
    "V_r_l"
   ]
  },
  {
   "cell_type": "markdown",
   "metadata": {},
   "source": [
    "Positions of $U^\\urcorner_0$ and $V^\\dashv_0$ "
   ]
  },
  {
   "cell_type": "code",
   "execution_count": 5,
   "metadata": {},
   "outputs": [],
   "source": [
    "U_ur_0 = sp.Matrix([a, b, 0])\n",
    "V_r_0 = sp.Matrix([c, 0, 0])"
   ]
  },
  {
   "cell_type": "markdown",
   "metadata": {},
   "source": [
    "Express the lengths $|OU^{\\urcorner}|$ and $|U^{\\urcorner}V^\\dashv|$ in initial state"
   ]
  },
  {
   "cell_type": "code",
   "execution_count": 6,
   "metadata": {},
   "outputs": [],
   "source": [
    "UV_r_0 = V_r_0 - U_ur_0\n",
    "L2_U_ur_0 = (U_ur_0.T * U_ur_0)[0]\n",
    "L2_UV_r_0 = (UV_r_0.T * UV_r_0)[0]"
   ]
  },
  {
   "cell_type": "markdown",
   "metadata": {},
   "source": [
    "And in a general state of folding"
   ]
  },
  {
   "cell_type": "code",
   "execution_count": 7,
   "metadata": {},
   "outputs": [],
   "source": [
    "U_ur_1 = sp.Matrix([x_ur, y_ur, z_ur])\n",
    "UV_r_1 = U_ur_1 - V_r_l\n",
    "L2_U_ur_1 = (U_ur_1.T * U_ur_1)[0]\n",
    "L2_UV_r_1 = (UV_r_1.T * UV_r_1)[0]"
   ]
  },
  {
   "cell_type": "markdown",
   "metadata": {},
   "source": [
    "Use the two quadratic equations to find $y^{\\urcorner}$ and $z^\\urcorner$ "
   ]
  },
  {
   "cell_type": "code",
   "execution_count": 8,
   "metadata": {},
   "outputs": [],
   "source": [
    "Eq_L2_U_ur = sp.simplify(sp.Eq(L2_U_ur_1-L2_U_ur_0,0))\n",
    "y_ur_sol = sp.solve(Eq_L2_U_ur, y_ur)[0]\n",
    "Eq_L2_UV_r = sp.simplify(sp.Eq(L2_UV_r_1-L2_UV_r_0,0))\n",
    "Eq_L2_UV_r_z_ur = Eq_L2_UV_r.subs(y_ur, y_ur_sol)\n",
    "z_ur_sol = sp.solve(Eq_L2_UV_r_z_ur, z_ur)[0]\n",
    "U_ur = sp.Matrix([x_ur, y_ur_sol.subs(z_ur, z_ur_sol), z_ur_sol])"
   ]
  },
  {
   "cell_type": "markdown",
   "metadata": {},
   "source": [
    "The resulting position of $U^\\urcorner$ reads"
   ]
  },
  {
   "cell_type": "code",
   "execution_count": 9,
   "metadata": {},
   "outputs": [
    {
     "data": {
      "image/png": "[encoded data removed]",
      "text/latex": [
       "$\\displaystyle \\left[\\begin{matrix}x^{\\urcorner}\\\\- \\sqrt{a^{2} + b^{2} - \\left(x^{\\urcorner}\\right)^{2} - \\frac{\\left(a - x^{\\urcorner} \\sin{\\left(\\alpha \\right)}\\right)^{2}}{\\cos^{2}{\\left(\\alpha \\right)}}}\\\\\\frac{a - x^{\\urcorner} \\sin{\\left(\\alpha \\right)}}{\\cos{\\left(\\alpha \\right)}}\\end{matrix}\\right]$"
      ],
      "text/plain": [
       "⎡                         x__{\\urcorner}                          ⎤\n",
       "⎢                                                                 ⎥\n",
       "⎢       __________________________________________________________⎥\n",
       "⎢      ╱                                                        2 ⎥\n",
       "⎢     ╱   2    2                 2   (a - x__{\\urcorner}⋅sin(α))  ⎥\n",
       "⎢-   ╱   a  + b  - x__{\\urcorner}  - ──────────────────────────── ⎥\n",
       "⎢   ╱                                             2               ⎥\n",
       "⎢ ╲╱                                           cos (α)            ⎥\n",
       "⎢                                                                 ⎥\n",
       "⎢                    a - x__{\\urcorner}⋅sin(α)                    ⎥\n",
       "⎢                    ─────────────────────────                    ⎥\n",
       "⎣                              cos(α)                             ⎦"
      ]
     },
     "execution_count": 9,
     "metadata": {},
     "output_type": "execute_result"
    }
   ],
   "source": [
    "U_ur"
   ]
  },
  {
   "cell_type": "markdown",
   "metadata": {},
   "source": [
    "Check the obtained coordinates for $\\lim_{\\alpha \\rightarrow 0} U^\\urcorner$ for $x^\\urcorner = a$"
   ]
  },
  {
   "cell_type": "code",
   "execution_count": 10,
   "metadata": {},
   "outputs": [
    {
     "data": {
      "image/png": "[encoded data removed]",
      "text/latex": [
       "$\\displaystyle \\left[ a, \\  - \\sqrt{- a^{2} + b^{2}}, \\  a\\right]$"
      ],
      "text/plain": [
       "⎡       ___________   ⎤\n",
       "⎢      ╱    2    2    ⎥\n",
       "⎣a, -╲╱  - a  + b  , a⎦"
      ]
     },
     "execution_count": 10,
     "metadata": {},
     "output_type": "execute_result"
    }
   ],
   "source": [
    "[sp.limit( U_ur.subs(x_ur,a)[idx], alpha, 0) for idx in [0,1,2]]"
   ]
  },
  {
   "cell_type": "markdown",
   "metadata": {},
   "source": [
    "In a symmetric case, the other corner points can be simply mirrored \n",
    "with respect to the symmetry planes $xz$ and $xy$."
   ]
  },
  {
   "cell_type": "markdown",
   "metadata": {},
   "source": [
    "## Upper left corner in non-symmetric case\n",
    "Considering the upper left corner, we can reuse the solution of the upper right corner by\n",
    "substituting $U^{\\urcorner} = - U^\\ulcorner$\n",
    "and alternating the sign of the $x$ coordinate. "
   ]
  },
  {
   "cell_type": "code",
   "execution_count": 11,
   "metadata": {},
   "outputs": [],
   "source": [
    "x_ul = sp.symbols(r'x^{\\ulcorner}') #, negative=True)"
   ]
  },
  {
   "cell_type": "code",
   "execution_count": 12,
   "metadata": {},
   "outputs": [
    {
     "data": {
      "image/png": "[encoded data removed]",
      "text/latex": [
       "$\\displaystyle \\left[\\begin{matrix}x^{\\ulcorner}\\\\- \\sqrt{a^{2} + b^{2} - \\left(x^{\\ulcorner}\\right)^{2} - \\frac{\\left(a + x^{\\ulcorner} \\sin{\\left(\\alpha \\right)}\\right)^{2}}{\\cos^{2}{\\left(\\alpha \\right)}}}\\\\\\frac{a + x^{\\ulcorner} \\sin{\\left(\\alpha \\right)}}{\\cos{\\left(\\alpha \\right)}}\\end{matrix}\\right]$"
      ],
      "text/plain": [
       "⎡                         x__{\\ulcorner}                          ⎤\n",
       "⎢                                                                 ⎥\n",
       "⎢       __________________________________________________________⎥\n",
       "⎢      ╱                                                        2 ⎥\n",
       "⎢     ╱   2    2                 2   (a + x__{\\ulcorner}⋅sin(α))  ⎥\n",
       "⎢-   ╱   a  + b  - x__{\\ulcorner}  - ──────────────────────────── ⎥\n",
       "⎢   ╱                                             2               ⎥\n",
       "⎢ ╲╱                                           cos (α)            ⎥\n",
       "⎢                                                                 ⎥\n",
       "⎢                    a + x__{\\ulcorner}⋅sin(α)                    ⎥\n",
       "⎢                    ─────────────────────────                    ⎥\n",
       "⎣                              cos(α)                             ⎦"
      ]
     },
     "execution_count": 12,
     "metadata": {},
     "output_type": "execute_result"
    }
   ],
   "source": [
    "U_ul = U_ur.subs(x_ur, -x_ul)\n",
    "U_ul[0] *= -1\n",
    "U_ul"
   ]
  },
  {
   "cell_type": "markdown",
   "metadata": {},
   "source": [
    "Check the limits"
   ]
  },
  {
   "cell_type": "code",
   "execution_count": 13,
   "metadata": {},
   "outputs": [
    {
     "data": {
      "image/png": "[encoded data removed]",
      "text/latex": [
       "$\\displaystyle \\left[ - a, \\  - b, \\  0\\right]$"
      ],
      "text/plain": [
       "[-a, -b, 0]"
      ]
     },
     "execution_count": 13,
     "metadata": {},
     "output_type": "execute_result"
    }
   ],
   "source": [
    "[sp.limit( U_ul.subs(x_ul,-a)[idx], alpha, sp.pi/2) for idx in [0,1,2]]"
   ]
  },
  {
   "cell_type": "markdown",
   "metadata": {},
   "source": [
    "Define a vector $U^{\\ulcorner\\urcorner}$ as"
   ]
  },
  {
   "cell_type": "code",
   "execution_count": 14,
   "metadata": {},
   "outputs": [
    {
     "data": {
      "image/png": "[encoded data removed]",
      "text/latex": [
       "$\\displaystyle \\left[\\begin{matrix}- x^{\\ulcorner} + x^{\\urcorner}\\\\\\sqrt{a^{2} + b^{2} - \\left(x^{\\ulcorner}\\right)^{2} - \\frac{\\left(a + x^{\\ulcorner} \\sin{\\left(\\alpha \\right)}\\right)^{2}}{\\cos^{2}{\\left(\\alpha \\right)}}} - \\sqrt{a^{2} + b^{2} - \\left(x^{\\urcorner}\\right)^{2} - \\frac{\\left(a - x^{\\urcorner} \\sin{\\left(\\alpha \\right)}\\right)^{2}}{\\cos^{2}{\\left(\\alpha \\right)}}}\\\\- \\frac{a + x^{\\ulcorner} \\sin{\\left(\\alpha \\right)}}{\\cos{\\left(\\alpha \\right)}} + \\frac{a - x^{\\urcorner} \\sin{\\left(\\alpha \\right)}}{\\cos{\\left(\\alpha \\right)}}\\end{matrix}\\right]$"
      ],
      "text/plain": [
       "⎡                                                 -x__{\\ulcorner} + x__{\\urcor\n",
       "⎢                                                                             \n",
       "⎢      __________________________________________________________         ____\n",
       "⎢     ╱                                                        2         ╱    \n",
       "⎢    ╱   2    2                 2   (a + x__{\\ulcorner}⋅sin(α))         ╱   2 \n",
       "⎢   ╱   a  + b  - x__{\\ulcorner}  - ────────────────────────────  -    ╱   a  \n",
       "⎢  ╱                                             2                    ╱       \n",
       "⎢╲╱                                           cos (α)               ╲╱        \n",
       "⎢                                                                             \n",
       "⎢                                        a + x__{\\ulcorner}⋅sin(α)   a - x__{\\\n",
       "⎢                                      - ───────────────────────── + ─────────\n",
       "⎣                                                  cos(α)                     \n",
       "\n",
       "ner}                                                  ⎤\n",
       "                                                      ⎥\n",
       "______________________________________________________⎥\n",
       "                                                    2 ⎥\n",
       "   2                 2   (a - x__{\\urcorner}⋅sin(α))  ⎥\n",
       "+ b  - x__{\\urcorner}  - ──────────────────────────── ⎥\n",
       "                                      2               ⎥\n",
       "                                   cos (α)            ⎥\n",
       "                                                      ⎥\n",
       "urcorner}⋅sin(α)                                      ⎥\n",
       "────────────────                                      ⎥\n",
       " cos(α)                                               ⎦"
      ]
     },
     "execution_count": 14,
     "metadata": {},
     "output_type": "execute_result"
    }
   ],
   "source": [
    "UU_u_1 = U_ur - U_ul\n",
    "UU_u_1"
   ]
  },
  {
   "cell_type": "markdown",
   "metadata": {},
   "source": [
    "Verify that by substituting $u^\\urcorner = a$ and $u^\\ulcorner = -1$ the symmetric case is recovered"
   ]
  },
  {
   "cell_type": "code",
   "execution_count": 15,
   "metadata": {},
   "outputs": [
    {
     "data": {
      "image/png": "[encoded data removed]",
      "text/latex": [
       "$\\displaystyle \\left[\\begin{matrix}2 a\\\\0\\\\0\\end{matrix}\\right]$"
      ],
      "text/plain": [
       "⎡2⋅a⎤\n",
       "⎢   ⎥\n",
       "⎢ 0 ⎥\n",
       "⎢   ⎥\n",
       "⎣ 0 ⎦"
      ]
     },
     "execution_count": 15,
     "metadata": {},
     "output_type": "execute_result"
    }
   ],
   "source": [
    "UU_u_1.subs({x_ur:a, x_ul:-a})"
   ]
  },
  {
   "cell_type": "markdown",
   "metadata": {},
   "source": [
    "Considering again the non-symmetric configuration let us calculate the squaer of the vector length $| U^{\\ulcorner\\urcorner} |^2$"
   ]
  },
  {
   "cell_type": "code",
   "execution_count": 16,
   "metadata": {},
   "outputs": [
    {
     "data": {
      "image/png": "[encoded data removed]",
      "text/latex": [
       "$\\displaystyle \\left(- x^{\\ulcorner} + x^{\\urcorner}\\right)^{2} + \\left(- \\frac{a + x^{\\ulcorner} \\sin{\\left(\\alpha \\right)}}{\\cos{\\left(\\alpha \\right)}} + \\frac{a - x^{\\urcorner} \\sin{\\left(\\alpha \\right)}}{\\cos{\\left(\\alpha \\right)}}\\right)^{2} + \\left(\\sqrt{a^{2} + b^{2} - \\left(x^{\\ulcorner}\\right)^{2} - \\frac{\\left(a + x^{\\ulcorner} \\sin{\\left(\\alpha \\right)}\\right)^{2}}{\\cos^{2}{\\left(\\alpha \\right)}}} - \\sqrt{a^{2} + b^{2} - \\left(x^{\\urcorner}\\right)^{2} - \\frac{\\left(a - x^{\\urcorner} \\sin{\\left(\\alpha \\right)}\\right)^{2}}{\\cos^{2}{\\left(\\alpha \\right)}}}\\right)^{2}$"
      ],
      "text/plain": [
       "                                                                              \n",
       "                                                                              \n",
       "                                                                              \n",
       "                                  2   ⎛  a + x__{\\ulcorner}⋅sin(α)   a - x__{\\\n",
       "(-x__{\\ulcorner} + x__{\\urcorner})  + ⎜- ───────────────────────── + ─────────\n",
       "                                      ⎝            cos(α)                     \n",
       "                                                                              \n",
       "\n",
       "                                                                              \n",
       "                     ⎛      __________________________________________________\n",
       "                 2   ⎜     ╱                                                  \n",
       "urcorner}⋅sin(α)⎞    ⎜    ╱   2    2                 2   (a + x__{\\ulcorner}⋅s\n",
       "────────────────⎟  + ⎜   ╱   a  + b  - x__{\\ulcorner}  - ─────────────────────\n",
       " cos(α)         ⎠    ⎜  ╱                                             2       \n",
       "                     ⎝╲╱                                           cos (α)    \n",
       "\n",
       "                                                                            2\n",
       "________         __________________________________________________________⎞ \n",
       "      2         ╱                                                        2 ⎟ \n",
       "in(α))         ╱   2    2                 2   (a - x__{\\urcorner}⋅sin(α))  ⎟ \n",
       "───────  -    ╱   a  + b  - x__{\\urcorner}  - ──────────────────────────── ⎟ \n",
       "             ╱                                             2               ⎟ \n",
       "           ╲╱                                           cos (α)            ⎠ "
      ]
     },
     "execution_count": 16,
     "metadata": {},
     "output_type": "execute_result"
    }
   ],
   "source": [
    "L2_UU_u_1 = (UU_u_1.T * UU_u_1)[0]\n",
    "L2_UU_u_1"
   ]
  },
  {
   "cell_type": "code",
   "execution_count": 17,
   "metadata": {},
   "outputs": [],
   "source": [
    "eta = sp.symbols('eta')"
   ]
  },
  {
   "cell_type": "markdown",
   "metadata": {},
   "source": [
    "To control the twist of the non-symmetric fold mode of the waterbomb base, let us link $x^\\ulcorner$ with \n",
    "$x^\\urcorner$ by setting\n",
    "\\begin{align}\n",
    " x^\\ulcorner = - \\eta \\, x^\\urcorner\n",
    "\\end{align}"
   ]
  },
  {
   "cell_type": "code",
   "execution_count": 18,
   "metadata": {},
   "outputs": [],
   "source": [
    "x_ul_ = - eta * x_ur"
   ]
  },
  {
   "cell_type": "markdown",
   "metadata": {},
   "source": [
    "and substitute for $x^\\ulcorner$ in $|U^{\\ulcorner\\urcorner}|^2$ to obtain"
   ]
  },
  {
   "cell_type": "code",
   "execution_count": 19,
   "metadata": {},
   "outputs": [
    {
     "data": {
      "image/png": "[encoded data removed]",
      "text/latex": [
       "$\\displaystyle \\left(\\eta x^{\\urcorner} + x^{\\urcorner}\\right)^{2} + \\left(\\frac{a - x^{\\urcorner} \\sin{\\left(\\alpha \\right)}}{\\cos{\\left(\\alpha \\right)}} - \\frac{a - \\eta x^{\\urcorner} \\sin{\\left(\\alpha \\right)}}{\\cos{\\left(\\alpha \\right)}}\\right)^{2} + \\left(- \\sqrt{a^{2} + b^{2} - \\left(x^{\\urcorner}\\right)^{2} - \\frac{\\left(a - x^{\\urcorner} \\sin{\\left(\\alpha \\right)}\\right)^{2}}{\\cos^{2}{\\left(\\alpha \\right)}}} + \\sqrt{a^{2} + b^{2} - \\eta^{2} \\left(x^{\\urcorner}\\right)^{2} - \\frac{\\left(a - \\eta x^{\\urcorner} \\sin{\\left(\\alpha \\right)}\\right)^{2}}{\\cos^{2}{\\left(\\alpha \\right)}}}\\right)^{2}$"
      ],
      "text/plain": [
       "                                                                              \n",
       "                                                                              \n",
       "                                                                              \n",
       "                                   2   ⎛a - x__{\\urcorner}⋅sin(α)   a - η⋅x__{\n",
       "(η⋅x__{\\urcorner} + x__{\\urcorner})  + ⎜───────────────────────── - ──────────\n",
       "                                       ⎝          cos(α)                      \n",
       "                                                                              \n",
       "\n",
       "                                                                              \n",
       "                      ⎛        _______________________________________________\n",
       "                  2   ⎜       ╱                                               \n",
       "\\urcorner}⋅sin(α)⎞    ⎜      ╱   2    2                 2   (a - x__{\\urcorner\n",
       "─────────────────⎟  + ⎜-    ╱   a  + b  - x__{\\urcorner}  - ──────────────────\n",
       " cos(α)          ⎠    ⎜    ╱                                             2    \n",
       "                      ⎝  ╲╱                                           cos (α) \n",
       "\n",
       "                                                                              \n",
       "___________         __________________________________________________________\n",
       "         2         ╱                                                          \n",
       "}⋅sin(α))         ╱   2    2    2               2   (a - η⋅x__{\\urcorner}⋅sin(\n",
       "──────────  +    ╱   a  + b  - η ⋅x__{\\urcorner}  - ──────────────────────────\n",
       "                ╱                                                 2           \n",
       "              ╲╱                                               cos (α)        \n",
       "\n",
       "      2\n",
       "_____⎞ \n",
       "   2 ⎟ \n",
       "α))  ⎟ \n",
       "──── ⎟ \n",
       "     ⎟ \n",
       "     ⎠ "
      ]
     },
     "execution_count": 19,
     "metadata": {},
     "output_type": "execute_result"
    }
   ],
   "source": [
    "L2_UU_u_1_eta = L2_UU_u_1.subs(x_ul,x_ul_)\n",
    "L2_UU_u_1_eta"
   ]
  },
  {
   "cell_type": "markdown",
   "metadata": {},
   "source": [
    "Finally, require that the length $|U^{\\ulcorner\\urcorner}| = 2a$ is equal to the original length\n",
    "at any state of folding"
   ]
  },
  {
   "cell_type": "code",
   "execution_count": 20,
   "metadata": {},
   "outputs": [
    {
     "data": {
      "image/png": "[encoded data removed]",
      "text/latex": [
       "$\\displaystyle - 4 a^{2} + \\left(\\eta x^{\\urcorner} + x^{\\urcorner}\\right)^{2} + \\left(\\frac{a - x^{\\urcorner} \\sin{\\left(\\alpha \\right)}}{\\cos{\\left(\\alpha \\right)}} - \\frac{a - \\eta x^{\\urcorner} \\sin{\\left(\\alpha \\right)}}{\\cos{\\left(\\alpha \\right)}}\\right)^{2} + \\left(- \\sqrt{a^{2} + b^{2} - \\left(x^{\\urcorner}\\right)^{2} - \\frac{\\left(a - x^{\\urcorner} \\sin{\\left(\\alpha \\right)}\\right)^{2}}{\\cos^{2}{\\left(\\alpha \\right)}}} + \\sqrt{a^{2} + b^{2} - \\eta^{2} \\left(x^{\\urcorner}\\right)^{2} - \\frac{\\left(a - \\eta x^{\\urcorner} \\sin{\\left(\\alpha \\right)}\\right)^{2}}{\\cos^{2}{\\left(\\alpha \\right)}}}\\right)^{2} = 0$"
      ],
      "text/plain": [
       "                                                                              \n",
       "                                                                              \n",
       "                                                                              \n",
       "     2                                      2   ⎛a - x__{\\urcorner}⋅sin(α)   a\n",
       "- 4⋅a  + (η⋅x__{\\urcorner} + x__{\\urcorner})  + ⎜───────────────────────── - ─\n",
       "                                                ⎝          cos(α)             \n",
       "                                                                              \n",
       "\n",
       "                                                                              \n",
       "                               ⎛        ______________________________________\n",
       "                           2   ⎜       ╱                                      \n",
       " - η⋅x__{\\urcorner}⋅sin(α)⎞    ⎜      ╱   2    2                 2   (a - x__{\n",
       "──────────────────────────⎟  + ⎜-    ╱   a  + b  - x__{\\urcorner}  - ─────────\n",
       "          cos(α)          ⎠    ⎜    ╱                                         \n",
       "                               ⎝  ╲╱                                          \n",
       "\n",
       "                                                                              \n",
       "____________________         _________________________________________________\n",
       "                  2         ╱                                                 \n",
       "\\urcorner}⋅sin(α))         ╱   2    2    2               2   (a - η⋅x__{\\urcor\n",
       "───────────────────  +    ╱   a  + b  - η ⋅x__{\\urcorner}  - ─────────────────\n",
       "    2                    ╱                                                 2  \n",
       " cos (α)               ╲╱                                               cos (α\n",
       "\n",
       "               2    \n",
       "______________⎞     \n",
       "            2 ⎟     \n",
       "ner}⋅sin(α))  ⎟     \n",
       "───────────── ⎟  = 0\n",
       "              ⎟     \n",
       ")             ⎠     "
      ]
     },
     "execution_count": 20,
     "metadata": {},
     "output_type": "execute_result"
    }
   ],
   "source": [
    "Eq_L2_UU_u_1 = sp.Eq(L2_UU_u_1_eta-(2*a)**2, 0)\n",
    "Eq_L2_UU_u_1"
   ]
  },
  {
   "cell_type": "markdown",
   "metadata": {},
   "source": [
    "The solver "
   ]
  },
  {
   "cell_type": "code",
   "execution_count": 21,
   "metadata": {},
   "outputs": [
    {
     "data": {
      "image/png": "[encoded data removed]",
      "text/latex": [
       "$\\displaystyle \\left( 2 a \\sqrt{\\frac{- a^{2} + b^{2}}{- 4 a^{2} \\eta + b^{2} \\eta^{2} + 2 b^{2} \\eta + b^{2}}}, \\  - 2 a \\sqrt{- \\frac{a^{2} - b^{2}}{- 4 a^{2} \\eta + b^{2} \\eta^{2} + 2 b^{2} \\eta + b^{2}}}\\right)$"
      ],
      "text/plain": [
       "⎛          ________________________________             ______________________\n",
       "⎜         ╱              2    2                        ╱           ⎛ 2    2⎞  \n",
       "⎜        ╱            - a  + b                        ╱           -⎝a  - b ⎠  \n",
       "⎜2⋅a⋅   ╱   ────────────────────────────── , -2⋅a⋅   ╱   ─────────────────────\n",
       "⎜      ╱         2      2  2      2      2          ╱         2      2  2     \n",
       "⎝    ╲╱     - 4⋅a ⋅η + b ⋅η  + 2⋅b ⋅η + b         ╲╱     - 4⋅a ⋅η + b ⋅η  + 2⋅\n",
       "\n",
       "__________⎞\n",
       "          ⎟\n",
       "          ⎟\n",
       "───────── ⎟\n",
       " 2      2 ⎟\n",
       "b ⋅η + b  ⎠"
      ]
     },
     "execution_count": 21,
     "metadata": {},
     "output_type": "execute_result"
    }
   ],
   "source": [
    "x_ur_sol_1, x_ur_sol_2 = sp.solve(Eq_L2_UU_u_1.subs(alpha,0), x_ur)\n",
    "x_ur_sol_1, x_ur_sol_2"
   ]
  },
  {
   "cell_type": "markdown",
   "metadata": {},
   "source": [
    "$\\eta = 1$ recovers the symmetric case"
   ]
  },
  {
   "cell_type": "code",
   "execution_count": 22,
   "metadata": {},
   "outputs": [
    {
     "data": {
      "image/png": "[encoded data removed]",
      "text/latex": [
       "$\\displaystyle a$"
      ],
      "text/plain": [
       "a"
      ]
     },
     "execution_count": 22,
     "metadata": {},
     "output_type": "execute_result"
    }
   ],
   "source": [
    "sp.simplify(x_ur_sol_1.subs(eta,1))"
   ]
  }
 ],
 "metadata": {
  "kernelspec": {
   "display_name": "bmcs_env",
   "language": "python",
   "name": "bmcs_env"
  },
  "language_info": {
   "codemirror_mode": {
    "name": "ipython",
    "version": 3
   },
   "file_extension": ".py",
   "mimetype": "text/x-python",
   "name": "python",
   "nbconvert_exporter": "python",
   "pygments_lexer": "ipython3",
   "version": "3.9.1"
  },
  "toc": {
   "base_numbering": 1,
   "nav_menu": {},
   "number_sections": true,
   "sideBar": true,
   "skip_h1_title": true,
   "title_cell": "Table of Contents",
   "title_sidebar": "Contents",
   "toc_cell": false,
   "toc_position": {},
   "toc_section_display": true,
   "toc_window_display": false
  }
 },
 "nbformat": 4,
 "nbformat_minor": 1
}
