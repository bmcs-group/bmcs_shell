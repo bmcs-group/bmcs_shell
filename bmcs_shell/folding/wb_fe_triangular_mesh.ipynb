{
 "cells": [
  {
   "cell_type": "code",
   "execution_count": 2,
   "metadata": {
    "collapsed": true,
    "pycharm": {
     "name": "#%%\n"
    }
   },
   "outputs": [
    {
     "data": {
      "text/plain": "array([[[[ 65,  64],\n         [ 69,  68],\n         [ 67,  66]],\n\n        [[ 93,  92],\n         [ 97,  96],\n         [ 95,  94]],\n\n        [[121, 120],\n         [125, 124],\n         [123, 122]],\n\n        [[149, 148],\n         [153, 152],\n         [151, 150]]],\n\n\n       [[[ 72,  71],\n         [ 76,  75],\n         [ 74,  73]],\n\n        [[100,  99],\n         [104, 103],\n         [102, 101]],\n\n        [[128, 127],\n         [132, 131],\n         [130, 129]],\n\n        [[156, 155],\n         [160, 159],\n         [158, 157]]],\n\n\n       [[[ 79,  78],\n         [ 83,  82],\n         [ 81,  80]],\n\n        [[107, 106],\n         [111, 110],\n         [109, 108]],\n\n        [[135, 134],\n         [139, 138],\n         [137, 136]],\n\n        [[163, 162],\n         [167, 166],\n         [165, 164]]],\n\n\n       [[[ 86,  85],\n         [ 90,  89],\n         [ 88,  87]],\n\n        [[114, 113],\n         [118, 117],\n         [116, 115]],\n\n        [[142, 141],\n         [146, 145],\n         [144, 143]],\n\n        [[170, 169],\n         [174, 173],\n         [172, 171]]]])"
     },
     "execution_count": 2,
     "metadata": {},
     "output_type": "execute_result"
    }
   ],
   "source": [
    "from bmcs_shell.folding.wb_shell_geometry import WBShellGeometry\n",
    "from bmcs_shell.folding.wb_fe_triangular_mesh import WBShellFETriangularMesh\n",
    "\n",
    "geo = WBShellGeometry()\n",
    "\n",
    "fe_mesh = WBShellFETriangularMesh(geo=geo, direct_mesh=True)\n",
    "\n",
    "fe_mesh.I_CDij"
   ]
  },
  {
   "cell_type": "code",
   "execution_count": null,
   "outputs": [],
   "source": [
    "fe_mesh.interact()"
   ],
   "metadata": {
    "collapsed": false,
    "pycharm": {
     "name": "#%%\n"
    }
   }
  },
  {
   "cell_type": "code",
   "execution_count": null,
   "outputs": [],
   "source": [],
   "metadata": {
    "collapsed": false,
    "pycharm": {
     "name": "#%%\n"
    }
   }
  }
 ],
 "metadata": {
  "kernelspec": {
   "name": "bmcs_env",
   "language": "python",
   "display_name": "bmcs_env"
  },
  "language_info": {
   "codemirror_mode": {
    "name": "ipython",
    "version": 2
   },
   "file_extension": ".py",
   "mimetype": "text/x-python",
   "name": "python",
   "nbconvert_exporter": "python",
   "pygments_lexer": "ipython2",
   "version": "2.7.6"
  }
 },
 "nbformat": 4,
 "nbformat_minor": 0
}