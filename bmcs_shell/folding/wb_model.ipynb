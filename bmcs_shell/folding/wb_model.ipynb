{
 "cells": [
  {
   "cell_type": "code",
   "execution_count": 1,
   "metadata": {
    "hide_input": true,
    "slideshow": {
     "slide_type": "slide"
    }
   },
   "outputs": [],
   "source": [
    "%matplotlib widget\n",
    "from bmcs_shell.folding.wb_model import WBModel\n",
    "from bmcs_shell.folding.vmats2D_elastic import MATS2DElastic\n",
    "import bmcs_utils.api as bu"
   ]
  },
  {
   "cell_type": "code",
   "execution_count": 2,
   "metadata": {
    "hide_input": true,
    "scrolled": false,
    "slideshow": {
     "slide_type": "slide"
    }
   },
   "outputs": [
    {
     "data": {
      "application/vnd.jupyter.widget-view+json": {
       "model_id": "4c271c153e5e4d7ea14c52255cab4ca1",
       "version_major": 2,
       "version_minor": 0
      },
      "text/plain": [
       "Plot(antialias=3, axes=['x', 'y', 'z'], axes_helper=1.0, background_color=16777215, camera=[2, -3, 0.2, 0.0, 0…"
      ]
     },
     "metadata": {},
     "output_type": "display_data"
    },
    {
     "data": {
      "application/vnd.jupyter.widget-view+json": {
       "model_id": "5acaea55b8b94e47931d9170323e35c9",
       "version_major": 2,
       "version_minor": 0
      },
      "text/plain": [
       "VBox(children=(Output(outputs=({'output_type': 'display_data', 'data': {}, 'metadata': {}},)), Tab(children=(V…"
      ]
     },
     "metadata": {},
     "output_type": "display_data"
    }
   ],
   "source": [
    "tmodel = MATS2DElastic(E=28000, nu=0.2)\n",
    "n_phi_plus=4\n",
    "n_x_plus=4\n",
    "wbm = WBModel(F=-1000, h=10, tmodel=tmodel)\n",
    "data = dict(alpha=1.24, a=500, a_high=2000, b=900, b_high=2000, c=400, c_high=2000,\n",
    "            n_phi_plus=n_phi_plus, n_x_plus=n_x_plus)\n",
    "wbm.wb_mesh.trait_set(**data);\n",
    "bu.InteractiveWindow([wbm.wb_mesh.wb_cell,wbm.wb_mesh,wbm]).interact()"
   ]
  },
  {
   "cell_type": "code",
   "execution_count": 3,
   "metadata": {},
   "outputs": [
    {
     "data": {
      "text/plain": [
       "2.7594219924496195"
      ]
     },
     "execution_count": 3,
     "metadata": {},
     "output_type": "execute_result"
    }
   ],
   "source": [
    "tmodel = MATS2DElastic(E=28000, nu=0.2)\n",
    "n_phi_plus, n_x_plus = 4, 4\n",
    "wbm = WBModel(F=-10000, h=10, tmodel=tmodel)\n",
    "data = dict(alpha=0.9, a=500, a_high=2000, b=1250, b_high=2000, c=400, c_high=2000,\n",
    "            n_phi_plus=n_phi_plus, n_x_plus=n_x_plus)\n",
    "wbm.wb_mesh.trait_set(**data);\n",
    "wbm.get_max_vals()"
   ]
  },
  {
   "cell_type": "code",
   "execution_count": 10,
   "metadata": {},
   "outputs": [
    {
     "data": {
      "application/vnd.jupyter.widget-view+json": {
       "model_id": "29a968416a794b9da505244b84afc8ba",
       "version_major": 2,
       "version_minor": 0
      },
      "text/plain": [
       "Plot(antialias=3, axes=['x', 'y', 'z'], axes_helper=1.0, background_color=16777215, camera=[2, -3, 0.2, 0.0, 0…"
      ]
     },
     "metadata": {},
     "output_type": "display_data"
    },
    {
     "data": {
      "application/vnd.jupyter.widget-view+json": {
       "model_id": "9399caebaa7d42ec82687116f2056c9d",
       "version_major": 2,
       "version_minor": 0
      },
      "text/plain": [
       "VBox(children=(Output(outputs=({'output_type': 'display_data', 'data': {}, 'metadata': {}},)), Tab(children=(V…"
      ]
     },
     "metadata": {},
     "output_type": "display_data"
    }
   ],
   "source": [
    "wbm.wb_mesh.interact()"
   ]
  },
  {
   "cell_type": "code",
   "execution_count": 58,
   "metadata": {},
   "outputs": [],
   "source": [
    "alpha_range = np.linspace(0.5, 1.3, 10)\n",
    "a_range = np.linspace(300,500,10)"
   ]
  },
  {
   "cell_type": "code",
   "execution_count": 68,
   "metadata": {},
   "outputs": [
    {
     "name": "stdout",
     "output_type": "stream",
     "text": [
      "0.5 300.0 5.342896740384074\n",
      "0.5 322.22222222222223 5.518069993960762\n",
      "0.5 344.44444444444446 5.724634399202543\n",
      "0.5 366.66666666666663 5.968875797489937\n",
      "0.5 388.8888888888889 6.258809029692093\n",
      "0.5 411.1111111111111 6.605200510225173\n",
      "0.5 433.3333333333333 7.0225519796318085\n",
      "0.5 455.55555555555554 7.530667406965082\n",
      "0.5 477.77777777777777 8.157553490576323\n",
      "0.5 500.0 8.943808732267044\n",
      "0.5888888888888889 300.0 4.058580605328572\n",
      "0.5888888888888889 322.22222222222223 4.197277548851557\n",
      "0.5888888888888889 344.44444444444446 4.362516333483624\n",
      "0.5888888888888889 366.66666666666663 4.559840166776195\n",
      "0.5888888888888889 388.8888888888889 4.796492063983594\n",
      "0.5888888888888889 411.1111111111111 5.0822407407693815\n",
      "0.5888888888888889 433.3333333333333 5.430591835672413\n",
      "0.5888888888888889 455.55555555555554 5.860312378414578\n",
      "0.5888888888888889 477.77777777777777 6.398691486347742\n",
      "0.5888888888888889 500.0 7.086098601371131\n",
      "0.6777777777777778 300.0 3.2578066791882847\n",
      "0.6777777777777778 322.22222222222223 3.3759110396123235\n",
      "0.6777777777777778 344.44444444444446 3.5182282209668365\n",
      "0.6777777777777778 366.66666666666663 3.690111592744772\n",
      "0.6777777777777778 388.8888888888889 3.8987292578777883\n",
      "0.6777777777777778 411.1111111111111 4.153915006773563\n",
      "0.6777777777777778 433.3333333333333 4.469538352696576\n",
      "0.6777777777777778 455.55555555555554 4.865509561794907\n",
      "0.6777777777777778 477.77777777777777 5.371496215815904\n",
      "0.6777777777777778 500.0 6.033106313943601\n",
      "0.7666666666666666 300.0 2.7336578901705653\n",
      "0.7666666666666666 322.22222222222223 2.8410857344288316\n",
      "0.7666666666666666 344.44444444444446 2.972151920144676\n",
      "0.7666666666666666 366.66666666666663 3.132466785167769\n",
      "0.7666666666666666 388.8888888888889 3.3297622893725567\n",
      "0.7666666666666666 411.1111111111111 3.574927245239512\n",
      "0.7666666666666666 433.3333333333333 3.883724063402367\n",
      "0.7666666666666666 455.55555555555554 4.279658659361025\n",
      "0.7666666666666666 477.77777777777777 4.798976362189456\n",
      "0.7666666666666666 500.0 5.500179944192225\n",
      "0.8555555555555556 300.0 2.382126077190511\n",
      "0.8555555555555556 322.22222222222223 2.4861922457225356\n",
      "0.8555555555555556 344.44444444444446 2.6148280369642096\n",
      "0.8555555555555556 366.66666666666663 2.7744514592902263\n",
      "0.8555555555555556 388.8888888888889 2.9741680586788135\n",
      "0.8555555555555556 411.1111111111111 3.227265672388976\n",
      "0.8555555555555556 433.3333333333333 3.553681353061885\n",
      "0.8555555555555556 455.55555555555554 3.9844419141980785\n",
      "0.8555555555555556 477.77777777777777 4.56991921959941\n",
      "0.8555555555555556 500.0 5.396299626307326\n",
      "0.9444444444444444 300.0 2.1477995617194585\n",
      "0.9444444444444444 322.22222222222223 2.254985224241257\n",
      "0.9444444444444444 344.44444444444446 2.3893588600061806\n",
      "0.9444444444444444 366.66666666666663 2.558959248087288\n",
      "0.9444444444444444 388.8888888888889 2.775628466567857\n",
      "0.9444444444444444 411.1111111111111 3.05734819196799\n",
      "0.9444444444444444 433.3333333333333 3.4324382491798344\n",
      "0.9444444444444444 455.55555555555554 3.947499223109359\n",
      "0.9444444444444444 477.77777777777777 4.6834913686960515\n",
      "0.9444444444444444 500.0 5.790741072538883\n",
      "1.0333333333333332 300.0 2.001085594722307\n",
      "1.0333333333333332 322.22222222222223 2.1183110435842187\n",
      "1.0333333333333332 344.44444444444446 2.2677647997011943\n",
      "1.0333333333333332 366.66666666666663 2.460569392198993\n",
      "1.0333333333333332 388.8888888888889 2.7138679257347924\n",
      "1.0333333333333332 411.1111111111111 3.0551058198926824\n",
      "1.0333333333333332 433.3333333333333 3.530259876864668\n",
      "1.0333333333333332 455.55555555555554 4.221045840485595\n",
      "1.0333333333333332 477.77777777777777 5.283601241549944\n",
      "1.0333333333333332 500.0 7.043535294886342\n",
      "1.1222222222222222 300.0 1.9282352258229536\n",
      "1.1222222222222222 322.22222222222223 2.064338234475\n",
      "1.1222222222222222 344.44444444444446 2.2418966470851056\n",
      "1.1222222222222222 366.66666666666663 2.4781480500135125\n",
      "1.1222222222222222 388.8888888888889 2.80123798727728\n",
      "1.1222222222222222 411.1111111111111 3.259427507348613\n",
      "1.1222222222222222 433.3333333333333 3.9410035327358557\n",
      "1.1222222222222222 455.55555555555554 5.02130047369611\n",
      "1.1222222222222222 477.77777777777777 6.884511753629591\n",
      "1.1222222222222222 500.0 10.472892414836814\n",
      "1.2111111111111112 300.0 1.9277749651168246\n",
      "1.2111111111111112 322.22222222222223 2.096219271170778\n",
      "1.2111111111111112 344.44444444444446 2.3238803027990618\n",
      "1.2111111111111112 366.66666666666663 2.641228877298956\n",
      "1.2111111111111112 388.8888888888889 3.102004224665357\n",
      "1.2111111111111112 411.1111111111111 3.8082742549578654\n",
      "1.2111111111111112 433.3333333333333 4.973126162073485\n",
      "1.2111111111111112 455.55555555555554 7.094816434442294\n",
      "1.2111111111111112 477.77777777777777 11.494762978351098\n",
      "1.2111111111111112 500.0 21.966512995065973\n",
      "1.3 300.0 2.014074321267136\n",
      "1.3 322.22222222222223 2.2396269234259014\n",
      "1.3 344.44444444444446 2.561850793109214\n",
      "1.3 366.66666666666663 3.044176926801858\n",
      "1.3 388.8888888888889 3.812936288437541\n",
      "1.3 411.1111111111111 5.149469556506102\n",
      "1.3 433.3333333333333 7.768890876302083\n",
      "1.3 455.55555555555554 13.761000968910931\n",
      "1.3 477.77777777777777 29.21445199533906\n",
      "1.3 500.0 52.99013201629353\n"
     ]
    }
   ],
   "source": [
    "tmodel = MATS2DElastic(E=28000, nu=0.2)\n",
    "import numpy as np\n",
    "U_grid = []\n",
    "sig_grid = []\n",
    "for alpha in alpha_range:\n",
    "    U_list = []\n",
    "    sig_list = []\n",
    "    for a in a_range:\n",
    "        wbm = WBModel(F=-20000, h=10, tmodel=tmodel)\n",
    "        data = dict(alpha=alpha, a=a, a_high=2000, b=1250, b_high=2000, c=400, c_high=2000,\n",
    "                    n_phi_plus=n_phi_plus, n_x_plus=n_x_plus)\n",
    "        wbm.wb_mesh.trait_set(**data)\n",
    "        max_U = wbm.get_max_vals()\n",
    "        \n",
    "        U1 = wbm.hist.U_t[-1]\n",
    "        eps1 = wbm.fe_domain[0].xdomain.map_U_to_field(U1)\n",
    "        sig1, _ = wbm.fe_domain[0].tmodel.get_corr_pred(eps1,1)\n",
    "        sig_x, sig_y, tau = sig1.T\n",
    "        sig_ab = np.einsum('ab...->...ab', np.array([[sig_x, tau], [tau, sig_y]], dtype=np.float))\n",
    "        sig_val, sig_dir = np.linalg.eig(sig_ab)\n",
    "        sig_list.append([np.min(sig_val), np.max(sig_val)])\n",
    "\n",
    "        print(alpha, a, max_U)\n",
    "        U_list.append(max_U)\n",
    "    U_grid.append(U_list)\n",
    "    sig_grid.append(sig_list)"
   ]
  },
  {
   "cell_type": "code",
   "execution_count": 84,
   "metadata": {
    "pycharm": {
     "name": "#%%\n"
    },
    "scrolled": false,
    "slideshow": {
     "slide_type": "slide"
    }
   },
   "outputs": [
    {
     "data": {
      "application/vnd.jupyter.widget-view+json": {
       "model_id": "dbe881eef81f4dda89a50eab1471692e",
       "version_major": 2,
       "version_minor": 0
      },
      "text/plain": [
       "Canvas(toolbar=Toolbar(toolitems=[('Home', 'Reset original view', 'home', 'home'), ('Back', 'Back to previous …"
      ]
     },
     "metadata": {},
     "output_type": "display_data"
    },
    {
     "data": {
      "text/plain": [
       "Text(0.5, 0, 'max compression [MPa]')"
      ]
     },
     "execution_count": 84,
     "metadata": {},
     "output_type": "execute_result"
    }
   ],
   "source": [
    "from mpl_toolkits.mplot3d import Axes3D\n",
    "import matplotlib.pyplot as plt\n",
    "from matplotlib import cm\n",
    "from matplotlib.ticker import LinearLocator, FormatStrFormatter\n",
    "fig = plt.figure()\n",
    "ax = fig.gca(projection='3d')\n",
    "X, Y = np.meshgrid(alpha_range, a_range)\n",
    "Z = np.array(U_grid)\n",
    "surf = ax.plot_surface(X, Y, Z, \n",
    "                       color='green',\n",
    "                       #linewidth=0, antialiased=False)\n",
    "                    alpha=.0, linewidth=5,\n",
    "                       #cmap=cm.gist_earth,antialiased=False, \n",
    "                shade=False,rstride=1, cstride=1)\n",
    "Z = np.array(sig_grid)[:,:,1]\n",
    "# surf = ax.plot_surface(X, Y, Z,color='red', \n",
    "#                        #cmap=cm.copper,\n",
    "#                     alpha=.3, linewidth=3,\n",
    "#                        #cmap=cm.gist_earth,antialiased=False, \n",
    "#                 shade=False,rstride=1, cstride=1)\n",
    "# Z = -np.array(sig_grid)[:,:,0]\n",
    "# surf = ax.plot_surface(X, Y, Z,color='blue', \n",
    "#                        #cmap=cm.copper,\n",
    "#                     alpha=.6, linewidth=3,\n",
    "#                        #cmap=cm.gist_earth,antialiased=False, \n",
    "#                 shade=False,rstride=1, cstride=1)\n",
    "ax.set_xlabel(r'$\\alpha~[\\mathrm{rad}]$')\n",
    "ax.set_ylabel(r'$a~[\\mathrm{mm}]$')\n",
    "ax.set_zlabel(r'max compression [MPa]')\n"
   ]
  },
  {
   "cell_type": "code",
   "execution_count": 67,
   "metadata": {},
   "outputs": [
    {
     "name": "stdout",
     "output_type": "stream",
     "text": [
      "alpha 0.5 a 500.0\n"
     ]
    },
    {
     "data": {
      "application/vnd.jupyter.widget-view+json": {
       "model_id": "5fdba18ad9204fd0829a47ef38bf4541",
       "version_major": 2,
       "version_minor": 0
      },
      "text/plain": [
       "Plot(antialias=3, axes=['x', 'y', 'z'], axes_helper=1.0, background_color=16777215, camera=[2, -3, 0.2, 0.0, 0…"
      ]
     },
     "metadata": {},
     "output_type": "display_data"
    },
    {
     "data": {
      "application/vnd.jupyter.widget-view+json": {
       "model_id": "a54f20bad69d4895a3c3445c745ebf7f",
       "version_major": 2,
       "version_minor": 0
      },
      "text/plain": [
       "VBox(children=(Output(outputs=({'output_type': 'display_data', 'data': {}, 'metadata': {}},)), Tab(children=(V…"
      ]
     },
     "metadata": {},
     "output_type": "display_data"
    }
   ],
   "source": [
    "i_alpha, i_a = 0, -1\n",
    "wbm = WBModel(F=-1000, tmodel=tmodel)\n",
    "print('alpha', alpha_range[i_alpha],'a', a_range[i_a] )\n",
    "data = dict(alpha=alpha_range[i_alpha], \n",
    "            a=a_range[i_a], a_high=2000, b=1250, b_high=2000, c=400, c_high=2000,\n",
    "            n_phi_plus=n_phi_plus, n_x_plus=n_x_plus)\n",
    "wbm.wb_mesh.trait_set(**data)\n",
    "wbm.wb_mesh.interact()"
   ]
  },
  {
   "cell_type": "code",
   "execution_count": null,
   "metadata": {},
   "outputs": [],
   "source": [
    "15000 / 39000 "
   ]
  },
  {
   "cell_type": "code",
   "execution_count": null,
   "metadata": {},
   "outputs": [],
   "source": []
  },
  {
   "cell_type": "code",
   "execution_count": null,
   "metadata": {},
   "outputs": [],
   "source": []
  },
  {
   "cell_type": "code",
   "execution_count": null,
   "metadata": {},
   "outputs": [],
   "source": []
  },
  {
   "cell_type": "code",
   "execution_count": null,
   "metadata": {},
   "outputs": [],
   "source": []
  }
 ],
 "metadata": {
  "kernelspec": {
   "display_name": "bmcs_env",
   "language": "python",
   "name": "bmcs_env"
  },
  "language_info": {
   "codemirror_mode": {
    "name": "ipython",
    "version": 3
   },
   "file_extension": ".py",
   "mimetype": "text/x-python",
   "name": "python",
   "nbconvert_exporter": "python",
   "pygments_lexer": "ipython3",
   "version": "3.9.0"
  },
  "toc": {
   "base_numbering": 1,
   "nav_menu": {},
   "number_sections": true,
   "sideBar": true,
   "skip_h1_title": true,
   "title_cell": "Table of Contents",
   "title_sidebar": "Contents",
   "toc_cell": false,
   "toc_position": {},
   "toc_section_display": true,
   "toc_window_display": false
  }
 },
 "nbformat": 4,
 "nbformat_minor": 1
}