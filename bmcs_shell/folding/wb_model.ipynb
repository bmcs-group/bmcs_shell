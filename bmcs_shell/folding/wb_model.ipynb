{
 "cells": [
  {
   "cell_type": "code",
   "execution_count": 15,
   "metadata": {
    "hide_input": false,
    "slideshow": {
     "slide_type": "slide"
    }
   },
   "outputs": [],
   "source": [
    "%matplotlib widget\n",
    "from bmcs_shell.folding.wb_model import WBModel\n",
    "from bmcs_shell.folding.vmats2D_elastic import MATS2DElastic\n",
    "import bmcs_utils.api as bu"
   ]
  },
  {
   "cell_type": "code",
   "execution_count": 18,
   "metadata": {
    "hide_input": false,
    "slideshow": {
     "slide_type": "slide"
    }
   },
   "outputs": [],
   "source": [
    "tmodel = MATS2DElastic(E=28000, nu=0.2)\n",
    "n_phi_plus=4\n",
    "n_x_plus=2\n",
    "wbm = WBModel(F=-20000, h=10, tmodel=tmodel)\n",
    "data = dict(alpha=1.24, a=500, a_high=3000, b=900, b_high=3000, c=400, c_high=2000,\n",
    "            n_phi_plus=n_phi_plus, n_x_plus=n_x_plus, show_nodes=False)\n",
    "wbm.wb_mesh.trait_set(**data);"
   ]
  },
  {
   "cell_type": "code",
   "execution_count": 19,
   "metadata": {
    "scrolled": false
   },
   "outputs": [
    {
     "data": {
      "application/vnd.jupyter.widget-view+json": {
       "model_id": "b1c82555479f4b80bc031af83bd503e8",
       "version_major": 2,
       "version_minor": 0
      },
      "text/plain": [
       "VBox(children=(HBox(children=(VBox(children=(Tree(layout=Layout(align_items='stretch', border='solid 1px black…"
      ]
     },
     "metadata": {},
     "output_type": "display_data"
    }
   ],
   "source": [
    "wbm.interact()"
   ]
  },
  {
   "cell_type": "code",
   "execution_count": 4,
   "metadata": {},
   "outputs": [
    {
     "data": {
      "text/plain": [
       "array([[[[23, 22],\n",
       "         [27, 26],\n",
       "         [25, 24]],\n",
       "\n",
       "        [[51, 50],\n",
       "         [55, 54],\n",
       "         [53, 52]]],\n",
       "\n",
       "\n",
       "       [[[30, 29],\n",
       "         [34, 33],\n",
       "         [32, 31]],\n",
       "\n",
       "        [[58, 57],\n",
       "         [62, 61],\n",
       "         [60, 59]]],\n",
       "\n",
       "\n",
       "       [[[37, 36],\n",
       "         [41, 40],\n",
       "         [39, 38]],\n",
       "\n",
       "        [[65, 64],\n",
       "         [69, 68],\n",
       "         [67, 66]]],\n",
       "\n",
       "\n",
       "       [[[44, 43],\n",
       "         [48, 47],\n",
       "         [46, 45]],\n",
       "\n",
       "        [[72, 71],\n",
       "         [76, 75],\n",
       "         [74, 73]]]])"
      ]
     },
     "execution_count": 4,
     "metadata": {},
     "output_type": "execute_result"
    }
   ],
   "source": [
    "xmodel = wbm.fe_domain[0].xmodel\n",
    "xmodel.mesh.I_CDij"
   ]
  },
  {
   "cell_type": "code",
   "execution_count": 5,
   "metadata": {},
   "outputs": [],
   "source": [
    "_, idx_remap = xmodel.mesh.unique_node_map"
   ]
  },
  {
   "cell_type": "code",
   "execution_count": 6,
   "metadata": {},
   "outputs": [
    {
     "data": {
      "text/plain": [
       "array([[[[19, 18],\n",
       "         [21,  2],\n",
       "         [20,  6]],\n",
       "\n",
       "        [[34, 33],\n",
       "         [ 1, 36],\n",
       "         [ 5, 35]]],\n",
       "\n",
       "\n",
       "       [[[20,  6],\n",
       "         [24,  4],\n",
       "         [23, 11]],\n",
       "\n",
       "        [[ 5, 35],\n",
       "         [ 3, 39],\n",
       "         [10, 38]]],\n",
       "\n",
       "\n",
       "       [[[23, 11],\n",
       "         [27,  9],\n",
       "         [26, 16]],\n",
       "\n",
       "        [[10, 38],\n",
       "         [ 8, 42],\n",
       "         [15, 41]]],\n",
       "\n",
       "\n",
       "       [[[26, 16],\n",
       "         [31, 14],\n",
       "         [30, 29]],\n",
       "\n",
       "        [[15, 41],\n",
       "         [13, 46],\n",
       "         [45, 44]]]])"
      ]
     },
     "execution_count": 6,
     "metadata": {},
     "output_type": "execute_result"
    }
   ],
   "source": [
    "idx_remap[xmodel.mesh.I_CDij]"
   ]
  },
  {
   "cell_type": "code",
   "execution_count": 7,
   "metadata": {},
   "outputs": [
    {
     "data": {
      "text/plain": [
       "array([19, 18, 34, 33, 30, 29, 45, 44])"
      ]
     },
     "execution_count": 7,
     "metadata": {},
     "output_type": "execute_result"
    }
   ],
   "source": [
    "idx_remap[xmodel.mesh.I_CDij[(0, -1),:,(0, -1),:].flatten()]"
   ]
  },
  {
   "cell_type": "code",
   "execution_count": 8,
   "metadata": {},
   "outputs": [
    {
     "data": {
      "text/latex": [
       "\n",
       "        \\begin{array}{lrrl}\\hline\n",
       "        \\textrm{change} & \\textrm{<missing>} & & \\textrm{None}  \\\\\n",
       "                \\textrm{coord_min} & \\textrm{[0.0 0.0 0.0]} & & \\textrm{None}  \\\\\n",
       "                \\textrm{coord_max} & \\textrm{[1.0 1.0 1.0]} & & \\textrm{None}  \\\\\n",
       "                \\textrm{shape} & \\textrm{[1 1 1]} & & \\textrm{None}  \\\\\n",
       "                \\textrm{integ_factor} & \\textrm{2.0} & & \\textrm{None}  \\\\\n",
       "                \\hline\n",
       "        \\hline\n",
       "        \\end{array}\n",
       "        "
      ],
      "text/plain": [
       "<bmcs_shell.folding.wbfe_xdomain.XWBDomain at 0x7f0c56092680>"
      ]
     },
     "execution_count": 8,
     "metadata": {},
     "output_type": "execute_result"
    }
   ],
   "source": [
    "xmodel"
   ]
  },
  {
   "cell_type": "code",
   "execution_count": 9,
   "metadata": {},
   "outputs": [
    {
     "data": {
      "application/vnd.jupyter.widget-view+json": {
       "model_id": "eba0cea7e7c3401999957ca0c455cdc5",
       "version_major": 2,
       "version_minor": 0
      },
      "text/plain": [
       "VBox(children=(HBox(children=(VBox(children=(Tree(layout=Layout(align_items='stretch', border='solid 1px black…"
      ]
     },
     "metadata": {},
     "output_type": "display_data"
    }
   ],
   "source": [
    "wbm.interact()"
   ]
  },
  {
   "cell_type": "code",
   "execution_count": 10,
   "metadata": {},
   "outputs": [],
   "source": [
    "import numpy as np\n",
    "alpha_range = np.linspace(0.5, 1.3, 10)\n",
    "a_range = np.linspace(300,500,10)"
   ]
  },
  {
   "cell_type": "code",
   "execution_count": 11,
   "metadata": {},
   "outputs": [
    {
     "name": "stdout",
     "output_type": "stream",
     "text": [
      "0.5 300.0 7.583016453714706\n",
      "0.5 322.22222222222223 7.800681817622978\n",
      "0.5 344.44444444444446 8.056627589261682\n",
      "0.5 366.66666666666663 8.358826600370564\n",
      "0.5 388.8888888888889 8.717377303941058\n",
      "0.5 411.1111111111111 9.145846720155735\n",
      "0.5 433.3333333333333 9.662456725635641\n",
      "0.5 455.55555555555554 10.29196375151712\n",
      "0.5 477.77777777777777 11.069346743098485\n",
      "0.5 500.0 12.045235195068496\n",
      "0.5888888888888889 300.0 5.753776551498765\n",
      "0.5888888888888889 322.22222222222223 5.924488318448107\n",
      "0.5888888888888889 344.44444444444446 6.127736629435401\n",
      "0.5888888888888889 366.66666666666663 6.370554291869256\n",
      "0.5888888888888889 388.8888888888889 6.662075735007781\n",
      "0.5888888888888889 411.1111111111111 7.014587303366085\n",
      "0.5888888888888889 433.3333333333333 7.445033642488308\n",
      "0.5888888888888889 455.55555555555554 7.976847791936937\n",
      "0.5888888888888889 477.77777777777777 8.644095841773822\n",
      "0.5888888888888889 500.0 9.497125393085568\n",
      "0.6777777777777778 300.0 4.611177090837974\n",
      "0.6777777777777778 322.22222222222223 4.75514401493067\n",
      "0.6777777777777778 344.44444444444446 4.928963524942639\n",
      "0.6777777777777778 366.66666666666663 5.139422697349242\n",
      "0.6777777777777778 388.8888888888889 5.395562584852783\n",
      "0.6777777777777778 411.1111111111111 5.709724321087918\n",
      "0.6777777777777778 433.3333333333333 6.099263362471096\n",
      "0.6777777777777778 455.55555555555554 6.589024007140301\n",
      "0.6777777777777778 477.77777777777777 7.216030514936243\n",
      "0.6777777777777778 500.0 8.037288738398301\n",
      "0.7666666666666666 300.0 3.8604492814134415\n",
      "0.7666666666666666 322.22222222222223 3.990235235469243\n",
      "0.7666666666666666 344.44444444444446 4.14934899601035\n",
      "0.7666666666666666 366.66666666666663 4.344891821649109\n",
      "0.7666666666666666 388.8888888888889 4.5865899518775315\n",
      "0.7666666666666666 411.1111111111111 4.888077971201348\n",
      "0.7666666666666666 433.3333333333333 5.269033367794401\n",
      "0.7666666666666666 455.55555555555554 5.758788396700459\n",
      "0.7666666666666666 477.77777777777777 6.40265612433888\n",
      "0.7666666666666666 500.0 7.274184845542334\n",
      "0.8555555555555556 300.0 3.35291885542045\n",
      "0.8555555555555556 322.22222222222223 3.477755719221201\n",
      "0.8555555555555556 344.44444444444446 3.633275745807278\n",
      "0.8555555555555556 366.66666666666663 3.827574663156504\n",
      "0.8555555555555556 388.8888888888889 4.072065245743213\n",
      "0.8555555555555556 411.1111111111111 4.383340943408255\n",
      "0.8555555555555556 433.3333333333333 4.786273683332968\n",
      "0.8555555555555556 455.55555555555554 5.319672452685988\n",
      "0.8555555555555556 477.77777777777777 6.0469282434690435\n",
      "0.8555555555555556 500.0 7.07759092863202\n",
      "0.9444444444444444 300.0 3.008616037447875\n",
      "0.9444444444444444 322.22222222222223 3.1366894466853\n",
      "0.9444444444444444 344.44444444444446 3.298935416861065\n",
      "0.9444444444444444 366.66666666666663 3.50544376763902\n",
      "0.9444444444444444 388.8888888888889 3.7709999220722943\n",
      "0.9444444444444444 411.1111111111111 4.118029026527629\n",
      "0.9444444444444444 433.3333333333333 4.581974728976975\n",
      "0.9444444444444444 455.55555555555554 5.221596974807872\n",
      "0.9444444444444444 477.77777777777777 6.140182304925907\n",
      "0.9444444444444444 500.0 7.532677050808906\n",
      "1.0333333333333332 300.0 2.7836776822870206\n",
      "1.0333333333333332 322.22222222222223 2.9238306117252204\n",
      "1.0333333333333332 344.44444444444446 3.104727089930064\n",
      "1.0333333333333332 366.66666666666663 3.340244710701711\n",
      "1.0333333333333332 388.8888888888889 3.6517429402215527\n",
      "1.0333333333333332 411.1111111111111 4.073592711610408\n",
      "1.0333333333333332 433.3333333333333 4.66394797877036\n",
      "1.0333333333333332 455.55555555555554 5.527616918684139\n",
      "1.0333333333333332 477.77777777777777 6.868581257882736\n",
      "1.0333333333333332 500.0 9.124579497149144\n",
      "1.1222222222222222 300.0 2.6559092641697566\n",
      "1.1222222222222222 322.22222222222223 2.8197049394978633\n",
      "1.1222222222222222 344.44444444444446 3.0360974766595437\n",
      "1.1222222222222222 366.66666666666663 3.326516453749221\n",
      "1.1222222222222222 388.8888888888889 3.726230677423859\n",
      "1.1222222222222222 411.1111111111111 4.296547808916311\n",
      "1.1222222222222222 433.3333333333333 5.15153532270907\n",
      "1.1222222222222222 455.55555555555554 6.522479110390498\n",
      "1.1222222222222222 477.77777777777777 8.933085134917109\n",
      "1.1222222222222222 500.0 13.762113061020877\n",
      "1.2111111111111112 300.0 2.6190720944070747\n",
      "1.2111111111111112 322.22222222222223 2.8244194322153167\n",
      "1.2111111111111112 344.44444444444446 3.104874602725074\n",
      "1.2111111111111112 366.66666666666663 3.4986276704579065\n",
      "1.2111111111111112 388.8888888888889 4.0743446393632015\n",
      "1.2111111111111112 411.1111111111111 4.965137895537464\n",
      "1.2111111111111112 433.3333333333333 6.455420038034359\n",
      "1.2111111111111112 455.55555555555554 9.237034149002843\n",
      "1.2111111111111112 477.77777777777777 15.328522122534114\n",
      "1.2111111111111112 500.0 32.388573467708824\n",
      "1.3 300.0 2.683537656152928\n",
      "1.3 322.22222222222223 2.9633082133736477\n",
      "1.3 344.44444444444446 3.3658362082602222\n",
      "1.3 366.66666666666663 3.9727468257133562\n",
      "1.3 388.8888888888889 4.95055520771405\n",
      "1.3 411.1111111111111 6.67995338120399\n",
      "1.3 433.3333333333333 10.179425620644809\n",
      "1.3 455.55555555555554 18.877514626127997\n",
      "1.3 477.77777777777777 48.94105888163569\n",
      "1.3 500.0 169.80493439457848\n"
     ]
    }
   ],
   "source": [
    "tmodel = MATS2DElastic(E=28000, nu=0.2)\n",
    "import numpy as np\n",
    "U_grid = []\n",
    "sig_grid = []\n",
    "for alpha in alpha_range:\n",
    "    U_list = []\n",
    "    sig_list = []\n",
    "    for a in a_range:\n",
    "        wbm = WBModel(F=-20000, h=10, tmodel=tmodel)\n",
    "        data = dict(alpha=alpha, a=a, a_high=2000, b=1250, b_high=2000, c=400, c_high=2000,\n",
    "                    n_phi_plus=n_phi_plus, n_x_plus=n_x_plus)\n",
    "        wbm.wb_mesh.trait_set(**data)\n",
    "        max_U = wbm.get_max_vals()\n",
    "        \n",
    "        U1 = wbm.hist.U_t[-1]\n",
    "        eps1 = wbm.fe_domain[0].xmodel.map_U_to_field(U1)\n",
    "        sig1, _ = wbm.fe_domain[0].tmodel.get_corr_pred(eps1,1)\n",
    "        sig_x, sig_y, tau = sig1.T\n",
    "        sig_ab = np.einsum('ab...->...ab', np.array([[sig_x, tau], [tau, sig_y]], dtype=np.float_))\n",
    "        sig_val, sig_dir = np.linalg.eig(sig_ab)\n",
    "        sig_list.append([np.min(sig_val), np.max(sig_val)])\n",
    "\n",
    "        print(alpha, a, max_U)\n",
    "        U_list.append(max_U)\n",
    "    U_grid.append(U_list)\n",
    "    sig_grid.append(sig_list)"
   ]
  },
  {
   "cell_type": "code",
   "execution_count": 10,
   "metadata": {
    "pycharm": {
     "name": "#%%\n"
    },
    "slideshow": {
     "slide_type": "slide"
    }
   },
   "outputs": [
    {
     "data": {
      "application/vnd.jupyter.widget-view+json": {
       "model_id": "2003568b6d994aafb5bf498509ad02b2",
       "version_major": 2,
       "version_minor": 0
      },
      "text/plain": [
       "Canvas(toolbar=Toolbar(toolitems=[('Home', 'Reset original view', 'home', 'home'), ('Back', 'Back to previous …"
      ]
     },
     "metadata": {},
     "output_type": "display_data"
    },
    {
     "data": {
      "text/plain": [
       "Text(0.5, 0, 'max compression [MPa]')"
      ]
     },
     "execution_count": 10,
     "metadata": {},
     "output_type": "execute_result"
    }
   ],
   "source": [
    "from mpl_toolkits.mplot3d import Axes3D\n",
    "import matplotlib.pyplot as plt\n",
    "from matplotlib import cm\n",
    "from matplotlib.ticker import LinearLocator, FormatStrFormatter\n",
    "fig = plt.figure()\n",
    "ax = fig.gca(projection='3d')\n",
    "X, Y = np.meshgrid(alpha_range, a_range)\n",
    "Z = np.array(U_grid)\n",
    "surf = ax.plot_surface(X, Y, Z, \n",
    "                       color='green',\n",
    "                       #linewidth=0, antialiased=False)\n",
    "                    alpha=.0, linewidth=5,\n",
    "                       #cmap=cm.gist_earth,antialiased=False, \n",
    "                shade=False,rstride=1, cstride=1)\n",
    "Z = np.array(sig_grid)[:,:,1]\n",
    "surf = ax.plot_surface(X, Y, Z,color='red', \n",
    "                       #cmap=cm.copper,\n",
    "                    alpha=.3, linewidth=3,\n",
    "                       #cmap=cm.gist_earth,antialiased=False, \n",
    "                shade=False,rstride=1, cstride=1)\n",
    "Z = -np.array(sig_grid)[:,:,0]\n",
    "surf = ax.plot_surface(X, Y, Z,color='blue', \n",
    "                       #cmap=cm.copper,\n",
    "                    alpha=.6, linewidth=3,\n",
    "                       #cmap=cm.gist_earth,antialiased=False, \n",
    "                shade=False,rstride=1, cstride=1)\n",
    "ax.set_xlabel(r'$\\alpha~[\\mathrm{rad}]$')\n",
    "ax.set_ylabel(r'$a~[\\mathrm{mm}]$')\n",
    "ax.set_zlabel(r'max compression [MPa]')\n"
   ]
  },
  {
   "cell_type": "code",
   "execution_count": 67,
   "metadata": {},
   "outputs": [
    {
     "name": "stdout",
     "output_type": "stream",
     "text": [
      "alpha 0.5 a 500.0\n"
     ]
    },
    {
     "data": {
      "application/vnd.jupyter.widget-view+json": {
       "model_id": "5fdba18ad9204fd0829a47ef38bf4541",
       "version_major": 2,
       "version_minor": 0
      },
      "text/plain": [
       "Plot(antialias=3, axes=['x', 'y', 'z'], axes_helper=1.0, background_color=16777215, camera=[2, -3, 0.2, 0.0, 0…"
      ]
     },
     "metadata": {},
     "output_type": "display_data"
    },
    {
     "data": {
      "application/vnd.jupyter.widget-view+json": {
       "model_id": "a54f20bad69d4895a3c3445c745ebf7f",
       "version_major": 2,
       "version_minor": 0
      },
      "text/plain": [
       "VBox(children=(Output(outputs=({'output_type': 'display_data', 'data': {}, 'metadata': {}},)), Tab(children=(V…"
      ]
     },
     "metadata": {},
     "output_type": "display_data"
    }
   ],
   "source": [
    "i_alpha, i_a = 0, -1\n",
    "wbm = WBModel(F=-1000, tmodel=tmodel)\n",
    "print('alpha', alpha_range[i_alpha],'a', a_range[i_a] )\n",
    "data = dict(alpha=alpha_range[i_alpha], \n",
    "            a=a_range[i_a], a_high=2000, b=1250, b_high=2000, c=400, c_high=2000,\n",
    "            n_phi_plus=n_phi_plus, n_x_plus=n_x_plus)\n",
    "wbm.wb_mesh.trait_set(**data)\n",
    "wbm.wb_mesh.interact()"
   ]
  },
  {
   "cell_type": "code",
   "execution_count": null,
   "metadata": {},
   "outputs": [],
   "source": [
    "15000 / 39000 "
   ]
  },
  {
   "cell_type": "code",
   "execution_count": null,
   "metadata": {},
   "outputs": [],
   "source": []
  },
  {
   "cell_type": "code",
   "execution_count": null,
   "metadata": {},
   "outputs": [],
   "source": []
  },
  {
   "cell_type": "code",
   "execution_count": null,
   "metadata": {},
   "outputs": [],
   "source": []
  },
  {
   "cell_type": "code",
   "execution_count": null,
   "metadata": {},
   "outputs": [],
   "source": []
  }
 ],
 "metadata": {
  "kernelspec": {
   "display_name": "bmcs_env",
   "language": "python",
   "name": "bmcs_env"
  },
  "language_info": {
   "codemirror_mode": {
    "name": "ipython",
    "version": 3
   },
   "file_extension": ".py",
   "mimetype": "text/x-python",
   "name": "python",
   "nbconvert_exporter": "python",
   "pygments_lexer": "ipython3",
   "version": "3.9.2"
  },
  "toc": {
   "base_numbering": 1,
   "nav_menu": {},
   "number_sections": true,
   "sideBar": true,
   "skip_h1_title": true,
   "title_cell": "Table of Contents",
   "title_sidebar": "Contents",
   "toc_cell": false,
   "toc_position": {},
   "toc_section_display": true,
   "toc_window_display": false
  }
 },
 "nbformat": 4,
 "nbformat_minor": 4
}
