{
 "cells": [
  {
   "cell_type": "code",
   "execution_count": 1,
   "metadata": {
    "hide_input": false,
    "slideshow": {
     "slide_type": "slide"
    }
   },
   "outputs": [],
   "source": [
    "%matplotlib widget\n",
    "from bmcs_shell.folding.wb_shell_analysis import WBShellAnalysis\n",
    "from bmcs_shell.folding.vmats2D_elastic import MATS2DElastic"
   ]
  },
  {
   "cell_type": "code",
   "execution_count": 2,
   "metadata": {
    "hide_input": false,
    "slideshow": {
     "slide_type": "slide"
    }
   },
   "outputs": [],
   "source": [
    "tmodel = MATS2DElastic(E=28000, nu=0.2)\n",
    "n_phi_plus=4\n",
    "n_x_plus=2\n",
    "wbm = WBShellAnalysis(F=-20000, h=10, tmodel=tmodel)"
   ]
  },
  {
   "cell_type": "code",
   "execution_count": 3,
   "metadata": {
    "pycharm": {
     "name": "#%%\n"
    }
   },
   "outputs": [
    {
     "data": {
      "text/plain": [
       "['geo', 'tmodel', 'xdomain']"
      ]
     },
     "execution_count": 3,
     "metadata": {},
     "output_type": "execute_result"
    }
   ],
   "source": [
    "wbm.tree"
   ]
  },
  {
   "cell_type": "code",
   "execution_count": 4,
   "metadata": {
    "pycharm": {
     "name": "#%%\n"
    }
   },
   "outputs": [],
   "source": [
    "data = dict(alpha=1.24, a=500, a_high=3000, b=900, b_high=3000, c=400, c_high=2000,\n",
    "            n_phi_plus=n_phi_plus, n_x_plus=n_x_plus, show_nodes=False)\n",
    "wbm.geo.trait_set(**data);"
   ]
  },
  {
   "cell_type": "code",
   "execution_count": null,
   "metadata": {},
   "outputs": [],
   "source": []
  },
  {
   "cell_type": "code",
   "execution_count": 5,
   "metadata": {
    "scrolled": false
   },
   "outputs": [
    {
     "data": {
      "application/vnd.jupyter.widget-view+json": {
       "model_id": "3c32bdc6d4ae4aa5895f6e684783a6ff",
       "version_major": 2,
       "version_minor": 0
      },
      "text/plain": [
       "VBox(children=(HBox(children=(VBox(children=(Tree(layout=Layout(align_items='stretch', border='solid 1px black…"
      ]
     },
     "metadata": {},
     "output_type": "display_data"
    }
   ],
   "source": [
    "wbm.interact()"
   ]
  },
  {
   "cell_type": "code",
   "execution_count": null,
   "metadata": {},
   "outputs": [],
   "source": [
    "xmodel = wbm.fe_domain[0].xmodel\n",
    "xmodel.mesh.I_CDij"
   ]
  },
  {
   "cell_type": "code",
   "execution_count": null,
   "metadata": {},
   "outputs": [],
   "source": [
    "_, idx_remap = xmodel.mesh.unique_node_map"
   ]
  },
  {
   "cell_type": "code",
   "execution_count": null,
   "metadata": {},
   "outputs": [],
   "source": [
    "idx_remap[xmodel.mesh.I_CDij]"
   ]
  },
  {
   "cell_type": "code",
   "execution_count": null,
   "metadata": {},
   "outputs": [],
   "source": [
    "idx_remap[xmodel.mesh.I_CDij[(0, -1),:,(0, -1),:].flatten()]"
   ]
  },
  {
   "cell_type": "code",
   "execution_count": null,
   "metadata": {},
   "outputs": [],
   "source": [
    "xmodel"
   ]
  },
  {
   "cell_type": "code",
   "execution_count": null,
   "metadata": {},
   "outputs": [],
   "source": [
    "wbm.interact()"
   ]
  },
  {
   "cell_type": "code",
   "execution_count": null,
   "metadata": {},
   "outputs": [],
   "source": [
    "import numpy as np\n",
    "alpha_range = np.linspace(0.5, 1.3, 10)\n",
    "a_range = np.linspace(300,500,10)"
   ]
  },
  {
   "cell_type": "code",
   "execution_count": null,
   "metadata": {},
   "outputs": [],
   "source": [
    "tmodel = MATS2DElastic(E=28000, nu=0.2)\n",
    "import numpy as np\n",
    "U_grid = []\n",
    "sig_grid = []\n",
    "for alpha in alpha_range:\n",
    "    U_list = []\n",
    "    sig_list = []\n",
    "    for a in a_range:\n",
    "        wbm = WBShellAnalysis(F=-20000, h=10, tmodel=tmodel)\n",
    "        data = dict(alpha=alpha, a=a, a_high=2000, b=1250, b_high=2000, c=400, c_high=2000,\n",
    "                    n_phi_plus=n_phi_plus, n_x_plus=n_x_plus)\n",
    "        wbm.wb_mesh.trait_set(**data)\n",
    "        max_U = wbm.get_max_vals()\n",
    "        \n",
    "        U1 = wbm.hist.U_t[-1]\n",
    "        eps1 = wbm.fe_domain[0].xmodel.map_U_to_field(U1)\n",
    "        sig1, _ = wbm.fe_domain[0].tmodel.get_corr_pred(eps1,1)\n",
    "        sig_x, sig_y, tau = sig1.T\n",
    "        sig_ab = np.einsum('ab...->...ab', np.array([[sig_x, tau], [tau, sig_y]], dtype=np.float_))\n",
    "        sig_val, sig_dir = np.linalg.eig(sig_ab)\n",
    "        sig_list.append([np.min(sig_val), np.max(sig_val)])\n",
    "\n",
    "        print(alpha, a, max_U)\n",
    "        U_list.append(max_U)\n",
    "    U_grid.append(U_list)\n",
    "    sig_grid.append(sig_list)"
   ]
  },
  {
   "cell_type": "code",
   "execution_count": null,
   "metadata": {
    "pycharm": {
     "name": "#%%\n"
    },
    "slideshow": {
     "slide_type": "slide"
    }
   },
   "outputs": [],
   "source": [
    "from mpl_toolkits.mplot3d import Axes3D\n",
    "import matplotlib.pyplot as plt\n",
    "from matplotlib import cm\n",
    "from matplotlib.ticker import LinearLocator, FormatStrFormatter\n",
    "fig = plt.figure()\n",
    "ax = fig.gca(projection='3d')\n",
    "X, Y = np.meshgrid(alpha_range, a_range)\n",
    "Z = np.array(U_grid)\n",
    "surf = ax.plot_surface(X, Y, Z, \n",
    "                       color='green',\n",
    "                       #linewidth=0, antialiased=False)\n",
    "                    alpha=.0, linewidth=5,\n",
    "                       #cmap=cm.gist_earth,antialiased=False, \n",
    "                shade=False,rstride=1, cstride=1)\n",
    "Z = np.array(sig_grid)[:,:,1]\n",
    "surf = ax.plot_surface(X, Y, Z,color='red', \n",
    "                       #cmap=cm.copper,\n",
    "                    alpha=.3, linewidth=3,\n",
    "                       #cmap=cm.gist_earth,antialiased=False, \n",
    "                shade=False,rstride=1, cstride=1)\n",
    "Z = -np.array(sig_grid)[:,:,0]\n",
    "surf = ax.plot_surface(X, Y, Z,color='blue', \n",
    "                       #cmap=cm.copper,\n",
    "                    alpha=.6, linewidth=3,\n",
    "                       #cmap=cm.gist_earth,antialiased=False, \n",
    "                shade=False,rstride=1, cstride=1)\n",
    "ax.set_xlabel(r'$\\alpha~[\\mathrm{rad}]$')\n",
    "ax.set_ylabel(r'$a~[\\mathrm{mm}]$')\n",
    "ax.set_zlabel(r'max compression [MPa]')\n"
   ]
  },
  {
   "cell_type": "code",
   "execution_count": null,
   "metadata": {},
   "outputs": [],
   "source": [
    "i_alpha, i_a = 0, -1\n",
    "wbm = WBShellAnalysis(F=-1000, tmodel=tmodel)\n",
    "print('alpha', alpha_range[i_alpha],'a', a_range[i_a] )\n",
    "data = dict(alpha=alpha_range[i_alpha], \n",
    "            a=a_range[i_a], a_high=2000, b=1250, b_high=2000, c=400, c_high=2000,\n",
    "            n_phi_plus=n_phi_plus, n_x_plus=n_x_plus)\n",
    "wbm.wb_mesh.trait_set(**data)\n",
    "wbm.wb_mesh.interact()"
   ]
  },
  {
   "cell_type": "code",
   "execution_count": null,
   "metadata": {},
   "outputs": [],
   "source": [
    "15000 / 39000 "
   ]
  },
  {
   "cell_type": "code",
   "execution_count": null,
   "metadata": {},
   "outputs": [],
   "source": []
  },
  {
   "cell_type": "code",
   "execution_count": null,
   "metadata": {},
   "outputs": [],
   "source": []
  },
  {
   "cell_type": "code",
   "execution_count": null,
   "metadata": {},
   "outputs": [],
   "source": []
  },
  {
   "cell_type": "code",
   "execution_count": null,
   "metadata": {},
   "outputs": [],
   "source": []
  }
 ],
 "metadata": {
  "kernelspec": {
   "display_name": "bmcs_env",
   "language": "python",
   "name": "bmcs_env"
  },
  "language_info": {
   "codemirror_mode": {
    "name": "ipython",
    "version": 3
   },
   "file_extension": ".py",
   "mimetype": "text/x-python",
   "name": "python",
   "nbconvert_exporter": "python",
   "pygments_lexer": "ipython3",
   "version": "3.9.2"
  },
  "toc": {
   "base_numbering": 1,
   "nav_menu": {},
   "number_sections": true,
   "sideBar": true,
   "skip_h1_title": true,
   "title_cell": "Table of Contents",
   "title_sidebar": "Contents",
   "toc_cell": false,
   "toc_position": {},
   "toc_section_display": true,
   "toc_window_display": false
  }
 },
 "nbformat": 4,
 "nbformat_minor": 4
}
