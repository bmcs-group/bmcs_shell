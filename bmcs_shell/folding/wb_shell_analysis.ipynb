{
 "cells": [
  {
   "cell_type": "code",
   "execution_count": 1,
   "metadata": {
    "hide_input": false,
    "slideshow": {
     "slide_type": "slide"
    }
   },
   "outputs": [],
   "source": [
    "%matplotlib widget\n",
    "from bmcs_shell.folding.wb_shell_analysis import WBShellAnalysis\n",
    "from bmcs_shell.folding.vmats2D_elastic import MATS2DElastic"
   ]
  },
  {
   "cell_type": "code",
   "execution_count": 2,
   "metadata": {
    "hide_input": false,
    "slideshow": {
     "slide_type": "slide"
    }
   },
   "outputs": [
    {
     "name": "stderr",
     "output_type": "stream",
     "text": [
      "Exception occurred in traits notification handler for object: \n",
      "t_n: 0, t_n1: 0\n",
      "U_n[0. 0. 0. 0. 0. 0. 0. 0. 0. 0. 0. 0. 0. 0. 0.]\n",
      "U_k[0. 0. 0. 0. 0. 0. 0. 0. 0. 0. 0. 0. 0. 0. 0.], trait: state_changed, old value: <undefined>, new value: True\n",
      "Traceback (most recent call last):\n",
      "  File \"/home/rch/miniconda3/envs/bmcs_env/lib/python3.9/site-packages/traits/trait_notifiers.py\", line 524, in _dispatch_change_event\n",
      "    self.dispatch(handler, *args)\n",
      "  File \"/home/rch/miniconda3/envs/bmcs_env/lib/python3.9/site-packages/traits/trait_notifiers.py\", line 486, in dispatch\n",
      "    handler(*args)\n",
      "  File \"/home/rch/miniconda3/envs/bmcs_env/lib/python3.9/site-packages/traits/has_traits.py\", line 999, in wrapper0\n",
      "    return function(arg)\n",
      "  File \"/home/rch/miniconda3/envs/bmcs_env/lib/python3.9/site-packages/traits/has_traits.py\", line 3329, in notify\n",
      "    self.trait_property_changed(name, old)\n",
      "  File \"/home/rch/miniconda3/envs/bmcs_env/lib/python3.9/site-packages/traits/has_traits.py\", line 927, in decorator\n",
      "    self.__dict__[name] = result = function(self)\n",
      "  File \"/home/rch/PycharmProjects/bmcs_shell/bmcs_shell/folding/wb_shell_analysis.py\", line 98, in _get_bc\n",
      "    bc_fixed, _, _ = self.bc_fixed\n",
      "  File \"/home/rch/miniconda3/envs/bmcs_env/lib/python3.9/site-packages/traits/has_traits.py\", line 927, in decorator\n",
      "    self.__dict__[name] = result = function(self)\n",
      "  File \"/home/rch/PycharmProjects/bmcs_shell/bmcs_shell/folding/wb_shell_analysis.py\", line 85, in _get_bc_fixed\n",
      "    fixed_xyz_nodes = xdomain.bc_J_xyz\n",
      "  File \"/home/rch/miniconda3/envs/bmcs_env/lib/python3.9/site-packages/traits/has_traits.py\", line 927, in decorator\n",
      "    self.__dict__[name] = result = function(self)\n",
      "  File \"/home/rch/PycharmProjects/bmcs_shell/bmcs_shell/folding/wb_xdomain_fe.py\", line 138, in _get_bc_J_xyz\n",
      "    I_M = self.mesh.I_CDij[(0, -1), :, (0, -1), :].flatten()\n",
      "AttributeError: 'FETriangularMesh' object has no attribute 'I_CDij'\n",
      "Exception occurred in traits notification handler for object: \n",
      "t_n: 0, t_n1: 0\n",
      "U_n[0. 0. 0. 0. 0. 0. 0. 0. 0. 0. 0. 0. 0. 0. 0.]\n",
      "U_k[0. 0. 0. 0. 0. 0. 0. 0. 0. 0. 0. 0. 0. 0. 0.], trait: state_changed, old value: <undefined>, new value: True\n",
      "Traceback (most recent call last):\n",
      "  File \"/home/rch/miniconda3/envs/bmcs_env/lib/python3.9/site-packages/traits/trait_notifiers.py\", line 524, in _dispatch_change_event\n",
      "    self.dispatch(handler, *args)\n",
      "  File \"/home/rch/miniconda3/envs/bmcs_env/lib/python3.9/site-packages/traits/trait_notifiers.py\", line 486, in dispatch\n",
      "    handler(*args)\n",
      "  File \"/home/rch/miniconda3/envs/bmcs_env/lib/python3.9/site-packages/traits/has_traits.py\", line 999, in wrapper0\n",
      "    return function(arg)\n",
      "  File \"/home/rch/miniconda3/envs/bmcs_env/lib/python3.9/site-packages/traits/has_traits.py\", line 3329, in notify\n",
      "    self.trait_property_changed(name, old)\n",
      "  File \"/home/rch/miniconda3/envs/bmcs_env/lib/python3.9/site-packages/traits/has_traits.py\", line 927, in decorator\n",
      "    self.__dict__[name] = result = function(self)\n",
      "  File \"/home/rch/PycharmProjects/bmcs_shell/bmcs_shell/folding/wb_shell_analysis.py\", line 98, in _get_bc\n",
      "    bc_fixed, _, _ = self.bc_fixed\n",
      "  File \"/home/rch/miniconda3/envs/bmcs_env/lib/python3.9/site-packages/traits/has_traits.py\", line 927, in decorator\n",
      "    self.__dict__[name] = result = function(self)\n",
      "  File \"/home/rch/PycharmProjects/bmcs_shell/bmcs_shell/folding/wb_shell_analysis.py\", line 85, in _get_bc_fixed\n",
      "    fixed_xyz_nodes = xdomain.bc_J_xyz\n",
      "  File \"/home/rch/miniconda3/envs/bmcs_env/lib/python3.9/site-packages/traits/has_traits.py\", line 927, in decorator\n",
      "    self.__dict__[name] = result = function(self)\n",
      "  File \"/home/rch/PycharmProjects/bmcs_shell/bmcs_shell/folding/wb_xdomain_fe.py\", line 138, in _get_bc_J_xyz\n",
      "    I_M = self.mesh.I_CDij[(0, -1), :, (0, -1), :].flatten()\n",
      "AttributeError: 'FETriangularMesh' object has no attribute 'I_CDij'\n"
     ]
    }
   ],
   "source": [
    "tmodel = MATS2DElastic(E=28000, nu=0.2)\n",
    "n_phi_plus=4\n",
    "n_x_plus=2\n",
    "wbm = WBShellAnalysis(F=-20000, h=10, tmodel=tmodel)"
   ]
  },
  {
   "cell_type": "code",
   "execution_count": 3,
   "outputs": [
    {
     "data": {
      "text/plain": "<bmcs_shell.folding.wb_xdomain_fe.WBXDomainFE at 0x7f57c28cb2c0>",
      "text/latex": "\n        \\begin{array}{lrrl}\\hline\n        \\textrm{change} & \\textrm{<missing>} & & \\textrm{None}  \\\\\n                \\textrm{coord_min} & \\textrm{[0.0 0.0 0.0]} & & \\textrm{None}  \\\\\n                \\textrm{coord_max} & \\textrm{[1.0 1.0 1.0]} & & \\textrm{None}  \\\\\n                \\textrm{shape} & \\textrm{[1 1 1]} & & \\textrm{None}  \\\\\n                \\textrm{integ_factor} & \\textrm{10.0} & & \\textrm{None}  \\\\\n                \\hline\n        \\hline\n        \\end{array}\n        "
     },
     "execution_count": 3,
     "metadata": {},
     "output_type": "execute_result"
    }
   ],
   "source": [
    "wbm.xdomain"
   ],
   "metadata": {
    "collapsed": false,
    "pycharm": {
     "name": "#%%\n"
    }
   }
  },
  {
   "cell_type": "code",
   "execution_count": null,
   "outputs": [],
   "source": [
    "data = dict(alpha=1.24, a=500, a_high=3000, b=900, b_high=3000, c=400, c_high=2000,\n",
    "            n_phi_plus=n_phi_plus, n_x_plus=n_x_plus, show_nodes=False)\n",
    "wbm.wb_mesh.trait_set(**data);"
   ],
   "metadata": {
    "collapsed": false,
    "pycharm": {
     "name": "#%%\n"
    }
   }
  },
  {
   "cell_type": "code",
   "execution_count": 3,
   "outputs": [
    {
     "data": {
      "text/plain": "<bmcs_shell.folding.wb_xdomain_fe.WBXDomainFE at 0x7fd2d4193db0>",
      "text/latex": "\n        \\begin{array}{lrrl}\\hline\n        \\textrm{change} & \\textrm{<missing>} & & \\textrm{None}  \\\\\n                \\textrm{coord_min} & \\textrm{[0.0 0.0 0.0]} & & \\textrm{None}  \\\\\n                \\textrm{coord_max} & \\textrm{[1.0 1.0 1.0]} & & \\textrm{None}  \\\\\n                \\textrm{shape} & \\textrm{[1 1 1]} & & \\textrm{None}  \\\\\n                \\textrm{integ_factor} & \\textrm{10.0} & & \\textrm{None}  \\\\\n                \\hline\n        \\hline\n        \\end{array}\n        "
     },
     "execution_count": 3,
     "metadata": {},
     "output_type": "execute_result"
    }
   ],
   "source": [],
   "metadata": {
    "collapsed": false,
    "pycharm": {
     "name": "#%%\n"
    }
   }
  },
  {
   "cell_type": "code",
   "execution_count": null,
   "metadata": {
    "scrolled": false
   },
   "outputs": [],
   "source": [
    "wbm.interact()"
   ]
  },
  {
   "cell_type": "code",
   "execution_count": null,
   "metadata": {},
   "outputs": [],
   "source": [
    "xmodel = wbm.fe_domain[0].xmodel\n",
    "xmodel.mesh.I_CDij"
   ]
  },
  {
   "cell_type": "code",
   "execution_count": null,
   "metadata": {},
   "outputs": [],
   "source": [
    "_, idx_remap = xmodel.mesh.unique_node_map"
   ]
  },
  {
   "cell_type": "code",
   "execution_count": null,
   "metadata": {},
   "outputs": [],
   "source": [
    "idx_remap[xmodel.mesh.I_CDij]"
   ]
  },
  {
   "cell_type": "code",
   "execution_count": null,
   "metadata": {},
   "outputs": [],
   "source": [
    "idx_remap[xmodel.mesh.I_CDij[(0, -1),:,(0, -1),:].flatten()]"
   ]
  },
  {
   "cell_type": "code",
   "execution_count": null,
   "metadata": {},
   "outputs": [],
   "source": [
    "xmodel"
   ]
  },
  {
   "cell_type": "code",
   "execution_count": null,
   "metadata": {},
   "outputs": [],
   "source": [
    "wbm.interact()"
   ]
  },
  {
   "cell_type": "code",
   "execution_count": null,
   "metadata": {},
   "outputs": [],
   "source": [
    "import numpy as np\n",
    "alpha_range = np.linspace(0.5, 1.3, 10)\n",
    "a_range = np.linspace(300,500,10)"
   ]
  },
  {
   "cell_type": "code",
   "execution_count": null,
   "metadata": {},
   "outputs": [],
   "source": [
    "tmodel = MATS2DElastic(E=28000, nu=0.2)\n",
    "import numpy as np\n",
    "U_grid = []\n",
    "sig_grid = []\n",
    "for alpha in alpha_range:\n",
    "    U_list = []\n",
    "    sig_list = []\n",
    "    for a in a_range:\n",
    "        wbm = WBShellAnalysis(F=-20000, h=10, tmodel=tmodel)\n",
    "        data = dict(alpha=alpha, a=a, a_high=2000, b=1250, b_high=2000, c=400, c_high=2000,\n",
    "                    n_phi_plus=n_phi_plus, n_x_plus=n_x_plus)\n",
    "        wbm.wb_mesh.trait_set(**data)\n",
    "        max_U = wbm.get_max_vals()\n",
    "        \n",
    "        U1 = wbm.hist.U_t[-1]\n",
    "        eps1 = wbm.fe_domain[0].xmodel.map_U_to_field(U1)\n",
    "        sig1, _ = wbm.fe_domain[0].tmodel.get_corr_pred(eps1,1)\n",
    "        sig_x, sig_y, tau = sig1.T\n",
    "        sig_ab = np.einsum('ab...->...ab', np.array([[sig_x, tau], [tau, sig_y]], dtype=np.float_))\n",
    "        sig_val, sig_dir = np.linalg.eig(sig_ab)\n",
    "        sig_list.append([np.min(sig_val), np.max(sig_val)])\n",
    "\n",
    "        print(alpha, a, max_U)\n",
    "        U_list.append(max_U)\n",
    "    U_grid.append(U_list)\n",
    "    sig_grid.append(sig_list)"
   ]
  },
  {
   "cell_type": "code",
   "execution_count": null,
   "metadata": {
    "pycharm": {
     "name": "#%%\n"
    },
    "slideshow": {
     "slide_type": "slide"
    }
   },
   "outputs": [],
   "source": [
    "from mpl_toolkits.mplot3d import Axes3D\n",
    "import matplotlib.pyplot as plt\n",
    "from matplotlib import cm\n",
    "from matplotlib.ticker import LinearLocator, FormatStrFormatter\n",
    "fig = plt.figure()\n",
    "ax = fig.gca(projection='3d')\n",
    "X, Y = np.meshgrid(alpha_range, a_range)\n",
    "Z = np.array(U_grid)\n",
    "surf = ax.plot_surface(X, Y, Z, \n",
    "                       color='green',\n",
    "                       #linewidth=0, antialiased=False)\n",
    "                    alpha=.0, linewidth=5,\n",
    "                       #cmap=cm.gist_earth,antialiased=False, \n",
    "                shade=False,rstride=1, cstride=1)\n",
    "Z = np.array(sig_grid)[:,:,1]\n",
    "surf = ax.plot_surface(X, Y, Z,color='red', \n",
    "                       #cmap=cm.copper,\n",
    "                    alpha=.3, linewidth=3,\n",
    "                       #cmap=cm.gist_earth,antialiased=False, \n",
    "                shade=False,rstride=1, cstride=1)\n",
    "Z = -np.array(sig_grid)[:,:,0]\n",
    "surf = ax.plot_surface(X, Y, Z,color='blue', \n",
    "                       #cmap=cm.copper,\n",
    "                    alpha=.6, linewidth=3,\n",
    "                       #cmap=cm.gist_earth,antialiased=False, \n",
    "                shade=False,rstride=1, cstride=1)\n",
    "ax.set_xlabel(r'$\\alpha~[\\mathrm{rad}]$')\n",
    "ax.set_ylabel(r'$a~[\\mathrm{mm}]$')\n",
    "ax.set_zlabel(r'max compression [MPa]')\n"
   ]
  },
  {
   "cell_type": "code",
   "execution_count": null,
   "metadata": {},
   "outputs": [],
   "source": [
    "i_alpha, i_a = 0, -1\n",
    "wbm = WBShellAnalysis(F=-1000, tmodel=tmodel)\n",
    "print('alpha', alpha_range[i_alpha],'a', a_range[i_a] )\n",
    "data = dict(alpha=alpha_range[i_alpha], \n",
    "            a=a_range[i_a], a_high=2000, b=1250, b_high=2000, c=400, c_high=2000,\n",
    "            n_phi_plus=n_phi_plus, n_x_plus=n_x_plus)\n",
    "wbm.wb_mesh.trait_set(**data)\n",
    "wbm.wb_mesh.interact()"
   ]
  },
  {
   "cell_type": "code",
   "execution_count": null,
   "metadata": {},
   "outputs": [],
   "source": [
    "15000 / 39000 "
   ]
  },
  {
   "cell_type": "code",
   "execution_count": null,
   "metadata": {},
   "outputs": [],
   "source": []
  },
  {
   "cell_type": "code",
   "execution_count": null,
   "metadata": {},
   "outputs": [],
   "source": []
  },
  {
   "cell_type": "code",
   "execution_count": null,
   "metadata": {},
   "outputs": [],
   "source": []
  },
  {
   "cell_type": "code",
   "execution_count": null,
   "metadata": {},
   "outputs": [],
   "source": []
  }
 ],
 "metadata": {
  "kernelspec": {
   "display_name": "bmcs_env",
   "language": "python",
   "name": "bmcs_env"
  },
  "language_info": {
   "codemirror_mode": {
    "name": "ipython",
    "version": 3
   },
   "file_extension": ".py",
   "mimetype": "text/x-python",
   "name": "python",
   "nbconvert_exporter": "python",
   "pygments_lexer": "ipython3",
   "version": "3.9.2"
  },
  "toc": {
   "base_numbering": 1,
   "nav_menu": {},
   "number_sections": true,
   "sideBar": true,
   "skip_h1_title": true,
   "title_cell": "Table of Contents",
   "title_sidebar": "Contents",
   "toc_cell": false,
   "toc_position": {},
   "toc_section_display": true,
   "toc_window_display": false
  }
 },
 "nbformat": 4,
 "nbformat_minor": 4
}