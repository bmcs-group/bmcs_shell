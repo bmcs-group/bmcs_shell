{
 "cells": [
  {
   "cell_type": "markdown",
   "metadata": {},
   "source": [
    "# Waterbomb shell folder and designer"
   ]
  },
  {
   "cell_type": "code",
   "execution_count": 1,
   "metadata": {
    "pycharm": {
     "name": "#%%\n"
    }
   },
   "outputs": [],
   "source": [
    "%matplotlib widget"
   ]
  },
  {
   "cell_type": "code",
   "execution_count": 2,
   "metadata": {},
   "outputs": [],
   "source": [
    "import sympy as sp\n",
    "sp.init_printing()\n",
    "import numpy as np\n",
    "import matplotlib.pylab as plt\n",
    "import bmcs_utils.api as bu"
   ]
  },
  {
   "cell_type": "code",
   "execution_count": 3,
   "metadata": {},
   "outputs": [],
   "source": [
    "from bmcs_shell.folding.wb_cell_4p import WBElem4Param as WBElem\n",
    "from bmcs_shell.folding.wb_tessellation import WBTessellation"
   ]
  },
  {
   "cell_type": "code",
   "execution_count": 4,
   "metadata": {},
   "outputs": [],
   "source": [
    "data = dict(alpha=1, a=500, b=900, c=400, n_phi_plus=6, n_x_plus=8)"
   ]
  },
  {
   "cell_type": "code",
   "execution_count": 5,
   "metadata": {},
   "outputs": [],
   "source": [
    "wb = WBElem(**data)\n",
    "ws = WBTessellation(wb_cell=wb, show_wireframe=True, **data)"
   ]
  },
  {
   "cell_type": "code",
   "execution_count": 6,
   "metadata": {},
   "outputs": [
    {
     "data": {
      "application/vnd.jupyter.widget-view+json": {
       "model_id": "eb47182b6dfe48f3ade1647624abcd64",
       "version_major": 2,
       "version_minor": 0
      },
      "text/plain": [
       "VBox(children=(HBox(children=(VBox(children=(Tree(layout=Layout(align_items='stretch', border='solid 1px black…"
      ]
     },
     "metadata": {},
     "output_type": "display_data"
    }
   ],
   "source": [
    "app = bu.AppWindow(ws)\n",
    "app.interact()"
   ]
  },
  {
   "cell_type": "code",
   "execution_count": 9,
   "metadata": {},
   "outputs": [],
   "source": [
    "k3d_backend = app.plot_backend_table['k3d']"
   ]
  },
  {
   "cell_type": "code",
   "execution_count": 19,
   "metadata": {},
   "outputs": [
    {
     "data": {
      "text/plain": [
       "[Points(color=255, colors=array([], dtype=uint32), id=140568329669456, mesh_detail=2, model_matrix=array([[1., 0., 0., 0.],\n",
       "        [0., 1., 0., 0.],\n",
       "        [0., 0., 1., 0.],\n",
       "        [0., 0., 0., 1.]], dtype=float32), name='Points #1', opacities=array([], dtype=float32), opacity=1.0, point_size=1.0, positions=array([[-26.483627,  32.459324,  -6.510254],\n",
       "        [-16.483627,  32.459324,  -6.510254],\n",
       "        [-12.161209,  32.459324,  -6.510254],\n",
       "        [ -2.161209,  32.459324,  -6.510254],\n",
       "        [  2.161209,  32.459324,  -6.510254],\n",
       "        [ 12.161209,  32.459324,  -6.510254],\n",
       "        [ 16.483627,  32.459324,  -6.510254],\n",
       "        [ 26.483627,  32.459324,  -6.510254],\n",
       "        [-26.483627, -32.459324,  -6.510254],\n",
       "        [-16.483627, -32.459324,  -6.510254],\n",
       "        [-12.161209, -32.459324,  -6.510254],\n",
       "        [ -2.161209, -32.459324,  -6.510254],\n",
       "        [  2.161209, -32.459324,  -6.510254],\n",
       "        [ 12.161209, -32.459324,  -6.510254],\n",
       "        [ 16.483627, -32.459324,  -6.510254],\n",
       "        [ 26.483627, -32.459324,  -6.510254]], dtype=float32), shader='3dSpecular', type='Points', visible=True),\n",
       " Mesh(attribute=array([], dtype=float32), color=10066329, color_map=array([0.00000e+00, 1.46200e-03, 4.66000e-04, ..., 9.88362e-01,\n",
       "        9.98364e-01, 6.44924e-01], dtype=float32), color_range=[], colors=array([], dtype=uint32), flat_shading=True, id=140568329668832, indices=array([[ 0,  1,  2],\n",
       "        [ 0,  3,  4],\n",
       "        [ 0,  1,  5],\n",
       "        [ 0,  2,  6],\n",
       "        [ 0,  3,  5],\n",
       "        [ 0,  4,  6],\n",
       "        [ 7,  3,  4],\n",
       "        [ 7,  8,  9],\n",
       "        [ 7,  3, 10],\n",
       "        [ 7,  4, 11],\n",
       "        [ 7,  8, 10],\n",
       "        [ 7,  9, 11],\n",
       "        [12,  8,  9],\n",
       "        [12, 13, 14],\n",
       "        [12,  8, 15],\n",
       "        [12,  9, 16],\n",
       "        [12, 13, 15],\n",
       "        [12, 14, 16],\n",
       "        [17, 18, 19],\n",
       "        [17, 20, 21],\n",
       "        [17, 18, 22],\n",
       "        [17, 19, 23],\n",
       "        [17, 20, 22],\n",
       "        [17, 21, 23],\n",
       "        [24, 20, 21],\n",
       "        [24, 25, 26],\n",
       "        [24, 20, 27],\n",
       "        [24, 21, 28],\n",
       "        [24, 25, 27],\n",
       "        [24, 26, 28],\n",
       "        [29, 25, 26],\n",
       "        [29, 30, 31],\n",
       "        [29, 25, 32],\n",
       "        [29, 26, 33],\n",
       "        [29, 30, 32],\n",
       "        [29, 31, 33],\n",
       "        [34, 35, 36],\n",
       "        [34, 37, 38],\n",
       "        [34, 35, 39],\n",
       "        [34, 36, 40],\n",
       "        [34, 37, 39],\n",
       "        [34, 38, 40],\n",
       "        [41, 37, 38],\n",
       "        [41, 42, 43],\n",
       "        [41, 37, 44],\n",
       "        [41, 38, 45],\n",
       "        [41, 42, 44],\n",
       "        [41, 43, 45],\n",
       "        [46, 42, 43],\n",
       "        [46, 47, 48],\n",
       "        [46, 42, 49],\n",
       "        [46, 43, 50],\n",
       "        [46, 47, 49],\n",
       "        [46, 48, 50],\n",
       "        [51, 52, 53],\n",
       "        [51,  6, 54],\n",
       "        [51, 52,  2],\n",
       "        [51, 53, 55],\n",
       "        [51,  6,  2],\n",
       "        [51, 54, 55],\n",
       "        [56,  6, 54],\n",
       "        [56, 11, 57],\n",
       "        [56,  6,  4],\n",
       "        [56, 54, 58],\n",
       "        [56, 11,  4],\n",
       "        [56, 57, 58],\n",
       "        [59, 11, 57],\n",
       "        [59, 16, 60],\n",
       "        [59, 11,  9],\n",
       "        [59, 57, 61],\n",
       "        [59, 16,  9],\n",
       "        [59, 60, 61],\n",
       "        [62, 16, 60],\n",
       "        [62, 63, 64],\n",
       "        [62, 16, 14],\n",
       "        [62, 60, 65],\n",
       "        [62, 63, 14],\n",
       "        [62, 64, 65],\n",
       "        [66, 67, 68],\n",
       "        [66, 23,  5],\n",
       "        [66, 67, 19],\n",
       "        [66, 68,  1],\n",
       "        [66, 23, 19],\n",
       "        [66,  5,  1],\n",
       "        [69, 23,  5],\n",
       "        [69, 28, 10],\n",
       "        [69, 23, 21],\n",
       "        [69,  5,  3],\n",
       "        [69, 28, 21],\n",
       "        [69, 10,  3],\n",
       "        [70, 28, 10],\n",
       "        [70, 33, 15],\n",
       "        [70, 28, 26],\n",
       "        [70, 10,  8],\n",
       "        [70, 33, 26],\n",
       "        [70, 15,  8],\n",
       "        [71, 33, 15],\n",
       "        [71, 72, 73],\n",
       "        [71, 33, 31],\n",
       "        [71, 15, 13],\n",
       "        [71, 72, 31],\n",
       "        [71, 73, 13],\n",
       "        [74, 75, 76],\n",
       "        [74, 40, 22],\n",
       "        [74, 75, 36],\n",
       "        [74, 76, 18],\n",
       "        [74, 40, 36],\n",
       "        [74, 22, 18],\n",
       "        [77, 40, 22],\n",
       "        [77, 45, 27],\n",
       "        [77, 40, 38],\n",
       "        [77, 22, 20],\n",
       "        [77, 45, 38],\n",
       "        [77, 27, 20],\n",
       "        [78, 45, 27],\n",
       "        [78, 50, 32],\n",
       "        [78, 45, 43],\n",
       "        [78, 27, 25],\n",
       "        [78, 50, 43],\n",
       "        [78, 32, 25],\n",
       "        [79, 50, 32],\n",
       "        [79, 80, 81],\n",
       "        [79, 50, 48],\n",
       "        [79, 32, 30],\n",
       "        [79, 80, 48],\n",
       "        [79, 81, 30],\n",
       "        [82, 83, 84],\n",
       "        [82, 85, 39],\n",
       "        [82, 83, 86],\n",
       "        [82, 84, 35],\n",
       "        [82, 85, 86],\n",
       "        [82, 39, 35],\n",
       "        [87, 85, 39],\n",
       "        [87, 88, 44],\n",
       "        [87, 85, 89],\n",
       "        [87, 39, 37],\n",
       "        [87, 88, 89],\n",
       "        [87, 44, 37],\n",
       "        [90, 88, 44],\n",
       "        [90, 91, 49],\n",
       "        [90, 88, 92],\n",
       "        [90, 44, 42],\n",
       "        [90, 91, 92],\n",
       "        [90, 49, 42],\n",
       "        [93, 91, 49],\n",
       "        [93, 94, 95],\n",
       "        [93, 91, 96],\n",
       "        [93, 49, 47],\n",
       "        [93, 94, 96],\n",
       "        [93, 95, 47]], dtype=uint32), model_matrix=array([[1., 0., 0., 0.],\n",
       "        [0., 1., 0., 0.],\n",
       "        [0., 0., 1., 0.],\n",
       "        [0., 0., 0., 1.]], dtype=float32), name='Mesh #1', opacity=1.0, opacity_function=array([], dtype=float32), side='double', texture=None, texture_file_format=None, type='Mesh', uvs=array(nan, dtype=float32), vertices=array([[-14.322418  ,  15.984507  ,  -2.377922  ],\n",
       "        [ -9.322418  ,  24.983746  ,  -2.2608986 ],\n",
       "        [-19.322418  ,  24.983746  ,  -2.2608986 ],\n",
       "        [ -9.322418  ,   8.5754795 ,   2.7315102 ],\n",
       "        [-19.322418  ,   8.5754795 ,   2.7315102 ],\n",
       "        [-12.161209  ,  16.96427   ,   0.84220886],\n",
       "        [-16.483627  ,  16.96427   ,   0.84220886],\n",
       "        [-14.322418  ,   0.        ,   0.        ],\n",
       "        [ -9.322418  ,  -8.575479  ,   2.731514  ],\n",
       "        [-19.322418  ,  -8.575479  ,   2.731514  ],\n",
       "        [-12.161209  ,   0.        ,   3.3658829 ],\n",
       "        [-16.483627  ,   0.        ,   3.3658829 ],\n",
       "        [-14.322418  , -15.984507  ,  -2.377922  ],\n",
       "        [ -9.322418  , -24.983746  ,  -2.2608986 ],\n",
       "        [-19.322418  , -24.983746  ,  -2.2608986 ],\n",
       "        [-12.161209  , -16.96427   ,   0.84220886],\n",
       "        [-16.483627  , -16.96427   ,   0.84220886],\n",
       "        [  0.        ,  15.984507  ,  -2.377922  ],\n",
       "        [  5.        ,  24.983746  ,  -2.2608986 ],\n",
       "        [ -5.        ,  24.983746  ,  -2.2608986 ],\n",
       "        [  5.        ,   8.5754795 ,   2.7315102 ],\n",
       "        [ -5.        ,   8.5754795 ,   2.7315102 ],\n",
       "        [  2.161209  ,  16.96427   ,   0.84220886],\n",
       "        [ -2.161209  ,  16.96427   ,   0.84220886],\n",
       "        [  0.        ,   0.        ,   0.        ],\n",
       "        [  5.        ,  -8.575479  ,   2.731514  ],\n",
       "        [ -5.        ,  -8.575479  ,   2.731514  ],\n",
       "        [  2.161209  ,   0.        ,   3.3658829 ],\n",
       "        [ -2.161209  ,   0.        ,   3.3658829 ],\n",
       "        [  0.        , -15.984507  ,  -2.377922  ],\n",
       "        [  5.        , -24.983746  ,  -2.2608986 ],\n",
       "        [ -5.        , -24.983746  ,  -2.2608986 ],\n",
       "        [  2.161209  , -16.96427   ,   0.84220886],\n",
       "        [ -2.161209  , -16.96427   ,   0.84220886],\n",
       "        [ 14.322418  ,  15.984507  ,  -2.377922  ],\n",
       "        [ 19.322418  ,  24.983746  ,  -2.2608986 ],\n",
       "        [  9.322418  ,  24.983746  ,  -2.2608986 ],\n",
       "        [ 19.322418  ,   8.5754795 ,   2.7315102 ],\n",
       "        [  9.322418  ,   8.5754795 ,   2.7315102 ],\n",
       "        [ 16.483627  ,  16.96427   ,   0.84220886],\n",
       "        [ 12.161209  ,  16.96427   ,   0.84220886],\n",
       "        [ 14.322418  ,   0.        ,   0.        ],\n",
       "        [ 19.322418  ,  -8.575479  ,   2.731514  ],\n",
       "        [  9.322418  ,  -8.575479  ,   2.731514  ],\n",
       "        [ 16.483627  ,   0.        ,   3.3658829 ],\n",
       "        [ 12.161209  ,   0.        ,   3.3658829 ],\n",
       "        [ 14.322418  , -15.984507  ,  -2.377922  ],\n",
       "        [ 19.322418  , -24.983746  ,  -2.2608986 ],\n",
       "        [  9.322418  , -24.983746  ,  -2.2608986 ],\n",
       "        [ 16.483627  , -16.96427   ,   0.84220886],\n",
       "        [ 12.161209  , -16.96427   ,   0.84220886],\n",
       "        [-21.483627  ,  23.540821  ,  -5.301811  ],\n",
       "        [-16.483627  ,  32.459324  ,  -6.510254  ],\n",
       "        [-26.483627  ,  32.459324  ,  -6.510254  ],\n",
       "        [-26.483627  ,  16.964268  ,   0.84220505],\n",
       "        [-23.644836  ,  24.983746  ,  -2.2609024 ],\n",
       "        [-21.483627  ,   8.080207  ,  -0.5977287 ],\n",
       "        [-26.483627  ,   0.        ,   3.3658867 ],\n",
       "        [-23.644836  ,   8.5754795 ,   2.7315178 ],\n",
       "        [-21.483627  ,  -8.080207  ,  -0.5977287 ],\n",
       "        [-26.483627  , -16.96427   ,   0.8422127 ],\n",
       "        [-23.644836  ,  -8.5754795 ,   2.7315178 ],\n",
       "        [-21.483627  , -23.540821  ,  -5.301811  ],\n",
       "        [-16.483627  , -32.459324  ,  -6.510254  ],\n",
       "        [-26.483627  , -32.459324  ,  -6.510254  ],\n",
       "        [-23.644836  , -24.983746  ,  -2.2609024 ],\n",
       "        [ -7.161209  ,  23.540821  ,  -5.301811  ],\n",
       "        [ -2.161209  ,  32.459324  ,  -6.510254  ],\n",
       "        [-12.161209  ,  32.459324  ,  -6.510254  ],\n",
       "        [ -7.161209  ,   8.080207  ,  -0.5977287 ],\n",
       "        [ -7.161209  ,  -8.080207  ,  -0.5977287 ],\n",
       "        [ -7.161209  , -23.540821  ,  -5.301811  ],\n",
       "        [ -2.161209  , -32.459324  ,  -6.510254  ],\n",
       "        [-12.161209  , -32.459324  ,  -6.510254  ],\n",
       "        [  7.161209  ,  23.540821  ,  -5.301811  ],\n",
       "        [ 12.161209  ,  32.459324  ,  -6.510254  ],\n",
       "        [  2.161209  ,  32.459324  ,  -6.510254  ],\n",
       "        [  7.161209  ,   8.080207  ,  -0.5977287 ],\n",
       "        [  7.161209  ,  -8.080207  ,  -0.5977287 ],\n",
       "        [  7.161209  , -23.540821  ,  -5.301811  ],\n",
       "        [ 12.161209  , -32.459324  ,  -6.510254  ],\n",
       "        [  2.161209  , -32.459324  ,  -6.510254  ],\n",
       "        [ 21.483627  ,  23.540821  ,  -5.301811  ],\n",
       "        [ 26.483627  ,  32.459324  ,  -6.510254  ],\n",
       "        [ 16.483627  ,  32.459324  ,  -6.510254  ],\n",
       "        [ 26.483627  ,  16.964268  ,   0.84220505],\n",
       "        [ 23.644836  ,  24.983746  ,  -2.2609024 ],\n",
       "        [ 21.483627  ,   8.080207  ,  -0.5977287 ],\n",
       "        [ 26.483627  ,   0.        ,   3.3658867 ],\n",
       "        [ 23.644836  ,   8.5754795 ,   2.7315178 ],\n",
       "        [ 21.483627  ,  -8.080207  ,  -0.5977287 ],\n",
       "        [ 26.483627  , -16.96427   ,   0.8422127 ],\n",
       "        [ 23.644836  ,  -8.5754795 ,   2.7315178 ],\n",
       "        [ 21.483627  , -23.540821  ,  -5.301811  ],\n",
       "        [ 26.483627  , -32.459324  ,  -6.510254  ],\n",
       "        [ 16.483627  , -32.459324  ,  -6.510254  ],\n",
       "        [ 23.644836  , -24.983746  ,  -2.2609024 ]], dtype=float32), visible=True, volume=array([], dtype=float32), volume_bounds=array([], dtype=float32), wireframe=False)]"
      ]
     },
     "execution_count": 19,
     "metadata": {},
     "output_type": "execute_result"
    }
   ],
   "source": [
    "k3d_backend.plot_fig.objects"
   ]
  },
  {
   "cell_type": "code",
   "execution_count": 8,
   "metadata": {},
   "outputs": [
    {
     "data": {
      "text/plain": [
       "array([[144, 143],\n",
       "       [186, 185],\n",
       "       [228, 227],\n",
       "       [270, 269]])"
      ]
     },
     "execution_count": 8,
     "metadata": {},
     "output_type": "execute_result"
    }
   ],
   "source": [
    "I_m = ws.I_CDij[-1,:,-1,:]\n",
    "I_m"
   ]
  },
  {
   "cell_type": "code",
   "execution_count": 9,
   "metadata": {},
   "outputs": [],
   "source": [
    "_, idx_remap = ws.unique_node_map\n",
    "J_m = idx_remap[I_m]"
   ]
  },
  {
   "cell_type": "code",
   "execution_count": 10,
   "metadata": {},
   "outputs": [
    {
     "data": {
      "text/plain": [
       "array([[-26.48362767, -16.48362767, -12.16120922,  -2.16120922,\n",
       "          2.16120922,  12.16120922,  16.48362767,  26.48362767],\n",
       "       [-45.14318848, -45.14318848, -45.14318848, -45.14318848,\n",
       "        -45.14318848, -45.14318848, -45.14318848, -45.14318848],\n",
       "       [-18.05472565, -18.05472565, -18.05472565, -18.05472565,\n",
       "        -18.05472565, -18.05472565, -18.05472565, -18.05472565]])"
      ]
     },
     "execution_count": 10,
     "metadata": {},
     "output_type": "execute_result"
    }
   ],
   "source": [
    "ws.X_Ia[J_m.flatten()].T"
   ]
  },
  {
   "cell_type": "markdown",
   "metadata": {},
   "source": [
    "# Node map to allow for hierarchical sliding"
   ]
  },
  {
   "cell_type": "code",
   "execution_count": 13,
   "metadata": {
    "scrolled": true
   },
   "outputs": [
    {
     "data": {
      "text/plain": [
       "(array([0, 2]), array([ 0,  2,  4,  6,  8, 10]))"
      ]
     },
     "execution_count": 13,
     "metadata": {},
     "output_type": "execute_result"
    }
   ],
   "source": [
    "n_cells, n_ic, n_id, _, x_cell_idx, _, y_cell_idx = ws.cell_map\n",
    "x_cell_idx, y_cell_idx"
   ]
  },
  {
   "cell_type": "code",
   "execution_count": 14,
   "metadata": {},
   "outputs": [
    {
     "data": {
      "text/plain": [
       "(array([0., 1.]), array([0., 1., 2., 3., 4., 5.]))"
      ]
     },
     "execution_count": 14,
     "metadata": {},
     "output_type": "execute_result"
    }
   ],
   "source": [
    "x_idx, y_idx = x_cell_idx / 2, y_cell_idx / 2\n",
    "x_idx, y_idx"
   ]
  },
  {
   "cell_type": "code",
   "execution_count": 15,
   "metadata": {},
   "outputs": [],
   "source": [
    "n_x_, n_y_ = len(x_idx), len(y_idx) "
   ]
  },
  {
   "cell_type": "code",
   "execution_count": 16,
   "metadata": {},
   "outputs": [
    {
     "data": {
      "text/plain": [
       "array([[ 35,  42,  49,  56,  63,  70],\n",
       "       [ 77,  84,  91,  98, 105, 112]])"
      ]
     },
     "execution_count": 16,
     "metadata": {},
     "output_type": "execute_result"
    }
   ],
   "source": [
    "I_cell_offset = (n_ic + np.arange(n_x_*n_y_).reshape(n_x_, n_y_)) * ws.wb_cell.n_I\n",
    "I_cell_offset"
   ]
  },
  {
   "cell_type": "code",
   "execution_count": 17,
   "metadata": {},
   "outputs": [
    {
     "data": {
      "text/plain": [
       "array([[[[2, 1],\n",
       "         [6, 5],\n",
       "         [4, 3]]]])"
      ]
     },
     "execution_count": 17,
     "metadata": {},
     "output_type": "execute_result"
    }
   ],
   "source": [
    "ws.wb_cell.I_boundary[np.newaxis,np.newaxis,:,:]"
   ]
  },
  {
   "cell_type": "code",
   "execution_count": 18,
   "metadata": {},
   "outputs": [],
   "source": [
    "I_CDij_map = I_cell_offset.T[:,:,np.newaxis, np.newaxis] + ws.wb_cell.I_boundary[np.newaxis,np.newaxis,:,:]"
   ]
  },
  {
   "cell_type": "code",
   "execution_count": 19,
   "metadata": {},
   "outputs": [
    {
     "data": {
      "text/plain": [
       "array([[ 74,  73],\n",
       "       [116, 115]])"
      ]
     },
     "execution_count": 19,
     "metadata": {},
     "output_type": "execute_result"
    }
   ],
   "source": [
    "I_CDij_map[-1,:,-1,:]"
   ]
  },
  {
   "cell_type": "markdown",
   "metadata": {},
   "source": [
    "# Find duplicate nodes and merge them to a single one"
   ]
  },
  {
   "cell_type": "code",
   "execution_count": 20,
   "metadata": {},
   "outputs": [],
   "source": [
    "X_Ia = np.array([[2,1,0],\n",
    "                 [3,8,9],\n",
    "                 [0,0,0],\n",
    "                 [5,3,9],\n",
    "                 [1,0,1],\n",
    "                 [0,0,0],\n",
    "                 [1,0,1],\n",
    "                 [0,0,0]],dtype=np.float_)"
   ]
  },
  {
   "cell_type": "code",
   "execution_count": 21,
   "metadata": {},
   "outputs": [],
   "source": [
    "# reshape the coordinates in array of segments to the shape (n_N, n_D\n",
    "x_0 = X_Ia"
   ]
  },
  {
   "cell_type": "code",
   "execution_count": 22,
   "metadata": {},
   "outputs": [],
   "source": [
    "# construct distance vectors between every pair of nodes\n",
    "x_x_0 = x_0[:, np.newaxis, :] - x_0[np.newaxis, :, :]"
   ]
  },
  {
   "cell_type": "code",
   "execution_count": 23,
   "metadata": {},
   "outputs": [],
   "source": [
    "# calculate the distance between every pair of nodes\n",
    "dist_0 = np.sqrt(np.einsum('...i,...i', x_x_0, x_x_0))"
   ]
  },
  {
   "cell_type": "code",
   "execution_count": 24,
   "metadata": {},
   "outputs": [
    {
     "data": {
      "text/plain": [
       "array([[ True, False, False, False, False, False, False, False],\n",
       "       [False,  True, False, False, False, False, False, False],\n",
       "       [False, False,  True, False, False,  True, False,  True],\n",
       "       [False, False, False,  True, False, False, False, False],\n",
       "       [False, False, False, False,  True, False,  True, False],\n",
       "       [False, False,  True, False, False,  True, False,  True],\n",
       "       [False, False, False, False,  True, False,  True, False],\n",
       "       [False, False,  True, False, False,  True, False,  True]])"
      ]
     },
     "execution_count": 24,
     "metadata": {},
     "output_type": "execute_result"
    }
   ],
   "source": [
    "# identify those at the same location\n",
    "zero_dist = dist_0 < ws.node_match_threshold\n",
    "zero_dist"
   ]
  },
  {
   "cell_type": "code",
   "execution_count": 25,
   "metadata": {},
   "outputs": [],
   "source": [
    "# get their indices\n",
    "i_idx, j_idx = np.where(zero_dist)"
   ]
  },
  {
   "cell_type": "code",
   "execution_count": 26,
   "metadata": {},
   "outputs": [],
   "source": [
    "# take only the upper triangle indices\n",
    "upper_triangle = i_idx < j_idx"
   ]
  },
  {
   "cell_type": "code",
   "execution_count": 27,
   "metadata": {},
   "outputs": [],
   "source": [
    "idx_multi, idx_delete = i_idx[upper_triangle], j_idx[upper_triangle]"
   ]
  },
  {
   "cell_type": "code",
   "execution_count": 28,
   "metadata": {},
   "outputs": [],
   "source": [
    "# construct a boolean array with True at valid and False at deleted\n",
    "# indices\n",
    "idx_unique = np.ones((len(x_0),), dtype='bool')\n",
    "idx_unique[idx_delete] = False"
   ]
  },
  {
   "cell_type": "code",
   "execution_count": 29,
   "metadata": {},
   "outputs": [
    {
     "data": {
      "text/plain": [
       "(array([2, 2, 4, 5]), array([5, 7, 6, 7]))"
      ]
     },
     "execution_count": 29,
     "metadata": {},
     "output_type": "execute_result"
    }
   ],
   "source": [
    "idx_multi, idx_delete"
   ]
  },
  {
   "cell_type": "code",
   "execution_count": 30,
   "metadata": {},
   "outputs": [],
   "source": [
    "idx_keep = np.ones((len(x_0),), dtype=np.bool_)\n",
    "idx_keep[idx_delete] = False"
   ]
  },
  {
   "cell_type": "code",
   "execution_count": 31,
   "metadata": {},
   "outputs": [
    {
     "data": {
      "text/plain": [
       "(array([5, 7, 6, 7]), array([2, 2, 4, 5]))"
      ]
     },
     "execution_count": 31,
     "metadata": {},
     "output_type": "execute_result"
    }
   ],
   "source": [
    "idx_delete, idx_multi"
   ]
  },
  {
   "cell_type": "code",
   "execution_count": 32,
   "metadata": {},
   "outputs": [
    {
     "data": {
      "text/plain": [
       "array([[9, 9, 9, 9, 9, 9, 9, 9],\n",
       "       [9, 9, 9, 9, 9, 9, 9, 9],\n",
       "       [9, 9, 9, 9, 9, 9, 9, 9],\n",
       "       [9, 9, 9, 9, 9, 9, 9, 9],\n",
       "       [9, 9, 9, 9, 9, 9, 9, 9],\n",
       "       [9, 9, 9, 9, 9, 9, 9, 9],\n",
       "       [9, 9, 9, 9, 9, 9, 9, 9],\n",
       "       [9, 9, 9, 9, 9, 9, 9, 9]])"
      ]
     },
     "execution_count": 32,
     "metadata": {},
     "output_type": "execute_result"
    }
   ],
   "source": [
    "ij_map = np.ones_like(dist_0, dtype=np.int_) + len(x_0)\n",
    "ij_map"
   ]
  },
  {
   "cell_type": "code",
   "execution_count": 33,
   "metadata": {},
   "outputs": [],
   "source": [
    "i_ = np.arange(len(x_0))\n",
    "idx_row = i_[idx_keep]"
   ]
  },
  {
   "cell_type": "code",
   "execution_count": 34,
   "metadata": {},
   "outputs": [
    {
     "data": {
      "text/plain": [
       "array([[0, 9, 9, 9, 9, 9, 9, 9],\n",
       "       [9, 1, 9, 9, 9, 9, 9, 9],\n",
       "       [9, 9, 2, 9, 9, 9, 9, 9],\n",
       "       [9, 9, 9, 3, 9, 9, 9, 9],\n",
       "       [9, 9, 9, 9, 4, 9, 9, 9],\n",
       "       [9, 9, 9, 9, 9, 9, 9, 9],\n",
       "       [9, 9, 9, 9, 9, 9, 9, 9],\n",
       "       [9, 9, 9, 9, 9, 9, 9, 9]])"
      ]
     },
     "execution_count": 34,
     "metadata": {},
     "output_type": "execute_result"
    }
   ],
   "source": [
    "ij_map[idx_keep,idx_keep] = np.arange(len(idx_row))\n",
    "ij_map"
   ]
  },
  {
   "cell_type": "code",
   "execution_count": 35,
   "metadata": {},
   "outputs": [
    {
     "data": {
      "text/plain": [
       "array([[0, 9, 9, 9, 9, 9, 9, 9],\n",
       "       [9, 1, 9, 9, 9, 9, 9, 9],\n",
       "       [9, 9, 2, 9, 9, 2, 9, 2],\n",
       "       [9, 9, 9, 3, 9, 9, 9, 9],\n",
       "       [9, 9, 9, 9, 4, 9, 4, 9],\n",
       "       [9, 9, 9, 9, 9, 9, 9, 9],\n",
       "       [9, 9, 9, 9, 9, 9, 9, 9],\n",
       "       [9, 9, 9, 9, 9, 9, 9, 9]])"
      ]
     },
     "execution_count": 35,
     "metadata": {},
     "output_type": "execute_result"
    }
   ],
   "source": [
    "ij_map[i_idx, j_idx] = ij_map[i_idx, i_idx]\n",
    "ij_map"
   ]
  },
  {
   "cell_type": "code",
   "execution_count": 36,
   "metadata": {},
   "outputs": [
    {
     "data": {
      "text/plain": [
       "array([0, 1, 2, 3, 4, 2, 4, 2])"
      ]
     },
     "execution_count": 36,
     "metadata": {},
     "output_type": "execute_result"
    }
   ],
   "source": [
    "idx_remap = np.min(ij_map,axis=0)\n",
    "idx_remap"
   ]
  },
  {
   "cell_type": "markdown",
   "metadata": {},
   "source": [
    "## Sketch of the applied generation method / concept\n",
    "\n",
    "Sketch the discretization into the cells the cell midpoints \n",
    "cover a cylindric surface as a structured grid. \n",
    "\n",
    "Midpoints are arranged at the surface of the derived cylinder\n",
    "parameters which depend on the folding angle $\\alpha$ and $a, b, c$\n",
    "parameters of the waterbomd cell. Then, a reference cell \n",
    "in an intermediate state of folding is broadcasted \n",
    "to the prepared grid of midpoints on the cylinders. "
   ]
  },
  {
   "cell_type": "code",
   "execution_count": 39,
   "metadata": {},
   "outputs": [],
   "source": [
    "n_phi_plus = 2\n",
    "delta_phi = 0.3\n",
    "phi_range = np.arange(-(n_phi_plus-1), n_phi_plus) * delta_phi\n",
    "r_0 = -10"
   ]
  },
  {
   "cell_type": "code",
   "execution_count": 40,
   "metadata": {},
   "outputs": [
    {
     "data": {
      "text/plain": [
       "array([-0.3,  0. ,  0.3])"
      ]
     },
     "execution_count": 40,
     "metadata": {},
     "output_type": "execute_result"
    }
   ],
   "source": [
    "phi_range"
   ]
  },
  {
   "cell_type": "code",
   "execution_count": 41,
   "metadata": {},
   "outputs": [],
   "source": [
    "X_phi_range = np.array([np.fabs(r_0) * np.sin(phi_range),\n",
    "                 np.fabs(r_0) * np.cos(phi_range) + r_0]).T"
   ]
  },
  {
   "cell_type": "code",
   "execution_count": 42,
   "metadata": {},
   "outputs": [
    {
     "data": {
      "application/vnd.jupyter.widget-view+json": {
       "model_id": "e0e812efbb534fd790114ea41801258d",
       "version_major": 2,
       "version_minor": 0
      },
      "text/plain": [
       "Canvas(toolbar=Toolbar(toolitems=[('Home', 'Reset original view', 'home', 'home'), ('Back', 'Back to previous …"
      ]
     },
     "metadata": {},
     "output_type": "display_data"
    }
   ],
   "source": [
    "fix, ax = plt.subplots(1,1)\n",
    "ax.plot(*X_phi_range.T);"
   ]
  },
  {
   "cell_type": "code",
   "execution_count": 44,
   "metadata": {},
   "outputs": [
    {
     "data": {
      "text/plain": [
       "array([-0.5,  0. ,  0.5])"
      ]
     },
     "execution_count": 44,
     "metadata": {},
     "output_type": "execute_result"
    }
   ],
   "source": [
    "n_x_plus = 2\n",
    "delta_x = 0.5\n",
    "X_x_range = np.arange(-(n_x_plus-1), n_x_plus) * delta_x\n",
    "X_x_range"
   ]
  },
  {
   "cell_type": "code",
   "execution_count": 45,
   "metadata": {},
   "outputs": [
    {
     "data": {
      "text/plain": [
       "array([[[-0.5]],\n",
       "\n",
       "       [[ 0. ]],\n",
       "\n",
       "       [[ 0.5]]])"
      ]
     },
     "execution_count": 45,
     "metadata": {},
     "output_type": "execute_result"
    }
   ],
   "source": [
    "X_x_range[:, np.newaxis, np.newaxis]"
   ]
  },
  {
   "cell_type": "code",
   "execution_count": 46,
   "metadata": {},
   "outputs": [
    {
     "data": {
      "text/plain": [
       "array([[[-2.95520207, -0.44663511],\n",
       "        [ 0.        ,  0.        ],\n",
       "        [ 2.95520207, -0.44663511]]])"
      ]
     },
     "execution_count": 46,
     "metadata": {},
     "output_type": "execute_result"
    }
   ],
   "source": [
    "X_phi_range[np.newaxis,:,:]"
   ]
  },
  {
   "cell_type": "code",
   "execution_count": 47,
   "metadata": {},
   "outputs": [
    {
     "data": {
      "text/plain": [
       "array([0, 1, 2])"
      ]
     },
     "execution_count": 47,
     "metadata": {},
     "output_type": "execute_result"
    }
   ],
   "source": [
    "n_idx_x = len(X_x_range)\n",
    "n_idx_phi = len(X_phi_range)\n",
    "idx_x = np.arange(n_idx_x)\n",
    "idx_phi = np.arange(n_idx_phi)\n",
    "idx_phi"
   ]
  },
  {
   "cell_type": "code",
   "execution_count": 48,
   "metadata": {},
   "outputs": [
    {
     "data": {
      "image/png": "[encoded data removed]",
      "text/latex": [
       "$\\displaystyle 2$"
      ],
      "text/plain": [
       "2"
      ]
     },
     "execution_count": 48,
     "metadata": {},
     "output_type": "execute_result"
    }
   ],
   "source": [
    "1+1 % 2"
   ]
  },
  {
   "cell_type": "code",
   "execution_count": 50,
   "metadata": {},
   "outputs": [
    {
     "data": {
      "text/plain": [
       "(array([1]), array([1]), array([0, 2]), array([0, 2]))"
      ]
     },
     "execution_count": 50,
     "metadata": {},
     "output_type": "execute_result"
    }
   ],
   "source": [
    "idx_x_ic = idx_x[(n_idx_x)%2::2]\n",
    "idx_x_id = idx_x[(n_idx_x+1)%2::2]\n",
    "idx_phi_ic = idx_phi[(n_idx_phi)%2::2]\n",
    "idx_phi_id = idx_phi[(n_idx_phi+1)%2::2]\n",
    "\n",
    "idx_x_ic, idx_phi_ic, idx_x_id, idx_phi_id"
   ]
  },
  {
   "cell_type": "code",
   "execution_count": 51,
   "metadata": {},
   "outputs": [],
   "source": [
    "idx_map_ic = np.meshgrid(idx_x_ic, idx_phi_ic)\n",
    "idx_map_id = np.meshgrid(idx_x_id, idx_phi_id)"
   ]
  },
  {
   "cell_type": "code",
   "execution_count": 104,
   "metadata": {},
   "outputs": [
    {
     "data": {
      "text/plain": [
       "[array([[1]]), array([[1]])]"
      ]
     },
     "execution_count": 104,
     "metadata": {},
     "output_type": "execute_result"
    }
   ],
   "source": [
    "idx_map_ic"
   ]
  },
  {
   "cell_type": "code",
   "execution_count": 55,
   "metadata": {},
   "outputs": [],
   "source": [
    "X_C_a = np.c_[ X_x_range[idx_map_ic[0]].reshape(-1,1), X_phi_range[idx_map_ic[1]].reshape(-1,2) ]\n",
    "X_D_a = np.c_[ X_x_range[idx_map_id[0]].reshape(-1,1), X_phi_range[idx_map_id[1]].reshape(-1,2) ]"
   ]
  },
  {
   "cell_type": "code",
   "execution_count": 56,
   "metadata": {},
   "outputs": [
    {
     "data": {
      "text/plain": [
       "array([[0., 0., 0.]])"
      ]
     },
     "execution_count": 56,
     "metadata": {},
     "output_type": "execute_result"
    }
   ],
   "source": [
    "X_C_a"
   ]
  },
  {
   "cell_type": "code",
   "execution_count": 57,
   "metadata": {
    "scrolled": true
   },
   "outputs": [
    {
     "data": {
      "text/plain": [
       "array([[-0.5       , -2.95520207, -0.44663511],\n",
       "       [ 0.5       , -2.95520207, -0.44663511],\n",
       "       [-0.5       ,  2.95520207, -0.44663511],\n",
       "       [ 0.5       ,  2.95520207, -0.44663511]])"
      ]
     },
     "execution_count": 57,
     "metadata": {},
     "output_type": "execute_result"
    }
   ],
   "source": [
    "X_D_a"
   ]
  },
  {
   "cell_type": "code",
   "execution_count": null,
   "metadata": {},
   "outputs": [],
   "source": []
  }
 ],
 "metadata": {
  "kernelspec": {
   "display_name": "bmcs_env",
   "language": "python",
   "name": "bmcs_env"
  },
  "language_info": {
   "codemirror_mode": {
    "name": "ipython",
    "version": 3
   },
   "file_extension": ".py",
   "mimetype": "text/x-python",
   "name": "python",
   "nbconvert_exporter": "python",
   "pygments_lexer": "ipython3",
   "version": "3.9.2"
  },
  "toc": {
   "base_numbering": 1,
   "nav_menu": {},
   "number_sections": true,
   "sideBar": true,
   "skip_h1_title": true,
   "title_cell": "Table of Contents",
   "title_sidebar": "Contents",
   "toc_cell": false,
   "toc_position": {
    "height": "calc(100% - 180px)",
    "left": "10px",
    "top": "150px",
    "width": "165px"
   },
   "toc_section_display": true,
   "toc_window_display": false
  }
 },
 "nbformat": 4,
 "nbformat_minor": 4
}
