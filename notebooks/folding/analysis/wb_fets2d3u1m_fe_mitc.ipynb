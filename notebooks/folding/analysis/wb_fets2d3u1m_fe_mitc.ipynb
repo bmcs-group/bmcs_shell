{
 "cells": [
  {
   "cell_type": "code",
   "execution_count": 1,
   "metadata": {},
   "outputs": [],
   "source": [
    "%matplotlib widget\n",
    "from bmcs_shell.api import FETriangularMesh, TriXDomainFE, XDomainFE, FETS2D3U1M, MATS2DElastic, TriXDomainMITC, FETS2DMITC, MATSShellElastic\n",
    "import numpy as np\n",
    "from ibvpy.bcond import BCDof\n",
    "from ibvpy.sim.tstep_bc import TStepBC\n",
    "# from ibvpy.mats.viz3d_scalar_field import \\\n",
    "#     Vis3DStateField, Viz3DScalarField"
   ]
  },
  {
   "cell_type": "code",
   "execution_count": 2,
   "metadata": {},
   "outputs": [],
   "source": [
    "def run_sim(mitc = True):\n",
    "    mesh = FETriangularMesh(\n",
    "    X_Id=[[0,0,0], [0,100,0], [100,0,0]],\n",
    "    I_Fi=[[0,1,2]] # this should be I_Ei when using XDomainFE later\n",
    "    )\n",
    "    if mitc:\n",
    "        # shell element with 5 dofs (u_x, u_y, u_z, alpha, beta)\n",
    "        fixed_dofs = [0, 1, 2, 3, 4,\n",
    "                      5   , 7, 8, 9,\n",
    "                            12, 13, 14]\n",
    "        loaded_dofs = [11]\n",
    "        mesh.fets = FETS2DMITC()\n",
    "        xdomain = TriXDomainMITC(mesh=mesh)\n",
    "        tmodel = MATSShellElastic(E=210000, nu=0.3)\n",
    "    else:\n",
    "        # plane element\n",
    "        fixed_dofs = [0, 1, 2, 3, 5, 8]\n",
    "        loaded_dofs = [7]\n",
    "        xdomain = TriXDomainFE(mesh=mesh)\n",
    "        tmodel = MATS2DElastic(E=210000, nu=0.3)\n",
    "\n",
    "    u_cntl = -100\n",
    "    bc_fixed = [BCDof(var= 'u', dof=dof, value=0) for dof in fixed_dofs]\n",
    "    bc_loaded = [BCDof(var= 'f', dof=dof, value=u_cntl) for dof in loaded_dofs]\n",
    "    ts = TStepBC(\n",
    "        domains=[(xdomain, tmodel)],\n",
    "        bc=bc_fixed + bc_loaded,\n",
    "    )\n",
    "    s = ts.sim\n",
    "    s.tloop.k_max = 10\n",
    "    s.tline.step = 1\n",
    "    s.tloop.verbose = True\n",
    "#     s.run()\n",
    "    return xdomain"
   ]
  },
  {
   "cell_type": "code",
   "execution_count": 3,
   "metadata": {
    "scrolled": false
   },
   "outputs": [],
   "source": [
    "xdomain = run_sim(mitc = True)"
   ]
  },
  {
   "cell_type": "markdown",
   "metadata": {},
   "source": [
    "**X position Vectors** "
   ]
  },
  {
   "cell_type": "code",
   "execution_count": 4,
   "metadata": {
    "scrolled": true
   },
   "outputs": [
    {
     "data": {
      "text/plain": [
       "array([[[  0.,   0.,   0.],\n",
       "        [  0., 100.,   0.],\n",
       "        [100.,   0.,   0.]]])"
      ]
     },
     "execution_count": 4,
     "metadata": {},
     "output_type": "execute_result"
    }
   ],
   "source": [
    "X_Fid = xdomain.X_Id[xdomain.mesh.I_Fi]\n",
    "X_Fid"
   ]
  },
  {
   "cell_type": "markdown",
   "metadata": {},
   "source": [
    "**V_n Vectors** "
   ]
  },
  {
   "cell_type": "code",
   "execution_count": 5,
   "metadata": {},
   "outputs": [
    {
     "data": {
      "text/plain": [
       "array([[[0. , 0. , 0.5],\n",
       "        [0. , 0. , 0.5],\n",
       "        [0. , 0. , 0.5]]])"
      ]
     },
     "execution_count": 5,
     "metadata": {},
     "output_type": "execute_result"
    }
   ],
   "source": [
    "a = 1 # thickness\n",
    "\n",
    "n_Fd= xdomain.norm_F_normals\n",
    "el_nodes_num = 3\n",
    "Vn_Fid = np.tile(n_Fd, (1, 1, el_nodes_num)).reshape(n_Fd.shape[0], n_Fd.shape[1], el_nodes_num)\n",
    "Vn_Fid = 0.5 * a * Vn_Fid\n",
    "Vn_Fid"
   ]
  },
  {
   "cell_type": "code",
   "execution_count": 6,
   "metadata": {},
   "outputs": [],
   "source": [
    "fets = xdomain.fets\n",
    "dN_imr = fets.dN_imr\n",
    "dNt_imr = fets.dNt_imr"
   ]
  },
  {
   "cell_type": "code",
   "execution_count": 7,
   "metadata": {},
   "outputs": [],
   "source": [
    "dN_imr = xdomain.fets.dN_imr\n",
    "dNt_imr = xdomain.fets.dNt_imr\n",
    "\n",
    "X_Fid = xdomain.X_Id[xdomain.mesh.I_Fi]\n",
    "\n",
    "a = 1  # thickness\n",
    "n_Fd = xdomain.norm_F_normals\n",
    "el_nodes_num = 3\n",
    "Vn_Fid = np.tile(n_Fd, (1, 1, el_nodes_num)).reshape(n_Fd.shape[0], n_Fd.shape[1], el_nodes_num)\n",
    "\n",
    "dx_dr1_Fmrid = np.einsum('Fid, imr ->Fmrid', X_Fid, dN_imr)\n",
    "dx_dr2_Fmrid = np.einsum('Fid, imr ->Fmrid', 0.5 * a * Vn_Fid, dNt_imr)\n",
    "dx_dr1_Fmrd = np.sum(dx_dr1_Fmrid, axis=3)\n",
    "dx_dr2_Fmrd = np.sum(dx_dr2_Fmrid, axis=3)\n",
    "dx_dr_Fmrd = dx_dr1_Fmrd + dx_dr2_Fmrd\n",
    "\n",
    "# Calculating v1 and v2\n",
    "min_Fi1 = Vn_Fid.argmin(axis=2)\n",
    "min_Fi1 = min_Fi1[..., np.newaxis]\n",
    "tmp_Fid = np.zeros_like(Vn_Fid, dtype=np.int_)\n",
    "tmp_Fid[..., :] = np.arange(3)\n",
    "min_mask_Fid = tmp_Fid == min_Fi1\n",
    "e_x_min_Fid = min_mask_Fid * 1\n",
    "V1_Fid = np.cross(e_x_min_Fid, Vn_Fid)\n",
    "V2_Fid = np.cross(Vn_Fid, V1_Fid)\n",
    "v1_Fid = xdomain._normalize(V1_Fid)\n",
    "v2_Fid = xdomain._normalize(V2_Fid)\n",
    "\n",
    "# Calculating du_dr\n",
    "U_o = np.arange(3 * 5) # TODO change\n",
    "nodes_num = xdomain.mesh.X_Id.shape[0]\n",
    "U_Ie = np.reshape(U_o, (nodes_num, xdomain.fets.n_nodal_dofs))\n",
    "U_Fie = U_Ie[xdomain.mesh.I_Fi]\n",
    "disp_U_Fia = U_Fie[..., :3]\n",
    "rot_U_Fib = U_Fie[..., 3:]\n",
    "du_dr1_Fmria = np.einsum('Fia, imr ->Fmria', disp_U_Fia, dN_imr)\n",
    "du_dr1_Fmra = np.sum(du_dr1_Fmria, axis=3)\n",
    "\n",
    "alpha_idx = 0\n",
    "beta_idx = 1\n",
    "alpha_Fi1 = rot_U_Fib[..., alpha_idx, np.newaxis]\n",
    "beta_Fi1 = rot_U_Fib[..., beta_idx, np.newaxis]\n",
    "v2_alpha_Fid = v2_Fid * alpha_Fi1\n",
    "v1_beta_Fid = v1_Fid * beta_Fi1\n",
    "v1_v2_dif_Fid = v1_beta_Fid - v2_alpha_Fid\n",
    "du_dr2_Fmria = np.einsum('Fia, imr ->Fmria', 0.5 * a * v1_v2_dif_Fid, dNt_imr)\n",
    "du_dr2_Fmra = np.sum(du_dr2_Fmria, axis=3)\n",
    "du_dr_Fmra = du_dr1_Fmra + du_dr2_Fmra"
   ]
  },
  {
   "cell_type": "code",
   "execution_count": 8,
   "metadata": {},
   "outputs": [
    {
     "data": {
      "text/plain": [
       "array([-1.,  1.,  0.])"
      ]
     },
     "execution_count": 8,
     "metadata": {},
     "output_type": "execute_result"
    }
   ],
   "source": [
    "dN_imr[:, 0, 0] # dh1/dr, dh2/dr, dh3/dr for GP 1"
   ]
  },
  {
   "cell_type": "code",
   "execution_count": 9,
   "metadata": {},
   "outputs": [
    {
     "data": {
      "text/plain": [
       "array([ 0.57735026, -0.57735026,  0.        ])"
      ]
     },
     "execution_count": 9,
     "metadata": {},
     "output_type": "execute_result"
    }
   ],
   "source": [
    "dNt_imr[:, 0, 0] # d(t*h1)/dr, d(t*h2)/dr, d(t*h3)/dr, for GP 1"
   ]
  },
  {
   "cell_type": "code",
   "execution_count": 10,
   "metadata": {},
   "outputs": [],
   "source": [
    "# dh1/dr*I | -0.5 * a * v2_Fid * dNt_imr | 0.5 * a * v1_Fid * dNt_imr"
   ]
  },
  {
   "cell_type": "code",
   "execution_count": 11,
   "metadata": {
    "scrolled": true
   },
   "outputs": [],
   "source": [
    "element_dofs = 3 * fets.n_nodal_dofs\n",
    "dN_dr_Emrco = np.zeros((*dx_dr_Fmrd.shape, element_dofs))"
   ]
  },
  {
   "cell_type": "code",
   "execution_count": 12,
   "metadata": {},
   "outputs": [],
   "source": [
    "# Filling first 3x3 elements from N matrices\n",
    "dofs = 5\n",
    "# Looping r, s, t\n",
    "for i in range(3):\n",
    "    # Looping h1, h2, h3\n",
    "    for j in range(3):\n",
    "        dN_dr_Emrco[..., i, :, 0 + j*dofs:3 + j*dofs] = np.identity(3) * dN_imr[j, 0, i] # dh1/dr (which is the same for all gaus points)"
   ]
  },
  {
   "cell_type": "code",
   "execution_count": 13,
   "metadata": {},
   "outputs": [
    {
     "data": {
      "text/plain": [
       "array([[-1., -0., -0.,  0.,  0.,  1.,  0.,  0.,  0.,  0.,  0.,  0.,  0.,\n",
       "         0.,  0.],\n",
       "       [-0., -1., -0.,  0.,  0.,  0.,  1.,  0.,  0.,  0.,  0.,  0.,  0.,\n",
       "         0.,  0.],\n",
       "       [-0., -0., -1.,  0.,  0.,  0.,  0.,  1.,  0.,  0.,  0.,  0.,  0.,\n",
       "         0.,  0.]])"
      ]
     },
     "execution_count": 13,
     "metadata": {},
     "output_type": "execute_result"
    }
   ],
   "source": [
    "dN_dr_Emrco[0, 0, 0, ...]"
   ]
  },
  {
   "cell_type": "code",
   "execution_count": 14,
   "metadata": {},
   "outputs": [],
   "source": [
    "N4_Fmrai = np.einsum('Fia, imr ->Fmrai', -0.5 * a * v2_Fid, dNt_imr)\n",
    "N5_Fmrai = np.einsum('Fia, imr ->Fmrai', +0.5 * a * v1_Fid, dNt_imr)"
   ]
  },
  {
   "cell_type": "code",
   "execution_count": 15,
   "metadata": {},
   "outputs": [
    {
     "data": {
      "text/plain": [
       "(1, 14, 3, 3, 3)"
      ]
     },
     "execution_count": 15,
     "metadata": {},
     "output_type": "execute_result"
    }
   ],
   "source": [
    "N4_Fmrai.shape"
   ]
  },
  {
   "cell_type": "code",
   "execution_count": 16,
   "metadata": {},
   "outputs": [
    {
     "data": {
      "text/plain": [
       "(1, 14, 3, 3, 3)"
      ]
     },
     "execution_count": 16,
     "metadata": {},
     "output_type": "execute_result"
    }
   ],
   "source": [
    "dN_dr_Emrco[..., :, [3, 8, 13]].shape"
   ]
  },
  {
   "cell_type": "code",
   "execution_count": 17,
   "metadata": {},
   "outputs": [
    {
     "data": {
      "text/plain": [
       "array([[-0.28867513,  0.        ,  0.28867513],\n",
       "       [ 0.        ,  0.        ,  0.        ],\n",
       "       [ 0.        ,  0.        ,  0.        ]])"
      ]
     },
     "execution_count": 17,
     "metadata": {},
     "output_type": "execute_result"
    }
   ],
   "source": [
    "N4_Fmrai[0, 0, 1, ...]"
   ]
  },
  {
   "cell_type": "code",
   "execution_count": 18,
   "metadata": {},
   "outputs": [],
   "source": [
    "dN_dr_Emrco[..., :, [3, 8, 13]] = N4_Fmrai\n",
    "dN_dr_Emrco[..., :, [4, 9, 14]] = N5_Fmrai"
   ]
  },
  {
   "cell_type": "markdown",
   "metadata": {},
   "source": [
    "\\begin{align}\n",
    " u_a = N_{ao} u_{o}\n",
    "\\end{align}\n",
    "\\begin{align}\n",
    "\\varepsilon_{ab} &= \\frac{1}{2}\n",
    "\\left(\\frac{\\partial u_a}{\\partial x_b} +\n",
    " \\frac{\\partial u_b}{\\partial x_a}\\right) \\\\\n",
    "&= \\frac{1}{2}\n",
    "\\left( \\delta_{ac} \\delta_{bd} + \\delta_{ad} \\delta_{bc}\\right)\n",
    " \\frac{\\partial u_c}{\\partial x_d}\n",
    "\\\\\n",
    "&=\n",
    " \\frac{1}{2}\n",
    "\\left( \\delta_{ac} \\delta_{bd} + \\delta_{ad} \\delta_{bc}\\right)\n",
    " \\frac{\\partial N_{co}}{\\partial x_d} u_o\n",
    "\\\\\n",
    " &=\n",
    " \\frac{1}{2}\n",
    "\\left( \\delta_{ac} \\delta_{bd} + \\delta_{ad} \\delta_{bc}\\right)\n",
    "\\frac{\\partial N_{co}}{\\partial \\xi_r} \\frac{\\partial \\xi_r}{\\partial x_d} u_o\n",
    "\\end{align}\n",
    "\n",
    "$u_{o}$: the calculated nodal displacements\n",
    "\n",
    "$\\frac{1}{2}\n",
    "\\left( \\delta_{ac} \\delta_{bd} + \\delta_{ad} \\delta_{bc}\\right)\n",
    "\\frac{\\partial N_{co}}{\\partial \\xi_r} \\frac{\\partial \\xi_r}{\\partial x_d}$: represents the $B$ operator"
   ]
  },
  {
   "cell_type": "code",
   "execution_count": 26,
   "metadata": {},
   "outputs": [
    {
     "data": {
      "text/plain": [
       "array([[[[0.   , 0.005, 0.   ],\n",
       "         [0.005, 0.   , 0.   ],\n",
       "         [0.   , 0.   , 0.   ]],\n",
       "\n",
       "        [[0.   , 0.005, 0.   ],\n",
       "         [0.005, 0.   , 0.   ],\n",
       "         [0.   , 0.   , 0.   ]],\n",
       "\n",
       "        [[0.   , 0.005, 0.   ],\n",
       "         [0.005, 0.   , 0.   ],\n",
       "         [0.   , 0.   , 0.   ]],\n",
       "\n",
       "        [[0.   , 0.005, 0.   ],\n",
       "         [0.005, 0.   , 0.   ],\n",
       "         [0.   , 0.   , 0.   ]],\n",
       "\n",
       "        [[0.   , 0.005, 0.   ],\n",
       "         [0.005, 0.   , 0.   ],\n",
       "         [0.   , 0.   , 0.   ]],\n",
       "\n",
       "        [[0.   , 0.005, 0.   ],\n",
       "         [0.005, 0.   , 0.   ],\n",
       "         [0.   , 0.   , 0.   ]],\n",
       "\n",
       "        [[0.   , 0.005, 0.   ],\n",
       "         [0.005, 0.   , 0.   ],\n",
       "         [0.   , 0.   , 0.   ]],\n",
       "\n",
       "        [[0.   , 0.005, 0.   ],\n",
       "         [0.005, 0.   , 0.   ],\n",
       "         [0.   , 0.   , 0.   ]],\n",
       "\n",
       "        [[0.   , 0.005, 0.   ],\n",
       "         [0.005, 0.   , 0.   ],\n",
       "         [0.   , 0.   , 0.   ]],\n",
       "\n",
       "        [[0.   , 0.005, 0.   ],\n",
       "         [0.005, 0.   , 0.   ],\n",
       "         [0.   , 0.   , 0.   ]],\n",
       "\n",
       "        [[0.   , 0.005, 0.   ],\n",
       "         [0.005, 0.   , 0.   ],\n",
       "         [0.   , 0.   , 0.   ]],\n",
       "\n",
       "        [[0.   , 0.005, 0.   ],\n",
       "         [0.005, 0.   , 0.   ],\n",
       "         [0.   , 0.   , 0.   ]],\n",
       "\n",
       "        [[0.   , 0.005, 0.   ],\n",
       "         [0.005, 0.   , 0.   ],\n",
       "         [0.   , 0.   , 0.   ]],\n",
       "\n",
       "        [[0.   , 0.005, 0.   ],\n",
       "         [0.005, 0.   , 0.   ],\n",
       "         [0.   , 0.   , 0.   ]]]])"
      ]
     },
     "execution_count": 26,
     "metadata": {},
     "output_type": "execute_result"
    }
   ],
   "source": [
    "x_Ia = xdomain.X_Id\n",
    "x_Eia = x_Ia[xdomain.I_Ei]\n",
    "delta = np.identity(3)\n",
    "Diff1_abcd = 0.5 * (\n",
    "    np.einsum('ac,bd->abcd', delta, delta) +\n",
    "    np.einsum('ad,bc->abcd', delta, delta)\n",
    ")\n",
    "\n",
    "J_Fmrd = dx_dr_Fmrd\n",
    "\n",
    "inv_J_Fmrd = np.linalg.inv(J_Fmrd)\n",
    "det_J_Fmrd = np.linalg.det(J_Fmrd)\n",
    "B_Emabo = np.einsum('abcd, Emrco, Emrd -> Emabo', Diff1_abcd, dN_dr_Emrco, inv_J_Fmrd)\n",
    "\n",
    "U_o = np.array([0, 0, 0, 0, 0,\n",
    "               0, 0, 0, 0, 0,\n",
    "               0, 1, 0, 0, 0], dtype=np.float_)\n",
    "eps_Emab = np.einsum('Emabo, o -> Emab', B_Emabo, U_o)\n",
    "eps_Emab"
   ]
  },
  {
   "cell_type": "code",
   "execution_count": 93,
   "metadata": {},
   "outputs": [
    {
     "data": {
      "text/plain": [
       "array([0., 1., 2.])"
      ]
     },
     "execution_count": 93,
     "metadata": {},
     "output_type": "execute_result"
    }
   ],
   "source": [
    "# Replace diagonal elements with a number\n",
    "ddd = np.identity(3) * np.arange(3)\n",
    "ddd[[0, 1, 2], [0, 1, 2]] = 15\n",
    "ddd\n",
    "# example: dN_dr_Emrco[..., [0, 1, 2], [0, 1, 2]] = dh/dr"
   ]
  },
  {
   "cell_type": "code",
   "execution_count": 35,
   "metadata": {},
   "outputs": [
    {
     "data": {
      "text/plain": [
       "array([[[1, 2, 3],\n",
       "        [1, 2, 3],\n",
       "        [1, 2, 3]],\n",
       "\n",
       "       [[1, 2, 3],\n",
       "        [1, 2, 3],\n",
       "        [1, 2, 3]]])"
      ]
     },
     "execution_count": 35,
     "metadata": {},
     "output_type": "execute_result"
    }
   ],
   "source": [
    "x = np.array([1, 2, 3])\n",
    "np.broadcast_to(x, (2, 3, 3))"
   ]
  },
  {
   "cell_type": "markdown",
   "metadata": {},
   "source": [
    "## Benchmark example"
   ]
  },
  {
   "attachments": {
    "image.png": {
     "image/png": "[encoded data removed]"
    }
   },
   "cell_type": "markdown",
   "metadata": {},
   "source": [
    "![image.png](attachment:image.png)"
   ]
  },
  {
   "cell_type": "markdown",
   "metadata": {},
   "source": [
    "## 1. Solving manually"
   ]
  },
  {
   "cell_type": "code",
   "execution_count": 2,
   "metadata": {},
   "outputs": [
    {
     "data": {
      "text/plain": [
       "array([[ 0.01,  0.  ,  0.  ,  0.  , -0.01,  0.  ],\n",
       "       [ 0.  ,  0.01,  0.  , -0.01,  0.  ,  0.  ],\n",
       "       [ 0.01,  0.01, -0.01,  0.  ,  0.  , -0.01]])"
      ]
     },
     "execution_count": 2,
     "metadata": {},
     "output_type": "execute_result"
    }
   ],
   "source": [
    "h = 1\n",
    "\n",
    "x1 = 0\n",
    "y1 = 0\n",
    "x2 = 0\n",
    "y2 = 100\n",
    "x3 = 100\n",
    "y3 = 0\n",
    "\n",
    "E = 210000\n",
    "nu = 0.3\n",
    "A = 100*100/2\n",
    "C = E / (1 - nu ** 2) * np.array([[1, nu, 0], [nu, 1, 0], [0, 0, 0.5 * (1 - nu)]])\n",
    "B = (1/(2*A)) * np.array([\n",
    "    [y2-y3, 0, y3-y1, 0, y1-y2, 0],\n",
    "    [0, x3-x2, 0, x1-x3, 0, x2-x1],\n",
    "    [x3-x2, y2-y3, x1-x3, y3-y1, x2-x1, y1-y2]\n",
    "])\n",
    "B"
   ]
  },
  {
   "cell_type": "code",
   "execution_count": 3,
   "metadata": {},
   "outputs": [
    {
     "data": {
      "text/plain": [
       "array([[ 155769.23076923,   75000.        ,  -40384.61538462,\n",
       "         -34615.38461538, -115384.61538462,  -40384.61538462],\n",
       "       [  75000.        ,  155769.23076923,  -40384.61538462,\n",
       "        -115384.61538462,  -34615.38461538,  -40384.61538462],\n",
       "       [ -40384.61538462,  -40384.61538462,   40384.61538462,\n",
       "              0.        ,       0.        ,   40384.61538462],\n",
       "       [ -34615.38461538, -115384.61538462,       0.        ,\n",
       "         115384.61538462,   34615.38461538,       0.        ],\n",
       "       [-115384.61538462,  -34615.38461538,       0.        ,\n",
       "          34615.38461538,  115384.61538462,       0.        ],\n",
       "       [ -40384.61538462,  -40384.61538462,   40384.61538462,\n",
       "              0.        ,       0.        ,   40384.61538462]])"
      ]
     },
     "execution_count": 3,
     "metadata": {},
     "output_type": "execute_result"
    }
   ],
   "source": [
    "k = A*h*np.dot(B.T, C)\n",
    "k = np.dot(k, B)\n",
    "k"
   ]
  },
  {
   "cell_type": "code",
   "execution_count": 4,
   "metadata": {},
   "outputs": [
    {
     "data": {
      "text/plain": [
       "array([[115384.61538462,  34615.38461538,      0.        ],\n",
       "       [ 34615.38461538, 115384.61538462,      0.        ],\n",
       "       [     0.        ,      0.        ,  40384.61538462]])"
      ]
     },
     "execution_count": 4,
     "metadata": {},
     "output_type": "execute_result"
    }
   ],
   "source": [
    "k_dof = k[3:,3:]\n",
    "k_dof"
   ]
  },
  {
   "cell_type": "code",
   "execution_count": 5,
   "metadata": {},
   "outputs": [
    {
     "data": {
      "text/plain": [
       "array([[ 9.52380952e-06, -2.85714286e-06,  0.00000000e+00],\n",
       "       [-2.85714286e-06,  9.52380952e-06,  0.00000000e+00],\n",
       "       [ 0.00000000e+00,  0.00000000e+00,  2.47619048e-05]])"
      ]
     },
     "execution_count": 5,
     "metadata": {},
     "output_type": "execute_result"
    }
   ],
   "source": [
    "k_inv = np.linalg.inv(k_dof)\n",
    "k_inv"
   ]
  },
  {
   "cell_type": "code",
   "execution_count": 6,
   "metadata": {},
   "outputs": [
    {
     "data": {
      "text/plain": [
       "array([ 0.        ,  0.        , -0.00247619])"
      ]
     },
     "execution_count": 6,
     "metadata": {},
     "output_type": "execute_result"
    }
   ],
   "source": [
    "f = np.array([0, 0, -100])\n",
    "u = np.dot(k_inv, f)\n",
    "u"
   ]
  },
  {
   "cell_type": "markdown",
   "metadata": {},
   "source": [
    "## 2. Solving using ibvpy"
   ]
  },
  {
   "cell_type": "code",
   "execution_count": 8,
   "metadata": {
    "scrolled": true
   },
   "outputs": [
    {
     "data": {
      "text/plain": [
       "array([[[-0.70710678,  0.70710678,  0.        ],\n",
       "        [-0.70710678, -0.70710678, -0.        ],\n",
       "        [ 0.        ,  0.        ,  1.        ]]])"
      ]
     },
     "execution_count": 8,
     "metadata": {},
     "output_type": "execute_result"
    }
   ],
   "source": [
    "xdomain.T_Fab"
   ]
  },
  {
   "cell_type": "code",
   "execution_count": 9,
   "metadata": {},
   "outputs": [
    {
     "data": {
      "text/plain": [
       "array([[[  0.        ,   0.        ],\n",
       "        [141.42135624,   0.        ],\n",
       "        [ 70.71067812,  70.71067812]]])"
      ]
     },
     "execution_count": 9,
     "metadata": {},
     "output_type": "execute_result"
    }
   ],
   "source": [
    "xdomain.x_Eia"
   ]
  },
  {
   "cell_type": "code",
   "execution_count": 10,
   "metadata": {},
   "outputs": [
    {
     "data": {
      "text/plain": [
       "array([[[[141.42135624,  70.71067812,   0.        ],\n",
       "         [  0.        ,  70.71067812,   0.        ]],\n",
       "\n",
       "        [[141.42135624,  70.71067812,   0.        ],\n",
       "         [  0.        ,  70.71067812,   0.        ]],\n",
       "\n",
       "        [[141.42135624,  70.71067812,   0.        ],\n",
       "         [  0.        ,  70.71067812,   0.        ]],\n",
       "\n",
       "        [[141.42135624,  70.71067812,   0.        ],\n",
       "         [  0.        ,  70.71067812,   0.        ]],\n",
       "\n",
       "        [[141.42135624,  70.71067812,   0.        ],\n",
       "         [  0.        ,  70.71067812,   0.        ]],\n",
       "\n",
       "        [[141.42135624,  70.71067812,   0.        ],\n",
       "         [  0.        ,  70.71067812,   0.        ]],\n",
       "\n",
       "        [[141.42135624,  70.71067812,   0.        ],\n",
       "         [  0.        ,  70.71067812,   0.        ]],\n",
       "\n",
       "        [[141.42135624,  70.71067812,   0.        ],\n",
       "         [  0.        ,  70.71067812,   0.        ]],\n",
       "\n",
       "        [[141.42135624,  70.71067812,   0.        ],\n",
       "         [  0.        ,  70.71067812,   0.        ]],\n",
       "\n",
       "        [[141.42135624,  70.71067812,   0.        ],\n",
       "         [  0.        ,  70.71067812,   0.        ]],\n",
       "\n",
       "        [[141.42135624,  70.71067812,   0.        ],\n",
       "         [  0.        ,  70.71067812,   0.        ]],\n",
       "\n",
       "        [[141.42135624,  70.71067812,   0.        ],\n",
       "         [  0.        ,  70.71067812,   0.        ]],\n",
       "\n",
       "        [[141.42135624,  70.71067812,   0.        ],\n",
       "         [  0.        ,  70.71067812,   0.        ]],\n",
       "\n",
       "        [[141.42135624,  70.71067812,   0.        ],\n",
       "         [  0.        ,  70.71067812,   0.        ]]]])"
      ]
     },
     "execution_count": 10,
     "metadata": {},
     "output_type": "execute_result"
    }
   ],
   "source": [
    "xdomain.J_Emar"
   ]
  },
  {
   "cell_type": "code",
   "execution_count": null,
   "metadata": {},
   "outputs": [],
   "source": [
    "F_to = ts.hist.F_t\n",
    "U_to = ts.hist.U_t\n",
    "F_loaded = np.sum(F_to[:, loaded_dofs], axis=-1)\n",
    "F_fixed = np.sum(F_to[:, fixed_dofs], axis=-1)\n",
    "U_loaded = np.average(U_to[:, loaded_dofs], axis=-1)\n",
    "F_loaded\n",
    "U_to[-1]"
   ]
  },
  {
   "cell_type": "code",
   "execution_count": null,
   "metadata": {},
   "outputs": [],
   "source": [
    "U1 = ts.hist.U_t[-1]\n",
    "print(U1)\n",
    "eps1 = ts.fe_domain[0].xdomain.map_U_to_field(U1)\n",
    "sig1, _ = ts.fe_domain[0].tmodel.get_corr_pred(eps1,1)\n",
    "sig_x, sig_y, tau = sig1.T\n",
    "sig_ab = np.einsum('ab...->...ab', np.array([[sig_x, tau], [tau, sig_y]], dtype=np.float))\n",
    "sig_val, sig_dir = np.linalg.eig(sig_ab)\n",
    "[np.min(sig_val), np.max(sig_val)]"
   ]
  },
  {
   "cell_type": "code",
   "execution_count": null,
   "metadata": {
    "scrolled": true
   },
   "outputs": [],
   "source": [
    "Diff1_abcd"
   ]
  },
  {
   "cell_type": "markdown",
   "metadata": {},
   "source": [
    "$$\n",
    "J_{ar} =  \\frac{\\partial N_i}{\\partial \\eta_r} \n",
    "x_{ia}\n",
    "$$\n",
    "this can be transformed \n",
    "$$\n",
    "J_{Emar} = \\left. \\frac{\\partial N_i}{\\partial \\eta_r} \\right|_m\n",
    "x_{Eia}\n",
    "$$\n",
    "Zienkiewicz"
   ]
  },
  {
   "cell_type": "code",
   "execution_count": 18,
   "metadata": {},
   "outputs": [
    {
     "data": {
      "text/plain": [
       "array([[[[ 0.  ,  0.  ],\n",
       "         [ 0.  , -0.01]]]])"
      ]
     },
     "execution_count": 18,
     "metadata": {},
     "output_type": "execute_result"
    }
   ],
   "source": [
    "x_Ia = xdomain.X_Id[..., :-1]\n",
    "x_Eia = x_Ia[xdomain.I_Ei]\n",
    "delta = np.identity(2) \n",
    "Diff1_abcd = 0.5 * (\n",
    "        np.einsum('ac,bd->abcd', delta, delta) +\n",
    "        np.einsum('ad,bc->abcd', delta, delta)\n",
    ")\n",
    "dN_mir = np.array([[[1, 0], [0, 1], [-1, -1]]], dtype=np.float_)\n",
    "J_Emar = np.einsum('mir, Eia -> Emar', dN_mir, x_Eia)\n",
    "inv_J_Emra = np.linalg.inv(J_Emar)\n",
    "det_J_Emra = np.linalg.det(J_Emar)\n",
    "B_Eimabc = np.einsum('abcd, mir, Emrd -> Eimabc', Diff1_abcd, dN_mir, inv_J_Emra)\n",
    "U_Eic = np.array([[[0, 0], [1, 0], [0, 1]]], dtype=np.float_)\n",
    "eps_Emab = np.einsum('Eimabc,Eic->Emab', B_Eimabc, U_Eic)\n",
    "eps_Emab"
   ]
  },
  {
   "cell_type": "code",
   "execution_count": 23,
   "metadata": {
    "scrolled": true
   },
   "outputs": [
    {
     "data": {
      "text/plain": [
       "array([[[[ 0.00707107, -0.00353553],\n",
       "         [-0.00353553,  0.01414214]]]])"
      ]
     },
     "execution_count": 23,
     "metadata": {},
     "output_type": "execute_result"
    }
   ],
   "source": [
    "eps2_Emab = np.einsum('Eimabc,Eic->Emab', xdomain.B1_Eimabc, U_Eic)\n",
    "eps2_Emab"
   ]
  },
  {
   "cell_type": "markdown",
   "metadata": {},
   "source": [
    "# From here the original file begins"
   ]
  },
  {
   "cell_type": "code",
   "execution_count": 32,
   "metadata": {
    "pycharm": {
     "name": "#%%\n"
    }
   },
   "outputs": [],
   "source": [
    "wb_mesh_0 = FETriangularMesh(\n",
    "    X_Id = [[1.5,2,0], [7,3.5,0], [4,7,0]],\n",
    "#    X_Id = [[-1,0,0], [1,0,0], [0,1,0]],\n",
    "#    X_Id = [[0,0,0], [1,0,0], [0,1,0]],\n",
    "    I_Fi = [[0,1,2]],\n",
    ")\n",
    "fixed_dofs_0 = [0,1,2,4,5,6,8]\n",
    "loaded_dofs_0 = [3,7]\n",
    "\n",
    "wb_mesh_1 = FETriangularMesh(\n",
    "    X_Id = [[0,-1,1], [0,1,1], [-2,0,0], [2,0,0]],\n",
    "    I_Fi = [[0,1,2], [0,3,1]],\n",
    ")\n",
    "fixed_dofs_1 = [2,5,6,7,8,10,11]\n",
    "loaded_dofs_1 = [9]\n",
    "\n",
    "wb_mesh_2 = FETriangularMesh(\n",
    "    X_Id = [[0,0,0], [2,0,0], [2,2,0], [2,0,0], [1,1,0]],\n",
    "    I_Fi = [[0,1,4], [1,2,4], [2,3,4], [3,0,4]],\n",
    ")\n",
    "\n",
    "fixed_dofs_2 = [0,1,2,5,8,9,10,11,14]\n",
    "loaded_dofs_2 = [3,6]\n",
    "\n",
    "wb_mesh_3 = FETriangularMesh(\n",
    "    X_Id = [[0,-1,1], [0,1,1], [2,0,0], [-2,0,0]],\n",
    "    I_Fi = [[0,2,1], [0,3,1]],\n",
    ")\n",
    "\n",
    "fixed_dofs_3 = [1,4,6,7,8,9,10,11]\n",
    "loaded_dofs_3 = [2,5]\n",
    "\n",
    "wb_mesh = wb_mesh_0\n",
    "fixed_dofs = fixed_dofs_0\n",
    "loaded_dofs_0 = loaded_dofs_0"
   ]
  },
  {
   "cell_type": "markdown",
   "metadata": {
    "pycharm": {
     "name": "#%% md\n"
    }
   },
   "source": [
    "# WBDomain operators"
   ]
  },
  {
   "cell_type": "code",
   "execution_count": 33,
   "metadata": {
    "pycharm": {
     "name": "#%%\n"
    }
   },
   "outputs": [],
   "source": [
    "xdomain = WBXDomainFE(\n",
    "    mesh=wb_mesh\n",
    ")"
   ]
  },
  {
   "cell_type": "code",
   "execution_count": 34,
   "metadata": {
    "pycharm": {
     "name": "#%%\n"
    }
   },
   "outputs": [
    {
     "data": {
      "text/plain": [
       "array([[[0.        , 0.        ],\n",
       "        [5.70087713, 0.        ],\n",
       "        [3.72749658, 4.16602559]]])"
      ]
     },
     "execution_count": 34,
     "metadata": {},
     "output_type": "execute_result"
    }
   ],
   "source": [
    "xdomain.x_Eia"
   ]
  },
  {
   "cell_type": "code",
   "execution_count": 35,
   "metadata": {
    "pycharm": {
     "name": "#%%\n"
    }
   },
   "outputs": [
    {
     "data": {
      "text/plain": [
       "array([[0, 1, 2]])"
      ]
     },
     "execution_count": 35,
     "metadata": {},
     "output_type": "execute_result"
    }
   ],
   "source": [
    "xdomain.F_N"
   ]
  },
  {
   "cell_type": "code",
   "execution_count": 36,
   "metadata": {
    "pycharm": {
     "name": "#%%\n"
    }
   },
   "outputs": [
    {
     "data": {
      "text/plain": [
       "array([[[[-3.72749658,  1.97338054],\n",
       "         [-4.16602559, -4.16602559]]]])"
      ]
     },
     "execution_count": 36,
     "metadata": {},
     "output_type": "execute_result"
    }
   ],
   "source": [
    "xdomain.J_Emar"
   ]
  },
  {
   "cell_type": "code",
   "execution_count": 37,
   "metadata": {
    "pycharm": {
     "name": "#%%\n"
    }
   },
   "outputs": [
    {
     "data": {
      "text/plain": [
       "array([[23.75]])"
      ]
     },
     "execution_count": 37,
     "metadata": {},
     "output_type": "execute_result"
    }
   ],
   "source": [
    "xdomain.det_J_Em\n"
   ]
  },
  {
   "cell_type": "code",
   "execution_count": 38,
   "metadata": {
    "pycharm": {
     "name": "#%%\n"
    }
   },
   "outputs": [
    {
     "data": {
      "text/plain": [
       "array([11.875])"
      ]
     },
     "execution_count": 38,
     "metadata": {},
     "output_type": "execute_result"
    }
   ],
   "source": [
    "xdomain.F_area"
   ]
  },
  {
   "cell_type": "markdown",
   "metadata": {
    "pycharm": {
     "name": "#%% md\n"
    }
   },
   "source": [
    "# Kinematic mapping\n"
   ]
  },
  {
   "cell_type": "markdown",
   "metadata": {},
   "source": [
    "\\begin{align}\n",
    " u_a = L_i u_{ia}\n",
    "\\end{align}\n",
    "\\begin{align}\n",
    "\\varepsilon_{ab} &= \\frac{1}{2}\n",
    "\\left(\\frac{\\partial u_a}{\\partial x_b} +\n",
    " \\frac{\\partial u_b}{\\partial x_a}\\right) \\\\\n",
    "&= \\frac{1}{2}\n",
    "\\left( \\delta_{ac} \\delta_{bd} + \\delta_{ad} \\delta_{bc}\\right)\n",
    " \\frac{\\partial u_c}{\\partial x_d}\n",
    "\\\\\n",
    "&=\n",
    " \\frac{1}{2}\n",
    "\\left( \\delta_{ac} \\delta_{bd} + \\delta_{ad} \\delta_{bc}\\right)\n",
    " \\frac{\\partial L_i}{\\partial x_d} u_{ic}\n",
    "\\\\\n",
    " &=\n",
    " \\frac{1}{2}\n",
    "\\left( \\delta_{ac} \\delta_{bd} + \\delta_{ad} \\delta_{bc}\\right)\n",
    "\\frac{\\partial L_i}{\\partial \\eta_j} \\frac{\\partial \\eta_j}{\\partial x_d} u_{ic}\n",
    "\\end{align}\n",
    "\n",
    "$u_{ic}$: the calculated nodal displacements\n",
    "\n",
    "$\\frac{1}{2}\n",
    "\\left( \\delta_{ac} \\delta_{bd} + \\delta_{ad} \\delta_{bc}\\right)\n",
    "\\frac{\\partial L_i}{\\partial \\eta_j} \\frac{\\partial \\eta_j}{\\partial x_d}$: represents the $B$ operator"
   ]
  },
  {
   "cell_type": "markdown",
   "metadata": {},
   "source": [
    "\\begin{align}\n",
    "L_1 &= \\eta_1, L_2 = \\eta_2, L_3 = 1 - \\eta_1 - \\eta_2 \\\\\n",
    "\\frac{\\partial L_i}{\\partial \\eta_j} & =\n",
    "\\left[\n",
    "\\begin{array}{rr}\n",
    "1 & 0 \\\\ 0 & 1 \\\\ -1 &-1\n",
    "\\end{array}\n",
    "\\right]\n",
    "\\end{align}"
   ]
  },
  {
   "cell_type": "markdown",
   "metadata": {},
   "source": [
    "\\begin{align}\n",
    "x_{a} = L_i x_{ia}\n",
    "\\end{align}\n",
    "\\begin{align}\n",
    "\\frac{\\partial x_a}{\\partial \\eta_j}\n",
    "& = \\frac{\\partial L_i}{\\partial \\eta_j} x_{ia}\n",
    "\\end{align}\n",
    "\\begin{align}\n",
    "\\end{align}\n",
    "\n"
   ]
  },
  {
   "cell_type": "code",
   "execution_count": 30,
   "metadata": {
    "pycharm": {
     "name": "#%%\n"
    }
   },
   "outputs": [
    {
     "data": {
      "text/plain": [
       "array([[[[ 0.  ,  0.  ],\n",
       "         [ 0.  , -0.01]]]])"
      ]
     },
     "execution_count": 30,
     "metadata": {},
     "output_type": "execute_result"
    }
   ],
   "source": [
    "x_Ia = xdomain.X_Id[...,:-1]\n",
    "x_Eia = x_Ia[xdomain.I_Ei]\n",
    "delta = np.identity(2)\n",
    "Diff1_abcd = 0.5 * (\n",
    "    np.einsum('ac,bd->abcd', delta, delta) +\n",
    "    np.einsum('ad,bc->abcd', delta, delta)\n",
    ")\n",
    "dN_mir = np.array([[[1,0],[0,1],[-1,-1]]], dtype=np.float_)\n",
    "J_Emar = np.einsum('mir,Eia->Emar', dN_mir, x_Eia)\n",
    "inv_J_Emra = np.linalg.inv(J_Emar)\n",
    "det_J_Emra = np.linalg.det(J_Emar)\n",
    "B_Eimabc = np.einsum('abcd,mir,Emrd->Eimabc',Diff1_abcd,dN_mir,inv_J_Emra)\n",
    "U_Eic = np.array([[[0,0],[1,0],[0,1]]], dtype=np.float_)\n",
    "eps_Emab = np.einsum('Eimabc,Eic->Emab', B_Eimabc, U_Eic)\n",
    "eps_Emab"
   ]
  },
  {
   "cell_type": "code",
   "execution_count": 40,
   "metadata": {
    "pycharm": {
     "name": "#%%\n"
    }
   },
   "outputs": [],
   "source": [
    "B2_Eimabc = np.einsum('abcd,imr,Emrd->Eimabc',Diff1_abcd,xdomain.fets.dN_imr,inv_J_Emra)"
   ]
  },
  {
   "cell_type": "code",
   "execution_count": 41,
   "metadata": {
    "pycharm": {
     "name": "#%%\n"
    }
   },
   "outputs": [
    {
     "data": {
      "text/plain": [
       "array([[[[-0.14736842, -0.12631579],\n",
       "         [ 0.21052632, -0.10526316]]]])"
      ]
     },
     "execution_count": 41,
     "metadata": {},
     "output_type": "execute_result"
    }
   ],
   "source": [
    "inv_J_Emra"
   ]
  },
  {
   "cell_type": "code",
   "execution_count": 42,
   "metadata": {
    "pycharm": {
     "name": "#%%\n"
    }
   },
   "outputs": [
    {
     "data": {
      "text/plain": [
       "array([[[[ 0.1754116 , -0.07847361],\n",
       "         [-0.07847361,  0.24003693]]]])"
      ]
     },
     "execution_count": 42,
     "metadata": {},
     "output_type": "execute_result"
    }
   ],
   "source": [
    "eps2_Emab = np.einsum('Eimabc,Eic->Emab', xdomain.B1_Eimabc, U_Eic)\n",
    "eps2_Emab"
   ]
  },
  {
   "cell_type": "markdown",
   "metadata": {
    "pycharm": {
     "name": "#%% md\n"
    }
   },
   "source": [
    "# Verification using standard vectorial CST formulation"
   ]
  },
  {
   "cell_type": "code",
   "execution_count": 43,
   "metadata": {
    "pycharm": {
     "name": "#%%\n"
    }
   },
   "outputs": [],
   "source": [
    "E_ = 70e+3\n",
    "nu_ = 0.3"
   ]
  },
  {
   "cell_type": "code",
   "execution_count": 44,
   "metadata": {
    "pycharm": {
     "name": "#%%\n"
    }
   },
   "outputs": [
    {
     "data": {
      "text/plain": [
       "array([[[0.        , 0.        ],\n",
       "        [5.70087713, 0.        ],\n",
       "        [3.72749658, 4.16602559]]])"
      ]
     },
     "execution_count": 44,
     "metadata": {},
     "output_type": "execute_result"
    }
   ],
   "source": [
    "xdomain.x_Eia"
   ]
  },
  {
   "cell_type": "code",
   "execution_count": 45,
   "metadata": {
    "pycharm": {
     "name": "#%%\n"
    }
   },
   "outputs": [
    {
     "data": {
      "text/plain": [
       "(array([[0.        , 5.70087713, 3.72749658]]),\n",
       " array([[0.        , 0.        , 4.16602559]]))"
      ]
     },
     "execution_count": 45,
     "metadata": {},
     "output_type": "execute_result"
    }
   ],
   "source": [
    "xx_Ei, yy_Ei = np.einsum('...a->a...', xdomain.x_Eia)\n",
    "xx_Ei, yy_Ei"
   ]
  },
  {
   "cell_type": "code",
   "execution_count": 46,
   "metadata": {
    "pycharm": {
     "name": "#%%\n"
    }
   },
   "outputs": [
    {
     "data": {
      "text/plain": [
       "array([[[-3.72749658, -4.16602559],\n",
       "        [ 1.97338054, -4.16602559]]])"
      ]
     },
     "execution_count": 46,
     "metadata": {},
     "output_type": "execute_result"
    }
   ],
   "source": [
    "y23 = yy_Ei[:,1] - yy_Ei[:,2]\n",
    "y31 = yy_Ei[:,2] - yy_Ei[:,0]\n",
    "y12 = yy_Ei[:,0] - yy_Ei[:,1]\n",
    "x32 = xx_Ei[:,2] - xx_Ei[:,1]\n",
    "x13 = xx_Ei[:,0] - xx_Ei[:,2]\n",
    "x21 = xx_Ei[:,1] - xx_Ei[:,0]\n",
    "x23 = -x32\n",
    "y32 = -y23\n",
    "y13 = -y31\n",
    "\n",
    "J_Ear = np.array([[x13,y13],[x23,y23]])\n",
    "J_Ear = np.einsum('ar...->...ar', J_Ear)\n",
    "J_Ear"
   ]
  },
  {
   "cell_type": "code",
   "execution_count": 47,
   "metadata": {
    "pycharm": {
     "name": "#%%\n"
    }
   },
   "outputs": [
    {
     "data": {
      "text/plain": [
       "(array([[[-3.72749658, -4.16602559],\n",
       "         [ 1.97338054, -4.16602559]]]),\n",
       " array([23.75]))"
      ]
     },
     "execution_count": 47,
     "metadata": {},
     "output_type": "execute_result"
    }
   ],
   "source": [
    "inv_J_Ear = np.linalg.inv(J_Ear)\n",
    "det_J_E = np.linalg.det(J_Ear)\n",
    "J_Ear, det_J_E"
   ]
  },
  {
   "cell_type": "code",
   "execution_count": 48,
   "metadata": {
    "pycharm": {
     "name": "#%%\n"
    }
   },
   "outputs": [],
   "source": [
    "X_Eid = xdomain.X_Id[xdomain.I_Ei]\n",
    "J_Emar = np.einsum('imr,Eia->Emra', xdomain.fets.dN_imr, X_Eid[...,:-1])\n",
    "#J_Emar, xdomain.det_J_Em, xdomain.J_Emar"
   ]
  },
  {
   "cell_type": "code",
   "execution_count": 49,
   "metadata": {
    "pycharm": {
     "name": "#%%\n"
    }
   },
   "outputs": [],
   "source": [
    "O = np.zeros_like(y23)\n",
    "B_soE = np.array(\n",
    "    [\n",
    "        [y23, O, y31, O, y12, O],\n",
    "        [O, x32, O, x13, O, x21],\n",
    "        [x32,y23,x13,y31,x21,y12]\n",
    "    ]\n",
    ")\n",
    "\n",
    "B_Eso = np.einsum('soE,E->Eso', B_soE, 1/det_J_E )"
   ]
  },
  {
   "cell_type": "code",
   "execution_count": 50,
   "metadata": {
    "pycharm": {
     "name": "#%%\n"
    }
   },
   "outputs": [
    {
     "data": {
      "text/plain": [
       "array([[[-0.1754116 ,  0.        ,  0.1754116 ,  0.        ,\n",
       "          0.        ,  0.        ],\n",
       "        [ 0.        , -0.08308971,  0.        , -0.15694722,\n",
       "          0.        ,  0.24003693],\n",
       "        [-0.08308971, -0.1754116 , -0.15694722,  0.1754116 ,\n",
       "          0.24003693,  0.        ]]])"
      ]
     },
     "execution_count": 50,
     "metadata": {},
     "output_type": "execute_result"
    }
   ],
   "source": [
    "B_Eso"
   ]
  },
  {
   "cell_type": "code",
   "execution_count": 51,
   "metadata": {
    "pycharm": {
     "name": "#%%\n"
    }
   },
   "outputs": [
    {
     "data": {
      "text/plain": [
       "array([ 0.1754116 ,  0.24003693, -0.15694722])"
      ]
     },
     "execution_count": 51,
     "metadata": {},
     "output_type": "execute_result"
    }
   ],
   "source": [
    "np.einsum('Eso,Eo->s', B_Eso, U_Eic.reshape(-1,6))"
   ]
  },
  {
   "cell_type": "code",
   "execution_count": 52,
   "metadata": {
    "pycharm": {
     "name": "#%%\n"
    }
   },
   "outputs": [],
   "source": [
    "D_st = E_ / (1 - nu_**2) * np.array([[1, nu_, 0], [nu_, 1, 0], [0, 0, 0.5*(1-nu_)]])"
   ]
  },
  {
   "cell_type": "code",
   "execution_count": 53,
   "metadata": {
    "pycharm": {
     "name": "#%%\n"
    }
   },
   "outputs": [],
   "source": [
    "k2_ij = np.einsum('Eso,st,Etp,E->Eop', B_Eso, D_st, B_Eso, det_J_E) / 2"
   ]
  },
  {
   "cell_type": "code",
   "execution_count": 54,
   "metadata": {
    "pycharm": {
     "name": "#%%\n"
    }
   },
   "outputs": [
    {
     "data": {
      "text/plain": [
       "array([[[ 30313.76518219,   8653.84615385, -23937.24696356,\n",
       "           2884.61538462,  -6376.51821862, -11538.46153846],\n",
       "        [  8653.84615385,  16143.72469636,   4807.69230769,\n",
       "           2074.89878543, -13461.53846154, -18218.62348178],\n",
       "        [-23937.24696356,   4807.69230769,  35981.78137652,\n",
       "         -16346.15384615, -12044.53441296,  11538.46153846],\n",
       "        [  2884.61538462,   2074.89878543, -16346.15384615,\n",
       "          32338.05668016,  13461.53846154, -34412.95546559],\n",
       "        [ -6376.51821862, -13461.53846154, -12044.53441296,\n",
       "          13461.53846154,  18421.05263158,      0.        ],\n",
       "        [-11538.46153846, -18218.62348178,  11538.46153846,\n",
       "         -34412.95546559,      0.        ,  52631.57894737]]])"
      ]
     },
     "execution_count": 54,
     "metadata": {},
     "output_type": "execute_result"
    }
   ],
   "source": [
    "k2_ij\n",
    "k2_ij"
   ]
  },
  {
   "cell_type": "code",
   "execution_count": 55,
   "metadata": {
    "pycharm": {
     "name": "#%%\n"
    }
   },
   "outputs": [
    {
     "data": {
      "text/plain": [
       "array([[[[[ 30313.76518219,   8653.84615385],\n",
       "          [-23937.24696356,   2884.61538462],\n",
       "          [ -6376.51821862, -11538.46153846]],\n",
       "\n",
       "         [[  8653.84615385,  16143.72469636],\n",
       "          [  4807.69230769,   2074.89878543],\n",
       "          [-13461.53846154, -18218.62348178]]],\n",
       "\n",
       "\n",
       "        [[[-23937.24696356,   4807.69230769],\n",
       "          [ 35981.78137652, -16346.15384615],\n",
       "          [-12044.53441296,  11538.46153846]],\n",
       "\n",
       "         [[  2884.61538462,   2074.89878543],\n",
       "          [-16346.15384615,  32338.05668016],\n",
       "          [ 13461.53846154, -34412.95546559]]],\n",
       "\n",
       "\n",
       "        [[[ -6376.51821862, -13461.53846154],\n",
       "          [-12044.53441296,  13461.53846154],\n",
       "          [ 18421.05263158,      0.        ]],\n",
       "\n",
       "         [[-11538.46153846, -18218.62348178],\n",
       "          [ 11538.46153846, -34412.95546559],\n",
       "          [     0.        ,  52631.57894737]]]]])"
      ]
     },
     "execution_count": 55,
     "metadata": {},
     "output_type": "execute_result"
    }
   ],
   "source": [
    "K_Eiejf = k2_ij.reshape(-1,3,2,3,2)\n",
    "K_Eiejf"
   ]
  },
  {
   "cell_type": "code",
   "execution_count": 56,
   "metadata": {
    "pycharm": {
     "name": "#%%\n"
    }
   },
   "outputs": [
    {
     "data": {
      "text/plain": [
       "array([[[ 24939.27125506,  11052.63157895,      0.        ,\n",
       "         -24089.06882591,  -4251.01214575,      0.        ,\n",
       "           -850.20242915,  -6801.6194332 ,      0.        ],\n",
       "        [ 11052.63157895,  21518.21862348,      0.        ,\n",
       "          -2327.93522267,   2226.72064777,      0.        ,\n",
       "          -8724.69635628, -23744.93927126,      0.        ],\n",
       "        [     0.        ,      0.        ,      0.        ,\n",
       "              0.        ,      0.        ,      0.        ,\n",
       "              0.        ,      0.        ,      0.        ],\n",
       "        [-24089.06882591,  -2327.93522267,      0.        ,\n",
       "          44028.34008097, -13157.89473684,      0.        ,\n",
       "         -19939.27125506,  15485.82995951,      0.        ],\n",
       "        [ -4251.01214575,   2226.72064777,      0.        ,\n",
       "         -13157.89473684,  24291.49797571,      0.        ,\n",
       "          17408.90688259, -26518.21862348,      0.        ],\n",
       "        [     0.        ,      0.        ,      0.        ,\n",
       "              0.        ,      0.        ,      0.        ,\n",
       "              0.        ,      0.        ,      0.        ],\n",
       "        [  -850.20242915,  -8724.69635628,      0.        ,\n",
       "         -19939.27125506,  17408.90688259,      0.        ,\n",
       "          20789.47368421,  -8684.21052632,      0.        ],\n",
       "        [ -6801.6194332 , -23744.93927126,      0.        ,\n",
       "          15485.82995951, -26518.21862348,      0.        ,\n",
       "          -8684.21052632,  50263.15789474,      0.        ],\n",
       "        [     0.        ,      0.        ,      0.        ,\n",
       "              0.        ,      0.        ,      0.        ,\n",
       "              0.        ,      0.        ,      0.        ]]])"
      ]
     },
     "execution_count": 56,
     "metadata": {},
     "output_type": "execute_result"
    }
   ],
   "source": [
    "K_Eiajb = xdomain.xk2K(K_Eiejf)\n",
    "\n",
    "K_Eiajb.reshape(-1,9,9)"
   ]
  },
  {
   "cell_type": "markdown",
   "metadata": {
    "pycharm": {
     "name": "#%% md\n"
    }
   },
   "source": [
    "# Patch test"
   ]
  },
  {
   "cell_type": "code",
   "execution_count": 57,
   "metadata": {
    "pycharm": {
     "name": "#%%\n"
    }
   },
   "outputs": [],
   "source": [
    "from bmcs_shell.folding.vmats2D_elastic import MATS2DElastic"
   ]
  },
  {
   "cell_type": "code",
   "execution_count": 58,
   "metadata": {},
   "outputs": [],
   "source": [
    "m = MATS2DElastic()"
   ]
  },
  {
   "cell_type": "markdown",
   "metadata": {
    "pycharm": {
     "name": "#%% md\n"
    }
   },
   "source": []
  },
  {
   "cell_type": "code",
   "execution_count": 59,
   "metadata": {},
   "outputs": [],
   "source": [
    "from ibvpy.bcond import BCDof"
   ]
  },
  {
   "cell_type": "code",
   "execution_count": 60,
   "metadata": {},
   "outputs": [],
   "source": [
    "u_cntl = 1\n",
    "fixed_dofs = [0,1,2,5,6,7,8]\n",
    "loaded_dofs = [3]\n",
    "# fixed_dofs = [0,1,2,5,8,9,10,11,14]\n",
    "# loaded_dofs = [3,6]\n",
    "bc_fixed = [BCDof(var= 'u', dof=dof, value=0 )\n",
    "           for dof in fixed_dofs]\n",
    "bc_loaded = [BCDof(var= 'f', dof=dof, value=u_cntl )\n",
    "           for dof in loaded_dofs]"
   ]
  },
  {
   "cell_type": "code",
   "execution_count": 61,
   "metadata": {},
   "outputs": [
    {
     "ename": "ModuleNotFoundError",
     "evalue": "No module named 'ibvpy.mats'",
     "output_type": "error",
     "traceback": [
      "\u001b[1;31m---------------------------------------------------------------------------\u001b[0m",
      "\u001b[1;31mModuleNotFoundError\u001b[0m                       Traceback (most recent call last)",
      "\u001b[1;32m<ipython-input-61-0fa851878bfd>\u001b[0m in \u001b[0;36m<module>\u001b[1;34m\u001b[0m\n\u001b[0;32m      1\u001b[0m \u001b[1;32mfrom\u001b[0m \u001b[0mibvpy\u001b[0m\u001b[1;33m.\u001b[0m\u001b[0msim\u001b[0m\u001b[1;33m.\u001b[0m\u001b[0mtstep_bc\u001b[0m \u001b[1;32mimport\u001b[0m \u001b[0mTStepBC\u001b[0m\u001b[1;33m\u001b[0m\u001b[1;33m\u001b[0m\u001b[0m\n\u001b[1;32m----> 2\u001b[1;33m \u001b[1;32mfrom\u001b[0m \u001b[0mibvpy\u001b[0m\u001b[1;33m.\u001b[0m\u001b[0mmats\u001b[0m\u001b[1;33m.\u001b[0m\u001b[0mviz3d_scalar_field\u001b[0m \u001b[1;32mimport\u001b[0m\u001b[0;31m \u001b[0m\u001b[0;31m\\\u001b[0m\u001b[1;33m\u001b[0m\u001b[1;33m\u001b[0m\u001b[0m\n\u001b[0m\u001b[0;32m      3\u001b[0m     \u001b[0mVis3DStateField\u001b[0m\u001b[1;33m,\u001b[0m \u001b[0mViz3DScalarField\u001b[0m\u001b[1;33m\u001b[0m\u001b[1;33m\u001b[0m\u001b[0m\n",
      "\u001b[1;31mModuleNotFoundError\u001b[0m: No module named 'ibvpy.mats'"
     ]
    }
   ],
   "source": [
    "from ibvpy.sim.tstep_bc import TStepBC\n",
    "from ibvpy.mats.viz3d_scalar_field import \\\n",
    "    Vis3DStateField, Viz3DScalarField"
   ]
  },
  {
   "cell_type": "code",
   "execution_count": 62,
   "metadata": {},
   "outputs": [
    {
     "ename": "ModuleNotFoundError",
     "evalue": "No module named 'ibvpy.mats'",
     "output_type": "error",
     "traceback": [
      "\u001b[1;31m---------------------------------------------------------------------------\u001b[0m",
      "\u001b[1;31mModuleNotFoundError\u001b[0m                       Traceback (most recent call last)",
      "\u001b[1;32m<ipython-input-62-44b1bb35d8f6>\u001b[0m in \u001b[0;36m<module>\u001b[1;34m\u001b[0m\n\u001b[1;32m----> 1\u001b[1;33m \u001b[1;32mfrom\u001b[0m \u001b[0mibvpy\u001b[0m\u001b[1;33m.\u001b[0m\u001b[0mmats\u001b[0m\u001b[1;33m.\u001b[0m\u001b[0mviz3d_tensor_field\u001b[0m \u001b[1;32mimport\u001b[0m\u001b[0;31m \u001b[0m\u001b[0;31m\\\u001b[0m\u001b[1;33m\u001b[0m\u001b[1;33m\u001b[0m\u001b[0m\n\u001b[0m\u001b[0;32m      2\u001b[0m     \u001b[0mVis3DTensorField\u001b[0m\u001b[1;33m,\u001b[0m \u001b[0mViz3DTensorField\u001b[0m\u001b[1;33m\u001b[0m\u001b[1;33m\u001b[0m\u001b[0m\n",
      "\u001b[1;31mModuleNotFoundError\u001b[0m: No module named 'ibvpy.mats'"
     ]
    }
   ],
   "source": [
    "from ibvpy.mats.viz3d_tensor_field import \\\n",
    "    Vis3DTensorField, Viz3DTensorField"
   ]
  },
  {
   "cell_type": "code",
   "execution_count": 63,
   "metadata": {},
   "outputs": [],
   "source": [
    "ts = TStepBC(\n",
    "    domains=[(xdomain, m)],\n",
    "    bc=bc_fixed + bc_loaded,\n",
    ")\n",
    "\n",
    "# m.hist.vis_record = {\n",
    "#     'strain': Vis3DTensorField(var='eps_ab'),\n",
    "# #     'stress': Vis3DTensorField(var='sig_ab'),\n",
    "#    'damage': Vis3DStateField(var='omega_a'),\n",
    "#     #        'kinematic hardening': Vis3DStateField(var='z_a')\n",
    "# }"
   ]
  },
  {
   "cell_type": "markdown",
   "metadata": {
    "pycharm": {
     "name": "#%% md\n"
    }
   },
   "source": [
    "# Transformation global-local test"
   ]
  },
  {
   "cell_type": "markdown",
   "metadata": {},
   "source": [
    "\\begin{align}\n",
    "u_f &= T_{fb} U_b \\\\\n",
    "f_e &= k_{ef} u_f \\\\\n",
    "F_a &= T_{ea} f_e\n",
    "\\end{align}\n",
    "\\begin{align}\n",
    " F_a = K_{ab} U_b = T_{ea} k_{ef} T_{fb} U_b\n",
    "\\end{align}"
   ]
  },
  {
   "cell_type": "code",
   "execution_count": 64,
   "metadata": {},
   "outputs": [
    {
     "data": {
      "text/latex": [
       "\n",
       "        \\begin{array}{lrrl}\\hline\n",
       "        \\textrm{stress_state} & \\textrm{plane_stress} & & \\textrm{None}  \\\\\n",
       "                \\textrm{E} & \\textrm{34000.0} & & \\textrm{Young's Modulus}  \\\\\n",
       "                \\textrm{nu} & \\textrm{0.2} & & \\textrm{Poison's ratio}  \\\\\n",
       "                \\hline\n",
       "        \\hline\n",
       "        \\end{array}\n",
       "        "
      ],
      "text/plain": [
       "<bmcs_shell.folding.vmats2D_elastic.MATS2DElastic at 0x287a0746a40>"
      ]
     },
     "execution_count": 64,
     "metadata": {},
     "output_type": "execute_result"
    }
   ],
   "source": [
    "ts.fe_domain[0].tmodel"
   ]
  },
  {
   "cell_type": "code",
   "execution_count": 65,
   "metadata": {},
   "outputs": [
    {
     "data": {
      "text/plain": [
       "<ibvpy.sim.domain_state.DomainState at 0x287a0835f40>"
      ]
     },
     "execution_count": 65,
     "metadata": {},
     "output_type": "execute_result"
    }
   ],
   "source": [
    "ts.fe_domain[0]"
   ]
  },
  {
   "cell_type": "code",
   "execution_count": 66,
   "metadata": {},
   "outputs": [
    {
     "name": "stdout",
     "output_type": "stream",
     "text": [
      "t:\t 0.00(0), \n",
      "\t 0.10(1), \n",
      "\t 0.20(1), \n",
      "\t 0.30(1), \n",
      "\t 0.40(1), \n",
      "\t 0.50(1), \n",
      "\t 0.60(1), \n",
      "\t 0.70(1), \n",
      "\t 0.80(1), \n",
      "\t 0.90(1), \n",
      "\t 1.00(1), \n",
      "\n"
     ]
    }
   ],
   "source": [
    "s = ts.sim\n",
    "s.tloop.k_max = 10\n",
    "s.tline.step = 0.1\n",
    "s.tloop.verbose = True\n",
    "s.run()"
   ]
  },
  {
   "cell_type": "code",
   "execution_count": 67,
   "metadata": {
    "pycharm": {
     "name": "#%%\n"
    }
   },
   "outputs": [],
   "source": [
    "import numpy as np\n",
    "F_to = ts.hist.F_t\n",
    "U_to = ts.hist.U_t\n",
    "F_loaded = np.sum(F_to[:, loaded_dofs], axis=-1)\n",
    "F_fixed = np.sum(F_to[:, fixed_dofs], axis=-1)\n",
    "U_loaded = np.average(U_to[:, loaded_dofs], axis=-1)\n"
   ]
  },
  {
   "cell_type": "code",
   "execution_count": 68,
   "metadata": {},
   "outputs": [
    {
     "data": {
      "text/plain": [
       "array([0.00000000e+00, 5.57929412e-06, 1.11585882e-05, 1.67378824e-05,\n",
       "       2.23171765e-05, 2.78964706e-05, 3.34757647e-05, 3.90550588e-05,\n",
       "       4.46343529e-05, 5.02136471e-05, 5.57929412e-05])"
      ]
     },
     "execution_count": 68,
     "metadata": {},
     "output_type": "execute_result"
    }
   ],
   "source": [
    "F_loaded\n",
    "U_loaded\n"
   ]
  },
  {
   "cell_type": "code",
   "execution_count": 40,
   "metadata": {
    "pycharm": {
     "name": "#%%\n"
    }
   },
   "outputs": [
    {
     "data": {
      "text/plain": [
       "[<matplotlib.lines.Line2D at 0x17b057e8910>]"
      ]
     },
     "execution_count": 40,
     "metadata": {},
     "output_type": "execute_result"
    },
    {
     "data": {
      "image/png": "[encoded data removed]",
      "text/plain": [
       "<Figure size 432x288 with 1 Axes>"
      ]
     },
     "metadata": {
      "needs_background": "light"
     },
     "output_type": "display_data"
    }
   ],
   "source": [
    "import matplotlib.pylab as plt\n",
    "plt.plot(U_loaded, F_loaded)\n"
   ]
  },
  {
   "cell_type": "markdown",
   "metadata": {},
   "source": [
    "# Uniaxial tension test"
   ]
  },
  {
   "cell_type": "code",
   "execution_count": 41,
   "metadata": {},
   "outputs": [],
   "source": [
    "wb_mesh = FETriangularMesh(\n",
    "    X_Id = [[0,0,0], [1000,0,0], [1000,1000,0],[0,1000,0]],\n",
    "    I_Fi = [[0,1,2], [0,2,3]],\n",
    ")\n",
    "fixed_dofs = [0,1,2,4,5,7,8,9,11]\n",
    "loaded_dofs = [3,6]"
   ]
  },
  {
   "cell_type": "code",
   "execution_count": 47,
   "metadata": {},
   "outputs": [],
   "source": [
    "xdomain = WBXDomainFE(\n",
    "    integ_factor = 1,\n",
    "    mesh=wb_mesh\n",
    ")"
   ]
  },
  {
   "cell_type": "code",
   "execution_count": 48,
   "metadata": {},
   "outputs": [],
   "source": [
    "tmodel = MATS2DElastic(E_=1, nu=00)"
   ]
  },
  {
   "cell_type": "code",
   "execution_count": 49,
   "metadata": {},
   "outputs": [],
   "source": [
    "u_cntl = 5000\n",
    "bc_fixed = [BCDof(var= 'u', dof=dof, value=0 )\n",
    "           for dof in fixed_dofs]\n",
    "bc_loaded = [BCDof(var= 'f', dof=dof, value=u_cntl )\n",
    "           for dof in loaded_dofs]"
   ]
  },
  {
   "cell_type": "code",
   "execution_count": 50,
   "metadata": {},
   "outputs": [],
   "source": [
    "ts = TStepBC(\n",
    "    domains=[(xdomain, tmodel)],\n",
    "    bc=bc_fixed + bc_loaded,\n",
    ")"
   ]
  },
  {
   "cell_type": "code",
   "execution_count": 51,
   "metadata": {},
   "outputs": [
    {
     "name": "stdout",
     "output_type": "stream",
     "text": [
      "t:\t 0.00(0), \n",
      "\t 1.00(1), \n",
      "\n"
     ]
    }
   ],
   "source": [
    "s = ts.sim\n",
    "s.tloop.k_max = 10\n",
    "s.tline.step = 1\n",
    "s.tloop.verbose = True\n",
    "s.run()"
   ]
  },
  {
   "cell_type": "code",
   "execution_count": 52,
   "metadata": {},
   "outputs": [
    {
     "name": "stdout",
     "output_type": "stream",
     "text": [
      "[0.         0.         0.         0.29411765 0.         0.\n",
      " 0.29411765 0.         0.         0.         0.         0.        ]\n"
     ]
    },
    {
     "ename": "AttributeError",
     "evalue": "'DomainState' object has no attribute 'xdomain'",
     "output_type": "error",
     "traceback": [
      "\u001b[1;31m---------------------------------------------------------------------------\u001b[0m",
      "\u001b[1;31mAttributeError\u001b[0m                            Traceback (most recent call last)",
      "\u001b[1;32m<ipython-input-52-f4b8d60f8d13>\u001b[0m in \u001b[0;36m<module>\u001b[1;34m\u001b[0m\n\u001b[0;32m      1\u001b[0m \u001b[0mU1\u001b[0m \u001b[1;33m=\u001b[0m \u001b[0mts\u001b[0m\u001b[1;33m.\u001b[0m\u001b[0mhist\u001b[0m\u001b[1;33m.\u001b[0m\u001b[0mU_t\u001b[0m\u001b[1;33m[\u001b[0m\u001b[1;33m-\u001b[0m\u001b[1;36m1\u001b[0m\u001b[1;33m]\u001b[0m\u001b[1;33m\u001b[0m\u001b[1;33m\u001b[0m\u001b[0m\n\u001b[0;32m      2\u001b[0m \u001b[0mprint\u001b[0m\u001b[1;33m(\u001b[0m\u001b[0mU1\u001b[0m\u001b[1;33m)\u001b[0m\u001b[1;33m\u001b[0m\u001b[1;33m\u001b[0m\u001b[0m\n\u001b[1;32m----> 3\u001b[1;33m \u001b[0meps1\u001b[0m \u001b[1;33m=\u001b[0m \u001b[0mts\u001b[0m\u001b[1;33m.\u001b[0m\u001b[0mfe_domain\u001b[0m\u001b[1;33m[\u001b[0m\u001b[1;36m0\u001b[0m\u001b[1;33m]\u001b[0m\u001b[1;33m.\u001b[0m\u001b[0mxdomain\u001b[0m\u001b[1;33m.\u001b[0m\u001b[0mmap_U_to_field\u001b[0m\u001b[1;33m(\u001b[0m\u001b[0mU1\u001b[0m\u001b[1;33m)\u001b[0m\u001b[1;33m\u001b[0m\u001b[1;33m\u001b[0m\u001b[0m\n\u001b[0m\u001b[0;32m      4\u001b[0m \u001b[0msig1\u001b[0m\u001b[1;33m,\u001b[0m \u001b[0m_\u001b[0m \u001b[1;33m=\u001b[0m \u001b[0mts\u001b[0m\u001b[1;33m.\u001b[0m\u001b[0mfe_domain\u001b[0m\u001b[1;33m[\u001b[0m\u001b[1;36m0\u001b[0m\u001b[1;33m]\u001b[0m\u001b[1;33m.\u001b[0m\u001b[0mtmodel\u001b[0m\u001b[1;33m.\u001b[0m\u001b[0mget_corr_pred\u001b[0m\u001b[1;33m(\u001b[0m\u001b[0meps1\u001b[0m\u001b[1;33m,\u001b[0m\u001b[1;36m1\u001b[0m\u001b[1;33m)\u001b[0m\u001b[1;33m\u001b[0m\u001b[1;33m\u001b[0m\u001b[0m\n\u001b[0;32m      5\u001b[0m \u001b[0msig_x\u001b[0m\u001b[1;33m,\u001b[0m \u001b[0msig_y\u001b[0m\u001b[1;33m,\u001b[0m \u001b[0mtau\u001b[0m \u001b[1;33m=\u001b[0m \u001b[0msig1\u001b[0m\u001b[1;33m.\u001b[0m\u001b[0mT\u001b[0m\u001b[1;33m\u001b[0m\u001b[1;33m\u001b[0m\u001b[0m\n",
      "\u001b[1;31mAttributeError\u001b[0m: 'DomainState' object has no attribute 'xdomain'"
     ]
    }
   ],
   "source": [
    "U1 = ts.hist.U_t[-1]\n",
    "print(U1)\n",
    "eps1 = ts.fe_domain[0].xdomain.map_U_to_field(U1)\n",
    "sig1, _ = ts.fe_domain[0].tmodel.get_corr_pred(eps1,1)\n",
    "sig_x, sig_y, tau = sig1.T\n",
    "sig_ab = np.einsum('ab...->...ab', np.array([[sig_x, tau], [tau, sig_y]], dtype=np.float))\n",
    "sig_val, sig_dir = np.linalg.eig(sig_ab)\n",
    "[np.min(sig_val), np.max(sig_val)]\n"
   ]
  },
  {
   "cell_type": "code",
   "execution_count": 53,
   "metadata": {},
   "outputs": [
    {
     "ename": "NameError",
     "evalue": "name 'sig1' is not defined",
     "output_type": "error",
     "traceback": [
      "\u001b[1;31m---------------------------------------------------------------------------\u001b[0m",
      "\u001b[1;31mNameError\u001b[0m                                 Traceback (most recent call last)",
      "\u001b[1;32m<ipython-input-53-ba0dc1ab93b0>\u001b[0m in \u001b[0;36m<module>\u001b[1;34m\u001b[0m\n\u001b[1;32m----> 1\u001b[1;33m \u001b[0msig1\u001b[0m\u001b[1;33m\u001b[0m\u001b[1;33m\u001b[0m\u001b[0m\n\u001b[0m",
      "\u001b[1;31mNameError\u001b[0m: name 'sig1' is not defined"
     ]
    }
   ],
   "source": [
    "sig1"
   ]
  },
  {
   "cell_type": "code",
   "execution_count": 73,
   "metadata": {},
   "outputs": [
    {
     "data": {
      "text/plain": [
       "array([[ 1.00000000e+01, -3.39717867e-31],\n",
       "       [ 1.00000000e+01,  8.88178420e-16]])"
      ]
     },
     "execution_count": 73,
     "metadata": {},
     "output_type": "execute_result"
    }
   ],
   "source": [
    "sig_val"
   ]
  },
  {
   "cell_type": "code",
   "execution_count": null,
   "metadata": {},
   "outputs": [],
   "source": []
  },
  {
   "cell_type": "code",
   "execution_count": null,
   "metadata": {},
   "outputs": [],
   "source": []
  }
 ],
 "metadata": {
  "kernelspec": {
   "display_name": "Python 3",
   "language": "python",
   "name": "python3"
  },
  "language_info": {
   "codemirror_mode": {
    "name": "ipython",
    "version": 3
   },
   "file_extension": ".py",
   "mimetype": "text/x-python",
   "name": "python",
   "nbconvert_exporter": "python",
   "pygments_lexer": "ipython3",
   "version": "3.9.4"
  },
  "toc": {
   "base_numbering": 1,
   "nav_menu": {},
   "number_sections": true,
   "sideBar": true,
   "skip_h1_title": false,
   "title_cell": "Table of Contents",
   "title_sidebar": "Contents",
   "toc_cell": false,
   "toc_position": {},
   "toc_section_display": true,
   "toc_window_display": false
  }
 },
 "nbformat": 4,
 "nbformat_minor": 1
}
