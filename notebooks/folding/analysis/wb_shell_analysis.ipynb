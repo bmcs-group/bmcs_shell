{
 "cells": [
  {
   "cell_type": "code",
   "execution_count": 1,
   "metadata": {
    "hide_input": false,
    "slideshow": {
     "slide_type": "slide"
    }
   },
   "outputs": [],
   "source": [
    "%matplotlib widget\n",
    "from bmcs_shell.api import WBTessellation4P, WBShellAnalysis, MATS2DElastic"
   ]
  },
  {
   "cell_type": "code",
   "execution_count": 2,
   "metadata": {
    "hide_input": false,
    "slideshow": {
     "slide_type": "slide"
    }
   },
   "outputs": [],
   "source": [
    "tmodel = MATS2DElastic(E=28000, nu=0.2)\n",
    "n_phi_plus=4\n",
    "n_x_plus=3\n",
    "wbm = WBShellAnalysis(h=10, tmodel=tmodel)"
   ]
  },
  {
   "cell_type": "code",
   "execution_count": 7,
   "metadata": {
    "pycharm": {
     "name": "#%%\n"
    },
    "scrolled": true
   },
   "outputs": [
    {
     "name": "stderr",
     "output_type": "stream",
     "text": [
      "Exception occurred in traits notification handler for event object: TraitChangeEvent(object=<bmcs_shell.folding.geometry.wb_shell_geometry.WBShellGeometry4P object at 0x0000023F8A4CD310>, name='a', old=212.12121305, new=500.0)\n",
      "Traceback (most recent call last):\n",
      "  File \"C:\\Users\\spart\\miniconda3\\envs\\bmcs_env\\lib\\site-packages\\ipywidgets\\widgets\\widget_selection.py\", line 137, in findvalue\n",
      "    return next(x for x in array if compare(x, value))\n",
      "StopIteration\n",
      "\n",
      "During handling of the above exception, another exception occurred:\n",
      "\n",
      "Traceback (most recent call last):\n",
      "  File \"C:\\Users\\spart\\miniconda3\\envs\\bmcs_env\\lib\\site-packages\\ipywidgets\\widgets\\widget_selection.py\", line 241, in _validate_value\n",
      "    return findvalue(self._options_values, value, self.equals) if value is not None else None\n",
      "  File \"C:\\Users\\spart\\miniconda3\\envs\\bmcs_env\\lib\\site-packages\\ipywidgets\\widgets\\widget_selection.py\", line 139, in findvalue\n",
      "    raise ValueError('%r not in array'%value)\n",
      "ValueError: 500.0 not in array\n",
      "\n",
      "During handling of the above exception, another exception occurred:\n",
      "\n",
      "Traceback (most recent call last):\n",
      "  File \"C:\\Users\\spart\\miniconda3\\envs\\bmcs_env\\lib\\site-packages\\traits\\observation\\_trait_event_notifier.py\", line 122, in __call__\n",
      "    self.dispatcher(handler, event)\n",
      "  File \"C:\\Users\\spart\\miniconda3\\envs\\bmcs_env\\lib\\site-packages\\traits\\observation\\observe.py\", line 27, in dispatch_same\n",
      "    handler(event)\n",
      "  File \"d:\\homam\\synced\\programming\\python\\bmcs_utils\\bmcs_utils\\controller.py\", line 42, in notify_change\n",
      "    ipw_editor.value = value\n",
      "  File \"C:\\Users\\spart\\miniconda3\\envs\\bmcs_env\\lib\\site-packages\\traitlets\\traitlets.py\", line 606, in __set__\n",
      "    self.set(obj, value)\n",
      "  File \"C:\\Users\\spart\\miniconda3\\envs\\bmcs_env\\lib\\site-packages\\traitlets\\traitlets.py\", line 580, in set\n",
      "    new_value = self._validate(obj, value)\n",
      "  File \"C:\\Users\\spart\\miniconda3\\envs\\bmcs_env\\lib\\site-packages\\traitlets\\traitlets.py\", line 614, in _validate\n",
      "    value = self._cross_validate(obj, value)\n",
      "  File \"C:\\Users\\spart\\miniconda3\\envs\\bmcs_env\\lib\\site-packages\\traitlets\\traitlets.py\", line 620, in _cross_validate\n",
      "    value = obj._trait_validators[self.name](obj, proposal)\n",
      "  File \"C:\\Users\\spart\\miniconda3\\envs\\bmcs_env\\lib\\site-packages\\traitlets\\traitlets.py\", line 977, in __call__\n",
      "    return self.func(*args, **kwargs)\n",
      "  File \"C:\\Users\\spart\\miniconda3\\envs\\bmcs_env\\lib\\site-packages\\ipywidgets\\widgets\\widget_selection.py\", line 243, in _validate_value\n",
      "    raise TraitError('Invalid selection: value not found')\n",
      "traitlets.traitlets.TraitError: Invalid selection: value not found\n",
      "Exception occurred in traits notification handler for event object: TraitChangeEvent(object=<bmcs_shell.folding.geometry.wb_shell_geometry.WBShellGeometry4P object at 0x0000023F8A4CD310>, name='b', old=696.96969774, new=900.0)\n",
      "Traceback (most recent call last):\n",
      "  File \"C:\\Users\\spart\\miniconda3\\envs\\bmcs_env\\lib\\site-packages\\ipywidgets\\widgets\\widget_selection.py\", line 137, in findvalue\n",
      "    return next(x for x in array if compare(x, value))\n",
      "StopIteration\n",
      "\n",
      "During handling of the above exception, another exception occurred:\n",
      "\n",
      "Traceback (most recent call last):\n",
      "  File \"C:\\Users\\spart\\miniconda3\\envs\\bmcs_env\\lib\\site-packages\\ipywidgets\\widgets\\widget_selection.py\", line 241, in _validate_value\n",
      "    return findvalue(self._options_values, value, self.equals) if value is not None else None\n",
      "  File \"C:\\Users\\spart\\miniconda3\\envs\\bmcs_env\\lib\\site-packages\\ipywidgets\\widgets\\widget_selection.py\", line 139, in findvalue\n",
      "    raise ValueError('%r not in array'%value)\n",
      "ValueError: 900.0 not in array\n",
      "\n",
      "During handling of the above exception, another exception occurred:\n",
      "\n",
      "Traceback (most recent call last):\n",
      "  File \"C:\\Users\\spart\\miniconda3\\envs\\bmcs_env\\lib\\site-packages\\traits\\observation\\_trait_event_notifier.py\", line 122, in __call__\n",
      "    self.dispatcher(handler, event)\n",
      "  File \"C:\\Users\\spart\\miniconda3\\envs\\bmcs_env\\lib\\site-packages\\traits\\observation\\observe.py\", line 27, in dispatch_same\n",
      "    handler(event)\n",
      "  File \"d:\\homam\\synced\\programming\\python\\bmcs_utils\\bmcs_utils\\controller.py\", line 42, in notify_change\n",
      "    ipw_editor.value = value\n",
      "  File \"C:\\Users\\spart\\miniconda3\\envs\\bmcs_env\\lib\\site-packages\\traitlets\\traitlets.py\", line 606, in __set__\n",
      "    self.set(obj, value)\n",
      "  File \"C:\\Users\\spart\\miniconda3\\envs\\bmcs_env\\lib\\site-packages\\traitlets\\traitlets.py\", line 580, in set\n",
      "    new_value = self._validate(obj, value)\n",
      "  File \"C:\\Users\\spart\\miniconda3\\envs\\bmcs_env\\lib\\site-packages\\traitlets\\traitlets.py\", line 614, in _validate\n",
      "    value = self._cross_validate(obj, value)\n",
      "  File \"C:\\Users\\spart\\miniconda3\\envs\\bmcs_env\\lib\\site-packages\\traitlets\\traitlets.py\", line 620, in _cross_validate\n",
      "    value = obj._trait_validators[self.name](obj, proposal)\n",
      "  File \"C:\\Users\\spart\\miniconda3\\envs\\bmcs_env\\lib\\site-packages\\traitlets\\traitlets.py\", line 977, in __call__\n",
      "    return self.func(*args, **kwargs)\n",
      "  File \"C:\\Users\\spart\\miniconda3\\envs\\bmcs_env\\lib\\site-packages\\ipywidgets\\widgets\\widget_selection.py\", line 243, in _validate_value\n",
      "    raise TraitError('Invalid selection: value not found')\n",
      "traitlets.traitlets.TraitError: Invalid selection: value not found\n"
     ]
    },
    {
     "data": {
      "text/plain": [
       "<bmcs_shell.folding.geometry.wb_shell_geometry.WBShellGeometry4P at 0x23f8a4cd310>"
      ]
     },
     "execution_count": 7,
     "metadata": {},
     "output_type": "execute_result"
    }
   ],
   "source": [
    "data = dict(alpha=1.24, a=500, a_high=3000, b=900, b_high=3000, c=400, c_high=2000,\n",
    "            n_phi_plus=n_phi_plus, n_x_plus=n_x_plus, show_nodes=False)\n",
    "wbm.geo.trait_set(**data)"
   ]
  },
  {
   "cell_type": "code",
   "execution_count": 4,
   "metadata": {
    "scrolled": false
   },
   "outputs": [
    {
     "name": "stdout",
     "output_type": "stream",
     "text": [
      "analysis: setup_plot\n",
      "analysis: U_I\n",
      "analysis: update_plot\n",
      "analysis: U_I\n"
     ]
    },
    {
     "name": "stderr",
     "output_type": "stream",
     "text": [
      "C:\\Users\\spart\\miniconda3\\envs\\bmcs_env\\lib\\site-packages\\traittypes\\traittypes.py:97: UserWarning: Given trait value dtype \"float64\" does not match required type \"float32\". A coerced copy has been created.\n",
      "  warnings.warn(\n"
     ]
    },
    {
     "data": {
      "application/vnd.jupyter.widget-view+json": {
       "model_id": "216fa90dfcac4d81958eaaa342981112",
       "version_major": 2,
       "version_minor": 0
      },
      "text/plain": [
       "VBox(children=(HBox(children=(VBox(children=(Tree(layout=Layout(align_items='stretch', border='solid 1px black…"
      ]
     },
     "metadata": {},
     "output_type": "display_data"
    }
   ],
   "source": [
    "wbm.interact()"
   ]
  },
  {
   "cell_type": "code",
   "execution_count": null,
   "metadata": {},
   "outputs": [],
   "source": [
    "xmodel = wbm.fe_domain[0].xmodel\n",
    "xmodel.mesh.I_CDij"
   ]
  },
  {
   "cell_type": "code",
   "execution_count": null,
   "metadata": {},
   "outputs": [],
   "source": [
    "_, idx_remap = xmodel.mesh.unique_node_map"
   ]
  },
  {
   "cell_type": "code",
   "execution_count": null,
   "metadata": {},
   "outputs": [],
   "source": [
    "idx_remap[xmodel.mesh.I_CDij]"
   ]
  },
  {
   "cell_type": "code",
   "execution_count": null,
   "metadata": {},
   "outputs": [],
   "source": [
    "idx_remap[xmodel.mesh.I_CDij[(0, -1),:,(0, -1),:].flatten()]"
   ]
  },
  {
   "cell_type": "code",
   "execution_count": null,
   "metadata": {},
   "outputs": [],
   "source": [
    "xmodel"
   ]
  },
  {
   "cell_type": "code",
   "execution_count": null,
   "metadata": {},
   "outputs": [],
   "source": [
    "wbm.interact()"
   ]
  },
  {
   "cell_type": "code",
   "execution_count": null,
   "metadata": {},
   "outputs": [],
   "source": [
    "import numpy as np\n",
    "alpha_range = np.linspace(0.5, 1.3, 10)\n",
    "a_range = np.linspace(300,500,10)"
   ]
  },
  {
   "cell_type": "code",
   "execution_count": null,
   "metadata": {},
   "outputs": [],
   "source": [
    "tmodel = MATS2DElastic(E=28000, nu=0.2)\n",
    "import numpy as np\n",
    "U_grid = []\n",
    "sig_grid = []\n",
    "for alpha in alpha_range:\n",
    "    U_list = []\n",
    "    sig_list = []\n",
    "    for a in a_range:\n",
    "        wbm = WBShellAnalysis(F=-20000, h=10, tmodel=tmodel)\n",
    "        data = dict(alpha=alpha, a=a, a_high=2000, b=1250, b_high=2000, c=400, c_high=2000,\n",
    "                    n_phi_plus=n_phi_plus, n_x_plus=n_x_plus)\n",
    "        wbm.wb_mesh.trait_set(**data)\n",
    "        max_U = wbm.get_max_vals()\n",
    "        \n",
    "        U1 = wbm.hist.U_t[-1]\n",
    "        eps1 = wbm.fe_domain[0].xmodel.map_U_to_field(U1)\n",
    "        sig1, _ = wbm.fe_domain[0].tmodel.get_corr_pred(eps1,1)\n",
    "        sig_x, sig_y, tau = sig1.T\n",
    "        sig_ab = np.einsum('ab...->...ab', np.array([[sig_x, tau], [tau, sig_y]], dtype=np.float_))\n",
    "        sig_val, sig_dir = np.linalg.eig(sig_ab)\n",
    "        sig_list.append([np.min(sig_val), np.max(sig_val)])\n",
    "\n",
    "        print(alpha, a, max_U)\n",
    "        U_list.append(max_U)\n",
    "    U_grid.append(U_list)\n",
    "    sig_grid.append(sig_list)"
   ]
  },
  {
   "cell_type": "code",
   "execution_count": null,
   "metadata": {
    "pycharm": {
     "name": "#%%\n"
    },
    "slideshow": {
     "slide_type": "slide"
    }
   },
   "outputs": [],
   "source": [
    "from mpl_toolkits.mplot3d import Axes3D\n",
    "import matplotlib.pyplot as plt\n",
    "from matplotlib import cm\n",
    "from matplotlib.ticker import LinearLocator, FormatStrFormatter\n",
    "fig = plt.figure()\n",
    "ax = fig.gca(projection='3d')\n",
    "X, Y = np.meshgrid(alpha_range, a_range)\n",
    "Z = np.array(U_grid)\n",
    "surf = ax.plot_surface(X, Y, Z, \n",
    "                       color='green',\n",
    "                       #linewidth=0, antialiased=False)\n",
    "                    alpha=.0, linewidth=5,\n",
    "                       #cmap=cm.gist_earth,antialiased=False, \n",
    "                shade=False,rstride=1, cstride=1)\n",
    "Z = np.array(sig_grid)[:,:,1]\n",
    "surf = ax.plot_surface(X, Y, Z,color='red', \n",
    "                       #cmap=cm.copper,\n",
    "                    alpha=.3, linewidth=3,\n",
    "                       #cmap=cm.gist_earth,antialiased=False, \n",
    "                shade=False,rstride=1, cstride=1)\n",
    "Z = -np.array(sig_grid)[:,:,0]\n",
    "surf = ax.plot_surface(X, Y, Z,color='blue', \n",
    "                       #cmap=cm.copper,\n",
    "                    alpha=.6, linewidth=3,\n",
    "                       #cmap=cm.gist_earth,antialiased=False, \n",
    "                shade=False,rstride=1, cstride=1)\n",
    "ax.set_xlabel(r'$\\alpha~[\\mathrm{rad}]$')\n",
    "ax.set_ylabel(r'$a~[\\mathrm{mm}]$')\n",
    "ax.set_zlabel(r'max compression [MPa]')\n"
   ]
  },
  {
   "cell_type": "code",
   "execution_count": null,
   "metadata": {},
   "outputs": [],
   "source": [
    "i_alpha, i_a = 0, -1\n",
    "wbm = WBShellAnalysis(F=-1000, tmodel=tmodel)\n",
    "print('alpha', alpha_range[i_alpha],'a', a_range[i_a] )\n",
    "data = dict(alpha=alpha_range[i_alpha], \n",
    "            a=a_range[i_a], a_high=2000, b=1250, b_high=2000, c=400, c_high=2000,\n",
    "            n_phi_plus=n_phi_plus, n_x_plus=n_x_plus)\n",
    "wbm.wb_mesh.trait_set(**data)\n",
    "wbm.wb_mesh.interact()"
   ]
  },
  {
   "cell_type": "code",
   "execution_count": null,
   "metadata": {},
   "outputs": [],
   "source": [
    "15000 / 39000 "
   ]
  },
  {
   "cell_type": "code",
   "execution_count": null,
   "metadata": {},
   "outputs": [],
   "source": []
  }
 ],
 "metadata": {
  "kernelspec": {
   "display_name": "Python 3 (ipykernel)",
   "language": "python",
   "name": "python3"
  },
  "language_info": {
   "codemirror_mode": {
    "name": "ipython",
    "version": 3
   },
   "file_extension": ".py",
   "mimetype": "text/x-python",
   "name": "python",
   "nbconvert_exporter": "python",
   "pygments_lexer": "ipython3",
   "version": "3.9.7"
  },
  "toc": {
   "base_numbering": 1,
   "nav_menu": {},
   "number_sections": true,
   "sideBar": true,
   "skip_h1_title": true,
   "title_cell": "Table of Contents",
   "title_sidebar": "Contents",
   "toc_cell": false,
   "toc_position": {},
   "toc_section_display": true,
   "toc_window_display": false
  }
 },
 "nbformat": 4,
 "nbformat_minor": 4
}
