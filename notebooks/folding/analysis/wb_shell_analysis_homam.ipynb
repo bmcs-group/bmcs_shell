{
 "cells": [
  {
   "cell_type": "code",
   "execution_count": 1,
   "metadata": {
    "hide_input": false,
    "slideshow": {
     "slide_type": "slide"
    }
   },
   "outputs": [],
   "source": [
    "%matplotlib widget\n",
    "from bmcs_shell.api import WBTessellation, WBShellAnalysis, MATS2DElastic, FETriangularMesh, FETS2DMITC, MATSShellElastic, AbaqusLink \n",
    "import numpy as np"
   ]
  },
  {
   "cell_type": "code",
   "execution_count": 2,
   "metadata": {
    "scrolled": true
   },
   "outputs": [
    {
     "name": "stdout",
     "output_type": "stream",
     "text": [
      "BCs were loaded from files: C:\\Users\\spart\\bmcs_cache\\bcs\\2_cells_wb_...\n"
     ]
    }
   ],
   "source": [
    "tmodel = MATS2DElastic(E=28000, nu=0.2)\n",
    "# tmodel = MATSShellElastic(E=28000, nu=0.2)\n",
    "n_phi_plus=2\n",
    "n_x_plus=1\n",
    "wbm = WBShellAnalysis(h=10, tmodel=tmodel, id='2_cells_wb')"
   ]
  },
  {
   "cell_type": "code",
   "execution_count": 3,
   "metadata": {
    "pycharm": {
     "name": "#%%\n"
    }
   },
   "outputs": [
    {
     "data": {
      "text/plain": [
       "<bmcs_shell.folding.geometry.wb_shell_geometry.WBShellGeometry at 0x1d707998ae0>"
      ]
     },
     "execution_count": 3,
     "metadata": {},
     "output_type": "execute_result"
    }
   ],
   "source": [
    "data = dict(alpha=1.24, a=500, a_high=3000, b=900, b_high=3000, c=400, c_high=2000,\n",
    "            n_phi_plus=n_phi_plus, n_x_plus=n_x_plus, show_nodes=False)\n",
    "wbm.geo.trait_set(**data)"
   ]
  },
  {
   "cell_type": "code",
   "execution_count": 4,
   "metadata": {
    "scrolled": false
   },
   "outputs": [
    {
     "name": "stdout",
     "output_type": "stream",
     "text": [
      "analysis: setup_plot\n",
      "analysis: U_I\n",
      "analysis: update_plot\n",
      "analysis: U_I\n"
     ]
    },
    {
     "name": "stderr",
     "output_type": "stream",
     "text": [
      "C:\\Users\\spart\\miniconda3\\envs\\bmcs_env\\lib\\site-packages\\traittypes\\traittypes.py:97: UserWarning: Given trait value dtype \"float64\" does not match required type \"float32\". A coerced copy has been created.\n",
      "  warnings.warn(\n"
     ]
    },
    {
     "data": {
      "application/vnd.jupyter.widget-view+json": {
       "model_id": "b623b092a9c64254a973957eba489cd4",
       "version_major": 2,
       "version_minor": 0
      },
      "text/plain": [
       "VBox(children=(HBox(children=(VBox(children=(Tree(layout=Layout(align_items='stretch', border='solid 1px black…"
      ]
     },
     "metadata": {},
     "output_type": "display_data"
    },
    {
     "name": "stdout",
     "output_type": "stream",
     "text": [
      "start thread\n",
      "\n",
      "U_o, [0. 0. 0. 0. 0. 0. 0. 0. 0. 0. 0. 0. 0. 0. 0. 0. 0. 0. 0. 0. 0. 0. 0. 0.\n",
      " 0. 0. 0. 0. 0. 0. 0. 0. 0. 0. 0. 0.]\n",
      "eps_Eso, [[0. 0. 0.]\n",
      " [0. 0. 0.]\n",
      " [0. 0. 0.]\n",
      " [0. 0. 0.]\n",
      " [0. 0. 0.]\n",
      " [0. 0. 0.]\n",
      " [0. 0. 0.]\n",
      " [0. 0. 0.]\n",
      " [0. 0. 0.]\n",
      " [0. 0. 0.]\n",
      " [0. 0. 0.]\n",
      " [0. 0. 0.]]\n"
     ]
    },
    {
     "name": "stderr",
     "output_type": "stream",
     "text": [
      "Exception in thread Thread-8:\n",
      "Traceback (most recent call last):\n",
      "  File \"C:\\Users\\spart\\miniconda3\\envs\\bmcs_env\\lib\\threading.py\", line 973, in _bootstrap_inner\n",
      "    self.run()\n",
      "  File \"d:\\homam\\synced\\programming\\python\\bmcs_utils\\bmcs_utils\\editors\\progress_editor.py\", line 22, in run\n",
      "    self.method(self.model)\n",
      "  File \"d:\\homam\\synced\\programming\\python\\bmcs_utils\\bmcs_utils\\editors\\progress_editor.py\", line 123, in run\n",
      "    raise e  # re-raise exception\n",
      "  File \"d:\\homam\\synced\\programming\\python\\bmcs_utils\\bmcs_utils\\editors\\progress_editor.py\", line 115, in run\n",
      "    run_fn()\n",
      "  File \"d:\\homam\\synced\\programming\\python\\bmcs_shell\\bmcs_shell\\folding\\analysis\\wb_shell_analysis.py\", line 125, in run\n",
      "    s.run()\n",
      "  File \"d:\\homam\\synced\\programming\\python\\bmcs_ibvpy\\ibvpy\\sim\\sim_base.py\", line 59, in run\n",
      "    self.tloop()\n",
      "  File \"d:\\homam\\synced\\programming\\python\\bmcs_ibvpy\\ibvpy\\sim\\tloop.py\", line 65, in __call__\n",
      "    return self.eval()\n",
      "  File \"d:\\homam\\synced\\programming\\python\\bmcs_ibvpy\\ibvpy\\sim\\tloop_implicit.py\", line 52, in eval\n",
      "    raise StopIteration('Warning: '\n",
      "StopIteration: Warning: convergence not reached in 10 iterations\n"
     ]
    },
    {
     "name": "stdout",
     "output_type": "stream",
     "text": [
      "\n",
      "U_o, [0. 0. 0. 0. 0. 0. 0. 0. 0. 0. 0. 0. 0. 0. 0. 0. 0. 0. 0. 0. 0. 0. 0. 0.\n",
      " 0. 0. 0. 0. 0. 0. 0. 0. 0. 0. 0. 0.]\n",
      "eps_Eso, [[0. 0. 0.]\n",
      " [0. 0. 0.]\n",
      " [0. 0. 0.]\n",
      " [0. 0. 0.]\n",
      " [0. 0. 0.]\n",
      " [0. 0. 0.]\n",
      " [0. 0. 0.]\n",
      " [0. 0. 0.]\n",
      " [0. 0. 0.]\n",
      " [0. 0. 0.]\n",
      " [0. 0. 0.]\n",
      " [0. 0. 0.]]\n",
      "\n",
      "U_o, [-2.33164190e+00 -5.56065066e+14  1.49481673e+15  0.00000000e+00\n",
      "  0.00000000e+00  0.00000000e+00  0.00000000e+00  0.00000000e+00\n",
      "  0.00000000e+00 -2.98474689e+15  1.28073084e+15  8.94532259e+15\n",
      " -2.98474689e+15 -1.90988574e+15 -4.97969319e+15 -2.52918450e+15\n",
      "  1.31216333e+15  2.26787528e+15 -3.49574109e+15 -1.54336290e+15\n",
      "  3.43805298e+14  5.14734742e+15 -4.18758288e+14  2.19334325e+15\n",
      "  3.57276446e+15 -4.25682382e+14  4.68372071e+15  3.57276446e+15\n",
      " -5.74837108e+14 -7.35219412e+14  2.23587040e+15 -9.08459938e+14\n",
      "  3.16918710e+15  1.80462825e+15  7.90719657e+13  1.06962704e+15]\n",
      "eps_Eso, [[ 7.35598754e-04 -1.23473173e-03 -1.81385148e-03]\n",
      " [ 1.95312500e-03 -9.76562500e-04  1.31553745e-03]\n",
      " [-3.65827934e-04  4.88281250e-04 -2.57018686e-03]\n",
      " [-1.53839102e-03  4.88281250e-04  1.28728285e-03]\n",
      " [-1.28841460e-03  9.76562500e-04  4.30180208e-03]\n",
      " [-2.14187411e-05 -9.76562500e-04 -1.65636701e-03]\n",
      " [-2.08084042e-03  4.88281250e-04 -8.87476771e-04]\n",
      " [-4.88281250e-04  9.76562500e-04  1.95312500e-03]\n",
      " [-7.00012280e-05  1.95312500e-03  5.02452963e-03]\n",
      " [-2.42562618e-03  2.44140625e-04  7.04676251e-04]\n",
      " [ 5.90259058e-04  0.00000000e+00 -3.80282690e-04]\n",
      " [ 1.61308470e-03  0.00000000e+00 -9.26706047e-04]]\n",
      "\n",
      "U_o, [-1.91041545e+00 -1.01180994e+15  2.71995224e+15  0.00000000e+00\n",
      "  0.00000000e+00  0.00000000e+00  0.00000000e+00  0.00000000e+00\n",
      "  0.00000000e+00 -5.51612506e+15  2.42242413e+15  1.65693779e+16\n",
      " -5.51612506e+15 -3.49960732e+15 -9.21691494e+15 -4.73624563e+15\n",
      "  2.45118782e+15  4.16944828e+15 -6.42483590e+15 -2.83863040e+15\n",
      "  6.05138373e+14  9.55387542e+15 -6.68660337e+14  3.93907429e+15\n",
      "  6.56927015e+15 -7.02929912e+14  8.60271612e+15  6.56927015e+15\n",
      " -9.40425633e+14 -1.54725194e+15  4.08455985e+15 -1.59895033e+15\n",
      "  5.77169607e+15  3.41086301e+15  2.12456173e+14  1.87224150e+15]\n",
      "eps_Eso, [[ 0.0004155  -0.00106977 -0.00169475]\n",
      " [ 0.00097656 -0.00048828  0.00178357]\n",
      " [-0.00046429  0.         -0.0022315 ]\n",
      " [-0.00152203  0.00195312 -0.00081137]\n",
      " [-0.00136205  0.          0.00861818]\n",
      " [ 0.00093759 -0.00097656 -0.00234566]\n",
      " [-0.00113613 -0.0012207   0.00407216]\n",
      " [ 0.          0.00097656  0.00195312]\n",
      " [-0.00068303  0.         -0.00071911]\n",
      " [-0.00192296  0.00097656  0.00263943]\n",
      " [ 0.00027847 -0.00390625  0.00125732]\n",
      " [ 0.00150291  0.00097656 -0.00187012]]\n",
      "\n",
      "U_o, [-2.58050393e+00 -1.66819520e+15  4.48445019e+15  0.00000000e+00\n",
      "  0.00000000e+00  0.00000000e+00  0.00000000e+00  0.00000000e+00\n",
      "  0.00000000e+00 -8.95424068e+15  3.84219252e+15  2.68359678e+16\n",
      " -8.95424068e+15 -5.72965723e+15 -1.49390796e+16 -7.58755349e+15\n",
      "  3.93649000e+15  6.80362585e+15 -1.04872233e+16 -4.63008871e+15\n",
      "  1.03141589e+15  1.54420423e+16 -1.25627486e+15  6.58002975e+15\n",
      "  1.07182934e+16 -1.27704715e+15  1.40511621e+16  1.07182934e+16\n",
      " -1.72451132e+15 -2.20565824e+15  6.70761121e+15 -2.72537981e+15\n",
      "  9.50756131e+15  5.41388475e+15  2.37215897e+14  3.20888113e+15]\n",
      "eps_Eso, [[ 3.11138837e-06 -1.68937145e-03 -3.03914044e-03]\n",
      " [ 3.90625000e-03 -1.46484375e-03  2.01558666e-03]\n",
      " [-9.59444393e-04 -3.90625000e-03 -2.58360745e-03]\n",
      " [-2.65430964e-03  1.95312500e-03  4.35012979e-03]\n",
      " [-1.30176723e-03  3.90625000e-03  5.58118750e-03]\n",
      " [-6.42562234e-05  1.95312500e-03 -6.67808539e-03]\n",
      " [-1.84799000e-03 -1.46484375e-03 -3.63899281e-03]\n",
      " [ 0.00000000e+00  1.95312500e-03 -1.95312500e-03]\n",
      " [ 3.39312722e-04  3.90625000e-03  4.25151395e-04]\n",
      " [-3.85890980e-03  2.92968750e-03  2.35816938e-03]\n",
      " [ 2.74733967e-03  0.00000000e+00  6.67165193e-03]\n",
      " [ 1.90956659e-03 -2.92968750e-03  1.49569358e-04]]\n",
      "\n",
      "U_o, [-2.18486303e+00 -2.22426026e+15  5.97926692e+15  0.00000000e+00\n",
      "  0.00000000e+00  0.00000000e+00  0.00000000e+00  0.00000000e+00\n",
      "  0.00000000e+00 -1.19389876e+16  5.12292335e+15  3.57812904e+16\n",
      " -1.19389876e+16 -7.63954297e+15 -1.99187728e+16 -1.01167380e+16\n",
      "  5.24865334e+15  9.07150113e+15 -1.39829643e+16 -6.17345161e+15\n",
      "  1.37522119e+15  2.05893897e+16 -1.67503315e+15  8.77337300e+15\n",
      "  1.42910578e+16 -1.70272953e+15  1.87348828e+16  1.42910578e+16\n",
      " -2.29934843e+15 -2.94087765e+15  8.94348161e+15 -3.63383975e+15\n",
      "  1.26767484e+16  7.21851299e+15  3.16287863e+14  4.27850818e+15]\n",
      "eps_Eso, [[ 5.93098024e-05 -1.30039721e-03 -2.30776540e-03]\n",
      " [ 5.85937500e-03  0.00000000e+00  3.43175005e-03]\n",
      " [ 1.93161154e-04 -1.95312500e-03  4.61440072e-04]\n",
      " [-2.29919303e-03  0.00000000e+00  1.24288139e-03]\n",
      " [-2.71225214e-03 -3.90625000e-03  7.44158333e-03]\n",
      " [ 1.86745004e-03  0.00000000e+00 -7.66093026e-04]\n",
      " [-6.37023666e-03  0.00000000e+00  8.16884292e-03]\n",
      " [ 0.00000000e+00 -1.95312500e-03  0.00000000e+00]\n",
      " [ 1.42897946e-03 -7.81250000e-03  8.37936853e-03]\n",
      " [-4.81969224e-03 -9.76562500e-04 -1.10982498e-04]\n",
      " [ 2.36103623e-03 -1.17187500e-02 -5.42738076e-03]\n",
      " [ 1.56952629e-03  9.76562500e-04 -3.70682419e-03]]\n",
      "\n",
      "U_o, [-1.65107482e+00 -2.57968494e+15  6.93472122e+15  0.00000000e+00\n",
      "  0.00000000e+00  0.00000000e+00  0.00000000e+00  0.00000000e+00\n",
      "  0.00000000e+00 -1.40169970e+16  6.12557910e+15  4.20840784e+16\n",
      " -1.40169970e+16 -8.90910039e+15 -2.34135231e+16 -1.20016758e+16\n",
      "  6.21453898e+15  1.06067718e+16 -1.63454129e+16 -7.22062370e+15\n",
      "  1.55408204e+15  2.42550983e+16 -1.75607896e+15  1.00714918e+16\n",
      "  1.67113047e+16 -1.83154221e+15  2.18891530e+16  1.67113047e+16\n",
      " -2.45568837e+15 -3.82972328e+15  1.04049901e+16 -4.10636061e+15\n",
      "  1.47125792e+16  8.62635427e+15  5.03984313e+14  4.81411005e+15]\n",
      "eps_Eso, [[ 7.78808773e-04 -7.78808773e-04 -9.69184483e-04]\n",
      " [ 3.90625000e-03 -1.95312500e-03  1.18597904e-04]\n",
      " [-8.80288004e-04 -1.95312500e-03 -3.37107432e-03]\n",
      " [-1.12362912e-03 -1.95312500e-03  1.12938833e-03]\n",
      " [-7.16616151e-04  3.90625000e-03  3.47174842e-03]\n",
      " [-9.93653574e-05 -1.95312500e-03 -2.68558615e-03]\n",
      " [ 2.97111236e-03 -2.92968750e-03  4.20913487e-04]\n",
      " [ 0.00000000e+00 -9.76562500e-04  0.00000000e+00]\n",
      " [ 1.85983305e-03  0.00000000e+00 -3.24961947e-03]\n",
      " [-5.78326776e-03  9.76562500e-04  2.80970841e-03]\n",
      " [-1.78248953e-03  0.00000000e+00 -1.73968986e-02]\n",
      " [ 1.68922541e-03  2.92968750e-03  2.15859631e-04]]\n",
      "\n",
      "U_o, [-2.33483145e+00 -3.13575001e+15  8.42953795e+15  0.00000000e+00\n",
      "  0.00000000e+00  0.00000000e+00  0.00000000e+00  0.00000000e+00\n",
      "  0.00000000e+00 -1.70017439e+16  7.40630994e+15  5.10294010e+16\n",
      " -1.70017439e+16 -1.08189861e+16 -2.83932163e+16 -1.45308603e+16\n",
      "  7.52670232e+15  1.28746471e+16 -1.98411540e+16 -8.76398660e+15\n",
      "  1.89788734e+15  2.94024457e+16 -2.17483725e+15  1.22648351e+16\n",
      "  2.02840692e+16 -2.25722459e+15  2.65728737e+16  2.02840692e+16\n",
      " -3.03052548e+15 -4.56494270e+15  1.26408605e+16 -5.01482055e+15\n",
      "  1.78817664e+16  1.04309825e+16  5.83056278e+14  5.88373709e+15]\n",
      "eps_Eso, [[ 0.00110134 -0.00110134 -0.00137055]\n",
      " [ 0.00390625 -0.00097656 -0.00650051]\n",
      " [ 0.00027232  0.00390625 -0.00227915]\n",
      " [-0.00152048  0.00390625  0.00095183]\n",
      " [-0.00066226  0.0078125   0.01119152]\n",
      " [-0.00012078  0.          0.00615609]\n",
      " [ 0.00235512 -0.00195312  0.0083225 ]\n",
      " [ 0.          0.00097656  0.00390625]\n",
      " [-0.0026047   0.0078125  -0.0031079 ]\n",
      " [-0.00381436 -0.00195312 -0.00503054]\n",
      " [ 0.00173746  0.0078125   0.02909782]\n",
      " [ 0.00379059 -0.00488281 -0.00364053]]\n",
      "\n",
      "U_o, [-2.66973741e+00 -3.89245546e+15  1.04637171e+16  0.00000000e+00\n",
      "  0.00000000e+00  0.00000000e+00  0.00000000e+00  0.00000000e+00\n",
      "  0.00000000e+00 -2.08932283e+16  8.96511587e+15  6.26172581e+16\n",
      " -2.08932283e+16 -1.33692002e+16 -3.48578523e+16 -1.77042915e+16\n",
      "  9.18514334e+15  1.58751270e+16 -2.44701876e+16 -1.08035403e+16\n",
      "  2.40663709e+15  3.60314319e+16 -2.93130801e+15  1.53534028e+16\n",
      "  2.50093512e+16 -2.97977668e+15  3.27860450e+16  2.50093512e+16\n",
      " -4.02385975e+15 -5.14653589e+15  1.56510928e+16 -6.35921957e+15\n",
      "  2.21843097e+16  1.26323977e+16  5.53503760e+14  7.48738931e+15]\n",
      "eps_Eso, [[-0.00019762 -0.00166401 -0.00310501]\n",
      " [ 0.0078125   0.          0.00875238]\n",
      " [ 0.00033803 -0.01171875 -0.0011456 ]\n",
      " [-0.00323653  0.          0.00656957]\n",
      " [-0.00157261 -0.0078125   0.0071634 ]\n",
      " [-0.00014993  0.         -0.01330355]\n",
      " [-0.00431198  0.00195312  0.0006236 ]\n",
      " [ 0.         -0.00195312 -0.0078125 ]\n",
      " [ 0.00268382 -0.0078125  -0.01072673]\n",
      " [-0.01356141  0.00195312 -0.00898328]\n",
      " [ 0.00510838  0.         -0.00266198]\n",
      " [ 0.00299081 -0.00390625  0.000349  ]]\n",
      "\n",
      "U_o, [-2.37868692e+00 -4.44852052e+15  1.19585338e+16  0.00000000e+00\n",
      "  0.00000000e+00  0.00000000e+00  0.00000000e+00  0.00000000e+00\n",
      "  0.00000000e+00 -2.38779751e+16  1.02458467e+16  7.15625807e+16\n",
      " -2.38779751e+16 -1.52790859e+16 -3.98375455e+16 -2.02334760e+16\n",
      "  1.04973067e+16  1.81430023e+16 -2.79659287e+16 -1.23469032e+16\n",
      "  2.75044239e+15  4.11787794e+16 -3.35006630e+15  1.75467460e+16\n",
      "  2.85821156e+16 -3.40545906e+15  3.74697657e+16  2.85821156e+16\n",
      " -4.59869686e+15 -5.88175530e+15  1.78869632e+16 -7.26767951e+15\n",
      "  2.53534968e+16  1.44370260e+16  6.32575726e+14  8.55701635e+15]\n",
      "eps_Eso, [[ 0.00015074 -0.00139182 -0.00242154]\n",
      " [ 0.00390625  0.          0.00126327]\n",
      " [-0.00071799 -0.015625   -0.00688962]\n",
      " [-0.00268793  0.00390625  0.00248576]\n",
      " [-0.00249482 -0.015625    0.00707067]\n",
      " [-0.00017135  0.          0.00628031]\n",
      " [-0.00102172 -0.00195312  0.00852519]\n",
      " [ 0.          0.          0.0078125 ]\n",
      " [ 0.00407866  0.          0.00894624]\n",
      " [-0.00768626  0.          0.00563741]\n",
      " [ 0.00081582  0.0078125  -0.01866726]\n",
      " [ 0.00313905 -0.00390625 -0.00741365]]\n",
      "\n",
      "U_o, [-1.56060941e+00 -4.80394520e+15  1.29139881e+16  0.00000000e+00\n",
      "  0.00000000e+00  0.00000000e+00  0.00000000e+00  0.00000000e+00\n",
      "  0.00000000e+00 -2.59559846e+16  1.12485025e+16  7.78653688e+16\n",
      " -2.59559846e+16 -1.65486434e+16 -4.33322958e+16 -2.21184137e+16\n",
      "  1.14631923e+16  1.96782730e+16 -3.03283772e+16 -1.33940753e+16\n",
      "  2.92930324e+15  4.48444879e+16 -3.43111211e+15  1.88448648e+16\n",
      "  3.10023626e+16 -3.53427174e+15  4.06240358e+16  3.10023626e+16\n",
      " -4.75503680e+15 -6.77060093e+15  1.93484717e+16 -7.74020036e+15\n",
      "  2.73893277e+16  1.58448673e+16  8.20272175e+14  9.09261822e+15]\n",
      "eps_Eso, [[ 0.00025049 -0.00100594 -0.00167153]\n",
      " [ 0.00390625 -0.00195312  0.00217224]\n",
      " [ 0.00262582  0.0078125   0.01271537]\n",
      " [-0.00186391  0.00390625  0.00041914]\n",
      " [-0.00147574  0.0234375   0.01872583]\n",
      " [ 0.00372121  0.00390625 -0.00345168]\n",
      " [-0.00535225 -0.00195312  0.00858976]\n",
      " [ 0.          0.00195312 -0.0078125 ]\n",
      " [-0.00403541  0.         -0.022214  ]\n",
      " [-0.0096264   0.         -0.00218409]\n",
      " [ 0.00839105 -0.0234375  -0.00329303]\n",
      " [ 0.00325875 -0.00195312  0.00041529]]\n",
      "\n"
     ]
    },
    {
     "name": "stdout",
     "output_type": "stream",
     "text": [
      "analysis: update_plot\n"
     ]
    },
    {
     "name": "stderr",
     "output_type": "stream",
     "text": [
      "C:\\Users\\spart\\miniconda3\\envs\\bmcs_env\\lib\\site-packages\\traittypes\\traittypes.py:97: UserWarning: Given trait value dtype \"float64\" does not match required type \"float32\". A coerced copy has been created.\n",
      "  warnings.warn(\n"
     ]
    }
   ],
   "source": [
    "wbm.interact()"
   ]
  },
  {
   "cell_type": "code",
   "execution_count": 5,
   "metadata": {},
   "outputs": [
    {
     "name": "stdout",
     "output_type": "stream",
     "text": [
      "inp file test_name.inp written\n"
     ]
    }
   ],
   "source": [
    "al = AbaqusLink(shell_analysis=wbm, n_split=10)\n",
    "al.model_name = 'test_name'\n",
    "al.build_inp()"
   ]
  },
  {
   "cell_type": "code",
   "execution_count": 5,
   "metadata": {},
   "outputs": [],
   "source": [
    "wbm.run()"
   ]
  },
  {
   "cell_type": "code",
   "execution_count": 6,
   "metadata": {
    "scrolled": true
   },
   "outputs": [
    {
     "ename": "AttributeError",
     "evalue": "'TriXDomainMITC' object has no attribute 'Eia'",
     "output_type": "error",
     "traceback": [
      "\u001b[1;31m---------------------------------------------------------------------------\u001b[0m",
      "\u001b[1;31mAttributeError\u001b[0m                            Traceback (most recent call last)",
      "\u001b[1;32m<ipython-input-6-249b50851ac6>\u001b[0m in \u001b[0;36m<module>\u001b[1;34m\u001b[0m\n\u001b[1;32m----> 1\u001b[1;33m \u001b[0mwbm\u001b[0m\u001b[1;33m.\u001b[0m\u001b[0mxdomain\u001b[0m\u001b[1;33m.\u001b[0m\u001b[0mEia\u001b[0m\u001b[1;33m\u001b[0m\u001b[1;33m\u001b[0m\u001b[0m\n\u001b[0m",
      "\u001b[1;31mAttributeError\u001b[0m: 'TriXDomainMITC' object has no attribute 'Eia'"
     ]
    }
   ],
   "source": [
    "wbm.xdomain.Eia"
   ]
  },
  {
   "cell_type": "code",
   "execution_count": 5,
   "metadata": {},
   "outputs": [
    {
     "name": "stdout",
     "output_type": "stream",
     "text": [
      "w_m called!!\n"
     ]
    },
    {
     "data": {
      "text/plain": [
       "array([[ 0,  1,  2],\n",
       "       [ 4,  3,  0],\n",
       "       [ 5,  1,  0],\n",
       "       [ 0,  2,  6],\n",
       "       [ 0,  3,  5],\n",
       "       [ 6,  4,  0],\n",
       "       [ 7,  3,  4],\n",
       "       [ 9,  8,  7],\n",
       "       [10,  3,  7],\n",
       "       [ 7,  4, 11],\n",
       "       [ 7,  8, 10],\n",
       "       [11,  9,  7]])"
      ]
     },
     "execution_count": 5,
     "metadata": {},
     "output_type": "execute_result"
    }
   ],
   "source": [
    "wbm.xdomain.F_N"
   ]
  },
  {
   "cell_type": "code",
   "execution_count": 6,
   "metadata": {},
   "outputs": [
    {
     "data": {
      "text/plain": [
       "array([[    0.        ,   806.63830566,   -20.85449219],\n",
       "       [  499.99996948,  1650.16491699,   292.93359375],\n",
       "       [ -499.99996948,  1650.16491699,   292.93359375],\n",
       "       [  499.99996948,     0.        ,   378.31347656],\n",
       "       [ -499.99996948,     0.        ,   378.31347656],\n",
       "       [  129.91851807,   826.18609619,   356.95410156],\n",
       "       [ -129.91851807,   826.18609619,   356.95410156],\n",
       "       [    0.        ,  -806.63830566,   -20.85449219],\n",
       "       [  499.99996948, -1650.16491699,   292.93359375],\n",
       "       [ -499.99996948, -1650.16491699,   292.93359375],\n",
       "       [  129.91851807,  -826.18609619,   356.95410156],\n",
       "       [ -129.91851807,  -826.18609619,   356.95410156]])"
      ]
     },
     "execution_count": 6,
     "metadata": {},
     "output_type": "execute_result"
    }
   ],
   "source": [
    "wbm.xdomain.mesh.X_Id"
   ]
  },
  {
   "cell_type": "code",
   "execution_count": 8,
   "metadata": {},
   "outputs": [
    {
     "data": {
      "text/plain": [
       "-77.64699405928364"
      ]
     },
     "execution_count": 8,
     "metadata": {},
     "output_type": "execute_result"
    }
   ],
   "source": [
    "min(wbm.hist.U_t[-1])"
   ]
  },
  {
   "cell_type": "code",
   "execution_count": 6,
   "metadata": {},
   "outputs": [
    {
     "data": {
      "text/plain": [
       "array([[ 0,  1,  2,  3,  4],\n",
       "       [ 5,  6,  7,  8,  9],\n",
       "       [10, 11, 12, 13, 14],\n",
       "       [15, 16, 17, 18, 19],\n",
       "       [20, 21, 22, 23, 24],\n",
       "       [25, 26, 27, 28, 29],\n",
       "       [30, 31, 32, 33, 34],\n",
       "       [35, 36, 37, 38, 39],\n",
       "       [40, 41, 42, 43, 44],\n",
       "       [45, 46, 47, 48, 49],\n",
       "       [50, 51, 52, 53, 54],\n",
       "       [55, 56, 57, 58, 59]])"
      ]
     },
     "execution_count": 6,
     "metadata": {},
     "output_type": "execute_result"
    }
   ],
   "source": [
    "np.arange(60).reshape(-1, 5)"
   ]
  },
  {
   "cell_type": "code",
   "execution_count": 5,
   "metadata": {},
   "outputs": [
    {
     "name": "stdout",
     "output_type": "stream",
     "text": [
      "dof: 10, value: 0.0\n",
      "dof: 11, value: 0.0\n",
      "dof: 12, value: 0.0\n",
      "dof: 5, value: 0.0\n",
      "dof: 6, value: 0.0\n",
      "dof: 7, value: 0.0\n",
      "dof: 45, value: 0.0\n",
      "dof: 46, value: 0.0\n",
      "dof: 47, value: 0.0\n",
      "dof: 40, value: 0.0\n",
      "dof: 41, value: 0.0\n",
      "dof: 42, value: 0.0\n",
      "dof: 55, value: 0.0\n",
      "dof: 56, value: 0.0\n",
      "dof: 57, value: 0.0\n",
      "dof: 50, value: 0.0\n",
      "dof: 51, value: 0.0\n",
      "dof: 52, value: 0.0\n",
      "dof: 30, value: 0.0\n",
      "dof: 31, value: 0.0\n",
      "dof: 32, value: 0.0\n",
      "dof: 25, value: 0.0\n",
      "dof: 26, value: 0.0\n",
      "dof: 27, value: 0.0\n",
      "dof: 22, value: -20000.0\n",
      "dof: 17, value: -20000.0\n"
     ]
    },
    {
     "data": {
      "text/plain": [
       "[None,\n",
       " None,\n",
       " None,\n",
       " None,\n",
       " None,\n",
       " None,\n",
       " None,\n",
       " None,\n",
       " None,\n",
       " None,\n",
       " None,\n",
       " None,\n",
       " None,\n",
       " None,\n",
       " None,\n",
       " None,\n",
       " None,\n",
       " None,\n",
       " None,\n",
       " None,\n",
       " None,\n",
       " None,\n",
       " None,\n",
       " None,\n",
       " None,\n",
       " None]"
      ]
     },
     "execution_count": 5,
     "metadata": {},
     "output_type": "execute_result"
    }
   ],
   "source": [
    "[print('dof: ' + str(b.dof) + ', value: ' + str(b.value)) for b in wbm.bc]"
   ]
  },
  {
   "cell_type": "code",
   "execution_count": 6,
   "metadata": {},
   "outputs": [
    {
     "data": {
      "text/plain": [
       "array([-874.15724895, -900.00023524, -397.5538468 , -349.66320896,\n",
       "       -349.66313046, -397.55382519, -874.15728924, -900.00005939,\n",
       "       -397.55382519, -349.66313046, -349.66320896, -397.5538468 ])"
      ]
     },
     "execution_count": 6,
     "metadata": {},
     "output_type": "execute_result"
    }
   ],
   "source": [
    "xx_Ei, yy_Ei = np.einsum('...a->a...', wbm.xdomain.x_Eia)\n",
    "yy_Ei[:, 1] - yy_Ei[:, 2]"
   ]
  },
  {
   "cell_type": "code",
   "execution_count": 12,
   "metadata": {},
   "outputs": [
    {
     "data": {
      "text/plain": [
       "array([[ 0,  1,  2],\n",
       "       [ 0,  3,  4],\n",
       "       [ 0,  1,  5],\n",
       "       [ 0,  2,  6],\n",
       "       [ 0,  3,  5],\n",
       "       [ 0,  4,  6],\n",
       "       [ 7,  3,  4],\n",
       "       [ 7,  8,  9],\n",
       "       [ 7,  3, 10],\n",
       "       [ 7,  4, 11],\n",
       "       [ 7,  8, 10],\n",
       "       [ 7,  9, 11]])"
      ]
     },
     "execution_count": 12,
     "metadata": {},
     "output_type": "execute_result"
    }
   ],
   "source": [
    "wbm.xdomain.mesh.I_Fi"
   ]
  },
  {
   "cell_type": "code",
   "execution_count": null,
   "metadata": {},
   "outputs": [],
   "source": [
    "bc_fixed = [BCDof(var= 'u', dof=dof, value=0) for dof in fixed_dofs]\n",
    "bc_loaded = [BCDof(var= 'f', dof=dof, value=u_cntl) for dof in loaded_dofs]\n",
    "ts = TStepBC(\n",
    "    domains=[(xdomain, tmodel)],\n",
    "    bc=bc_fixed + bc_loaded,\n",
    ")"
   ]
  },
  {
   "cell_type": "code",
   "execution_count": 15,
   "metadata": {},
   "outputs": [
    {
     "data": {
      "text/plain": [
       "array([], dtype=float64)"
      ]
     },
     "execution_count": 15,
     "metadata": {},
     "output_type": "execute_result"
    }
   ],
   "source": [
    "wbm.bc"
   ]
  },
  {
   "cell_type": "code",
   "execution_count": 13,
   "metadata": {},
   "outputs": [
    {
     "data": {
      "text/plain": [
       "array([[    0.        ,   806.63830566,   -20.85449219],\n",
       "       [  499.99996948,  1650.16491699,   292.93359375],\n",
       "       [ -499.99996948,  1650.16491699,   292.93359375],\n",
       "       [  499.99996948,     0.        ,   378.31347656],\n",
       "       [ -499.99996948,     0.        ,   378.31347656],\n",
       "       [  129.91851807,   826.18609619,   356.95410156],\n",
       "       [ -129.91851807,   826.18609619,   356.95410156],\n",
       "       [    0.        ,  -806.63830566,   -20.85449219],\n",
       "       [  499.99996948, -1650.16491699,   292.93359375],\n",
       "       [ -499.99996948, -1650.16491699,   292.93359375],\n",
       "       [  129.91851807,  -826.18609619,   356.95410156],\n",
       "       [ -129.91851807,  -826.18609619,   356.95410156]])"
      ]
     },
     "execution_count": 13,
     "metadata": {},
     "output_type": "execute_result"
    }
   ],
   "source": [
    "wbm.xdomain.mesh.X_Id"
   ]
  },
  {
   "cell_type": "code",
   "execution_count": 18,
   "metadata": {},
   "outputs": [
    {
     "data": {
      "text/plain": [
       "array([[[    0.        ,   806.63830566,   -20.85449219],\n",
       "        [  499.99996948,  1650.16491699,   292.93359375],\n",
       "        [ -499.99996948,  1650.16491699,   292.93359375]],\n",
       "\n",
       "       [[    0.        ,   806.63830566,   -20.85449219],\n",
       "        [  499.99996948,     0.        ,   378.31347656],\n",
       "        [ -499.99996948,     0.        ,   378.31347656]],\n",
       "\n",
       "       [[    0.        ,   806.63830566,   -20.85449219],\n",
       "        [  499.99996948,  1650.16491699,   292.93359375],\n",
       "        [  129.91851807,   826.18609619,   356.95410156]],\n",
       "\n",
       "       [[    0.        ,   806.63830566,   -20.85449219],\n",
       "        [ -499.99996948,  1650.16491699,   292.93359375],\n",
       "        [ -129.91851807,   826.18609619,   356.95410156]],\n",
       "\n",
       "       [[    0.        ,   806.63830566,   -20.85449219],\n",
       "        [  499.99996948,     0.        ,   378.31347656],\n",
       "        [  129.91851807,   826.18609619,   356.95410156]],\n",
       "\n",
       "       [[    0.        ,   806.63830566,   -20.85449219],\n",
       "        [ -499.99996948,     0.        ,   378.31347656],\n",
       "        [ -129.91851807,   826.18609619,   356.95410156]],\n",
       "\n",
       "       [[    0.        ,  -806.63830566,   -20.85449219],\n",
       "        [  499.99996948,     0.        ,   378.31347656],\n",
       "        [ -499.99996948,     0.        ,   378.31347656]],\n",
       "\n",
       "       [[    0.        ,  -806.63830566,   -20.85449219],\n",
       "        [  499.99996948, -1650.16491699,   292.93359375],\n",
       "        [ -499.99996948, -1650.16491699,   292.93359375]],\n",
       "\n",
       "       [[    0.        ,  -806.63830566,   -20.85449219],\n",
       "        [  499.99996948,     0.        ,   378.31347656],\n",
       "        [  129.91851807,  -826.18609619,   356.95410156]],\n",
       "\n",
       "       [[    0.        ,  -806.63830566,   -20.85449219],\n",
       "        [ -499.99996948,     0.        ,   378.31347656],\n",
       "        [ -129.91851807,  -826.18609619,   356.95410156]],\n",
       "\n",
       "       [[    0.        ,  -806.63830566,   -20.85449219],\n",
       "        [  499.99996948, -1650.16491699,   292.93359375],\n",
       "        [  129.91851807,  -826.18609619,   356.95410156]],\n",
       "\n",
       "       [[    0.        ,  -806.63830566,   -20.85449219],\n",
       "        [ -499.99996948, -1650.16491699,   292.93359375],\n",
       "        [ -129.91851807,  -826.18609619,   356.95410156]]])"
      ]
     },
     "execution_count": 18,
     "metadata": {},
     "output_type": "execute_result"
    }
   ],
   "source": [
    "X_Fid = wbm.xdomain.mesh.X_Id[wbm.xdomain.mesh.I_Fi]\n",
    "X_Fid"
   ]
  },
  {
   "cell_type": "code",
   "execution_count": 26,
   "metadata": {},
   "outputs": [
    {
     "data": {
      "text/plain": [
       "array([[      0.        , -313788.0667854 ,  843526.55984335]])"
      ]
     },
     "execution_count": 26,
     "metadata": {},
     "output_type": "execute_result"
    }
   ],
   "source": [
    "wbm.xdomain.Fa_normals[0]"
   ]
  },
  {
   "cell_type": "code",
   "execution_count": 21,
   "metadata": {},
   "outputs": [
    {
     "data": {
      "text/plain": [
       "array([  0.        , 806.63830566, -20.85449219])"
      ]
     },
     "execution_count": 21,
     "metadata": {},
     "output_type": "execute_result"
    }
   ],
   "source": [
    "wbm.xdomain.mesh.X_Id[wbm.xdomain.mesh.I_Fi][0][0]"
   ]
  },
  {
   "cell_type": "markdown",
   "metadata": {},
   "source": [
    "## Understanding bc"
   ]
  },
  {
   "cell_type": "code",
   "execution_count": 8,
   "metadata": {},
   "outputs": [],
   "source": [
    "xdomain = wbm.xdomain"
   ]
  },
  {
   "cell_type": "code",
   "execution_count": 9,
   "metadata": {},
   "outputs": [
    {
     "data": {
      "text/plain": [
       "array([2, 1, 9, 8])"
      ]
     },
     "execution_count": 9,
     "metadata": {},
     "output_type": "execute_result"
    }
   ],
   "source": [
    "fixed_xyz_nodes = xdomain.bc_J_xyz\n",
    "fixed_xyz_nodes"
   ]
  },
  {
   "cell_type": "code",
   "execution_count": 10,
   "metadata": {},
   "outputs": [
    {
     "data": {
      "text/plain": [
       "array([[[[ 2,  1],\n",
       "         [ 6,  5],\n",
       "         [ 4,  3]]],\n",
       "\n",
       "\n",
       "       [[[ 9,  8],\n",
       "         [13, 12],\n",
       "         [11, 10]]]])"
      ]
     },
     "execution_count": 10,
     "metadata": {},
     "output_type": "execute_result"
    }
   ],
   "source": [
    "xdomain.I_CDij"
   ]
  },
  {
   "cell_type": "code",
   "execution_count": 11,
   "metadata": {},
   "outputs": [
    {
     "data": {
      "text/plain": [
       "array([ 2,  6,  4,  4, 11,  9,  1,  5,  3,  3, 10,  8])"
      ]
     },
     "execution_count": 11,
     "metadata": {},
     "output_type": "execute_result"
    }
   ],
   "source": [
    "fixed_x_nodes = xdomain.bc_J_x\n",
    "fixed_x_nodes"
   ]
  },
  {
   "cell_type": "code",
   "execution_count": 12,
   "metadata": {},
   "outputs": [
    {
     "data": {
      "text/plain": [
       "array([ 2,  1,  9,  8,  2,  6,  4,  4, 11,  9,  1,  5,  3,  3, 10,  8])"
      ]
     },
     "execution_count": 12,
     "metadata": {},
     "output_type": "execute_result"
    }
   ],
   "source": [
    "np.hstack([fixed_xyz_nodes, fixed_x_nodes])"
   ]
  },
  {
   "cell_type": "code",
   "execution_count": 13,
   "metadata": {},
   "outputs": [
    {
     "data": {
      "text/plain": [
       "array([ 1,  2,  3,  4,  5,  6,  8,  9, 10, 11])"
      ]
     },
     "execution_count": 13,
     "metadata": {},
     "output_type": "execute_result"
    }
   ],
   "source": [
    "fixed_nodes = np.unique(np.hstack([fixed_xyz_nodes, fixed_x_nodes]))\n",
    "fixed_nodes"
   ]
  },
  {
   "cell_type": "code",
   "execution_count": 15,
   "metadata": {},
   "outputs": [],
   "source": [
    "fixed_xyz_nodes = xdomain.bc_J_xyz\n",
    "fixed_x_nodes = xdomain.bc_J_x\n",
    "fixed_nodes = np.unique(np.hstack([fixed_xyz_nodes, fixed_x_nodes]))\n",
    "fixed_xyz_dofs = (fixed_xyz_nodes[:, np.newaxis] * 3 + np.arange(3)[np.newaxis, :]).flatten()\n",
    "fixed_x_dofs = (fixed_x_nodes[:, np.newaxis] * 3).flatten()\n",
    "fixed_dofs = np.unique(np.hstack([fixed_xyz_dofs, fixed_x_dofs]))\n",
    "\n"
   ]
  },
  {
   "cell_type": "code",
   "execution_count": 6,
   "metadata": {},
   "outputs": [
    {
     "data": {
      "text/plain": [
       "array([[[[23, 22],\n",
       "         [27, 26],\n",
       "         [25, 24]],\n",
       "\n",
       "        [[51, 50],\n",
       "         [55, 54],\n",
       "         [53, 52]]],\n",
       "\n",
       "\n",
       "       [[[30, 29],\n",
       "         [34, 33],\n",
       "         [32, 31]],\n",
       "\n",
       "        [[58, 57],\n",
       "         [62, 61],\n",
       "         [60, 59]]],\n",
       "\n",
       "\n",
       "       [[[37, 36],\n",
       "         [41, 40],\n",
       "         [39, 38]],\n",
       "\n",
       "        [[65, 64],\n",
       "         [69, 68],\n",
       "         [67, 66]]],\n",
       "\n",
       "\n",
       "       [[[44, 43],\n",
       "         [48, 47],\n",
       "         [46, 45]],\n",
       "\n",
       "        [[72, 71],\n",
       "         [76, 75],\n",
       "         [74, 73]]]])"
      ]
     },
     "execution_count": 6,
     "metadata": {},
     "output_type": "execute_result"
    }
   ],
   "source": [
    "xmodel = wbm.fe_domain[0].xmodel\n",
    "xmodel.mesh.I_CDij"
   ]
  },
  {
   "cell_type": "code",
   "execution_count": 7,
   "metadata": {},
   "outputs": [],
   "source": [
    "_, idx_remap = xmodel.mesh.unique_node_map"
   ]
  },
  {
   "cell_type": "code",
   "execution_count": 8,
   "metadata": {},
   "outputs": [
    {
     "data": {
      "text/plain": [
       "array([[[[19, 18],\n",
       "         [21,  2],\n",
       "         [20,  6]],\n",
       "\n",
       "        [[34, 33],\n",
       "         [ 1, 36],\n",
       "         [ 5, 35]]],\n",
       "\n",
       "\n",
       "       [[[20,  6],\n",
       "         [24,  4],\n",
       "         [23, 11]],\n",
       "\n",
       "        [[ 5, 35],\n",
       "         [ 3, 39],\n",
       "         [10, 38]]],\n",
       "\n",
       "\n",
       "       [[[23, 11],\n",
       "         [27,  9],\n",
       "         [26, 16]],\n",
       "\n",
       "        [[10, 38],\n",
       "         [ 8, 42],\n",
       "         [15, 41]]],\n",
       "\n",
       "\n",
       "       [[[26, 16],\n",
       "         [31, 14],\n",
       "         [30, 29]],\n",
       "\n",
       "        [[15, 41],\n",
       "         [13, 46],\n",
       "         [45, 44]]]])"
      ]
     },
     "execution_count": 8,
     "metadata": {},
     "output_type": "execute_result"
    }
   ],
   "source": [
    "idx_remap[xmodel.mesh.I_CDij]"
   ]
  },
  {
   "cell_type": "code",
   "execution_count": 9,
   "metadata": {},
   "outputs": [
    {
     "data": {
      "text/plain": [
       "array([19, 18, 34, 33, 30, 29, 45, 44])"
      ]
     },
     "execution_count": 9,
     "metadata": {},
     "output_type": "execute_result"
    }
   ],
   "source": [
    "idx_remap[xmodel.mesh.I_CDij[(0, -1),:,(0, -1),:].flatten()]"
   ]
  },
  {
   "cell_type": "code",
   "execution_count": 10,
   "metadata": {},
   "outputs": [
    {
     "data": {
      "text/latex": [
       "\n",
       "        \\begin{array}{lrrl}\\hline\n",
       "        \\textrm{change} & \\textrm{<missing>} & & \\textrm{None}  \\\\\n",
       "                \\textrm{coord_min} & \\textrm{[0.0 0.0 0.0]} & & \\textrm{None}  \\\\\n",
       "                \\textrm{coord_max} & \\textrm{[1.0 1.0 1.0]} & & \\textrm{None}  \\\\\n",
       "                \\textrm{shape} & \\textrm{[1 1 1]} & & \\textrm{None}  \\\\\n",
       "                \\textrm{integ_factor} & \\textrm{10.0} & & \\textrm{None}  \\\\\n",
       "                \\hline\n",
       "        \\hline\n",
       "        \\end{array}\n",
       "        "
      ],
      "text/plain": [
       "<bmcs_shell.folding.tri_xdomain_fe.TriXDomainFE at 0x182fc6e3ae0>"
      ]
     },
     "execution_count": 10,
     "metadata": {},
     "output_type": "execute_result"
    }
   ],
   "source": [
    "xmodel"
   ]
  },
  {
   "cell_type": "code",
   "execution_count": 12,
   "metadata": {},
   "outputs": [],
   "source": [
    "import numpy as np\n",
    "alpha_range = np.linspace(0.5, 1.3, 10)\n",
    "a_range = np.linspace(300,500,10)"
   ]
  },
  {
   "cell_type": "code",
   "execution_count": 15,
   "metadata": {},
   "outputs": [
    {
     "ename": "RuntimeError",
     "evalue": "Factor is exactly singular",
     "output_type": "error",
     "traceback": [
      "\u001b[1;31m---------------------------------------------------------------------------\u001b[0m",
      "\u001b[1;31mRuntimeError\u001b[0m                              Traceback (most recent call last)",
      "\u001b[1;32m<ipython-input-15-1f30c91f7c83>\u001b[0m in \u001b[0;36m<module>\u001b[1;34m\u001b[0m\n\u001b[0;32m     11\u001b[0m                     n_phi_plus=n_phi_plus, n_x_plus=n_x_plus)\n\u001b[0;32m     12\u001b[0m         \u001b[0mwbm\u001b[0m\u001b[1;33m.\u001b[0m\u001b[0mxdomain\u001b[0m\u001b[1;33m.\u001b[0m\u001b[0mmesh\u001b[0m\u001b[1;33m.\u001b[0m\u001b[0mtrait_set\u001b[0m\u001b[1;33m(\u001b[0m\u001b[1;33m**\u001b[0m\u001b[0mdata\u001b[0m\u001b[1;33m)\u001b[0m\u001b[1;33m\u001b[0m\u001b[1;33m\u001b[0m\u001b[0m\n\u001b[1;32m---> 13\u001b[1;33m         \u001b[0mmax_U\u001b[0m \u001b[1;33m=\u001b[0m \u001b[0mwbm\u001b[0m\u001b[1;33m.\u001b[0m\u001b[0mget_max_vals\u001b[0m\u001b[1;33m(\u001b[0m\u001b[1;33m)\u001b[0m\u001b[1;33m\u001b[0m\u001b[1;33m\u001b[0m\u001b[0m\n\u001b[0m\u001b[0;32m     14\u001b[0m \u001b[1;33m\u001b[0m\u001b[0m\n\u001b[0;32m     15\u001b[0m         \u001b[0mU1\u001b[0m \u001b[1;33m=\u001b[0m \u001b[0mwbm\u001b[0m\u001b[1;33m.\u001b[0m\u001b[0mhist\u001b[0m\u001b[1;33m.\u001b[0m\u001b[0mU_t\u001b[0m\u001b[1;33m[\u001b[0m\u001b[1;33m-\u001b[0m\u001b[1;36m1\u001b[0m\u001b[1;33m]\u001b[0m\u001b[1;33m\u001b[0m\u001b[1;33m\u001b[0m\u001b[0m\n",
      "\u001b[1;32md:\\homam\\synced\\programming\\python\\bmcs_shell\\bmcs_shell\\folding\\wb_shell_analysis.py\u001b[0m in \u001b[0;36mget_max_vals\u001b[1;34m(self)\u001b[0m\n\u001b[0;32m    144\u001b[0m \u001b[1;33m\u001b[0m\u001b[0m\n\u001b[0;32m    145\u001b[0m     \u001b[1;32mdef\u001b[0m \u001b[0mget_max_vals\u001b[0m\u001b[1;33m(\u001b[0m\u001b[0mself\u001b[0m\u001b[1;33m)\u001b[0m\u001b[1;33m:\u001b[0m\u001b[1;33m\u001b[0m\u001b[1;33m\u001b[0m\u001b[0m\n\u001b[1;32m--> 146\u001b[1;33m         \u001b[0mself\u001b[0m\u001b[1;33m.\u001b[0m\u001b[0mrun\u001b[0m\u001b[1;33m(\u001b[0m\u001b[1;33m)\u001b[0m\u001b[1;33m\u001b[0m\u001b[1;33m\u001b[0m\u001b[0m\n\u001b[0m\u001b[0;32m    147\u001b[0m         \u001b[0mU_1\u001b[0m \u001b[1;33m=\u001b[0m \u001b[0mself\u001b[0m\u001b[1;33m.\u001b[0m\u001b[0mhist\u001b[0m\u001b[1;33m.\u001b[0m\u001b[0mU_t\u001b[0m\u001b[1;33m[\u001b[0m\u001b[1;33m-\u001b[0m\u001b[1;36m1\u001b[0m\u001b[1;33m]\u001b[0m\u001b[1;33m\u001b[0m\u001b[1;33m\u001b[0m\u001b[0m\n\u001b[0;32m    148\u001b[0m         \u001b[0mU_max\u001b[0m \u001b[1;33m=\u001b[0m \u001b[0mnp\u001b[0m\u001b[1;33m.\u001b[0m\u001b[0mmax\u001b[0m\u001b[1;33m(\u001b[0m\u001b[0mnp\u001b[0m\u001b[1;33m.\u001b[0m\u001b[0mfabs\u001b[0m\u001b[1;33m(\u001b[0m\u001b[0mU_1\u001b[0m\u001b[1;33m)\u001b[0m\u001b[1;33m)\u001b[0m\u001b[1;33m\u001b[0m\u001b[1;33m\u001b[0m\u001b[0m\n",
      "\u001b[1;32md:\\homam\\synced\\programming\\python\\bmcs_shell\\bmcs_shell\\folding\\wb_shell_analysis.py\u001b[0m in \u001b[0;36mrun\u001b[1;34m(self)\u001b[0m\n\u001b[0;32m    141\u001b[0m         \u001b[0ms\u001b[0m\u001b[1;33m.\u001b[0m\u001b[0mtline\u001b[0m\u001b[1;33m.\u001b[0m\u001b[0mstep\u001b[0m \u001b[1;33m=\u001b[0m \u001b[1;36m1\u001b[0m\u001b[1;33m\u001b[0m\u001b[1;33m\u001b[0m\u001b[0m\n\u001b[0;32m    142\u001b[0m         \u001b[0ms\u001b[0m\u001b[1;33m.\u001b[0m\u001b[0mtloop\u001b[0m\u001b[1;33m.\u001b[0m\u001b[0mverbose\u001b[0m \u001b[1;33m=\u001b[0m \u001b[1;32mFalse\u001b[0m\u001b[1;33m\u001b[0m\u001b[1;33m\u001b[0m\u001b[0m\n\u001b[1;32m--> 143\u001b[1;33m         \u001b[0ms\u001b[0m\u001b[1;33m.\u001b[0m\u001b[0mrun\u001b[0m\u001b[1;33m(\u001b[0m\u001b[1;33m)\u001b[0m\u001b[1;33m\u001b[0m\u001b[1;33m\u001b[0m\u001b[0m\n\u001b[0m\u001b[0;32m    144\u001b[0m \u001b[1;33m\u001b[0m\u001b[0m\n\u001b[0;32m    145\u001b[0m     \u001b[1;32mdef\u001b[0m \u001b[0mget_max_vals\u001b[0m\u001b[1;33m(\u001b[0m\u001b[0mself\u001b[0m\u001b[1;33m)\u001b[0m\u001b[1;33m:\u001b[0m\u001b[1;33m\u001b[0m\u001b[1;33m\u001b[0m\u001b[0m\n",
      "\u001b[1;32md:\\homam\\synced\\programming\\python\\bmcs_ibvpy\\ibvpy\\sim\\sim_base.py\u001b[0m in \u001b[0;36mrun\u001b[1;34m(self)\u001b[0m\n\u001b[0;32m     57\u001b[0m         r'''Run a thread if it does not exist - do nothing otherwise\n\u001b[0;32m     58\u001b[0m         '''\n\u001b[1;32m---> 59\u001b[1;33m         \u001b[0mself\u001b[0m\u001b[1;33m.\u001b[0m\u001b[0mtloop\u001b[0m\u001b[1;33m(\u001b[0m\u001b[1;33m)\u001b[0m\u001b[1;33m\u001b[0m\u001b[1;33m\u001b[0m\u001b[0m\n\u001b[0m\u001b[0;32m     60\u001b[0m         \u001b[1;32mreturn\u001b[0m\u001b[1;33m\u001b[0m\u001b[1;33m\u001b[0m\u001b[0m\n\u001b[0;32m     61\u001b[0m \u001b[1;33m\u001b[0m\u001b[0m\n",
      "\u001b[1;32md:\\homam\\synced\\programming\\python\\bmcs_ibvpy\\ibvpy\\sim\\tloop.py\u001b[0m in \u001b[0;36m__call__\u001b[1;34m(self)\u001b[0m\n\u001b[0;32m     63\u001b[0m     \u001b[1;32mdef\u001b[0m \u001b[0m__call__\u001b[0m\u001b[1;33m(\u001b[0m\u001b[0mself\u001b[0m\u001b[1;33m)\u001b[0m\u001b[1;33m:\u001b[0m\u001b[1;33m\u001b[0m\u001b[1;33m\u001b[0m\u001b[0m\n\u001b[0;32m     64\u001b[0m         \u001b[0mself\u001b[0m\u001b[1;33m.\u001b[0m\u001b[0minit\u001b[0m\u001b[1;33m(\u001b[0m\u001b[1;33m)\u001b[0m\u001b[1;33m\u001b[0m\u001b[1;33m\u001b[0m\u001b[0m\n\u001b[1;32m---> 65\u001b[1;33m         \u001b[1;32mreturn\u001b[0m \u001b[0mself\u001b[0m\u001b[1;33m.\u001b[0m\u001b[0meval\u001b[0m\u001b[1;33m(\u001b[0m\u001b[1;33m)\u001b[0m\u001b[1;33m\u001b[0m\u001b[1;33m\u001b[0m\u001b[0m\n\u001b[0m",
      "\u001b[1;32md:\\homam\\synced\\programming\\python\\bmcs_ibvpy\\ibvpy\\sim\\tloop_implicit.py\u001b[0m in \u001b[0;36meval\u001b[1;34m(self)\u001b[0m\n\u001b[0;32m     43\u001b[0m                     \u001b[0mself\u001b[0m\u001b[1;33m.\u001b[0m\u001b[0mtstep\u001b[0m\u001b[1;33m.\u001b[0m\u001b[0mmake_iter\u001b[0m\u001b[1;33m(\u001b[0m\u001b[1;33m)\u001b[0m\u001b[1;33m\u001b[0m\u001b[1;33m\u001b[0m\u001b[0m\n\u001b[0;32m     44\u001b[0m                 \u001b[1;32mexcept\u001b[0m \u001b[0mRuntimeError\u001b[0m \u001b[1;32mas\u001b[0m \u001b[0me\u001b[0m\u001b[1;33m:\u001b[0m\u001b[1;33m\u001b[0m\u001b[1;33m\u001b[0m\u001b[0m\n\u001b[1;32m---> 45\u001b[1;33m                     \u001b[1;32mraise\u001b[0m\u001b[1;33m(\u001b[0m\u001b[0me\u001b[0m\u001b[1;33m)\u001b[0m\u001b[1;33m\u001b[0m\u001b[1;33m\u001b[0m\u001b[0m\n\u001b[0m\u001b[0;32m     46\u001b[0m                 \u001b[0mk\u001b[0m \u001b[1;33m+=\u001b[0m \u001b[1;36m1\u001b[0m\u001b[1;33m\u001b[0m\u001b[1;33m\u001b[0m\u001b[0m\n\u001b[0;32m     47\u001b[0m             \u001b[1;32melse\u001b[0m\u001b[1;33m:\u001b[0m  \u001b[1;31m# handle unfinished iteration loop\u001b[0m\u001b[1;33m\u001b[0m\u001b[1;33m\u001b[0m\u001b[0m\n",
      "\u001b[1;32md:\\homam\\synced\\programming\\python\\bmcs_ibvpy\\ibvpy\\sim\\tloop_implicit.py\u001b[0m in \u001b[0;36meval\u001b[1;34m(self)\u001b[0m\n\u001b[0;32m     41\u001b[0m                     \u001b[1;32mbreak\u001b[0m\u001b[1;33m\u001b[0m\u001b[1;33m\u001b[0m\u001b[0m\n\u001b[0;32m     42\u001b[0m                 \u001b[1;32mtry\u001b[0m\u001b[1;33m:\u001b[0m\u001b[1;33m\u001b[0m\u001b[1;33m\u001b[0m\u001b[0m\n\u001b[1;32m---> 43\u001b[1;33m                     \u001b[0mself\u001b[0m\u001b[1;33m.\u001b[0m\u001b[0mtstep\u001b[0m\u001b[1;33m.\u001b[0m\u001b[0mmake_iter\u001b[0m\u001b[1;33m(\u001b[0m\u001b[1;33m)\u001b[0m\u001b[1;33m\u001b[0m\u001b[1;33m\u001b[0m\u001b[0m\n\u001b[0m\u001b[0;32m     44\u001b[0m                 \u001b[1;32mexcept\u001b[0m \u001b[0mRuntimeError\u001b[0m \u001b[1;32mas\u001b[0m \u001b[0me\u001b[0m\u001b[1;33m:\u001b[0m\u001b[1;33m\u001b[0m\u001b[1;33m\u001b[0m\u001b[0m\n\u001b[0;32m     45\u001b[0m                     \u001b[1;32mraise\u001b[0m\u001b[1;33m(\u001b[0m\u001b[0me\u001b[0m\u001b[1;33m)\u001b[0m\u001b[1;33m\u001b[0m\u001b[1;33m\u001b[0m\u001b[0m\n",
      "\u001b[1;32md:\\homam\\synced\\programming\\python\\bmcs_ibvpy\\ibvpy\\sim\\tstep_bc.py\u001b[0m in \u001b[0;36mmake_iter\u001b[1;34m(self)\u001b[0m\n\u001b[0;32m    147\u001b[0m         '''Perform a single iteration\n\u001b[0;32m    148\u001b[0m         '''\n\u001b[1;32m--> 149\u001b[1;33m         \u001b[0md_U_k\u001b[0m\u001b[1;33m,\u001b[0m \u001b[0mpos_def\u001b[0m \u001b[1;33m=\u001b[0m \u001b[0mself\u001b[0m\u001b[1;33m.\u001b[0m\u001b[0mK\u001b[0m\u001b[1;33m.\u001b[0m\u001b[0msolve\u001b[0m\u001b[1;33m(\u001b[0m\u001b[0mcheck_pos_def\u001b[0m\u001b[1;33m=\u001b[0m\u001b[1;32mTrue\u001b[0m\u001b[1;33m)\u001b[0m\u001b[1;33m\u001b[0m\u001b[1;33m\u001b[0m\u001b[0m\n\u001b[0m\u001b[0;32m    150\u001b[0m         \u001b[1;32mif\u001b[0m \u001b[0mself\u001b[0m\u001b[1;33m.\u001b[0m\u001b[0mdebug\u001b[0m\u001b[1;33m:\u001b[0m\u001b[1;33m\u001b[0m\u001b[1;33m\u001b[0m\u001b[0m\n\u001b[0;32m    151\u001b[0m             \u001b[0mprint\u001b[0m\u001b[1;33m(\u001b[0m\u001b[1;34m'positive definite'\u001b[0m\u001b[1;33m,\u001b[0m \u001b[0mpos_def\u001b[0m\u001b[1;33m)\u001b[0m\u001b[1;33m\u001b[0m\u001b[1;33m\u001b[0m\u001b[0m\n",
      "\u001b[1;32md:\\homam\\synced\\programming\\python\\bmcs_ibvpy\\ibvpy\\mathkit\\linalg\\sys_mtx_assembly.py\u001b[0m in \u001b[0;36msolve\u001b[1;34m(self, rhs, matrix_type, check_pos_def)\u001b[0m\n\u001b[0;32m    267\u001b[0m \u001b[1;33m\u001b[0m\u001b[0m\n\u001b[0;32m    268\u001b[0m         \u001b[0mmtx\u001b[0m \u001b[1;33m=\u001b[0m \u001b[0mself\u001b[0m\u001b[1;33m.\u001b[0m\u001b[0mmatrix_type_\u001b[0m\u001b[1;33m(\u001b[0m\u001b[0massemb\u001b[0m\u001b[1;33m=\u001b[0m\u001b[0mself\u001b[0m\u001b[1;33m)\u001b[0m\u001b[1;33m\u001b[0m\u001b[1;33m\u001b[0m\u001b[0m\n\u001b[1;32m--> 269\u001b[1;33m         \u001b[1;32mreturn\u001b[0m \u001b[0mmtx\u001b[0m\u001b[1;33m.\u001b[0m\u001b[0msolve\u001b[0m\u001b[1;33m(\u001b[0m\u001b[0mself\u001b[0m\u001b[1;33m.\u001b[0m\u001b[0m_rhs\u001b[0m\u001b[1;33m,\u001b[0m \u001b[0mcheck_pos_def\u001b[0m\u001b[1;33m)\u001b[0m\u001b[1;33m\u001b[0m\u001b[1;33m\u001b[0m\u001b[0m\n\u001b[0m\u001b[0;32m    270\u001b[0m \u001b[1;33m\u001b[0m\u001b[0m\n\u001b[0;32m    271\u001b[0m     \u001b[1;32mdef\u001b[0m \u001b[0mreset\u001b[0m\u001b[1;33m(\u001b[0m\u001b[0mself\u001b[0m\u001b[1;33m)\u001b[0m\u001b[1;33m:\u001b[0m\u001b[1;33m\u001b[0m\u001b[1;33m\u001b[0m\u001b[0m\n",
      "\u001b[1;32md:\\homam\\synced\\programming\\python\\bmcs_ibvpy\\ibvpy\\mathkit\\linalg\\coo_mtx.py\u001b[0m in \u001b[0;36msolve\u001b[1;34m(self, rhs, check_pos_dev)\u001b[0m\n\u001b[0;32m     77\u001b[0m         \u001b[0mpos_def\u001b[0m \u001b[1;33m=\u001b[0m \u001b[1;32mTrue\u001b[0m\u001b[1;33m\u001b[0m\u001b[1;33m\u001b[0m\u001b[0m\n\u001b[0;32m     78\u001b[0m         \u001b[1;32mif\u001b[0m \u001b[0mcheck_pos_dev\u001b[0m\u001b[1;33m:\u001b[0m\u001b[1;33m\u001b[0m\u001b[1;33m\u001b[0m\u001b[0m\n\u001b[1;32m---> 79\u001b[1;33m             \u001b[0mevals_small\u001b[0m\u001b[1;33m,\u001b[0m \u001b[0mevecs_small\u001b[0m \u001b[1;33m=\u001b[0m \u001b[0meigsh\u001b[0m\u001b[1;33m(\u001b[0m\u001b[0mmtx_csr\u001b[0m\u001b[1;33m,\u001b[0m \u001b[1;36m3\u001b[0m\u001b[1;33m,\u001b[0m \u001b[0msigma\u001b[0m\u001b[1;33m=\u001b[0m\u001b[1;36m0\u001b[0m\u001b[1;33m,\u001b[0m \u001b[0mwhich\u001b[0m\u001b[1;33m=\u001b[0m\u001b[1;34m'LM'\u001b[0m\u001b[1;33m)\u001b[0m\u001b[1;33m\u001b[0m\u001b[1;33m\u001b[0m\u001b[0m\n\u001b[0m\u001b[0;32m     80\u001b[0m             \u001b[0mmin_eval\u001b[0m \u001b[1;33m=\u001b[0m \u001b[0mnp\u001b[0m\u001b[1;33m.\u001b[0m\u001b[0mmin\u001b[0m\u001b[1;33m(\u001b[0m\u001b[0mevals_small\u001b[0m\u001b[1;33m)\u001b[0m\u001b[1;33m\u001b[0m\u001b[1;33m\u001b[0m\u001b[0m\n\u001b[0;32m     81\u001b[0m             \u001b[0mpos_def\u001b[0m \u001b[1;33m=\u001b[0m \u001b[0mmin_eval\u001b[0m \u001b[1;33m>\u001b[0m \u001b[1;36m1e-10\u001b[0m\u001b[1;33m\u001b[0m\u001b[1;33m\u001b[0m\u001b[0m\n",
      "\u001b[1;32m~\\miniconda3\\envs\\bmcs_env\\lib\\site-packages\\scipy\\sparse\\linalg\\eigen\\arpack\\arpack.py\u001b[0m in \u001b[0;36meigsh\u001b[1;34m(A, k, M, sigma, which, v0, ncv, maxiter, tol, return_eigenvectors, Minv, OPinv, mode)\u001b[0m\n\u001b[0;32m   1642\u001b[0m             \u001b[0mmatvec\u001b[0m \u001b[1;33m=\u001b[0m \u001b[1;32mNone\u001b[0m\u001b[1;33m\u001b[0m\u001b[1;33m\u001b[0m\u001b[0m\n\u001b[0;32m   1643\u001b[0m             \u001b[1;32mif\u001b[0m \u001b[0mOPinv\u001b[0m \u001b[1;32mis\u001b[0m \u001b[1;32mNone\u001b[0m\u001b[1;33m:\u001b[0m\u001b[1;33m\u001b[0m\u001b[1;33m\u001b[0m\u001b[0m\n\u001b[1;32m-> 1644\u001b[1;33m                 Minv_matvec = get_OPinv_matvec(A, M, sigma,\n\u001b[0m\u001b[0;32m   1645\u001b[0m                                                hermitian=True, tol=tol)\n\u001b[0;32m   1646\u001b[0m             \u001b[1;32melse\u001b[0m\u001b[1;33m:\u001b[0m\u001b[1;33m\u001b[0m\u001b[1;33m\u001b[0m\u001b[0m\n",
      "\u001b[1;32m~\\miniconda3\\envs\\bmcs_env\\lib\\site-packages\\scipy\\sparse\\linalg\\eigen\\arpack\\arpack.py\u001b[0m in \u001b[0;36mget_OPinv_matvec\u001b[1;34m(A, M, sigma, hermitian, tol)\u001b[0m\n\u001b[0;32m   1056\u001b[0m \u001b[1;32mdef\u001b[0m \u001b[0mget_OPinv_matvec\u001b[0m\u001b[1;33m(\u001b[0m\u001b[0mA\u001b[0m\u001b[1;33m,\u001b[0m \u001b[0mM\u001b[0m\u001b[1;33m,\u001b[0m \u001b[0msigma\u001b[0m\u001b[1;33m,\u001b[0m \u001b[0mhermitian\u001b[0m\u001b[1;33m=\u001b[0m\u001b[1;32mFalse\u001b[0m\u001b[1;33m,\u001b[0m \u001b[0mtol\u001b[0m\u001b[1;33m=\u001b[0m\u001b[1;36m0\u001b[0m\u001b[1;33m)\u001b[0m\u001b[1;33m:\u001b[0m\u001b[1;33m\u001b[0m\u001b[1;33m\u001b[0m\u001b[0m\n\u001b[0;32m   1057\u001b[0m     \u001b[1;32mif\u001b[0m \u001b[0msigma\u001b[0m \u001b[1;33m==\u001b[0m \u001b[1;36m0\u001b[0m\u001b[1;33m:\u001b[0m\u001b[1;33m\u001b[0m\u001b[1;33m\u001b[0m\u001b[0m\n\u001b[1;32m-> 1058\u001b[1;33m         \u001b[1;32mreturn\u001b[0m \u001b[0mget_inv_matvec\u001b[0m\u001b[1;33m(\u001b[0m\u001b[0mA\u001b[0m\u001b[1;33m,\u001b[0m \u001b[0mhermitian\u001b[0m\u001b[1;33m=\u001b[0m\u001b[0mhermitian\u001b[0m\u001b[1;33m,\u001b[0m \u001b[0mtol\u001b[0m\u001b[1;33m=\u001b[0m\u001b[0mtol\u001b[0m\u001b[1;33m)\u001b[0m\u001b[1;33m\u001b[0m\u001b[1;33m\u001b[0m\u001b[0m\n\u001b[0m\u001b[0;32m   1059\u001b[0m \u001b[1;33m\u001b[0m\u001b[0m\n\u001b[0;32m   1060\u001b[0m     \u001b[1;32mif\u001b[0m \u001b[0mM\u001b[0m \u001b[1;32mis\u001b[0m \u001b[1;32mNone\u001b[0m\u001b[1;33m:\u001b[0m\u001b[1;33m\u001b[0m\u001b[1;33m\u001b[0m\u001b[0m\n",
      "\u001b[1;32m~\\miniconda3\\envs\\bmcs_env\\lib\\site-packages\\scipy\\sparse\\linalg\\eigen\\arpack\\arpack.py\u001b[0m in \u001b[0;36mget_inv_matvec\u001b[1;34m(M, hermitian, tol)\u001b[0m\n\u001b[0;32m   1049\u001b[0m     \u001b[1;32melif\u001b[0m \u001b[0misspmatrix\u001b[0m\u001b[1;33m(\u001b[0m\u001b[0mM\u001b[0m\u001b[1;33m)\u001b[0m \u001b[1;32mor\u001b[0m \u001b[0mis_pydata_spmatrix\u001b[0m\u001b[1;33m(\u001b[0m\u001b[0mM\u001b[0m\u001b[1;33m)\u001b[0m\u001b[1;33m:\u001b[0m\u001b[1;33m\u001b[0m\u001b[1;33m\u001b[0m\u001b[0m\n\u001b[0;32m   1050\u001b[0m         \u001b[0mM\u001b[0m \u001b[1;33m=\u001b[0m \u001b[0m_fast_spmatrix_to_csc\u001b[0m\u001b[1;33m(\u001b[0m\u001b[0mM\u001b[0m\u001b[1;33m,\u001b[0m \u001b[0mhermitian\u001b[0m\u001b[1;33m=\u001b[0m\u001b[0mhermitian\u001b[0m\u001b[1;33m)\u001b[0m\u001b[1;33m\u001b[0m\u001b[1;33m\u001b[0m\u001b[0m\n\u001b[1;32m-> 1051\u001b[1;33m         \u001b[1;32mreturn\u001b[0m \u001b[0mSpLuInv\u001b[0m\u001b[1;33m(\u001b[0m\u001b[0mM\u001b[0m\u001b[1;33m)\u001b[0m\u001b[1;33m.\u001b[0m\u001b[0mmatvec\u001b[0m\u001b[1;33m\u001b[0m\u001b[1;33m\u001b[0m\u001b[0m\n\u001b[0m\u001b[0;32m   1052\u001b[0m     \u001b[1;32melse\u001b[0m\u001b[1;33m:\u001b[0m\u001b[1;33m\u001b[0m\u001b[1;33m\u001b[0m\u001b[0m\n\u001b[0;32m   1053\u001b[0m         \u001b[1;32mreturn\u001b[0m \u001b[0mIterInv\u001b[0m\u001b[1;33m(\u001b[0m\u001b[0mM\u001b[0m\u001b[1;33m,\u001b[0m \u001b[0mtol\u001b[0m\u001b[1;33m=\u001b[0m\u001b[0mtol\u001b[0m\u001b[1;33m)\u001b[0m\u001b[1;33m.\u001b[0m\u001b[0mmatvec\u001b[0m\u001b[1;33m\u001b[0m\u001b[1;33m\u001b[0m\u001b[0m\n",
      "\u001b[1;32m~\\miniconda3\\envs\\bmcs_env\\lib\\site-packages\\scipy\\sparse\\linalg\\eigen\\arpack\\arpack.py\u001b[0m in \u001b[0;36m__init__\u001b[1;34m(self, M)\u001b[0m\n\u001b[0;32m    911\u001b[0m     \"\"\"\n\u001b[0;32m    912\u001b[0m     \u001b[1;32mdef\u001b[0m \u001b[0m__init__\u001b[0m\u001b[1;33m(\u001b[0m\u001b[0mself\u001b[0m\u001b[1;33m,\u001b[0m \u001b[0mM\u001b[0m\u001b[1;33m)\u001b[0m\u001b[1;33m:\u001b[0m\u001b[1;33m\u001b[0m\u001b[1;33m\u001b[0m\u001b[0m\n\u001b[1;32m--> 913\u001b[1;33m         \u001b[0mself\u001b[0m\u001b[1;33m.\u001b[0m\u001b[0mM_lu\u001b[0m \u001b[1;33m=\u001b[0m \u001b[0msplu\u001b[0m\u001b[1;33m(\u001b[0m\u001b[0mM\u001b[0m\u001b[1;33m)\u001b[0m\u001b[1;33m\u001b[0m\u001b[1;33m\u001b[0m\u001b[0m\n\u001b[0m\u001b[0;32m    914\u001b[0m         \u001b[0mself\u001b[0m\u001b[1;33m.\u001b[0m\u001b[0mshape\u001b[0m \u001b[1;33m=\u001b[0m \u001b[0mM\u001b[0m\u001b[1;33m.\u001b[0m\u001b[0mshape\u001b[0m\u001b[1;33m\u001b[0m\u001b[1;33m\u001b[0m\u001b[0m\n\u001b[0;32m    915\u001b[0m         \u001b[0mself\u001b[0m\u001b[1;33m.\u001b[0m\u001b[0mdtype\u001b[0m \u001b[1;33m=\u001b[0m \u001b[0mM\u001b[0m\u001b[1;33m.\u001b[0m\u001b[0mdtype\u001b[0m\u001b[1;33m\u001b[0m\u001b[1;33m\u001b[0m\u001b[0m\n",
      "\u001b[1;32m~\\miniconda3\\envs\\bmcs_env\\lib\\site-packages\\scipy\\sparse\\linalg\\dsolve\\linsolve.py\u001b[0m in \u001b[0;36msplu\u001b[1;34m(A, permc_spec, diag_pivot_thresh, relax, panel_size, options)\u001b[0m\n\u001b[0;32m    335\u001b[0m         \u001b[0m_options\u001b[0m\u001b[1;33m[\u001b[0m\u001b[1;34m\"SymmetricMode\"\u001b[0m\u001b[1;33m]\u001b[0m \u001b[1;33m=\u001b[0m \u001b[1;32mTrue\u001b[0m\u001b[1;33m\u001b[0m\u001b[1;33m\u001b[0m\u001b[0m\n\u001b[0;32m    336\u001b[0m \u001b[1;33m\u001b[0m\u001b[0m\n\u001b[1;32m--> 337\u001b[1;33m     return _superlu.gstrf(N, A.nnz, A.data, A.indices, A.indptr,\n\u001b[0m\u001b[0;32m    338\u001b[0m                           \u001b[0mcsc_construct_func\u001b[0m\u001b[1;33m=\u001b[0m\u001b[0mcsc_construct_func\u001b[0m\u001b[1;33m,\u001b[0m\u001b[1;33m\u001b[0m\u001b[1;33m\u001b[0m\u001b[0m\n\u001b[0;32m    339\u001b[0m                           ilu=False, options=_options)\n",
      "\u001b[1;31mRuntimeError\u001b[0m: Factor is exactly singular"
     ]
    }
   ],
   "source": [
    "tmodel = MATS2DElastic(E=28000, nu=0.2)\n",
    "import numpy as np\n",
    "U_grid = []\n",
    "sig_grid = []\n",
    "for alpha in alpha_range:\n",
    "    U_list = []\n",
    "    sig_list = []\n",
    "    for a in a_range:\n",
    "        wbm = WBShellAnalysis(F=-20000, h=10, tmodel=tmodel)\n",
    "        data = dict(alpha=alpha, a=a, a_high=2000, b=1250, b_high=2000, c=400, c_high=2000,\n",
    "                    n_phi_plus=n_phi_plus, n_x_plus=n_x_plus)\n",
    "        wbm.wb_mesh.trait_set(**data)\n",
    "        max_U = wbm.get_max_vals()\n",
    "        \n",
    "        U1 = wbm.hist.U_t[-1]\n",
    "        eps1 = wbm.fe_domain[0].xmodel.map_U_to_field(U1)\n",
    "        sig1, _ = wbm.fe_domain[0].tmodel.get_corr_pred(eps1,1)\n",
    "        sig_x, sig_y, tau = sig1.T\n",
    "        sig_ab = np.einsum('ab...->...ab', np.array([[sig_x, tau], [tau, sig_y]], dtype=np.float_))\n",
    "        sig_val, sig_dir = np.linalg.eig(sig_ab)\n",
    "        sig_list.append([np.min(sig_val), np.max(sig_val)])\n",
    "\n",
    "        print(alpha, a, max_U)\n",
    "        U_list.append(max_U)\n",
    "    U_grid.append(U_list)\n",
    "    sig_grid.append(sig_list)"
   ]
  },
  {
   "cell_type": "code",
   "execution_count": null,
   "metadata": {
    "pycharm": {
     "name": "#%%\n"
    },
    "slideshow": {
     "slide_type": "slide"
    }
   },
   "outputs": [],
   "source": [
    "from mpl_toolkits.mplot3d import Axes3D\n",
    "import matplotlib.pyplot as plt\n",
    "from matplotlib import cm\n",
    "from matplotlib.ticker import LinearLocator, FormatStrFormatter\n",
    "fig = plt.figure()\n",
    "ax = fig.gca(projection='3d')\n",
    "X, Y = np.meshgrid(alpha_range, a_range)\n",
    "Z = np.array(U_grid)\n",
    "surf = ax.plot_surface(X, Y, Z, \n",
    "                       color='green',\n",
    "                       #linewidth=0, antialiased=False)\n",
    "                    alpha=.0, linewidth=5,\n",
    "                       #cmap=cm.gist_earth,antialiased=False, \n",
    "                shade=False,rstride=1, cstride=1)\n",
    "Z = np.array(sig_grid)[:,:,1]\n",
    "surf = ax.plot_surface(X, Y, Z,color='red', \n",
    "                       #cmap=cm.copper,\n",
    "                    alpha=.3, linewidth=3,\n",
    "                       #cmap=cm.gist_earth,antialiased=False, \n",
    "                shade=False,rstride=1, cstride=1)\n",
    "Z = -np.array(sig_grid)[:,:,0]\n",
    "surf = ax.plot_surface(X, Y, Z,color='blue', \n",
    "                       #cmap=cm.copper,\n",
    "                    alpha=.6, linewidth=3,\n",
    "                       #cmap=cm.gist_earth,antialiased=False, \n",
    "                shade=False,rstride=1, cstride=1)\n",
    "ax.set_xlabel(r'$\\alpha~[\\mathrm{rad}]$')\n",
    "ax.set_ylabel(r'$a~[\\mathrm{mm}]$')\n",
    "ax.set_zlabel(r'max compression [MPa]')\n"
   ]
  },
  {
   "cell_type": "code",
   "execution_count": null,
   "metadata": {},
   "outputs": [],
   "source": [
    "i_alpha, i_a = 0, -1\n",
    "wbm = WBShellAnalysis(F=-1000, tmodel=tmodel)\n",
    "print('alpha', alpha_range[i_alpha],'a', a_range[i_a] )\n",
    "data = dict(alpha=alpha_range[i_alpha], \n",
    "            a=a_range[i_a], a_high=2000, b=1250, b_high=2000, c=400, c_high=2000,\n",
    "            n_phi_plus=n_phi_plus, n_x_plus=n_x_plus)\n",
    "wbm.wb_mesh.trait_set(**data)\n",
    "wbm.wb_mesh.interact()"
   ]
  },
  {
   "cell_type": "code",
   "execution_count": null,
   "metadata": {},
   "outputs": [],
   "source": [
    "15000 / 39000 "
   ]
  },
  {
   "cell_type": "code",
   "execution_count": null,
   "metadata": {},
   "outputs": [],
   "source": []
  }
 ],
 "metadata": {
  "kernelspec": {
   "display_name": "Python 3 (ipykernel)",
   "language": "python",
   "name": "python3"
  },
  "language_info": {
   "codemirror_mode": {
    "name": "ipython",
    "version": 3
   },
   "file_extension": ".py",
   "mimetype": "text/x-python",
   "name": "python",
   "nbconvert_exporter": "python",
   "pygments_lexer": "ipython3",
   "version": "3.9.7"
  },
  "toc": {
   "base_numbering": 1,
   "nav_menu": {},
   "number_sections": true,
   "sideBar": true,
   "skip_h1_title": true,
   "title_cell": "Table of Contents",
   "title_sidebar": "Contents",
   "toc_cell": false,
   "toc_position": {},
   "toc_section_display": true,
   "toc_window_display": false
  }
 },
 "nbformat": 4,
 "nbformat_minor": 4
}
