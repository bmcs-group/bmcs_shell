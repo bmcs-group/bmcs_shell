{
 "cells": [
  {
   "cell_type": "code",
   "execution_count": 25,
   "metadata": {},
   "outputs": [],
   "source": [
    "%matplotlib widget\n",
    "# %matplotlib qt\n",
    "from bmcs_shell.api import WBGeoUtils, WbParamDesigner, WBNumTessellation, WBTessellation4P, WBTessellation4PV2\n",
    "import numpy as np\n",
    "import k3d\n",
    "import matplotlib.pyplot as plt"
   ]
  },
  {
   "cell_type": "markdown",
   "metadata": {},
   "source": [
    "## Tested WB shell"
   ]
  },
  {
   "cell_type": "code",
   "execution_count": 51,
   "metadata": {
    "scrolled": false
   },
   "outputs": [
    {
     "data": {
      "application/vnd.jupyter.widget-view+json": {
       "model_id": "ddc0a82949ce4e54b6e89ac4ed4905bb",
       "version_major": 2,
       "version_minor": 0
      },
      "text/plain": [
       "VBox(children=(HBox(children=(VBox(children=(Tree(layout=Layout(align_items='stretch', border='solid 1px black…"
      ]
     },
     "metadata": {},
     "output_type": "display_data"
    }
   ],
   "source": [
    "tested_wb_shell = dict(a =125,  b = 550, c = 175, gamma=np.deg2rad(46), n_phi_plus=3, n_x_plus=2, wireframe_width=5)\n",
    "wbt4p = WBTessellation4P(**tested_wb_shell)\n",
    "wbt4p.interact()"
   ]
  },
  {
   "cell_type": "code",
   "execution_count": 52,
   "metadata": {},
   "outputs": [
    {
     "data": {
      "text/plain": [
       "271.6240234375"
      ]
     },
     "execution_count": 52,
     "metadata": {},
     "output_type": "execute_result"
    }
   ],
   "source": [
    "wb_p.get_shell_height(wbt4p)"
   ]
  },
  {
   "cell_type": "code",
   "execution_count": 49,
   "metadata": {},
   "outputs": [
    {
     "data": {
      "text/plain": [
       "501.7689301185279"
      ]
     },
     "execution_count": 49,
     "metadata": {},
     "output_type": "execute_result"
    }
   ],
   "source": [
    "wb_p.get_shell_width(wbt4p)"
   ]
  },
  {
   "cell_type": "code",
   "execution_count": 50,
   "metadata": {},
   "outputs": [
    {
     "data": {
      "text/plain": [
       "2058.1697998046875"
      ]
     },
     "execution_count": 50,
     "metadata": {},
     "output_type": "execute_result"
    }
   ],
   "source": [
    "wb_p.get_span(wbt4p)"
   ]
  },
  {
   "cell_type": "code",
   "execution_count": null,
   "metadata": {},
   "outputs": [],
   "source": [
    "wbt4p.wb_cell.R_0"
   ]
  },
  {
   "cell_type": "code",
   "execution_count": null,
   "metadata": {},
   "outputs": [],
   "source": [
    "# export_obj_file(wbt4p, 'wb_tested2.obj')"
   ]
  },
  {
   "cell_type": "markdown",
   "metadata": {},
   "source": [
    "## Parametric study"
   ]
  },
  {
   "cell_type": "code",
   "execution_count": 134,
   "metadata": {
    "scrolled": true
   },
   "outputs": [
    {
     "name": "stdout",
     "output_type": "stream",
     "text": [
      "Attention: Warnings are suppressed!\n",
      "gamma = 10.0°, path length= 122\n",
      "gamma = 11.5°, path length= 122\n",
      "gamma = 13.1°, path length= 123\n",
      "gamma = 14.6°, path length= 122\n",
      "gamma = 16.1°, path length= 121\n",
      "gamma = 17.7°, path length= 121\n",
      "gamma = 19.2°, path length= 122\n",
      "gamma = 20.7°, path length= 122\n",
      "gamma = 22.2°, path length= 123\n",
      "gamma = 23.8°, path length= 121\n",
      "gamma = 25.3°, path length= 122\n",
      "gamma = 26.8°, path length= 124\n",
      "gamma = 28.4°, path length= 123\n",
      "gamma = 29.9°, path length= 125\n",
      "gamma = 31.4°, path length= 127\n",
      "gamma = 33.0°, path length= 126\n",
      "gamma = 34.5°, path length= 125\n",
      "gamma = 36.0°, path length= 128\n",
      "gamma = 37.6°, path length= 127\n",
      "gamma = 39.1°, path length= 127\n",
      "gamma = 40.6°, path length= 128\n",
      "gamma = 42.1°, path length= 128\n",
      "gamma = 43.7°, path length= 128\n",
      "gamma = 45.2°, path length= 129\n",
      "gamma = 46.7°, path length= 130\n",
      "gamma = 48.3°, path length= 131\n",
      "gamma = 49.8°, path length= 132\n",
      "gamma = 51.3°, path length= 133\n",
      "gamma = 52.9°, path length= 137\n",
      "gamma = 54.4°, path length= 135\n",
      "gamma = 55.9°, path length= 139\n",
      "gamma = 57.4°, path length= 139\n",
      "gamma = 59.0°, path length= 143\n",
      "gamma = 60.5°, path length= 143\n",
      "gamma = 62.0°, path length= 144\n",
      "gamma = 63.6°, path length= 143\n",
      "gamma = 65.1°, path length= 141\n",
      "gamma = 66.6°, path length= 137\n",
      "gamma = 68.2°, path length= 136\n",
      "gamma = 69.7°, path length= 133\n",
      "gamma = 71.2°, path length= 131\n",
      "gamma = 72.8°, path length= 126\n",
      "gamma = 74.3°, path length= 131\n",
      "gamma = 75.8°, path length= 121\n",
      "gamma = 77.3°, path length= 119\n",
      "gamma = 78.9°, path length= 116\n",
      "gamma = 80.4°, path length= 113\n",
      "gamma = 81.9°, path length= 114\n",
      "gamma = 83.5°, path length= 108\n",
      "gamma = 85.0°, path length= 105\n",
      "gamma = 10.0°, path length= 126\n",
      "gamma = 11.5°, path length= 126\n",
      "gamma = 13.1°, path length= 126\n",
      "gamma = 14.6°, path length= 126\n",
      "gamma = 16.1°, path length= 127\n",
      "gamma = 17.7°, path length= 125\n",
      "gamma = 19.2°, path length= 126\n",
      "gamma = 20.7°, path length= 127\n",
      "gamma = 22.2°, path length= 125\n",
      "gamma = 23.8°, path length= 125\n",
      "gamma = 25.3°, path length= 126\n",
      "gamma = 26.8°, path length= 128\n",
      "gamma = 28.4°, path length= 126\n",
      "gamma = 29.9°, path length= 126\n",
      "gamma = 31.4°, path length= 127\n",
      "gamma = 33.0°, path length= 126\n",
      "gamma = 34.5°, path length= 127\n",
      "gamma = 36.0°, path length= 128\n",
      "gamma = 37.6°, path length= 128\n",
      "gamma = 39.1°, path length= 128\n",
      "gamma = 40.6°, path length= 131\n",
      "gamma = 42.1°, path length= 131\n",
      "gamma = 43.7°, path length= 130\n",
      "gamma = 45.2°, path length= 131\n",
      "gamma = 46.7°, path length= 132\n",
      "gamma = 48.3°, path length= 133\n",
      "gamma = 49.8°, path length= 135\n",
      "gamma = 51.3°, path length= 135\n",
      "gamma = 52.9°, path length= 136\n",
      "gamma = 54.4°, path length= 140\n",
      "gamma = 55.9°, path length= 141\n",
      "gamma = 57.4°, path length= 145\n",
      "gamma = 59.0°, path length= 143\n",
      "gamma = 60.5°, path length= 145\n",
      "gamma = 62.0°, path length= 144\n",
      "gamma = 63.6°, path length= 140\n",
      "gamma = 65.1°, path length= 138\n",
      "gamma = 66.6°, path length= 135\n",
      "gamma = 68.2°, path length= 134\n",
      "gamma = 69.7°, path length= 131\n",
      "gamma = 71.2°, path length= 128\n",
      "gamma = 72.8°, path length= 126\n",
      "gamma = 74.3°, path length= 128\n",
      "gamma = 75.8°, path length= 123\n",
      "gamma = 77.3°, path length= 120\n",
      "gamma = 78.9°, path length= 118\n",
      "gamma = 80.4°, path length= 115\n",
      "gamma = 81.9°, path length= 114\n",
      "gamma = 83.5°, path length= 110\n",
      "gamma = 85.0°, path length= 107\n",
      "gamma = 10.0°, path length= 12\n",
      "gamma = 11.5°, path length= 12\n",
      "gamma = 13.1°, path length= 13\n",
      "gamma = 14.6°, path length= 13\n",
      "gamma = 16.1°, path length= 14\n",
      "gamma = 17.7°, path length= 12\n",
      "gamma = 19.2°, path length= 12\n",
      "gamma = 20.7°, path length= 11\n",
      "gamma = 22.2°, path length= 12\n",
      "gamma = 23.8°, path length= 10\n",
      "gamma = 25.3°, path length= 11\n",
      "gamma = 26.8°, path length= 11\n",
      "gamma = 28.4°, path length= 11\n",
      "gamma = 29.9°, path length= 9\n",
      "gamma = 31.4°, path length= 10\n",
      "gamma = 33.0°, path length= 9\n",
      "gamma = 34.5°, path length= 6\n",
      "gamma = 36.0°, path length= 131\n",
      "gamma = 37.6°, path length= 132\n",
      "gamma = 39.1°, path length= 130\n",
      "gamma = 40.6°, path length= 130\n",
      "gamma = 42.1°, path length= 131\n",
      "gamma = 43.7°, path length= 132\n",
      "gamma = 45.2°, path length= 133\n",
      "gamma = 46.7°, path length= 134\n",
      "gamma = 48.3°, path length= 134\n",
      "gamma = 49.8°, path length= 136\n",
      "gamma = 51.3°, path length= 139\n",
      "gamma = 52.9°, path length= 141\n",
      "gamma = 54.4°, path length= 144\n",
      "gamma = 55.9°, path length= 146\n",
      "gamma = 57.4°, path length= 149\n",
      "gamma = 59.0°, path length= 148\n",
      "gamma = 60.5°, path length= 146\n",
      "gamma = 62.0°, path length= 144\n",
      "gamma = 63.6°, path length= 144\n",
      "gamma = 65.1°, path length= 139\n",
      "gamma = 66.6°, path length= 138\n",
      "gamma = 68.2°, path length= 135\n",
      "gamma = 69.7°, path length= 132\n",
      "gamma = 71.2°, path length= 130\n",
      "gamma = 72.8°, path length= 130\n",
      "gamma = 74.3°, path length= 125\n",
      "gamma = 75.8°, path length= 123\n",
      "gamma = 77.3°, path length= 120\n",
      "gamma = 78.9°, path length= 117\n",
      "gamma = 80.4°, path length= 114\n",
      "gamma = 81.9°, path length= 112\n",
      "gamma = 83.5°, path length= 109\n",
      "gamma = 85.0°, path length= 106\n",
      "valid_params= [{'a': 150.0, 'b': 334.9625169740877, 'c': 138.40994828897482, 'gamma': 0.8074604501704515, 'n_phi_plus': 4}, {'a': 175.0, 'b': 350.5894897509128, 'c': 159.8911507701505, 'gamma': 0.4883166638254845, 'n_phi_plus': 4}, {'a': 200.0, 'b': 373.19740961906575, 'c': 197.3843628100437, 'gamma': 0.2561290337283894, 'n_phi_plus': 4}]\n"
     ]
    }
   ],
   "source": [
    "wb_p = WbParamDesigner(n=100, \n",
    "         n_mid_cells=3,\n",
    "         a_range = [150, 175, 200],\n",
    "         gamma_range=np.linspace(10, 85, 50),\n",
    "         var1={'name':'span', 'value':1800},\n",
    "         var2={'name':'height', 'value':300}, # r/s = 1/4.5\n",
    "         var3={'name':'width', 'value':500})\n",
    "valid_params = wb_p.calc_valid_params()\n",
    "# wb_p.plot_eta_zeta_var1(a_i=0, gamma_i=0)"
   ]
  },
  {
   "cell_type": "code",
   "execution_count": 140,
   "metadata": {},
   "outputs": [],
   "source": [
    "valid_params_3_cells_span_1800_height_300_width_500=valid_params= [{'a': 50.0, 'b': 323.57020414338484, 'c': 203.9192890522306, 'gamma': 1.3743265742309068, 'n_phi_plus': 4}, {'a': 75.0, 'b': 324.1608857200621, 'c': 180.49944236370612, 'gamma': 1.3233110805408672, 'n_phi_plus': 4}, {'a': 100.0, 'b': 325.33872887313026, 'c': 158.69006461083, 'gamma': 1.2382830350132779, 'n_phi_plus': 4}, {'a': 125.0, 'b': 328.12276264060944, 'c': 141.44420701221793, 'gamma': 1.0837971138401712, 'n_phi_plus': 4}, {'a': 150.0, 'b': 334.9625169740877, 'c': 138.40994828897482, 'gamma': 0.8074604501704515, 'n_phi_plus': 4}, {'a': 175.0, 'b': 350.5894897509128, 'c': 159.8911507701505, 'gamma': 0.4883166638254845, 'n_phi_plus': 4}, {'a': 200.0, 'b': 373.19740961906575, 'c': 197.3843628100437, 'gamma': 0.2561290337283894, 'n_phi_plus': 4}]\n",
    "\n",
    "valid_params_2_cells_span_1800_height_300_width_500= valid_params= [{'a': 50.0, 'b': 488.7096992126691, 'c': 219.35035456988965, 'gamma': 1.1474627907495765, 'n_phi_plus': 3}, {'a': 75.0, 'b': 490.49365795443356, 'c': 201.23489828631506, 'gamma': 1.0544352782787323, 'n_phi_plus': 3}, {'a': 100.0, 'b': 493.47789764898204, 'c': 188.08268555670807, 'gamma': 0.9231728219305352, 'n_phi_plus': 3}, {'a': 125.0, 'b': 498.98924772523196, 'c': 184.16057467325248, 'gamma': 0.7460842175215365, 'n_phi_plus': 3}]"
   ]
  },
  {
   "cell_type": "code",
   "execution_count": 27,
   "metadata": {
    "collapsed": true
   },
   "outputs": [
    {
     "data": {
      "application/vnd.jupyter.widget-view+json": {
       "model_id": "c6a15718a5db42b89282c4c1a8562e65",
       "version_major": 2,
       "version_minor": 0
      },
      "text/plain": [
       "VBox(children=(HBox(children=(VBox(children=(Tree(layout=Layout(align_items='stretch', border='solid 1px black…"
      ]
     },
     "metadata": {},
     "output_type": "display_data"
    }
   ],
   "source": [
    "WBTessellation4PV2(**valid_params[0], n_x_plus=2, wireframe_width=5).interact()"
   ]
  },
  {
   "cell_type": "code",
   "execution_count": 162,
   "metadata": {
    "scrolled": false
   },
   "outputs": [
    {
     "data": {
      "application/vnd.jupyter.widget-view+json": {
       "model_id": "90855b2a5acf4ed898b1bbd951af2def",
       "version_major": 2,
       "version_minor": 0
      },
      "text/plain": [
       "VBox(children=(HBox(children=(VBox(children=(Tree(layout=Layout(align_items='stretch', border='solid 1px black…"
      ]
     },
     "metadata": {},
     "output_type": "display_data"
    }
   ],
   "source": [
    "a = 100\n",
    "params = valid_params_3_cells_span_1800_height_300_width_500[2]\n",
    "wbt4p = WBTessellation4P(\n",
    "#                          a=100,\n",
    "#                          b = 5.492 * a,\n",
    "#                          c = 1.8466 * a,\n",
    "#                          gamma=np.deg2rad(54.53),\n",
    "#                          n_phi_plus=3,\n",
    "                        **params,\n",
    "                         n_x_plus=2,\n",
    "                         wireframe_width=5,\n",
    "                         trim_half_cells_along_y=True,\n",
    "                         trim_half_cells_along_x=True,\n",
    "                         align_outer_nodes_along_x=True,\n",
    ")\n",
    "wbt4p.interact()"
   ]
  },
  {
   "cell_type": "code",
   "execution_count": 91,
   "metadata": {},
   "outputs": [
    {
     "data": {
      "text/plain": [
       "[1.058324723867084, 1.0886270566017395, 1.1833877633845686, 1.2926684286805312]"
      ]
     },
     "execution_count": 91,
     "metadata": {},
     "output_type": "execute_result"
    }
   ],
   "source": [
    "Areas = []\n",
    "for params in valid_params:\n",
    "    Areas.append((2*params['a'] + 2*params['c'])*(4*params['b'])*1e-6)\n",
    "Areas"
   ]
  },
  {
   "cell_type": "code",
   "execution_count": 161,
   "metadata": {},
   "outputs": [
    {
     "data": {
      "text/plain": [
       "'span_1800_height_300_width_500_a_175_3_cells.obj'"
      ]
     },
     "execution_count": 161,
     "metadata": {},
     "output_type": "execute_result"
    }
   ],
   "source": [
    "# n_cells = wb_p.n_mid_cells\n",
    "n_cells = 3\n",
    "file_name = wb_p.var1['name'] + '_' + str(wb_p.var1['value']) + '_' + wb_p.var2['name'] + '_' + str(wb_p.var2['value']) + '_' + wb_p.var3['name'] + '_' + str(wb_p.var3['value'] ) +'_a_' + str(round(params['a'])) + '_' + str(n_cells) + '_cells.obj'\n",
    "WBGeoUtils.export_obj_file(wbt4p, file_name)\n",
    "file_name"
   ]
  },
  {
   "cell_type": "code",
   "execution_count": 126,
   "metadata": {},
   "outputs": [
    {
     "data": {
      "text/plain": [
       "300.0723876953125"
      ]
     },
     "execution_count": 126,
     "metadata": {},
     "output_type": "execute_result"
    }
   ],
   "source": [
    "wb_p.get_shell_height(wbt4p)"
   ]
  },
  {
   "cell_type": "code",
   "execution_count": 127,
   "metadata": {},
   "outputs": [
    {
     "data": {
      "text/plain": [
       "499.9993208966659"
      ]
     },
     "execution_count": 127,
     "metadata": {},
     "output_type": "execute_result"
    }
   ],
   "source": [
    "wb_p.get_shell_width(wbt4p)"
   ]
  },
  {
   "cell_type": "code",
   "execution_count": 128,
   "metadata": {},
   "outputs": [
    {
     "data": {
      "text/plain": [
       "1800.1632080078125"
      ]
     },
     "execution_count": 128,
     "metadata": {},
     "output_type": "execute_result"
    }
   ],
   "source": [
    "wb_p.get_span(wbt4p)"
   ]
  },
  {
   "cell_type": "markdown",
   "metadata": {},
   "source": [
    "### TODO: Pack ALL possible values in a up to 6 dimensions numpy array (design space array)"
   ]
  },
  {
   "cell_type": "code",
   "execution_count": null,
   "metadata": {},
   "outputs": [],
   "source": [
    "path = np.array([[-500., 0., -1000.], [500., 0., -1000.]])\n",
    "add_circle(wbt4p.pb.plot_fig, path = path, r=1000.)"
   ]
  },
  {
   "cell_type": "code",
   "execution_count": null,
   "metadata": {
    "scrolled": false
   },
   "outputs": [],
   "source": [
    "a = 100\n",
    "wbt4p = WBTessellation4P(\n",
    "#                          a=100,\n",
    "#                          b = 5.492 * a, \n",
    "#                          c = 1.8466 * a, \n",
    "#                          gamma=np.deg2rad(54.53), \n",
    "#                          n_phi_plus=3, \n",
    "                        **valid_params_4[2],\n",
    "                         n_x_plus=2, \n",
    "                         wireframe_width=5)\n",
    "wbt4p.interact()"
   ]
  },
  {
   "cell_type": "code",
   "execution_count": 3,
   "metadata": {},
   "outputs": [],
   "source": [
    "WBGeoUtils.export_obj_file(wbt4p, 'span_2000_w_500_h_300_a_150_4_cells.obj')"
   ]
  },
  {
   "cell_type": "code",
   "execution_count": 5,
   "metadata": {},
   "outputs": [
    {
     "data": {
      "text/plain": [
       "501.12274169921875"
      ]
     },
     "execution_count": 5,
     "metadata": {},
     "output_type": "execute_result"
    }
   ],
   "source": [
    "wb_p.get_shell_height(wbt4p, n_mid_cells=4)"
   ]
  },
  {
   "cell_type": "code",
   "execution_count": 6,
   "metadata": {},
   "outputs": [
    {
     "data": {
      "text/plain": [
       "499.9925638574704"
      ]
     },
     "execution_count": 6,
     "metadata": {},
     "output_type": "execute_result"
    }
   ],
   "source": [
    "wb_p.get_shell_width(wbt4p, n_mid_cells=4)"
   ]
  },
  {
   "cell_type": "code",
   "execution_count": 7,
   "metadata": {},
   "outputs": [
    {
     "data": {
      "text/plain": [
       "2119.295166015625"
      ]
     },
     "execution_count": 7,
     "metadata": {},
     "output_type": "execute_result"
    }
   ],
   "source": [
    "wb_p.get_span(wbt4p, n_mid_cells=4)"
   ]
  },
  {
   "cell_type": "code",
   "execution_count": null,
   "metadata": {},
   "outputs": [],
   "source": [
    "wbt4p.wb_cell.R_0"
   ]
  },
  {
   "cell_type": "markdown",
   "metadata": {},
   "source": [
    "## Generating graphics"
   ]
  },
  {
   "cell_type": "code",
   "execution_count": null,
   "metadata": {},
   "outputs": [],
   "source": [
    "# Cameras for k3d\n",
    "# [\n",
    "#  x1,y1,z1, # position of the camera in xyz space\n",
    "#  x2,y2,z2, # the point where camera is currently looking at\n",
    "#  x3,y3,z3  # orientation (up direction), this vector cannot be [0,0,0])\n",
    "# ]\n",
    "shell_perspective = [92989.64822524686, -70795.1623293042, 31459.457304330528,\n",
    "                     0, 0, -202.457763671875,\n",
    "                     -0.19436494432910192, 0.0869502251902479, 0.9770680256539523]\n",
    "shell_front_view = [140000, -3000, -1000,\n",
    "                    0,     0, -200,\n",
    "                    0,     0,   1]\n",
    "shell_top_view = [0, -10000, 140000, 0, 0, -200, -1, 0, 0]"
   ]
  },
  {
   "cell_type": "markdown",
   "metadata": {},
   "source": [
    "### Tested WB shell"
   ]
  },
  {
   "cell_type": "code",
   "execution_count": null,
   "metadata": {},
   "outputs": [],
   "source": [
    "wbt4p = WBTessellation4P(a =125,  b = 550, c = 175, gamma=np.deg2rad(46), n_phi_plus=3, n_x_plus=2, wireframe_width=4)\n",
    "wbt4p.interact()\n",
    "k3d_plot = wbt4p.pb.plot_fig\n",
    "\n",
    "k3d_plot.camera_fov = 1\n",
    "k3d_plot.screenshot_scale = 5.5\n",
    "k3d_plot.grid_visible = False\n",
    "k3d_plot.camera = shell_perspective\n",
    "# k3d_plot.camera = shell_front_view\n",
    "# k3d_plot.camera = shell_top_view"
   ]
  },
  {
   "cell_type": "markdown",
   "metadata": {},
   "source": [
    "### Parametric study shells"
   ]
  },
  {
   "cell_type": "code",
   "execution_count": null,
   "metadata": {},
   "outputs": [],
   "source": [
    "valid_params_2_4_cells = [\n",
    "{'a': 100.0, 'b': 523.0972790827252, 'c': 185.53831578999467, 'gamma': 0.941503562154671, 'n_phi_plus': 3}, \n",
    "{'a': 150.0, 'b': 528.9869047532335, 'c': 188.42964733716423, 'gamma': 0.559480433250358, 'n_phi_plus': 3},\n",
    "{'a': 100.0, 'b': 264.0443060812336, 'c': 152.74500755927858, 'gamma': 1.3808286675705175, 'n_phi_plus': 5},\n",
    "{'a': 150.0, 'b': 267.29565489071757, 'c': 117.65995940135527, 'gamma': 1.015897789314392, 'n_phi_plus': 5}\n",
    "]"
   ]
  },
  {
   "cell_type": "code",
   "execution_count": null,
   "metadata": {
    "scrolled": false
   },
   "outputs": [],
   "source": [
    "wbt4p = WBTessellation4P(\n",
    "#                          a=100,\n",
    "#                          b = 5.492 * a, \n",
    "#                          c = 1.8466 * a, \n",
    "#                          gamma=np.deg2rad(54.53), \n",
    "#                          n_phi_plus=3, \n",
    "                        **valid_params_2_4_cells[0],\n",
    "                         n_x_plus=2, \n",
    "                         wireframe_width=4)\n",
    "wbt4p.interact()\n",
    "k3d_plot = wbt4p.pb.plot_fig\n",
    "\n",
    "k3d_plot.camera_fov = 1\n",
    "k3d_plot.screenshot_scale = 5.5\n",
    "k3d_plot.grid_visible = False\n",
    "# k3d_plot.camera = shell_perspective\n",
    "# k3d_plot.camera = shell_front_view\n",
    "k3d_plot.camera = shell_top_view\n",
    "\n",
    "# add_circle(k3d_plot, path = np.array([[-4500, 0, -4120], [4500, 0, -4120]]), r=4070, wireframe=False)"
   ]
  },
  {
   "cell_type": "markdown",
   "metadata": {},
   "source": [
    "## Attempt to get params for target geometry using Minimization"
   ]
  },
  {
   "cell_type": "code",
   "execution_count": null,
   "metadata": {},
   "outputs": [],
   "source": [
    "tested_wb_shell = dict(a =a,  b = b, c = c, gamma=gamma, n_phi_plus=3, n_x_plus=2, wireframe_width=5)\n",
    "wbt4p = WBTessellation4P(**tested_wb_shell)\n",
    "wbt4p.interact()"
   ]
  },
  {
   "cell_type": "code",
   "execution_count": null,
   "metadata": {},
   "outputs": [],
   "source": [
    "path = np.array([[-4000, 0, -4000], [4000, 0, -4000]])\n",
    "add_circle(wbt4p.pb.plot_fig, path = path, r=4200)"
   ]
  },
  {
   "cell_type": "code",
   "execution_count": null,
   "metadata": {},
   "outputs": [],
   "source": [
    "# Cell h in generic way\n",
    "cell_X_Ia = wbt4p.wb_cell.X_Ia\n",
    "mid_56 = (cell_X_Ia[5] + cell_X_Ia[6])/2\n",
    "v_0_mid_56 = mid_56 - cell_X_Ia[0]\n",
    "cell_h = np.sqrt(np.sum(v_0_mid_56 * v_0_mid_56))\n",
    "cell_h"
   ]
  },
  {
   "cell_type": "code",
   "execution_count": null,
   "metadata": {},
   "outputs": [],
   "source": [
    "# Cell h for symmetric cell with parameterization with O is origin\n",
    "cell_h = wbt4p.wb_cell.X_Ia[5][2]\n",
    "cell_h"
   ]
  },
  {
   "cell_type": "code",
   "execution_count": null,
   "metadata": {},
   "outputs": [],
   "source": [
    "span = (wbt4p.X_Ia[1] - wbt4p.X_Ia[8])[1]\n",
    "span"
   ]
  },
  {
   "cell_type": "code",
   "execution_count": null,
   "metadata": {},
   "outputs": [],
   "source": [
    "print(wbt4p.wb_cell.symb.R_0)"
   ]
  },
  {
   "cell_type": "code",
   "execution_count": null,
   "metadata": {},
   "outputs": [],
   "source": [
    "h = self.c * np.cos(gamma)"
   ]
  },
  {
   "cell_type": "code",
   "execution_count": null,
   "metadata": {},
   "outputs": [],
   "source": [
    "get_structural_params_residual(125,  550, 175, np.deg2rad(46))"
   ]
  },
  {
   "cell_type": "code",
   "execution_count": null,
   "metadata": {},
   "outputs": [],
   "source": [
    "from scipy.optimize import minimize\n",
    "\n",
    "# def get_structural_params(wbt4p):\n",
    "#     h = wbt4p.wb_cell.X_Ia[5][2]\n",
    "#     k = 1/wbt4p.wb_cell.R_0\n",
    "#     span = (wbt4p.X_Ia[1] - wbt4p.X_Ia[8])[1]\n",
    "#     return h, k, span\n",
    "\n",
    "def get_structural_params_residual(params):\n",
    "    h_target = 121.5652 # mm\n",
    "    k_target = 1/-2024.44 # 1/mm # R_0 = -1/2024.44\n",
    "    span_target = 2118.1638 # mm\n",
    "    R_0_target = -2024.44\n",
    "\n",
    "    a, b, c, gamma = params\n",
    "    h = c * np.cos(gamma)\n",
    "    R_0 = a*(-tan(gamma) + 1/cos(gamma)) + sqrt(-a**2*(-tan(gamma) + 1/cos(gamma))**2 + b**2)*(-2*a*(-(a*tan(gamma) - a/cos(gamma) + c*cos(gamma))**2/(2*a*c*sin(gamma) - 2*a*c + b**2 + c**2*cos(gamma)**2) + 1)*tan(gamma) + 2*a*(-(a*tan(gamma) - a/cos(gamma) + c*cos(gamma))**2/(2*a*c*sin(gamma) - 2*a*c + b**2 + c**2*cos(gamma)**2) + 1)/cos(gamma) + a*(-tan(gamma) + 1/cos(gamma)) + a*tan(gamma) - a/cos(gamma) - c*cos(gamma) + sqrt(2*a**2*sin(gamma) + a**2*cos(gamma)**2 - 2*a**2 + b**2*cos(gamma)**2)*sin(2*np.arcsin((a*tan(gamma) - a/cos(gamma) + c*cos(gamma))/sqrt(2*a*c*sin(gamma) - 2*a*c + b**2 + c**2*cos(gamma)**2)))/np.abs(cos(gamma)))/(a*sin(2*np.arcsin((a*tan(gamma) - a/cos(gamma) + c*cos(gamma))/sqrt(2*a*c*sin(gamma) - 2*a*c + b**2 + c**2*cos(gamma)**2)))*tan(gamma) - a*sin(2*np.arcsin((a*tan(gamma) - a/cos(gamma) + c*cos(gamma))/sqrt(2*a*c*sin(gamma) - 2*a*c + b**2 + c**2*cos(gamma)**2)))/cos(gamma) - sqrt(-a**2*(-tan(gamma) + 1/cos(gamma))**2 + b**2) + sqrt(-a**2*sin(gamma)**2 + 2*a**2*sin(gamma) - a**2 - b**2*sin(gamma)**2 + b**2)*cos(2*np.arcsin((a*tan(gamma) - a/cos(gamma) + c*cos(gamma))/sqrt(2*a*c*sin(gamma) - 2*a*c + b**2 + c**2*cos(gamma)**2)))*np.abs(cos(gamma))/cos(gamma)**2)\n",
    "    print('h, R0: ', h , R_0)\n",
    "    print('Diff: ', h - h_target, R_0 - R_0_target)\n",
    "    print('Result = ', np.abs(h - h_target) + np.abs(R_0 - R_0_target))\n",
    "    return np.abs(h - h_target) + np.abs(R_0 - R_0_target)\n",
    "#     return np.abs(R_0 - R_0_target)\n",
    "\n",
    "def minimize_tesssel_params():\n",
    "#     x0 = np.array([125.0,  550.0, 175.0, np.deg2rad(46)])\n",
    "    x0 = np.array([500.0,  500.0, 100.0, np.deg2rad(20)])\n",
    "#     x0 = np.arange(4)\n",
    "#     try:\n",
    "    res = minimize(get_structural_params_residual, x0, method='Nelder-Mead', tol=1e-2, bounds=((0.01, 1e10), (0.01, 1e10), (0.01, 1e10), (0.01, np.pi/2 - 0.01)))\n",
    "#     except:\n",
    "#         print('Error while minimizing!')\n",
    "#         return np.array([0, 0])\n",
    "    sol = res.x\n",
    "    return sol\n",
    "\n",
    "a, b, c, gamma = minimize_tesssel_params()\n",
    "a, b, c, gamma"
   ]
  },
  {
   "cell_type": "code",
   "execution_count": null,
   "metadata": {},
   "outputs": [],
   "source": [
    "wbt4p.wb_cell.R_0"
   ]
  },
  {
   "cell_type": "markdown",
   "metadata": {},
   "source": [
    "## Visualizing"
   ]
  },
  {
   "cell_type": "code",
   "execution_count": null,
   "metadata": {},
   "outputs": [],
   "source": [
    "# Cameras for k3d\n",
    "# [\n",
    "#  x1,y1,z1, # position of the camera in xyz space\n",
    "#  x2,y2,z2, # the point where camera is currently looking at\n",
    "#  x3,y3,z3  # orientation (up direction), this vector cannot be [0,0,0])\n",
    "# ]\n",
    "shell_side_view = [11206.956414346325, -9420.91749815528, 1858.3024602542291,\n",
    "                   0.000244140625, -0.00048828125, -2129.4488372802734,\n",
    "                  -0.20092161158887856, 0.08487577463430307, 0.9759234646614198]\n",
    "cell_front_view = [0, -2000, 2000,\n",
    "                   0,     0,   0,\n",
    "                   0,     0,   1]\n",
    "shell_front_view = [19000, 0, -1000,\n",
    "                    0,     0, -2500,\n",
    "                    0,     0,   1]\n",
    "shell_top_view = [0, 0, 900000, 0, 0, -2500, -1, 0, 0]"
   ]
  },
  {
   "cell_type": "code",
   "execution_count": null,
   "metadata": {},
   "outputs": [],
   "source": [
    "# FOV = 1\n",
    "# Cameras for k3d\n",
    "# [\n",
    "#  x1,y1,z1, # position of the camera in xyz space\n",
    "#  x2,y2,z2, # the point where camera is currently looking at\n",
    "#  x3,y3,z3  # orientation (up direction), this vector cannot be [0,0,0])\n",
    "# ]\n",
    "shell_side_view = [591365.2482393435, -497120.07834650716, 208294.99640853348,\n",
    " 0.000244140625, -0.00048828125, -2129.4488372802734, \n",
    " -0.20092161158887856, 0.08487577463430307, 0.9759234646614198]\n",
    "\n",
    "cell_front_view = [0, -2000, 2000,\n",
    "                   0,     0,   0,\n",
    "                   0,     0,   1]\n",
    "shell_front_view = [800000, 0, -2000, 0, 0, -2000, 0, 0, 1]\n",
    "shell_top_view = [0, 0, 900000, 0, 0, -2500, -1, 0, 0]"
   ]
  },
  {
   "cell_type": "code",
   "execution_count": null,
   "metadata": {},
   "outputs": [],
   "source": [
    "path = np.array([[-4000, 0, -4000], [4000, 0, -4000]])\n",
    "add_circle(wbt4p.pb.plot_fig, path = path, r=4200)"
   ]
  },
  {
   "cell_type": "code",
   "execution_count": null,
   "metadata": {},
   "outputs": [],
   "source": [
    "# wbt4p.pb.plot_fig.camera = shell_front_view\n",
    "wbt4p.pb.plot_fig.camera = shell_top_view\n",
    "# wbt4p.pb.plot_fig.camera = shell_side_view\n",
    "# wbt4p.pb.plot_fig.camera = cell_front_view"
   ]
  },
  {
   "cell_type": "code",
   "execution_count": null,
   "metadata": {
    "scrolled": false
   },
   "outputs": [],
   "source": [
    "wbt4p = WBTessellation4P(a = 500, b = 1000, c = 500, gamma = 1.0, n_phi_plus=7, n_x_plus = 5, wireframe_width=10)\n",
    "wbt4p.interact()\n",
    "wbt4p.pb.plot_fig.screenshot_scale = 5.5\n",
    "wbt4p.pb.plot_fig.grid_visible = False\n",
    "wbt4p.pb.plot_fig.camera = shell_side_view"
   ]
  }
 ],
 "metadata": {
  "kernelspec": {
   "display_name": "Python 3 (ipykernel)",
   "language": "python",
   "name": "python3"
  },
  "language_info": {
   "codemirror_mode": {
    "name": "ipython",
    "version": 3
   },
   "file_extension": ".py",
   "mimetype": "text/x-python",
   "name": "python",
   "nbconvert_exporter": "python",
   "pygments_lexer": "ipython3",
   "version": "3.9.12"
  },
  "toc": {
   "base_numbering": 1,
   "nav_menu": {},
   "number_sections": true,
   "sideBar": true,
   "skip_h1_title": true,
   "title_cell": "Table of Contents",
   "title_sidebar": "Contents",
   "toc_cell": false,
   "toc_position": {},
   "toc_section_display": true,
   "toc_window_display": false
  }
 },
 "nbformat": 4,
 "nbformat_minor": 4
}
