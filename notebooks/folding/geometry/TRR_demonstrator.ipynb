{
 "cells": [
  {
   "cell_type": "code",
   "execution_count": null,
   "metadata": {
    "pycharm": {
     "name": "#%%\n"
    }
   },
   "outputs": [],
   "source": [
    "%matplotlib widget\n",
    "# %matplotlib qt\n",
    "from bmcs_shell.api import  WBTessellation4PEx, WBGeoUtils, WBTessellation4PExFlat, WBTessellation4PFlat, WbParamDesigner, WBTessellation5PBeta, WBNumTessellation, WBNumTessellationInvest, WBTessellationBase, WBNumTessellationBase, WBCell5ParamBeta, WBTessellation4P\n",
    "from bmcs_cross_section.api import ReinfLayer, MKappa, CustomShape\n",
    "import numpy as np\n",
    "import matplotlib.pyplot as plt"
   ]
  },
  {
   "cell_type": "markdown",
   "metadata": {},
   "source": [
    "# Curved shell with no $e_x$ extension"
   ]
  },
  {
   "cell_type": "markdown",
   "metadata": {},
   "source": [
    "## Generating sets of wb parameters satisfying geometrical constraints\n",
    "\n",
    "Note: a special care should be given when choosing the range of parameter $a$ in order to get valid solutions for the defined geometrical constraints (span, total shell height, and width are supported, using None for third variable will, e.g., give solutions with different widths). These target geometrical parameters are for the trimmed shell."
   ]
  },
  {
   "cell_type": "code",
   "execution_count": null,
   "metadata": {
    "scrolled": true
   },
   "outputs": [],
   "source": [
    "wb_p = WbParamDesigner(n =20,\n",
    "                n_mid_cells=4,\n",
    "                a_range=np.linspace(170, 210, 4),\n",
    "                gamma_range=np.linspace(10, 85, 20),\n",
    "                var1={'name':'span', 'value':6000},\n",
    "                var2={'name':'height', 'value':600},\n",
    "#                 var3=None,\n",
    "              var3= {'name': 'width', 'value': 600}\n",
    "                      )\n",
    "valid_params = wb_p.calc_valid_params()\n",
    "valid_params"
   ]
  },
  {
   "cell_type": "markdown",
   "metadata": {},
   "source": [
    "## Optionally, use pre-calculated parameters"
   ]
  },
  {
   "cell_type": "code",
   "execution_count": null,
   "metadata": {
    "scrolled": true
   },
   "outputs": [],
   "source": [
    "valid_params_4_cells_h_500_w_750 = [\n",
    "{'a': 250.0,\n",
    "  'b': 778.5156140208046,\n",
    "  'c': 193.64894231936165,\n",
    "  'gamma': 0.7023311707321277,\n",
    "  'n_phi_plus': 5},\n",
    " {'a': 267.5,\n",
    "  'b': 787.868528948537,\n",
    "  'c': 215.34718201434754,\n",
    "  'gamma': 0.5228292692169889,\n",
    "  'n_phi_plus': 5},\n",
    " {'a': 285.0,\n",
    "  'b': 798.4186002202994,\n",
    "  'c': 242.13806081314263,\n",
    "  'gamma': 0.38084683309812295,\n",
    "  'n_phi_plus': 5},\n",
    " {'a': 302.5,\n",
    "  'b': 810.1769000561173,\n",
    "  'c': 272.30425729811634,\n",
    "  'gamma': 0.27036926686368135,\n",
    "  'n_phi_plus': 5},\n",
    " {'a': 320.0,\n",
    "  'b': 825.2645436427874,\n",
    "  'c': 303.88385467175044,\n",
    "  'gamma': 0.1823706613086548,\n",
    "  'n_phi_plus': 5}]\n",
    "\n",
    "valid_params_6_cells_w_750 = [{'a': 200.0,\n",
    "  'b': 515.1290708768339,\n",
    "  'c': 179.33603765725562,\n",
    "  'gamma': 1.3504338917662908,\n",
    "  'n_phi_plus': 7},\n",
    " {'a': 227.5,\n",
    "  'b': 518.8085910158042,\n",
    "  'c': 161.22156785833494,\n",
    "  'gamma': 1.1558110648003872,\n",
    "  'n_phi_plus': 7},\n",
    " {'a': 255.0,\n",
    "  'b': 531.5932275506739,\n",
    "  'c': 174.9152719084204,\n",
    "  'gamma': 0.7568951109876604,\n",
    "  'n_phi_plus': 7},\n",
    " {'a': 282.5,\n",
    "  'b': 553.4863231622114,\n",
    "  'c': 217.20935573255764,\n",
    "  'gamma': 0.4403765256710152,\n",
    "  'n_phi_plus': 7},\n",
    " {'a': 310.0,\n",
    "  'b': 583.1118956117305,\n",
    "  'c': 267.4243042644062,\n",
    "  'gamma': 0.24563754259243212,\n",
    "  'n_phi_plus': 7}]"
   ]
  },
  {
   "cell_type": "code",
   "execution_count": null,
   "metadata": {},
   "outputs": [],
   "source": [
    "valid_params = valid_params_4_cells_h_500_w_750"
   ]
  },
  {
   "cell_type": "markdown",
   "metadata": {},
   "source": [
    "## Visualizing"
   ]
  },
  {
   "cell_type": "code",
   "execution_count": null,
   "metadata": {
    "scrolled": false
   },
   "outputs": [],
   "source": [
    "a = 100\n",
    "wbt4p = WBTessellation4P(\n",
    "#                          a=a,\n",
    "#                          b = 5.492 * a, \n",
    "#                          c = 1.8466 * a, \n",
    "#                          gamma=np.deg2rad(54.53), \n",
    "#                          n_phi_plus=3, \n",
    "                        **valid_params[2],\n",
    "                         n_x_plus=3, \n",
    "                         wireframe_width=5,\n",
    "                         trim_half_cells_along_y=True,\n",
    "                         trim_half_cells_along_x=True,\n",
    "                         align_outer_nodes_along_x=True,\n",
    ")\n",
    "wbt4p.interact()"
   ]
  },
  {
   "cell_type": "code",
   "execution_count": null,
   "metadata": {
    "pycharm": {
     "name": "#%%\n"
    }
   },
   "outputs": [],
   "source": [
    "# WBGeoUtils.export_obj_file(wbt4p, 'span_2000_w_500_h_300_a_150_4_cells.obj')"
   ]
  },
  {
   "cell_type": "markdown",
   "metadata": {},
   "source": [
    "## Checking the exact real geometric values"
   ]
  },
  {
   "cell_type": "code",
   "execution_count": null,
   "metadata": {
    "pycharm": {
     "name": "#%%\n"
    }
   },
   "outputs": [],
   "source": [
    "wb_p.get_shell_height(wbt4p)"
   ]
  },
  {
   "cell_type": "code",
   "execution_count": null,
   "metadata": {
    "pycharm": {
     "name": "#%%\n"
    }
   },
   "outputs": [],
   "source": [
    "wb_p.get_shell_width(wbt4p)"
   ]
  },
  {
   "cell_type": "code",
   "execution_count": null,
   "metadata": {
    "pycharm": {
     "name": "#%%\n"
    }
   },
   "outputs": [],
   "source": [
    "wb_p.get_span(wbt4p)"
   ]
  },
  {
   "cell_type": "code",
   "execution_count": null,
   "metadata": {
    "pycharm": {
     "name": "#%%\n"
    }
   },
   "outputs": [],
   "source": [
    "wbt4p.wb_cell.R_0"
   ]
  },
  {
   "cell_type": "markdown",
   "metadata": {},
   "source": [
    "# Curved shell with smaller width to count for $e_x = 10$ cm extends"
   ]
  },
  {
   "cell_type": "markdown",
   "metadata": {},
   "source": [
    "## Pre-calculated parameters and visualization"
   ]
  },
  {
   "cell_type": "code",
   "execution_count": null,
   "metadata": {},
   "outputs": [],
   "source": [
    "\"\"\"Following params:\n",
    "var1={'name':'span', 'value':6000},\n",
    "var2={'name':'height', 'value':600},\n",
    "var3= {'name': 'width', 'value': 600}\n",
    "\n",
    "I chose solution index 2 and exported it Rhino and put it in MK below\n",
    "\"\"\"\n",
    "\n",
    "valid_params_h_600_w_600 = [{'a': 170.0,\n",
    "  'b': 775.4685979010064,\n",
    "  'c': 159.7062911076168,\n",
    "  'gamma': 0.9512672619506469,\n",
    "  'n_phi_plus': 5},\n",
    " {'a': 183.33333333333334,\n",
    "  'b': 778.0593498508921,\n",
    "  'c': 161.8054713744883,\n",
    "  'gamma': 0.8055464977442098,\n",
    "  'n_phi_plus': 5},\n",
    " {'a': 196.66666666666666,\n",
    "  'b': 782.2842797521943,\n",
    "  'c': 170.71256517251996,\n",
    "  'gamma': 0.6503708616972348,\n",
    "  'n_phi_plus': 5},\n",
    " {'a': 210.0,\n",
    "  'b': 786.86144244743,\n",
    "  'c': 185.29979839477315,\n",
    "  'gamma': 0.5075723062898361,\n",
    "  'n_phi_plus': 5}]\n",
    "\n",
    "valid_params = valid_params_h_600_w_600"
   ]
  },
  {
   "cell_type": "code",
   "execution_count": null,
   "metadata": {
    "scrolled": false
   },
   "outputs": [],
   "source": [
    "a = 100\n",
    "wbt4p_ex = WBTessellation4PEx(\n",
    "#                          a=a,\n",
    "#                          b = 5.492 * a, \n",
    "#                          c = 1.8466 * a, \n",
    "#                          gamma=np.deg2rad(54.53), \n",
    "#                          n_phi_plus=3, \n",
    "                        **valid_params[2],\n",
    "                         n_x_plus=3, \n",
    "                        e_x = 100,\n",
    "                         wireframe_width=5,\n",
    ")\n",
    "wbt4p_ex.interact()"
   ]
  },
  {
   "cell_type": "code",
   "execution_count": null,
   "metadata": {},
   "outputs": [],
   "source": [
    "# WBGeoUtils.export_obj_file(wbt4p_ex, 'h_600_w_600_index_2_ex_100.obj')"
   ]
  },
  {
   "cell_type": "code",
   "execution_count": null,
   "metadata": {
    "scrolled": true
   },
   "outputs": [],
   "source": [
    "fig, ax = wbt4p_ex.plot_formwork_plan()"
   ]
  },
  {
   "cell_type": "code",
   "execution_count": null,
   "metadata": {},
   "outputs": [],
   "source": [
    "# fig.savefig('valid_params_h_600_w_600_index_2_ex_100.pdf')"
   ]
  },
  {
   "cell_type": "markdown",
   "metadata": {},
   "source": [
    "## Evaluating cross-section moment capacity using Mk model"
   ]
  },
  {
   "cell_type": "code",
   "execution_count": null,
   "metadata": {
    "scrolled": false
   },
   "outputs": [],
   "source": [
    "from shapely.geometry import LineString\n",
    "\n",
    "X_Ia = wbt4p_ex.X_Ia\n",
    "mask = (X_Ia[:, 1] >= -10) & (X_Ia[:, 1] <= 10)\n",
    "shell_mid_line = X_Ia[mask][:, (0, 2)]\n",
    "shell_mid_line = shell_mid_line[shell_mid_line[:, 0].argsort()]\n",
    "\n",
    "polyline = LineString(shell_mid_line)\n",
    "thickness = 30\n",
    "\n",
    "# Extrude the polyline to create a Polygon\n",
    "extruded_polygon = polyline.buffer(thickness/2, cap_style=2, join_style=2)\n",
    "x, y = extruded_polygon.exterior.xy\n",
    "y = np.array(y) - np.min(y)\n",
    "\n",
    "fig, ax = plt.subplots()\n",
    "ax.plot(shell_mid_line[:, 0], shell_mid_line[:, 1], color='red')\n",
    "ax.fill(x, y, edgecolor='black')\n",
    "ax.set_aspect('equal')\n",
    "fig.show()"
   ]
  },
  {
   "cell_type": "code",
   "execution_count": null,
   "metadata": {},
   "outputs": [],
   "source": [
    "lower_cs_part_width = reinf_layers* 220\n",
    "lower_cs_part_reinf_A = int(lower_cs_part_width / roving_dist) * roving_area\n",
    "lower_cs_part_reinf_A"
   ]
  },
  {
   "cell_type": "code",
   "execution_count": null,
   "metadata": {},
   "outputs": [],
   "source": [
    "mc = MKappa(high_kappa = 0.0002, n_kappa = 40)\n",
    "mc.cs_design.matrix_.f_cm=90\n",
    "mc.cross_section_shape = 'custom'\n",
    "\n",
    "cs_points = np.column_stack((x, y))\n",
    "# cs_points[:, 1] += 500\n",
    "mc.cross_section_shape_.cs_points = cs_points\n",
    "\n",
    "roving_dist = 38\n",
    "roving_area = 3.62\n",
    "h = np.max(cs_points[:, 1]) - np.min(cs_points[:, 1])\n",
    "\n",
    "reinf_layers = 2\n",
    "\n",
    "# add 1st (bottom) layer\n",
    "lower_cs_part_width = reinf_layers * 3 * 220\n",
    "lower_cs_part_reinf_A = int(lower_cs_part_width / roving_dist) * roving_area\n",
    "\n",
    "r1 = ReinfLayer(name='bot_layer', z=10, A=lower_cs_part_reinf_A, matmod='carbon')\n",
    "r1.matmod_.trait_set(E=245000, f_t=3800)\n",
    "mc.cross_section_layout.add_layer(r1)\n",
    "\n",
    "# add 2st (top) layer\n",
    "upper_cs_part_width = reinf_layers * 2 * 600\n",
    "upper_cs_part_reinf_A = int(upper_cs_part_width / roving_dist) * roving_area\n",
    "\n",
    "r2 = ReinfLayer(name='top_layer', z=h-5, A=upper_cs_part_reinf_A, matmod='carbon')\n",
    "r2.matmod_.trait_set(E=245000, f_t=3800)\n",
    "mc.cross_section_layout.add_layer(r2)\n",
    "\n",
    "# Carbon grid\n",
    "vertical_layers_num = int(h/roving_dist)\n",
    "for i, z in enumerate(np.linspace(5, h-5, vertical_layers_num)):\n",
    "    if i != 0 and i != vertical_layers_num-1:\n",
    "        rl = ReinfLayer(name='C_grid_' + str(i + 1), z=z, A=2 * roving_area, matmod='carbon')\n",
    "        rl.matmod_.trait_set(E=245000, f_t=3800)\n",
    "        mc.cross_section_layout.add_layer(rl)\n",
    "\n",
    "mc.interact()"
   ]
  },
  {
   "cell_type": "markdown",
   "metadata": {},
   "source": [
    "# Skew shell"
   ]
  },
  {
   "cell_type": "code",
   "execution_count": null,
   "metadata": {},
   "outputs": [],
   "source": [
    "valid_params[2]"
   ]
  },
  {
   "cell_type": "code",
   "execution_count": null,
   "metadata": {
    "scrolled": true
   },
   "outputs": [],
   "source": [
    "wbttpv2.wb_cell_.callback_fun = wbttpv2.update_plot_\n",
    "# wbttpv2.wb_cell_.gamma = valid_params[2]['gamma']"
   ]
  },
  {
   "cell_type": "code",
   "execution_count": null,
   "metadata": {
    "scrolled": true
   },
   "outputs": [],
   "source": [
    "wbttpv2 = WBTessellation5PBeta(wb_cell_=WBCell5ParamBeta(gamma = 0.9, beta_1= 0), sol_num=4, n_x = 5, n_y = 5)\n",
    "\n",
    "wbttpv2.interact()"
   ]
  },
  {
   "cell_type": "code",
   "execution_count": null,
   "metadata": {},
   "outputs": [],
   "source": [
    "# WBGeoUtils.export_obj_file(wbttpv2, 'wb_tested_3cells_mid_shifted.obj')"
   ]
  },
  {
   "cell_type": "markdown",
   "metadata": {
    "pycharm": {
     "name": "#%% md\n"
    }
   },
   "source": [
    "## Generating graphics"
   ]
  },
  {
   "cell_type": "code",
   "execution_count": null,
   "metadata": {
    "pycharm": {
     "name": "#%%\n"
    }
   },
   "outputs": [],
   "source": [
    "# Cameras for k3d\n",
    "# [\n",
    "#  x1,y1,z1, # position of the camera in xyz space\n",
    "#  x2,y2,z2, # the point where camera is currently looking at\n",
    "#  x3,y3,z3  # orientation (up direction), this vector cannot be [0,0,0])\n",
    "# ]\n",
    "shell_perspective = [92989.64822524686, -70795.1623293042, 31459.457304330528,\n",
    "                     0, 0, -202.457763671875,\n",
    "                     -0.19436494432910192, 0.0869502251902479, 0.9770680256539523]\n",
    "shell_front_view = [140000, -3000, -1000,\n",
    "                    0,     0, -200,\n",
    "                    0,     0,   1]\n",
    "shell_top_view = [0, -10000, 140000, 0, 0, -200, -1, 0, 0]"
   ]
  },
  {
   "cell_type": "code",
   "execution_count": null,
   "metadata": {
    "pycharm": {
     "name": "#%%\n"
    }
   },
   "outputs": [],
   "source": [
    "wbt4p = WBTessellation4P(a =125,  b = 550, c = 175, gamma=np.deg2rad(46), n_phi_plus=3, n_x_plus=2, wireframe_width=4)\n",
    "wbt4p.interact()\n",
    "k3d_plot = wbt4p.pb.plot_fig\n",
    "\n",
    "k3d_plot.camera_fov = 1\n",
    "k3d_plot.screenshot_scale = 5.5\n",
    "k3d_plot.grid_visible = False\n",
    "k3d_plot.camera = shell_perspective\n",
    "# k3d_plot.camera = shell_front_view\n",
    "# k3d_plot.camera = shell_top_view"
   ]
  },
  {
   "cell_type": "markdown",
   "metadata": {},
   "source": [
    "# WB Slab"
   ]
  },
  {
   "cell_type": "code",
   "execution_count": null,
   "metadata": {},
   "outputs": [],
   "source": [
    "wb_shell = WBTessellation4PEx(\n",
    "                         a=1000,\n",
    "                         b = 1615, \n",
    "                         c = 615, \n",
    "                         e_x = 286,\n",
    "                         gamma=0.683, \n",
    "                         n_phi_plus=3, \n",
    "                         n_x_plus=3, \n",
    "                         wireframe_width=10,\n",
    "                        ##---- Trimming function works only in WBTessellation4P ----##\n",
    "#                          trim_half_cells_along_y=True,\n",
    "#                          trim_half_cells_along_x=True,\n",
    "#                          align_outer_nodes_along_x=True,\n",
    ")\n",
    "wb_shell.interact()"
   ]
  },
  {
   "cell_type": "code",
   "execution_count": null,
   "metadata": {},
   "outputs": [],
   "source": [
    "k3d_plot = wb_shell.pb.plot_fig\n",
    "k3d_plot.camera = [154.30159594743486, -12415.159049059332, 4593.223829379507, \n",
    "                   0, 0, 0, \n",
    "                   0, 0, 1]"
   ]
  },
  {
   "cell_type": "code",
   "execution_count": null,
   "metadata": {},
   "outputs": [],
   "source": [
    "# WBGeoUtils.export_obj_file(wb_shell, 'wb_slab_ex.obj')"
   ]
  },
  {
   "cell_type": "code",
   "execution_count": null,
   "metadata": {},
   "outputs": [],
   "source": [
    "# If only wb slab elements are to be investigated use WBTessellation4PExFlat or WBTessellation4PFlat\n",
    "# WBTessellation4PExFlat().interact()"
   ]
  }
 ],
 "metadata": {
  "kernelspec": {
   "display_name": "Python 3 (ipykernel)",
   "language": "python",
   "name": "python3"
  },
  "language_info": {
   "codemirror_mode": {
    "name": "ipython",
    "version": 3
   },
   "file_extension": ".py",
   "mimetype": "text/x-python",
   "name": "python",
   "nbconvert_exporter": "python",
   "pygments_lexer": "ipython3",
   "version": "3.9.12"
  },
  "toc": {
   "base_numbering": 1,
   "nav_menu": {},
   "number_sections": true,
   "sideBar": true,
   "skip_h1_title": true,
   "title_cell": "Table of Contents",
   "title_sidebar": "Contents",
   "toc_cell": false,
   "toc_position": {},
   "toc_section_display": true,
   "toc_window_display": false
  }
 },
 "nbformat": 4,
 "nbformat_minor": 4
}
