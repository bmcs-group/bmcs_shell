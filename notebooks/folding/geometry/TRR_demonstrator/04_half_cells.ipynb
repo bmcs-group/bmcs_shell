{
 "cells": [
  {
   "cell_type": "code",
   "execution_count": null,
   "metadata": {},
   "outputs": [],
   "source": [
    "# Symmetrize half cells"
   ]
  },
  {
   "cell_type": "code",
   "execution_count": null,
   "metadata": {},
   "outputs": [],
   "source": [
    "import numpy as np\n",
    "import k3d\n",
    "from bmcs_shell.folding.assembly.wb_scanned_cell import WBScannedCell\n",
    "import traits.api as tr"
   ]
  },
  {
   "cell_type": "code",
   "execution_count": null,
   "metadata": {},
   "outputs": [],
   "source": [
    "class WBScannedHalfCell(WBScannedCell):\n",
    "    F_Cf = tr.Array(dtype=np.uint32,\n",
    "                 value=[[ 0,  1],\n",
    "       [ 1,  2],\n",
    "       [ 2,  3],\n",
    "       [ 3,  4],\n",
    "       [ 4,  5],\n",
    "       [ 5,  6],\n",
    "       [ 6,  7],\n",
    "       [ 7,  0],\n",
    "       [5, 2]])\n",
    "    isc_N_L = tr.List([[0, 7, 6], [1, 8, 5], [3, 2, 4, 8], [1, 2], [4, 5]])\n",
    "    icrease_lines_N_Li = tr.Array(dtype=np.int_, value=[[0,1], [1,3], [2, 3], [4, 2], [1, 4], [2, 1]])\n",
    "    L_x = tr.Float(100)\n",
    "\n",
    "\n",
    "    def _get_O_basis_ab(self):\n",
    "        \"\"\"Derive the basis of the waterbomb cell.\n",
    "        \"\"\"\n",
    "        Or = 2\n",
    "        Fu, Fl = 3,4\n",
    "        vec_Ox_a = self.isc_vectors_Li[3]\n",
    "        nvec_Ox_a = -vec_Ox_a / np.linalg.norm(vec_Ox_a)\n",
    "        O_a = self.icrease_nodes_X_Na[Or] + vec_Ox_a * self.L_x\n",
    "        _vec_Oz_a = (self.normals_Fa[Fu] + self.normals_Fa[Fl]) / 2\n",
    "        _nvec_Oz_a = _vec_Oz_a / np.linalg.norm(_vec_Oz_a)\n",
    "        nvec_Oy_a = np.cross(_nvec_Oz_a, nvec_Ox_a)\n",
    "        nvec_Oz_a = np.cross(nvec_Ox_a, nvec_Oy_a)\n",
    "        O_basis_ab = np.array([nvec_Ox_a, nvec_Oy_a, nvec_Oz_a], dtype=np.float32)\n",
    "        return O_a, O_basis_ab\n",
    "    \n",
    "    def _get_O_crease_nodes_X_Na(self):\n",
    "        length_mid = self.L_x + (self.O_icrease_nodes_X_Na[[2,3,4],0] - \n",
    "                                self.O_icrease_nodes_X_Na[2,0])\n",
    "        mid_Ca = self.O_icrease_nodes_X_Na[[2,3,4]]\n",
    "        vec_mid_Ca = -self.O_isc_vectors_Li[[3,3,3]]\n",
    "        mid_node_X_Ca = mid_Ca + vec_mid_Ca * length_mid\n",
    "\n",
    "        length_valley = np.average(self.lengths_icrease_lines_L[[2,3]])\n",
    "        valley_Ca = self.O_icrease_nodes_X_Na[[1,1]]\n",
    "        vec_valley_Ca = self.O_isc_vectors_Li[[0,6]]\n",
    "        valley_node_X_Ca = valley_Ca + vec_valley_Ca * length_valley\n",
    "\n",
    "        length_mountain = 500 # np.average(self.lengths_icrease_lines_L[[13,14]])\n",
    "        mountain_Ca = self.O_icrease_nodes_X_Na[[0]]\n",
    "        vec_mountain_Ca = self.O_isc_vectors_Li[[7]]\n",
    "        mountain_node_X_Ca = mountain_Ca + vec_mountain_Ca * length_mountain / 2\n",
    "        valley_node_X_Ca, mountain_node_X_Ca\n",
    "\n",
    "        corner_node_X_Ca = np.copy(valley_node_X_Ca)\n",
    "        corner_node_X_Ca[:,0] = mountain_node_X_Ca[[0,0],0]\n",
    "        O_bcrease_nodes_X_Ca = np.vstack([valley_node_X_Ca, mountain_node_X_Ca, corner_node_X_Ca, mid_node_X_Ca])\n",
    "        O_crease_nodes_C_Ca = np.vstack([self.O_icrease_nodes_X_Na, O_bcrease_nodes_X_Ca])\n",
    "        if self.O_flip < 0:\n",
    "            T_ab = np.array([\n",
    "                [np.cos(np.pi), np.sin(np.pi), 0 ],\n",
    "                [-np.sin(np.pi), np.cos(np.pi), 0],\n",
    "                [0, 0, 1]], dtype=np.float_)\n",
    "            O_crease_nodes_C_Ca = np.einsum('ab,...a->...b', T_ab, O_crease_nodes_C_Ca)[self.O_crease_nodes_flip]\n",
    "\n",
    "        return O_crease_nodes_C_Ca\n"
   ]
  },
  {
   "cell_type": "code",
   "execution_count": null,
   "metadata": {},
   "outputs": [],
   "source": [
    "cell = WBScannedHalfCell(file_path=\"WB313R_facets_points.obj\",\n",
    "                     rotate_system=[[1,2],[np.pi/2, np.pi]])"
   ]
  },
  {
   "cell_type": "code",
   "execution_count": null,
   "metadata": {},
   "outputs": [],
   "source": [
    "cell.F_Cf"
   ]
  },
  {
   "cell_type": "code",
   "execution_count": null,
   "metadata": {},
   "outputs": [],
   "source": [
    "plot = k3d.plot(name='Nodes')\n",
    "cell.plot_groups_of_points(plot, cell.wb_scan_X_Fia)\n",
    "plot.display()"
   ]
  },
  {
   "cell_type": "code",
   "execution_count": null,
   "metadata": {},
   "outputs": [],
   "source": [
    "plot = k3d.plot(name='Vectors')\n",
    "cell.plot_groups_of_points(plot, cell.wb_scan_X_Fia)\n",
    "cell.plot_planes(plot)\n",
    "plot.display()"
   ]
  },
  {
   "cell_type": "code",
   "execution_count": null,
   "metadata": {},
   "outputs": [],
   "source": [
    "plot = k3d.plot(name='Vectors')\n",
    "cell.plot_groups_of_points(plot, cell.wb_scan_X_Fia)\n",
    "cell.plot_points(plot, cell.centroids_Fa, point_size=20, \n",
    "                     color=0x000000, plot_numbers=False)\n",
    "cell.plot_points(plot, cell.isc_points_Li, point_size=20, \n",
    "                     color=0x0000ff, plot_numbers=False)\n",
    "cell.plot_intersection_lines(plot)\n",
    "plot.display()"
   ]
  },
  {
   "cell_type": "code",
   "execution_count": null,
   "metadata": {},
   "outputs": [],
   "source": [
    "plot = k3d.plot(name='Vectors')\n",
    "cell.plot_points(plot, cell.icrease_nodes_X_Na, point_size=5, \n",
    "                     color=0x0000ff, plot_numbers=True)\n",
    "cell.plot_intersection_lines(plot)\n",
    "plot.display()"
   ]
  },
  {
   "cell_type": "code",
   "execution_count": null,
   "metadata": {},
   "outputs": [],
   "source": [
    "plot = k3d.plot(name='Vectors')\n",
    "cell.plot_icrease_nodes(plot, node_numbers=True)\n",
    "cell.plot_icrease_lines(plot, line_numbers=True)\n",
    "cell.plot_O_basis(plot)\n",
    "plot.display()"
   ]
  },
  {
   "cell_type": "code",
   "execution_count": null,
   "metadata": {},
   "outputs": [],
   "source": [
    "plot = k3d.plot(name='Vectors')\n",
    "cell.plot_O_crease_nodes(plot, node_numbers=True)\n",
    "#cell.plot_O_crease_lines(plot, line_numbers=True)\n",
    "plot.display()"
   ]
  },
  {
   "cell_type": "code",
   "execution_count": null,
   "metadata": {},
   "outputs": [],
   "source": []
  }
 ],
 "metadata": {
  "kernelspec": {
   "display_name": "bmcs_env2",
   "language": "python",
   "name": "python3"
  },
  "language_info": {
   "codemirror_mode": {
    "name": "ipython",
    "version": 3
   },
   "file_extension": ".py",
   "mimetype": "text/x-python",
   "name": "python",
   "nbconvert_exporter": "python",
   "pygments_lexer": "ipython3"
  }
 },
 "nbformat": 4,
 "nbformat_minor": 2
}
