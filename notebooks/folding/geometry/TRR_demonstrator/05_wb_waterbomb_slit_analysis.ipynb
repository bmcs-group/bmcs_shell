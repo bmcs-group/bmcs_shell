{
 "cells": [
  {
   "cell_type": "code",
   "execution_count": 24,
   "metadata": {},
   "outputs": [
    {
     "name": "stdout",
     "output_type": "stream",
     "text": [
      "wb_cell_default - WBTessellation4PEx\n",
      "update_wb_cell_params - WBTessellation4PEx\n",
      "delta_x - WBCell4ParamEx\n",
      "X_Ia - WBCell4ParamEx\n",
      "I_Fi - WBCell4ParamEx\n",
      "idx_of_facets_to_trim - WBTessellation4PEx\n",
      "X_Ia_no_constraint - WBTessellation4PEx\n"
     ]
    },
    {
     "data": {
      "text/plain": [
       "(array([[ 7.15000000e+01,  0.00000000e+00,  0.00000000e+00],\n",
       "        [-7.15000000e+01,  0.00000000e+00,  0.00000000e+00],\n",
       "        [ 3.21500000e+02,  3.85849365e+02,  1.18888672e+02],\n",
       "        [-3.21500000e+02,  3.85849365e+02,  1.18888672e+02],\n",
       "        [ 3.21500000e+02, -3.85849365e+02,  1.18888672e+02],\n",
       "        [-3.21500000e+02, -3.85849365e+02,  1.18888672e+02],\n",
       "        [ 1.73268570e+02,  0.00000000e+00,  1.25079102e+02],\n",
       "        [-1.73268570e+02,  0.00000000e+00,  1.25079102e+02],\n",
       "        [-4.23268569e+02,  3.81836609e+02, -6.12597656e+00],\n",
       "        [-4.94768569e+02,  3.81836609e+02, -6.12597656e+00],\n",
       "        [-4.94768554e+02, -7.62939453e-06,  1.25079102e+02],\n",
       "        [-4.23268569e+02, -3.81836609e+02, -6.12597656e+00],\n",
       "        [-4.94768569e+02, -3.81836609e+02, -6.12597656e+00],\n",
       "        [ 4.94768569e+02,  3.81836609e+02, -6.12597656e+00],\n",
       "        [ 4.23268569e+02,  3.81836609e+02, -6.12597656e+00],\n",
       "        [ 4.94768554e+02, -7.62939453e-06,  1.25079102e+02],\n",
       "        [ 4.94768569e+02, -3.81836609e+02, -6.12597656e+00],\n",
       "        [ 4.23268569e+02, -3.81836609e+02, -6.12597656e+00]]),\n",
       " array([[ 0,  2,  1],\n",
       "        [ 1,  2,  3],\n",
       "        [ 0,  1,  4],\n",
       "        [ 1,  5,  4],\n",
       "        [ 0,  4,  6],\n",
       "        [ 0,  6,  2],\n",
       "        [ 1,  7,  5],\n",
       "        [ 1,  3,  7],\n",
       "        [ 8,  9,  7],\n",
       "        [ 9, 10,  7],\n",
       "        [ 8,  7,  3],\n",
       "        [11,  7, 12],\n",
       "        [12,  7, 10],\n",
       "        [11,  5,  7],\n",
       "        [13, 14, 15],\n",
       "        [14,  6, 15],\n",
       "        [14,  2,  6],\n",
       "        [16, 15, 17],\n",
       "        [17, 15,  6],\n",
       "        [17,  6,  4]]))"
      ]
     },
     "execution_count": 24,
     "metadata": {},
     "output_type": "execute_result"
    }
   ],
   "source": [
    "import pandas as pd\n",
    "import numpy as np\n",
    "from scipy.spatial import cKDTree\n",
    "import k3d\n",
    "import numpy as np\n",
    "from bmcs_shell.folding.assembly.wb_scanned_cell import WBScannedCell\n",
    "from bmcs_shell.api import WBTessellation4PEx\n",
    "from scipy.spatial import cKDTree\n",
    "import pandas as pd\n",
    "from openpyxl import load_workbook\n",
    "import k3d\n",
    "import numpy as np\n",
    "from bmcs_shell.folding.assembly.wb_scanned_cell import WBScannedCell\n",
    "from bmcs_shell.api import WBTessellation4PEx\n",
    "from scipy.spatial import cKDTree\n",
    "import pandas as pd\n",
    "from openpyxl import load_workbook\n",
    "\n",
    "# Set the reference geometry to be generated from the closed form kinematics\n",
    "\n",
    "wb_shell = WBTessellation4PEx(\n",
    "                         a=1000/4,\n",
    "                         b = 1615/4, \n",
    "                         c = 645/4, \n",
    "                         e_x = 286/4,\n",
    "                         gamma=0.683, # a value of gamma = 0.75 was estimated from normals, but a CAD comparison showed that 0.75 doesn't lead to closer geometry to the scanned \n",
    "                         n_phi_plus=2, # planned 5 \n",
    "                         n_x_plus=2,  # planned 3\n",
    "                         wireframe_width=5,\n",
    "                        ##---- Trimming function works only in WBTessellation4P ----##\n",
    "                         trim_half_cells_along_y=True,\n",
    "                         trim_half_cells_along_x=True,\n",
    "#                          align_outer_nodes_along_x=True,\n",
    ")\n",
    "# wb_shell.interact()\n",
    "orig_I_Fi = np.copy(wb_shell.I_Fi_trimmed)\n",
    "orig_X_Ia = np.copy(wb_shell.X_Ia_trimmed)\n",
    "\n",
    "orig_X_Ia = orig_X_Ia\n",
    "orig_X_Ib = orig_X_Ia\n",
    "orig_X_Ib, orig_I_Fi\n"
   ]
  },
  {
   "cell_type": "code",
   "execution_count": 2,
   "metadata": {},
   "outputs": [
    {
     "name": "stdout",
     "output_type": "stream",
     "text": [
      "Rotation Matrix R:\n",
      " [[ 1.00000000e+00  1.67386208e-07 -7.63237098e-07]\n",
      " [-1.42815761e-07  9.99485319e-01  3.20795411e-02]\n",
      " [ 7.68213947e-07 -3.20795411e-02  9.99485319e-01]]\n",
      "Translation Vector t:\n",
      " [494.76861396 383.4886177   -6.15245098]\n",
      "Transformed B Coordinates:\n",
      " [[ 5.66268653e+02  3.81836755e+02 -6.12589392e+00]\n",
      " [ 4.23268653e+02  3.81836775e+02 -6.12600377e+00]\n",
      " [ 8.16268627e+02  7.71301389e+02  1.00323910e+02]\n",
      " [ 1.73268627e+02  7.71301481e+02  1.00323416e+02]\n",
      " [ 8.16268498e+02 -1.62820326e-04  1.25079651e+02]\n",
      " [ 1.73268498e+02 -7.09897918e-05  1.25079157e+02]\n",
      " [ 6.68037128e+02  3.85849220e+02  1.18888910e+02]\n",
      " [ 3.21499988e+02  3.85849270e+02  1.18888644e+02]\n",
      " [ 7.15001528e+01  7.63280392e+02 -2.44982408e+01]\n",
      " [ 1.52755178e-04  7.63280402e+02 -2.44982957e+01]\n",
      " [ 3.53298258e-06  3.85849308e+02  1.18888397e+02]\n",
      " [ 7.15000249e+01  2.22055153e-04  4.55255336e-05]\n",
      " [ 2.49268145e-05  2.32266480e-04 -9.40176366e-06]\n",
      " [ 9.89537291e+02  7.63280261e+02 -2.44975356e+01]\n",
      " [ 9.18037291e+02  7.63280271e+02 -2.44975905e+01]\n",
      " [ 9.89537112e+02  3.85849167e+02  1.18889157e+02]\n",
      " [ 9.89537163e+02  9.09449800e-05  7.50774467e-04]\n",
      " [ 9.18037163e+02  1.01156307e-04  6.95847170e-04]]\n"
     ]
    }
   ],
   "source": [
    "def define_global_coordinate_system(points):\n",
    "    \"\"\"\n",
    "    Defines the global coordinate system by centering the given points at the origin.\n",
    "    \"\"\"\n",
    "    global_origin = np.mean(points, axis=0)\n",
    "    return points - global_origin, global_origin\n",
    "\n",
    "def align_geometries(orig_X_Ia, orig_X_Ib, point_pairs):\n",
    "    \"\"\"\n",
    "    Aligns geometry B to geometry A based on specified corresponding points.\n",
    "\n",
    "    Parameters:\n",
    "        orig_X_Ia (numpy.ndarray): (N,3) array of fixed geometry A's coordinates.\n",
    "        orig_X_Ib (numpy.ndarray): (N,3) array of movable geometry B's coordinates.\n",
    "        point_pairs (list of tuples): List of (index_B, index_A) pairs defining corresponding points.\n",
    "\n",
    "    Returns:\n",
    "        aligned_X_Ib (numpy.ndarray): (N,3) array of transformed B coordinates.\n",
    "        R (numpy.ndarray): (3,3) rotation matrix.\n",
    "        t (numpy.ndarray): (3,) translation vector.\n",
    "    \"\"\"\n",
    "    if len(point_pairs) < 3:\n",
    "        raise ValueError(\"At least 3 non-collinear point pairs are required for alignment.\")\n",
    "\n",
    "    # Define global coordinate system for both geometries\n",
    "    X_Ia, global_origin_A = define_global_coordinate_system(orig_X_Ia.copy())\n",
    "    X_Ib, _ = define_global_coordinate_system(orig_X_Ib.copy())\n",
    "\n",
    "    # Extract corresponding points\n",
    "    P_A = np.array([X_Ia[idx_A] for _, idx_A in point_pairs])\n",
    "    P_B = np.array([X_Ib[idx_B] for idx_B, _ in point_pairs])\n",
    "\n",
    "    # Compute centroids\n",
    "    centroid_A = np.mean(P_A, axis=0)\n",
    "    centroid_B = np.mean(P_B, axis=0)\n",
    "\n",
    "    # Center the points\n",
    "    Q_A = P_A - centroid_A\n",
    "    Q_B = P_B - centroid_B\n",
    "\n",
    "    # Compute covariance matrix\n",
    "    H = Q_B.T @ Q_A\n",
    "\n",
    "    # Compute SVD\n",
    "    U, S, Vt = np.linalg.svd(H)\n",
    "\n",
    "    # Compute rotation matrix\n",
    "    R = Vt.T @ U.T\n",
    "\n",
    "    # Ensure a proper rotation (no reflection)\n",
    "    if np.linalg.det(R) < 0:\n",
    "        Vt[-1, :] *= -1\n",
    "        R = Vt.T @ U.T\n",
    "\n",
    "    # Compute translation\n",
    "    t = centroid_A - R @ centroid_B\n",
    "\n",
    "    # Apply transformation to all points in B\n",
    "    aligned_X_Ib = (R @ X_Ib.T).T + t + global_origin_A  # Reintroduce global origin\n",
    "\n",
    "    return aligned_X_Ib, R, t\n",
    "\n",
    "\n",
    "# Example Usage\n",
    "# orig_X_Ia: Fixed geometry A (18 points, each with (x, y, z))\n",
    "# orig_X_Ib: Movable geometry B (18 points, each with (x, y, z))\n",
    "\n",
    "# Define corresponding points: (index_B, index_A)\n",
    "point_pairs = [(5, 6), (7, 2), (1, 14)]  # B[5] -> A[6], B[1] -> A[14], B[0] -> A[13]\n",
    "\n",
    "# Run alignment\n",
    "aligned_X_Ib, R, t = align_geometries(orig_X_Ia, orig_X_Ib, point_pairs)\n",
    "\n",
    "# Print results\n",
    "print(\"Rotation Matrix R:\\n\", R)\n",
    "print(\"Translation Vector t:\\n\", t)\n",
    "print(\"Transformed B Coordinates:\\n\", aligned_X_Ib)\n"
   ]
  },
  {
   "cell_type": "code",
   "execution_count": 3,
   "metadata": {},
   "outputs": [
    {
     "name": "stderr",
     "output_type": "stream",
     "text": [
      "/Users/gui/Documents/bmcs_folder/bmcs_virtual/lib/python3.12/site-packages/traittypes/traittypes.py:97: UserWarning: Given trait value dtype \"float64\" does not match required type \"float32\". A coerced copy has been created.\n",
      "  warnings.warn(\n",
      "/Users/gui/Documents/bmcs_folder/bmcs_virtual/lib/python3.12/site-packages/traittypes/traittypes.py:97: UserWarning: Given trait value dtype \"int64\" does not match required type \"uint32\". A coerced copy has been created.\n",
      "  warnings.warn(\n"
     ]
    },
    {
     "data": {
      "application/vnd.jupyter.widget-view+json": {
       "model_id": "a2f61576474949bd9de154364661a4ee",
       "version_major": 2,
       "version_minor": 0
      },
      "text/plain": [
       "Output()"
      ]
     },
     "metadata": {},
     "output_type": "display_data"
    }
   ],
   "source": [
    "\n",
    "def plot_geometries(geometries, name=\"3D Geometries\"):\n",
    "    \"\"\"\n",
    "    Plots multiple 3D geometries in a single k3d plot and labels the nodes.\n",
    "\n",
    "    Parameters:\n",
    "        geometries (list of tuples): Each tuple contains:\n",
    "            - positions (numpy.ndarray): (N,3) array of vertex coordinates.\n",
    "            - indices (numpy.ndarray): (M,3) array defining mesh faces.\n",
    "            - color (int): Hex color for the geometry.\n",
    "        name (str, optional): Name of the plot window.\n",
    "\n",
    "    Returns:\n",
    "        k3d.Plot: The k3d plot object.\n",
    "    \"\"\"\n",
    "    plot = k3d.plot(name=name)\n",
    "\n",
    "    for idx, (positions, indices, color) in enumerate(geometries):\n",
    "        # Create the points object\n",
    "        plt_points = k3d.points(positions=positions.astype(np.float32),\n",
    "                                shader='3d',\n",
    "                                color=color, \n",
    "                                point_size=30)\n",
    "        \n",
    "        # Create the mesh object\n",
    "        plt_mesh = k3d.mesh(vertices=positions, \n",
    "                            indices=indices, \n",
    "                            color=color,  \n",
    "                            opacity=0.5)\n",
    "        \n",
    "        # Add elements to the plot\n",
    "        plot += plt_points\n",
    "        plot += plt_mesh\n",
    "        \n",
    "        # Add labels for the nodes with slight offset\n",
    "        for i, position in enumerate(positions):\n",
    "            offset = np.array([0, 25 * (idx + 1), 0])  # Move text slightly in the z-direction\n",
    "            label_position = position + offset\n",
    "            \n",
    "            label = k3d.text(\n",
    "                text=str(i),  # Label is the index of the node\n",
    "                position=label_position.astype(np.float32),\n",
    "                color=color,\n",
    "                size=1  # Reduce label size to prevent clutter\n",
    "            )\n",
    "            plot += label\n",
    "\n",
    "    return plot\n",
    "\n",
    "\n",
    "\n",
    "# Define colors0xff0000\n",
    "color_A = 0xff0000  # Blue\n",
    "color_B = 0x3f6bc5  # Red\n",
    "\n",
    "# Plot list of geometries in one plot\n",
    "plot = plot_geometries([\n",
    "    (orig_X_Ia, orig_I_Fi, color_A),   # Geometry A\n",
    "    (aligned_X_Ib, orig_I_Fi, color_B) # Geometry B\n",
    "    ])\n",
    "\n",
    "plot.display()\n"
   ]
  },
  {
   "cell_type": "code",
   "execution_count": 4,
   "metadata": {},
   "outputs": [
    {
     "data": {
      "text/plain": [
       "(array([423.26856909, 381.83660889,  -6.12597656]),\n",
       " array([423.26865326, 381.8367752 ,  -6.12600377]))"
      ]
     },
     "execution_count": 4,
     "metadata": {},
     "output_type": "execute_result"
    }
   ],
   "source": [
    "orig_X_Ia[14], aligned_X_Ib[1]"
   ]
  },
  {
   "cell_type": "code",
   "execution_count": 5,
   "metadata": {},
   "outputs": [
    {
     "data": {
      "text/plain": [
       "(array([71.5,  0. ,  0. ]),\n",
       " array([7.15000249e+01, 2.22055153e-04, 4.55255336e-05]))"
      ]
     },
     "execution_count": 5,
     "metadata": {},
     "output_type": "execute_result"
    }
   ],
   "source": [
    "orig_X_Ia[0], aligned_X_Ib[11]  # Check if the points are aligned"
   ]
  },
  {
   "cell_type": "code",
   "execution_count": 6,
   "metadata": {},
   "outputs": [
    {
     "data": {
      "text/plain": [
       "(array([173.26856995,   0.        , 125.07910156]),\n",
       " array([ 1.73268498e+02, -7.09897918e-05,  1.25079157e+02]))"
      ]
     },
     "execution_count": 6,
     "metadata": {},
     "output_type": "execute_result"
    }
   ],
   "source": [
    "orig_X_Ia[6], aligned_X_Ib[5]"
   ]
  },
  {
   "cell_type": "code",
   "execution_count": 7,
   "metadata": {},
   "outputs": [
    {
     "data": {
      "text/plain": [
       "(array([321.5       , 385.84936523, 118.88867188]),\n",
       " array([321.49998785, 385.84926991, 118.88864378]))"
      ]
     },
     "execution_count": 7,
     "metadata": {},
     "output_type": "execute_result"
    }
   ],
   "source": [
    "orig_X_Ia[2], aligned_X_Ib[7]"
   ]
  },
  {
   "cell_type": "code",
   "execution_count": 8,
   "metadata": {},
   "outputs": [
    {
     "name": "stdout",
     "output_type": "stream",
     "text": [
      "Direction Vector for B: [-0.52644534 -0.80406441  0.27628921]\n",
      "Direction Vector for A: [ 0.52644534  0.80406441 -0.27628921]\n",
      "Cross Product (should be close to 0 if colinear): [ 1.65675162e-09 -6.14518630e-10  1.36840883e-09]\n",
      "Are the vectors colinear? True\n"
     ]
    }
   ],
   "source": [
    "import numpy as np\n",
    "\n",
    "def slide_geometry(aligned_X_Ib, orig_X_Ia, point_start, point_end, d):\n",
    "    \"\"\"\n",
    "    Slides geometry B along the vector from B[point_start] to B[point_end] by distance d.\n",
    "    \"\"\"\n",
    "    # Compute direction vector from B[point_start] to B[point_end]\n",
    "    v_B = aligned_X_Ib[point_end] - aligned_X_Ib[point_start]\n",
    "    v_B_unit = v_B / np.linalg.norm(v_B)  # Normalize to unit vector\n",
    "\n",
    "    # Compute translation vector\n",
    "    t_B = d * v_B_unit\n",
    "\n",
    "    # Apply translation\n",
    "    moved_X_Ib = aligned_X_Ib + t_B\n",
    "\n",
    "    return moved_X_Ib, v_B_unit\n",
    "\n",
    "def compute_direction_vector(orig_X_Ia, p1, p2):\n",
    "    \"\"\"\n",
    "    Compute the normalized direction vector for given points in geometry A.\n",
    "    \"\"\"\n",
    "    v_A = orig_X_Ia[p2] - orig_X_Ia[p1]\n",
    "    v_A_unit = v_A / np.linalg.norm(v_A)\n",
    "    return v_A_unit\n",
    "\n",
    "def check_colinearity(v_A_unit, v_B_unit, tolerance=1e-6):\n",
    "    \"\"\"\n",
    "    Check if two vectors are colinear using the cross product method.\n",
    "    \"\"\"\n",
    "    cross_product = np.cross(v_A_unit, v_B_unit)\n",
    "    colinear = np.all(np.abs(cross_product) < tolerance)\n",
    "    return colinear, cross_product\n",
    "\n",
    "# Example usage\n",
    "d = -57.1  # Define sliding distance\n",
    "point_start_B, point_end_B = 1, 5  # Points in B\n",
    "grid_start_A, grid_end_A = 6, 14  # Points in A\n",
    "\n",
    "# Perform sliding operation\n",
    "moved_X_Ib, v_B_unit = slide_geometry(aligned_X_Ib, orig_X_Ia, point_start_B, point_end_B, d)\n",
    "\n",
    "# Compute direction vector for geometry A\n",
    "v_A_unit = compute_direction_vector(orig_X_Ia, grid_start_A, grid_end_A)\n",
    "\n",
    "# Check colinearity\n",
    "colinear, cross_product = check_colinearity(v_A_unit, v_B_unit)\n",
    "\n",
    "# Print results\n",
    "print(\"Direction Vector for B:\", v_B_unit)\n",
    "print(\"Direction Vector for A:\", v_A_unit)\n",
    "print(\"Cross Product (should be close to 0 if colinear):\", cross_product)\n",
    "print(\"Are the vectors colinear?\", colinear)\n"
   ]
  },
  {
   "cell_type": "code",
   "execution_count": 9,
   "metadata": {},
   "outputs": [
    {
     "data": {
      "application/vnd.jupyter.widget-view+json": {
       "model_id": "c760a4053956440ea2814d4605b71fe3",
       "version_major": 2,
       "version_minor": 0
      },
      "text/plain": [
       "Output()"
      ]
     },
     "metadata": {},
     "output_type": "display_data"
    }
   ],
   "source": [
    "# Plot both geometries in one plot\n",
    "plot = plot_geometries([\n",
    "    (orig_X_Ia, orig_I_Fi, color_A),   # Geometry A\n",
    "    (moved_X_Ib, orig_I_Fi, color_B) # Geometry B\n",
    "    ])\n",
    "\n",
    "plot.display()"
   ]
  },
  {
   "cell_type": "code",
   "execution_count": 10,
   "metadata": {},
   "outputs": [
    {
     "data": {
      "text/plain": [
       "15.776388681189673"
      ]
     },
     "execution_count": 10,
     "metadata": {},
     "output_type": "execute_result"
    }
   ],
   "source": [
    "# compute the difference between node A=5 and B=6\n",
    "orig_X_Ia[2][2] - moved_X_Ib[10][2]\n"
   ]
  },
  {
   "cell_type": "code",
   "execution_count": 11,
   "metadata": {},
   "outputs": [
    {
     "name": "stdout",
     "output_type": "stream",
     "text": [
      "Computed Sliding Distance d: -180.96879461505677\n",
      "Moved Geometry B:\n",
      " [[ 661.53883163  527.34732216  -56.12561909]\n",
      " [ 518.53883163  527.34734258  -56.12572894]\n",
      " [ 911.53880548  916.81195641   50.32418455]\n",
      " [ 268.53880548  916.81204824   50.32369059]\n",
      " [ 911.53867631  145.51040456   75.07992566]\n",
      " [ 268.53867631  145.51049639   75.0794317 ]\n",
      " [ 763.30730612  531.3597878    68.88918483]\n",
      " [ 416.77016622  531.35983729   68.88891861]\n",
      " [ 166.77033113  908.79095917  -74.49796599]\n",
      " [  95.27033113  908.79096938  -74.49802092]\n",
      " [  95.27018191  531.35987558   68.88867188]\n",
      " [ 166.7702033   145.51078944  -49.99967964]\n",
      " [  95.2702033   145.51079965  -49.99973457]\n",
      " [1084.80746932  908.79082806  -74.49726074]\n",
      " [1013.30746932  908.79083827  -74.49731567]\n",
      " [1084.80729043  531.35973426   68.88943205]\n",
      " [1084.80734149  145.51065833  -49.99897439]\n",
      " [1013.30734149  145.51066854  -49.99902932]]\n"
     ]
    }
   ],
   "source": [
    "import numpy as np\n",
    "\n",
    "def compute_sliding_distance_z(orig_X_Ia, aligned_X_Ib, point_A, point_B, v_B_unit, t):\n",
    "    \"\"\"\n",
    "    Compute the sliding distance d such that the z-coordinates satisfy:\n",
    "    orig_X_Ia[point_A][2] - moved_X_Ib[point_B][2] = t\n",
    "    \"\"\"\n",
    "    # Extract z-components\n",
    "    delta_z = orig_X_Ia[point_A][2] - aligned_X_Ib[point_B][2] - t\n",
    "    \n",
    "    # Compute d using only the z-component\n",
    "    d = delta_z / v_B_unit[2] if v_B_unit[2] != 0 else np.inf  # Avoid division by zero\n",
    "    return d\n",
    "\n",
    "def slide_geometry(aligned_X_Ib, v_B_unit, d):\n",
    "    \"\"\"\n",
    "    Slides geometry B along its computed direction vector by distance d.\n",
    "    \"\"\"\n",
    "    # Compute translation vector\n",
    "    t_B = d * v_B_unit\n",
    "\n",
    "    # Apply translation\n",
    "    moved_X_Ib = aligned_X_Ib + t_B\n",
    "\n",
    "    return moved_X_Ib\n",
    "\n",
    "# Example usage\n",
    "point_start_B, point_end_B = 1, 5  # Points in B\n",
    "grid_start_A, grid_end_A = 6, 14  # Points in A\n",
    "alignment_point_A, alignment_point_B = 2, 10  # Points to align\n",
    "t = 50  # Target difference in z-coordinates\n",
    "\n",
    "# Compute direction vector for B\n",
    "v_B = aligned_X_Ib[point_end_B] - aligned_X_Ib[point_start_B]\n",
    "v_B_unit = v_B / np.linalg.norm(v_B)  # Normalize to unit vector\n",
    "\n",
    "# Compute sliding distance d based on z-coordinates\n",
    "d = compute_sliding_distance_z(orig_X_Ia, aligned_X_Ib, alignment_point_A, alignment_point_B, v_B_unit, t)\n",
    "\n",
    "# Apply sliding operation\n",
    "moved_X_Ib = slide_geometry(aligned_X_Ib, v_B_unit, d)\n",
    "\n",
    "# Print results\n",
    "print(\"Computed Sliding Distance d:\", d)\n",
    "print(\"Moved Geometry B:\\n\", moved_X_Ib)\n"
   ]
  },
  {
   "cell_type": "code",
   "execution_count": 12,
   "metadata": {},
   "outputs": [
    {
     "data": {
      "text/plain": [
       "50.0"
      ]
     },
     "execution_count": 12,
     "metadata": {},
     "output_type": "execute_result"
    }
   ],
   "source": [
    "# compute the difference between node A=5 and B=6\n",
    "orig_X_Ia[2][2] - moved_X_Ib[10][2]"
   ]
  },
  {
   "cell_type": "code",
   "execution_count": 13,
   "metadata": {},
   "outputs": [
    {
     "name": "stdout",
     "output_type": "stream",
     "text": [
      "New Node Coordinates (2N,3):\n",
      " [[ 7.15000000e+01  0.00000000e+00  0.00000000e+00]\n",
      " [-7.15000000e+01  0.00000000e+00  0.00000000e+00]\n",
      " [ 3.21500000e+02  3.85849365e+02  1.18888672e+02]\n",
      " [-3.21500000e+02  3.85849365e+02  1.18888672e+02]\n",
      " [ 3.21500000e+02 -3.85849365e+02  1.18888672e+02]\n",
      " [-3.21500000e+02 -3.85849365e+02  1.18888672e+02]\n",
      " [ 1.73268570e+02  0.00000000e+00  1.25079102e+02]\n",
      " [-1.73268570e+02  0.00000000e+00  1.25079102e+02]\n",
      " [-4.23268569e+02  3.81836609e+02 -6.12597656e+00]\n",
      " [-4.94768569e+02  3.81836609e+02 -6.12597656e+00]\n",
      " [-4.94768554e+02 -7.62939453e-06  1.25079102e+02]\n",
      " [-4.23268569e+02 -3.81836609e+02 -6.12597656e+00]\n",
      " [-4.94768569e+02 -3.81836609e+02 -6.12597656e+00]\n",
      " [ 4.94768569e+02  3.81836609e+02 -6.12597656e+00]\n",
      " [ 4.23268569e+02  3.81836609e+02 -6.12597656e+00]\n",
      " [ 4.94768554e+02 -7.62939453e-06  1.25079102e+02]\n",
      " [ 4.94768569e+02 -3.81836609e+02 -6.12597656e+00]\n",
      " [ 4.23268569e+02 -3.81836609e+02 -6.12597656e+00]\n",
      " [ 7.15000000e+01  0.00000000e+00  5.00000000e+01]\n",
      " [-7.15000000e+01  0.00000000e+00  5.00000000e+01]\n",
      " [ 3.21500000e+02  3.85849365e+02  1.68888672e+02]\n",
      " [-3.21500000e+02  3.85849365e+02  1.68888672e+02]\n",
      " [ 3.21500000e+02 -3.85849365e+02  1.68888672e+02]\n",
      " [-3.21500000e+02 -3.85849365e+02  1.68888672e+02]\n",
      " [ 1.73268570e+02  0.00000000e+00  1.75079102e+02]\n",
      " [-1.73268570e+02  0.00000000e+00  1.75079102e+02]\n",
      " [-4.23268569e+02  3.81836609e+02  4.38740234e+01]\n",
      " [-4.94768569e+02  3.81836609e+02  4.38740234e+01]\n",
      " [-4.94768554e+02 -7.62939453e-06  1.75079102e+02]\n",
      " [-4.23268569e+02 -3.81836609e+02  4.38740234e+01]\n",
      " [-4.94768569e+02 -3.81836609e+02  4.38740234e+01]\n",
      " [ 4.94768569e+02  3.81836609e+02  4.38740234e+01]\n",
      " [ 4.23268569e+02  3.81836609e+02  4.38740234e+01]\n",
      " [ 4.94768554e+02 -7.62939453e-06  1.75079102e+02]\n",
      " [ 4.94768569e+02 -3.81836609e+02  4.38740234e+01]\n",
      " [ 4.23268569e+02 -3.81836609e+02  4.38740234e+01]]\n",
      "New Connectivity Matrix (2M,K):\n",
      " [[ 0  2  1]\n",
      " [ 1  2  3]\n",
      " [ 0  1  4]\n",
      " [ 1  5  4]\n",
      " [ 0  4  6]\n",
      " [ 0  6  2]\n",
      " [ 1  7  5]\n",
      " [ 1  3  7]\n",
      " [ 8  9  7]\n",
      " [ 9 10  7]\n",
      " [ 8  7  3]\n",
      " [11  7 12]\n",
      " [12  7 10]\n",
      " [11  5  7]\n",
      " [13 14 15]\n",
      " [14  6 15]\n",
      " [14  2  6]\n",
      " [16 15 17]\n",
      " [17 15  6]\n",
      " [17  6  4]\n",
      " [18 20 19]\n",
      " [19 20 21]\n",
      " [18 19 22]\n",
      " [19 23 22]\n",
      " [18 22 24]\n",
      " [18 24 20]\n",
      " [19 25 23]\n",
      " [19 21 25]\n",
      " [26 27 25]\n",
      " [27 28 25]\n",
      " [26 25 21]\n",
      " [29 25 30]\n",
      " [30 25 28]\n",
      " [29 23 25]\n",
      " [31 32 33]\n",
      " [32 24 33]\n",
      " [32 20 24]\n",
      " [34 33 35]\n",
      " [35 33 24]\n",
      " [35 24 22]]\n"
     ]
    }
   ],
   "source": [
    "import numpy as np\n",
    "\n",
    "def duplicate_and_offset_surface(orig_X_Ia, orig_I_Fi, t):\n",
    "    \"\"\"\n",
    "    Duplicates a 3D surface geometry and offsets it in the z-direction by t.\n",
    "    \n",
    "    Parameters:\n",
    "    - orig_X_Ia (numpy.ndarray): (N, 3) array of node coordinates.\n",
    "    - orig_I_Fi (numpy.ndarray): (M, K) connectivity matrix (faces).\n",
    "    - t (float): Offset distance in the z-direction.\n",
    "    \n",
    "    Returns:\n",
    "    - new_X_Ia (numpay.ndarray): (2N, 3) array with both original and duplicated nodes.\n",
    "    - new_I_Fi (numpy.ndarray): Updated (2M, K) connectivity matrix for the surface.\n",
    "    \"\"\"\n",
    "    # Duplicate the nodes and apply the offset in the z-direction\n",
    "    duplicated_X_Ia = orig_X_Ia.copy()\n",
    "    duplicated_X_Ia[:, 2] += t  # Offset in the z-direction\n",
    "\n",
    "    # Combine original and duplicated nodes\n",
    "    new_X_Ia = np.vstack((orig_X_Ia, duplicated_X_Ia))\n",
    "\n",
    "    # Update connectivity: new faces reference the offset nodes\n",
    "    num_nodes = orig_X_Ia.shape[0]\n",
    "    duplicated_I_Fi = orig_I_Fi + num_nodes  # Shift indices for duplicated nodes\n",
    "\n",
    "    # Combine original and duplicated connectivity matrices\n",
    "    new_I_Fi = np.vstack((orig_I_Fi, duplicated_I_Fi))\n",
    "\n",
    "    return new_X_Ia, new_I_Fi\n",
    "\n",
    "# Assuming orig_X_Ia is (18,3) and orig_I_Fi is (M,K)\n",
    "# Define your orig_X_Ia and orig_I_Fi arrays before using this function\n",
    "\n",
    "new_X_Ia, new_I_Fi = duplicate_and_offset_surface(orig_X_Ia, orig_I_Fi, t)\n",
    "\n",
    "# Print results\n",
    "print(\"New Node Coordinates (2N,3):\\n\", new_X_Ia)\n",
    "print(\"New Connectivity Matrix (2M,K):\\n\", new_I_Fi)\n"
   ]
  },
  {
   "cell_type": "code",
   "execution_count": 14,
   "metadata": {},
   "outputs": [
    {
     "data": {
      "application/vnd.jupyter.widget-view+json": {
       "model_id": "e5db38f1f4cb481c91057aefb251bd5f",
       "version_major": 2,
       "version_minor": 0
      },
      "text/plain": [
       "Output()"
      ]
     },
     "metadata": {},
     "output_type": "display_data"
    }
   ],
   "source": [
    "# Plot both geometries in one plot\n",
    "plot = plot_geometries([\n",
    "    (new_X_Ia, new_I_Fi, color_A)\n",
    "    ])\n",
    "\n",
    "plot.display()"
   ]
  },
  {
   "cell_type": "code",
   "execution_count": 15,
   "metadata": {},
   "outputs": [],
   "source": [
    "# add list to the connectivity matrix to create a closed surface [34, 16, 15, 33]\n",
    "new_I_Fi = np.append(new_I_Fi, [[34, 16, 33]], axis=0)"
   ]
  },
  {
   "cell_type": "code",
   "execution_count": 16,
   "metadata": {},
   "outputs": [
    {
     "data": {
      "application/vnd.jupyter.widget-view+json": {
       "model_id": "39aebbe8a9dd402393cff7d3f555c038",
       "version_major": 2,
       "version_minor": 0
      },
      "text/plain": [
       "Output()"
      ]
     },
     "metadata": {},
     "output_type": "display_data"
    }
   ],
   "source": [
    "# Plot both geometries in one plot\n",
    "plot = plot_geometries([\n",
    "    (new_X_Ia, new_I_Fi, color_A)\n",
    "    ])\n",
    "\n",
    "plot.display()"
   ]
  },
  {
   "cell_type": "code",
   "execution_count": 17,
   "metadata": {},
   "outputs": [
    {
     "data": {
      "application/vnd.jupyter.widget-view+json": {
       "model_id": "07c775106d4d456d991aa9ab9883c5bc",
       "version_major": 2,
       "version_minor": 0
      },
      "text/plain": [
       "Output()"
      ]
     },
     "metadata": {},
     "output_type": "display_data"
    }
   ],
   "source": [
    "def create_solid_connectivity(orig_I_Fi, num_nodes):\n",
    "    \"\"\"\n",
    "    Generates the side faces to connect the original and offset surfaces.\n",
    "    \n",
    "    Parameters:\n",
    "    - orig_I_Fi (numpy.ndarray): (M, K) connectivity matrix of the original surface.\n",
    "    - num_nodes (int): Number of nodes in the original surface.\n",
    "    \n",
    "    Returns:\n",
    "    - side_I_Fi (numpy.ndarray): Triangulated connectivity matrix for side faces.\n",
    "    \"\"\"\n",
    "    side_faces = []\n",
    "\n",
    "    for face in orig_I_Fi:\n",
    "        if len(face) == 3:  # If the original faces are triangles\n",
    "            a, b, c = face\n",
    "            a2, b2, c2 = a + num_nodes, b + num_nodes, c + num_nodes\n",
    "\n",
    "            # Create 3 quads (split into 6 triangles)\n",
    "            side_faces.append([a, b, b2])\n",
    "            side_faces.append([a, b2, a2])\n",
    "\n",
    "            side_faces.append([b, c, c2])\n",
    "            side_faces.append([b, c2, b2])\n",
    "\n",
    "            side_faces.append([c, a, a2])\n",
    "            side_faces.append([c, a2, c2])\n",
    "\n",
    "    return np.array(side_faces, dtype=np.int32)\n",
    "\n",
    "def duplicate_and_offset_surface_with_solid(orig_X_Ia, orig_I_Fi, t):\n",
    "    \"\"\"\n",
    "    Duplicates a 3D surface, offsets it in the z-direction by t, and connects both layers to form a solid.\n",
    "    \n",
    "    Parameters:\n",
    "    - orig_X_Ia (numpy.ndarray): (N,3) array of node coordinates.\n",
    "    - orig_I_Fi (numpy.ndarray): (M,K) connectivity matrix (faces).\n",
    "    - t (float): Offset distance in the z-direction.\n",
    "    \n",
    "    Returns:\n",
    "    - new_X_Ia (numpy.ndarray): Updated node coordinates (2N,3).\n",
    "    - solid_I_Fi (numpy.ndarray): Fully closed connectivity matrix.\n",
    "    \"\"\"\n",
    "    num_nodes = orig_X_Ia.shape[0]\n",
    "\n",
    "    # Duplicate nodes and apply offset in the z-direction\n",
    "    offset_X_Ia = orig_X_Ia.copy()\n",
    "    offset_X_Ia[:, 2] += t\n",
    "\n",
    "    # Combine original and offset nodes\n",
    "    new_X_Ia = np.vstack((orig_X_Ia, offset_X_Ia))\n",
    "\n",
    "    # Compute connectivity for the offset surface\n",
    "    offset_I_Fi = orig_I_Fi + num_nodes  # Shift indices for offset layer\n",
    "\n",
    "    # Compute side faces to connect both layers\n",
    "    side_I_Fi = create_solid_connectivity(orig_I_Fi, num_nodes)\n",
    "\n",
    "    # **Flip the original faces to close the bottom**\n",
    "    bottom_I_Fi = np.flip(orig_I_Fi, axis=1)  # Flip triangles/quads\n",
    "\n",
    "    # Combine all faces\n",
    "    solid_I_Fi = np.vstack((bottom_I_Fi, offset_I_Fi, side_I_Fi))\n",
    "\n",
    "    return new_X_Ia, solid_I_Fi\n",
    "\n",
    "import k3d\n",
    "import numpy as np\n",
    "\n",
    "def plot_solid_surfaces_in_k3d(geometries, colors=None):\n",
    "    \"\"\"\n",
    "    Plots multiple 3D solid-like structures in k3d with node labels.\n",
    "    \n",
    "    Parameters:\n",
    "    - geometries (list of tuples): Each tuple contains:\n",
    "        - X_Ia (numpy.ndarray): (N,3) array of node coordinates.\n",
    "        - I_Fi (numpy.ndarray): (M,K) connectivity matrix (faces).\n",
    "    - colors (list of int, optional): List of hex colors for each geometry. If None, random colors are used.\n",
    "\n",
    "    Returns:\n",
    "    - k3d plot\n",
    "    \"\"\"\n",
    "    plot = k3d.plot()\n",
    "\n",
    "    num_geometries = len(geometries)\n",
    "    if colors is None:\n",
    "        colors = np.random.randint(0x1000000, 0xFFFFFF, size=num_geometries).tolist()\n",
    "\n",
    "    for idx, (X_Ia, I_Fi) in enumerate(geometries):\n",
    "        color = colors[idx % len(colors)]  # Assign color\n",
    "\n",
    "        # Create the solid mesh (filled structure)\n",
    "        mesh = k3d.mesh(X_Ia.astype(np.float32), I_Fi.astype(np.uint32),\n",
    "                         color=color, wireframe=False, opacity=1.0, compression_level=9)\n",
    "        plot += mesh\n",
    "\n",
    "        # Add nodes as red points\n",
    "        points = k3d.points(X_Ia, point_size=20, color=0xff0000)\n",
    "        plot += points\n",
    "\n",
    "        # Add node labels\n",
    "        for i, position in enumerate(X_Ia):\n",
    "            label = k3d.text(\n",
    "                text=str(i),  # Node index as label\n",
    "                position=position.astype(np.float32),\n",
    "                color=0x000000,  # Black color for contrast\n",
    "                size=0.7  # Adjust size to prevent clutter\n",
    "            )\n",
    "            plot += label\n",
    "\n",
    "    return plot\n",
    "\n",
    "# Generate the new geometry with a fully enclosed solid\n",
    "new_X_Ia, solid_I_Fi = duplicate_and_offset_surface_with_solid(orig_X_Ia, orig_I_Fi, t)\n",
    "\n",
    "geometries = [\n",
    "    (new_X_Ia, solid_I_Fi),  # First geometry\n",
    "]\n",
    "# Plot in k3d with node numbers\n",
    "\n",
    "plot = plot_solid_surfaces_in_k3d(geometries, colors=[0xe74c3c])\n",
    "plot.display()"
   ]
  },
  {
   "cell_type": "code",
   "execution_count": 18,
   "metadata": {},
   "outputs": [],
   "source": [
    "new_X_Ib = new_X_Ia.copy()"
   ]
  },
  {
   "cell_type": "code",
   "execution_count": 19,
   "metadata": {},
   "outputs": [
    {
     "name": "stdout",
     "output_type": "stream",
     "text": [
      "Rotation Matrix R:\n",
      " [[ 1.00000000e+00  1.67386208e-07 -7.63237098e-07]\n",
      " [-1.42815761e-07  9.99485319e-01  3.20795411e-02]\n",
      " [ 7.68213947e-07 -3.20795411e-02  9.99485319e-01]]\n",
      "Translation Vector t:\n",
      " [494.76859488 384.29060622  43.834682  ]\n",
      "Transformed B Coordinates:\n",
      " [[ 5.66268653e+02  3.81836755e+02  4.38741061e+01]\n",
      " [ 4.23268653e+02  3.81836775e+02  4.38739962e+01]\n",
      " [ 8.16268627e+02  7.71301389e+02  1.50323910e+02]\n",
      " [ 1.73268627e+02  7.71301481e+02  1.50323416e+02]\n",
      " [ 8.16268498e+02 -1.62820326e-04  1.75079651e+02]\n",
      " [ 1.73268498e+02 -7.09897918e-05  1.75079157e+02]\n",
      " [ 6.68037128e+02  3.85849220e+02  1.68888910e+02]\n",
      " [ 3.21499988e+02  3.85849270e+02  1.68888644e+02]\n",
      " [ 7.15001528e+01  7.63280392e+02  2.55017592e+01]\n",
      " [ 1.52755178e-04  7.63280402e+02  2.55017043e+01]\n",
      " [ 3.53298258e-06  3.85849308e+02  1.68888397e+02]\n",
      " [ 7.15000249e+01  2.22055153e-04  5.00000455e+01]\n",
      " [ 2.49268145e-05  2.32266480e-04  4.99999906e+01]\n",
      " [ 9.89537291e+02  7.63280261e+02  2.55024644e+01]\n",
      " [ 9.18037291e+02  7.63280271e+02  2.55024095e+01]\n",
      " [ 9.89537112e+02  3.85849167e+02  1.68889157e+02]\n",
      " [ 9.89537163e+02  9.09449800e-05  5.00007508e+01]\n",
      " [ 9.18037163e+02  1.01156307e-04  5.00006958e+01]\n",
      " [ 5.66268615e+02  3.83440732e+02  9.38483720e+01]\n",
      " [ 4.23268615e+02  3.83440752e+02  9.38482622e+01]\n",
      " [ 8.16268589e+02  7.72905366e+02  2.00298176e+02]\n",
      " [ 1.73268589e+02  7.72905458e+02  2.00297682e+02]\n",
      " [ 8.16268460e+02  1.60381423e+00  2.25053917e+02]\n",
      " [ 1.73268460e+02  1.60390606e+00  2.25053423e+02]\n",
      " [ 6.68037090e+02  3.87453197e+02  2.18863176e+02]\n",
      " [ 3.21499950e+02  3.87453247e+02  2.18862910e+02]\n",
      " [ 7.15001146e+01  7.64884369e+02  7.54760251e+01]\n",
      " [ 1.14593323e-04  7.64884379e+02  7.54759702e+01]\n",
      " [-3.46288724e-05  3.87453285e+02  2.18862663e+02]\n",
      " [ 7.14999868e+01  1.60419911e+00  9.99743115e+01]\n",
      " [-1.32350404e-05  1.60420932e+00  9.99742566e+01]\n",
      " [ 9.89537253e+02  7.64884238e+02  7.54767304e+01]\n",
      " [ 9.18037253e+02  7.64884248e+02  7.54766755e+01]\n",
      " [ 9.89537074e+02  3.87453144e+02  2.18863423e+02]\n",
      " [ 9.89537125e+02  1.60406800e+00  9.99750167e+01]\n",
      " [ 9.18037125e+02  1.60407821e+00  9.99749618e+01]]\n"
     ]
    }
   ],
   "source": [
    "# orig_X_Ia: Fixed geometry A (18 points, each with (x, y, z))\n",
    "# orig_X_Ib: Movable geometry B (18 points, each with (x, y, z))\n",
    "\n",
    "# Define corresponding points: (index_B, index_A)\n",
    "point_pairs = [(5, 24), (7, 20), (1, 32)]  # B[5] -> A[6], B[1] -> A[14], B[0] -> A[13]\n",
    "\n",
    "# Run alignment\n",
    "aligned_X_Ib, R, t = align_geometries(new_X_Ia, new_X_Ib, point_pairs)\n",
    "\n",
    "# Print results\n",
    "print(\"Rotation Matrix R:\\n\", R)\n",
    "print(\"Translation Vector t:\\n\", t)\n",
    "print(\"Transformed B Coordinates:\\n\", aligned_X_Ib)\n"
   ]
  },
  {
   "cell_type": "code",
   "execution_count": 20,
   "metadata": {},
   "outputs": [
    {
     "data": {
      "application/vnd.jupyter.widget-view+json": {
       "model_id": "111bf334116f4c0095469cf11fd18b15",
       "version_major": 2,
       "version_minor": 0
      },
      "text/plain": [
       "Output()"
      ]
     },
     "metadata": {},
     "output_type": "display_data"
    }
   ],
   "source": [
    "import k3d\n",
    "import numpy as np\n",
    "\n",
    "def plot_solid_surfaces_in_k3d(geometries, colors=None):\n",
    "    \"\"\"\n",
    "    Plots multiple 3D solid-like structures in k3d with node labels and offset labels to prevent overlap.\n",
    "    \n",
    "    Parameters:\n",
    "    - geometries (list of tuples): Each tuple contains:\n",
    "        - X_Ia (numpy.ndarray): (N,3) array of node coordinates.\n",
    "        - I_Fi (numpy.ndarray): (M,K) connectivity matrix (faces).\n",
    "    - colors (list of int, optional): List of hex colors for each geometry. If None, random colors are used.\n",
    "\n",
    "    Returns:\n",
    "    - k3d plot\n",
    "    \"\"\"\n",
    "    plot = k3d.plot()\n",
    "\n",
    "    num_geometries = len(geometries)\n",
    "    if colors is None:\n",
    "        colors = np.random.randint(0, 0xFFFFFF, size=num_geometries).tolist()  # Fixed range\n",
    "\n",
    "    for idx, (X_Ia, I_Fi) in enumerate(geometries):\n",
    "        color = colors[idx % len(colors)]  # Assign color\n",
    "\n",
    "        # Create the solid mesh (filled structure)\n",
    "        mesh = k3d.mesh(X_Ia.astype(np.float32), I_Fi.astype(np.uint32),\n",
    "                         color=color, wireframe=False, opacity=1.0, compression_level=9)\n",
    "        plot += mesh\n",
    "\n",
    "        # Add nodes as red points\n",
    "        points = k3d.points(X_Ia, point_size=20, color=0xff0000)\n",
    "        plot += points\n",
    "\n",
    "        # Add node labels with offset to avoid overlap\n",
    "        for i, position in enumerate(X_Ia):\n",
    "            offset = np.array([25 * idx, 0, 0])  # Shift each geometry's labels in x-direction\n",
    "            label_position = position + offset\n",
    "\n",
    "            label = k3d.text(\n",
    "                text=str(i),  # Node index as label\n",
    "                position=label_position.astype(np.float32),\n",
    "                color=color,  # Black color for contrast\n",
    "                size=0.7  # Adjust size to prevent clutter\n",
    "            )\n",
    "            plot += label\n",
    "\n",
    "    return plot\n",
    "\n",
    "# Example usage\n",
    "geometries = [\n",
    "    (new_X_Ia, solid_I_Fi),  # First geometry\n",
    "    (aligned_X_Ib, solid_I_Fi)   # Second geometry\n",
    "]\n",
    "\n",
    "plot = plot_solid_surfaces_in_k3d(geometries, colors=[0xe74c3c, 0x3498db])\n",
    "plot.display()\n"
   ]
  },
  {
   "cell_type": "code",
   "execution_count": 21,
   "metadata": {},
   "outputs": [
    {
     "name": "stdout",
     "output_type": "stream",
     "text": [
      "Calculated sliding distance d: 189.83321789961815\n"
     ]
    }
   ],
   "source": [
    "import numpy as np\n",
    "\n",
    "def find_sliding_distance(new_X_Ia, aligned_X_Ib, \n",
    "                          slide_dir_start=24, slide_dir_end=32, \n",
    "                          director_A_start=0, director_A_end=2, \n",
    "                          director_B_start=25, director_B_end=29):\n",
    "    \"\"\"\n",
    "    Finds the sliding distance d along a direction defined by geometry A,\n",
    "    so that after moving geometry B by d, the director vectors (A: 2-0, B: 29-25)\n",
    "    become colinear.\n",
    "    \"\"\"\n",
    "    # Direction along which geometry B slides\n",
    "    u = new_X_Ia[slide_dir_end] - new_X_Ia[slide_dir_start]\n",
    "    u = u / np.linalg.norm(u)\n",
    "\n",
    "    # Director vector of geometry A\n",
    "    v_A = new_X_Ia[director_A_end] - new_X_Ia[director_A_start]\n",
    "\n",
    "    # Point on geometry B before displacement\n",
    "    point_B = aligned_X_Ib[director_B_start]\n",
    "\n",
    "    # Solve for d:\n",
    "    # (point_B + d*u - point_A_start) = λ * v_A  --> rearranged to linear problem\n",
    "    # We'll project difference vector onto direction perpendicular to v_A and solve for d.\n",
    "    \n",
    "    diff_vec = point_B - new_X_Ia[director_A_start]\n",
    "    \n",
    "    # We want: (point_B + d*u - point_A_start) to be parallel to v_A\n",
    "    # That means the cross product with v_A should be zero\n",
    "    # (point_B - point_A_start + d*u) x v_A = 0\n",
    "    # Expand:\n",
    "    # (diff_vec + d*u) x v_A = 0  --> (diff_vec x v_A) + d*(u x v_A) = 0\n",
    "    # Solve for d:\n",
    "    cross_diff = np.cross(diff_vec, v_A)\n",
    "    cross_u = np.cross(u, v_A)\n",
    "    \n",
    "    # Solve component-wise: (cross_diff + d*cross_u) = 0  => d = -cross_diff / cross_u\n",
    "    # We'll do a least-squares solution if not perfectly aligned:\n",
    "    if np.linalg.norm(cross_u) < 1e-12:\n",
    "        raise ValueError(\"The slide direction and director vector of A are parallel — cannot determine d.\")\n",
    "        \n",
    "    d_solution, _, _, _ = np.linalg.lstsq(cross_u.reshape(-1, 1), -cross_diff, rcond=None)\n",
    "    d = d_solution[0]\n",
    "    \n",
    "    print(f\"Calculated sliding distance d: {d}\")\n",
    "    return d\n",
    "\n",
    "def move_geometry_B(new_X_Ia, aligned_X_Ib, d, node_start=24, node_end=32):\n",
    "    \"\"\"\n",
    "    Move geometry B along the direction defined by two nodes of geometry A by distance d.\n",
    "    \"\"\"\n",
    "    direction_vec = new_X_Ia[node_end] - new_X_Ia[node_start]\n",
    "    direction_unit = direction_vec / np.linalg.norm(direction_vec)\n",
    "    displacement = d * direction_unit\n",
    "    moved_X_Ib = aligned_X_Ib + displacement\n",
    "    return moved_X_Ib\n",
    "\n",
    "\n",
    "# Usage example with your loaded geometries:\n",
    "d = find_sliding_distance(new_X_Ia, aligned_X_Ib,\n",
    "                          slide_dir_start=24, slide_dir_end=32, \n",
    "                          director_A_start=0, director_A_end=2, \n",
    "                          director_B_start=25, director_B_end=29)\n",
    "\n",
    "moved_X_Ib = move_geometry_B(new_X_Ia, aligned_X_Ib, d, node_start=24, node_end=32)\n"
   ]
  },
  {
   "cell_type": "code",
   "execution_count": 22,
   "metadata": {},
   "outputs": [
    {
     "data": {
      "application/vnd.jupyter.widget-view+json": {
       "model_id": "497a32fe653e4593b16994f8bbfa885f",
       "version_major": 2,
       "version_minor": 0
      },
      "text/plain": [
       "Output()"
      ]
     },
     "metadata": {},
     "output_type": "display_data"
    }
   ],
   "source": [
    "# Example usage\n",
    "geometries = [\n",
    "    (new_X_Ia, solid_I_Fi),  # First geometry\n",
    "    (moved_X_Ib, solid_I_Fi)   # Second geometry\n",
    "]\n",
    "\n",
    "plot = plot_solid_surfaces_in_k3d(geometries, colors=[0xe74c3c, 0x3498db])\n",
    "plot.display()"
   ]
  },
  {
   "cell_type": "markdown",
   "metadata": {},
   "source": []
  },
  {
   "cell_type": "code",
   "execution_count": 23,
   "metadata": {},
   "outputs": [
    {
     "name": "stdout",
     "output_type": "stream",
     "text": [
      "OBJ file saved as: solid_geometry.obj\n"
     ]
    }
   ],
   "source": [
    "def export_to_obj(filename, X_Ia, I_Fi):\n",
    "    \"\"\"\n",
    "    Exports the 3D geometry as an OBJ file.\n",
    "    \n",
    "    Parameters:\n",
    "    - filename (str): Name of the output OBJ file.\n",
    "    - X_Ia (numpy.ndarray): (N,3) array of node coordinates.\n",
    "    - I_Fi (numpy.ndarray): (M,3) triangular connectivity matrix (1-based indices for OBJ format).\n",
    "    \"\"\"\n",
    "    with open(filename, \"w\") as f:\n",
    "        # Write vertices\n",
    "        for v in X_Ia:\n",
    "            f.write(f\"v {v[0]} {v[1]} {v[2]}\\n\")\n",
    "\n",
    "        # Write faces (OBJ format uses 1-based indexing)\n",
    "        for face in I_Fi:\n",
    "            f.write(f\"f {face[0] + 1} {face[1] + 1} {face[2] + 1}\\n\")\n",
    "\n",
    "    print(f\"OBJ file saved as: {filename}\")\n",
    "\n",
    "# Example usage:\n",
    "export_to_obj(\"solid_geometry.obj\", new_X_Ia, solid_I_Fi)\n",
    "\n",
    "\n",
    "\n"
   ]
  }
 ],
 "metadata": {
  "kernelspec": {
   "display_name": "bmcs_virtual",
   "language": "python",
   "name": "python3"
  },
  "language_info": {
   "codemirror_mode": {
    "name": "ipython",
    "version": 3
   },
   "file_extension": ".py",
   "mimetype": "text/x-python",
   "name": "python",
   "nbconvert_exporter": "python",
   "pygments_lexer": "ipython3",
   "version": "3.12.3"
  }
 },
 "nbformat": 4,
 "nbformat_minor": 2
}
