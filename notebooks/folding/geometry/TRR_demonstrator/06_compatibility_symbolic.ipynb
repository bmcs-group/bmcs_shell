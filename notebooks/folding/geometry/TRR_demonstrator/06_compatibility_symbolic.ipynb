{
 "cells": [
  {
   "cell_type": "code",
   "execution_count": null,
   "metadata": {},
   "outputs": [],
   "source": [
    "from sympy import Matrix, symbols, init_printing\n",
    "init_printing()\n",
    "\n",
    "# Define symbolic variables for the orthonormal vector components\n",
    "e11, e12, e13 = 1, 0, 0\n",
    "e21, e22, e23 = 0, 1, 0\n",
    "e31, e32, e33 = 0, 0, 1\n",
    "\n",
    "X_A = Matrix([\n",
    "    [e11, e12, e13],\n",
    "    [e21, e22, e23],\n",
    "    [e31, e32, e33]\n",
    "])\n",
    "\n",
    "P1x, P1y, P1z = symbols('P1_x P1_y P1_z', real=True)\n",
    "P2x, P2y, P2z = symbols('P2_x P2_y P2_z', real=True)\n",
    "v1x, v1y, v1z = symbols('v1_x v1_y v1_z', real=True)\n",
    "v2x, v2y, v2z = symbols('v2_x v2_y v2_z', real=True)\n",
    "s1, s2 = symbols('s_1 s_2', real=True)\n",
    "\n",
    "l1_A = Matrix([P1x, P1y, P1z]) + s1 * Matrix([v1x, v1y, v1z])\n",
    "l2_A = Matrix([P2x, P2y, P2z]) + s2 * Matrix([v2x, v2y, v2z])"
   ]
  },
  {
   "cell_type": "code",
   "execution_count": null,
   "metadata": {},
   "outputs": [],
   "source": [
    "# Create rotation matrix for 180 degrees around the z-axis\n",
    "Rz_180 = Matrix([\n",
    "    [-1,  0,  0],\n",
    "    [ 0, -1,  0],\n",
    "    [ 0,  0,  1]\n",
    "])\n",
    "\n",
    "X_B = Rz_180 * X_A\n",
    "l1_B = Rz_180 * l1_A\n",
    "l2_B = Rz_180 * l2_A\n"
   ]
  },
  {
   "cell_type": "code",
   "execution_count": null,
   "metadata": {},
   "outputs": [],
   "source": [
    "l2_A, l2_B"
   ]
  },
  {
   "cell_type": "markdown",
   "metadata": {},
   "source": [
    "Define a coordinate system X_B which such that it is rotated 180 degrees about the z-axis and translated by the distance d_x along the x-axis and d_y along the y-axis."
   ]
  },
  {
   "cell_type": "code",
   "execution_count": null,
   "metadata": {},
   "outputs": [],
   "source": []
  }
 ],
 "metadata": {
  "kernelspec": {
   "display_name": "bmcs_env2",
   "language": "python",
   "name": "python3"
  },
  "language_info": {
   "codemirror_mode": {
    "name": "ipython",
    "version": 3
   },
   "file_extension": ".py",
   "mimetype": "text/x-python",
   "name": "python",
   "nbconvert_exporter": "python",
   "pygments_lexer": "ipython3"
  }
 },
 "nbformat": 4,
 "nbformat_minor": 2
}
