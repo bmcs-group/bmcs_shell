{
 "cells": [
  {
   "cell_type": "code",
   "execution_count": null,
   "metadata": {},
   "outputs": [],
   "source": [
    "import pandas as pd\n",
    "import numpy as np\n",
    "from scipy.spatial import cKDTree\n",
    "import k3d\n",
    "import numpy as np\n",
    "from bmcs_shell.folding.assembly.wb_scanned_cell import WBScannedCell\n",
    "from bmcs_shell.api import WBTessellation4PEx\n",
    "from scipy.spatial import cKDTree\n",
    "import pandas as pd\n",
    "from openpyxl import load_workbook\n",
    "import sympy as sp\n"
   ]
  },
  {
   "cell_type": "code",
   "execution_count": 1,
   "metadata": {},
   "outputs": [
    {
     "ename": "NameError",
     "evalue": "name 'WBTessellation4PEx' is not defined",
     "output_type": "error",
     "traceback": [
      "\u001b[0;31m---------------------------------------------------------------------------\u001b[0m",
      "\u001b[0;31mNameError\u001b[0m                                 Traceback (most recent call last)",
      "Cell \u001b[0;32mIn[1], line 10\u001b[0m\n\u001b[1;32m      6\u001b[0m e_num\u001b[38;5;241m=\u001b[39m \u001b[38;5;241m286\u001b[39m\u001b[38;5;241m/\u001b[39m\u001b[38;5;241m4\u001b[39m\n\u001b[1;32m      7\u001b[0m gamma_num\u001b[38;5;241m=\u001b[39m \u001b[38;5;241m0.683\u001b[39m\n\u001b[0;32m---> 10\u001b[0m wb_shell \u001b[38;5;241m=\u001b[39m \u001b[43mWBTessellation4PEx\u001b[49m(\n\u001b[1;32m     11\u001b[0m                          a\u001b[38;5;241m=\u001b[39ma_num,\n\u001b[1;32m     12\u001b[0m                          b \u001b[38;5;241m=\u001b[39m b_num, \n\u001b[1;32m     13\u001b[0m                          c \u001b[38;5;241m=\u001b[39m c_num, \n\u001b[1;32m     14\u001b[0m                          e_x \u001b[38;5;241m=\u001b[39m e_num,\n\u001b[1;32m     15\u001b[0m                          gamma\u001b[38;5;241m=\u001b[39mgamma_num, \u001b[38;5;66;03m# a value of gamma = 0.75 was estimated from normals, but a CAD comparison showed that 0.75 doesn't lead to closer geometry to the scanned \u001b[39;00m\n\u001b[1;32m     16\u001b[0m                          n_phi_plus\u001b[38;5;241m=\u001b[39m\u001b[38;5;241m2\u001b[39m, \u001b[38;5;66;03m# planned 5 \u001b[39;00m\n\u001b[1;32m     17\u001b[0m                          n_x_plus\u001b[38;5;241m=\u001b[39m\u001b[38;5;241m2\u001b[39m,  \u001b[38;5;66;03m# planned 3\u001b[39;00m\n\u001b[1;32m     18\u001b[0m                          wireframe_width\u001b[38;5;241m=\u001b[39m\u001b[38;5;241m5\u001b[39m,\n\u001b[1;32m     19\u001b[0m                         \u001b[38;5;66;03m##---- Trimming function works only in WBTessellation4P ----##\u001b[39;00m\n\u001b[1;32m     20\u001b[0m                          trim_half_cells_along_y\u001b[38;5;241m=\u001b[39m\u001b[38;5;28;01mTrue\u001b[39;00m,\n\u001b[1;32m     21\u001b[0m                          trim_half_cells_along_x\u001b[38;5;241m=\u001b[39m\u001b[38;5;28;01mTrue\u001b[39;00m,\n\u001b[1;32m     22\u001b[0m \u001b[38;5;66;03m#                          align_outer_nodes_along_x=True,\u001b[39;00m\n\u001b[1;32m     23\u001b[0m )\n\u001b[1;32m     24\u001b[0m \u001b[38;5;66;03m# wb_shell.interact()\u001b[39;00m\n\u001b[1;32m     25\u001b[0m orig_I_Fi \u001b[38;5;241m=\u001b[39m np\u001b[38;5;241m.\u001b[39mcopy(wb_shell\u001b[38;5;241m.\u001b[39mI_Fi_trimmed)\n",
      "\u001b[0;31mNameError\u001b[0m: name 'WBTessellation4PEx' is not defined"
     ]
    }
   ],
   "source": [
    "\n",
    "\n",
    "# Set the reference geometry to be generated from the closed form kinematics\n",
    "t_num = 30\n",
    "a_num= 1000/4\n",
    "b_num= 1615/4\n",
    "c_num= 645/4\n",
    "e_num= 286/4\n",
    "gamma_num= 0.683\n",
    "\n",
    "\n",
    "wb_shell = WBTessellation4PEx(\n",
    "                         a=a_num,\n",
    "                         b = b_num, \n",
    "                         c = c_num, \n",
    "                         e_x = e_num,\n",
    "                         gamma=gamma_num, # a value of gamma = 0.75 was estimated from normals, but a CAD comparison showed that 0.75 doesn't lead to closer geometry to the scanned \n",
    "                         n_phi_plus=2, # planned 5 \n",
    "                         n_x_plus=2,  # planned 3\n",
    "                         wireframe_width=5,\n",
    "                        ##---- Trimming function works only in WBTessellation4P ----##\n",
    "                         trim_half_cells_along_y=True,\n",
    "                         trim_half_cells_along_x=True,\n",
    "#                          align_outer_nodes_along_x=True,\n",
    ")\n",
    "# wb_shell.interact()\n",
    "orig_I_Fi = np.copy(wb_shell.I_Fi_trimmed)\n",
    "orig_X_Ia = np.copy(wb_shell.X_Ia_trimmed)\n",
    "orig_X_Ib = np.copy(wb_shell.X_Ia_trimmed)\n"
   ]
  },
  {
   "cell_type": "markdown",
   "metadata": {},
   "source": [
    "# Generate solid geometry "
   ]
  },
  {
   "cell_type": "code",
   "execution_count": null,
   "metadata": {},
   "outputs": [
    {
     "name": "stderr",
     "output_type": "stream",
     "text": [
      "/Users/gui/Documents/VSCode/bmcs_env/lib/python3.12/site-packages/traittypes/traittypes.py:97: UserWarning: Given trait value dtype \"float64\" does not match required type \"float32\". A coerced copy has been created.\n",
      "  warnings.warn(\n"
     ]
    },
    {
     "data": {
      "application/vnd.jupyter.widget-view+json": {
       "model_id": "d3167eb572d74c128eabca87cb48b0bd",
       "version_major": 2,
       "version_minor": 0
      },
      "text/plain": [
       "Output()"
      ]
     },
     "metadata": {},
     "output_type": "display_data"
    }
   ],
   "source": [
    "def create_solid_connectivity(orig_I_Fi, num_nodes):\n",
    "    \"\"\"\n",
    "    Generates the side faces to connect the original and offset surfaces.\n",
    "    \n",
    "    Parameters:\n",
    "    - orig_I_Fi (numpy.ndarray): (M, K) connectivity matrix of the original surface.\n",
    "    - num_nodes (int): Number of nodes in the original surface.\n",
    "    \n",
    "    Returns:\n",
    "    - side_I_Fi (numpy.ndarray): Triangulated connectivity matrix for side faces.\n",
    "    \"\"\"\n",
    "    side_faces = []\n",
    "\n",
    "    for face in orig_I_Fi:\n",
    "        if len(face) == 3:  # If the original faces are triangles\n",
    "            a, b, c = face\n",
    "            a2, b2, c2 = a + num_nodes, b + num_nodes, c + num_nodes\n",
    "\n",
    "            # Create 3 quads (split into 6 triangles)\n",
    "            side_faces.append([a, b, b2])\n",
    "            side_faces.append([a, b2, a2])\n",
    "\n",
    "            side_faces.append([b, c, c2])\n",
    "            side_faces.append([b, c2, b2])\n",
    "\n",
    "            side_faces.append([c, a, a2])\n",
    "            side_faces.append([c, a2, c2])\n",
    "\n",
    "    return np.array(side_faces, dtype=np.int32)\n",
    "\n",
    "def duplicate_and_offset_surface_with_solid(orig_X_Ia, orig_I_Fi, t):\n",
    "    \"\"\"\n",
    "    Duplicates a 3D surface, offsets it in the z-direction by t, and connects both layers to form a solid.\n",
    "    \n",
    "    Parameters:\n",
    "    - orig_X_Ia (numpy.ndarray): (N,3) array of node coordinates.\n",
    "    - orig_I_Fi (numpy.ndarray): (M,K) connectivity matrix (faces).\n",
    "    - t (float): Offset distance in the z-direction.\n",
    "    \n",
    "    Returns:\n",
    "    - new_X_Ia (numpy.ndarray): Updated node coordinates (2N,3).\n",
    "    - solid_I_Fi (numpy.ndarray): Fully closed connectivity matrix.\n",
    "    \"\"\"\n",
    "    num_nodes = orig_X_Ia.shape[0]\n",
    "\n",
    "    # Duplicate nodes and apply offset in the z-direction\n",
    "    offset_X_Ia = orig_X_Ia.copy()\n",
    "    offset_X_Ia[:, 2] += t\n",
    "\n",
    "    # Combine original and offset nodes\n",
    "    new_X_Ia = np.vstack((orig_X_Ia, offset_X_Ia))\n",
    "\n",
    "    # Compute connectivity for the offset surface\n",
    "    offset_I_Fi = orig_I_Fi + num_nodes  # Shift indices for offset layer\n",
    "\n",
    "    # Compute side faces to connect both layers\n",
    "    side_I_Fi = create_solid_connectivity(orig_I_Fi, num_nodes)\n",
    "\n",
    "    # **Flip the original faces to close the bottom**\n",
    "    bottom_I_Fi = np.flip(orig_I_Fi, axis=1)  # Flip triangles/quads\n",
    "\n",
    "    # Combine all faces\n",
    "    solid_I_Fi = np.vstack((bottom_I_Fi, offset_I_Fi, side_I_Fi))\n",
    "\n",
    "    return new_X_Ia, solid_I_Fi\n",
    "\n",
    "def plot_solid_surfaces_in_k3d(geometries, colors=None):\n",
    "    \"\"\"\n",
    "    Plots multiple 3D solid-like structures in k3d with node labels and offset labels to prevent overlap.\n",
    "    \n",
    "    Parameters:\n",
    "    - geometries (list of tuples): Each tuple contains:\n",
    "        - X_Ia (numpy.ndarray): (N,3) array of node coordinates.\n",
    "        - I_Fi (numpy.ndarray): (M,K) connectivity matrix (faces).\n",
    "    - colors (list of int, optional): List of hex colors for each geometry. If None, random colors are used.\n",
    "\n",
    "    Returns:\n",
    "    - k3d plot\n",
    "    \"\"\"\n",
    "    plot = k3d.plot()\n",
    "\n",
    "    num_geometries = len(geometries)\n",
    "    if colors is None:\n",
    "        colors = np.random.randint(0, 0xFFFFFF, size=num_geometries).tolist()  # Fixed range\n",
    "\n",
    "    for idx, (X_Ia, I_Fi) in enumerate(geometries):\n",
    "        color = colors[idx % len(colors)]  # Assign color\n",
    "\n",
    "        # Create the solid mesh (filled structure)\n",
    "        mesh = k3d.mesh(X_Ia.astype(np.float32), I_Fi.astype(np.uint32),\n",
    "                         color=color, wireframe=False, opacity=1, compression_level=9)\n",
    "        plot += mesh\n",
    "\n",
    "        # Add nodes as red points\n",
    "        points = k3d.points(X_Ia, point_size=20, color=0xff0000)\n",
    "        plot += points\n",
    "\n",
    "        # Add node labels with offset to avoid overlap\n",
    "        for i, position in enumerate(X_Ia):\n",
    "            offset = np.array([25 * idx, 0, 0])  # Shift each geometry's labels in x-direction\n",
    "            label_position = position + offset\n",
    "\n",
    "            label = k3d.text(\n",
    "                text=str(i),  # Node index as label\n",
    "                position=label_position.astype(np.float32),\n",
    "                color=color,  # Black color for contrast\n",
    "                size=0.7  # Adjust size to prevent clutter\n",
    "            )\n",
    "            plot += label\n",
    "\n",
    "    return plot\n",
    "\n",
    "# Generate the new geometry with a fully enclosed solid\n",
    "new_X_Ia, solid_I_Fi = duplicate_and_offset_surface_with_solid(orig_X_Ia, orig_I_Fi, t_num)\n",
    "new_X_Ia = new_X_Ia - t_num * np.array([0, 0, 1])\n",
    "new_X_Ib, solid_I_Fi = duplicate_and_offset_surface_with_solid(orig_X_Ib, orig_I_Fi, t_num)\n",
    "\n",
    "# Example usage\n",
    "geometries = [\n",
    "    (new_X_Ia, solid_I_Fi),  # First geometry\n",
    "    (new_X_Ib, solid_I_Fi)   # Second geometry\n",
    "]\n",
    "\n",
    "plot = plot_solid_surfaces_in_k3d(geometries, colors=[0xe74c3c, 0x3498db])\n",
    "plot.display()"
   ]
  },
  {
   "cell_type": "code",
   "execution_count": null,
   "metadata": {},
   "outputs": [
    {
     "data": {
      "text/plain": [
       "(array([173.26856995,   0.        , 125.07910156]),\n",
       " array([ 4.94768554e+02, -7.62939453e-06,  1.25079102e+02]))"
      ]
     },
     "execution_count": 66,
     "metadata": {},
     "output_type": "execute_result"
    }
   ],
   "source": [
    "new_X_Ia[24],new_X_Ia[33]"
   ]
  },
  {
   "cell_type": "markdown",
   "metadata": {},
   "source": [
    "# Understanding the geometry\n",
    "\n",
    "Given the middle surface between geometry A (red) and geometry B (blue). The geometry A is extruded in $-z$-direction and B in $+z$-direction with thickness $t$.\n",
    "\n",
    "The following code snippet defines the rotation matrix. Initially it is set to rotate around $x$, but rotation around $y$ and $z$ can be included.\n",
    "\n",
    "\n",
    "The goal is to calculate the rotation matrix $R(\\theta)$, the translation vector $\\delta_{\\vartheta}$ that brings B to the overlaid state ${\\vartheta}$ and the vector $\\delta_{\\Omega}$ that brings from the overlaid state to the assembled state $\\Omega$. Then, this transformation that assembles the waterbomb modules are given by:\n",
    "$\\mathbf{x}_{\\Omega} = R(\\theta) \\cdot \\mathbf{x}_{\\gamma}+ \\delta_{\\vartheta} +\\delta_{\\Omega} $\n",
    "\n",
    "\n",
    "![Crease convention and nomenclature](analytical-sol-convention.png)"
   ]
  },
  {
   "cell_type": "code",
   "execution_count": null,
   "metadata": {},
   "outputs": [
    {
     "data": {
      "text/latex": [
       "$\\displaystyle \\left[\\begin{matrix}1 & 0 & 0\\\\0 & \\cos{\\left(\\theta_{x} \\right)} & - \\sin{\\left(\\theta_{x} \\right)}\\\\0 & \\sin{\\left(\\theta_{x} \\right)} & \\cos{\\left(\\theta_{x} \\right)}\\end{matrix}\\right]$"
      ],
      "text/plain": [
       "Matrix([\n",
       "[1,            0,             0],\n",
       "[0, cos(theta_x), -sin(theta_x)],\n",
       "[0, sin(theta_x),  cos(theta_x)]])"
      ]
     },
     "execution_count": 5,
     "metadata": {},
     "output_type": "execute_result"
    }
   ],
   "source": [
    "\n",
    "\n",
    "# Known angles (alpha_x and alpha_z)\n",
    "theta_x = sp.Symbol('theta_x', real=True)\n",
    "theta_y = sp.Symbol('theta_y', real=True)  # Unknown\n",
    "theta_z = sp.Symbol('theta_z', real=True)\n",
    "\n",
    "# Trig functions\n",
    "cx = sp.cos(theta_x)\n",
    "sx = sp.sin(theta_x)\n",
    "cy = sp.cos(theta_y)\n",
    "sy = sp.sin(theta_y)\n",
    "cz = sp.cos(theta_z)\n",
    "sz = sp.sin(theta_z)\n",
    "\n",
    "# Rotation matrices\n",
    "R_x = sp.Matrix([\n",
    "    [1, 0, 0],\n",
    "    [0, cx, -sx],\n",
    "    [0, sx, cx]\n",
    "])\n",
    "R_y = sp.Matrix([\n",
    "    [cy, 0, sy],\n",
    "    [0, 1, 0],\n",
    "    [-sy, 0, cy]\n",
    "])\n",
    "R_z = sp.Matrix([\n",
    "    [cz, -sz, 0],\n",
    "    [sz, cz, 0],\n",
    "    [0, 0, 1]\n",
    "])\n",
    "\n",
    "# Full rotation matrix (Z * Y * X)\n",
    "#R = R_z @ R_y @ R_x\n",
    "R = R_x\n",
    "\n",
    "R"
   ]
  },
  {
   "cell_type": "code",
   "execution_count": null,
   "metadata": {},
   "outputs": [
    {
     "data": {
      "text/latex": [
       "$\\displaystyle \\left[\\begin{matrix}x\\\\y\\\\z\\end{matrix}\\right]$"
      ],
      "text/plain": [
       "Matrix([\n",
       "[x],\n",
       "[y],\n",
       "[z]])"
      ]
     },
     "execution_count": 6,
     "metadata": {},
     "output_type": "execute_result"
    }
   ],
   "source": [
    "\n",
    "# Define symbols\n",
    "x, y, z, a, b, c, e, gamma, t, delta_sx, delta_sy, delta_sz= sp.symbols(r'x y z a b c e \\gamma t \\delta_{sx} \\delta_{sy} \\delta_{sz}', real=True)\n",
    "\n",
    "X = sp.Matrix([x, y, z])\n",
    "X"
   ]
  },
  {
   "cell_type": "markdown",
   "metadata": {},
   "source": [
    "# Folded coordinates from the kinematics. \n",
    "\n",
    "Refer to paper \"Description of the origami waterbomb cell kinematics as a basis for the design of thin-walled oricrete shells\"\n",
    "\n",
    "Calculate $x^{\\urcorner}$, $y^{\\urcorner}$, $z^{\\urcorner}$ considering $e$"
   ]
  },
  {
   "cell_type": "code",
   "execution_count": null,
   "metadata": {},
   "outputs": [],
   "source": [
    "# calculate the coordinates for folded state\n",
    "x_folded = a+e\n",
    "y_folded = sp.sqrt((b**2*sp.cos(gamma)**2) - a**2 * (1 - sp.sin(gamma))**2) / (sp.cos(gamma))\n",
    "z_folded = (a * (1 - sp.sin(gamma))) / sp.cos(gamma)"
   ]
  },
  {
   "cell_type": "markdown",
   "metadata": {},
   "source": [
    "Calculate the angle $\\theta$ that governs the tessellation curvature"
   ]
  },
  {
   "cell_type": "code",
   "execution_count": null,
   "metadata": {},
   "outputs": [
    {
     "data": {
      "text/latex": [
       "$\\displaystyle \\operatorname{acos}{\\left(\\frac{- a^{2} \\left(\\sin{\\left(\\gamma \\right)} - 1\\right)^{2} + b^{2} \\cos^{2}{\\left(\\gamma \\right)} - \\left(a \\left(\\sin{\\left(\\gamma \\right)} - 1\\right) + c \\cos^{2}{\\left(\\gamma \\right)}\\right)^{2}}{\\left(- 2 a c \\sin{\\left(\\gamma \\right)} + 2 a c - b^{2} - c^{2} \\cos^{2}{\\left(\\gamma \\right)}\\right) \\cos^{2}{\\left(\\gamma \\right)}} \\right)} - \\pi$"
      ],
      "text/plain": [
       "acos((-a**2*(sin(\\gamma) - 1)**2 + b**2*cos(\\gamma)**2 - (a*(sin(\\gamma) - 1) + c*cos(\\gamma)**2)**2)/((-2*a*c*sin(\\gamma) + 2*a*c - b**2 - c**2*cos(\\gamma)**2)*cos(\\gamma)**2)) - pi"
      ]
     },
     "execution_count": 8,
     "metadata": {},
     "output_type": "execute_result"
    }
   ],
   "source": [
    "# Calculating theta to follow the curvature of the tesselation\n",
    "theta = ((z_folded - c*sp.cos(gamma))**2- y_folded**2) / ((z_folded - c*sp.cos(gamma))**2+ y_folded**2)\n",
    "theta = -sp.pi +sp.acos(theta.simplify())\n",
    "theta "
   ]
  },
  {
   "cell_type": "code",
   "execution_count": null,
   "metadata": {},
   "outputs": [],
   "source": [
    "# Substitute parameters\n",
    "subs_dict = {\n",
    "    a: a_num,\n",
    "    b: b_num,\n",
    "    c: c_num,\n",
    "    e: e_num,\n",
    "    gamma: gamma_num,\n",
    "    t: t_num,\n",
    "}\n"
   ]
  },
  {
   "cell_type": "code",
   "execution_count": null,
   "metadata": {},
   "outputs": [
    {
     "data": {
      "text/plain": [
       "array([-0.03208749])"
      ]
     },
     "execution_count": 10,
     "metadata": {},
     "output_type": "execute_result"
    }
   ],
   "source": [
    "theta_num = theta.subs(subs_dict)\n",
    "theta_num = theta_num.evalf()\n",
    "theta_np = np.array(sp.lambdify((), theta_num, modules='numpy')()).astype(np.float64).flatten()\n",
    "theta_np"
   ]
  },
  {
   "cell_type": "code",
   "execution_count": null,
   "metadata": {},
   "outputs": [
    {
     "data": {
      "text/plain": [
       "array([[ 1.        ,  0.        ,  0.        ],\n",
       "       [ 0.        ,  0.99948524,  0.03208198],\n",
       "       [ 0.        , -0.03208198,  0.99948524]])"
      ]
     },
     "execution_count": 11,
     "metadata": {},
     "output_type": "execute_result"
    }
   ],
   "source": [
    "R_num = R.subs(theta_x, theta_num)\n",
    "R_num = R_num.evalf()\n",
    "R_np = np.array(sp.lambdify((), R_num, modules='numpy')()).astype(np.float64)\n",
    "R_np"
   ]
  },
  {
   "cell_type": "markdown",
   "metadata": {},
   "source": [
    "# Enforcing colinearity between the creases of geometry A and B\n",
    "\n",
    "The global coordinate system is defined between $C_{\\gamma \\mathrm{A}+}^{\\vdash}$ and $C_{\\gamma \\mathrm{A}+}^{\\dashv}$. Basically, the same coordinate already defiend by the WB4CellParamEx().  The symbols $(+)$ and $(-)$ defines if the coordinate belongs to the upper or lower facet of the extruded geometry.\n",
    "\n",
    "To enforce colinearity between geometry A and B, we fix geometry A and move geometry B. The geometry B is rotated given the tessellation curvature $R(\\theta)$ and then translated by the vector $\\delta_{\\vartheta}$, that overlays geometry B on top of a quarter of geometry A. \n",
    "\n",
    "As the rotation is decoupled from the translation, the translation vector $\\delta_{\\theta}$ is calculated identifying which creases nodes from A have the same position as the crease nodes from B after the overlaying.\n",
    "\n",
    "When overlaid $\\vartheta$, $U_{\\vartheta \\mathrm{B}-}^{\\llcorner} = V_{\\mathrm{A}+}^{\\dashv} = R(\\theta)U_{\\vartheta\\mathrm{A}+}^{\\llcorner} + \\delta_{\\vartheta}$."
   ]
  },
  {
   "cell_type": "code",
   "execution_count": null,
   "metadata": {},
   "outputs": [
    {
     "data": {
      "text/plain": [
       "(Matrix([\n",
       " [c*sin(\\gamma) + e],\n",
       " [                0],\n",
       " [    c*cos(\\gamma)]]),\n",
       " Matrix([\n",
       " [                                                             -a - e],\n",
       " [-sqrt(-a**2*(1 - sin(\\gamma))**2 + b**2*cos(\\gamma)**2)/cos(\\gamma)],\n",
       " [                                    a*(1 - sin(\\gamma))/cos(\\gamma)]]))"
      ]
     },
     "execution_count": 12,
     "metadata": {},
     "output_type": "execute_result"
    }
   ],
   "source": [
    "# Calculate the folded coordinates\n",
    "\n",
    "Va_gamma_mr_upper = sp.Matrix([e+c*sp.sin(gamma), 0, c*sp.cos(gamma)])\n",
    "Ua_gamma_ll_upper = sp.Matrix([-x_folded, -y_folded, z_folded])\n",
    "\n",
    "Va_gamma_mr_upper, Ua_gamma_ll_upper"
   ]
  },
  {
   "cell_type": "code",
   "execution_count": null,
   "metadata": {},
   "outputs": [],
   "source": [
    "# Substitute symbolic expressions with values\n",
    "Va_gamma_mr_upper_num = Va_gamma_mr_upper.subs(subs_dict)\n",
    "Ua_gamma_ll_upper_num = Ua_gamma_ll_upper.subs(subs_dict)\n",
    "\n",
    "# Lambdify (no variables left to evaluate), then evaluate and flatten\n",
    "Va_gamma_mr_upper_np = np.array(sp.lambdify((), Va_gamma_mr_upper_num, modules='numpy')()).astype(np.float64).flatten()\n",
    "Ua_gamma_ll_upper_np = np.array(sp.lambdify((), Ua_gamma_ll_upper_num, modules='numpy')()).astype(np.float64).flatten()\n"
   ]
  },
  {
   "cell_type": "code",
   "execution_count": null,
   "metadata": {},
   "outputs": [
    {
     "data": {
      "text/plain": [
       "(array([-321.5       , -385.84936523,  118.88867188]),\n",
       " array([-321.5       , -385.84936523,  118.88867188]),\n",
       " Matrix([\n",
       " [                                                             -a - e],\n",
       " [-sqrt(-a**2*(1 - sin(\\gamma))**2 + b**2*cos(\\gamma)**2)/cos(\\gamma)],\n",
       " [                                    a*(1 - sin(\\gamma))/cos(\\gamma)]]))"
      ]
     },
     "execution_count": 14,
     "metadata": {},
     "output_type": "execute_result"
    }
   ],
   "source": [
    "new_X_Ia[23], new_X_Ib[5], Ua_gamma_ll_upper"
   ]
  },
  {
   "cell_type": "code",
   "execution_count": null,
   "metadata": {},
   "outputs": [
    {
     "data": {
      "text/plain": [
       "(array([173.26856995,   0.        , 125.07910156]),\n",
       " array([173.26856995,   0.        , 125.07910156]),\n",
       " Matrix([\n",
       " [c*sin(\\gamma) + e],\n",
       " [                0],\n",
       " [    c*cos(\\gamma)]]))"
      ]
     },
     "execution_count": 15,
     "metadata": {},
     "output_type": "execute_result"
    }
   ],
   "source": [
    "new_X_Ia[24], new_X_Ib[6], Va_gamma_mr_upper"
   ]
  },
  {
   "cell_type": "markdown",
   "metadata": {},
   "source": [
    "### Calculating $\\delta_{\\vartheta}$\n",
    "When overlaid, $\\delta_{\\vartheta} =  V_{{\\gamma} \\mathrm{A}+}^{\\dashv} - R(\\theta)U_{{\\gamma} \\mathrm{A}+}^{\\llcorner}$, given $U_{{\\vartheta} \\mathrm{B}-}^{\\llcorner} = V_{{\\gamma} \\mathrm{A}+}^{\\dashv} $ and  $U_{{\\gamma} \\mathrm{B}-}^{\\llcorner} = U_{{\\gamma} \\mathrm{A}+}^{\\llcorner}$"
   ]
  },
  {
   "cell_type": "code",
   "execution_count": null,
   "metadata": {},
   "outputs": [
    {
     "data": {
      "text/latex": [
       "$\\displaystyle \\left[\\begin{matrix}a + c \\sin{\\left(\\gamma \\right)} + 2 e\\\\\\frac{a \\left(1 - \\sin{\\left(\\gamma \\right)}\\right) \\sin{\\left(\\theta_{x} \\right)}}{\\cos{\\left(\\gamma \\right)}} + \\frac{\\sqrt{- a^{2} \\left(1 - \\sin{\\left(\\gamma \\right)}\\right)^{2} + b^{2} \\cos^{2}{\\left(\\gamma \\right)}} \\cos{\\left(\\theta_{x} \\right)}}{\\cos{\\left(\\gamma \\right)}}\\\\- \\frac{a \\left(1 - \\sin{\\left(\\gamma \\right)}\\right) \\cos{\\left(\\theta_{x} \\right)}}{\\cos{\\left(\\gamma \\right)}} + c \\cos{\\left(\\gamma \\right)} + \\frac{\\sqrt{- a^{2} \\left(1 - \\sin{\\left(\\gamma \\right)}\\right)^{2} + b^{2} \\cos^{2}{\\left(\\gamma \\right)}} \\sin{\\left(\\theta_{x} \\right)}}{\\cos{\\left(\\gamma \\right)}}\\end{matrix}\\right]$"
      ],
      "text/plain": [
       "Matrix([\n",
       "[                                                                                                                        a + c*sin(\\gamma) + 2*e],\n",
       "[                 a*(1 - sin(\\gamma))*sin(theta_x)/cos(\\gamma) + sqrt(-a**2*(1 - sin(\\gamma))**2 + b**2*cos(\\gamma)**2)*cos(theta_x)/cos(\\gamma)],\n",
       "[-a*(1 - sin(\\gamma))*cos(theta_x)/cos(\\gamma) + c*cos(\\gamma) + sqrt(-a**2*(1 - sin(\\gamma))**2 + b**2*cos(\\gamma)**2)*sin(theta_x)/cos(\\gamma)]])"
      ]
     },
     "execution_count": 16,
     "metadata": {},
     "output_type": "execute_result"
    }
   ],
   "source": [
    "delta_theta = Va_gamma_mr_upper - R * Ua_gamma_ll_upper\n",
    "delta_theta"
   ]
  },
  {
   "cell_type": "code",
   "execution_count": null,
   "metadata": {},
   "outputs": [],
   "source": [
    "# Substitute parameters + theta\n",
    "subs_dict = {\n",
    "    a: a_num,\n",
    "    b: b_num,\n",
    "    c: c_num,\n",
    "    e: e_num,\n",
    "    gamma: gamma_num,\n",
    "    t: t_num,\n",
    "    theta_x: theta_num\n",
    "}"
   ]
  },
  {
   "cell_type": "code",
   "execution_count": null,
   "metadata": {},
   "outputs": [
    {
     "data": {
      "text/plain": [
       "array([494.76856909, 381.83659666,  -6.12661375])"
      ]
     },
     "execution_count": 18,
     "metadata": {},
     "output_type": "execute_result"
    }
   ],
   "source": [
    "delta_theta_num = delta_theta.subs(subs_dict)\n",
    "delta_theta_np = np.array(sp.lambdify((), delta_theta_num, modules='numpy')()).astype(np.float64).flatten()\n",
    "delta_theta_np"
   ]
  },
  {
   "cell_type": "code",
   "execution_count": null,
   "metadata": {},
   "outputs": [
    {
     "data": {
      "text/latex": [
       "$\\displaystyle \\left[\\begin{matrix}a + c \\sin{\\left(\\gamma \\right)} + 2 e + x\\\\\\frac{a \\left(1 - \\sin{\\left(\\gamma \\right)}\\right) \\sin{\\left(\\theta_{x} \\right)}}{\\cos{\\left(\\gamma \\right)}} + y \\cos{\\left(\\theta_{x} \\right)} - z \\sin{\\left(\\theta_{x} \\right)} + \\frac{\\sqrt{- a^{2} \\left(1 - \\sin{\\left(\\gamma \\right)}\\right)^{2} + b^{2} \\cos^{2}{\\left(\\gamma \\right)}} \\cos{\\left(\\theta_{x} \\right)}}{\\cos{\\left(\\gamma \\right)}}\\\\- \\frac{a \\left(1 - \\sin{\\left(\\gamma \\right)}\\right) \\cos{\\left(\\theta_{x} \\right)}}{\\cos{\\left(\\gamma \\right)}} + c \\cos{\\left(\\gamma \\right)} + y \\sin{\\left(\\theta_{x} \\right)} + z \\cos{\\left(\\theta_{x} \\right)} + \\frac{\\sqrt{- a^{2} \\left(1 - \\sin{\\left(\\gamma \\right)}\\right)^{2} + b^{2} \\cos^{2}{\\left(\\gamma \\right)}} \\sin{\\left(\\theta_{x} \\right)}}{\\cos{\\left(\\gamma \\right)}}\\end{matrix}\\right]$"
      ],
      "text/plain": [
       "Matrix([\n",
       "[                                                                                                                                                      a + c*sin(\\gamma) + 2*e + x],\n",
       "[                 a*(1 - sin(\\gamma))*sin(theta_x)/cos(\\gamma) + y*cos(theta_x) - z*sin(theta_x) + sqrt(-a**2*(1 - sin(\\gamma))**2 + b**2*cos(\\gamma)**2)*cos(theta_x)/cos(\\gamma)],\n",
       "[-a*(1 - sin(\\gamma))*cos(theta_x)/cos(\\gamma) + c*cos(\\gamma) + y*sin(theta_x) + z*cos(theta_x) + sqrt(-a**2*(1 - sin(\\gamma))**2 + b**2*cos(\\gamma)**2)*sin(theta_x)/cos(\\gamma)]])"
      ]
     },
     "execution_count": 19,
     "metadata": {},
     "output_type": "execute_result"
    }
   ],
   "source": [
    "X_theta = R @ X + delta_theta\n",
    "X_theta"
   ]
  },
  {
   "cell_type": "code",
   "execution_count": null,
   "metadata": {},
   "outputs": [
    {
     "data": {
      "text/plain": [
       "([(x0, sin(\\gamma)),\n",
       "  (x1, cos(theta_x)),\n",
       "  (x2, sin(theta_x)),\n",
       "  (x3, cos(\\gamma)),\n",
       "  (x4, 1/x3),\n",
       "  (x5, 1 - x0),\n",
       "  (x6, a*x4*x5),\n",
       "  (x7, x4*sqrt(-a**2*x5**2 + b**2*x3**2))],\n",
       " [Matrix([\n",
       "  [                a + c*x0 + 2*e + x],\n",
       "  [       x1*x7 + x1*y + x2*x6 - x2*z],\n",
       "  [c*x3 - x1*x6 + x1*z + x2*x7 + x2*y]])])"
      ]
     },
     "execution_count": 20,
     "metadata": {},
     "output_type": "execute_result"
    }
   ],
   "source": [
    "X_theta = sp.cse(X_theta)\n",
    "X_theta"
   ]
  },
  {
   "cell_type": "markdown",
   "metadata": {},
   "source": [
    "### Rotating and translating B\n",
    "\n",
    "Given $R(\\theta)$ and $\\delta_{\\vartheta}$, the geometry B can be overlaid on A"
   ]
  },
  {
   "cell_type": "code",
   "execution_count": null,
   "metadata": {},
   "outputs": [],
   "source": [
    "new_X_Ib_theta = (R_np @ new_X_Ib.T).T + delta_theta_np"
   ]
  },
  {
   "cell_type": "code",
   "execution_count": null,
   "metadata": {},
   "outputs": [
    {
     "data": {
      "application/vnd.jupyter.widget-view+json": {
       "model_id": "f46f206d79994ab683d9ee99d8f6f18e",
       "version_major": 2,
       "version_minor": 0
      },
      "text/plain": [
       "Output()"
      ]
     },
     "metadata": {},
     "output_type": "display_data"
    }
   ],
   "source": [
    "# Example usage\n",
    "geometries = [\n",
    "    (new_X_Ia, solid_I_Fi),  # First geometry\n",
    "    (new_X_Ib_theta, solid_I_Fi)   # Second geometry\n",
    "]\n",
    "\n",
    "plot = plot_solid_surfaces_in_k3d(geometries, colors=[0xe74c3c, 0x3498db])\n",
    "plot.display()"
   ]
  },
  {
   "cell_type": "code",
   "execution_count": null,
   "metadata": {},
   "outputs": [
    {
     "data": {
      "text/plain": [
       "(array([ 0.00000000e+00, -8.22424380e-06, -6.37251395e-04]),\n",
       " array([ 8.52437040e-07, -3.48361436e-05, -5.68853757e-04]))"
      ]
     },
     "execution_count": 23,
     "metadata": {},
     "output_type": "execute_result"
    }
   ],
   "source": [
    "new_X_Ia[18]-new_X_Ib_theta[11], new_X_Ia[24]-new_X_Ib_theta[5]"
   ]
  },
  {
   "cell_type": "markdown",
   "metadata": {},
   "source": [
    "# Assembling B \n",
    "\n",
    "\n",
    "Moving B to assembled state, where the mountain facets are coplanar with the valley facets and there is no gap between them.\n",
    "\n",
    "In assembled state $\\Omega$:\n",
    "\n",
    "- 1. condition: $M_{\\gamma \\mathrm{A}+}^{\\urcorner}$ and $V_{\\gamma\\mathrm{A}+}^{\\dashv}$ are colinear\n",
    "- 2. condition: $C_{\\gamma \\mathrm{A}-}^{\\dashv}$ and $U_{\\gamma \\mathrm{A}-}^{\\urcorner}$ are colinear\n",
    "- 3. condition: $C_{\\gamma \\mathrm{A}-}^{\\dashv}$ are $V_{\\vartheta \\mathrm{B}+}^{\\vdash}  $ are colinear\n",
    "\n",
    "Given the rotation $R(\\theta)$ and $\\delta_{\\vartheta}$ applied to geometry B, we need to compute a translation vector $\\delta_{\\Omega}$ that will shift the geometry to the assembled position\n",
    "\n",
    "\n",
    "![Assembley analysis](assembly-analysis.png)"
   ]
  },
  {
   "cell_type": "markdown",
   "metadata": {},
   "source": [
    "### Validating the computed crease nodes\n",
    "\n",
    "Calculate: $M_{\\gamma\\mathrm{A}+}^{\\urcorner}$   "
   ]
  },
  {
   "cell_type": "code",
   "execution_count": null,
   "metadata": {},
   "outputs": [
    {
     "data": {
      "text/latex": [
       "$\\displaystyle \\left[\\begin{matrix}a + c \\sin{\\left(\\gamma \\right)} + e\\\\\\frac{a \\left(1 - \\sin{\\left(\\gamma \\right)}\\right) \\sin{\\left(\\theta_{x} \\right)}}{\\cos{\\left(\\gamma \\right)}} + \\frac{\\sqrt{- a^{2} \\left(1 - \\sin{\\left(\\gamma \\right)}\\right)^{2} + b^{2} \\cos^{2}{\\left(\\gamma \\right)}} \\cos{\\left(\\theta_{x} \\right)}}{\\cos{\\left(\\gamma \\right)}}\\\\- \\frac{a \\left(1 - \\sin{\\left(\\gamma \\right)}\\right) \\cos{\\left(\\theta_{x} \\right)}}{\\cos{\\left(\\gamma \\right)}} + c \\cos{\\left(\\gamma \\right)} + \\frac{\\sqrt{- a^{2} \\left(1 - \\sin{\\left(\\gamma \\right)}\\right)^{2} + b^{2} \\cos^{2}{\\left(\\gamma \\right)}} \\sin{\\left(\\theta_{x} \\right)}}{\\cos{\\left(\\gamma \\right)}}\\end{matrix}\\right]$"
      ],
      "text/plain": [
       "Matrix([\n",
       "[                                                                                                                          a + c*sin(\\gamma) + e],\n",
       "[                 a*(1 - sin(\\gamma))*sin(theta_x)/cos(\\gamma) + sqrt(-a**2*(1 - sin(\\gamma))**2 + b**2*cos(\\gamma)**2)*cos(theta_x)/cos(\\gamma)],\n",
       "[-a*(1 - sin(\\gamma))*cos(theta_x)/cos(\\gamma) + c*cos(\\gamma) + sqrt(-a**2*(1 - sin(\\gamma))**2 + b**2*cos(\\gamma)**2)*sin(theta_x)/cos(\\gamma)]])"
      ]
     },
     "execution_count": 24,
     "metadata": {},
     "output_type": "execute_result"
    }
   ],
   "source": [
    "Ma_gamma_ur_upper = R @ sp.Matrix([-e, 0, 0]) + delta_theta\n",
    "Ma_gamma_ur_upper"
   ]
  },
  {
   "cell_type": "code",
   "execution_count": null,
   "metadata": {},
   "outputs": [
    {
     "data": {
      "text/latex": [
       "$\\displaystyle \\left[\\begin{matrix}0\\\\0\\\\t\\end{matrix}\\right]$"
      ],
      "text/plain": [
       "Matrix([\n",
       "[0],\n",
       "[0],\n",
       "[t]])"
      ]
     },
     "execution_count": 25,
     "metadata": {},
     "output_type": "execute_result"
    }
   ],
   "source": [
    "# thickness vector\n",
    "t_v = sp.Matrix([0, 0, t])\n",
    "t_v"
   ]
  },
  {
   "cell_type": "code",
   "execution_count": null,
   "metadata": {},
   "outputs": [
    {
     "data": {
      "text/plain": [
       "(array([423.26856909, 381.83660889,  -6.12597656]),\n",
       " array([423.26856909, 381.83659666,  -6.12661375]))"
      ]
     },
     "execution_count": 26,
     "metadata": {},
     "output_type": "execute_result"
    }
   ],
   "source": [
    "# Substitute parameters + theta\n",
    "Ma_gamma_ur_upper_num = Ma_gamma_ur_upper.subs(subs_dict)\n",
    "Ma_gamma_ur_upper_np = np.array(sp.lambdify((), Ma_gamma_ur_upper_num, modules='numpy')()).astype(np.float64).flatten()\n",
    "new_X_Ia[32],  Ma_gamma_ur_upper_np"
   ]
  },
  {
   "cell_type": "markdown",
   "metadata": {},
   "source": [
    "Calculate: $C_{\\gamma\\mathrm{A}-}^{\\dashv}$"
   ]
  },
  {
   "cell_type": "code",
   "execution_count": null,
   "metadata": {},
   "outputs": [
    {
     "data": {
      "text/latex": [
       "$\\displaystyle \\left[\\begin{matrix}e\\\\0\\\\- t\\end{matrix}\\right]$"
      ],
      "text/plain": [
       "Matrix([\n",
       "[ e],\n",
       "[ 0],\n",
       "[-t]])"
      ]
     },
     "execution_count": 27,
     "metadata": {},
     "output_type": "execute_result"
    }
   ],
   "source": [
    "Ca_gamma_mr_lower = sp.Matrix([e, 0, 0]) - t_v\n",
    "Ca_gamma_mr_lower"
   ]
  },
  {
   "cell_type": "code",
   "execution_count": null,
   "metadata": {},
   "outputs": [
    {
     "data": {
      "text/plain": [
       "(array([ 71.5,   0. , -30. ]), array([ 71.5,   0. , -30. ]))"
      ]
     },
     "execution_count": 28,
     "metadata": {},
     "output_type": "execute_result"
    }
   ],
   "source": [
    "Ca_gamma_mr_lower_num = Ca_gamma_mr_lower.subs(subs_dict)\n",
    "Ca_gamma_rl_lower_np = np.array(sp.lambdify((), Ca_gamma_mr_lower_num, modules='numpy')()).astype(np.float64).flatten()\n",
    "new_X_Ia[0],  Ca_gamma_rl_lower_np"
   ]
  },
  {
   "cell_type": "markdown",
   "metadata": {},
   "source": [
    "Calculate: $U_{\\gamma\\mathrm{A}-}^{\\urcorner}$"
   ]
  },
  {
   "cell_type": "code",
   "execution_count": null,
   "metadata": {},
   "outputs": [
    {
     "data": {
      "text/latex": [
       "$\\displaystyle \\left[\\begin{matrix}a + e\\\\\\frac{\\sqrt{- a^{2} \\left(1 - \\sin{\\left(\\gamma \\right)}\\right)^{2} + b^{2} \\cos^{2}{\\left(\\gamma \\right)}}}{\\cos{\\left(\\gamma \\right)}}\\\\\\frac{a \\left(1 - \\sin{\\left(\\gamma \\right)}\\right)}{\\cos{\\left(\\gamma \\right)}} - t\\end{matrix}\\right]$"
      ],
      "text/plain": [
       "Matrix([\n",
       "[                                                             a + e],\n",
       "[sqrt(-a**2*(1 - sin(\\gamma))**2 + b**2*cos(\\gamma)**2)/cos(\\gamma)],\n",
       "[                               a*(1 - sin(\\gamma))/cos(\\gamma) - t]])"
      ]
     },
     "execution_count": 29,
     "metadata": {},
     "output_type": "execute_result"
    }
   ],
   "source": [
    "Ua_gamma_ur_lower = sp.Matrix([x_folded, y_folded, z_folded]) - t_v\n",
    "Ua_gamma_ur_lower"
   ]
  },
  {
   "cell_type": "code",
   "execution_count": null,
   "metadata": {},
   "outputs": [
    {
     "data": {
      "text/plain": [
       "(array([321.5       , 385.84936523,  88.88867188]),\n",
       " array([321.5       , 385.849374  ,  88.88785926]))"
      ]
     },
     "execution_count": 30,
     "metadata": {},
     "output_type": "execute_result"
    }
   ],
   "source": [
    "Ua_gamma_ur_lower_num = Ua_gamma_ur_lower.subs(subs_dict)\n",
    "Ua_gamma_ur_lower_np = np.array(sp.lambdify((), Ua_gamma_ur_lower_num, modules='numpy')()).astype(np.float64).flatten()\n",
    "new_X_Ia[2],  Ua_gamma_ur_lower_np"
   ]
  },
  {
   "cell_type": "markdown",
   "metadata": {},
   "source": [
    "Calculate: $V_{\\gamma\\mathrm{A}+}^{\\dashv}$"
   ]
  },
  {
   "cell_type": "code",
   "execution_count": null,
   "metadata": {},
   "outputs": [
    {
     "data": {
      "text/latex": [
       "$\\displaystyle \\left[\\begin{matrix}c \\sin{\\left(\\gamma \\right)} + e\\\\0\\\\c \\cos{\\left(\\gamma \\right)}\\end{matrix}\\right]$"
      ],
      "text/plain": [
       "Matrix([\n",
       "[c*sin(\\gamma) + e],\n",
       "[                0],\n",
       "[    c*cos(\\gamma)]])"
      ]
     },
     "execution_count": 31,
     "metadata": {},
     "output_type": "execute_result"
    }
   ],
   "source": [
    "Va_gamma_mr_upper = sp.Matrix([e+c*sp.sin(gamma), 0, c*sp.cos(gamma)])\n",
    "Va_gamma_mr_upper"
   ]
  },
  {
   "cell_type": "code",
   "execution_count": null,
   "metadata": {},
   "outputs": [
    {
     "data": {
      "text/plain": [
       "(array([173.26856995,   0.        , 125.07910156]),\n",
       " array([173.26856909,   0.        , 125.0788585 ]))"
      ]
     },
     "execution_count": 32,
     "metadata": {},
     "output_type": "execute_result"
    }
   ],
   "source": [
    "Va_gamma_mr_upper_num = Va_gamma_mr_upper.subs(subs_dict)\n",
    "Va_gamma_mr_upper_np = np.array(sp.lambdify((), Va_gamma_mr_upper_num, modules='numpy')()).astype(np.float64).flatten()\n",
    "new_X_Ia[24],  Va_gamma_mr_upper_np"
   ]
  },
  {
   "cell_type": "markdown",
   "metadata": {},
   "source": [
    "Calculate: $V_{\\vartheta\\mathrm{B}+}^{\\vdash}$"
   ]
  },
  {
   "cell_type": "code",
   "execution_count": null,
   "metadata": {},
   "outputs": [
    {
     "data": {
      "text/latex": [
       "$\\displaystyle \\left[\\begin{matrix}a + e\\\\\\frac{a \\left(1 - \\sin{\\left(\\gamma \\right)}\\right) \\sin{\\left(\\theta_{x} \\right)}}{\\cos{\\left(\\gamma \\right)}} + \\frac{\\sqrt{- a^{2} \\left(1 - \\sin{\\left(\\gamma \\right)}\\right)^{2} + b^{2} \\cos^{2}{\\left(\\gamma \\right)}} \\cos{\\left(\\theta_{x} \\right)}}{\\cos{\\left(\\gamma \\right)}} - \\left(c \\cos{\\left(\\gamma \\right)} + t\\right) \\sin{\\left(\\theta_{x} \\right)}\\\\- \\frac{a \\left(1 - \\sin{\\left(\\gamma \\right)}\\right) \\cos{\\left(\\theta_{x} \\right)}}{\\cos{\\left(\\gamma \\right)}} + c \\cos{\\left(\\gamma \\right)} + \\frac{\\sqrt{- a^{2} \\left(1 - \\sin{\\left(\\gamma \\right)}\\right)^{2} + b^{2} \\cos^{2}{\\left(\\gamma \\right)}} \\sin{\\left(\\theta_{x} \\right)}}{\\cos{\\left(\\gamma \\right)}} + \\left(c \\cos{\\left(\\gamma \\right)} + t\\right) \\cos{\\left(\\theta_{x} \\right)}\\end{matrix}\\right]$"
      ],
      "text/plain": [
       "Matrix([\n",
       "[                                                                                                                                                                             a + e],\n",
       "[                 a*(1 - sin(\\gamma))*sin(theta_x)/cos(\\gamma) + sqrt(-a**2*(1 - sin(\\gamma))**2 + b**2*cos(\\gamma)**2)*cos(theta_x)/cos(\\gamma) - (c*cos(\\gamma) + t)*sin(theta_x)],\n",
       "[-a*(1 - sin(\\gamma))*cos(theta_x)/cos(\\gamma) + c*cos(\\gamma) + sqrt(-a**2*(1 - sin(\\gamma))**2 + b**2*cos(\\gamma)**2)*sin(theta_x)/cos(\\gamma) + (c*cos(\\gamma) + t)*cos(theta_x)]])"
      ]
     },
     "execution_count": 33,
     "metadata": {},
     "output_type": "execute_result"
    }
   ],
   "source": [
    "Vb_theta_ml_upper = R @ (sp.Matrix([-e-c*sp.sin(gamma), 0, c*sp.cos(gamma)]) + t_v)+ delta_theta\n",
    "Vb_theta_ml_upper"
   ]
  },
  {
   "cell_type": "code",
   "execution_count": null,
   "metadata": {},
   "outputs": [
    {
     "data": {
      "text/plain": [
       "(array([321.49999915, 386.81184118, 148.87265942]),\n",
       " array([321.5       , 386.81183338, 148.87241649]))"
      ]
     },
     "execution_count": 34,
     "metadata": {},
     "output_type": "execute_result"
    }
   ],
   "source": [
    "Vb_theta_ml_upper_num = Vb_theta_ml_upper.subs(subs_dict)\n",
    "Vb_theta_ml_upper_np = np.array(sp.lambdify((), Vb_theta_ml_upper_num, modules='numpy')()).astype(np.float64).flatten()\n",
    "new_X_Ib_theta[25],  Vb_theta_ml_upper_np"
   ]
  },
  {
   "cell_type": "markdown",
   "metadata": {},
   "source": [
    "# Defining crease vectors\n",
    "\n",
    "In assembled state $\\Omega$: \n",
    "\n",
    "- The geometry B is shifted from the overlaid state to the assembled state by a scalar $s$ in the direction of $\\mathbf{e}_{\\mathrm{A+}}$. Thus, the translation vector $\\delta_{\\Omega} = s \\cdot \\mathbf{e}_{\\mathrm{a+}}$.\n",
    "- $s$ is obtained under the condition that $\\mathbf{e}_{\\mathrm{A-}}$ and $\\mathbf{u}_{\\mathrm{AB}}$ became colinear after the shift $\\delta_{\\Omega}$ in the assembled state $\\Omega$.\n",
    "\n",
    "$\\mathbf{e}_{\\mathrm{A+}} = \\frac{M_{\\gamma \\mathrm{A}+}^{\\urcorner} - V_{\\gamma \\mathrm{A}+}^{\\dashv}}{\\lVert M_{\\gamma \\mathrm{A}+}^{\\urcorner} - V_{\\gamma \\mathrm{A}+}^{\\dashv} \\rVert}$\n",
    "\n"
   ]
  },
  {
   "cell_type": "code",
   "execution_count": null,
   "metadata": {},
   "outputs": [
    {
     "data": {
      "text/latex": [
       "$\\displaystyle \\left[\\begin{matrix}\\frac{a}{\\sqrt{a^{2} + \\left|{- \\frac{a \\left(1 - \\sin{\\left(\\gamma \\right)}\\right) \\cos{\\left(\\theta_{x} \\right)}}{\\cos{\\left(\\gamma \\right)}} + \\frac{\\sqrt{- a^{2} \\left(1 - \\sin{\\left(\\gamma \\right)}\\right)^{2} + b^{2} \\cos^{2}{\\left(\\gamma \\right)}} \\sin{\\left(\\theta_{x} \\right)}}{\\cos{\\left(\\gamma \\right)}}}\\right|^{2} + \\left|{\\frac{a \\left(\\sin{\\left(\\gamma \\right)} - 1\\right) \\sin{\\left(\\theta_{x} \\right)}}{\\cos{\\left(\\gamma \\right)}} - \\frac{\\sqrt{- a^{2} \\left(1 - \\sin{\\left(\\gamma \\right)}\\right)^{2} + b^{2} \\cos^{2}{\\left(\\gamma \\right)}} \\cos{\\left(\\theta_{x} \\right)}}{\\cos{\\left(\\gamma \\right)}}}\\right|^{2}}}\\\\\\frac{\\frac{a \\left(1 - \\sin{\\left(\\gamma \\right)}\\right) \\sin{\\left(\\theta_{x} \\right)}}{\\cos{\\left(\\gamma \\right)}} + \\frac{\\sqrt{- a^{2} \\left(1 - \\sin{\\left(\\gamma \\right)}\\right)^{2} + b^{2} \\cos^{2}{\\left(\\gamma \\right)}} \\cos{\\left(\\theta_{x} \\right)}}{\\cos{\\left(\\gamma \\right)}}}{\\sqrt{a^{2} + \\left|{- \\frac{a \\left(1 - \\sin{\\left(\\gamma \\right)}\\right) \\cos{\\left(\\theta_{x} \\right)}}{\\cos{\\left(\\gamma \\right)}} + \\frac{\\sqrt{- a^{2} \\left(1 - \\sin{\\left(\\gamma \\right)}\\right)^{2} + b^{2} \\cos^{2}{\\left(\\gamma \\right)}} \\sin{\\left(\\theta_{x} \\right)}}{\\cos{\\left(\\gamma \\right)}}}\\right|^{2} + \\left|{\\frac{a \\left(\\sin{\\left(\\gamma \\right)} - 1\\right) \\sin{\\left(\\theta_{x} \\right)}}{\\cos{\\left(\\gamma \\right)}} - \\frac{\\sqrt{- a^{2} \\left(1 - \\sin{\\left(\\gamma \\right)}\\right)^{2} + b^{2} \\cos^{2}{\\left(\\gamma \\right)}} \\cos{\\left(\\theta_{x} \\right)}}{\\cos{\\left(\\gamma \\right)}}}\\right|^{2}}}\\\\\\frac{- \\frac{a \\left(1 - \\sin{\\left(\\gamma \\right)}\\right) \\cos{\\left(\\theta_{x} \\right)}}{\\cos{\\left(\\gamma \\right)}} + \\frac{\\sqrt{- a^{2} \\left(1 - \\sin{\\left(\\gamma \\right)}\\right)^{2} + b^{2} \\cos^{2}{\\left(\\gamma \\right)}} \\sin{\\left(\\theta_{x} \\right)}}{\\cos{\\left(\\gamma \\right)}}}{\\sqrt{a^{2} + \\left|{- \\frac{a \\left(1 - \\sin{\\left(\\gamma \\right)}\\right) \\cos{\\left(\\theta_{x} \\right)}}{\\cos{\\left(\\gamma \\right)}} + \\frac{\\sqrt{- a^{2} \\left(1 - \\sin{\\left(\\gamma \\right)}\\right)^{2} + b^{2} \\cos^{2}{\\left(\\gamma \\right)}} \\sin{\\left(\\theta_{x} \\right)}}{\\cos{\\left(\\gamma \\right)}}}\\right|^{2} + \\left|{\\frac{a \\left(\\sin{\\left(\\gamma \\right)} - 1\\right) \\sin{\\left(\\theta_{x} \\right)}}{\\cos{\\left(\\gamma \\right)}} - \\frac{\\sqrt{- a^{2} \\left(1 - \\sin{\\left(\\gamma \\right)}\\right)^{2} + b^{2} \\cos^{2}{\\left(\\gamma \\right)}} \\cos{\\left(\\theta_{x} \\right)}}{\\cos{\\left(\\gamma \\right)}}}\\right|^{2}}}\\end{matrix}\\right]$"
      ],
      "text/plain": [
       "Matrix([\n",
       "[                                                                                                                                a/sqrt(a**2 + Abs(-a*(1 - sin(\\gamma))*cos(theta_x)/cos(\\gamma) + sqrt(-a**2*(1 - sin(\\gamma))**2 + b**2*cos(\\gamma)**2)*sin(theta_x)/cos(\\gamma))**2 + Abs(a*(sin(\\gamma) - 1)*sin(theta_x)/cos(\\gamma) - sqrt(-a**2*(1 - sin(\\gamma))**2 + b**2*cos(\\gamma)**2)*cos(theta_x)/cos(\\gamma))**2)],\n",
       "[ (a*(1 - sin(\\gamma))*sin(theta_x)/cos(\\gamma) + sqrt(-a**2*(1 - sin(\\gamma))**2 + b**2*cos(\\gamma)**2)*cos(theta_x)/cos(\\gamma))/sqrt(a**2 + Abs(-a*(1 - sin(\\gamma))*cos(theta_x)/cos(\\gamma) + sqrt(-a**2*(1 - sin(\\gamma))**2 + b**2*cos(\\gamma)**2)*sin(theta_x)/cos(\\gamma))**2 + Abs(a*(sin(\\gamma) - 1)*sin(theta_x)/cos(\\gamma) - sqrt(-a**2*(1 - sin(\\gamma))**2 + b**2*cos(\\gamma)**2)*cos(theta_x)/cos(\\gamma))**2)],\n",
       "[(-a*(1 - sin(\\gamma))*cos(theta_x)/cos(\\gamma) + sqrt(-a**2*(1 - sin(\\gamma))**2 + b**2*cos(\\gamma)**2)*sin(theta_x)/cos(\\gamma))/sqrt(a**2 + Abs(-a*(1 - sin(\\gamma))*cos(theta_x)/cos(\\gamma) + sqrt(-a**2*(1 - sin(\\gamma))**2 + b**2*cos(\\gamma)**2)*sin(theta_x)/cos(\\gamma))**2 + Abs(a*(sin(\\gamma) - 1)*sin(theta_x)/cos(\\gamma) - sqrt(-a**2*(1 - sin(\\gamma))**2 + b**2*cos(\\gamma)**2)*cos(theta_x)/cos(\\gamma))**2)]])"
      ]
     },
     "execution_count": 35,
     "metadata": {},
     "output_type": "execute_result"
    }
   ],
   "source": [
    "n_upper = (Ma_gamma_ur_upper - Va_gamma_mr_upper) / (Ma_gamma_ur_upper - Va_gamma_mr_upper).norm()\n",
    "n_upper"
   ]
  },
  {
   "cell_type": "markdown",
   "metadata": {},
   "source": [
    "$\\mathbf{e}_{\\mathrm{A-}}= \\frac{U_{\\gamma \\mathrm{A}-}^{\\urcorner} - C_{\\gamma \\mathrm{A}-}^{\\dashv}}{\\lVert U_{\\gamma \\mathrm{A}-}^{\\urcorner} - C_{\\gamma \\mathrm{A}-}^{\\dashv} \\rVert}$"
   ]
  },
  {
   "cell_type": "code",
   "execution_count": null,
   "metadata": {},
   "outputs": [
    {
     "data": {
      "text/latex": [
       "$\\displaystyle \\left[\\begin{matrix}\\frac{a}{\\sqrt{a^{2} + \\left|{\\frac{\\sqrt{- a^{2} \\left(1 - \\sin{\\left(\\gamma \\right)}\\right)^{2} + b^{2} \\cos^{2}{\\left(\\gamma \\right)}}}{\\cos{\\left(\\gamma \\right)}}}\\right|^{2} + \\left|{\\frac{a \\left(\\sin{\\left(\\gamma \\right)} - 1\\right)}{\\cos{\\left(\\gamma \\right)}}}\\right|^{2}}}\\\\\\frac{\\sqrt{- a^{2} \\left(1 - \\sin{\\left(\\gamma \\right)}\\right)^{2} + b^{2} \\cos^{2}{\\left(\\gamma \\right)}}}{\\sqrt{a^{2} + \\left|{\\frac{\\sqrt{- a^{2} \\left(1 - \\sin{\\left(\\gamma \\right)}\\right)^{2} + b^{2} \\cos^{2}{\\left(\\gamma \\right)}}}{\\cos{\\left(\\gamma \\right)}}}\\right|^{2} + \\left|{\\frac{a \\left(\\sin{\\left(\\gamma \\right)} - 1\\right)}{\\cos{\\left(\\gamma \\right)}}}\\right|^{2}} \\cos{\\left(\\gamma \\right)}}\\\\\\frac{a \\left(1 - \\sin{\\left(\\gamma \\right)}\\right)}{\\sqrt{a^{2} + \\left|{\\frac{\\sqrt{- a^{2} \\left(1 - \\sin{\\left(\\gamma \\right)}\\right)^{2} + b^{2} \\cos^{2}{\\left(\\gamma \\right)}}}{\\cos{\\left(\\gamma \\right)}}}\\right|^{2} + \\left|{\\frac{a \\left(\\sin{\\left(\\gamma \\right)} - 1\\right)}{\\cos{\\left(\\gamma \\right)}}}\\right|^{2}} \\cos{\\left(\\gamma \\right)}}\\end{matrix}\\right]$"
      ],
      "text/plain": [
       "Matrix([\n",
       "[                                                                   a/sqrt(a**2 + Abs(sqrt(-a**2*(1 - sin(\\gamma))**2 + b**2*cos(\\gamma)**2)/cos(\\gamma))**2 + Abs(a*(sin(\\gamma) - 1)/cos(\\gamma))**2)],\n",
       "[sqrt(-a**2*(1 - sin(\\gamma))**2 + b**2*cos(\\gamma)**2)/(sqrt(a**2 + Abs(sqrt(-a**2*(1 - sin(\\gamma))**2 + b**2*cos(\\gamma)**2)/cos(\\gamma))**2 + Abs(a*(sin(\\gamma) - 1)/cos(\\gamma))**2)*cos(\\gamma))],\n",
       "[                                   a*(1 - sin(\\gamma))/(sqrt(a**2 + Abs(sqrt(-a**2*(1 - sin(\\gamma))**2 + b**2*cos(\\gamma)**2)/cos(\\gamma))**2 + Abs(a*(sin(\\gamma) - 1)/cos(\\gamma))**2)*cos(\\gamma))]])"
      ]
     },
     "execution_count": 36,
     "metadata": {},
     "output_type": "execute_result"
    }
   ],
   "source": [
    "n_lower = (Ua_gamma_ur_lower - Ca_gamma_mr_lower) / (Ua_gamma_ur_lower - Ca_gamma_mr_lower).norm()\n",
    "n_lower"
   ]
  },
  {
   "cell_type": "markdown",
   "metadata": {},
   "source": [
    "$\\mathbf{u}_{\\mathrm{AB}} = V_{\\vartheta \\mathrm{B}+}^{\\vdash} - C_{\\gamma \\mathrm{A}-}^{\\dashv}$"
   ]
  },
  {
   "cell_type": "code",
   "execution_count": null,
   "metadata": {},
   "outputs": [
    {
     "data": {
      "text/latex": [
       "$\\displaystyle \\left[\\begin{matrix}a\\\\\\frac{a \\left(1 - \\sin{\\left(\\gamma \\right)}\\right) \\sin{\\left(\\theta_{x} \\right)}}{\\cos{\\left(\\gamma \\right)}} + \\frac{\\sqrt{- a^{2} \\left(1 - \\sin{\\left(\\gamma \\right)}\\right)^{2} + b^{2} \\cos^{2}{\\left(\\gamma \\right)}} \\cos{\\left(\\theta_{x} \\right)}}{\\cos{\\left(\\gamma \\right)}} - \\left(c \\cos{\\left(\\gamma \\right)} + t\\right) \\sin{\\left(\\theta_{x} \\right)}\\\\- \\frac{a \\left(1 - \\sin{\\left(\\gamma \\right)}\\right) \\cos{\\left(\\theta_{x} \\right)}}{\\cos{\\left(\\gamma \\right)}} + c \\cos{\\left(\\gamma \\right)} + t + \\frac{\\sqrt{- a^{2} \\left(1 - \\sin{\\left(\\gamma \\right)}\\right)^{2} + b^{2} \\cos^{2}{\\left(\\gamma \\right)}} \\sin{\\left(\\theta_{x} \\right)}}{\\cos{\\left(\\gamma \\right)}} + \\left(c \\cos{\\left(\\gamma \\right)} + t\\right) \\cos{\\left(\\theta_{x} \\right)}\\end{matrix}\\right]$"
      ],
      "text/plain": [
       "Matrix([\n",
       "[                                                                                                                                                                                     a],\n",
       "[                     a*(1 - sin(\\gamma))*sin(theta_x)/cos(\\gamma) + sqrt(-a**2*(1 - sin(\\gamma))**2 + b**2*cos(\\gamma)**2)*cos(theta_x)/cos(\\gamma) - (c*cos(\\gamma) + t)*sin(theta_x)],\n",
       "[-a*(1 - sin(\\gamma))*cos(theta_x)/cos(\\gamma) + c*cos(\\gamma) + t + sqrt(-a**2*(1 - sin(\\gamma))**2 + b**2*cos(\\gamma)**2)*sin(theta_x)/cos(\\gamma) + (c*cos(\\gamma) + t)*cos(theta_x)]])"
      ]
     },
     "execution_count": 37,
     "metadata": {},
     "output_type": "execute_result"
    }
   ],
   "source": [
    "n_ab = (Vb_theta_ml_upper - Ca_gamma_mr_lower)\n",
    "n_ab"
   ]
  },
  {
   "cell_type": "code",
   "execution_count": null,
   "metadata": {},
   "outputs": [
    {
     "data": {
      "text/latex": [
       "$\\displaystyle \\left[\\begin{matrix}\\frac{a \\left(1 - \\sin{\\left(\\gamma \\right)}\\right) \\left(\\frac{a \\left(1 - \\sin{\\left(\\gamma \\right)}\\right) \\sin{\\left(\\theta_{x} \\right)}}{\\cos{\\left(\\gamma \\right)}} + \\frac{\\sqrt{- a^{2} \\left(1 - \\sin{\\left(\\gamma \\right)}\\right)^{2} + b^{2} \\cos^{2}{\\left(\\gamma \\right)}} \\cos{\\left(\\theta_{x} \\right)}}{\\cos{\\left(\\gamma \\right)}}\\right)}{\\sqrt{a^{2} + \\left|{\\frac{\\sqrt{- a^{2} \\left(1 - \\sin{\\left(\\gamma \\right)}\\right)^{2} + b^{2} \\cos^{2}{\\left(\\gamma \\right)}}}{\\cos{\\left(\\gamma \\right)}}}\\right|^{2} + \\left|{\\frac{a \\left(\\sin{\\left(\\gamma \\right)} - 1\\right)}{\\cos{\\left(\\gamma \\right)}}}\\right|^{2}} \\sqrt{a^{2} + \\left|{- \\frac{a \\left(1 - \\sin{\\left(\\gamma \\right)}\\right) \\cos{\\left(\\theta_{x} \\right)}}{\\cos{\\left(\\gamma \\right)}} + \\frac{\\sqrt{- a^{2} \\left(1 - \\sin{\\left(\\gamma \\right)}\\right)^{2} + b^{2} \\cos^{2}{\\left(\\gamma \\right)}} \\sin{\\left(\\theta_{x} \\right)}}{\\cos{\\left(\\gamma \\right)}}}\\right|^{2} + \\left|{\\frac{a \\left(\\sin{\\left(\\gamma \\right)} - 1\\right) \\sin{\\left(\\theta_{x} \\right)}}{\\cos{\\left(\\gamma \\right)}} - \\frac{\\sqrt{- a^{2} \\left(1 - \\sin{\\left(\\gamma \\right)}\\right)^{2} + b^{2} \\cos^{2}{\\left(\\gamma \\right)}} \\cos{\\left(\\theta_{x} \\right)}}{\\cos{\\left(\\gamma \\right)}}}\\right|^{2}} \\cos{\\left(\\gamma \\right)}} - \\frac{\\sqrt{- a^{2} \\left(1 - \\sin{\\left(\\gamma \\right)}\\right)^{2} + b^{2} \\cos^{2}{\\left(\\gamma \\right)}} \\left(- \\frac{a \\left(1 - \\sin{\\left(\\gamma \\right)}\\right) \\cos{\\left(\\theta_{x} \\right)}}{\\cos{\\left(\\gamma \\right)}} + \\frac{\\sqrt{- a^{2} \\left(1 - \\sin{\\left(\\gamma \\right)}\\right)^{2} + b^{2} \\cos^{2}{\\left(\\gamma \\right)}} \\sin{\\left(\\theta_{x} \\right)}}{\\cos{\\left(\\gamma \\right)}}\\right)}{\\sqrt{a^{2} + \\left|{\\frac{\\sqrt{- a^{2} \\left(1 - \\sin{\\left(\\gamma \\right)}\\right)^{2} + b^{2} \\cos^{2}{\\left(\\gamma \\right)}}}{\\cos{\\left(\\gamma \\right)}}}\\right|^{2} + \\left|{\\frac{a \\left(\\sin{\\left(\\gamma \\right)} - 1\\right)}{\\cos{\\left(\\gamma \\right)}}}\\right|^{2}} \\sqrt{a^{2} + \\left|{- \\frac{a \\left(1 - \\sin{\\left(\\gamma \\right)}\\right) \\cos{\\left(\\theta_{x} \\right)}}{\\cos{\\left(\\gamma \\right)}} + \\frac{\\sqrt{- a^{2} \\left(1 - \\sin{\\left(\\gamma \\right)}\\right)^{2} + b^{2} \\cos^{2}{\\left(\\gamma \\right)}} \\sin{\\left(\\theta_{x} \\right)}}{\\cos{\\left(\\gamma \\right)}}}\\right|^{2} + \\left|{\\frac{a \\left(\\sin{\\left(\\gamma \\right)} - 1\\right) \\sin{\\left(\\theta_{x} \\right)}}{\\cos{\\left(\\gamma \\right)}} - \\frac{\\sqrt{- a^{2} \\left(1 - \\sin{\\left(\\gamma \\right)}\\right)^{2} + b^{2} \\cos^{2}{\\left(\\gamma \\right)}} \\cos{\\left(\\theta_{x} \\right)}}{\\cos{\\left(\\gamma \\right)}}}\\right|^{2}} \\cos{\\left(\\gamma \\right)}}\\\\- \\frac{a^{2} \\left(1 - \\sin{\\left(\\gamma \\right)}\\right)}{\\sqrt{a^{2} + \\left|{\\frac{\\sqrt{- a^{2} \\left(1 - \\sin{\\left(\\gamma \\right)}\\right)^{2} + b^{2} \\cos^{2}{\\left(\\gamma \\right)}}}{\\cos{\\left(\\gamma \\right)}}}\\right|^{2} + \\left|{\\frac{a \\left(\\sin{\\left(\\gamma \\right)} - 1\\right)}{\\cos{\\left(\\gamma \\right)}}}\\right|^{2}} \\sqrt{a^{2} + \\left|{- \\frac{a \\left(1 - \\sin{\\left(\\gamma \\right)}\\right) \\cos{\\left(\\theta_{x} \\right)}}{\\cos{\\left(\\gamma \\right)}} + \\frac{\\sqrt{- a^{2} \\left(1 - \\sin{\\left(\\gamma \\right)}\\right)^{2} + b^{2} \\cos^{2}{\\left(\\gamma \\right)}} \\sin{\\left(\\theta_{x} \\right)}}{\\cos{\\left(\\gamma \\right)}}}\\right|^{2} + \\left|{\\frac{a \\left(\\sin{\\left(\\gamma \\right)} - 1\\right) \\sin{\\left(\\theta_{x} \\right)}}{\\cos{\\left(\\gamma \\right)}} - \\frac{\\sqrt{- a^{2} \\left(1 - \\sin{\\left(\\gamma \\right)}\\right)^{2} + b^{2} \\cos^{2}{\\left(\\gamma \\right)}} \\cos{\\left(\\theta_{x} \\right)}}{\\cos{\\left(\\gamma \\right)}}}\\right|^{2}} \\cos{\\left(\\gamma \\right)}} + \\frac{a \\left(- \\frac{a \\left(1 - \\sin{\\left(\\gamma \\right)}\\right) \\cos{\\left(\\theta_{x} \\right)}}{\\cos{\\left(\\gamma \\right)}} + \\frac{\\sqrt{- a^{2} \\left(1 - \\sin{\\left(\\gamma \\right)}\\right)^{2} + b^{2} \\cos^{2}{\\left(\\gamma \\right)}} \\sin{\\left(\\theta_{x} \\right)}}{\\cos{\\left(\\gamma \\right)}}\\right)}{\\sqrt{a^{2} + \\left|{\\frac{\\sqrt{- a^{2} \\left(1 - \\sin{\\left(\\gamma \\right)}\\right)^{2} + b^{2} \\cos^{2}{\\left(\\gamma \\right)}}}{\\cos{\\left(\\gamma \\right)}}}\\right|^{2} + \\left|{\\frac{a \\left(\\sin{\\left(\\gamma \\right)} - 1\\right)}{\\cos{\\left(\\gamma \\right)}}}\\right|^{2}} \\sqrt{a^{2} + \\left|{- \\frac{a \\left(1 - \\sin{\\left(\\gamma \\right)}\\right) \\cos{\\left(\\theta_{x} \\right)}}{\\cos{\\left(\\gamma \\right)}} + \\frac{\\sqrt{- a^{2} \\left(1 - \\sin{\\left(\\gamma \\right)}\\right)^{2} + b^{2} \\cos^{2}{\\left(\\gamma \\right)}} \\sin{\\left(\\theta_{x} \\right)}}{\\cos{\\left(\\gamma \\right)}}}\\right|^{2} + \\left|{\\frac{a \\left(\\sin{\\left(\\gamma \\right)} - 1\\right) \\sin{\\left(\\theta_{x} \\right)}}{\\cos{\\left(\\gamma \\right)}} - \\frac{\\sqrt{- a^{2} \\left(1 - \\sin{\\left(\\gamma \\right)}\\right)^{2} + b^{2} \\cos^{2}{\\left(\\gamma \\right)}} \\cos{\\left(\\theta_{x} \\right)}}{\\cos{\\left(\\gamma \\right)}}}\\right|^{2}}}\\\\\\frac{a \\sqrt{- a^{2} \\left(1 - \\sin{\\left(\\gamma \\right)}\\right)^{2} + b^{2} \\cos^{2}{\\left(\\gamma \\right)}}}{\\sqrt{a^{2} + \\left|{\\frac{\\sqrt{- a^{2} \\left(1 - \\sin{\\left(\\gamma \\right)}\\right)^{2} + b^{2} \\cos^{2}{\\left(\\gamma \\right)}}}{\\cos{\\left(\\gamma \\right)}}}\\right|^{2} + \\left|{\\frac{a \\left(\\sin{\\left(\\gamma \\right)} - 1\\right)}{\\cos{\\left(\\gamma \\right)}}}\\right|^{2}} \\sqrt{a^{2} + \\left|{- \\frac{a \\left(1 - \\sin{\\left(\\gamma \\right)}\\right) \\cos{\\left(\\theta_{x} \\right)}}{\\cos{\\left(\\gamma \\right)}} + \\frac{\\sqrt{- a^{2} \\left(1 - \\sin{\\left(\\gamma \\right)}\\right)^{2} + b^{2} \\cos^{2}{\\left(\\gamma \\right)}} \\sin{\\left(\\theta_{x} \\right)}}{\\cos{\\left(\\gamma \\right)}}}\\right|^{2} + \\left|{\\frac{a \\left(\\sin{\\left(\\gamma \\right)} - 1\\right) \\sin{\\left(\\theta_{x} \\right)}}{\\cos{\\left(\\gamma \\right)}} - \\frac{\\sqrt{- a^{2} \\left(1 - \\sin{\\left(\\gamma \\right)}\\right)^{2} + b^{2} \\cos^{2}{\\left(\\gamma \\right)}} \\cos{\\left(\\theta_{x} \\right)}}{\\cos{\\left(\\gamma \\right)}}}\\right|^{2}} \\cos{\\left(\\gamma \\right)}} - \\frac{a \\left(\\frac{a \\left(1 - \\sin{\\left(\\gamma \\right)}\\right) \\sin{\\left(\\theta_{x} \\right)}}{\\cos{\\left(\\gamma \\right)}} + \\frac{\\sqrt{- a^{2} \\left(1 - \\sin{\\left(\\gamma \\right)}\\right)^{2} + b^{2} \\cos^{2}{\\left(\\gamma \\right)}} \\cos{\\left(\\theta_{x} \\right)}}{\\cos{\\left(\\gamma \\right)}}\\right)}{\\sqrt{a^{2} + \\left|{\\frac{\\sqrt{- a^{2} \\left(1 - \\sin{\\left(\\gamma \\right)}\\right)^{2} + b^{2} \\cos^{2}{\\left(\\gamma \\right)}}}{\\cos{\\left(\\gamma \\right)}}}\\right|^{2} + \\left|{\\frac{a \\left(\\sin{\\left(\\gamma \\right)} - 1\\right)}{\\cos{\\left(\\gamma \\right)}}}\\right|^{2}} \\sqrt{a^{2} + \\left|{- \\frac{a \\left(1 - \\sin{\\left(\\gamma \\right)}\\right) \\cos{\\left(\\theta_{x} \\right)}}{\\cos{\\left(\\gamma \\right)}} + \\frac{\\sqrt{- a^{2} \\left(1 - \\sin{\\left(\\gamma \\right)}\\right)^{2} + b^{2} \\cos^{2}{\\left(\\gamma \\right)}} \\sin{\\left(\\theta_{x} \\right)}}{\\cos{\\left(\\gamma \\right)}}}\\right|^{2} + \\left|{\\frac{a \\left(\\sin{\\left(\\gamma \\right)} - 1\\right) \\sin{\\left(\\theta_{x} \\right)}}{\\cos{\\left(\\gamma \\right)}} - \\frac{\\sqrt{- a^{2} \\left(1 - \\sin{\\left(\\gamma \\right)}\\right)^{2} + b^{2} \\cos^{2}{\\left(\\gamma \\right)}} \\cos{\\left(\\theta_{x} \\right)}}{\\cos{\\left(\\gamma \\right)}}}\\right|^{2}}}\\end{matrix}\\right]$"
      ],
      "text/plain": [
       "Matrix([\n",
       "[a*(1 - sin(\\gamma))*(a*(1 - sin(\\gamma))*sin(theta_x)/cos(\\gamma) + sqrt(-a**2*(1 - sin(\\gamma))**2 + b**2*cos(\\gamma)**2)*cos(theta_x)/cos(\\gamma))/(sqrt(a**2 + Abs(sqrt(-a**2*(1 - sin(\\gamma))**2 + b**2*cos(\\gamma)**2)/cos(\\gamma))**2 + Abs(a*(sin(\\gamma) - 1)/cos(\\gamma))**2)*sqrt(a**2 + Abs(-a*(1 - sin(\\gamma))*cos(theta_x)/cos(\\gamma) + sqrt(-a**2*(1 - sin(\\gamma))**2 + b**2*cos(\\gamma)**2)*sin(theta_x)/cos(\\gamma))**2 + Abs(a*(sin(\\gamma) - 1)*sin(theta_x)/cos(\\gamma) - sqrt(-a**2*(1 - sin(\\gamma))**2 + b**2*cos(\\gamma)**2)*cos(theta_x)/cos(\\gamma))**2)*cos(\\gamma)) - sqrt(-a**2*(1 - sin(\\gamma))**2 + b**2*cos(\\gamma)**2)*(-a*(1 - sin(\\gamma))*cos(theta_x)/cos(\\gamma) + sqrt(-a**2*(1 - sin(\\gamma))**2 + b**2*cos(\\gamma)**2)*sin(theta_x)/cos(\\gamma))/(sqrt(a**2 + Abs(sqrt(-a**2*(1 - sin(\\gamma))**2 + b**2*cos(\\gamma)**2)/cos(\\gamma))**2 + Abs(a*(sin(\\gamma) - 1)/cos(\\gamma))**2)*sqrt(a**2 + Abs(-a*(1 - sin(\\gamma))*cos(theta_x)/cos(\\gamma) + sqrt(-a**2*(1 - sin(\\gamma))**2 + b**2*cos(\\gamma)**2)*sin(theta_x)/cos(\\gamma))**2 + Abs(a*(sin(\\gamma) - 1)*sin(theta_x)/cos(\\gamma) - sqrt(-a**2*(1 - sin(\\gamma))**2 + b**2*cos(\\gamma)**2)*cos(theta_x)/cos(\\gamma))**2)*cos(\\gamma))],\n",
       "[                                                                                                                                                                                              -a**2*(1 - sin(\\gamma))/(sqrt(a**2 + Abs(sqrt(-a**2*(1 - sin(\\gamma))**2 + b**2*cos(\\gamma)**2)/cos(\\gamma))**2 + Abs(a*(sin(\\gamma) - 1)/cos(\\gamma))**2)*sqrt(a**2 + Abs(-a*(1 - sin(\\gamma))*cos(theta_x)/cos(\\gamma) + sqrt(-a**2*(1 - sin(\\gamma))**2 + b**2*cos(\\gamma)**2)*sin(theta_x)/cos(\\gamma))**2 + Abs(a*(sin(\\gamma) - 1)*sin(theta_x)/cos(\\gamma) - sqrt(-a**2*(1 - sin(\\gamma))**2 + b**2*cos(\\gamma)**2)*cos(theta_x)/cos(\\gamma))**2)*cos(\\gamma)) + a*(-a*(1 - sin(\\gamma))*cos(theta_x)/cos(\\gamma) + sqrt(-a**2*(1 - sin(\\gamma))**2 + b**2*cos(\\gamma)**2)*sin(theta_x)/cos(\\gamma))/(sqrt(a**2 + Abs(sqrt(-a**2*(1 - sin(\\gamma))**2 + b**2*cos(\\gamma)**2)/cos(\\gamma))**2 + Abs(a*(sin(\\gamma) - 1)/cos(\\gamma))**2)*sqrt(a**2 + Abs(-a*(1 - sin(\\gamma))*cos(theta_x)/cos(\\gamma) + sqrt(-a**2*(1 - sin(\\gamma))**2 + b**2*cos(\\gamma)**2)*sin(theta_x)/cos(\\gamma))**2 + Abs(a*(sin(\\gamma) - 1)*sin(theta_x)/cos(\\gamma) - sqrt(-a**2*(1 - sin(\\gamma))**2 + b**2*cos(\\gamma)**2)*cos(theta_x)/cos(\\gamma))**2))],\n",
       "[                                                                                                                                                              a*sqrt(-a**2*(1 - sin(\\gamma))**2 + b**2*cos(\\gamma)**2)/(sqrt(a**2 + Abs(sqrt(-a**2*(1 - sin(\\gamma))**2 + b**2*cos(\\gamma)**2)/cos(\\gamma))**2 + Abs(a*(sin(\\gamma) - 1)/cos(\\gamma))**2)*sqrt(a**2 + Abs(-a*(1 - sin(\\gamma))*cos(theta_x)/cos(\\gamma) + sqrt(-a**2*(1 - sin(\\gamma))**2 + b**2*cos(\\gamma)**2)*sin(theta_x)/cos(\\gamma))**2 + Abs(a*(sin(\\gamma) - 1)*sin(theta_x)/cos(\\gamma) - sqrt(-a**2*(1 - sin(\\gamma))**2 + b**2*cos(\\gamma)**2)*cos(theta_x)/cos(\\gamma))**2)*cos(\\gamma)) - a*(a*(1 - sin(\\gamma))*sin(theta_x)/cos(\\gamma) + sqrt(-a**2*(1 - sin(\\gamma))**2 + b**2*cos(\\gamma)**2)*cos(theta_x)/cos(\\gamma))/(sqrt(a**2 + Abs(sqrt(-a**2*(1 - sin(\\gamma))**2 + b**2*cos(\\gamma)**2)/cos(\\gamma))**2 + Abs(a*(sin(\\gamma) - 1)/cos(\\gamma))**2)*sqrt(a**2 + Abs(-a*(1 - sin(\\gamma))*cos(theta_x)/cos(\\gamma) + sqrt(-a**2*(1 - sin(\\gamma))**2 + b**2*cos(\\gamma)**2)*sin(theta_x)/cos(\\gamma))**2 + Abs(a*(sin(\\gamma) - 1)*sin(theta_x)/cos(\\gamma) - sqrt(-a**2*(1 - sin(\\gamma))**2 + b**2*cos(\\gamma)**2)*cos(theta_x)/cos(\\gamma))**2))]])"
      ]
     },
     "execution_count": 38,
     "metadata": {},
     "output_type": "execute_result"
    }
   ],
   "source": [
    "cross_nu_nl = n_upper.cross(n_lower)\n",
    "cross_nu_nl"
   ]
  },
  {
   "cell_type": "code",
   "execution_count": null,
   "metadata": {},
   "outputs": [
    {
     "data": {
      "text/latex": [
       "$\\displaystyle \\left[\\begin{matrix}\\frac{a \\left(1 - \\sin{\\left(\\gamma \\right)}\\right) \\left(\\frac{a \\left(1 - \\sin{\\left(\\gamma \\right)}\\right) \\sin{\\left(\\theta_{x} \\right)}}{\\cos{\\left(\\gamma \\right)}} + \\frac{\\sqrt{- a^{2} \\left(1 - \\sin{\\left(\\gamma \\right)}\\right)^{2} + b^{2} \\cos^{2}{\\left(\\gamma \\right)}} \\cos{\\left(\\theta_{x} \\right)}}{\\cos{\\left(\\gamma \\right)}} - \\left(c \\cos{\\left(\\gamma \\right)} + t\\right) \\sin{\\left(\\theta_{x} \\right)}\\right)}{\\sqrt{a^{2} + \\left|{\\frac{\\sqrt{- a^{2} \\left(1 - \\sin{\\left(\\gamma \\right)}\\right)^{2} + b^{2} \\cos^{2}{\\left(\\gamma \\right)}}}{\\cos{\\left(\\gamma \\right)}}}\\right|^{2} + \\left|{\\frac{a \\left(\\sin{\\left(\\gamma \\right)} - 1\\right)}{\\cos{\\left(\\gamma \\right)}}}\\right|^{2}} \\cos{\\left(\\gamma \\right)}} - \\frac{\\sqrt{- a^{2} \\left(1 - \\sin{\\left(\\gamma \\right)}\\right)^{2} + b^{2} \\cos^{2}{\\left(\\gamma \\right)}} \\left(- \\frac{a \\left(1 - \\sin{\\left(\\gamma \\right)}\\right) \\cos{\\left(\\theta_{x} \\right)}}{\\cos{\\left(\\gamma \\right)}} + c \\cos{\\left(\\gamma \\right)} + t + \\frac{\\sqrt{- a^{2} \\left(1 - \\sin{\\left(\\gamma \\right)}\\right)^{2} + b^{2} \\cos^{2}{\\left(\\gamma \\right)}} \\sin{\\left(\\theta_{x} \\right)}}{\\cos{\\left(\\gamma \\right)}} + \\left(c \\cos{\\left(\\gamma \\right)} + t\\right) \\cos{\\left(\\theta_{x} \\right)}\\right)}{\\sqrt{a^{2} + \\left|{\\frac{\\sqrt{- a^{2} \\left(1 - \\sin{\\left(\\gamma \\right)}\\right)^{2} + b^{2} \\cos^{2}{\\left(\\gamma \\right)}}}{\\cos{\\left(\\gamma \\right)}}}\\right|^{2} + \\left|{\\frac{a \\left(\\sin{\\left(\\gamma \\right)} - 1\\right)}{\\cos{\\left(\\gamma \\right)}}}\\right|^{2}} \\cos{\\left(\\gamma \\right)}}\\\\- \\frac{a^{2} \\left(1 - \\sin{\\left(\\gamma \\right)}\\right)}{\\sqrt{a^{2} + \\left|{\\frac{\\sqrt{- a^{2} \\left(1 - \\sin{\\left(\\gamma \\right)}\\right)^{2} + b^{2} \\cos^{2}{\\left(\\gamma \\right)}}}{\\cos{\\left(\\gamma \\right)}}}\\right|^{2} + \\left|{\\frac{a \\left(\\sin{\\left(\\gamma \\right)} - 1\\right)}{\\cos{\\left(\\gamma \\right)}}}\\right|^{2}} \\cos{\\left(\\gamma \\right)}} + \\frac{a \\left(- \\frac{a \\left(1 - \\sin{\\left(\\gamma \\right)}\\right) \\cos{\\left(\\theta_{x} \\right)}}{\\cos{\\left(\\gamma \\right)}} + c \\cos{\\left(\\gamma \\right)} + t + \\frac{\\sqrt{- a^{2} \\left(1 - \\sin{\\left(\\gamma \\right)}\\right)^{2} + b^{2} \\cos^{2}{\\left(\\gamma \\right)}} \\sin{\\left(\\theta_{x} \\right)}}{\\cos{\\left(\\gamma \\right)}} + \\left(c \\cos{\\left(\\gamma \\right)} + t\\right) \\cos{\\left(\\theta_{x} \\right)}\\right)}{\\sqrt{a^{2} + \\left|{\\frac{\\sqrt{- a^{2} \\left(1 - \\sin{\\left(\\gamma \\right)}\\right)^{2} + b^{2} \\cos^{2}{\\left(\\gamma \\right)}}}{\\cos{\\left(\\gamma \\right)}}}\\right|^{2} + \\left|{\\frac{a \\left(\\sin{\\left(\\gamma \\right)} - 1\\right)}{\\cos{\\left(\\gamma \\right)}}}\\right|^{2}}}\\\\\\frac{a \\sqrt{- a^{2} \\left(1 - \\sin{\\left(\\gamma \\right)}\\right)^{2} + b^{2} \\cos^{2}{\\left(\\gamma \\right)}}}{\\sqrt{a^{2} + \\left|{\\frac{\\sqrt{- a^{2} \\left(1 - \\sin{\\left(\\gamma \\right)}\\right)^{2} + b^{2} \\cos^{2}{\\left(\\gamma \\right)}}}{\\cos{\\left(\\gamma \\right)}}}\\right|^{2} + \\left|{\\frac{a \\left(\\sin{\\left(\\gamma \\right)} - 1\\right)}{\\cos{\\left(\\gamma \\right)}}}\\right|^{2}} \\cos{\\left(\\gamma \\right)}} - \\frac{a \\left(\\frac{a \\left(1 - \\sin{\\left(\\gamma \\right)}\\right) \\sin{\\left(\\theta_{x} \\right)}}{\\cos{\\left(\\gamma \\right)}} + \\frac{\\sqrt{- a^{2} \\left(1 - \\sin{\\left(\\gamma \\right)}\\right)^{2} + b^{2} \\cos^{2}{\\left(\\gamma \\right)}} \\cos{\\left(\\theta_{x} \\right)}}{\\cos{\\left(\\gamma \\right)}} - \\left(c \\cos{\\left(\\gamma \\right)} + t\\right) \\sin{\\left(\\theta_{x} \\right)}\\right)}{\\sqrt{a^{2} + \\left|{\\frac{\\sqrt{- a^{2} \\left(1 - \\sin{\\left(\\gamma \\right)}\\right)^{2} + b^{2} \\cos^{2}{\\left(\\gamma \\right)}}}{\\cos{\\left(\\gamma \\right)}}}\\right|^{2} + \\left|{\\frac{a \\left(\\sin{\\left(\\gamma \\right)} - 1\\right)}{\\cos{\\left(\\gamma \\right)}}}\\right|^{2}}}\\end{matrix}\\right]$"
      ],
      "text/plain": [
       "Matrix([\n",
       "[a*(1 - sin(\\gamma))*(a*(1 - sin(\\gamma))*sin(theta_x)/cos(\\gamma) + sqrt(-a**2*(1 - sin(\\gamma))**2 + b**2*cos(\\gamma)**2)*cos(theta_x)/cos(\\gamma) - (c*cos(\\gamma) + t)*sin(theta_x))/(sqrt(a**2 + Abs(sqrt(-a**2*(1 - sin(\\gamma))**2 + b**2*cos(\\gamma)**2)/cos(\\gamma))**2 + Abs(a*(sin(\\gamma) - 1)/cos(\\gamma))**2)*cos(\\gamma)) - sqrt(-a**2*(1 - sin(\\gamma))**2 + b**2*cos(\\gamma)**2)*(-a*(1 - sin(\\gamma))*cos(theta_x)/cos(\\gamma) + c*cos(\\gamma) + t + sqrt(-a**2*(1 - sin(\\gamma))**2 + b**2*cos(\\gamma)**2)*sin(theta_x)/cos(\\gamma) + (c*cos(\\gamma) + t)*cos(theta_x))/(sqrt(a**2 + Abs(sqrt(-a**2*(1 - sin(\\gamma))**2 + b**2*cos(\\gamma)**2)/cos(\\gamma))**2 + Abs(a*(sin(\\gamma) - 1)/cos(\\gamma))**2)*cos(\\gamma))],\n",
       "[                                                                                                                                                                                                                                   -a**2*(1 - sin(\\gamma))/(sqrt(a**2 + Abs(sqrt(-a**2*(1 - sin(\\gamma))**2 + b**2*cos(\\gamma)**2)/cos(\\gamma))**2 + Abs(a*(sin(\\gamma) - 1)/cos(\\gamma))**2)*cos(\\gamma)) + a*(-a*(1 - sin(\\gamma))*cos(theta_x)/cos(\\gamma) + c*cos(\\gamma) + t + sqrt(-a**2*(1 - sin(\\gamma))**2 + b**2*cos(\\gamma)**2)*sin(theta_x)/cos(\\gamma) + (c*cos(\\gamma) + t)*cos(theta_x))/sqrt(a**2 + Abs(sqrt(-a**2*(1 - sin(\\gamma))**2 + b**2*cos(\\gamma)**2)/cos(\\gamma))**2 + Abs(a*(sin(\\gamma) - 1)/cos(\\gamma))**2)],\n",
       "[                                                                                                                                                                                                                       a*sqrt(-a**2*(1 - sin(\\gamma))**2 + b**2*cos(\\gamma)**2)/(sqrt(a**2 + Abs(sqrt(-a**2*(1 - sin(\\gamma))**2 + b**2*cos(\\gamma)**2)/cos(\\gamma))**2 + Abs(a*(sin(\\gamma) - 1)/cos(\\gamma))**2)*cos(\\gamma)) - a*(a*(1 - sin(\\gamma))*sin(theta_x)/cos(\\gamma) + sqrt(-a**2*(1 - sin(\\gamma))**2 + b**2*cos(\\gamma)**2)*cos(theta_x)/cos(\\gamma) - (c*cos(\\gamma) + t)*sin(theta_x))/sqrt(a**2 + Abs(sqrt(-a**2*(1 - sin(\\gamma))**2 + b**2*cos(\\gamma)**2)/cos(\\gamma))**2 + Abs(a*(sin(\\gamma) - 1)/cos(\\gamma))**2)]])"
      ]
     },
     "execution_count": 39,
     "metadata": {},
     "output_type": "execute_result"
    }
   ],
   "source": [
    "cross_ab_nl = n_ab.cross(n_lower)\n",
    "cross_ab_nl"
   ]
  },
  {
   "cell_type": "code",
   "execution_count": null,
   "metadata": {},
   "outputs": [
    {
     "data": {
      "text/latex": [
       "$\\displaystyle \\left(\\frac{a \\sqrt{- a^{2} \\left(1 - \\sin{\\left(\\gamma \\right)}\\right)^{2} + b^{2} \\cos^{2}{\\left(\\gamma \\right)}}}{\\sqrt{a^{2} + \\left|{\\frac{\\sqrt{- a^{2} \\left(1 - \\sin{\\left(\\gamma \\right)}\\right)^{2} + b^{2} \\cos^{2}{\\left(\\gamma \\right)}}}{\\cos{\\left(\\gamma \\right)}}}\\right|^{2} + \\left|{\\frac{a \\left(\\sin{\\left(\\gamma \\right)} - 1\\right)}{\\cos{\\left(\\gamma \\right)}}}\\right|^{2}} \\sqrt{a^{2} + \\left|{- \\frac{a \\left(1 - \\sin{\\left(\\gamma \\right)}\\right) \\cos{\\left(\\theta_{x} \\right)}}{\\cos{\\left(\\gamma \\right)}} + \\frac{\\sqrt{- a^{2} \\left(1 - \\sin{\\left(\\gamma \\right)}\\right)^{2} + b^{2} \\cos^{2}{\\left(\\gamma \\right)}} \\sin{\\left(\\theta_{x} \\right)}}{\\cos{\\left(\\gamma \\right)}}}\\right|^{2} + \\left|{\\frac{a \\left(\\sin{\\left(\\gamma \\right)} - 1\\right) \\sin{\\left(\\theta_{x} \\right)}}{\\cos{\\left(\\gamma \\right)}} - \\frac{\\sqrt{- a^{2} \\left(1 - \\sin{\\left(\\gamma \\right)}\\right)^{2} + b^{2} \\cos^{2}{\\left(\\gamma \\right)}} \\cos{\\left(\\theta_{x} \\right)}}{\\cos{\\left(\\gamma \\right)}}}\\right|^{2}} \\cos{\\left(\\gamma \\right)}} - \\frac{a \\left(\\frac{a \\left(1 - \\sin{\\left(\\gamma \\right)}\\right) \\sin{\\left(\\theta_{x} \\right)}}{\\cos{\\left(\\gamma \\right)}} + \\frac{\\sqrt{- a^{2} \\left(1 - \\sin{\\left(\\gamma \\right)}\\right)^{2} + b^{2} \\cos^{2}{\\left(\\gamma \\right)}} \\cos{\\left(\\theta_{x} \\right)}}{\\cos{\\left(\\gamma \\right)}}\\right)}{\\sqrt{a^{2} + \\left|{\\frac{\\sqrt{- a^{2} \\left(1 - \\sin{\\left(\\gamma \\right)}\\right)^{2} + b^{2} \\cos^{2}{\\left(\\gamma \\right)}}}{\\cos{\\left(\\gamma \\right)}}}\\right|^{2} + \\left|{\\frac{a \\left(\\sin{\\left(\\gamma \\right)} - 1\\right)}{\\cos{\\left(\\gamma \\right)}}}\\right|^{2}} \\sqrt{a^{2} + \\left|{- \\frac{a \\left(1 - \\sin{\\left(\\gamma \\right)}\\right) \\cos{\\left(\\theta_{x} \\right)}}{\\cos{\\left(\\gamma \\right)}} + \\frac{\\sqrt{- a^{2} \\left(1 - \\sin{\\left(\\gamma \\right)}\\right)^{2} + b^{2} \\cos^{2}{\\left(\\gamma \\right)}} \\sin{\\left(\\theta_{x} \\right)}}{\\cos{\\left(\\gamma \\right)}}}\\right|^{2} + \\left|{\\frac{a \\left(\\sin{\\left(\\gamma \\right)} - 1\\right) \\sin{\\left(\\theta_{x} \\right)}}{\\cos{\\left(\\gamma \\right)}} - \\frac{\\sqrt{- a^{2} \\left(1 - \\sin{\\left(\\gamma \\right)}\\right)^{2} + b^{2} \\cos^{2}{\\left(\\gamma \\right)}} \\cos{\\left(\\theta_{x} \\right)}}{\\cos{\\left(\\gamma \\right)}}}\\right|^{2}}}\\right)^{2} + \\left(- \\frac{a^{2} \\left(1 - \\sin{\\left(\\gamma \\right)}\\right)}{\\sqrt{a^{2} + \\left|{\\frac{\\sqrt{- a^{2} \\left(1 - \\sin{\\left(\\gamma \\right)}\\right)^{2} + b^{2} \\cos^{2}{\\left(\\gamma \\right)}}}{\\cos{\\left(\\gamma \\right)}}}\\right|^{2} + \\left|{\\frac{a \\left(\\sin{\\left(\\gamma \\right)} - 1\\right)}{\\cos{\\left(\\gamma \\right)}}}\\right|^{2}} \\sqrt{a^{2} + \\left|{- \\frac{a \\left(1 - \\sin{\\left(\\gamma \\right)}\\right) \\cos{\\left(\\theta_{x} \\right)}}{\\cos{\\left(\\gamma \\right)}} + \\frac{\\sqrt{- a^{2} \\left(1 - \\sin{\\left(\\gamma \\right)}\\right)^{2} + b^{2} \\cos^{2}{\\left(\\gamma \\right)}} \\sin{\\left(\\theta_{x} \\right)}}{\\cos{\\left(\\gamma \\right)}}}\\right|^{2} + \\left|{\\frac{a \\left(\\sin{\\left(\\gamma \\right)} - 1\\right) \\sin{\\left(\\theta_{x} \\right)}}{\\cos{\\left(\\gamma \\right)}} - \\frac{\\sqrt{- a^{2} \\left(1 - \\sin{\\left(\\gamma \\right)}\\right)^{2} + b^{2} \\cos^{2}{\\left(\\gamma \\right)}} \\cos{\\left(\\theta_{x} \\right)}}{\\cos{\\left(\\gamma \\right)}}}\\right|^{2}} \\cos{\\left(\\gamma \\right)}} + \\frac{a \\left(- \\frac{a \\left(1 - \\sin{\\left(\\gamma \\right)}\\right) \\cos{\\left(\\theta_{x} \\right)}}{\\cos{\\left(\\gamma \\right)}} + \\frac{\\sqrt{- a^{2} \\left(1 - \\sin{\\left(\\gamma \\right)}\\right)^{2} + b^{2} \\cos^{2}{\\left(\\gamma \\right)}} \\sin{\\left(\\theta_{x} \\right)}}{\\cos{\\left(\\gamma \\right)}}\\right)}{\\sqrt{a^{2} + \\left|{\\frac{\\sqrt{- a^{2} \\left(1 - \\sin{\\left(\\gamma \\right)}\\right)^{2} + b^{2} \\cos^{2}{\\left(\\gamma \\right)}}}{\\cos{\\left(\\gamma \\right)}}}\\right|^{2} + \\left|{\\frac{a \\left(\\sin{\\left(\\gamma \\right)} - 1\\right)}{\\cos{\\left(\\gamma \\right)}}}\\right|^{2}} \\sqrt{a^{2} + \\left|{- \\frac{a \\left(1 - \\sin{\\left(\\gamma \\right)}\\right) \\cos{\\left(\\theta_{x} \\right)}}{\\cos{\\left(\\gamma \\right)}} + \\frac{\\sqrt{- a^{2} \\left(1 - \\sin{\\left(\\gamma \\right)}\\right)^{2} + b^{2} \\cos^{2}{\\left(\\gamma \\right)}} \\sin{\\left(\\theta_{x} \\right)}}{\\cos{\\left(\\gamma \\right)}}}\\right|^{2} + \\left|{\\frac{a \\left(\\sin{\\left(\\gamma \\right)} - 1\\right) \\sin{\\left(\\theta_{x} \\right)}}{\\cos{\\left(\\gamma \\right)}} - \\frac{\\sqrt{- a^{2} \\left(1 - \\sin{\\left(\\gamma \\right)}\\right)^{2} + b^{2} \\cos^{2}{\\left(\\gamma \\right)}} \\cos{\\left(\\theta_{x} \\right)}}{\\cos{\\left(\\gamma \\right)}}}\\right|^{2}}}\\right)^{2} + \\left(\\frac{a \\left(1 - \\sin{\\left(\\gamma \\right)}\\right) \\left(\\frac{a \\left(1 - \\sin{\\left(\\gamma \\right)}\\right) \\sin{\\left(\\theta_{x} \\right)}}{\\cos{\\left(\\gamma \\right)}} + \\frac{\\sqrt{- a^{2} \\left(1 - \\sin{\\left(\\gamma \\right)}\\right)^{2} + b^{2} \\cos^{2}{\\left(\\gamma \\right)}} \\cos{\\left(\\theta_{x} \\right)}}{\\cos{\\left(\\gamma \\right)}}\\right)}{\\sqrt{a^{2} + \\left|{\\frac{\\sqrt{- a^{2} \\left(1 - \\sin{\\left(\\gamma \\right)}\\right)^{2} + b^{2} \\cos^{2}{\\left(\\gamma \\right)}}}{\\cos{\\left(\\gamma \\right)}}}\\right|^{2} + \\left|{\\frac{a \\left(\\sin{\\left(\\gamma \\right)} - 1\\right)}{\\cos{\\left(\\gamma \\right)}}}\\right|^{2}} \\sqrt{a^{2} + \\left|{- \\frac{a \\left(1 - \\sin{\\left(\\gamma \\right)}\\right) \\cos{\\left(\\theta_{x} \\right)}}{\\cos{\\left(\\gamma \\right)}} + \\frac{\\sqrt{- a^{2} \\left(1 - \\sin{\\left(\\gamma \\right)}\\right)^{2} + b^{2} \\cos^{2}{\\left(\\gamma \\right)}} \\sin{\\left(\\theta_{x} \\right)}}{\\cos{\\left(\\gamma \\right)}}}\\right|^{2} + \\left|{\\frac{a \\left(\\sin{\\left(\\gamma \\right)} - 1\\right) \\sin{\\left(\\theta_{x} \\right)}}{\\cos{\\left(\\gamma \\right)}} - \\frac{\\sqrt{- a^{2} \\left(1 - \\sin{\\left(\\gamma \\right)}\\right)^{2} + b^{2} \\cos^{2}{\\left(\\gamma \\right)}} \\cos{\\left(\\theta_{x} \\right)}}{\\cos{\\left(\\gamma \\right)}}}\\right|^{2}} \\cos{\\left(\\gamma \\right)}} - \\frac{\\sqrt{- a^{2} \\left(1 - \\sin{\\left(\\gamma \\right)}\\right)^{2} + b^{2} \\cos^{2}{\\left(\\gamma \\right)}} \\left(- \\frac{a \\left(1 - \\sin{\\left(\\gamma \\right)}\\right) \\cos{\\left(\\theta_{x} \\right)}}{\\cos{\\left(\\gamma \\right)}} + \\frac{\\sqrt{- a^{2} \\left(1 - \\sin{\\left(\\gamma \\right)}\\right)^{2} + b^{2} \\cos^{2}{\\left(\\gamma \\right)}} \\sin{\\left(\\theta_{x} \\right)}}{\\cos{\\left(\\gamma \\right)}}\\right)}{\\sqrt{a^{2} + \\left|{\\frac{\\sqrt{- a^{2} \\left(1 - \\sin{\\left(\\gamma \\right)}\\right)^{2} + b^{2} \\cos^{2}{\\left(\\gamma \\right)}}}{\\cos{\\left(\\gamma \\right)}}}\\right|^{2} + \\left|{\\frac{a \\left(\\sin{\\left(\\gamma \\right)} - 1\\right)}{\\cos{\\left(\\gamma \\right)}}}\\right|^{2}} \\sqrt{a^{2} + \\left|{- \\frac{a \\left(1 - \\sin{\\left(\\gamma \\right)}\\right) \\cos{\\left(\\theta_{x} \\right)}}{\\cos{\\left(\\gamma \\right)}} + \\frac{\\sqrt{- a^{2} \\left(1 - \\sin{\\left(\\gamma \\right)}\\right)^{2} + b^{2} \\cos^{2}{\\left(\\gamma \\right)}} \\sin{\\left(\\theta_{x} \\right)}}{\\cos{\\left(\\gamma \\right)}}}\\right|^{2} + \\left|{\\frac{a \\left(\\sin{\\left(\\gamma \\right)} - 1\\right) \\sin{\\left(\\theta_{x} \\right)}}{\\cos{\\left(\\gamma \\right)}} - \\frac{\\sqrt{- a^{2} \\left(1 - \\sin{\\left(\\gamma \\right)}\\right)^{2} + b^{2} \\cos^{2}{\\left(\\gamma \\right)}} \\cos{\\left(\\theta_{x} \\right)}}{\\cos{\\left(\\gamma \\right)}}}\\right|^{2}} \\cos{\\left(\\gamma \\right)}}\\right)^{2}$"
      ],
      "text/plain": [
       "(a*sqrt(-a**2*(1 - sin(\\gamma))**2 + b**2*cos(\\gamma)**2)/(sqrt(a**2 + Abs(sqrt(-a**2*(1 - sin(\\gamma))**2 + b**2*cos(\\gamma)**2)/cos(\\gamma))**2 + Abs(a*(sin(\\gamma) - 1)/cos(\\gamma))**2)*sqrt(a**2 + Abs(-a*(1 - sin(\\gamma))*cos(theta_x)/cos(\\gamma) + sqrt(-a**2*(1 - sin(\\gamma))**2 + b**2*cos(\\gamma)**2)*sin(theta_x)/cos(\\gamma))**2 + Abs(a*(sin(\\gamma) - 1)*sin(theta_x)/cos(\\gamma) - sqrt(-a**2*(1 - sin(\\gamma))**2 + b**2*cos(\\gamma)**2)*cos(theta_x)/cos(\\gamma))**2)*cos(\\gamma)) - a*(a*(1 - sin(\\gamma))*sin(theta_x)/cos(\\gamma) + sqrt(-a**2*(1 - sin(\\gamma))**2 + b**2*cos(\\gamma)**2)*cos(theta_x)/cos(\\gamma))/(sqrt(a**2 + Abs(sqrt(-a**2*(1 - sin(\\gamma))**2 + b**2*cos(\\gamma)**2)/cos(\\gamma))**2 + Abs(a*(sin(\\gamma) - 1)/cos(\\gamma))**2)*sqrt(a**2 + Abs(-a*(1 - sin(\\gamma))*cos(theta_x)/cos(\\gamma) + sqrt(-a**2*(1 - sin(\\gamma))**2 + b**2*cos(\\gamma)**2)*sin(theta_x)/cos(\\gamma))**2 + Abs(a*(sin(\\gamma) - 1)*sin(theta_x)/cos(\\gamma) - sqrt(-a**2*(1 - sin(\\gamma))**2 + b**2*cos(\\gamma)**2)*cos(theta_x)/cos(\\gamma))**2)))**2 + (-a**2*(1 - sin(\\gamma))/(sqrt(a**2 + Abs(sqrt(-a**2*(1 - sin(\\gamma))**2 + b**2*cos(\\gamma)**2)/cos(\\gamma))**2 + Abs(a*(sin(\\gamma) - 1)/cos(\\gamma))**2)*sqrt(a**2 + Abs(-a*(1 - sin(\\gamma))*cos(theta_x)/cos(\\gamma) + sqrt(-a**2*(1 - sin(\\gamma))**2 + b**2*cos(\\gamma)**2)*sin(theta_x)/cos(\\gamma))**2 + Abs(a*(sin(\\gamma) - 1)*sin(theta_x)/cos(\\gamma) - sqrt(-a**2*(1 - sin(\\gamma))**2 + b**2*cos(\\gamma)**2)*cos(theta_x)/cos(\\gamma))**2)*cos(\\gamma)) + a*(-a*(1 - sin(\\gamma))*cos(theta_x)/cos(\\gamma) + sqrt(-a**2*(1 - sin(\\gamma))**2 + b**2*cos(\\gamma)**2)*sin(theta_x)/cos(\\gamma))/(sqrt(a**2 + Abs(sqrt(-a**2*(1 - sin(\\gamma))**2 + b**2*cos(\\gamma)**2)/cos(\\gamma))**2 + Abs(a*(sin(\\gamma) - 1)/cos(\\gamma))**2)*sqrt(a**2 + Abs(-a*(1 - sin(\\gamma))*cos(theta_x)/cos(\\gamma) + sqrt(-a**2*(1 - sin(\\gamma))**2 + b**2*cos(\\gamma)**2)*sin(theta_x)/cos(\\gamma))**2 + Abs(a*(sin(\\gamma) - 1)*sin(theta_x)/cos(\\gamma) - sqrt(-a**2*(1 - sin(\\gamma))**2 + b**2*cos(\\gamma)**2)*cos(theta_x)/cos(\\gamma))**2)))**2 + (a*(1 - sin(\\gamma))*(a*(1 - sin(\\gamma))*sin(theta_x)/cos(\\gamma) + sqrt(-a**2*(1 - sin(\\gamma))**2 + b**2*cos(\\gamma)**2)*cos(theta_x)/cos(\\gamma))/(sqrt(a**2 + Abs(sqrt(-a**2*(1 - sin(\\gamma))**2 + b**2*cos(\\gamma)**2)/cos(\\gamma))**2 + Abs(a*(sin(\\gamma) - 1)/cos(\\gamma))**2)*sqrt(a**2 + Abs(-a*(1 - sin(\\gamma))*cos(theta_x)/cos(\\gamma) + sqrt(-a**2*(1 - sin(\\gamma))**2 + b**2*cos(\\gamma)**2)*sin(theta_x)/cos(\\gamma))**2 + Abs(a*(sin(\\gamma) - 1)*sin(theta_x)/cos(\\gamma) - sqrt(-a**2*(1 - sin(\\gamma))**2 + b**2*cos(\\gamma)**2)*cos(theta_x)/cos(\\gamma))**2)*cos(\\gamma)) - sqrt(-a**2*(1 - sin(\\gamma))**2 + b**2*cos(\\gamma)**2)*(-a*(1 - sin(\\gamma))*cos(theta_x)/cos(\\gamma) + sqrt(-a**2*(1 - sin(\\gamma))**2 + b**2*cos(\\gamma)**2)*sin(theta_x)/cos(\\gamma))/(sqrt(a**2 + Abs(sqrt(-a**2*(1 - sin(\\gamma))**2 + b**2*cos(\\gamma)**2)/cos(\\gamma))**2 + Abs(a*(sin(\\gamma) - 1)/cos(\\gamma))**2)*sqrt(a**2 + Abs(-a*(1 - sin(\\gamma))*cos(theta_x)/cos(\\gamma) + sqrt(-a**2*(1 - sin(\\gamma))**2 + b**2*cos(\\gamma)**2)*sin(theta_x)/cos(\\gamma))**2 + Abs(a*(sin(\\gamma) - 1)*sin(theta_x)/cos(\\gamma) - sqrt(-a**2*(1 - sin(\\gamma))**2 + b**2*cos(\\gamma)**2)*cos(theta_x)/cos(\\gamma))**2)*cos(\\gamma)))**2"
      ]
     },
     "execution_count": 40,
     "metadata": {},
     "output_type": "execute_result"
    }
   ],
   "source": [
    "norm_cross_sq = cross_nu_nl.dot(cross_nu_nl)\n",
    "norm_cross_sq"
   ]
  },
  {
   "cell_type": "code",
   "execution_count": null,
   "metadata": {},
   "outputs": [
    {
     "data": {
      "text/latex": [
       "$\\displaystyle \\frac{- \\left(\\frac{a \\sqrt{- a^{2} \\left(1 - \\sin{\\left(\\gamma \\right)}\\right)^{2} + b^{2} \\cos^{2}{\\left(\\gamma \\right)}}}{\\sqrt{a^{2} + \\left|{\\frac{\\sqrt{- a^{2} \\left(1 - \\sin{\\left(\\gamma \\right)}\\right)^{2} + b^{2} \\cos^{2}{\\left(\\gamma \\right)}}}{\\cos{\\left(\\gamma \\right)}}}\\right|^{2} + \\left|{\\frac{a \\left(\\sin{\\left(\\gamma \\right)} - 1\\right)}{\\cos{\\left(\\gamma \\right)}}}\\right|^{2}} \\cos{\\left(\\gamma \\right)}} - \\frac{a \\left(\\frac{a \\left(1 - \\sin{\\left(\\gamma \\right)}\\right) \\sin{\\left(\\theta_{x} \\right)}}{\\cos{\\left(\\gamma \\right)}} + \\frac{\\sqrt{- a^{2} \\left(1 - \\sin{\\left(\\gamma \\right)}\\right)^{2} + b^{2} \\cos^{2}{\\left(\\gamma \\right)}} \\cos{\\left(\\theta_{x} \\right)}}{\\cos{\\left(\\gamma \\right)}} - \\left(c \\cos{\\left(\\gamma \\right)} + t\\right) \\sin{\\left(\\theta_{x} \\right)}\\right)}{\\sqrt{a^{2} + \\left|{\\frac{\\sqrt{- a^{2} \\left(1 - \\sin{\\left(\\gamma \\right)}\\right)^{2} + b^{2} \\cos^{2}{\\left(\\gamma \\right)}}}{\\cos{\\left(\\gamma \\right)}}}\\right|^{2} + \\left|{\\frac{a \\left(\\sin{\\left(\\gamma \\right)} - 1\\right)}{\\cos{\\left(\\gamma \\right)}}}\\right|^{2}}}\\right) \\left(\\frac{a \\sqrt{- a^{2} \\left(1 - \\sin{\\left(\\gamma \\right)}\\right)^{2} + b^{2} \\cos^{2}{\\left(\\gamma \\right)}}}{\\sqrt{a^{2} + \\left|{\\frac{\\sqrt{- a^{2} \\left(1 - \\sin{\\left(\\gamma \\right)}\\right)^{2} + b^{2} \\cos^{2}{\\left(\\gamma \\right)}}}{\\cos{\\left(\\gamma \\right)}}}\\right|^{2} + \\left|{\\frac{a \\left(\\sin{\\left(\\gamma \\right)} - 1\\right)}{\\cos{\\left(\\gamma \\right)}}}\\right|^{2}} \\sqrt{a^{2} + \\left|{- \\frac{a \\left(1 - \\sin{\\left(\\gamma \\right)}\\right) \\cos{\\left(\\theta_{x} \\right)}}{\\cos{\\left(\\gamma \\right)}} + \\frac{\\sqrt{- a^{2} \\left(1 - \\sin{\\left(\\gamma \\right)}\\right)^{2} + b^{2} \\cos^{2}{\\left(\\gamma \\right)}} \\sin{\\left(\\theta_{x} \\right)}}{\\cos{\\left(\\gamma \\right)}}}\\right|^{2} + \\left|{\\frac{a \\left(\\sin{\\left(\\gamma \\right)} - 1\\right) \\sin{\\left(\\theta_{x} \\right)}}{\\cos{\\left(\\gamma \\right)}} - \\frac{\\sqrt{- a^{2} \\left(1 - \\sin{\\left(\\gamma \\right)}\\right)^{2} + b^{2} \\cos^{2}{\\left(\\gamma \\right)}} \\cos{\\left(\\theta_{x} \\right)}}{\\cos{\\left(\\gamma \\right)}}}\\right|^{2}} \\cos{\\left(\\gamma \\right)}} - \\frac{a \\left(\\frac{a \\left(1 - \\sin{\\left(\\gamma \\right)}\\right) \\sin{\\left(\\theta_{x} \\right)}}{\\cos{\\left(\\gamma \\right)}} + \\frac{\\sqrt{- a^{2} \\left(1 - \\sin{\\left(\\gamma \\right)}\\right)^{2} + b^{2} \\cos^{2}{\\left(\\gamma \\right)}} \\cos{\\left(\\theta_{x} \\right)}}{\\cos{\\left(\\gamma \\right)}}\\right)}{\\sqrt{a^{2} + \\left|{\\frac{\\sqrt{- a^{2} \\left(1 - \\sin{\\left(\\gamma \\right)}\\right)^{2} + b^{2} \\cos^{2}{\\left(\\gamma \\right)}}}{\\cos{\\left(\\gamma \\right)}}}\\right|^{2} + \\left|{\\frac{a \\left(\\sin{\\left(\\gamma \\right)} - 1\\right)}{\\cos{\\left(\\gamma \\right)}}}\\right|^{2}} \\sqrt{a^{2} + \\left|{- \\frac{a \\left(1 - \\sin{\\left(\\gamma \\right)}\\right) \\cos{\\left(\\theta_{x} \\right)}}{\\cos{\\left(\\gamma \\right)}} + \\frac{\\sqrt{- a^{2} \\left(1 - \\sin{\\left(\\gamma \\right)}\\right)^{2} + b^{2} \\cos^{2}{\\left(\\gamma \\right)}} \\sin{\\left(\\theta_{x} \\right)}}{\\cos{\\left(\\gamma \\right)}}}\\right|^{2} + \\left|{\\frac{a \\left(\\sin{\\left(\\gamma \\right)} - 1\\right) \\sin{\\left(\\theta_{x} \\right)}}{\\cos{\\left(\\gamma \\right)}} - \\frac{\\sqrt{- a^{2} \\left(1 - \\sin{\\left(\\gamma \\right)}\\right)^{2} + b^{2} \\cos^{2}{\\left(\\gamma \\right)}} \\cos{\\left(\\theta_{x} \\right)}}{\\cos{\\left(\\gamma \\right)}}}\\right|^{2}}}\\right) - \\left(- \\frac{a^{2} \\left(1 - \\sin{\\left(\\gamma \\right)}\\right)}{\\sqrt{a^{2} + \\left|{\\frac{\\sqrt{- a^{2} \\left(1 - \\sin{\\left(\\gamma \\right)}\\right)^{2} + b^{2} \\cos^{2}{\\left(\\gamma \\right)}}}{\\cos{\\left(\\gamma \\right)}}}\\right|^{2} + \\left|{\\frac{a \\left(\\sin{\\left(\\gamma \\right)} - 1\\right)}{\\cos{\\left(\\gamma \\right)}}}\\right|^{2}} \\cos{\\left(\\gamma \\right)}} + \\frac{a \\left(- \\frac{a \\left(1 - \\sin{\\left(\\gamma \\right)}\\right) \\cos{\\left(\\theta_{x} \\right)}}{\\cos{\\left(\\gamma \\right)}} + c \\cos{\\left(\\gamma \\right)} + t + \\frac{\\sqrt{- a^{2} \\left(1 - \\sin{\\left(\\gamma \\right)}\\right)^{2} + b^{2} \\cos^{2}{\\left(\\gamma \\right)}} \\sin{\\left(\\theta_{x} \\right)}}{\\cos{\\left(\\gamma \\right)}} + \\left(c \\cos{\\left(\\gamma \\right)} + t\\right) \\cos{\\left(\\theta_{x} \\right)}\\right)}{\\sqrt{a^{2} + \\left|{\\frac{\\sqrt{- a^{2} \\left(1 - \\sin{\\left(\\gamma \\right)}\\right)^{2} + b^{2} \\cos^{2}{\\left(\\gamma \\right)}}}{\\cos{\\left(\\gamma \\right)}}}\\right|^{2} + \\left|{\\frac{a \\left(\\sin{\\left(\\gamma \\right)} - 1\\right)}{\\cos{\\left(\\gamma \\right)}}}\\right|^{2}}}\\right) \\left(- \\frac{a^{2} \\left(1 - \\sin{\\left(\\gamma \\right)}\\right)}{\\sqrt{a^{2} + \\left|{\\frac{\\sqrt{- a^{2} \\left(1 - \\sin{\\left(\\gamma \\right)}\\right)^{2} + b^{2} \\cos^{2}{\\left(\\gamma \\right)}}}{\\cos{\\left(\\gamma \\right)}}}\\right|^{2} + \\left|{\\frac{a \\left(\\sin{\\left(\\gamma \\right)} - 1\\right)}{\\cos{\\left(\\gamma \\right)}}}\\right|^{2}} \\sqrt{a^{2} + \\left|{- \\frac{a \\left(1 - \\sin{\\left(\\gamma \\right)}\\right) \\cos{\\left(\\theta_{x} \\right)}}{\\cos{\\left(\\gamma \\right)}} + \\frac{\\sqrt{- a^{2} \\left(1 - \\sin{\\left(\\gamma \\right)}\\right)^{2} + b^{2} \\cos^{2}{\\left(\\gamma \\right)}} \\sin{\\left(\\theta_{x} \\right)}}{\\cos{\\left(\\gamma \\right)}}}\\right|^{2} + \\left|{\\frac{a \\left(\\sin{\\left(\\gamma \\right)} - 1\\right) \\sin{\\left(\\theta_{x} \\right)}}{\\cos{\\left(\\gamma \\right)}} - \\frac{\\sqrt{- a^{2} \\left(1 - \\sin{\\left(\\gamma \\right)}\\right)^{2} + b^{2} \\cos^{2}{\\left(\\gamma \\right)}} \\cos{\\left(\\theta_{x} \\right)}}{\\cos{\\left(\\gamma \\right)}}}\\right|^{2}} \\cos{\\left(\\gamma \\right)}} + \\frac{a \\left(- \\frac{a \\left(1 - \\sin{\\left(\\gamma \\right)}\\right) \\cos{\\left(\\theta_{x} \\right)}}{\\cos{\\left(\\gamma \\right)}} + \\frac{\\sqrt{- a^{2} \\left(1 - \\sin{\\left(\\gamma \\right)}\\right)^{2} + b^{2} \\cos^{2}{\\left(\\gamma \\right)}} \\sin{\\left(\\theta_{x} \\right)}}{\\cos{\\left(\\gamma \\right)}}\\right)}{\\sqrt{a^{2} + \\left|{\\frac{\\sqrt{- a^{2} \\left(1 - \\sin{\\left(\\gamma \\right)}\\right)^{2} + b^{2} \\cos^{2}{\\left(\\gamma \\right)}}}{\\cos{\\left(\\gamma \\right)}}}\\right|^{2} + \\left|{\\frac{a \\left(\\sin{\\left(\\gamma \\right)} - 1\\right)}{\\cos{\\left(\\gamma \\right)}}}\\right|^{2}} \\sqrt{a^{2} + \\left|{- \\frac{a \\left(1 - \\sin{\\left(\\gamma \\right)}\\right) \\cos{\\left(\\theta_{x} \\right)}}{\\cos{\\left(\\gamma \\right)}} + \\frac{\\sqrt{- a^{2} \\left(1 - \\sin{\\left(\\gamma \\right)}\\right)^{2} + b^{2} \\cos^{2}{\\left(\\gamma \\right)}} \\sin{\\left(\\theta_{x} \\right)}}{\\cos{\\left(\\gamma \\right)}}}\\right|^{2} + \\left|{\\frac{a \\left(\\sin{\\left(\\gamma \\right)} - 1\\right) \\sin{\\left(\\theta_{x} \\right)}}{\\cos{\\left(\\gamma \\right)}} - \\frac{\\sqrt{- a^{2} \\left(1 - \\sin{\\left(\\gamma \\right)}\\right)^{2} + b^{2} \\cos^{2}{\\left(\\gamma \\right)}} \\cos{\\left(\\theta_{x} \\right)}}{\\cos{\\left(\\gamma \\right)}}}\\right|^{2}}}\\right) - \\left(\\frac{a \\left(1 - \\sin{\\left(\\gamma \\right)}\\right) \\left(\\frac{a \\left(1 - \\sin{\\left(\\gamma \\right)}\\right) \\sin{\\left(\\theta_{x} \\right)}}{\\cos{\\left(\\gamma \\right)}} + \\frac{\\sqrt{- a^{2} \\left(1 - \\sin{\\left(\\gamma \\right)}\\right)^{2} + b^{2} \\cos^{2}{\\left(\\gamma \\right)}} \\cos{\\left(\\theta_{x} \\right)}}{\\cos{\\left(\\gamma \\right)}} - \\left(c \\cos{\\left(\\gamma \\right)} + t\\right) \\sin{\\left(\\theta_{x} \\right)}\\right)}{\\sqrt{a^{2} + \\left|{\\frac{\\sqrt{- a^{2} \\left(1 - \\sin{\\left(\\gamma \\right)}\\right)^{2} + b^{2} \\cos^{2}{\\left(\\gamma \\right)}}}{\\cos{\\left(\\gamma \\right)}}}\\right|^{2} + \\left|{\\frac{a \\left(\\sin{\\left(\\gamma \\right)} - 1\\right)}{\\cos{\\left(\\gamma \\right)}}}\\right|^{2}} \\cos{\\left(\\gamma \\right)}} - \\frac{\\sqrt{- a^{2} \\left(1 - \\sin{\\left(\\gamma \\right)}\\right)^{2} + b^{2} \\cos^{2}{\\left(\\gamma \\right)}} \\left(- \\frac{a \\left(1 - \\sin{\\left(\\gamma \\right)}\\right) \\cos{\\left(\\theta_{x} \\right)}}{\\cos{\\left(\\gamma \\right)}} + c \\cos{\\left(\\gamma \\right)} + t + \\frac{\\sqrt{- a^{2} \\left(1 - \\sin{\\left(\\gamma \\right)}\\right)^{2} + b^{2} \\cos^{2}{\\left(\\gamma \\right)}} \\sin{\\left(\\theta_{x} \\right)}}{\\cos{\\left(\\gamma \\right)}} + \\left(c \\cos{\\left(\\gamma \\right)} + t\\right) \\cos{\\left(\\theta_{x} \\right)}\\right)}{\\sqrt{a^{2} + \\left|{\\frac{\\sqrt{- a^{2} \\left(1 - \\sin{\\left(\\gamma \\right)}\\right)^{2} + b^{2} \\cos^{2}{\\left(\\gamma \\right)}}}{\\cos{\\left(\\gamma \\right)}}}\\right|^{2} + \\left|{\\frac{a \\left(\\sin{\\left(\\gamma \\right)} - 1\\right)}{\\cos{\\left(\\gamma \\right)}}}\\right|^{2}} \\cos{\\left(\\gamma \\right)}}\\right) \\left(\\frac{a \\left(1 - \\sin{\\left(\\gamma \\right)}\\right) \\left(\\frac{a \\left(1 - \\sin{\\left(\\gamma \\right)}\\right) \\sin{\\left(\\theta_{x} \\right)}}{\\cos{\\left(\\gamma \\right)}} + \\frac{\\sqrt{- a^{2} \\left(1 - \\sin{\\left(\\gamma \\right)}\\right)^{2} + b^{2} \\cos^{2}{\\left(\\gamma \\right)}} \\cos{\\left(\\theta_{x} \\right)}}{\\cos{\\left(\\gamma \\right)}}\\right)}{\\sqrt{a^{2} + \\left|{\\frac{\\sqrt{- a^{2} \\left(1 - \\sin{\\left(\\gamma \\right)}\\right)^{2} + b^{2} \\cos^{2}{\\left(\\gamma \\right)}}}{\\cos{\\left(\\gamma \\right)}}}\\right|^{2} + \\left|{\\frac{a \\left(\\sin{\\left(\\gamma \\right)} - 1\\right)}{\\cos{\\left(\\gamma \\right)}}}\\right|^{2}} \\sqrt{a^{2} + \\left|{- \\frac{a \\left(1 - \\sin{\\left(\\gamma \\right)}\\right) \\cos{\\left(\\theta_{x} \\right)}}{\\cos{\\left(\\gamma \\right)}} + \\frac{\\sqrt{- a^{2} \\left(1 - \\sin{\\left(\\gamma \\right)}\\right)^{2} + b^{2} \\cos^{2}{\\left(\\gamma \\right)}} \\sin{\\left(\\theta_{x} \\right)}}{\\cos{\\left(\\gamma \\right)}}}\\right|^{2} + \\left|{\\frac{a \\left(\\sin{\\left(\\gamma \\right)} - 1\\right) \\sin{\\left(\\theta_{x} \\right)}}{\\cos{\\left(\\gamma \\right)}} - \\frac{\\sqrt{- a^{2} \\left(1 - \\sin{\\left(\\gamma \\right)}\\right)^{2} + b^{2} \\cos^{2}{\\left(\\gamma \\right)}} \\cos{\\left(\\theta_{x} \\right)}}{\\cos{\\left(\\gamma \\right)}}}\\right|^{2}} \\cos{\\left(\\gamma \\right)}} - \\frac{\\sqrt{- a^{2} \\left(1 - \\sin{\\left(\\gamma \\right)}\\right)^{2} + b^{2} \\cos^{2}{\\left(\\gamma \\right)}} \\left(- \\frac{a \\left(1 - \\sin{\\left(\\gamma \\right)}\\right) \\cos{\\left(\\theta_{x} \\right)}}{\\cos{\\left(\\gamma \\right)}} + \\frac{\\sqrt{- a^{2} \\left(1 - \\sin{\\left(\\gamma \\right)}\\right)^{2} + b^{2} \\cos^{2}{\\left(\\gamma \\right)}} \\sin{\\left(\\theta_{x} \\right)}}{\\cos{\\left(\\gamma \\right)}}\\right)}{\\sqrt{a^{2} + \\left|{\\frac{\\sqrt{- a^{2} \\left(1 - \\sin{\\left(\\gamma \\right)}\\right)^{2} + b^{2} \\cos^{2}{\\left(\\gamma \\right)}}}{\\cos{\\left(\\gamma \\right)}}}\\right|^{2} + \\left|{\\frac{a \\left(\\sin{\\left(\\gamma \\right)} - 1\\right)}{\\cos{\\left(\\gamma \\right)}}}\\right|^{2}} \\sqrt{a^{2} + \\left|{- \\frac{a \\left(1 - \\sin{\\left(\\gamma \\right)}\\right) \\cos{\\left(\\theta_{x} \\right)}}{\\cos{\\left(\\gamma \\right)}} + \\frac{\\sqrt{- a^{2} \\left(1 - \\sin{\\left(\\gamma \\right)}\\right)^{2} + b^{2} \\cos^{2}{\\left(\\gamma \\right)}} \\sin{\\left(\\theta_{x} \\right)}}{\\cos{\\left(\\gamma \\right)}}}\\right|^{2} + \\left|{\\frac{a \\left(\\sin{\\left(\\gamma \\right)} - 1\\right) \\sin{\\left(\\theta_{x} \\right)}}{\\cos{\\left(\\gamma \\right)}} - \\frac{\\sqrt{- a^{2} \\left(1 - \\sin{\\left(\\gamma \\right)}\\right)^{2} + b^{2} \\cos^{2}{\\left(\\gamma \\right)}} \\cos{\\left(\\theta_{x} \\right)}}{\\cos{\\left(\\gamma \\right)}}}\\right|^{2}} \\cos{\\left(\\gamma \\right)}}\\right)}{\\left(\\frac{a \\sqrt{- a^{2} \\left(1 - \\sin{\\left(\\gamma \\right)}\\right)^{2} + b^{2} \\cos^{2}{\\left(\\gamma \\right)}}}{\\sqrt{a^{2} + \\left|{\\frac{\\sqrt{- a^{2} \\left(1 - \\sin{\\left(\\gamma \\right)}\\right)^{2} + b^{2} \\cos^{2}{\\left(\\gamma \\right)}}}{\\cos{\\left(\\gamma \\right)}}}\\right|^{2} + \\left|{\\frac{a \\left(\\sin{\\left(\\gamma \\right)} - 1\\right)}{\\cos{\\left(\\gamma \\right)}}}\\right|^{2}} \\sqrt{a^{2} + \\left|{- \\frac{a \\left(1 - \\sin{\\left(\\gamma \\right)}\\right) \\cos{\\left(\\theta_{x} \\right)}}{\\cos{\\left(\\gamma \\right)}} + \\frac{\\sqrt{- a^{2} \\left(1 - \\sin{\\left(\\gamma \\right)}\\right)^{2} + b^{2} \\cos^{2}{\\left(\\gamma \\right)}} \\sin{\\left(\\theta_{x} \\right)}}{\\cos{\\left(\\gamma \\right)}}}\\right|^{2} + \\left|{\\frac{a \\left(\\sin{\\left(\\gamma \\right)} - 1\\right) \\sin{\\left(\\theta_{x} \\right)}}{\\cos{\\left(\\gamma \\right)}} - \\frac{\\sqrt{- a^{2} \\left(1 - \\sin{\\left(\\gamma \\right)}\\right)^{2} + b^{2} \\cos^{2}{\\left(\\gamma \\right)}} \\cos{\\left(\\theta_{x} \\right)}}{\\cos{\\left(\\gamma \\right)}}}\\right|^{2}} \\cos{\\left(\\gamma \\right)}} - \\frac{a \\left(\\frac{a \\left(1 - \\sin{\\left(\\gamma \\right)}\\right) \\sin{\\left(\\theta_{x} \\right)}}{\\cos{\\left(\\gamma \\right)}} + \\frac{\\sqrt{- a^{2} \\left(1 - \\sin{\\left(\\gamma \\right)}\\right)^{2} + b^{2} \\cos^{2}{\\left(\\gamma \\right)}} \\cos{\\left(\\theta_{x} \\right)}}{\\cos{\\left(\\gamma \\right)}}\\right)}{\\sqrt{a^{2} + \\left|{\\frac{\\sqrt{- a^{2} \\left(1 - \\sin{\\left(\\gamma \\right)}\\right)^{2} + b^{2} \\cos^{2}{\\left(\\gamma \\right)}}}{\\cos{\\left(\\gamma \\right)}}}\\right|^{2} + \\left|{\\frac{a \\left(\\sin{\\left(\\gamma \\right)} - 1\\right)}{\\cos{\\left(\\gamma \\right)}}}\\right|^{2}} \\sqrt{a^{2} + \\left|{- \\frac{a \\left(1 - \\sin{\\left(\\gamma \\right)}\\right) \\cos{\\left(\\theta_{x} \\right)}}{\\cos{\\left(\\gamma \\right)}} + \\frac{\\sqrt{- a^{2} \\left(1 - \\sin{\\left(\\gamma \\right)}\\right)^{2} + b^{2} \\cos^{2}{\\left(\\gamma \\right)}} \\sin{\\left(\\theta_{x} \\right)}}{\\cos{\\left(\\gamma \\right)}}}\\right|^{2} + \\left|{\\frac{a \\left(\\sin{\\left(\\gamma \\right)} - 1\\right) \\sin{\\left(\\theta_{x} \\right)}}{\\cos{\\left(\\gamma \\right)}} - \\frac{\\sqrt{- a^{2} \\left(1 - \\sin{\\left(\\gamma \\right)}\\right)^{2} + b^{2} \\cos^{2}{\\left(\\gamma \\right)}} \\cos{\\left(\\theta_{x} \\right)}}{\\cos{\\left(\\gamma \\right)}}}\\right|^{2}}}\\right)^{2} + \\left(- \\frac{a^{2} \\left(1 - \\sin{\\left(\\gamma \\right)}\\right)}{\\sqrt{a^{2} + \\left|{\\frac{\\sqrt{- a^{2} \\left(1 - \\sin{\\left(\\gamma \\right)}\\right)^{2} + b^{2} \\cos^{2}{\\left(\\gamma \\right)}}}{\\cos{\\left(\\gamma \\right)}}}\\right|^{2} + \\left|{\\frac{a \\left(\\sin{\\left(\\gamma \\right)} - 1\\right)}{\\cos{\\left(\\gamma \\right)}}}\\right|^{2}} \\sqrt{a^{2} + \\left|{- \\frac{a \\left(1 - \\sin{\\left(\\gamma \\right)}\\right) \\cos{\\left(\\theta_{x} \\right)}}{\\cos{\\left(\\gamma \\right)}} + \\frac{\\sqrt{- a^{2} \\left(1 - \\sin{\\left(\\gamma \\right)}\\right)^{2} + b^{2} \\cos^{2}{\\left(\\gamma \\right)}} \\sin{\\left(\\theta_{x} \\right)}}{\\cos{\\left(\\gamma \\right)}}}\\right|^{2} + \\left|{\\frac{a \\left(\\sin{\\left(\\gamma \\right)} - 1\\right) \\sin{\\left(\\theta_{x} \\right)}}{\\cos{\\left(\\gamma \\right)}} - \\frac{\\sqrt{- a^{2} \\left(1 - \\sin{\\left(\\gamma \\right)}\\right)^{2} + b^{2} \\cos^{2}{\\left(\\gamma \\right)}} \\cos{\\left(\\theta_{x} \\right)}}{\\cos{\\left(\\gamma \\right)}}}\\right|^{2}} \\cos{\\left(\\gamma \\right)}} + \\frac{a \\left(- \\frac{a \\left(1 - \\sin{\\left(\\gamma \\right)}\\right) \\cos{\\left(\\theta_{x} \\right)}}{\\cos{\\left(\\gamma \\right)}} + \\frac{\\sqrt{- a^{2} \\left(1 - \\sin{\\left(\\gamma \\right)}\\right)^{2} + b^{2} \\cos^{2}{\\left(\\gamma \\right)}} \\sin{\\left(\\theta_{x} \\right)}}{\\cos{\\left(\\gamma \\right)}}\\right)}{\\sqrt{a^{2} + \\left|{\\frac{\\sqrt{- a^{2} \\left(1 - \\sin{\\left(\\gamma \\right)}\\right)^{2} + b^{2} \\cos^{2}{\\left(\\gamma \\right)}}}{\\cos{\\left(\\gamma \\right)}}}\\right|^{2} + \\left|{\\frac{a \\left(\\sin{\\left(\\gamma \\right)} - 1\\right)}{\\cos{\\left(\\gamma \\right)}}}\\right|^{2}} \\sqrt{a^{2} + \\left|{- \\frac{a \\left(1 - \\sin{\\left(\\gamma \\right)}\\right) \\cos{\\left(\\theta_{x} \\right)}}{\\cos{\\left(\\gamma \\right)}} + \\frac{\\sqrt{- a^{2} \\left(1 - \\sin{\\left(\\gamma \\right)}\\right)^{2} + b^{2} \\cos^{2}{\\left(\\gamma \\right)}} \\sin{\\left(\\theta_{x} \\right)}}{\\cos{\\left(\\gamma \\right)}}}\\right|^{2} + \\left|{\\frac{a \\left(\\sin{\\left(\\gamma \\right)} - 1\\right) \\sin{\\left(\\theta_{x} \\right)}}{\\cos{\\left(\\gamma \\right)}} - \\frac{\\sqrt{- a^{2} \\left(1 - \\sin{\\left(\\gamma \\right)}\\right)^{2} + b^{2} \\cos^{2}{\\left(\\gamma \\right)}} \\cos{\\left(\\theta_{x} \\right)}}{\\cos{\\left(\\gamma \\right)}}}\\right|^{2}}}\\right)^{2} + \\left(\\frac{a \\left(1 - \\sin{\\left(\\gamma \\right)}\\right) \\left(\\frac{a \\left(1 - \\sin{\\left(\\gamma \\right)}\\right) \\sin{\\left(\\theta_{x} \\right)}}{\\cos{\\left(\\gamma \\right)}} + \\frac{\\sqrt{- a^{2} \\left(1 - \\sin{\\left(\\gamma \\right)}\\right)^{2} + b^{2} \\cos^{2}{\\left(\\gamma \\right)}} \\cos{\\left(\\theta_{x} \\right)}}{\\cos{\\left(\\gamma \\right)}}\\right)}{\\sqrt{a^{2} + \\left|{\\frac{\\sqrt{- a^{2} \\left(1 - \\sin{\\left(\\gamma \\right)}\\right)^{2} + b^{2} \\cos^{2}{\\left(\\gamma \\right)}}}{\\cos{\\left(\\gamma \\right)}}}\\right|^{2} + \\left|{\\frac{a \\left(\\sin{\\left(\\gamma \\right)} - 1\\right)}{\\cos{\\left(\\gamma \\right)}}}\\right|^{2}} \\sqrt{a^{2} + \\left|{- \\frac{a \\left(1 - \\sin{\\left(\\gamma \\right)}\\right) \\cos{\\left(\\theta_{x} \\right)}}{\\cos{\\left(\\gamma \\right)}} + \\frac{\\sqrt{- a^{2} \\left(1 - \\sin{\\left(\\gamma \\right)}\\right)^{2} + b^{2} \\cos^{2}{\\left(\\gamma \\right)}} \\sin{\\left(\\theta_{x} \\right)}}{\\cos{\\left(\\gamma \\right)}}}\\right|^{2} + \\left|{\\frac{a \\left(\\sin{\\left(\\gamma \\right)} - 1\\right) \\sin{\\left(\\theta_{x} \\right)}}{\\cos{\\left(\\gamma \\right)}} - \\frac{\\sqrt{- a^{2} \\left(1 - \\sin{\\left(\\gamma \\right)}\\right)^{2} + b^{2} \\cos^{2}{\\left(\\gamma \\right)}} \\cos{\\left(\\theta_{x} \\right)}}{\\cos{\\left(\\gamma \\right)}}}\\right|^{2}} \\cos{\\left(\\gamma \\right)}} - \\frac{\\sqrt{- a^{2} \\left(1 - \\sin{\\left(\\gamma \\right)}\\right)^{2} + b^{2} \\cos^{2}{\\left(\\gamma \\right)}} \\left(- \\frac{a \\left(1 - \\sin{\\left(\\gamma \\right)}\\right) \\cos{\\left(\\theta_{x} \\right)}}{\\cos{\\left(\\gamma \\right)}} + \\frac{\\sqrt{- a^{2} \\left(1 - \\sin{\\left(\\gamma \\right)}\\right)^{2} + b^{2} \\cos^{2}{\\left(\\gamma \\right)}} \\sin{\\left(\\theta_{x} \\right)}}{\\cos{\\left(\\gamma \\right)}}\\right)}{\\sqrt{a^{2} + \\left|{\\frac{\\sqrt{- a^{2} \\left(1 - \\sin{\\left(\\gamma \\right)}\\right)^{2} + b^{2} \\cos^{2}{\\left(\\gamma \\right)}}}{\\cos{\\left(\\gamma \\right)}}}\\right|^{2} + \\left|{\\frac{a \\left(\\sin{\\left(\\gamma \\right)} - 1\\right)}{\\cos{\\left(\\gamma \\right)}}}\\right|^{2}} \\sqrt{a^{2} + \\left|{- \\frac{a \\left(1 - \\sin{\\left(\\gamma \\right)}\\right) \\cos{\\left(\\theta_{x} \\right)}}{\\cos{\\left(\\gamma \\right)}} + \\frac{\\sqrt{- a^{2} \\left(1 - \\sin{\\left(\\gamma \\right)}\\right)^{2} + b^{2} \\cos^{2}{\\left(\\gamma \\right)}} \\sin{\\left(\\theta_{x} \\right)}}{\\cos{\\left(\\gamma \\right)}}}\\right|^{2} + \\left|{\\frac{a \\left(\\sin{\\left(\\gamma \\right)} - 1\\right) \\sin{\\left(\\theta_{x} \\right)}}{\\cos{\\left(\\gamma \\right)}} - \\frac{\\sqrt{- a^{2} \\left(1 - \\sin{\\left(\\gamma \\right)}\\right)^{2} + b^{2} \\cos^{2}{\\left(\\gamma \\right)}} \\cos{\\left(\\theta_{x} \\right)}}{\\cos{\\left(\\gamma \\right)}}}\\right|^{2}} \\cos{\\left(\\gamma \\right)}}\\right)^{2}}$"
      ],
      "text/plain": [
       "(-(a*sqrt(-a**2*(1 - sin(\\gamma))**2 + b**2*cos(\\gamma)**2)/(sqrt(a**2 + Abs(sqrt(-a**2*(1 - sin(\\gamma))**2 + b**2*cos(\\gamma)**2)/cos(\\gamma))**2 + Abs(a*(sin(\\gamma) - 1)/cos(\\gamma))**2)*cos(\\gamma)) - a*(a*(1 - sin(\\gamma))*sin(theta_x)/cos(\\gamma) + sqrt(-a**2*(1 - sin(\\gamma))**2 + b**2*cos(\\gamma)**2)*cos(theta_x)/cos(\\gamma) - (c*cos(\\gamma) + t)*sin(theta_x))/sqrt(a**2 + Abs(sqrt(-a**2*(1 - sin(\\gamma))**2 + b**2*cos(\\gamma)**2)/cos(\\gamma))**2 + Abs(a*(sin(\\gamma) - 1)/cos(\\gamma))**2))*(a*sqrt(-a**2*(1 - sin(\\gamma))**2 + b**2*cos(\\gamma)**2)/(sqrt(a**2 + Abs(sqrt(-a**2*(1 - sin(\\gamma))**2 + b**2*cos(\\gamma)**2)/cos(\\gamma))**2 + Abs(a*(sin(\\gamma) - 1)/cos(\\gamma))**2)*sqrt(a**2 + Abs(-a*(1 - sin(\\gamma))*cos(theta_x)/cos(\\gamma) + sqrt(-a**2*(1 - sin(\\gamma))**2 + b**2*cos(\\gamma)**2)*sin(theta_x)/cos(\\gamma))**2 + Abs(a*(sin(\\gamma) - 1)*sin(theta_x)/cos(\\gamma) - sqrt(-a**2*(1 - sin(\\gamma))**2 + b**2*cos(\\gamma)**2)*cos(theta_x)/cos(\\gamma))**2)*cos(\\gamma)) - a*(a*(1 - sin(\\gamma))*sin(theta_x)/cos(\\gamma) + sqrt(-a**2*(1 - sin(\\gamma))**2 + b**2*cos(\\gamma)**2)*cos(theta_x)/cos(\\gamma))/(sqrt(a**2 + Abs(sqrt(-a**2*(1 - sin(\\gamma))**2 + b**2*cos(\\gamma)**2)/cos(\\gamma))**2 + Abs(a*(sin(\\gamma) - 1)/cos(\\gamma))**2)*sqrt(a**2 + Abs(-a*(1 - sin(\\gamma))*cos(theta_x)/cos(\\gamma) + sqrt(-a**2*(1 - sin(\\gamma))**2 + b**2*cos(\\gamma)**2)*sin(theta_x)/cos(\\gamma))**2 + Abs(a*(sin(\\gamma) - 1)*sin(theta_x)/cos(\\gamma) - sqrt(-a**2*(1 - sin(\\gamma))**2 + b**2*cos(\\gamma)**2)*cos(theta_x)/cos(\\gamma))**2))) - (-a**2*(1 - sin(\\gamma))/(sqrt(a**2 + Abs(sqrt(-a**2*(1 - sin(\\gamma))**2 + b**2*cos(\\gamma)**2)/cos(\\gamma))**2 + Abs(a*(sin(\\gamma) - 1)/cos(\\gamma))**2)*cos(\\gamma)) + a*(-a*(1 - sin(\\gamma))*cos(theta_x)/cos(\\gamma) + c*cos(\\gamma) + t + sqrt(-a**2*(1 - sin(\\gamma))**2 + b**2*cos(\\gamma)**2)*sin(theta_x)/cos(\\gamma) + (c*cos(\\gamma) + t)*cos(theta_x))/sqrt(a**2 + Abs(sqrt(-a**2*(1 - sin(\\gamma))**2 + b**2*cos(\\gamma)**2)/cos(\\gamma))**2 + Abs(a*(sin(\\gamma) - 1)/cos(\\gamma))**2))*(-a**2*(1 - sin(\\gamma))/(sqrt(a**2 + Abs(sqrt(-a**2*(1 - sin(\\gamma))**2 + b**2*cos(\\gamma)**2)/cos(\\gamma))**2 + Abs(a*(sin(\\gamma) - 1)/cos(\\gamma))**2)*sqrt(a**2 + Abs(-a*(1 - sin(\\gamma))*cos(theta_x)/cos(\\gamma) + sqrt(-a**2*(1 - sin(\\gamma))**2 + b**2*cos(\\gamma)**2)*sin(theta_x)/cos(\\gamma))**2 + Abs(a*(sin(\\gamma) - 1)*sin(theta_x)/cos(\\gamma) - sqrt(-a**2*(1 - sin(\\gamma))**2 + b**2*cos(\\gamma)**2)*cos(theta_x)/cos(\\gamma))**2)*cos(\\gamma)) + a*(-a*(1 - sin(\\gamma))*cos(theta_x)/cos(\\gamma) + sqrt(-a**2*(1 - sin(\\gamma))**2 + b**2*cos(\\gamma)**2)*sin(theta_x)/cos(\\gamma))/(sqrt(a**2 + Abs(sqrt(-a**2*(1 - sin(\\gamma))**2 + b**2*cos(\\gamma)**2)/cos(\\gamma))**2 + Abs(a*(sin(\\gamma) - 1)/cos(\\gamma))**2)*sqrt(a**2 + Abs(-a*(1 - sin(\\gamma))*cos(theta_x)/cos(\\gamma) + sqrt(-a**2*(1 - sin(\\gamma))**2 + b**2*cos(\\gamma)**2)*sin(theta_x)/cos(\\gamma))**2 + Abs(a*(sin(\\gamma) - 1)*sin(theta_x)/cos(\\gamma) - sqrt(-a**2*(1 - sin(\\gamma))**2 + b**2*cos(\\gamma)**2)*cos(theta_x)/cos(\\gamma))**2))) - (a*(1 - sin(\\gamma))*(a*(1 - sin(\\gamma))*sin(theta_x)/cos(\\gamma) + sqrt(-a**2*(1 - sin(\\gamma))**2 + b**2*cos(\\gamma)**2)*cos(theta_x)/cos(\\gamma) - (c*cos(\\gamma) + t)*sin(theta_x))/(sqrt(a**2 + Abs(sqrt(-a**2*(1 - sin(\\gamma))**2 + b**2*cos(\\gamma)**2)/cos(\\gamma))**2 + Abs(a*(sin(\\gamma) - 1)/cos(\\gamma))**2)*cos(\\gamma)) - sqrt(-a**2*(1 - sin(\\gamma))**2 + b**2*cos(\\gamma)**2)*(-a*(1 - sin(\\gamma))*cos(theta_x)/cos(\\gamma) + c*cos(\\gamma) + t + sqrt(-a**2*(1 - sin(\\gamma))**2 + b**2*cos(\\gamma)**2)*sin(theta_x)/cos(\\gamma) + (c*cos(\\gamma) + t)*cos(theta_x))/(sqrt(a**2 + Abs(sqrt(-a**2*(1 - sin(\\gamma))**2 + b**2*cos(\\gamma)**2)/cos(\\gamma))**2 + Abs(a*(sin(\\gamma) - 1)/cos(\\gamma))**2)*cos(\\gamma)))*(a*(1 - sin(\\gamma))*(a*(1 - sin(\\gamma))*sin(theta_x)/cos(\\gamma) + sqrt(-a**2*(1 - sin(\\gamma))**2 + b**2*cos(\\gamma)**2)*cos(theta_x)/cos(\\gamma))/(sqrt(a**2 + Abs(sqrt(-a**2*(1 - sin(\\gamma))**2 + b**2*cos(\\gamma)**2)/cos(\\gamma))**2 + Abs(a*(sin(\\gamma) - 1)/cos(\\gamma))**2)*sqrt(a**2 + Abs(-a*(1 - sin(\\gamma))*cos(theta_x)/cos(\\gamma) + sqrt(-a**2*(1 - sin(\\gamma))**2 + b**2*cos(\\gamma)**2)*sin(theta_x)/cos(\\gamma))**2 + Abs(a*(sin(\\gamma) - 1)*sin(theta_x)/cos(\\gamma) - sqrt(-a**2*(1 - sin(\\gamma))**2 + b**2*cos(\\gamma)**2)*cos(theta_x)/cos(\\gamma))**2)*cos(\\gamma)) - sqrt(-a**2*(1 - sin(\\gamma))**2 + b**2*cos(\\gamma)**2)*(-a*(1 - sin(\\gamma))*cos(theta_x)/cos(\\gamma) + sqrt(-a**2*(1 - sin(\\gamma))**2 + b**2*cos(\\gamma)**2)*sin(theta_x)/cos(\\gamma))/(sqrt(a**2 + Abs(sqrt(-a**2*(1 - sin(\\gamma))**2 + b**2*cos(\\gamma)**2)/cos(\\gamma))**2 + Abs(a*(sin(\\gamma) - 1)/cos(\\gamma))**2)*sqrt(a**2 + Abs(-a*(1 - sin(\\gamma))*cos(theta_x)/cos(\\gamma) + sqrt(-a**2*(1 - sin(\\gamma))**2 + b**2*cos(\\gamma)**2)*sin(theta_x)/cos(\\gamma))**2 + Abs(a*(sin(\\gamma) - 1)*sin(theta_x)/cos(\\gamma) - sqrt(-a**2*(1 - sin(\\gamma))**2 + b**2*cos(\\gamma)**2)*cos(theta_x)/cos(\\gamma))**2)*cos(\\gamma))))/((a*sqrt(-a**2*(1 - sin(\\gamma))**2 + b**2*cos(\\gamma)**2)/(sqrt(a**2 + Abs(sqrt(-a**2*(1 - sin(\\gamma))**2 + b**2*cos(\\gamma)**2)/cos(\\gamma))**2 + Abs(a*(sin(\\gamma) - 1)/cos(\\gamma))**2)*sqrt(a**2 + Abs(-a*(1 - sin(\\gamma))*cos(theta_x)/cos(\\gamma) + sqrt(-a**2*(1 - sin(\\gamma))**2 + b**2*cos(\\gamma)**2)*sin(theta_x)/cos(\\gamma))**2 + Abs(a*(sin(\\gamma) - 1)*sin(theta_x)/cos(\\gamma) - sqrt(-a**2*(1 - sin(\\gamma))**2 + b**2*cos(\\gamma)**2)*cos(theta_x)/cos(\\gamma))**2)*cos(\\gamma)) - a*(a*(1 - sin(\\gamma))*sin(theta_x)/cos(\\gamma) + sqrt(-a**2*(1 - sin(\\gamma))**2 + b**2*cos(\\gamma)**2)*cos(theta_x)/cos(\\gamma))/(sqrt(a**2 + Abs(sqrt(-a**2*(1 - sin(\\gamma))**2 + b**2*cos(\\gamma)**2)/cos(\\gamma))**2 + Abs(a*(sin(\\gamma) - 1)/cos(\\gamma))**2)*sqrt(a**2 + Abs(-a*(1 - sin(\\gamma))*cos(theta_x)/cos(\\gamma) + sqrt(-a**2*(1 - sin(\\gamma))**2 + b**2*cos(\\gamma)**2)*sin(theta_x)/cos(\\gamma))**2 + Abs(a*(sin(\\gamma) - 1)*sin(theta_x)/cos(\\gamma) - sqrt(-a**2*(1 - sin(\\gamma))**2 + b**2*cos(\\gamma)**2)*cos(theta_x)/cos(\\gamma))**2)))**2 + (-a**2*(1 - sin(\\gamma))/(sqrt(a**2 + Abs(sqrt(-a**2*(1 - sin(\\gamma))**2 + b**2*cos(\\gamma)**2)/cos(\\gamma))**2 + Abs(a*(sin(\\gamma) - 1)/cos(\\gamma))**2)*sqrt(a**2 + Abs(-a*(1 - sin(\\gamma))*cos(theta_x)/cos(\\gamma) + sqrt(-a**2*(1 - sin(\\gamma))**2 + b**2*cos(\\gamma)**2)*sin(theta_x)/cos(\\gamma))**2 + Abs(a*(sin(\\gamma) - 1)*sin(theta_x)/cos(\\gamma) - sqrt(-a**2*(1 - sin(\\gamma))**2 + b**2*cos(\\gamma)**2)*cos(theta_x)/cos(\\gamma))**2)*cos(\\gamma)) + a*(-a*(1 - sin(\\gamma))*cos(theta_x)/cos(\\gamma) + sqrt(-a**2*(1 - sin(\\gamma))**2 + b**2*cos(\\gamma)**2)*sin(theta_x)/cos(\\gamma))/(sqrt(a**2 + Abs(sqrt(-a**2*(1 - sin(\\gamma))**2 + b**2*cos(\\gamma)**2)/cos(\\gamma))**2 + Abs(a*(sin(\\gamma) - 1)/cos(\\gamma))**2)*sqrt(a**2 + Abs(-a*(1 - sin(\\gamma))*cos(theta_x)/cos(\\gamma) + sqrt(-a**2*(1 - sin(\\gamma))**2 + b**2*cos(\\gamma)**2)*sin(theta_x)/cos(\\gamma))**2 + Abs(a*(sin(\\gamma) - 1)*sin(theta_x)/cos(\\gamma) - sqrt(-a**2*(1 - sin(\\gamma))**2 + b**2*cos(\\gamma)**2)*cos(theta_x)/cos(\\gamma))**2)))**2 + (a*(1 - sin(\\gamma))*(a*(1 - sin(\\gamma))*sin(theta_x)/cos(\\gamma) + sqrt(-a**2*(1 - sin(\\gamma))**2 + b**2*cos(\\gamma)**2)*cos(theta_x)/cos(\\gamma))/(sqrt(a**2 + Abs(sqrt(-a**2*(1 - sin(\\gamma))**2 + b**2*cos(\\gamma)**2)/cos(\\gamma))**2 + Abs(a*(sin(\\gamma) - 1)/cos(\\gamma))**2)*sqrt(a**2 + Abs(-a*(1 - sin(\\gamma))*cos(theta_x)/cos(\\gamma) + sqrt(-a**2*(1 - sin(\\gamma))**2 + b**2*cos(\\gamma)**2)*sin(theta_x)/cos(\\gamma))**2 + Abs(a*(sin(\\gamma) - 1)*sin(theta_x)/cos(\\gamma) - sqrt(-a**2*(1 - sin(\\gamma))**2 + b**2*cos(\\gamma)**2)*cos(theta_x)/cos(\\gamma))**2)*cos(\\gamma)) - sqrt(-a**2*(1 - sin(\\gamma))**2 + b**2*cos(\\gamma)**2)*(-a*(1 - sin(\\gamma))*cos(theta_x)/cos(\\gamma) + sqrt(-a**2*(1 - sin(\\gamma))**2 + b**2*cos(\\gamma)**2)*sin(theta_x)/cos(\\gamma))/(sqrt(a**2 + Abs(sqrt(-a**2*(1 - sin(\\gamma))**2 + b**2*cos(\\gamma)**2)/cos(\\gamma))**2 + Abs(a*(sin(\\gamma) - 1)/cos(\\gamma))**2)*sqrt(a**2 + Abs(-a*(1 - sin(\\gamma))*cos(theta_x)/cos(\\gamma) + sqrt(-a**2*(1 - sin(\\gamma))**2 + b**2*cos(\\gamma)**2)*sin(theta_x)/cos(\\gamma))**2 + Abs(a*(sin(\\gamma) - 1)*sin(theta_x)/cos(\\gamma) - sqrt(-a**2*(1 - sin(\\gamma))**2 + b**2*cos(\\gamma)**2)*cos(theta_x)/cos(\\gamma))**2)*cos(\\gamma)))**2)"
      ]
     },
     "execution_count": 41,
     "metadata": {},
     "output_type": "execute_result"
    }
   ],
   "source": [
    "s_scalar = - cross_ab_nl.dot(cross_nu_nl) / norm_cross_sq\n",
    "s_scalar"
   ]
  },
  {
   "cell_type": "code",
   "execution_count": null,
   "metadata": {},
   "outputs": [
    {
     "data": {
      "text/plain": [
       "([(x0, a**2),\n",
       "  (x1, sin(theta_x)),\n",
       "  (x2, sin(\\gamma) - 1),\n",
       "  (x3, cos(\\gamma)),\n",
       "  (x4, 1/x3),\n",
       "  (x5, a*x4),\n",
       "  (x6, x2*x5),\n",
       "  (x7, cos(theta_x)),\n",
       "  (x8, -x2),\n",
       "  (x9, sqrt(b**2*x3**2 - x0*x8**2)),\n",
       "  (x10, x4*x9),\n",
       "  (x11, x10*x7),\n",
       "  (x12, x5*x8),\n",
       "  (x13, x12*x7),\n",
       "  (x14, x1*x4*x9 - x13),\n",
       "  (x15, 1/sqrt(x0 + Abs(x14)**2 + Abs(x1*x6 - x11)**2)),\n",
       "  (x16, 1/sqrt(x0 + Abs(x10)**2 + Abs(x6)**2)),\n",
       "  (x17, x0*x16*x4*x8),\n",
       "  (x18, a*x14*x15*x16 - x15*x17),\n",
       "  (x19, a*x16),\n",
       "  (x20, x15*x19),\n",
       "  (x21, x1*x12 + x11),\n",
       "  (x22, x10*x20 - x20*x21),\n",
       "  (x23, x12*x16),\n",
       "  (x24, x10*x16),\n",
       "  (x25, -x14*x15*x24 + x15*x21*x23),\n",
       "  (x26, c*x3 + t),\n",
       "  (x27, x1*x10 - x13 + x26*x7 + x26),\n",
       "  (x28, -x1*x26 + x21),\n",
       "  (x29,\n",
       "   x15*(-x18*(a*x16*x27 - x17) - x22*(x10*x19 - x19*x28) - x25*(x23*x28 - x24*x27))/(x18**2 + x22**2 + x25**2))],\n",
       " [Matrix([\n",
       "  [  a*x29],\n",
       "  [x21*x29],\n",
       "  [x14*x29]])])"
      ]
     },
     "execution_count": 42,
     "metadata": {},
     "output_type": "execute_result"
    }
   ],
   "source": [
    "delta_omega = s_scalar * n_upper\n",
    "delta_omega_cse = sp.cse(delta_omega)\n",
    "delta_omega_cse"
   ]
  },
  {
   "cell_type": "code",
   "execution_count": null,
   "metadata": {},
   "outputs": [
    {
     "data": {
      "text/plain": [
       "{\\gamma, a, b, c, t, theta_x}"
      ]
     },
     "execution_count": 43,
     "metadata": {},
     "output_type": "execute_result"
    }
   ],
   "source": [
    "# list variables of delta_omegaega\n",
    "delta_omega_vars = delta_omega.free_symbols\n",
    "delta_omega_vars"
   ]
  },
  {
   "cell_type": "code",
   "execution_count": null,
   "metadata": {},
   "outputs": [
    {
     "data": {
      "text/plain": [
       "array([ 59.96217178,  91.58300641, -31.46946026])"
      ]
     },
     "execution_count": 44,
     "metadata": {},
     "output_type": "execute_result"
    }
   ],
   "source": [
    "# Substitute parameters + theta\n",
    "subs_dict = {\n",
    "    a: a_num,\n",
    "    b: b_num,\n",
    "    c: c_num,\n",
    "    e: e_num,\n",
    "    gamma: gamma_num,\n",
    "    t: t_num,\n",
    "    theta_x: theta_num,\n",
    "}\n",
    "delta_omega_num = delta_omega.subs(subs_dict)\n",
    "delta_omega_num = delta_omega_num.evalf()\n",
    "delta_omega_np = np.array(sp.lambdify((), delta_omega_num, modules='numpy')()).astype(np.float64).flatten()\n",
    "delta_omega_np"
   ]
  },
  {
   "cell_type": "code",
   "execution_count": null,
   "metadata": {},
   "outputs": [
    {
     "data": {
      "text/plain": [
       "array([113.9001143])"
      ]
     },
     "execution_count": 45,
     "metadata": {},
     "output_type": "execute_result"
    }
   ],
   "source": [
    "s_scalar_num = s_scalar.subs(subs_dict)\n",
    "s_scalar_num = s_scalar_num.evalf()\n",
    "s_scalar_np = np.array(sp.lambdify((), s_scalar_num, modules='numpy')()).astype(np.float64).flatten()\n",
    "s_scalar_np"
   ]
  },
  {
   "cell_type": "code",
   "execution_count": null,
   "metadata": {},
   "outputs": [],
   "source": [
    "new_X_Ib_shift = new_X_Ib_theta + delta_omega_np\n"
   ]
  },
  {
   "cell_type": "code",
   "execution_count": null,
   "metadata": {},
   "outputs": [
    {
     "data": {
      "application/vnd.jupyter.widget-view+json": {
       "model_id": "ec8b779171b84a039c06b5461cd4c1f6",
       "version_major": 2,
       "version_minor": 0
      },
      "text/plain": [
       "Output()"
      ]
     },
     "metadata": {},
     "output_type": "display_data"
    }
   ],
   "source": [
    "\n",
    "\n",
    "# Example usage\n",
    "geometries = [\n",
    "    (new_X_Ia, solid_I_Fi),  # First geometry\n",
    "    (new_X_Ib_shift, solid_I_Fi)   # Second geometry\n",
    "]\n",
    "\n",
    "plot = plot_solid_surfaces_in_k3d(geometries, colors=[0xe74c3c, 0x3498db])\n",
    "plot.display()"
   ]
  },
  {
   "cell_type": "markdown",
   "metadata": {},
   "source": [
    "# Slit depth\n",
    "\n",
    "The slit depth for a compatible assembly is calculated based on similar triangles:\n",
    "\n",
    "so the slit depth $L_s = \\frac{\\left\\| V_{\\gamma A+}^{\\dashv}-U_{\\gamma A+}^{\\urcorner}\\right\\|\\cdot \\left\\| U_{\\Omega B-}^{\\llcorner}-M_{\\gamma A+}^{\\urcorner}\\right\\|}{2\\left\\|V_{\\gamma A+}^{\\dashv}-M_{\\gamma A+}^{\\urcorner} \\right\\|}$"
   ]
  },
  {
   "cell_type": "code",
   "execution_count": null,
   "metadata": {},
   "outputs": [
    {
     "data": {
      "text/latex": [
       "$\\displaystyle \\left[\\begin{matrix}c \\sin{\\left(\\gamma \\right)} + e\\\\0\\\\c \\cos{\\left(\\gamma \\right)}\\end{matrix}\\right]$"
      ],
      "text/plain": [
       "Matrix([\n",
       "[c*sin(\\gamma) + e],\n",
       "[                0],\n",
       "[    c*cos(\\gamma)]])"
      ]
     },
     "execution_count": 48,
     "metadata": {},
     "output_type": "execute_result"
    }
   ],
   "source": [
    "Va_gamma_mr_upper "
   ]
  },
  {
   "cell_type": "code",
   "execution_count": null,
   "metadata": {},
   "outputs": [
    {
     "data": {
      "text/latex": [
       "$\\displaystyle \\left[\\begin{matrix}a + e\\\\\\frac{\\sqrt{- a^{2} \\left(1 - \\sin{\\left(\\gamma \\right)}\\right)^{2} + b^{2} \\cos^{2}{\\left(\\gamma \\right)}}}{\\cos{\\left(\\gamma \\right)}}\\\\\\frac{a \\left(1 - \\sin{\\left(\\gamma \\right)}\\right)}{\\cos{\\left(\\gamma \\right)}}\\end{matrix}\\right]$"
      ],
      "text/plain": [
       "Matrix([\n",
       "[                                                             a + e],\n",
       "[sqrt(-a**2*(1 - sin(\\gamma))**2 + b**2*cos(\\gamma)**2)/cos(\\gamma)],\n",
       "[                                   a*(1 - sin(\\gamma))/cos(\\gamma)]])"
      ]
     },
     "execution_count": 49,
     "metadata": {},
     "output_type": "execute_result"
    }
   ],
   "source": [
    "Ua_gamma_ur_upper =  sp.Matrix([x_folded, y_folded, z_folded])\n",
    "Ua_gamma_ur_upper"
   ]
  },
  {
   "cell_type": "code",
   "execution_count": null,
   "metadata": {},
   "outputs": [
    {
     "data": {
      "text/latex": [
       "$\\displaystyle \\sqrt{\\left(a - c \\sin{\\left(\\gamma \\right)}\\right)^{2} + \\left|{\\frac{\\sqrt{- a^{2} \\left(1 - \\sin{\\left(\\gamma \\right)}\\right)^{2} + b^{2} \\cos^{2}{\\left(\\gamma \\right)}}}{\\cos{\\left(\\gamma \\right)}}}\\right|^{2} + \\left|{- \\frac{a \\left(1 - \\sin{\\left(\\gamma \\right)}\\right)}{\\cos{\\left(\\gamma \\right)}} + c \\cos{\\left(\\gamma \\right)}}\\right|^{2}}$"
      ],
      "text/plain": [
       "sqrt((a - c*sin(\\gamma))**2 + Abs(sqrt(-a**2*(1 - sin(\\gamma))**2 + b**2*cos(\\gamma)**2)/cos(\\gamma))**2 + Abs(-a*(1 - sin(\\gamma))/cos(\\gamma) + c*cos(\\gamma))**2)"
      ]
     },
     "execution_count": 50,
     "metadata": {},
     "output_type": "execute_result"
    }
   ],
   "source": [
    "l2 = Va_gamma_mr_upper - Ua_gamma_ur_upper\n",
    "l2 = l2.norm()\n",
    "l2"
   ]
  },
  {
   "cell_type": "code",
   "execution_count": null,
   "metadata": {},
   "outputs": [
    {
     "data": {
      "text/plain": [
       "array([413.38919313])"
      ]
     },
     "execution_count": 51,
     "metadata": {},
     "output_type": "execute_result"
    }
   ],
   "source": [
    "l2_num = l2.subs(subs_dict)\n",
    "l2_num = l2_num.evalf()\n",
    "l2_num = np.array(sp.lambdify((), l2_num, modules='numpy')()).astype(np.float64).flatten()\n",
    "l2_num"
   ]
  },
  {
   "cell_type": "code",
   "execution_count": null,
   "metadata": {},
   "outputs": [],
   "source": [
    "Ub_omega_ll_lower = R @( Ua_gamma_ll_upper) +  delta_theta + delta_omega\n"
   ]
  },
  {
   "cell_type": "code",
   "execution_count": null,
   "metadata": {},
   "outputs": [
    {
     "data": {
      "text/latex": [
       "$\\displaystyle \\left[\\begin{matrix}a + c \\sin{\\left(\\gamma \\right)} + e\\\\\\frac{a \\left(1 - \\sin{\\left(\\gamma \\right)}\\right) \\sin{\\left(\\theta_{x} \\right)}}{\\cos{\\left(\\gamma \\right)}} + \\frac{\\sqrt{- a^{2} \\left(1 - \\sin{\\left(\\gamma \\right)}\\right)^{2} + b^{2} \\cos^{2}{\\left(\\gamma \\right)}} \\cos{\\left(\\theta_{x} \\right)}}{\\cos{\\left(\\gamma \\right)}}\\\\- \\frac{a \\left(1 - \\sin{\\left(\\gamma \\right)}\\right) \\cos{\\left(\\theta_{x} \\right)}}{\\cos{\\left(\\gamma \\right)}} + c \\cos{\\left(\\gamma \\right)} + \\frac{\\sqrt{- a^{2} \\left(1 - \\sin{\\left(\\gamma \\right)}\\right)^{2} + b^{2} \\cos^{2}{\\left(\\gamma \\right)}} \\sin{\\left(\\theta_{x} \\right)}}{\\cos{\\left(\\gamma \\right)}}\\end{matrix}\\right]$"
      ],
      "text/plain": [
       "Matrix([\n",
       "[                                                                                                                          a + c*sin(\\gamma) + e],\n",
       "[                 a*(1 - sin(\\gamma))*sin(theta_x)/cos(\\gamma) + sqrt(-a**2*(1 - sin(\\gamma))**2 + b**2*cos(\\gamma)**2)*cos(theta_x)/cos(\\gamma)],\n",
       "[-a*(1 - sin(\\gamma))*cos(theta_x)/cos(\\gamma) + c*cos(\\gamma) + sqrt(-a**2*(1 - sin(\\gamma))**2 + b**2*cos(\\gamma)**2)*sin(theta_x)/cos(\\gamma)]])"
      ]
     },
     "execution_count": 53,
     "metadata": {},
     "output_type": "execute_result"
    }
   ],
   "source": [
    "Ma_gamma_ur_upper"
   ]
  },
  {
   "cell_type": "code",
   "execution_count": null,
   "metadata": {},
   "outputs": [
    {
     "data": {
      "text/plain": [
       "array([360.98309503])"
      ]
     },
     "execution_count": 54,
     "metadata": {},
     "output_type": "execute_result"
    }
   ],
   "source": [
    "a1 = Ub_omega_ll_lower - Ma_gamma_ur_upper\n",
    "a1 = a1.norm()\n",
    "a1_num = a1.subs(subs_dict)\n",
    "a1_num = a1_num.evalf()\n",
    "a1_num = np.array(sp.lambdify((), a1_num, modules='numpy')()).astype(np.float64).flatten()\n",
    "a1_num"
   ]
  },
  {
   "cell_type": "code",
   "execution_count": null,
   "metadata": {},
   "outputs": [
    {
     "data": {
      "text/plain": [
       "array([474.88320933])"
      ]
     },
     "execution_count": 55,
     "metadata": {},
     "output_type": "execute_result"
    }
   ],
   "source": [
    "a2 = Va_gamma_mr_upper - Ma_gamma_ur_upper\n",
    "a2 = a2.norm()\n",
    "a2_num = a2.subs(subs_dict)\n",
    "a2_num = a2_num.evalf()\n",
    "a2_num = np.array(sp.lambdify((), a2_num, modules='numpy')()).astype(np.float64).flatten()\n",
    "a2_num"
   ]
  },
  {
   "cell_type": "code",
   "execution_count": null,
   "metadata": {},
   "outputs": [
    {
     "data": {
      "text/plain": [
       "array([314.23833789])"
      ]
     },
     "execution_count": 56,
     "metadata": {},
     "output_type": "execute_result"
    }
   ],
   "source": [
    "l1_num = l2_num*a1_num/a2_num\n",
    "l1_num\n"
   ]
  },
  {
   "cell_type": "code",
   "execution_count": null,
   "metadata": {},
   "outputs": [
    {
     "data": {
      "text/plain": [
       "array([157.11916894])"
      ]
     },
     "execution_count": 57,
     "metadata": {},
     "output_type": "execute_result"
    }
   ],
   "source": [
    "Ls=l1_num/2\n",
    "Ls"
   ]
  },
  {
   "cell_type": "code",
   "execution_count": null,
   "metadata": {},
   "outputs": [
    {
     "data": {
      "text/latex": [
       "$\\displaystyle \\frac{\\sqrt{\\left(a - c \\sin{\\left(\\gamma \\right)}\\right)^{2} + \\left|{\\frac{\\sqrt{- a^{2} \\left(1 - \\sin{\\left(\\gamma \\right)}\\right)^{2} + b^{2} \\cos^{2}{\\left(\\gamma \\right)}}}{\\cos{\\left(\\gamma \\right)}}}\\right|^{2} + \\left|{- \\frac{a \\left(1 - \\sin{\\left(\\gamma \\right)}\\right)}{\\cos{\\left(\\gamma \\right)}} + c \\cos{\\left(\\gamma \\right)}}\\right|^{2}} \\sqrt{\\left|{a + \\frac{a \\left(\\left(\\frac{a \\sqrt{- a^{2} \\left(1 - \\sin{\\left(\\gamma \\right)}\\right)^{2} + b^{2} \\cos^{2}{\\left(\\gamma \\right)}}}{\\sqrt{a^{2} + \\left|{\\frac{\\sqrt{- a^{2} \\left(1 - \\sin{\\left(\\gamma \\right)}\\right)^{2} + b^{2} \\cos^{2}{\\left(\\gamma \\right)}}}{\\cos{\\left(\\gamma \\right)}}}\\right|^{2} + \\left|{\\frac{a \\left(\\sin{\\left(\\gamma \\right)} - 1\\right)}{\\cos{\\left(\\gamma \\right)}}}\\right|^{2}} \\cos{\\left(\\gamma \\right)}} + \\frac{a \\left(\\frac{a \\left(\\sin{\\left(\\gamma \\right)} - 1\\right) \\sin{\\left(\\theta_{x} \\right)}}{\\cos{\\left(\\gamma \\right)}} - \\frac{\\sqrt{- a^{2} \\left(1 - \\sin{\\left(\\gamma \\right)}\\right)^{2} + b^{2} \\cos^{2}{\\left(\\gamma \\right)}} \\cos{\\left(\\theta_{x} \\right)}}{\\cos{\\left(\\gamma \\right)}} + \\left(c \\cos{\\left(\\gamma \\right)} + t\\right) \\sin{\\left(\\theta_{x} \\right)}\\right)}{\\sqrt{a^{2} + \\left|{\\frac{\\sqrt{- a^{2} \\left(1 - \\sin{\\left(\\gamma \\right)}\\right)^{2} + b^{2} \\cos^{2}{\\left(\\gamma \\right)}}}{\\cos{\\left(\\gamma \\right)}}}\\right|^{2} + \\left|{\\frac{a \\left(\\sin{\\left(\\gamma \\right)} - 1\\right)}{\\cos{\\left(\\gamma \\right)}}}\\right|^{2}}}\\right) \\left(\\frac{a \\sqrt{- a^{2} \\left(1 - \\sin{\\left(\\gamma \\right)}\\right)^{2} + b^{2} \\cos^{2}{\\left(\\gamma \\right)}}}{\\sqrt{a^{2} + \\left|{\\frac{\\sqrt{- a^{2} \\left(1 - \\sin{\\left(\\gamma \\right)}\\right)^{2} + b^{2} \\cos^{2}{\\left(\\gamma \\right)}}}{\\cos{\\left(\\gamma \\right)}}}\\right|^{2} + \\left|{\\frac{a \\left(\\sin{\\left(\\gamma \\right)} - 1\\right)}{\\cos{\\left(\\gamma \\right)}}}\\right|^{2}} \\sqrt{a^{2} + \\left|{\\frac{a \\left(\\sin{\\left(\\gamma \\right)} - 1\\right) \\sin{\\left(\\theta_{x} \\right)}}{\\cos{\\left(\\gamma \\right)}} - \\frac{\\sqrt{- a^{2} \\left(1 - \\sin{\\left(\\gamma \\right)}\\right)^{2} + b^{2} \\cos^{2}{\\left(\\gamma \\right)}} \\cos{\\left(\\theta_{x} \\right)}}{\\cos{\\left(\\gamma \\right)}}}\\right|^{2} + \\left|{\\frac{a \\left(\\sin{\\left(\\gamma \\right)} - 1\\right) \\cos{\\left(\\theta_{x} \\right)}}{\\cos{\\left(\\gamma \\right)}} + \\frac{\\sqrt{- a^{2} \\left(1 - \\sin{\\left(\\gamma \\right)}\\right)^{2} + b^{2} \\cos^{2}{\\left(\\gamma \\right)}} \\sin{\\left(\\theta_{x} \\right)}}{\\cos{\\left(\\gamma \\right)}}}\\right|^{2}} \\cos{\\left(\\gamma \\right)}} + \\frac{a \\left(\\frac{a \\left(\\sin{\\left(\\gamma \\right)} - 1\\right) \\sin{\\left(\\theta_{x} \\right)}}{\\cos{\\left(\\gamma \\right)}} - \\frac{\\sqrt{- a^{2} \\left(1 - \\sin{\\left(\\gamma \\right)}\\right)^{2} + b^{2} \\cos^{2}{\\left(\\gamma \\right)}} \\cos{\\left(\\theta_{x} \\right)}}{\\cos{\\left(\\gamma \\right)}}\\right)}{\\sqrt{a^{2} + \\left|{\\frac{\\sqrt{- a^{2} \\left(1 - \\sin{\\left(\\gamma \\right)}\\right)^{2} + b^{2} \\cos^{2}{\\left(\\gamma \\right)}}}{\\cos{\\left(\\gamma \\right)}}}\\right|^{2} + \\left|{\\frac{a \\left(\\sin{\\left(\\gamma \\right)} - 1\\right)}{\\cos{\\left(\\gamma \\right)}}}\\right|^{2}} \\sqrt{a^{2} + \\left|{\\frac{a \\left(\\sin{\\left(\\gamma \\right)} - 1\\right) \\sin{\\left(\\theta_{x} \\right)}}{\\cos{\\left(\\gamma \\right)}} - \\frac{\\sqrt{- a^{2} \\left(1 - \\sin{\\left(\\gamma \\right)}\\right)^{2} + b^{2} \\cos^{2}{\\left(\\gamma \\right)}} \\cos{\\left(\\theta_{x} \\right)}}{\\cos{\\left(\\gamma \\right)}}}\\right|^{2} + \\left|{\\frac{a \\left(\\sin{\\left(\\gamma \\right)} - 1\\right) \\cos{\\left(\\theta_{x} \\right)}}{\\cos{\\left(\\gamma \\right)}} + \\frac{\\sqrt{- a^{2} \\left(1 - \\sin{\\left(\\gamma \\right)}\\right)^{2} + b^{2} \\cos^{2}{\\left(\\gamma \\right)}} \\sin{\\left(\\theta_{x} \\right)}}{\\cos{\\left(\\gamma \\right)}}}\\right|^{2}}}\\right) + \\left(- \\frac{a^{2} \\left(\\sin{\\left(\\gamma \\right)} - 1\\right)}{\\sqrt{a^{2} + \\left|{\\frac{\\sqrt{- a^{2} \\left(1 - \\sin{\\left(\\gamma \\right)}\\right)^{2} + b^{2} \\cos^{2}{\\left(\\gamma \\right)}}}{\\cos{\\left(\\gamma \\right)}}}\\right|^{2} + \\left|{\\frac{a \\left(\\sin{\\left(\\gamma \\right)} - 1\\right)}{\\cos{\\left(\\gamma \\right)}}}\\right|^{2}} \\cos{\\left(\\gamma \\right)}} - \\frac{a \\left(\\frac{a \\left(\\sin{\\left(\\gamma \\right)} - 1\\right) \\cos{\\left(\\theta_{x} \\right)}}{\\cos{\\left(\\gamma \\right)}} + c \\cos{\\left(\\gamma \\right)} + t + \\frac{\\sqrt{- a^{2} \\left(1 - \\sin{\\left(\\gamma \\right)}\\right)^{2} + b^{2} \\cos^{2}{\\left(\\gamma \\right)}} \\sin{\\left(\\theta_{x} \\right)}}{\\cos{\\left(\\gamma \\right)}} + \\left(c \\cos{\\left(\\gamma \\right)} + t\\right) \\cos{\\left(\\theta_{x} \\right)}\\right)}{\\sqrt{a^{2} + \\left|{\\frac{\\sqrt{- a^{2} \\left(1 - \\sin{\\left(\\gamma \\right)}\\right)^{2} + b^{2} \\cos^{2}{\\left(\\gamma \\right)}}}{\\cos{\\left(\\gamma \\right)}}}\\right|^{2} + \\left|{\\frac{a \\left(\\sin{\\left(\\gamma \\right)} - 1\\right)}{\\cos{\\left(\\gamma \\right)}}}\\right|^{2}}}\\right) \\left(- \\frac{a^{2} \\left(\\sin{\\left(\\gamma \\right)} - 1\\right)}{\\sqrt{a^{2} + \\left|{\\frac{\\sqrt{- a^{2} \\left(1 - \\sin{\\left(\\gamma \\right)}\\right)^{2} + b^{2} \\cos^{2}{\\left(\\gamma \\right)}}}{\\cos{\\left(\\gamma \\right)}}}\\right|^{2} + \\left|{\\frac{a \\left(\\sin{\\left(\\gamma \\right)} - 1\\right)}{\\cos{\\left(\\gamma \\right)}}}\\right|^{2}} \\sqrt{a^{2} + \\left|{- \\frac{a \\left(1 - \\sin{\\left(\\gamma \\right)}\\right) \\cos{\\left(\\theta_{x} \\right)}}{\\cos{\\left(\\gamma \\right)}} + \\frac{\\sqrt{- a^{2} \\left(1 - \\sin{\\left(\\gamma \\right)}\\right)^{2} + b^{2} \\cos^{2}{\\left(\\gamma \\right)}} \\sin{\\left(\\theta_{x} \\right)}}{\\cos{\\left(\\gamma \\right)}}}\\right|^{2} + \\left|{\\frac{a \\left(\\sin{\\left(\\gamma \\right)} - 1\\right) \\sin{\\left(\\theta_{x} \\right)}}{\\cos{\\left(\\gamma \\right)}} - \\frac{\\sqrt{- a^{2} \\left(1 - \\sin{\\left(\\gamma \\right)}\\right)^{2} + b^{2} \\cos^{2}{\\left(\\gamma \\right)}} \\cos{\\left(\\theta_{x} \\right)}}{\\cos{\\left(\\gamma \\right)}}}\\right|^{2}} \\cos{\\left(\\gamma \\right)}} + \\frac{a \\left(\\frac{a \\left(1 - \\sin{\\left(\\gamma \\right)}\\right) \\cos{\\left(\\theta_{x} \\right)}}{\\cos{\\left(\\gamma \\right)}} - \\frac{\\sqrt{- a^{2} \\left(1 - \\sin{\\left(\\gamma \\right)}\\right)^{2} + b^{2} \\cos^{2}{\\left(\\gamma \\right)}} \\sin{\\left(\\theta_{x} \\right)}}{\\cos{\\left(\\gamma \\right)}}\\right)}{\\sqrt{a^{2} + \\left|{\\frac{\\sqrt{- a^{2} \\left(1 - \\sin{\\left(\\gamma \\right)}\\right)^{2} + b^{2} \\cos^{2}{\\left(\\gamma \\right)}}}{\\cos{\\left(\\gamma \\right)}}}\\right|^{2} + \\left|{\\frac{a \\left(\\sin{\\left(\\gamma \\right)} - 1\\right)}{\\cos{\\left(\\gamma \\right)}}}\\right|^{2}} \\sqrt{a^{2} + \\left|{- \\frac{a \\left(1 - \\sin{\\left(\\gamma \\right)}\\right) \\cos{\\left(\\theta_{x} \\right)}}{\\cos{\\left(\\gamma \\right)}} + \\frac{\\sqrt{- a^{2} \\left(1 - \\sin{\\left(\\gamma \\right)}\\right)^{2} + b^{2} \\cos^{2}{\\left(\\gamma \\right)}} \\sin{\\left(\\theta_{x} \\right)}}{\\cos{\\left(\\gamma \\right)}}}\\right|^{2} + \\left|{\\frac{a \\left(\\sin{\\left(\\gamma \\right)} - 1\\right) \\sin{\\left(\\theta_{x} \\right)}}{\\cos{\\left(\\gamma \\right)}} - \\frac{\\sqrt{- a^{2} \\left(1 - \\sin{\\left(\\gamma \\right)}\\right)^{2} + b^{2} \\cos^{2}{\\left(\\gamma \\right)}} \\cos{\\left(\\theta_{x} \\right)}}{\\cos{\\left(\\gamma \\right)}}}\\right|^{2}}}\\right) + \\left(\\frac{a \\left(\\sin{\\left(\\gamma \\right)} - 1\\right) \\left(- \\frac{a \\left(\\sin{\\left(\\gamma \\right)} - 1\\right) \\sin{\\left(\\theta_{x} \\right)}}{\\cos{\\left(\\gamma \\right)}} + \\frac{\\sqrt{- a^{2} \\left(1 - \\sin{\\left(\\gamma \\right)}\\right)^{2} + b^{2} \\cos^{2}{\\left(\\gamma \\right)}} \\cos{\\left(\\theta_{x} \\right)}}{\\cos{\\left(\\gamma \\right)}} - \\left(c \\cos{\\left(\\gamma \\right)} + t\\right) \\sin{\\left(\\theta_{x} \\right)}\\right)}{\\sqrt{a^{2} + \\left|{\\frac{\\sqrt{- a^{2} \\left(1 - \\sin{\\left(\\gamma \\right)}\\right)^{2} + b^{2} \\cos^{2}{\\left(\\gamma \\right)}}}{\\cos{\\left(\\gamma \\right)}}}\\right|^{2} + \\left|{\\frac{a \\left(\\sin{\\left(\\gamma \\right)} - 1\\right)}{\\cos{\\left(\\gamma \\right)}}}\\right|^{2}} \\cos{\\left(\\gamma \\right)}} + \\frac{\\sqrt{- a^{2} \\left(1 - \\sin{\\left(\\gamma \\right)}\\right)^{2} + b^{2} \\cos^{2}{\\left(\\gamma \\right)}} \\left(\\frac{a \\left(\\sin{\\left(\\gamma \\right)} - 1\\right) \\cos{\\left(\\theta_{x} \\right)}}{\\cos{\\left(\\gamma \\right)}} + c \\cos{\\left(\\gamma \\right)} + t + \\frac{\\sqrt{- a^{2} \\left(1 - \\sin{\\left(\\gamma \\right)}\\right)^{2} + b^{2} \\cos^{2}{\\left(\\gamma \\right)}} \\sin{\\left(\\theta_{x} \\right)}}{\\cos{\\left(\\gamma \\right)}} + \\left(c \\cos{\\left(\\gamma \\right)} + t\\right) \\cos{\\left(\\theta_{x} \\right)}\\right)}{\\sqrt{a^{2} + \\left|{\\frac{\\sqrt{- a^{2} \\left(1 - \\sin{\\left(\\gamma \\right)}\\right)^{2} + b^{2} \\cos^{2}{\\left(\\gamma \\right)}}}{\\cos{\\left(\\gamma \\right)}}}\\right|^{2} + \\left|{\\frac{a \\left(\\sin{\\left(\\gamma \\right)} - 1\\right)}{\\cos{\\left(\\gamma \\right)}}}\\right|^{2}} \\cos{\\left(\\gamma \\right)}}\\right) \\left(\\frac{a \\left(- \\frac{a \\left(\\sin{\\left(\\gamma \\right)} - 1\\right) \\sin{\\left(\\theta_{x} \\right)}}{\\cos{\\left(\\gamma \\right)}} + \\frac{\\sqrt{- a^{2} \\left(1 - \\sin{\\left(\\gamma \\right)}\\right)^{2} + b^{2} \\cos^{2}{\\left(\\gamma \\right)}} \\cos{\\left(\\theta_{x} \\right)}}{\\cos{\\left(\\gamma \\right)}}\\right) \\left(\\sin{\\left(\\gamma \\right)} - 1\\right)}{\\sqrt{a^{2} + \\left|{\\frac{\\sqrt{- a^{2} \\left(1 - \\sin{\\left(\\gamma \\right)}\\right)^{2} + b^{2} \\cos^{2}{\\left(\\gamma \\right)}}}{\\cos{\\left(\\gamma \\right)}}}\\right|^{2} + \\left|{\\frac{a \\left(\\sin{\\left(\\gamma \\right)} - 1\\right)}{\\cos{\\left(\\gamma \\right)}}}\\right|^{2}} \\sqrt{a^{2} + \\left|{- \\frac{a \\left(1 - \\sin{\\left(\\gamma \\right)}\\right) \\cos{\\left(\\theta_{x} \\right)}}{\\cos{\\left(\\gamma \\right)}} + \\frac{\\sqrt{- a^{2} \\left(1 - \\sin{\\left(\\gamma \\right)}\\right)^{2} + b^{2} \\cos^{2}{\\left(\\gamma \\right)}} \\sin{\\left(\\theta_{x} \\right)}}{\\cos{\\left(\\gamma \\right)}}}\\right|^{2} + \\left|{\\frac{a \\left(\\sin{\\left(\\gamma \\right)} - 1\\right) \\sin{\\left(\\theta_{x} \\right)}}{\\cos{\\left(\\gamma \\right)}} - \\frac{\\sqrt{- a^{2} \\left(1 - \\sin{\\left(\\gamma \\right)}\\right)^{2} + b^{2} \\cos^{2}{\\left(\\gamma \\right)}} \\cos{\\left(\\theta_{x} \\right)}}{\\cos{\\left(\\gamma \\right)}}}\\right|^{2}} \\cos{\\left(\\gamma \\right)}} - \\frac{\\sqrt{- a^{2} \\left(1 - \\sin{\\left(\\gamma \\right)}\\right)^{2} + b^{2} \\cos^{2}{\\left(\\gamma \\right)}} \\left(\\frac{a \\left(1 - \\sin{\\left(\\gamma \\right)}\\right) \\cos{\\left(\\theta_{x} \\right)}}{\\cos{\\left(\\gamma \\right)}} - \\frac{\\sqrt{- a^{2} \\left(1 - \\sin{\\left(\\gamma \\right)}\\right)^{2} + b^{2} \\cos^{2}{\\left(\\gamma \\right)}} \\sin{\\left(\\theta_{x} \\right)}}{\\cos{\\left(\\gamma \\right)}}\\right)}{\\sqrt{a^{2} + \\left|{\\frac{\\sqrt{- a^{2} \\left(1 - \\sin{\\left(\\gamma \\right)}\\right)^{2} + b^{2} \\cos^{2}{\\left(\\gamma \\right)}}}{\\cos{\\left(\\gamma \\right)}}}\\right|^{2} + \\left|{\\frac{a \\left(\\sin{\\left(\\gamma \\right)} - 1\\right)}{\\cos{\\left(\\gamma \\right)}}}\\right|^{2}} \\sqrt{a^{2} + \\left|{- \\frac{a \\left(1 - \\sin{\\left(\\gamma \\right)}\\right) \\cos{\\left(\\theta_{x} \\right)}}{\\cos{\\left(\\gamma \\right)}} + \\frac{\\sqrt{- a^{2} \\left(1 - \\sin{\\left(\\gamma \\right)}\\right)^{2} + b^{2} \\cos^{2}{\\left(\\gamma \\right)}} \\sin{\\left(\\theta_{x} \\right)}}{\\cos{\\left(\\gamma \\right)}}}\\right|^{2} + \\left|{\\frac{a \\left(\\sin{\\left(\\gamma \\right)} - 1\\right) \\sin{\\left(\\theta_{x} \\right)}}{\\cos{\\left(\\gamma \\right)}} - \\frac{\\sqrt{- a^{2} \\left(1 - \\sin{\\left(\\gamma \\right)}\\right)^{2} + b^{2} \\cos^{2}{\\left(\\gamma \\right)}} \\cos{\\left(\\theta_{x} \\right)}}{\\cos{\\left(\\gamma \\right)}}}\\right|^{2}} \\cos{\\left(\\gamma \\right)}}\\right)\\right)}{\\sqrt{a^{2} + \\left|{\\frac{a \\left(\\sin{\\left(\\gamma \\right)} - 1\\right) \\sin{\\left(\\theta_{x} \\right)}}{\\cos{\\left(\\gamma \\right)}} - \\frac{\\sqrt{- a^{2} \\left(1 - \\sin{\\left(\\gamma \\right)}\\right)^{2} + b^{2} \\cos^{2}{\\left(\\gamma \\right)}} \\cos{\\left(\\theta_{x} \\right)}}{\\cos{\\left(\\gamma \\right)}}}\\right|^{2} + \\left|{\\frac{a \\left(\\sin{\\left(\\gamma \\right)} - 1\\right) \\cos{\\left(\\theta_{x} \\right)}}{\\cos{\\left(\\gamma \\right)}} + \\frac{\\sqrt{- a^{2} \\left(1 - \\sin{\\left(\\gamma \\right)}\\right)^{2} + b^{2} \\cos^{2}{\\left(\\gamma \\right)}} \\sin{\\left(\\theta_{x} \\right)}}{\\cos{\\left(\\gamma \\right)}}}\\right|^{2}} \\left(\\left(\\frac{a \\sqrt{- a^{2} \\left(1 - \\sin{\\left(\\gamma \\right)}\\right)^{2} + b^{2} \\cos^{2}{\\left(\\gamma \\right)}}}{\\sqrt{a^{2} + \\left|{\\frac{\\sqrt{- a^{2} \\left(1 - \\sin{\\left(\\gamma \\right)}\\right)^{2} + b^{2} \\cos^{2}{\\left(\\gamma \\right)}}}{\\cos{\\left(\\gamma \\right)}}}\\right|^{2} + \\left|{\\frac{a \\left(\\sin{\\left(\\gamma \\right)} - 1\\right)}{\\cos{\\left(\\gamma \\right)}}}\\right|^{2}} \\sqrt{a^{2} + \\left|{\\frac{a \\left(\\sin{\\left(\\gamma \\right)} - 1\\right) \\sin{\\left(\\theta_{x} \\right)}}{\\cos{\\left(\\gamma \\right)}} - \\frac{\\sqrt{- a^{2} \\left(1 - \\sin{\\left(\\gamma \\right)}\\right)^{2} + b^{2} \\cos^{2}{\\left(\\gamma \\right)}} \\cos{\\left(\\theta_{x} \\right)}}{\\cos{\\left(\\gamma \\right)}}}\\right|^{2} + \\left|{\\frac{a \\left(\\sin{\\left(\\gamma \\right)} - 1\\right) \\cos{\\left(\\theta_{x} \\right)}}{\\cos{\\left(\\gamma \\right)}} + \\frac{\\sqrt{- a^{2} \\left(1 - \\sin{\\left(\\gamma \\right)}\\right)^{2} + b^{2} \\cos^{2}{\\left(\\gamma \\right)}} \\sin{\\left(\\theta_{x} \\right)}}{\\cos{\\left(\\gamma \\right)}}}\\right|^{2}} \\cos{\\left(\\gamma \\right)}} + \\frac{a \\left(\\frac{a \\left(\\sin{\\left(\\gamma \\right)} - 1\\right) \\sin{\\left(\\theta_{x} \\right)}}{\\cos{\\left(\\gamma \\right)}} - \\frac{\\sqrt{- a^{2} \\left(1 - \\sin{\\left(\\gamma \\right)}\\right)^{2} + b^{2} \\cos^{2}{\\left(\\gamma \\right)}} \\cos{\\left(\\theta_{x} \\right)}}{\\cos{\\left(\\gamma \\right)}}\\right)}{\\sqrt{a^{2} + \\left|{\\frac{\\sqrt{- a^{2} \\left(1 - \\sin{\\left(\\gamma \\right)}\\right)^{2} + b^{2} \\cos^{2}{\\left(\\gamma \\right)}}}{\\cos{\\left(\\gamma \\right)}}}\\right|^{2} + \\left|{\\frac{a \\left(\\sin{\\left(\\gamma \\right)} - 1\\right)}{\\cos{\\left(\\gamma \\right)}}}\\right|^{2}} \\sqrt{a^{2} + \\left|{\\frac{a \\left(\\sin{\\left(\\gamma \\right)} - 1\\right) \\sin{\\left(\\theta_{x} \\right)}}{\\cos{\\left(\\gamma \\right)}} - \\frac{\\sqrt{- a^{2} \\left(1 - \\sin{\\left(\\gamma \\right)}\\right)^{2} + b^{2} \\cos^{2}{\\left(\\gamma \\right)}} \\cos{\\left(\\theta_{x} \\right)}}{\\cos{\\left(\\gamma \\right)}}}\\right|^{2} + \\left|{\\frac{a \\left(\\sin{\\left(\\gamma \\right)} - 1\\right) \\cos{\\left(\\theta_{x} \\right)}}{\\cos{\\left(\\gamma \\right)}} + \\frac{\\sqrt{- a^{2} \\left(1 - \\sin{\\left(\\gamma \\right)}\\right)^{2} + b^{2} \\cos^{2}{\\left(\\gamma \\right)}} \\sin{\\left(\\theta_{x} \\right)}}{\\cos{\\left(\\gamma \\right)}}}\\right|^{2}}}\\right)^{2} + \\left(\\frac{a^{2} \\left(\\sin{\\left(\\gamma \\right)} - 1\\right)}{\\sqrt{a^{2} + \\left|{\\frac{\\sqrt{- a^{2} \\left(1 - \\sin{\\left(\\gamma \\right)}\\right)^{2} + b^{2} \\cos^{2}{\\left(\\gamma \\right)}}}{\\cos{\\left(\\gamma \\right)}}}\\right|^{2} + \\left|{\\frac{a \\left(\\sin{\\left(\\gamma \\right)} - 1\\right)}{\\cos{\\left(\\gamma \\right)}}}\\right|^{2}} \\sqrt{a^{2} + \\left|{- \\frac{a \\left(1 - \\sin{\\left(\\gamma \\right)}\\right) \\cos{\\left(\\theta_{x} \\right)}}{\\cos{\\left(\\gamma \\right)}} + \\frac{\\sqrt{- a^{2} \\left(1 - \\sin{\\left(\\gamma \\right)}\\right)^{2} + b^{2} \\cos^{2}{\\left(\\gamma \\right)}} \\sin{\\left(\\theta_{x} \\right)}}{\\cos{\\left(\\gamma \\right)}}}\\right|^{2} + \\left|{\\frac{a \\left(\\sin{\\left(\\gamma \\right)} - 1\\right) \\sin{\\left(\\theta_{x} \\right)}}{\\cos{\\left(\\gamma \\right)}} - \\frac{\\sqrt{- a^{2} \\left(1 - \\sin{\\left(\\gamma \\right)}\\right)^{2} + b^{2} \\cos^{2}{\\left(\\gamma \\right)}} \\cos{\\left(\\theta_{x} \\right)}}{\\cos{\\left(\\gamma \\right)}}}\\right|^{2}} \\cos{\\left(\\gamma \\right)}} - \\frac{a \\left(\\frac{a \\left(1 - \\sin{\\left(\\gamma \\right)}\\right) \\cos{\\left(\\theta_{x} \\right)}}{\\cos{\\left(\\gamma \\right)}} - \\frac{\\sqrt{- a^{2} \\left(1 - \\sin{\\left(\\gamma \\right)}\\right)^{2} + b^{2} \\cos^{2}{\\left(\\gamma \\right)}} \\sin{\\left(\\theta_{x} \\right)}}{\\cos{\\left(\\gamma \\right)}}\\right)}{\\sqrt{a^{2} + \\left|{\\frac{\\sqrt{- a^{2} \\left(1 - \\sin{\\left(\\gamma \\right)}\\right)^{2} + b^{2} \\cos^{2}{\\left(\\gamma \\right)}}}{\\cos{\\left(\\gamma \\right)}}}\\right|^{2} + \\left|{\\frac{a \\left(\\sin{\\left(\\gamma \\right)} - 1\\right)}{\\cos{\\left(\\gamma \\right)}}}\\right|^{2}} \\sqrt{a^{2} + \\left|{- \\frac{a \\left(1 - \\sin{\\left(\\gamma \\right)}\\right) \\cos{\\left(\\theta_{x} \\right)}}{\\cos{\\left(\\gamma \\right)}} + \\frac{\\sqrt{- a^{2} \\left(1 - \\sin{\\left(\\gamma \\right)}\\right)^{2} + b^{2} \\cos^{2}{\\left(\\gamma \\right)}} \\sin{\\left(\\theta_{x} \\right)}}{\\cos{\\left(\\gamma \\right)}}}\\right|^{2} + \\left|{\\frac{a \\left(\\sin{\\left(\\gamma \\right)} - 1\\right) \\sin{\\left(\\theta_{x} \\right)}}{\\cos{\\left(\\gamma \\right)}} - \\frac{\\sqrt{- a^{2} \\left(1 - \\sin{\\left(\\gamma \\right)}\\right)^{2} + b^{2} \\cos^{2}{\\left(\\gamma \\right)}} \\cos{\\left(\\theta_{x} \\right)}}{\\cos{\\left(\\gamma \\right)}}}\\right|^{2}}}\\right)^{2} + \\left(- \\frac{a \\left(\\frac{a \\left(\\sin{\\left(\\gamma \\right)} - 1\\right) \\sin{\\left(\\theta_{x} \\right)}}{\\cos{\\left(\\gamma \\right)}} - \\frac{\\sqrt{- a^{2} \\left(1 - \\sin{\\left(\\gamma \\right)}\\right)^{2} + b^{2} \\cos^{2}{\\left(\\gamma \\right)}} \\cos{\\left(\\theta_{x} \\right)}}{\\cos{\\left(\\gamma \\right)}}\\right) \\left(\\sin{\\left(\\gamma \\right)} - 1\\right)}{\\sqrt{a^{2} + \\left|{\\frac{\\sqrt{- a^{2} \\left(1 - \\sin{\\left(\\gamma \\right)}\\right)^{2} + b^{2} \\cos^{2}{\\left(\\gamma \\right)}}}{\\cos{\\left(\\gamma \\right)}}}\\right|^{2} + \\left|{\\frac{a \\left(\\sin{\\left(\\gamma \\right)} - 1\\right)}{\\cos{\\left(\\gamma \\right)}}}\\right|^{2}} \\sqrt{a^{2} + \\left|{- \\frac{a \\left(1 - \\sin{\\left(\\gamma \\right)}\\right) \\cos{\\left(\\theta_{x} \\right)}}{\\cos{\\left(\\gamma \\right)}} + \\frac{\\sqrt{- a^{2} \\left(1 - \\sin{\\left(\\gamma \\right)}\\right)^{2} + b^{2} \\cos^{2}{\\left(\\gamma \\right)}} \\sin{\\left(\\theta_{x} \\right)}}{\\cos{\\left(\\gamma \\right)}}}\\right|^{2} + \\left|{\\frac{a \\left(\\sin{\\left(\\gamma \\right)} - 1\\right) \\sin{\\left(\\theta_{x} \\right)}}{\\cos{\\left(\\gamma \\right)}} - \\frac{\\sqrt{- a^{2} \\left(1 - \\sin{\\left(\\gamma \\right)}\\right)^{2} + b^{2} \\cos^{2}{\\left(\\gamma \\right)}} \\cos{\\left(\\theta_{x} \\right)}}{\\cos{\\left(\\gamma \\right)}}}\\right|^{2}} \\cos{\\left(\\gamma \\right)}} - \\frac{\\sqrt{- a^{2} \\left(1 - \\sin{\\left(\\gamma \\right)}\\right)^{2} + b^{2} \\cos^{2}{\\left(\\gamma \\right)}} \\left(- \\frac{a \\left(\\sin{\\left(\\gamma \\right)} - 1\\right) \\cos{\\left(\\theta_{x} \\right)}}{\\cos{\\left(\\gamma \\right)}} - \\frac{\\sqrt{- a^{2} \\left(1 - \\sin{\\left(\\gamma \\right)}\\right)^{2} + b^{2} \\cos^{2}{\\left(\\gamma \\right)}} \\sin{\\left(\\theta_{x} \\right)}}{\\cos{\\left(\\gamma \\right)}}\\right)}{\\sqrt{a^{2} + \\left|{\\frac{\\sqrt{- a^{2} \\left(1 - \\sin{\\left(\\gamma \\right)}\\right)^{2} + b^{2} \\cos^{2}{\\left(\\gamma \\right)}}}{\\cos{\\left(\\gamma \\right)}}}\\right|^{2} + \\left|{\\frac{a \\left(\\sin{\\left(\\gamma \\right)} - 1\\right)}{\\cos{\\left(\\gamma \\right)}}}\\right|^{2}} \\sqrt{a^{2} + \\left|{- \\frac{a \\left(1 - \\sin{\\left(\\gamma \\right)}\\right) \\cos{\\left(\\theta_{x} \\right)}}{\\cos{\\left(\\gamma \\right)}} + \\frac{\\sqrt{- a^{2} \\left(1 - \\sin{\\left(\\gamma \\right)}\\right)^{2} + b^{2} \\cos^{2}{\\left(\\gamma \\right)}} \\sin{\\left(\\theta_{x} \\right)}}{\\cos{\\left(\\gamma \\right)}}}\\right|^{2} + \\left|{\\frac{a \\left(\\sin{\\left(\\gamma \\right)} - 1\\right) \\sin{\\left(\\theta_{x} \\right)}}{\\cos{\\left(\\gamma \\right)}} - \\frac{\\sqrt{- a^{2} \\left(1 - \\sin{\\left(\\gamma \\right)}\\right)^{2} + b^{2} \\cos^{2}{\\left(\\gamma \\right)}} \\cos{\\left(\\theta_{x} \\right)}}{\\cos{\\left(\\gamma \\right)}}}\\right|^{2}} \\cos{\\left(\\gamma \\right)}}\\right)^{2}\\right)}}\\right|^{2} + \\left|{- \\frac{a \\left(1 - \\sin{\\left(\\gamma \\right)}\\right) \\sin{\\left(\\theta_{x} \\right)}}{\\cos{\\left(\\gamma \\right)}} - \\frac{\\sqrt{- a^{2} \\left(1 - \\sin{\\left(\\gamma \\right)}\\right)^{2} + b^{2} \\cos^{2}{\\left(\\gamma \\right)}} \\cos{\\left(\\theta_{x} \\right)}}{\\cos{\\left(\\gamma \\right)}} + \\frac{\\left(\\frac{a \\left(1 - \\sin{\\left(\\gamma \\right)}\\right) \\sin{\\left(\\theta_{x} \\right)}}{\\cos{\\left(\\gamma \\right)}} + \\frac{\\sqrt{- a^{2} \\left(1 - \\sin{\\left(\\gamma \\right)}\\right)^{2} + b^{2} \\cos^{2}{\\left(\\gamma \\right)}} \\cos{\\left(\\theta_{x} \\right)}}{\\cos{\\left(\\gamma \\right)}}\\right) \\left(- \\left(\\frac{a \\sqrt{- a^{2} \\left(1 - \\sin{\\left(\\gamma \\right)}\\right)^{2} + b^{2} \\cos^{2}{\\left(\\gamma \\right)}}}{\\sqrt{a^{2} + \\left|{\\frac{\\sqrt{- a^{2} \\left(1 - \\sin{\\left(\\gamma \\right)}\\right)^{2} + b^{2} \\cos^{2}{\\left(\\gamma \\right)}}}{\\cos{\\left(\\gamma \\right)}}}\\right|^{2} + \\left|{\\frac{a \\left(\\sin{\\left(\\gamma \\right)} - 1\\right)}{\\cos{\\left(\\gamma \\right)}}}\\right|^{2}} \\cos{\\left(\\gamma \\right)}} - \\frac{a \\left(\\frac{a \\left(1 - \\sin{\\left(\\gamma \\right)}\\right) \\sin{\\left(\\theta_{x} \\right)}}{\\cos{\\left(\\gamma \\right)}} + \\frac{\\sqrt{- a^{2} \\left(1 - \\sin{\\left(\\gamma \\right)}\\right)^{2} + b^{2} \\cos^{2}{\\left(\\gamma \\right)}} \\cos{\\left(\\theta_{x} \\right)}}{\\cos{\\left(\\gamma \\right)}} - \\left(c \\cos{\\left(\\gamma \\right)} + t\\right) \\sin{\\left(\\theta_{x} \\right)}\\right)}{\\sqrt{a^{2} + \\left|{\\frac{\\sqrt{- a^{2} \\left(1 - \\sin{\\left(\\gamma \\right)}\\right)^{2} + b^{2} \\cos^{2}{\\left(\\gamma \\right)}}}{\\cos{\\left(\\gamma \\right)}}}\\right|^{2} + \\left|{\\frac{a \\left(\\sin{\\left(\\gamma \\right)} - 1\\right)}{\\cos{\\left(\\gamma \\right)}}}\\right|^{2}}}\\right) \\left(\\frac{a \\sqrt{- a^{2} \\left(1 - \\sin{\\left(\\gamma \\right)}\\right)^{2} + b^{2} \\cos^{2}{\\left(\\gamma \\right)}}}{\\sqrt{a^{2} + \\left|{\\frac{\\sqrt{- a^{2} \\left(1 - \\sin{\\left(\\gamma \\right)}\\right)^{2} + b^{2} \\cos^{2}{\\left(\\gamma \\right)}}}{\\cos{\\left(\\gamma \\right)}}}\\right|^{2} + \\left|{\\frac{a \\left(\\sin{\\left(\\gamma \\right)} - 1\\right)}{\\cos{\\left(\\gamma \\right)}}}\\right|^{2}} \\sqrt{a^{2} + \\left|{- \\frac{a \\left(1 - \\sin{\\left(\\gamma \\right)}\\right) \\cos{\\left(\\theta_{x} \\right)}}{\\cos{\\left(\\gamma \\right)}} + \\frac{\\sqrt{- a^{2} \\left(1 - \\sin{\\left(\\gamma \\right)}\\right)^{2} + b^{2} \\cos^{2}{\\left(\\gamma \\right)}} \\sin{\\left(\\theta_{x} \\right)}}{\\cos{\\left(\\gamma \\right)}}}\\right|^{2} + \\left|{\\frac{a \\left(\\sin{\\left(\\gamma \\right)} - 1\\right) \\sin{\\left(\\theta_{x} \\right)}}{\\cos{\\left(\\gamma \\right)}} - \\frac{\\sqrt{- a^{2} \\left(1 - \\sin{\\left(\\gamma \\right)}\\right)^{2} + b^{2} \\cos^{2}{\\left(\\gamma \\right)}} \\cos{\\left(\\theta_{x} \\right)}}{\\cos{\\left(\\gamma \\right)}}}\\right|^{2}} \\cos{\\left(\\gamma \\right)}} - \\frac{a \\left(\\frac{a \\left(1 - \\sin{\\left(\\gamma \\right)}\\right) \\sin{\\left(\\theta_{x} \\right)}}{\\cos{\\left(\\gamma \\right)}} + \\frac{\\sqrt{- a^{2} \\left(1 - \\sin{\\left(\\gamma \\right)}\\right)^{2} + b^{2} \\cos^{2}{\\left(\\gamma \\right)}} \\cos{\\left(\\theta_{x} \\right)}}{\\cos{\\left(\\gamma \\right)}}\\right)}{\\sqrt{a^{2} + \\left|{\\frac{\\sqrt{- a^{2} \\left(1 - \\sin{\\left(\\gamma \\right)}\\right)^{2} + b^{2} \\cos^{2}{\\left(\\gamma \\right)}}}{\\cos{\\left(\\gamma \\right)}}}\\right|^{2} + \\left|{\\frac{a \\left(\\sin{\\left(\\gamma \\right)} - 1\\right)}{\\cos{\\left(\\gamma \\right)}}}\\right|^{2}} \\sqrt{a^{2} + \\left|{- \\frac{a \\left(1 - \\sin{\\left(\\gamma \\right)}\\right) \\cos{\\left(\\theta_{x} \\right)}}{\\cos{\\left(\\gamma \\right)}} + \\frac{\\sqrt{- a^{2} \\left(1 - \\sin{\\left(\\gamma \\right)}\\right)^{2} + b^{2} \\cos^{2}{\\left(\\gamma \\right)}} \\sin{\\left(\\theta_{x} \\right)}}{\\cos{\\left(\\gamma \\right)}}}\\right|^{2} + \\left|{\\frac{a \\left(\\sin{\\left(\\gamma \\right)} - 1\\right) \\sin{\\left(\\theta_{x} \\right)}}{\\cos{\\left(\\gamma \\right)}} - \\frac{\\sqrt{- a^{2} \\left(1 - \\sin{\\left(\\gamma \\right)}\\right)^{2} + b^{2} \\cos^{2}{\\left(\\gamma \\right)}} \\cos{\\left(\\theta_{x} \\right)}}{\\cos{\\left(\\gamma \\right)}}}\\right|^{2}}}\\right) - \\left(- \\frac{a^{2} \\left(1 - \\sin{\\left(\\gamma \\right)}\\right)}{\\sqrt{a^{2} + \\left|{\\frac{\\sqrt{- a^{2} \\left(1 - \\sin{\\left(\\gamma \\right)}\\right)^{2} + b^{2} \\cos^{2}{\\left(\\gamma \\right)}}}{\\cos{\\left(\\gamma \\right)}}}\\right|^{2} + \\left|{\\frac{a \\left(\\sin{\\left(\\gamma \\right)} - 1\\right)}{\\cos{\\left(\\gamma \\right)}}}\\right|^{2}} \\cos{\\left(\\gamma \\right)}} + \\frac{a \\left(- \\frac{a \\left(1 - \\sin{\\left(\\gamma \\right)}\\right) \\cos{\\left(\\theta_{x} \\right)}}{\\cos{\\left(\\gamma \\right)}} + c \\cos{\\left(\\gamma \\right)} + t + \\frac{\\sqrt{- a^{2} \\left(1 - \\sin{\\left(\\gamma \\right)}\\right)^{2} + b^{2} \\cos^{2}{\\left(\\gamma \\right)}} \\sin{\\left(\\theta_{x} \\right)}}{\\cos{\\left(\\gamma \\right)}} + \\left(c \\cos{\\left(\\gamma \\right)} + t\\right) \\cos{\\left(\\theta_{x} \\right)}\\right)}{\\sqrt{a^{2} + \\left|{\\frac{\\sqrt{- a^{2} \\left(1 - \\sin{\\left(\\gamma \\right)}\\right)^{2} + b^{2} \\cos^{2}{\\left(\\gamma \\right)}}}{\\cos{\\left(\\gamma \\right)}}}\\right|^{2} + \\left|{\\frac{a \\left(\\sin{\\left(\\gamma \\right)} - 1\\right)}{\\cos{\\left(\\gamma \\right)}}}\\right|^{2}}}\\right) \\left(- \\frac{a^{2} \\left(1 - \\sin{\\left(\\gamma \\right)}\\right)}{\\sqrt{a^{2} + \\left|{\\frac{\\sqrt{- a^{2} \\left(1 - \\sin{\\left(\\gamma \\right)}\\right)^{2} + b^{2} \\cos^{2}{\\left(\\gamma \\right)}}}{\\cos{\\left(\\gamma \\right)}}}\\right|^{2} + \\left|{\\frac{a \\left(\\sin{\\left(\\gamma \\right)} - 1\\right)}{\\cos{\\left(\\gamma \\right)}}}\\right|^{2}} \\sqrt{a^{2} + \\left|{- \\frac{a \\left(1 - \\sin{\\left(\\gamma \\right)}\\right) \\cos{\\left(\\theta_{x} \\right)}}{\\cos{\\left(\\gamma \\right)}} + \\frac{\\sqrt{- a^{2} \\left(1 - \\sin{\\left(\\gamma \\right)}\\right)^{2} + b^{2} \\cos^{2}{\\left(\\gamma \\right)}} \\sin{\\left(\\theta_{x} \\right)}}{\\cos{\\left(\\gamma \\right)}}}\\right|^{2} + \\left|{\\frac{a \\left(\\sin{\\left(\\gamma \\right)} - 1\\right) \\sin{\\left(\\theta_{x} \\right)}}{\\cos{\\left(\\gamma \\right)}} - \\frac{\\sqrt{- a^{2} \\left(1 - \\sin{\\left(\\gamma \\right)}\\right)^{2} + b^{2} \\cos^{2}{\\left(\\gamma \\right)}} \\cos{\\left(\\theta_{x} \\right)}}{\\cos{\\left(\\gamma \\right)}}}\\right|^{2}} \\cos{\\left(\\gamma \\right)}} + \\frac{a \\left(- \\frac{a \\left(1 - \\sin{\\left(\\gamma \\right)}\\right) \\cos{\\left(\\theta_{x} \\right)}}{\\cos{\\left(\\gamma \\right)}} + \\frac{\\sqrt{- a^{2} \\left(1 - \\sin{\\left(\\gamma \\right)}\\right)^{2} + b^{2} \\cos^{2}{\\left(\\gamma \\right)}} \\sin{\\left(\\theta_{x} \\right)}}{\\cos{\\left(\\gamma \\right)}}\\right)}{\\sqrt{a^{2} + \\left|{\\frac{\\sqrt{- a^{2} \\left(1 - \\sin{\\left(\\gamma \\right)}\\right)^{2} + b^{2} \\cos^{2}{\\left(\\gamma \\right)}}}{\\cos{\\left(\\gamma \\right)}}}\\right|^{2} + \\left|{\\frac{a \\left(\\sin{\\left(\\gamma \\right)} - 1\\right)}{\\cos{\\left(\\gamma \\right)}}}\\right|^{2}} \\sqrt{a^{2} + \\left|{- \\frac{a \\left(1 - \\sin{\\left(\\gamma \\right)}\\right) \\cos{\\left(\\theta_{x} \\right)}}{\\cos{\\left(\\gamma \\right)}} + \\frac{\\sqrt{- a^{2} \\left(1 - \\sin{\\left(\\gamma \\right)}\\right)^{2} + b^{2} \\cos^{2}{\\left(\\gamma \\right)}} \\sin{\\left(\\theta_{x} \\right)}}{\\cos{\\left(\\gamma \\right)}}}\\right|^{2} + \\left|{\\frac{a \\left(\\sin{\\left(\\gamma \\right)} - 1\\right) \\sin{\\left(\\theta_{x} \\right)}}{\\cos{\\left(\\gamma \\right)}} - \\frac{\\sqrt{- a^{2} \\left(1 - \\sin{\\left(\\gamma \\right)}\\right)^{2} + b^{2} \\cos^{2}{\\left(\\gamma \\right)}} \\cos{\\left(\\theta_{x} \\right)}}{\\cos{\\left(\\gamma \\right)}}}\\right|^{2}}}\\right) - \\left(\\frac{a \\left(1 - \\sin{\\left(\\gamma \\right)}\\right) \\left(\\frac{a \\left(1 - \\sin{\\left(\\gamma \\right)}\\right) \\sin{\\left(\\theta_{x} \\right)}}{\\cos{\\left(\\gamma \\right)}} + \\frac{\\sqrt{- a^{2} \\left(1 - \\sin{\\left(\\gamma \\right)}\\right)^{2} + b^{2} \\cos^{2}{\\left(\\gamma \\right)}} \\cos{\\left(\\theta_{x} \\right)}}{\\cos{\\left(\\gamma \\right)}} - \\left(c \\cos{\\left(\\gamma \\right)} + t\\right) \\sin{\\left(\\theta_{x} \\right)}\\right)}{\\sqrt{a^{2} + \\left|{\\frac{\\sqrt{- a^{2} \\left(1 - \\sin{\\left(\\gamma \\right)}\\right)^{2} + b^{2} \\cos^{2}{\\left(\\gamma \\right)}}}{\\cos{\\left(\\gamma \\right)}}}\\right|^{2} + \\left|{\\frac{a \\left(\\sin{\\left(\\gamma \\right)} - 1\\right)}{\\cos{\\left(\\gamma \\right)}}}\\right|^{2}} \\cos{\\left(\\gamma \\right)}} - \\frac{\\sqrt{- a^{2} \\left(1 - \\sin{\\left(\\gamma \\right)}\\right)^{2} + b^{2} \\cos^{2}{\\left(\\gamma \\right)}} \\left(- \\frac{a \\left(1 - \\sin{\\left(\\gamma \\right)}\\right) \\cos{\\left(\\theta_{x} \\right)}}{\\cos{\\left(\\gamma \\right)}} + c \\cos{\\left(\\gamma \\right)} + t + \\frac{\\sqrt{- a^{2} \\left(1 - \\sin{\\left(\\gamma \\right)}\\right)^{2} + b^{2} \\cos^{2}{\\left(\\gamma \\right)}} \\sin{\\left(\\theta_{x} \\right)}}{\\cos{\\left(\\gamma \\right)}} + \\left(c \\cos{\\left(\\gamma \\right)} + t\\right) \\cos{\\left(\\theta_{x} \\right)}\\right)}{\\sqrt{a^{2} + \\left|{\\frac{\\sqrt{- a^{2} \\left(1 - \\sin{\\left(\\gamma \\right)}\\right)^{2} + b^{2} \\cos^{2}{\\left(\\gamma \\right)}}}{\\cos{\\left(\\gamma \\right)}}}\\right|^{2} + \\left|{\\frac{a \\left(\\sin{\\left(\\gamma \\right)} - 1\\right)}{\\cos{\\left(\\gamma \\right)}}}\\right|^{2}} \\cos{\\left(\\gamma \\right)}}\\right) \\left(\\frac{a \\left(1 - \\sin{\\left(\\gamma \\right)}\\right) \\left(\\frac{a \\left(1 - \\sin{\\left(\\gamma \\right)}\\right) \\sin{\\left(\\theta_{x} \\right)}}{\\cos{\\left(\\gamma \\right)}} + \\frac{\\sqrt{- a^{2} \\left(1 - \\sin{\\left(\\gamma \\right)}\\right)^{2} + b^{2} \\cos^{2}{\\left(\\gamma \\right)}} \\cos{\\left(\\theta_{x} \\right)}}{\\cos{\\left(\\gamma \\right)}}\\right)}{\\sqrt{a^{2} + \\left|{\\frac{\\sqrt{- a^{2} \\left(1 - \\sin{\\left(\\gamma \\right)}\\right)^{2} + b^{2} \\cos^{2}{\\left(\\gamma \\right)}}}{\\cos{\\left(\\gamma \\right)}}}\\right|^{2} + \\left|{\\frac{a \\left(\\sin{\\left(\\gamma \\right)} - 1\\right)}{\\cos{\\left(\\gamma \\right)}}}\\right|^{2}} \\sqrt{a^{2} + \\left|{- \\frac{a \\left(1 - \\sin{\\left(\\gamma \\right)}\\right) \\cos{\\left(\\theta_{x} \\right)}}{\\cos{\\left(\\gamma \\right)}} + \\frac{\\sqrt{- a^{2} \\left(1 - \\sin{\\left(\\gamma \\right)}\\right)^{2} + b^{2} \\cos^{2}{\\left(\\gamma \\right)}} \\sin{\\left(\\theta_{x} \\right)}}{\\cos{\\left(\\gamma \\right)}}}\\right|^{2} + \\left|{\\frac{a \\left(\\sin{\\left(\\gamma \\right)} - 1\\right) \\sin{\\left(\\theta_{x} \\right)}}{\\cos{\\left(\\gamma \\right)}} - \\frac{\\sqrt{- a^{2} \\left(1 - \\sin{\\left(\\gamma \\right)}\\right)^{2} + b^{2} \\cos^{2}{\\left(\\gamma \\right)}} \\cos{\\left(\\theta_{x} \\right)}}{\\cos{\\left(\\gamma \\right)}}}\\right|^{2}} \\cos{\\left(\\gamma \\right)}} - \\frac{\\sqrt{- a^{2} \\left(1 - \\sin{\\left(\\gamma \\right)}\\right)^{2} + b^{2} \\cos^{2}{\\left(\\gamma \\right)}} \\left(- \\frac{a \\left(1 - \\sin{\\left(\\gamma \\right)}\\right) \\cos{\\left(\\theta_{x} \\right)}}{\\cos{\\left(\\gamma \\right)}} + \\frac{\\sqrt{- a^{2} \\left(1 - \\sin{\\left(\\gamma \\right)}\\right)^{2} + b^{2} \\cos^{2}{\\left(\\gamma \\right)}} \\sin{\\left(\\theta_{x} \\right)}}{\\cos{\\left(\\gamma \\right)}}\\right)}{\\sqrt{a^{2} + \\left|{\\frac{\\sqrt{- a^{2} \\left(1 - \\sin{\\left(\\gamma \\right)}\\right)^{2} + b^{2} \\cos^{2}{\\left(\\gamma \\right)}}}{\\cos{\\left(\\gamma \\right)}}}\\right|^{2} + \\left|{\\frac{a \\left(\\sin{\\left(\\gamma \\right)} - 1\\right)}{\\cos{\\left(\\gamma \\right)}}}\\right|^{2}} \\sqrt{a^{2} + \\left|{- \\frac{a \\left(1 - \\sin{\\left(\\gamma \\right)}\\right) \\cos{\\left(\\theta_{x} \\right)}}{\\cos{\\left(\\gamma \\right)}} + \\frac{\\sqrt{- a^{2} \\left(1 - \\sin{\\left(\\gamma \\right)}\\right)^{2} + b^{2} \\cos^{2}{\\left(\\gamma \\right)}} \\sin{\\left(\\theta_{x} \\right)}}{\\cos{\\left(\\gamma \\right)}}}\\right|^{2} + \\left|{\\frac{a \\left(\\sin{\\left(\\gamma \\right)} - 1\\right) \\sin{\\left(\\theta_{x} \\right)}}{\\cos{\\left(\\gamma \\right)}} - \\frac{\\sqrt{- a^{2} \\left(1 - \\sin{\\left(\\gamma \\right)}\\right)^{2} + b^{2} \\cos^{2}{\\left(\\gamma \\right)}} \\cos{\\left(\\theta_{x} \\right)}}{\\cos{\\left(\\gamma \\right)}}}\\right|^{2}} \\cos{\\left(\\gamma \\right)}}\\right)\\right)}{\\sqrt{a^{2} + \\left|{- \\frac{a \\left(1 - \\sin{\\left(\\gamma \\right)}\\right) \\cos{\\left(\\theta_{x} \\right)}}{\\cos{\\left(\\gamma \\right)}} + \\frac{\\sqrt{- a^{2} \\left(1 - \\sin{\\left(\\gamma \\right)}\\right)^{2} + b^{2} \\cos^{2}{\\left(\\gamma \\right)}} \\sin{\\left(\\theta_{x} \\right)}}{\\cos{\\left(\\gamma \\right)}}}\\right|^{2} + \\left|{\\frac{a \\left(\\sin{\\left(\\gamma \\right)} - 1\\right) \\sin{\\left(\\theta_{x} \\right)}}{\\cos{\\left(\\gamma \\right)}} - \\frac{\\sqrt{- a^{2} \\left(1 - \\sin{\\left(\\gamma \\right)}\\right)^{2} + b^{2} \\cos^{2}{\\left(\\gamma \\right)}} \\cos{\\left(\\theta_{x} \\right)}}{\\cos{\\left(\\gamma \\right)}}}\\right|^{2}} \\left(\\left(\\frac{a \\sqrt{- a^{2} \\left(1 - \\sin{\\left(\\gamma \\right)}\\right)^{2} + b^{2} \\cos^{2}{\\left(\\gamma \\right)}}}{\\sqrt{a^{2} + \\left|{\\frac{\\sqrt{- a^{2} \\left(1 - \\sin{\\left(\\gamma \\right)}\\right)^{2} + b^{2} \\cos^{2}{\\left(\\gamma \\right)}}}{\\cos{\\left(\\gamma \\right)}}}\\right|^{2} + \\left|{\\frac{a \\left(\\sin{\\left(\\gamma \\right)} - 1\\right)}{\\cos{\\left(\\gamma \\right)}}}\\right|^{2}} \\sqrt{a^{2} + \\left|{- \\frac{a \\left(1 - \\sin{\\left(\\gamma \\right)}\\right) \\cos{\\left(\\theta_{x} \\right)}}{\\cos{\\left(\\gamma \\right)}} + \\frac{\\sqrt{- a^{2} \\left(1 - \\sin{\\left(\\gamma \\right)}\\right)^{2} + b^{2} \\cos^{2}{\\left(\\gamma \\right)}} \\sin{\\left(\\theta_{x} \\right)}}{\\cos{\\left(\\gamma \\right)}}}\\right|^{2} + \\left|{\\frac{a \\left(\\sin{\\left(\\gamma \\right)} - 1\\right) \\sin{\\left(\\theta_{x} \\right)}}{\\cos{\\left(\\gamma \\right)}} - \\frac{\\sqrt{- a^{2} \\left(1 - \\sin{\\left(\\gamma \\right)}\\right)^{2} + b^{2} \\cos^{2}{\\left(\\gamma \\right)}} \\cos{\\left(\\theta_{x} \\right)}}{\\cos{\\left(\\gamma \\right)}}}\\right|^{2}} \\cos{\\left(\\gamma \\right)}} - \\frac{a \\left(\\frac{a \\left(1 - \\sin{\\left(\\gamma \\right)}\\right) \\sin{\\left(\\theta_{x} \\right)}}{\\cos{\\left(\\gamma \\right)}} + \\frac{\\sqrt{- a^{2} \\left(1 - \\sin{\\left(\\gamma \\right)}\\right)^{2} + b^{2} \\cos^{2}{\\left(\\gamma \\right)}} \\cos{\\left(\\theta_{x} \\right)}}{\\cos{\\left(\\gamma \\right)}}\\right)}{\\sqrt{a^{2} + \\left|{\\frac{\\sqrt{- a^{2} \\left(1 - \\sin{\\left(\\gamma \\right)}\\right)^{2} + b^{2} \\cos^{2}{\\left(\\gamma \\right)}}}{\\cos{\\left(\\gamma \\right)}}}\\right|^{2} + \\left|{\\frac{a \\left(\\sin{\\left(\\gamma \\right)} - 1\\right)}{\\cos{\\left(\\gamma \\right)}}}\\right|^{2}} \\sqrt{a^{2} + \\left|{- \\frac{a \\left(1 - \\sin{\\left(\\gamma \\right)}\\right) \\cos{\\left(\\theta_{x} \\right)}}{\\cos{\\left(\\gamma \\right)}} + \\frac{\\sqrt{- a^{2} \\left(1 - \\sin{\\left(\\gamma \\right)}\\right)^{2} + b^{2} \\cos^{2}{\\left(\\gamma \\right)}} \\sin{\\left(\\theta_{x} \\right)}}{\\cos{\\left(\\gamma \\right)}}}\\right|^{2} + \\left|{\\frac{a \\left(\\sin{\\left(\\gamma \\right)} - 1\\right) \\sin{\\left(\\theta_{x} \\right)}}{\\cos{\\left(\\gamma \\right)}} - \\frac{\\sqrt{- a^{2} \\left(1 - \\sin{\\left(\\gamma \\right)}\\right)^{2} + b^{2} \\cos^{2}{\\left(\\gamma \\right)}} \\cos{\\left(\\theta_{x} \\right)}}{\\cos{\\left(\\gamma \\right)}}}\\right|^{2}}}\\right)^{2} + \\left(- \\frac{a^{2} \\left(1 - \\sin{\\left(\\gamma \\right)}\\right)}{\\sqrt{a^{2} + \\left|{\\frac{\\sqrt{- a^{2} \\left(1 - \\sin{\\left(\\gamma \\right)}\\right)^{2} + b^{2} \\cos^{2}{\\left(\\gamma \\right)}}}{\\cos{\\left(\\gamma \\right)}}}\\right|^{2} + \\left|{\\frac{a \\left(\\sin{\\left(\\gamma \\right)} - 1\\right)}{\\cos{\\left(\\gamma \\right)}}}\\right|^{2}} \\sqrt{a^{2} + \\left|{- \\frac{a \\left(1 - \\sin{\\left(\\gamma \\right)}\\right) \\cos{\\left(\\theta_{x} \\right)}}{\\cos{\\left(\\gamma \\right)}} + \\frac{\\sqrt{- a^{2} \\left(1 - \\sin{\\left(\\gamma \\right)}\\right)^{2} + b^{2} \\cos^{2}{\\left(\\gamma \\right)}} \\sin{\\left(\\theta_{x} \\right)}}{\\cos{\\left(\\gamma \\right)}}}\\right|^{2} + \\left|{\\frac{a \\left(\\sin{\\left(\\gamma \\right)} - 1\\right) \\sin{\\left(\\theta_{x} \\right)}}{\\cos{\\left(\\gamma \\right)}} - \\frac{\\sqrt{- a^{2} \\left(1 - \\sin{\\left(\\gamma \\right)}\\right)^{2} + b^{2} \\cos^{2}{\\left(\\gamma \\right)}} \\cos{\\left(\\theta_{x} \\right)}}{\\cos{\\left(\\gamma \\right)}}}\\right|^{2}} \\cos{\\left(\\gamma \\right)}} + \\frac{a \\left(- \\frac{a \\left(1 - \\sin{\\left(\\gamma \\right)}\\right) \\cos{\\left(\\theta_{x} \\right)}}{\\cos{\\left(\\gamma \\right)}} + \\frac{\\sqrt{- a^{2} \\left(1 - \\sin{\\left(\\gamma \\right)}\\right)^{2} + b^{2} \\cos^{2}{\\left(\\gamma \\right)}} \\sin{\\left(\\theta_{x} \\right)}}{\\cos{\\left(\\gamma \\right)}}\\right)}{\\sqrt{a^{2} + \\left|{\\frac{\\sqrt{- a^{2} \\left(1 - \\sin{\\left(\\gamma \\right)}\\right)^{2} + b^{2} \\cos^{2}{\\left(\\gamma \\right)}}}{\\cos{\\left(\\gamma \\right)}}}\\right|^{2} + \\left|{\\frac{a \\left(\\sin{\\left(\\gamma \\right)} - 1\\right)}{\\cos{\\left(\\gamma \\right)}}}\\right|^{2}} \\sqrt{a^{2} + \\left|{- \\frac{a \\left(1 - \\sin{\\left(\\gamma \\right)}\\right) \\cos{\\left(\\theta_{x} \\right)}}{\\cos{\\left(\\gamma \\right)}} + \\frac{\\sqrt{- a^{2} \\left(1 - \\sin{\\left(\\gamma \\right)}\\right)^{2} + b^{2} \\cos^{2}{\\left(\\gamma \\right)}} \\sin{\\left(\\theta_{x} \\right)}}{\\cos{\\left(\\gamma \\right)}}}\\right|^{2} + \\left|{\\frac{a \\left(\\sin{\\left(\\gamma \\right)} - 1\\right) \\sin{\\left(\\theta_{x} \\right)}}{\\cos{\\left(\\gamma \\right)}} - \\frac{\\sqrt{- a^{2} \\left(1 - \\sin{\\left(\\gamma \\right)}\\right)^{2} + b^{2} \\cos^{2}{\\left(\\gamma \\right)}} \\cos{\\left(\\theta_{x} \\right)}}{\\cos{\\left(\\gamma \\right)}}}\\right|^{2}}}\\right)^{2} + \\left(\\frac{a \\left(1 - \\sin{\\left(\\gamma \\right)}\\right) \\left(\\frac{a \\left(1 - \\sin{\\left(\\gamma \\right)}\\right) \\sin{\\left(\\theta_{x} \\right)}}{\\cos{\\left(\\gamma \\right)}} + \\frac{\\sqrt{- a^{2} \\left(1 - \\sin{\\left(\\gamma \\right)}\\right)^{2} + b^{2} \\cos^{2}{\\left(\\gamma \\right)}} \\cos{\\left(\\theta_{x} \\right)}}{\\cos{\\left(\\gamma \\right)}}\\right)}{\\sqrt{a^{2} + \\left|{\\frac{\\sqrt{- a^{2} \\left(1 - \\sin{\\left(\\gamma \\right)}\\right)^{2} + b^{2} \\cos^{2}{\\left(\\gamma \\right)}}}{\\cos{\\left(\\gamma \\right)}}}\\right|^{2} + \\left|{\\frac{a \\left(\\sin{\\left(\\gamma \\right)} - 1\\right)}{\\cos{\\left(\\gamma \\right)}}}\\right|^{2}} \\sqrt{a^{2} + \\left|{- \\frac{a \\left(1 - \\sin{\\left(\\gamma \\right)}\\right) \\cos{\\left(\\theta_{x} \\right)}}{\\cos{\\left(\\gamma \\right)}} + \\frac{\\sqrt{- a^{2} \\left(1 - \\sin{\\left(\\gamma \\right)}\\right)^{2} + b^{2} \\cos^{2}{\\left(\\gamma \\right)}} \\sin{\\left(\\theta_{x} \\right)}}{\\cos{\\left(\\gamma \\right)}}}\\right|^{2} + \\left|{\\frac{a \\left(\\sin{\\left(\\gamma \\right)} - 1\\right) \\sin{\\left(\\theta_{x} \\right)}}{\\cos{\\left(\\gamma \\right)}} - \\frac{\\sqrt{- a^{2} \\left(1 - \\sin{\\left(\\gamma \\right)}\\right)^{2} + b^{2} \\cos^{2}{\\left(\\gamma \\right)}} \\cos{\\left(\\theta_{x} \\right)}}{\\cos{\\left(\\gamma \\right)}}}\\right|^{2}} \\cos{\\left(\\gamma \\right)}} - \\frac{\\sqrt{- a^{2} \\left(1 - \\sin{\\left(\\gamma \\right)}\\right)^{2} + b^{2} \\cos^{2}{\\left(\\gamma \\right)}} \\left(- \\frac{a \\left(1 - \\sin{\\left(\\gamma \\right)}\\right) \\cos{\\left(\\theta_{x} \\right)}}{\\cos{\\left(\\gamma \\right)}} + \\frac{\\sqrt{- a^{2} \\left(1 - \\sin{\\left(\\gamma \\right)}\\right)^{2} + b^{2} \\cos^{2}{\\left(\\gamma \\right)}} \\sin{\\left(\\theta_{x} \\right)}}{\\cos{\\left(\\gamma \\right)}}\\right)}{\\sqrt{a^{2} + \\left|{\\frac{\\sqrt{- a^{2} \\left(1 - \\sin{\\left(\\gamma \\right)}\\right)^{2} + b^{2} \\cos^{2}{\\left(\\gamma \\right)}}}{\\cos{\\left(\\gamma \\right)}}}\\right|^{2} + \\left|{\\frac{a \\left(\\sin{\\left(\\gamma \\right)} - 1\\right)}{\\cos{\\left(\\gamma \\right)}}}\\right|^{2}} \\sqrt{a^{2} + \\left|{- \\frac{a \\left(1 - \\sin{\\left(\\gamma \\right)}\\right) \\cos{\\left(\\theta_{x} \\right)}}{\\cos{\\left(\\gamma \\right)}} + \\frac{\\sqrt{- a^{2} \\left(1 - \\sin{\\left(\\gamma \\right)}\\right)^{2} + b^{2} \\cos^{2}{\\left(\\gamma \\right)}} \\sin{\\left(\\theta_{x} \\right)}}{\\cos{\\left(\\gamma \\right)}}}\\right|^{2} + \\left|{\\frac{a \\left(\\sin{\\left(\\gamma \\right)} - 1\\right) \\sin{\\left(\\theta_{x} \\right)}}{\\cos{\\left(\\gamma \\right)}} - \\frac{\\sqrt{- a^{2} \\left(1 - \\sin{\\left(\\gamma \\right)}\\right)^{2} + b^{2} \\cos^{2}{\\left(\\gamma \\right)}} \\cos{\\left(\\theta_{x} \\right)}}{\\cos{\\left(\\gamma \\right)}}}\\right|^{2}} \\cos{\\left(\\gamma \\right)}}\\right)^{2}\\right)}}\\right|^{2} + \\left|{\\frac{a \\left(\\sin{\\left(\\gamma \\right)} - 1\\right) \\cos{\\left(\\theta_{x} \\right)}}{\\cos{\\left(\\gamma \\right)}} + \\frac{\\sqrt{- a^{2} \\left(1 - \\sin{\\left(\\gamma \\right)}\\right)^{2} + b^{2} \\cos^{2}{\\left(\\gamma \\right)}} \\sin{\\left(\\theta_{x} \\right)}}{\\cos{\\left(\\gamma \\right)}} + \\frac{\\left(\\frac{a \\left(\\sin{\\left(\\gamma \\right)} - 1\\right) \\cos{\\left(\\theta_{x} \\right)}}{\\cos{\\left(\\gamma \\right)}} + \\frac{\\sqrt{- a^{2} \\left(1 - \\sin{\\left(\\gamma \\right)}\\right)^{2} + b^{2} \\cos^{2}{\\left(\\gamma \\right)}} \\sin{\\left(\\theta_{x} \\right)}}{\\cos{\\left(\\gamma \\right)}}\\right) \\left(\\left(\\frac{a \\sqrt{- a^{2} \\left(1 - \\sin{\\left(\\gamma \\right)}\\right)^{2} + b^{2} \\cos^{2}{\\left(\\gamma \\right)}}}{\\sqrt{a^{2} + \\left|{\\frac{\\sqrt{- a^{2} \\left(1 - \\sin{\\left(\\gamma \\right)}\\right)^{2} + b^{2} \\cos^{2}{\\left(\\gamma \\right)}}}{\\cos{\\left(\\gamma \\right)}}}\\right|^{2} + \\left|{\\frac{a \\left(\\sin{\\left(\\gamma \\right)} - 1\\right)}{\\cos{\\left(\\gamma \\right)}}}\\right|^{2}} \\cos{\\left(\\gamma \\right)}} + \\frac{a \\left(\\frac{a \\left(\\sin{\\left(\\gamma \\right)} - 1\\right) \\sin{\\left(\\theta_{x} \\right)}}{\\cos{\\left(\\gamma \\right)}} - \\frac{\\sqrt{- a^{2} \\left(1 - \\sin{\\left(\\gamma \\right)}\\right)^{2} + b^{2} \\cos^{2}{\\left(\\gamma \\right)}} \\cos{\\left(\\theta_{x} \\right)}}{\\cos{\\left(\\gamma \\right)}} + \\left(c \\cos{\\left(\\gamma \\right)} + t\\right) \\sin{\\left(\\theta_{x} \\right)}\\right)}{\\sqrt{a^{2} + \\left|{\\frac{\\sqrt{- a^{2} \\left(1 - \\sin{\\left(\\gamma \\right)}\\right)^{2} + b^{2} \\cos^{2}{\\left(\\gamma \\right)}}}{\\cos{\\left(\\gamma \\right)}}}\\right|^{2} + \\left|{\\frac{a \\left(\\sin{\\left(\\gamma \\right)} - 1\\right)}{\\cos{\\left(\\gamma \\right)}}}\\right|^{2}}}\\right) \\left(\\frac{a \\sqrt{- a^{2} \\left(1 - \\sin{\\left(\\gamma \\right)}\\right)^{2} + b^{2} \\cos^{2}{\\left(\\gamma \\right)}}}{\\sqrt{a^{2} + \\left|{\\frac{\\sqrt{- a^{2} \\left(1 - \\sin{\\left(\\gamma \\right)}\\right)^{2} + b^{2} \\cos^{2}{\\left(\\gamma \\right)}}}{\\cos{\\left(\\gamma \\right)}}}\\right|^{2} + \\left|{\\frac{a \\left(\\sin{\\left(\\gamma \\right)} - 1\\right)}{\\cos{\\left(\\gamma \\right)}}}\\right|^{2}} \\sqrt{a^{2} + \\left|{\\frac{a \\left(\\sin{\\left(\\gamma \\right)} - 1\\right) \\sin{\\left(\\theta_{x} \\right)}}{\\cos{\\left(\\gamma \\right)}} - \\frac{\\sqrt{- a^{2} \\left(1 - \\sin{\\left(\\gamma \\right)}\\right)^{2} + b^{2} \\cos^{2}{\\left(\\gamma \\right)}} \\cos{\\left(\\theta_{x} \\right)}}{\\cos{\\left(\\gamma \\right)}}}\\right|^{2} + \\left|{\\frac{a \\left(\\sin{\\left(\\gamma \\right)} - 1\\right) \\cos{\\left(\\theta_{x} \\right)}}{\\cos{\\left(\\gamma \\right)}} + \\frac{\\sqrt{- a^{2} \\left(1 - \\sin{\\left(\\gamma \\right)}\\right)^{2} + b^{2} \\cos^{2}{\\left(\\gamma \\right)}} \\sin{\\left(\\theta_{x} \\right)}}{\\cos{\\left(\\gamma \\right)}}}\\right|^{2}} \\cos{\\left(\\gamma \\right)}} + \\frac{a \\left(\\frac{a \\left(\\sin{\\left(\\gamma \\right)} - 1\\right) \\sin{\\left(\\theta_{x} \\right)}}{\\cos{\\left(\\gamma \\right)}} - \\frac{\\sqrt{- a^{2} \\left(1 - \\sin{\\left(\\gamma \\right)}\\right)^{2} + b^{2} \\cos^{2}{\\left(\\gamma \\right)}} \\cos{\\left(\\theta_{x} \\right)}}{\\cos{\\left(\\gamma \\right)}}\\right)}{\\sqrt{a^{2} + \\left|{\\frac{\\sqrt{- a^{2} \\left(1 - \\sin{\\left(\\gamma \\right)}\\right)^{2} + b^{2} \\cos^{2}{\\left(\\gamma \\right)}}}{\\cos{\\left(\\gamma \\right)}}}\\right|^{2} + \\left|{\\frac{a \\left(\\sin{\\left(\\gamma \\right)} - 1\\right)}{\\cos{\\left(\\gamma \\right)}}}\\right|^{2}} \\sqrt{a^{2} + \\left|{\\frac{a \\left(\\sin{\\left(\\gamma \\right)} - 1\\right) \\sin{\\left(\\theta_{x} \\right)}}{\\cos{\\left(\\gamma \\right)}} - \\frac{\\sqrt{- a^{2} \\left(1 - \\sin{\\left(\\gamma \\right)}\\right)^{2} + b^{2} \\cos^{2}{\\left(\\gamma \\right)}} \\cos{\\left(\\theta_{x} \\right)}}{\\cos{\\left(\\gamma \\right)}}}\\right|^{2} + \\left|{\\frac{a \\left(\\sin{\\left(\\gamma \\right)} - 1\\right) \\cos{\\left(\\theta_{x} \\right)}}{\\cos{\\left(\\gamma \\right)}} + \\frac{\\sqrt{- a^{2} \\left(1 - \\sin{\\left(\\gamma \\right)}\\right)^{2} + b^{2} \\cos^{2}{\\left(\\gamma \\right)}} \\sin{\\left(\\theta_{x} \\right)}}{\\cos{\\left(\\gamma \\right)}}}\\right|^{2}}}\\right) + \\left(- \\frac{a^{2} \\left(\\sin{\\left(\\gamma \\right)} - 1\\right)}{\\sqrt{a^{2} + \\left|{\\frac{\\sqrt{- a^{2} \\left(1 - \\sin{\\left(\\gamma \\right)}\\right)^{2} + b^{2} \\cos^{2}{\\left(\\gamma \\right)}}}{\\cos{\\left(\\gamma \\right)}}}\\right|^{2} + \\left|{\\frac{a \\left(\\sin{\\left(\\gamma \\right)} - 1\\right)}{\\cos{\\left(\\gamma \\right)}}}\\right|^{2}} \\cos{\\left(\\gamma \\right)}} - \\frac{a \\left(\\frac{a \\left(\\sin{\\left(\\gamma \\right)} - 1\\right) \\cos{\\left(\\theta_{x} \\right)}}{\\cos{\\left(\\gamma \\right)}} + c \\cos{\\left(\\gamma \\right)} + t + \\frac{\\sqrt{- a^{2} \\left(1 - \\sin{\\left(\\gamma \\right)}\\right)^{2} + b^{2} \\cos^{2}{\\left(\\gamma \\right)}} \\sin{\\left(\\theta_{x} \\right)}}{\\cos{\\left(\\gamma \\right)}} + \\left(c \\cos{\\left(\\gamma \\right)} + t\\right) \\cos{\\left(\\theta_{x} \\right)}\\right)}{\\sqrt{a^{2} + \\left|{\\frac{\\sqrt{- a^{2} \\left(1 - \\sin{\\left(\\gamma \\right)}\\right)^{2} + b^{2} \\cos^{2}{\\left(\\gamma \\right)}}}{\\cos{\\left(\\gamma \\right)}}}\\right|^{2} + \\left|{\\frac{a \\left(\\sin{\\left(\\gamma \\right)} - 1\\right)}{\\cos{\\left(\\gamma \\right)}}}\\right|^{2}}}\\right) \\left(- \\frac{a^{2} \\left(\\sin{\\left(\\gamma \\right)} - 1\\right)}{\\sqrt{a^{2} + \\left|{\\frac{\\sqrt{- a^{2} \\left(1 - \\sin{\\left(\\gamma \\right)}\\right)^{2} + b^{2} \\cos^{2}{\\left(\\gamma \\right)}}}{\\cos{\\left(\\gamma \\right)}}}\\right|^{2} + \\left|{\\frac{a \\left(\\sin{\\left(\\gamma \\right)} - 1\\right)}{\\cos{\\left(\\gamma \\right)}}}\\right|^{2}} \\sqrt{a^{2} + \\left|{- \\frac{a \\left(1 - \\sin{\\left(\\gamma \\right)}\\right) \\cos{\\left(\\theta_{x} \\right)}}{\\cos{\\left(\\gamma \\right)}} + \\frac{\\sqrt{- a^{2} \\left(1 - \\sin{\\left(\\gamma \\right)}\\right)^{2} + b^{2} \\cos^{2}{\\left(\\gamma \\right)}} \\sin{\\left(\\theta_{x} \\right)}}{\\cos{\\left(\\gamma \\right)}}}\\right|^{2} + \\left|{\\frac{a \\left(\\sin{\\left(\\gamma \\right)} - 1\\right) \\sin{\\left(\\theta_{x} \\right)}}{\\cos{\\left(\\gamma \\right)}} - \\frac{\\sqrt{- a^{2} \\left(1 - \\sin{\\left(\\gamma \\right)}\\right)^{2} + b^{2} \\cos^{2}{\\left(\\gamma \\right)}} \\cos{\\left(\\theta_{x} \\right)}}{\\cos{\\left(\\gamma \\right)}}}\\right|^{2}} \\cos{\\left(\\gamma \\right)}} + \\frac{a \\left(\\frac{a \\left(1 - \\sin{\\left(\\gamma \\right)}\\right) \\cos{\\left(\\theta_{x} \\right)}}{\\cos{\\left(\\gamma \\right)}} - \\frac{\\sqrt{- a^{2} \\left(1 - \\sin{\\left(\\gamma \\right)}\\right)^{2} + b^{2} \\cos^{2}{\\left(\\gamma \\right)}} \\sin{\\left(\\theta_{x} \\right)}}{\\cos{\\left(\\gamma \\right)}}\\right)}{\\sqrt{a^{2} + \\left|{\\frac{\\sqrt{- a^{2} \\left(1 - \\sin{\\left(\\gamma \\right)}\\right)^{2} + b^{2} \\cos^{2}{\\left(\\gamma \\right)}}}{\\cos{\\left(\\gamma \\right)}}}\\right|^{2} + \\left|{\\frac{a \\left(\\sin{\\left(\\gamma \\right)} - 1\\right)}{\\cos{\\left(\\gamma \\right)}}}\\right|^{2}} \\sqrt{a^{2} + \\left|{- \\frac{a \\left(1 - \\sin{\\left(\\gamma \\right)}\\right) \\cos{\\left(\\theta_{x} \\right)}}{\\cos{\\left(\\gamma \\right)}} + \\frac{\\sqrt{- a^{2} \\left(1 - \\sin{\\left(\\gamma \\right)}\\right)^{2} + b^{2} \\cos^{2}{\\left(\\gamma \\right)}} \\sin{\\left(\\theta_{x} \\right)}}{\\cos{\\left(\\gamma \\right)}}}\\right|^{2} + \\left|{\\frac{a \\left(\\sin{\\left(\\gamma \\right)} - 1\\right) \\sin{\\left(\\theta_{x} \\right)}}{\\cos{\\left(\\gamma \\right)}} - \\frac{\\sqrt{- a^{2} \\left(1 - \\sin{\\left(\\gamma \\right)}\\right)^{2} + b^{2} \\cos^{2}{\\left(\\gamma \\right)}} \\cos{\\left(\\theta_{x} \\right)}}{\\cos{\\left(\\gamma \\right)}}}\\right|^{2}}}\\right) + \\left(\\frac{a \\left(\\sin{\\left(\\gamma \\right)} - 1\\right) \\left(- \\frac{a \\left(\\sin{\\left(\\gamma \\right)} - 1\\right) \\sin{\\left(\\theta_{x} \\right)}}{\\cos{\\left(\\gamma \\right)}} + \\frac{\\sqrt{- a^{2} \\left(1 - \\sin{\\left(\\gamma \\right)}\\right)^{2} + b^{2} \\cos^{2}{\\left(\\gamma \\right)}} \\cos{\\left(\\theta_{x} \\right)}}{\\cos{\\left(\\gamma \\right)}} - \\left(c \\cos{\\left(\\gamma \\right)} + t\\right) \\sin{\\left(\\theta_{x} \\right)}\\right)}{\\sqrt{a^{2} + \\left|{\\frac{\\sqrt{- a^{2} \\left(1 - \\sin{\\left(\\gamma \\right)}\\right)^{2} + b^{2} \\cos^{2}{\\left(\\gamma \\right)}}}{\\cos{\\left(\\gamma \\right)}}}\\right|^{2} + \\left|{\\frac{a \\left(\\sin{\\left(\\gamma \\right)} - 1\\right)}{\\cos{\\left(\\gamma \\right)}}}\\right|^{2}} \\cos{\\left(\\gamma \\right)}} + \\frac{\\sqrt{- a^{2} \\left(1 - \\sin{\\left(\\gamma \\right)}\\right)^{2} + b^{2} \\cos^{2}{\\left(\\gamma \\right)}} \\left(\\frac{a \\left(\\sin{\\left(\\gamma \\right)} - 1\\right) \\cos{\\left(\\theta_{x} \\right)}}{\\cos{\\left(\\gamma \\right)}} + c \\cos{\\left(\\gamma \\right)} + t + \\frac{\\sqrt{- a^{2} \\left(1 - \\sin{\\left(\\gamma \\right)}\\right)^{2} + b^{2} \\cos^{2}{\\left(\\gamma \\right)}} \\sin{\\left(\\theta_{x} \\right)}}{\\cos{\\left(\\gamma \\right)}} + \\left(c \\cos{\\left(\\gamma \\right)} + t\\right) \\cos{\\left(\\theta_{x} \\right)}\\right)}{\\sqrt{a^{2} + \\left|{\\frac{\\sqrt{- a^{2} \\left(1 - \\sin{\\left(\\gamma \\right)}\\right)^{2} + b^{2} \\cos^{2}{\\left(\\gamma \\right)}}}{\\cos{\\left(\\gamma \\right)}}}\\right|^{2} + \\left|{\\frac{a \\left(\\sin{\\left(\\gamma \\right)} - 1\\right)}{\\cos{\\left(\\gamma \\right)}}}\\right|^{2}} \\cos{\\left(\\gamma \\right)}}\\right) \\left(\\frac{a \\left(- \\frac{a \\left(\\sin{\\left(\\gamma \\right)} - 1\\right) \\sin{\\left(\\theta_{x} \\right)}}{\\cos{\\left(\\gamma \\right)}} + \\frac{\\sqrt{- a^{2} \\left(1 - \\sin{\\left(\\gamma \\right)}\\right)^{2} + b^{2} \\cos^{2}{\\left(\\gamma \\right)}} \\cos{\\left(\\theta_{x} \\right)}}{\\cos{\\left(\\gamma \\right)}}\\right) \\left(\\sin{\\left(\\gamma \\right)} - 1\\right)}{\\sqrt{a^{2} + \\left|{\\frac{\\sqrt{- a^{2} \\left(1 - \\sin{\\left(\\gamma \\right)}\\right)^{2} + b^{2} \\cos^{2}{\\left(\\gamma \\right)}}}{\\cos{\\left(\\gamma \\right)}}}\\right|^{2} + \\left|{\\frac{a \\left(\\sin{\\left(\\gamma \\right)} - 1\\right)}{\\cos{\\left(\\gamma \\right)}}}\\right|^{2}} \\sqrt{a^{2} + \\left|{- \\frac{a \\left(1 - \\sin{\\left(\\gamma \\right)}\\right) \\cos{\\left(\\theta_{x} \\right)}}{\\cos{\\left(\\gamma \\right)}} + \\frac{\\sqrt{- a^{2} \\left(1 - \\sin{\\left(\\gamma \\right)}\\right)^{2} + b^{2} \\cos^{2}{\\left(\\gamma \\right)}} \\sin{\\left(\\theta_{x} \\right)}}{\\cos{\\left(\\gamma \\right)}}}\\right|^{2} + \\left|{\\frac{a \\left(\\sin{\\left(\\gamma \\right)} - 1\\right) \\sin{\\left(\\theta_{x} \\right)}}{\\cos{\\left(\\gamma \\right)}} - \\frac{\\sqrt{- a^{2} \\left(1 - \\sin{\\left(\\gamma \\right)}\\right)^{2} + b^{2} \\cos^{2}{\\left(\\gamma \\right)}} \\cos{\\left(\\theta_{x} \\right)}}{\\cos{\\left(\\gamma \\right)}}}\\right|^{2}} \\cos{\\left(\\gamma \\right)}} - \\frac{\\sqrt{- a^{2} \\left(1 - \\sin{\\left(\\gamma \\right)}\\right)^{2} + b^{2} \\cos^{2}{\\left(\\gamma \\right)}} \\left(\\frac{a \\left(1 - \\sin{\\left(\\gamma \\right)}\\right) \\cos{\\left(\\theta_{x} \\right)}}{\\cos{\\left(\\gamma \\right)}} - \\frac{\\sqrt{- a^{2} \\left(1 - \\sin{\\left(\\gamma \\right)}\\right)^{2} + b^{2} \\cos^{2}{\\left(\\gamma \\right)}} \\sin{\\left(\\theta_{x} \\right)}}{\\cos{\\left(\\gamma \\right)}}\\right)}{\\sqrt{a^{2} + \\left|{\\frac{\\sqrt{- a^{2} \\left(1 - \\sin{\\left(\\gamma \\right)}\\right)^{2} + b^{2} \\cos^{2}{\\left(\\gamma \\right)}}}{\\cos{\\left(\\gamma \\right)}}}\\right|^{2} + \\left|{\\frac{a \\left(\\sin{\\left(\\gamma \\right)} - 1\\right)}{\\cos{\\left(\\gamma \\right)}}}\\right|^{2}} \\sqrt{a^{2} + \\left|{- \\frac{a \\left(1 - \\sin{\\left(\\gamma \\right)}\\right) \\cos{\\left(\\theta_{x} \\right)}}{\\cos{\\left(\\gamma \\right)}} + \\frac{\\sqrt{- a^{2} \\left(1 - \\sin{\\left(\\gamma \\right)}\\right)^{2} + b^{2} \\cos^{2}{\\left(\\gamma \\right)}} \\sin{\\left(\\theta_{x} \\right)}}{\\cos{\\left(\\gamma \\right)}}}\\right|^{2} + \\left|{\\frac{a \\left(\\sin{\\left(\\gamma \\right)} - 1\\right) \\sin{\\left(\\theta_{x} \\right)}}{\\cos{\\left(\\gamma \\right)}} - \\frac{\\sqrt{- a^{2} \\left(1 - \\sin{\\left(\\gamma \\right)}\\right)^{2} + b^{2} \\cos^{2}{\\left(\\gamma \\right)}} \\cos{\\left(\\theta_{x} \\right)}}{\\cos{\\left(\\gamma \\right)}}}\\right|^{2}} \\cos{\\left(\\gamma \\right)}}\\right)\\right)}{\\sqrt{a^{2} + \\left|{\\frac{a \\left(\\sin{\\left(\\gamma \\right)} - 1\\right) \\sin{\\left(\\theta_{x} \\right)}}{\\cos{\\left(\\gamma \\right)}} - \\frac{\\sqrt{- a^{2} \\left(1 - \\sin{\\left(\\gamma \\right)}\\right)^{2} + b^{2} \\cos^{2}{\\left(\\gamma \\right)}} \\cos{\\left(\\theta_{x} \\right)}}{\\cos{\\left(\\gamma \\right)}}}\\right|^{2} + \\left|{\\frac{a \\left(\\sin{\\left(\\gamma \\right)} - 1\\right) \\cos{\\left(\\theta_{x} \\right)}}{\\cos{\\left(\\gamma \\right)}} + \\frac{\\sqrt{- a^{2} \\left(1 - \\sin{\\left(\\gamma \\right)}\\right)^{2} + b^{2} \\cos^{2}{\\left(\\gamma \\right)}} \\sin{\\left(\\theta_{x} \\right)}}{\\cos{\\left(\\gamma \\right)}}}\\right|^{2}} \\left(\\left(\\frac{a \\sqrt{- a^{2} \\left(1 - \\sin{\\left(\\gamma \\right)}\\right)^{2} + b^{2} \\cos^{2}{\\left(\\gamma \\right)}}}{\\sqrt{a^{2} + \\left|{\\frac{\\sqrt{- a^{2} \\left(1 - \\sin{\\left(\\gamma \\right)}\\right)^{2} + b^{2} \\cos^{2}{\\left(\\gamma \\right)}}}{\\cos{\\left(\\gamma \\right)}}}\\right|^{2} + \\left|{\\frac{a \\left(\\sin{\\left(\\gamma \\right)} - 1\\right)}{\\cos{\\left(\\gamma \\right)}}}\\right|^{2}} \\sqrt{a^{2} + \\left|{\\frac{a \\left(\\sin{\\left(\\gamma \\right)} - 1\\right) \\sin{\\left(\\theta_{x} \\right)}}{\\cos{\\left(\\gamma \\right)}} - \\frac{\\sqrt{- a^{2} \\left(1 - \\sin{\\left(\\gamma \\right)}\\right)^{2} + b^{2} \\cos^{2}{\\left(\\gamma \\right)}} \\cos{\\left(\\theta_{x} \\right)}}{\\cos{\\left(\\gamma \\right)}}}\\right|^{2} + \\left|{\\frac{a \\left(\\sin{\\left(\\gamma \\right)} - 1\\right) \\cos{\\left(\\theta_{x} \\right)}}{\\cos{\\left(\\gamma \\right)}} + \\frac{\\sqrt{- a^{2} \\left(1 - \\sin{\\left(\\gamma \\right)}\\right)^{2} + b^{2} \\cos^{2}{\\left(\\gamma \\right)}} \\sin{\\left(\\theta_{x} \\right)}}{\\cos{\\left(\\gamma \\right)}}}\\right|^{2}} \\cos{\\left(\\gamma \\right)}} + \\frac{a \\left(\\frac{a \\left(\\sin{\\left(\\gamma \\right)} - 1\\right) \\sin{\\left(\\theta_{x} \\right)}}{\\cos{\\left(\\gamma \\right)}} - \\frac{\\sqrt{- a^{2} \\left(1 - \\sin{\\left(\\gamma \\right)}\\right)^{2} + b^{2} \\cos^{2}{\\left(\\gamma \\right)}} \\cos{\\left(\\theta_{x} \\right)}}{\\cos{\\left(\\gamma \\right)}}\\right)}{\\sqrt{a^{2} + \\left|{\\frac{\\sqrt{- a^{2} \\left(1 - \\sin{\\left(\\gamma \\right)}\\right)^{2} + b^{2} \\cos^{2}{\\left(\\gamma \\right)}}}{\\cos{\\left(\\gamma \\right)}}}\\right|^{2} + \\left|{\\frac{a \\left(\\sin{\\left(\\gamma \\right)} - 1\\right)}{\\cos{\\left(\\gamma \\right)}}}\\right|^{2}} \\sqrt{a^{2} + \\left|{\\frac{a \\left(\\sin{\\left(\\gamma \\right)} - 1\\right) \\sin{\\left(\\theta_{x} \\right)}}{\\cos{\\left(\\gamma \\right)}} - \\frac{\\sqrt{- a^{2} \\left(1 - \\sin{\\left(\\gamma \\right)}\\right)^{2} + b^{2} \\cos^{2}{\\left(\\gamma \\right)}} \\cos{\\left(\\theta_{x} \\right)}}{\\cos{\\left(\\gamma \\right)}}}\\right|^{2} + \\left|{\\frac{a \\left(\\sin{\\left(\\gamma \\right)} - 1\\right) \\cos{\\left(\\theta_{x} \\right)}}{\\cos{\\left(\\gamma \\right)}} + \\frac{\\sqrt{- a^{2} \\left(1 - \\sin{\\left(\\gamma \\right)}\\right)^{2} + b^{2} \\cos^{2}{\\left(\\gamma \\right)}} \\sin{\\left(\\theta_{x} \\right)}}{\\cos{\\left(\\gamma \\right)}}}\\right|^{2}}}\\right)^{2} + \\left(\\frac{a^{2} \\left(\\sin{\\left(\\gamma \\right)} - 1\\right)}{\\sqrt{a^{2} + \\left|{\\frac{\\sqrt{- a^{2} \\left(1 - \\sin{\\left(\\gamma \\right)}\\right)^{2} + b^{2} \\cos^{2}{\\left(\\gamma \\right)}}}{\\cos{\\left(\\gamma \\right)}}}\\right|^{2} + \\left|{\\frac{a \\left(\\sin{\\left(\\gamma \\right)} - 1\\right)}{\\cos{\\left(\\gamma \\right)}}}\\right|^{2}} \\sqrt{a^{2} + \\left|{- \\frac{a \\left(1 - \\sin{\\left(\\gamma \\right)}\\right) \\cos{\\left(\\theta_{x} \\right)}}{\\cos{\\left(\\gamma \\right)}} + \\frac{\\sqrt{- a^{2} \\left(1 - \\sin{\\left(\\gamma \\right)}\\right)^{2} + b^{2} \\cos^{2}{\\left(\\gamma \\right)}} \\sin{\\left(\\theta_{x} \\right)}}{\\cos{\\left(\\gamma \\right)}}}\\right|^{2} + \\left|{\\frac{a \\left(\\sin{\\left(\\gamma \\right)} - 1\\right) \\sin{\\left(\\theta_{x} \\right)}}{\\cos{\\left(\\gamma \\right)}} - \\frac{\\sqrt{- a^{2} \\left(1 - \\sin{\\left(\\gamma \\right)}\\right)^{2} + b^{2} \\cos^{2}{\\left(\\gamma \\right)}} \\cos{\\left(\\theta_{x} \\right)}}{\\cos{\\left(\\gamma \\right)}}}\\right|^{2}} \\cos{\\left(\\gamma \\right)}} - \\frac{a \\left(\\frac{a \\left(1 - \\sin{\\left(\\gamma \\right)}\\right) \\cos{\\left(\\theta_{x} \\right)}}{\\cos{\\left(\\gamma \\right)}} - \\frac{\\sqrt{- a^{2} \\left(1 - \\sin{\\left(\\gamma \\right)}\\right)^{2} + b^{2} \\cos^{2}{\\left(\\gamma \\right)}} \\sin{\\left(\\theta_{x} \\right)}}{\\cos{\\left(\\gamma \\right)}}\\right)}{\\sqrt{a^{2} + \\left|{\\frac{\\sqrt{- a^{2} \\left(1 - \\sin{\\left(\\gamma \\right)}\\right)^{2} + b^{2} \\cos^{2}{\\left(\\gamma \\right)}}}{\\cos{\\left(\\gamma \\right)}}}\\right|^{2} + \\left|{\\frac{a \\left(\\sin{\\left(\\gamma \\right)} - 1\\right)}{\\cos{\\left(\\gamma \\right)}}}\\right|^{2}} \\sqrt{a^{2} + \\left|{- \\frac{a \\left(1 - \\sin{\\left(\\gamma \\right)}\\right) \\cos{\\left(\\theta_{x} \\right)}}{\\cos{\\left(\\gamma \\right)}} + \\frac{\\sqrt{- a^{2} \\left(1 - \\sin{\\left(\\gamma \\right)}\\right)^{2} + b^{2} \\cos^{2}{\\left(\\gamma \\right)}} \\sin{\\left(\\theta_{x} \\right)}}{\\cos{\\left(\\gamma \\right)}}}\\right|^{2} + \\left|{\\frac{a \\left(\\sin{\\left(\\gamma \\right)} - 1\\right) \\sin{\\left(\\theta_{x} \\right)}}{\\cos{\\left(\\gamma \\right)}} - \\frac{\\sqrt{- a^{2} \\left(1 - \\sin{\\left(\\gamma \\right)}\\right)^{2} + b^{2} \\cos^{2}{\\left(\\gamma \\right)}} \\cos{\\left(\\theta_{x} \\right)}}{\\cos{\\left(\\gamma \\right)}}}\\right|^{2}}}\\right)^{2} + \\left(- \\frac{a \\left(\\frac{a \\left(\\sin{\\left(\\gamma \\right)} - 1\\right) \\sin{\\left(\\theta_{x} \\right)}}{\\cos{\\left(\\gamma \\right)}} - \\frac{\\sqrt{- a^{2} \\left(1 - \\sin{\\left(\\gamma \\right)}\\right)^{2} + b^{2} \\cos^{2}{\\left(\\gamma \\right)}} \\cos{\\left(\\theta_{x} \\right)}}{\\cos{\\left(\\gamma \\right)}}\\right) \\left(\\sin{\\left(\\gamma \\right)} - 1\\right)}{\\sqrt{a^{2} + \\left|{\\frac{\\sqrt{- a^{2} \\left(1 - \\sin{\\left(\\gamma \\right)}\\right)^{2} + b^{2} \\cos^{2}{\\left(\\gamma \\right)}}}{\\cos{\\left(\\gamma \\right)}}}\\right|^{2} + \\left|{\\frac{a \\left(\\sin{\\left(\\gamma \\right)} - 1\\right)}{\\cos{\\left(\\gamma \\right)}}}\\right|^{2}} \\sqrt{a^{2} + \\left|{- \\frac{a \\left(1 - \\sin{\\left(\\gamma \\right)}\\right) \\cos{\\left(\\theta_{x} \\right)}}{\\cos{\\left(\\gamma \\right)}} + \\frac{\\sqrt{- a^{2} \\left(1 - \\sin{\\left(\\gamma \\right)}\\right)^{2} + b^{2} \\cos^{2}{\\left(\\gamma \\right)}} \\sin{\\left(\\theta_{x} \\right)}}{\\cos{\\left(\\gamma \\right)}}}\\right|^{2} + \\left|{\\frac{a \\left(\\sin{\\left(\\gamma \\right)} - 1\\right) \\sin{\\left(\\theta_{x} \\right)}}{\\cos{\\left(\\gamma \\right)}} - \\frac{\\sqrt{- a^{2} \\left(1 - \\sin{\\left(\\gamma \\right)}\\right)^{2} + b^{2} \\cos^{2}{\\left(\\gamma \\right)}} \\cos{\\left(\\theta_{x} \\right)}}{\\cos{\\left(\\gamma \\right)}}}\\right|^{2}} \\cos{\\left(\\gamma \\right)}} - \\frac{\\sqrt{- a^{2} \\left(1 - \\sin{\\left(\\gamma \\right)}\\right)^{2} + b^{2} \\cos^{2}{\\left(\\gamma \\right)}} \\left(- \\frac{a \\left(\\sin{\\left(\\gamma \\right)} - 1\\right) \\cos{\\left(\\theta_{x} \\right)}}{\\cos{\\left(\\gamma \\right)}} - \\frac{\\sqrt{- a^{2} \\left(1 - \\sin{\\left(\\gamma \\right)}\\right)^{2} + b^{2} \\cos^{2}{\\left(\\gamma \\right)}} \\sin{\\left(\\theta_{x} \\right)}}{\\cos{\\left(\\gamma \\right)}}\\right)}{\\sqrt{a^{2} + \\left|{\\frac{\\sqrt{- a^{2} \\left(1 - \\sin{\\left(\\gamma \\right)}\\right)^{2} + b^{2} \\cos^{2}{\\left(\\gamma \\right)}}}{\\cos{\\left(\\gamma \\right)}}}\\right|^{2} + \\left|{\\frac{a \\left(\\sin{\\left(\\gamma \\right)} - 1\\right)}{\\cos{\\left(\\gamma \\right)}}}\\right|^{2}} \\sqrt{a^{2} + \\left|{- \\frac{a \\left(1 - \\sin{\\left(\\gamma \\right)}\\right) \\cos{\\left(\\theta_{x} \\right)}}{\\cos{\\left(\\gamma \\right)}} + \\frac{\\sqrt{- a^{2} \\left(1 - \\sin{\\left(\\gamma \\right)}\\right)^{2} + b^{2} \\cos^{2}{\\left(\\gamma \\right)}} \\sin{\\left(\\theta_{x} \\right)}}{\\cos{\\left(\\gamma \\right)}}}\\right|^{2} + \\left|{\\frac{a \\left(\\sin{\\left(\\gamma \\right)} - 1\\right) \\sin{\\left(\\theta_{x} \\right)}}{\\cos{\\left(\\gamma \\right)}} - \\frac{\\sqrt{- a^{2} \\left(1 - \\sin{\\left(\\gamma \\right)}\\right)^{2} + b^{2} \\cos^{2}{\\left(\\gamma \\right)}} \\cos{\\left(\\theta_{x} \\right)}}{\\cos{\\left(\\gamma \\right)}}}\\right|^{2}} \\cos{\\left(\\gamma \\right)}}\\right)^{2}\\right)}}\\right|^{2}}}{2 \\sqrt{a^{2} + \\left|{- \\frac{a \\left(1 - \\sin{\\left(\\gamma \\right)}\\right) \\sin{\\left(\\theta_{x} \\right)}}{\\cos{\\left(\\gamma \\right)}} - \\frac{\\sqrt{- a^{2} \\left(1 - \\sin{\\left(\\gamma \\right)}\\right)^{2} + b^{2} \\cos^{2}{\\left(\\gamma \\right)}} \\cos{\\left(\\theta_{x} \\right)}}{\\cos{\\left(\\gamma \\right)}}}\\right|^{2} + \\left|{\\frac{a \\left(\\sin{\\left(\\gamma \\right)} - 1\\right) \\cos{\\left(\\theta_{x} \\right)}}{\\cos{\\left(\\gamma \\right)}} + \\frac{\\sqrt{- a^{2} \\left(1 - \\sin{\\left(\\gamma \\right)}\\right)^{2} + b^{2} \\cos^{2}{\\left(\\gamma \\right)}} \\sin{\\left(\\theta_{x} \\right)}}{\\cos{\\left(\\gamma \\right)}}}\\right|^{2}}}$"
      ],
      "text/plain": [
       "sqrt((a - c*sin(\\gamma))**2 + Abs(sqrt(-a**2*(1 - sin(\\gamma))**2 + b**2*cos(\\gamma)**2)/cos(\\gamma))**2 + Abs(-a*(1 - sin(\\gamma))/cos(\\gamma) + c*cos(\\gamma))**2)*sqrt(Abs(a + a*((a*sqrt(-a**2*(1 - sin(\\gamma))**2 + b**2*cos(\\gamma)**2)/(sqrt(a**2 + Abs(sqrt(-a**2*(1 - sin(\\gamma))**2 + b**2*cos(\\gamma)**2)/cos(\\gamma))**2 + Abs(a*(sin(\\gamma) - 1)/cos(\\gamma))**2)*cos(\\gamma)) + a*(a*(sin(\\gamma) - 1)*sin(theta_x)/cos(\\gamma) - sqrt(-a**2*(1 - sin(\\gamma))**2 + b**2*cos(\\gamma)**2)*cos(theta_x)/cos(\\gamma) + (c*cos(\\gamma) + t)*sin(theta_x))/sqrt(a**2 + Abs(sqrt(-a**2*(1 - sin(\\gamma))**2 + b**2*cos(\\gamma)**2)/cos(\\gamma))**2 + Abs(a*(sin(\\gamma) - 1)/cos(\\gamma))**2))*(a*sqrt(-a**2*(1 - sin(\\gamma))**2 + b**2*cos(\\gamma)**2)/(sqrt(a**2 + Abs(sqrt(-a**2*(1 - sin(\\gamma))**2 + b**2*cos(\\gamma)**2)/cos(\\gamma))**2 + Abs(a*(sin(\\gamma) - 1)/cos(\\gamma))**2)*sqrt(a**2 + Abs(a*(sin(\\gamma) - 1)*sin(theta_x)/cos(\\gamma) - sqrt(-a**2*(1 - sin(\\gamma))**2 + b**2*cos(\\gamma)**2)*cos(theta_x)/cos(\\gamma))**2 + Abs(a*(sin(\\gamma) - 1)*cos(theta_x)/cos(\\gamma) + sqrt(-a**2*(1 - sin(\\gamma))**2 + b**2*cos(\\gamma)**2)*sin(theta_x)/cos(\\gamma))**2)*cos(\\gamma)) + a*(a*(sin(\\gamma) - 1)*sin(theta_x)/cos(\\gamma) - sqrt(-a**2*(1 - sin(\\gamma))**2 + b**2*cos(\\gamma)**2)*cos(theta_x)/cos(\\gamma))/(sqrt(a**2 + Abs(sqrt(-a**2*(1 - sin(\\gamma))**2 + b**2*cos(\\gamma)**2)/cos(\\gamma))**2 + Abs(a*(sin(\\gamma) - 1)/cos(\\gamma))**2)*sqrt(a**2 + Abs(a*(sin(\\gamma) - 1)*sin(theta_x)/cos(\\gamma) - sqrt(-a**2*(1 - sin(\\gamma))**2 + b**2*cos(\\gamma)**2)*cos(theta_x)/cos(\\gamma))**2 + Abs(a*(sin(\\gamma) - 1)*cos(theta_x)/cos(\\gamma) + sqrt(-a**2*(1 - sin(\\gamma))**2 + b**2*cos(\\gamma)**2)*sin(theta_x)/cos(\\gamma))**2))) + (-a**2*(sin(\\gamma) - 1)/(sqrt(a**2 + Abs(sqrt(-a**2*(1 - sin(\\gamma))**2 + b**2*cos(\\gamma)**2)/cos(\\gamma))**2 + Abs(a*(sin(\\gamma) - 1)/cos(\\gamma))**2)*cos(\\gamma)) - a*(a*(sin(\\gamma) - 1)*cos(theta_x)/cos(\\gamma) + c*cos(\\gamma) + t + sqrt(-a**2*(1 - sin(\\gamma))**2 + b**2*cos(\\gamma)**2)*sin(theta_x)/cos(\\gamma) + (c*cos(\\gamma) + t)*cos(theta_x))/sqrt(a**2 + Abs(sqrt(-a**2*(1 - sin(\\gamma))**2 + b**2*cos(\\gamma)**2)/cos(\\gamma))**2 + Abs(a*(sin(\\gamma) - 1)/cos(\\gamma))**2))*(-a**2*(sin(\\gamma) - 1)/(sqrt(a**2 + Abs(sqrt(-a**2*(1 - sin(\\gamma))**2 + b**2*cos(\\gamma)**2)/cos(\\gamma))**2 + Abs(a*(sin(\\gamma) - 1)/cos(\\gamma))**2)*sqrt(a**2 + Abs(-a*(1 - sin(\\gamma))*cos(theta_x)/cos(\\gamma) + sqrt(-a**2*(1 - sin(\\gamma))**2 + b**2*cos(\\gamma)**2)*sin(theta_x)/cos(\\gamma))**2 + Abs(a*(sin(\\gamma) - 1)*sin(theta_x)/cos(\\gamma) - sqrt(-a**2*(1 - sin(\\gamma))**2 + b**2*cos(\\gamma)**2)*cos(theta_x)/cos(\\gamma))**2)*cos(\\gamma)) + a*(a*(1 - sin(\\gamma))*cos(theta_x)/cos(\\gamma) - sqrt(-a**2*(1 - sin(\\gamma))**2 + b**2*cos(\\gamma)**2)*sin(theta_x)/cos(\\gamma))/(sqrt(a**2 + Abs(sqrt(-a**2*(1 - sin(\\gamma))**2 + b**2*cos(\\gamma)**2)/cos(\\gamma))**2 + Abs(a*(sin(\\gamma) - 1)/cos(\\gamma))**2)*sqrt(a**2 + Abs(-a*(1 - sin(\\gamma))*cos(theta_x)/cos(\\gamma) + sqrt(-a**2*(1 - sin(\\gamma))**2 + b**2*cos(\\gamma)**2)*sin(theta_x)/cos(\\gamma))**2 + Abs(a*(sin(\\gamma) - 1)*sin(theta_x)/cos(\\gamma) - sqrt(-a**2*(1 - sin(\\gamma))**2 + b**2*cos(\\gamma)**2)*cos(theta_x)/cos(\\gamma))**2))) + (a*(sin(\\gamma) - 1)*(-a*(sin(\\gamma) - 1)*sin(theta_x)/cos(\\gamma) + sqrt(-a**2*(1 - sin(\\gamma))**2 + b**2*cos(\\gamma)**2)*cos(theta_x)/cos(\\gamma) - (c*cos(\\gamma) + t)*sin(theta_x))/(sqrt(a**2 + Abs(sqrt(-a**2*(1 - sin(\\gamma))**2 + b**2*cos(\\gamma)**2)/cos(\\gamma))**2 + Abs(a*(sin(\\gamma) - 1)/cos(\\gamma))**2)*cos(\\gamma)) + sqrt(-a**2*(1 - sin(\\gamma))**2 + b**2*cos(\\gamma)**2)*(a*(sin(\\gamma) - 1)*cos(theta_x)/cos(\\gamma) + c*cos(\\gamma) + t + sqrt(-a**2*(1 - sin(\\gamma))**2 + b**2*cos(\\gamma)**2)*sin(theta_x)/cos(\\gamma) + (c*cos(\\gamma) + t)*cos(theta_x))/(sqrt(a**2 + Abs(sqrt(-a**2*(1 - sin(\\gamma))**2 + b**2*cos(\\gamma)**2)/cos(\\gamma))**2 + Abs(a*(sin(\\gamma) - 1)/cos(\\gamma))**2)*cos(\\gamma)))*(a*(-a*(sin(\\gamma) - 1)*sin(theta_x)/cos(\\gamma) + sqrt(-a**2*(1 - sin(\\gamma))**2 + b**2*cos(\\gamma)**2)*cos(theta_x)/cos(\\gamma))*(sin(\\gamma) - 1)/(sqrt(a**2 + Abs(sqrt(-a**2*(1 - sin(\\gamma))**2 + b**2*cos(\\gamma)**2)/cos(\\gamma))**2 + Abs(a*(sin(\\gamma) - 1)/cos(\\gamma))**2)*sqrt(a**2 + Abs(-a*(1 - sin(\\gamma))*cos(theta_x)/cos(\\gamma) + sqrt(-a**2*(1 - sin(\\gamma))**2 + b**2*cos(\\gamma)**2)*sin(theta_x)/cos(\\gamma))**2 + Abs(a*(sin(\\gamma) - 1)*sin(theta_x)/cos(\\gamma) - sqrt(-a**2*(1 - sin(\\gamma))**2 + b**2*cos(\\gamma)**2)*cos(theta_x)/cos(\\gamma))**2)*cos(\\gamma)) - sqrt(-a**2*(1 - sin(\\gamma))**2 + b**2*cos(\\gamma)**2)*(a*(1 - sin(\\gamma))*cos(theta_x)/cos(\\gamma) - sqrt(-a**2*(1 - sin(\\gamma))**2 + b**2*cos(\\gamma)**2)*sin(theta_x)/cos(\\gamma))/(sqrt(a**2 + Abs(sqrt(-a**2*(1 - sin(\\gamma))**2 + b**2*cos(\\gamma)**2)/cos(\\gamma))**2 + Abs(a*(sin(\\gamma) - 1)/cos(\\gamma))**2)*sqrt(a**2 + Abs(-a*(1 - sin(\\gamma))*cos(theta_x)/cos(\\gamma) + sqrt(-a**2*(1 - sin(\\gamma))**2 + b**2*cos(\\gamma)**2)*sin(theta_x)/cos(\\gamma))**2 + Abs(a*(sin(\\gamma) - 1)*sin(theta_x)/cos(\\gamma) - sqrt(-a**2*(1 - sin(\\gamma))**2 + b**2*cos(\\gamma)**2)*cos(theta_x)/cos(\\gamma))**2)*cos(\\gamma))))/(sqrt(a**2 + Abs(a*(sin(\\gamma) - 1)*sin(theta_x)/cos(\\gamma) - sqrt(-a**2*(1 - sin(\\gamma))**2 + b**2*cos(\\gamma)**2)*cos(theta_x)/cos(\\gamma))**2 + Abs(a*(sin(\\gamma) - 1)*cos(theta_x)/cos(\\gamma) + sqrt(-a**2*(1 - sin(\\gamma))**2 + b**2*cos(\\gamma)**2)*sin(theta_x)/cos(\\gamma))**2)*((a*sqrt(-a**2*(1 - sin(\\gamma))**2 + b**2*cos(\\gamma)**2)/(sqrt(a**2 + Abs(sqrt(-a**2*(1 - sin(\\gamma))**2 + b**2*cos(\\gamma)**2)/cos(\\gamma))**2 + Abs(a*(sin(\\gamma) - 1)/cos(\\gamma))**2)*sqrt(a**2 + Abs(a*(sin(\\gamma) - 1)*sin(theta_x)/cos(\\gamma) - sqrt(-a**2*(1 - sin(\\gamma))**2 + b**2*cos(\\gamma)**2)*cos(theta_x)/cos(\\gamma))**2 + Abs(a*(sin(\\gamma) - 1)*cos(theta_x)/cos(\\gamma) + sqrt(-a**2*(1 - sin(\\gamma))**2 + b**2*cos(\\gamma)**2)*sin(theta_x)/cos(\\gamma))**2)*cos(\\gamma)) + a*(a*(sin(\\gamma) - 1)*sin(theta_x)/cos(\\gamma) - sqrt(-a**2*(1 - sin(\\gamma))**2 + b**2*cos(\\gamma)**2)*cos(theta_x)/cos(\\gamma))/(sqrt(a**2 + Abs(sqrt(-a**2*(1 - sin(\\gamma))**2 + b**2*cos(\\gamma)**2)/cos(\\gamma))**2 + Abs(a*(sin(\\gamma) - 1)/cos(\\gamma))**2)*sqrt(a**2 + Abs(a*(sin(\\gamma) - 1)*sin(theta_x)/cos(\\gamma) - sqrt(-a**2*(1 - sin(\\gamma))**2 + b**2*cos(\\gamma)**2)*cos(theta_x)/cos(\\gamma))**2 + Abs(a*(sin(\\gamma) - 1)*cos(theta_x)/cos(\\gamma) + sqrt(-a**2*(1 - sin(\\gamma))**2 + b**2*cos(\\gamma)**2)*sin(theta_x)/cos(\\gamma))**2)))**2 + (a**2*(sin(\\gamma) - 1)/(sqrt(a**2 + Abs(sqrt(-a**2*(1 - sin(\\gamma))**2 + b**2*cos(\\gamma)**2)/cos(\\gamma))**2 + Abs(a*(sin(\\gamma) - 1)/cos(\\gamma))**2)*sqrt(a**2 + Abs(-a*(1 - sin(\\gamma))*cos(theta_x)/cos(\\gamma) + sqrt(-a**2*(1 - sin(\\gamma))**2 + b**2*cos(\\gamma)**2)*sin(theta_x)/cos(\\gamma))**2 + Abs(a*(sin(\\gamma) - 1)*sin(theta_x)/cos(\\gamma) - sqrt(-a**2*(1 - sin(\\gamma))**2 + b**2*cos(\\gamma)**2)*cos(theta_x)/cos(\\gamma))**2)*cos(\\gamma)) - a*(a*(1 - sin(\\gamma))*cos(theta_x)/cos(\\gamma) - sqrt(-a**2*(1 - sin(\\gamma))**2 + b**2*cos(\\gamma)**2)*sin(theta_x)/cos(\\gamma))/(sqrt(a**2 + Abs(sqrt(-a**2*(1 - sin(\\gamma))**2 + b**2*cos(\\gamma)**2)/cos(\\gamma))**2 + Abs(a*(sin(\\gamma) - 1)/cos(\\gamma))**2)*sqrt(a**2 + Abs(-a*(1 - sin(\\gamma))*cos(theta_x)/cos(\\gamma) + sqrt(-a**2*(1 - sin(\\gamma))**2 + b**2*cos(\\gamma)**2)*sin(theta_x)/cos(\\gamma))**2 + Abs(a*(sin(\\gamma) - 1)*sin(theta_x)/cos(\\gamma) - sqrt(-a**2*(1 - sin(\\gamma))**2 + b**2*cos(\\gamma)**2)*cos(theta_x)/cos(\\gamma))**2)))**2 + (-a*(a*(sin(\\gamma) - 1)*sin(theta_x)/cos(\\gamma) - sqrt(-a**2*(1 - sin(\\gamma))**2 + b**2*cos(\\gamma)**2)*cos(theta_x)/cos(\\gamma))*(sin(\\gamma) - 1)/(sqrt(a**2 + Abs(sqrt(-a**2*(1 - sin(\\gamma))**2 + b**2*cos(\\gamma)**2)/cos(\\gamma))**2 + Abs(a*(sin(\\gamma) - 1)/cos(\\gamma))**2)*sqrt(a**2 + Abs(-a*(1 - sin(\\gamma))*cos(theta_x)/cos(\\gamma) + sqrt(-a**2*(1 - sin(\\gamma))**2 + b**2*cos(\\gamma)**2)*sin(theta_x)/cos(\\gamma))**2 + Abs(a*(sin(\\gamma) - 1)*sin(theta_x)/cos(\\gamma) - sqrt(-a**2*(1 - sin(\\gamma))**2 + b**2*cos(\\gamma)**2)*cos(theta_x)/cos(\\gamma))**2)*cos(\\gamma)) - sqrt(-a**2*(1 - sin(\\gamma))**2 + b**2*cos(\\gamma)**2)*(-a*(sin(\\gamma) - 1)*cos(theta_x)/cos(\\gamma) - sqrt(-a**2*(1 - sin(\\gamma))**2 + b**2*cos(\\gamma)**2)*sin(theta_x)/cos(\\gamma))/(sqrt(a**2 + Abs(sqrt(-a**2*(1 - sin(\\gamma))**2 + b**2*cos(\\gamma)**2)/cos(\\gamma))**2 + Abs(a*(sin(\\gamma) - 1)/cos(\\gamma))**2)*sqrt(a**2 + Abs(-a*(1 - sin(\\gamma))*cos(theta_x)/cos(\\gamma) + sqrt(-a**2*(1 - sin(\\gamma))**2 + b**2*cos(\\gamma)**2)*sin(theta_x)/cos(\\gamma))**2 + Abs(a*(sin(\\gamma) - 1)*sin(theta_x)/cos(\\gamma) - sqrt(-a**2*(1 - sin(\\gamma))**2 + b**2*cos(\\gamma)**2)*cos(theta_x)/cos(\\gamma))**2)*cos(\\gamma)))**2)))**2 + Abs(-a*(1 - sin(\\gamma))*sin(theta_x)/cos(\\gamma) - sqrt(-a**2*(1 - sin(\\gamma))**2 + b**2*cos(\\gamma)**2)*cos(theta_x)/cos(\\gamma) + (a*(1 - sin(\\gamma))*sin(theta_x)/cos(\\gamma) + sqrt(-a**2*(1 - sin(\\gamma))**2 + b**2*cos(\\gamma)**2)*cos(theta_x)/cos(\\gamma))*(-(a*sqrt(-a**2*(1 - sin(\\gamma))**2 + b**2*cos(\\gamma)**2)/(sqrt(a**2 + Abs(sqrt(-a**2*(1 - sin(\\gamma))**2 + b**2*cos(\\gamma)**2)/cos(\\gamma))**2 + Abs(a*(sin(\\gamma) - 1)/cos(\\gamma))**2)*cos(\\gamma)) - a*(a*(1 - sin(\\gamma))*sin(theta_x)/cos(\\gamma) + sqrt(-a**2*(1 - sin(\\gamma))**2 + b**2*cos(\\gamma)**2)*cos(theta_x)/cos(\\gamma) - (c*cos(\\gamma) + t)*sin(theta_x))/sqrt(a**2 + Abs(sqrt(-a**2*(1 - sin(\\gamma))**2 + b**2*cos(\\gamma)**2)/cos(\\gamma))**2 + Abs(a*(sin(\\gamma) - 1)/cos(\\gamma))**2))*(a*sqrt(-a**2*(1 - sin(\\gamma))**2 + b**2*cos(\\gamma)**2)/(sqrt(a**2 + Abs(sqrt(-a**2*(1 - sin(\\gamma))**2 + b**2*cos(\\gamma)**2)/cos(\\gamma))**2 + Abs(a*(sin(\\gamma) - 1)/cos(\\gamma))**2)*sqrt(a**2 + Abs(-a*(1 - sin(\\gamma))*cos(theta_x)/cos(\\gamma) + sqrt(-a**2*(1 - sin(\\gamma))**2 + b**2*cos(\\gamma)**2)*sin(theta_x)/cos(\\gamma))**2 + Abs(a*(sin(\\gamma) - 1)*sin(theta_x)/cos(\\gamma) - sqrt(-a**2*(1 - sin(\\gamma))**2 + b**2*cos(\\gamma)**2)*cos(theta_x)/cos(\\gamma))**2)*cos(\\gamma)) - a*(a*(1 - sin(\\gamma))*sin(theta_x)/cos(\\gamma) + sqrt(-a**2*(1 - sin(\\gamma))**2 + b**2*cos(\\gamma)**2)*cos(theta_x)/cos(\\gamma))/(sqrt(a**2 + Abs(sqrt(-a**2*(1 - sin(\\gamma))**2 + b**2*cos(\\gamma)**2)/cos(\\gamma))**2 + Abs(a*(sin(\\gamma) - 1)/cos(\\gamma))**2)*sqrt(a**2 + Abs(-a*(1 - sin(\\gamma))*cos(theta_x)/cos(\\gamma) + sqrt(-a**2*(1 - sin(\\gamma))**2 + b**2*cos(\\gamma)**2)*sin(theta_x)/cos(\\gamma))**2 + Abs(a*(sin(\\gamma) - 1)*sin(theta_x)/cos(\\gamma) - sqrt(-a**2*(1 - sin(\\gamma))**2 + b**2*cos(\\gamma)**2)*cos(theta_x)/cos(\\gamma))**2))) - (-a**2*(1 - sin(\\gamma))/(sqrt(a**2 + Abs(sqrt(-a**2*(1 - sin(\\gamma))**2 + b**2*cos(\\gamma)**2)/cos(\\gamma))**2 + Abs(a*(sin(\\gamma) - 1)/cos(\\gamma))**2)*cos(\\gamma)) + a*(-a*(1 - sin(\\gamma))*cos(theta_x)/cos(\\gamma) + c*cos(\\gamma) + t + sqrt(-a**2*(1 - sin(\\gamma))**2 + b**2*cos(\\gamma)**2)*sin(theta_x)/cos(\\gamma) + (c*cos(\\gamma) + t)*cos(theta_x))/sqrt(a**2 + Abs(sqrt(-a**2*(1 - sin(\\gamma))**2 + b**2*cos(\\gamma)**2)/cos(\\gamma))**2 + Abs(a*(sin(\\gamma) - 1)/cos(\\gamma))**2))*(-a**2*(1 - sin(\\gamma))/(sqrt(a**2 + Abs(sqrt(-a**2*(1 - sin(\\gamma))**2 + b**2*cos(\\gamma)**2)/cos(\\gamma))**2 + Abs(a*(sin(\\gamma) - 1)/cos(\\gamma))**2)*sqrt(a**2 + Abs(-a*(1 - sin(\\gamma))*cos(theta_x)/cos(\\gamma) + sqrt(-a**2*(1 - sin(\\gamma))**2 + b**2*cos(\\gamma)**2)*sin(theta_x)/cos(\\gamma))**2 + Abs(a*(sin(\\gamma) - 1)*sin(theta_x)/cos(\\gamma) - sqrt(-a**2*(1 - sin(\\gamma))**2 + b**2*cos(\\gamma)**2)*cos(theta_x)/cos(\\gamma))**2)*cos(\\gamma)) + a*(-a*(1 - sin(\\gamma))*cos(theta_x)/cos(\\gamma) + sqrt(-a**2*(1 - sin(\\gamma))**2 + b**2*cos(\\gamma)**2)*sin(theta_x)/cos(\\gamma))/(sqrt(a**2 + Abs(sqrt(-a**2*(1 - sin(\\gamma))**2 + b**2*cos(\\gamma)**2)/cos(\\gamma))**2 + Abs(a*(sin(\\gamma) - 1)/cos(\\gamma))**2)*sqrt(a**2 + Abs(-a*(1 - sin(\\gamma))*cos(theta_x)/cos(\\gamma) + sqrt(-a**2*(1 - sin(\\gamma))**2 + b**2*cos(\\gamma)**2)*sin(theta_x)/cos(\\gamma))**2 + Abs(a*(sin(\\gamma) - 1)*sin(theta_x)/cos(\\gamma) - sqrt(-a**2*(1 - sin(\\gamma))**2 + b**2*cos(\\gamma)**2)*cos(theta_x)/cos(\\gamma))**2))) - (a*(1 - sin(\\gamma))*(a*(1 - sin(\\gamma))*sin(theta_x)/cos(\\gamma) + sqrt(-a**2*(1 - sin(\\gamma))**2 + b**2*cos(\\gamma)**2)*cos(theta_x)/cos(\\gamma) - (c*cos(\\gamma) + t)*sin(theta_x))/(sqrt(a**2 + Abs(sqrt(-a**2*(1 - sin(\\gamma))**2 + b**2*cos(\\gamma)**2)/cos(\\gamma))**2 + Abs(a*(sin(\\gamma) - 1)/cos(\\gamma))**2)*cos(\\gamma)) - sqrt(-a**2*(1 - sin(\\gamma))**2 + b**2*cos(\\gamma)**2)*(-a*(1 - sin(\\gamma))*cos(theta_x)/cos(\\gamma) + c*cos(\\gamma) + t + sqrt(-a**2*(1 - sin(\\gamma))**2 + b**2*cos(\\gamma)**2)*sin(theta_x)/cos(\\gamma) + (c*cos(\\gamma) + t)*cos(theta_x))/(sqrt(a**2 + Abs(sqrt(-a**2*(1 - sin(\\gamma))**2 + b**2*cos(\\gamma)**2)/cos(\\gamma))**2 + Abs(a*(sin(\\gamma) - 1)/cos(\\gamma))**2)*cos(\\gamma)))*(a*(1 - sin(\\gamma))*(a*(1 - sin(\\gamma))*sin(theta_x)/cos(\\gamma) + sqrt(-a**2*(1 - sin(\\gamma))**2 + b**2*cos(\\gamma)**2)*cos(theta_x)/cos(\\gamma))/(sqrt(a**2 + Abs(sqrt(-a**2*(1 - sin(\\gamma))**2 + b**2*cos(\\gamma)**2)/cos(\\gamma))**2 + Abs(a*(sin(\\gamma) - 1)/cos(\\gamma))**2)*sqrt(a**2 + Abs(-a*(1 - sin(\\gamma))*cos(theta_x)/cos(\\gamma) + sqrt(-a**2*(1 - sin(\\gamma))**2 + b**2*cos(\\gamma)**2)*sin(theta_x)/cos(\\gamma))**2 + Abs(a*(sin(\\gamma) - 1)*sin(theta_x)/cos(\\gamma) - sqrt(-a**2*(1 - sin(\\gamma))**2 + b**2*cos(\\gamma)**2)*cos(theta_x)/cos(\\gamma))**2)*cos(\\gamma)) - sqrt(-a**2*(1 - sin(\\gamma))**2 + b**2*cos(\\gamma)**2)*(-a*(1 - sin(\\gamma))*cos(theta_x)/cos(\\gamma) + sqrt(-a**2*(1 - sin(\\gamma))**2 + b**2*cos(\\gamma)**2)*sin(theta_x)/cos(\\gamma))/(sqrt(a**2 + Abs(sqrt(-a**2*(1 - sin(\\gamma))**2 + b**2*cos(\\gamma)**2)/cos(\\gamma))**2 + Abs(a*(sin(\\gamma) - 1)/cos(\\gamma))**2)*sqrt(a**2 + Abs(-a*(1 - sin(\\gamma))*cos(theta_x)/cos(\\gamma) + sqrt(-a**2*(1 - sin(\\gamma))**2 + b**2*cos(\\gamma)**2)*sin(theta_x)/cos(\\gamma))**2 + Abs(a*(sin(\\gamma) - 1)*sin(theta_x)/cos(\\gamma) - sqrt(-a**2*(1 - sin(\\gamma))**2 + b**2*cos(\\gamma)**2)*cos(theta_x)/cos(\\gamma))**2)*cos(\\gamma))))/(sqrt(a**2 + Abs(-a*(1 - sin(\\gamma))*cos(theta_x)/cos(\\gamma) + sqrt(-a**2*(1 - sin(\\gamma))**2 + b**2*cos(\\gamma)**2)*sin(theta_x)/cos(\\gamma))**2 + Abs(a*(sin(\\gamma) - 1)*sin(theta_x)/cos(\\gamma) - sqrt(-a**2*(1 - sin(\\gamma))**2 + b**2*cos(\\gamma)**2)*cos(theta_x)/cos(\\gamma))**2)*((a*sqrt(-a**2*(1 - sin(\\gamma))**2 + b**2*cos(\\gamma)**2)/(sqrt(a**2 + Abs(sqrt(-a**2*(1 - sin(\\gamma))**2 + b**2*cos(\\gamma)**2)/cos(\\gamma))**2 + Abs(a*(sin(\\gamma) - 1)/cos(\\gamma))**2)*sqrt(a**2 + Abs(-a*(1 - sin(\\gamma))*cos(theta_x)/cos(\\gamma) + sqrt(-a**2*(1 - sin(\\gamma))**2 + b**2*cos(\\gamma)**2)*sin(theta_x)/cos(\\gamma))**2 + Abs(a*(sin(\\gamma) - 1)*sin(theta_x)/cos(\\gamma) - sqrt(-a**2*(1 - sin(\\gamma))**2 + b**2*cos(\\gamma)**2)*cos(theta_x)/cos(\\gamma))**2)*cos(\\gamma)) - a*(a*(1 - sin(\\gamma))*sin(theta_x)/cos(\\gamma) + sqrt(-a**2*(1 - sin(\\gamma))**2 + b**2*cos(\\gamma)**2)*cos(theta_x)/cos(\\gamma))/(sqrt(a**2 + Abs(sqrt(-a**2*(1 - sin(\\gamma))**2 + b**2*cos(\\gamma)**2)/cos(\\gamma))**2 + Abs(a*(sin(\\gamma) - 1)/cos(\\gamma))**2)*sqrt(a**2 + Abs(-a*(1 - sin(\\gamma))*cos(theta_x)/cos(\\gamma) + sqrt(-a**2*(1 - sin(\\gamma))**2 + b**2*cos(\\gamma)**2)*sin(theta_x)/cos(\\gamma))**2 + Abs(a*(sin(\\gamma) - 1)*sin(theta_x)/cos(\\gamma) - sqrt(-a**2*(1 - sin(\\gamma))**2 + b**2*cos(\\gamma)**2)*cos(theta_x)/cos(\\gamma))**2)))**2 + (-a**2*(1 - sin(\\gamma))/(sqrt(a**2 + Abs(sqrt(-a**2*(1 - sin(\\gamma))**2 + b**2*cos(\\gamma)**2)/cos(\\gamma))**2 + Abs(a*(sin(\\gamma) - 1)/cos(\\gamma))**2)*sqrt(a**2 + Abs(-a*(1 - sin(\\gamma))*cos(theta_x)/cos(\\gamma) + sqrt(-a**2*(1 - sin(\\gamma))**2 + b**2*cos(\\gamma)**2)*sin(theta_x)/cos(\\gamma))**2 + Abs(a*(sin(\\gamma) - 1)*sin(theta_x)/cos(\\gamma) - sqrt(-a**2*(1 - sin(\\gamma))**2 + b**2*cos(\\gamma)**2)*cos(theta_x)/cos(\\gamma))**2)*cos(\\gamma)) + a*(-a*(1 - sin(\\gamma))*cos(theta_x)/cos(\\gamma) + sqrt(-a**2*(1 - sin(\\gamma))**2 + b**2*cos(\\gamma)**2)*sin(theta_x)/cos(\\gamma))/(sqrt(a**2 + Abs(sqrt(-a**2*(1 - sin(\\gamma))**2 + b**2*cos(\\gamma)**2)/cos(\\gamma))**2 + Abs(a*(sin(\\gamma) - 1)/cos(\\gamma))**2)*sqrt(a**2 + Abs(-a*(1 - sin(\\gamma))*cos(theta_x)/cos(\\gamma) + sqrt(-a**2*(1 - sin(\\gamma))**2 + b**2*cos(\\gamma)**2)*sin(theta_x)/cos(\\gamma))**2 + Abs(a*(sin(\\gamma) - 1)*sin(theta_x)/cos(\\gamma) - sqrt(-a**2*(1 - sin(\\gamma))**2 + b**2*cos(\\gamma)**2)*cos(theta_x)/cos(\\gamma))**2)))**2 + (a*(1 - sin(\\gamma))*(a*(1 - sin(\\gamma))*sin(theta_x)/cos(\\gamma) + sqrt(-a**2*(1 - sin(\\gamma))**2 + b**2*cos(\\gamma)**2)*cos(theta_x)/cos(\\gamma))/(sqrt(a**2 + Abs(sqrt(-a**2*(1 - sin(\\gamma))**2 + b**2*cos(\\gamma)**2)/cos(\\gamma))**2 + Abs(a*(sin(\\gamma) - 1)/cos(\\gamma))**2)*sqrt(a**2 + Abs(-a*(1 - sin(\\gamma))*cos(theta_x)/cos(\\gamma) + sqrt(-a**2*(1 - sin(\\gamma))**2 + b**2*cos(\\gamma)**2)*sin(theta_x)/cos(\\gamma))**2 + Abs(a*(sin(\\gamma) - 1)*sin(theta_x)/cos(\\gamma) - sqrt(-a**2*(1 - sin(\\gamma))**2 + b**2*cos(\\gamma)**2)*cos(theta_x)/cos(\\gamma))**2)*cos(\\gamma)) - sqrt(-a**2*(1 - sin(\\gamma))**2 + b**2*cos(\\gamma)**2)*(-a*(1 - sin(\\gamma))*cos(theta_x)/cos(\\gamma) + sqrt(-a**2*(1 - sin(\\gamma))**2 + b**2*cos(\\gamma)**2)*sin(theta_x)/cos(\\gamma))/(sqrt(a**2 + Abs(sqrt(-a**2*(1 - sin(\\gamma))**2 + b**2*cos(\\gamma)**2)/cos(\\gamma))**2 + Abs(a*(sin(\\gamma) - 1)/cos(\\gamma))**2)*sqrt(a**2 + Abs(-a*(1 - sin(\\gamma))*cos(theta_x)/cos(\\gamma) + sqrt(-a**2*(1 - sin(\\gamma))**2 + b**2*cos(\\gamma)**2)*sin(theta_x)/cos(\\gamma))**2 + Abs(a*(sin(\\gamma) - 1)*sin(theta_x)/cos(\\gamma) - sqrt(-a**2*(1 - sin(\\gamma))**2 + b**2*cos(\\gamma)**2)*cos(theta_x)/cos(\\gamma))**2)*cos(\\gamma)))**2)))**2 + Abs(a*(sin(\\gamma) - 1)*cos(theta_x)/cos(\\gamma) + sqrt(-a**2*(1 - sin(\\gamma))**2 + b**2*cos(\\gamma)**2)*sin(theta_x)/cos(\\gamma) + (a*(sin(\\gamma) - 1)*cos(theta_x)/cos(\\gamma) + sqrt(-a**2*(1 - sin(\\gamma))**2 + b**2*cos(\\gamma)**2)*sin(theta_x)/cos(\\gamma))*((a*sqrt(-a**2*(1 - sin(\\gamma))**2 + b**2*cos(\\gamma)**2)/(sqrt(a**2 + Abs(sqrt(-a**2*(1 - sin(\\gamma))**2 + b**2*cos(\\gamma)**2)/cos(\\gamma))**2 + Abs(a*(sin(\\gamma) - 1)/cos(\\gamma))**2)*cos(\\gamma)) + a*(a*(sin(\\gamma) - 1)*sin(theta_x)/cos(\\gamma) - sqrt(-a**2*(1 - sin(\\gamma))**2 + b**2*cos(\\gamma)**2)*cos(theta_x)/cos(\\gamma) + (c*cos(\\gamma) + t)*sin(theta_x))/sqrt(a**2 + Abs(sqrt(-a**2*(1 - sin(\\gamma))**2 + b**2*cos(\\gamma)**2)/cos(\\gamma))**2 + Abs(a*(sin(\\gamma) - 1)/cos(\\gamma))**2))*(a*sqrt(-a**2*(1 - sin(\\gamma))**2 + b**2*cos(\\gamma)**2)/(sqrt(a**2 + Abs(sqrt(-a**2*(1 - sin(\\gamma))**2 + b**2*cos(\\gamma)**2)/cos(\\gamma))**2 + Abs(a*(sin(\\gamma) - 1)/cos(\\gamma))**2)*sqrt(a**2 + Abs(a*(sin(\\gamma) - 1)*sin(theta_x)/cos(\\gamma) - sqrt(-a**2*(1 - sin(\\gamma))**2 + b**2*cos(\\gamma)**2)*cos(theta_x)/cos(\\gamma))**2 + Abs(a*(sin(\\gamma) - 1)*cos(theta_x)/cos(\\gamma) + sqrt(-a**2*(1 - sin(\\gamma))**2 + b**2*cos(\\gamma)**2)*sin(theta_x)/cos(\\gamma))**2)*cos(\\gamma)) + a*(a*(sin(\\gamma) - 1)*sin(theta_x)/cos(\\gamma) - sqrt(-a**2*(1 - sin(\\gamma))**2 + b**2*cos(\\gamma)**2)*cos(theta_x)/cos(\\gamma))/(sqrt(a**2 + Abs(sqrt(-a**2*(1 - sin(\\gamma))**2 + b**2*cos(\\gamma)**2)/cos(\\gamma))**2 + Abs(a*(sin(\\gamma) - 1)/cos(\\gamma))**2)*sqrt(a**2 + Abs(a*(sin(\\gamma) - 1)*sin(theta_x)/cos(\\gamma) - sqrt(-a**2*(1 - sin(\\gamma))**2 + b**2*cos(\\gamma)**2)*cos(theta_x)/cos(\\gamma))**2 + Abs(a*(sin(\\gamma) - 1)*cos(theta_x)/cos(\\gamma) + sqrt(-a**2*(1 - sin(\\gamma))**2 + b**2*cos(\\gamma)**2)*sin(theta_x)/cos(\\gamma))**2))) + (-a**2*(sin(\\gamma) - 1)/(sqrt(a**2 + Abs(sqrt(-a**2*(1 - sin(\\gamma))**2 + b**2*cos(\\gamma)**2)/cos(\\gamma))**2 + Abs(a*(sin(\\gamma) - 1)/cos(\\gamma))**2)*cos(\\gamma)) - a*(a*(sin(\\gamma) - 1)*cos(theta_x)/cos(\\gamma) + c*cos(\\gamma) + t + sqrt(-a**2*(1 - sin(\\gamma))**2 + b**2*cos(\\gamma)**2)*sin(theta_x)/cos(\\gamma) + (c*cos(\\gamma) + t)*cos(theta_x))/sqrt(a**2 + Abs(sqrt(-a**2*(1 - sin(\\gamma))**2 + b**2*cos(\\gamma)**2)/cos(\\gamma))**2 + Abs(a*(sin(\\gamma) - 1)/cos(\\gamma))**2))*(-a**2*(sin(\\gamma) - 1)/(sqrt(a**2 + Abs(sqrt(-a**2*(1 - sin(\\gamma))**2 + b**2*cos(\\gamma)**2)/cos(\\gamma))**2 + Abs(a*(sin(\\gamma) - 1)/cos(\\gamma))**2)*sqrt(a**2 + Abs(-a*(1 - sin(\\gamma))*cos(theta_x)/cos(\\gamma) + sqrt(-a**2*(1 - sin(\\gamma))**2 + b**2*cos(\\gamma)**2)*sin(theta_x)/cos(\\gamma))**2 + Abs(a*(sin(\\gamma) - 1)*sin(theta_x)/cos(\\gamma) - sqrt(-a**2*(1 - sin(\\gamma))**2 + b**2*cos(\\gamma)**2)*cos(theta_x)/cos(\\gamma))**2)*cos(\\gamma)) + a*(a*(1 - sin(\\gamma))*cos(theta_x)/cos(\\gamma) - sqrt(-a**2*(1 - sin(\\gamma))**2 + b**2*cos(\\gamma)**2)*sin(theta_x)/cos(\\gamma))/(sqrt(a**2 + Abs(sqrt(-a**2*(1 - sin(\\gamma))**2 + b**2*cos(\\gamma)**2)/cos(\\gamma))**2 + Abs(a*(sin(\\gamma) - 1)/cos(\\gamma))**2)*sqrt(a**2 + Abs(-a*(1 - sin(\\gamma))*cos(theta_x)/cos(\\gamma) + sqrt(-a**2*(1 - sin(\\gamma))**2 + b**2*cos(\\gamma)**2)*sin(theta_x)/cos(\\gamma))**2 + Abs(a*(sin(\\gamma) - 1)*sin(theta_x)/cos(\\gamma) - sqrt(-a**2*(1 - sin(\\gamma))**2 + b**2*cos(\\gamma)**2)*cos(theta_x)/cos(\\gamma))**2))) + (a*(sin(\\gamma) - 1)*(-a*(sin(\\gamma) - 1)*sin(theta_x)/cos(\\gamma) + sqrt(-a**2*(1 - sin(\\gamma))**2 + b**2*cos(\\gamma)**2)*cos(theta_x)/cos(\\gamma) - (c*cos(\\gamma) + t)*sin(theta_x))/(sqrt(a**2 + Abs(sqrt(-a**2*(1 - sin(\\gamma))**2 + b**2*cos(\\gamma)**2)/cos(\\gamma))**2 + Abs(a*(sin(\\gamma) - 1)/cos(\\gamma))**2)*cos(\\gamma)) + sqrt(-a**2*(1 - sin(\\gamma))**2 + b**2*cos(\\gamma)**2)*(a*(sin(\\gamma) - 1)*cos(theta_x)/cos(\\gamma) + c*cos(\\gamma) + t + sqrt(-a**2*(1 - sin(\\gamma))**2 + b**2*cos(\\gamma)**2)*sin(theta_x)/cos(\\gamma) + (c*cos(\\gamma) + t)*cos(theta_x))/(sqrt(a**2 + Abs(sqrt(-a**2*(1 - sin(\\gamma))**2 + b**2*cos(\\gamma)**2)/cos(\\gamma))**2 + Abs(a*(sin(\\gamma) - 1)/cos(\\gamma))**2)*cos(\\gamma)))*(a*(-a*(sin(\\gamma) - 1)*sin(theta_x)/cos(\\gamma) + sqrt(-a**2*(1 - sin(\\gamma))**2 + b**2*cos(\\gamma)**2)*cos(theta_x)/cos(\\gamma))*(sin(\\gamma) - 1)/(sqrt(a**2 + Abs(sqrt(-a**2*(1 - sin(\\gamma))**2 + b**2*cos(\\gamma)**2)/cos(\\gamma))**2 + Abs(a*(sin(\\gamma) - 1)/cos(\\gamma))**2)*sqrt(a**2 + Abs(-a*(1 - sin(\\gamma))*cos(theta_x)/cos(\\gamma) + sqrt(-a**2*(1 - sin(\\gamma))**2 + b**2*cos(\\gamma)**2)*sin(theta_x)/cos(\\gamma))**2 + Abs(a*(sin(\\gamma) - 1)*sin(theta_x)/cos(\\gamma) - sqrt(-a**2*(1 - sin(\\gamma))**2 + b**2*cos(\\gamma)**2)*cos(theta_x)/cos(\\gamma))**2)*cos(\\gamma)) - sqrt(-a**2*(1 - sin(\\gamma))**2 + b**2*cos(\\gamma)**2)*(a*(1 - sin(\\gamma))*cos(theta_x)/cos(\\gamma) - sqrt(-a**2*(1 - sin(\\gamma))**2 + b**2*cos(\\gamma)**2)*sin(theta_x)/cos(\\gamma))/(sqrt(a**2 + Abs(sqrt(-a**2*(1 - sin(\\gamma))**2 + b**2*cos(\\gamma)**2)/cos(\\gamma))**2 + Abs(a*(sin(\\gamma) - 1)/cos(\\gamma))**2)*sqrt(a**2 + Abs(-a*(1 - sin(\\gamma))*cos(theta_x)/cos(\\gamma) + sqrt(-a**2*(1 - sin(\\gamma))**2 + b**2*cos(\\gamma)**2)*sin(theta_x)/cos(\\gamma))**2 + Abs(a*(sin(\\gamma) - 1)*sin(theta_x)/cos(\\gamma) - sqrt(-a**2*(1 - sin(\\gamma))**2 + b**2*cos(\\gamma)**2)*cos(theta_x)/cos(\\gamma))**2)*cos(\\gamma))))/(sqrt(a**2 + Abs(a*(sin(\\gamma) - 1)*sin(theta_x)/cos(\\gamma) - sqrt(-a**2*(1 - sin(\\gamma))**2 + b**2*cos(\\gamma)**2)*cos(theta_x)/cos(\\gamma))**2 + Abs(a*(sin(\\gamma) - 1)*cos(theta_x)/cos(\\gamma) + sqrt(-a**2*(1 - sin(\\gamma))**2 + b**2*cos(\\gamma)**2)*sin(theta_x)/cos(\\gamma))**2)*((a*sqrt(-a**2*(1 - sin(\\gamma))**2 + b**2*cos(\\gamma)**2)/(sqrt(a**2 + Abs(sqrt(-a**2*(1 - sin(\\gamma))**2 + b**2*cos(\\gamma)**2)/cos(\\gamma))**2 + Abs(a*(sin(\\gamma) - 1)/cos(\\gamma))**2)*sqrt(a**2 + Abs(a*(sin(\\gamma) - 1)*sin(theta_x)/cos(\\gamma) - sqrt(-a**2*(1 - sin(\\gamma))**2 + b**2*cos(\\gamma)**2)*cos(theta_x)/cos(\\gamma))**2 + Abs(a*(sin(\\gamma) - 1)*cos(theta_x)/cos(\\gamma) + sqrt(-a**2*(1 - sin(\\gamma))**2 + b**2*cos(\\gamma)**2)*sin(theta_x)/cos(\\gamma))**2)*cos(\\gamma)) + a*(a*(sin(\\gamma) - 1)*sin(theta_x)/cos(\\gamma) - sqrt(-a**2*(1 - sin(\\gamma))**2 + b**2*cos(\\gamma)**2)*cos(theta_x)/cos(\\gamma))/(sqrt(a**2 + Abs(sqrt(-a**2*(1 - sin(\\gamma))**2 + b**2*cos(\\gamma)**2)/cos(\\gamma))**2 + Abs(a*(sin(\\gamma) - 1)/cos(\\gamma))**2)*sqrt(a**2 + Abs(a*(sin(\\gamma) - 1)*sin(theta_x)/cos(\\gamma) - sqrt(-a**2*(1 - sin(\\gamma))**2 + b**2*cos(\\gamma)**2)*cos(theta_x)/cos(\\gamma))**2 + Abs(a*(sin(\\gamma) - 1)*cos(theta_x)/cos(\\gamma) + sqrt(-a**2*(1 - sin(\\gamma))**2 + b**2*cos(\\gamma)**2)*sin(theta_x)/cos(\\gamma))**2)))**2 + (a**2*(sin(\\gamma) - 1)/(sqrt(a**2 + Abs(sqrt(-a**2*(1 - sin(\\gamma))**2 + b**2*cos(\\gamma)**2)/cos(\\gamma))**2 + Abs(a*(sin(\\gamma) - 1)/cos(\\gamma))**2)*sqrt(a**2 + Abs(-a*(1 - sin(\\gamma))*cos(theta_x)/cos(\\gamma) + sqrt(-a**2*(1 - sin(\\gamma))**2 + b**2*cos(\\gamma)**2)*sin(theta_x)/cos(\\gamma))**2 + Abs(a*(sin(\\gamma) - 1)*sin(theta_x)/cos(\\gamma) - sqrt(-a**2*(1 - sin(\\gamma))**2 + b**2*cos(\\gamma)**2)*cos(theta_x)/cos(\\gamma))**2)*cos(\\gamma)) - a*(a*(1 - sin(\\gamma))*cos(theta_x)/cos(\\gamma) - sqrt(-a**2*(1 - sin(\\gamma))**2 + b**2*cos(\\gamma)**2)*sin(theta_x)/cos(\\gamma))/(sqrt(a**2 + Abs(sqrt(-a**2*(1 - sin(\\gamma))**2 + b**2*cos(\\gamma)**2)/cos(\\gamma))**2 + Abs(a*(sin(\\gamma) - 1)/cos(\\gamma))**2)*sqrt(a**2 + Abs(-a*(1 - sin(\\gamma))*cos(theta_x)/cos(\\gamma) + sqrt(-a**2*(1 - sin(\\gamma))**2 + b**2*cos(\\gamma)**2)*sin(theta_x)/cos(\\gamma))**2 + Abs(a*(sin(\\gamma) - 1)*sin(theta_x)/cos(\\gamma) - sqrt(-a**2*(1 - sin(\\gamma))**2 + b**2*cos(\\gamma)**2)*cos(theta_x)/cos(\\gamma))**2)))**2 + (-a*(a*(sin(\\gamma) - 1)*sin(theta_x)/cos(\\gamma) - sqrt(-a**2*(1 - sin(\\gamma))**2 + b**2*cos(\\gamma)**2)*cos(theta_x)/cos(\\gamma))*(sin(\\gamma) - 1)/(sqrt(a**2 + Abs(sqrt(-a**2*(1 - sin(\\gamma))**2 + b**2*cos(\\gamma)**2)/cos(\\gamma))**2 + Abs(a*(sin(\\gamma) - 1)/cos(\\gamma))**2)*sqrt(a**2 + Abs(-a*(1 - sin(\\gamma))*cos(theta_x)/cos(\\gamma) + sqrt(-a**2*(1 - sin(\\gamma))**2 + b**2*cos(\\gamma)**2)*sin(theta_x)/cos(\\gamma))**2 + Abs(a*(sin(\\gamma) - 1)*sin(theta_x)/cos(\\gamma) - sqrt(-a**2*(1 - sin(\\gamma))**2 + b**2*cos(\\gamma)**2)*cos(theta_x)/cos(\\gamma))**2)*cos(\\gamma)) - sqrt(-a**2*(1 - sin(\\gamma))**2 + b**2*cos(\\gamma)**2)*(-a*(sin(\\gamma) - 1)*cos(theta_x)/cos(\\gamma) - sqrt(-a**2*(1 - sin(\\gamma))**2 + b**2*cos(\\gamma)**2)*sin(theta_x)/cos(\\gamma))/(sqrt(a**2 + Abs(sqrt(-a**2*(1 - sin(\\gamma))**2 + b**2*cos(\\gamma)**2)/cos(\\gamma))**2 + Abs(a*(sin(\\gamma) - 1)/cos(\\gamma))**2)*sqrt(a**2 + Abs(-a*(1 - sin(\\gamma))*cos(theta_x)/cos(\\gamma) + sqrt(-a**2*(1 - sin(\\gamma))**2 + b**2*cos(\\gamma)**2)*sin(theta_x)/cos(\\gamma))**2 + Abs(a*(sin(\\gamma) - 1)*sin(theta_x)/cos(\\gamma) - sqrt(-a**2*(1 - sin(\\gamma))**2 + b**2*cos(\\gamma)**2)*cos(theta_x)/cos(\\gamma))**2)*cos(\\gamma)))**2)))**2)/(2*sqrt(a**2 + Abs(-a*(1 - sin(\\gamma))*sin(theta_x)/cos(\\gamma) - sqrt(-a**2*(1 - sin(\\gamma))**2 + b**2*cos(\\gamma)**2)*cos(theta_x)/cos(\\gamma))**2 + Abs(a*(sin(\\gamma) - 1)*cos(theta_x)/cos(\\gamma) + sqrt(-a**2*(1 - sin(\\gamma))**2 + b**2*cos(\\gamma)**2)*sin(theta_x)/cos(\\gamma))**2))"
      ]
     },
     "execution_count": 58,
     "metadata": {},
     "output_type": "execute_result"
    }
   ],
   "source": [
    "Ls = (l2*a1)/(2*a2)\n",
    "Ls"
   ]
  },
  {
   "cell_type": "code",
   "execution_count": null,
   "metadata": {},
   "outputs": [
    {
     "data": {
      "text/plain": [
       "{\\gamma, a, b, c, t, theta_x}"
      ]
     },
     "execution_count": 59,
     "metadata": {},
     "output_type": "execute_result"
    }
   ],
   "source": [
    "Ls.free_symbols"
   ]
  },
  {
   "cell_type": "code",
   "execution_count": null,
   "metadata": {},
   "outputs": [
    {
     "data": {
      "text/plain": [
       "array([157.11916894])"
      ]
     },
     "execution_count": 60,
     "metadata": {},
     "output_type": "execute_result"
    }
   ],
   "source": [
    "Ls_num = Ls.subs(subs_dict)\n",
    "Ls_num = Ls_num.evalf()\n",
    "Ls_num = np.array(sp.lambdify((), Ls_num, modules='numpy')()).astype(np.float64).flatten()\n",
    "Ls_num\n",
    "\n"
   ]
  }
 ],
 "metadata": {
  "kernelspec": {
   "display_name": "bmcs_env",
   "language": "python",
   "name": "python3"
  },
  "language_info": {
   "codemirror_mode": {
    "name": "ipython",
    "version": 3
   },
   "file_extension": ".py",
   "mimetype": "text/x-python",
   "name": "python",
   "nbconvert_exporter": "python",
   "pygments_lexer": "ipython3",
   "version": "3.12.9"
  }
 },
 "nbformat": 4,
 "nbformat_minor": 2
}
