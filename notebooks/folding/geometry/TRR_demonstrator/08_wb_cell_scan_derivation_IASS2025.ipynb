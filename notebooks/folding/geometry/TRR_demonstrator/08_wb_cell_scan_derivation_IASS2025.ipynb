{
 "cells": [
  {
   "cell_type": "markdown",
   "id": "2e85963e",
   "metadata": {},
   "source": [
    "# Assembling the imperfect waterbomb elements\n",
    "\n",
    "Prototyping notebook -- that was used to formulate the processing of the \n",
    "assembly algorithm and misfit analysis step by step. The methods were then \n",
    "included in the class WBAssembler "
   ]
  },
  {
   "cell_type": "code",
   "execution_count": 27,
   "id": "3a428099",
   "metadata": {},
   "outputs": [],
   "source": [
    "import k3d\n",
    "import sympy as sp\n",
    "sp.init_printing()\n",
    "import numpy as np\n",
    "import matplotlib.pylab as plt\n",
    "from bmcs_shell.folding.assembly.wb_scanned_cell import WBScannedCell, cache_solve"
   ]
  },
  {
   "cell_type": "markdown",
   "id": "94689040",
   "metadata": {},
   "source": [
    "# Modules 3"
   ]
  },
  {
   "attachments": {
    "image-2.png": {
     "image/png": "[encoded data removed]"
    }
   },
   "cell_type": "markdown",
   "id": "b145043c",
   "metadata": {},
   "source": [
    "![image-2.png](attachment:image-2.png)"
   ]
  },
  {
   "cell_type": "markdown",
   "id": "bbc7b0fd",
   "metadata": {},
   "source": [
    "There are two cells positioned in a 2D Euclidian space indexed $C$ and $D$.\n",
    "In the following, an index $a$ denotes the spatial coordinate index in 2D with the values 0 and 1. Both cells $C$ and $D$ have two reference points provided in the local coordinate system of the cells as $x_{C0a}$, $x_{C1a}$ and $x_{D0a}$, $x_{D1a}$, respectively. Each reference point is associated with a vector defined in the local coordinates of the cells, i.e., $n_{C0a}$, $n_{C1a}$ and $n_{D0a}$, $n_{D1a}$. Each cell is embedded in the global 2D coordinate system via the position of the origin of the local coordinate system of the cell $X_{Ca}$ and $X_{Da}$ and the rotations of the local coordinate systems $\\alpha_C$ and $\\alpha_D$.\n",
    "\n",
    "The position of the reference points in local coordinate systems of the respective shells and the associated vectors are known as input parameters. Also the global position $X_{Ca}$ and the rotation angle $\\alpha_C$ are input parameters. The global position $X_{Da}$ and the rotation $\\alpha_D$ are unknown. The task is to identify these three unknown based on the following three criteria:\n",
    "\n",
    " - First criterion: The angle between vectors $n_{C1a}$ and $n_{D2a}$ transformed to the global coordinated system using the respective angles $\\alpha_C$ and $\\alpha_D$ must be zero. This condition might be formulated as \n",
    " $ \\| T_{Cab}(\\alpha_C) n_{C2a}$ $T_{Dcd}(\\alpha_D) n_{D1c} \\epsilon_{ebd} \\| = 0$, where $T_{Cab}$ is the rotation matrix depending on the angle $\\alpha_C$, $T_{Dcd}$ is the rotation matrix depending on the angle $\\alpha_D$, and $\\epsilon_{ebd}$ represents the cross-product operator, sometimes referred to as Levi-Civita. But a simpler criterion using dot product and quantified angles is also possible.  \n",
    "\n",
    " - Second criterion: Introducing the vector $v_{D1a} = (X_{Ca} + T_{Cab}(\\alpha_C) x_{C2a} ) - (X_{Da} + T_{Dab}(\\alpha_D) x_{D1a})$ in the global coordinate system, the second criterion says that its projected length on the associated vector must be equal to a specified distance $d$, i.e. $\\| v_{D1b} T_{Dab}(\\alpha) n_{D1b} \\| = d$. \n",
    "\n",
    " - Third criterion: The third criterion is similar to the second criterion, but it takes into account the cell $C$. Given the vector $v_{C1a} = (X_{Da} + T_{Dab}(\\alpha_D) x_{D2a} ) - (X_{Ca} + T_{Cab}(\\alpha_C) x_{C1a})$, we require that the projected length of the associated vector is equal to the specified parameter $d$, i.e. $\\| v_{C1b} T_{Cab}(\\alpha_C) n_{Ca} \\| = d$.\n",
    "\n",
    "The task is to resolve these criteria to deliver the closed-form solution for $X_{D0}$, $X_{D1}$, and $\\alpha_{D}$.\n",
    "  \n"
   ]
  },
  {
   "cell_type": "markdown",
   "id": "5ffa231f",
   "metadata": {},
   "source": [
    "The three necessary conditions are stated as \n",
    " - angle between $n_{C1a}$ and $n_{D2a}$ must be zero,\n",
    " - the size of the vector $X_{D2a} - X_{C1a}$ projected to $n_{C2a}$ must be equal to $d$\n",
    " - the size of the vector $X_{C2a} - X_{D1a}$ projected to $n_{C2a}$ must be equal to $d$\n",
    " "
   ]
  },
  {
   "cell_type": "markdown",
   "id": "c7512414",
   "metadata": {},
   "source": [
    "This means\n",
    " -  $ \\| T_{Cab}(\\alpha_C) n_{C2a}$ $T_{Dcd}(\\alpha_D) n_{D1c} \\epsilon_{ebd} \\| = 0$\n",
    " - $v_{D1a} = (X_{Ca} + T_{Cab}(\\alpha_C) x_{C2a} ) - (X_{Da} + T_{Dab}(\\alpha_D) x_{D1a})$, and $\\| v_{D1b} T_{Dab} n_{Da} \\| = d$\n",
    " - $v_{C1a} = (X_{Da} + T_{Dab}(\\alpha_D) x_{D2a} ) - (X_{Ca} + T_{Cab}(\\alpha_C) x_{C1a})$, and $\\| v_{C1b} T_{Cab} n_{Ca} \\| = d$\n",
    "\n",
    "   "
   ]
  },
  {
   "cell_type": "markdown",
   "id": "46016844",
   "metadata": {},
   "source": [
    "A simpler expression is\n",
    "Define the line vectors based on the normals as\n",
    "$$\n",
    "v_{Cfa} = [n_{Cf1}, -n_{Cf0}]\n",
    "$$\n",
    "$$\n",
    " T_{Ca} + s_C v_{C2a}\n",
    "$$"
   ]
  },
  {
   "cell_type": "markdown",
   "id": "17a522de",
   "metadata": {},
   "source": [
    "## Derive the translation and rotation of a neighbor cell \n",
    "\n",
    "Introduce the variables"
   ]
  },
  {
   "cell_type": "code",
   "execution_count": 28,
   "id": "0015256e",
   "metadata": {},
   "outputs": [
    {
     "data": {
      "image/png": "[encoded data removed]",
      "text/latex": [
       "$\\displaystyle \\left( X_{C1}, \\  X_{C2}, \\  X_{D1}, \\  X_{D2}\\right)$"
      ],
      "text/plain": [
       "(X_C1, X_C2, X_D1, X_D2)"
      ]
     },
     "execution_count": 28,
     "metadata": {},
     "output_type": "execute_result"
    }
   ],
   "source": [
    "from sympy import symbols, Matrix, cos, sin, solve, Eq\n",
    "\n",
    "# Define symbols\n",
    "alpha_C, d_alpha_D = symbols('alpha_C d_alpha_D')\n",
    "alpha_D = alpha_C + d_alpha_D\n",
    "\n",
    "X_C = Matrix(symbols('X_C1, X_C2'))\n",
    "X_D = Matrix(symbols('X_D1, X_D2'))\n",
    "x_Cb = Matrix(symbols('x_Cb1, x_Cb2'))\n",
    "x_Ct = Matrix(symbols('x_Ct1, x_Ct2'))\n",
    "x_Db = Matrix(symbols('x_Db1, x_Db2'))\n",
    "x_Dt = Matrix(symbols('x_Dt1, x_Dt2'))\n",
    "n_Cb = Matrix(symbols('n_Cb1, n_Cb2'))\n",
    "n_Ct = Matrix(symbols('n_Ct1, n_Ct2'))\n",
    "n_Db = Matrix(symbols('n_Db1, n_Db2'))\n",
    "n_Dt = Matrix(symbols('n_Dt1, n_Dt2'))\n",
    "\n",
    "sp_vars = (alpha_C, X_C, x_Cb, x_Ct, x_Db, x_Dt, n_Cb, n_Ct, n_Db, n_Dt)\n",
    "\n",
    "X_C1, X_C2 = X_C\n",
    "X_D1, X_D2 = X_D\n",
    "X_C1, X_C2, X_D1, X_D2"
   ]
  },
  {
   "cell_type": "markdown",
   "id": "4b2e5b56",
   "metadata": {},
   "source": [
    "Symbols needed to determine the position in $x$ direction"
   ]
  },
  {
   "cell_type": "code",
   "execution_count": 29,
   "id": "cee73ebf",
   "metadata": {},
   "outputs": [
    {
     "data": {
      "image/png": "[encoded data removed]",
      "text/latex": [
       "$\\displaystyle \\left( X_{C0}, \\  X_{D0}, \\  \\left[\\begin{matrix}X_{C0}\\\\X_{C1}\\\\X_{C2}\\end{matrix}\\right], \\  \\left[\\begin{matrix}X_{D0}\\\\X_{D1}\\\\X_{D2}\\end{matrix}\\right]\\right)$"
      ],
      "text/plain": [
       "⎛            ⎡X_C0⎤  ⎡X_D0⎤⎞\n",
       "⎜            ⎢    ⎥  ⎢    ⎥⎟\n",
       "⎜X_C0, X_D0, ⎢X_C1⎥, ⎢X_D1⎥⎟\n",
       "⎜            ⎢    ⎥  ⎢    ⎥⎟\n",
       "⎝            ⎣X_C2⎦  ⎣X_D2⎦⎠"
      ]
     },
     "execution_count": 29,
     "metadata": {},
     "output_type": "execute_result"
    }
   ],
   "source": [
    "X_C0 = symbols('X_C0')\n",
    "X_D0 = symbols('X_D0')\n",
    "X3_C = Matrix([X_C0, X_C1, X_C2])\n",
    "X3_D = Matrix([X_D0, X_D1, X_D2])\n",
    "X_C0, X_D0, X3_C, X3_D"
   ]
  },
  {
   "cell_type": "code",
   "execution_count": 30,
   "id": "3b17ff37",
   "metadata": {},
   "outputs": [
    {
     "data": {
      "image/png": "[encoded data removed]",
      "text/latex": [
       "$\\displaystyle \\left( \\left[\\begin{matrix}\\cos{\\left(\\alpha_{C} \\right)} & \\sin{\\left(\\alpha_{C} \\right)}\\\\- \\sin{\\left(\\alpha_{C} \\right)} & \\cos{\\left(\\alpha_{C} \\right)}\\end{matrix}\\right], \\  \\left[\\begin{matrix}\\cos{\\left(\\alpha_{C} + d_{\\alpha D} \\right)} & \\sin{\\left(\\alpha_{C} + d_{\\alpha D} \\right)}\\\\- \\sin{\\left(\\alpha_{C} + d_{\\alpha D} \\right)} & \\cos{\\left(\\alpha_{C} + d_{\\alpha D} \\right)}\\end{matrix}\\right]\\right)$"
      ],
      "text/plain": [
       "⎛⎡cos(α_C)   sin(α_C)⎤  ⎡cos(α_C + d_α_D)   sin(α_C + d_α_D)⎤⎞\n",
       "⎜⎢                   ⎥, ⎢                                   ⎥⎟\n",
       "⎝⎣-sin(α_C)  cos(α_C)⎦  ⎣-sin(α_C + d_α_D)  cos(α_C + d_α_D)⎦⎠"
      ]
     },
     "execution_count": 30,
     "metadata": {},
     "output_type": "execute_result"
    }
   ],
   "source": [
    "# Rotation matrices\n",
    "T_C = Matrix([[cos(alpha_C), -sin(alpha_C)], [sin(alpha_C), cos(alpha_C)]]).T\n",
    "T_D = Matrix([[cos(alpha_D), -sin(alpha_D)], [sin(alpha_D), cos(alpha_D)]]).T\n",
    "\n",
    "T_C, T_D    \n"
   ]
  },
  {
   "cell_type": "markdown",
   "id": "bdf63e8b",
   "metadata": {},
   "source": [
    "### Criterion 1:\n",
    "\n",
    "Rotation between the neighbor cells\n",
    "Calculate the angle between the normal vectors on the planes that interlock. This means the opposite planes"
   ]
  },
  {
   "cell_type": "code",
   "execution_count": 31,
   "id": "e4af4cb6",
   "metadata": {},
   "outputs": [
    {
     "data": {
      "image/png": "[encoded data removed]",
      "text/latex": [
       "$\\displaystyle \\left( \\operatorname{acos}{\\left(\\frac{n_{Cb1} n_{Dt1} + n_{Cb2} n_{Dt2}}{\\sqrt{\\left|{n_{Cb1}}\\right|^{2} + \\left|{n_{Cb2}}\\right|^{2}} \\sqrt{\\left|{n_{Dt1}}\\right|^{2} + \\left|{n_{Dt2}}\\right|^{2}}} \\right)}, \\  \\left\\{n_{Cb1}, n_{Cb2}, n_{Dt1}, n_{Dt2}\\right\\}\\right)$"
      ],
      "text/plain": [
       "⎛    ⎛            n_Cb1⋅n_Dt1 + n_Cb2⋅n_Dt2            ⎞                       ↪\n",
       "⎜acos⎜─────────────────────────────────────────────────⎟, {n_Cb1, n_Cb2, n_Dt1 ↪\n",
       "⎜    ⎜   _____________________    _____________________⎟                       ↪\n",
       "⎜    ⎜  ╱        2          2    ╱        2          2 ⎟                       ↪\n",
       "⎝    ⎝╲╱  │n_Cb1│  + │n_Cb2│  ⋅╲╱  │n_Dt1│  + │n_Dt2│  ⎠                       ↪\n",
       "\n",
       "↪         ⎞\n",
       "↪ , n_Dt2}⎟\n",
       "↪         ⎟\n",
       "↪         ⎟\n",
       "↪         ⎠"
      ]
     },
     "execution_count": 31,
     "metadata": {},
     "output_type": "execute_result"
    }
   ],
   "source": [
    "n_Cb_unit = n_Cb / n_Cb.norm()\n",
    "n_Dt_unit = n_Dt / n_Dt.norm()\n",
    "\n",
    "# Calculate dot product of n_Cb_global and n_Db_global\n",
    "dot_product = n_Cb_unit.dot(n_Dt_unit)\n",
    "\n",
    "# Check if dot product is equal to product of magnitudes    \n",
    "d_alpha_D_solved = sp.simplify(sp.acos(dot_product))\n",
    "d_alpha_D_solved, d_alpha_D_solved.free_symbols"
   ]
  },
  {
   "cell_type": "markdown",
   "id": "5a90260a",
   "metadata": {},
   "source": [
    "### Criterion 2: \n",
    "\n",
    "The point X_D1 must be on the line running through X_C2 orthogonal to n_Ct"
   ]
  },
  {
   "cell_type": "code",
   "execution_count": 32,
   "id": "5b3824ed",
   "metadata": {},
   "outputs": [
    {
     "data": {
      "image/png": "[encoded data removed]",
      "text/latex": [
       "$\\displaystyle - \\left(n_{Ct1} \\sin{\\left(\\alpha_{C} \\right)} - n_{Ct2} \\cos{\\left(\\alpha_{C} \\right)}\\right) \\left(X_{C2} - X_{D2} - x_{Ct1} \\sin{\\left(\\alpha_{C} \\right)} + x_{Ct2} \\cos{\\left(\\alpha_{C} \\right)} + x_{Db1} \\sin{\\left(\\alpha_{C} + d_{\\alpha D} \\right)} - x_{Db2} \\cos{\\left(\\alpha_{C} + d_{\\alpha D} \\right)}\\right) + \\left(n_{Ct1} \\cos{\\left(\\alpha_{C} \\right)} + n_{Ct2} \\sin{\\left(\\alpha_{C} \\right)}\\right) \\left(X_{C1} - X_{D1} + x_{Ct1} \\cos{\\left(\\alpha_{C} \\right)} + x_{Ct2} \\sin{\\left(\\alpha_{C} \\right)} - x_{Db1} \\cos{\\left(\\alpha_{C} + d_{\\alpha D} \\right)} - x_{Db2} \\sin{\\left(\\alpha_{C} + d_{\\alpha D} \\right)}\\right) = 0$"
      ],
      "text/plain": [
       "-(n_Ct1⋅sin(α_C) - n_Ct2⋅cos(α_C))⋅(X_C2 - X_D2 - x_Ct1⋅sin(α_C) + x_Ct2⋅cos(α ↪\n",
       "\n",
       "↪ _C) + x_Db1⋅sin(α_C + d_α_D) - x_Db2⋅cos(α_C + d_α_D)) + (n_Ct1⋅cos(α_C) + n ↪\n",
       "\n",
       "↪ _Ct2⋅sin(α_C))⋅(X_C1 - X_D1 + x_Ct1⋅cos(α_C) + x_Ct2⋅sin(α_C) - x_Db1⋅cos(α_ ↪\n",
       "\n",
       "↪ C + d_α_D) - x_Db2⋅sin(α_C + d_α_D)) = 0"
      ]
     },
     "execution_count": 32,
     "metadata": {},
     "output_type": "execute_result"
    }
   ],
   "source": [
    "X_Ct = X_C + T_C * x_Ct\n",
    "X_Db = X_D + T_D * x_Db\n",
    "\n",
    "# Calculate the vector from the top facet of C to the bottom facet of D\n",
    "V_C2 = X_Ct - X_Db \n",
    "\n",
    "# Rotated normal vector of the top facet of C\n",
    "N_C2 = T_C * n_Ct\n",
    "\n",
    "# Calculate misft at the top relative to C \n",
    "misfit_Ct = sp.simplify(V_C2.dot(N_C2)) \n",
    "criterion2 = sp.Eq( misfit_Ct, 0)\n",
    "criterion2"
   ]
  },
  {
   "cell_type": "markdown",
   "id": "12e1c7e4",
   "metadata": {},
   "source": [
    "### Criterion 3: \n",
    "\n",
    "The point X_Dt must be on the line given by the point X_Cb and \n",
    "a line perpendicular to N_Cb"
   ]
  },
  {
   "cell_type": "code",
   "execution_count": 33,
   "id": "0b89a912",
   "metadata": {},
   "outputs": [
    {
     "data": {
      "image/png": "[encoded data removed]",
      "text/latex": [
       "$\\displaystyle \\left(n_{Cb1} \\sin{\\left(\\alpha_{C} \\right)} - n_{Cb2} \\cos{\\left(\\alpha_{C} \\right)}\\right) \\left(X_{C2} - X_{D2} - x_{Cb1} \\sin{\\left(\\alpha_{C} \\right)} + x_{Cb2} \\cos{\\left(\\alpha_{C} \\right)} + x_{Dt1} \\sin{\\left(\\alpha_{C} + d_{\\alpha D} \\right)} - x_{Dt2} \\cos{\\left(\\alpha_{C} + d_{\\alpha D} \\right)}\\right) - \\left(n_{Cb1} \\cos{\\left(\\alpha_{C} \\right)} + n_{Cb2} \\sin{\\left(\\alpha_{C} \\right)}\\right) \\left(X_{C1} - X_{D1} + x_{Cb1} \\cos{\\left(\\alpha_{C} \\right)} + x_{Cb2} \\sin{\\left(\\alpha_{C} \\right)} - x_{Dt1} \\cos{\\left(\\alpha_{C} + d_{\\alpha D} \\right)} - x_{Dt2} \\sin{\\left(\\alpha_{C} + d_{\\alpha D} \\right)}\\right) = 0$"
      ],
      "text/plain": [
       "(n_Cb1⋅sin(α_C) - n_Cb2⋅cos(α_C))⋅(X_C2 - X_D2 - x_Cb1⋅sin(α_C) + x_Cb2⋅cos(α_ ↪\n",
       "\n",
       "↪ C) + x_Dt1⋅sin(α_C + d_α_D) - x_Dt2⋅cos(α_C + d_α_D)) - (n_Cb1⋅cos(α_C) + n_ ↪\n",
       "\n",
       "↪ Cb2⋅sin(α_C))⋅(X_C1 - X_D1 + x_Cb1⋅cos(α_C) + x_Cb2⋅sin(α_C) - x_Dt1⋅cos(α_C ↪\n",
       "\n",
       "↪  + d_α_D) - x_Dt2⋅sin(α_C + d_α_D)) = 0"
      ]
     },
     "execution_count": 33,
     "metadata": {},
     "output_type": "execute_result"
    }
   ],
   "source": [
    "X_Cb = X_C + T_C * x_Cb\n",
    "X_Dt = X_D + T_D * x_Dt\n",
    "V_C1 = X_Dt - X_Cb\n",
    "N_C1 = T_C * n_Cb\n",
    "misfit_Cb = sp.simplify(V_C1.dot(N_C1))\n",
    "criterion3 = sp.Eq(misfit_Cb, 0)\n",
    "criterion3.simplify()\n"
   ]
  },
  {
   "cell_type": "code",
   "execution_count": 34,
   "id": "2a52ebf8",
   "metadata": {},
   "outputs": [
    {
     "data": {
      "image/png": "[encoded data removed]",
      "text/latex": [
       "$\\displaystyle \\left\\{ X_{D1} : \\frac{X_{C1} n_{Cb1} n_{Ct2} \\sin^{2}{\\left(\\alpha_{C} \\right)} + X_{C1} n_{Cb1} n_{Ct2} \\cos^{2}{\\left(\\alpha_{C} \\right)} - X_{C1} n_{Cb2} n_{Ct1} \\sin^{2}{\\left(\\alpha_{C} \\right)} - X_{C1} n_{Cb2} n_{Ct1} \\cos^{2}{\\left(\\alpha_{C} \\right)} - n_{Cb1} n_{Ct1} x_{Cb1} \\sin^{3}{\\left(\\alpha_{C} \\right)} - n_{Cb1} n_{Ct1} x_{Cb1} \\sin{\\left(\\alpha_{C} \\right)} \\cos^{2}{\\left(\\alpha_{C} \\right)} + n_{Cb1} n_{Ct1} x_{Ct1} \\sin^{3}{\\left(\\alpha_{C} \\right)} + n_{Cb1} n_{Ct1} x_{Ct1} \\sin{\\left(\\alpha_{C} \\right)} \\cos^{2}{\\left(\\alpha_{C} \\right)} - \\frac{n_{Cb1} n_{Ct1} x_{Db1} \\left(\\sin{\\left(\\alpha_{C} - d_{\\alpha D} \\right)} + \\sin{\\left(3 \\alpha_{C} + d_{\\alpha D} \\right)}\\right)}{4} - n_{Cb1} n_{Ct1} x_{Db1} \\sin^{2}{\\left(\\alpha_{C} \\right)} \\sin{\\left(\\alpha_{C} + d_{\\alpha D} \\right)} - \\frac{n_{Cb1} n_{Ct1} x_{Db2} \\left(\\cos{\\left(\\alpha_{C} - d_{\\alpha D} \\right)} - \\cos{\\left(3 \\alpha_{C} + d_{\\alpha D} \\right)}\\right)}{4} + n_{Cb1} n_{Ct1} x_{Db2} \\sin^{2}{\\left(\\alpha_{C} \\right)} \\cos{\\left(\\alpha_{C} + d_{\\alpha D} \\right)} + \\frac{n_{Cb1} n_{Ct1} x_{Dt1} \\left(\\sin{\\left(\\alpha_{C} - d_{\\alpha D} \\right)} + \\sin{\\left(3 \\alpha_{C} + d_{\\alpha D} \\right)}\\right)}{4} + n_{Cb1} n_{Ct1} x_{Dt1} \\sin^{2}{\\left(\\alpha_{C} \\right)} \\sin{\\left(\\alpha_{C} + d_{\\alpha D} \\right)} + \\frac{n_{Cb1} n_{Ct1} x_{Dt2} \\left(\\cos{\\left(\\alpha_{C} - d_{\\alpha D} \\right)} - \\cos{\\left(3 \\alpha_{C} + d_{\\alpha D} \\right)}\\right)}{4} - n_{Cb1} n_{Ct1} x_{Dt2} \\sin^{2}{\\left(\\alpha_{C} \\right)} \\cos{\\left(\\alpha_{C} + d_{\\alpha D} \\right)} + n_{Cb1} n_{Ct2} x_{Cb1} \\sin^{2}{\\left(\\alpha_{C} \\right)} \\cos{\\left(\\alpha_{C} \\right)} + n_{Cb1} n_{Ct2} x_{Cb1} \\cos^{3}{\\left(\\alpha_{C} \\right)} + n_{Cb1} n_{Ct2} x_{Ct2} \\sin^{3}{\\left(\\alpha_{C} \\right)} + n_{Cb1} n_{Ct2} x_{Ct2} \\sin{\\left(\\alpha_{C} \\right)} \\cos^{2}{\\left(\\alpha_{C} \\right)} + \\frac{n_{Cb1} n_{Ct2} x_{Db1} \\left(\\cos{\\left(\\alpha_{C} - d_{\\alpha D} \\right)} - \\cos{\\left(3 \\alpha_{C} + d_{\\alpha D} \\right)}\\right)}{4} - n_{Cb1} n_{Ct2} x_{Db1} \\sin^{2}{\\left(\\alpha_{C} \\right)} \\cos{\\left(\\alpha_{C} + d_{\\alpha D} \\right)} - \\frac{n_{Cb1} n_{Ct2} x_{Db2} \\left(\\sin{\\left(\\alpha_{C} - d_{\\alpha D} \\right)} + \\sin{\\left(3 \\alpha_{C} + d_{\\alpha D} \\right)}\\right)}{4} - n_{Cb1} n_{Ct2} x_{Db2} \\sin^{2}{\\left(\\alpha_{C} \\right)} \\sin{\\left(\\alpha_{C} + d_{\\alpha D} \\right)} - \\frac{n_{Cb1} n_{Ct2} x_{Dt1} \\left(\\cos{\\left(\\alpha_{C} - d_{\\alpha D} \\right)} - \\cos{\\left(3 \\alpha_{C} + d_{\\alpha D} \\right)}\\right)}{4} - n_{Cb1} n_{Ct2} x_{Dt1} \\cos^{2}{\\left(\\alpha_{C} \\right)} \\cos{\\left(\\alpha_{C} + d_{\\alpha D} \\right)} + \\frac{n_{Cb1} n_{Ct2} x_{Dt2} \\left(\\sin{\\left(\\alpha_{C} - d_{\\alpha D} \\right)} + \\sin{\\left(3 \\alpha_{C} + d_{\\alpha D} \\right)}\\right)}{4} - n_{Cb1} n_{Ct2} x_{Dt2} \\sin{\\left(\\alpha_{C} + d_{\\alpha D} \\right)} \\cos^{2}{\\left(\\alpha_{C} \\right)} - n_{Cb2} n_{Ct1} x_{Cb2} \\sin^{3}{\\left(\\alpha_{C} \\right)} - n_{Cb2} n_{Ct1} x_{Cb2} \\sin{\\left(\\alpha_{C} \\right)} \\cos^{2}{\\left(\\alpha_{C} \\right)} - n_{Cb2} n_{Ct1} x_{Ct1} \\sin^{2}{\\left(\\alpha_{C} \\right)} \\cos{\\left(\\alpha_{C} \\right)} - n_{Cb2} n_{Ct1} x_{Ct1} \\cos^{3}{\\left(\\alpha_{C} \\right)} + \\frac{n_{Cb2} n_{Ct1} x_{Db1} \\left(\\cos{\\left(\\alpha_{C} - d_{\\alpha D} \\right)} - \\cos{\\left(3 \\alpha_{C} + d_{\\alpha D} \\right)}\\right)}{4} + n_{Cb2} n_{Ct1} x_{Db1} \\cos^{2}{\\left(\\alpha_{C} \\right)} \\cos{\\left(\\alpha_{C} + d_{\\alpha D} \\right)} - \\frac{n_{Cb2} n_{Ct1} x_{Db2} \\left(\\sin{\\left(\\alpha_{C} - d_{\\alpha D} \\right)} + \\sin{\\left(3 \\alpha_{C} + d_{\\alpha D} \\right)}\\right)}{4} + n_{Cb2} n_{Ct1} x_{Db2} \\sin{\\left(\\alpha_{C} + d_{\\alpha D} \\right)} \\cos^{2}{\\left(\\alpha_{C} \\right)} - \\frac{n_{Cb2} n_{Ct1} x_{Dt1} \\left(\\cos{\\left(\\alpha_{C} - d_{\\alpha D} \\right)} - \\cos{\\left(3 \\alpha_{C} + d_{\\alpha D} \\right)}\\right)}{4} + n_{Cb2} n_{Ct1} x_{Dt1} \\sin^{2}{\\left(\\alpha_{C} \\right)} \\cos{\\left(\\alpha_{C} + d_{\\alpha D} \\right)} + \\frac{n_{Cb2} n_{Ct1} x_{Dt2} \\left(\\sin{\\left(\\alpha_{C} - d_{\\alpha D} \\right)} + \\sin{\\left(3 \\alpha_{C} + d_{\\alpha D} \\right)}\\right)}{4} + n_{Cb2} n_{Ct1} x_{Dt2} \\sin^{2}{\\left(\\alpha_{C} \\right)} \\sin{\\left(\\alpha_{C} + d_{\\alpha D} \\right)} + n_{Cb2} n_{Ct2} x_{Cb2} \\sin^{2}{\\left(\\alpha_{C} \\right)} \\cos{\\left(\\alpha_{C} \\right)} + n_{Cb2} n_{Ct2} x_{Cb2} \\cos^{3}{\\left(\\alpha_{C} \\right)} - n_{Cb2} n_{Ct2} x_{Ct2} \\sin^{2}{\\left(\\alpha_{C} \\right)} \\cos{\\left(\\alpha_{C} \\right)} - n_{Cb2} n_{Ct2} x_{Ct2} \\cos^{3}{\\left(\\alpha_{C} \\right)} + \\frac{n_{Cb2} n_{Ct2} x_{Db1} \\left(\\sin{\\left(\\alpha_{C} - d_{\\alpha D} \\right)} + \\sin{\\left(3 \\alpha_{C} + d_{\\alpha D} \\right)}\\right)}{4} - n_{Cb2} n_{Ct2} x_{Db1} \\sin{\\left(\\alpha_{C} + d_{\\alpha D} \\right)} \\cos^{2}{\\left(\\alpha_{C} \\right)} + \\frac{n_{Cb2} n_{Ct2} x_{Db2} \\left(\\cos{\\left(\\alpha_{C} - d_{\\alpha D} \\right)} - \\cos{\\left(3 \\alpha_{C} + d_{\\alpha D} \\right)}\\right)}{4} + n_{Cb2} n_{Ct2} x_{Db2} \\cos^{2}{\\left(\\alpha_{C} \\right)} \\cos{\\left(\\alpha_{C} + d_{\\alpha D} \\right)} - \\frac{n_{Cb2} n_{Ct2} x_{Dt1} \\left(\\sin{\\left(\\alpha_{C} - d_{\\alpha D} \\right)} + \\sin{\\left(3 \\alpha_{C} + d_{\\alpha D} \\right)}\\right)}{4} + n_{Cb2} n_{Ct2} x_{Dt1} \\sin{\\left(\\alpha_{C} + d_{\\alpha D} \\right)} \\cos^{2}{\\left(\\alpha_{C} \\right)} - \\frac{n_{Cb2} n_{Ct2} x_{Dt2} \\left(\\cos{\\left(\\alpha_{C} - d_{\\alpha D} \\right)} - \\cos{\\left(3 \\alpha_{C} + d_{\\alpha D} \\right)}\\right)}{4} - n_{Cb2} n_{Ct2} x_{Dt2} \\cos^{2}{\\left(\\alpha_{C} \\right)} \\cos{\\left(\\alpha_{C} + d_{\\alpha D} \\right)}}{n_{Cb1} n_{Ct2} - n_{Cb2} n_{Ct1}}, \\  X_{D2} : \\frac{X_{C2} n_{Cb1} n_{Ct2} \\sin^{2}{\\left(\\alpha_{C} \\right)} + X_{C2} n_{Cb1} n_{Ct2} \\cos^{2}{\\left(\\alpha_{C} \\right)} - X_{C2} n_{Cb2} n_{Ct1} \\sin^{2}{\\left(\\alpha_{C} \\right)} - X_{C2} n_{Cb2} n_{Ct1} \\cos^{2}{\\left(\\alpha_{C} \\right)} - n_{Cb1} n_{Ct1} x_{Cb1} \\sin^{2}{\\left(\\alpha_{C} \\right)} \\cos{\\left(\\alpha_{C} \\right)} - n_{Cb1} n_{Ct1} x_{Cb1} \\cos^{3}{\\left(\\alpha_{C} \\right)} + n_{Cb1} n_{Ct1} x_{Ct1} \\sin^{2}{\\left(\\alpha_{C} \\right)} \\cos{\\left(\\alpha_{C} \\right)} + n_{Cb1} n_{Ct1} x_{Ct1} \\cos^{3}{\\left(\\alpha_{C} \\right)} - \\frac{n_{Cb1} n_{Ct1} x_{Db1} \\left(\\cos{\\left(\\alpha_{C} - d_{\\alpha D} \\right)} - \\cos{\\left(3 \\alpha_{C} + d_{\\alpha D} \\right)}\\right)}{4} - n_{Cb1} n_{Ct1} x_{Db1} \\cos^{2}{\\left(\\alpha_{C} \\right)} \\cos{\\left(\\alpha_{C} + d_{\\alpha D} \\right)} + \\frac{n_{Cb1} n_{Ct1} x_{Db2} \\left(\\sin{\\left(\\alpha_{C} - d_{\\alpha D} \\right)} + \\sin{\\left(3 \\alpha_{C} + d_{\\alpha D} \\right)}\\right)}{4} - n_{Cb1} n_{Ct1} x_{Db2} \\sin{\\left(\\alpha_{C} + d_{\\alpha D} \\right)} \\cos^{2}{\\left(\\alpha_{C} \\right)} + \\frac{n_{Cb1} n_{Ct1} x_{Dt1} \\left(\\cos{\\left(\\alpha_{C} - d_{\\alpha D} \\right)} - \\cos{\\left(3 \\alpha_{C} + d_{\\alpha D} \\right)}\\right)}{4} + n_{Cb1} n_{Ct1} x_{Dt1} \\cos^{2}{\\left(\\alpha_{C} \\right)} \\cos{\\left(\\alpha_{C} + d_{\\alpha D} \\right)} - \\frac{n_{Cb1} n_{Ct1} x_{Dt2} \\left(\\sin{\\left(\\alpha_{C} - d_{\\alpha D} \\right)} + \\sin{\\left(3 \\alpha_{C} + d_{\\alpha D} \\right)}\\right)}{4} + n_{Cb1} n_{Ct1} x_{Dt2} \\sin{\\left(\\alpha_{C} + d_{\\alpha D} \\right)} \\cos^{2}{\\left(\\alpha_{C} \\right)} - n_{Cb1} n_{Ct2} x_{Cb1} \\sin^{3}{\\left(\\alpha_{C} \\right)} - n_{Cb1} n_{Ct2} x_{Cb1} \\sin{\\left(\\alpha_{C} \\right)} \\cos^{2}{\\left(\\alpha_{C} \\right)} + n_{Cb1} n_{Ct2} x_{Ct2} \\sin^{2}{\\left(\\alpha_{C} \\right)} \\cos{\\left(\\alpha_{C} \\right)} + n_{Cb1} n_{Ct2} x_{Ct2} \\cos^{3}{\\left(\\alpha_{C} \\right)} - \\frac{n_{Cb1} n_{Ct2} x_{Db1} \\left(\\sin{\\left(\\alpha_{C} - d_{\\alpha D} \\right)} + \\sin{\\left(3 \\alpha_{C} + d_{\\alpha D} \\right)}\\right)}{4} + n_{Cb1} n_{Ct2} x_{Db1} \\sin{\\left(\\alpha_{C} + d_{\\alpha D} \\right)} \\cos^{2}{\\left(\\alpha_{C} \\right)} - \\frac{n_{Cb1} n_{Ct2} x_{Db2} \\left(\\cos{\\left(\\alpha_{C} - d_{\\alpha D} \\right)} - \\cos{\\left(3 \\alpha_{C} + d_{\\alpha D} \\right)}\\right)}{4} - n_{Cb1} n_{Ct2} x_{Db2} \\cos^{2}{\\left(\\alpha_{C} \\right)} \\cos{\\left(\\alpha_{C} + d_{\\alpha D} \\right)} + \\frac{n_{Cb1} n_{Ct2} x_{Dt1} \\left(\\sin{\\left(\\alpha_{C} - d_{\\alpha D} \\right)} + \\sin{\\left(3 \\alpha_{C} + d_{\\alpha D} \\right)}\\right)}{4} + n_{Cb1} n_{Ct2} x_{Dt1} \\sin^{2}{\\left(\\alpha_{C} \\right)} \\sin{\\left(\\alpha_{C} + d_{\\alpha D} \\right)} + \\frac{n_{Cb1} n_{Ct2} x_{Dt2} \\left(\\cos{\\left(\\alpha_{C} - d_{\\alpha D} \\right)} - \\cos{\\left(3 \\alpha_{C} + d_{\\alpha D} \\right)}\\right)}{4} - n_{Cb1} n_{Ct2} x_{Dt2} \\sin^{2}{\\left(\\alpha_{C} \\right)} \\cos{\\left(\\alpha_{C} + d_{\\alpha D} \\right)} - n_{Cb2} n_{Ct1} x_{Cb2} \\sin^{2}{\\left(\\alpha_{C} \\right)} \\cos{\\left(\\alpha_{C} \\right)} - n_{Cb2} n_{Ct1} x_{Cb2} \\cos^{3}{\\left(\\alpha_{C} \\right)} + n_{Cb2} n_{Ct1} x_{Ct1} \\sin^{3}{\\left(\\alpha_{C} \\right)} + n_{Cb2} n_{Ct1} x_{Ct1} \\sin{\\left(\\alpha_{C} \\right)} \\cos^{2}{\\left(\\alpha_{C} \\right)} - \\frac{n_{Cb2} n_{Ct1} x_{Db1} \\left(\\sin{\\left(\\alpha_{C} - d_{\\alpha D} \\right)} + \\sin{\\left(3 \\alpha_{C} + d_{\\alpha D} \\right)}\\right)}{4} - n_{Cb2} n_{Ct1} x_{Db1} \\sin^{2}{\\left(\\alpha_{C} \\right)} \\sin{\\left(\\alpha_{C} + d_{\\alpha D} \\right)} - \\frac{n_{Cb2} n_{Ct1} x_{Db2} \\left(\\cos{\\left(\\alpha_{C} - d_{\\alpha D} \\right)} - \\cos{\\left(3 \\alpha_{C} + d_{\\alpha D} \\right)}\\right)}{4} + n_{Cb2} n_{Ct1} x_{Db2} \\sin^{2}{\\left(\\alpha_{C} \\right)} \\cos{\\left(\\alpha_{C} + d_{\\alpha D} \\right)} + \\frac{n_{Cb2} n_{Ct1} x_{Dt1} \\left(\\sin{\\left(\\alpha_{C} - d_{\\alpha D} \\right)} + \\sin{\\left(3 \\alpha_{C} + d_{\\alpha D} \\right)}\\right)}{4} - n_{Cb2} n_{Ct1} x_{Dt1} \\sin{\\left(\\alpha_{C} + d_{\\alpha D} \\right)} \\cos^{2}{\\left(\\alpha_{C} \\right)} + \\frac{n_{Cb2} n_{Ct1} x_{Dt2} \\left(\\cos{\\left(\\alpha_{C} - d_{\\alpha D} \\right)} - \\cos{\\left(3 \\alpha_{C} + d_{\\alpha D} \\right)}\\right)}{4} + n_{Cb2} n_{Ct1} x_{Dt2} \\cos^{2}{\\left(\\alpha_{C} \\right)} \\cos{\\left(\\alpha_{C} + d_{\\alpha D} \\right)} - n_{Cb2} n_{Ct2} x_{Cb2} \\sin^{3}{\\left(\\alpha_{C} \\right)} - n_{Cb2} n_{Ct2} x_{Cb2} \\sin{\\left(\\alpha_{C} \\right)} \\cos^{2}{\\left(\\alpha_{C} \\right)} + n_{Cb2} n_{Ct2} x_{Ct2} \\sin^{3}{\\left(\\alpha_{C} \\right)} + n_{Cb2} n_{Ct2} x_{Ct2} \\sin{\\left(\\alpha_{C} \\right)} \\cos^{2}{\\left(\\alpha_{C} \\right)} + \\frac{n_{Cb2} n_{Ct2} x_{Db1} \\left(\\cos{\\left(\\alpha_{C} - d_{\\alpha D} \\right)} - \\cos{\\left(3 \\alpha_{C} + d_{\\alpha D} \\right)}\\right)}{4} - n_{Cb2} n_{Ct2} x_{Db1} \\sin^{2}{\\left(\\alpha_{C} \\right)} \\cos{\\left(\\alpha_{C} + d_{\\alpha D} \\right)} - \\frac{n_{Cb2} n_{Ct2} x_{Db2} \\left(\\sin{\\left(\\alpha_{C} - d_{\\alpha D} \\right)} + \\sin{\\left(3 \\alpha_{C} + d_{\\alpha D} \\right)}\\right)}{4} - n_{Cb2} n_{Ct2} x_{Db2} \\sin^{2}{\\left(\\alpha_{C} \\right)} \\sin{\\left(\\alpha_{C} + d_{\\alpha D} \\right)} - \\frac{n_{Cb2} n_{Ct2} x_{Dt1} \\left(\\cos{\\left(\\alpha_{C} - d_{\\alpha D} \\right)} - \\cos{\\left(3 \\alpha_{C} + d_{\\alpha D} \\right)}\\right)}{4} + n_{Cb2} n_{Ct2} x_{Dt1} \\sin^{2}{\\left(\\alpha_{C} \\right)} \\cos{\\left(\\alpha_{C} + d_{\\alpha D} \\right)} + \\frac{n_{Cb2} n_{Ct2} x_{Dt2} \\left(\\sin{\\left(\\alpha_{C} - d_{\\alpha D} \\right)} + \\sin{\\left(3 \\alpha_{C} + d_{\\alpha D} \\right)}\\right)}{4} + n_{Cb2} n_{Ct2} x_{Dt2} \\sin^{2}{\\left(\\alpha_{C} \\right)} \\sin{\\left(\\alpha_{C} + d_{\\alpha D} \\right)}}{n_{Cb1} n_{Ct2} - n_{Cb2} n_{Ct1}}\\right\\}$"
      ],
      "text/plain": [
       "⎧                          2                            2                      ↪\n",
       "⎪      X_C1⋅n_Cb1⋅n_Ct2⋅sin (α_C) + X_C1⋅n_Cb1⋅n_Ct2⋅cos (α_C) - X_C1⋅n_Cb2⋅n_ ↪\n",
       "⎨                                                                              ↪\n",
       "⎪X_D1: ─────────────────────────────────────────────────────────────────────── ↪\n",
       "⎩                                                                              ↪\n",
       "\n",
       "↪        2                            2                             3          ↪\n",
       "↪ Ct1⋅sin (α_C) - X_C1⋅n_Cb2⋅n_Ct1⋅cos (α_C) - n_Cb1⋅n_Ct1⋅x_Cb1⋅sin (α_C) - n ↪\n",
       "↪                                                                              ↪\n",
       "↪ ──────────────────────────────────────────────────────────────────────────── ↪\n",
       "↪                                                                              ↪\n",
       "\n",
       "↪                              2                             3                 ↪\n",
       "↪ _Cb1⋅n_Ct1⋅x_Cb1⋅sin(α_C)⋅cos (α_C) + n_Cb1⋅n_Ct1⋅x_Ct1⋅sin (α_C) + n_Cb1⋅n_ ↪\n",
       "↪                                                                              ↪\n",
       "↪ ──────────────────────────────────────────────────────────────────────────── ↪\n",
       "↪                                                                              ↪\n",
       "\n",
       "↪                       2        n_Cb1⋅n_Ct1⋅x_Db1⋅(sin(α_C - d_α_D) + sin(3⋅α ↪\n",
       "↪ Ct1⋅x_Ct1⋅sin(α_C)⋅cos (α_C) - ───────────────────────────────────────────── ↪\n",
       "↪                                                            4                 ↪\n",
       "↪ ──────────────────────────────────────────────────────────────────────────── ↪\n",
       "↪                                                                              ↪\n",
       "\n",
       "↪ _C + d_α_D))                        2                         n_Cb1⋅n_Ct1⋅x_ ↪\n",
       "↪ ──────────── - n_Cb1⋅n_Ct1⋅x_Db1⋅sin (α_C)⋅sin(α_C + d_α_D) - ────────────── ↪\n",
       "↪                                                                              ↪\n",
       "↪ ──────────────────────────────────────────────────────────────────────────── ↪\n",
       "↪                                                                              ↪\n",
       "\n",
       "↪ Db2⋅(cos(α_C - d_α_D) - cos(3⋅α_C + d_α_D))                        2         ↪\n",
       "↪ ─────────────────────────────────────────── + n_Cb1⋅n_Ct1⋅x_Db2⋅sin (α_C)⋅co ↪\n",
       "↪               4                                                              ↪\n",
       "↪ ──────────────────────────────────────────────────────────────────────────── ↪\n",
       "↪                                                                              ↪\n",
       "\n",
       "↪                  n_Cb1⋅n_Ct1⋅x_Dt1⋅(sin(α_C - d_α_D) + sin(3⋅α_C + d_α_D))   ↪\n",
       "↪ s(α_C + d_α_D) + ───────────────────────────────────────────────────────── + ↪\n",
       "↪                                              4                               ↪\n",
       "↪ ──────────────────────────────────────────────────────────────────────────── ↪\n",
       "↪                                                                              ↪\n",
       "\n",
       "↪                       2                         n_Cb1⋅n_Ct1⋅x_Dt2⋅(cos(α_C - ↪\n",
       "↪  n_Cb1⋅n_Ct1⋅x_Dt1⋅sin (α_C)⋅sin(α_C + d_α_D) + ──────────────────────────── ↪\n",
       "↪                                                                              ↪\n",
       "↪ ──────────────────────────────────────────────────────────────────────────── ↪\n",
       "↪                                                                              ↪\n",
       "\n",
       "↪  d_α_D) - cos(3⋅α_C + d_α_D))                        2                       ↪\n",
       "↪ ───────────────────────────── - n_Cb1⋅n_Ct1⋅x_Dt2⋅sin (α_C)⋅cos(α_C + d_α_D) ↪\n",
       "↪ 4                                                                            ↪\n",
       "↪ ──────────────────────────────────────────────────────────────────────────── ↪\n",
       "↪                                                                              ↪\n",
       "\n",
       "↪                         2                                      3             ↪\n",
       "↪  + n_Cb1⋅n_Ct2⋅x_Cb1⋅sin (α_C)⋅cos(α_C) + n_Cb1⋅n_Ct2⋅x_Cb1⋅cos (α_C) + n_Cb ↪\n",
       "↪                                                                              ↪\n",
       "↪ ──────────────────────────────────────────────────────────────────────────── ↪\n",
       "↪                                                                              ↪\n",
       "\n",
       "↪                  3                                      2        n_Cb1⋅n_Ct2 ↪\n",
       "↪ 1⋅n_Ct2⋅x_Ct2⋅sin (α_C) + n_Cb1⋅n_Ct2⋅x_Ct2⋅sin(α_C)⋅cos (α_C) + ─────────── ↪\n",
       "↪                                                                              ↪\n",
       "↪ ──────────────────────────────────────────────────────────────────────────── ↪\n",
       "↪                                                                              ↪\n",
       "\n",
       "↪ ⋅x_Db1⋅(cos(α_C - d_α_D) - cos(3⋅α_C + d_α_D))                        2      ↪\n",
       "↪ ────────────────────────────────────────────── - n_Cb1⋅n_Ct2⋅x_Db1⋅sin (α_C) ↪\n",
       "↪                  4                                                           ↪\n",
       "↪ ──────────────────────────────────────────────────────────────────────────── ↪\n",
       "↪                                                                              ↪\n",
       "\n",
       "↪                     n_Cb1⋅n_Ct2⋅x_Db2⋅(sin(α_C - d_α_D) + sin(3⋅α_C + d_α_D) ↪\n",
       "↪ ⋅cos(α_C + d_α_D) - ──────────────────────────────────────────────────────── ↪\n",
       "↪                                                 4                            ↪\n",
       "↪ ──────────────────────────────────────────────────────────────────────────── ↪\n",
       "↪                                                                              ↪\n",
       "\n",
       "↪ )                        2                         n_Cb1⋅n_Ct2⋅x_Dt1⋅(cos(α_ ↪\n",
       "↪ ─ - n_Cb1⋅n_Ct2⋅x_Db2⋅sin (α_C)⋅sin(α_C + d_α_D) - ───────────────────────── ↪\n",
       "↪                                                                              ↪\n",
       "↪ ──────────────────────────────────────────────────────────────────────────── ↪\n",
       "↪                                                                              ↪\n",
       "\n",
       "↪ C - d_α_D) - cos(3⋅α_C + d_α_D))                        2                    ↪\n",
       "↪ ──────────────────────────────── - n_Cb1⋅n_Ct2⋅x_Dt1⋅cos (α_C)⋅cos(α_C + d_α ↪\n",
       "↪    4                                                                         ↪\n",
       "↪ ──────────────────────────────────────────────────────────────────────────── ↪\n",
       "↪                                                                              ↪\n",
       "\n",
       "↪       n_Cb1⋅n_Ct2⋅x_Dt2⋅(sin(α_C - d_α_D) + sin(3⋅α_C + d_α_D))              ↪\n",
       "↪ _D) + ───────────────────────────────────────────────────────── - n_Cb1⋅n_Ct ↪\n",
       "↪                                   4                                          ↪\n",
       "↪ ──────────────────────────────────────────────────────────────────────────── ↪\n",
       "↪                                          n_Cb1⋅n_Ct2 - n_Cb2⋅n_Ct1           ↪\n",
       "\n",
       "↪                             2                             3                  ↪\n",
       "↪ 2⋅x_Dt2⋅sin(α_C + d_α_D)⋅cos (α_C) - n_Cb2⋅n_Ct1⋅x_Cb2⋅sin (α_C) - n_Cb2⋅n_C ↪\n",
       "↪                                                                              ↪\n",
       "↪ ──────────────────────────────────────────────────────────────────────────── ↪\n",
       "↪                                                                              ↪\n",
       "\n",
       "↪                      2                             2                         ↪\n",
       "↪ t1⋅x_Cb2⋅sin(α_C)⋅cos (α_C) - n_Cb2⋅n_Ct1⋅x_Ct1⋅sin (α_C)⋅cos(α_C) - n_Cb2⋅n ↪\n",
       "↪                                                                              ↪\n",
       "↪ ──────────────────────────────────────────────────────────────────────────── ↪\n",
       "↪                                                                              ↪\n",
       "\n",
       "↪               3        n_Cb2⋅n_Ct1⋅x_Db1⋅(cos(α_C - d_α_D) - cos(3⋅α_C + d_α ↪\n",
       "↪ _Ct1⋅x_Ct1⋅cos (α_C) + ───────────────────────────────────────────────────── ↪\n",
       "↪                                                    4                         ↪\n",
       "↪ ──────────────────────────────────────────────────────────────────────────── ↪\n",
       "↪                                                                              ↪\n",
       "\n",
       "↪ _D))                        2                         n_Cb2⋅n_Ct1⋅x_Db2⋅(sin ↪\n",
       "↪ ──── + n_Cb2⋅n_Ct1⋅x_Db1⋅cos (α_C)⋅cos(α_C + d_α_D) - ────────────────────── ↪\n",
       "↪                                                                              ↪\n",
       "↪ ──────────────────────────────────────────────────────────────────────────── ↪\n",
       "↪                                                                              ↪\n",
       "\n",
       "↪ (α_C - d_α_D) + sin(3⋅α_C + d_α_D))                                          ↪\n",
       "↪ ─────────────────────────────────── + n_Cb2⋅n_Ct1⋅x_Db2⋅sin(α_C + d_α_D)⋅cos ↪\n",
       "↪       4                                                                      ↪\n",
       "↪ ──────────────────────────────────────────────────────────────────────────── ↪\n",
       "↪                                                                              ↪\n",
       "\n",
       "↪ 2        n_Cb2⋅n_Ct1⋅x_Dt1⋅(cos(α_C - d_α_D) - cos(3⋅α_C + d_α_D))           ↪\n",
       "↪  (α_C) - ───────────────────────────────────────────────────────── + n_Cb2⋅n ↪\n",
       "↪                                      4                                       ↪\n",
       "↪ ──────────────────────────────────────────────────────────────────────────── ↪\n",
       "↪                                                                              ↪\n",
       "\n",
       "↪               2                         n_Cb2⋅n_Ct1⋅x_Dt2⋅(sin(α_C - d_α_D)  ↪\n",
       "↪ _Ct1⋅x_Dt1⋅sin (α_C)⋅cos(α_C + d_α_D) + ──────────────────────────────────── ↪\n",
       "↪                                                                     4        ↪\n",
       "↪ ──────────────────────────────────────────────────────────────────────────── ↪\n",
       "↪                                                                              ↪\n",
       "\n",
       "↪ + sin(3⋅α_C + d_α_D))                        2                               ↪\n",
       "↪ ───────────────────── + n_Cb2⋅n_Ct1⋅x_Dt2⋅sin (α_C)⋅sin(α_C + d_α_D) + n_Cb2 ↪\n",
       "↪                                                                              ↪\n",
       "↪ ──────────────────────────────────────────────────────────────────────────── ↪\n",
       "↪                                                                              ↪\n",
       "\n",
       "↪                 2                                      3                     ↪\n",
       "↪ ⋅n_Ct2⋅x_Cb2⋅sin (α_C)⋅cos(α_C) + n_Cb2⋅n_Ct2⋅x_Cb2⋅cos (α_C) - n_Cb2⋅n_Ct2⋅ ↪\n",
       "↪                                                                              ↪\n",
       "↪ ──────────────────────────────────────────────────────────────────────────── ↪\n",
       "↪                                                                              ↪\n",
       "\n",
       "↪          2                                      3        n_Cb2⋅n_Ct2⋅x_Db1⋅( ↪\n",
       "↪ x_Ct2⋅sin (α_C)⋅cos(α_C) - n_Cb2⋅n_Ct2⋅x_Ct2⋅cos (α_C) + ─────────────────── ↪\n",
       "↪                                                                              ↪\n",
       "↪ ──────────────────────────────────────────────────────────────────────────── ↪\n",
       "↪                                                                              ↪\n",
       "\n",
       "↪ sin(α_C - d_α_D) + sin(3⋅α_C + d_α_D))                                       ↪\n",
       "↪ ────────────────────────────────────── - n_Cb2⋅n_Ct2⋅x_Db1⋅sin(α_C + d_α_D)⋅ ↪\n",
       "↪          4                                                                   ↪\n",
       "↪ ──────────────────────────────────────────────────────────────────────────── ↪\n",
       "↪                                                                              ↪\n",
       "\n",
       "↪    2        n_Cb2⋅n_Ct2⋅x_Db2⋅(cos(α_C - d_α_D) - cos(3⋅α_C + d_α_D))        ↪\n",
       "↪ cos (α_C) + ───────────────────────────────────────────────────────── + n_Cb ↪\n",
       "↪                                         4                                    ↪\n",
       "↪ ──────────────────────────────────────────────────────────────────────────── ↪\n",
       "↪                                                                              ↪\n",
       "\n",
       "↪                  2                         n_Cb2⋅n_Ct2⋅x_Dt1⋅(sin(α_C - d_α_ ↪\n",
       "↪ 2⋅n_Ct2⋅x_Db2⋅cos (α_C)⋅cos(α_C + d_α_D) - ───────────────────────────────── ↪\n",
       "↪                                                                        4     ↪\n",
       "↪ ──────────────────────────────────────────────────────────────────────────── ↪\n",
       "↪                                                                              ↪\n",
       "\n",
       "↪ D) + sin(3⋅α_C + d_α_D))                                         2        n_ ↪\n",
       "↪ ──────────────────────── + n_Cb2⋅n_Ct2⋅x_Dt1⋅sin(α_C + d_α_D)⋅cos (α_C) - ── ↪\n",
       "↪                                                                              ↪\n",
       "↪ ──────────────────────────────────────────────────────────────────────────── ↪\n",
       "↪                                                                              ↪\n",
       "\n",
       "↪ Cb2⋅n_Ct2⋅x_Dt2⋅(cos(α_C - d_α_D) - cos(3⋅α_C + d_α_D))                      ↪\n",
       "↪ ─────────────────────────────────────────────────────── - n_Cb2⋅n_Ct2⋅x_Dt2⋅ ↪\n",
       "↪                           4                                                  ↪\n",
       "↪ ──────────────────────────────────────────────────────────────────────────── ↪\n",
       "↪                                                                              ↪\n",
       "\n",
       "↪    2                                                  2                      ↪\n",
       "↪ cos (α_C)⋅cos(α_C + d_α_D)        X_C2⋅n_Cb1⋅n_Ct2⋅sin (α_C) + X_C2⋅n_Cb1⋅n_ ↪\n",
       "↪                                                                              ↪\n",
       "↪ ──────────────────────────, X_D2: ────────────────────────────────────────── ↪\n",
       "↪                                                                              ↪\n",
       "\n",
       "↪        2                            2                            2           ↪\n",
       "↪ Ct2⋅cos (α_C) - X_C2⋅n_Cb2⋅n_Ct1⋅sin (α_C) - X_C2⋅n_Cb2⋅n_Ct1⋅cos (α_C) - n_ ↪\n",
       "↪                                                                              ↪\n",
       "↪ ──────────────────────────────────────────────────────────────────────────── ↪\n",
       "↪                                                                              ↪\n",
       "\n",
       "↪                    2                                      3                  ↪\n",
       "↪ Cb1⋅n_Ct1⋅x_Cb1⋅sin (α_C)⋅cos(α_C) - n_Cb1⋅n_Ct1⋅x_Cb1⋅cos (α_C) + n_Cb1⋅n_C ↪\n",
       "↪                                                                              ↪\n",
       "↪ ──────────────────────────────────────────────────────────────────────────── ↪\n",
       "↪                                                                              ↪\n",
       "\n",
       "↪             2                                      3        n_Cb1⋅n_Ct1⋅x_Db ↪\n",
       "↪ t1⋅x_Ct1⋅sin (α_C)⋅cos(α_C) + n_Cb1⋅n_Ct1⋅x_Ct1⋅cos (α_C) - ──────────────── ↪\n",
       "↪                                                                              ↪\n",
       "↪ ──────────────────────────────────────────────────────────────────────────── ↪\n",
       "↪                                                                              ↪\n",
       "\n",
       "↪ 1⋅(cos(α_C - d_α_D) - cos(3⋅α_C + d_α_D))                        2           ↪\n",
       "↪ ───────────────────────────────────────── - n_Cb1⋅n_Ct1⋅x_Db1⋅cos (α_C)⋅cos( ↪\n",
       "↪             4                                                                ↪\n",
       "↪ ──────────────────────────────────────────────────────────────────────────── ↪\n",
       "↪                                                                              ↪\n",
       "\n",
       "↪                n_Cb1⋅n_Ct1⋅x_Db2⋅(sin(α_C - d_α_D) + sin(3⋅α_C + d_α_D))     ↪\n",
       "↪ α_C + d_α_D) + ───────────────────────────────────────────────────────── - n ↪\n",
       "↪                                            4                                 ↪\n",
       "↪ ──────────────────────────────────────────────────────────────────────────── ↪\n",
       "↪                                                                              ↪\n",
       "\n",
       "↪                                      2        n_Cb1⋅n_Ct1⋅x_Dt1⋅(cos(α_C - d ↪\n",
       "↪ _Cb1⋅n_Ct1⋅x_Db2⋅sin(α_C + d_α_D)⋅cos (α_C) + ────────────────────────────── ↪\n",
       "↪                                                                           4  ↪\n",
       "↪ ──────────────────────────────────────────────────────────────────────────── ↪\n",
       "↪                                                                              ↪\n",
       "\n",
       "↪ _α_D) - cos(3⋅α_C + d_α_D))                        2                         ↪\n",
       "↪ ─────────────────────────── + n_Cb1⋅n_Ct1⋅x_Dt1⋅cos (α_C)⋅cos(α_C + d_α_D) - ↪\n",
       "↪                                                                              ↪\n",
       "↪ ──────────────────────────────────────────────────────────────────────────── ↪\n",
       "↪                                                                              ↪\n",
       "\n",
       "↪  n_Cb1⋅n_Ct1⋅x_Dt2⋅(sin(α_C - d_α_D) + sin(3⋅α_C + d_α_D))                   ↪\n",
       "↪  ───────────────────────────────────────────────────────── + n_Cb1⋅n_Ct1⋅x_D ↪\n",
       "↪                              4                                               ↪\n",
       "↪ ──────────────────────────────────────────────────────────────────────────── ↪\n",
       "↪                                                                              ↪\n",
       "\n",
       "↪                        2                             3                       ↪\n",
       "↪ t2⋅sin(α_C + d_α_D)⋅cos (α_C) - n_Cb1⋅n_Ct2⋅x_Cb1⋅sin (α_C) - n_Cb1⋅n_Ct2⋅x_ ↪\n",
       "↪                                                                              ↪\n",
       "↪ ──────────────────────────────────────────────────────────────────────────── ↪\n",
       "↪                                                                              ↪\n",
       "\n",
       "↪                 2                             2                              ↪\n",
       "↪ Cb1⋅sin(α_C)⋅cos (α_C) + n_Cb1⋅n_Ct2⋅x_Ct2⋅sin (α_C)⋅cos(α_C) + n_Cb1⋅n_Ct2⋅ ↪\n",
       "↪                                                                              ↪\n",
       "↪ ──────────────────────────────────────────────────────────────────────────── ↪\n",
       "↪                                                                              ↪\n",
       "\n",
       "↪          3        n_Cb1⋅n_Ct2⋅x_Db1⋅(sin(α_C - d_α_D) + sin(3⋅α_C + d_α_D))  ↪\n",
       "↪ x_Ct2⋅cos (α_C) - ─────────────────────────────────────────────────────────  ↪\n",
       "↪                                               4                              ↪\n",
       "↪ ──────────────────────────────────────────────────────────────────────────── ↪\n",
       "↪                                                                              ↪\n",
       "\n",
       "↪                                         2        n_Cb1⋅n_Ct2⋅x_Db2⋅(cos(α_C  ↪\n",
       "↪ + n_Cb1⋅n_Ct2⋅x_Db1⋅sin(α_C + d_α_D)⋅cos (α_C) - ─────────────────────────── ↪\n",
       "↪                                                                              ↪\n",
       "↪ ──────────────────────────────────────────────────────────────────────────── ↪\n",
       "↪                                                                              ↪\n",
       "\n",
       "↪ - d_α_D) - cos(3⋅α_C + d_α_D))                        2                      ↪\n",
       "↪ ────────────────────────────── - n_Cb1⋅n_Ct2⋅x_Db2⋅cos (α_C)⋅cos(α_C + d_α_D ↪\n",
       "↪  4                                                                           ↪\n",
       "↪ ──────────────────────────────────────────────────────────────────────────── ↪\n",
       "↪                                                                              ↪\n",
       "\n",
       "↪     n_Cb1⋅n_Ct2⋅x_Dt1⋅(sin(α_C - d_α_D) + sin(3⋅α_C + d_α_D))                ↪\n",
       "↪ ) + ───────────────────────────────────────────────────────── + n_Cb1⋅n_Ct2⋅ ↪\n",
       "↪                                 4                                            ↪\n",
       "↪ ──────────────────────────────────────────────────────────────────────────── ↪\n",
       "↪                                                                              ↪\n",
       "\n",
       "↪          2                         n_Cb1⋅n_Ct2⋅x_Dt2⋅(cos(α_C - d_α_D) - cos ↪\n",
       "↪ x_Dt1⋅sin (α_C)⋅sin(α_C + d_α_D) + ───────────────────────────────────────── ↪\n",
       "↪                                                                4             ↪\n",
       "↪ ──────────────────────────────────────────────────────────────────────────── ↪\n",
       "↪                                                                       n_Cb1⋅ ↪\n",
       "\n",
       "↪ (3⋅α_C + d_α_D))                        2                                    ↪\n",
       "↪ ──────────────── - n_Cb1⋅n_Ct2⋅x_Dt2⋅sin (α_C)⋅cos(α_C + d_α_D) - n_Cb2⋅n_Ct ↪\n",
       "↪                                                                              ↪\n",
       "↪ ──────────────────────────────────────────────────────────────────────────── ↪\n",
       "↪ n_Ct2 - n_Cb2⋅n_Ct1                                                          ↪\n",
       "\n",
       "↪            2                                      3                          ↪\n",
       "↪ 1⋅x_Cb2⋅sin (α_C)⋅cos(α_C) - n_Cb2⋅n_Ct1⋅x_Cb2⋅cos (α_C) + n_Cb2⋅n_Ct1⋅x_Ct1 ↪\n",
       "↪                                                                              ↪\n",
       "↪ ──────────────────────────────────────────────────────────────────────────── ↪\n",
       "↪                                                                              ↪\n",
       "\n",
       "↪     3                                      2        n_Cb2⋅n_Ct1⋅x_Db1⋅(sin(α ↪\n",
       "↪ ⋅sin (α_C) + n_Cb2⋅n_Ct1⋅x_Ct1⋅sin(α_C)⋅cos (α_C) - ──────────────────────── ↪\n",
       "↪                                                                              ↪\n",
       "↪ ──────────────────────────────────────────────────────────────────────────── ↪\n",
       "↪                                                                              ↪\n",
       "\n",
       "↪ _C - d_α_D) + sin(3⋅α_C + d_α_D))                        2                   ↪\n",
       "↪ ───────────────────────────────── - n_Cb2⋅n_Ct1⋅x_Db1⋅sin (α_C)⋅sin(α_C + d_ ↪\n",
       "↪     4                                                                        ↪\n",
       "↪ ──────────────────────────────────────────────────────────────────────────── ↪\n",
       "↪                                                                              ↪\n",
       "\n",
       "↪        n_Cb2⋅n_Ct1⋅x_Db2⋅(cos(α_C - d_α_D) - cos(3⋅α_C + d_α_D))             ↪\n",
       "↪ α_D) - ───────────────────────────────────────────────────────── + n_Cb2⋅n_C ↪\n",
       "↪                                    4                                         ↪\n",
       "↪ ──────────────────────────────────────────────────────────────────────────── ↪\n",
       "↪                                                                              ↪\n",
       "\n",
       "↪             2                         n_Cb2⋅n_Ct1⋅x_Dt1⋅(sin(α_C - d_α_D) +  ↪\n",
       "↪ t1⋅x_Db2⋅sin (α_C)⋅cos(α_C + d_α_D) + ────────────────────────────────────── ↪\n",
       "↪                                                                   4          ↪\n",
       "↪ ──────────────────────────────────────────────────────────────────────────── ↪\n",
       "↪                                                                              ↪\n",
       "\n",
       "↪ sin(3⋅α_C + d_α_D))                                         2        n_Cb2⋅n ↪\n",
       "↪ ─────────────────── - n_Cb2⋅n_Ct1⋅x_Dt1⋅sin(α_C + d_α_D)⋅cos (α_C) + ─────── ↪\n",
       "↪                                                                              ↪\n",
       "↪ ──────────────────────────────────────────────────────────────────────────── ↪\n",
       "↪                                                                              ↪\n",
       "\n",
       "↪ _Ct1⋅x_Dt2⋅(cos(α_C - d_α_D) - cos(3⋅α_C + d_α_D))                        2  ↪\n",
       "↪ ────────────────────────────────────────────────── + n_Cb2⋅n_Ct1⋅x_Dt2⋅cos ( ↪\n",
       "↪                      4                                                       ↪\n",
       "↪ ──────────────────────────────────────────────────────────────────────────── ↪\n",
       "↪                                                                              ↪\n",
       "\n",
       "↪                                              3                               ↪\n",
       "↪ α_C)⋅cos(α_C + d_α_D) - n_Cb2⋅n_Ct2⋅x_Cb2⋅sin (α_C) - n_Cb2⋅n_Ct2⋅x_Cb2⋅sin( ↪\n",
       "↪                                                                              ↪\n",
       "↪ ──────────────────────────────────────────────────────────────────────────── ↪\n",
       "↪                                                                              ↪\n",
       "\n",
       "↪         2                             3                                      ↪\n",
       "↪ α_C)⋅cos (α_C) + n_Cb2⋅n_Ct2⋅x_Ct2⋅sin (α_C) + n_Cb2⋅n_Ct2⋅x_Ct2⋅sin(α_C)⋅co ↪\n",
       "↪                                                                              ↪\n",
       "↪ ──────────────────────────────────────────────────────────────────────────── ↪\n",
       "↪                                                                              ↪\n",
       "\n",
       "↪  2        n_Cb2⋅n_Ct2⋅x_Db1⋅(cos(α_C - d_α_D) - cos(3⋅α_C + d_α_D))          ↪\n",
       "↪ s (α_C) + ───────────────────────────────────────────────────────── - n_Cb2⋅ ↪\n",
       "↪                                       4                                      ↪\n",
       "↪ ──────────────────────────────────────────────────────────────────────────── ↪\n",
       "↪                                                                              ↪\n",
       "\n",
       "↪                2                         n_Cb2⋅n_Ct2⋅x_Db2⋅(sin(α_C - d_α_D) ↪\n",
       "↪ n_Ct2⋅x_Db1⋅sin (α_C)⋅cos(α_C + d_α_D) - ─────────────────────────────────── ↪\n",
       "↪                                                                      4       ↪\n",
       "↪ ──────────────────────────────────────────────────────────────────────────── ↪\n",
       "↪                                                                              ↪\n",
       "\n",
       "↪  + sin(3⋅α_C + d_α_D))                        2                         n_Cb ↪\n",
       "↪ ────────────────────── - n_Cb2⋅n_Ct2⋅x_Db2⋅sin (α_C)⋅sin(α_C + d_α_D) - ──── ↪\n",
       "↪                                                                              ↪\n",
       "↪ ──────────────────────────────────────────────────────────────────────────── ↪\n",
       "↪                                                                              ↪\n",
       "\n",
       "↪ 2⋅n_Ct2⋅x_Dt1⋅(cos(α_C - d_α_D) - cos(3⋅α_C + d_α_D))                        ↪\n",
       "↪ ───────────────────────────────────────────────────── + n_Cb2⋅n_Ct2⋅x_Dt1⋅si ↪\n",
       "↪                         4                                                    ↪\n",
       "↪ ──────────────────────────────────────────────────────────────────────────── ↪\n",
       "↪                                                                              ↪\n",
       "\n",
       "↪  2                         n_Cb2⋅n_Ct2⋅x_Dt2⋅(sin(α_C - d_α_D) + sin(3⋅α_C + ↪\n",
       "↪ n (α_C)⋅cos(α_C + d_α_D) + ───────────────────────────────────────────────── ↪\n",
       "↪                                                        4                     ↪\n",
       "↪ ──────────────────────────────────────────────────────────────────────────── ↪\n",
       "↪                                                                              ↪\n",
       "\n",
       "↪  d_α_D))                        2                      ⎫\n",
       "↪ ──────── + n_Cb2⋅n_Ct2⋅x_Dt2⋅sin (α_C)⋅sin(α_C + d_α_D)⎪\n",
       "↪                                                        ⎬\n",
       "↪ ───────────────────────────────────────────────────────⎪\n",
       "↪                                                        ⎭"
      ]
     },
     "execution_count": 34,
     "metadata": {},
     "output_type": "execute_result"
    }
   ],
   "source": [
    "# Solve the system of equations\n",
    "X_D_solved = cache_solve((criterion2, criterion3), [X_D1, X_D2], \"X_D_solved\") # , recalculate=True, simplify=True)\n",
    "X_D_solved"
   ]
  },
  {
   "cell_type": "code",
   "execution_count": 35,
   "id": "c16ee57d",
   "metadata": {},
   "outputs": [],
   "source": [
    "# get_d_alpha_D = sp.lambdify(sp_vars, d_alpha_D_solved)\n",
    "get_d_alpha_D = sp.lambdify((alpha_C, X_C, n_Cb, n_Dt), d_alpha_D_solved)\n",
    "get_X_D1 = sp.lambdify(sp_vars + (d_alpha_D,), X_D_solved[X_D1])\n",
    "get_X_D2 = sp.lambdify(sp_vars + (d_alpha_D,), X_D_solved[X_D2])\n",
    "get_misfit_Ct = sp.lambdify(sp_vars + (d_alpha_D, X_D), misfit_Ct)\n",
    "get_misfit_Cb = sp.lambdify(sp_vars + (d_alpha_D, X_D), misfit_Cb)\n"
   ]
  },
  {
   "cell_type": "markdown",
   "id": "54d9678e",
   "metadata": {},
   "source": [
    "## Facets points from 3D scan"
   ]
  },
  {
   "cell_type": "code",
   "execution_count": 36,
   "id": "9ccd1f06",
   "metadata": {},
   "outputs": [],
   "source": [
    "colors = [0xff0000, 0x00ff00, 0x0000ff, 0xffff00, 0xff00ff, 0x00ffff,\n",
    "          0xff0099, 0xff9900, 0x99ff00, 0x00ff99, 0x9900ff, 0x0099ff,\n",
    "          0xff9999, 0x99ff99, 0x9999ff, 0xffff99, 0xff99ff, 0x99ffff]"
   ]
  },
  {
   "cell_type": "markdown",
   "id": "cb0ee680",
   "metadata": {},
   "source": [
    "### Define the corner map"
   ]
  },
  {
   "cell_type": "markdown",
   "id": "516f236f",
   "metadata": {},
   "source": [
    "Define an index array with the shape (2,2,2) where first two dimensions denote corners  and the last dimension stands for bottom and top facet  "
   ]
  },
  {
   "cell_type": "code",
   "execution_count": 37,
   "id": "a3e52087",
   "metadata": {},
   "outputs": [],
   "source": [
    "corner_map = np.array([[[17, 10],[15, 3], ], [[16, 10],[14, 3]]], dtype=np.int_)\n",
    "diag_corner_map = np.array([[(0, 0), (0, 1)], [(1, 0), (1, 1)]])\n",
    "\n",
    "def get_corner_f(diag_dir, y_dir):\n",
    "    diag_index = 0 if diag_dir == -1 else 1\n",
    "    y_index = 0 if y_dir == -1 else 1\n",
    "    return corner_map[tuple(diag_corner_map[diag_index][y_index])]"
   ]
  },
  {
   "cell_type": "code",
   "execution_count": 38,
   "id": "715467d6",
   "metadata": {},
   "outputs": [
    {
     "data": {
      "image/png": "[encoded data removed]",
      "text/latex": [
       "$\\displaystyle 1$"
      ],
      "text/plain": [
       "1"
      ]
     },
     "execution_count": 38,
     "metadata": {},
     "output_type": "execute_result"
    }
   ],
   "source": [
    "x_dir_ = np.array([[1, -1],[-1, 1]])\n",
    "def get_x_dir( diag_dir, y_dir):\n",
    "    return diag_dir * y_dir\n",
    "get_x_dir(-1, -1)"
   ]
  },
  {
   "cell_type": "code",
   "execution_count": 39,
   "id": "7c0fd5a7",
   "metadata": {},
   "outputs": [],
   "source": [
    "# def plug_D_into_C(wb_plugged, wb_fixed, diag_dir, y_dir, d_X_0=565):\n",
    "def plug_D_into_C(wb_plugged, wb_fixed, diag_dir, y_dir, d_X_0=569.5):\n",
    "    \"\"\"569.5\n",
    "    Plug wb_D into wb_C along the selected diagonal.\n",
    "    \"\"\"\n",
    "    side_fixed, side_plugged = np.array([1, -1]) * y_dir\n",
    "    x_Cfa = wb_fixed.O_centroids_Fa[get_corner_f(diag_dir,side_fixed),1:]\n",
    "    n_Cfa = wb_fixed.O_normals_Fa[get_corner_f(diag_dir,side_fixed),1:]\n",
    "    x_Dfa = wb_plugged.O_centroids_Fa[get_corner_f(diag_dir,side_plugged),1:]\n",
    "    n_Dfa = wb_plugged.O_normals_Fa[get_corner_f(diag_dir,side_plugged),1:]\n",
    "\n",
    "    alpha_C_ = wb_fixed.alpha\n",
    "    X_C_ = wb_fixed.X_a[1:]\n",
    "    \n",
    "    # compute alpha_d\n",
    "    d_alpha_D_n_ = y_dir * get_d_alpha_D(alpha_C_, X_C_, n_Cfa[0], n_Dfa[1])\n",
    "    \n",
    "    # compute X_D1 and X_D2 from the 2nd and 3rd criterion\n",
    "    X_D1_ = get_X_D1(alpha_C_, X_C_, x_Cfa[0], x_Cfa[1], x_Dfa[0], x_Dfa[1], n_Cfa[0], n_Cfa[1], n_Dfa[0], n_Dfa[1], d_alpha_D_n_)\n",
    "    X_D2_ = get_X_D2(alpha_C_, X_C_, x_Cfa[0], x_Cfa[1], x_Dfa[0], x_Dfa[1], n_Cfa[0], n_Cfa[1], n_Dfa[0], n_Dfa[1], d_alpha_D_n_)\n",
    "\n",
    "    X_D0_ = wb_fixed.X_a[0] + d_X_0 * get_x_dir(diag_dir, y_dir)\n",
    "    wb_plugged.alpha = alpha_C_ + d_alpha_D_n_\n",
    "    wb_plugged.X_a = [X_D0_, X_D1_, X_D2_]"
   ]
  },
  {
   "cell_type": "code",
   "execution_count": 40,
   "id": "6cfd7791",
   "metadata": {},
   "outputs": [],
   "source": [
    "def get_misfit(wb_D, wb_C, diag_dir, y_dir=1):\n",
    "    \"\"\"\n",
    "    Plug wb_D into wb_C along the diagonal diag.\n",
    "    \"\"\"\n",
    "    side_fixed, side_plugged = np.array([1, -1]) * y_dir\n",
    "    x_Cfa = wb_C.O_centroids_Fa[get_corner_f(diag_dir,side_fixed),1:]\n",
    "    n_Cfa = wb_C.O_normals_Fa[get_corner_f(diag_dir,side_fixed),1:]\n",
    "    x_Dfa = wb_D.O_centroids_Fa[get_corner_f(diag_dir,side_plugged),1:]\n",
    "    n_Dfa = wb_D.O_normals_Fa[get_corner_f(diag_dir,side_plugged),1:]\n",
    "\n",
    "    alpha_C_ = wb_C.alpha\n",
    "    d_alpha_D_ = wb_D.alpha - alpha_C_\n",
    "    X_C_ = wb_C.X_a[1:]\n",
    "    X_D_ = wb_D.X_a[1:]\n",
    "\n",
    "    misfit_Cb = get_misfit_Cb(alpha_C_, X_C_, x_Cfa[0], x_Cfa[1], x_Dfa[0], x_Dfa[1], n_Cfa[0], \n",
    "                    n_Cfa[1], n_Dfa[0], n_Dfa[1], d_alpha_D_, X_D_)\n",
    "    misfit_Ct = get_misfit_Ct(alpha_C_, X_C_, x_Cfa[0], x_Cfa[1], x_Dfa[0], x_Dfa[1], n_Cfa[0], \n",
    "                    n_Cfa[1], n_Dfa[0], n_Dfa[1], d_alpha_D_, X_D_)\n",
    "\n",
    "    return misfit_Cb, misfit_Ct\n"
   ]
  },
  {
   "cell_type": "code",
   "execution_count": 41,
   "id": "fc80ef79",
   "metadata": {},
   "outputs": [],
   "source": [
    "def plot_plugged_neighbors_yz(wb_fixed, wb_plugged, diag_dir, y_dir, ax):\n",
    "\n",
    "    side_fixed, side_plugged = np.array([1, -1]) * y_dir\n",
    "\n",
    "    x_Cfa = wb_fixed.O_centroids_Fa[get_corner_f(diag_dir,side_fixed),1:]\n",
    "    n_Cfa = wb_fixed.O_normals_Fa[get_corner_f(diag_dir,side_fixed),1:]\n",
    "    x_Dfa = wb_plugged.O_centroids_Fa[get_corner_f(diag_dir,side_plugged),1:]\n",
    "    n_Dfa = wb_plugged.O_normals_Fa[get_corner_f(diag_dir,side_plugged),1:]\n",
    "\n",
    "    scale = 50\n",
    "    x2_Cfa = x_Cfa + n_Cfa * scale\n",
    "    x2_Dfa = x_Dfa + n_Dfa * scale\n",
    "\n",
    "    nC_alf = np.einsum('lfa->alf', np.array([x_Cfa, x2_Cfa]))\n",
    "    nD_alf = np.einsum('lfa->alf', np.array([x_Dfa, x2_Dfa]))\n",
    "\n",
    "    ax.plot(*x_Cfa.T, 'o', color='blue')\n",
    "    ax.plot(*x_Dfa.T, 'o', color='green')\n",
    "\n",
    "    ax.plot(*nC_alf[:,:,0], color='orange')\n",
    "    ax.plot(*nD_alf[:,:,1], color='orange')\n",
    "\n",
    "    O_crease_lines_X_aLi = np.einsum('Lia->aiL', wb_fixed.O_crease_lines_X_Lia)\n",
    "    ax.plot(*O_crease_lines_X_aLi[1:,...], color='blue')\n",
    "    O_crease_lines_X_aLi = np.einsum('Lia->aiL', wb_plugged.O_crease_lines_X_Lia)\n",
    "    ax.plot(*O_crease_lines_X_aLi[1:,...], color='green')\n",
    "\n",
    "    ax.set_aspect('equal')\n"
   ]
  },
  {
   "cell_type": "code",
   "execution_count": 42,
   "id": "646398d5",
   "metadata": {},
   "outputs": [],
   "source": [
    "def get_slit_seq(slit_Si):\n",
    "    cell_pair_pC = cell_enum[slit_Si[:,:2]] - 1\n",
    "    from_slit_diag_p = slit_Si[:, 2]\n",
    "    from_slit_dir_p = slit_Si[:, 3]\n",
    "    return cell_pair_pC, from_slit_diag_p, from_slit_dir_p\n"
   ]
  },
  {
   "cell_type": "code",
   "execution_count": 43,
   "id": "2b45a561",
   "metadata": {},
   "outputs": [],
   "source": [
    "def plug_modules(wbs, plug_pi):\n",
    "    for wb_link, diag, dir in zip(*get_slit_seq(plug_pi)):\n",
    "        wb_fixed, wb_plugged = wbs[wb_link]\n",
    "        plug_D_into_C(wb_plugged, wb_fixed, diag, dir)\n",
    "\n",
    "def reset_modules(wbs):\n",
    "    for wb in wbs:\n",
    "        wb.alpha = 0\n",
    "        wb.X_a = [0,0,0]\n",
    "        wb.O_flip = 1\n",
    "\n",
    "def plot_modules_3D(wbs, plot, module_numbers=True, facet_numbers=False):\n",
    "    for i, wb in enumerate(wbs):\n",
    "        color = colors[i % len(colors)]\n",
    "        wb.plot_points(plot, wb.G_centroids_Fa[[14,15,16,17]], point_size=8, plot_numbers=facet_numbers)\n",
    "        wb.plot_G_facets(plot, color=color, module_numbers=module_numbers)\n",
    "\n",
    "def plot_modules_yz(wbs, ax):\n",
    "    for i, wb in enumerate(wbs):\n",
    "        G_crease_lines_X_aLi = np.einsum('Lia->aiL', wb.G_crease_lines_X_Lia)\n",
    "        ax.plot(*G_crease_lines_X_aLi[1:,...], color='black')\n",
    "    ax.set_aspect('equal')\n",
    "\n",
    "def plot_modules_xz(wbs, ax):\n",
    "    for i, wb in enumerate(wbs):\n",
    "        G_crease_lines_X_aLi = np.einsum('Lia->aiL', wb.G_crease_lines_X_Lia)\n",
    "        ax.plot(*G_crease_lines_X_aLi[[0,2],...], color='black')\n",
    "    ax.set_aspect('equal')\n"
   ]
  },
  {
   "cell_type": "markdown",
   "id": "b21bb6ad",
   "metadata": {},
   "source": [
    "### Read the scanned files for individual cells"
   ]
  },
  {
   "cell_type": "markdown",
   "id": "9690a347",
   "metadata": {},
   "source": [
    "Demonstrator series"
   ]
  },
  {
   "cell_type": "code",
   "execution_count": 44,
   "id": "dc4b4114",
   "metadata": {},
   "outputs": [],
   "source": [
    "import itertools\n",
    "\n",
    "modules = {'WB300': ('WB305_facets_points.obj', [[1, 0], [np.pi/2, np.pi/2]]),\n",
    "           'WB301': ('WB306_facets_points.obj', [[1, 0], [np.pi/2, -np.pi/2]]),\n",
    "           'WB302': ('WB307_facets_points.obj', [[1], [np.pi/2]]),\n",
    "           'WB303': ('WB308_facets_points.obj', [[1, 2], [np.pi/2, np.pi]]),\n",
    "           'WB304': ('WB309_facets_points.obj', [[0, 2], [np.pi/2, -np.pi/2]]),\n",
    "           'WB305': ('WB310_facets_points.obj', [[1, 2], [np.pi/2, np.pi]]),\n",
    "           'WB306': ('WB311_facets_points.obj', [[1], [np.pi/2]]),\n",
    "           'WB307': ('WB312_facets_points.obj', [[1], [-np.pi/2]]),\n",
    "           'WB308': ('WB305_facets_points.obj', [[1, 0], [np.pi/2, np.pi/2]]),\n",
    "           'WB309': ('WB306_facets_points.obj', [[1, 0], [np.pi/2, -np.pi/2]]),\n",
    "           }\n",
    "\n",
    "permutation = np.array(list(itertools.permutations(modules, 9)))\n",
    "permutation_05 = permutation[0]\n"
   ]
  },
  {
   "cell_type": "code",
   "execution_count": 45,
   "id": "0d6127be",
   "metadata": {},
   "outputs": [
    {
     "data": {
      "image/png": "[encoded data removed]",
      "text/latex": [
       "$\\displaystyle \\left( 3628800, \\  9\\right)$"
      ],
      "text/plain": [
       "(3628800, 9)"
      ]
     },
     "execution_count": 45,
     "metadata": {},
     "output_type": "execute_result"
    }
   ],
   "source": [
    "permutation.shape"
   ]
  },
  {
   "cell_type": "code",
   "execution_count": 46,
   "id": "5f998323",
   "metadata": {},
   "outputs": [],
   "source": [
    "# Filter and preserve order of tuple\n",
    "permutation_05 = {k: modules[k] for k in permutation_05}\n",
    "\n",
    "modules_list = [(k, *v, c) for (k, v), c in zip(permutation_05.items(), colors) ]\n",
    "\n",
    "def read_modules(modules):\n",
    "    return np.array([WBScannedCell(file_path=file, label=key,\n",
    "                                         rotate_system=rotate_system) \n",
    "        for key, file, rotate_system, _ in modules_list ], dtype=np.object_)\n",
    "cell_enum = np.arange(1,len(modules_list)+1)\n"
   ]
  },
  {
   "cell_type": "code",
   "execution_count": 47,
   "id": "b20d46dd",
   "metadata": {},
   "outputs": [
    {
     "name": "stdout",
     "output_type": "stream",
     "text": [
      "0 - WB300 - WB305_facets_points.obj\n",
      "1 - WB301 - WB306_facets_points.obj\n",
      "2 - WB302 - WB307_facets_points.obj\n",
      "3 - WB303 - WB308_facets_points.obj\n",
      "4 - WB304 - WB309_facets_points.obj\n",
      "5 - WB305 - WB310_facets_points.obj\n",
      "6 - WB306 - WB311_facets_points.obj\n",
      "7 - WB307 - WB312_facets_points.obj\n",
      "8 - WB308 - WB305_facets_points.obj\n"
     ]
    }
   ],
   "source": [
    "# first index is the diagonal direction, second index is the y direction\n",
    "# 0 - diag_dir, 1 - y_dir\n",
    "\n",
    "plug_pi = np.array([\n",
    "    [0, 1, 1, 1],\n",
    "    [0, 2, -1, 1], \n",
    "    [0, 3, 1, -1], \n",
    "    [0, 4, -1, -1], \n",
    "    [1, 5, -1, 1],\n",
    "    [1, 6, -1, -1],\n",
    "    [3, 7, -1, 1],\n",
    "    [3, 8, -1, -1],\n",
    "], dtype=np.int_)\n",
    "for idx, (key, (filename, _)) in enumerate(permutation_05.items()):\n",
    "    print(f\"{idx} - {key} - {filename}\")"
   ]
  },
  {
   "cell_type": "code",
   "execution_count": 48,
   "id": "b7748d11",
   "metadata": {},
   "outputs": [
    {
     "name": "stderr",
     "output_type": "stream",
     "text": [
      "/Users/gui/Documents/VSCode/bmcs_env/lib/python3.12/site-packages/traittypes/traittypes.py:97: UserWarning: Given trait value dtype \"float64\" does not match required type \"float32\". A coerced copy has been created.\n",
      "  warnings.warn(\n"
     ]
    },
    {
     "data": {
      "application/vnd.jupyter.widget-view+json": {
       "model_id": "192b3114833f46548912791b73e44b1c",
       "version_major": 2,
       "version_minor": 0
      },
      "text/plain": [
       "Output()"
      ]
     },
     "metadata": {},
     "output_type": "display_data"
    }
   ],
   "source": [
    "plot = k3d.plot(name='Vectors')\n",
    "wbs_05 = read_modules(modules_list)\n",
    "plug_modules(wbs_05, plug_pi[:])\n",
    "plot_modules_3D(wbs_05, plot, module_numbers=True, facet_numbers=False)\n",
    "# Display the plot and the legend side by side\n",
    "plot.display()\n",
    "\n"
   ]
  },
  {
   "cell_type": "code",
   "execution_count": 49,
   "id": "e278392a",
   "metadata": {},
   "outputs": [
    {
     "data": {
      "text/plain": [
       "array([[ 0.8378378 ,  3.81991724],\n",
       "       [-2.20465011, -1.71640471],\n",
       "       [ 6.0055419 , -7.84076702],\n",
       "       [-5.1576403 , -0.16925649]])"
      ]
     },
     "execution_count": 49,
     "metadata": {},
     "output_type": "execute_result"
    }
   ],
   "source": [
    "def get_module_misfits(wbs, slit_pi):\n",
    "    misfits_ = []\n",
    "    for wb_link, diag, dir in zip(*get_slit_seq(slit_pi)):\n",
    "        wb_fixed, wb_plugged = wbs[wb_link]\n",
    "        m1 = get_misfit(wb_plugged, wb_fixed, diag, dir)\n",
    "        misfits_.append(m1)\n",
    "\n",
    "    misfits = np.array(misfits_)\n",
    "    return misfits\n",
    "\n",
    "misfit_pi = np.array([\n",
    "    [2, 5, 1, 1], \n",
    "    [2, 7, 1, -1], \n",
    "    [4, 6, 1, 1], \n",
    "    [4, 8, 1, -1], \n",
    "])\n",
    "get_module_misfits(wbs_05, misfit_pi)"
   ]
  },
  {
   "cell_type": "code",
   "execution_count": null,
   "id": "15ec7eaf",
   "metadata": {},
   "outputs": [],
   "source": []
  },
  {
   "cell_type": "markdown",
   "id": "8a4a6c0a",
   "metadata": {},
   "source": [
    "# Running all combinations"
   ]
  },
  {
   "cell_type": "code",
   "execution_count": 50,
   "id": "db28eed7",
   "metadata": {},
   "outputs": [],
   "source": [
    "# Filter and preserve order of tuple\n",
    "misfit_tC = []\n",
    "\n",
    "n = 10  # for example, number of random samples you want\n",
    "#permutation = permutation[:10]\n",
    "\n",
    "permutation = permutation[np.random.choice(len(permutation), n, replace=False)]\n",
    "\n",
    "# get random a number n of samples\n",
    "for permutation_05 in permutation:\n",
    "    permutation_05 = {k: modules[k] for k in permutation_05}\n",
    "    modules_list = [(k, *v, c) for (k, v), c in zip(permutation_05.items(), colors) ]\n",
    "    cell_enum = np.arange(1,len(modules_list)+1)\n",
    "    wbs_05 = read_modules(modules_list)\n",
    "    plug_modules(wbs_05, plug_pi[:])\n",
    "    misfit_C = get_module_misfits(wbs_05, misfit_pi)\n",
    "    misfit_tC.append(misfit_C)\n"
   ]
  },
  {
   "cell_type": "code",
   "execution_count": 51,
   "id": "fa5cfe4b",
   "metadata": {},
   "outputs": [
    {
     "data": {
      "text/plain": [
       "(array([[ 5.92349692,  0.4834556 ],\n",
       "        [-1.53721294,  1.68670758],\n",
       "        [ 6.01824988, -0.63108775],\n",
       "        [-2.90107478, -0.9766024 ]]),\n",
       " array(['WB300', 'WB306', 'WB305', 'WB302', 'WB308', 'WB301', 'WB303',\n",
       "        'WB309', 'WB304'], dtype='<U5'),\n",
       " 3)"
      ]
     },
     "execution_count": 51,
     "metadata": {},
     "output_type": "execute_result"
    }
   ],
   "source": [
    "best_t = np.argmin(np.max(np.fabs(misfit_tC), axis=(1,2)))\n",
    "misfit_tC[best_t], permutation[best_t], best_t"
   ]
  },
  {
   "cell_type": "code",
   "execution_count": 52,
   "id": "ff6fbc65",
   "metadata": {},
   "outputs": [
    {
     "data": {
      "application/vnd.jupyter.widget-view+json": {
       "model_id": "a5a0e0fb2e474507ab8ecb1414cf608b",
       "version_major": 2,
       "version_minor": 0
      },
      "text/plain": [
       "Output()"
      ]
     },
     "metadata": {},
     "output_type": "display_data"
    }
   ],
   "source": [
    "# Plot best permutation\n",
    "index = 8108\n",
    "\n",
    "permutation = {k: modules[k] for k in permutation[best_t]}\n",
    "modules_list = [(k, *v, c) for (k, v), c in zip(permutation.items(), colors) ]\n",
    "cell_enum = np.arange(1,len(modules_list)+1)\n",
    "wbs = read_modules(modules_list)\n",
    "plug_modules(wbs, plug_pi[:])\n",
    "misfit_C = get_module_misfits(wbs, misfit_pi)\n",
    "\n",
    "plot = k3d.plot(name='Vectors')\n",
    "plot_modules_3D(wbs, plot, module_numbers=True, facet_numbers=False)\n",
    "# Display the plot and the legend side by side\n",
    "plot.display()\n"
   ]
  }
 ],
 "metadata": {
  "kernelspec": {
   "display_name": "bmcs_env",
   "language": "python",
   "name": "python3"
  },
  "language_info": {
   "codemirror_mode": {
    "name": "ipython",
    "version": 3
   },
   "file_extension": ".py",
   "mimetype": "text/x-python",
   "name": "python",
   "nbconvert_exporter": "python",
   "pygments_lexer": "ipython3",
   "version": "3.12.9"
  },
  "toc": {
   "base_numbering": 1,
   "nav_menu": {},
   "number_sections": true,
   "sideBar": true,
   "skip_h1_title": false,
   "title_cell": "Table of Contents",
   "title_sidebar": "Contents",
   "toc_cell": false,
   "toc_position": {},
   "toc_section_display": true,
   "toc_window_display": false
  }
 },
 "nbformat": 4,
 "nbformat_minor": 5
}
