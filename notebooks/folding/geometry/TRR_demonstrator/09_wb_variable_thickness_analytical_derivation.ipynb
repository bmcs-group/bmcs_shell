{
 "cells": [
  {
   "cell_type": "code",
   "execution_count": 280,
   "metadata": {},
   "outputs": [],
   "source": [
    "import pandas as pd\n",
    "import numpy as np\n",
    "from scipy.spatial import cKDTree\n",
    "import k3d\n",
    "import numpy as np\n",
    "from bmcs_shell.folding.assembly.wb_scanned_cell import WBScannedCell\n",
    "from bmcs_shell.api import WBTessellation4PEx\n",
    "from scipy.spatial import cKDTree\n",
    "import pandas as pd\n",
    "from openpyxl import load_workbook\n",
    "import sympy as sp\n",
    "from IPython.display import display\n",
    "from sympy import Eq, Symbol"
   ]
  },
  {
   "cell_type": "code",
   "execution_count": 281,
   "metadata": {},
   "outputs": [],
   "source": [
    "\n",
    "\n",
    "# Set the reference geometry to be generated from the closed form kinematics\n",
    "t_num = 15\n",
    "a_num= 1000/4\n",
    "b_num= 1615/4\n",
    "c_num= 645/4\n",
    "e_num= 286/4\n",
    "gamma_num= 0.683\n",
    "\n",
    "\n",
    "wb_shell = WBTessellation4PEx(\n",
    "                         a = a_num,\n",
    "                         b = b_num, \n",
    "                         c = c_num, \n",
    "                         e_x = e_num,\n",
    "                         gamma=gamma_num, # a value of gamma = 0.75 was estimated from normals, but a CAD comparison showed that 0.75 doesn't lead to closer geometry to the scanned \n",
    "                         n_phi_plus=2, # planned 5 \n",
    "                         n_x_plus=2,  # planned 3\n",
    "                         wireframe_width=5,\n",
    "                        ##---- Trimming function works only in WBTessellation4P ----##\n",
    "                         triW_half_cells_along_y=True,\n",
    "                         triW_half_cells_along_x=True,\n",
    "#                          align_outer_nodes_along_x=True,\n",
    ")\n",
    "# wb_shell.interact()\n",
    "orig_I_Fi = np.copy(wb_shell.I_Fi_trimmed)\n",
    "orig_X_Ia = np.copy(wb_shell.X_Ia_trimmed)"
   ]
  },
  {
   "cell_type": "markdown",
   "metadata": {},
   "source": [
    "Derivation of the crease nodes of the lower facet (-)\n",
    "\n",
    "![Crease convention and nomenclature](wb_nomenclature_analytical.png)"
   ]
  },
  {
   "cell_type": "code",
   "execution_count": 282,
   "metadata": {},
   "outputs": [],
   "source": [
    "# Define symbols\n",
    "a, b, c, e, gamma, t = sp.symbols(r'a b c e \\gamma t', real=True)\n",
    "\n",
    "alpha = sp.pi/2 - gamma\n"
   ]
  },
  {
   "cell_type": "code",
   "execution_count": 283,
   "metadata": {},
   "outputs": [],
   "source": [
    "# Substitute parameters\n",
    "subs_dict = {\n",
    "    a: a_num,\n",
    "    b: b_num,\n",
    "    c: c_num,\n",
    "    e: e_num,\n",
    "    gamma: gamma_num,\n",
    "    t: t_num,\n",
    "}\n"
   ]
  },
  {
   "cell_type": "code",
   "execution_count": 284,
   "metadata": {},
   "outputs": [
    {
     "data": {
      "text/latex": [
       "$\\displaystyle \\left[\\begin{matrix}1 & 0 & 0\\\\0 & \\cos{\\left(\\theta_{x} \\right)} & - \\sin{\\left(\\theta_{x} \\right)}\\\\0 & \\sin{\\left(\\theta_{x} \\right)} & \\cos{\\left(\\theta_{x} \\right)}\\end{matrix}\\right]$"
      ],
      "text/plain": [
       "Matrix([\n",
       "[1,            0,             0],\n",
       "[0, cos(theta_x), -sin(theta_x)],\n",
       "[0, sin(theta_x),  cos(theta_x)]])"
      ]
     },
     "execution_count": 284,
     "metadata": {},
     "output_type": "execute_result"
    }
   ],
   "source": [
    "# Known angles (alpha_x and alpha_z)\n",
    "theta_x = sp.Symbol('theta_x', real=True)\n",
    "theta_y = sp.Symbol('theta_y', real=True)  # Unknown\n",
    "theta_z = sp.Symbol('theta_z', real=True)\n",
    "\n",
    "# Trig functions\n",
    "cx = sp.cos(theta_x)\n",
    "sx = sp.sin(theta_x)\n",
    "cy = sp.cos(theta_y)\n",
    "sy = sp.sin(theta_y)\n",
    "cz = sp.cos(theta_z)\n",
    "sz = sp.sin(theta_z)\n",
    "\n",
    "# Rotation matrices\n",
    "R_x = sp.Matrix([\n",
    "    [1, 0, 0],\n",
    "    [0, cx, -sx],\n",
    "    [0, sx, cx]\n",
    "])\n",
    "R_y = sp.Matrix([\n",
    "    [cy, 0, sy],\n",
    "    [0, 1, 0],\n",
    "    [-sy, 0, cy]\n",
    "])\n",
    "R_z = sp.Matrix([\n",
    "    [cz, -sz, 0],\n",
    "    [sz, cz, 0],\n",
    "    [0, 0, 1]\n",
    "])\n",
    "\n",
    "# Full rotation matrix (Z * Y * X)\n",
    "#R = R_z @ R_y @ R_x\n",
    "R_x\n"
   ]
  },
  {
   "cell_type": "code",
   "execution_count": 285,
   "metadata": {},
   "outputs": [
    {
     "data": {
      "text/latex": [
       "$\\displaystyle x^{\\urcorner} = a + e$"
      ],
      "text/plain": [
       "Eq(x^{\\urcorner}, a + e)"
      ]
     },
     "metadata": {},
     "output_type": "display_data"
    }
   ],
   "source": [
    "x_folded = a+e\n",
    "display(Eq(sp.Symbol(r'x^{\\urcorner}'), x_folded))"
   ]
  },
  {
   "cell_type": "code",
   "execution_count": 286,
   "metadata": {},
   "outputs": [
    {
     "data": {
      "text/latex": [
       "$\\displaystyle y^{\\urcorner} = \\frac{\\sqrt{- a^{2} \\left(1 - \\sin{\\left(\\gamma \\right)}\\right)^{2} + b^{2} \\cos^{2}{\\left(\\gamma \\right)}}}{\\cos{\\left(\\gamma \\right)}}$"
      ],
      "text/plain": [
       "Eq(y^{\\urcorner}, sqrt(-a**2*(1 - sin(\\gamma))**2 + b**2*cos(\\gamma)**2)/cos(\\gamma))"
      ]
     },
     "metadata": {},
     "output_type": "display_data"
    }
   ],
   "source": [
    "y_folded = sp.sqrt((b**2*sp.cos(gamma)**2) - a**2 * (1 - sp.sin(gamma))**2) / (sp.cos(gamma))\n",
    "display(Eq(sp.Symbol(r'y^{\\urcorner}'), y_folded))"
   ]
  },
  {
   "cell_type": "code",
   "execution_count": 287,
   "metadata": {},
   "outputs": [
    {
     "data": {
      "text/latex": [
       "$\\displaystyle z^{\\urcorner} = \\frac{a \\left(1 - \\sin{\\left(\\gamma \\right)}\\right)}{\\cos{\\left(\\gamma \\right)}}$"
      ],
      "text/plain": [
       "Eq(z^{\\urcorner}, a*(1 - sin(\\gamma))/cos(\\gamma))"
      ]
     },
     "metadata": {},
     "output_type": "display_data"
    }
   ],
   "source": [
    "z_folded = (a * (1 - sp.sin(gamma))) / sp.cos(gamma)\n",
    "display(Eq(sp.Symbol(r'z^{\\urcorner}'), z_folded))"
   ]
  },
  {
   "cell_type": "code",
   "execution_count": 288,
   "metadata": {},
   "outputs": [
    {
     "data": {
      "text/latex": [
       "$\\displaystyle \\theta_{x} = \\operatorname{acos}{\\left(\\frac{- a^{2} \\left(\\sin{\\left(\\gamma \\right)} - 1\\right)^{2} + b^{2} \\cos^{2}{\\left(\\gamma \\right)} - \\left(a \\left(\\sin{\\left(\\gamma \\right)} - 1\\right) + c \\cos^{2}{\\left(\\gamma \\right)}\\right)^{2}}{\\left(- 2 a c \\sin{\\left(\\gamma \\right)} + 2 a c - b^{2} - c^{2} \\cos^{2}{\\left(\\gamma \\right)}\\right) \\cos^{2}{\\left(\\gamma \\right)}} \\right)} - \\pi$"
      ],
      "text/plain": [
       "Eq(\\theta_x, acos((-a**2*(sin(\\gamma) - 1)**2 + b**2*cos(\\gamma)**2 - (a*(sin(\\gamma) - 1) + c*cos(\\gamma)**2)**2)/((-2*a*c*sin(\\gamma) + 2*a*c - b**2 - c**2*cos(\\gamma)**2)*cos(\\gamma)**2)) - pi)"
      ]
     },
     "metadata": {},
     "output_type": "display_data"
    }
   ],
   "source": [
    "# Calculating theta to follow the curvature of the tesselation\n",
    "theta = ((z_folded - c*sp.cos(gamma))**2- y_folded**2) / ((z_folded - c*sp.cos(gamma))**2+ y_folded**2)\n",
    "theta = -sp.pi +sp.acos(theta.simplify())\n",
    "display(Eq(Symbol(r'\\theta_x'), theta, evaluate=False)) "
   ]
  },
  {
   "cell_type": "code",
   "execution_count": 289,
   "metadata": {},
   "outputs": [
    {
     "data": {
      "text/plain": [
       "-0.03208748520889472"
      ]
     },
     "execution_count": 289,
     "metadata": {},
     "output_type": "execute_result"
    }
   ],
   "source": [
    "theta_x_num = np.array(theta.subs(subs_dict)).astype(np.float64).flatten().tolist()[0]\n",
    "theta_x_num"
   ]
  },
  {
   "cell_type": "code",
   "execution_count": 290,
   "metadata": {},
   "outputs": [
    {
     "data": {
      "text/plain": [
       "{a: 250.0,\n",
       " b: 403.75,\n",
       " c: 161.25,\n",
       " e: 71.5,\n",
       " \\gamma: 0.683,\n",
       " t: 15,\n",
       " theta_x: -0.03208748520889472}"
      ]
     },
     "execution_count": 290,
     "metadata": {},
     "output_type": "execute_result"
    }
   ],
   "source": [
    "# Substitute parameters\n",
    "subs_dict = {\n",
    "    a: a_num,\n",
    "    b: b_num,\n",
    "    c: c_num,\n",
    "    e: e_num,\n",
    "    gamma: gamma_num,\n",
    "    t: t_num,\n",
    "    theta_x: theta_x_num,\n",
    "}\n",
    "\n",
    "subs_dict"
   ]
  },
  {
   "cell_type": "code",
   "execution_count": 291,
   "metadata": {},
   "outputs": [
    {
     "data": {
      "text/latex": [
       "$\\displaystyle O_{\\gamma-}^{+} = \\left[\\begin{matrix}0\\\\0\\\\0\\end{matrix}\\right]$"
      ],
      "text/plain": [
       "Eq(O_{\\gamma-}^{+}, Matrix([\n",
       "[0],\n",
       "[0],\n",
       "[0]]))"
      ]
     },
     "metadata": {},
     "output_type": "display_data"
    }
   ],
   "source": [
    "O_center_lower = sp.Matrix([0, 0, 0])\n",
    "display(Eq(Symbol(r'O_{\\gamma-}^{+}'), O_center_lower, evaluate=False))"
   ]
  },
  {
   "cell_type": "code",
   "execution_count": 292,
   "metadata": {},
   "outputs": [
    {
     "data": {
      "text/latex": [
       "$\\displaystyle C_{\\gamma-}^{\\dashv} = \\left[\\begin{matrix}e\\\\0\\\\0\\end{matrix}\\right]$"
      ],
      "text/plain": [
       "Eq(C_{\\gamma-}^{\\dashv}, Matrix([\n",
       "[e],\n",
       "[0],\n",
       "[0]]))"
      ]
     },
     "metadata": {},
     "output_type": "display_data"
    }
   ],
   "source": [
    "C_mr_lower = sp.Matrix([e, 0, 0])\n",
    "C_mr_lower\n",
    "display(Eq(Symbol(r'C_{\\gamma-}^{\\dashv}'), C_mr_lower, evaluate=False))"
   ]
  },
  {
   "cell_type": "code",
   "execution_count": 293,
   "metadata": {},
   "outputs": [
    {
     "data": {
      "text/plain": [
       "([71.5, 0.0, 0.0], array([ 7.15000000e+01,  0.00000000e+00, -3.96046176e-04]))"
      ]
     },
     "execution_count": 293,
     "metadata": {},
     "output_type": "execute_result"
    }
   ],
   "source": [
    "C_mr_lower_num = np.array(C_mr_lower.subs(subs_dict)).astype(np.float64).flatten().tolist()\n",
    "C_mr_lower_num, orig_X_Ia[0]"
   ]
  },
  {
   "cell_type": "code",
   "execution_count": 294,
   "metadata": {},
   "outputs": [
    {
     "data": {
      "text/latex": [
       "$\\displaystyle C_{\\gamma-}^{\\vdash} = \\left[\\begin{matrix}- e\\\\0\\\\0\\end{matrix}\\right]$"
      ],
      "text/plain": [
       "Eq(C_{\\gamma-}^{\\vdash}, Matrix([\n",
       "[-e],\n",
       "[ 0],\n",
       "[ 0]]))"
      ]
     },
     "metadata": {},
     "output_type": "display_data"
    }
   ],
   "source": [
    "C_ml_lower = sp.Matrix([-e, 0, 0])\n",
    "C_ml_lower\n",
    "display(Eq(Symbol(r'C_{\\gamma-}^{\\vdash}'), C_ml_lower, evaluate=False))"
   ]
  },
  {
   "cell_type": "code",
   "execution_count": 295,
   "metadata": {},
   "outputs": [
    {
     "data": {
      "text/plain": [
       "([-71.5, 0.0, 0.0], array([-7.15000000e+01,  0.00000000e+00, -3.96046176e-04]))"
      ]
     },
     "execution_count": 295,
     "metadata": {},
     "output_type": "execute_result"
    }
   ],
   "source": [
    "C_ml_lower_num = np.array(C_ml_lower.subs(subs_dict)).astype(np.float64).flatten().tolist()\n",
    "C_ml_lower_num, orig_X_Ia[1]"
   ]
  },
  {
   "cell_type": "code",
   "execution_count": 296,
   "metadata": {},
   "outputs": [
    {
     "data": {
      "text/latex": [
       "$\\displaystyle V_{\\gamma-}^{\\dashv} = \\left[\\begin{matrix}c \\sin{\\left(\\gamma \\right)} + e\\\\0\\\\c \\cos{\\left(\\gamma \\right)}\\end{matrix}\\right]$"
      ],
      "text/plain": [
       "Eq(V_{\\gamma-}^{\\dashv}, Matrix([\n",
       "[c*sin(\\gamma) + e],\n",
       "[                0],\n",
       "[    c*cos(\\gamma)]]))"
      ]
     },
     "metadata": {},
     "output_type": "display_data"
    }
   ],
   "source": [
    "V_mr_lower = sp.Matrix([e+c*sp.sin(gamma), 0, c*sp.cos(gamma)])\n",
    "display(Eq(Symbol(r'V_{\\gamma-}^{\\dashv}'), V_mr_lower, evaluate=False))"
   ]
  },
  {
   "cell_type": "code",
   "execution_count": 297,
   "metadata": {},
   "outputs": [
    {
     "data": {
      "text/plain": [
       "([173.26856909385202, 0.0, 125.07885850370505],\n",
       " array([173.26856995,   0.        , 125.07870483]))"
      ]
     },
     "execution_count": 297,
     "metadata": {},
     "output_type": "execute_result"
    }
   ],
   "source": [
    "V_mr_lower_num = np.array(V_mr_lower.subs(subs_dict)).astype(np.float64).flatten().tolist()\n",
    "V_mr_lower_num, orig_X_Ia[6]"
   ]
  },
  {
   "cell_type": "code",
   "execution_count": 298,
   "metadata": {},
   "outputs": [
    {
     "data": {
      "text/latex": [
       "$\\displaystyle V_{\\gamma-}^{\\dashv} = \\left[\\begin{matrix}- c \\sin{\\left(\\gamma \\right)} - e\\\\0\\\\c \\cos{\\left(\\gamma \\right)}\\end{matrix}\\right]$"
      ],
      "text/plain": [
       "Eq(V_{\\gamma-}^{\\dashv}, Matrix([\n",
       "[-c*sin(\\gamma) - e],\n",
       "[                 0],\n",
       "[     c*cos(\\gamma)]]))"
      ]
     },
     "metadata": {},
     "output_type": "display_data"
    }
   ],
   "source": [
    "V_ml_lower = sp.Matrix([-e-c*sp.sin(gamma), 0, c*sp.cos(gamma)])\n",
    "display(Eq(Symbol(r'V_{\\gamma-}^{\\dashv}'), V_ml_lower, evaluate=False))"
   ]
  },
  {
   "cell_type": "code",
   "execution_count": 299,
   "metadata": {},
   "outputs": [
    {
     "data": {
      "text/plain": [
       "([-173.26856909385202, 0.0, 125.07885850370505],\n",
       " array([-173.26856995,    0.        ,  125.07870483]))"
      ]
     },
     "execution_count": 299,
     "metadata": {},
     "output_type": "execute_result"
    }
   ],
   "source": [
    "V_ml_lower_num = np.array(V_ml_lower.subs(subs_dict)).astype(np.float64).flatten().tolist()\n",
    "V_ml_lower_num, orig_X_Ia[7]"
   ]
  },
  {
   "cell_type": "code",
   "execution_count": 300,
   "metadata": {},
   "outputs": [
    {
     "data": {
      "text/latex": [
       "$\\displaystyle U_{\\gamma-}^{\\urcorner} = \\left[\\begin{matrix}a + e\\\\\\frac{\\sqrt{- a^{2} \\left(1 - \\sin{\\left(\\gamma \\right)}\\right)^{2} + b^{2} \\cos^{2}{\\left(\\gamma \\right)}}}{\\cos{\\left(\\gamma \\right)}}\\\\\\frac{a \\left(1 - \\sin{\\left(\\gamma \\right)}\\right)}{\\cos{\\left(\\gamma \\right)}}\\end{matrix}\\right]$"
      ],
      "text/plain": [
       "Eq(U_{\\gamma-}^{\\urcorner}, Matrix([\n",
       "[                                                             a + e],\n",
       "[sqrt(-a**2*(1 - sin(\\gamma))**2 + b**2*cos(\\gamma)**2)/cos(\\gamma)],\n",
       "[                                   a*(1 - sin(\\gamma))/cos(\\gamma)]]))"
      ]
     },
     "metadata": {},
     "output_type": "display_data"
    }
   ],
   "source": [
    "U_ur_lower = sp.Matrix([x_folded, y_folded, z_folded])\n",
    "display(Eq(Symbol(r'U_{\\gamma-}^{\\urcorner}'), U_ur_lower, evaluate=False))"
   ]
  },
  {
   "cell_type": "code",
   "execution_count": 301,
   "metadata": {},
   "outputs": [
    {
     "data": {
      "text/plain": [
       "([321.5, 385.8493740048242, 118.88785926277468],\n",
       " array([321.5       , 385.84936523, 118.88827515]))"
      ]
     },
     "execution_count": 301,
     "metadata": {},
     "output_type": "execute_result"
    }
   ],
   "source": [
    "U_ur_lower_num = np.array(U_ur_lower.subs(subs_dict)).astype(np.float64).flatten().tolist()\n",
    "U_ur_lower_num, orig_X_Ia[2]"
   ]
  },
  {
   "cell_type": "code",
   "execution_count": 302,
   "metadata": {},
   "outputs": [
    {
     "data": {
      "text/latex": [
       "$\\displaystyle U_{\\gamma-}^{\\ulcorner} = \\left[\\begin{matrix}a + e\\\\\\frac{\\sqrt{- a^{2} \\left(1 - \\sin{\\left(\\gamma \\right)}\\right)^{2} + b^{2} \\cos^{2}{\\left(\\gamma \\right)}}}{\\cos{\\left(\\gamma \\right)}}\\\\\\frac{a \\left(1 - \\sin{\\left(\\gamma \\right)}\\right)}{\\cos{\\left(\\gamma \\right)}}\\end{matrix}\\right]$"
      ],
      "text/plain": [
       "Eq(U_{\\gamma-}^{\\ulcorner}, Matrix([\n",
       "[                                                             a + e],\n",
       "[sqrt(-a**2*(1 - sin(\\gamma))**2 + b**2*cos(\\gamma)**2)/cos(\\gamma)],\n",
       "[                                   a*(1 - sin(\\gamma))/cos(\\gamma)]]))"
      ]
     },
     "metadata": {},
     "output_type": "display_data"
    }
   ],
   "source": [
    "U_ul_lower = sp.Matrix([-x_folded, y_folded, z_folded])\n",
    "display(Eq(Symbol(r'U_{\\gamma-}^{\\ulcorner}'), U_ur_lower, evaluate=False))"
   ]
  },
  {
   "cell_type": "code",
   "execution_count": 303,
   "metadata": {},
   "outputs": [
    {
     "data": {
      "text/plain": [
       "([-321.5, 385.8493740048242, 118.88785926277468],\n",
       " array([-321.5       ,  385.84936523,  118.88827515]))"
      ]
     },
     "execution_count": 303,
     "metadata": {},
     "output_type": "execute_result"
    }
   ],
   "source": [
    "U_ul_lower_num = np.array(U_ul_lower.subs(subs_dict)).astype(np.float64).flatten().tolist()\n",
    "U_ul_lower_num, orig_X_Ia[3]"
   ]
  },
  {
   "cell_type": "code",
   "execution_count": 304,
   "metadata": {},
   "outputs": [
    {
     "data": {
      "text/latex": [
       "$\\displaystyle U_{\\gamma-}^{\\llcorner} = \\left[\\begin{matrix}- a - e\\\\- \\frac{\\sqrt{- a^{2} \\left(1 - \\sin{\\left(\\gamma \\right)}\\right)^{2} + b^{2} \\cos^{2}{\\left(\\gamma \\right)}}}{\\cos{\\left(\\gamma \\right)}}\\\\\\frac{a \\left(1 - \\sin{\\left(\\gamma \\right)}\\right)}{\\cos{\\left(\\gamma \\right)}}\\end{matrix}\\right]$"
      ],
      "text/plain": [
       "Eq(U_{\\gamma-}^{\\llcorner}, Matrix([\n",
       "[                                                             -a - e],\n",
       "[-sqrt(-a**2*(1 - sin(\\gamma))**2 + b**2*cos(\\gamma)**2)/cos(\\gamma)],\n",
       "[                                    a*(1 - sin(\\gamma))/cos(\\gamma)]]))"
      ]
     },
     "metadata": {},
     "output_type": "display_data"
    }
   ],
   "source": [
    "U_ll_lower = sp.Matrix([-x_folded, -y_folded, z_folded])\n",
    "display(Eq(Symbol(r'U_{\\gamma-}^{\\llcorner}'), U_ll_lower, evaluate=False))"
   ]
  },
  {
   "cell_type": "code",
   "execution_count": 305,
   "metadata": {},
   "outputs": [
    {
     "data": {
      "text/plain": [
       "([-321.5, -385.8493740048242, 118.88785926277468],\n",
       " array([-321.5       , -385.84936523,  118.88827515]))"
      ]
     },
     "execution_count": 305,
     "metadata": {},
     "output_type": "execute_result"
    }
   ],
   "source": [
    "U_ll_lower_num = np.array(U_ll_lower.subs(subs_dict)).astype(np.float64).flatten().tolist()\n",
    "U_ll_lower_num, orig_X_Ia[5]"
   ]
  },
  {
   "cell_type": "code",
   "execution_count": 306,
   "metadata": {},
   "outputs": [
    {
     "data": {
      "text/latex": [
       "$\\displaystyle U_{\\gamma-}^{\\llcorner} = \\left[\\begin{matrix}- a - e\\\\- \\frac{\\sqrt{- a^{2} \\left(1 - \\sin{\\left(\\gamma \\right)}\\right)^{2} + b^{2} \\cos^{2}{\\left(\\gamma \\right)}}}{\\cos{\\left(\\gamma \\right)}}\\\\\\frac{a \\left(1 - \\sin{\\left(\\gamma \\right)}\\right)}{\\cos{\\left(\\gamma \\right)}}\\end{matrix}\\right]$"
      ],
      "text/plain": [
       "Eq(U_{\\gamma-}^{\\llcorner}, Matrix([\n",
       "[                                                             -a - e],\n",
       "[-sqrt(-a**2*(1 - sin(\\gamma))**2 + b**2*cos(\\gamma)**2)/cos(\\gamma)],\n",
       "[                                    a*(1 - sin(\\gamma))/cos(\\gamma)]]))"
      ]
     },
     "metadata": {},
     "output_type": "display_data"
    }
   ],
   "source": [
    "U_lr_lower = sp.Matrix([x_folded, -y_folded, z_folded])\n",
    "display(Eq(Symbol(r'U_{\\gamma-}^{\\llcorner}'), U_ll_lower, evaluate=False))"
   ]
  },
  {
   "cell_type": "code",
   "execution_count": 307,
   "metadata": {},
   "outputs": [
    {
     "data": {
      "text/plain": [
       "([321.5, -385.8493740048242, 118.88785926277468],\n",
       " array([ 321.5       , -385.84936523,  118.88827515]))"
      ]
     },
     "execution_count": 307,
     "metadata": {},
     "output_type": "execute_result"
    }
   ],
   "source": [
    "U_lr_lower_num = np.array(U_lr_lower.subs(subs_dict)).astype(np.float64).flatten().tolist()\n",
    "U_lr_lower_num, orig_X_Ia[4]"
   ]
  },
  {
   "cell_type": "code",
   "execution_count": 308,
   "metadata": {},
   "outputs": [
    {
     "data": {
      "text/latex": [
       "$\\displaystyle \\delta_{\\theta}^{\\urcorner} = \\left[\\begin{matrix}a + c \\sin{\\left(\\gamma \\right)} + 2 e\\\\\\frac{a \\left(1 - \\sin{\\left(\\gamma \\right)}\\right) \\sin{\\left(\\theta_{x} \\right)}}{\\cos{\\left(\\gamma \\right)}} + \\frac{\\sqrt{- a^{2} \\left(1 - \\sin{\\left(\\gamma \\right)}\\right)^{2} + b^{2} \\cos^{2}{\\left(\\gamma \\right)}} \\cos{\\left(\\theta_{x} \\right)}}{\\cos{\\left(\\gamma \\right)}}\\\\- \\frac{a \\left(1 - \\sin{\\left(\\gamma \\right)}\\right) \\cos{\\left(\\theta_{x} \\right)}}{\\cos{\\left(\\gamma \\right)}} + c \\cos{\\left(\\gamma \\right)} + \\frac{\\sqrt{- a^{2} \\left(1 - \\sin{\\left(\\gamma \\right)}\\right)^{2} + b^{2} \\cos^{2}{\\left(\\gamma \\right)}} \\sin{\\left(\\theta_{x} \\right)}}{\\cos{\\left(\\gamma \\right)}}\\end{matrix}\\right]$"
      ],
      "text/plain": [
       "Eq(\\delta_{\\theta}^{\\urcorner}, Matrix([\n",
       "[                                                                                                                        a + c*sin(\\gamma) + 2*e],\n",
       "[                 a*(1 - sin(\\gamma))*sin(theta_x)/cos(\\gamma) + sqrt(-a**2*(1 - sin(\\gamma))**2 + b**2*cos(\\gamma)**2)*cos(theta_x)/cos(\\gamma)],\n",
       "[-a*(1 - sin(\\gamma))*cos(theta_x)/cos(\\gamma) + c*cos(\\gamma) + sqrt(-a**2*(1 - sin(\\gamma))**2 + b**2*cos(\\gamma)**2)*sin(theta_x)/cos(\\gamma)]]))"
      ]
     },
     "metadata": {},
     "output_type": "display_data"
    }
   ],
   "source": [
    "delta_theta_ur = V_mr_lower - R_x * U_ll_lower\n",
    "display(Eq(Symbol(r'\\delta_{\\theta}^{\\urcorner}'), delta_theta_ur, evaluate=False))"
   ]
  },
  {
   "cell_type": "code",
   "execution_count": 309,
   "metadata": {},
   "outputs": [
    {
     "data": {
      "text/latex": [
       "$\\displaystyle W_{\\gamma-}^{\\urcorner} = \\left[\\begin{matrix}a + c \\sin{\\left(\\gamma \\right)} + e\\\\\\frac{a \\left(1 - \\sin{\\left(\\gamma \\right)}\\right) \\sin{\\left(\\theta_{x} \\right)}}{\\cos{\\left(\\gamma \\right)}} + \\frac{\\sqrt{- a^{2} \\left(1 - \\sin{\\left(\\gamma \\right)}\\right)^{2} + b^{2} \\cos^{2}{\\left(\\gamma \\right)}} \\cos{\\left(\\theta_{x} \\right)}}{\\cos{\\left(\\gamma \\right)}}\\\\- \\frac{a \\left(1 - \\sin{\\left(\\gamma \\right)}\\right) \\cos{\\left(\\theta_{x} \\right)}}{\\cos{\\left(\\gamma \\right)}} + c \\cos{\\left(\\gamma \\right)} + \\frac{\\sqrt{- a^{2} \\left(1 - \\sin{\\left(\\gamma \\right)}\\right)^{2} + b^{2} \\cos^{2}{\\left(\\gamma \\right)}} \\sin{\\left(\\theta_{x} \\right)}}{\\cos{\\left(\\gamma \\right)}}\\end{matrix}\\right]$"
      ],
      "text/plain": [
       "Eq(W_{\\gamma-}^{\\urcorner}, Matrix([\n",
       "[                                                                                                                          a + c*sin(\\gamma) + e],\n",
       "[                 a*(1 - sin(\\gamma))*sin(theta_x)/cos(\\gamma) + sqrt(-a**2*(1 - sin(\\gamma))**2 + b**2*cos(\\gamma)**2)*cos(theta_x)/cos(\\gamma)],\n",
       "[-a*(1 - sin(\\gamma))*cos(theta_x)/cos(\\gamma) + c*cos(\\gamma) + sqrt(-a**2*(1 - sin(\\gamma))**2 + b**2*cos(\\gamma)**2)*sin(theta_x)/cos(\\gamma)]]))"
      ]
     },
     "metadata": {},
     "output_type": "display_data"
    }
   ],
   "source": [
    "W_ur_lower = R_x @ -C_mr_lower + delta_theta_ur\n",
    "display(Eq(Symbol(r'W_{\\gamma-}^{\\urcorner}'), W_ur_lower, evaluate=False))"
   ]
  },
  {
   "cell_type": "code",
   "execution_count": 310,
   "metadata": {},
   "outputs": [
    {
     "data": {
      "text/plain": [
       "([423.268569093852, 381.8365966624425, -6.126613749715986],\n",
       " array([-423.26856909, -381.83660889,   -6.12637281]))"
      ]
     },
     "execution_count": 310,
     "metadata": {},
     "output_type": "execute_result"
    }
   ],
   "source": [
    "W_ur_lower_num = np.array(W_ur_lower.subs(subs_dict).evalf(), dtype=float).flatten().tolist()\n",
    "W_ur_lower_num, orig_X_Ia[14]"
   ]
  },
  {
   "cell_type": "code",
   "execution_count": 311,
   "metadata": {},
   "outputs": [
    {
     "data": {
      "text/latex": [
       "$\\displaystyle W_{\\gamma-}^{\\ulcorner} = \\left[\\begin{matrix}- a - c \\sin{\\left(\\gamma \\right)} - e\\\\\\frac{a \\left(1 - \\sin{\\left(\\gamma \\right)}\\right) \\sin{\\left(\\theta_{x} \\right)}}{\\cos{\\left(\\gamma \\right)}} + \\frac{\\sqrt{- a^{2} \\left(1 - \\sin{\\left(\\gamma \\right)}\\right)^{2} + b^{2} \\cos^{2}{\\left(\\gamma \\right)}} \\cos{\\left(\\theta_{x} \\right)}}{\\cos{\\left(\\gamma \\right)}}\\\\- \\frac{a \\left(1 - \\sin{\\left(\\gamma \\right)}\\right) \\cos{\\left(\\theta_{x} \\right)}}{\\cos{\\left(\\gamma \\right)}} + c \\cos{\\left(\\gamma \\right)} + \\frac{\\sqrt{- a^{2} \\left(1 - \\sin{\\left(\\gamma \\right)}\\right)^{2} + b^{2} \\cos^{2}{\\left(\\gamma \\right)}} \\sin{\\left(\\theta_{x} \\right)}}{\\cos{\\left(\\gamma \\right)}}\\end{matrix}\\right]$"
      ],
      "text/plain": [
       "Eq(W_{\\gamma-}^{\\ulcorner}, Matrix([\n",
       "[                                                                                                                         -a - c*sin(\\gamma) - e],\n",
       "[                 a*(1 - sin(\\gamma))*sin(theta_x)/cos(\\gamma) + sqrt(-a**2*(1 - sin(\\gamma))**2 + b**2*cos(\\gamma)**2)*cos(theta_x)/cos(\\gamma)],\n",
       "[-a*(1 - sin(\\gamma))*cos(theta_x)/cos(\\gamma) + c*cos(\\gamma) + sqrt(-a**2*(1 - sin(\\gamma))**2 + b**2*cos(\\gamma)**2)*sin(theta_x)/cos(\\gamma)]]))"
      ]
     },
     "metadata": {},
     "output_type": "display_data"
    }
   ],
   "source": [
    "W_ul_lower = W_ur_lower.multiply_elementwise(sp.Matrix([-1, 1, 1]))\n",
    "display(Eq(Symbol(r'W_{\\gamma-}^{\\ulcorner}'), W_ul_lower, evaluate=False))"
   ]
  },
  {
   "cell_type": "code",
   "execution_count": 312,
   "metadata": {},
   "outputs": [
    {
     "data": {
      "text/plain": [
       "([-423.268569093852, 381.8365966624425, -6.126613749715986],\n",
       " array([-423.26856909,  381.83660889,   -6.12637281]))"
      ]
     },
     "execution_count": 312,
     "metadata": {},
     "output_type": "execute_result"
    }
   ],
   "source": [
    "W_ul_lower_num = np.array(W_ul_lower.subs(subs_dict).evalf(), dtype=float).flatten().tolist()\n",
    "W_ul_lower_num, orig_X_Ia[8]"
   ]
  },
  {
   "cell_type": "code",
   "execution_count": 313,
   "metadata": {},
   "outputs": [
    {
     "data": {
      "text/latex": [
       "$\\displaystyle W_{\\gamma-}^{\\llcorner} = \\left[\\begin{matrix}- a - c \\sin{\\left(\\gamma \\right)} - e\\\\- \\frac{a \\left(1 - \\sin{\\left(\\gamma \\right)}\\right) \\sin{\\left(\\theta_{x} \\right)}}{\\cos{\\left(\\gamma \\right)}} - \\frac{\\sqrt{- a^{2} \\left(1 - \\sin{\\left(\\gamma \\right)}\\right)^{2} + b^{2} \\cos^{2}{\\left(\\gamma \\right)}} \\cos{\\left(\\theta_{x} \\right)}}{\\cos{\\left(\\gamma \\right)}}\\\\- \\frac{a \\left(1 - \\sin{\\left(\\gamma \\right)}\\right) \\cos{\\left(\\theta_{x} \\right)}}{\\cos{\\left(\\gamma \\right)}} + c \\cos{\\left(\\gamma \\right)} + \\frac{\\sqrt{- a^{2} \\left(1 - \\sin{\\left(\\gamma \\right)}\\right)^{2} + b^{2} \\cos^{2}{\\left(\\gamma \\right)}} \\sin{\\left(\\theta_{x} \\right)}}{\\cos{\\left(\\gamma \\right)}}\\end{matrix}\\right]$"
      ],
      "text/plain": [
       "Eq(W_{\\gamma-}^{\\llcorner}, Matrix([\n",
       "[                                                                                                                         -a - c*sin(\\gamma) - e],\n",
       "[                -a*(1 - sin(\\gamma))*sin(theta_x)/cos(\\gamma) - sqrt(-a**2*(1 - sin(\\gamma))**2 + b**2*cos(\\gamma)**2)*cos(theta_x)/cos(\\gamma)],\n",
       "[-a*(1 - sin(\\gamma))*cos(theta_x)/cos(\\gamma) + c*cos(\\gamma) + sqrt(-a**2*(1 - sin(\\gamma))**2 + b**2*cos(\\gamma)**2)*sin(theta_x)/cos(\\gamma)]]))"
      ]
     },
     "metadata": {},
     "output_type": "display_data"
    }
   ],
   "source": [
    "W_ll_lower = W_ur_lower.multiply_elementwise(sp.Matrix([-1, -1, 1]))\n",
    "display(Eq(Symbol(r'W_{\\gamma-}^{\\llcorner}'), W_ll_lower, evaluate=False))"
   ]
  },
  {
   "cell_type": "code",
   "execution_count": 314,
   "metadata": {},
   "outputs": [
    {
     "data": {
      "text/plain": [
       "([-423.268569093852, -381.8365966624425, -6.126613749715986],\n",
       " array([-816.26853858,  771.30151367,  100.3218689 ]))"
      ]
     },
     "execution_count": 314,
     "metadata": {},
     "output_type": "execute_result"
    }
   ],
   "source": [
    "W_ll_lower_num = np.array(W_ll_lower.subs(subs_dict).evalf(), dtype=float).flatten().tolist()\n",
    "W_ll_lower_num, orig_X_Ia[11]"
   ]
  },
  {
   "cell_type": "code",
   "execution_count": 315,
   "metadata": {},
   "outputs": [
    {
     "data": {
      "text/latex": [
       "$\\displaystyle W_{\\gamma-}^{\\lrcorner} = \\left[\\begin{matrix}a + c \\sin{\\left(\\gamma \\right)} + e\\\\- \\frac{a \\left(1 - \\sin{\\left(\\gamma \\right)}\\right) \\sin{\\left(\\theta_{x} \\right)}}{\\cos{\\left(\\gamma \\right)}} - \\frac{\\sqrt{- a^{2} \\left(1 - \\sin{\\left(\\gamma \\right)}\\right)^{2} + b^{2} \\cos^{2}{\\left(\\gamma \\right)}} \\cos{\\left(\\theta_{x} \\right)}}{\\cos{\\left(\\gamma \\right)}}\\\\- \\frac{a \\left(1 - \\sin{\\left(\\gamma \\right)}\\right) \\cos{\\left(\\theta_{x} \\right)}}{\\cos{\\left(\\gamma \\right)}} + c \\cos{\\left(\\gamma \\right)} + \\frac{\\sqrt{- a^{2} \\left(1 - \\sin{\\left(\\gamma \\right)}\\right)^{2} + b^{2} \\cos^{2}{\\left(\\gamma \\right)}} \\sin{\\left(\\theta_{x} \\right)}}{\\cos{\\left(\\gamma \\right)}}\\end{matrix}\\right]$"
      ],
      "text/plain": [
       "Eq(W_{\\gamma-}^{\\lrcorner}, Matrix([\n",
       "[                                                                                                                          a + c*sin(\\gamma) + e],\n",
       "[                -a*(1 - sin(\\gamma))*sin(theta_x)/cos(\\gamma) - sqrt(-a**2*(1 - sin(\\gamma))**2 + b**2*cos(\\gamma)**2)*cos(theta_x)/cos(\\gamma)],\n",
       "[-a*(1 - sin(\\gamma))*cos(theta_x)/cos(\\gamma) + c*cos(\\gamma) + sqrt(-a**2*(1 - sin(\\gamma))**2 + b**2*cos(\\gamma)**2)*sin(theta_x)/cos(\\gamma)]]))"
      ]
     },
     "metadata": {},
     "output_type": "display_data"
    }
   ],
   "source": [
    "W_lr_lower = W_ur_lower.multiply_elementwise(sp.Matrix([1, -1, 1]))\n",
    "display(Eq(Symbol(r'W_{\\gamma-}^{\\lrcorner}'), W_lr_lower, evaluate=False))"
   ]
  },
  {
   "cell_type": "code",
   "execution_count": 316,
   "metadata": {},
   "outputs": [
    {
     "data": {
      "text/plain": [
       "([423.268569093852, -381.8365966624425, -6.126613749715986],\n",
       " array([-816.26853858, -771.30151367,  100.3218689 ]))"
      ]
     },
     "execution_count": 316,
     "metadata": {},
     "output_type": "execute_result"
    }
   ],
   "source": [
    "W_lr_lower_num = np.array(W_lr_lower.subs(subs_dict).evalf(), dtype=float).flatten().tolist()\n",
    "W_lr_lower_num, orig_X_Ia[17]"
   ]
  },
  {
   "cell_type": "code",
   "execution_count": 317,
   "metadata": {},
   "outputs": [
    {
     "data": {
      "text/latex": [
       "$\\displaystyle H_{\\gamma-}^{\\urcorner} = \\left[\\begin{matrix}a + c \\sin{\\left(\\gamma \\right)} + 2 e\\\\\\frac{a \\left(1 - \\sin{\\left(\\gamma \\right)}\\right) \\sin{\\left(\\theta_{x} \\right)}}{\\cos{\\left(\\gamma \\right)}} + \\frac{\\sqrt{- a^{2} \\left(1 - \\sin{\\left(\\gamma \\right)}\\right)^{2} + b^{2} \\cos^{2}{\\left(\\gamma \\right)}} \\cos{\\left(\\theta_{x} \\right)}}{\\cos{\\left(\\gamma \\right)}}\\\\- \\frac{a \\left(1 - \\sin{\\left(\\gamma \\right)}\\right) \\cos{\\left(\\theta_{x} \\right)}}{\\cos{\\left(\\gamma \\right)}} + c \\cos{\\left(\\gamma \\right)} + \\frac{\\sqrt{- a^{2} \\left(1 - \\sin{\\left(\\gamma \\right)}\\right)^{2} + b^{2} \\cos^{2}{\\left(\\gamma \\right)}} \\sin{\\left(\\theta_{x} \\right)}}{\\cos{\\left(\\gamma \\right)}}\\end{matrix}\\right]$"
      ],
      "text/plain": [
       "Eq(H_{\\gamma-}^{\\urcorner}, Matrix([\n",
       "[                                                                                                                        a + c*sin(\\gamma) + 2*e],\n",
       "[                 a*(1 - sin(\\gamma))*sin(theta_x)/cos(\\gamma) + sqrt(-a**2*(1 - sin(\\gamma))**2 + b**2*cos(\\gamma)**2)*cos(theta_x)/cos(\\gamma)],\n",
       "[-a*(1 - sin(\\gamma))*cos(theta_x)/cos(\\gamma) + c*cos(\\gamma) + sqrt(-a**2*(1 - sin(\\gamma))**2 + b**2*cos(\\gamma)**2)*sin(theta_x)/cos(\\gamma)]]))"
      ]
     },
     "metadata": {},
     "output_type": "display_data"
    }
   ],
   "source": [
    "H_ur_lower = delta_theta_ur\n",
    "display(Eq(Symbol(r'H_{\\gamma-}^{\\urcorner}'), H_ur_lower, evaluate=False))"
   ]
  },
  {
   "cell_type": "code",
   "execution_count": 318,
   "metadata": {},
   "outputs": [
    {
     "data": {
      "text/plain": [
       "([494.768569093852, 381.8365966624425, -6.126613749715986],\n",
       " array([-668.0371543 ,  385.84936523,  118.88729858]))"
      ]
     },
     "execution_count": 318,
     "metadata": {},
     "output_type": "execute_result"
    }
   ],
   "source": [
    "H_ur_lower_num = np.array(H_ur_lower.subs(subs_dict).evalf(), dtype=float).flatten().tolist()\n",
    "H_ur_lower_num, orig_X_Ia[13]"
   ]
  },
  {
   "cell_type": "code",
   "execution_count": 319,
   "metadata": {},
   "outputs": [
    {
     "data": {
      "text/latex": [
       "$\\displaystyle H_{\\gamma-}^{\\ulcorner} = \\left[\\begin{matrix}- a - c \\sin{\\left(\\gamma \\right)} - 2 e\\\\\\frac{a \\left(1 - \\sin{\\left(\\gamma \\right)}\\right) \\sin{\\left(\\theta_{x} \\right)}}{\\cos{\\left(\\gamma \\right)}} + \\frac{\\sqrt{- a^{2} \\left(1 - \\sin{\\left(\\gamma \\right)}\\right)^{2} + b^{2} \\cos^{2}{\\left(\\gamma \\right)}} \\cos{\\left(\\theta_{x} \\right)}}{\\cos{\\left(\\gamma \\right)}}\\\\- \\frac{a \\left(1 - \\sin{\\left(\\gamma \\right)}\\right) \\cos{\\left(\\theta_{x} \\right)}}{\\cos{\\left(\\gamma \\right)}} + c \\cos{\\left(\\gamma \\right)} + \\frac{\\sqrt{- a^{2} \\left(1 - \\sin{\\left(\\gamma \\right)}\\right)^{2} + b^{2} \\cos^{2}{\\left(\\gamma \\right)}} \\sin{\\left(\\theta_{x} \\right)}}{\\cos{\\left(\\gamma \\right)}}\\end{matrix}\\right]$"
      ],
      "text/plain": [
       "Eq(H_{\\gamma-}^{\\ulcorner}, Matrix([\n",
       "[                                                                                                                       -a - c*sin(\\gamma) - 2*e],\n",
       "[                 a*(1 - sin(\\gamma))*sin(theta_x)/cos(\\gamma) + sqrt(-a**2*(1 - sin(\\gamma))**2 + b**2*cos(\\gamma)**2)*cos(theta_x)/cos(\\gamma)],\n",
       "[-a*(1 - sin(\\gamma))*cos(theta_x)/cos(\\gamma) + c*cos(\\gamma) + sqrt(-a**2*(1 - sin(\\gamma))**2 + b**2*cos(\\gamma)**2)*sin(theta_x)/cos(\\gamma)]]))"
      ]
     },
     "metadata": {},
     "output_type": "display_data"
    }
   ],
   "source": [
    "H_ul_lower = delta_theta_ur.multiply_elementwise(sp.Matrix([-1, 1, 1]))\n",
    "display(Eq(Symbol(r'H_{\\gamma-}^{\\ulcorner}'), H_ul_lower, evaluate=False))"
   ]
  },
  {
   "cell_type": "code",
   "execution_count": 320,
   "metadata": {},
   "outputs": [
    {
     "data": {
      "text/plain": [
       "([-494.768569093852, 381.8365966624425, -6.126613749715986],\n",
       " array([-566.26856909,  381.83660889,   -6.12637281]))"
      ]
     },
     "execution_count": 320,
     "metadata": {},
     "output_type": "execute_result"
    }
   ],
   "source": [
    "H_ul_lower_num = np.array(H_ul_lower.subs(subs_dict).evalf(), dtype=float).flatten().tolist()\n",
    "H_ul_lower_num, orig_X_Ia[9]"
   ]
  },
  {
   "cell_type": "code",
   "execution_count": 321,
   "metadata": {},
   "outputs": [
    {
     "data": {
      "text/latex": [
       "$\\displaystyle H_{\\gamma-}^{\\llcorner} = \\left[\\begin{matrix}- a - c \\sin{\\left(\\gamma \\right)} - 2 e\\\\- \\frac{a \\left(1 - \\sin{\\left(\\gamma \\right)}\\right) \\sin{\\left(\\theta_{x} \\right)}}{\\cos{\\left(\\gamma \\right)}} - \\frac{\\sqrt{- a^{2} \\left(1 - \\sin{\\left(\\gamma \\right)}\\right)^{2} + b^{2} \\cos^{2}{\\left(\\gamma \\right)}} \\cos{\\left(\\theta_{x} \\right)}}{\\cos{\\left(\\gamma \\right)}}\\\\- \\frac{a \\left(1 - \\sin{\\left(\\gamma \\right)}\\right) \\cos{\\left(\\theta_{x} \\right)}}{\\cos{\\left(\\gamma \\right)}} + c \\cos{\\left(\\gamma \\right)} + \\frac{\\sqrt{- a^{2} \\left(1 - \\sin{\\left(\\gamma \\right)}\\right)^{2} + b^{2} \\cos^{2}{\\left(\\gamma \\right)}} \\sin{\\left(\\theta_{x} \\right)}}{\\cos{\\left(\\gamma \\right)}}\\end{matrix}\\right]$"
      ],
      "text/plain": [
       "Eq(H_{\\gamma-}^{\\llcorner}, Matrix([\n",
       "[                                                                                                                       -a - c*sin(\\gamma) - 2*e],\n",
       "[                -a*(1 - sin(\\gamma))*sin(theta_x)/cos(\\gamma) - sqrt(-a**2*(1 - sin(\\gamma))**2 + b**2*cos(\\gamma)**2)*cos(theta_x)/cos(\\gamma)],\n",
       "[-a*(1 - sin(\\gamma))*cos(theta_x)/cos(\\gamma) + c*cos(\\gamma) + sqrt(-a**2*(1 - sin(\\gamma))**2 + b**2*cos(\\gamma)**2)*sin(theta_x)/cos(\\gamma)]]))"
      ]
     },
     "metadata": {},
     "output_type": "display_data"
    }
   ],
   "source": [
    "H_ll_lower = delta_theta_ur.multiply_elementwise(sp.Matrix([-1, -1, 1]))\n",
    "display(Eq(Symbol(r'H_{\\gamma-}^{\\llcorner}'), H_ll_lower, evaluate=False))"
   ]
  },
  {
   "cell_type": "code",
   "execution_count": 322,
   "metadata": {},
   "outputs": [
    {
     "data": {
      "text/plain": [
       "([-494.768569093852, -381.8365966624425, -6.126613749715986],\n",
       " array([-8.16268539e+02, -1.52587891e-05,  1.25078705e+02]))"
      ]
     },
     "execution_count": 322,
     "metadata": {},
     "output_type": "execute_result"
    }
   ],
   "source": [
    "H_ll_lower_num = np.array(H_ll_lower.subs(subs_dict).evalf(), dtype=float).flatten().tolist()\n",
    "H_ll_lower_num, orig_X_Ia[12]"
   ]
  },
  {
   "cell_type": "code",
   "execution_count": 323,
   "metadata": {},
   "outputs": [
    {
     "data": {
      "text/latex": [
       "$\\displaystyle H_{\\gamma-}^{\\llcorner} = \\left[\\begin{matrix}a + c \\sin{\\left(\\gamma \\right)} + 2 e\\\\- \\frac{a \\left(1 - \\sin{\\left(\\gamma \\right)}\\right) \\sin{\\left(\\theta_{x} \\right)}}{\\cos{\\left(\\gamma \\right)}} - \\frac{\\sqrt{- a^{2} \\left(1 - \\sin{\\left(\\gamma \\right)}\\right)^{2} + b^{2} \\cos^{2}{\\left(\\gamma \\right)}} \\cos{\\left(\\theta_{x} \\right)}}{\\cos{\\left(\\gamma \\right)}}\\\\- \\frac{a \\left(1 - \\sin{\\left(\\gamma \\right)}\\right) \\cos{\\left(\\theta_{x} \\right)}}{\\cos{\\left(\\gamma \\right)}} + c \\cos{\\left(\\gamma \\right)} + \\frac{\\sqrt{- a^{2} \\left(1 - \\sin{\\left(\\gamma \\right)}\\right)^{2} + b^{2} \\cos^{2}{\\left(\\gamma \\right)}} \\sin{\\left(\\theta_{x} \\right)}}{\\cos{\\left(\\gamma \\right)}}\\end{matrix}\\right]$"
      ],
      "text/plain": [
       "Eq(H_{\\gamma-}^{\\llcorner}, Matrix([\n",
       "[                                                                                                                        a + c*sin(\\gamma) + 2*e],\n",
       "[                -a*(1 - sin(\\gamma))*sin(theta_x)/cos(\\gamma) - sqrt(-a**2*(1 - sin(\\gamma))**2 + b**2*cos(\\gamma)**2)*cos(theta_x)/cos(\\gamma)],\n",
       "[-a*(1 - sin(\\gamma))*cos(theta_x)/cos(\\gamma) + c*cos(\\gamma) + sqrt(-a**2*(1 - sin(\\gamma))**2 + b**2*cos(\\gamma)**2)*sin(theta_x)/cos(\\gamma)]]))"
      ]
     },
     "metadata": {},
     "output_type": "display_data"
    }
   ],
   "source": [
    "H_lr_lower = delta_theta_ur.multiply_elementwise(sp.Matrix([1, -1, 1]))\n",
    "display(Eq(Symbol(r'H_{\\gamma-}^{\\llcorner}'), H_lr_lower, evaluate=False))"
   ]
  },
  {
   "cell_type": "code",
   "execution_count": 324,
   "metadata": {},
   "outputs": [
    {
     "data": {
      "text/plain": [
       "([494.768569093852, -381.8365966624425, -6.126613749715986],\n",
       " array([-173.26859961, -771.30151367,  100.3218689 ]))"
      ]
     },
     "execution_count": 324,
     "metadata": {},
     "output_type": "execute_result"
    }
   ],
   "source": [
    "H_lr_lower_num = np.array(H_lr_lower.subs(subs_dict).evalf(), dtype=float).flatten().tolist()\n",
    "H_lr_lower_num, orig_X_Ia[16]"
   ]
  },
  {
   "cell_type": "code",
   "execution_count": 325,
   "metadata": {},
   "outputs": [
    {
     "data": {
      "text/latex": [
       "$\\displaystyle H_{\\gamma-}^{\\dashv} = \\left[\\begin{matrix}a + c \\sin{\\left(\\gamma \\right)} + 2 e\\\\0\\\\c \\cos{\\left(\\gamma \\right)}\\end{matrix}\\right]$"
      ],
      "text/plain": [
       "Eq(H_{\\gamma-}^{\\dashv}, Matrix([\n",
       "[a + c*sin(\\gamma) + 2*e],\n",
       "[                      0],\n",
       "[          c*cos(\\gamma)]]))"
      ]
     },
     "metadata": {},
     "output_type": "display_data"
    }
   ],
   "source": [
    "H_mr_lower = sp.Matrix([a + 2*e+c*sp.sin(gamma), 0, c*sp.cos(gamma)])\n",
    "display(Eq(Symbol(r'H_{\\gamma-}^{\\dashv}'), H_mr_lower, evaluate=False))"
   ]
  },
  {
   "cell_type": "code",
   "execution_count": 326,
   "metadata": {},
   "outputs": [
    {
     "data": {
      "text/plain": [
       "([494.768569093852, 0.0, 125.07885850370505],\n",
       " array([-566.26856909, -381.83660889,   -6.12637281]))"
      ]
     },
     "execution_count": 326,
     "metadata": {},
     "output_type": "execute_result"
    }
   ],
   "source": [
    "H_mr_lower_num = np.array(H_mr_lower.subs(subs_dict)).astype(np.float64).flatten().tolist()\n",
    "H_mr_lower_num, orig_X_Ia[15]"
   ]
  },
  {
   "cell_type": "code",
   "execution_count": 327,
   "metadata": {},
   "outputs": [
    {
     "data": {
      "text/latex": [
       "$\\displaystyle H_{\\gamma-}^{\\vdash} = \\left[\\begin{matrix}- a - c \\sin{\\left(\\gamma \\right)} - 2 e\\\\0\\\\c \\cos{\\left(\\gamma \\right)}\\end{matrix}\\right]$"
      ],
      "text/plain": [
       "Eq(H_{\\gamma-}^{\\vdash}, Matrix([\n",
       "[-a - c*sin(\\gamma) - 2*e],\n",
       "[                       0],\n",
       "[           c*cos(\\gamma)]]))"
      ]
     },
     "metadata": {},
     "output_type": "display_data"
    }
   ],
   "source": [
    "H_ml_lower = sp.Matrix([-a-2*e-c*sp.sin(gamma), 0, c*sp.cos(gamma)])\n",
    "display(Eq(Symbol(r'H_{\\gamma-}^{\\vdash}'), H_ml_lower, evaluate=False))"
   ]
  },
  {
   "cell_type": "code",
   "execution_count": 328,
   "metadata": {},
   "outputs": [
    {
     "data": {
      "text/plain": [
       "([-494.768569093852, 0.0, 125.07885850370505],\n",
       " array([-173.26859961,  771.30151367,  100.3218689 ]))"
      ]
     },
     "execution_count": 328,
     "metadata": {},
     "output_type": "execute_result"
    }
   ],
   "source": [
    "H_ml_lower_num = np.array(H_ml_lower.subs(subs_dict)).astype(np.float64).flatten().tolist()\n",
    "H_ml_lower_num, orig_X_Ia[10]"
   ]
  },
  {
   "cell_type": "code",
   "execution_count": 329,
   "metadata": {},
   "outputs": [
    {
     "data": {
      "text/latex": [
       "$\\displaystyle O_{\\gamma+}^{+} = \\left[\\begin{matrix}0\\\\0\\\\t\\end{matrix}\\right]$"
      ],
      "text/plain": [
       "Eq(O_{\\gamma+}^{+}, Matrix([\n",
       "[0],\n",
       "[0],\n",
       "[t]]))"
      ]
     },
     "metadata": {},
     "output_type": "display_data"
    }
   ],
   "source": [
    "O_center_upper = sp.Matrix([0, 0, t])\n",
    "display(Eq(Symbol(r'O_{\\gamma+}^{+}'), O_center_upper, evaluate=False))"
   ]
  },
  {
   "cell_type": "code",
   "execution_count": 330,
   "metadata": {},
   "outputs": [
    {
     "data": {
      "text/plain": [
       "array([ 0.,  0., 15.])"
      ]
     },
     "execution_count": 330,
     "metadata": {},
     "output_type": "execute_result"
    }
   ],
   "source": [
    "O_ml_lower_num = np.array(O_center_upper.subs(subs_dict)).astype(np.float64).flatten()\n",
    "O_ml_lower_num"
   ]
  },
  {
   "cell_type": "markdown",
   "metadata": {},
   "source": [
    "# Compatible extrusion \n",
    "\n",
    "The crease nodes $U,V, W, H$ need to be extruded in z-direction, so that the compatibility is not affected.\n",
    "Crease nodes that belongs to a valley are allowed to be extruded without affecting the compatibility. On the otherhand, nodes belonging to a mountain cannot be extruded without affecting the compatibility conditions\n"
   ]
  },
  {
   "cell_type": "code",
   "execution_count": 331,
   "metadata": {},
   "outputs": [
    {
     "data": {
      "text/latex": [
       "$\\displaystyle V_{\\gamma+}^{\\dashv} = \\left[\\begin{matrix}c \\sin{\\left(\\gamma \\right)} + e - t \\cot{\\left(\\frac{\\gamma}{2} + \\frac{\\pi}{4} \\right)}\\\\0\\\\c \\cos{\\left(\\gamma \\right)} + t\\end{matrix}\\right]$"
      ],
      "text/plain": [
       "Eq(V_{\\gamma+}^{\\dashv}, Matrix([\n",
       "[c*sin(\\gamma) + e - t*cot(\\gamma/2 + pi/4)],\n",
       "[                                         0],\n",
       "[                         c*cos(\\gamma) + t]]))"
      ]
     },
     "metadata": {},
     "output_type": "display_data"
    }
   ],
   "source": [
    "V_mr_upper = sp.Matrix([e+c*sp.sin(gamma)-t*sp.tan(alpha/2), 0, c*sp.cos(gamma)+t])\n",
    "display(Eq(Symbol(r'V_{\\gamma+}^{\\dashv}'), V_mr_upper, evaluate=False))\n"
   ]
  },
  {
   "cell_type": "code",
   "execution_count": 332,
   "metadata": {},
   "outputs": [
    {
     "data": {
      "text/plain": [
       "[166.13529753808555, 0.0, 140.07885850370505]"
      ]
     },
     "execution_count": 332,
     "metadata": {},
     "output_type": "execute_result"
    }
   ],
   "source": [
    "V_mr_upper_num = np.array(V_mr_upper.subs(subs_dict)).astype(np.float64).flatten().tolist()\n",
    "V_mr_upper_num"
   ]
  },
  {
   "cell_type": "code",
   "execution_count": 333,
   "metadata": {},
   "outputs": [
    {
     "data": {
      "text/latex": [
       "$\\displaystyle H_{\\gamma+}^{\\dashv} = \\left[\\begin{matrix}a + c \\sin{\\left(\\gamma \\right)} + 2 e\\\\0\\\\c \\cos{\\left(\\gamma \\right)} + t\\end{matrix}\\right]$"
      ],
      "text/plain": [
       "Eq(H_{\\gamma+}^{\\dashv}, Matrix([\n",
       "[a + c*sin(\\gamma) + 2*e],\n",
       "[                      0],\n",
       "[      c*cos(\\gamma) + t]]))"
      ]
     },
     "metadata": {},
     "output_type": "display_data"
    }
   ],
   "source": [
    "H_mr_upper = sp.Matrix([a+2*e+c*sp.sin(gamma),0,  c*sp.cos(gamma)+t])\n",
    "display(Eq(Symbol(r'H_{\\gamma+}^{\\dashv}'), H_mr_upper, evaluate=False))\n"
   ]
  },
  {
   "cell_type": "code",
   "execution_count": 334,
   "metadata": {},
   "outputs": [
    {
     "data": {
      "text/latex": [
       "$\\displaystyle V_{\\gamma+}^{\\vdash} = \\left[\\begin{matrix}- c \\sin{\\left(\\gamma \\right)} - e + t \\cot{\\left(\\frac{\\gamma}{2} + \\frac{\\pi}{4} \\right)}\\\\0\\\\c \\cos{\\left(\\gamma \\right)} + t\\end{matrix}\\right]$"
      ],
      "text/plain": [
       "Eq(V_{\\gamma+}^{\\vdash}, Matrix([\n",
       "[-c*sin(\\gamma) - e + t*cot(\\gamma/2 + pi/4)],\n",
       "[                                          0],\n",
       "[                          c*cos(\\gamma) + t]]))"
      ]
     },
     "metadata": {},
     "output_type": "display_data"
    }
   ],
   "source": [
    "V_ml_upper = sp.Matrix([e+c*sp.sin(gamma)-t*sp.tan(alpha/2), 0, c*sp.cos(gamma)+t]).multiply_elementwise(sp.Matrix([-1, 1, 1]))\n",
    "display(Eq(Symbol(r'V_{\\gamma+}^{\\vdash}'), V_ml_upper, evaluate=False))"
   ]
  },
  {
   "cell_type": "code",
   "execution_count": 335,
   "metadata": {},
   "outputs": [
    {
     "data": {
      "text/latex": [
       "$\\displaystyle H_{\\gamma+}^{\\vdash} = \\left[\\begin{matrix}- a - c \\sin{\\left(\\gamma \\right)} - 2 e\\\\0\\\\c \\cos{\\left(\\gamma \\right)} + t\\end{matrix}\\right]$"
      ],
      "text/plain": [
       "Eq(H_{\\gamma+}^{\\vdash}, Matrix([\n",
       "[-a - c*sin(\\gamma) - 2*e],\n",
       "[                       0],\n",
       "[       c*cos(\\gamma) + t]]))"
      ]
     },
     "metadata": {},
     "output_type": "display_data"
    }
   ],
   "source": [
    "H_ml_upper = sp.Matrix([a+2*e+c*sp.sin(gamma),0,  c*sp.cos(gamma)+t]).multiply_elementwise(sp.Matrix([-1, 1, 1]))\n",
    "display(Eq(Symbol(r'H_{\\gamma+}^{\\vdash}'), H_ml_upper, evaluate=False))\n"
   ]
  },
  {
   "cell_type": "markdown",
   "metadata": {},
   "source": [
    "# Extrusion of the the valley"
   ]
  },
  {
   "cell_type": "code",
   "execution_count": 336,
   "metadata": {},
   "outputs": [
    {
     "data": {
      "text/latex": [
       "$\\displaystyle C_{\\gamma+}^{\\dashv} = \\left[\\begin{matrix}e - t \\cot{\\left(\\frac{\\gamma}{2} + \\frac{\\pi}{4} \\right)}\\\\0\\\\t\\end{matrix}\\right]$"
      ],
      "text/plain": [
       "Eq(C_{\\gamma+}^{\\dashv}, Matrix([\n",
       "[e - t*cot(\\gamma/2 + pi/4)],\n",
       "[                         0],\n",
       "[                         t]]))"
      ]
     },
     "metadata": {},
     "output_type": "display_data"
    }
   ],
   "source": [
    "C_mr_upper = sp.Matrix([e-t*sp.tan(alpha/2), 0, t])\n",
    "display(Eq(Symbol(r'C_{\\gamma+}^{\\dashv}'), C_mr_upper, evaluate=False))\n"
   ]
  },
  {
   "cell_type": "code",
   "execution_count": 337,
   "metadata": {},
   "outputs": [
    {
     "data": {
      "text/plain": [
       "[64.36672844423352, 0.0, 15.0]"
      ]
     },
     "execution_count": 337,
     "metadata": {},
     "output_type": "execute_result"
    }
   ],
   "source": [
    "C_mr_upper_num = np.array(C_mr_upper.subs(subs_dict)).astype(np.float64).flatten().tolist()\n",
    "C_mr_upper_num"
   ]
  },
  {
   "cell_type": "code",
   "execution_count": 338,
   "metadata": {},
   "outputs": [
    {
     "data": {
      "text/latex": [
       "$\\displaystyle C_{\\a}^{\\vdash} = \\left[\\begin{matrix}- e + t \\cot{\\left(\\frac{\\gamma}{2} + \\frac{\\pi}{4} \\right)}\\\\0\\\\t\\end{matrix}\\right]$"
      ],
      "text/plain": [
       "Eq(C_{\\a}^{\\vdash}, Matrix([\n",
       "[-e + t*cot(\\gamma/2 + pi/4)],\n",
       "[                          0],\n",
       "[                          t]]))"
      ]
     },
     "metadata": {},
     "output_type": "display_data"
    }
   ],
   "source": [
    "C_ml_upper = sp.Matrix([e-t*sp.tan(alpha/2), 0, t]).multiply_elementwise(sp.Matrix([-1, 1, 1]))\n",
    "display(Eq(Symbol(r'C_{\\a}^{\\vdash}'), C_ml_upper, evaluate=False))"
   ]
  },
  {
   "cell_type": "code",
   "execution_count": null,
   "metadata": {},
   "outputs": [],
   "source": []
  },
  {
   "cell_type": "code",
   "execution_count": null,
   "metadata": {},
   "outputs": [],
   "source": []
  },
  {
   "cell_type": "code",
   "execution_count": 339,
   "metadata": {},
   "outputs": [
    {
     "data": {
      "application/vnd.jupyter.widget-view+json": {
       "model_id": "769291842bf148b491a4ee6cd57eca8c",
       "version_major": 2,
       "version_minor": 0
      },
      "text/plain": [
       "Output()"
      ]
     },
     "metadata": {},
     "output_type": "display_data"
    }
   ],
   "source": [
    "import k3d\n",
    "import numpy as np\n",
    "\n",
    "def plot_lines_with_k3d(points, connectivity):\n",
    "    \"\"\"\n",
    "    Plot lines with k3d given points and connectivity.\n",
    "\n",
    "    Parameters:\n",
    "    - points: (N, 3) array-like of 3D coordinates\n",
    "    - connectivity: (M, 2) array-like of index pairs defining lines\n",
    "    \"\"\"\n",
    "    points = np.array(points, dtype=np.float32)\n",
    "    connectivity = np.array(connectivity, dtype=np.uint32)\n",
    "\n",
    "    # Flatten the points into a line vertex sequence\n",
    "    lines = k3d.lines(\n",
    "        vertices=points,\n",
    "        indices=connectivity,\n",
    "        shader='simple',\n",
    "        width=0.01\n",
    "    )\n",
    "\n",
    "    plot = k3d.plot()\n",
    "    plot += lines\n",
    "    plot.display()\n",
    "\n",
    "# Example usage:\n",
    "points = [\n",
    "    C_mr_lower_num, # 0\n",
    "    C_ml_lower_num, # 1\n",
    "    U_ur_lower_num, # 2\n",
    "    U_ul_lower_num, # 3\n",
    "    U_lr_lower_num, # 4\n",
    "    U_ll_lower_num, # 5\n",
    "    V_mr_lower_num, # 6\n",
    "    V_ml_lower_num, # 7\n",
    "    W_ul_lower_num, # 8\n",
    "    H_ul_lower_num, # 9\n",
    "    H_ml_lower_num, # 10\n",
    "    W_ll_lower_num, # 11\n",
    "    H_ll_lower_num, # 12\n",
    "    H_ur_lower_num, # 13\n",
    "    W_ur_lower_num, # 14\n",
    "    H_mr_lower_num, # 15\n",
    "    H_lr_lower_num, # 16\n",
    "    W_lr_lower_num, # 17\n",
    "    ]\n",
    "\n",
    "# upper facets\n",
    "\n",
    "\n",
    "connectivity = [\n",
    "# lower facets\n",
    "[ 0,  2,  1],\n",
    "[ 1,  2,  3],\n",
    "[ 0,  1,  4],\n",
    "[ 1,  5,  4],\n",
    "[ 0,  4,  6],\n",
    "[ 0,  6,  2],\n",
    "[ 1,  7,  5],\n",
    "[ 1,  3,  7],\n",
    "[ 8,  9,  7],\n",
    "[ 9, 10,  7],\n",
    "[ 8,  7,  3],\n",
    "[11,  7, 12],\n",
    "[12,  7, 10],\n",
    "[11,  5,  7],\n",
    "[13, 14, 15],\n",
    "[14,  6, 15],\n",
    "[14,  2,  6],\n",
    "[16, 15, 17],\n",
    "[17, 15,  6],\n",
    "[17,  6,  4],\n",
    "\n",
    "#upper facets\n",
    "\n",
    "]\n",
    "\n",
    "\n",
    "\n",
    "def plot_mesh_with_k3d(points, triangles):\n",
    "    points = np.array(points, dtype=np.float32)\n",
    "    triangles = np.array(triangles, dtype=np.uint32)\n",
    "\n",
    "    # Duplicate the triangles with reversed vertex order\n",
    "    triangles_reversed = triangles[:, [0, 2, 1]]\n",
    "    all_triangles = np.vstack([triangles, triangles_reversed])\n",
    "\n",
    "    mesh = k3d.mesh(\n",
    "        vertices=points,\n",
    "        indices=all_triangles,\n",
    "        wireframe=False,\n",
    "        color=0x1E90FF,\n",
    "        opacity=1.0\n",
    "    )\n",
    "\n",
    "    plot = k3d.plot()\n",
    "    plot += mesh\n",
    "    plot.display()\n",
    "# Call the plotting function\n",
    "plot_mesh_with_k3d(points, connectivity)"
   ]
  },
  {
   "cell_type": "markdown",
   "metadata": {},
   "source": [
    "# Extrusion given thickness t for the mountains"
   ]
  },
  {
   "cell_type": "code",
   "execution_count": null,
   "metadata": {},
   "outputs": [],
   "source": []
  },
  {
   "cell_type": "code",
   "execution_count": null,
   "metadata": {},
   "outputs": [
    {
     "data": {
      "application/vnd.jupyter.widget-view+json": {
       "model_id": "ccb763c5a2af449990d67e516c375e6b",
       "version_major": 2,
       "version_minor": 0
      },
      "text/plain": [
       "Plot(antialias=3, axes=['x', 'y', 'z'], axes_helper=1.0, axes_helper_colors=[16711680, 65280, 255], background…"
      ]
     },
     "metadata": {},
     "output_type": "display_data"
    }
   ],
   "source": [
    "import k3d\n",
    "import numpy as np\n",
    "import ipywidgets as widgets\n",
    "from IPython.display import display\n",
    "\n",
    "# Parameters\n",
    "grid_size = 50\n",
    "initial_timesteps = 20\n",
    "\n",
    "# Grid\n",
    "X, Y = np.mgrid[-1:1:complex(grid_size), -1:1:complex(grid_size)]\n",
    "\n",
    "# Precomputed surfaces\n",
    "Z_surfaces = [np.sin(np.pi * X) * np.cos(np.pi * Y + t * 0.3) for t in range(initial_timesteps)]\n",
    "\n",
    "# Create vertices\n",
    "def make_vertices(Z):\n",
    "    return np.stack([X.flatten(), Y.flatten(), Z.flatten()], axis=1).astype(np.float32)\n",
    "\n",
    "# Create face connectivity\n",
    "faces = []\n",
    "for i in range(grid_size - 1):\n",
    "    for j in range(grid_size - 1):\n",
    "        idx = i * grid_size + j\n",
    "        faces.append([idx, idx + 1, idx + grid_size])\n",
    "        faces.append([idx + 1, idx + grid_size + 1, idx + grid_size])\n",
    "faces = np.array(faces)\n",
    "\n",
    "# Create plot\n",
    "plot = k3d.plot()\n",
    "mesh = k3d.mesh(make_vertices(Z_surfaces[0]), faces, color=0x00ff00)\n",
    "plot += mesh\n",
    "display(plot)\n",
    "\n",
    "# Widgets\n",
    "range_min = widgets.IntText(value=0, description='Min:')\n",
    "range_max = widgets.IntText(value=initial_timesteps - 1, description='Max:')\n",
    "slider = widgets.IntSlider(value=0, min=0, max=initial_timesteps - 1, step=1, description='Timestep:')\n",
    "input_field = widgets.IntText(value=0, description='Input:')\n",
    "\n",
    "# Mesh update function\n",
    "def update_mesh(timestep):\n",
    "    if timestep >= len(Z_surfaces):\n",
    "        # Dynamically generate more surfaces as needed\n",
    "        for t in range(len(Z_surfaces), timestep + 1):\n",
    "            Z_surfaces.append(np.sin(np.pi * X) * np.cos(np.pi * Y + t * 0.3))\n",
    "\n",
    "    if 0 <= timestep < len(Z_surfaces):\n",
    "        mesh.vertices = make_vertices(Z_surfaces[timestep])\n",
    "\n",
    "# Update slider constraints\n",
    "def update_slider_constraints():\n",
    "    min_val = range_min.value\n",
    "    max_val = range_max.value\n",
    "\n",
    "    if max_val <= min_val:\n",
    "        max_val = min_val + 1\n",
    "        range_max.value = max_val\n",
    "\n",
    "    slider.min = min_val\n",
    "    slider.max = max_val\n",
    "\n",
    "    if slider.value < min_val:\n",
    "        slider.value = min_val\n",
    "    elif slider.value > max_val:\n",
    "        slider.value = max_val\n",
    "\n",
    "range_min.observe(lambda change: update_slider_constraints(), names='value')\n",
    "range_max.observe(lambda change: update_slider_constraints(), names='value')\n",
    "\n",
    "# Manual input: expand range, generate new timestep if needed, and update mesh\n",
    "def on_input_change(change):\n",
    "    val = change['new']\n",
    "\n",
    "    # Expand range\n",
    "    if val < range_min.value:\n",
    "        range_min.value = val\n",
    "    if val > range_max.value:\n",
    "        range_max.value = val\n",
    "\n",
    "    slider.value = val  # Set slider\n",
    "    update_mesh(val)    # Update plot\n",
    "\n",
    "# Sync slider -> input\n",
    "def on_slider_change(change):\n",
    "    val = change['new']\n",
    "    input_field.value = val\n",
    "    update_mesh(val)  # Update plot from slider\n",
    "\n",
    "# Observe changes\n",
    "input_field.observe(on_input_change, names='value')\n",
    "slider.observe(on_slider_change, names='value')\n",
    "\n",
    "# Layout\n",
    "range_box = widgets.HBox([range_min, range_max])\n",
    "control_box = widgets.HBox([slider, input_field])\n",
    "out = widgets.interactive_output(update_mesh, {'timestep': slider})\n",
    "\n",
    "# Display UI\n",
    "display(range_box, control_box, out)"
   ]
  },
  {
   "cell_type": "code",
   "execution_count": null,
   "metadata": {},
   "outputs": [
    {
     "data": {
      "text/latex": [
       "$\\displaystyle - \\frac{\\frac{a \\left(1 - \\sin{\\left(\\gamma \\right)}\\right) \\sin{\\left(\\theta_{x} \\right)}}{\\cos{\\left(\\gamma \\right)}} + \\frac{\\sqrt{- a^{2} \\left(1 - \\sin{\\left(\\gamma \\right)}\\right)^{2} + b^{2} \\cos^{2}{\\left(\\gamma \\right)}} \\cos{\\left(\\theta_{x} \\right)}}{\\cos{\\left(\\gamma \\right)}}}{\\sqrt{\\left(- \\frac{a \\left(1 - \\sin{\\left(\\gamma \\right)}\\right) \\sin{\\left(\\theta_{x} \\right)}}{\\cos{\\left(\\gamma \\right)}} - \\frac{\\sqrt{- a^{2} \\left(1 - \\sin{\\left(\\gamma \\right)}\\right)^{2} + b^{2} \\cos^{2}{\\left(\\gamma \\right)}} \\cos{\\left(\\theta_{x} \\right)}}{\\cos{\\left(\\gamma \\right)}}\\right)^{2} + \\left(\\frac{a \\left(1 - \\sin{\\left(\\gamma \\right)}\\right) \\cos{\\left(\\theta_{x} \\right)}}{\\cos{\\left(\\gamma \\right)}} - \\frac{\\sqrt{- a^{2} \\left(1 - \\sin{\\left(\\gamma \\right)}\\right)^{2} + b^{2} \\cos^{2}{\\left(\\gamma \\right)}} \\sin{\\left(\\theta_{x} \\right)}}{\\cos{\\left(\\gamma \\right)}}\\right)^{2}}}$"
      ],
      "text/plain": [
       "-(a*(1 - sin(\\gamma))*sin(theta_x)/cos(\\gamma) + sqrt(-a**2*(1 - sin(\\gamma))**2 + b**2*cos(\\gamma)**2)*cos(theta_x)/cos(\\gamma))/sqrt((-a*(1 - sin(\\gamma))*sin(theta_x)/cos(\\gamma) - sqrt(-a**2*(1 - sin(\\gamma))**2 + b**2*cos(\\gamma)**2)*cos(theta_x)/cos(\\gamma))**2 + (a*(1 - sin(\\gamma))*cos(theta_x)/cos(\\gamma) - sqrt(-a**2*(1 - sin(\\gamma))**2 + b**2*cos(\\gamma)**2)*sin(theta_x)/cos(\\gamma))**2)"
      ]
     },
     "execution_count": 272,
     "metadata": {},
     "output_type": "execute_result"
    }
   ],
   "source": [
    "cos_beta = H_mr_lower[1] - H_ur_lower[1] / sp.sqrt((H_mr_lower[1] - H_ur_lower[1])**2 + (H_mr_lower[2] - H_ur_lower[2])**2)\n",
    "cos_beta"
   ]
  },
  {
   "cell_type": "code",
   "execution_count": null,
   "metadata": {},
   "outputs": [
    {
     "data": {
      "text/latex": [
       "$\\displaystyle - \\frac{t \\sqrt{\\left(- \\frac{a \\left(1 - \\sin{\\left(\\gamma \\right)}\\right) \\sin{\\left(\\theta_{x} \\right)}}{\\cos{\\left(\\gamma \\right)}} - \\frac{\\sqrt{- a^{2} \\left(1 - \\sin{\\left(\\gamma \\right)}\\right)^{2} + b^{2} \\cos^{2}{\\left(\\gamma \\right)}} \\cos{\\left(\\theta_{x} \\right)}}{\\cos{\\left(\\gamma \\right)}}\\right)^{2} + \\left(\\frac{a \\left(1 - \\sin{\\left(\\gamma \\right)}\\right) \\cos{\\left(\\theta_{x} \\right)}}{\\cos{\\left(\\gamma \\right)}} - \\frac{\\sqrt{- a^{2} \\left(1 - \\sin{\\left(\\gamma \\right)}\\right)^{2} + b^{2} \\cos^{2}{\\left(\\gamma \\right)}} \\sin{\\left(\\theta_{x} \\right)}}{\\cos{\\left(\\gamma \\right)}}\\right)^{2}}}{\\frac{a \\left(1 - \\sin{\\left(\\gamma \\right)}\\right) \\sin{\\left(\\theta_{x} \\right)}}{\\cos{\\left(\\gamma \\right)}} + \\frac{\\sqrt{- a^{2} \\left(1 - \\sin{\\left(\\gamma \\right)}\\right)^{2} + b^{2} \\cos^{2}{\\left(\\gamma \\right)}} \\cos{\\left(\\theta_{x} \\right)}}{\\cos{\\left(\\gamma \\right)}}}$"
      ],
      "text/plain": [
       "-t*sqrt((-a*(1 - sin(\\gamma))*sin(theta_x)/cos(\\gamma) - sqrt(-a**2*(1 - sin(\\gamma))**2 + b**2*cos(\\gamma)**2)*cos(theta_x)/cos(\\gamma))**2 + (a*(1 - sin(\\gamma))*cos(theta_x)/cos(\\gamma) - sqrt(-a**2*(1 - sin(\\gamma))**2 + b**2*cos(\\gamma)**2)*sin(theta_x)/cos(\\gamma))**2)/(a*(1 - sin(\\gamma))*sin(theta_x)/cos(\\gamma) + sqrt(-a**2*(1 - sin(\\gamma))**2 + b**2*cos(\\gamma)**2)*cos(theta_x)/cos(\\gamma))"
      ]
     },
     "execution_count": 273,
     "metadata": {},
     "output_type": "execute_result"
    }
   ],
   "source": [
    "delta_z = t / cos_beta\n",
    "delta_z"
   ]
  },
  {
   "cell_type": "code",
   "execution_count": null,
   "metadata": {},
   "outputs": [
    {
     "data": {
      "text/latex": [
       "$\\displaystyle 15.8608421846844$"
      ],
      "text/plain": [
       "15.8608421846844"
      ]
     },
     "execution_count": 274,
     "metadata": {},
     "output_type": "execute_result"
    }
   ],
   "source": [
    "delta_z = np.abs(np.array(delta_z.subs(subs_dict)))\n",
    "delta_z"
   ]
  },
  {
   "cell_type": "markdown",
   "metadata": {},
   "source": [
    "# Extruded geometry "
   ]
  },
  {
   "cell_type": "code",
   "execution_count": null,
   "metadata": {},
   "outputs": [],
   "source": [
    "import pandas as pd\n",
    "import numpy as np\n",
    "import k3d\n",
    "from IPython.display import display\n",
    "from sympy import Eq, Symbol\n",
    "\n",
    "\n",
    "# Variables \n",
    "\n",
    "theta_x = sp.Symbol('theta_x', real=True)\n",
    "a, b, c, e, gamma, t = sp.symbols(r'a b c e \\gamma t', real=True)\n",
    "\n",
    "alpha = sp.pi/2 - gamma\n",
    "\n",
    "# Rotation\n",
    "cx = sp.cos(theta_x)\n",
    "sx = sp.sin(theta_x)\n",
    "cy = sp.cos(theta_y)\n",
    "sy = sp.sin(theta_y)\n",
    "cz = sp.cos(theta_z)\n",
    "sz = sp.sin(theta_z)\n",
    "\n",
    "R_x = sp.Matrix([\n",
    "    [1, 0, 0],\n",
    "    [0, cx, -sx],\n",
    "    [0, sx, cx]\n",
    "])\n",
    "\n",
    "# Kinematics \n",
    "x_folded = a+e\n",
    "y_folded = sp.sqrt((b**2*sp.cos(gamma)**2) - a**2 * (1 - sp.sin(gamma))**2) / (sp.cos(gamma))\n",
    "z_folded = (a * (1 - sp.sin(gamma))) / sp.cos(gamma)\n",
    "\n",
    "# Theta angle\n",
    "theta = ((z_folded - c*sp.cos(gamma))**2- y_folded**2) / ((z_folded - c*sp.cos(gamma))**2+ y_folded**2)\n",
    "theta = -sp.pi +sp.acos(theta.simplify())\n",
    "\n",
    "# Calculate crease nodes from the waterbomb module at the lower surface analytically \n",
    "O_center_lower = sp.Matrix([0, 0, 0])\n",
    "C_mr_lower = sp.Matrix([e, 0, 0])\n",
    "C_ml_lower = sp.Matrix([-e, 0, 0])\n",
    "V_mr_lower = sp.Matrix([e+c*sp.sin(gamma), 0, c*sp.cos(gamma)])\n",
    "V_ml_lower = sp.Matrix([-e-c*sp.sin(gamma), 0, c*sp.cos(gamma)])\n",
    "U_ur_lower = sp.Matrix([x_folded, y_folded, z_folded])\n",
    "U_ul_lower = sp.Matrix([-x_folded, y_folded, z_folded])\n",
    "U_ll_lower = sp.Matrix([-x_folded, -y_folded, z_folded])\n",
    "U_lr_lower = sp.Matrix([x_folded, -y_folded, z_folded])\n",
    "delta_theta_ur = V_mr_lower - R_x * U_ll_lower\n",
    "W_ur_lower = R_x @ -C_mr_lower + delta_theta_ur\n",
    "W_ul_lower = W_ur_lower.multiply_elementwise(sp.Matrix([-1, 1, 1]))\n",
    "W_ll_lower = W_ur_lower.multiply_elementwise(sp.Matrix([-1, -1, 1]))\n",
    "W_lr_lower = W_ur_lower.multiply_elementwise(sp.Matrix([1, -1, 1]))\n",
    "H_ur_lower = delta_theta_ur\n",
    "H_ul_lower = delta_theta_ur.multiply_elementwise(sp.Matrix([-1, 1, 1]))\n",
    "H_ll_lower = delta_theta_ur.multiply_elementwise(sp.Matrix([-1, -1, 1]))\n",
    "H_lr_lower = delta_theta_ur.multiply_elementwise(sp.Matrix([1, -1, 1]))\n",
    "H_mr_lower = sp.Matrix([a + 2*e+c*sp.sin(gamma), 0, c*sp.cos(gamma)])\n",
    "H_ml_lower = sp.Matrix([-a-2*e-c*sp.sin(gamma), 0, c*sp.cos(gamma)])\n",
    "\n"
   ]
  },
  {
   "cell_type": "markdown",
   "metadata": {},
   "source": [
    "# Support normal to the facet"
   ]
  },
  {
   "cell_type": "code",
   "execution_count": null,
   "metadata": {},
   "outputs": [
    {
     "data": {
      "text/plain": [
       "array([ 0.        ,  0.29445909, -0.95566408])"
      ]
     },
     "execution_count": 279,
     "metadata": {},
     "output_type": "execute_result"
    }
   ],
   "source": [
    "# Given C_mr_lower_num, U_ur_lower_num, U_ul_lower_num, calculate the unit normal vector\n",
    "def calculate_normal_vector(p1, p2, p3):\n",
    "    # Convert points to numpy arrays\n",
    "    p1 = np.array(p1)\n",
    "    p2 = np.array(p2)\n",
    "    p3 = np.array(p3)\n",
    "\n",
    "    # Calculate two vectors in the plane\n",
    "    v1 = p2 - p1\n",
    "    v2 = p3 - p1\n",
    "\n",
    "    # Calculate the cross product to get the normal vector\n",
    "    normal_vector = np.cross(v1, v2)\n",
    "\n",
    "    # Normalize the normal vector\n",
    "    normal_vector /= np.linalg.norm(normal_vector)\n",
    "\n",
    "    return normal_vector\n",
    "# Example points\n",
    "p1 = np.array(C_mr_lower_num)\n",
    "p2 = np.array(U_ul_lower_num)\n",
    "p3 = np.array(U_ur_lower_num)\n",
    "# Calculate the normal vector\n",
    "normal_vector = calculate_normal_vector(p1, p2, p3)\n",
    "normal_vector"
   ]
  }
 ],
 "metadata": {
  "kernelspec": {
   "display_name": "bmcs_env",
   "language": "python",
   "name": "python3"
  },
  "language_info": {
   "codemirror_mode": {
    "name": "ipython",
    "version": 3
   },
   "file_extension": ".py",
   "mimetype": "text/x-python",
   "name": "python",
   "nbconvert_exporter": "python",
   "pygments_lexer": "ipython3",
   "version": "3.12.9"
  }
 },
 "nbformat": 4,
 "nbformat_minor": 2
}
