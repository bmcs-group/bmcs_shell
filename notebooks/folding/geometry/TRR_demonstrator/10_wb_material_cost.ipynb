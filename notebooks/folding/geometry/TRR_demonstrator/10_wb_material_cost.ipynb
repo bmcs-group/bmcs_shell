{
 "cells": [
  {
   "cell_type": "code",
   "execution_count": 3,
   "metadata": {},
   "outputs": [
    {
     "data": {
      "text/plain": [
       "(0.89511375, 10.741365, 0.01342670625)"
      ]
     },
     "execution_count": 3,
     "metadata": {},
     "output_type": "execute_result"
    }
   ],
   "source": [
    "import pandas as pd\n",
    "import numpy as np\n",
    "\n",
    "t_num = 15\n",
    "a_num= 1000/4\n",
    "b_num= 1615/4\n",
    "c_num= 645/4\n",
    "e_num= 286/4\n",
    "n_layers = 2 \n",
    "Lx_flat = 2 * (a_num + c_num + 2*e_num) * 1e-3\n",
    "Ly_flat = 2 * b_num * 1e-3\n",
    "\n",
    "A_modul = Lx_flat * Ly_flat \n",
    "A_assembly = 12 * A_modul\n",
    "V_flat = A_modul * t_num * 1e-3\n",
    "\n",
    "A_modul, A_assembly, V_flat"
   ]
  },
  {
   "cell_type": "code",
   "execution_count": 4,
   "metadata": {},
   "outputs": [
    {
     "data": {
      "text/plain": [
       "(0.1, 0.0015)"
      ]
     },
     "execution_count": 4,
     "metadata": {},
     "output_type": "execute_result"
    }
   ],
   "source": [
    "# Dehnkörperversuch\n",
    "\n",
    "b = 100*1e-3\n",
    "l = 1000*1e-3\n",
    "t = 15*1e-3\n",
    "\n",
    "A_dk = b * l\n",
    "V_dk = b*l*t\n",
    "\n",
    "\n",
    "A_dk, V_dk"
   ]
  },
  {
   "cell_type": "code",
   "execution_count": 5,
   "metadata": {},
   "outputs": [
    {
     "data": {
      "text/plain": [
       "(0.001325359400733194, 0.0008835729338221292, 0.003375, 0.000256)"
      ]
     },
     "execution_count": 5,
     "metadata": {},
     "output_type": "execute_result"
    }
   ],
   "source": [
    "vol_cyl_30 = np.pi * (15/4)**2 * 30 * 1e-6\n",
    "vol_cyl_20 = np.pi * (15/4)**2 * 20 * 1e-6\n",
    "vol_cube = 15**3 * 1e-6\n",
    "vol_prism = 4*4*16 * 1e-6\n",
    "\n",
    "vol_cyl_30, vol_cyl_20, vol_cube, vol_prism"
   ]
  }
 ],
 "metadata": {
  "kernelspec": {
   "display_name": "bmcs_env",
   "language": "python",
   "name": "python3"
  },
  "language_info": {
   "codemirror_mode": {
    "name": "ipython",
    "version": 3
   },
   "file_extension": ".py",
   "mimetype": "text/x-python",
   "name": "python",
   "nbconvert_exporter": "python",
   "pygments_lexer": "ipython3",
   "version": "3.12.9"
  }
 },
 "nbformat": 4,
 "nbformat_minor": 2
}
