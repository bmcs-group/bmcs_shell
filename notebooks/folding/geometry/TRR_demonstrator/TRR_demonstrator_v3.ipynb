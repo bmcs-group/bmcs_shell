{
 "cells": [
  {
   "cell_type": "code",
   "execution_count": null,
   "metadata": {
    "pycharm": {
     "name": "#%%\n"
    }
   },
   "outputs": [],
   "source": [
    "%matplotlib widget\n",
    "from bmcs_shell.api import *\n",
    "import numpy as np\n",
    "import matplotlib.pyplot as plt"
   ]
  },
  {
   "cell_type": "markdown",
   "metadata": {},
   "source": [
    "# WB curved slab demonstrator"
   ]
  },
  {
   "cell_type": "markdown",
   "metadata": {},
   "source": [
    "## Geometry"
   ]
  },
  {
   "cell_type": "code",
   "execution_count": null,
   "metadata": {},
   "outputs": [],
   "source": [
    "wb_shell = WBTessellation4PEx(\n",
    "                         a=1000/4,\n",
    "                         b = 1615/4, \n",
    "                         c = 645/4, \n",
    "                         e_x = 286/4,\n",
    "                         #gamma=0.683, # a value of gamma = 0.75 was estimated from normals, but a CAD comparison showed that 0.75 doesn't lead to closer geometry to the scanned \n",
    "                         gamma=np.pi/2,\n",
    "                         n_phi_plus=20, \n",
    "                         n_x_plus=20, \n",
    "                         wireframe_width=1,\n",
    "                        ##---- Trimming function works only in WBTessellation4P ----##\n",
    "                         trim_half_cells_along_y=True,\n",
    "                         trim_half_cells_along_x=True,\n",
    "#                          align_outer_nodes_along_x=True,\n",
    ")\n",
    "wb_shell.interact()"
   ]
  },
  {
   "cell_type": "code",
   "execution_count": null,
   "metadata": {},
   "outputs": [],
   "source": []
  },
  {
   "cell_type": "code",
   "execution_count": null,
   "metadata": {},
   "outputs": [],
   "source": [
    "fig, ax = wb_shell.plot_folding_pattern()\n",
    "fig\n",
    "# fig.savefig('folding_patt.pdf')"
   ]
  },
  {
   "cell_type": "code",
   "execution_count": null,
   "metadata": {},
   "outputs": [],
   "source": [
    "WBGeoUtils.export_obj_file(wbt4p_ex, 'h_600_w_600_index_2_ex_100.obj')"
   ]
  },
  {
   "cell_type": "code",
   "execution_count": null,
   "metadata": {},
   "outputs": [],
   "source": [
    "import sympy as sp\n",
    "\n",
    "a, b, c = sp.symbols('a, b, c', positive=True)\n",
    "u_2, u_3 = sp.symbols('u_2, u_3', positive=True)\n",
    "gamma = sp.symbols('gamma', positive=True)\n",
    "    \n",
    "    \n",
    "\n",
    "U0_a = sp.Matrix([a, b, 0])\n",
    "W0_a = sp.Matrix([c, 0, 0])\n",
    "UW0_a = W0_a - U0_a\n",
    "L2_U_0 = (U0_a.T * U0_a)[0]\n",
    "L2_UW_0 = (UW0_a.T * UW0_a)[0]\n",
    "\n",
    "U1_a = sp.Matrix([a, u_2, u_3])\n",
    "W1_a = sp.Matrix([c * sp.sin(gamma), 0, c * sp.cos(gamma)])\n",
    "UW1_a = U1_a - W1_a\n",
    "L2_U_1 = (U1_a.T * U1_a)[0]\n",
    "L2_UW_1 = (UW1_a.T * UW1_a)[0]\n",
    "\n",
    "u2_sol = sp.solve(L2_U_1 - L2_U_0, u_2)[0]\n",
    "u3_sol = sp.solve((L2_UW_1 - L2_UW_0).subs(u_2, u2_sol), u_3)[0]\n",
    "u_3_ = u3_sol\n",
    "u_2_ = u2_sol.subs(u_3, u3_sol)\n",
    "u_2_, u_3_"
   ]
  },
  {
   "cell_type": "code",
   "execution_count": null,
   "metadata": {},
   "outputs": [],
   "source": [
    "import sympy as sp\n",
    "\n",
    "# Define symbols\n",
    "a, b, c, gamma = sp.symbols('a b c gamma', real=True, positive=True)\n",
    "\n",
    "# Define the numerator and denominator of cos(theta)\n",
    "num = (\n",
    "    c**2 * sp.cos(gamma)**2 \n",
    "    - 2 * a * c * (1 - sp.sin(gamma)) \n",
    "    + 2 * (a**2 * (1 - sp.sin(gamma))**2) / sp.cos(gamma)**2 \n",
    "    - b**2\n",
    ")\n",
    "\n",
    "denom = (\n",
    "    c**2 * sp.cos(gamma)**2 \n",
    "    - 2 * a * c * (1 - sp.sin(gamma)) \n",
    "    + b**2\n",
    ")\n",
    "\n",
    "# Define cos(theta)\n",
    "cos_theta = num / denom\n",
    "\n",
    "# Solve for gamma when cos(theta) = 1\n",
    "eq = sp.Eq(cos_theta, 1)\n",
    "gamma_solutions = sp.solve(eq, b)\n",
    "gamma_solutions\n",
    "\n",
    "# given a and gamma, solver for b\n",
    "a_ = 1000/4\n",
    "c_ = 645/4\n",
    "gamma_ = np.pi/4\n",
    "b_ = sp.solve(cos_theta.subs({a: a_, gamma: gamma_, c: c_}), b)\n",
    "b_\n",
    "\n"
   ]
  },
  {
   "cell_type": "code",
   "execution_count": null,
   "metadata": {},
   "outputs": [],
   "source": [
    "wb_shell = WBTessellation4PEx(\n",
    "                         a=1000/4,\n",
    "                         b = 104.081097658949, \n",
    "                         c = 1000/4, \n",
    "                         e_x = 286/4,\n",
    "                         #gamma=0.683, # a value of gamma = 0.75 was estimated from normals, but a CAD comparison showed that 0.75 doesn't lead to closer geometry to the scanned \n",
    "                         gamma=np.pi/4,\n",
    "                         n_phi_plus=4, \n",
    "                         n_x_plus=4, \n",
    "                         wireframe_width=1,\n",
    "                        ##---- Trimming function works only in WBTessellation4P ----##\n",
    "                         trim_half_cells_along_y=True,\n",
    "                         trim_half_cells_along_x=True,\n",
    "#                          align_outer_nodes_along_x=True,\n",
    ")\n",
    "wb_shell.interact()"
   ]
  }
 ],
 "metadata": {
  "kernelspec": {
   "display_name": "Python 3 (ipykernel)",
   "language": "python",
   "name": "python3"
  },
  "language_info": {
   "codemirror_mode": {
    "name": "ipython",
    "version": 3
   },
   "file_extension": ".py",
   "mimetype": "text/x-python",
   "name": "python",
   "nbconvert_exporter": "python",
   "pygments_lexer": "ipython3"
  },
  "toc": {
   "base_numbering": 1,
   "nav_menu": {},
   "number_sections": true,
   "sideBar": true,
   "skip_h1_title": true,
   "title_cell": "Table of Contents",
   "title_sidebar": "Contents",
   "toc_cell": false,
   "toc_position": {},
   "toc_section_display": true,
   "toc_window_display": false
  }
 },
 "nbformat": 4,
 "nbformat_minor": 4
}
