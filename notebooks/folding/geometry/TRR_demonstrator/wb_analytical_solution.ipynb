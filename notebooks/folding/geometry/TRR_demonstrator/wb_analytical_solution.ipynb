{
 "cells": [
  {
   "cell_type": "code",
   "execution_count": 2,
   "metadata": {},
   "outputs": [],
   "source": [
    "import pandas as pd\n",
    "import numpy as np\n",
    "from scipy.spatial import cKDTree\n",
    "import k3d\n",
    "import numpy as np\n",
    "from bmcs_shell.folding.assembly.wb_scanned_cell import WBScannedCell\n",
    "from bmcs_shell.api import WBTessellation4PEx\n",
    "from scipy.spatial import cKDTree\n",
    "import pandas as pd\n",
    "from openpyxl import load_workbook\n",
    "import sympy as sp\n",
    "from IPython.display import display\n",
    "from sympy import Eq, Symbol"
   ]
  },
  {
   "cell_type": "code",
   "execution_count": 3,
   "metadata": {},
   "outputs": [],
   "source": [
    "\n",
    "\n",
    "# Set the reference geometry to be generated from the closed form kinematics\n",
    "t_num = 15\n",
    "a_num= 1000/4\n",
    "b_num= 1615/4\n",
    "c_num= 645/4\n",
    "e_num= 286/4\n",
    "gamma_num= 0.683\n",
    "\n",
    "\n",
    "wb_shell = WBTessellation4PEx(\n",
    "                         a = a_num,\n",
    "                         b = b_num, \n",
    "                         c = c_num, \n",
    "                         e_x = e_num,\n",
    "                         gamma=gamma_num, # a value of gamma = 0.75 was estimated from normals, but a CAD comparison showed that 0.75 doesn't lead to closer geometry to the scanned \n",
    "                         n_phi_plus=2, # planned 5 \n",
    "                         n_x_plus=2,  # planned 3\n",
    "                         wireframe_width=5,\n",
    "                        ##---- Trimming function works only in WBTessellation4P ----##\n",
    "                         trim_half_cells_along_y=True,\n",
    "                         trim_half_cells_along_x=True,\n",
    "#                          align_outer_nodes_along_x=True,\n",
    ")\n",
    "# wb_shell.interact()\n",
    "orig_I_Fi = np.copy(wb_shell.I_Fi_trimmed)\n",
    "orig_X_Ia = np.copy(wb_shell.X_Ia_trimmed)"
   ]
  },
  {
   "cell_type": "code",
   "execution_count": null,
   "metadata": {},
   "outputs": [],
   "source": []
  },
  {
   "cell_type": "markdown",
   "metadata": {},
   "source": [
    "Derivation of the crease nodes of the lower facet (-)\n",
    "\n",
    "![Crease convention and nomenclature](wb_nomenclature_analytical.png)"
   ]
  },
  {
   "cell_type": "code",
   "execution_count": null,
   "metadata": {},
   "outputs": [],
   "source": [
    "# Define symbols\n",
    "a, b, c, e, gamma, t = sp.symbols(r'a b c e \\gamma t', real=True)\n",
    "\n",
    "alpha = sp.pi/2 - gamma\n"
   ]
  },
  {
   "cell_type": "code",
   "execution_count": 5,
   "metadata": {},
   "outputs": [
    {
     "data": {
      "text/plain": [
       "{a: 250.0, b: 403.75, c: 161.25, e: 71.5, \\gamma: 0.683, t: 15}"
      ]
     },
     "execution_count": 5,
     "metadata": {},
     "output_type": "execute_result"
    }
   ],
   "source": [
    "# Substitute parameters\n",
    "subs_dict = {\n",
    "    a: a_num,\n",
    "    b: b_num,\n",
    "    c: c_num,\n",
    "    e: e_num,\n",
    "    gamma: gamma_num,\n",
    "    t: t_num,\n",
    "}\n",
    "\n",
    "subs_dict"
   ]
  },
  {
   "cell_type": "code",
   "execution_count": 6,
   "metadata": {},
   "outputs": [
    {
     "data": {
      "text/latex": [
       "$\\displaystyle \\left[\\begin{matrix}1 & 0 & 0\\\\0 & \\cos{\\left(\\theta_{x} \\right)} & - \\sin{\\left(\\theta_{x} \\right)}\\\\0 & \\sin{\\left(\\theta_{x} \\right)} & \\cos{\\left(\\theta_{x} \\right)}\\end{matrix}\\right]$"
      ],
      "text/plain": [
       "Matrix([\n",
       "[1,            0,             0],\n",
       "[0, cos(theta_x), -sin(theta_x)],\n",
       "[0, sin(theta_x),  cos(theta_x)]])"
      ]
     },
     "execution_count": 6,
     "metadata": {},
     "output_type": "execute_result"
    }
   ],
   "source": [
    "# Known angles (alpha_x and alpha_z)\n",
    "theta_x = sp.Symbol('theta_x', real=True)\n",
    "theta_y = sp.Symbol('theta_y', real=True)  # Unknown\n",
    "theta_z = sp.Symbol('theta_z', real=True)\n",
    "\n",
    "# Trig functions\n",
    "cx = sp.cos(theta_x)\n",
    "sx = sp.sin(theta_x)\n",
    "cy = sp.cos(theta_y)\n",
    "sy = sp.sin(theta_y)\n",
    "cz = sp.cos(theta_z)\n",
    "sz = sp.sin(theta_z)\n",
    "\n",
    "# Rotation matrices\n",
    "R_x = sp.Matrix([\n",
    "    [1, 0, 0],\n",
    "    [0, cx, -sx],\n",
    "    [0, sx, cx]\n",
    "])\n",
    "R_y = sp.Matrix([\n",
    "    [cy, 0, sy],\n",
    "    [0, 1, 0],\n",
    "    [-sy, 0, cy]\n",
    "])\n",
    "R_z = sp.Matrix([\n",
    "    [cz, -sz, 0],\n",
    "    [sz, cz, 0],\n",
    "    [0, 0, 1]\n",
    "])\n",
    "\n",
    "# Full rotation matrix (Z * Y * X)\n",
    "#R = R_z @ R_y @ R_x\n",
    "R_x\n"
   ]
  },
  {
   "cell_type": "code",
   "execution_count": 7,
   "metadata": {},
   "outputs": [
    {
     "data": {
      "text/latex": [
       "$\\displaystyle x^{\\urcorner} = a + e$"
      ],
      "text/plain": [
       "Eq(x^{\\urcorner}, a + e)"
      ]
     },
     "metadata": {},
     "output_type": "display_data"
    }
   ],
   "source": [
    "x_folded = a+e\n",
    "display(Eq(sp.Symbol(r'x^{\\urcorner}'), x_folded))"
   ]
  },
  {
   "cell_type": "code",
   "execution_count": 8,
   "metadata": {},
   "outputs": [
    {
     "data": {
      "text/latex": [
       "$\\displaystyle y^{\\urcorner} = \\frac{\\sqrt{- a^{2} \\left(1 - \\sin{\\left(\\gamma \\right)}\\right)^{2} + b^{2} \\cos^{2}{\\left(\\gamma \\right)}}}{\\cos{\\left(\\gamma \\right)}}$"
      ],
      "text/plain": [
       "Eq(y^{\\urcorner}, sqrt(-a**2*(1 - sin(\\gamma))**2 + b**2*cos(\\gamma)**2)/cos(\\gamma))"
      ]
     },
     "metadata": {},
     "output_type": "display_data"
    }
   ],
   "source": [
    "y_folded = sp.sqrt((b**2*sp.cos(gamma)**2) - a**2 * (1 - sp.sin(gamma))**2) / (sp.cos(gamma))\n",
    "display(Eq(sp.Symbol(r'y^{\\urcorner}'), y_folded))"
   ]
  },
  {
   "cell_type": "code",
   "execution_count": 9,
   "metadata": {},
   "outputs": [
    {
     "data": {
      "text/latex": [
       "$\\displaystyle z^{\\urcorner} = \\frac{a \\left(1 - \\sin{\\left(\\gamma \\right)}\\right)}{\\cos{\\left(\\gamma \\right)}}$"
      ],
      "text/plain": [
       "Eq(z^{\\urcorner}, a*(1 - sin(\\gamma))/cos(\\gamma))"
      ]
     },
     "metadata": {},
     "output_type": "display_data"
    }
   ],
   "source": [
    "z_folded = (a * (1 - sp.sin(gamma))) / sp.cos(gamma)\n",
    "display(Eq(sp.Symbol(r'z^{\\urcorner}'), z_folded))"
   ]
  },
  {
   "cell_type": "code",
   "execution_count": 10,
   "metadata": {},
   "outputs": [
    {
     "data": {
      "text/latex": [
       "$\\displaystyle \\theta_{x} = \\operatorname{acos}{\\left(\\frac{- a^{2} \\left(\\sin{\\left(\\gamma \\right)} - 1\\right)^{2} + b^{2} \\cos^{2}{\\left(\\gamma \\right)} - \\left(a \\left(\\sin{\\left(\\gamma \\right)} - 1\\right) + c \\cos^{2}{\\left(\\gamma \\right)}\\right)^{2}}{\\left(- 2 a c \\sin{\\left(\\gamma \\right)} + 2 a c - b^{2} - c^{2} \\cos^{2}{\\left(\\gamma \\right)}\\right) \\cos^{2}{\\left(\\gamma \\right)}} \\right)} - \\pi$"
      ],
      "text/plain": [
       "Eq(\\theta_x, acos((-a**2*(sin(\\gamma) - 1)**2 + b**2*cos(\\gamma)**2 - (a*(sin(\\gamma) - 1) + c*cos(\\gamma)**2)**2)/((-2*a*c*sin(\\gamma) + 2*a*c - b**2 - c**2*cos(\\gamma)**2)*cos(\\gamma)**2)) - pi)"
      ]
     },
     "metadata": {},
     "output_type": "display_data"
    }
   ],
   "source": [
    "# Calculating theta to follow the curvature of the tesselation\n",
    "theta = ((z_folded - c*sp.cos(gamma))**2- y_folded**2) / ((z_folded - c*sp.cos(gamma))**2+ y_folded**2)\n",
    "theta = -sp.pi +sp.acos(theta.simplify())\n",
    "display(Eq(Symbol(r'\\theta_x'), theta, evaluate=False)) "
   ]
  },
  {
   "cell_type": "code",
   "execution_count": 11,
   "metadata": {},
   "outputs": [
    {
     "data": {
      "text/plain": [
       "-0.03208748520889472"
      ]
     },
     "execution_count": 11,
     "metadata": {},
     "output_type": "execute_result"
    }
   ],
   "source": [
    "theta_x_num = np.array(theta.subs(subs_dict)).astype(np.float64).flatten().tolist()[0]\n",
    "theta_x_num"
   ]
  },
  {
   "cell_type": "code",
   "execution_count": 12,
   "metadata": {},
   "outputs": [
    {
     "data": {
      "text/plain": [
       "{a: 250.0,\n",
       " b: 403.75,\n",
       " c: 161.25,\n",
       " e: 71.5,\n",
       " \\gamma: 0.683,\n",
       " t: 15,\n",
       " theta_x: -0.03208748520889472}"
      ]
     },
     "execution_count": 12,
     "metadata": {},
     "output_type": "execute_result"
    }
   ],
   "source": [
    "# Substitute parameters\n",
    "subs_dict = {\n",
    "    a: a_num,\n",
    "    b: b_num,\n",
    "    c: c_num,\n",
    "    e: e_num,\n",
    "    gamma: gamma_num,\n",
    "    t: t_num,\n",
    "    theta_x: theta_x_num,\n",
    "}\n",
    "\n",
    "subs_dict"
   ]
  },
  {
   "cell_type": "code",
   "execution_count": 13,
   "metadata": {},
   "outputs": [
    {
     "data": {
      "text/latex": [
       "$\\displaystyle O_{\\gamma-}^{+} = \\left[\\begin{matrix}0\\\\0\\\\0\\end{matrix}\\right]$"
      ],
      "text/plain": [
       "Eq(O_{\\gamma-}^{+}, Matrix([\n",
       "[0],\n",
       "[0],\n",
       "[0]]))"
      ]
     },
     "metadata": {},
     "output_type": "display_data"
    }
   ],
   "source": [
    "O_gamma_center_lower = sp.Matrix([0, 0, 0])\n",
    "display(Eq(Symbol(r'O_{\\gamma-}^{+}'), O_gamma_center_lower, evaluate=False))"
   ]
  },
  {
   "cell_type": "code",
   "execution_count": 14,
   "metadata": {},
   "outputs": [
    {
     "data": {
      "text/latex": [
       "$\\displaystyle C_{\\gamma-}^{\\dashv} = \\left[\\begin{matrix}e\\\\0\\\\0\\end{matrix}\\right]$"
      ],
      "text/plain": [
       "Eq(C_{\\gamma-}^{\\dashv}, Matrix([\n",
       "[e],\n",
       "[0],\n",
       "[0]]))"
      ]
     },
     "metadata": {},
     "output_type": "display_data"
    }
   ],
   "source": [
    "C_gamma_mr_lower = sp.Matrix([e, 0, 0])\n",
    "C_gamma_mr_lower\n",
    "display(Eq(Symbol(r'C_{\\gamma-}^{\\dashv}'), C_gamma_mr_lower, evaluate=False))"
   ]
  },
  {
   "cell_type": "code",
   "execution_count": 15,
   "metadata": {},
   "outputs": [
    {
     "data": {
      "text/plain": [
       "([71.5, 0.0, 0.0], array([71.5,  0. ,  0. ]))"
      ]
     },
     "execution_count": 15,
     "metadata": {},
     "output_type": "execute_result"
    }
   ],
   "source": [
    "C_gamma_mr_lower_num = np.array(C_gamma_mr_lower.subs(subs_dict)).astype(np.float64).flatten().tolist()\n",
    "C_gamma_mr_lower_num, orig_X_Ia[0]"
   ]
  },
  {
   "cell_type": "code",
   "execution_count": 16,
   "metadata": {},
   "outputs": [
    {
     "data": {
      "text/latex": [
       "$\\displaystyle C_{\\gamma-}^{\\vdash} = \\left[\\begin{matrix}- e\\\\0\\\\0\\end{matrix}\\right]$"
      ],
      "text/plain": [
       "Eq(C_{\\gamma-}^{\\vdash}, Matrix([\n",
       "[-e],\n",
       "[ 0],\n",
       "[ 0]]))"
      ]
     },
     "metadata": {},
     "output_type": "display_data"
    }
   ],
   "source": [
    "C_gamma_ml_lower = sp.Matrix([-e, 0, 0])\n",
    "C_gamma_ml_lower\n",
    "display(Eq(Symbol(r'C_{\\gamma-}^{\\vdash}'), C_gamma_ml_lower, evaluate=False))"
   ]
  },
  {
   "cell_type": "code",
   "execution_count": 17,
   "metadata": {},
   "outputs": [
    {
     "data": {
      "text/plain": [
       "([-71.5, 0.0, 0.0], array([-71.5,   0. ,   0. ]))"
      ]
     },
     "execution_count": 17,
     "metadata": {},
     "output_type": "execute_result"
    }
   ],
   "source": [
    "C_gamma_ml_lower_num = np.array(C_gamma_ml_lower.subs(subs_dict)).astype(np.float64).flatten().tolist()\n",
    "C_gamma_ml_lower_num, orig_X_Ia[1]"
   ]
  },
  {
   "cell_type": "code",
   "execution_count": 18,
   "metadata": {},
   "outputs": [
    {
     "data": {
      "text/latex": [
       "$\\displaystyle V_{\\gamma-}^{\\dashv} = \\left[\\begin{matrix}c \\sin{\\left(\\gamma \\right)} + e\\\\0\\\\c \\cos{\\left(\\gamma \\right)}\\end{matrix}\\right]$"
      ],
      "text/plain": [
       "Eq(V_{\\gamma-}^{\\dashv}, Matrix([\n",
       "[c*sin(\\gamma) + e],\n",
       "[                0],\n",
       "[    c*cos(\\gamma)]]))"
      ]
     },
     "metadata": {},
     "output_type": "display_data"
    }
   ],
   "source": [
    "V_gamma_mr_lower = sp.Matrix([e+c*sp.sin(gamma), 0, c*sp.cos(gamma)])\n",
    "display(Eq(Symbol(r'V_{\\gamma-}^{\\dashv}'), V_gamma_mr_lower, evaluate=False))"
   ]
  },
  {
   "cell_type": "code",
   "execution_count": 19,
   "metadata": {},
   "outputs": [
    {
     "data": {
      "text/plain": [
       "([173.26856909385202, 0.0, 125.07885850370505],\n",
       " array([173.26856995,   0.        , 125.07910156]))"
      ]
     },
     "execution_count": 19,
     "metadata": {},
     "output_type": "execute_result"
    }
   ],
   "source": [
    "V_gamma_mr_lower_num = np.array(V_gamma_mr_lower.subs(subs_dict)).astype(np.float64).flatten().tolist()\n",
    "V_gamma_mr_lower_num, orig_X_Ia[6]"
   ]
  },
  {
   "cell_type": "code",
   "execution_count": 20,
   "metadata": {},
   "outputs": [
    {
     "data": {
      "text/latex": [
       "$\\displaystyle V_{\\gamma-}^{\\dashv} = \\left[\\begin{matrix}- c \\sin{\\left(\\gamma \\right)} - e\\\\0\\\\c \\cos{\\left(\\gamma \\right)}\\end{matrix}\\right]$"
      ],
      "text/plain": [
       "Eq(V_{\\gamma-}^{\\dashv}, Matrix([\n",
       "[-c*sin(\\gamma) - e],\n",
       "[                 0],\n",
       "[     c*cos(\\gamma)]]))"
      ]
     },
     "metadata": {},
     "output_type": "display_data"
    }
   ],
   "source": [
    "V_gamma_ml_lower = sp.Matrix([-e-c*sp.sin(gamma), 0, c*sp.cos(gamma)])\n",
    "display(Eq(Symbol(r'V_{\\gamma-}^{\\dashv}'), V_gamma_ml_lower, evaluate=False))"
   ]
  },
  {
   "cell_type": "code",
   "execution_count": 21,
   "metadata": {},
   "outputs": [
    {
     "data": {
      "text/plain": [
       "([-173.26856909385202, 0.0, 125.07885850370505],\n",
       " array([-173.26856995,    0.        ,  125.07910156]))"
      ]
     },
     "execution_count": 21,
     "metadata": {},
     "output_type": "execute_result"
    }
   ],
   "source": [
    "V_gamma_ml_lower_num = np.array(V_gamma_ml_lower.subs(subs_dict)).astype(np.float64).flatten().tolist()\n",
    "V_gamma_ml_lower_num, orig_X_Ia[7]"
   ]
  },
  {
   "cell_type": "code",
   "execution_count": 22,
   "metadata": {},
   "outputs": [
    {
     "data": {
      "text/latex": [
       "$\\displaystyle U_{\\gamma-}^{\\urcorner} = \\left[\\begin{matrix}a + e\\\\\\frac{\\sqrt{- a^{2} \\left(1 - \\sin{\\left(\\gamma \\right)}\\right)^{2} + b^{2} \\cos^{2}{\\left(\\gamma \\right)}}}{\\cos{\\left(\\gamma \\right)}}\\\\\\frac{a \\left(1 - \\sin{\\left(\\gamma \\right)}\\right)}{\\cos{\\left(\\gamma \\right)}}\\end{matrix}\\right]$"
      ],
      "text/plain": [
       "Eq(U_{\\gamma-}^{\\urcorner}, Matrix([\n",
       "[                                                             a + e],\n",
       "[sqrt(-a**2*(1 - sin(\\gamma))**2 + b**2*cos(\\gamma)**2)/cos(\\gamma)],\n",
       "[                                   a*(1 - sin(\\gamma))/cos(\\gamma)]]))"
      ]
     },
     "metadata": {},
     "output_type": "display_data"
    }
   ],
   "source": [
    "U_gamma_ur_lower = sp.Matrix([x_folded, y_folded, z_folded])\n",
    "display(Eq(Symbol(r'U_{\\gamma-}^{\\urcorner}'), U_gamma_ur_lower, evaluate=False))"
   ]
  },
  {
   "cell_type": "code",
   "execution_count": 23,
   "metadata": {},
   "outputs": [
    {
     "data": {
      "text/plain": [
       "([321.5, 385.8493740048242, 118.88785926277468],\n",
       " array([321.5       , 385.84936523, 118.88867188]))"
      ]
     },
     "execution_count": 23,
     "metadata": {},
     "output_type": "execute_result"
    }
   ],
   "source": [
    "U_gamma_ur_lower_num = np.array(U_gamma_ur_lower.subs(subs_dict)).astype(np.float64).flatten().tolist()\n",
    "U_gamma_ur_lower_num, orig_X_Ia[2]"
   ]
  },
  {
   "cell_type": "code",
   "execution_count": 24,
   "metadata": {},
   "outputs": [
    {
     "data": {
      "text/latex": [
       "$\\displaystyle U_{\\gamma-}^{\\ulcorner} = \\left[\\begin{matrix}a + e\\\\\\frac{\\sqrt{- a^{2} \\left(1 - \\sin{\\left(\\gamma \\right)}\\right)^{2} + b^{2} \\cos^{2}{\\left(\\gamma \\right)}}}{\\cos{\\left(\\gamma \\right)}}\\\\\\frac{a \\left(1 - \\sin{\\left(\\gamma \\right)}\\right)}{\\cos{\\left(\\gamma \\right)}}\\end{matrix}\\right]$"
      ],
      "text/plain": [
       "Eq(U_{\\gamma-}^{\\ulcorner}, Matrix([\n",
       "[                                                             a + e],\n",
       "[sqrt(-a**2*(1 - sin(\\gamma))**2 + b**2*cos(\\gamma)**2)/cos(\\gamma)],\n",
       "[                                   a*(1 - sin(\\gamma))/cos(\\gamma)]]))"
      ]
     },
     "metadata": {},
     "output_type": "display_data"
    }
   ],
   "source": [
    "U_gamma_ul_lower = sp.Matrix([-x_folded, y_folded, z_folded])\n",
    "display(Eq(Symbol(r'U_{\\gamma-}^{\\ulcorner}'), U_gamma_ur_lower, evaluate=False))"
   ]
  },
  {
   "cell_type": "code",
   "execution_count": 25,
   "metadata": {},
   "outputs": [
    {
     "data": {
      "text/plain": [
       "([-321.5, 385.8493740048242, 118.88785926277468],\n",
       " array([-321.5       ,  385.84936523,  118.88867188]))"
      ]
     },
     "execution_count": 25,
     "metadata": {},
     "output_type": "execute_result"
    }
   ],
   "source": [
    "U_gamma_ul_lower_num = np.array(U_gamma_ul_lower.subs(subs_dict)).astype(np.float64).flatten().tolist()\n",
    "U_gamma_ul_lower_num, orig_X_Ia[3]"
   ]
  },
  {
   "cell_type": "code",
   "execution_count": 26,
   "metadata": {},
   "outputs": [
    {
     "data": {
      "text/latex": [
       "$\\displaystyle U_{\\gamma-}^{\\llcorner} = \\left[\\begin{matrix}- a - e\\\\- \\frac{\\sqrt{- a^{2} \\left(1 - \\sin{\\left(\\gamma \\right)}\\right)^{2} + b^{2} \\cos^{2}{\\left(\\gamma \\right)}}}{\\cos{\\left(\\gamma \\right)}}\\\\\\frac{a \\left(1 - \\sin{\\left(\\gamma \\right)}\\right)}{\\cos{\\left(\\gamma \\right)}}\\end{matrix}\\right]$"
      ],
      "text/plain": [
       "Eq(U_{\\gamma-}^{\\llcorner}, Matrix([\n",
       "[                                                             -a - e],\n",
       "[-sqrt(-a**2*(1 - sin(\\gamma))**2 + b**2*cos(\\gamma)**2)/cos(\\gamma)],\n",
       "[                                    a*(1 - sin(\\gamma))/cos(\\gamma)]]))"
      ]
     },
     "metadata": {},
     "output_type": "display_data"
    }
   ],
   "source": [
    "U_gamma_ll_lower = sp.Matrix([-x_folded, -y_folded, z_folded])\n",
    "display(Eq(Symbol(r'U_{\\gamma-}^{\\llcorner}'), U_gamma_ll_lower, evaluate=False))"
   ]
  },
  {
   "cell_type": "code",
   "execution_count": 27,
   "metadata": {},
   "outputs": [
    {
     "data": {
      "text/plain": [
       "([-321.5, -385.8493740048242, 118.88785926277468],\n",
       " array([-321.5       , -385.84936523,  118.88867188]))"
      ]
     },
     "execution_count": 27,
     "metadata": {},
     "output_type": "execute_result"
    }
   ],
   "source": [
    "U_gamma_ll_lower_num = np.array(U_gamma_ll_lower.subs(subs_dict)).astype(np.float64).flatten().tolist()\n",
    "U_gamma_ll_lower_num, orig_X_Ia[5]"
   ]
  },
  {
   "cell_type": "code",
   "execution_count": 28,
   "metadata": {},
   "outputs": [
    {
     "data": {
      "text/latex": [
       "$\\displaystyle U_{\\gamma-}^{\\llcorner} = \\left[\\begin{matrix}- a - e\\\\- \\frac{\\sqrt{- a^{2} \\left(1 - \\sin{\\left(\\gamma \\right)}\\right)^{2} + b^{2} \\cos^{2}{\\left(\\gamma \\right)}}}{\\cos{\\left(\\gamma \\right)}}\\\\\\frac{a \\left(1 - \\sin{\\left(\\gamma \\right)}\\right)}{\\cos{\\left(\\gamma \\right)}}\\end{matrix}\\right]$"
      ],
      "text/plain": [
       "Eq(U_{\\gamma-}^{\\llcorner}, Matrix([\n",
       "[                                                             -a - e],\n",
       "[-sqrt(-a**2*(1 - sin(\\gamma))**2 + b**2*cos(\\gamma)**2)/cos(\\gamma)],\n",
       "[                                    a*(1 - sin(\\gamma))/cos(\\gamma)]]))"
      ]
     },
     "metadata": {},
     "output_type": "display_data"
    }
   ],
   "source": [
    "U_gamma_lr_lower = sp.Matrix([x_folded, -y_folded, z_folded])\n",
    "display(Eq(Symbol(r'U_{\\gamma-}^{\\llcorner}'), U_gamma_ll_lower, evaluate=False))"
   ]
  },
  {
   "cell_type": "code",
   "execution_count": 29,
   "metadata": {},
   "outputs": [
    {
     "data": {
      "text/plain": [
       "([321.5, -385.8493740048242, 118.88785926277468],\n",
       " array([ 321.5       , -385.84936523,  118.88867188]))"
      ]
     },
     "execution_count": 29,
     "metadata": {},
     "output_type": "execute_result"
    }
   ],
   "source": [
    "U_gamma_lr_lower_num = np.array(U_gamma_lr_lower.subs(subs_dict)).astype(np.float64).flatten().tolist()\n",
    "U_gamma_lr_lower_num, orig_X_Ia[4]"
   ]
  },
  {
   "cell_type": "code",
   "execution_count": 30,
   "metadata": {},
   "outputs": [
    {
     "data": {
      "text/latex": [
       "$\\displaystyle \\delta_{\\theta}^{\\urcorner} = \\left[\\begin{matrix}a + c \\sin{\\left(\\gamma \\right)} + 2 e\\\\\\frac{a \\left(1 - \\sin{\\left(\\gamma \\right)}\\right) \\sin{\\left(\\theta_{x} \\right)}}{\\cos{\\left(\\gamma \\right)}} + \\frac{\\sqrt{- a^{2} \\left(1 - \\sin{\\left(\\gamma \\right)}\\right)^{2} + b^{2} \\cos^{2}{\\left(\\gamma \\right)}} \\cos{\\left(\\theta_{x} \\right)}}{\\cos{\\left(\\gamma \\right)}}\\\\- \\frac{a \\left(1 - \\sin{\\left(\\gamma \\right)}\\right) \\cos{\\left(\\theta_{x} \\right)}}{\\cos{\\left(\\gamma \\right)}} + c \\cos{\\left(\\gamma \\right)} + \\frac{\\sqrt{- a^{2} \\left(1 - \\sin{\\left(\\gamma \\right)}\\right)^{2} + b^{2} \\cos^{2}{\\left(\\gamma \\right)}} \\sin{\\left(\\theta_{x} \\right)}}{\\cos{\\left(\\gamma \\right)}}\\end{matrix}\\right]$"
      ],
      "text/plain": [
       "Eq(\\delta_{\\theta}^{\\urcorner}, Matrix([\n",
       "[                                                                                                                        a + c*sin(\\gamma) + 2*e],\n",
       "[                 a*(1 - sin(\\gamma))*sin(theta_x)/cos(\\gamma) + sqrt(-a**2*(1 - sin(\\gamma))**2 + b**2*cos(\\gamma)**2)*cos(theta_x)/cos(\\gamma)],\n",
       "[-a*(1 - sin(\\gamma))*cos(theta_x)/cos(\\gamma) + c*cos(\\gamma) + sqrt(-a**2*(1 - sin(\\gamma))**2 + b**2*cos(\\gamma)**2)*sin(theta_x)/cos(\\gamma)]]))"
      ]
     },
     "metadata": {},
     "output_type": "display_data"
    }
   ],
   "source": [
    "delta_theta_ur = V_gamma_mr_lower - R_x * U_gamma_ll_lower\n",
    "display(Eq(Symbol(r'\\delta_{\\theta}^{\\urcorner}'), delta_theta_ur, evaluate=False))"
   ]
  },
  {
   "cell_type": "code",
   "execution_count": 31,
   "metadata": {},
   "outputs": [
    {
     "data": {
      "text/latex": [
       "$\\displaystyle \\delta_{\\theta}^{\\ulcorner} = \\left[\\begin{matrix}- a - c \\sin{\\left(\\gamma \\right)} - 2 e\\\\\\frac{a \\left(1 - \\sin{\\left(\\gamma \\right)}\\right) \\sin{\\left(\\theta_{x} \\right)}}{\\cos{\\left(\\gamma \\right)}} + \\frac{\\sqrt{- a^{2} \\left(1 - \\sin{\\left(\\gamma \\right)}\\right)^{2} + b^{2} \\cos^{2}{\\left(\\gamma \\right)}} \\cos{\\left(\\theta_{x} \\right)}}{\\cos{\\left(\\gamma \\right)}}\\\\- \\frac{a \\left(1 - \\sin{\\left(\\gamma \\right)}\\right) \\cos{\\left(\\theta_{x} \\right)}}{\\cos{\\left(\\gamma \\right)}} + c \\cos{\\left(\\gamma \\right)} + \\frac{\\sqrt{- a^{2} \\left(1 - \\sin{\\left(\\gamma \\right)}\\right)^{2} + b^{2} \\cos^{2}{\\left(\\gamma \\right)}} \\sin{\\left(\\theta_{x} \\right)}}{\\cos{\\left(\\gamma \\right)}}\\end{matrix}\\right]$"
      ],
      "text/plain": [
       "Eq(\\delta_{\\theta}^{\\ulcorner}, Matrix([\n",
       "[                                                                                                                       -a - c*sin(\\gamma) - 2*e],\n",
       "[                 a*(1 - sin(\\gamma))*sin(theta_x)/cos(\\gamma) + sqrt(-a**2*(1 - sin(\\gamma))**2 + b**2*cos(\\gamma)**2)*cos(theta_x)/cos(\\gamma)],\n",
       "[-a*(1 - sin(\\gamma))*cos(theta_x)/cos(\\gamma) + c*cos(\\gamma) + sqrt(-a**2*(1 - sin(\\gamma))**2 + b**2*cos(\\gamma)**2)*sin(theta_x)/cos(\\gamma)]]))"
      ]
     },
     "metadata": {},
     "output_type": "display_data"
    }
   ],
   "source": [
    "delta_theta_ul = V_gamma_ml_lower - R_x * U_gamma_lr_lower\n",
    "display(Eq(Symbol(r'\\delta_{\\theta}^{\\ulcorner}'), delta_theta_ul, evaluate=False))"
   ]
  },
  {
   "cell_type": "code",
   "execution_count": 32,
   "metadata": {},
   "outputs": [
    {
     "data": {
      "text/latex": [
       "$\\displaystyle M_{\\gamma-}^{\\urcorner} = \\left[\\begin{matrix}a + c \\sin{\\left(\\gamma \\right)} + e\\\\\\frac{a \\left(1 - \\sin{\\left(\\gamma \\right)}\\right) \\sin{\\left(\\theta_{x} \\right)}}{\\cos{\\left(\\gamma \\right)}} + \\frac{\\sqrt{- a^{2} \\left(1 - \\sin{\\left(\\gamma \\right)}\\right)^{2} + b^{2} \\cos^{2}{\\left(\\gamma \\right)}} \\cos{\\left(\\theta_{x} \\right)}}{\\cos{\\left(\\gamma \\right)}}\\\\- \\frac{a \\left(1 - \\sin{\\left(\\gamma \\right)}\\right) \\cos{\\left(\\theta_{x} \\right)}}{\\cos{\\left(\\gamma \\right)}} + c \\cos{\\left(\\gamma \\right)} + \\frac{\\sqrt{- a^{2} \\left(1 - \\sin{\\left(\\gamma \\right)}\\right)^{2} + b^{2} \\cos^{2}{\\left(\\gamma \\right)}} \\sin{\\left(\\theta_{x} \\right)}}{\\cos{\\left(\\gamma \\right)}}\\end{matrix}\\right]$"
      ],
      "text/plain": [
       "Eq(M_{\\gamma-}^{\\urcorner}, Matrix([\n",
       "[                                                                                                                          a + c*sin(\\gamma) + e],\n",
       "[                 a*(1 - sin(\\gamma))*sin(theta_x)/cos(\\gamma) + sqrt(-a**2*(1 - sin(\\gamma))**2 + b**2*cos(\\gamma)**2)*cos(theta_x)/cos(\\gamma)],\n",
       "[-a*(1 - sin(\\gamma))*cos(theta_x)/cos(\\gamma) + c*cos(\\gamma) + sqrt(-a**2*(1 - sin(\\gamma))**2 + b**2*cos(\\gamma)**2)*sin(theta_x)/cos(\\gamma)]]))"
      ]
     },
     "metadata": {},
     "output_type": "display_data"
    }
   ],
   "source": [
    "M_gamma_ur_lower = R_x @ -C_gamma_mr_lower + delta_theta_ur\n",
    "display(Eq(Symbol(r'M_{\\gamma-}^{\\urcorner}'), M_gamma_ur_lower, evaluate=False))"
   ]
  },
  {
   "cell_type": "code",
   "execution_count": 33,
   "metadata": {},
   "outputs": [
    {
     "data": {
      "text/plain": [
       "(array([423.26856909, 381.83659666,  -6.12661375]),\n",
       " array([423.26856909, 381.83660889,  -6.12597656]))"
      ]
     },
     "execution_count": 33,
     "metadata": {},
     "output_type": "execute_result"
    }
   ],
   "source": [
    "M_gamma_ur_lower_num = np.array(M_gamma_ur_lower.subs(subs_dict).evalf(), dtype=float).flatten()\n",
    "M_gamma_ur_lower_num, orig_X_Ia[14]"
   ]
  },
  {
   "cell_type": "code",
   "execution_count": 34,
   "metadata": {},
   "outputs": [
    {
     "data": {
      "text/latex": [
       "$\\displaystyle M_{\\gamma-}^{\\ulcorner} = \\left[\\begin{matrix}- a - c \\sin{\\left(\\gamma \\right)} - e\\\\\\frac{a \\left(1 - \\sin{\\left(\\gamma \\right)}\\right) \\sin{\\left(\\theta_{x} \\right)}}{\\cos{\\left(\\gamma \\right)}} + \\frac{\\sqrt{- a^{2} \\left(1 - \\sin{\\left(\\gamma \\right)}\\right)^{2} + b^{2} \\cos^{2}{\\left(\\gamma \\right)}} \\cos{\\left(\\theta_{x} \\right)}}{\\cos{\\left(\\gamma \\right)}}\\\\- \\frac{a \\left(1 - \\sin{\\left(\\gamma \\right)}\\right) \\cos{\\left(\\theta_{x} \\right)}}{\\cos{\\left(\\gamma \\right)}} + c \\cos{\\left(\\gamma \\right)} + \\frac{\\sqrt{- a^{2} \\left(1 - \\sin{\\left(\\gamma \\right)}\\right)^{2} + b^{2} \\cos^{2}{\\left(\\gamma \\right)}} \\sin{\\left(\\theta_{x} \\right)}}{\\cos{\\left(\\gamma \\right)}}\\end{matrix}\\right]$"
      ],
      "text/plain": [
       "Eq(M_{\\gamma-}^{\\ulcorner}, Matrix([\n",
       "[                                                                                                                         -a - c*sin(\\gamma) - e],\n",
       "[                 a*(1 - sin(\\gamma))*sin(theta_x)/cos(\\gamma) + sqrt(-a**2*(1 - sin(\\gamma))**2 + b**2*cos(\\gamma)**2)*cos(theta_x)/cos(\\gamma)],\n",
       "[-a*(1 - sin(\\gamma))*cos(theta_x)/cos(\\gamma) + c*cos(\\gamma) + sqrt(-a**2*(1 - sin(\\gamma))**2 + b**2*cos(\\gamma)**2)*sin(theta_x)/cos(\\gamma)]]))"
      ]
     },
     "metadata": {},
     "output_type": "display_data"
    }
   ],
   "source": [
    "M_gamma_ul_lower = M_gamma_ur_lower.multiply_elementwise(sp.Matrix([-1, 1, 1]))\n",
    "display(Eq(Symbol(r'M_{\\gamma-}^{\\ulcorner}'), M_gamma_ul_lower, evaluate=False))"
   ]
  },
  {
   "cell_type": "code",
   "execution_count": 35,
   "metadata": {},
   "outputs": [
    {
     "data": {
      "text/plain": [
       "(array([-423.26856909,  381.83659666,   -6.12661375]),\n",
       " array([-423.26856909,  381.83660889,   -6.12597656]))"
      ]
     },
     "execution_count": 35,
     "metadata": {},
     "output_type": "execute_result"
    }
   ],
   "source": [
    "M_gamma_ul_lower_num = np.array(M_gamma_ul_lower.subs(subs_dict).evalf(), dtype=float).flatten()\n",
    "M_gamma_ul_lower_num, orig_X_Ia[8]"
   ]
  },
  {
   "cell_type": "code",
   "execution_count": 36,
   "metadata": {},
   "outputs": [
    {
     "data": {
      "text/latex": [
       "$\\displaystyle M_{\\gamma-}^{\\llcorner} = \\left[\\begin{matrix}- a - c \\sin{\\left(\\gamma \\right)} - e\\\\- \\frac{a \\left(1 - \\sin{\\left(\\gamma \\right)}\\right) \\sin{\\left(\\theta_{x} \\right)}}{\\cos{\\left(\\gamma \\right)}} - \\frac{\\sqrt{- a^{2} \\left(1 - \\sin{\\left(\\gamma \\right)}\\right)^{2} + b^{2} \\cos^{2}{\\left(\\gamma \\right)}} \\cos{\\left(\\theta_{x} \\right)}}{\\cos{\\left(\\gamma \\right)}}\\\\- \\frac{a \\left(1 - \\sin{\\left(\\gamma \\right)}\\right) \\cos{\\left(\\theta_{x} \\right)}}{\\cos{\\left(\\gamma \\right)}} + c \\cos{\\left(\\gamma \\right)} + \\frac{\\sqrt{- a^{2} \\left(1 - \\sin{\\left(\\gamma \\right)}\\right)^{2} + b^{2} \\cos^{2}{\\left(\\gamma \\right)}} \\sin{\\left(\\theta_{x} \\right)}}{\\cos{\\left(\\gamma \\right)}}\\end{matrix}\\right]$"
      ],
      "text/plain": [
       "Eq(M_{\\gamma-}^{\\llcorner}, Matrix([\n",
       "[                                                                                                                         -a - c*sin(\\gamma) - e],\n",
       "[                -a*(1 - sin(\\gamma))*sin(theta_x)/cos(\\gamma) - sqrt(-a**2*(1 - sin(\\gamma))**2 + b**2*cos(\\gamma)**2)*cos(theta_x)/cos(\\gamma)],\n",
       "[-a*(1 - sin(\\gamma))*cos(theta_x)/cos(\\gamma) + c*cos(\\gamma) + sqrt(-a**2*(1 - sin(\\gamma))**2 + b**2*cos(\\gamma)**2)*sin(theta_x)/cos(\\gamma)]]))"
      ]
     },
     "metadata": {},
     "output_type": "display_data"
    }
   ],
   "source": [
    "M_gamma_ll_lower = M_gamma_ur_lower.multiply_elementwise(sp.Matrix([-1, -1, 1]))\n",
    "display(Eq(Symbol(r'M_{\\gamma-}^{\\llcorner}'), M_gamma_ll_lower, evaluate=False))"
   ]
  },
  {
   "cell_type": "code",
   "execution_count": 37,
   "metadata": {},
   "outputs": [
    {
     "data": {
      "text/plain": [
       "(array([-423.26856909, -381.83659666,   -6.12661375]),\n",
       " array([-423.26856909, -381.83660889,   -6.12597656]))"
      ]
     },
     "execution_count": 37,
     "metadata": {},
     "output_type": "execute_result"
    }
   ],
   "source": [
    "M_gamma_ll_lower_num = np.array(M_gamma_ll_lower.subs(subs_dict).evalf(), dtype=float).flatten()\n",
    "M_gamma_ll_lower_num, orig_X_Ia[11]"
   ]
  },
  {
   "cell_type": "code",
   "execution_count": 38,
   "metadata": {},
   "outputs": [
    {
     "data": {
      "text/latex": [
       "$\\displaystyle M_{\\gamma-}^{\\lrcorner} = \\left[\\begin{matrix}a + c \\sin{\\left(\\gamma \\right)} + e\\\\- \\frac{a \\left(1 - \\sin{\\left(\\gamma \\right)}\\right) \\sin{\\left(\\theta_{x} \\right)}}{\\cos{\\left(\\gamma \\right)}} - \\frac{\\sqrt{- a^{2} \\left(1 - \\sin{\\left(\\gamma \\right)}\\right)^{2} + b^{2} \\cos^{2}{\\left(\\gamma \\right)}} \\cos{\\left(\\theta_{x} \\right)}}{\\cos{\\left(\\gamma \\right)}}\\\\- \\frac{a \\left(1 - \\sin{\\left(\\gamma \\right)}\\right) \\cos{\\left(\\theta_{x} \\right)}}{\\cos{\\left(\\gamma \\right)}} + c \\cos{\\left(\\gamma \\right)} + \\frac{\\sqrt{- a^{2} \\left(1 - \\sin{\\left(\\gamma \\right)}\\right)^{2} + b^{2} \\cos^{2}{\\left(\\gamma \\right)}} \\sin{\\left(\\theta_{x} \\right)}}{\\cos{\\left(\\gamma \\right)}}\\end{matrix}\\right]$"
      ],
      "text/plain": [
       "Eq(M_{\\gamma-}^{\\lrcorner}, Matrix([\n",
       "[                                                                                                                          a + c*sin(\\gamma) + e],\n",
       "[                -a*(1 - sin(\\gamma))*sin(theta_x)/cos(\\gamma) - sqrt(-a**2*(1 - sin(\\gamma))**2 + b**2*cos(\\gamma)**2)*cos(theta_x)/cos(\\gamma)],\n",
       "[-a*(1 - sin(\\gamma))*cos(theta_x)/cos(\\gamma) + c*cos(\\gamma) + sqrt(-a**2*(1 - sin(\\gamma))**2 + b**2*cos(\\gamma)**2)*sin(theta_x)/cos(\\gamma)]]))"
      ]
     },
     "metadata": {},
     "output_type": "display_data"
    }
   ],
   "source": [
    "M_gamma_lr_lower = M_gamma_ur_lower.multiply_elementwise(sp.Matrix([1, -1, 1]))\n",
    "display(Eq(Symbol(r'M_{\\gamma-}^{\\lrcorner}'), M_gamma_lr_lower, evaluate=False))"
   ]
  },
  {
   "cell_type": "code",
   "execution_count": 39,
   "metadata": {},
   "outputs": [
    {
     "data": {
      "text/plain": [
       "(array([ 423.26856909, -381.83659666,   -6.12661375]),\n",
       " array([ 423.26856909, -381.83660889,   -6.12597656]))"
      ]
     },
     "execution_count": 39,
     "metadata": {},
     "output_type": "execute_result"
    }
   ],
   "source": [
    "M_gamma_lr_lower_num = np.array(M_gamma_lr_lower.subs(subs_dict).evalf(), dtype=float).flatten()\n",
    "M_gamma_lr_lower_num, orig_X_Ia[17]"
   ]
  },
  {
   "cell_type": "code",
   "execution_count": 40,
   "metadata": {},
   "outputs": [
    {
     "data": {
      "text/latex": [
       "$\\displaystyle H_{\\gamma-}^{\\urcorner} = \\left[\\begin{matrix}a + c \\sin{\\left(\\gamma \\right)} + 2 e\\\\\\frac{a \\left(1 - \\sin{\\left(\\gamma \\right)}\\right) \\sin{\\left(\\theta_{x} \\right)}}{\\cos{\\left(\\gamma \\right)}} + \\frac{\\sqrt{- a^{2} \\left(1 - \\sin{\\left(\\gamma \\right)}\\right)^{2} + b^{2} \\cos^{2}{\\left(\\gamma \\right)}} \\cos{\\left(\\theta_{x} \\right)}}{\\cos{\\left(\\gamma \\right)}}\\\\- \\frac{a \\left(1 - \\sin{\\left(\\gamma \\right)}\\right) \\cos{\\left(\\theta_{x} \\right)}}{\\cos{\\left(\\gamma \\right)}} + c \\cos{\\left(\\gamma \\right)} + \\frac{\\sqrt{- a^{2} \\left(1 - \\sin{\\left(\\gamma \\right)}\\right)^{2} + b^{2} \\cos^{2}{\\left(\\gamma \\right)}} \\sin{\\left(\\theta_{x} \\right)}}{\\cos{\\left(\\gamma \\right)}}\\end{matrix}\\right]$"
      ],
      "text/plain": [
       "Eq(H_{\\gamma-}^{\\urcorner}, Matrix([\n",
       "[                                                                                                                        a + c*sin(\\gamma) + 2*e],\n",
       "[                 a*(1 - sin(\\gamma))*sin(theta_x)/cos(\\gamma) + sqrt(-a**2*(1 - sin(\\gamma))**2 + b**2*cos(\\gamma)**2)*cos(theta_x)/cos(\\gamma)],\n",
       "[-a*(1 - sin(\\gamma))*cos(theta_x)/cos(\\gamma) + c*cos(\\gamma) + sqrt(-a**2*(1 - sin(\\gamma))**2 + b**2*cos(\\gamma)**2)*sin(theta_x)/cos(\\gamma)]]))"
      ]
     },
     "metadata": {},
     "output_type": "display_data"
    }
   ],
   "source": [
    "H_gamma_ur_lower = delta_theta_ur\n",
    "display(Eq(Symbol(r'H_{\\gamma-}^{\\urcorner}'), H_gamma_ur_lower, evaluate=False))"
   ]
  },
  {
   "cell_type": "code",
   "execution_count": 41,
   "metadata": {},
   "outputs": [
    {
     "data": {
      "text/plain": [
       "(array([494.76856909, 381.83659666,  -6.12661375]),\n",
       " array([494.76856909, 381.83660889,  -6.12597656]))"
      ]
     },
     "execution_count": 41,
     "metadata": {},
     "output_type": "execute_result"
    }
   ],
   "source": [
    "H_gamma_ur_lower_num = np.array(H_gamma_ur_lower.subs(subs_dict).evalf(), dtype=float).flatten()\n",
    "H_gamma_ur_lower_num, orig_X_Ia[13]"
   ]
  },
  {
   "cell_type": "code",
   "execution_count": 42,
   "metadata": {},
   "outputs": [
    {
     "data": {
      "text/latex": [
       "$\\displaystyle H_{\\gamma-}^{\\ulcorner} = \\left[\\begin{matrix}- a - c \\sin{\\left(\\gamma \\right)} - 2 e\\\\\\frac{a \\left(1 - \\sin{\\left(\\gamma \\right)}\\right) \\sin{\\left(\\theta_{x} \\right)}}{\\cos{\\left(\\gamma \\right)}} + \\frac{\\sqrt{- a^{2} \\left(1 - \\sin{\\left(\\gamma \\right)}\\right)^{2} + b^{2} \\cos^{2}{\\left(\\gamma \\right)}} \\cos{\\left(\\theta_{x} \\right)}}{\\cos{\\left(\\gamma \\right)}}\\\\- \\frac{a \\left(1 - \\sin{\\left(\\gamma \\right)}\\right) \\cos{\\left(\\theta_{x} \\right)}}{\\cos{\\left(\\gamma \\right)}} + c \\cos{\\left(\\gamma \\right)} + \\frac{\\sqrt{- a^{2} \\left(1 - \\sin{\\left(\\gamma \\right)}\\right)^{2} + b^{2} \\cos^{2}{\\left(\\gamma \\right)}} \\sin{\\left(\\theta_{x} \\right)}}{\\cos{\\left(\\gamma \\right)}}\\end{matrix}\\right]$"
      ],
      "text/plain": [
       "Eq(H_{\\gamma-}^{\\ulcorner}, Matrix([\n",
       "[                                                                                                                       -a - c*sin(\\gamma) - 2*e],\n",
       "[                 a*(1 - sin(\\gamma))*sin(theta_x)/cos(\\gamma) + sqrt(-a**2*(1 - sin(\\gamma))**2 + b**2*cos(\\gamma)**2)*cos(theta_x)/cos(\\gamma)],\n",
       "[-a*(1 - sin(\\gamma))*cos(theta_x)/cos(\\gamma) + c*cos(\\gamma) + sqrt(-a**2*(1 - sin(\\gamma))**2 + b**2*cos(\\gamma)**2)*sin(theta_x)/cos(\\gamma)]]))"
      ]
     },
     "metadata": {},
     "output_type": "display_data"
    }
   ],
   "source": [
    "H_gamma_ul_lower = delta_theta_ur.multiply_elementwise(sp.Matrix([-1, 1, 1]))\n",
    "display(Eq(Symbol(r'H_{\\gamma-}^{\\ulcorner}'), H_gamma_ul_lower, evaluate=False))"
   ]
  },
  {
   "cell_type": "code",
   "execution_count": 43,
   "metadata": {},
   "outputs": [
    {
     "data": {
      "text/plain": [
       "(array([-494.76856909,  381.83659666,   -6.12661375]),\n",
       " array([-494.76856909,  381.83660889,   -6.12597656]))"
      ]
     },
     "execution_count": 43,
     "metadata": {},
     "output_type": "execute_result"
    }
   ],
   "source": [
    "H_gamma_ul_lower_num = np.array(H_gamma_ul_lower.subs(subs_dict).evalf(), dtype=float).flatten()\n",
    "H_gamma_ul_lower_num, orig_X_Ia[9]"
   ]
  },
  {
   "cell_type": "code",
   "execution_count": 44,
   "metadata": {},
   "outputs": [
    {
     "data": {
      "text/latex": [
       "$\\displaystyle H_{\\gamma-}^{\\llcorner} = \\left[\\begin{matrix}- a - c \\sin{\\left(\\gamma \\right)} - 2 e\\\\- \\frac{a \\left(1 - \\sin{\\left(\\gamma \\right)}\\right) \\sin{\\left(\\theta_{x} \\right)}}{\\cos{\\left(\\gamma \\right)}} - \\frac{\\sqrt{- a^{2} \\left(1 - \\sin{\\left(\\gamma \\right)}\\right)^{2} + b^{2} \\cos^{2}{\\left(\\gamma \\right)}} \\cos{\\left(\\theta_{x} \\right)}}{\\cos{\\left(\\gamma \\right)}}\\\\- \\frac{a \\left(1 - \\sin{\\left(\\gamma \\right)}\\right) \\cos{\\left(\\theta_{x} \\right)}}{\\cos{\\left(\\gamma \\right)}} + c \\cos{\\left(\\gamma \\right)} + \\frac{\\sqrt{- a^{2} \\left(1 - \\sin{\\left(\\gamma \\right)}\\right)^{2} + b^{2} \\cos^{2}{\\left(\\gamma \\right)}} \\sin{\\left(\\theta_{x} \\right)}}{\\cos{\\left(\\gamma \\right)}}\\end{matrix}\\right]$"
      ],
      "text/plain": [
       "Eq(H_{\\gamma-}^{\\llcorner}, Matrix([\n",
       "[                                                                                                                       -a - c*sin(\\gamma) - 2*e],\n",
       "[                -a*(1 - sin(\\gamma))*sin(theta_x)/cos(\\gamma) - sqrt(-a**2*(1 - sin(\\gamma))**2 + b**2*cos(\\gamma)**2)*cos(theta_x)/cos(\\gamma)],\n",
       "[-a*(1 - sin(\\gamma))*cos(theta_x)/cos(\\gamma) + c*cos(\\gamma) + sqrt(-a**2*(1 - sin(\\gamma))**2 + b**2*cos(\\gamma)**2)*sin(theta_x)/cos(\\gamma)]]))"
      ]
     },
     "metadata": {},
     "output_type": "display_data"
    }
   ],
   "source": [
    "H_gamma_ll_lower = delta_theta_ur.multiply_elementwise(sp.Matrix([-1, -1, 1]))\n",
    "display(Eq(Symbol(r'H_{\\gamma-}^{\\llcorner}'), H_gamma_ll_lower, evaluate=False))"
   ]
  },
  {
   "cell_type": "code",
   "execution_count": 45,
   "metadata": {},
   "outputs": [
    {
     "data": {
      "text/plain": [
       "(array([-494.76856909, -381.83659666,   -6.12661375]),\n",
       " array([-494.76856909, -381.83660889,   -6.12597656]))"
      ]
     },
     "execution_count": 45,
     "metadata": {},
     "output_type": "execute_result"
    }
   ],
   "source": [
    "H_gamma_ll_lower_num = np.array(H_gamma_ll_lower.subs(subs_dict).evalf(), dtype=float).flatten()\n",
    "H_gamma_ll_lower_num, orig_X_Ia[12]"
   ]
  },
  {
   "cell_type": "code",
   "execution_count": 46,
   "metadata": {},
   "outputs": [
    {
     "data": {
      "text/latex": [
       "$\\displaystyle H_{\\gamma-}^{\\llcorner} = \\left[\\begin{matrix}a + c \\sin{\\left(\\gamma \\right)} + 2 e\\\\- \\frac{a \\left(1 - \\sin{\\left(\\gamma \\right)}\\right) \\sin{\\left(\\theta_{x} \\right)}}{\\cos{\\left(\\gamma \\right)}} - \\frac{\\sqrt{- a^{2} \\left(1 - \\sin{\\left(\\gamma \\right)}\\right)^{2} + b^{2} \\cos^{2}{\\left(\\gamma \\right)}} \\cos{\\left(\\theta_{x} \\right)}}{\\cos{\\left(\\gamma \\right)}}\\\\- \\frac{a \\left(1 - \\sin{\\left(\\gamma \\right)}\\right) \\cos{\\left(\\theta_{x} \\right)}}{\\cos{\\left(\\gamma \\right)}} + c \\cos{\\left(\\gamma \\right)} + \\frac{\\sqrt{- a^{2} \\left(1 - \\sin{\\left(\\gamma \\right)}\\right)^{2} + b^{2} \\cos^{2}{\\left(\\gamma \\right)}} \\sin{\\left(\\theta_{x} \\right)}}{\\cos{\\left(\\gamma \\right)}}\\end{matrix}\\right]$"
      ],
      "text/plain": [
       "Eq(H_{\\gamma-}^{\\llcorner}, Matrix([\n",
       "[                                                                                                                        a + c*sin(\\gamma) + 2*e],\n",
       "[                -a*(1 - sin(\\gamma))*sin(theta_x)/cos(\\gamma) - sqrt(-a**2*(1 - sin(\\gamma))**2 + b**2*cos(\\gamma)**2)*cos(theta_x)/cos(\\gamma)],\n",
       "[-a*(1 - sin(\\gamma))*cos(theta_x)/cos(\\gamma) + c*cos(\\gamma) + sqrt(-a**2*(1 - sin(\\gamma))**2 + b**2*cos(\\gamma)**2)*sin(theta_x)/cos(\\gamma)]]))"
      ]
     },
     "metadata": {},
     "output_type": "display_data"
    }
   ],
   "source": [
    "H_gamma_lr_lower = delta_theta_ur.multiply_elementwise(sp.Matrix([1, -1, 1]))\n",
    "display(Eq(Symbol(r'H_{\\gamma-}^{\\llcorner}'), H_gamma_lr_lower, evaluate=False))"
   ]
  },
  {
   "cell_type": "code",
   "execution_count": 47,
   "metadata": {},
   "outputs": [
    {
     "data": {
      "text/plain": [
       "(array([ 494.76856909, -381.83659666,   -6.12661375]),\n",
       " array([ 494.76856909, -381.83660889,   -6.12597656]))"
      ]
     },
     "execution_count": 47,
     "metadata": {},
     "output_type": "execute_result"
    }
   ],
   "source": [
    "H_gamma_lr_lower_num = np.array(H_gamma_lr_lower.subs(subs_dict).evalf(), dtype=float).flatten()\n",
    "H_gamma_lr_lower_num, orig_X_Ia[16]"
   ]
  },
  {
   "cell_type": "code",
   "execution_count": 48,
   "metadata": {},
   "outputs": [
    {
     "data": {
      "text/latex": [
       "$\\displaystyle H_{\\gamma-}^{\\dashv} = \\left[\\begin{matrix}a + c \\sin{\\left(\\gamma \\right)} + 2 e\\\\0\\\\c \\cos{\\left(\\gamma \\right)}\\end{matrix}\\right]$"
      ],
      "text/plain": [
       "Eq(H_{\\gamma-}^{\\dashv}, Matrix([\n",
       "[a + c*sin(\\gamma) + 2*e],\n",
       "[                      0],\n",
       "[          c*cos(\\gamma)]]))"
      ]
     },
     "metadata": {},
     "output_type": "display_data"
    }
   ],
   "source": [
    "H_gamma_mr_lower = sp.Matrix([a + 2*e+c*sp.sin(gamma), 0, c*sp.cos(gamma)])\n",
    "display(Eq(Symbol(r'H_{\\gamma-}^{\\dashv}'), H_gamma_mr_lower, evaluate=False))"
   ]
  },
  {
   "cell_type": "code",
   "execution_count": 49,
   "metadata": {},
   "outputs": [
    {
     "data": {
      "text/plain": [
       "(array([494.76856909,   0.        , 125.0788585 ]),\n",
       " array([ 4.94768554e+02, -7.62939453e-06,  1.25079102e+02]))"
      ]
     },
     "execution_count": 49,
     "metadata": {},
     "output_type": "execute_result"
    }
   ],
   "source": [
    "H_gamma_mr_lower_num = np.array(H_gamma_mr_lower.subs(subs_dict)).astype(np.float64).flatten()\n",
    "H_gamma_mr_lower_num, orig_X_Ia[15]"
   ]
  },
  {
   "cell_type": "code",
   "execution_count": 50,
   "metadata": {},
   "outputs": [
    {
     "data": {
      "text/latex": [
       "$\\displaystyle H_{\\gamma-}^{\\vdash} = \\left[\\begin{matrix}- a - c \\sin{\\left(\\gamma \\right)} - 2 e\\\\0\\\\c \\cos{\\left(\\gamma \\right)}\\end{matrix}\\right]$"
      ],
      "text/plain": [
       "Eq(H_{\\gamma-}^{\\vdash}, Matrix([\n",
       "[-a - c*sin(\\gamma) - 2*e],\n",
       "[                       0],\n",
       "[           c*cos(\\gamma)]]))"
      ]
     },
     "metadata": {},
     "output_type": "display_data"
    }
   ],
   "source": [
    "H_gamma_ml_lower = sp.Matrix([-a-2*e-c*sp.sin(gamma), 0, c*sp.cos(gamma)])\n",
    "display(Eq(Symbol(r'H_{\\gamma-}^{\\vdash}'), H_gamma_ml_lower, evaluate=False))"
   ]
  },
  {
   "cell_type": "code",
   "execution_count": 51,
   "metadata": {},
   "outputs": [
    {
     "data": {
      "text/plain": [
       "(array([-494.76856909,    0.        ,  125.0788585 ]),\n",
       " array([-4.94768554e+02, -7.62939453e-06,  1.25079102e+02]))"
      ]
     },
     "execution_count": 51,
     "metadata": {},
     "output_type": "execute_result"
    }
   ],
   "source": [
    "H_gamma_ml_lower_num = np.array(H_gamma_ml_lower.subs(subs_dict)).astype(np.float64).flatten()\n",
    "H_gamma_ml_lower_num, orig_X_Ia[10]"
   ]
  },
  {
   "cell_type": "code",
   "execution_count": 52,
   "metadata": {},
   "outputs": [
    {
     "data": {
      "text/latex": [
       "$\\displaystyle O_{\\gamma+}^{+} = \\left[\\begin{matrix}0\\\\0\\\\t\\end{matrix}\\right]$"
      ],
      "text/plain": [
       "Eq(O_{\\gamma+}^{+}, Matrix([\n",
       "[0],\n",
       "[0],\n",
       "[t]]))"
      ]
     },
     "metadata": {},
     "output_type": "display_data"
    }
   ],
   "source": [
    "O_gamma_center_upper = sp.Matrix([0, 0, t])\n",
    "display(Eq(Symbol(r'O_{\\gamma+}^{+}'), O_gamma_center_upper, evaluate=False))"
   ]
  },
  {
   "cell_type": "code",
   "execution_count": 53,
   "metadata": {},
   "outputs": [
    {
     "data": {
      "text/latex": [
       "$\\displaystyle C_{\\gamma+}^{\\dashv} = \\left[\\begin{matrix}e - t \\cot{\\left(\\frac{\\gamma}{2} + \\frac{\\pi}{4} \\right)}\\\\0\\\\t\\end{matrix}\\right]$"
      ],
      "text/plain": [
       "Eq(C_{\\gamma+}^{\\dashv}, Matrix([\n",
       "[e - t*cot(\\gamma/2 + pi/4)],\n",
       "[                         0],\n",
       "[                         t]]))"
      ]
     },
     "metadata": {},
     "output_type": "display_data"
    }
   ],
   "source": [
    "C_gamma_mr_upper = sp.Matrix([e-t*sp.tan(alpha/2), 0, t])\n",
    "display(Eq(Symbol(r'C_{\\gamma+}^{\\dashv}'), C_gamma_mr_upper, evaluate=False))\n"
   ]
  },
  {
   "cell_type": "code",
   "execution_count": 54,
   "metadata": {},
   "outputs": [
    {
     "data": {
      "text/latex": [
       "$\\displaystyle V_{\\gamma+}^{\\dashv} = \\left[\\begin{matrix}c \\sin{\\left(\\gamma \\right)} + e - t \\cot{\\left(\\frac{\\gamma}{2} + \\frac{\\pi}{4} \\right)}\\\\0\\\\c \\cos{\\left(\\gamma \\right)} + t\\end{matrix}\\right]$"
      ],
      "text/plain": [
       "Eq(V_{\\gamma+}^{\\dashv}, Matrix([\n",
       "[c*sin(\\gamma) + e - t*cot(\\gamma/2 + pi/4)],\n",
       "[                                         0],\n",
       "[                         c*cos(\\gamma) + t]]))"
      ]
     },
     "metadata": {},
     "output_type": "display_data"
    }
   ],
   "source": [
    "V_gamma_mr_upper = sp.Matrix([e+c*sp.sin(gamma)-t*sp.tan(alpha/2), 0, c*sp.cos(gamma)+t])\n",
    "display(Eq(Symbol(r'V_{\\gamma+}^{\\dashv}'), V_gamma_mr_upper, evaluate=False))\n"
   ]
  },
  {
   "cell_type": "code",
   "execution_count": 55,
   "metadata": {},
   "outputs": [
    {
     "data": {
      "text/latex": [
       "$\\displaystyle H_{\\gamma+}^{\\dashv} = \\left[\\begin{matrix}a + c \\sin{\\left(\\gamma \\right)} + 2 e\\\\0\\\\c \\cos{\\left(\\gamma \\right)} + t\\end{matrix}\\right]$"
      ],
      "text/plain": [
       "Eq(H_{\\gamma+}^{\\dashv}, Matrix([\n",
       "[a + c*sin(\\gamma) + 2*e],\n",
       "[                      0],\n",
       "[      c*cos(\\gamma) + t]]))"
      ]
     },
     "metadata": {},
     "output_type": "display_data"
    }
   ],
   "source": [
    "H_gamma_mr_upper = sp.Matrix([a+2*e+c*sp.sin(gamma),0,  c*sp.cos(gamma)+t])\n",
    "display(Eq(Symbol(r'H_{\\gamma+}^{\\dashv}'), H_gamma_mr_upper, evaluate=False))\n"
   ]
  },
  {
   "cell_type": "code",
   "execution_count": 56,
   "metadata": {},
   "outputs": [
    {
     "data": {
      "text/latex": [
       "$\\displaystyle C_{\\gamma+}^{\\vdash} = \\left[\\begin{matrix}- e + t \\cot{\\left(\\frac{\\gamma}{2} + \\frac{\\pi}{4} \\right)}\\\\0\\\\t\\end{matrix}\\right]$"
      ],
      "text/plain": [
       "Eq(C_{\\gamma+}^{\\vdash}, Matrix([\n",
       "[-e + t*cot(\\gamma/2 + pi/4)],\n",
       "[                          0],\n",
       "[                          t]]))"
      ]
     },
     "metadata": {},
     "output_type": "display_data"
    }
   ],
   "source": [
    "C_gamma_ml_upper = sp.Matrix([e-t*sp.tan(alpha/2), 0, t]).multiply_elementwise(sp.Matrix([-1, 1, 1]))\n",
    "display(Eq(Symbol(r'C_{\\gamma+}^{\\vdash}'), C_gamma_ml_upper, evaluate=False))"
   ]
  },
  {
   "cell_type": "code",
   "execution_count": 57,
   "metadata": {},
   "outputs": [
    {
     "data": {
      "text/latex": [
       "$\\displaystyle V_{\\gamma+}^{\\vdash} = \\left[\\begin{matrix}- c \\sin{\\left(\\gamma \\right)} - e + t \\cot{\\left(\\frac{\\gamma}{2} + \\frac{\\pi}{4} \\right)}\\\\0\\\\c \\cos{\\left(\\gamma \\right)} + t\\end{matrix}\\right]$"
      ],
      "text/plain": [
       "Eq(V_{\\gamma+}^{\\vdash}, Matrix([\n",
       "[-c*sin(\\gamma) - e + t*cot(\\gamma/2 + pi/4)],\n",
       "[                                          0],\n",
       "[                          c*cos(\\gamma) + t]]))"
      ]
     },
     "metadata": {},
     "output_type": "display_data"
    }
   ],
   "source": [
    "V_gamma_ml_upper = sp.Matrix([e+c*sp.sin(gamma)-t*sp.tan(alpha/2), 0, c*sp.cos(gamma)+t]).multiply_elementwise(sp.Matrix([-1, 1, 1]))\n",
    "display(Eq(Symbol(r'V_{\\gamma+}^{\\vdash}'), V_gamma_ml_upper, evaluate=False))"
   ]
  },
  {
   "cell_type": "code",
   "execution_count": 58,
   "metadata": {},
   "outputs": [
    {
     "data": {
      "text/latex": [
       "$\\displaystyle H_{\\gamma+}^{\\vdash} = \\left[\\begin{matrix}- a - c \\sin{\\left(\\gamma \\right)} - 2 e\\\\0\\\\c \\cos{\\left(\\gamma \\right)} + t\\end{matrix}\\right]$"
      ],
      "text/plain": [
       "Eq(H_{\\gamma+}^{\\vdash}, Matrix([\n",
       "[-a - c*sin(\\gamma) - 2*e],\n",
       "[                       0],\n",
       "[       c*cos(\\gamma) + t]]))"
      ]
     },
     "metadata": {},
     "output_type": "display_data"
    }
   ],
   "source": [
    "H_gamma_ml_upper = sp.Matrix([a+2*e+c*sp.sin(gamma),0,  c*sp.cos(gamma)+t]).multiply_elementwise(sp.Matrix([-1, 1, 1]))\n",
    "display(Eq(Symbol(r'H_{\\gamma+}^{\\vdash}'), H_gamma_ml_upper, evaluate=False))\n"
   ]
  },
  {
   "cell_type": "code",
   "execution_count": null,
   "metadata": {},
   "outputs": [],
   "source": []
  },
  {
   "cell_type": "code",
   "execution_count": 59,
   "metadata": {},
   "outputs": [],
   "source": [
    "Lx = 2 * (a + c + e)\n",
    "Ly = 2*b"
   ]
  },
  {
   "cell_type": "code",
   "execution_count": 62,
   "metadata": {},
   "outputs": [
    {
     "data": {
      "text/latex": [
       "$\\displaystyle 2 b \\left(2 a + 2 c + 2 e\\right)$"
      ],
      "text/plain": [
       "2*b*(2*a + 2*c + 2*e)"
      ]
     },
     "execution_count": 62,
     "metadata": {},
     "output_type": "execute_result"
    }
   ],
   "source": [
    "area = Lx * Ly\n",
    "area"
   ]
  },
  {
   "cell_type": "code",
   "execution_count": 78,
   "metadata": {},
   "outputs": [
    {
     "data": {
      "text/latex": [
       "$\\displaystyle 2 b t \\left(2 a + 2 c + 2 e\\right)$"
      ],
      "text/plain": [
       "2*b*t*(2*a + 2*c + 2*e)"
      ]
     },
     "execution_count": 78,
     "metadata": {},
     "output_type": "execute_result"
    }
   ],
   "source": [
    "vol_tot = area * t\n",
    "vol_tot"
   ]
  },
  {
   "cell_type": "code",
   "execution_count": 73,
   "metadata": {},
   "outputs": [],
   "source": [
    "s_x, s_y, rho = sp.symbols(r's_x s_y \\rho', real=True)\n",
    "\n",
    "n_x = Lx / s_x\n",
    "n_y = Ly / s_y"
   ]
  },
  {
   "cell_type": "code",
   "execution_count": 74,
   "metadata": {},
   "outputs": [
    {
     "data": {
      "text/latex": [
       "$\\displaystyle \\frac{2 a + 2 c + 2 e}{s_{x}}$"
      ],
      "text/plain": [
       "(2*a + 2*c + 2*e)/s_x"
      ]
     },
     "execution_count": 74,
     "metadata": {},
     "output_type": "execute_result"
    }
   ],
   "source": [
    "n_x"
   ]
  },
  {
   "cell_type": "code",
   "execution_count": 75,
   "metadata": {},
   "outputs": [
    {
     "data": {
      "text/plain": [
       "{a, c, e, s_x}"
      ]
     },
     "execution_count": 75,
     "metadata": {},
     "output_type": "execute_result"
    }
   ],
   "source": [
    "n_x.free_symbols"
   ]
  },
  {
   "cell_type": "code",
   "execution_count": 80,
   "metadata": {},
   "outputs": [
    {
     "data": {
      "text/latex": [
       "$\\displaystyle 2 \\rho b t \\left(2 a + 2 c + 2 e\\right)$"
      ],
      "text/plain": [
       "2*\\rho*b*t*(2*a + 2*c + 2*e)"
      ]
     },
     "execution_count": 80,
     "metadata": {},
     "output_type": "execute_result"
    }
   ],
   "source": [
    "mass = vol_tot * rho\n",
    "mass"
   ]
  },
  {
   "cell_type": "code",
   "execution_count": 81,
   "metadata": {},
   "outputs": [
    {
     "ename": "AttributeError",
     "evalue": "'Mul' object has no attribute 'latexpr'",
     "output_type": "error",
     "traceback": [
      "\u001b[0;31m---------------------------------------------------------------------------\u001b[0m",
      "\u001b[0;31mAttributeError\u001b[0m                            Traceback (most recent call last)",
      "Cell \u001b[0;32mIn[81], line 1\u001b[0m\n\u001b[0;32m----> 1\u001b[0m \u001b[43mmass\u001b[49m\u001b[38;5;241;43m.\u001b[39;49m\u001b[43mlatexpr\u001b[49m(s_x, s_y, rho)\n",
      "\u001b[0;31mAttributeError\u001b[0m: 'Mul' object has no attribute 'latexpr'"
     ]
    }
   ],
   "source": [
    "mass.latexpr(s_x, s_y, rho)"
   ]
  }
 ],
 "metadata": {
  "kernelspec": {
   "display_name": "bmcs_env",
   "language": "python",
   "name": "python3"
  },
  "language_info": {
   "codemirror_mode": {
    "name": "ipython",
    "version": 3
   },
   "file_extension": ".py",
   "mimetype": "text/x-python",
   "name": "python",
   "nbconvert_exporter": "python",
   "pygments_lexer": "ipython3",
   "version": "3.12.9"
  }
 },
 "nbformat": 4,
 "nbformat_minor": 2
}
