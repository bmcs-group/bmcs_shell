{
 "cells": [
  {
   "cell_type": "code",
   "execution_count": null,
   "metadata": {},
   "outputs": [],
   "source": [
    "import sympy as sp\n",
    "from bmcs_shell.api import WBCell4Param\n",
    "sp.init_printing()"
   ]
  },
  {
   "cell_type": "code",
   "execution_count": null,
   "metadata": {},
   "outputs": [],
   "source": [
    "wbc = WBCell4Param()"
   ]
  },
  {
   "cell_type": "code",
   "execution_count": null,
   "metadata": {},
   "outputs": [],
   "source": [
    "wbc.symb.delta_phi"
   ]
  },
  {
   "cell_type": "code",
   "execution_count": null,
   "metadata": {},
   "outputs": [],
   "source": [
    "wbc.symb.delta_x"
   ]
  },
  {
   "cell_type": "code",
   "execution_count": null,
   "metadata": {},
   "outputs": [],
   "source": [
    "wbc.X_Ia"
   ]
  },
  {
   "cell_type": "code",
   "execution_count": null,
   "metadata": {},
   "outputs": [],
   "source": [
    "wbc.symb.gamma"
   ]
  },
  {
   "cell_type": "code",
   "execution_count": null,
   "metadata": {},
   "outputs": [],
   "source": [
    "gamma = wbc.symb.gamma\n",
    "u_2 = wbc.symb.u_2\n",
    "u_3 = wbc.symb.u_3\n",
    "X_Ia = sp.Matrix([\n",
    "    [0, 0, 0],  # 0 point\n",
    "    [wbc.symb.a, u_2, u_3],  # U++\n",
    "    [-wbc.symb.a, u_2, u_3],  # U-+\n",
    "    [wbc.symb.a, -u_2, u_3],  # U+-\n",
    "    [-wbc.symb.a, -u_2, u_3],  # U--\n",
    "    [wbc.symb.c * sp.sin(gamma), 0, wbc.symb.c * sp.cos(gamma)],  # W0+\n",
    "    [-wbc.symb.c * sp.sin(gamma), 0, wbc.symb.c * sp.cos(gamma)]  # W0-\n",
    "])\n"
   ]
  },
  {
   "cell_type": "code",
   "execution_count": null,
   "metadata": {},
   "outputs": [],
   "source": [
    "sp.Matrix([[wbc.symb.delta_x, 0, 0]] * X_Ia.rows)"
   ]
  },
  {
   "cell_type": "code",
   "execution_count": null,
   "metadata": {},
   "outputs": [],
   "source": [
    "X_Ia + sp.Matrix([[wbc.symb.delta_x, 0, 0]] * X_Ia.rows)"
   ]
  },
  {
   "cell_type": "code",
   "execution_count": null,
   "metadata": {},
   "outputs": [],
   "source": [
    "wbc.symb.get_delta_phi()"
   ]
  },
  {
   "cell_type": "code",
   "execution_count": null,
   "metadata": {},
   "outputs": [],
   "source": [
    "delta_x = wbc.symb.get_delta_x()"
   ]
  },
  {
   "cell_type": "code",
   "execution_count": null,
   "metadata": {},
   "outputs": [],
   "source": [
    "wbc.X_Ia + np.array([[delta_x, 0, 0]], dtype=float)  # delta_x is a vector"
   ]
  },
  {
   "cell_type": "code",
   "execution_count": null,
   "metadata": {},
   "outputs": [],
   "source": [
    "pb.plot_fig += cell_mesh\n",
    "pb.objects[self.K3D_CELL_MESH] = cell_mesh\n",
    "\n",
    "if self.show_wireframe:\n",
    "    self._add_wireframe_to_fig(pb, X_Ia, I_Fi)\n",
    "if self.show_node_labels:\n",
    "    self._add_nodes_labels_to_fig(pb, self.X_Ia)"
   ]
  },
  {
   "cell_type": "code",
   "execution_count": null,
   "metadata": {},
   "outputs": [],
   "source": []
  },
  {
   "cell_type": "code",
   "execution_count": null,
   "metadata": {},
   "outputs": [],
   "source": []
  },
  {
   "cell_type": "code",
   "execution_count": null,
   "metadata": {},
   "outputs": [],
   "source": []
  }
 ],
 "metadata": {
  "kernelspec": {
   "display_name": "bmcs_env2",
   "language": "python",
   "name": "python3"
  },
  "language_info": {
   "codemirror_mode": {
    "name": "ipython",
    "version": 3
   },
   "file_extension": ".py",
   "mimetype": "text/x-python",
   "name": "python",
   "nbconvert_exporter": "python",
   "pygments_lexer": "ipython3"
  }
 },
 "nbformat": 4,
 "nbformat_minor": 2
}
