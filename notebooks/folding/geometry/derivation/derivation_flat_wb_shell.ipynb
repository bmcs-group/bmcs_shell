{
 "cells": [
  {
   "cell_type": "code",
   "execution_count": null,
   "metadata": {},
   "outputs": [],
   "source": [
    "%matplotlib widget\n",
    "from bmcs_shell.api import *\n",
    "import numpy as np\n",
    "import matplotlib.pyplot as plt\n",
    "import sympy as sp"
   ]
  },
  {
   "cell_type": "code",
   "execution_count": null,
   "metadata": {},
   "outputs": [],
   "source": [
    "a = 100\n",
    "wbt4p = WBTessellation4P(\n",
    "                         a=a,\n",
    "                         b = 5.492 * a, \n",
    "                         c = 1.8466 * a, \n",
    "                         gamma=np.deg2rad(54.53), \n",
    "                         n_phi_plus=3, \n",
    "                         n_x_plus=2, \n",
    "                         wireframe_width=5, trim_ext_facets=False,\n",
    "                                 trim_half_cells_along_y=True,\n",
    "                                 trim_half_cells_along_x=True,\n",
    "                                 align_outer_nodes_along_x=True)\n",
    "wbt4p.interact()"
   ]
  },
  {
   "cell_type": "code",
   "execution_count": null,
   "metadata": {},
   "outputs": [],
   "source": [
    "c = wbt4p.wb_cell.symb.c\n",
    "gamma = wbt4p.wb_cell.symb.gamma\n",
    "a = wbt4p.wb_cell.symb.a\n",
    "\n",
    "# Finding c which makes all z coordinates of all WB cell vertices the same (except the center O)\n",
    "z_of_corner_vertices = wbt4p.wb_cell.symb.u_3_\n",
    "z_of_side_vertices = c * sp.cos(gamma)\n",
    "c_flat_wb_shell = sp.solve(z_of_corner_vertices - z_of_side_vertices, c)\n",
    "c_flat_wb_shell[0]\n",
    "# str(c_flat_wb_shell[0])"
   ]
  },
  {
   "cell_type": "code",
   "execution_count": null,
   "metadata": {},
   "outputs": [],
   "source": [
    "def get_c_flat(gamma, a):\n",
    "    return a*(1 - np.sin(gamma))/np.cos(gamma)**2\n",
    "get_c_flat(0.95, 100)"
   ]
  },
  {
   "cell_type": "code",
   "execution_count": null,
   "metadata": {},
   "outputs": [],
   "source": [
    "WBCell4ParamFlat().interact()"
   ]
  },
  {
   "cell_type": "code",
   "execution_count": null,
   "metadata": {},
   "outputs": [],
   "source": [
    "WBTessellation4PFlat().interact()"
   ]
  },
  {
   "cell_type": "code",
   "execution_count": null,
   "metadata": {},
   "outputs": [],
   "source": [
    "WBTessellation4PV2Flat().interact()"
   ]
  },
  {
   "cell_type": "code",
   "execution_count": null,
   "metadata": {},
   "outputs": [],
   "source": [
    "wb_shell = WBTessellation4PEx(\n",
    "                         a=1000/4,\n",
    "                         b = 1615/4, \n",
    "                         c = 645/4, \n",
    "                         e_x = 286/4,\n",
    "                         gamma=0.683, # a value of gamma = 0.75 was estimated from normals, but a CAD comparison showed that 0.75 doesn't lead to closer geometry to the scanned \n",
    "                         n_phi_plus=4, \n",
    "                         n_x_plus=4, \n",
    "                         wireframe_width=1,\n",
    "                        ##---- Trimming function works only in WBTessellation4P ----##\n",
    "                         trim_half_cells_along_y=True,\n",
    "                         trim_half_cells_along_x=True,\n",
    "#                          align_outer_nodes_along_x=True,\n",
    ")\n",
    "wb_shell.interact()"
   ]
  },
  {
   "cell_type": "code",
   "execution_count": null,
   "metadata": {},
   "outputs": [],
   "source": [
    "wb_shell = WBTessellation4PFlat(\n",
    "                         a=1000/4,\n",
    "                         b = 1615/4, \n",
    "                         #c = 645/4, \n",
    "                         #e_x = 286/4,\n",
    "                         gamma=0.5, # a value of gamma = 0.75 was estimated from normals, but a CAD comparison showed that 0.75 doesn't lead to closer geometry to the scanned \n",
    "                         n_phi_plus=10, \n",
    "                         n_x_plus=10, \n",
    "                         wireframe_width=1,\n",
    "                        ##---- Trimming function works only in WBTessellation4P ----##\n",
    "                         trim_half_cells_along_y=False,\n",
    "                         trim_half_cells_along_x=False,\n",
    "#                          \n",
    "# align_outer_nodes_along_x=True,\n",
    ")\n",
    "wb_shell.interact()"
   ]
  },
  {
   "cell_type": "code",
   "execution_count": null,
   "metadata": {},
   "outputs": [],
   "source": [
    "WBGeoUtils.export_obj_file(wb_shell, 'flat-tessellation.obj')"
   ]
  }
 ],
 "metadata": {
  "kernelspec": {
   "display_name": "Python 3 (ipykernel)",
   "language": "python",
   "name": "python3"
  },
  "language_info": {
   "codemirror_mode": {
    "name": "ipython",
    "version": 3
   },
   "file_extension": ".py",
   "mimetype": "text/x-python",
   "name": "python",
   "nbconvert_exporter": "python",
   "pygments_lexer": "ipython3"
  },
  "toc": {
   "base_numbering": 1,
   "nav_menu": {},
   "number_sections": true,
   "sideBar": true,
   "skip_h1_title": true,
   "title_cell": "Table of Contents",
   "title_sidebar": "Contents",
   "toc_cell": false,
   "toc_position": {},
   "toc_section_display": true,
   "toc_window_display": false
  }
 },
 "nbformat": 4,
 "nbformat_minor": 4
}
