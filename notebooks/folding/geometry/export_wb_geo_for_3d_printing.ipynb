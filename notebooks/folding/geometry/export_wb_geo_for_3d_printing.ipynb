{
 "cells": [
  {
   "cell_type": "code",
   "execution_count": 1,
   "id": "eb118c0e",
   "metadata": {},
   "outputs": [],
   "source": [
    "%matplotlib widget\n",
    "from bmcs_shell.api import WBCell5Param, WBTessellation5PV2, WBNumTessellation, WBNumTessellationInvest, WBTessellationBase, WBNumTessellationBase, WBCell5ParamV2, WBTessellation4P, WBCell4Param\n",
    "import numpy as np\n",
    "import matplotlib.pyplot as plt"
   ]
  },
  {
   "cell_type": "markdown",
   "id": "489ae395",
   "metadata": {},
   "source": [
    "## Generate, extrude and subtract the geometry using gmsh"
   ]
  },
  {
   "cell_type": "code",
   "execution_count": 2,
   "id": "e60c9647",
   "metadata": {
    "scrolled": false
   },
   "outputs": [
    {
     "name": "stderr",
     "output_type": "stream",
     "text": [
      "C:\\Users\\hspartali\\Anaconda3\\envs\\bmcs_env\\lib\\site-packages\\traittypes\\traittypes.py:97: UserWarning: Given trait value dtype \"uint32\" does not match required type \"float32\". A coerced copy has been created.\n",
      "  warnings.warn(\n"
     ]
    },
    {
     "data": {
      "application/vnd.jupyter.widget-view+json": {
       "model_id": "b1044c52c93e4ce7b0ff00e2f4cb7296",
       "version_major": 2,
       "version_minor": 0
      },
      "text/plain": [
       "VBox(children=(HBox(children=(VBox(children=(Tree(layout=Layout(align_items='stretch', border='solid 1px black…"
      ]
     },
     "metadata": {},
     "output_type": "display_data"
    }
   ],
   "source": [
    "wbt = WBTessellation4P(a = 50, b = 50, c=50, gamma=np.pi/2-1e-3, wireframe_width=1, n_phi_plus=2, n_x_plus=2)\n",
    "# wbt = WBTessellation4P(a = 50, b = 50, c=50, gamma=np.pi/2-1e-3, wireframe_width=1, n_phi_plus=3, n_x_plus=2)\n",
    "wbt.interact()"
   ]
  },
  {
   "cell_type": "code",
   "execution_count": 3,
   "id": "114b5487",
   "metadata": {},
   "outputs": [],
   "source": [
    "I_Fi = wbt.I_Fi\n",
    "# I_Fi"
   ]
  },
  {
   "cell_type": "code",
   "execution_count": 4,
   "id": "48a1f455",
   "metadata": {
    "scrolled": true
   },
   "outputs": [],
   "source": [
    "X_Ia = np.round(wbt.X_Ia, 0)\n",
    "# X_Ia"
   ]
  },
  {
   "cell_type": "markdown",
   "id": "6f7687a4",
   "metadata": {},
   "source": [
    "### Basic mesh generation:"
   ]
  },
  {
   "cell_type": "code",
   "execution_count": 36,
   "id": "eb6e2ff0",
   "metadata": {},
   "outputs": [
    {
     "name": "stdout",
     "output_type": "stream",
     "text": [
      "(array([ 1,  3, 15]), [array([ 26,  27,  28,  29,  30,  31,  32,  33,  34,  35,  36,  37,  38,\n",
      "        39,  40,  41,  42,  43,  44,  45,  46,  47,  48,  49,  50,  51,\n",
      "        52,  53,  54,  55,  56,  57,  58,  59,  60,  61,  62,  63,  64,\n",
      "        65,  66,  67,  68,  69,  70,  71,  72,  73,  74,  75,  76,  77,\n",
      "        78,  79,  80,  81,  82,  83,  84,  85,  86,  87,  88,  89,  90,\n",
      "        91,  92,  93,  94,  95,  96,  97,  98,  99, 100, 101, 102, 103,\n",
      "       104, 105, 106, 107, 108, 109, 110, 111, 112, 113, 114, 115, 116,\n",
      "       117, 118, 119, 120, 121, 122, 123, 124, 125, 126, 127, 128, 129,\n",
      "       130, 131, 132, 133, 134, 135, 136, 137, 138, 139, 140, 141, 142,\n",
      "       143, 144, 145, 146, 147, 148, 149, 150, 151, 152, 153, 154, 155,\n",
      "       156, 157, 158, 159, 160, 161, 162, 163, 164, 165, 166, 167, 168,\n",
      "       169, 170, 171, 172, 173, 174, 175, 176, 177, 178, 179, 180, 181,\n",
      "       182, 183, 184, 185, 186, 187, 188, 189, 190, 191, 192, 193, 194,\n",
      "       195, 196, 197, 198, 199, 200, 201, 202, 203, 204, 205, 206, 207,\n",
      "       208, 209, 210, 211, 212, 213, 214, 215, 216, 217, 218, 219, 220,\n",
      "       221, 222, 223, 224, 225, 226, 227, 228, 229, 230, 231, 232, 233,\n",
      "       234, 235, 236, 237, 238, 239, 240, 241, 242, 243, 244, 245, 246,\n",
      "       247, 248, 249, 250, 251, 252, 253, 254, 255, 256, 257, 258, 259,\n",
      "       260, 261, 262, 263, 264, 265, 266, 267, 268, 269, 270, 271, 272,\n",
      "       273, 274, 275, 276, 277, 278, 279, 280, 281, 282, 283, 284, 285,\n",
      "       286, 287, 288, 289, 290, 291, 292, 293, 294, 295, 296, 297, 298,\n",
      "       299, 300, 301, 302, 303, 304, 305, 306, 307, 308, 309, 310, 311,\n",
      "       312, 313, 314, 315, 316, 317, 318, 319, 320, 321, 322, 323, 324,\n",
      "       325, 326, 327, 328, 329, 330, 331, 332, 333, 334, 335, 336, 337,\n",
      "       338, 339, 340, 341, 342, 343, 344, 345, 346, 347, 348, 349, 350,\n",
      "       351, 352, 353, 354, 355, 356, 357, 358, 359, 360, 361, 362, 363,\n",
      "       364, 365, 366, 367, 368, 369, 370, 371, 372, 373, 374, 375, 376,\n",
      "       377, 378, 379, 380, 381, 382, 383, 384, 385, 386, 387, 388, 389,\n",
      "       390, 391, 392, 393, 394, 395, 396, 397, 398, 399, 400, 401, 402,\n",
      "       403, 404, 405, 406, 407, 408, 409, 410, 411, 412, 413, 414, 415,\n",
      "       416, 417, 418, 419, 420, 421, 422, 423, 424, 425, 426, 427, 428,\n",
      "       429, 430, 431, 432, 433, 434, 435, 436, 437, 438, 439, 440, 441,\n",
      "       442, 443, 444, 445, 446, 447, 448, 449, 450, 451, 452, 453, 454,\n",
      "       455, 456, 457, 458, 459, 460, 461, 462, 463, 464, 465, 466, 467,\n",
      "       468, 469, 470, 471, 472, 473, 474, 475, 476, 477, 478, 479, 480,\n",
      "       481, 482, 483, 484, 485, 486, 487, 488, 489, 490, 491, 492, 493,\n",
      "       494, 495, 496, 497, 498, 499, 500, 501, 502, 503, 504, 505],\n",
      "      dtype=uint64), array([ 506,  507,  508,  509,  510,  511,  512,  513,  514,  515,  516,\n",
      "        517,  518,  519,  520,  521,  522,  523,  524,  525,  526,  527,\n",
      "        528,  529,  530,  531,  532,  533,  534,  535,  536,  537,  538,\n",
      "        539,  540,  541,  542,  543,  544,  545,  546,  547,  548,  549,\n",
      "        550,  551,  552,  553,  554,  555,  556,  557,  558,  559,  560,\n",
      "        561,  562,  563,  564,  565,  566,  567,  568,  569,  570,  571,\n",
      "        572,  573,  574,  575,  576,  577,  578,  579,  580,  581,  582,\n",
      "        583,  584,  585,  586,  587,  588,  589,  590,  591,  592,  593,\n",
      "        594,  595,  596,  597,  598,  599,  600,  601,  602,  603,  604,\n",
      "        605,  606,  607,  608,  609,  610,  611,  612,  613,  614,  615,\n",
      "        616,  617,  618,  619,  620,  621,  622,  623,  624,  625,  626,\n",
      "        627,  628,  629,  630,  631,  632,  633,  634,  635,  636,  637,\n",
      "        638,  639,  640,  641,  642,  643,  644,  645,  646,  647,  648,\n",
      "        649,  650,  651,  652,  653,  654,  655,  656,  657,  658,  659,\n",
      "        660,  661,  662,  663,  664,  665,  666,  667,  668,  669,  670,\n",
      "        671,  672,  673,  674,  675,  676,  677,  678,  679,  680,  681,\n",
      "        682,  683,  684,  685,  686,  687,  688,  689,  690,  691,  692,\n",
      "        693,  694,  695,  696,  697,  698,  699,  700,  701,  702,  703,\n",
      "        704,  705,  706,  707,  708,  709,  710,  711,  712,  713,  714,\n",
      "        715,  716,  717,  718,  719,  720,  721,  722,  723,  724,  725,\n",
      "        726,  727,  728,  729,  730,  731,  732,  733,  734,  735,  736,\n",
      "        737,  738,  739,  740,  741,  742,  743,  744,  745,  746,  747,\n",
      "        748,  749,  750,  751,  752,  753,  754,  755,  756,  757,  758,\n",
      "        759,  760,  761,  762,  763,  764,  765,  766,  767,  768,  769,\n",
      "        770,  771,  772,  773,  774,  775,  776,  777,  778,  779,  780,\n",
      "        781,  782,  783,  784,  785,  786,  787,  788,  789,  790,  791,\n",
      "        792,  793,  794,  795,  796,  797,  798,  799,  800,  801,  802,\n",
      "        803,  804,  805,  806,  807,  808,  809,  810,  811,  812,  813,\n",
      "        814,  815,  816,  817,  818,  819,  820,  821,  822,  823,  824,\n",
      "        825,  826,  827,  828,  829,  830,  831,  832,  833,  834,  835,\n",
      "        836,  837,  838,  839,  840,  841,  842,  843,  844,  845,  846,\n",
      "        847,  848,  849,  850,  851,  852,  853,  854,  855,  856,  857,\n",
      "        858,  859,  860,  861,  862,  863,  864,  865,  866,  867,  868,\n",
      "        869,  870,  871,  872,  873,  874,  875,  876,  877,  878,  879,\n",
      "        880,  881,  882,  883,  884,  885,  886,  887,  888,  889,  890,\n",
      "        891,  892,  893,  894,  895,  896,  897,  898,  899,  900,  901,\n",
      "        902,  903,  904,  905,  906,  907,  908,  909,  910,  911,  912,\n",
      "        913,  914,  915,  916,  917,  918,  919,  920,  921,  922,  923,\n",
      "        924,  925,  926,  927,  928,  929,  930,  931,  932,  933,  934,\n",
      "        935,  936,  937,  938,  939,  940,  941,  942,  943,  944,  945,\n",
      "        946,  947,  948,  949,  950,  951,  952,  953,  954,  955,  956,\n",
      "        957,  958,  959,  960,  961,  962,  963,  964,  965,  966,  967,\n",
      "        968,  969,  970,  971,  972,  973,  974,  975,  976,  977,  978,\n",
      "        979,  980,  981,  982,  983,  984,  985,  986,  987,  988,  989,\n",
      "        990,  991,  992,  993,  994,  995,  996,  997,  998,  999, 1000,\n",
      "       1001, 1002, 1003, 1004, 1005, 1006, 1007, 1008, 1009, 1010, 1011,\n",
      "       1012, 1013, 1014, 1015, 1016, 1017, 1018, 1019, 1020, 1021, 1022,\n",
      "       1023, 1024, 1025, 1026, 1027, 1028, 1029, 1030, 1031, 1032, 1033,\n",
      "       1034, 1035, 1036, 1037, 1038, 1039, 1040, 1041, 1042, 1043, 1044,\n",
      "       1045, 1046, 1047, 1048, 1049, 1050, 1051, 1052, 1053, 1054, 1055,\n",
      "       1056, 1057, 1058, 1059, 1060, 1061, 1062, 1063, 1064, 1065, 1066,\n",
      "       1067, 1068, 1069, 1070, 1071, 1072, 1073, 1074, 1075, 1076, 1077,\n",
      "       1078, 1079, 1080, 1081, 1082, 1083, 1084, 1085, 1086, 1087, 1088,\n",
      "       1089, 1090, 1091, 1092, 1093, 1094, 1095, 1096, 1097, 1098, 1099,\n",
      "       1100, 1101, 1102, 1103, 1104, 1105, 1106, 1107, 1108, 1109, 1110,\n",
      "       1111, 1112, 1113, 1114, 1115, 1116, 1117, 1118, 1119, 1120, 1121,\n",
      "       1122, 1123, 1124, 1125, 1126, 1127, 1128, 1129, 1130, 1131, 1132,\n",
      "       1133, 1134, 1135, 1136, 1137, 1138, 1139, 1140, 1141, 1142, 1143,\n",
      "       1144, 1145, 1146, 1147, 1148, 1149, 1150, 1151, 1152, 1153, 1154,\n",
      "       1155, 1156, 1157, 1158, 1159, 1160, 1161, 1162, 1163, 1164, 1165,\n",
      "       1166, 1167, 1168, 1169, 1170, 1171, 1172, 1173, 1174, 1175, 1176,\n",
      "       1177, 1178, 1179, 1180, 1181, 1182, 1183, 1184, 1185, 1186, 1187,\n",
      "       1188, 1189, 1190, 1191, 1192, 1193, 1194, 1195, 1196, 1197, 1198,\n",
      "       1199, 1200, 1201, 1202, 1203, 1204, 1205, 1206, 1207, 1208, 1209,\n",
      "       1210, 1211, 1212, 1213, 1214, 1215, 1216, 1217, 1218, 1219, 1220,\n",
      "       1221, 1222, 1223, 1224, 1225, 1226, 1227, 1228, 1229, 1230, 1231,\n",
      "       1232, 1233, 1234, 1235, 1236, 1237, 1238, 1239, 1240, 1241, 1242,\n",
      "       1243, 1244, 1245, 1246, 1247, 1248, 1249, 1250, 1251, 1252, 1253,\n",
      "       1254, 1255, 1256, 1257, 1258, 1259, 1260, 1261, 1262, 1263, 1264,\n",
      "       1265, 1266, 1267, 1268, 1269, 1270, 1271, 1272, 1273, 1274, 1275,\n",
      "       1276, 1277, 1278, 1279, 1280, 1281, 1282, 1283, 1284, 1285, 1286,\n",
      "       1287, 1288, 1289, 1290, 1291, 1292, 1293, 1294, 1295, 1296, 1297,\n",
      "       1298, 1299, 1300, 1301, 1302, 1303, 1304, 1305, 1306, 1307, 1308,\n",
      "       1309, 1310, 1311, 1312, 1313, 1314, 1315, 1316, 1317, 1318, 1319,\n",
      "       1320, 1321, 1322, 1323, 1324, 1325, 1326, 1327, 1328, 1329, 1330,\n",
      "       1331, 1332, 1333, 1334, 1335, 1336, 1337, 1338, 1339, 1340, 1341,\n",
      "       1342, 1343, 1344, 1345], dtype=uint64), array([ 1,  2,  3,  4,  5,  6,  7,  8,  9, 10, 11, 12, 13, 14, 15, 16, 17,\n",
      "       18, 19, 20, 21, 22, 23, 24, 25], dtype=uint64)], [array([  1,  26,  26,  27,  27,  28,  28,  29,  29,  30,  30,   2,   2,\n",
      "        31,  31,  32,  32,  33,  33,  34,  34,  35,  35,  36,  36,  37,\n",
      "        37,   3,   3,  38,  38,  39,  39,  40,  40,  41,  41,  42,  42,\n",
      "         1,   1,  43,  43,  44,  44,  45,  45,  46,  46,  47,  47,   4,\n",
      "         4,  48,  48,  49,  49,  50,  50,  51,  51,  52,  52,  53,  53,\n",
      "        54,  54,   5,   5,  55,  55,  56,  56,  57,  57,  58,  58,  59,\n",
      "        59,   1,   1,  60,  60,  61,  61,  62,  62,  63,  63,  64,  64,\n",
      "         2,   2,  65,  65,  66,  66,  67,  67,   6,   6,  68,  68,  69,\n",
      "        69,  70,  70,   1,   1,  71,  71,  72,  72,  73,  73,   6,   6,\n",
      "        74,  74,  75,  75,  76,  76,   4,   4,  77,  77,  78,  78,  79,\n",
      "        79,  80,  80,  81,  81,   1,   1,  82,  82,  83,  83,  84,  84,\n",
      "        85,  85,  86,  86,   3,   3,  87,  87,  88,  88,  89,  89,   7,\n",
      "         7,  90,  90,  91,  91,  92,  92,   1,   1,  93,  93,  94,  94,\n",
      "        95,  95,   7,   7,  96,  96,  97,  97,  98,  98,   5,   5,  99,\n",
      "        99, 100, 100, 101, 101, 102, 102, 103, 103,   1,   8, 104, 104,\n",
      "       105, 105, 106, 106, 107, 107, 108, 108,   9,   9, 109, 109, 110,\n",
      "       110, 111, 111, 112, 112, 113, 113, 114, 114, 115, 115,  10,  10,\n",
      "       116, 116, 117, 117, 118, 118, 119, 119, 120, 120,   8,   8, 121,\n",
      "       121, 122, 122, 123, 123, 124, 124, 125, 125,   7,   7, 126, 126,\n",
      "       127, 127, 128, 128, 129, 129, 130, 130, 131, 131, 132, 132,  11,\n",
      "        11, 133, 133, 134, 134, 135, 135, 136, 136, 137, 137,   8,   8,\n",
      "       138, 138, 139, 139, 140, 140, 141, 141, 142, 142,   9,   9, 143,\n",
      "       143, 144, 144, 145, 145,   3,   3, 146, 146, 147, 147, 148, 148,\n",
      "         8,   8, 149, 149, 150, 150, 151, 151,   3,   3, 152, 152, 153,\n",
      "       153, 154, 154,   7,   7, 155, 155, 156, 156, 157, 157, 158, 158,\n",
      "       159, 159,   8,   8, 160, 160, 161, 161, 162, 162, 163, 163, 164,\n",
      "       164,  10,  10, 165, 165, 166, 166, 167, 167,  12,  12, 168, 168,\n",
      "       169, 169, 170, 170,   8,   8, 171, 171, 172, 172, 173, 173,  12,\n",
      "        12, 174, 174, 175, 175, 176, 176,  11,  11, 177, 177, 178, 178,\n",
      "       179, 179, 180, 180, 181, 181,   8,  13, 182, 182, 183, 183, 184,\n",
      "       184, 185, 185, 186, 186,   7,   7, 187, 187, 188, 188, 189, 189,\n",
      "       190, 190, 191, 191, 192, 192, 193, 193,  11,  11, 194, 194, 195,\n",
      "       195, 196, 196, 197, 197, 198, 198,  13,  13, 199, 199, 200, 200,\n",
      "       201, 201, 202, 202, 203, 203,  14,  14, 204, 204, 205, 205, 206,\n",
      "       206, 207, 207, 208, 208, 209, 209, 210, 210,  15,  15, 211, 211,\n",
      "       212, 212, 213, 213, 214, 214, 215, 215,  13,  13, 216, 216, 217,\n",
      "       217, 218, 218, 219, 219, 220, 220,   7,   7, 221, 221, 222, 222,\n",
      "       223, 223,   5,   5, 224, 224, 225, 225, 226, 226,  13,  13, 227,\n",
      "       227, 228, 228, 229, 229,   5,   5, 230, 230, 231, 231, 232, 232,\n",
      "        14,  14, 233, 233, 234, 234, 235, 235, 236, 236, 237, 237,  13,\n",
      "        13, 238, 238, 239, 239, 240, 240, 241, 241, 242, 242,  11,  11,\n",
      "       243, 243, 244, 244, 245, 245,  16,  16, 246, 246, 247, 247, 248,\n",
      "       248,  13,  13, 249, 249, 250, 250, 251, 251,  16,  16, 252, 252,\n",
      "       253, 253, 254, 254,  15,  15, 255, 255, 256, 256, 257, 257, 258,\n",
      "       258, 259, 259,  13,  17, 260, 260, 261, 261, 262, 262, 263, 263,\n",
      "       264, 264,  18,  18, 265, 265, 266, 266, 267, 267, 268, 268, 269,\n",
      "       269, 270, 270, 271, 271,  19,  19, 272, 272, 273, 273, 274, 274,\n",
      "       275, 275, 276, 276,  17,  17, 277, 277, 278, 278, 279, 279, 280,\n",
      "       280, 281, 281,  20,  20, 282, 282, 283, 283, 284, 284, 285, 285,\n",
      "       286, 286, 287, 287, 288, 288,   6,   6, 289, 289, 290, 290, 291,\n",
      "       291, 292, 292, 293, 293,  17,  17, 294, 294, 295, 295, 296, 296,\n",
      "       297, 297, 298, 298,  18,  18, 299, 299, 300, 300, 301, 301,  21,\n",
      "        21, 302, 302, 303, 303, 304, 304,  17,  17, 305, 305, 306, 306,\n",
      "       307, 307,  21,  21, 308, 308, 309, 309, 310, 310,  20,  20, 311,\n",
      "       311, 312, 312, 313, 313, 314, 314, 315, 315,  17,  17, 316, 316,\n",
      "       317, 317, 318, 318, 319, 319, 320, 320,  19,  19, 321, 321, 322,\n",
      "       322, 323, 323,   2,   2, 324, 324, 325, 325, 326, 326,  17,  17,\n",
      "       327, 327, 328, 328, 329, 329,   2,   2, 330, 330, 331, 331, 332,\n",
      "       332,   6,   6, 333, 333, 334, 334, 335, 335, 336, 336, 337, 337,\n",
      "        17,  22, 338, 338, 339, 339, 340, 340, 341, 341, 342, 342,  20,\n",
      "        20, 343, 343, 344, 344, 345, 345, 346, 346, 347, 347, 348, 348,\n",
      "       349, 349,   6,   6, 350, 350, 351, 351, 352, 352, 353, 353, 354,\n",
      "       354,  22,  22, 355, 355, 356, 356, 357, 357, 358, 358, 359, 359,\n",
      "        23,  23, 360, 360, 361, 361, 362, 362, 363, 363, 364, 364, 365,\n",
      "       365, 366, 366,  24,  24, 367, 367, 368, 368, 369, 369, 370, 370,\n",
      "       371, 371,  22,  22, 372, 372, 373, 373, 374, 374, 375, 375, 376,\n",
      "       376,  20,  20, 377, 377, 378, 378, 379, 379,  25,  25, 380, 380,\n",
      "       381, 381, 382, 382,  22,  22, 383, 383, 384, 384, 385, 385,  25,\n",
      "        25, 386, 386, 387, 387, 388, 388,  23,  23, 389, 389, 390, 390,\n",
      "       391, 391, 392, 392, 393, 393,  22,  22, 394, 394, 395, 395, 396,\n",
      "       396, 397, 397, 398, 398,   6,   6, 399, 399, 400, 400, 401, 401,\n",
      "         4,   4, 402, 402, 403, 403, 404, 404,  22,  22, 405, 405, 406,\n",
      "       406, 407, 407,   4,   4, 408, 408, 409, 409, 410, 410,  24,  24,\n",
      "       411, 411, 412, 412, 413, 413, 414, 414, 415, 415,  22],\n",
      "      dtype=uint64), array([  36,   37,  435, ..., 1045, 1038,  409], dtype=uint64), array([ 1,  2,  3,  4,  5,  6,  7,  8,  9, 10, 11, 12, 13, 14, 15, 16, 17,\n",
      "       18, 19, 20, 21, 22, 23, 24, 25], dtype=uint64)])\n"
     ]
    }
   ],
   "source": [
    "# See https://gitlab.onelab.info/gmsh/gmsh/-/blob/master/tutorials/python/t11.py\n",
    "# dimTag means tuple of (dimention, tag). Where tag is like an ID\n",
    "\n",
    "import gmsh\n",
    "import sys\n",
    "import numpy as np\n",
    "import bmcs_utils.api as bu\n",
    "\n",
    "gmsh.initialize()\n",
    "gmsh.model.add(\"t11\")\n",
    "mesh_size = 30\n",
    "\n",
    "xpoints = np.array([gmsh.model.occ.addPoint(*X_a, mesh_size) for X_a in X_Ia])\n",
    "\n",
    "for I_i in I_Fi:\n",
    "    xpoints1 = xpoints[I_i]\n",
    "    curves = [gmsh.model.occ.addLine(xpoints1[k], xpoints1[k + 1]) for k in range(len(xpoints1) - 1)] + [gmsh.model.occ.addLine(xpoints1[-1], xpoints1[0])]\n",
    "    cl = gmsh.model.occ.addCurveLoop(curves)\n",
    "    pl = gmsh.model.occ.addPlaneSurface([cl])\n",
    "\n",
    "# Meshing ---------------------------------------------------- ------------------------------------------------\n",
    "\n",
    "gmsh.model.occ.synchronize()\n",
    "\n",
    "gmsh.model.mesh.generate(2)\n",
    "# gmsh.model.mesh.recombine()\n",
    "# gmsh.option.setNumber(\"Mesh.SubdivisionAlgorithm\", 1)\n",
    "# gmsh.model.mesh.refine()\n",
    "\n",
    "# Launch the GUI to see the results:\n",
    "if '-nopopup' not in sys.argv:\n",
    "    gmsh.fltk.run()\n",
    "elem_types, elem_tags, node_tags = gmsh.model.mesh.getElements()\n",
    "print(gmsh.model.mesh.getElements())\n",
    "\n",
    "gmsh.finalize()"
   ]
  },
  {
   "cell_type": "markdown",
   "id": "e5cfd45c",
   "metadata": {},
   "source": [
    "### Flipping negative normals to unite all normals point (upwards)"
   ]
  },
  {
   "cell_type": "code",
   "execution_count": 5,
   "id": "25503424",
   "metadata": {
    "scrolled": true
   },
   "outputs": [
    {
     "data": {
      "text/plain": [
       "array([False,  True,  True,  True, False, False, False,  True,  True,\n",
       "        True, False, False, False,  True,  True,  True, False, False,\n",
       "       False,  True,  True,  True, False, False, False,  True,  True,\n",
       "        True, False, False])"
      ]
     },
     "execution_count": 5,
     "metadata": {},
     "output_type": "execute_result"
    }
   ],
   "source": [
    "X_Fia = X_Ia[I_Fi]\n",
    "To_flip_F = np.cross(X_Fia[:, 1, :] - X_Fia[:, 0, :], X_Fia[:, 2, :] - X_Fia[:, 0, :])[:, 2] < 0 # all items where z of normal is negative\n",
    "To_flip_F"
   ]
  },
  {
   "cell_type": "code",
   "execution_count": 6,
   "id": "73028872",
   "metadata": {
    "scrolled": true
   },
   "outputs": [
    {
     "data": {
      "text/plain": [
       "array([[ 0,  1,  2],\n",
       "       [ 4,  3,  0],\n",
       "       [ 5,  1,  0],\n",
       "       [ 3,  5,  0],\n",
       "       [ 0,  2,  6],\n",
       "       [ 0,  6,  4],\n",
       "       [ 7,  8,  9],\n",
       "       [10,  6,  7],\n",
       "       [ 2,  8,  7],\n",
       "       [ 6,  2,  7],\n",
       "       [ 7,  9, 11],\n",
       "       [ 7, 11, 10],\n",
       "       [12,  6, 10],\n",
       "       [14, 13, 12],\n",
       "       [ 4,  6, 12],\n",
       "       [13,  4, 12],\n",
       "       [12, 10, 15],\n",
       "       [12, 15, 14],\n",
       "       [16, 17, 18],\n",
       "       [ 5, 19, 16],\n",
       "       [20, 17, 16],\n",
       "       [19, 20, 16],\n",
       "       [16, 18,  1],\n",
       "       [16,  1,  5],\n",
       "       [21, 19,  5],\n",
       "       [23, 22, 21],\n",
       "       [24, 19, 21],\n",
       "       [22, 24, 21],\n",
       "       [21,  5,  3],\n",
       "       [21,  3, 23]])"
      ]
     },
     "execution_count": 6,
     "metadata": {},
     "output_type": "execute_result"
    }
   ],
   "source": [
    "I_Fi[To_flip_F] = np.flip(I_Fi[To_flip_F], axis=1)\n",
    "I_Fi"
   ]
  },
  {
   "cell_type": "code",
   "execution_count": 7,
   "id": "2ee9772a",
   "metadata": {},
   "outputs": [
    {
     "data": {
      "text/plain": [
       "array([[ 0,  1],\n",
       "       [ 0,  2],\n",
       "       [ 0,  3],\n",
       "       [ 0,  4],\n",
       "       [ 0,  5],\n",
       "       [ 0,  6],\n",
       "       [ 1,  2],\n",
       "       [ 1,  5],\n",
       "       [ 1, 16],\n",
       "       [ 1, 18],\n",
       "       [ 2,  6],\n",
       "       [ 2,  7],\n",
       "       [ 2,  8],\n",
       "       [ 3,  4],\n",
       "       [ 3,  5],\n",
       "       [ 3, 21],\n",
       "       [ 3, 23],\n",
       "       [ 4,  6],\n",
       "       [ 4, 12],\n",
       "       [ 4, 13],\n",
       "       [ 5, 16],\n",
       "       [ 5, 19],\n",
       "       [ 5, 21],\n",
       "       [ 6,  7],\n",
       "       [ 6, 10],\n",
       "       [ 6, 12],\n",
       "       [ 7,  8],\n",
       "       [ 7,  9],\n",
       "       [ 7, 10],\n",
       "       [ 7, 11],\n",
       "       [ 8,  9],\n",
       "       [ 9, 11],\n",
       "       [10, 11],\n",
       "       [10, 12],\n",
       "       [10, 15],\n",
       "       [12, 13],\n",
       "       [12, 14],\n",
       "       [12, 15],\n",
       "       [13, 14],\n",
       "       [14, 15],\n",
       "       [16, 17],\n",
       "       [16, 18],\n",
       "       [16, 19],\n",
       "       [16, 20],\n",
       "       [17, 18],\n",
       "       [17, 20],\n",
       "       [19, 20],\n",
       "       [19, 21],\n",
       "       [19, 24],\n",
       "       [21, 22],\n",
       "       [21, 23],\n",
       "       [21, 24],\n",
       "       [22, 23],\n",
       "       [22, 24]])"
      ]
     },
     "execution_count": 7,
     "metadata": {},
     "output_type": "execute_result"
    }
   ],
   "source": [
    "I_Li = np.vstack(((I_Fi[:, (0, 1)]), (I_Fi[:, (0, 2)]), (I_Fi[:, (1, 2)])))\n",
    "I_Li = np.sort(I_Li, axis=1)\n",
    "I_Li = np.unique(I_Li, axis=0)\n",
    "I_Li"
   ]
  },
  {
   "cell_type": "markdown",
   "id": "05c47d61",
   "metadata": {},
   "source": [
    "### Verify section"
   ]
  },
  {
   "cell_type": "code",
   "execution_count": 8,
   "id": "d9f5b5c6",
   "metadata": {},
   "outputs": [
    {
     "name": "stdout",
     "output_type": "stream",
     "text": [
      "path= [[ 0.  0.  0.]\n",
      " [50. 50.  0.]]\n",
      "points= [[-1.4142135  1.4142135 -2.       ]\n",
      " [ 1.4142135 -1.4142135 -2.       ]\n",
      " [ 1.4142135 -1.4142135  2.       ]\n",
      " [-1.4142135  1.4142135  2.       ]]\n"
     ]
    },
    {
     "data": {
      "application/vnd.jupyter.widget-view+json": {
       "model_id": "b3f9eb4fe25f45baaab16cefb801b6fc",
       "version_major": 2,
       "version_minor": 0
      },
      "text/plain": [
       "Plot(antialias=3, axes=['x', 'y', 'z'], axes_helper=1.0, axes_helper_colors=[16711680, 65280, 255], background…"
      ]
     },
     "metadata": {},
     "output_type": "display_data"
    }
   ],
   "source": [
    "import bmcs_utils.api as bu\n",
    "import k3d\n",
    "\n",
    "X_Lia = X_Ia[I_Li]\n",
    "path_2a = X_Lia[0, ...]\n",
    "\n",
    "path = path_2a\n",
    "points = np.array([[2, 2, 0], [-2, 2, 0], [-2, -2, 0], [2, -2, 0]])\n",
    "\n",
    "points = bu.Extruder.transform_first_contour(path, points, adapt_dimensions=True)\n",
    "\n",
    "print('path=', path)\n",
    "print('points=', points)\n",
    "\n",
    "plot = k3d.plot()\n",
    "\n",
    "mesh = k3d.lines(points.astype(np.float32), [[0, 1], [1, 2], [2, 3], [3, 0]], color=0xc73737, indices_type='segment', width=0.5)\n",
    "plot += mesh\n",
    "\n",
    "mesh = k3d.lines(path.astype(np.float32), [[0, 1]], color=0, width=0.5)\n",
    "plot += mesh\n",
    "plot"
   ]
  },
  {
   "cell_type": "code",
   "execution_count": 9,
   "id": "acae8cef",
   "metadata": {},
   "outputs": [],
   "source": [
    "def get_rot_matrix_around_vector(v, deg_angle):\n",
    "    deg_angle = np.deg2rad(deg_angle)\n",
    "    \n",
    "    c = np.cos(deg_angle)\n",
    "    s = np.sin(deg_angle)\n",
    "    v_norm = v / np.sqrt(sum(v * v))\n",
    "\n",
    "    # See: Rotation matrix from axis and angle (https://en.wikipedia.org/wiki/Rotation_matrix)\n",
    "    cross_product_matrix = np.cross(v_norm, np.identity(v_norm.shape[0]) * -1)\n",
    "    return c * np.identity(3) + s * cross_product_matrix + (1 - c) * np.outer(v_norm, v_norm)"
   ]
  },
  {
   "cell_type": "code",
   "execution_count": 10,
   "id": "cc5b7d8b",
   "metadata": {},
   "outputs": [],
   "source": [
    "from scipy.spatial.transform import Rotation\n",
    "def rotate_points_around_vector(cs_points, vector, deg_angle, center_of_rotation=None):\n",
    "    if center_of_rotation is None:\n",
    "        cs_points_center = np.sum(cs_points, axis=0)/cs_points.shape[0]\n",
    "    else:\n",
    "        cs_points_center = center_of_rotation\n",
    "    cs_points_at_origin = cs_points - cs_points_center\n",
    "\n",
    "    rot_around_path = get_rot_matrix_around_vector(vector, deg_angle)\n",
    "    r = Rotation.from_matrix(rot_around_path)\n",
    "    cs_points_at_origin = r.apply(cs_points_at_origin)\n",
    "\n",
    "    cs_points = cs_points_at_origin + cs_points_center\n",
    "    return cs_points"
   ]
  },
  {
   "cell_type": "code",
   "execution_count": 11,
   "id": "7ecbc619",
   "metadata": {},
   "outputs": [
    {
     "name": "stderr",
     "output_type": "stream",
     "text": [
      "C:\\Users\\hspartali\\Anaconda3\\envs\\bmcs_env\\lib\\site-packages\\traittypes\\traittypes.py:97: UserWarning: Given trait value dtype \"int32\" does not match required type \"float32\". A coerced copy has been created.\n",
      "  warnings.warn(\n"
     ]
    },
    {
     "data": {
      "application/vnd.jupyter.widget-view+json": {
       "model_id": "62962cb0f212493a9c69dcda41cc1442",
       "version_major": 2,
       "version_minor": 0
      },
      "text/plain": [
       "Plot(antialias=3, axes=['x', 'y', 'z'], axes_helper=1.0, axes_helper_colors=[16711680, 65280, 255], background…"
      ]
     },
     "metadata": {},
     "output_type": "display_data"
    }
   ],
   "source": [
    "# Test rotation\n",
    "cs_points = np.array([[1, 0, 0], [0, 2, 0], [-1, 0, 0]])\n",
    "vec = np.array([[1, 1, 0], [2, 2, 0]])\n",
    "cs_points = bu.Extruder.transform_first_contour(vec, cs_points, adapt_dimensions=True)\n",
    "cs_points_rotated = rotate_points_around_vector(cs_points, vec[1, :] - vec[0, :], 90, center_of_rotation=(cs_points[0, :] + cs_points[2, :])/2)\n",
    "cs_points_rotated\n",
    "\n",
    "import k3d\n",
    "plot = k3d.plot()\n",
    "\n",
    "mesh = k3d.lines(cs_points.astype(np.float32), [[0, 1], [1, 2], [2, 0]], color=0x072aca, indices_type='segment', width=0.07)\n",
    "plot += mesh\n",
    "\n",
    "mesh = k3d.lines(cs_points_rotated.astype(np.float32), [[0, 1], [1, 2], [2, 0]], color=0xc73737, indices_type='segment', width=0.03)\n",
    "plot += mesh\n",
    "\n",
    "mesh = k3d.lines(vec, [[0, 1]], color=0, width=0.1)\n",
    "plot += mesh\n",
    "plot"
   ]
  },
  {
   "cell_type": "code",
   "execution_count": 12,
   "id": "bde98c09",
   "metadata": {},
   "outputs": [],
   "source": [
    "diff_vec = path_2a[1, :] - path_2a[0, :]\n",
    "path_2a[0, :] = path_2a[0, :] - 0.001 * diff_vec\n",
    "path_2a[1, :] = path_2a[1, :] + 0.001 * diff_vec"
   ]
  },
  {
   "cell_type": "code",
   "execution_count": 19,
   "id": "bd9287ef",
   "metadata": {
    "scrolled": true
   },
   "outputs": [
    {
     "name": "stdout",
     "output_type": "stream",
     "text": [
      "before cut\n",
      "creases= [(3, 1), (3, 2), (3, 3), (3, 4), (3, 5), (3, 6), (3, 7), (3, 8), (3, 9), (3, 10), (3, 11), (3, 12), (3, 13), (3, 14), (3, 15), (3, 16), (3, 17), (3, 18), (3, 19), (3, 20), (3, 21), (3, 22), (3, 23), (3, 24), (3, 25), (3, 26), (3, 27), (3, 28), (3, 29), (3, 30), (3, 31), (3, 32), (3, 33), (3, 34), (3, 35), (3, 36), (3, 37), (3, 38), (3, 39), (3, 40), (3, 41), (3, 42), (3, 43), (3, 44), (3, 45), (3, 46), (3, 47), (3, 48), (3, 49), (3, 50), (3, 51), (3, 52), (3, 53), (3, 54)]\n",
      "creases.size= 54\n",
      "vols= [(3, 1), (3, 2)]\n",
      "vols.size= 2\n",
      "[(3, 2)]\n",
      "vols.size= 2\n",
      "cutted\n",
      "before generate\n",
      "mesh generated\n",
      "mesh recombine\n"
     ]
    }
   ],
   "source": [
    "# See https://gitlab.onelab.info/gmsh/gmsh/-/blob/master/tutorials/python/t11.py\n",
    "# dimTag means tuple of (dimention, tag). Where tag is like an ID\n",
    "\n",
    "import gmsh\n",
    "import sys\n",
    "import numpy as np\n",
    "import bmcs_utils.api as bu\n",
    "from scipy.spatial.transform import Rotation\n",
    "\n",
    "thickness = 2\n",
    "fold_thickness = 0.6\n",
    "\n",
    "# Each dimension Dim has Tags refering to objects starting from 1, \n",
    "#  (a point is dim=1, a line, surface or more is dim=2 and a volume is dim=3)\n",
    "\n",
    "gmsh.initialize()\n",
    "gmsh.model.add(\"t11\")\n",
    "mesh_size = 0\n",
    "\n",
    "# Adding tunnels to subtract later: ---------------------------------------------------------------\n",
    "creases = []\n",
    "\n",
    "X_Lia = X_Ia[I_Li]\n",
    "lines_num = X_Lia.shape[0]\n",
    "\n",
    "# lines_num = 30\n",
    "for l in range(lines_num):\n",
    "    path_2a = X_Lia[l, ...]\n",
    "    \n",
    "    # Pipe cross-section\n",
    "    cs_points = np.array([[1.4, 0, 0], [0, thickness - fold_thickness, 0], [-1.4, 0, 0]])\n",
    "    cs_points = bu.Extruder.transform_first_contour(path_2a, cs_points, adapt_dimensions=True)\n",
    "\n",
    "    # Rotate the triangle around its base if it points down 90, 180 (90+90), 270 (180+90)\n",
    "    # (for a square or circle, this is not needed)\n",
    "    center_of_rotation = (cs_points[0, :] + cs_points[2, :])/2\n",
    "    for angle in range(3):\n",
    "        if np.any(cs_points[:, 2] < -0.001):\n",
    "            cs_points = rotate_points_around_vector(cs_points, path_2a[1, :] - path_2a[0, :], 90, center_of_rotation)\n",
    "        else:\n",
    "            break\n",
    "\n",
    "    points = []\n",
    "    for point in cs_points:\n",
    "        points.append(gmsh.model.occ.addPoint(*point, mesh_size))\n",
    "    lines = [gmsh.model.occ.addLine(points[k], points[k + 1]) for k in range(len(points) - 1)] + [gmsh.model.occ.addLine(points[-1], points[0])]\n",
    "    cl = gmsh.model.occ.addCurveLoop(lines)\n",
    "    pl = gmsh.model.occ.addPlaneSurface([cl])\n",
    "\n",
    "    # Pipe path (wire)\n",
    "    points = []\n",
    "    points.append(gmsh.model.occ.addPoint(*path_2a[0, :], mesh_size))\n",
    "    points.append(gmsh.model.occ.addPoint(*path_2a[1, :], mesh_size))\n",
    "    line = gmsh.model.occ.addLine(points[0], points[1])\n",
    "    wire = gmsh.model.occ.addWire(curveTags = [line])\n",
    "    creases.append(gmsh.model.occ.addPipe(dimTags = [(2, pl)], wireTag=wire)[0])\n",
    "\n",
    "vols = gmsh.model.occ.getEntities(dim=3)\n",
    "gmsh.model.occ.fuse(vols, vols)\n",
    "\n",
    "# Adding outer area of the pattern with extrusion: ------------------------------------------------\n",
    "\n",
    "xpoints = np.array([gmsh.model.occ.addPoint(*X_a, mesh_size) for X_a in X_Ia])\n",
    "\n",
    "wb_facets = []\n",
    "\n",
    "for I_i in I_Fi:\n",
    "    xpoints1 = xpoints[I_i]\n",
    "    curves = [gmsh.model.occ.addLine(xpoints1[k], xpoints1[k + 1]) for k in range(len(xpoints1) - 1)] + [gmsh.model.occ.addLine(xpoints1[-1], xpoints1[0])]\n",
    "\n",
    "    cl = gmsh.model.occ.addCurveLoop(curves)\n",
    "    pl = gmsh.model.occ.addPlaneSurface([cl])\n",
    "    wb_facets.append(pl)\n",
    "    \n",
    "# #     To generate quadrangles instead of triangles, we can simply add\n",
    "#     gmsh.model.mesh.setRecombine(1, pl)\n",
    "\n",
    "# pg = gmsh.model.addPhysicalGroup(dim = 3, tags=wb_facets, name='pg')\n",
    "# print(pg)\n",
    "\n",
    "# Extrude (extrude is already a volume or CAD object)\n",
    "for wb_facet in wb_facets:\n",
    "    ext = gmsh.model.occ.extrude(dimTags=[(2, wb_facet)], dx=0, dy=0, dz=2, numElements=[], heights=[], recombine=True)\n",
    "\n",
    "vols = gmsh.model.occ.getEntities(dim=3)\n",
    "# tess_block = gmsh.model.occ.fuse(vols[len(creases):], vols[len(creases):])\n",
    "tess_block = gmsh.model.occ.fuse(vols[1:], vols[1:])\n",
    "\n",
    "# gmsh.model.occ.getEntities(dim=3)\n",
    "print('before cut')\n",
    "# gmsh.model.occ.cut(tess_block[0], [creases[0], creases[1], creases[2]])\n",
    "\n",
    "print('creases=', creases)\n",
    "print('creases.size=', len(creases))\n",
    "print('vols=', gmsh.model.occ.getEntities(dim=3))\n",
    "print('vols.size=', len(gmsh.model.occ.getEntities(dim=3)))\n",
    "print(tess_block[0])\n",
    "\n",
    "# gmsh.model.occ.cut(tess_block[0], [creases[0]])\n",
    "\n",
    "print('vols.size=', len(gmsh.model.occ.getEntities(dim=3)))\n",
    "\n",
    "vols = gmsh.model.occ.getEntities(dim=3)\n",
    "\n",
    "gmsh.model.occ.cut([vols[1]], [vols[0]])\n",
    "\n",
    "# gmsh.model.occ.cut(tess_block[0], creases)\n",
    "gmsh.model.occ.remove(dimTags=gmsh.model.occ.getEntities(dim=2), recursive=True)\n",
    "\n",
    "print('cutted')\n",
    "# max3DTag = gmsh.model.occ.getMaxTag(3)\n",
    "\n",
    "# Meshing ---------------------------------------------------- ------------------------------------------------\n",
    "\n",
    "gmsh.model.occ.synchronize()\n",
    "\n",
    "# field = gmsh.model.mesh.field\n",
    "# field.add(\"MathEval\", 1)\n",
    "# field.setString(1, \"F\", \"1\")\n",
    "# field.setAsBackgroundMesh(1)\n",
    "\n",
    "# # To generate quadrangles instead of triangles, we can simply add\n",
    "# gmsh.model.mesh.setRecombine(2, pl)\n",
    "\n",
    "# If we'd had several surfaces, we could have used the global option\n",
    "# \"Mesh.RecombineAll\":\n",
    "#\n",
    "# gmsh.option.setNumber(\"Mesh.RecombineAll\", 1)\n",
    "\n",
    "# You can also set the subdivision step alone, with\n",
    "#\n",
    "# gmsh.option.setNumber(\"Mesh.SubdivisionAlgorithm\", 1)\n",
    "\n",
    "# gmsh.model.mesh.generate(2)\n",
    "\n",
    "# Note that you could also apply the recombination algorithm and/or the\n",
    "# subdivision step explicitly after meshing, as follows:\n",
    "#\n",
    "print('before generate')\n",
    "# gmsh.model.mesh.generate(2)\n",
    "print('mesh generated')\n",
    "# gmsh.model.mesh.recombine()\n",
    "print('mesh recombine')\n",
    "# gmsh.option.setNumber(\"Mesh.SubdivisionAlgorithm\", 1)\n",
    "# gmsh.model.mesh.refine()\n",
    "\n",
    "# Launch the GUI to see the results:\n",
    "if '-nopopup' not in sys.argv:\n",
    "    gmsh.fltk.run()\n",
    "    \n",
    "# gmsh.write('test_wb.stl')\n",
    "# gmsh.write('test_wb.step')\n",
    "\n",
    "gmsh.finalize()"
   ]
  },
  {
   "cell_type": "code",
   "execution_count": 20,
   "id": "45e039f3",
   "metadata": {},
   "outputs": [
    {
     "name": "stdout",
     "output_type": "stream",
     "text": [
      "Logger has recorded 225 lines\n"
     ]
    }
   ],
   "source": [
    "# Volumes created from faces doesn't perform well for CAD boolean operations,\n",
    "#  bettwer create CAD object, such as extrude or ready to use objects like box, sphere...\n",
    "import gmsh\n",
    "import math\n",
    "import sys\n",
    "\n",
    "gmsh.initialize()\n",
    "\n",
    "gmsh.model.add(\"t16\")\n",
    "\n",
    "# Let's build the same model as in `t5.py', but using constructive solid\n",
    "# geometry.\n",
    "\n",
    "# We can log all messages for further processing with:\n",
    "gmsh.logger.start()\n",
    "\n",
    "# We first create two cubes:\n",
    "# gmsh.model.occ.addBox(0, 0, 0, 1, 1, 1, 1)\n",
    "# tunnels_vol = gmsh.model.occ.addBox(0.3, 0.3, 0.3, 0.5, 0.5, 0.5, 2)\n",
    "# tunnels_vol = gmsh.model.occ.addSphere(1.3, 0, 0, 0.5)\n",
    "\n",
    "\n",
    "points = []\n",
    "points.append(gmsh.model.occ.addPoint(0, 0, 0))\n",
    "points.append(gmsh.model.occ.addPoint(1, 0, 0))\n",
    "points.append(gmsh.model.occ.addPoint(1, 1, 0))\n",
    "points.append(gmsh.model.occ.addPoint(0, 1, 0))\n",
    "lines = [gmsh.model.occ.addLine(points[k], points[k + 1]) for k in range(len(points) - 1)] + [gmsh.model.occ.addLine(points[-1], points[0])]\n",
    "cl = gmsh.model.occ.addCurveLoop(lines)\n",
    "pl = gmsh.model.occ.addPlaneSurface([cl])\n",
    "gmsh.model.occ.extrude(dimTags=[(2, pl)], dx=0, dy=0, dz=2, numElements=[], heights=[], recombine=True)\n",
    "\n",
    "\n",
    "points = []\n",
    "points.append(gmsh.model.occ.addPoint(1, 0, 0))\n",
    "points.append(gmsh.model.occ.addPoint(2, 0, 0))\n",
    "points.append(gmsh.model.occ.addPoint(2, 1, 0))\n",
    "points.append(gmsh.model.occ.addPoint(1, 0.5, 0))\n",
    "lines = [gmsh.model.occ.addLine(points[k], points[k + 1]) for k in range(len(points) - 1)] + [gmsh.model.occ.addLine(points[-1], points[0])]\n",
    "cl = gmsh.model.occ.addCurveLoop(lines)\n",
    "pl = gmsh.model.occ.addPlaneSurface([cl])\n",
    "gmsh.model.occ.extrude(dimTags=[(2, pl)], dx=0, dy=0, dz=2, numElements=[], heights=[], recombine=True)\n",
    "\n",
    "points = []\n",
    "points.append(gmsh.model.occ.addPoint(-0.2, 0.2, 0.2))\n",
    "points.append(gmsh.model.occ.addPoint(0.5, 0.2, 0.2))\n",
    "points.append(gmsh.model.occ.addPoint(0.5, 0.5, 0.2))\n",
    "points.append(gmsh.model.occ.addPoint(-0.2, 0.5, 0.2))\n",
    "lines = [gmsh.model.occ.addLine(points[k], points[k + 1]) for k in range(len(points) - 1)] + [gmsh.model.occ.addLine(points[-1], points[0])]\n",
    "cl = gmsh.model.occ.addCurveLoop(lines)\n",
    "pl = gmsh.model.occ.addPlaneSurface([cl])\n",
    "gmsh.model.occ.extrude(dimTags=[(2, pl)], dx=0, dy=0, dz=0.5, numElements=[], heights=[], recombine=True)\n",
    "\n",
    "# Pipe:\n",
    "#-------\n",
    "# Pipe cross-section\n",
    "points = []\n",
    "points.append(gmsh.model.occ.addPoint(0, 0, 0))\n",
    "points.append(gmsh.model.occ.addPoint(0.1, 0, 0))\n",
    "points.append(gmsh.model.occ.addPoint(0.1, 0.3, 0))\n",
    "points.append(gmsh.model.occ.addPoint(0, 0.3, 0))\n",
    "lines = [gmsh.model.occ.addLine(points[k], points[k + 1]) for k in range(len(points) - 1)] + [gmsh.model.occ.addLine(points[-1], points[0])]\n",
    "cl = gmsh.model.occ.addCurveLoop(lines)\n",
    "pl = gmsh.model.occ.addPlaneSurface([cl])\n",
    "\n",
    "# Pipe path (wire)\n",
    "points = []\n",
    "points.append(gmsh.model.occ.addPoint(0, 0, 0))\n",
    "points.append(gmsh.model.occ.addPoint(1, 1, 1))\n",
    "line = gmsh.model.occ.addLine(points[0], points[1])\n",
    "wire = gmsh.model.occ.addWire(curveTags = [line])\n",
    "pipe = gmsh.model.occ.addPipe(dimTags = [(2, cl)], wireTag=wire)\n",
    "\n",
    "# We apply a boolean difference to create the \"cube minus one eigth\" shape:\n",
    "gmsh.model.occ.cut([(3, 1)], [(3, 3)])\n",
    "\n",
    "# There's still following boolean:\n",
    "# intersect (cut opposite) and fragment (union with keeping intersecting parts) and fuse (union)\n",
    "\n",
    "gmsh.model.occ.synchronize()\n",
    "\n",
    "gmsh.model.mesh.generate(3)\n",
    "\n",
    "gmsh.write(\"t16.msh\")\n",
    "\n",
    "# Additional examples created with the OpenCASCADE geometry kernel are available\n",
    "# in `t18.py', `t19.py' and `t20.py', as well as in the `examples/api'\n",
    "# directory.\n",
    "\n",
    "# Inspect the log:\n",
    "log = gmsh.logger.get()\n",
    "print(\"Logger has recorded \" + str(len(log)) + \" lines\")\n",
    "gmsh.logger.stop()\n",
    "\n",
    "# Launch the GUI to see the results:\n",
    "if '-nopopup' not in sys.argv:\n",
    "    gmsh.fltk.run()\n",
    "\n",
    "gmsh.finalize()\n"
   ]
  },
  {
   "cell_type": "code",
   "execution_count": 15,
   "id": "48b87535",
   "metadata": {
    "scrolled": false
   },
   "outputs": [
    {
     "name": "stdout",
     "output_type": "stream",
     "text": [
      "W: 24.999972454328425\n",
      "T_rho: 0.2499998495367709\n",
      "T_sigma: 0.2499998495850007\n",
      "sol_P2_t_2: 2179.5192269945655\n",
      "sol_Q2_u_2: 648.9385818409175\n",
      "Ana. solution: [-3.1385107  -3.14067502]\n"
     ]
    },
    {
     "data": {
      "application/vnd.jupyter.widget-view+json": {
       "model_id": "96312f1eddaa429f89b9c5d31b7d7089",
       "version_major": 2,
       "version_minor": 0
      },
      "text/plain": [
       "VBox(children=(HBox(children=(VBox(children=(Tree(layout=Layout(align_items='stretch', border='solid 1px black…"
      ]
     },
     "metadata": {},
     "output_type": "display_data"
    }
   ],
   "source": [
    "wbt = WBTessellation5PV2(wb_cell = WBCell5ParamV2(a = 50, eta=1, zeta=1, gamma = np.pi/2-1e-3), n_x=2, n_y=2, wireframe_width=1)\n",
    "wbt.interact()"
   ]
  },
  {
   "cell_type": "code",
   "execution_count": 2,
   "id": "eaf9f933",
   "metadata": {},
   "outputs": [
    {
     "name": "stderr",
     "output_type": "stream",
     "text": [
      "C:\\Users\\hspartali\\Anaconda3\\envs\\bmcs_env\\lib\\site-packages\\traittypes\\traittypes.py:97: UserWarning: Given trait value dtype \"uint32\" does not match required type \"float32\". A coerced copy has been created.\n",
      "  warnings.warn(\n"
     ]
    },
    {
     "data": {
      "application/vnd.jupyter.widget-view+json": {
       "model_id": "b2a3250d66e1432f8c046a3de1bb03c2",
       "version_major": 2,
       "version_minor": 0
      },
      "text/plain": [
       "VBox(children=(HBox(children=(VBox(children=(Tree(layout=Layout(align_items='stretch', border='solid 1px black…"
      ]
     },
     "metadata": {},
     "output_type": "display_data"
    }
   ],
   "source": [
    "wb = WBCell4Param()\n",
    "wb.interact()"
   ]
  },
  {
   "cell_type": "code",
   "execution_count": 3,
   "id": "5cac4a14",
   "metadata": {},
   "outputs": [
    {
     "data": {
      "text/plain": [
       "array([[ 0.00000000e+00,  0.00000000e+00,  0.00000000e+00],\n",
       "       [ 1.00000000e+03,  9.99999875e+02,  5.00000042e-01],\n",
       "       [-1.00000000e+03,  9.99999875e+02,  5.00000042e-01],\n",
       "       [ 1.00000000e+03, -9.99999875e+02,  5.00000042e-01],\n",
       "       [-1.00000000e+03, -9.99999875e+02,  5.00000042e-01],\n",
       "       [ 9.99999500e+02,  0.00000000e+00,  9.99999833e-01],\n",
       "       [-9.99999500e+02,  0.00000000e+00,  9.99999833e-01]])"
      ]
     },
     "execution_count": 3,
     "metadata": {},
     "output_type": "execute_result"
    }
   ],
   "source": [
    "wb.X_Ia"
   ]
  },
  {
   "cell_type": "code",
   "execution_count": 4,
   "id": "62393cfd",
   "metadata": {},
   "outputs": [
    {
     "data": {
      "text/plain": [
       "array([[0, 1, 2],\n",
       "       [0, 3, 4],\n",
       "       [0, 1, 5],\n",
       "       [0, 5, 3],\n",
       "       [0, 2, 6],\n",
       "       [0, 6, 4]])"
      ]
     },
     "execution_count": 4,
     "metadata": {},
     "output_type": "execute_result"
    }
   ],
   "source": [
    "wb.I_Fi"
   ]
  },
  {
   "cell_type": "code",
   "execution_count": 30,
   "id": "9c3cfd6f",
   "metadata": {},
   "outputs": [
    {
     "data": {
      "text/plain": [
       "array([100., 100., 100., 100., 100., 100., 100.])"
      ]
     },
     "execution_count": 30,
     "metadata": {},
     "output_type": "execute_result"
    }
   ],
   "source": [
    "X_Ia[:, -1]+100"
   ]
  },
  {
   "cell_type": "code",
   "execution_count": 58,
   "id": "e5d18901",
   "metadata": {},
   "outputs": [
    {
     "data": {
      "text/plain": [
       "array([[ 0.00000000e+00,  2.50000000e+01,  0.00000000e+00],\n",
       "       [ 0.00000000e+00,  2.49506682e+01, -1.56976299e+00],\n",
       "       [ 0.00000000e+00,  2.48028675e+01, -3.13333084e+00],\n",
       "       ...,\n",
       "       [ 2.18602151e+02,  1.86021506e+01,  3.13333084e+00],\n",
       "       [ 2.18713001e+02,  1.87130012e+01,  1.56976299e+00],\n",
       "       [ 2.18750000e+02,  1.87500000e+01, -1.60812265e-14]])"
      ]
     },
     "execution_count": 58,
     "metadata": {},
     "output_type": "execute_result"
    }
   ],
   "source": [
    "vertices"
   ]
  },
  {
   "cell_type": "code",
   "execution_count": 5,
   "id": "208beb73",
   "metadata": {
    "scrolled": false
   },
   "outputs": [
    {
     "name": "stderr",
     "output_type": "stream",
     "text": [
      "C:\\Users\\hspartali\\Anaconda3\\envs\\bmcs_env\\lib\\site-packages\\traittypes\\traittypes.py:97: UserWarning: Given trait value dtype \"float64\" does not match required type \"float32\". A coerced copy has been created.\n",
      "  warnings.warn(\n",
      "C:\\Users\\hspartali\\Anaconda3\\envs\\bmcs_env\\lib\\site-packages\\traittypes\\traittypes.py:97: UserWarning: Given trait value dtype \"int32\" does not match required type \"uint32\". A coerced copy has been created.\n",
      "  warnings.warn(\n"
     ]
    },
    {
     "data": {
      "application/vnd.jupyter.widget-view+json": {
       "model_id": "e9581b57ee7549f7842f766a7d98939c",
       "version_major": 2,
       "version_minor": 0
      },
      "text/plain": [
       "Plot(antialias=3, axes=['x', 'y', 'z'], axes_helper=1.0, axes_helper_colors=[16711680, 65280, 255], background…"
      ]
     },
     "metadata": {},
     "output_type": "display_data"
    }
   ],
   "source": [
    "import k3d\n",
    "\n",
    "thickness = 100\n",
    "X_Ia = wb.X_Ia\n",
    "I_Fi = wb.I_Fi\n",
    "\n",
    "plot = k3d.plot()\n",
    "\n",
    "mesh1 = k3d.mesh(X_Ia, I_Fi, side='double', color=0x999999)\n",
    "plot+= mesh1\n",
    "mesh1 = k3d.mesh(X_Ia, I_Fi, side='double', wireframe=True, color=0)\n",
    "plot+= mesh1\n",
    "\n",
    "# z_X_Ia = np.copy(X_Ia)\n",
    "# z_X_Ia[:, -1] += thickness\n",
    "# mesh2 = k3d.mesh(z_X_Ia, I_Fi, side='double', color=0x999999)\n",
    "# plot+= mesh2\n",
    "\n",
    "plot"
   ]
  },
  {
   "cell_type": "code",
   "execution_count": 66,
   "id": "ac549a51",
   "metadata": {},
   "outputs": [],
   "source": [
    "# Write to obj file\n",
    "f = open('wb_3d_print.obj', 'w')\n",
    "f.write('# Vertices: (' + str(len(vertices)) + ')\\n')\n",
    "for v in X_Ia:\n",
    "    f.write('v ' + str(v)[1:-1] + '\\n')\n",
    "f.write('\\n# Tri Facets: (' + str(len(indices)) + ')\\n')\n",
    "for ind in I_Fi + 1:\n",
    "    f.write('f ' + str(ind)[1:-1] + '\\n')\n",
    "f.close()"
   ]
  }
 ],
 "metadata": {
  "kernelspec": {
   "display_name": "Python 3 (ipykernel)",
   "language": "python",
   "name": "python3"
  },
  "language_info": {
   "codemirror_mode": {
    "name": "ipython",
    "version": 3
   },
   "file_extension": ".py",
   "mimetype": "text/x-python",
   "name": "python",
   "nbconvert_exporter": "python",
   "pygments_lexer": "ipython3",
   "version": "3.9.12"
  }
 },
 "nbformat": 4,
 "nbformat_minor": 5
}
