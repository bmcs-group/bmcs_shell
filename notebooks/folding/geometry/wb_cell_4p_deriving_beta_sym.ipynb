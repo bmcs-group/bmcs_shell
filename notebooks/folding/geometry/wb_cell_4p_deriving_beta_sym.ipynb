{
 "cells": [
  {
   "cell_type": "code",
   "execution_count": 2,
   "metadata": {},
   "outputs": [],
   "source": [
    "%matplotlib widget\n",
    "from bmcs_shell.api import WBCell5Param, WBTessellation5PV2, WBNumTessellation, WBNumTessellationInvest, WBTessellationBase, WBNumTessellationBase, WBCell5ParamV2, WBTessellation4P, WBCell4Param\n",
    "import numpy as np\n",
    "import sympy as sp"
   ]
  },
  {
   "cell_type": "code",
   "execution_count": 5,
   "metadata": {},
   "outputs": [
    {
     "data": {
      "application/vnd.jupyter.widget-view+json": {
       "model_id": "4b450bb97bc8474aa93422897e808149",
       "version_major": 2,
       "version_minor": 0
      },
      "text/plain": [
       "VBox(children=(HBox(children=(VBox(children=(Tree(layout=Layout(align_items='stretch', border='solid 1px black…"
      ]
     },
     "metadata": {},
     "output_type": "display_data"
    }
   ],
   "source": [
    "wb_cell = WBCell4Param(a = 500, b = 1000, c = 500, gamma = 1.0, show_node_labels=True)\n",
    "wb_cell.interact()"
   ]
  },
  {
   "cell_type": "markdown",
   "metadata": {},
   "source": [
    "**$\\beta$ is the angle between vector connecting 0 and 5 and vector connecting 0 and 2**\n",
    "\n",
    "That means.."
   ]
  },
  {
   "cell_type": "code",
   "execution_count": 6,
   "metadata": {},
   "outputs": [
    {
     "data": {
      "text/plain": [
       "1.8811767810856865"
      ]
     },
     "execution_count": 6,
     "metadata": {},
     "output_type": "execute_result"
    }
   ],
   "source": [
    "X_Ia = wb_cell.X_Ia\n",
    "v05 = X_Ia[5] - X_Ia[0]\n",
    "v02 = X_Ia[2] - X_Ia[0]\n",
    "cos_beta = (v05 @ v02) / (np.sqrt(v05 @ v05) * np.sqrt(v02 @ v02)) # @ is dot product in numpy\n",
    "beta = np.arccos(cos_beta)\n",
    "beta"
   ]
  },
  {
   "cell_type": "markdown",
   "metadata": {},
   "source": [
    "**To derive it analytically..**\n",
    "\n",
    "We notice that we can use `X_Ia[5]` instead of `(X_Ia[5] - X_Ia[0])` and `X_Ia[2]` instead of `(X_Ia[2] - X_Ia[0])` as `X_Ia[0]` is zeros!"
   ]
  },
  {
   "cell_type": "code",
   "execution_count": 7,
   "metadata": {},
   "outputs": [
    {
     "data": {
      "text/latex": [
       "$\\displaystyle \\frac{a \\left(1 - 2 \\sin{\\left(\\gamma \\right)}\\right)}{\\sqrt{a^{2} + b^{2}}}$"
      ],
      "text/plain": [
       "a*(1 - 2*sin(gamma))/sqrt(a**2 + b**2)"
      ]
     },
     "execution_count": 7,
     "metadata": {},
     "output_type": "execute_result"
    }
   ],
   "source": [
    "a, b, c, gamma = sp.symbols('a, b, c, gamma', positive=True)\n",
    "wb_4p = WBCell4Param()\n",
    "u_2_ = wb_4p.symb.u_2_\n",
    "u_3_ = wb_4p.symb.u_3_\n",
    "U_ul = sp.Matrix([-a, u_2_, u_3_])\n",
    "V_r = sp.Matrix([c * sp.sin(gamma), 0, c * sp.cos(gamma)])\n",
    "cos_beta = (sp.Transpose(U_ul)*V_r)[0] / (sp.sqrt(sp.Transpose(U_ul)*U_ul) * sp.sqrt(sp.Transpose(V_r)*V_r))[0]\n",
    "cos_beta = sp.simplify(cos_beta)\n",
    "cos_beta\n",
    "# str(cos_beta)"
   ]
  },
  {
   "cell_type": "code",
   "execution_count": null,
   "metadata": {},
   "outputs": [],
   "source": []
  }
 ],
 "metadata": {
  "kernelspec": {
   "display_name": "Python 3 (ipykernel)",
   "language": "python",
   "name": "python3"
  },
  "language_info": {
   "codemirror_mode": {
    "name": "ipython",
    "version": 3
   },
   "file_extension": ".py",
   "mimetype": "text/x-python",
   "name": "python",
   "nbconvert_exporter": "python",
   "pygments_lexer": "ipython3",
   "version": "3.9.7"
  }
 },
 "nbformat": 4,
 "nbformat_minor": 1
}