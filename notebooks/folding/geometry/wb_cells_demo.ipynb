{
 "cells": [
  {
   "cell_type": "code",
   "execution_count": null,
   "metadata": {
    "pycharm": {
     "name": "#%%\n"
    }
   },
   "outputs": [],
   "source": [
    "%matplotlib widget\n",
    "from bmcs_shell.api import WBCell5Param, WBCell5ParamV2, WBCell5ParamV3, WBCell4Param\n",
    "import numpy as np\n",
    "from numpy import sqrt, sin, cos, tan, arctan"
   ]
  },
  {
   "cell_type": "markdown",
   "metadata": {},
   "source": [
    "# Demo showing kinematics of different waterbomb cells"
   ]
  },
  {
   "cell_type": "markdown",
   "metadata": {},
   "source": [
    "## Waterbomb cells with 5 parameters (asymmetric cell)"
   ]
  },
  {
   "cell_type": "markdown",
   "metadata": {},
   "source": [
    "### Cell V1"
   ]
  },
  {
   "cell_type": "code",
   "execution_count": null,
   "metadata": {},
   "outputs": [],
   "source": [
    "wb = WBCell5Param()\n",
    "wb.interact()"
   ]
  },
  {
   "cell_type": "markdown",
   "metadata": {},
   "source": [
    "### Cell V2"
   ]
  },
  {
   "cell_type": "code",
   "execution_count": null,
   "metadata": {
    "scrolled": false
   },
   "outputs": [],
   "source": [
    "wb = WBCell5ParamV2()\n",
    "wb.interact()"
   ]
  },
  {
   "cell_type": "markdown",
   "metadata": {},
   "source": [
    "### Cell V3"
   ]
  },
  {
   "cell_type": "code",
   "execution_count": null,
   "metadata": {
    "scrolled": false
   },
   "outputs": [],
   "source": [
    "wb = WBCell5ParamV3(debug=True)\n",
    "wb.interact()"
   ]
  },
  {
   "cell_type": "code",
   "execution_count": null,
   "metadata": {},
   "outputs": [],
   "source": [
    "diff = wb.X_Ia[5]-wb.X_Ia[0]\n",
    "print(diff)\n",
    "np.sqrt(np.einsum('a, a', diff, diff))"
   ]
  },
  {
   "cell_type": "code",
   "execution_count": null,
   "metadata": {},
   "outputs": [],
   "source": [
    "diff = wb.X_Ia[4]-wb.X_Ia[3]\n",
    "print(diff)\n",
    "np.sqrt(np.einsum('a, a', diff, diff))"
   ]
  },
  {
   "cell_type": "code",
   "execution_count": null,
   "metadata": {
    "scrolled": true
   },
   "outputs": [],
   "source": [
    "# Solve l2 analytically with sympy\n",
    "# solutions of l2 where yro, ylo are negative are all the same, only 2 positive solutions are valid\n",
    "\n",
    "import sympy as sp\n",
    "a, b, c, d, m, l1, l2 = sp.symbols('a, b, c, d, m, l1, l2', real=True, nonnegative=True)\n",
    "e = a - c\n",
    "d = sp.sqrt(b ** 2 + e ** 2) # checked\n",
    "k = sp.sqrt(c ** 2 - m ** 2) # checked\n",
    "M = sp.Matrix([0, 0, -k]) # checked\n",
    "\n",
    "xro = (l2 ** 2 - d ** 2) / (4 * m) # checked\n",
    "zro = (a * c - k ** 2 - m * xro) / k # checked\n",
    "yro = sp.sqrt(d ** 2 - zro ** 2 - (xro - m) ** 2) # checked\n",
    "\n",
    "xlo = (d ** 2 - l1 ** 2) / (4 * m) # checked\n",
    "zlo = (a * c - k ** 2 + m * xlo) / k # checked\n",
    "ylo = sp.sqrt(d ** 2 - zlo ** 2 - (xlo + m) ** 2) # checked\n",
    "# ylo = yro + sp.sqrt(4*a**2-(zro-zlo)**2-(xro-xlo)**2) # checked\n",
    "\n",
    "G = xro * xlo + yro * ylo + (zro +k)* (zlo+k) + (a**2-b**2) # checked\n",
    "sol = sp.solve(G, l2, simplify=False)\n",
    "sol"
   ]
  },
  {
   "cell_type": "code",
   "execution_count": null,
   "metadata": {},
   "outputs": [],
   "source": [
    "sol_simple = [sp.simplify(sol[i]) for i in range(len(sol))]\n",
    "sol_simple"
   ]
  },
  {
   "cell_type": "code",
   "execution_count": null,
   "metadata": {},
   "outputs": [],
   "source": [
    "sol[1].subs([(a, 500), (b, 500), (c, 500), (m, 250), (l1, 750)]).evalf()"
   ]
  },
  {
   "cell_type": "code",
   "execution_count": null,
   "metadata": {},
   "outputs": [],
   "source": [
    "# Solve l2 numerically\n",
    "\n",
    "from scipy.optimize import root\n",
    "a = 500\n",
    "b = 500\n",
    "c = 500\n",
    "m = 250\n",
    "l1 = 750\n",
    "\n",
    "e = a - c\n",
    "d = np.sqrt(b ** 2 + e ** 2) # checked\n",
    "k = np.sqrt(c ** 2 - m ** 2) # checked\n",
    "M = np.array([0, 0, -k]) # checked\n",
    "\n",
    "def get_G(l2, yro_positive=True, ylo_positive=True):\n",
    "    print(l2, yro_positive, ylo_positive)\n",
    "    xro = (l2 ** 2 - d ** 2) / (4 * m)  # checked\n",
    "    zro = (a * c - k ** 2 - m * xro) / k  # checked\n",
    "\n",
    "    yro_quad = d ** 2 - zro ** 2 - (xro - m) ** 2  # checked\n",
    "    if yro_quad < 0:\n",
    "        return np.nan\n",
    "    yro = np.sqrt(yro_quad) if yro_positive else -np.sqrt(yro_quad) # using np.abs(yro_quad) like before would introduce new wrong solutions\n",
    "\n",
    "    xlo = (d ** 2 - l1 ** 2) / (4 * m)  # checked\n",
    "    zlo = (a * c - k ** 2 + m * xlo) / k  # checked\n",
    "\n",
    "    ylo_quad = d ** 2 - zlo ** 2 - (xlo + m) ** 2  # checked\n",
    "    if ylo_quad < 0:\n",
    "        return np.nan\n",
    "    ylo = np.sqrt(ylo_quad) if ylo_positive else -np.sqrt(ylo_quad) # using np.abs(yro_quad) like before would introduce new wrong solutions\n",
    "\n",
    "    G = xro * xlo + yro * ylo + (zro + k) * (zlo + k) + (a ** 2 - b ** 2)  # checked\n",
    "\n",
    "    return G\n",
    "\n",
    "# l2 = root(lambda l2: get_coords(l2), 0, tol=1e-6).x # gives negative solution\n",
    "l2_max = 2000\n",
    "l2 = np.nan\n",
    "for l2_i in np.linspace(0, l2_max, 100):\n",
    "    sol = root(get_G, l2_i, tol=1e-6, args=(True, True))\n",
    "    if sol.success and sol.x[0] >= 0:\n",
    "        l2 = sol.x\n",
    "        break\n",
    "if l2 == np.nan:\n",
    "    for l2_i in np.linspace(0, l2_max, 100):\n",
    "        sol = root(get_G, l2_i, tol=1e-6, args=(True, False))\n",
    "        if sol.success and sol.x[0] >= 0:\n",
    "            l2 = sol.x\n",
    "            break\n",
    "if l2 == np.nan:\n",
    "    for l2_i in np.linspace(0, l2_max, 100):\n",
    "        sol = root(get_G, l2_i, tol=1e-6, args=(False, True))\n",
    "        if sol.success and sol.x[0] >= 0:\n",
    "            l2 = sol.x\n",
    "            break\n",
    "if l2 == np.nan:\n",
    "    for l2_i in np.linspace(0, l2_max, 100):\n",
    "        sol = root(get_G, l2_i, tol=1e-6, args=(False, False))\n",
    "        if sol.success and sol.x[0] >= 0:\n",
    "            l2 = sol.x\n",
    "            break\n",
    "l2\n",
    "# right l2 sol should be l2 = 940.25"
   ]
  },
  {
   "cell_type": "code",
   "execution_count": null,
   "metadata": {},
   "outputs": [],
   "source": [
    "a = 500\n",
    "b = 500\n",
    "c = 500\n",
    "m = 0.5 # 0-1\n",
    "l1 = 750\n",
    "\n",
    "# Control folding state\n",
    "m = m * c\n",
    "\n",
    "# c = a -e\n",
    "e = a - c\n",
    "# b = sqrt(d**2 - e**2)\n",
    "\n",
    "d = sqrt(b ** 2 + e ** 2)\n",
    "print('d: ', d)\n",
    "\n",
    "# k is a short cut\n",
    "k = sqrt(c ** 2 - m ** 2)\n",
    "M = np.array([0, 0, -k])  # Mittelpunkt\n",
    "\n",
    "# Sol 1:\n",
    "# l2_quad = (c**6+(-a**2-5*b**2-2*l1**2)*c**4+16*a*b**2*c**3+(-a**4+(-6*b**2-4*l1**2-8*m**2)*a**2-5*b**4+8*b**2*m**2+l1**4)*c**2-16*a*m**2*(a**2+b**2)*c+a**6+(3*b**2-2*l1**2-8*m**2)*a**4+(l1**4+(-4*b**2+8*m**2)*l1**2+3*b**4)*a**2+b**2*l1**4+(-2*b**4-8*b**2*m**2)*l1**2+b**6+8*b**4*m**2+2*((a**2+2*a*c+b**2+c**2-l1**2)*(a**4+2*a**3*c+(2*b**2+c**2-l1**2)*a**2-6*a*b**2*c+b**2*(b**2+c**2-l1**2))*(a**4*c**2+(-4*c**3+8*c*m**2)*a**3+(2*b**2*c**2+6*c**4+(-2*l1**2-16*m**2)*c**2+16*m**4)*a**2-4*c*(c**2-2*m**2)*(b**2+c**2-l1**2)*a+b**4*c**2+(2*c**4+(-2*l1**2-16*m**2)*c**2+16*m**4)*b**2+c**2*(c-l1)**2*(c+l1)**2))**(1/2))/(a**2+b**2-c**2+2*c*l1-l1**2)/(a**2+b**2-c**2-2*c*l1-l1**2)\n",
    "# l2 = np.sqrt(l2_quad)\n",
    "\n",
    "# Sol 2:\n",
    "# l2_quad = (c**6+(-a**2-5*b**2-2*l1**2)*c**4+16*a*b**2*c**3+(-a**4+(-6*b**2-4*l1**2-8*m**2)*a**2-5*b**4+8*b**2*m**2+l1**4)*c**2-16*a*m**2*(a**2+b**2)*c+a**6+(3*b**2-2*l1**2-8*m**2)*a**4+(l1**4+(-4*b**2+8*m**2)*l1**2+3*b**4)*a**2+b**2*l1**4+(-2*b**4-8*b**2*m**2)*l1**2+b**6+8*b**4*m**2+2*((a**2+2*a*c+b**2+c**2-l1**2)*(a**4+2*a**3*c+(2*b**2+c**2-l1**2)*a**2-6*a*b**2*c+b**2*(b**2+c**2-l1**2))*(a**4*c**2+(-4*c**3+8*c*m**2)*a**3+(2*b**2*c**2+6*c**4+(-2*l1**2-16*m**2)*c**2+16*m**4)*a**2-4*c*(c**2-2*m**2)*(b**2+c**2-l1**2)*a+b**4*c**2+(2*c**4+(-2*l1**2-16*m**2)*c**2+16*m**4)*b**2+c**2*(c-l1)**2*(c+l1)**2))**(1/2))/(a**2+b**2-c**2+2*c*l1-l1**2)/(a**2+b**2-c**2-2*c*l1-l1**2)\n",
    "# l2 = np.sqrt(l2_quad)\n",
    "\n",
    "l2 = sqrt((a**6 + 3*a**4*b**2 - a**4*c**2 - 2*a**4*l1**2 - 8*a**4*m**2 - 16*a**3*c*m**2 + 3*a**2*b**4 - 6*a**2*b**2*c**2 - 4*a**2*b**2*l1**2 - a**2*c**4 - 4*a**2*c**2*l1**2 - 8*a**2*c**2*m**2 + a**2*l1**4 + 8*a**2*l1**2*m**2 + 16*a*b**2*c**3 - 16*a*b**2*c*m**2 + b**6 - 5*b**4*c**2 - 2*b**4*l1**2 + 8*b**4*m**2 - 5*b**2*c**4 + 8*b**2*c**2*m**2 + b**2*l1**4 - 8*b**2*l1**2*m**2 + c**6 - 2*c**4*l1**2 + c**2*l1**4 - 2*sqrt(a**10*c**2 + 8*a**9*c*m**2 + 5*a**8*b**2*c**2 - 4*a**8*c**4 - 4*a**8*c**2*l1**2 + 16*a**8*c**2*m**2 + 16*a**8*m**4 - 8*a**7*b**2*c**3 + 32*a**7*b**2*c*m**2 - 8*a**7*c**3*m**2 - 24*a**7*c*l1**2*m**2 + 64*a**7*c*m**4 + 10*a**6*b**4*c**2 + 8*a**6*b**2*c**4 - 16*a**6*b**2*c**2*l1**2 - 32*a**6*b**2*c**2*m**2 + 64*a**6*b**2*m**4 + 6*a**6*c**6 + 4*a**6*c**4*l1**2 - 32*a**6*c**4*m**2 + 6*a**6*c**2*l1**4 - 32*a**6*c**2*l1**2*m**2 + 96*a**6*c**2*m**4 - 32*a**6*l1**2*m**4 - 24*a**5*b**4*c**3 + 48*a**5*b**4*c*m**2 + 8*a**5*b**2*c**5 + 24*a**5*b**2*c**3*l1**2 - 56*a**5*b**2*c**3*m**2 - 72*a**5*b**2*c*l1**2*m**2 + 64*a**5*b**2*c*m**4 - 8*a**5*c**5*m**2 - 16*a**5*c**3*l1**2*m**2 + 64*a**5*c**3*m**4 + 24*a**5*c*l1**4*m**2 - 64*a**5*c*l1**2*m**4 + 10*a**4*b**6*c**2 + 32*a**4*b**4*c**4 - 24*a**4*b**4*c**2*l1**2 - 128*a**4*b**4*c**2*m**2 + 96*a**4*b**4*m**4 - 30*a**4*b**2*c**6 - 36*a**4*b**2*c**4*l1**2 + 32*a**4*b**2*c**4*m**2 + 18*a**4*b**2*c**2*l1**4 + 96*a**4*b**2*c**2*l1**2*m**2 - 32*a**4*b**2*c**2*m**4 - 96*a**4*b**2*l1**2*m**4 - 4*a**4*c**8 + 4*a**4*c**6*l1**2 + 16*a**4*c**6*m**2 + 4*a**4*c**4*l1**4 - 32*a**4*c**4*l1**2*m**2 + 16*a**4*c**4*m**4 - 4*a**4*c**2*l1**6 + 16*a**4*c**2*l1**4*m**2 - 32*a**4*c**2*l1**2*m**4 + 16*a**4*l1**4*m**4 - 24*a**3*b**6*c**3 + 32*a**3*b**6*c*m**2 - 16*a**3*b**4*c**5 + 48*a**3*b**4*c**3*l1**2 + 40*a**3*b**4*c**3*m**2 - 72*a**3*b**4*c*l1**2*m**2 - 64*a**3*b**4*c*m**4 + 8*a**3*b**2*c**7 + 16*a**3*b**2*c**5*l1**2 - 48*a**3*b**2*c**5*m**2 - 24*a**3*b**2*c**3*l1**4 + 48*a**3*b**2*c*l1**4*m**2 + 8*a**3*c**7*m**2 - 24*a**3*c**5*l1**2*m**2 + 24*a**3*c**3*l1**4*m**2 - 8*a**3*c*l1**6*m**2 + 5*a**2*b**8*c**2 + 24*a**2*b**6*c**4 - 16*a**2*b**6*c**2*l1**2 - 96*a**2*b**6*c**2*m**2 + 64*a**2*b**6*m**4 + 34*a**2*b**4*c**6 - 52*a**2*b**4*c**4*l1**2 + 32*a**2*b**4*c**4*m**2 + 18*a**2*b**4*c**2*l1**4 + 160*a**2*b**4*c**2*l1**2*m**2 - 96*a**2*b**4*c**2*m**4 - 96*a**2*b**4*l1**2*m**4 + 16*a**2*b**2*c**8 - 40*a**2*b**2*c**6*l1**2 - 64*a**2*b**2*c**6*m**2 + 32*a**2*b**2*c**4*l1**4 + 128*a**2*b**2*c**4*l1**2*m**2 + 32*a**2*b**2*c**4*m**4 - 8*a**2*b**2*c**2*l1**6 - 64*a**2*b**2*c**2*l1**4*m**2 - 64*a**2*b**2*c**2*l1**2*m**4 + 32*a**2*b**2*l1**4*m**4 + a**2*c**10 - 4*a**2*c**8*l1**2 + 6*a**2*c**6*l1**4 - 4*a**2*c**4*l1**6 + a**2*c**2*l1**8 - 8*a*b**8*c**3 + 8*a*b**8*c*m**2 - 24*a*b**6*c**5 + 24*a*b**6*c**3*l1**2 + 88*a*b**6*c**3*m**2 - 24*a*b**6*c*l1**2*m**2 - 64*a*b**6*c*m**4 - 24*a*b**4*c**7 + 48*a*b**4*c**5*l1**2 + 88*a*b**4*c**5*m**2 - 24*a*b**4*c**3*l1**4 - 112*a*b**4*c**3*l1**2*m**2 - 64*a*b**4*c**3*m**4 + 24*a*b**4*c*l1**4*m**2 + 64*a*b**4*c*l1**2*m**4 - 8*a*b**2*c**9 + 24*a*b**2*c**7*l1**2 + 8*a*b**2*c**7*m**2 - 24*a*b**2*c**5*l1**4 - 24*a*b**2*c**5*l1**2*m**2 + 8*a*b**2*c**3*l1**6 + 24*a*b**2*c**3*l1**4*m**2 - 8*a*b**2*c*l1**6*m**2 + b**10*c**2 + 4*b**8*c**4 - 4*b**8*c**2*l1**2 - 16*b**8*c**2*m**2 + 16*b**8*m**4 + 6*b**6*c**6 - 12*b**6*c**4*l1**2 - 32*b**6*c**4*m**2 + 6*b**6*c**2*l1**4 + 32*b**6*c**2*l1**2*m**2 + 32*b**6*c**2*m**4 - 32*b**6*l1**2*m**4 + 4*b**4*c**8 - 12*b**4*c**6*l1**2 - 16*b**4*c**6*m**2 + 12*b**4*c**4*l1**4 + 32*b**4*c**4*l1**2*m**2 + 16*b**4*c**4*m**4 - 4*b**4*c**2*l1**6 - 16*b**4*c**2*l1**4*m**2 - 32*b**4*c**2*l1**2*m**4 + 16*b**4*l1**4*m**4 + b**2*c**10 - 4*b**2*c**8*l1**2 + 6*b**2*c**6*l1**4 - 4*b**2*c**4*l1**6 + b**2*c**2*l1**8))/(a**4 + 2*a**2*b**2 - 2*a**2*c**2 - 2*a**2*l1**2 + b**4 - 2*b**2*c**2 - 2*b**2*l1**2 + c**4 - 2*c**2*l1**2 + l1**4))\n",
    "\n",
    "# l2 = 940.236\n",
    "\n",
    "if True:\n",
    "    print('l2=', l2)\n",
    "\n",
    "xro = (l2 ** 2 - d ** 2) / (4 * m)\n",
    "zro = (a * c - c ** 2 + m ** 2 - m * xro) / k\n",
    "yro = sqrt(np.abs(d ** 2 - zro ** 2 - (xro - m) ** 2))\n",
    "\n",
    "\n",
    "xlo = -(l1 ** 2 - d ** 2) / (4 * m)\n",
    "zlo = (a * c - c ** 2 + m ** 2 + m * xlo) / k\n",
    "ylo = sqrt(np.abs(d ** 2 - zlo ** 2 - (xlo + m) ** 2))\n",
    "\n",
    "print('xlo, ylo, zlo:', xlo, ylo, zlo)\n",
    "\n",
    "# Vr und Vl liegen auf der x-Achse\n",
    "Uru = np.array([-xlo, -ylo, zlo])\n",
    "Ulu = np.array([-xro, -yro, zro])\n",
    "Uro = np.array([xro, yro, zro])\n",
    "Ulo = np.array([xlo, ylo, zlo])\n",
    "Vr = np.array([m, 0, 0])\n",
    "Vl = np.array([-m, 0, 0])\n",
    "\n",
    "if False:\n",
    "    print(str(round(np.abs(c - (a ** 2 + b ** 2) ** 0.5), 1)), '<= l1  <=', str(round(c + (a ** 2 + b ** 2) ** 0.5, 1)))\n",
    "\n",
    "X_Ia = np.vstack((M, Uru, Ulu, Uro, Ulo, Vr, Vl)).astype(np.float32)\n",
    "X_Ia"
   ]
  },
  {
   "cell_type": "code",
   "execution_count": null,
   "metadata": {},
   "outputs": [],
   "source": [
    "diff = X_Ia[3]-X_Ia[4]\n",
    "\n",
    "np.sqrt(np.einsum('a, a', diff, diff))"
   ]
  },
  {
   "cell_type": "markdown",
   "metadata": {},
   "source": [
    "## Waterbomb cell with 4 parameters (symmetric cell)"
   ]
  },
  {
   "cell_type": "code",
   "execution_count": null,
   "metadata": {
    "scrolled": false
   },
   "outputs": [],
   "source": [
    "wb = WBCell4Param()\n",
    "wb.interact()"
   ]
  },
  {
   "cell_type": "markdown",
   "metadata": {},
   "source": [
    "# Cell v3 Derivation"
   ]
  },
  {
   "cell_type": "code",
   "execution_count": null,
   "metadata": {},
   "outputs": [],
   "source": [
    "import k3d\n",
    "import random\n",
    "def add_cell(plot, X_Ia, I_Fi):\n",
    "    wb_mesh = k3d.mesh(X_Ia.astype(np.float32),\n",
    "                             I_Fi.astype(np.uint32),\n",
    "                            opacity=0.8,\n",
    "                             color=0x999999,\n",
    "                             side='double')\n",
    "    rand_color = random.randint(0, 0xFFFFFF)\n",
    "    plot += wb_mesh\n",
    "\n",
    "    # wb_points = k3d.points(X_Ia.astype(np.float32),\n",
    "    #                          color=0x999999,\n",
    "    #                        point_size=100)\n",
    "    # plot +=wb_points\n",
    "\n",
    "    for I, X_a in enumerate(X_Ia):\n",
    "        k3d_text = k3d.text('%g' % I, tuple(X_a), label_box=False, size=0.8, color=rand_color)\n",
    "        plot += k3d_text\n",
    "\n",
    "    wb_mesh_wireframe = k3d.mesh(X_Ia.astype(np.float32),\n",
    "                                    I_Fi.astype(np.uint32),\n",
    "                                    color=0x000000,\n",
    "                                    wireframe=True)\n",
    "    plot += wb_mesh_wireframe"
   ]
  },
  {
   "cell_type": "code",
   "execution_count": null,
   "metadata": {},
   "outputs": [],
   "source": [
    "# Control geometry\n",
    "a = 200\n",
    "b = 200\n",
    "c = 200\n",
    "\n",
    "# Control folding state\n",
    "m = 150   # x of Vr, -x of Vl\n",
    "l1 = 250\n",
    "\n",
    "# c = a -e\n",
    "e = a - c\n",
    "# b = sqrt(d**2 - e**2)\n",
    "d = sqrt(b**2 + e**2)\n",
    "# k is a short cut\n",
    "k = sqrt(c**2-m**2)\n",
    "M = np.array([0,0,-k]) # Mittelpunkt\n",
    "\n",
    "l2 = 300\n",
    "# l2 = ((-8*a**4*l1**2+8*a**4*d**2+8*d**2*e**4-4*e**4*l1**2-2*d**4*l1**2+d**2*l1**4+d**6+16*a**3*e*l1**2-16*a**3*d**2*e+16*a**2*d**2*e**2-12*a**2*e**2*l1**2-16*a*d**2*e**3+8*a*e**3*l1**2-32*a**4*m**2+32*a**3*e*m**2+2*a**2*l1**4-2*a*e*l1**4-4*a**2*d**2*l1**2+4*d**2*e**2*l1**2+8*e**2*l1**2*m**2-8*d**2*l1**2*m**2+8*a**2*l1**2*m**2+2*((4*a**4-4*a**3*e-3*a**2*d**2+4*a**2*e**2-a**2*l1**2+4*a*d**2*e-4*a*e**3+d**4-d**2*e**2-d**2*l1**2+e**2*l1**2)*(4*a**2-4*a*e+d**2-l1**2)*(a**2*d**4-2*a**2*d**2*l1**2-8*a**2*d**2*m**2+16*a**2*e**2*m**2+a**2*l1**4-8*a**2*l1**2*m**2+16*a**2*m**4-2*a*d**4*e+4*a*d**2*e*l1**2+24*a*d**2*e*m**2-32*a*e**3*m**2-2*a*e*l1**4+8*a*e*l1**2*m**2+d**4*e**2-2*d**2*e**2*l1**2-16*d**2*e**2*m**2+16*d**2*m**4+16*e**4*m**2+e**2*l1**4-16*e**2*m**4))**(1/2)+10*a*d**4*e-8*a**2*d**2*m**2-8*d**2*e**2*m**2+8*d**4*m**2-2*a**2*d**4-8*d**4*e**2)/(2*a*e-2*a*l1+d**2-2*e**2+2*e*l1-l1**2)/(2*a*e+2*a*l1+d**2-2*e**2-2*e*l1-l1**2))**(1/2)\n",
    "print(l2)\n",
    "\n",
    "\n",
    "xro = (l2**2 -d**2)/(4 * m)\n",
    "zro = (a*c - c**2 + m**2 - 1/4*(l2**2-d**2))/k\n",
    "yro = sqrt( (c-a)**2 + b**2 - zro**2 - (xro-m)**2 )\n",
    "\n",
    "xlo = -(l1**2-d**2) / (4*m)\n",
    "zlo = (a*c - c**2 +m**2 +m*xlo)/k\n",
    "ylo = sqrt( l1**2 - zlo**2 -(xlo-m)**2)\n",
    "\n",
    "# Vr und Vl liegen auf der x-Achse\n",
    "Uru = np.array([-xlo,-ylo,zlo])\n",
    "Ulu = np.array([-xro,-yro,zro])\n",
    "Uro = np.array([xro,yro,zro])\n",
    "Ulo = np.array([xlo,ylo,zlo])\n",
    "Vr = np.array([m,0,0])\n",
    "Vl = np.array([-m,0,0])\n",
    "\n",
    "I_Fi = np.array([[0, 1, 2], [0, 3, 4], [0, 1, 5], [0, 5, 3], [0, 2, 6], [0, 6, 4]]).astype(np.int32)\n",
    "X_Ia = np.vstack((M, Uru, Ulu, Uro, Ulo, Vr, Vl)).astype(np.float32)\n",
    "X_Ia"
   ]
  },
  {
   "cell_type": "code",
   "execution_count": null,
   "metadata": {},
   "outputs": [],
   "source": [
    "plot = k3d.plot()\n",
    "add_cell(plot, X_Ia, I_Fi)\n",
    "plot"
   ]
  }
 ],
 "metadata": {
  "kernelspec": {
   "display_name": "Python 3 (ipykernel)",
   "language": "python",
   "name": "python3"
  },
  "language_info": {
   "codemirror_mode": {
    "name": "ipython",
    "version": 3
   },
   "file_extension": ".py",
   "mimetype": "text/x-python",
   "name": "python",
   "nbconvert_exporter": "python",
   "pygments_lexer": "ipython3",
   "version": "3.9.12"
  },
  "toc": {
   "base_numbering": 1,
   "nav_menu": {},
   "number_sections": true,
   "sideBar": true,
   "skip_h1_title": true,
   "title_cell": "Table of Contents",
   "title_sidebar": "Contents",
   "toc_cell": false,
   "toc_position": {},
   "toc_section_display": true,
   "toc_window_display": false
  }
 },
 "nbformat": 4,
 "nbformat_minor": 4
}
