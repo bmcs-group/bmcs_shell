{
 "cells": [
  {
   "cell_type": "markdown",
   "metadata": {},
   "source": [
    "# Numerical tessellation of waterbomb cells"
   ]
  },
  {
   "cell_type": "code",
   "execution_count": 11,
   "metadata": {},
   "outputs": [],
   "source": [
    "%matplotlib widget\n",
    "from bmcs_shell.api import WBElem5Param, WBElemSymb5ParamXL, WBNumericalTessellation, WBElem4Param\n",
    "import numpy as np"
   ]
  },
  {
   "cell_type": "code",
   "execution_count": 2,
   "metadata": {},
   "outputs": [],
   "source": [
    "data = dict(gamma=0.2, x_ur=1400, a=1000, b=1700, c=850, show_wireframe=True)\n",
    "wb = WBElem5Param(**data)\n",
    "# wb.interact()"
   ]
  },
  {
   "cell_type": "code",
   "execution_count": 3,
   "metadata": {
    "scrolled": true
   },
   "outputs": [],
   "source": [
    "import k3d\n",
    "import random\n",
    "def add_cell(plot, X_Ia, I_Fi):\n",
    "    wb_mesh = k3d.mesh(X_Ia.astype(np.float32),\n",
    "                             I_Fi.astype(np.uint32),\n",
    "                            opacity=0.8,\n",
    "                             color=0x999999,\n",
    "                             side='double')\n",
    "    rand_color = random.randint(0, 0xFFFFFF)\n",
    "    plot += wb_mesh\n",
    "\n",
    "    # wb_points = k3d.points(X_Ia.astype(np.float32),\n",
    "    #                          color=0x999999,\n",
    "    #                        point_size=100)\n",
    "    # plot +=wb_points\n",
    "\n",
    "    for I, X_a in enumerate(X_Ia):\n",
    "        k3d_text = k3d.text('%g' % I, tuple(X_a), label_box=False, size=0.8, color=rand_color)\n",
    "        plot += k3d_text\n",
    "\n",
    "    wb_mesh_wireframe = k3d.mesh(X_Ia.astype(np.float32),\n",
    "                                    I_Fi.astype(np.uint32),\n",
    "                                    color=0x000000,\n",
    "                                    wireframe=True)\n",
    "    plot += wb_mesh_wireframe"
   ]
  },
  {
   "cell_type": "code",
   "execution_count": 4,
   "metadata": {},
   "outputs": [],
   "source": [
    "# Source:\n",
    "# https://github.com/nghiaho12/rigid_transform_3D\n",
    "# http://nghiaho.com/?page_id=671\n",
    "# Input: expects 3xN matrix of points\n",
    "# Returns R,t\n",
    "# R = 3x3 rotation matrix\n",
    "# t = 3x1 column vector\n",
    "\n",
    "def get_best_rot_and_trans_3d(A, B):\n",
    "    assert A.shape == B.shape\n",
    "\n",
    "    num_rows, num_cols = A.shape\n",
    "    if num_rows != 3:\n",
    "        raise Exception(f\"matrix A is not 3xN, it is {num_rows}x{num_cols}\")\n",
    "\n",
    "    num_rows, num_cols = B.shape\n",
    "    if num_rows != 3:\n",
    "        raise Exception(f\"matrix B is not 3xN, it is {num_rows}x{num_cols}\")\n",
    "\n",
    "    # find mean column wise\n",
    "    centroid_A = np.mean(A, axis=1)\n",
    "    centroid_B = np.mean(B, axis=1)\n",
    "\n",
    "    # ensure centroids are 3x1\n",
    "    centroid_A = centroid_A.reshape(-1, 1)\n",
    "    centroid_B = centroid_B.reshape(-1, 1)\n",
    "\n",
    "    # subtract mean\n",
    "    Am = A - centroid_A\n",
    "    Bm = B - centroid_B\n",
    "\n",
    "    H = Am @ np.transpose(Bm)\n",
    "\n",
    "    # sanity check\n",
    "    #if linalg.matrix_rank(H) < 3:\n",
    "    #    raise ValueError(\"rank of H = {}, expecting 3\".format(linalg.matrix_rank(H)))\n",
    "\n",
    "    # find rotation\n",
    "    U, S, Vt = np.linalg.svd(H)\n",
    "    R = Vt.T @ U.T\n",
    "\n",
    "    # special reflection case\n",
    "    if np.linalg.det(R) < 0:\n",
    "        print(\"det(R) < R, reflection detected!, correcting for it ...\")\n",
    "        Vt[2,:] *= -1\n",
    "        R = Vt.T @ U.T\n",
    "\n",
    "    t = -R @ centroid_A + centroid_B\n",
    "\n",
    "    return R, t\n",
    "\n",
    "def get_rot_matrix_around_vector(v, angle):\n",
    "    c = np.cos(angle)\n",
    "    s = np.sin(angle)\n",
    "    v_norm = v/np.sqrt(sum(v*v))\n",
    "\n",
    "    # See: Rotation matrix from axis and angle (https://en.wikipedia.org/wiki/Rotation_matrix)\n",
    "    cross_product_matrix = np.cross(v_norm, np.identity(v_norm.shape[0]) * -1)\n",
    "    return c * np.identity(3) + s * cross_product_matrix + (1-c)*np.outer(v_norm, v_norm)"
   ]
  },
  {
   "cell_type": "code",
   "execution_count": 5,
   "metadata": {},
   "outputs": [],
   "source": [
    "X_Ia = wb.X_Ia\n",
    "ab0 = np.vstack((X_Ia[6], X_Ia[2])).T\n",
    "ab1 = np.vstack((X_Ia[3], X_Ia[5])).T\n",
    "rot, trans = get_best_rot_and_trans_3d(ab0, ab1)\n",
    "ur_X_Ia = trans.flatten() + np.einsum('ba, Ia -> Ib', rot, X_Ia)"
   ]
  },
  {
   "cell_type": "code",
   "execution_count": 6,
   "metadata": {},
   "outputs": [
    {
     "data": {
      "text/plain": [
       "array([[ 0.95735417,  0.02303576, -0.28799714],\n",
       "       [-0.00450471,  0.99788535,  0.06484246],\n",
       "       [ 0.28888182, -0.06077985,  0.95543346]])"
      ]
     },
     "execution_count": 6,
     "metadata": {},
     "output_type": "execute_result"
    }
   ],
   "source": [
    "# Rotate around 3-5\n",
    "rot_62 = get_rot_matrix_around_vector(ur_X_Ia[6] - ur_X_Ia[2], -0.3)\n",
    "rot_62"
   ]
  },
  {
   "cell_type": "code",
   "execution_count": 7,
   "metadata": {},
   "outputs": [],
   "source": [
    "# Bringing back to origin (because rotating is around a vector with 6-2 direction and originates from origin)\n",
    "ur_X_Ia1 = ur_X_Ia - ur_X_Ia[2]\n",
    "# Rotating\n",
    "ur_X_Ia1 = np.einsum('ba, Ia -> Ib', rot_62, ur_X_Ia1)\n",
    "# Bringing back in position\n",
    "ur_X_Ia1 = ur_X_Ia1 + ur_X_Ia[2]"
   ]
  },
  {
   "cell_type": "code",
   "execution_count": 10,
   "metadata": {},
   "outputs": [
    {
     "data": {
      "application/vnd.jupyter.widget-view+json": {
       "model_id": "02770b91328145b092cdae03d5acddb4",
       "version_major": 2,
       "version_minor": 0
      },
      "text/plain": [
       "Output()"
      ]
     },
     "metadata": {},
     "output_type": "display_data"
    }
   ],
   "source": [
    "plot = k3d.plot()\n",
    "I_Fi =wb.I_Fi\n",
    "add_cell(plot, X_Ia, I_Fi)\n",
    "add_cell(plot, ur_X_Ia1, I_Fi)\n",
    "plot.display()"
   ]
  },
  {
   "cell_type": "markdown",
   "metadata": {},
   "source": [
    "## Now, let's write a function to repeat the process for other cells"
   ]
  },
  {
   "cell_type": "code",
   "execution_count": 30,
   "metadata": {},
   "outputs": [],
   "source": [
    "def get_cell_matching_v1_to_v2(X_Ia, v1_ids, v2_ids):\n",
    "    v1_2a = np.array([X_Ia[v1_ids[0]], X_Ia[v1_ids[1]]])\n",
    "    v2_2a = np.array([X_Ia[v2_ids[0]], X_Ia[v2_ids[1]]])\n",
    "    rot, trans = get_best_rot_and_trans_3d(v1_2a.T, v2_2a.T)\n",
    "    translated_X_Ia = trans.flatten() + np.einsum('ba, Ia -> Ib', rot, X_Ia)\n",
    "    \n",
    "    ####### Rotating around vector #######\n",
    "    # Bringing back to origin (because rotating is around a vector originating from origin)\n",
    "    translated_X_Ia1 = translated_X_Ia - translated_X_Ia[v1_ids[1]]\n",
    "    \n",
    "    # Rotating\n",
    "    rot_around_v1 = get_rot_matrix_around_vector(translated_X_Ia1[v1_ids[0]] - translated_X_Ia1[v1_ids[1]], np.pi*1)\n",
    "    translated_X_Ia1 = np.einsum('ba, Ia -> Ib', rot_around_v1, translated_X_Ia1)\n",
    "    \n",
    "    # Bringing back in position\n",
    "    return translated_X_Ia1 + translated_X_Ia[v1_ids[1]]"
   ]
  },
  {
   "cell_type": "code",
   "execution_count": 31,
   "metadata": {},
   "outputs": [],
   "source": [
    "def rotate_cell(cell_X_Ia, v1_ids, angle=np.pi):\n",
    "    ####### Rotating around vector #######\n",
    "    # Bringing back to origin (because rotating is around a vector originating from origin)\n",
    "    cell_X_Ia_copy = np.copy(cell_X_Ia)\n",
    "    cell_X_Ia = cell_X_Ia_copy - cell_X_Ia_copy[v1_ids[1]]\n",
    "    \n",
    "    # Rotating\n",
    "    rot_around_v1 = get_rot_matrix_around_vector(cell_X_Ia[v1_ids[0]] - cell_X_Ia[v1_ids[1]], angle)\n",
    "    cell_X_Ia = np.einsum('ba, Ia -> Ib', rot_around_v1, cell_X_Ia)\n",
    "    \n",
    "    # Bringing back in position\n",
    "    return cell_X_Ia + cell_X_Ia_copy[v1_ids[1]]"
   ]
  },
  {
   "cell_type": "code",
   "execution_count": null,
   "metadata": {},
   "outputs": [],
   "source": [
    "X_Ia = wb.X_Ia\n",
    "br_X_Ia = get_cell_matching_v1_to_v2(X_Ia, np.array([4, 6]), np.array([5, 1]))\n",
    "ur_X_Ia = get_cell_matching_v1_to_v2(X_Ia, np.array([6, 2]), np.array([3, 5]))\n",
    "# u_X_Ia = get_cell_matching_v1_to_v2(X_Ia, np.array([1, 2]), np.array([3, 4]))"
   ]
  },
  {
   "cell_type": "code",
   "execution_count": 32,
   "metadata": {},
   "outputs": [],
   "source": [
    "def rotate_and_get_diff(rotations):\n",
    "    br_X_Ia_rot = rotate_cell(br_X_Ia, np.array([4, 6]), rotations[0])\n",
    "    ur_X_Ia_rot = rotate_cell(ur_X_Ia, np.array([6, 2]), rotations[1])\n",
    "    diff = ur_X_Ia_rot[1] - br_X_Ia_rot[3]\n",
    "    dist = np.sqrt(np.sum(diff*diff))\n",
    "#     print('dist=', dist)\n",
    "    return dist"
   ]
  },
  {
   "cell_type": "code",
   "execution_count": 33,
   "metadata": {},
   "outputs": [
    {
     "name": "stdout",
     "output_type": "stream",
     "text": [
      "smallest_dist= 12.006910647642261\n"
     ]
    },
    {
     "data": {
      "text/plain": [
       "array([0.15122247, 3.03168785])"
      ]
     },
     "execution_count": 33,
     "metadata": {},
     "output_type": "execute_result"
    }
   ],
   "source": [
    "from scipy.optimize import minimize, rosen, rosen_der\n",
    "x0 = [np.pi, np.pi]\n",
    "res = minimize(rotate_and_get_diff, x0, tol=1e-8)\n",
    "smallest_dist = res.fun\n",
    "print('smallest_dist=', smallest_dist)\n",
    "sol = res.x\n",
    "sol"
   ]
  },
  {
   "cell_type": "code",
   "execution_count": 34,
   "metadata": {},
   "outputs": [
    {
     "data": {
      "application/vnd.jupyter.widget-view+json": {
       "model_id": "7168b03fa16948e4b4e5f8c6ec15c98f",
       "version_major": 2,
       "version_minor": 0
      },
      "text/plain": [
       "Output()"
      ]
     },
     "metadata": {},
     "output_type": "display_data"
    }
   ],
   "source": [
    "plot = k3d.plot()\n",
    "I_Fi =wb.I_Fi\n",
    "add_cell(plot, X_Ia, I_Fi)\n",
    "# add_cell(plot, ur_X_Ia, I_Fi)\n",
    "# add_cell(plot, br_X_Ia, I_Fi)\n",
    "add_cell(plot, rotate_cell(br_X_Ia, np.array([4, 6]), sol[0]), I_Fi)\n",
    "add_cell(plot, rotate_cell(ur_X_Ia, np.array([6, 2]), sol[1]), I_Fi)\n",
    "plot.display()"
   ]
  }
 ],
 "metadata": {
  "kernelspec": {
   "display_name": "Python 3",
   "language": "python",
   "name": "python3"
  },
  "language_info": {
   "codemirror_mode": {
    "name": "ipython",
    "version": 3
   },
   "file_extension": ".py",
   "mimetype": "text/x-python",
   "name": "python",
   "nbconvert_exporter": "python",
   "pygments_lexer": "ipython3",
   "version": "3.9.4"
  },
  "toc": {
   "base_numbering": 1,
   "nav_menu": {},
   "number_sections": true,
   "sideBar": true,
   "skip_h1_title": true,
   "title_cell": "Table of Contents",
   "title_sidebar": "Contents",
   "toc_cell": false,
   "toc_position": {},
   "toc_section_display": true,
   "toc_window_display": false
  }
 },
 "nbformat": 4,
 "nbformat_minor": 4
}
