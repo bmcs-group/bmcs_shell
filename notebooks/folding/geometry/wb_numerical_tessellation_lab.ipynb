{
 "cells": [
  {
   "cell_type": "markdown",
   "metadata": {},
   "source": [
    "# Numerical tessellation of waterbomb cells"
   ]
  },
  {
   "cell_type": "code",
   "execution_count": 21,
   "metadata": {},
   "outputs": [],
   "source": [
    "%matplotlib widget\n",
    "from bmcs_shell.api import WBElem5Param, WBElemSymb5ParamXL, WBNumericalTessellation, WBElem4Param, WBElem5ParamV2\n",
    "import numpy as np\n",
    "from numpy import sqrt, sin, cos, tan, arctan"
   ]
  },
  {
   "cell_type": "code",
   "execution_count": 2,
   "metadata": {},
   "outputs": [],
   "source": [
    "data = dict(gamma=0.2, x_ur=1400, a=1000, b=1700, c=850, show_wireframe=True)\n",
    "wb = WBElem5Param(**data)\n",
    "# wb.interact()"
   ]
  },
  {
   "cell_type": "code",
   "execution_count": 3,
   "metadata": {
    "scrolled": true
   },
   "outputs": [],
   "source": [
    "import k3d\n",
    "import random\n",
    "def add_cell(plot, X_Ia, I_Fi):\n",
    "    wb_mesh = k3d.mesh(X_Ia.astype(np.float32),\n",
    "                             I_Fi.astype(np.uint32),\n",
    "                            opacity=0.8,\n",
    "                             color=0x999999,\n",
    "                             side='double')\n",
    "    rand_color = random.randint(0, 0xFFFFFF)\n",
    "    plot += wb_mesh\n",
    "\n",
    "    # wb_points = k3d.points(X_Ia.astype(np.float32),\n",
    "    #                          color=0x999999,\n",
    "    #                        point_size=100)\n",
    "    # plot +=wb_points\n",
    "\n",
    "    for I, X_a in enumerate(X_Ia):\n",
    "        k3d_text = k3d.text('%g' % I, tuple(X_a), label_box=False, size=0.8, color=rand_color)\n",
    "        plot += k3d_text\n",
    "\n",
    "    wb_mesh_wireframe = k3d.mesh(X_Ia.astype(np.float32),\n",
    "                                    I_Fi.astype(np.uint32),\n",
    "                                    color=0x000000,\n",
    "                                    wireframe=True)\n",
    "    plot += wb_mesh_wireframe"
   ]
  },
  {
   "cell_type": "code",
   "execution_count": 4,
   "metadata": {},
   "outputs": [],
   "source": [
    "# Source:\n",
    "# https://github.com/nghiaho12/rigid_transform_3D\n",
    "# http://nghiaho.com/?page_id=671\n",
    "# Input: expects 3xN matrix of points\n",
    "# Returns R,t\n",
    "# R = 3x3 rotation matrix\n",
    "# t = 3x1 column vector\n",
    "\n",
    "def get_best_rot_and_trans_3d(A, B):\n",
    "    \"\"\" This function finds the optimal rotation and translation \n",
    "     between two sets of corresponding 3D point data A and B\"\"\"\n",
    "    assert A.shape == B.shape\n",
    "\n",
    "    num_rows, num_cols = A.shape\n",
    "    if num_rows != 3:\n",
    "        raise Exception(f\"matrix A is not 3xN, it is {num_rows}x{num_cols}\")\n",
    "\n",
    "    num_rows, num_cols = B.shape\n",
    "    if num_rows != 3:\n",
    "        raise Exception(f\"matrix B is not 3xN, it is {num_rows}x{num_cols}\")\n",
    "\n",
    "    # find mean column wise\n",
    "    centroid_A = np.mean(A, axis=1)\n",
    "    centroid_B = np.mean(B, axis=1)\n",
    "\n",
    "    # ensure centroids are 3x1\n",
    "    centroid_A = centroid_A.reshape(-1, 1)\n",
    "    centroid_B = centroid_B.reshape(-1, 1)\n",
    "\n",
    "    # subtract mean\n",
    "    Am = A - centroid_A\n",
    "    Bm = B - centroid_B\n",
    "\n",
    "    H = Am @ np.transpose(Bm)\n",
    "\n",
    "    # sanity check\n",
    "    #if linalg.matrix_rank(H) < 3:\n",
    "    #    raise ValueError(\"rank of H = {}, expecting 3\".format(linalg.matrix_rank(H)))\n",
    "\n",
    "    # find rotation\n",
    "    U, S, Vt = np.linalg.svd(H)\n",
    "    R = Vt.T @ U.T\n",
    "\n",
    "    # special reflection case\n",
    "    if np.linalg.det(R) < 0:\n",
    "        print(\"det(R) < R, reflection detected!, correcting for it ...\")\n",
    "        Vt[2,:] *= -1\n",
    "        R = Vt.T @ U.T\n",
    "\n",
    "    t = -R @ centroid_A + centroid_B\n",
    "\n",
    "    return R, t\n",
    "\n",
    "def get_rot_matrix_around_vector(v, angle):\n",
    "    c = np.cos(angle)\n",
    "    s = np.sin(angle)\n",
    "    v_norm = v/np.sqrt(sum(v*v))\n",
    "\n",
    "    # See: Rotation matrix from axis and angle (https://en.wikipedia.org/wiki/Rotation_matrix)\n",
    "    cross_product_matrix = np.cross(v_norm, np.identity(v_norm.shape[0]) * -1)\n",
    "    return c * np.identity(3) + s * cross_product_matrix + (1-c)*np.outer(v_norm, v_norm)"
   ]
  },
  {
   "cell_type": "code",
   "execution_count": 5,
   "metadata": {},
   "outputs": [
    {
     "name": "stdout",
     "output_type": "stream",
     "text": [
      "det(R) < R, reflection detected!, correcting for it ...\n"
     ]
    }
   ],
   "source": [
    "X_Ia = wb.X_Ia\n",
    "# start_points = np.vstack((X_Ia[6], X_Ia[2])).T\n",
    "# end_points = np.vstack((X_Ia[3], X_Ia[5])).T\n",
    "\n",
    "# Providing these three points will make sure the rotation we get sets the lower left \n",
    "#  surface of the new cell on the upper right surface of the central cell\n",
    "start_points = np.vstack((X_Ia[6], X_Ia[2], X_Ia[0])).T\n",
    "end_points = np.vstack((X_Ia[3], X_Ia[5], X_Ia[3] + X_Ia[5] - X_Ia[0])).T\n",
    "\n",
    "rot, trans = get_best_rot_and_trans_3d(start_points, end_points)\n",
    "ur_X_Ia = trans.flatten() + np.einsum('ba, Ia -> Ib', rot, X_Ia)"
   ]
  },
  {
   "cell_type": "code",
   "execution_count": 6,
   "metadata": {},
   "outputs": [
    {
     "data": {
      "text/plain": [
       "array([[ 0.95735417,  0.02303576, -0.28799714],\n",
       "       [-0.00450471,  0.99788535,  0.06484246],\n",
       "       [ 0.28888182, -0.06077985,  0.95543346]])"
      ]
     },
     "execution_count": 6,
     "metadata": {},
     "output_type": "execute_result"
    }
   ],
   "source": [
    "# Rotate around 6-2\n",
    "rot_62 = get_rot_matrix_around_vector(ur_X_Ia[6] - ur_X_Ia[2], -0.3)\n",
    "rot_62"
   ]
  },
  {
   "cell_type": "code",
   "execution_count": 7,
   "metadata": {},
   "outputs": [],
   "source": [
    "# Bringing back to origin (because rotating is around a vector with 6-2 direction and originates from origin)\n",
    "ur_X_Ia1 = ur_X_Ia - ur_X_Ia[2]\n",
    "# Rotating\n",
    "ur_X_Ia1 = np.einsum('ba, Ia -> Ib', rot_62, ur_X_Ia1)\n",
    "# Bringing back in position\n",
    "ur_X_Ia1 = ur_X_Ia1 + ur_X_Ia[2]"
   ]
  },
  {
   "cell_type": "code",
   "execution_count": 8,
   "metadata": {},
   "outputs": [
    {
     "data": {
      "application/vnd.jupyter.widget-view+json": {
       "model_id": "7698c8a2b9234a7ca71acef567f51e23",
       "version_major": 2,
       "version_minor": 0
      },
      "text/plain": [
       "Output()"
      ]
     },
     "metadata": {},
     "output_type": "display_data"
    }
   ],
   "source": [
    "plot = k3d.plot()\n",
    "I_Fi =wb.I_Fi\n",
    "add_cell(plot, X_Ia, I_Fi)\n",
    "add_cell(plot, ur_X_Ia, I_Fi)\n",
    "plot.display()"
   ]
  },
  {
   "cell_type": "markdown",
   "metadata": {},
   "source": [
    "## Now, let's write a function to repeat the process for other cells"
   ]
  },
  {
   "cell_type": "code",
   "execution_count": 11,
   "metadata": {},
   "outputs": [],
   "source": [
    "def get_cell_matching_v1_to_v2(X_Ia, v1_ids, v2_ids):\n",
    "    v1_2a = np.array([X_Ia[v1_ids[0]], X_Ia[v1_ids[1]], X_Ia[0]]).T\n",
    "    v2_2a = np.array([X_Ia[v2_ids[0]], X_Ia[v2_ids[1]], X_Ia[v2_ids[0]] + X_Ia[v2_ids[1]] - X_Ia[0]]).T\n",
    "    rot, trans = get_best_rot_and_trans_3d(v1_2a, v2_2a)\n",
    "    translated_X_Ia = trans.flatten() + np.einsum('ba, Ia -> Ib', rot, X_Ia)\n",
    "    \n",
    "    ####### Rotating around vector #######\n",
    "    # Bringing back to origin (because rotating is around a vector originating from origin)\n",
    "    translated_X_Ia1 = translated_X_Ia - translated_X_Ia[v1_ids[1]]\n",
    "    \n",
    "    # Rotating\n",
    "    rot_around_v1 = get_rot_matrix_around_vector(translated_X_Ia1[v1_ids[0]] - translated_X_Ia1[v1_ids[1]], np.pi*1)\n",
    "    translated_X_Ia1 = np.einsum('ba, Ia -> Ib', rot_around_v1, translated_X_Ia1)\n",
    "    \n",
    "    # Bringing back in position\n",
    "    return translated_X_Ia1 + translated_X_Ia[v1_ids[1]]"
   ]
  },
  {
   "cell_type": "code",
   "execution_count": 12,
   "metadata": {},
   "outputs": [],
   "source": [
    "def rotate_cell(cell_X_Ia, v1_ids, angle=np.pi):\n",
    "    ####### Rotating around vector #######\n",
    "    # Bringing back to origin (because rotating is around a vector originating from origin)\n",
    "    cell_X_Ia_copy = np.copy(cell_X_Ia)\n",
    "    cell_X_Ia = cell_X_Ia_copy - cell_X_Ia_copy[v1_ids[1]]\n",
    "    \n",
    "    # Rotating\n",
    "    rot_around_v1 = get_rot_matrix_around_vector(cell_X_Ia[v1_ids[0]] - cell_X_Ia[v1_ids[1]], angle)\n",
    "    cell_X_Ia = np.einsum('ba, Ia -> Ib', rot_around_v1, cell_X_Ia)\n",
    "    \n",
    "    # Bringing back in position\n",
    "    return cell_X_Ia + cell_X_Ia_copy[v1_ids[1]]"
   ]
  },
  {
   "cell_type": "markdown",
   "metadata": {},
   "source": [
    "## Test old 5p cell"
   ]
  },
  {
   "cell_type": "code",
   "execution_count": 13,
   "metadata": {},
   "outputs": [
    {
     "name": "stdout",
     "output_type": "stream",
     "text": [
      "det(R) < R, reflection detected!, correcting for it ...\n"
     ]
    }
   ],
   "source": [
    "X_Ia = wb.X_Ia\n",
    "br_X_Ia = get_cell_matching_v1_to_v2(X_Ia, np.array([4, 6]), np.array([5, 1]))\n",
    "ur_X_Ia = get_cell_matching_v1_to_v2(X_Ia, np.array([6, 2]), np.array([3, 5]))\n",
    "# u_X_Ia = get_cell_matching_v1_to_v2(X_Ia, np.array([1, 2]), np.array([3, 4]))"
   ]
  },
  {
   "cell_type": "code",
   "execution_count": 14,
   "metadata": {},
   "outputs": [],
   "source": [
    "def rotate_and_get_diff(rotations):\n",
    "    br_X_Ia_rot = rotate_cell(br_X_Ia, np.array([4, 6]), rotations[0])\n",
    "    ur_X_Ia_rot = rotate_cell(ur_X_Ia, np.array([6, 2]), rotations[1])\n",
    "    diff = ur_X_Ia_rot[1] - br_X_Ia_rot[3]\n",
    "    dist = np.sqrt(np.sum(diff*diff))\n",
    "#     print('dist=', dist)\n",
    "    return dist"
   ]
  },
  {
   "cell_type": "code",
   "execution_count": 15,
   "metadata": {},
   "outputs": [
    {
     "name": "stdout",
     "output_type": "stream",
     "text": [
      "smallest_dist= 12.006910647725357\n"
     ]
    },
    {
     "data": {
      "text/plain": [
       "array([6.05510154, 5.85347462])"
      ]
     },
     "execution_count": 15,
     "metadata": {},
     "output_type": "execute_result"
    }
   ],
   "source": [
    "from scipy.optimize import minimize, rosen, rosen_der\n",
    "x0 = [np.pi, np.pi]\n",
    "res = minimize(rotate_and_get_diff, x0, tol=1e-8)\n",
    "smallest_dist = res.fun\n",
    "print('smallest_dist=', smallest_dist)\n",
    "sol = res.x\n",
    "sol"
   ]
  },
  {
   "cell_type": "code",
   "execution_count": 16,
   "metadata": {
    "scrolled": false
   },
   "outputs": [
    {
     "data": {
      "application/vnd.jupyter.widget-view+json": {
       "model_id": "cd89285ee27d47a3b525245853c63150",
       "version_major": 2,
       "version_minor": 0
      },
      "text/plain": [
       "Output()"
      ]
     },
     "metadata": {},
     "output_type": "display_data"
    }
   ],
   "source": [
    "plot = k3d.plot()\n",
    "I_Fi =wb.I_Fi\n",
    "add_cell(plot, X_Ia, I_Fi)\n",
    "# add_cell(plot, ur_X_Ia, I_Fi)\n",
    "# add_cell(plot, br_X_Ia, I_Fi)\n",
    "add_cell(plot, rotate_cell(br_X_Ia, np.array([4, 6]), sol[0]), I_Fi)\n",
    "add_cell(plot, rotate_cell(ur_X_Ia, np.array([6, 2]), sol[1]), I_Fi)\n",
    "plot.display()"
   ]
  },
  {
   "cell_type": "markdown",
   "metadata": {},
   "source": [
    "## Test with new 5p cell"
   ]
  },
  {
   "cell_type": "code",
   "execution_count": 27,
   "metadata": {},
   "outputs": [
    {
     "data": {
      "application/vnd.jupyter.widget-view+json": {
       "model_id": "26e8c96047884c86bfc473daf737b163",
       "version_major": 2,
       "version_minor": 0
      },
      "text/plain": [
       "VBox(children=(HBox(children=(VBox(children=(Tree(layout=Layout(align_items='stretch', border='solid 1px black…"
      ]
     },
     "metadata": {},
     "output_type": "display_data"
    }
   ],
   "source": [
    "# data = dict(a = 1/2, b = 0.866, c = 2/5, gamma = 0.587, beta= 1.68, show_wireframe=True)\n",
    "data = dict(a = 500, b = 750, c = 400, gamma = 0.9, beta= 1.78, show_wireframe=True)\n",
    "wb = WBElem5ParamV2(**data)\n",
    "wb.interact()"
   ]
  },
  {
   "cell_type": "code",
   "execution_count": 28,
   "metadata": {},
   "outputs": [
    {
     "name": "stdout",
     "output_type": "stream",
     "text": [
      "det(R) < R, reflection detected!, correcting for it ...\n",
      "det(R) < R, reflection detected!, correcting for it ...\n"
     ]
    }
   ],
   "source": [
    "X_Ia = wb.X_Ia\n",
    "br_X_Ia = get_cell_matching_v1_to_v2(X_Ia, np.array([4, 6]), np.array([5, 1]))\n",
    "ur_X_Ia = get_cell_matching_v1_to_v2(X_Ia, np.array([6, 2]), np.array([3, 5]))\n",
    "# u_X_Ia = get_cell_matching_v1_to_v2(X_Ia, np.array([1, 2]), np.array([3, 4]))"
   ]
  },
  {
   "cell_type": "code",
   "execution_count": 29,
   "metadata": {},
   "outputs": [
    {
     "data": {
      "text/plain": [
       "(array([-2.693971  , -1.06053265, -3.13111622, -1.49767787]),\n",
       " array([-2.41617566, -1.34924866, -2.84240021, -1.7754732 ]))"
      ]
     },
     "execution_count": 29,
     "metadata": {},
     "output_type": "execute_result"
    }
   ],
   "source": [
    "def get_3_cells_angles(wb):\n",
    "    a = wb.a\n",
    "    b = wb.b\n",
    "    c = wb.c\n",
    "    gamma = wb.gamma\n",
    "    beta = wb.beta\n",
    "    \n",
    "    cos_psi1 = ((b ** 2 - a ** 2) - a * sqrt(a ** 2 + b ** 2) * cos(beta)) / (b * sqrt(a ** 2 + b ** 2) * sin(beta))\n",
    "    sin_psi1 = sqrt(\n",
    "        a ** 2 * (3 * b ** 2 - a ** 2) + 2 * a * (b ** 2 - a ** 2) * sqrt(a ** 2 + b ** 2) * cos(beta) - (\n",
    "                    a ** 2 + b ** 2) ** 2 * cos(beta) ** 2) / (b * sqrt(a ** 2 + b ** 2) * sin(beta))\n",
    "    cos_psi5 = (sqrt(a ** 2 + b ** 2) * cos(beta) - a * cos(2 * gamma)) / (b * sin(2 * gamma))\n",
    "    sin_psi5 = sqrt(b ** 2 + 2 * a * sqrt(a ** 2 + b ** 2) * cos(beta) * cos(2 * gamma) - (a ** 2 + b ** 2) * (\n",
    "                    cos(beta) ** 2 + cos(2 * gamma) ** 2)) / (b * sin(2 * gamma))\n",
    "    cos_psi6 = (a - sqrt(a ** 2 + b ** 2) * cos(beta) * cos(2 * gamma)) / (\n",
    "                sqrt(a ** 2 + b ** 2) * sin(beta) * sin(2 * gamma))\n",
    "    sin_psi6 = sqrt(b ** 2 + 2 * a * sqrt(a ** 2 + b ** 2) * cos(beta) * cos(2 * gamma) - (a ** 2 + b ** 2) * (\n",
    "                cos(beta) ** 2 + cos(2 * gamma) ** 2)) / (sqrt(a ** 2 + b ** 2) * sin(beta) * sin(2 * gamma))\n",
    "    cos_psi1plus6 = cos_psi1 * cos_psi6 - sin_psi1 * sin_psi6\n",
    "    sin_psi1plus6 = sin_psi1 * cos_psi6 + cos_psi1 * sin_psi6\n",
    "    \n",
    "    sin_phi1 = sin_psi1plus6\n",
    "    sin_phi2 = sin_psi5\n",
    "    sin_phi3 = sin_psi5\n",
    "    sin_phi4 = sin_psi1plus6\n",
    "    \n",
    "    cos_phi1 = cos_psi1plus6\n",
    "    cos_phi2 = cos_psi5\n",
    "    cos_phi3 = cos_psi5\n",
    "    cos_phi4 = cos_psi1plus6\n",
    "    \n",
    "    # ALWAYS USE THIS TO FIND DEFINITE ANGLE IN [-pi, pi] from sin and cos\n",
    "    phi1 = np.arctan2(sin_phi1, cos_phi1)\n",
    "    phi2 = np.arctan2(sin_phi2, cos_phi2)\n",
    "    phi3 = phi2\n",
    "    phi4 = phi1\n",
    "    \n",
    "    W = 2*a*(1 - cos(phi1+phi3))*(sin(2*gamma)**2*a*c**2 - (cos(phi2)+cos(phi4))*(cos(2*gamma) - 1)*sin(2*gamma)*b*c**2 - 2*(cos(phi2) + cos(phi4))*sin(2*gamma)*a*b*c - 2*a*c*(2*a - c)*(cos(2*gamma) + 1) + 2*a*b**2*(cos(phi1+phi3) + 1)) - (((a-c)**2 + b**2)*(cos(phi2)**2 + cos(phi4)**2) - 2*cos(phi4)*cos(phi2)*((a-c)**2 + cos(phi1+phi3)*b**2))*c**2*sin(2*gamma)**2\n",
    "    \n",
    "    T_rho = ((a-c)**2 + b**2) * (cos(phi1+phi3) - 1) * ( a*(2*b**2*(cos(phi1+phi3)+1) + 4*a*(a-c))*cos(2*gamma)\n",
    "    + 2*b*sin(2*gamma)*(b**2*cos(phi2)*(cos(phi1+phi3)+1) + (a-c)*((a-c)*cos(phi2) + a*cos(phi2) + c*cos(phi4))) + 2*a*(2*a*(a-c) - b**2*(cos(phi1+phi3)+1)))\n",
    "\n",
    "    sol_P1_t_1 = (2*b*(a-c)*(cos(phi1+phi3) - 1)*sqrt((a-c)**2 + b**2)*sqrt(W) - 2*b*(a*b*c*sin(phi1+phi3)*(cos(phi1+phi3) - 1)*cos(2*gamma) + (((a-c)**2 + b**2*cos(phi1+phi3))*cos(phi2) - cos(phi4)*((a-c)**2 + b**2))*sin(phi1+phi3)*c*sin(2*gamma) + a*b*sin(phi1+phi3)*(cos(phi1+phi3) - 1)*(2*a - c))*sqrt((a-c)**2 + b**2)\n",
    "    + (cos(phi1+phi3) - 1)*(2*b**2*cos(phi1+phi3) + 4*(a-c)**2 + 2*b**2)*sqrt((a-c)**2 + b**2)*sqrt(4*a*b**2*(cos(phi2)*sin(2*gamma)*b + (cos(2*gamma) + 1)*a) - (a**2 + b**2)*(cos(phi2)*sin(2*gamma)*b + (cos(2*gamma) + 1)*a)**2)) / ((2*b*((a-c)**2 + b**2)*sin(phi1+phi3) * sqrt(W) - T_rho))\n",
    "\n",
    "    sol_P1_t_2 = (2*b*(a-c)*(cos(phi1+phi3) - 1)*sqrt((a-c)**2 + b**2)*sqrt(W) - 2*b*(a*b*c*sin(phi1+phi3)*(cos(phi1+phi3) - 1)*cos(2*gamma) + (((a-c)**2 + b**2*cos(phi1+phi3))*cos(phi2) - cos(phi4)*((a-c)**2 + b**2))*sin(phi1+phi3)*c*sin(2*gamma) + a*b*sin(phi1+phi3)*(cos(phi1+phi3) - 1)*(2*a - c))*sqrt((a-c)**2 + b**2)\n",
    "    - (cos(phi1+phi3) - 1)*(2*b**2*cos(phi1+phi3) + 4*(a-c)**2 + 2*b**2)*sqrt((a-c)**2 + b**2)*sqrt(4*a*b**2*(cos(phi2)*sin(2*gamma)*b + (cos(2*gamma) + 1)*a) - (a**2 + b**2)*(cos(phi2)*sin(2*gamma)*b + (cos(2*gamma) + 1)*a)**2)) / ((2*b*((a-c)**2 + b**2)*sin(phi1+phi3) * sqrt(W) - T_rho))\n",
    "\n",
    "    sol_P2_t_1 = (-2*b*(a-c)*(cos(phi1+phi3) - 1)*sqrt((a-c)**2 + b**2)*sqrt(W) - 2*b*(a*b*c*sin(phi1+phi3)*(cos(phi1+phi3) - 1)*cos(2*gamma) + (((a-c)**2 + b**2*cos(phi1+phi3))*cos(phi2) - cos(phi4)*((a-c)**2 + b**2))*sin(phi1+phi3)*c*sin(2*gamma) + a*b*sin(phi1+phi3)*(cos(phi1+phi3) - 1)*(2*a - c))*sqrt((a-c)**2 + b**2)\n",
    "    + (cos(phi1+phi3) - 1)*(2*b**2*cos(phi1+phi3) + 4*(a-c)**2 + 2*b**2)*sqrt((a-c)**2 + b**2)*sqrt(4*a*b**2*(cos(phi2)*sin(2*gamma)*b + (cos(2*gamma) + 1)*a) - (a**2 + b**2)*(cos(phi2)*sin(2*gamma)*b + (cos(2*gamma) + 1)*a)**2)) / ((-2*b*((a-c)**2 + b**2)*sin(phi1+phi3) * sqrt(W) - T_rho))\n",
    "\n",
    "    sol_P2_t_2 = (-2*b*(a-c)*(cos(phi1+phi3) - 1)*sqrt((a-c)**2 + b**2)*sqrt(W) - 2*b*(a*b*c*sin(phi1 + phi3)*(cos(phi1+phi3) - 1)*cos(2*gamma) + (((a-c)**2 + b**2*cos(phi1+phi3))*cos(phi2) - cos(phi4)*((a-c)**2 + b**2))*sin(phi1+phi3)*c*sin(2*gamma) + a*b*sin(phi1+phi3)*(cos(phi1+phi3) - 1)*(2*a - c))*sqrt((a-c)**2 + b**2)\n",
    "    - (cos(phi1+phi3) - 1)*(2*b**2*cos(phi1+phi3) + 4*(a-c)**2 + 2*b**2)*sqrt((a-c)**2 + b**2)*sqrt(4*a*b**2*(cos(phi2)*sin(2*gamma)*b + (cos(2*gamma) + 1)*a) - (a**2 + b**2)*(cos(phi2)*sin(2*gamma)*b + (cos(2*gamma) + 1)*a)**2)) / ((-2*b*((a-c)**2 + b**2)*sin(phi1+phi3) * sqrt(W) - T_rho))\n",
    "\n",
    "    T_sigma = ((a-c)**2 + b**2) * (cos(phi1+phi3) - 1) * ( a*(2*b**2*(cos(phi1+phi3)+1) + 4*a*(a-c))*cos(2*gamma)\n",
    "    + 2*b*sin(2*gamma)*(b**2*cos(phi4)*(cos(phi1+phi3)+1) + (a-c)*((a-c)*cos(phi4) + a*cos(phi4) + c*cos(phi2))) + 2*a*(2*a*(a-c) - b**2*(cos(phi1+phi3) + 1)))\n",
    "\n",
    "    sol_Q1_u_1 = (2*b*(a-c)*(cos(phi1+phi3) - 1)*sqrt((a-c)**2 + b**2)*sqrt(W) - 2*b*(a*b*c*sin(phi1+phi3)*(cos(phi1+phi3) - 1)*cos(2*gamma) + (((a-c)**2 + b**2*cos(phi1+phi3))*cos(phi4) - cos(phi2)*((a-c)**2 + b**2))*sin(phi1+phi3)*c*sin(2*gamma) + a*b*sin(phi1+phi3)*(cos(phi1+phi3) - 1)*(2*a - c))*sqrt((a-c)**2 + b**2)\n",
    "    + (cos(phi1+phi3) - 1)*(2*b**2*cos(phi1+phi3) + 4*(a-c)**2 + 2*b**2)*sqrt((a-c)**2 + b**2)*sqrt(4*a*b**2*(cos(phi4)*sin(2*gamma)*b + (cos(2*gamma) + 1)*a) - (a**2 + b**2)*(cos(phi4)*sin(2*gamma)*b + (cos(2*gamma) + 1)*a)**2)) / ((2*b*((a-c)**2 + b**2)*sin(phi1+phi3) * sqrt(W) - T_sigma))\n",
    "\n",
    "    sol_Q1_u_2 = (2*b*(a-c)*(cos(phi1+phi3) - 1)*sqrt((a-c)**2 + b**2)*sqrt(W) - 2*b*(a*b*c*sin(phi1+phi3)*(cos(phi1+phi3) - 1)*cos(2*gamma) + (((a-c)**2 + b**2*cos(phi1+phi3))*cos(phi4) - cos(phi2)*((a-c)**2 + b**2))*sin(phi1+phi3)*c*sin(2*gamma) + a*b*sin(phi1+phi3)*(cos(phi1+phi3) - 1)*(2*a - c))*sqrt((a-c)**2 + b**2)\n",
    "    - (cos(phi1+phi3) - 1)*(2*b**2*cos(phi1+phi3) + 4*(a-c)**2 + 2*b**2)*sqrt((a-c)**2 + b**2)*sqrt(4*a*b**2*(cos(phi4)*sin(2*gamma)*b + (cos(2*gamma) + 1)*a) - (a**2 + b**2)*(cos(phi4)*sin(2*gamma)*b + (cos(2*gamma) + 1)*a)**2)) / ((2*b*((a-c)**2 + b**2)*sin(phi1+phi3) * sqrt(W) - T_sigma))\n",
    "\n",
    "    sol_Q2_u_1 = (-2*b*(a-c)*(cos(phi1+phi3) - 1)*sqrt((a-c)**2 + b**2)*sqrt(W) - 2*b*(a*b*c*sin(phi1+phi3)*(cos(phi1+phi3) - 1)*cos(2*gamma) + (((a-c)**2 + b**2*cos(phi1+phi3))*cos(phi4) - cos(phi2)*((a-c)**2 + b**2))*sin(phi1+phi3)*c*sin(2*gamma) + a*b*sin(phi1+phi3)*(cos(phi1+phi3) - 1)*(2*a - c))*sqrt((a-c)**2 + b**2)\n",
    "    + (cos(phi1+phi3) - 1)*(2*b**2*cos(phi1+phi3) + 4*(a-c)**2 + 2*b**2)*sqrt((a-c)**2 + b**2)*sqrt(4*a*b**2*(cos(phi4)*sin(2*gamma)*b + (cos(2*gamma) + 1)*a) - (a**2 + b**2)*(cos(phi4)*sin(2*gamma)*b + (cos(2*gamma) + 1)*a)**2)) / ((-2*b*((a-c)**2 + b**2)*sin(phi1+phi3) * sqrt(W) - T_sigma))\n",
    "\n",
    "    sol_Q2_u_2 = (-2*b*(a-c)*(cos(phi1+phi3) - 1)*sqrt((a-c)**2 + b**2)*sqrt(W) - 2*b*(a*b*c*sin(phi1 + phi3)*(cos(phi1+phi3) - 1)*cos(2*gamma) + (((a-c)**2 + b**2*cos(phi1+phi3))*cos(phi4) - cos(phi2)*((a-c)**2 + b**2))*sin(phi1+phi3)*c*sin(2*gamma) + a*b*sin(phi1+phi3)*(cos(phi1+phi3) - 1)*(2*a - c))*sqrt((a-c)**2 + b**2)\n",
    "    - (cos(phi1+phi3) - 1)*(2*b**2*cos(phi1+phi3) + 4*(a-c)**2 + 2*b**2)*sqrt((a-c)**2 + b**2)*sqrt(4*a*b**2*(cos(phi4)*sin(2*gamma)*b + (cos(2*gamma) + 1)*a) - (a**2 + b**2)*(cos(phi4)*sin(2*gamma)*b + (cos(2*gamma) + 1)*a)**2)) / ((-2*b*((a-c)**2 + b**2)*sin(phi1+phi3) * sqrt(W) - T_sigma))\n",
    "\n",
    "    # sol_P is tan(rho/2), sol_Q is tan(sigma/2)\n",
    "    \n",
    "    rhos = [np.arctan(sol) * 2 for sol in [sol_P1_t_1, sol_P1_t_2, sol_P2_t_1, sol_P2_t_2]]\n",
    "    sigmas = [np.arctan(sol) * 2 for sol in [sol_Q1_u_1, sol_Q1_u_2, sol_Q2_u_1, sol_Q2_u_2]]\n",
    "    return rhos, sigmas\n",
    "rhos, sigmas = get_3_cells_angles(wb)\n",
    "rhos, sigmas = - np.array(rhos), - np.array(sigmas)\n",
    "rhos, sigmas"
   ]
  },
  {
   "cell_type": "code",
   "execution_count": 30,
   "metadata": {},
   "outputs": [
    {
     "data": {
      "application/vnd.jupyter.widget-view+json": {
       "model_id": "915b114e82384737817b5f2cc6a5ad02",
       "version_major": 2,
       "version_minor": 0
      },
      "text/plain": [
       "Output()"
      ]
     },
     "metadata": {},
     "output_type": "display_data"
    }
   ],
   "source": [
    "plot = k3d.plot()\n",
    "I_Fi =wb.I_Fi\n",
    "add_cell(plot, X_Ia, I_Fi)\n",
    "# add_cell(plot, ur_X_Ia, I_Fi)\n",
    "# add_cell(plot, br_X_Ia, I_Fi)\n",
    "add_cell(plot, rotate_cell(br_X_Ia, np.array([4, 6]), sigmas[3]), I_Fi)\n",
    "add_cell(plot, rotate_cell(ur_X_Ia, np.array([6, 2]), rhos[3]), I_Fi)\n",
    "plot.display()"
   ]
  }
 ],
 "metadata": {
  "kernelspec": {
   "display_name": "Python 3 (ipykernel)",
   "language": "python",
   "name": "python3"
  },
  "language_info": {
   "codemirror_mode": {
    "name": "ipython",
    "version": 3
   },
   "file_extension": ".py",
   "mimetype": "text/x-python",
   "name": "python",
   "nbconvert_exporter": "python",
   "pygments_lexer": "ipython3",
   "version": "3.9.7"
  },
  "toc": {
   "base_numbering": 1,
   "nav_menu": {},
   "number_sections": true,
   "sideBar": true,
   "skip_h1_title": true,
   "title_cell": "Table of Contents",
   "title_sidebar": "Contents",
   "toc_cell": false,
   "toc_position": {},
   "toc_section_display": true,
   "toc_window_display": false
  }
 },
 "nbformat": 4,
 "nbformat_minor": 4
}
