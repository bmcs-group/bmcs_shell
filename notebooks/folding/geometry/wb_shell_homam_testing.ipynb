{
 "cells": [
  {
   "cell_type": "markdown",
   "metadata": {},
   "source": [
    "# Waterbomb shell folder and designer"
   ]
  },
  {
   "cell_type": "code",
   "execution_count": 1,
   "metadata": {
    "pycharm": {
     "name": "#%%\n"
    }
   },
   "outputs": [],
   "source": [
    "%matplotlib widget"
   ]
  },
  {
   "cell_type": "code",
   "execution_count": 2,
   "metadata": {},
   "outputs": [],
   "source": [
    "import sympy as sp\n",
    "#import trimesh\n",
    "sp.init_printing()\n",
    "import numpy as np\n",
    "import matplotlib.pylab as plt\n",
    "import bmcs_utils.api as bu"
   ]
  },
  {
   "cell_type": "code",
   "execution_count": 5,
   "metadata": {},
   "outputs": [
    {
     "ename": "ModuleNotFoundError",
     "evalue": "No module named 'bmcs_shell.folding.wb_shell'",
     "output_type": "error",
     "traceback": [
      "\u001B[1;31m---------------------------------------------------------------------------\u001B[0m",
      "\u001B[1;31mModuleNotFoundError\u001B[0m                       Traceback (most recent call last)",
      "\u001B[1;32m<ipython-input-5-d19f7521f43b>\u001B[0m in \u001B[0;36m<module>\u001B[1;34m\u001B[0m\n\u001B[0;32m      1\u001B[0m \u001B[1;32mfrom\u001B[0m \u001B[0mbmcs_shell\u001B[0m\u001B[1;33m.\u001B[0m\u001B[0mfolding\u001B[0m\u001B[1;33m.\u001B[0m\u001B[0mwb_cell_4p\u001B[0m \u001B[1;32mimport\u001B[0m \u001B[0mWBElem4Param\u001B[0m \u001B[1;32mas\u001B[0m \u001B[0mWBElem\u001B[0m\u001B[1;33m\u001B[0m\u001B[1;33m\u001B[0m\u001B[0m\n\u001B[1;32m----> 2\u001B[1;33m \u001B[1;32mfrom\u001B[0m \u001B[0mbmcs_shell\u001B[0m\u001B[1;33m.\u001B[0m\u001B[0mfolding\u001B[0m\u001B[1;33m.\u001B[0m\u001B[0mwb_shell\u001B[0m \u001B[1;32mimport\u001B[0m \u001B[0mWBShell\u001B[0m\u001B[1;33m\u001B[0m\u001B[1;33m\u001B[0m\u001B[0m\n\u001B[0m",
      "\u001B[1;31mModuleNotFoundError\u001B[0m: No module named 'bmcs_shell.folding.wb_shell'"
     ]
    }
   ],
   "source": [
    "from bmcs_shell.api import WBElem4Param as WBElem\n",
    "from bmcs_shell.folding.wb_shell import WBShell"
   ]
  },
  {
   "cell_type": "code",
   "execution_count": null,
   "metadata": {},
   "outputs": [],
   "source": [
    "data = dict(alpha=1, a=500, b=900, c=400, n_phi_plus=2, n_x_plus=1, show_wireframe=True)"
   ]
  },
  {
   "cell_type": "code",
   "execution_count": null,
   "metadata": {},
   "outputs": [],
   "source": [
    "wb = WBElem(**data)\n",
    "ws = WBShell(wb_cell=wb, **data)"
   ]
  },
  {
   "cell_type": "code",
   "execution_count": null,
   "metadata": {},
   "outputs": [],
   "source": [
    "ws.interact()"
   ]
  },
  {
   "cell_type": "code",
   "execution_count": 7,
   "metadata": {},
   "outputs": [
    {
     "data": {
      "text/plain": [
       "array([[11, 10]])"
      ]
     },
     "execution_count": 7,
     "metadata": {},
     "output_type": "execute_result"
    }
   ],
   "source": [
    "I_m = ws.I_CDij[-1,:,-1,:]\n",
    "I_m"
   ]
  },
  {
   "cell_type": "code",
   "execution_count": 9,
   "metadata": {},
   "outputs": [],
   "source": [
    "_, idx_remap = ws.unique_node_map\n",
    "J_m = idx_remap[I_m]"
   ]
  },
  {
   "cell_type": "code",
   "execution_count": 10,
   "metadata": {},
   "outputs": [
    {
     "data": {
      "text/plain": [
       "array([[-26.48362767, -16.48362767, -12.16120922,  -2.16120922,\n",
       "          2.16120922,  12.16120922,  16.48362767,  26.48362767],\n",
       "       [-45.14318848, -45.14318848, -45.14318848, -45.14318848,\n",
       "        -45.14318848, -45.14318848, -45.14318848, -45.14318848],\n",
       "       [-18.05472565, -18.05472565, -18.05472565, -18.05472565,\n",
       "        -18.05472565, -18.05472565, -18.05472565, -18.05472565]])"
      ]
     },
     "execution_count": 10,
     "metadata": {},
     "output_type": "execute_result"
    }
   ],
   "source": [
    "ws.X_Ia[J_m.flatten()].T"
   ]
  },
  {
   "cell_type": "markdown",
   "metadata": {},
   "source": [
    "# Node map to allow for hierarchical sliding"
   ]
  },
  {
   "cell_type": "code",
   "execution_count": 13,
   "metadata": {
    "scrolled": true
   },
   "outputs": [
    {
     "data": {
      "text/plain": [
       "(array([0, 2]), array([ 0,  2,  4,  6,  8, 10]))"
      ]
     },
     "execution_count": 13,
     "metadata": {},
     "output_type": "execute_result"
    }
   ],
   "source": [
    "n_cells, n_ic, n_id, _, x_cell_idx, _, y_cell_idx = ws.cell_map\n",
    "x_cell_idx, y_cell_idx"
   ]
  },
  {
   "cell_type": "code",
   "execution_count": 14,
   "metadata": {},
   "outputs": [
    {
     "data": {
      "text/plain": [
       "(array([0., 1.]), array([0., 1., 2., 3., 4., 5.]))"
      ]
     },
     "execution_count": 14,
     "metadata": {},
     "output_type": "execute_result"
    }
   ],
   "source": [
    "x_idx, y_idx = x_cell_idx / 2, y_cell_idx / 2\n",
    "x_idx, y_idx"
   ]
  },
  {
   "cell_type": "code",
   "execution_count": 15,
   "metadata": {},
   "outputs": [],
   "source": [
    "n_x_, n_y_ = len(x_idx), len(y_idx) "
   ]
  },
  {
   "cell_type": "code",
   "execution_count": 16,
   "metadata": {},
   "outputs": [
    {
     "data": {
      "text/plain": [
       "array([[ 35,  42,  49,  56,  63,  70],\n",
       "       [ 77,  84,  91,  98, 105, 112]])"
      ]
     },
     "execution_count": 16,
     "metadata": {},
     "output_type": "execute_result"
    }
   ],
   "source": [
    "I_cell_offset = (n_ic + np.arange(n_x_*n_y_).reshape(n_x_, n_y_)) * ws.wb_cell.n_I\n",
    "I_cell_offset"
   ]
  },
  {
   "cell_type": "code",
   "execution_count": 17,
   "metadata": {},
   "outputs": [
    {
     "data": {
      "text/plain": [
       "array([[[[2, 1],\n",
       "         [6, 5],\n",
       "         [4, 3]]]])"
      ]
     },
     "execution_count": 17,
     "metadata": {},
     "output_type": "execute_result"
    }
   ],
   "source": [
    "ws.wb_cell.I_boundary[np.newaxis,np.newaxis,:,:]"
   ]
  },
  {
   "cell_type": "code",
   "execution_count": 18,
   "metadata": {},
   "outputs": [],
   "source": [
    "I_CDij_map = I_cell_offset.T[:,:,np.newaxis, np.newaxis] + ws.wb_cell.I_boundary[np.newaxis,np.newaxis,:,:]"
   ]
  },
  {
   "cell_type": "code",
   "execution_count": 19,
   "metadata": {},
   "outputs": [
    {
     "data": {
      "text/plain": [
       "array([[ 74,  73],\n",
       "       [116, 115]])"
      ]
     },
     "execution_count": 19,
     "metadata": {},
     "output_type": "execute_result"
    }
   ],
   "source": [
    "I_CDij_map[-1,:,-1,:]"
   ]
  },
  {
   "cell_type": "markdown",
   "metadata": {},
   "source": [
    "# Find duplicate nodes and merge them to a single one"
   ]
  },
  {
   "cell_type": "code",
   "execution_count": 20,
   "metadata": {},
   "outputs": [],
   "source": [
    "X_Ia = np.array([[2,1,0],\n",
    "                 [3,8,9],\n",
    "                 [0,0,0],\n",
    "                 [5,3,9],\n",
    "                 [1,0,1],\n",
    "                 [0,0,0],\n",
    "                 [1,0,1],\n",
    "                 [0,0,0]],dtype=np.float_)"
   ]
  },
  {
   "cell_type": "code",
   "execution_count": 21,
   "metadata": {},
   "outputs": [],
   "source": [
    "# reshape the coordinates in array of segments to the shape (n_N, n_D\n",
    "x_0 = X_Ia"
   ]
  },
  {
   "cell_type": "code",
   "execution_count": 22,
   "metadata": {},
   "outputs": [],
   "source": [
    "# construct distance vectors between every pair of nodes\n",
    "x_x_0 = x_0[:, np.newaxis, :] - x_0[np.newaxis, :, :]"
   ]
  },
  {
   "cell_type": "code",
   "execution_count": 23,
   "metadata": {},
   "outputs": [],
   "source": [
    "# calculate the distance between every pair of nodes\n",
    "dist_0 = np.sqrt(np.einsum('...i,...i', x_x_0, x_x_0))"
   ]
  },
  {
   "cell_type": "code",
   "execution_count": 24,
   "metadata": {},
   "outputs": [
    {
     "data": {
      "text/plain": [
       "array([[ True, False, False, False, False, False, False, False],\n",
       "       [False,  True, False, False, False, False, False, False],\n",
       "       [False, False,  True, False, False,  True, False,  True],\n",
       "       [False, False, False,  True, False, False, False, False],\n",
       "       [False, False, False, False,  True, False,  True, False],\n",
       "       [False, False,  True, False, False,  True, False,  True],\n",
       "       [False, False, False, False,  True, False,  True, False],\n",
       "       [False, False,  True, False, False,  True, False,  True]])"
      ]
     },
     "execution_count": 24,
     "metadata": {},
     "output_type": "execute_result"
    }
   ],
   "source": [
    "# identify those at the same location\n",
    "zero_dist = dist_0 < ws.node_match_threshold\n",
    "zero_dist"
   ]
  },
  {
   "cell_type": "code",
   "execution_count": 25,
   "metadata": {},
   "outputs": [],
   "source": [
    "# get their indices\n",
    "i_idx, j_idx = np.where(zero_dist)"
   ]
  },
  {
   "cell_type": "code",
   "execution_count": 26,
   "metadata": {},
   "outputs": [],
   "source": [
    "# take only the upper triangle indices\n",
    "upper_triangle = i_idx < j_idx"
   ]
  },
  {
   "cell_type": "code",
   "execution_count": 27,
   "metadata": {},
   "outputs": [],
   "source": [
    "idx_multi, idx_delete = i_idx[upper_triangle], j_idx[upper_triangle]"
   ]
  },
  {
   "cell_type": "code",
   "execution_count": 28,
   "metadata": {},
   "outputs": [],
   "source": [
    "# construct a boolean array with True at valid and False at deleted\n",
    "# indices\n",
    "idx_unique = np.ones((len(x_0),), dtype='bool')\n",
    "idx_unique[idx_delete] = False"
   ]
  },
  {
   "cell_type": "code",
   "execution_count": 29,
   "metadata": {},
   "outputs": [
    {
     "data": {
      "text/plain": [
       "(array([2, 2, 4, 5]), array([5, 7, 6, 7]))"
      ]
     },
     "execution_count": 29,
     "metadata": {},
     "output_type": "execute_result"
    }
   ],
   "source": [
    "idx_multi, idx_delete"
   ]
  },
  {
   "cell_type": "code",
   "execution_count": 30,
   "metadata": {},
   "outputs": [],
   "source": [
    "idx_keep = np.ones((len(x_0),), dtype=np.bool_)\n",
    "idx_keep[idx_delete] = False"
   ]
  },
  {
   "cell_type": "code",
   "execution_count": 31,
   "metadata": {},
   "outputs": [
    {
     "data": {
      "text/plain": [
       "(array([5, 7, 6, 7]), array([2, 2, 4, 5]))"
      ]
     },
     "execution_count": 31,
     "metadata": {},
     "output_type": "execute_result"
    }
   ],
   "source": [
    "idx_delete, idx_multi"
   ]
  },
  {
   "cell_type": "code",
   "execution_count": 32,
   "metadata": {},
   "outputs": [
    {
     "data": {
      "text/plain": [
       "array([[9, 9, 9, 9, 9, 9, 9, 9],\n",
       "       [9, 9, 9, 9, 9, 9, 9, 9],\n",
       "       [9, 9, 9, 9, 9, 9, 9, 9],\n",
       "       [9, 9, 9, 9, 9, 9, 9, 9],\n",
       "       [9, 9, 9, 9, 9, 9, 9, 9],\n",
       "       [9, 9, 9, 9, 9, 9, 9, 9],\n",
       "       [9, 9, 9, 9, 9, 9, 9, 9],\n",
       "       [9, 9, 9, 9, 9, 9, 9, 9]])"
      ]
     },
     "execution_count": 32,
     "metadata": {},
     "output_type": "execute_result"
    }
   ],
   "source": [
    "ij_map = np.ones_like(dist_0, dtype=np.int_) + len(x_0)\n",
    "ij_map"
   ]
  },
  {
   "cell_type": "code",
   "execution_count": 33,
   "metadata": {},
   "outputs": [],
   "source": [
    "i_ = np.arange(len(x_0))\n",
    "idx_row = i_[idx_keep]"
   ]
  },
  {
   "cell_type": "code",
   "execution_count": 34,
   "metadata": {},
   "outputs": [
    {
     "data": {
      "text/plain": [
       "array([[0, 9, 9, 9, 9, 9, 9, 9],\n",
       "       [9, 1, 9, 9, 9, 9, 9, 9],\n",
       "       [9, 9, 2, 9, 9, 9, 9, 9],\n",
       "       [9, 9, 9, 3, 9, 9, 9, 9],\n",
       "       [9, 9, 9, 9, 4, 9, 9, 9],\n",
       "       [9, 9, 9, 9, 9, 9, 9, 9],\n",
       "       [9, 9, 9, 9, 9, 9, 9, 9],\n",
       "       [9, 9, 9, 9, 9, 9, 9, 9]])"
      ]
     },
     "execution_count": 34,
     "metadata": {},
     "output_type": "execute_result"
    }
   ],
   "source": [
    "ij_map[idx_keep,idx_keep] = np.arange(len(idx_row))\n",
    "ij_map"
   ]
  },
  {
   "cell_type": "code",
   "execution_count": 35,
   "metadata": {},
   "outputs": [
    {
     "data": {
      "text/plain": [
       "array([[0, 9, 9, 9, 9, 9, 9, 9],\n",
       "       [9, 1, 9, 9, 9, 9, 9, 9],\n",
       "       [9, 9, 2, 9, 9, 2, 9, 2],\n",
       "       [9, 9, 9, 3, 9, 9, 9, 9],\n",
       "       [9, 9, 9, 9, 4, 9, 4, 9],\n",
       "       [9, 9, 9, 9, 9, 9, 9, 9],\n",
       "       [9, 9, 9, 9, 9, 9, 9, 9],\n",
       "       [9, 9, 9, 9, 9, 9, 9, 9]])"
      ]
     },
     "execution_count": 35,
     "metadata": {},
     "output_type": "execute_result"
    }
   ],
   "source": [
    "ij_map[i_idx, j_idx] = ij_map[i_idx, i_idx]\n",
    "ij_map"
   ]
  },
  {
   "cell_type": "code",
   "execution_count": 36,
   "metadata": {},
   "outputs": [
    {
     "data": {
      "text/plain": [
       "array([0, 1, 2, 3, 4, 2, 4, 2])"
      ]
     },
     "execution_count": 36,
     "metadata": {},
     "output_type": "execute_result"
    }
   ],
   "source": [
    "idx_remap = np.min(ij_map,axis=0)\n",
    "idx_remap"
   ]
  },
  {
   "cell_type": "markdown",
   "metadata": {},
   "source": [
    "## Sketch of the applied generation method / concept\n",
    "\n",
    "Sketch the discretization into the cells the cell midpoints \n",
    "cover a cylindric surface as a structured grid. \n",
    "\n",
    "Midpoints are arranged at the surface of the derived cylinder\n",
    "parameters which depend on the folding angle $\\alpha$ and $a, b, c$\n",
    "parameters of the waterbomd cell. Then, a reference cell \n",
    "in an intermediate state of folding is broadcasted \n",
    "to the prepared grid of midpoints on the cylinders. "
   ]
  },
  {
   "cell_type": "code",
   "execution_count": 39,
   "metadata": {},
   "outputs": [],
   "source": [
    "n_phi_plus = 2\n",
    "delta_phi = 0.3\n",
    "phi_range = np.arange(-(n_phi_plus-1), n_phi_plus) * delta_phi\n",
    "r_0 = -10"
   ]
  },
  {
   "cell_type": "code",
   "execution_count": 40,
   "metadata": {},
   "outputs": [
    {
     "data": {
      "text/plain": [
       "array([-0.3,  0. ,  0.3])"
      ]
     },
     "execution_count": 40,
     "metadata": {},
     "output_type": "execute_result"
    }
   ],
   "source": [
    "phi_range"
   ]
  },
  {
   "cell_type": "code",
   "execution_count": 41,
   "metadata": {},
   "outputs": [],
   "source": [
    "X_phi_range = np.array([np.fabs(r_0) * np.sin(phi_range),\n",
    "                 np.fabs(r_0) * np.cos(phi_range) + r_0]).T"
   ]
  },
  {
   "cell_type": "code",
   "execution_count": 42,
   "metadata": {},
   "outputs": [
    {
     "data": {
      "application/vnd.jupyter.widget-view+json": {
       "model_id": "e0e812efbb534fd790114ea41801258d",
       "version_major": 2,
       "version_minor": 0
      },
      "text/plain": [
       "Canvas(toolbar=Toolbar(toolitems=[('Home', 'Reset original view', 'home', 'home'), ('Back', 'Back to previous …"
      ]
     },
     "metadata": {},
     "output_type": "display_data"
    }
   ],
   "source": [
    "fix, ax = plt.subplots(1,1)\n",
    "ax.plot(*X_phi_range.T);"
   ]
  },
  {
   "cell_type": "code",
   "execution_count": 44,
   "metadata": {},
   "outputs": [
    {
     "data": {
      "text/plain": [
       "array([-0.5,  0. ,  0.5])"
      ]
     },
     "execution_count": 44,
     "metadata": {},
     "output_type": "execute_result"
    }
   ],
   "source": [
    "n_x_plus = 2\n",
    "delta_x = 0.5\n",
    "X_x_range = np.arange(-(n_x_plus-1), n_x_plus) * delta_x\n",
    "X_x_range"
   ]
  },
  {
   "cell_type": "code",
   "execution_count": 45,
   "metadata": {},
   "outputs": [
    {
     "data": {
      "text/plain": [
       "array([[[-0.5]],\n",
       "\n",
       "       [[ 0. ]],\n",
       "\n",
       "       [[ 0.5]]])"
      ]
     },
     "execution_count": 45,
     "metadata": {},
     "output_type": "execute_result"
    }
   ],
   "source": [
    "X_x_range[:, np.newaxis, np.newaxis]"
   ]
  },
  {
   "cell_type": "code",
   "execution_count": 46,
   "metadata": {},
   "outputs": [
    {
     "data": {
      "text/plain": [
       "array([[[-2.95520207, -0.44663511],\n",
       "        [ 0.        ,  0.        ],\n",
       "        [ 2.95520207, -0.44663511]]])"
      ]
     },
     "execution_count": 46,
     "metadata": {},
     "output_type": "execute_result"
    }
   ],
   "source": [
    "X_phi_range[np.newaxis,:,:]"
   ]
  },
  {
   "cell_type": "code",
   "execution_count": 47,
   "metadata": {},
   "outputs": [
    {
     "data": {
      "text/plain": [
       "array([0, 1, 2])"
      ]
     },
     "execution_count": 47,
     "metadata": {},
     "output_type": "execute_result"
    }
   ],
   "source": [
    "n_idx_x = len(X_x_range)\n",
    "n_idx_phi = len(X_phi_range)\n",
    "idx_x = np.arange(n_idx_x)\n",
    "idx_phi = np.arange(n_idx_phi)\n",
    "idx_phi"
   ]
  },
  {
   "cell_type": "code",
   "execution_count": 48,
   "metadata": {},
   "outputs": [
    {
     "data": {
      "image/png": "[encoded data removed]",
      "text/latex": [
       "$\\displaystyle 2$"
      ],
      "text/plain": [
       "2"
      ]
     },
     "execution_count": 48,
     "metadata": {},
     "output_type": "execute_result"
    }
   ],
   "source": [
    "1+1 % 2"
   ]
  },
  {
   "cell_type": "code",
   "execution_count": 50,
   "metadata": {},
   "outputs": [
    {
     "data": {
      "text/plain": [
       "(array([1]), array([1]), array([0, 2]), array([0, 2]))"
      ]
     },
     "execution_count": 50,
     "metadata": {},
     "output_type": "execute_result"
    }
   ],
   "source": [
    "idx_x_ic = idx_x[(n_idx_x)%2::2]\n",
    "idx_x_id = idx_x[(n_idx_x+1)%2::2]\n",
    "idx_phi_ic = idx_phi[(n_idx_phi)%2::2]\n",
    "idx_phi_id = idx_phi[(n_idx_phi+1)%2::2]\n",
    "\n",
    "idx_x_ic, idx_phi_ic, idx_x_id, idx_phi_id"
   ]
  },
  {
   "cell_type": "code",
   "execution_count": 51,
   "metadata": {},
   "outputs": [],
   "source": [
    "idx_map_ic = np.meshgrid(idx_x_ic, idx_phi_ic)\n",
    "idx_map_id = np.meshgrid(idx_x_id, idx_phi_id)"
   ]
  },
  {
   "cell_type": "code",
   "execution_count": 104,
   "metadata": {},
   "outputs": [
    {
     "data": {
      "text/plain": [
       "[array([[1]]), array([[1]])]"
      ]
     },
     "execution_count": 104,
     "metadata": {},
     "output_type": "execute_result"
    }
   ],
   "source": [
    "idx_map_ic"
   ]
  },
  {
   "cell_type": "code",
   "execution_count": 55,
   "metadata": {},
   "outputs": [],
   "source": [
    "X_C_a = np.c_[ X_x_range[idx_map_ic[0]].reshape(-1,1), X_phi_range[idx_map_ic[1]].reshape(-1,2) ]\n",
    "X_D_a = np.c_[ X_x_range[idx_map_id[0]].reshape(-1,1), X_phi_range[idx_map_id[1]].reshape(-1,2) ]"
   ]
  },
  {
   "cell_type": "code",
   "execution_count": 56,
   "metadata": {},
   "outputs": [
    {
     "data": {
      "text/plain": [
       "array([[0., 0., 0.]])"
      ]
     },
     "execution_count": 56,
     "metadata": {},
     "output_type": "execute_result"
    }
   ],
   "source": [
    "X_C_a"
   ]
  },
  {
   "cell_type": "code",
   "execution_count": 57,
   "metadata": {
    "scrolled": true
   },
   "outputs": [
    {
     "data": {
      "text/plain": [
       "array([[-0.5       , -2.95520207, -0.44663511],\n",
       "       [ 0.5       , -2.95520207, -0.44663511],\n",
       "       [-0.5       ,  2.95520207, -0.44663511],\n",
       "       [ 0.5       ,  2.95520207, -0.44663511]])"
      ]
     },
     "execution_count": 57,
     "metadata": {},
     "output_type": "execute_result"
    }
   ],
   "source": [
    "X_D_a"
   ]
  },
  {
   "cell_type": "code",
   "execution_count": null,
   "metadata": {},
   "outputs": [],
   "source": []
  }
 ],
 "metadata": {
  "kernelspec": {
   "display_name": "Python 3",
   "language": "python",
   "name": "python3"
  },
  "language_info": {
   "codemirror_mode": {
    "name": "ipython",
    "version": 3
   },
   "file_extension": ".py",
   "mimetype": "text/x-python",
   "name": "python",
   "nbconvert_exporter": "python",
   "pygments_lexer": "ipython3",
   "version": "3.9.4"
  },
  "toc": {
   "base_numbering": 1,
   "nav_menu": {},
   "number_sections": true,
   "sideBar": true,
   "skip_h1_title": true,
   "title_cell": "Table of Contents",
   "title_sidebar": "Contents",
   "toc_cell": false,
   "toc_position": {
    "height": "calc(100% - 180px)",
    "left": "10px",
    "top": "150px",
    "width": "165px"
   },
   "toc_section_display": true,
   "toc_window_display": false
  }
 },
 "nbformat": 4,
 "nbformat_minor": 4
}