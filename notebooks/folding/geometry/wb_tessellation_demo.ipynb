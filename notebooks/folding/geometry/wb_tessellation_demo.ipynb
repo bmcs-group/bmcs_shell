{
 "cells": [
  {
   "cell_type": "markdown",
   "metadata": {},
   "source": [
    "# Waterbomb tessellation demo"
   ]
  },
  {
   "cell_type": "code",
   "execution_count": 1,
   "metadata": {},
   "outputs": [],
   "source": [
    "%matplotlib widget\n",
    "from bmcs_shell.api import WBCell5Param, WBTessellation5PV2, WBNumTessellation, WBNumTessellationInvest, WBTessellationBase, WBNumTessellationBase, WBCell5ParamV2, WBTessellation4P, WBCell4Param\n",
    "import numpy as np"
   ]
  },
  {
   "cell_type": "markdown",
   "metadata": {},
   "source": [
    "## Analytical tessellation of symmetric waterbomb cell (4P cell)"
   ]
  },
  {
   "cell_type": "code",
   "execution_count": 2,
   "metadata": {
    "scrolled": false
   },
   "outputs": [
    {
     "data": {
      "application/vnd.jupyter.widget-view+json": {
       "model_id": "6f63f60bc8da45beb8e202cfc76a09e8",
       "version_major": 2,
       "version_minor": 0
      },
      "text/plain": [
       "VBox(children=(HBox(children=(VBox(children=(Tree(layout=Layout(align_items='stretch', border='solid 1px black…"
      ]
     },
     "metadata": {},
     "output_type": "display_data"
    },
    {
     "name": "stderr",
     "output_type": "stream",
     "text": [
      "Exception occurred in traits notification handler for event object: TraitChangeEvent(object=<bmcs_shell.folding.geometry.wb_cell.wb_cell_4p.WBCell4Param object at 0x7f65039a67c0>, name='gamma', old=1.5697963267948967, new=1.25)\n",
      "Traceback (most recent call last):\n",
      "  File \"/home/rch/miniconda3/envs/bmcs_env/lib/python3.9/site-packages/ipywidgets/widgets/widget_selection.py\", line 137, in findvalue\n",
      "    return next(x for x in array if compare(x, value))\n",
      "StopIteration\n",
      "\n",
      "During handling of the above exception, another exception occurred:\n",
      "\n",
      "Traceback (most recent call last):\n",
      "  File \"/home/rch/miniconda3/envs/bmcs_env/lib/python3.9/site-packages/ipywidgets/widgets/widget_selection.py\", line 241, in _validate_value\n",
      "    return findvalue(self._options_values, value, self.equals) if value is not None else None\n",
      "  File \"/home/rch/miniconda3/envs/bmcs_env/lib/python3.9/site-packages/ipywidgets/widgets/widget_selection.py\", line 139, in findvalue\n",
      "    raise ValueError('%r not in array'%value)\n",
      "ValueError: 1.25 not in array\n",
      "\n",
      "During handling of the above exception, another exception occurred:\n",
      "\n",
      "Traceback (most recent call last):\n",
      "  File \"/home/rch/miniconda3/envs/bmcs_env/lib/python3.9/site-packages/traits/observation/_trait_event_notifier.py\", line 122, in __call__\n",
      "    self.dispatcher(handler, event)\n",
      "  File \"/home/rch/miniconda3/envs/bmcs_env/lib/python3.9/site-packages/traits/observation/observe.py\", line 27, in dispatch_same\n",
      "    handler(event)\n",
      "  File \"/home/rch/PycharmProjects/bmcs_utils/bmcs_utils/controller.py\", line 42, in notify_change\n",
      "    ipw_editor.value = value\n",
      "  File \"/home/rch/miniconda3/envs/bmcs_env/lib/python3.9/site-packages/traitlets/traitlets.py\", line 606, in __set__\n",
      "    self.set(obj, value)\n",
      "  File \"/home/rch/miniconda3/envs/bmcs_env/lib/python3.9/site-packages/traitlets/traitlets.py\", line 580, in set\n",
      "    new_value = self._validate(obj, value)\n",
      "  File \"/home/rch/miniconda3/envs/bmcs_env/lib/python3.9/site-packages/traitlets/traitlets.py\", line 614, in _validate\n",
      "    value = self._cross_validate(obj, value)\n",
      "  File \"/home/rch/miniconda3/envs/bmcs_env/lib/python3.9/site-packages/traitlets/traitlets.py\", line 620, in _cross_validate\n",
      "    value = obj._trait_validators[self.name](obj, proposal)\n",
      "  File \"/home/rch/miniconda3/envs/bmcs_env/lib/python3.9/site-packages/traitlets/traitlets.py\", line 977, in __call__\n",
      "    return self.func(*args, **kwargs)\n",
      "  File \"/home/rch/miniconda3/envs/bmcs_env/lib/python3.9/site-packages/ipywidgets/widgets/widget_selection.py\", line 243, in _validate_value\n",
      "    raise TraitError('Invalid selection: value not found')\n",
      "traitlets.traitlets.TraitError: Invalid selection: value not found\n"
     ]
    }
   ],
   "source": [
    "wbt4p = WBTessellation4P()\n",
    "wbt4p.interact()"
   ]
  },
  {
   "cell_type": "markdown",
   "metadata": {},
   "source": [
    "## General numerical tessellation of any wb cell with 6 facets"
   ]
  },
  {
   "cell_type": "code",
   "execution_count": null,
   "metadata": {},
   "outputs": [],
   "source": [
    "wb_cell=WBCell5ParamV2(a = 500, b = 750, c = 400, gamma = 0.9, beta= 1.78)"
   ]
  },
  {
   "cell_type": "code",
   "execution_count": null,
   "metadata": {
    "scrolled": true
   },
   "outputs": [],
   "source": [
    "wb_num_t = WBNumTessellation()\n",
    "wb_num_t.interact()"
   ]
  },
  {
   "cell_type": "markdown",
   "metadata": {},
   "source": [
    "## Class for investigating 3 cells tessellation manually"
   ]
  },
  {
   "cell_type": "code",
   "execution_count": null,
   "metadata": {
    "scrolled": true
   },
   "outputs": [],
   "source": [
    "wb_num_t_invest = WBNumTessellationInvest()\n",
    "wb_num_t_invest.interact()"
   ]
  },
  {
   "cell_type": "markdown",
   "metadata": {},
   "source": [
    "## Analytical tessellation of 5P cell V2"
   ]
  },
  {
   "cell_type": "code",
   "execution_count": null,
   "metadata": {},
   "outputs": [],
   "source": [
    "wbttpv2 = WBTessellation5PV2(wb_cell=WBCell5ParamV2(a = 500, b = 750, c = 400, gamma = 0.9, beta= 1.78), new_sol=False)\n",
    "wbttpv2.interact()"
   ]
  },
  {
   "cell_type": "code",
   "execution_count": null,
   "metadata": {},
   "outputs": [],
   "source": []
  }
 ],
 "metadata": {
  "kernelspec": {
   "display_name": "bmcs_env",
   "language": "python",
   "name": "bmcs_env"
  },
  "language_info": {
   "codemirror_mode": {
    "name": "ipython",
    "version": 3
   },
   "file_extension": ".py",
   "mimetype": "text/x-python",
   "name": "python",
   "nbconvert_exporter": "python",
   "pygments_lexer": "ipython3",
   "version": "3.9.0"
  },
  "toc": {
   "base_numbering": 1,
   "nav_menu": {},
   "number_sections": true,
   "sideBar": true,
   "skip_h1_title": true,
   "title_cell": "Table of Contents",
   "title_sidebar": "Contents",
   "toc_cell": false,
   "toc_position": {},
   "toc_section_display": true,
   "toc_window_display": false
  }
 },
 "nbformat": 4,
 "nbformat_minor": 4
}
