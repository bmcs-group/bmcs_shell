{
 "cells": [
  {
   "cell_type": "markdown",
   "metadata": {},
   "source": [
    "# Waterbomb tessellation demo"
   ]
  },
  {
   "cell_type": "code",
   "execution_count": 1,
   "metadata": {},
   "outputs": [],
   "source": [
    "%matplotlib widget\n",
    "from bmcs_shell.api import WBGeoUtils, WBCell5Param, WBTessellation4PV2, WBTessellation5PV2, WBTessellation5PV3, WBTessellation4PFlat, WBTessellation4PV2Flat, WBNumTessellation, WBNumTessellationInvest, WBTessellationBase, WBNumTessellationBase, WBCell5ParamV2, WBTessellation4P, WBCell4Param\n",
    "import numpy as np"
   ]
  },
  {
   "cell_type": "code",
   "execution_count": 2,
   "metadata": {},
   "outputs": [
    {
     "ename": "AttributeError",
     "evalue": "'WBCell5ParamV3' object has no attribute 'gamma'",
     "output_type": "error",
     "traceback": [
      "\u001b[1;31m---------------------------------------------------------------------------\u001b[0m",
      "\u001b[1;31mAttributeError\u001b[0m                            Traceback (most recent call last)",
      "Input \u001b[1;32mIn [2]\u001b[0m, in \u001b[0;36m<cell line: 1>\u001b[1;34m()\u001b[0m\n\u001b[1;32m----> 1\u001b[0m \u001b[43mWBTessellation5PV3\u001b[49m\u001b[43m(\u001b[49m\u001b[43m)\u001b[49m\u001b[38;5;241;43m.\u001b[39;49m\u001b[43minteract\u001b[49m\u001b[43m(\u001b[49m\u001b[43m)\u001b[49m\n",
      "File \u001b[1;32mc:\\users\\hspartali\\_homam\\programming\\python\\bmcs_utils\\bmcs_utils\\model.py:47\u001b[0m, in \u001b[0;36mModel.interact\u001b[1;34m(self, **kw)\u001b[0m\n\u001b[0;32m     46\u001b[0m \u001b[38;5;28;01mdef\u001b[39;00m \u001b[38;5;21minteract\u001b[39m(\u001b[38;5;28mself\u001b[39m,\u001b[38;5;241m*\u001b[39m\u001b[38;5;241m*\u001b[39mkw):\n\u001b[1;32m---> 47\u001b[0m     \u001b[38;5;28;01mreturn\u001b[39;00m \u001b[43mAppWindow\u001b[49m\u001b[43m(\u001b[49m\u001b[38;5;28;43mself\u001b[39;49m\u001b[43m,\u001b[49m\u001b[43m \u001b[49m\u001b[38;5;241;43m*\u001b[39;49m\u001b[38;5;241;43m*\u001b[39;49m\u001b[43mkw\u001b[49m\u001b[43m)\u001b[49m\u001b[38;5;241;43m.\u001b[39;49m\u001b[43minteract\u001b[49m\u001b[43m(\u001b[49m\u001b[43m)\u001b[49m\n",
      "File \u001b[1;32mc:\\users\\hspartali\\_homam\\programming\\python\\bmcs_utils\\bmcs_utils\\app_window.py:152\u001b[0m, in \u001b[0;36mAppWindow.interact\u001b[1;34m(self)\u001b[0m\n\u001b[0;32m    146\u001b[0m app \u001b[38;5;241m=\u001b[39m ipw\u001b[38;5;241m.\u001b[39mHBox([left_pane, right_pane],\n\u001b[0;32m    147\u001b[0m                 layout\u001b[38;5;241m=\u001b[39mipw\u001b[38;5;241m.\u001b[39mLayout(align_items\u001b[38;5;241m=\u001b[39m\u001b[38;5;124m\"\u001b[39m\u001b[38;5;124mstretch\u001b[39m\u001b[38;5;124m\"\u001b[39m,\n\u001b[0;32m    148\u001b[0m                                   width\u001b[38;5;241m=\u001b[39m\u001b[38;5;124m\"\u001b[39m\u001b[38;5;124m100\u001b[39m\u001b[38;5;124m%\u001b[39m\u001b[38;5;124m\"\u001b[39m))\n\u001b[0;32m    149\u001b[0m app_print \u001b[38;5;241m=\u001b[39m ipw\u001b[38;5;241m.\u001b[39mVBox([app, print_output],\n\u001b[0;32m    150\u001b[0m                      layout\u001b[38;5;241m=\u001b[39mipw\u001b[38;5;241m.\u001b[39mLayout(align_items\u001b[38;5;241m=\u001b[39m\u001b[38;5;124m\"\u001b[39m\u001b[38;5;124mstretch\u001b[39m\u001b[38;5;124m\"\u001b[39m,\n\u001b[0;32m    151\u001b[0m                                        width\u001b[38;5;241m=\u001b[39m\u001b[38;5;124m\"\u001b[39m\u001b[38;5;124m100\u001b[39m\u001b[38;5;124m%\u001b[39m\u001b[38;5;124m\"\u001b[39m))\n\u001b[1;32m--> 152\u001b[0m \u001b[38;5;28mself\u001b[39m\u001b[38;5;241m.\u001b[39mmodel_tree\u001b[38;5;241m.\u001b[39mselected \u001b[38;5;241m=\u001b[39m \u001b[38;5;28;01mTrue\u001b[39;00m\n\u001b[0;32m    153\u001b[0m display(app_print)\n",
      "File \u001b[1;32m~\\Anaconda3\\envs\\bmcs_env\\lib\\site-packages\\traitlets\\traitlets.py:712\u001b[0m, in \u001b[0;36mTraitType.__set__\u001b[1;34m(self, obj, value)\u001b[0m\n\u001b[0;32m    710\u001b[0m     \u001b[38;5;28;01mraise\u001b[39;00m TraitError(\u001b[38;5;124m'\u001b[39m\u001b[38;5;124mThe \u001b[39m\u001b[38;5;124m\"\u001b[39m\u001b[38;5;132;01m%s\u001b[39;00m\u001b[38;5;124m\"\u001b[39m\u001b[38;5;124m trait is read-only.\u001b[39m\u001b[38;5;124m'\u001b[39m \u001b[38;5;241m%\u001b[39m \u001b[38;5;28mself\u001b[39m\u001b[38;5;241m.\u001b[39mname)\n\u001b[0;32m    711\u001b[0m \u001b[38;5;28;01melse\u001b[39;00m:\n\u001b[1;32m--> 712\u001b[0m     \u001b[38;5;28;43mself\u001b[39;49m\u001b[38;5;241;43m.\u001b[39;49m\u001b[43mset\u001b[49m\u001b[43m(\u001b[49m\u001b[43mobj\u001b[49m\u001b[43m,\u001b[49m\u001b[43m \u001b[49m\u001b[43mvalue\u001b[49m\u001b[43m)\u001b[49m\n",
      "File \u001b[1;32m~\\Anaconda3\\envs\\bmcs_env\\lib\\site-packages\\traitlets\\traitlets.py:701\u001b[0m, in \u001b[0;36mTraitType.set\u001b[1;34m(self, obj, value)\u001b[0m\n\u001b[0;32m    697\u001b[0m     silent \u001b[38;5;241m=\u001b[39m \u001b[38;5;28;01mFalse\u001b[39;00m\n\u001b[0;32m    698\u001b[0m \u001b[38;5;28;01mif\u001b[39;00m silent \u001b[38;5;129;01mis\u001b[39;00m \u001b[38;5;129;01mnot\u001b[39;00m \u001b[38;5;28;01mTrue\u001b[39;00m:\n\u001b[0;32m    699\u001b[0m     \u001b[38;5;66;03m# we explicitly compare silent to True just in case the equality\u001b[39;00m\n\u001b[0;32m    700\u001b[0m     \u001b[38;5;66;03m# comparison above returns something other than True/False\u001b[39;00m\n\u001b[1;32m--> 701\u001b[0m     \u001b[43mobj\u001b[49m\u001b[38;5;241;43m.\u001b[39;49m\u001b[43m_notify_trait\u001b[49m\u001b[43m(\u001b[49m\u001b[38;5;28;43mself\u001b[39;49m\u001b[38;5;241;43m.\u001b[39;49m\u001b[43mname\u001b[49m\u001b[43m,\u001b[49m\u001b[43m \u001b[49m\u001b[43mold_value\u001b[49m\u001b[43m,\u001b[49m\u001b[43m \u001b[49m\u001b[43mnew_value\u001b[49m\u001b[43m)\u001b[49m\n",
      "File \u001b[1;32m~\\Anaconda3\\envs\\bmcs_env\\lib\\site-packages\\traitlets\\traitlets.py:1371\u001b[0m, in \u001b[0;36mHasTraits._notify_trait\u001b[1;34m(self, name, old_value, new_value)\u001b[0m\n\u001b[0;32m   1370\u001b[0m \u001b[38;5;28;01mdef\u001b[39;00m \u001b[38;5;21m_notify_trait\u001b[39m(\u001b[38;5;28mself\u001b[39m, name, old_value, new_value):\n\u001b[1;32m-> 1371\u001b[0m     \u001b[38;5;28;43mself\u001b[39;49m\u001b[38;5;241;43m.\u001b[39;49m\u001b[43mnotify_change\u001b[49m\u001b[43m(\u001b[49m\n\u001b[0;32m   1372\u001b[0m \u001b[43m        \u001b[49m\u001b[43mBunch\u001b[49m\u001b[43m(\u001b[49m\n\u001b[0;32m   1373\u001b[0m \u001b[43m            \u001b[49m\u001b[43mname\u001b[49m\u001b[38;5;241;43m=\u001b[39;49m\u001b[43mname\u001b[49m\u001b[43m,\u001b[49m\n\u001b[0;32m   1374\u001b[0m \u001b[43m            \u001b[49m\u001b[43mold\u001b[49m\u001b[38;5;241;43m=\u001b[39;49m\u001b[43mold_value\u001b[49m\u001b[43m,\u001b[49m\n\u001b[0;32m   1375\u001b[0m \u001b[43m            \u001b[49m\u001b[43mnew\u001b[49m\u001b[38;5;241;43m=\u001b[39;49m\u001b[43mnew_value\u001b[49m\u001b[43m,\u001b[49m\n\u001b[0;32m   1376\u001b[0m \u001b[43m            \u001b[49m\u001b[43mowner\u001b[49m\u001b[38;5;241;43m=\u001b[39;49m\u001b[38;5;28;43mself\u001b[39;49m\u001b[43m,\u001b[49m\n\u001b[0;32m   1377\u001b[0m \u001b[43m            \u001b[49m\u001b[38;5;28;43mtype\u001b[39;49m\u001b[38;5;241;43m=\u001b[39;49m\u001b[38;5;124;43m\"\u001b[39;49m\u001b[38;5;124;43mchange\u001b[39;49m\u001b[38;5;124;43m\"\u001b[39;49m\u001b[43m,\u001b[49m\n\u001b[0;32m   1378\u001b[0m \u001b[43m        \u001b[49m\u001b[43m)\u001b[49m\n\u001b[0;32m   1379\u001b[0m \u001b[43m    \u001b[49m\u001b[43m)\u001b[49m\n",
      "File \u001b[1;32m~\\Anaconda3\\envs\\bmcs_env\\lib\\site-packages\\ipywidgets\\widgets\\widget.py:686\u001b[0m, in \u001b[0;36mWidget.notify_change\u001b[1;34m(self, change)\u001b[0m\n\u001b[0;32m    683\u001b[0m     \u001b[38;5;28;01mif\u001b[39;00m name \u001b[38;5;129;01min\u001b[39;00m \u001b[38;5;28mself\u001b[39m\u001b[38;5;241m.\u001b[39mkeys \u001b[38;5;129;01mand\u001b[39;00m \u001b[38;5;28mself\u001b[39m\u001b[38;5;241m.\u001b[39m_should_send_property(name, \u001b[38;5;28mgetattr\u001b[39m(\u001b[38;5;28mself\u001b[39m, name)):\n\u001b[0;32m    684\u001b[0m         \u001b[38;5;66;03m# Send new state to front-end\u001b[39;00m\n\u001b[0;32m    685\u001b[0m         \u001b[38;5;28mself\u001b[39m\u001b[38;5;241m.\u001b[39msend_state(key\u001b[38;5;241m=\u001b[39mname)\n\u001b[1;32m--> 686\u001b[0m \u001b[38;5;28;43msuper\u001b[39;49m\u001b[43m(\u001b[49m\u001b[43mWidget\u001b[49m\u001b[43m,\u001b[49m\u001b[43m \u001b[49m\u001b[38;5;28;43mself\u001b[39;49m\u001b[43m)\u001b[49m\u001b[38;5;241;43m.\u001b[39;49m\u001b[43mnotify_change\u001b[49m\u001b[43m(\u001b[49m\u001b[43mchange\u001b[49m\u001b[43m)\u001b[49m\n",
      "File \u001b[1;32m~\\Anaconda3\\envs\\bmcs_env\\lib\\site-packages\\traitlets\\traitlets.py:1383\u001b[0m, in \u001b[0;36mHasTraits.notify_change\u001b[1;34m(self, change)\u001b[0m\n\u001b[0;32m   1381\u001b[0m \u001b[38;5;28;01mdef\u001b[39;00m \u001b[38;5;21mnotify_change\u001b[39m(\u001b[38;5;28mself\u001b[39m, change):\n\u001b[0;32m   1382\u001b[0m     \u001b[38;5;124;03m\"\"\"Notify observers of a change event\"\"\"\u001b[39;00m\n\u001b[1;32m-> 1383\u001b[0m     \u001b[38;5;28;01mreturn\u001b[39;00m \u001b[38;5;28;43mself\u001b[39;49m\u001b[38;5;241;43m.\u001b[39;49m\u001b[43m_notify_observers\u001b[49m\u001b[43m(\u001b[49m\u001b[43mchange\u001b[49m\u001b[43m)\u001b[49m\n",
      "File \u001b[1;32m~\\Anaconda3\\envs\\bmcs_env\\lib\\site-packages\\traitlets\\traitlets.py:1428\u001b[0m, in \u001b[0;36mHasTraits._notify_observers\u001b[1;34m(self, event)\u001b[0m\n\u001b[0;32m   1425\u001b[0m \u001b[38;5;28;01melif\u001b[39;00m \u001b[38;5;28misinstance\u001b[39m(c, EventHandler) \u001b[38;5;129;01mand\u001b[39;00m c\u001b[38;5;241m.\u001b[39mname \u001b[38;5;129;01mis\u001b[39;00m \u001b[38;5;129;01mnot\u001b[39;00m \u001b[38;5;28;01mNone\u001b[39;00m:\n\u001b[0;32m   1426\u001b[0m     c \u001b[38;5;241m=\u001b[39m \u001b[38;5;28mgetattr\u001b[39m(\u001b[38;5;28mself\u001b[39m, c\u001b[38;5;241m.\u001b[39mname)\n\u001b[1;32m-> 1428\u001b[0m \u001b[43mc\u001b[49m\u001b[43m(\u001b[49m\u001b[43mevent\u001b[49m\u001b[43m)\u001b[49m\n",
      "File \u001b[1;32mc:\\users\\hspartali\\_homam\\programming\\python\\bmcs_utils\\bmcs_utils\\app_window.py:244\u001b[0m, in \u001b[0;36mAppWindow.select_node\u001b[1;34m(self, event)\u001b[0m\n\u001b[0;32m    242\u001b[0m backend \u001b[38;5;241m=\u001b[39m controller\u001b[38;5;241m.\u001b[39mmodel\u001b[38;5;241m.\u001b[39mplot_backend\n\u001b[0;32m    243\u001b[0m \u001b[38;5;28mself\u001b[39m\u001b[38;5;241m.\u001b[39mset_plot_backend(backend)\n\u001b[1;32m--> 244\u001b[0m \u001b[38;5;28;43mself\u001b[39;49m\u001b[38;5;241;43m.\u001b[39;49m\u001b[43msetup_plot\u001b[49m\u001b[43m(\u001b[49m\u001b[43mcontroller\u001b[49m\u001b[38;5;241;43m.\u001b[39;49m\u001b[43mmodel\u001b[49m\u001b[43m)\u001b[49m\n\u001b[0;32m    245\u001b[0m \u001b[38;5;28mself\u001b[39m\u001b[38;5;241m.\u001b[39mupdate_plot(controller\u001b[38;5;241m.\u001b[39mmodel)\n",
      "File \u001b[1;32mc:\\users\\hspartali\\_homam\\programming\\python\\bmcs_utils\\bmcs_utils\\app_window.py:266\u001b[0m, in \u001b[0;36mAppWindow.setup_plot\u001b[1;34m(self, model)\u001b[0m\n\u001b[0;32m    264\u001b[0m pb \u001b[38;5;241m=\u001b[39m \u001b[38;5;28mself\u001b[39m\u001b[38;5;241m.\u001b[39mplot_backend_table[\u001b[38;5;28mself\u001b[39m\u001b[38;5;241m.\u001b[39mcurrent_plot_backend]\n\u001b[0;32m    265\u001b[0m pb\u001b[38;5;241m.\u001b[39mclear_fig()\n\u001b[1;32m--> 266\u001b[0m \u001b[43mpb\u001b[49m\u001b[38;5;241;43m.\u001b[39;49m\u001b[43msetup_plot\u001b[49m\u001b[43m(\u001b[49m\u001b[43mmodel\u001b[49m\u001b[43m)\u001b[49m\n",
      "File \u001b[1;32mc:\\users\\hspartali\\_homam\\programming\\python\\bmcs_utils\\bmcs_utils\\app_window.py:92\u001b[0m, in \u001b[0;36mK3DBackend.setup_plot\u001b[1;34m(self, model)\u001b[0m\n\u001b[0;32m     91\u001b[0m \u001b[38;5;28;01mdef\u001b[39;00m \u001b[38;5;21msetup_plot\u001b[39m(\u001b[38;5;28mself\u001b[39m, model):\n\u001b[1;32m---> 92\u001b[0m     \u001b[43mmodel\u001b[49m\u001b[38;5;241;43m.\u001b[39;49m\u001b[43msetup_plot\u001b[49m\u001b[43m(\u001b[49m\u001b[38;5;28;43mself\u001b[39;49m\u001b[43m)\u001b[49m\n",
      "File \u001b[1;32mc:\\users\\hspartali\\_homam\\programming\\python\\bmcs_shell\\bmcs_shell\\folding\\geometry\\wb_tessellation\\wb_num_tessellation.py:114\u001b[0m, in \u001b[0;36mWBNumTessellation.setup_plot\u001b[1;34m(self, pb)\u001b[0m\n\u001b[0;32m    112\u001b[0m \u001b[38;5;28mself\u001b[39m\u001b[38;5;241m.\u001b[39mpb \u001b[38;5;241m=\u001b[39m pb\n\u001b[0;32m    113\u001b[0m pb\u001b[38;5;241m.\u001b[39mclear_fig()\n\u001b[1;32m--> 114\u001b[0m X_Ia, I_Fi \u001b[38;5;241m=\u001b[39m \u001b[38;5;28;43mself\u001b[39;49m\u001b[38;5;241;43m.\u001b[39;49m\u001b[43mcalc_mesh_for_tessellated_cells\u001b[49m\u001b[43m(\u001b[49m\u001b[43m)\u001b[49m\n\u001b[0;32m    115\u001b[0m \u001b[38;5;28mself\u001b[39m\u001b[38;5;241m.\u001b[39madd_cell_to_pb(pb, X_Ia, I_Fi, \u001b[38;5;124m'\u001b[39m\u001b[38;5;124mwb_tess_mesh\u001b[39m\u001b[38;5;124m'\u001b[39m)\n",
      "File \u001b[1;32mc:\\users\\hspartali\\_homam\\programming\\python\\bmcs_shell\\bmcs_shell\\folding\\geometry\\wb_tessellation\\wb_num_tessellation.py:48\u001b[0m, in \u001b[0;36mWBNumTessellation.calc_mesh_for_tessellated_cells\u001b[1;34m(self)\u001b[0m\n\u001b[0;32m     45\u001b[0m \u001b[38;5;28;01mif\u001b[39;00m j_is_even:\n\u001b[0;32m     46\u001b[0m     \u001b[38;5;66;03m# Number of cell_to_add is even (add right from base cell)\u001b[39;00m\n\u001b[0;32m     47\u001b[0m     \u001b[38;5;28;01mif\u001b[39;00m add_br:\n\u001b[1;32m---> 48\u001b[0m         cell_to_add \u001b[38;5;241m=\u001b[39m \u001b[38;5;28;43mself\u001b[39;49m\u001b[38;5;241;43m.\u001b[39;49m\u001b[43m_get_br_X_Ia\u001b[49m\u001b[43m(\u001b[49m\u001b[43mbase_cell_X_Ia\u001b[49m\u001b[43m)\u001b[49m\n\u001b[0;32m     49\u001b[0m         mesh_X_nmIa[i, j, \u001b[38;5;241m.\u001b[39m\u001b[38;5;241m.\u001b[39m\u001b[38;5;241m.\u001b[39m] \u001b[38;5;241m=\u001b[39m cell_to_add\n\u001b[0;32m     50\u001b[0m     \u001b[38;5;28;01melse\u001b[39;00m:\n",
      "File \u001b[1;32mc:\\users\\hspartali\\_homam\\programming\\python\\bmcs_shell\\bmcs_shell\\folding\\geometry\\wb_tessellation\\wb_tessellation_base.py:54\u001b[0m, in \u001b[0;36mWBTessellationBase._get_br_X_Ia\u001b[1;34m(self, X_Ia, rot)\u001b[0m\n\u001b[0;32m     52\u001b[0m \u001b[38;5;28;01mdef\u001b[39;00m \u001b[38;5;21m_get_br_X_Ia\u001b[39m(\u001b[38;5;28mself\u001b[39m, X_Ia, rot\u001b[38;5;241m=\u001b[39m\u001b[38;5;28;01mNone\u001b[39;00m):\n\u001b[0;32m     53\u001b[0m     br_X_Ia \u001b[38;5;241m=\u001b[39m \u001b[38;5;28mself\u001b[39m\u001b[38;5;241m.\u001b[39m_get_cell_matching_v1_to_v2(X_Ia, np\u001b[38;5;241m.\u001b[39marray([\u001b[38;5;241m4\u001b[39m, \u001b[38;5;241m6\u001b[39m]), np\u001b[38;5;241m.\u001b[39marray([\u001b[38;5;241m5\u001b[39m, \u001b[38;5;241m1\u001b[39m]))\n\u001b[1;32m---> 54\u001b[0m     \u001b[38;5;28;01mreturn\u001b[39;00m \u001b[38;5;28mself\u001b[39m\u001b[38;5;241m.\u001b[39mrotate_cell(br_X_Ia, np\u001b[38;5;241m.\u001b[39marray([\u001b[38;5;241m4\u001b[39m, \u001b[38;5;241m6\u001b[39m]), \u001b[38;5;28;43mself\u001b[39;49m\u001b[38;5;241;43m.\u001b[39;49m\u001b[43msol\u001b[49m[\u001b[38;5;241m0\u001b[39m] \u001b[38;5;28;01mif\u001b[39;00m rot \u001b[38;5;129;01mis\u001b[39;00m \u001b[38;5;28;01mNone\u001b[39;00m \u001b[38;5;28;01melse\u001b[39;00m rot)\n",
      "File \u001b[1;32m~\\Anaconda3\\envs\\bmcs_env\\lib\\site-packages\\traits\\has_traits.py:960\u001b[0m, in \u001b[0;36mcached_property.<locals>.decorator\u001b[1;34m(self)\u001b[0m\n\u001b[0;32m    958\u001b[0m result \u001b[38;5;241m=\u001b[39m \u001b[38;5;28mself\u001b[39m\u001b[38;5;241m.\u001b[39m\u001b[38;5;18m__dict__\u001b[39m\u001b[38;5;241m.\u001b[39mget(name, Undefined)\n\u001b[0;32m    959\u001b[0m \u001b[38;5;28;01mif\u001b[39;00m result \u001b[38;5;129;01mis\u001b[39;00m Undefined:\n\u001b[1;32m--> 960\u001b[0m     \u001b[38;5;28mself\u001b[39m\u001b[38;5;241m.\u001b[39m\u001b[38;5;18m__dict__\u001b[39m[name] \u001b[38;5;241m=\u001b[39m result \u001b[38;5;241m=\u001b[39m \u001b[43mfunction\u001b[49m\u001b[43m(\u001b[49m\u001b[38;5;28;43mself\u001b[39;49m\u001b[43m)\u001b[49m\n\u001b[0;32m    962\u001b[0m \u001b[38;5;28;01mreturn\u001b[39;00m result\n",
      "File \u001b[1;32mc:\\users\\hspartali\\_homam\\programming\\python\\bmcs_shell\\bmcs_shell\\folding\\geometry\\wb_tessellation\\wb_tessellation_5pv3.py:71\u001b[0m, in \u001b[0;36mWBTessellation5PV3._get_sol\u001b[1;34m(self)\u001b[0m\n\u001b[0;32m     68\u001b[0m sol_num \u001b[38;5;241m=\u001b[39m \u001b[38;5;28mself\u001b[39m\u001b[38;5;241m.\u001b[39msol_num\n\u001b[0;32m     70\u001b[0m \u001b[38;5;66;03m# Solving with only 4th solution\u001b[39;00m\n\u001b[1;32m---> 71\u001b[0m rhos, sigmas \u001b[38;5;241m=\u001b[39m \u001b[38;5;28;43mself\u001b[39;49m\u001b[38;5;241;43m.\u001b[39;49m\u001b[43mget_3_cells_angles\u001b[49m\u001b[43m(\u001b[49m\u001b[43msol_num\u001b[49m\u001b[38;5;241;43m=\u001b[39;49m\u001b[43msol_num\u001b[49m\u001b[43m)\u001b[49m\n\u001b[0;32m     72\u001b[0m sol \u001b[38;5;241m=\u001b[39m np\u001b[38;5;241m.\u001b[39marray([sigmas[\u001b[38;5;241m0\u001b[39m], rhos[\u001b[38;5;241m0\u001b[39m]])\n\u001b[0;32m     73\u001b[0m \u001b[38;5;28mprint\u001b[39m(\u001b[38;5;124m'\u001b[39m\u001b[38;5;124mAna. solution:\u001b[39m\u001b[38;5;124m'\u001b[39m, sol)\n",
      "File \u001b[1;32mc:\\users\\hspartali\\_homam\\programming\\python\\bmcs_shell\\bmcs_shell\\folding\\geometry\\wb_tessellation\\wb_tessellation_5pv3.py:80\u001b[0m, in \u001b[0;36mWBTessellation5PV3.get_3_cells_angles\u001b[1;34m(self, sol_num)\u001b[0m\n\u001b[0;32m     78\u001b[0m b \u001b[38;5;241m=\u001b[39m \u001b[38;5;28mself\u001b[39m\u001b[38;5;241m.\u001b[39mwb_cell\u001b[38;5;241m.\u001b[39mb\n\u001b[0;32m     79\u001b[0m c \u001b[38;5;241m=\u001b[39m \u001b[38;5;28mself\u001b[39m\u001b[38;5;241m.\u001b[39mwb_cell\u001b[38;5;241m.\u001b[39mc\n\u001b[1;32m---> 80\u001b[0m gamma \u001b[38;5;241m=\u001b[39m \u001b[38;5;28;43mself\u001b[39;49m\u001b[38;5;241;43m.\u001b[39;49m\u001b[43mwb_cell\u001b[49m\u001b[38;5;241;43m.\u001b[39;49m\u001b[43mgamma\u001b[49m\n\u001b[0;32m     81\u001b[0m beta \u001b[38;5;241m=\u001b[39m \u001b[38;5;28mself\u001b[39m\u001b[38;5;241m.\u001b[39mwb_cell\u001b[38;5;241m.\u001b[39mbeta\n\u001b[0;32m     83\u001b[0m cos_psi1 \u001b[38;5;241m=\u001b[39m ((b \u001b[38;5;241m*\u001b[39m\u001b[38;5;241m*\u001b[39m \u001b[38;5;241m2\u001b[39m \u001b[38;5;241m-\u001b[39m a \u001b[38;5;241m*\u001b[39m\u001b[38;5;241m*\u001b[39m \u001b[38;5;241m2\u001b[39m) \u001b[38;5;241m-\u001b[39m a \u001b[38;5;241m*\u001b[39m sqrt(a \u001b[38;5;241m*\u001b[39m\u001b[38;5;241m*\u001b[39m \u001b[38;5;241m2\u001b[39m \u001b[38;5;241m+\u001b[39m b \u001b[38;5;241m*\u001b[39m\u001b[38;5;241m*\u001b[39m \u001b[38;5;241m2\u001b[39m) \u001b[38;5;241m*\u001b[39m cos(beta)) \u001b[38;5;241m/\u001b[39m (b \u001b[38;5;241m*\u001b[39m sqrt(a \u001b[38;5;241m*\u001b[39m\u001b[38;5;241m*\u001b[39m \u001b[38;5;241m2\u001b[39m \u001b[38;5;241m+\u001b[39m b \u001b[38;5;241m*\u001b[39m\u001b[38;5;241m*\u001b[39m \u001b[38;5;241m2\u001b[39m) \u001b[38;5;241m*\u001b[39m sin(beta))\n",
      "\u001b[1;31mAttributeError\u001b[0m: 'WBCell5ParamV3' object has no attribute 'gamma'"
     ]
    }
   ],
   "source": [
    "WBTessellation5PV3().interact()"
   ]
  },
  {
   "cell_type": "markdown",
   "metadata": {},
   "source": [
    "## Analytical tessellation of symmetric waterbomb cell (4P cell)"
   ]
  },
  {
   "cell_type": "code",
   "execution_count": 3,
   "metadata": {},
   "outputs": [
    {
     "data": {
      "application/vnd.jupyter.widget-view+json": {
       "model_id": "2a2811b54b804039aaff87cbd1b4f1ca",
       "version_major": 2,
       "version_minor": 0
      },
      "text/plain": [
       "VBox(children=(HBox(children=(VBox(children=(Tree(layout=Layout(align_items='stretch', border='solid 1px black…"
      ]
     },
     "metadata": {},
     "output_type": "display_data"
    }
   ],
   "source": [
    "WBTessellation4PV2().interact()"
   ]
  },
  {
   "cell_type": "code",
   "execution_count": 2,
   "metadata": {
    "scrolled": false
   },
   "outputs": [
    {
     "name": "stderr",
     "output_type": "stream",
     "text": [
      "C:\\Users\\hspartali\\Anaconda3\\envs\\bmcs_env\\lib\\site-packages\\traittypes\\traittypes.py:97: UserWarning: Given trait value dtype \"uint32\" does not match required type \"float32\". A coerced copy has been created.\n",
      "  warnings.warn(\n"
     ]
    },
    {
     "data": {
      "application/vnd.jupyter.widget-view+json": {
       "model_id": "",
       "version_major": 2,
       "version_minor": 0
      },
      "text/plain": [
       "VBox(children=(HBox(children=(VBox(children=(Tree(layout=Layout(align_items='stretch', border='solid 1px black…"
      ]
     },
     "metadata": {},
     "output_type": "display_data"
    }
   ],
   "source": [
    "wbt4p = WBTessellation4P()\n",
    "wbt4p.interact()"
   ]
  },
  {
   "cell_type": "markdown",
   "metadata": {},
   "source": [
    "## General numerical tessellation of any wb cell with 6 facets"
   ]
  },
  {
   "cell_type": "code",
   "execution_count": 2,
   "metadata": {
    "scrolled": false
   },
   "outputs": [
    {
     "name": "stdout",
     "output_type": "stream",
     "text": [
      "---------------------------\n",
      "smallest_dist= 0.003999999164875345\n",
      "num_sol= [3.14159265 3.14159265]\n"
     ]
    },
    {
     "name": "stderr",
     "output_type": "stream",
     "text": [
      "C:\\Users\\hspartali\\Anaconda3\\envs\\bmcs_env\\lib\\site-packages\\traittypes\\traittypes.py:97: UserWarning: Given trait value dtype \"uint32\" does not match required type \"float32\". A coerced copy has been created.\n",
      "  warnings.warn(\n"
     ]
    },
    {
     "data": {
      "application/vnd.jupyter.widget-view+json": {
       "model_id": "b3623242439a452993c7771e6fac16b2",
       "version_major": 2,
       "version_minor": 0
      },
      "text/plain": [
       "VBox(children=(HBox(children=(VBox(children=(Tree(layout=Layout(align_items='stretch', border='solid 1px black…"
      ]
     },
     "metadata": {},
     "output_type": "display_data"
    }
   ],
   "source": [
    "wb_num_t = WBNumTessellation()\n",
    "wb_num_t.interact()"
   ]
  },
  {
   "cell_type": "markdown",
   "metadata": {},
   "source": [
    "## Class for investigating 3 cells tessellation manually"
   ]
  },
  {
   "cell_type": "code",
   "execution_count": null,
   "metadata": {
    "scrolled": false
   },
   "outputs": [],
   "source": [
    "wb_num_t_invest = WBNumTessellationInvest()\n",
    "wb_num_t_invest.interact()"
   ]
  },
  {
   "cell_type": "markdown",
   "metadata": {},
   "source": [
    "## Analytical tessellation of 5P cell V2"
   ]
  },
  {
   "cell_type": "code",
   "execution_count": 7,
   "metadata": {},
   "outputs": [],
   "source": [
    "WBGeoUtils.export_obj_file(wbttpv2, 'wb_tested_3cells_mid_shifted.obj')"
   ]
  },
  {
   "cell_type": "code",
   "execution_count": 3,
   "metadata": {
    "scrolled": true
   },
   "outputs": [
    {
     "name": "stdout",
     "output_type": "stream",
     "text": [
      "W: 20923399552.96468\n",
      "T_rho: 49039808.94604914\n",
      "T_sigma: 49039807.773362406\n",
      "sol_P2_t_2: 1.252683695255952\n",
      "sol_Q2_u_2: 1.252683637269059\n",
      "Ana. solution: [-1.79420258 -1.79420262]\n"
     ]
    },
    {
     "data": {
      "application/vnd.jupyter.widget-view+json": {
       "model_id": "a83ea6ef84974780bc9464a25b96852d",
       "version_major": 2,
       "version_minor": 0
      },
      "text/plain": [
       "VBox(children=(HBox(children=(VBox(children=(Tree(layout=Layout(align_items='stretch', border='solid 1px black…"
      ]
     },
     "metadata": {},
     "output_type": "display_data"
    },
    {
     "name": "stdout",
     "output_type": "stream",
     "text": [
      "W: 21187892813.648033\n",
      "T_rho: 49659721.307809345\n",
      "T_sigma: 49659722.50408893\n",
      "sol_P2_t_2: 1.2542173800143728\n",
      "sol_Q2_u_2: 1.2542172805212024\n",
      "Ana. solution: [-1.79539554 -1.79539562]\n",
      "W: 21774984987.368305\n",
      "T_rho: 51035735.7607959\n",
      "T_sigma: 51035735.76207332\n",
      "sol_P2_t_2: 1.2581473037179678\n",
      "sol_Q2_u_2: 1.2575545343991177\n",
      "Ana. solution: [-1.79798533 -1.79844445]\n",
      "W: 21982047206.278755\n",
      "T_rho: 51521044.867036864\n",
      "T_sigma: 51521042.497505546\n",
      "sol_P2_t_2: 1.2592392588679988\n",
      "sol_Q2_u_2: 1.259239821798547\n",
      "Ana. solution: [-1.79928995 -1.79928951]\n",
      "W: 22010260219.013885\n",
      "T_rho: 51587166.911420666\n",
      "T_sigma: 51587170.54319617\n",
      "sol_P2_t_2: 1.259429399254528\n",
      "sol_Q2_u_2: 1.2594287978461884\n",
      "Ana. solution: [-1.79943611 -1.79943657]\n",
      "W: 22045532291.86026\n",
      "T_rho: 51669836.9998603\n",
      "T_sigma: 51669840.28765742\n",
      "sol_P2_t_2: 1.2596676673838594\n",
      "sol_Q2_u_2: 1.2596666860527335\n",
      "Ana. solution: [-1.79962005 -1.79962081]\n",
      "W: 22056984386.04728\n",
      "T_rho: 51696681.82521452\n",
      "T_sigma: 51696677.80037628\n",
      "sol_P2_t_2: 1.2597441691383255\n",
      "sol_Q2_u_2: 1.259745270741227\n",
      "Ana. solution: [-1.79968081 -1.79967996]\n",
      "W: 22030509246.585598\n",
      "T_rho: 51634629.49399262\n",
      "T_sigma: 51634626.42060823\n",
      "sol_P2_t_2: 1.259565133210542\n",
      "sol_Q2_u_2: 1.2595661156612403\n",
      "Ana. solution: [-1.79954229 -1.79954153]\n",
      "W: 22010260219.013885\n",
      "T_rho: 51587166.911420666\n",
      "T_sigma: 51587170.54319617\n",
      "sol_P2_t_2: 1.259429399254528\n",
      "sol_Q2_u_2: 1.2594287978461884\n",
      "Ana. solution: [-1.79943611 -1.79943657]\n",
      "W: 21982047206.278755\n",
      "T_rho: 51521044.867036864\n",
      "T_sigma: 51521042.497505546\n",
      "sol_P2_t_2: 1.2592392588679988\n",
      "sol_Q2_u_2: 1.259239821798547\n",
      "Ana. solution: [-1.79928995 -1.79928951]\n",
      "W: 21941072587.04379\n",
      "T_rho: 51425007.99333871\n",
      "T_sigma: 51425008.53015269\n",
      "sol_P2_t_2: 1.2589641251304386\n",
      "sol_Q2_u_2: 1.2589669088390363\n",
      "Ana. solution: [-1.79907882 -1.79907667]\n",
      "W: 21878296120.752457\n",
      "T_rho: 51277873.33881081\n",
      "T_sigma: 51277874.95464294\n",
      "sol_P2_t_2: 1.2585487511001732\n",
      "sol_Q2_u_2: 1.2585489463650854\n",
      "Ana. solution: [-1.79875538 -1.79875523]\n",
      "W: 21774984987.368305\n",
      "T_rho: 51035735.7607959\n",
      "T_sigma: 51035735.76207332\n",
      "sol_P2_t_2: 1.2581473037179678\n",
      "sol_Q2_u_2: 1.2575545343991177\n",
      "Ana. solution: [-1.79798533 -1.79844445]\n",
      "W: 21586928653.116493\n",
      "T_rho: 50594973.542874165\n",
      "T_sigma: 50594973.29570983\n",
      "sol_P2_t_2: 1.2566618962035414\n",
      "sol_Q2_u_2: 1.2566662202328767\n",
      "Ana. solution: [-1.7972968  -1.79729344]\n",
      "W: 72762896733.99467\n",
      "T_rho: 92889566.17285915\n",
      "T_sigma: 92889565.98691222\n",
      "sol_P2_t_2: 1.2755547148698283\n",
      "sol_Q2_u_2: 1.2755605532383574\n",
      "Ana. solution: [-1.81181415 -1.81180971]\n",
      "W: 369061047229.6099\n",
      "T_rho: 209199696.22097012\n",
      "T_sigma: 209199695.57206646\n",
      "sol_P2_t_2: 1.2763100979844622\n",
      "sol_Q2_u_2: 1.276311685595477\n",
      "Ana. solution: [-1.81238579 -1.81238458]\n",
      "W: 893520080525.9185\n",
      "T_rho: 325509826.7320378\n",
      "T_sigma: 325509824.69426405\n",
      "sol_P2_t_2: 1.2148139973336045\n",
      "sol_Q2_u_2: 1.2148152355823123\n",
      "Ana. solution: [-1.76417175 -1.76417075]\n",
      "W: 1725873751778.881\n",
      "T_rho: 452393605.9993846\n",
      "T_sigma: 452393601.3904795\n",
      "sol_P2_t_2: 1.1122570746046727\n",
      "sol_Q2_u_2: 1.1122577027732896\n",
      "Ana. solution: [-1.6769881  -1.67698753]\n",
      "W: 893520080525.9185\n",
      "T_rho: 325509826.7320378\n",
      "T_sigma: 325509824.69426405\n",
      "sol_P2_t_2: 1.2148139973336045\n",
      "sol_Q2_u_2: 1.2148152355823123\n",
      "Ana. solution: [-1.76417175 -1.76417075]\n",
      "W: 369061047229.6099\n",
      "T_rho: 209199696.22097012\n",
      "T_sigma: 209199695.57206646\n",
      "sol_P2_t_2: 1.2763100979844622\n",
      "sol_Q2_u_2: 1.276311685595477\n",
      "Ana. solution: [-1.81238579 -1.81238458]\n",
      "W: 72762896733.99467\n",
      "T_rho: 92889566.17285915\n",
      "T_sigma: 92889565.98691222\n",
      "sol_P2_t_2: 1.2755547148698283\n",
      "sol_Q2_u_2: 1.2755605532383574\n",
      "Ana. solution: [-1.81181415 -1.81180971]\n",
      "W: 4625629039.073041\n",
      "T_rho: -23420563.412295137\n",
      "T_sigma: -23420564.061198734\n",
      "sol_P2_t_2: 1.5142524129578498\n",
      "sol_Q2_u_2: 1.514252408629912\n",
      "Ana. solution: [-1.97430079 -1.97430079]\n",
      "W: 72762896733.99467\n",
      "T_rho: 92889566.17285915\n",
      "T_sigma: 92889565.98691222\n",
      "sol_P2_t_2: 1.2755547148698283\n",
      "sol_Q2_u_2: 1.2755605532383574\n",
      "Ana. solution: [-1.81181415 -1.81180971]\n",
      "W: 893520080525.9185\n",
      "T_rho: 325509826.7320378\n",
      "T_sigma: 325509824.69426405\n",
      "sol_P2_t_2: 1.2148139973336045\n",
      "sol_Q2_u_2: 1.2148152355823123\n",
      "Ana. solution: [-1.76417175 -1.76417075]\n",
      "W: 1725873751778.881\n",
      "T_rho: 452393605.9993846\n",
      "T_sigma: 452393601.3904795\n",
      "sol_P2_t_2: 1.1122570746046727\n",
      "sol_Q2_u_2: 1.1122577027732896\n",
      "Ana. solution: [-1.6769881  -1.67698753]\n",
      "W: 893520080525.9185\n",
      "T_rho: 325509826.7320378\n",
      "T_sigma: 325509824.69426405\n",
      "sol_P2_t_2: 1.2148139973336045\n",
      "sol_Q2_u_2: 1.2148152355823123\n",
      "Ana. solution: [-1.76417175 -1.76417075]\n",
      "W: 369061047229.6099\n",
      "T_rho: 209199696.22097012\n",
      "T_sigma: 209199695.57206646\n",
      "sol_P2_t_2: 1.2763100979844622\n",
      "sol_Q2_u_2: 1.276311685595477\n",
      "Ana. solution: [-1.81238579 -1.81238458]\n",
      "W: 72762896733.99467\n",
      "T_rho: 92889566.17285915\n",
      "T_sigma: 92889565.98691222\n",
      "sol_P2_t_2: 1.2755547148698283\n",
      "sol_Q2_u_2: 1.2755605532383574\n",
      "Ana. solution: [-1.81181415 -1.81180971]\n",
      "W: 369061047229.6099\n",
      "T_rho: 209199696.22097012\n",
      "T_sigma: 209199695.57206646\n",
      "sol_P2_t_2: 1.2763100979844622\n",
      "sol_Q2_u_2: 1.276311685595477\n",
      "Ana. solution: [-1.81238579 -1.81238458]\n",
      "W: 893520080525.9185\n",
      "T_rho: 325509826.7320378\n",
      "T_sigma: 325509824.69426405\n",
      "sol_P2_t_2: 1.2148139973336045\n",
      "sol_Q2_u_2: 1.2148152355823123\n",
      "Ana. solution: [-1.76417175 -1.76417075]\n",
      "W: 1725873751778.881\n",
      "T_rho: 452393605.9993846\n",
      "T_sigma: 452393601.3904795\n",
      "sol_P2_t_2: 1.1122570746046727\n",
      "sol_Q2_u_2: 1.1122577027732896\n",
      "Ana. solution: [-1.6769881  -1.67698753]\n",
      "W: 2727396449113.003\n",
      "T_rho: 568703737.4784527\n",
      "T_sigma: 568703729.5446767\n",
      "sol_P2_t_2: 1.012838141811622\n",
      "sol_Q2_u_2: 1.0128387252094098\n",
      "Ana. solution: [-1.58355299 -1.58355241]\n",
      "W: 1725873751778.881\n",
      "T_rho: 452393605.9993846\n",
      "T_sigma: 452393601.3904795\n",
      "sol_P2_t_2: 1.1122570746046727\n",
      "sol_Q2_u_2: 1.1122577027732896\n",
      "Ana. solution: [-1.6769881  -1.67698753]\n",
      "W: 893520080525.9185\n",
      "T_rho: 325509826.7320378\n",
      "T_sigma: 325509824.69426405\n",
      "sol_P2_t_2: 1.2148139973336045\n",
      "sol_Q2_u_2: 1.2148152355823123\n",
      "Ana. solution: [-1.76417175 -1.76417075]\n",
      "W: 369061047229.6099\n",
      "T_rho: 209199696.22097012\n",
      "T_sigma: 209199695.57206646\n",
      "sol_P2_t_2: 1.2763100979844622\n",
      "sol_Q2_u_2: 1.276311685595477\n",
      "Ana. solution: [-1.81238579 -1.81238458]\n",
      "W: 366534788052.11835\n",
      "T_rho: 184096195.02572823\n",
      "T_sigma: 230670195.7465351\n",
      "sol_P2_t_2: 1.1661501520840327\n",
      "sol_Q2_u_2: 1.3581560056766613\n",
      "Ana. solution: [-1.87225186 -1.72390248]\n",
      "W: 367971948488.7214\n",
      "T_rho: 223768985.40178052\n",
      "T_sigma: 193048722.385423\n",
      "sol_P2_t_2: 1.3337067010395813\n",
      "sol_Q2_u_2: 1.2067784883244745\n",
      "Ana. solution: [-1.75765376 -1.85485921]\n"
     ]
    },
    {
     "name": "stderr",
     "output_type": "stream",
     "text": [
      "c:\\users\\hspartali\\_homam\\programming\\python\\bmcs_shell\\bmcs_shell\\folding\\geometry\\wb_cell\\wb_cell_5p_v2.py:86: RuntimeWarning: invalid value encountered in sqrt\n",
      "  sin_psi1 = sqrt(\n",
      "c:\\users\\hspartali\\_homam\\programming\\python\\bmcs_shell\\bmcs_shell\\folding\\geometry\\wb_tessellation\\wb_tessellation_5pv2.py:83: RuntimeWarning: invalid value encountered in sqrt\n",
      "  sin_psi1 = sqrt(\n",
      "c:\\users\\hspartali\\_homam\\programming\\python\\bmcs_shell\\bmcs_shell\\folding\\geometry\\wb_tessellation\\wb_tessellation_5pv2.py:226: RuntimeWarning: invalid value encountered in sqrt\n",
      "  - (cos(phi1 + phi3) - 1) * (e2 + f) * sqrt(\n",
      "Exception occurred in traits notification handler for event object: TraitChangeEvent(object=<bmcs_shell.folding.geometry.wb_cell.wb_cell_5p_v2.WBCell5ParamV2 object at 0x000002C713063180>, name='delta_beta', old=0.03, new=0.26)\n",
      "Traceback (most recent call last):\n",
      "  File \"C:\\Users\\hspartali\\Anaconda3\\envs\\bmcs_env\\lib\\site-packages\\traits\\observation\\_trait_event_notifier.py\", line 122, in __call__\n",
      "    self.dispatcher(handler, event)\n",
      "  File \"C:\\Users\\hspartali\\Anaconda3\\envs\\bmcs_env\\lib\\site-packages\\traits\\observation\\observe.py\", line 27, in dispatch_same\n",
      "    handler(event)\n",
      "  File \"c:\\users\\hspartali\\_homam\\programming\\python\\bmcs_shell\\bmcs_shell\\folding\\geometry\\wb_tessellation\\wb_tessellation_5pv2.py\", line 30, in update_after_wb_cell_GEO_changes\n",
      "    self.update_plot(self.pb)\n",
      "  File \"c:\\users\\hspartali\\_homam\\programming\\python\\bmcs_shell\\bmcs_shell\\folding\\geometry\\wb_tessellation\\wb_num_tessellation.py\", line 120, in update_plot\n",
      "    X_Ia, I_Fi  = self.calc_mesh_for_tessellated_cells()\n",
      "  File \"c:\\users\\hspartali\\_homam\\programming\\python\\bmcs_shell\\bmcs_shell\\folding\\geometry\\wb_tessellation\\wb_num_tessellation.py\", line 60, in calc_mesh_for_tessellated_cells\n",
      "    cell_to_add = self._get_bl_X_Ia(base_cell_X_Ia)\n",
      "  File \"c:\\users\\hspartali\\_homam\\programming\\python\\bmcs_shell\\bmcs_shell\\folding\\geometry\\wb_tessellation\\wb_tessellation_base.py\", line 65, in _get_bl_X_Ia\n",
      "    br_X_Ia = self._get_cell_matching_v1_to_v2(X_Ia, np.array([3, 5]), np.array([6, 2]))\n",
      "  File \"c:\\users\\hspartali\\_homam\\programming\\python\\bmcs_shell\\bmcs_shell\\folding\\geometry\\wb_tessellation\\wb_tessellation_base.py\", line 71, in _get_cell_matching_v1_to_v2\n",
      "    rot, trans = get_best_rot_and_trans_3d(v1_2a, v2_2a)\n",
      "  File \"c:\\users\\hspartali\\_homam\\programming\\python\\bmcs_shell\\bmcs_shell\\folding\\geometry\\math_utils.py\", line 42, in get_best_rot_and_trans_3d\n",
      "    U, S, Vt = np.linalg.svd(H)\n",
      "  File \"<__array_function__ internals>\", line 180, in svd\n",
      "  File \"C:\\Users\\hspartali\\Anaconda3\\envs\\bmcs_env\\lib\\site-packages\\numpy\\linalg\\linalg.py\", line 1648, in svd\n",
      "    u, s, vh = gufunc(a, signature=signature, extobj=extobj)\n",
      "  File \"C:\\Users\\hspartali\\Anaconda3\\envs\\bmcs_env\\lib\\site-packages\\numpy\\linalg\\linalg.py\", line 97, in _raise_linalgerror_svd_nonconvergence\n",
      "    raise LinAlgError(\"SVD did not converge\")\n",
      "numpy.linalg.LinAlgError: SVD did not converge\n"
     ]
    },
    {
     "name": "stdout",
     "output_type": "stream",
     "text": [
      "W: nan\n",
      "T_rho: nan\n",
      "T_sigma: nan\n",
      "sol_P2_t_2: nan\n",
      "sol_Q2_u_2: nan\n",
      "Ana. solution: [nan nan]\n"
     ]
    },
    {
     "name": "stderr",
     "output_type": "stream",
     "text": [
      "Exception occurred in traits notification handler for event object: TraitChangeEvent(object=<bmcs_shell.folding.geometry.wb_cell.wb_cell_5p_v2.WBCell5ParamV2 object at 0x000002C713063180>, name='delta_beta', old=0.26, new=0.34)\n",
      "Traceback (most recent call last):\n",
      "  File \"C:\\Users\\hspartali\\Anaconda3\\envs\\bmcs_env\\lib\\site-packages\\traits\\observation\\_trait_event_notifier.py\", line 122, in __call__\n",
      "    self.dispatcher(handler, event)\n",
      "  File \"C:\\Users\\hspartali\\Anaconda3\\envs\\bmcs_env\\lib\\site-packages\\traits\\observation\\observe.py\", line 27, in dispatch_same\n",
      "    handler(event)\n",
      "  File \"c:\\users\\hspartali\\_homam\\programming\\python\\bmcs_shell\\bmcs_shell\\folding\\geometry\\wb_tessellation\\wb_tessellation_5pv2.py\", line 30, in update_after_wb_cell_GEO_changes\n",
      "    self.update_plot(self.pb)\n",
      "  File \"c:\\users\\hspartali\\_homam\\programming\\python\\bmcs_shell\\bmcs_shell\\folding\\geometry\\wb_tessellation\\wb_num_tessellation.py\", line 120, in update_plot\n",
      "    X_Ia, I_Fi  = self.calc_mesh_for_tessellated_cells()\n",
      "  File \"c:\\users\\hspartali\\_homam\\programming\\python\\bmcs_shell\\bmcs_shell\\folding\\geometry\\wb_tessellation\\wb_num_tessellation.py\", line 60, in calc_mesh_for_tessellated_cells\n",
      "    cell_to_add = self._get_bl_X_Ia(base_cell_X_Ia)\n",
      "  File \"c:\\users\\hspartali\\_homam\\programming\\python\\bmcs_shell\\bmcs_shell\\folding\\geometry\\wb_tessellation\\wb_tessellation_base.py\", line 65, in _get_bl_X_Ia\n",
      "    br_X_Ia = self._get_cell_matching_v1_to_v2(X_Ia, np.array([3, 5]), np.array([6, 2]))\n",
      "  File \"c:\\users\\hspartali\\_homam\\programming\\python\\bmcs_shell\\bmcs_shell\\folding\\geometry\\wb_tessellation\\wb_tessellation_base.py\", line 71, in _get_cell_matching_v1_to_v2\n",
      "    rot, trans = get_best_rot_and_trans_3d(v1_2a, v2_2a)\n",
      "  File \"c:\\users\\hspartali\\_homam\\programming\\python\\bmcs_shell\\bmcs_shell\\folding\\geometry\\math_utils.py\", line 42, in get_best_rot_and_trans_3d\n",
      "    U, S, Vt = np.linalg.svd(H)\n",
      "  File \"<__array_function__ internals>\", line 180, in svd\n",
      "  File \"C:\\Users\\hspartali\\Anaconda3\\envs\\bmcs_env\\lib\\site-packages\\numpy\\linalg\\linalg.py\", line 1648, in svd\n",
      "    u, s, vh = gufunc(a, signature=signature, extobj=extobj)\n",
      "  File \"C:\\Users\\hspartali\\Anaconda3\\envs\\bmcs_env\\lib\\site-packages\\numpy\\linalg\\linalg.py\", line 97, in _raise_linalgerror_svd_nonconvergence\n",
      "    raise LinAlgError(\"SVD did not converge\")\n",
      "numpy.linalg.LinAlgError: SVD did not converge\n"
     ]
    },
    {
     "name": "stdout",
     "output_type": "stream",
     "text": [
      "W: nan\n",
      "T_rho: nan\n",
      "T_sigma: nan\n",
      "sol_P2_t_2: nan\n",
      "sol_Q2_u_2: nan\n",
      "Ana. solution: [nan nan]\n"
     ]
    },
    {
     "name": "stderr",
     "output_type": "stream",
     "text": [
      "Exception occurred in traits notification handler for event object: TraitChangeEvent(object=<bmcs_shell.folding.geometry.wb_cell.wb_cell_5p_v2.WBCell5ParamV2 object at 0x000002C713063180>, name='delta_beta', old=0.34, new=0.41)\n",
      "Traceback (most recent call last):\n",
      "  File \"C:\\Users\\hspartali\\Anaconda3\\envs\\bmcs_env\\lib\\site-packages\\traits\\observation\\_trait_event_notifier.py\", line 122, in __call__\n",
      "    self.dispatcher(handler, event)\n",
      "  File \"C:\\Users\\hspartali\\Anaconda3\\envs\\bmcs_env\\lib\\site-packages\\traits\\observation\\observe.py\", line 27, in dispatch_same\n",
      "    handler(event)\n",
      "  File \"c:\\users\\hspartali\\_homam\\programming\\python\\bmcs_shell\\bmcs_shell\\folding\\geometry\\wb_tessellation\\wb_tessellation_5pv2.py\", line 30, in update_after_wb_cell_GEO_changes\n",
      "    self.update_plot(self.pb)\n",
      "  File \"c:\\users\\hspartali\\_homam\\programming\\python\\bmcs_shell\\bmcs_shell\\folding\\geometry\\wb_tessellation\\wb_num_tessellation.py\", line 120, in update_plot\n",
      "    X_Ia, I_Fi  = self.calc_mesh_for_tessellated_cells()\n",
      "  File \"c:\\users\\hspartali\\_homam\\programming\\python\\bmcs_shell\\bmcs_shell\\folding\\geometry\\wb_tessellation\\wb_num_tessellation.py\", line 60, in calc_mesh_for_tessellated_cells\n",
      "    cell_to_add = self._get_bl_X_Ia(base_cell_X_Ia)\n",
      "  File \"c:\\users\\hspartali\\_homam\\programming\\python\\bmcs_shell\\bmcs_shell\\folding\\geometry\\wb_tessellation\\wb_tessellation_base.py\", line 65, in _get_bl_X_Ia\n",
      "    br_X_Ia = self._get_cell_matching_v1_to_v2(X_Ia, np.array([3, 5]), np.array([6, 2]))\n",
      "  File \"c:\\users\\hspartali\\_homam\\programming\\python\\bmcs_shell\\bmcs_shell\\folding\\geometry\\wb_tessellation\\wb_tessellation_base.py\", line 71, in _get_cell_matching_v1_to_v2\n",
      "    rot, trans = get_best_rot_and_trans_3d(v1_2a, v2_2a)\n",
      "  File \"c:\\users\\hspartali\\_homam\\programming\\python\\bmcs_shell\\bmcs_shell\\folding\\geometry\\math_utils.py\", line 42, in get_best_rot_and_trans_3d\n",
      "    U, S, Vt = np.linalg.svd(H)\n",
      "  File \"<__array_function__ internals>\", line 180, in svd\n",
      "  File \"C:\\Users\\hspartali\\Anaconda3\\envs\\bmcs_env\\lib\\site-packages\\numpy\\linalg\\linalg.py\", line 1648, in svd\n",
      "    u, s, vh = gufunc(a, signature=signature, extobj=extobj)\n",
      "  File \"C:\\Users\\hspartali\\Anaconda3\\envs\\bmcs_env\\lib\\site-packages\\numpy\\linalg\\linalg.py\", line 97, in _raise_linalgerror_svd_nonconvergence\n",
      "    raise LinAlgError(\"SVD did not converge\")\n",
      "numpy.linalg.LinAlgError: SVD did not converge\n"
     ]
    },
    {
     "name": "stdout",
     "output_type": "stream",
     "text": [
      "W: nan\n",
      "T_rho: nan\n",
      "T_sigma: nan\n",
      "sol_P2_t_2: nan\n",
      "sol_Q2_u_2: nan\n",
      "Ana. solution: [nan nan]\n"
     ]
    },
    {
     "name": "stderr",
     "output_type": "stream",
     "text": [
      "Exception occurred in traits notification handler for event object: TraitChangeEvent(object=<bmcs_shell.folding.geometry.wb_cell.wb_cell_5p_v2.WBCell5ParamV2 object at 0x000002C713063180>, name='delta_beta', old=0.41, new=0.49)\n",
      "Traceback (most recent call last):\n",
      "  File \"C:\\Users\\hspartali\\Anaconda3\\envs\\bmcs_env\\lib\\site-packages\\traits\\observation\\_trait_event_notifier.py\", line 122, in __call__\n",
      "    self.dispatcher(handler, event)\n",
      "  File \"C:\\Users\\hspartali\\Anaconda3\\envs\\bmcs_env\\lib\\site-packages\\traits\\observation\\observe.py\", line 27, in dispatch_same\n",
      "    handler(event)\n",
      "  File \"c:\\users\\hspartali\\_homam\\programming\\python\\bmcs_shell\\bmcs_shell\\folding\\geometry\\wb_tessellation\\wb_tessellation_5pv2.py\", line 30, in update_after_wb_cell_GEO_changes\n",
      "    self.update_plot(self.pb)\n",
      "  File \"c:\\users\\hspartali\\_homam\\programming\\python\\bmcs_shell\\bmcs_shell\\folding\\geometry\\wb_tessellation\\wb_num_tessellation.py\", line 120, in update_plot\n",
      "    X_Ia, I_Fi  = self.calc_mesh_for_tessellated_cells()\n",
      "  File \"c:\\users\\hspartali\\_homam\\programming\\python\\bmcs_shell\\bmcs_shell\\folding\\geometry\\wb_tessellation\\wb_num_tessellation.py\", line 60, in calc_mesh_for_tessellated_cells\n",
      "    cell_to_add = self._get_bl_X_Ia(base_cell_X_Ia)\n",
      "  File \"c:\\users\\hspartali\\_homam\\programming\\python\\bmcs_shell\\bmcs_shell\\folding\\geometry\\wb_tessellation\\wb_tessellation_base.py\", line 65, in _get_bl_X_Ia\n",
      "    br_X_Ia = self._get_cell_matching_v1_to_v2(X_Ia, np.array([3, 5]), np.array([6, 2]))\n",
      "  File \"c:\\users\\hspartali\\_homam\\programming\\python\\bmcs_shell\\bmcs_shell\\folding\\geometry\\wb_tessellation\\wb_tessellation_base.py\", line 71, in _get_cell_matching_v1_to_v2\n",
      "    rot, trans = get_best_rot_and_trans_3d(v1_2a, v2_2a)\n",
      "  File \"c:\\users\\hspartali\\_homam\\programming\\python\\bmcs_shell\\bmcs_shell\\folding\\geometry\\math_utils.py\", line 42, in get_best_rot_and_trans_3d\n",
      "    U, S, Vt = np.linalg.svd(H)\n",
      "  File \"<__array_function__ internals>\", line 180, in svd\n",
      "  File \"C:\\Users\\hspartali\\Anaconda3\\envs\\bmcs_env\\lib\\site-packages\\numpy\\linalg\\linalg.py\", line 1648, in svd\n",
      "    u, s, vh = gufunc(a, signature=signature, extobj=extobj)\n",
      "  File \"C:\\Users\\hspartali\\Anaconda3\\envs\\bmcs_env\\lib\\site-packages\\numpy\\linalg\\linalg.py\", line 97, in _raise_linalgerror_svd_nonconvergence\n",
      "    raise LinAlgError(\"SVD did not converge\")\n",
      "numpy.linalg.LinAlgError: SVD did not converge\n"
     ]
    },
    {
     "name": "stdout",
     "output_type": "stream",
     "text": [
      "W: nan\n",
      "T_rho: nan\n",
      "T_sigma: nan\n",
      "sol_P2_t_2: nan\n",
      "sol_Q2_u_2: nan\n",
      "Ana. solution: [nan nan]\n"
     ]
    },
    {
     "name": "stderr",
     "output_type": "stream",
     "text": [
      "Exception occurred in traits notification handler for event object: TraitChangeEvent(object=<bmcs_shell.folding.geometry.wb_cell.wb_cell_5p_v2.WBCell5ParamV2 object at 0x000002C713063180>, name='delta_beta', old=0.49, new=0.56)\n",
      "Traceback (most recent call last):\n",
      "  File \"C:\\Users\\hspartali\\Anaconda3\\envs\\bmcs_env\\lib\\site-packages\\traits\\observation\\_trait_event_notifier.py\", line 122, in __call__\n",
      "    self.dispatcher(handler, event)\n",
      "  File \"C:\\Users\\hspartali\\Anaconda3\\envs\\bmcs_env\\lib\\site-packages\\traits\\observation\\observe.py\", line 27, in dispatch_same\n",
      "    handler(event)\n",
      "  File \"c:\\users\\hspartali\\_homam\\programming\\python\\bmcs_shell\\bmcs_shell\\folding\\geometry\\wb_tessellation\\wb_tessellation_5pv2.py\", line 30, in update_after_wb_cell_GEO_changes\n",
      "    self.update_plot(self.pb)\n",
      "  File \"c:\\users\\hspartali\\_homam\\programming\\python\\bmcs_shell\\bmcs_shell\\folding\\geometry\\wb_tessellation\\wb_num_tessellation.py\", line 120, in update_plot\n",
      "    X_Ia, I_Fi  = self.calc_mesh_for_tessellated_cells()\n",
      "  File \"c:\\users\\hspartali\\_homam\\programming\\python\\bmcs_shell\\bmcs_shell\\folding\\geometry\\wb_tessellation\\wb_num_tessellation.py\", line 60, in calc_mesh_for_tessellated_cells\n",
      "    cell_to_add = self._get_bl_X_Ia(base_cell_X_Ia)\n",
      "  File \"c:\\users\\hspartali\\_homam\\programming\\python\\bmcs_shell\\bmcs_shell\\folding\\geometry\\wb_tessellation\\wb_tessellation_base.py\", line 65, in _get_bl_X_Ia\n",
      "    br_X_Ia = self._get_cell_matching_v1_to_v2(X_Ia, np.array([3, 5]), np.array([6, 2]))\n",
      "  File \"c:\\users\\hspartali\\_homam\\programming\\python\\bmcs_shell\\bmcs_shell\\folding\\geometry\\wb_tessellation\\wb_tessellation_base.py\", line 71, in _get_cell_matching_v1_to_v2\n",
      "    rot, trans = get_best_rot_and_trans_3d(v1_2a, v2_2a)\n",
      "  File \"c:\\users\\hspartali\\_homam\\programming\\python\\bmcs_shell\\bmcs_shell\\folding\\geometry\\math_utils.py\", line 42, in get_best_rot_and_trans_3d\n",
      "    U, S, Vt = np.linalg.svd(H)\n",
      "  File \"<__array_function__ internals>\", line 180, in svd\n",
      "  File \"C:\\Users\\hspartali\\Anaconda3\\envs\\bmcs_env\\lib\\site-packages\\numpy\\linalg\\linalg.py\", line 1648, in svd\n",
      "    u, s, vh = gufunc(a, signature=signature, extobj=extobj)\n",
      "  File \"C:\\Users\\hspartali\\Anaconda3\\envs\\bmcs_env\\lib\\site-packages\\numpy\\linalg\\linalg.py\", line 97, in _raise_linalgerror_svd_nonconvergence\n",
      "    raise LinAlgError(\"SVD did not converge\")\n",
      "numpy.linalg.LinAlgError: SVD did not converge\n"
     ]
    },
    {
     "name": "stdout",
     "output_type": "stream",
     "text": [
      "W: nan\n",
      "T_rho: nan\n",
      "T_sigma: nan\n",
      "sol_P2_t_2: nan\n",
      "sol_Q2_u_2: nan\n",
      "Ana. solution: [nan nan]\n"
     ]
    },
    {
     "name": "stderr",
     "output_type": "stream",
     "text": [
      "Exception occurred in traits notification handler for event object: TraitChangeEvent(object=<bmcs_shell.folding.geometry.wb_cell.wb_cell_5p_v2.WBCell5ParamV2 object at 0x000002C713063180>, name='delta_beta', old=0.56, new=0.64)\n",
      "Traceback (most recent call last):\n",
      "  File \"C:\\Users\\hspartali\\Anaconda3\\envs\\bmcs_env\\lib\\site-packages\\traits\\observation\\_trait_event_notifier.py\", line 122, in __call__\n",
      "    self.dispatcher(handler, event)\n",
      "  File \"C:\\Users\\hspartali\\Anaconda3\\envs\\bmcs_env\\lib\\site-packages\\traits\\observation\\observe.py\", line 27, in dispatch_same\n",
      "    handler(event)\n",
      "  File \"c:\\users\\hspartali\\_homam\\programming\\python\\bmcs_shell\\bmcs_shell\\folding\\geometry\\wb_tessellation\\wb_tessellation_5pv2.py\", line 30, in update_after_wb_cell_GEO_changes\n",
      "    self.update_plot(self.pb)\n",
      "  File \"c:\\users\\hspartali\\_homam\\programming\\python\\bmcs_shell\\bmcs_shell\\folding\\geometry\\wb_tessellation\\wb_num_tessellation.py\", line 120, in update_plot\n",
      "    X_Ia, I_Fi  = self.calc_mesh_for_tessellated_cells()\n",
      "  File \"c:\\users\\hspartali\\_homam\\programming\\python\\bmcs_shell\\bmcs_shell\\folding\\geometry\\wb_tessellation\\wb_num_tessellation.py\", line 60, in calc_mesh_for_tessellated_cells\n",
      "    cell_to_add = self._get_bl_X_Ia(base_cell_X_Ia)\n",
      "  File \"c:\\users\\hspartali\\_homam\\programming\\python\\bmcs_shell\\bmcs_shell\\folding\\geometry\\wb_tessellation\\wb_tessellation_base.py\", line 65, in _get_bl_X_Ia\n",
      "    br_X_Ia = self._get_cell_matching_v1_to_v2(X_Ia, np.array([3, 5]), np.array([6, 2]))\n",
      "  File \"c:\\users\\hspartali\\_homam\\programming\\python\\bmcs_shell\\bmcs_shell\\folding\\geometry\\wb_tessellation\\wb_tessellation_base.py\", line 71, in _get_cell_matching_v1_to_v2\n",
      "    rot, trans = get_best_rot_and_trans_3d(v1_2a, v2_2a)\n",
      "  File \"c:\\users\\hspartali\\_homam\\programming\\python\\bmcs_shell\\bmcs_shell\\folding\\geometry\\math_utils.py\", line 42, in get_best_rot_and_trans_3d\n",
      "    U, S, Vt = np.linalg.svd(H)\n",
      "  File \"<__array_function__ internals>\", line 180, in svd\n",
      "  File \"C:\\Users\\hspartali\\Anaconda3\\envs\\bmcs_env\\lib\\site-packages\\numpy\\linalg\\linalg.py\", line 1648, in svd\n",
      "    u, s, vh = gufunc(a, signature=signature, extobj=extobj)\n",
      "  File \"C:\\Users\\hspartali\\Anaconda3\\envs\\bmcs_env\\lib\\site-packages\\numpy\\linalg\\linalg.py\", line 97, in _raise_linalgerror_svd_nonconvergence\n",
      "    raise LinAlgError(\"SVD did not converge\")\n",
      "numpy.linalg.LinAlgError: SVD did not converge\n"
     ]
    },
    {
     "name": "stdout",
     "output_type": "stream",
     "text": [
      "W: nan\n",
      "T_rho: nan\n",
      "T_sigma: nan\n",
      "sol_P2_t_2: nan\n",
      "sol_Q2_u_2: nan\n",
      "Ana. solution: [nan nan]\n"
     ]
    },
    {
     "name": "stderr",
     "output_type": "stream",
     "text": [
      "Exception occurred in traits notification handler for event object: TraitChangeEvent(object=<bmcs_shell.folding.geometry.wb_cell.wb_cell_5p_v2.WBCell5ParamV2 object at 0x000002C713063180>, name='delta_beta', old=0.64, new=0.56)\n",
      "Traceback (most recent call last):\n",
      "  File \"C:\\Users\\hspartali\\Anaconda3\\envs\\bmcs_env\\lib\\site-packages\\traits\\observation\\_trait_event_notifier.py\", line 122, in __call__\n",
      "    self.dispatcher(handler, event)\n",
      "  File \"C:\\Users\\hspartali\\Anaconda3\\envs\\bmcs_env\\lib\\site-packages\\traits\\observation\\observe.py\", line 27, in dispatch_same\n",
      "    handler(event)\n",
      "  File \"c:\\users\\hspartali\\_homam\\programming\\python\\bmcs_shell\\bmcs_shell\\folding\\geometry\\wb_tessellation\\wb_tessellation_5pv2.py\", line 30, in update_after_wb_cell_GEO_changes\n",
      "    self.update_plot(self.pb)\n",
      "  File \"c:\\users\\hspartali\\_homam\\programming\\python\\bmcs_shell\\bmcs_shell\\folding\\geometry\\wb_tessellation\\wb_num_tessellation.py\", line 120, in update_plot\n",
      "    X_Ia, I_Fi  = self.calc_mesh_for_tessellated_cells()\n",
      "  File \"c:\\users\\hspartali\\_homam\\programming\\python\\bmcs_shell\\bmcs_shell\\folding\\geometry\\wb_tessellation\\wb_num_tessellation.py\", line 60, in calc_mesh_for_tessellated_cells\n",
      "    cell_to_add = self._get_bl_X_Ia(base_cell_X_Ia)\n",
      "  File \"c:\\users\\hspartali\\_homam\\programming\\python\\bmcs_shell\\bmcs_shell\\folding\\geometry\\wb_tessellation\\wb_tessellation_base.py\", line 65, in _get_bl_X_Ia\n",
      "    br_X_Ia = self._get_cell_matching_v1_to_v2(X_Ia, np.array([3, 5]), np.array([6, 2]))\n",
      "  File \"c:\\users\\hspartali\\_homam\\programming\\python\\bmcs_shell\\bmcs_shell\\folding\\geometry\\wb_tessellation\\wb_tessellation_base.py\", line 71, in _get_cell_matching_v1_to_v2\n",
      "    rot, trans = get_best_rot_and_trans_3d(v1_2a, v2_2a)\n",
      "  File \"c:\\users\\hspartali\\_homam\\programming\\python\\bmcs_shell\\bmcs_shell\\folding\\geometry\\math_utils.py\", line 42, in get_best_rot_and_trans_3d\n",
      "    U, S, Vt = np.linalg.svd(H)\n",
      "  File \"<__array_function__ internals>\", line 180, in svd\n",
      "  File \"C:\\Users\\hspartali\\Anaconda3\\envs\\bmcs_env\\lib\\site-packages\\numpy\\linalg\\linalg.py\", line 1648, in svd\n",
      "    u, s, vh = gufunc(a, signature=signature, extobj=extobj)\n",
      "  File \"C:\\Users\\hspartali\\Anaconda3\\envs\\bmcs_env\\lib\\site-packages\\numpy\\linalg\\linalg.py\", line 97, in _raise_linalgerror_svd_nonconvergence\n",
      "    raise LinAlgError(\"SVD did not converge\")\n",
      "numpy.linalg.LinAlgError: SVD did not converge\n"
     ]
    },
    {
     "name": "stdout",
     "output_type": "stream",
     "text": [
      "W: nan\n",
      "T_rho: nan\n",
      "T_sigma: nan\n",
      "sol_P2_t_2: nan\n",
      "sol_Q2_u_2: nan\n",
      "Ana. solution: [nan nan]\n"
     ]
    },
    {
     "name": "stderr",
     "output_type": "stream",
     "text": [
      "Exception occurred in traits notification handler for event object: TraitChangeEvent(object=<bmcs_shell.folding.geometry.wb_cell.wb_cell_5p_v2.WBCell5ParamV2 object at 0x000002C713063180>, name='delta_beta', old=0.56, new=0.49)\n",
      "Traceback (most recent call last):\n",
      "  File \"C:\\Users\\hspartali\\Anaconda3\\envs\\bmcs_env\\lib\\site-packages\\traits\\observation\\_trait_event_notifier.py\", line 122, in __call__\n",
      "    self.dispatcher(handler, event)\n",
      "  File \"C:\\Users\\hspartali\\Anaconda3\\envs\\bmcs_env\\lib\\site-packages\\traits\\observation\\observe.py\", line 27, in dispatch_same\n",
      "    handler(event)\n",
      "  File \"c:\\users\\hspartali\\_homam\\programming\\python\\bmcs_shell\\bmcs_shell\\folding\\geometry\\wb_tessellation\\wb_tessellation_5pv2.py\", line 30, in update_after_wb_cell_GEO_changes\n",
      "    self.update_plot(self.pb)\n",
      "  File \"c:\\users\\hspartali\\_homam\\programming\\python\\bmcs_shell\\bmcs_shell\\folding\\geometry\\wb_tessellation\\wb_num_tessellation.py\", line 120, in update_plot\n",
      "    X_Ia, I_Fi  = self.calc_mesh_for_tessellated_cells()\n",
      "  File \"c:\\users\\hspartali\\_homam\\programming\\python\\bmcs_shell\\bmcs_shell\\folding\\geometry\\wb_tessellation\\wb_num_tessellation.py\", line 60, in calc_mesh_for_tessellated_cells\n",
      "    cell_to_add = self._get_bl_X_Ia(base_cell_X_Ia)\n",
      "  File \"c:\\users\\hspartali\\_homam\\programming\\python\\bmcs_shell\\bmcs_shell\\folding\\geometry\\wb_tessellation\\wb_tessellation_base.py\", line 65, in _get_bl_X_Ia\n",
      "    br_X_Ia = self._get_cell_matching_v1_to_v2(X_Ia, np.array([3, 5]), np.array([6, 2]))\n",
      "  File \"c:\\users\\hspartali\\_homam\\programming\\python\\bmcs_shell\\bmcs_shell\\folding\\geometry\\wb_tessellation\\wb_tessellation_base.py\", line 71, in _get_cell_matching_v1_to_v2\n",
      "    rot, trans = get_best_rot_and_trans_3d(v1_2a, v2_2a)\n",
      "  File \"c:\\users\\hspartali\\_homam\\programming\\python\\bmcs_shell\\bmcs_shell\\folding\\geometry\\math_utils.py\", line 42, in get_best_rot_and_trans_3d\n",
      "    U, S, Vt = np.linalg.svd(H)\n",
      "  File \"<__array_function__ internals>\", line 180, in svd\n",
      "  File \"C:\\Users\\hspartali\\Anaconda3\\envs\\bmcs_env\\lib\\site-packages\\numpy\\linalg\\linalg.py\", line 1648, in svd\n",
      "    u, s, vh = gufunc(a, signature=signature, extobj=extobj)\n",
      "  File \"C:\\Users\\hspartali\\Anaconda3\\envs\\bmcs_env\\lib\\site-packages\\numpy\\linalg\\linalg.py\", line 97, in _raise_linalgerror_svd_nonconvergence\n",
      "    raise LinAlgError(\"SVD did not converge\")\n",
      "numpy.linalg.LinAlgError: SVD did not converge\n"
     ]
    },
    {
     "name": "stdout",
     "output_type": "stream",
     "text": [
      "W: nan\n",
      "T_rho: nan\n",
      "T_sigma: nan\n",
      "sol_P2_t_2: nan\n",
      "sol_Q2_u_2: nan\n",
      "Ana. solution: [nan nan]\n"
     ]
    },
    {
     "name": "stderr",
     "output_type": "stream",
     "text": [
      "Exception occurred in traits notification handler for event object: TraitChangeEvent(object=<bmcs_shell.folding.geometry.wb_cell.wb_cell_5p_v2.WBCell5ParamV2 object at 0x000002C713063180>, name='delta_beta', old=0.49, new=0.34)\n",
      "Traceback (most recent call last):\n",
      "  File \"C:\\Users\\hspartali\\Anaconda3\\envs\\bmcs_env\\lib\\site-packages\\traits\\observation\\_trait_event_notifier.py\", line 122, in __call__\n",
      "    self.dispatcher(handler, event)\n",
      "  File \"C:\\Users\\hspartali\\Anaconda3\\envs\\bmcs_env\\lib\\site-packages\\traits\\observation\\observe.py\", line 27, in dispatch_same\n",
      "    handler(event)\n",
      "  File \"c:\\users\\hspartali\\_homam\\programming\\python\\bmcs_shell\\bmcs_shell\\folding\\geometry\\wb_tessellation\\wb_tessellation_5pv2.py\", line 30, in update_after_wb_cell_GEO_changes\n",
      "    self.update_plot(self.pb)\n",
      "  File \"c:\\users\\hspartali\\_homam\\programming\\python\\bmcs_shell\\bmcs_shell\\folding\\geometry\\wb_tessellation\\wb_num_tessellation.py\", line 120, in update_plot\n",
      "    X_Ia, I_Fi  = self.calc_mesh_for_tessellated_cells()\n",
      "  File \"c:\\users\\hspartali\\_homam\\programming\\python\\bmcs_shell\\bmcs_shell\\folding\\geometry\\wb_tessellation\\wb_num_tessellation.py\", line 60, in calc_mesh_for_tessellated_cells\n",
      "    cell_to_add = self._get_bl_X_Ia(base_cell_X_Ia)\n",
      "  File \"c:\\users\\hspartali\\_homam\\programming\\python\\bmcs_shell\\bmcs_shell\\folding\\geometry\\wb_tessellation\\wb_tessellation_base.py\", line 65, in _get_bl_X_Ia\n",
      "    br_X_Ia = self._get_cell_matching_v1_to_v2(X_Ia, np.array([3, 5]), np.array([6, 2]))\n",
      "  File \"c:\\users\\hspartali\\_homam\\programming\\python\\bmcs_shell\\bmcs_shell\\folding\\geometry\\wb_tessellation\\wb_tessellation_base.py\", line 71, in _get_cell_matching_v1_to_v2\n",
      "    rot, trans = get_best_rot_and_trans_3d(v1_2a, v2_2a)\n",
      "  File \"c:\\users\\hspartali\\_homam\\programming\\python\\bmcs_shell\\bmcs_shell\\folding\\geometry\\math_utils.py\", line 42, in get_best_rot_and_trans_3d\n",
      "    U, S, Vt = np.linalg.svd(H)\n",
      "  File \"<__array_function__ internals>\", line 180, in svd\n",
      "  File \"C:\\Users\\hspartali\\Anaconda3\\envs\\bmcs_env\\lib\\site-packages\\numpy\\linalg\\linalg.py\", line 1648, in svd\n",
      "    u, s, vh = gufunc(a, signature=signature, extobj=extobj)\n",
      "  File \"C:\\Users\\hspartali\\Anaconda3\\envs\\bmcs_env\\lib\\site-packages\\numpy\\linalg\\linalg.py\", line 97, in _raise_linalgerror_svd_nonconvergence\n",
      "    raise LinAlgError(\"SVD did not converge\")\n",
      "numpy.linalg.LinAlgError: SVD did not converge\n"
     ]
    },
    {
     "name": "stdout",
     "output_type": "stream",
     "text": [
      "W: nan\n",
      "T_rho: nan\n",
      "T_sigma: nan\n",
      "sol_P2_t_2: nan\n",
      "sol_Q2_u_2: nan\n",
      "Ana. solution: [nan nan]\n"
     ]
    },
    {
     "name": "stderr",
     "output_type": "stream",
     "text": [
      "Exception occurred in traits notification handler for event object: TraitChangeEvent(object=<bmcs_shell.folding.geometry.wb_cell.wb_cell_5p_v2.WBCell5ParamV2 object at 0x000002C713063180>, name='delta_beta', old=0.34, new=0.26)\n",
      "Traceback (most recent call last):\n",
      "  File \"C:\\Users\\hspartali\\Anaconda3\\envs\\bmcs_env\\lib\\site-packages\\traits\\observation\\_trait_event_notifier.py\", line 122, in __call__\n",
      "    self.dispatcher(handler, event)\n",
      "  File \"C:\\Users\\hspartali\\Anaconda3\\envs\\bmcs_env\\lib\\site-packages\\traits\\observation\\observe.py\", line 27, in dispatch_same\n",
      "    handler(event)\n",
      "  File \"c:\\users\\hspartali\\_homam\\programming\\python\\bmcs_shell\\bmcs_shell\\folding\\geometry\\wb_tessellation\\wb_tessellation_5pv2.py\", line 30, in update_after_wb_cell_GEO_changes\n",
      "    self.update_plot(self.pb)\n",
      "  File \"c:\\users\\hspartali\\_homam\\programming\\python\\bmcs_shell\\bmcs_shell\\folding\\geometry\\wb_tessellation\\wb_num_tessellation.py\", line 120, in update_plot\n",
      "    X_Ia, I_Fi  = self.calc_mesh_for_tessellated_cells()\n",
      "  File \"c:\\users\\hspartali\\_homam\\programming\\python\\bmcs_shell\\bmcs_shell\\folding\\geometry\\wb_tessellation\\wb_num_tessellation.py\", line 60, in calc_mesh_for_tessellated_cells\n",
      "    cell_to_add = self._get_bl_X_Ia(base_cell_X_Ia)\n",
      "  File \"c:\\users\\hspartali\\_homam\\programming\\python\\bmcs_shell\\bmcs_shell\\folding\\geometry\\wb_tessellation\\wb_tessellation_base.py\", line 65, in _get_bl_X_Ia\n",
      "    br_X_Ia = self._get_cell_matching_v1_to_v2(X_Ia, np.array([3, 5]), np.array([6, 2]))\n",
      "  File \"c:\\users\\hspartali\\_homam\\programming\\python\\bmcs_shell\\bmcs_shell\\folding\\geometry\\wb_tessellation\\wb_tessellation_base.py\", line 71, in _get_cell_matching_v1_to_v2\n",
      "    rot, trans = get_best_rot_and_trans_3d(v1_2a, v2_2a)\n",
      "  File \"c:\\users\\hspartali\\_homam\\programming\\python\\bmcs_shell\\bmcs_shell\\folding\\geometry\\math_utils.py\", line 42, in get_best_rot_and_trans_3d\n",
      "    U, S, Vt = np.linalg.svd(H)\n",
      "  File \"<__array_function__ internals>\", line 180, in svd\n",
      "  File \"C:\\Users\\hspartali\\Anaconda3\\envs\\bmcs_env\\lib\\site-packages\\numpy\\linalg\\linalg.py\", line 1648, in svd\n",
      "    u, s, vh = gufunc(a, signature=signature, extobj=extobj)\n",
      "  File \"C:\\Users\\hspartali\\Anaconda3\\envs\\bmcs_env\\lib\\site-packages\\numpy\\linalg\\linalg.py\", line 97, in _raise_linalgerror_svd_nonconvergence\n",
      "    raise LinAlgError(\"SVD did not converge\")\n",
      "numpy.linalg.LinAlgError: SVD did not converge\n"
     ]
    },
    {
     "name": "stdout",
     "output_type": "stream",
     "text": [
      "W: nan\n",
      "T_rho: nan\n",
      "T_sigma: nan\n",
      "sol_P2_t_2: nan\n",
      "sol_Q2_u_2: nan\n",
      "Ana. solution: [nan nan]\n",
      "W: 296415081024.4443\n",
      "T_rho: 295522828.2827715\n",
      "T_sigma: 88963279.88734749\n",
      "sol_P2_t_2: 1.0775438404485913\n",
      "sol_Q2_u_2: 0.3778524114221595\n",
      "Ana. solution: [-0.72253813 -1.64541122]\n",
      "W: 350606302420.0058\n",
      "T_rho: 257302839.2522241\n",
      "T_sigma: 137621208.15290236\n",
      "sol_P2_t_2: 1.4059528831630645\n",
      "sol_Q2_u_2: 0.9262565921275044\n",
      "Ana. solution: [-1.49426715 -1.9051046 ]\n",
      "W: 367971948488.7214\n",
      "T_rho: 223768985.40178052\n",
      "T_sigma: 193048722.385423\n",
      "sol_P2_t_2: 1.3337067010395813\n",
      "sol_Q2_u_2: 1.2067784883244745\n",
      "Ana. solution: [-1.75765376 -1.85485921]\n",
      "W: 366534788052.11835\n",
      "T_rho: 184096195.02572823\n",
      "T_sigma: 230670195.7465351\n",
      "sol_P2_t_2: 1.1661501520840327\n",
      "sol_Q2_u_2: 1.3581560056766613\n",
      "Ana. solution: [-1.87225186 -1.72390248]\n",
      "W: 356412371229.13385\n",
      "T_rho: 150301683.8458953\n",
      "T_sigma: 251216968.44846824\n",
      "sol_P2_t_2: 0.9980089816654241\n",
      "sol_Q2_u_2: 1.4069877984190555\n",
      "Ana. solution: [-1.90579961 -1.56880333]\n",
      "W: 338906401947.7635\n",
      "T_rho: 118284627.6627623\n",
      "T_sigma: 265815897.58189914\n",
      "sol_P2_t_2: 0.7994153550290265\n",
      "sol_Q2_u_2: 1.3759102667361995\n",
      "Ana. solution: [-1.88462961 -1.3487687 ]\n",
      "W: 318426939007.09467\n",
      "T_rho: 97216204.81631963\n",
      "T_sigma: 277479432.07962275\n",
      "sol_P2_t_2: 0.5989238556174676\n",
      "sol_Q2_u_2: 1.2646151470816989\n",
      "Ana. solution: [-1.80343684 -1.07925568]\n",
      "W: 300562368786.8779\n",
      "T_rho: 89359155.90710017\n",
      "T_sigma: 291053246.0752042\n",
      "sol_P2_t_2: 0.42195842901848596\n",
      "sol_Q2_u_2: 1.11840161411272\n",
      "Ana. solution: [-1.68246406 -0.79858318]\n",
      "W: 283088394768.99896\n",
      "T_rho: 92316170.34607479\n",
      "T_sigma: 317332210.22469276\n",
      "sol_P2_t_2: 0.21626498593455987\n",
      "sol_Q2_u_2: 0.9214038599882584\n",
      "Ana. solution: [-1.48903075 -0.42596988]\n",
      "W: 272957061852.64832\n",
      "T_rho: 103481401.80409278\n",
      "T_sigma: 355588649.6700387\n",
      "sol_P2_t_2: 0.031599809844400334\n",
      "sol_Q2_u_2: 0.6556499783872902\n",
      "Ana. solution: [-1.16067367 -0.0631786 ]\n",
      "W: 270659323974.86493\n",
      "T_rho: 121525582.27449235\n",
      "T_sigma: 423293873.57414764\n",
      "sol_P2_t_2: -0.18622253005020512\n",
      "sol_Q2_u_2: 0.3561792416291103\n",
      "Ana. solution: [-0.68433814  0.36822716]\n",
      "W: 307051269425.1654\n",
      "T_rho: 141639353.3864076\n",
      "T_sigma: 635144673.2496557\n",
      "sol_P2_t_2: -0.6134244212447391\n",
      "sol_Q2_u_2: -0.07893428912929833\n",
      "Ana. solution: [0.15754193 1.10046393]\n",
      "W: 282207657933.19666\n",
      "T_rho: 137634027.05850205\n",
      "T_sigma: 521959005.3927423\n",
      "sol_P2_t_2: -0.41145407414381235\n",
      "sol_Q2_u_2: 0.109783757212587\n",
      "Ana. solution: [-0.21869173  0.78068283]\n",
      "W: 270659323974.86493\n",
      "T_rho: 121525582.27449235\n",
      "T_sigma: 423293873.57414764\n",
      "sol_P2_t_2: -0.18622253005020512\n",
      "sol_Q2_u_2: 0.3561792416291103\n",
      "Ana. solution: [-0.68433814  0.36822716]\n",
      "W: 272957061852.64832\n",
      "T_rho: 103481401.80409278\n",
      "T_sigma: 355588649.6700387\n",
      "sol_P2_t_2: 0.031599809844400334\n",
      "sol_Q2_u_2: 0.6556499783872902\n",
      "Ana. solution: [-1.16067367 -0.0631786 ]\n",
      "W: 283088394768.99896\n",
      "T_rho: 92316170.34607479\n",
      "T_sigma: 317332210.22469276\n",
      "sol_P2_t_2: 0.21626498593455987\n",
      "sol_Q2_u_2: 0.9214038599882584\n",
      "Ana. solution: [-1.48903075 -0.42596988]\n",
      "W: 300562368786.8779\n",
      "T_rho: 89359155.90710017\n",
      "T_sigma: 291053246.0752042\n",
      "sol_P2_t_2: 0.42195842901848596\n",
      "sol_Q2_u_2: 1.11840161411272\n",
      "Ana. solution: [-1.68246406 -0.79858318]\n",
      "W: 318426939007.09467\n",
      "T_rho: 97216204.81631963\n",
      "T_sigma: 277479432.07962275\n",
      "sol_P2_t_2: 0.5989238556174676\n",
      "sol_Q2_u_2: 1.2646151470816989\n",
      "Ana. solution: [-1.80343684 -1.07925568]\n",
      "W: 338906401947.7635\n",
      "T_rho: 118284627.6627623\n",
      "T_sigma: 265815897.58189914\n",
      "sol_P2_t_2: 0.7994153550290265\n",
      "sol_Q2_u_2: 1.3759102667361995\n",
      "Ana. solution: [-1.88462961 -1.3487687 ]\n",
      "W: 356412371229.13385\n",
      "T_rho: 150301683.8458953\n",
      "T_sigma: 251216968.44846824\n",
      "sol_P2_t_2: 0.9980089816654241\n",
      "sol_Q2_u_2: 1.4069877984190555\n",
      "Ana. solution: [-1.90579961 -1.56880333]\n",
      "W: 366534788052.11835\n",
      "T_rho: 184096195.02572823\n",
      "T_sigma: 230670195.7465351\n",
      "sol_P2_t_2: 1.1661501520840327\n",
      "sol_Q2_u_2: 1.3581560056766613\n",
      "Ana. solution: [-1.87225186 -1.72390248]\n",
      "W: 367971948488.7214\n",
      "T_rho: 223768985.40178052\n",
      "T_sigma: 193048722.385423\n",
      "sol_P2_t_2: 1.3337067010395813\n",
      "sol_Q2_u_2: 1.2067784883244745\n",
      "Ana. solution: [-1.75765376 -1.85485921]\n",
      "W: 350606302420.0058\n",
      "T_rho: 257302839.2522241\n",
      "T_sigma: 137621208.15290236\n",
      "sol_P2_t_2: 1.4059528831630645\n",
      "sol_Q2_u_2: 0.9262565921275044\n",
      "Ana. solution: [-1.49426715 -1.9051046 ]\n",
      "W: 296415081024.4443\n",
      "T_rho: 295522828.2827715\n",
      "T_sigma: 88963279.88734749\n",
      "sol_P2_t_2: 1.0775438404485913\n",
      "sol_Q2_u_2: 0.3778524114221595\n",
      "Ana. solution: [-0.72253813 -1.64541122]\n"
     ]
    },
    {
     "name": "stderr",
     "output_type": "stream",
     "text": [
      "Exception occurred in traits notification handler for event object: TraitChangeEvent(object=<bmcs_shell.folding.geometry.wb_cell.wb_cell_5p_v2.WBCell5ParamV2 object at 0x000002C713063180>, name='delta_beta', old=0.18, new=0.26)\n",
      "Traceback (most recent call last):\n",
      "  File \"C:\\Users\\hspartali\\Anaconda3\\envs\\bmcs_env\\lib\\site-packages\\traits\\observation\\_trait_event_notifier.py\", line 122, in __call__\n",
      "    self.dispatcher(handler, event)\n",
      "  File \"C:\\Users\\hspartali\\Anaconda3\\envs\\bmcs_env\\lib\\site-packages\\traits\\observation\\observe.py\", line 27, in dispatch_same\n",
      "    handler(event)\n",
      "  File \"c:\\users\\hspartali\\_homam\\programming\\python\\bmcs_shell\\bmcs_shell\\folding\\geometry\\wb_tessellation\\wb_tessellation_5pv2.py\", line 30, in update_after_wb_cell_GEO_changes\n",
      "    self.update_plot(self.pb)\n",
      "  File \"c:\\users\\hspartali\\_homam\\programming\\python\\bmcs_shell\\bmcs_shell\\folding\\geometry\\wb_tessellation\\wb_num_tessellation.py\", line 120, in update_plot\n",
      "    X_Ia, I_Fi  = self.calc_mesh_for_tessellated_cells()\n",
      "  File \"c:\\users\\hspartali\\_homam\\programming\\python\\bmcs_shell\\bmcs_shell\\folding\\geometry\\wb_tessellation\\wb_num_tessellation.py\", line 60, in calc_mesh_for_tessellated_cells\n",
      "    cell_to_add = self._get_bl_X_Ia(base_cell_X_Ia)\n",
      "  File \"c:\\users\\hspartali\\_homam\\programming\\python\\bmcs_shell\\bmcs_shell\\folding\\geometry\\wb_tessellation\\wb_tessellation_base.py\", line 65, in _get_bl_X_Ia\n",
      "    br_X_Ia = self._get_cell_matching_v1_to_v2(X_Ia, np.array([3, 5]), np.array([6, 2]))\n",
      "  File \"c:\\users\\hspartali\\_homam\\programming\\python\\bmcs_shell\\bmcs_shell\\folding\\geometry\\wb_tessellation\\wb_tessellation_base.py\", line 71, in _get_cell_matching_v1_to_v2\n",
      "    rot, trans = get_best_rot_and_trans_3d(v1_2a, v2_2a)\n",
      "  File \"c:\\users\\hspartali\\_homam\\programming\\python\\bmcs_shell\\bmcs_shell\\folding\\geometry\\math_utils.py\", line 42, in get_best_rot_and_trans_3d\n",
      "    U, S, Vt = np.linalg.svd(H)\n",
      "  File \"<__array_function__ internals>\", line 180, in svd\n",
      "  File \"C:\\Users\\hspartali\\Anaconda3\\envs\\bmcs_env\\lib\\site-packages\\numpy\\linalg\\linalg.py\", line 1648, in svd\n",
      "    u, s, vh = gufunc(a, signature=signature, extobj=extobj)\n",
      "  File \"C:\\Users\\hspartali\\Anaconda3\\envs\\bmcs_env\\lib\\site-packages\\numpy\\linalg\\linalg.py\", line 97, in _raise_linalgerror_svd_nonconvergence\n",
      "    raise LinAlgError(\"SVD did not converge\")\n",
      "numpy.linalg.LinAlgError: SVD did not converge\n"
     ]
    },
    {
     "name": "stdout",
     "output_type": "stream",
     "text": [
      "W: nan\n",
      "T_rho: nan\n",
      "T_sigma: nan\n",
      "sol_P2_t_2: nan\n",
      "sol_Q2_u_2: nan\n",
      "Ana. solution: [nan nan]\n"
     ]
    },
    {
     "name": "stderr",
     "output_type": "stream",
     "text": [
      "Exception occurred in traits notification handler for event object: TraitChangeEvent(object=<bmcs_shell.folding.geometry.wb_cell.wb_cell_5p_v2.WBCell5ParamV2 object at 0x000002C713063180>, name='delta_beta', old=0.26, new=0.34)\n",
      "Traceback (most recent call last):\n",
      "  File \"C:\\Users\\hspartali\\Anaconda3\\envs\\bmcs_env\\lib\\site-packages\\traits\\observation\\_trait_event_notifier.py\", line 122, in __call__\n",
      "    self.dispatcher(handler, event)\n",
      "  File \"C:\\Users\\hspartali\\Anaconda3\\envs\\bmcs_env\\lib\\site-packages\\traits\\observation\\observe.py\", line 27, in dispatch_same\n",
      "    handler(event)\n",
      "  File \"c:\\users\\hspartali\\_homam\\programming\\python\\bmcs_shell\\bmcs_shell\\folding\\geometry\\wb_tessellation\\wb_tessellation_5pv2.py\", line 30, in update_after_wb_cell_GEO_changes\n",
      "    self.update_plot(self.pb)\n",
      "  File \"c:\\users\\hspartali\\_homam\\programming\\python\\bmcs_shell\\bmcs_shell\\folding\\geometry\\wb_tessellation\\wb_num_tessellation.py\", line 120, in update_plot\n",
      "    X_Ia, I_Fi  = self.calc_mesh_for_tessellated_cells()\n",
      "  File \"c:\\users\\hspartali\\_homam\\programming\\python\\bmcs_shell\\bmcs_shell\\folding\\geometry\\wb_tessellation\\wb_num_tessellation.py\", line 60, in calc_mesh_for_tessellated_cells\n",
      "    cell_to_add = self._get_bl_X_Ia(base_cell_X_Ia)\n",
      "  File \"c:\\users\\hspartali\\_homam\\programming\\python\\bmcs_shell\\bmcs_shell\\folding\\geometry\\wb_tessellation\\wb_tessellation_base.py\", line 65, in _get_bl_X_Ia\n",
      "    br_X_Ia = self._get_cell_matching_v1_to_v2(X_Ia, np.array([3, 5]), np.array([6, 2]))\n",
      "  File \"c:\\users\\hspartali\\_homam\\programming\\python\\bmcs_shell\\bmcs_shell\\folding\\geometry\\wb_tessellation\\wb_tessellation_base.py\", line 71, in _get_cell_matching_v1_to_v2\n",
      "    rot, trans = get_best_rot_and_trans_3d(v1_2a, v2_2a)\n",
      "  File \"c:\\users\\hspartali\\_homam\\programming\\python\\bmcs_shell\\bmcs_shell\\folding\\geometry\\math_utils.py\", line 42, in get_best_rot_and_trans_3d\n",
      "    U, S, Vt = np.linalg.svd(H)\n",
      "  File \"<__array_function__ internals>\", line 180, in svd\n",
      "  File \"C:\\Users\\hspartali\\Anaconda3\\envs\\bmcs_env\\lib\\site-packages\\numpy\\linalg\\linalg.py\", line 1648, in svd\n",
      "    u, s, vh = gufunc(a, signature=signature, extobj=extobj)\n",
      "  File \"C:\\Users\\hspartali\\Anaconda3\\envs\\bmcs_env\\lib\\site-packages\\numpy\\linalg\\linalg.py\", line 97, in _raise_linalgerror_svd_nonconvergence\n",
      "    raise LinAlgError(\"SVD did not converge\")\n",
      "numpy.linalg.LinAlgError: SVD did not converge\n"
     ]
    },
    {
     "name": "stdout",
     "output_type": "stream",
     "text": [
      "W: nan\n",
      "T_rho: nan\n",
      "T_sigma: nan\n",
      "sol_P2_t_2: nan\n",
      "sol_Q2_u_2: nan\n",
      "Ana. solution: [nan nan]\n",
      "W: 296415081024.4443\n",
      "T_rho: 295522828.2827715\n",
      "T_sigma: 88963279.88734749\n",
      "sol_P2_t_2: 1.0775438404485913\n",
      "sol_Q2_u_2: 0.3778524114221595\n",
      "Ana. solution: [-0.72253813 -1.64541122]\n",
      "W: 350606302420.0058\n",
      "T_rho: 257302839.2522241\n",
      "T_sigma: 137621208.15290236\n",
      "sol_P2_t_2: 1.4059528831630645\n",
      "sol_Q2_u_2: 0.9262565921275044\n",
      "Ana. solution: [-1.49426715 -1.9051046 ]\n",
      "W: 367971948488.7214\n",
      "T_rho: 223768985.40178052\n",
      "T_sigma: 193048722.385423\n",
      "sol_P2_t_2: 1.3337067010395813\n",
      "sol_Q2_u_2: 1.2067784883244745\n",
      "Ana. solution: [-1.75765376 -1.85485921]\n",
      "W: 366534788052.11835\n",
      "T_rho: 184096195.02572823\n",
      "T_sigma: 230670195.7465351\n",
      "sol_P2_t_2: 1.1661501520840327\n",
      "sol_Q2_u_2: 1.3581560056766613\n",
      "Ana. solution: [-1.87225186 -1.72390248]\n",
      "W: 356412371229.13385\n",
      "T_rho: 150301683.8458953\n",
      "T_sigma: 251216968.44846824\n",
      "sol_P2_t_2: 0.9980089816654241\n",
      "sol_Q2_u_2: 1.4069877984190555\n",
      "Ana. solution: [-1.90579961 -1.56880333]\n",
      "W: 338906401947.7635\n",
      "T_rho: 118284627.6627623\n",
      "T_sigma: 265815897.58189914\n",
      "sol_P2_t_2: 0.7994153550290265\n",
      "sol_Q2_u_2: 1.3759102667361995\n",
      "Ana. solution: [-1.88462961 -1.3487687 ]\n",
      "W: 318426939007.09467\n",
      "T_rho: 97216204.81631963\n",
      "T_sigma: 277479432.07962275\n",
      "sol_P2_t_2: 0.5989238556174676\n",
      "sol_Q2_u_2: 1.2646151470816989\n",
      "Ana. solution: [-1.80343684 -1.07925568]\n",
      "W: 338906401947.7635\n",
      "T_rho: 118284627.6627623\n",
      "T_sigma: 265815897.58189914\n",
      "sol_P2_t_2: 0.7994153550290265\n",
      "sol_Q2_u_2: 1.3759102667361995\n",
      "Ana. solution: [-1.88462961 -1.3487687 ]\n",
      "W: 366534788052.11835\n",
      "T_rho: 184096195.02572823\n",
      "T_sigma: 230670195.7465351\n",
      "sol_P2_t_2: 1.1661501520840327\n",
      "sol_Q2_u_2: 1.3581560056766613\n",
      "Ana. solution: [-1.87225186 -1.72390248]\n",
      "W: 367971948488.7214\n",
      "T_rho: 223768985.40178052\n",
      "T_sigma: 193048722.385423\n",
      "sol_P2_t_2: 1.3337067010395813\n",
      "sol_Q2_u_2: 1.2067784883244745\n",
      "Ana. solution: [-1.75765376 -1.85485921]\n",
      "W: 350606302420.0058\n",
      "T_rho: 257302839.2522241\n",
      "T_sigma: 137621208.15290236\n",
      "sol_P2_t_2: 1.4059528831630645\n",
      "sol_Q2_u_2: 0.9262565921275044\n",
      "Ana. solution: [-1.49426715 -1.9051046 ]\n",
      "W: 296415081024.4443\n",
      "T_rho: 295522828.2827715\n",
      "T_sigma: 88963279.88734749\n",
      "sol_P2_t_2: 1.0775438404485913\n",
      "sol_Q2_u_2: 0.3778524114221595\n",
      "Ana. solution: [-0.72253813 -1.64541122]\n"
     ]
    },
    {
     "name": "stderr",
     "output_type": "stream",
     "text": [
      "Exception occurred in traits notification handler for event object: TraitChangeEvent(object=<bmcs_shell.folding.geometry.wb_cell.wb_cell_5p_v2.WBCell5ParamV2 object at 0x000002C713063180>, name='delta_beta', old=0.18, new=0.26)\n",
      "Traceback (most recent call last):\n",
      "  File \"C:\\Users\\hspartali\\Anaconda3\\envs\\bmcs_env\\lib\\site-packages\\traits\\observation\\_trait_event_notifier.py\", line 122, in __call__\n",
      "    self.dispatcher(handler, event)\n",
      "  File \"C:\\Users\\hspartali\\Anaconda3\\envs\\bmcs_env\\lib\\site-packages\\traits\\observation\\observe.py\", line 27, in dispatch_same\n",
      "    handler(event)\n",
      "  File \"c:\\users\\hspartali\\_homam\\programming\\python\\bmcs_shell\\bmcs_shell\\folding\\geometry\\wb_tessellation\\wb_tessellation_5pv2.py\", line 30, in update_after_wb_cell_GEO_changes\n",
      "    self.update_plot(self.pb)\n",
      "  File \"c:\\users\\hspartali\\_homam\\programming\\python\\bmcs_shell\\bmcs_shell\\folding\\geometry\\wb_tessellation\\wb_num_tessellation.py\", line 120, in update_plot\n",
      "    X_Ia, I_Fi  = self.calc_mesh_for_tessellated_cells()\n",
      "  File \"c:\\users\\hspartali\\_homam\\programming\\python\\bmcs_shell\\bmcs_shell\\folding\\geometry\\wb_tessellation\\wb_num_tessellation.py\", line 60, in calc_mesh_for_tessellated_cells\n",
      "    cell_to_add = self._get_bl_X_Ia(base_cell_X_Ia)\n",
      "  File \"c:\\users\\hspartali\\_homam\\programming\\python\\bmcs_shell\\bmcs_shell\\folding\\geometry\\wb_tessellation\\wb_tessellation_base.py\", line 65, in _get_bl_X_Ia\n",
      "    br_X_Ia = self._get_cell_matching_v1_to_v2(X_Ia, np.array([3, 5]), np.array([6, 2]))\n",
      "  File \"c:\\users\\hspartali\\_homam\\programming\\python\\bmcs_shell\\bmcs_shell\\folding\\geometry\\wb_tessellation\\wb_tessellation_base.py\", line 71, in _get_cell_matching_v1_to_v2\n",
      "    rot, trans = get_best_rot_and_trans_3d(v1_2a, v2_2a)\n",
      "  File \"c:\\users\\hspartali\\_homam\\programming\\python\\bmcs_shell\\bmcs_shell\\folding\\geometry\\math_utils.py\", line 42, in get_best_rot_and_trans_3d\n",
      "    U, S, Vt = np.linalg.svd(H)\n",
      "  File \"<__array_function__ internals>\", line 180, in svd\n",
      "  File \"C:\\Users\\hspartali\\Anaconda3\\envs\\bmcs_env\\lib\\site-packages\\numpy\\linalg\\linalg.py\", line 1648, in svd\n",
      "    u, s, vh = gufunc(a, signature=signature, extobj=extobj)\n",
      "  File \"C:\\Users\\hspartali\\Anaconda3\\envs\\bmcs_env\\lib\\site-packages\\numpy\\linalg\\linalg.py\", line 97, in _raise_linalgerror_svd_nonconvergence\n",
      "    raise LinAlgError(\"SVD did not converge\")\n",
      "numpy.linalg.LinAlgError: SVD did not converge\n"
     ]
    },
    {
     "name": "stdout",
     "output_type": "stream",
     "text": [
      "W: nan\n",
      "T_rho: nan\n",
      "T_sigma: nan\n",
      "sol_P2_t_2: nan\n",
      "sol_Q2_u_2: nan\n",
      "Ana. solution: [nan nan]\n",
      "W: 296415081024.4443\n",
      "T_rho: 295522828.2827715\n",
      "T_sigma: 88963279.88734749\n",
      "sol_P2_t_2: 1.0775438404485913\n",
      "sol_Q2_u_2: 0.3778524114221595\n",
      "Ana. solution: [-0.72253813 -1.64541122]\n",
      "W: 350606302420.0058\n",
      "T_rho: 257302839.2522241\n",
      "T_sigma: 137621208.15290236\n",
      "sol_P2_t_2: 1.4059528831630645\n",
      "sol_Q2_u_2: 0.9262565921275044\n",
      "Ana. solution: [-1.49426715 -1.9051046 ]\n",
      "W: 367971948488.7214\n",
      "T_rho: 223768985.40178052\n",
      "T_sigma: 193048722.385423\n",
      "sol_P2_t_2: 1.3337067010395813\n",
      "sol_Q2_u_2: 1.2067784883244745\n",
      "Ana. solution: [-1.75765376 -1.85485921]\n",
      "W: 366534788052.11835\n",
      "T_rho: 184096195.02572823\n",
      "T_sigma: 230670195.7465351\n",
      "sol_P2_t_2: 1.1661501520840327\n",
      "sol_Q2_u_2: 1.3581560056766613\n",
      "Ana. solution: [-1.87225186 -1.72390248]\n",
      "W: 356412371229.13385\n",
      "T_rho: 150301683.8458953\n",
      "T_sigma: 251216968.44846824\n",
      "sol_P2_t_2: 0.9980089816654241\n",
      "sol_Q2_u_2: 1.4069877984190555\n",
      "Ana. solution: [-1.90579961 -1.56880333]\n",
      "W: 338906401947.7635\n",
      "T_rho: 118284627.6627623\n",
      "T_sigma: 265815897.58189914\n",
      "sol_P2_t_2: 0.7994153550290265\n",
      "sol_Q2_u_2: 1.3759102667361995\n",
      "Ana. solution: [-1.88462961 -1.3487687 ]\n",
      "W: 318426939007.09467\n",
      "T_rho: 97216204.81631963\n",
      "T_sigma: 277479432.07962275\n",
      "sol_P2_t_2: 0.5989238556174676\n",
      "sol_Q2_u_2: 1.2646151470816989\n",
      "Ana. solution: [-1.80343684 -1.07925568]\n",
      "W: 338906401947.7635\n",
      "T_rho: 118284627.6627623\n",
      "T_sigma: 265815897.58189914\n",
      "sol_P2_t_2: 0.7994153550290265\n",
      "sol_Q2_u_2: 1.3759102667361995\n",
      "Ana. solution: [-1.88462961 -1.3487687 ]\n",
      "W: 356412371229.13385\n",
      "T_rho: 150301683.8458953\n",
      "T_sigma: 251216968.44846824\n",
      "sol_P2_t_2: 0.9980089816654241\n",
      "sol_Q2_u_2: 1.4069877984190555\n",
      "Ana. solution: [-1.90579961 -1.56880333]\n",
      "W: 366534788052.11835\n",
      "T_rho: 184096195.02572823\n",
      "T_sigma: 230670195.7465351\n",
      "sol_P2_t_2: 1.1661501520840327\n",
      "sol_Q2_u_2: 1.3581560056766613\n",
      "Ana. solution: [-1.87225186 -1.72390248]\n",
      "W: 367971948488.7214\n",
      "T_rho: 223768985.40178052\n",
      "T_sigma: 193048722.385423\n",
      "sol_P2_t_2: 1.3337067010395813\n",
      "sol_Q2_u_2: 1.2067784883244745\n",
      "Ana. solution: [-1.75765376 -1.85485921]\n",
      "W: 350606302420.0058\n",
      "T_rho: 257302839.2522241\n",
      "T_sigma: 137621208.15290236\n",
      "sol_P2_t_2: 1.4059528831630645\n",
      "sol_Q2_u_2: 0.9262565921275044\n",
      "Ana. solution: [-1.49426715 -1.9051046 ]\n",
      "W: 296415081024.4443\n",
      "T_rho: 295522828.2827715\n",
      "T_sigma: 88963279.88734749\n",
      "sol_P2_t_2: 1.0775438404485913\n",
      "sol_Q2_u_2: 0.3778524114221595\n",
      "Ana. solution: [-0.72253813 -1.64541122]\n"
     ]
    },
    {
     "name": "stderr",
     "output_type": "stream",
     "text": [
      "Exception occurred in traits notification handler for event object: TraitChangeEvent(object=<bmcs_shell.folding.geometry.wb_cell.wb_cell_5p_v2.WBCell5ParamV2 object at 0x000002C713063180>, name='delta_beta', old=0.18, new=0.26)\n",
      "Traceback (most recent call last):\n",
      "  File \"C:\\Users\\hspartali\\Anaconda3\\envs\\bmcs_env\\lib\\site-packages\\traits\\observation\\_trait_event_notifier.py\", line 122, in __call__\n",
      "    self.dispatcher(handler, event)\n",
      "  File \"C:\\Users\\hspartali\\Anaconda3\\envs\\bmcs_env\\lib\\site-packages\\traits\\observation\\observe.py\", line 27, in dispatch_same\n",
      "    handler(event)\n",
      "  File \"c:\\users\\hspartali\\_homam\\programming\\python\\bmcs_shell\\bmcs_shell\\folding\\geometry\\wb_tessellation\\wb_tessellation_5pv2.py\", line 30, in update_after_wb_cell_GEO_changes\n",
      "    self.update_plot(self.pb)\n",
      "  File \"c:\\users\\hspartali\\_homam\\programming\\python\\bmcs_shell\\bmcs_shell\\folding\\geometry\\wb_tessellation\\wb_num_tessellation.py\", line 120, in update_plot\n",
      "    X_Ia, I_Fi  = self.calc_mesh_for_tessellated_cells()\n",
      "  File \"c:\\users\\hspartali\\_homam\\programming\\python\\bmcs_shell\\bmcs_shell\\folding\\geometry\\wb_tessellation\\wb_num_tessellation.py\", line 60, in calc_mesh_for_tessellated_cells\n",
      "    cell_to_add = self._get_bl_X_Ia(base_cell_X_Ia)\n",
      "  File \"c:\\users\\hspartali\\_homam\\programming\\python\\bmcs_shell\\bmcs_shell\\folding\\geometry\\wb_tessellation\\wb_tessellation_base.py\", line 65, in _get_bl_X_Ia\n",
      "    br_X_Ia = self._get_cell_matching_v1_to_v2(X_Ia, np.array([3, 5]), np.array([6, 2]))\n",
      "  File \"c:\\users\\hspartali\\_homam\\programming\\python\\bmcs_shell\\bmcs_shell\\folding\\geometry\\wb_tessellation\\wb_tessellation_base.py\", line 71, in _get_cell_matching_v1_to_v2\n",
      "    rot, trans = get_best_rot_and_trans_3d(v1_2a, v2_2a)\n",
      "  File \"c:\\users\\hspartali\\_homam\\programming\\python\\bmcs_shell\\bmcs_shell\\folding\\geometry\\math_utils.py\", line 42, in get_best_rot_and_trans_3d\n",
      "    U, S, Vt = np.linalg.svd(H)\n",
      "  File \"<__array_function__ internals>\", line 180, in svd\n",
      "  File \"C:\\Users\\hspartali\\Anaconda3\\envs\\bmcs_env\\lib\\site-packages\\numpy\\linalg\\linalg.py\", line 1648, in svd\n",
      "    u, s, vh = gufunc(a, signature=signature, extobj=extobj)\n",
      "  File \"C:\\Users\\hspartali\\Anaconda3\\envs\\bmcs_env\\lib\\site-packages\\numpy\\linalg\\linalg.py\", line 97, in _raise_linalgerror_svd_nonconvergence\n",
      "    raise LinAlgError(\"SVD did not converge\")\n",
      "numpy.linalg.LinAlgError: SVD did not converge\n"
     ]
    },
    {
     "name": "stdout",
     "output_type": "stream",
     "text": [
      "W: nan\n",
      "T_rho: nan\n",
      "T_sigma: nan\n",
      "sol_P2_t_2: nan\n",
      "sol_Q2_u_2: nan\n",
      "Ana. solution: [nan nan]\n"
     ]
    }
   ],
   "source": [
    "wbttpv2 = WBTessellation5PV2(wb_cell=WBCell5ParamV2(gamma = 0.9, beta_1= 0), sol_num=4)\n",
    "wbttpv2.interact()"
   ]
  },
  {
   "cell_type": "markdown",
   "metadata": {},
   "source": [
    "## Analytical tessellation (modified 4P cell)"
   ]
  },
  {
   "cell_type": "code",
   "execution_count": 3,
   "metadata": {},
   "outputs": [
    {
     "data": {
      "application/vnd.jupyter.widget-view+json": {
       "model_id": "89cc9f4b1c7647d989622e7bb93e67f5",
       "version_major": 2,
       "version_minor": 0
      },
      "text/plain": [
       "VBox(children=(HBox(children=(VBox(children=(Tree(layout=Layout(align_items='stretch', border='solid 1px black…"
      ]
     },
     "metadata": {},
     "output_type": "display_data"
    }
   ],
   "source": [
    "WBTessellation4PV2().interact()"
   ]
  },
  {
   "cell_type": "markdown",
   "metadata": {},
   "source": [
    "## Analytical flat tessellation generator (4P cell)"
   ]
  },
  {
   "cell_type": "code",
   "execution_count": 4,
   "metadata": {
    "scrolled": false
   },
   "outputs": [
    {
     "data": {
      "application/vnd.jupyter.widget-view+json": {
       "model_id": "36c3c2ffa17443449f020ce6e56d23b9",
       "version_major": 2,
       "version_minor": 0
      },
      "text/plain": [
       "VBox(children=(HBox(children=(VBox(children=(Tree(layout=Layout(align_items='stretch', border='solid 1px black…"
      ]
     },
     "metadata": {},
     "output_type": "display_data"
    }
   ],
   "source": [
    "WBTessellation4PFlat(gamma = 0.4).interact()"
   ]
  },
  {
   "cell_type": "markdown",
   "metadata": {},
   "source": [
    "## Analytical flat tessellation generator (modified 4P cell)"
   ]
  },
  {
   "cell_type": "code",
   "execution_count": 5,
   "metadata": {
    "scrolled": false
   },
   "outputs": [
    {
     "data": {
      "application/vnd.jupyter.widget-view+json": {
       "model_id": "5070ad7bd80b4053bc940846a59f5590",
       "version_major": 2,
       "version_minor": 0
      },
      "text/plain": [
       "VBox(children=(HBox(children=(VBox(children=(Tree(layout=Layout(align_items='stretch', border='solid 1px black…"
      ]
     },
     "metadata": {},
     "output_type": "display_data"
    }
   ],
   "source": [
    "WBTessellation4PV2Flat(gamma = 0.4).interact()"
   ]
  }
 ],
 "metadata": {
  "kernelspec": {
   "display_name": "Python 3 (ipykernel)",
   "language": "python",
   "name": "python3"
  },
  "language_info": {
   "codemirror_mode": {
    "name": "ipython",
    "version": 3
   },
   "file_extension": ".py",
   "mimetype": "text/x-python",
   "name": "python",
   "nbconvert_exporter": "python",
   "pygments_lexer": "ipython3",
   "version": "3.9.12"
  },
  "toc": {
   "base_numbering": 1,
   "nav_menu": {},
   "number_sections": true,
   "sideBar": true,
   "skip_h1_title": true,
   "title_cell": "Table of Contents",
   "title_sidebar": "Contents",
   "toc_cell": false,
   "toc_position": {},
   "toc_section_display": true,
   "toc_window_display": false
  }
 },
 "nbformat": 4,
 "nbformat_minor": 4
}
