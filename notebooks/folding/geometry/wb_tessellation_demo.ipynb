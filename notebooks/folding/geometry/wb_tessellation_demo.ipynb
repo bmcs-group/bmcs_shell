{
 "cells": [
  {
   "cell_type": "markdown",
   "metadata": {
    "pycharm": {
     "name": "#%% md\n"
    }
   },
   "source": [
    "# Waterbomb tessellation demo"
   ]
  },
  {
   "cell_type": "code",
   "execution_count": null,
   "metadata": {
    "pycharm": {
     "name": "#%%\n"
    }
   },
   "outputs": [],
   "source": [
    "%matplotlib widget\n",
    "from bmcs_shell.api import *\n",
    "import numpy as np"
   ]
  },
  {
   "cell_type": "code",
   "execution_count": null,
   "metadata": {},
   "outputs": [],
   "source": [
    "def change_camera(wb):\n",
    "    k3d_plot = wb.pb.plot_fig\n",
    "    k3d_plot.screenshot_scale = 5.5\n",
    "    k3d_plot.grid_visible = False\n",
    "    k3d_plot.camera_fov =1"
   ]
  },
  {
   "cell_type": "markdown",
   "metadata": {
    "pycharm": {
     "name": "#%% md\n"
    }
   },
   "source": [
    "# Analytical tessellations"
   ]
  },
  {
   "cell_type": "markdown",
   "metadata": {
    "pycharm": {
     "name": "#%% md\n"
    }
   },
   "source": [
    "## Symmetric 4P waterbomb cell"
   ]
  },
  {
   "cell_type": "code",
   "execution_count": null,
   "metadata": {
    "pycharm": {
     "name": "#%%\n"
    }
   },
   "outputs": [],
   "source": [
    "wbt4p = WBTessellation4P()\n",
    "wbt4p.interact()"
   ]
  },
  {
   "cell_type": "markdown",
   "metadata": {
    "pycharm": {
     "name": "#%% md\n"
    }
   },
   "source": [
    "## Symmetric 4P waterbomb cell + straight sides"
   ]
  },
  {
   "cell_type": "code",
   "execution_count": null,
   "metadata": {},
   "outputs": [],
   "source": [
    "wbs.export_obj_file()"
   ]
  },
  {
   "cell_type": "code",
   "execution_count": null,
   "metadata": {
    "pycharm": {
     "name": "#%%\n"
    }
   },
   "outputs": [],
   "source": [
    "wbs = WBTessellation4PSS()\n",
    "wbs.interact()\n",
    "k3d_plot = wbs.pb.plot_fig\n",
    "k3d_plot.screenshot_scale = 5\n",
    "k3d_plot.grid_visible = False"
   ]
  },
  {
   "cell_type": "code",
   "execution_count": null,
   "metadata": {},
   "outputs": [],
   "source": [
    "fig, _ = wbs.plot_folding_pattern()\n",
    "fig.savefig('3_.svg')"
   ]
  },
  {
   "cell_type": "markdown",
   "metadata": {
    "pycharm": {
     "name": "#%% md\n"
    }
   },
   "source": [
    "## Symmetric 4P waterbomb cell + extension $e_x$"
   ]
  },
  {
   "cell_type": "code",
   "execution_count": null,
   "metadata": {
    "pycharm": {
     "name": "#%%\n"
    }
   },
   "outputs": [],
   "source": [
    "WBTessellation4PEx().interact()"
   ]
  },
  {
   "cell_type": "markdown",
   "metadata": {
    "pycharm": {
     "name": "#%% md\n"
    }
   },
   "source": [
    "## Symmetric 4P waterbomb cell (flat)"
   ]
  },
  {
   "cell_type": "code",
   "execution_count": null,
   "metadata": {
    "pycharm": {
     "name": "#%%\n"
    }
   },
   "outputs": [],
   "source": [
    "wbs = WBTessellation4PFlat(gamma = 0.4)\n",
    "wbs.interact()"
   ]
  },
  {
   "cell_type": "markdown",
   "metadata": {
    "pycharm": {
     "name": "#%% md\n"
    }
   },
   "source": [
    "## Symmetric 4P waterbomb cell (flat) + extension $e_x$"
   ]
  },
  {
   "cell_type": "code",
   "execution_count": null,
   "metadata": {},
   "outputs": [],
   "source": [
    "k3d_plot.camera"
   ]
  },
  {
   "cell_type": "code",
   "execution_count": null,
   "metadata": {},
   "outputs": [],
   "source": [
    "wbs.export_obj_file()"
   ]
  },
  {
   "cell_type": "code",
   "execution_count": null,
   "metadata": {
    "pycharm": {
     "name": "#%%\n"
    }
   },
   "outputs": [],
   "source": [
    "wbs  = WBTessellation4PExFlat(gamma = np.pi/4, show_wireframe=False)\n",
    "wbs.interact()\n",
    "k3d_plot = wbs.pb.plot_fig\n",
    "k3d_plot.screenshot_scale = 5\n",
    "k3d_plot.grid_visible = False\n",
    "k3d_plot.camera = [9594.55843356131,\n",
    " -8165.965776400726,\n",
    " 4675.869065413833,\n",
    " 0,\n",
    " 0,\n",
    " 133.67554264947373,\n",
    " 0.,\n",
    " 0.,\n",
    " 1]\n",
    "\n",
    "# [23595.924271296055,\n",
    "#  0,\n",
    "#  8352.536608764833,\n",
    "#  0,\n",
    "#  0,\n",
    "#  200,\n",
    "#  0,\n",
    "#  0,\n",
    "#  1]"
   ]
  },
  {
   "cell_type": "markdown",
   "metadata": {
    "pycharm": {
     "name": "#%% md\n"
    }
   },
   "source": [
    "## Symmetric 4P waterbomb cell with straight edges (SS)"
   ]
  },
  {
   "cell_type": "code",
   "execution_count": null,
   "metadata": {
    "pycharm": {
     "name": "#%%\n"
    }
   },
   "outputs": [],
   "source": [
    "wbs  = WBTessellation4PSS(a = 500, gamma = 1.3)\n",
    "wbs.interact()"
   ]
  },
  {
   "cell_type": "markdown",
   "metadata": {
    "pycharm": {
     "name": "#%% md\n"
    }
   },
   "source": [
    "## Semi-symmetric 5P cell (beta)"
   ]
  },
  {
   "cell_type": "code",
   "execution_count": null,
   "metadata": {},
   "outputs": [],
   "source": [
    "k3d_plot = wbttpv2.pb.plot_fig\n",
    "k3d_plot.screenshot_scale = 5.5"
   ]
  },
  {
   "cell_type": "code",
   "execution_count": null,
   "metadata": {
    "pycharm": {
     "name": "#%%\n"
    }
   },
   "outputs": [],
   "source": [
    "wbttpv2 = WBTessellation5PBeta(wb_cell_=WBCell5ParamBeta(gamma = 0.9, beta_1= 0), sol_num=4)\n",
    "wbttpv2.interact()"
   ]
  },
  {
   "cell_type": "code",
   "execution_count": null,
   "metadata": {},
   "outputs": [],
   "source": [
    "# Quick fix to activate interactivity \n",
    "wbttpv2.wb_cell_.callback_fun = wbttpv2.update_plot_"
   ]
  },
  {
   "cell_type": "markdown",
   "metadata": {
    "pycharm": {
     "name": "#%% md\n"
    }
   },
   "source": [
    "# Numerical tessellations"
   ]
  },
  {
   "cell_type": "markdown",
   "metadata": {},
   "source": [
    "## General numerical tessellations"
   ]
  },
  {
   "cell_type": "code",
   "execution_count": null,
   "metadata": {
    "pycharm": {
     "name": "#%%\n"
    }
   },
   "outputs": [],
   "source": [
    "wb_num_t = WBNumTessellation()\n",
    "wb_num_t.interact()"
   ]
  },
  {
   "cell_type": "code",
   "execution_count": null,
   "metadata": {},
   "outputs": [],
   "source": [
    "# Quick fix to activate interactivity \n",
    "wb_num_t.wb_cell_.callback_fun = wb_num_t.update_plot_"
   ]
  },
  {
   "cell_type": "markdown",
   "metadata": {
    "pycharm": {
     "name": "#%% md\n"
    }
   },
   "source": [
    "## Class for investigating 3 identical cells tessellation manually"
   ]
  },
  {
   "cell_type": "code",
   "execution_count": null,
   "metadata": {
    "pycharm": {
     "name": "#%%\n"
    }
   },
   "outputs": [],
   "source": [
    "wb_num_t_invest = WBNumTessellationInvest()\n",
    "wb_num_t_invest.interact()"
   ]
  },
  {
   "cell_type": "code",
   "execution_count": null,
   "metadata": {
    "pycharm": {
     "name": "#%%\n"
    }
   },
   "outputs": [],
   "source": [
    "# Quick fix to activate interactivity \n",
    "wb_num_t_invest.wb_cell_.callback_fun = wb_num_t_invest.update_plot_"
   ]
  },
  {
   "cell_type": "markdown",
   "metadata": {
    "pycharm": {
     "name": "#%% md\n"
    }
   },
   "source": [
    "## Numerical tessellation with a list of different wb cells along x axis (gradual tessellation)"
   ]
  },
  {
   "cell_type": "code",
   "execution_count": null,
   "metadata": {
    "pycharm": {
     "name": "#%%\n"
    }
   },
   "outputs": [],
   "source": [
    "cells_n = 10\n",
    "start_gamma = 1\n",
    "end_gamma = 1.15\n",
    "gamma_r_list = np.linspace(start_gamma, end_gamma, cells_n)\n",
    "gamma_l_list = np.linspace(start_gamma, end_gamma, cells_n)\n",
    "gamma_l_list = np.roll(gamma_l_list, 1)\n",
    "gamma_l_list[0] = start_gamma\n",
    "grad_wb_cells = [WBCell5P2Gammas(gamma_l=g_l, gamma_r = g_r) for g_l, g_r in zip(gamma_l_list, gamma_r_list)]\n",
    "\n",
    "wbt = WBNumTessellationGrad(\n",
    "    debug = False, \n",
    "    minimize_for_upper_cell_too=True,\n",
    "    n_y=6,\n",
    "#     wb_cells = grad_wb_cells\n",
    "    wb_cells = [\n",
    "        WBCell4Param(gamma = 1.2),\n",
    "        WBCell4Param(gamma = 1.0),\n",
    "        \n",
    "        # Following three cells produce a gradual tess but we need different bs in the right cells to make it work!!\n",
    "#         WBCell5P2Gammas(gamma_l = 1.2, gamma_r=1.0),\n",
    "#         WBCell5P2Gammas(gamma_l = 1.0, gamma_r=1.2),\n",
    "#         WBCell5P2Gammas(gamma_l=0.88, gamma_r = 1.45),\n",
    "        \n",
    "#         WBCell5P2Gammas(gamma_l = 1.0, gamma_r=1.2),\n",
    "#         WBCell5P2Gammas(gamma_l=1.2, gamma_r = 1.0),\n",
    "]\n",
    ")\n",
    "\n",
    "\n",
    "wbt.interact()"
   ]
  },
  {
   "cell_type": "markdown",
   "metadata": {
    "pycharm": {
     "name": "#%% md\n"
    }
   },
   "source": [
    "## Class for investigating 2-2 cells tessellation manually"
   ]
  },
  {
   "cell_type": "code",
   "execution_count": null,
   "metadata": {
    "pycharm": {
     "name": "#%%\n"
    }
   },
   "outputs": [],
   "source": [
    "grad_invest = WBNumTessellationGradInvest(minimize_for_upper_cell_too=True, debug=True,\n",
    "#     wb_cells = wb_cells[1:3],\n",
    "    wb_cells = [\n",
    "                WBCell5P2Gammas(gamma_l=1.2, gamma_r = 1.0),\n",
    "                WBCell5P2Gammas(gamma_l = 1.0, gamma_r=1.2),\n",
    "#                 WBCell5P2Gammas(gamma_l = 1.2, gamma_r=1.0),\n",
    "]\n",
    ")\n",
    "grad_invest.wb_cells[0].callback_fun = grad_invest.update_plot_\n",
    "grad_invest.wb_cells[1].callback_fun = grad_invest.update_plot_\n",
    "grad_invest.interact()"
   ]
  },
  {
   "cell_type": "code",
   "execution_count": null,
   "metadata": {
    "pycharm": {
     "name": "#%%\n"
    }
   },
   "outputs": [],
   "source": [
    "WBGeoUtils.export_obj_file(I_Fi=grad_invest.I_Fi_shell, X_Ia=grad_invest.X_Ia_shell, name='tess_4.obj')"
   ]
  },
  {
   "cell_type": "markdown",
   "metadata": {},
   "source": [
    "# Exporting geometry or adapting the camera view"
   ]
  },
  {
   "cell_type": "code",
   "execution_count": null,
   "metadata": {
    "pycharm": {
     "name": "#%%\n"
    }
   },
   "outputs": [],
   "source": [
    "WBGeoUtils.export_obj_file(wbs, 'gamma_equal_theta.obj')"
   ]
  },
  {
   "cell_type": "code",
   "execution_count": null,
   "metadata": {},
   "outputs": [],
   "source": [
    "k3d_plot = wbs.pb.plot_fig\n",
    "k3d_plot.screenshot_scale = 5.5\n",
    "k3d_plot.grid_visible = False"
   ]
  },
  {
   "cell_type": "code",
   "execution_count": null,
   "metadata": {
    "pycharm": {
     "name": "#%%\n"
    }
   },
   "outputs": [],
   "source": [
    "k3d_plot.camera = [7219.3851226524885,\n",
    " -180296.9493831216,\n",
    " 3683.482939844651,\n",
    " 0,\n",
    " 0,\n",
    " 0,\n",
    " 0,\n",
    " 0,\n",
    " 1]"
   ]
  },
  {
   "cell_type": "code",
   "execution_count": null,
   "metadata": {
    "pycharm": {
     "name": "#%%\n"
    }
   },
   "outputs": [],
   "source": [
    "k3d_plot.camera"
   ]
  }
 ],
 "metadata": {
  "kernelspec": {
   "display_name": "Python 3 (ipykernel)",
   "language": "python",
   "name": "python3"
  },
  "language_info": {
   "codemirror_mode": {
    "name": "ipython",
    "version": 3
   },
   "file_extension": ".py",
   "mimetype": "text/x-python",
   "name": "python",
   "nbconvert_exporter": "python",
   "pygments_lexer": "ipython3"
  },
  "toc": {
   "base_numbering": 1,
   "nav_menu": {},
   "number_sections": true,
   "sideBar": true,
   "skip_h1_title": true,
   "title_cell": "Table of Contents",
   "title_sidebar": "Contents",
   "toc_cell": false,
   "toc_position": {},
   "toc_section_display": true,
   "toc_window_display": false
  }
 },
 "nbformat": 4,
 "nbformat_minor": 4
}
