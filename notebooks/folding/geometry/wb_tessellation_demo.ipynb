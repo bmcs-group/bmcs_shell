{
 "cells": [
  {
   "cell_type": "markdown",
   "metadata": {},
   "source": [
    "# Waterbomb tessellation demo"
   ]
  },
  {
   "cell_type": "code",
   "execution_count": 1,
   "metadata": {},
   "outputs": [],
   "source": [
    "%matplotlib widget\n",
    "from bmcs_shell.api import WBCell5Param, WBTessellation5PV2, WBNumTessellation, WBNumTessellationInvest, WBTessellationBase, WBNumTessellationBase, WBCell5ParamV2, WBTessellation4P, WBCell4Param\n",
    "import numpy as np"
   ]
  },
  {
   "cell_type": "markdown",
   "metadata": {},
   "source": [
    "## Analytical tessellation of symmetric waterbomb cell (4P cell)"
   ]
  },
  {
   "cell_type": "code",
   "execution_count": 2,
   "metadata": {
    "scrolled": false
   },
   "outputs": [
    {
     "data": {
      "application/vnd.jupyter.widget-view+json": {
       "model_id": "7aa50cd8dda2478f8db024f3ba79907f",
       "version_major": 2,
       "version_minor": 0
      },
      "text/plain": [
       "VBox(children=(HBox(children=(VBox(children=(Tree(layout=Layout(align_items='stretch', border='solid 1px black…"
      ]
     },
     "metadata": {},
     "output_type": "display_data"
    }
   ],
   "source": [
    "wbt4p = WBTessellation4P()\n",
    "wbt4p.interact()"
   ]
  },
  {
   "cell_type": "markdown",
   "metadata": {},
   "source": [
    "## General numerical tessellation of any wb cell with 6 facets"
   ]
  },
  {
   "cell_type": "code",
   "execution_count": null,
   "metadata": {},
   "outputs": [],
   "source": [
    "wb_cell=WBCell5ParamV2(a = 500, b = 750, c = 400, gamma = 0.9, beta= 1.78)"
   ]
  },
  {
   "cell_type": "code",
   "execution_count": null,
   "metadata": {
    "scrolled": true
   },
   "outputs": [],
   "source": [
    "wb_num_t = WBNumTessellation()\n",
    "wb_num_t.interact()"
   ]
  },
  {
   "cell_type": "markdown",
   "metadata": {},
   "source": [
    "## Class for investigating 3 cells tessellation manually"
   ]
  },
  {
   "cell_type": "code",
   "execution_count": null,
   "metadata": {
    "scrolled": true
   },
   "outputs": [],
   "source": [
    "wb_num_t_invest = WBNumTessellationInvest()\n",
    "wb_num_t_invest.interact()"
   ]
  },
  {
   "cell_type": "markdown",
   "metadata": {},
   "source": [
    "## Analytical tessellation of 5P cell V2"
   ]
  },
  {
   "cell_type": "code",
   "execution_count": 3,
   "metadata": {
    "scrolled": false
   },
   "outputs": [
    {
     "name": "stdout",
     "output_type": "stream",
     "text": [
      "W: 6164603018.081581\n",
      "T_rho: 26586011.03164369\n",
      "T_sigma: 51797659.42710136\n",
      "sol_P2_t_2: 0.9294300809101804\n",
      "sol_Q2_u_2: 1.228902020680842\n",
      "Ana. solution: [-1.7754732  -1.49767787]\n"
     ]
    },
    {
     "data": {
      "application/vnd.jupyter.widget-view+json": {
       "model_id": "cb58aa15e6b34c0da84cb451e3d2f5e9",
       "version_major": 2,
       "version_minor": 0
      },
      "text/plain": [
       "VBox(children=(HBox(children=(VBox(children=(Tree(layout=Layout(align_items='stretch', border='solid 1px black…"
      ]
     },
     "metadata": {},
     "output_type": "display_data"
    },
    {
     "name": "stderr",
     "output_type": "stream",
     "text": [
      "d:\\homam\\synced\\programming\\python\\bmcs_shell\\bmcs_shell\\folding\\geometry\\wb_tessellation\\wb_tessellation_5pv2.py:222: RuntimeWarning: invalid value encountered in sqrt\n",
      "  sol_P2_t_2 = (-b * (a - c) * (cos(phi1 + phi3) - 1) * sqrt(W) - b * (\n",
      "d:\\homam\\synced\\programming\\python\\bmcs_shell\\bmcs_shell\\folding\\geometry\\wb_tessellation\\wb_tessellation_5pv2.py:230: RuntimeWarning: invalid value encountered in sqrt\n",
      "  e * (-b * sin(phi1 + phi3) * sqrt(W) - T_rho))\n",
      "d:\\homam\\synced\\programming\\python\\bmcs_shell\\bmcs_shell\\folding\\geometry\\wb_tessellation\\wb_tessellation_5pv2.py:232: RuntimeWarning: invalid value encountered in sqrt\n",
      "  sol_Q2_u_2 = (-b * (a - c) * (cos(phi1 + phi3) - 1) * sqrt(W) - b * (\n",
      "d:\\homam\\synced\\programming\\python\\bmcs_shell\\bmcs_shell\\folding\\geometry\\wb_tessellation\\wb_tessellation_5pv2.py:240: RuntimeWarning: invalid value encountered in sqrt\n",
      "  e * (-b * sin(phi1 + phi3) * sqrt(W) - T_sigma))\n",
      "Exception occurred in traits notification handler for event object: TraitChangeEvent(object=<bmcs_shell.folding.geometry.wb_cell.wb_cell_5p_v2.WBCell5ParamV2 object at 0x0000016292ACFCC0>, name='beta', old=1.78, new=1.68186266)\n",
      "Traceback (most recent call last):\n",
      "  File \"C:\\Users\\spart\\miniconda3\\envs\\bmcs_env\\lib\\site-packages\\traits\\observation\\_trait_event_notifier.py\", line 122, in __call__\n",
      "    self.dispatcher(handler, event)\n",
      "  File \"C:\\Users\\spart\\miniconda3\\envs\\bmcs_env\\lib\\site-packages\\traits\\observation\\observe.py\", line 27, in dispatch_same\n",
      "    handler(event)\n",
      "  File \"d:\\homam\\synced\\programming\\python\\bmcs_shell\\bmcs_shell\\folding\\geometry\\wb_tessellation\\wb_tessellation_5pv2.py\", line 30, in update_after_wb_cell_GEO_changes\n",
      "    self.update_plot(self.pb)\n",
      "  File \"d:\\homam\\synced\\programming\\python\\bmcs_shell\\bmcs_shell\\folding\\geometry\\wb_tessellation\\wb_num_tessellation.py\", line 105, in update_plot\n",
      "    X_Ia, I_Fi  = self.calc_mesh_for_tessellated_cells()\n",
      "  File \"d:\\homam\\synced\\programming\\python\\bmcs_shell\\bmcs_shell\\folding\\geometry\\wb_tessellation\\wb_num_tessellation.py\", line 87, in calc_mesh_for_tessellated_cells\n",
      "    base_cell_X_Ia = self._get_ul_X_Ia(self._get_ur_X_Ia(next_y_base_cell_X_Ia))\n",
      "  File \"d:\\homam\\synced\\programming\\python\\bmcs_shell\\bmcs_shell\\folding\\geometry\\wb_tessellation\\wb_tessellation_base.py\", line 57, in _get_ul_X_Ia\n",
      "    br_X_Ia = self._get_cell_matching_v1_to_v2(X_Ia, np.array([5, 1]), np.array([4, 6]))\n",
      "  File \"d:\\homam\\synced\\programming\\python\\bmcs_shell\\bmcs_shell\\folding\\geometry\\wb_tessellation\\wb_tessellation_base.py\", line 67, in _get_cell_matching_v1_to_v2\n",
      "    rot, trans = get_best_rot_and_trans_3d(v1_2a, v2_2a)\n",
      "  File \"d:\\homam\\synced\\programming\\python\\bmcs_shell\\bmcs_shell\\folding\\geometry\\math_utils.py\", line 40, in get_best_rot_and_trans_3d\n",
      "    U, S, Vt = np.linalg.svd(H)\n",
      "  File \"<__array_function__ internals>\", line 5, in svd\n",
      "  File \"C:\\Users\\spart\\miniconda3\\envs\\bmcs_env\\lib\\site-packages\\numpy\\linalg\\linalg.py\", line 1660, in svd\n",
      "    u, s, vh = gufunc(a, signature=signature, extobj=extobj)\n",
      "  File \"C:\\Users\\spart\\miniconda3\\envs\\bmcs_env\\lib\\site-packages\\numpy\\linalg\\linalg.py\", line 97, in _raise_linalgerror_svd_nonconvergence\n",
      "    raise LinAlgError(\"SVD did not converge\")\n",
      "numpy.linalg.LinAlgError: SVD did not converge\n"
     ]
    },
    {
     "name": "stdout",
     "output_type": "stream",
     "text": [
      "W: -25556477312.314957\n",
      "T_rho: -795982.8969232523\n",
      "T_sigma: 38332336.911638014\n",
      "sol_P2_t_2: nan\n",
      "sol_Q2_u_2: nan\n",
      "Ana. solution: [nan nan]\n"
     ]
    },
    {
     "name": "stderr",
     "output_type": "stream",
     "text": [
      "Exception occurred in traits notification handler for event object: TraitChangeEvent(object=<bmcs_shell.folding.geometry.wb_cell.wb_cell_5p_v2.WBCell5ParamV2 object at 0x0000016292ACFCC0>, name='beta', old=1.68186266, new=1.61839619)\n",
      "Traceback (most recent call last):\n",
      "  File \"C:\\Users\\spart\\miniconda3\\envs\\bmcs_env\\lib\\site-packages\\traits\\observation\\_trait_event_notifier.py\", line 122, in __call__\n",
      "    self.dispatcher(handler, event)\n",
      "  File \"C:\\Users\\spart\\miniconda3\\envs\\bmcs_env\\lib\\site-packages\\traits\\observation\\observe.py\", line 27, in dispatch_same\n",
      "    handler(event)\n",
      "  File \"d:\\homam\\synced\\programming\\python\\bmcs_shell\\bmcs_shell\\folding\\geometry\\wb_tessellation\\wb_tessellation_5pv2.py\", line 30, in update_after_wb_cell_GEO_changes\n",
      "    self.update_plot(self.pb)\n",
      "  File \"d:\\homam\\synced\\programming\\python\\bmcs_shell\\bmcs_shell\\folding\\geometry\\wb_tessellation\\wb_num_tessellation.py\", line 105, in update_plot\n",
      "    X_Ia, I_Fi  = self.calc_mesh_for_tessellated_cells()\n",
      "  File \"d:\\homam\\synced\\programming\\python\\bmcs_shell\\bmcs_shell\\folding\\geometry\\wb_tessellation\\wb_num_tessellation.py\", line 87, in calc_mesh_for_tessellated_cells\n",
      "    base_cell_X_Ia = self._get_ul_X_Ia(self._get_ur_X_Ia(next_y_base_cell_X_Ia))\n",
      "  File \"d:\\homam\\synced\\programming\\python\\bmcs_shell\\bmcs_shell\\folding\\geometry\\wb_tessellation\\wb_tessellation_base.py\", line 57, in _get_ul_X_Ia\n",
      "    br_X_Ia = self._get_cell_matching_v1_to_v2(X_Ia, np.array([5, 1]), np.array([4, 6]))\n",
      "  File \"d:\\homam\\synced\\programming\\python\\bmcs_shell\\bmcs_shell\\folding\\geometry\\wb_tessellation\\wb_tessellation_base.py\", line 67, in _get_cell_matching_v1_to_v2\n",
      "    rot, trans = get_best_rot_and_trans_3d(v1_2a, v2_2a)\n",
      "  File \"d:\\homam\\synced\\programming\\python\\bmcs_shell\\bmcs_shell\\folding\\geometry\\math_utils.py\", line 40, in get_best_rot_and_trans_3d\n",
      "    U, S, Vt = np.linalg.svd(H)\n",
      "  File \"<__array_function__ internals>\", line 5, in svd\n",
      "  File \"C:\\Users\\spart\\miniconda3\\envs\\bmcs_env\\lib\\site-packages\\numpy\\linalg\\linalg.py\", line 1660, in svd\n",
      "    u, s, vh = gufunc(a, signature=signature, extobj=extobj)\n",
      "  File \"C:\\Users\\spart\\miniconda3\\envs\\bmcs_env\\lib\\site-packages\\numpy\\linalg\\linalg.py\", line 97, in _raise_linalgerror_svd_nonconvergence\n",
      "    raise LinAlgError(\"SVD did not converge\")\n",
      "numpy.linalg.LinAlgError: SVD did not converge\n"
     ]
    },
    {
     "name": "stdout",
     "output_type": "stream",
     "text": [
      "W: -52332424968.82046\n",
      "T_rho: -19322121.701044977\n",
      "T_sigma: 24013978.268693347\n",
      "sol_P2_t_2: nan\n",
      "sol_Q2_u_2: nan\n",
      "Ana. solution: [nan nan]\n"
     ]
    },
    {
     "name": "stderr",
     "output_type": "stream",
     "text": [
      "Exception occurred in traits notification handler for event object: TraitChangeEvent(object=<bmcs_shell.folding.geometry.wb_cell.wb_cell_5p_v2.WBCell5ParamV2 object at 0x0000016292ACFCC0>, name='beta', old=1.61839619, new=1.58666295)\n",
      "Traceback (most recent call last):\n",
      "  File \"C:\\Users\\spart\\miniconda3\\envs\\bmcs_env\\lib\\site-packages\\traits\\observation\\_trait_event_notifier.py\", line 122, in __call__\n",
      "    self.dispatcher(handler, event)\n",
      "  File \"C:\\Users\\spart\\miniconda3\\envs\\bmcs_env\\lib\\site-packages\\traits\\observation\\observe.py\", line 27, in dispatch_same\n",
      "    handler(event)\n",
      "  File \"d:\\homam\\synced\\programming\\python\\bmcs_shell\\bmcs_shell\\folding\\geometry\\wb_tessellation\\wb_tessellation_5pv2.py\", line 30, in update_after_wb_cell_GEO_changes\n",
      "    self.update_plot(self.pb)\n",
      "  File \"d:\\homam\\synced\\programming\\python\\bmcs_shell\\bmcs_shell\\folding\\geometry\\wb_tessellation\\wb_num_tessellation.py\", line 105, in update_plot\n",
      "    X_Ia, I_Fi  = self.calc_mesh_for_tessellated_cells()\n",
      "  File \"d:\\homam\\synced\\programming\\python\\bmcs_shell\\bmcs_shell\\folding\\geometry\\wb_tessellation\\wb_num_tessellation.py\", line 87, in calc_mesh_for_tessellated_cells\n",
      "    base_cell_X_Ia = self._get_ul_X_Ia(self._get_ur_X_Ia(next_y_base_cell_X_Ia))\n",
      "  File \"d:\\homam\\synced\\programming\\python\\bmcs_shell\\bmcs_shell\\folding\\geometry\\wb_tessellation\\wb_tessellation_base.py\", line 57, in _get_ul_X_Ia\n",
      "    br_X_Ia = self._get_cell_matching_v1_to_v2(X_Ia, np.array([5, 1]), np.array([4, 6]))\n",
      "  File \"d:\\homam\\synced\\programming\\python\\bmcs_shell\\bmcs_shell\\folding\\geometry\\wb_tessellation\\wb_tessellation_base.py\", line 67, in _get_cell_matching_v1_to_v2\n",
      "    rot, trans = get_best_rot_and_trans_3d(v1_2a, v2_2a)\n",
      "  File \"d:\\homam\\synced\\programming\\python\\bmcs_shell\\bmcs_shell\\folding\\geometry\\math_utils.py\", line 40, in get_best_rot_and_trans_3d\n",
      "    U, S, Vt = np.linalg.svd(H)\n",
      "  File \"<__array_function__ internals>\", line 5, in svd\n",
      "  File \"C:\\Users\\spart\\miniconda3\\envs\\bmcs_env\\lib\\site-packages\\numpy\\linalg\\linalg.py\", line 1660, in svd\n",
      "    u, s, vh = gufunc(a, signature=signature, extobj=extobj)\n",
      "  File \"C:\\Users\\spart\\miniconda3\\envs\\bmcs_env\\lib\\site-packages\\numpy\\linalg\\linalg.py\", line 97, in _raise_linalgerror_svd_nonconvergence\n",
      "    raise LinAlgError(\"SVD did not converge\")\n",
      "numpy.linalg.LinAlgError: SVD did not converge\n"
     ]
    },
    {
     "name": "stdout",
     "output_type": "stream",
     "text": [
      "W: -67032195511.39481\n",
      "T_rho: -28381277.063333668\n",
      "T_sigma: 15709043.294528175\n",
      "sol_P2_t_2: nan\n",
      "sol_Q2_u_2: nan\n",
      "Ana. solution: [nan nan]\n"
     ]
    },
    {
     "name": "stderr",
     "output_type": "stream",
     "text": [
      "Exception occurred in traits notification handler for event object: TraitChangeEvent(object=<bmcs_shell.folding.geometry.wb_cell.wb_cell_5p_v2.WBCell5ParamV2 object at 0x0000016292ACFCC0>, name='beta', old=1.58666295, new=1.55492971)\n",
      "Traceback (most recent call last):\n",
      "  File \"C:\\Users\\spart\\miniconda3\\envs\\bmcs_env\\lib\\site-packages\\traits\\observation\\_trait_event_notifier.py\", line 122, in __call__\n",
      "    self.dispatcher(handler, event)\n",
      "  File \"C:\\Users\\spart\\miniconda3\\envs\\bmcs_env\\lib\\site-packages\\traits\\observation\\observe.py\", line 27, in dispatch_same\n",
      "    handler(event)\n",
      "  File \"d:\\homam\\synced\\programming\\python\\bmcs_shell\\bmcs_shell\\folding\\geometry\\wb_tessellation\\wb_tessellation_5pv2.py\", line 30, in update_after_wb_cell_GEO_changes\n",
      "    self.update_plot(self.pb)\n",
      "  File \"d:\\homam\\synced\\programming\\python\\bmcs_shell\\bmcs_shell\\folding\\geometry\\wb_tessellation\\wb_num_tessellation.py\", line 105, in update_plot\n",
      "    X_Ia, I_Fi  = self.calc_mesh_for_tessellated_cells()\n",
      "  File \"d:\\homam\\synced\\programming\\python\\bmcs_shell\\bmcs_shell\\folding\\geometry\\wb_tessellation\\wb_num_tessellation.py\", line 87, in calc_mesh_for_tessellated_cells\n",
      "    base_cell_X_Ia = self._get_ul_X_Ia(self._get_ur_X_Ia(next_y_base_cell_X_Ia))\n",
      "  File \"d:\\homam\\synced\\programming\\python\\bmcs_shell\\bmcs_shell\\folding\\geometry\\wb_tessellation\\wb_tessellation_base.py\", line 57, in _get_ul_X_Ia\n",
      "    br_X_Ia = self._get_cell_matching_v1_to_v2(X_Ia, np.array([5, 1]), np.array([4, 6]))\n",
      "  File \"d:\\homam\\synced\\programming\\python\\bmcs_shell\\bmcs_shell\\folding\\geometry\\wb_tessellation\\wb_tessellation_base.py\", line 67, in _get_cell_matching_v1_to_v2\n",
      "    rot, trans = get_best_rot_and_trans_3d(v1_2a, v2_2a)\n",
      "  File \"d:\\homam\\synced\\programming\\python\\bmcs_shell\\bmcs_shell\\folding\\geometry\\math_utils.py\", line 40, in get_best_rot_and_trans_3d\n",
      "    U, S, Vt = np.linalg.svd(H)\n",
      "  File \"<__array_function__ internals>\", line 5, in svd\n",
      "  File \"C:\\Users\\spart\\miniconda3\\envs\\bmcs_env\\lib\\site-packages\\numpy\\linalg\\linalg.py\", line 1660, in svd\n",
      "    u, s, vh = gufunc(a, signature=signature, extobj=extobj)\n",
      "  File \"C:\\Users\\spart\\miniconda3\\envs\\bmcs_env\\lib\\site-packages\\numpy\\linalg\\linalg.py\", line 97, in _raise_linalgerror_svd_nonconvergence\n",
      "    raise LinAlgError(\"SVD did not converge\")\n",
      "numpy.linalg.LinAlgError: SVD did not converge\n"
     ]
    },
    {
     "name": "stdout",
     "output_type": "stream",
     "text": [
      "W: -82383037684.1203\n",
      "T_rho: -37150381.717994794\n",
      "T_sigma: 6874809.337303386\n",
      "sol_P2_t_2: nan\n",
      "sol_Q2_u_2: nan\n",
      "Ana. solution: [nan nan]\n"
     ]
    },
    {
     "name": "stderr",
     "output_type": "stream",
     "text": [
      "Exception occurred in traits notification handler for event object: TraitChangeEvent(object=<bmcs_shell.folding.geometry.wb_cell.wb_cell_5p_v2.WBCell5ParamV2 object at 0x0000016292ACFCC0>, name='beta', old=1.55492971, new=1.52319647)\n",
      "Traceback (most recent call last):\n",
      "  File \"C:\\Users\\spart\\miniconda3\\envs\\bmcs_env\\lib\\site-packages\\traits\\observation\\_trait_event_notifier.py\", line 122, in __call__\n",
      "    self.dispatcher(handler, event)\n",
      "  File \"C:\\Users\\spart\\miniconda3\\envs\\bmcs_env\\lib\\site-packages\\traits\\observation\\observe.py\", line 27, in dispatch_same\n",
      "    handler(event)\n",
      "  File \"d:\\homam\\synced\\programming\\python\\bmcs_shell\\bmcs_shell\\folding\\geometry\\wb_tessellation\\wb_tessellation_5pv2.py\", line 30, in update_after_wb_cell_GEO_changes\n",
      "    self.update_plot(self.pb)\n",
      "  File \"d:\\homam\\synced\\programming\\python\\bmcs_shell\\bmcs_shell\\folding\\geometry\\wb_tessellation\\wb_num_tessellation.py\", line 105, in update_plot\n",
      "    X_Ia, I_Fi  = self.calc_mesh_for_tessellated_cells()\n",
      "  File \"d:\\homam\\synced\\programming\\python\\bmcs_shell\\bmcs_shell\\folding\\geometry\\wb_tessellation\\wb_num_tessellation.py\", line 87, in calc_mesh_for_tessellated_cells\n",
      "    base_cell_X_Ia = self._get_ul_X_Ia(self._get_ur_X_Ia(next_y_base_cell_X_Ia))\n",
      "  File \"d:\\homam\\synced\\programming\\python\\bmcs_shell\\bmcs_shell\\folding\\geometry\\wb_tessellation\\wb_tessellation_base.py\", line 57, in _get_ul_X_Ia\n",
      "    br_X_Ia = self._get_cell_matching_v1_to_v2(X_Ia, np.array([5, 1]), np.array([4, 6]))\n",
      "  File \"d:\\homam\\synced\\programming\\python\\bmcs_shell\\bmcs_shell\\folding\\geometry\\wb_tessellation\\wb_tessellation_base.py\", line 67, in _get_cell_matching_v1_to_v2\n",
      "    rot, trans = get_best_rot_and_trans_3d(v1_2a, v2_2a)\n",
      "  File \"d:\\homam\\synced\\programming\\python\\bmcs_shell\\bmcs_shell\\folding\\geometry\\math_utils.py\", line 40, in get_best_rot_and_trans_3d\n",
      "    U, S, Vt = np.linalg.svd(H)\n",
      "  File \"<__array_function__ internals>\", line 5, in svd\n",
      "  File \"C:\\Users\\spart\\miniconda3\\envs\\bmcs_env\\lib\\site-packages\\numpy\\linalg\\linalg.py\", line 1660, in svd\n",
      "    u, s, vh = gufunc(a, signature=signature, extobj=extobj)\n",
      "  File \"C:\\Users\\spart\\miniconda3\\envs\\bmcs_env\\lib\\site-packages\\numpy\\linalg\\linalg.py\", line 97, in _raise_linalgerror_svd_nonconvergence\n",
      "    raise LinAlgError(\"SVD did not converge\")\n",
      "numpy.linalg.LinAlgError: SVD did not converge\n"
     ]
    },
    {
     "name": "stdout",
     "output_type": "stream",
     "text": [
      "W: -98215306972.09528\n",
      "T_rho: -45533053.92223411\n",
      "T_sigma: -2302559.770344762\n",
      "sol_P2_t_2: nan\n",
      "sol_Q2_u_2: nan\n",
      "Ana. solution: [nan nan]\n"
     ]
    },
    {
     "name": "stderr",
     "output_type": "stream",
     "text": [
      "Exception occurred in traits notification handler for event object: TraitChangeEvent(object=<bmcs_shell.folding.geometry.wb_cell.wb_cell_5p_v2.WBCell5ParamV2 object at 0x0000016292ACFCC0>, name='beta', old=1.52319647, new=1.49146323)\n",
      "Traceback (most recent call last):\n",
      "  File \"C:\\Users\\spart\\miniconda3\\envs\\bmcs_env\\lib\\site-packages\\traits\\observation\\_trait_event_notifier.py\", line 122, in __call__\n",
      "    self.dispatcher(handler, event)\n",
      "  File \"C:\\Users\\spart\\miniconda3\\envs\\bmcs_env\\lib\\site-packages\\traits\\observation\\observe.py\", line 27, in dispatch_same\n",
      "    handler(event)\n",
      "  File \"d:\\homam\\synced\\programming\\python\\bmcs_shell\\bmcs_shell\\folding\\geometry\\wb_tessellation\\wb_tessellation_5pv2.py\", line 30, in update_after_wb_cell_GEO_changes\n",
      "    self.update_plot(self.pb)\n",
      "  File \"d:\\homam\\synced\\programming\\python\\bmcs_shell\\bmcs_shell\\folding\\geometry\\wb_tessellation\\wb_num_tessellation.py\", line 105, in update_plot\n",
      "    X_Ia, I_Fi  = self.calc_mesh_for_tessellated_cells()\n",
      "  File \"d:\\homam\\synced\\programming\\python\\bmcs_shell\\bmcs_shell\\folding\\geometry\\wb_tessellation\\wb_num_tessellation.py\", line 87, in calc_mesh_for_tessellated_cells\n",
      "    base_cell_X_Ia = self._get_ul_X_Ia(self._get_ur_X_Ia(next_y_base_cell_X_Ia))\n",
      "  File \"d:\\homam\\synced\\programming\\python\\bmcs_shell\\bmcs_shell\\folding\\geometry\\wb_tessellation\\wb_tessellation_base.py\", line 57, in _get_ul_X_Ia\n",
      "    br_X_Ia = self._get_cell_matching_v1_to_v2(X_Ia, np.array([5, 1]), np.array([4, 6]))\n",
      "  File \"d:\\homam\\synced\\programming\\python\\bmcs_shell\\bmcs_shell\\folding\\geometry\\wb_tessellation\\wb_tessellation_base.py\", line 67, in _get_cell_matching_v1_to_v2\n",
      "    rot, trans = get_best_rot_and_trans_3d(v1_2a, v2_2a)\n",
      "  File \"d:\\homam\\synced\\programming\\python\\bmcs_shell\\bmcs_shell\\folding\\geometry\\math_utils.py\", line 40, in get_best_rot_and_trans_3d\n",
      "    U, S, Vt = np.linalg.svd(H)\n",
      "  File \"<__array_function__ internals>\", line 5, in svd\n",
      "  File \"C:\\Users\\spart\\miniconda3\\envs\\bmcs_env\\lib\\site-packages\\numpy\\linalg\\linalg.py\", line 1660, in svd\n",
      "    u, s, vh = gufunc(a, signature=signature, extobj=extobj)\n",
      "  File \"C:\\Users\\spart\\miniconda3\\envs\\bmcs_env\\lib\\site-packages\\numpy\\linalg\\linalg.py\", line 97, in _raise_linalgerror_svd_nonconvergence\n",
      "    raise LinAlgError(\"SVD did not converge\")\n",
      "numpy.linalg.LinAlgError: SVD did not converge\n"
     ]
    },
    {
     "name": "stdout",
     "output_type": "stream",
     "text": [
      "W: -114354128068.0879\n",
      "T_rho: -53447753.74127343\n",
      "T_sigma: -11626529.956536146\n",
      "sol_P2_t_2: nan\n",
      "sol_Q2_u_2: nan\n",
      "Ana. solution: [nan nan]\n"
     ]
    },
    {
     "name": "stderr",
     "output_type": "stream",
     "text": [
      "Exception occurred in traits notification handler for event object: TraitChangeEvent(object=<bmcs_shell.folding.geometry.wb_cell.wb_cell_5p_v2.WBCell5ParamV2 object at 0x0000016292ACFCC0>, name='beta', old=1.49146323, new=1.45972999)\n",
      "Traceback (most recent call last):\n",
      "  File \"C:\\Users\\spart\\miniconda3\\envs\\bmcs_env\\lib\\site-packages\\traits\\observation\\_trait_event_notifier.py\", line 122, in __call__\n",
      "    self.dispatcher(handler, event)\n",
      "  File \"C:\\Users\\spart\\miniconda3\\envs\\bmcs_env\\lib\\site-packages\\traits\\observation\\observe.py\", line 27, in dispatch_same\n",
      "    handler(event)\n",
      "  File \"d:\\homam\\synced\\programming\\python\\bmcs_shell\\bmcs_shell\\folding\\geometry\\wb_tessellation\\wb_tessellation_5pv2.py\", line 30, in update_after_wb_cell_GEO_changes\n",
      "    self.update_plot(self.pb)\n",
      "  File \"d:\\homam\\synced\\programming\\python\\bmcs_shell\\bmcs_shell\\folding\\geometry\\wb_tessellation\\wb_num_tessellation.py\", line 105, in update_plot\n",
      "    X_Ia, I_Fi  = self.calc_mesh_for_tessellated_cells()\n",
      "  File \"d:\\homam\\synced\\programming\\python\\bmcs_shell\\bmcs_shell\\folding\\geometry\\wb_tessellation\\wb_num_tessellation.py\", line 87, in calc_mesh_for_tessellated_cells\n",
      "    base_cell_X_Ia = self._get_ul_X_Ia(self._get_ur_X_Ia(next_y_base_cell_X_Ia))\n",
      "  File \"d:\\homam\\synced\\programming\\python\\bmcs_shell\\bmcs_shell\\folding\\geometry\\wb_tessellation\\wb_tessellation_base.py\", line 57, in _get_ul_X_Ia\n",
      "    br_X_Ia = self._get_cell_matching_v1_to_v2(X_Ia, np.array([5, 1]), np.array([4, 6]))\n",
      "  File \"d:\\homam\\synced\\programming\\python\\bmcs_shell\\bmcs_shell\\folding\\geometry\\wb_tessellation\\wb_tessellation_base.py\", line 67, in _get_cell_matching_v1_to_v2\n",
      "    rot, trans = get_best_rot_and_trans_3d(v1_2a, v2_2a)\n",
      "  File \"d:\\homam\\synced\\programming\\python\\bmcs_shell\\bmcs_shell\\folding\\geometry\\math_utils.py\", line 40, in get_best_rot_and_trans_3d\n",
      "    U, S, Vt = np.linalg.svd(H)\n",
      "  File \"<__array_function__ internals>\", line 5, in svd\n",
      "  File \"C:\\Users\\spart\\miniconda3\\envs\\bmcs_env\\lib\\site-packages\\numpy\\linalg\\linalg.py\", line 1660, in svd\n",
      "    u, s, vh = gufunc(a, signature=signature, extobj=extobj)\n",
      "  File \"C:\\Users\\spart\\miniconda3\\envs\\bmcs_env\\lib\\site-packages\\numpy\\linalg\\linalg.py\", line 97, in _raise_linalgerror_svd_nonconvergence\n",
      "    raise LinAlgError(\"SVD did not converge\")\n",
      "numpy.linalg.LinAlgError: SVD did not converge\n"
     ]
    },
    {
     "name": "stdout",
     "output_type": "stream",
     "text": [
      "W: -130616547703.17525\n",
      "T_rho: -60827735.6652074\n",
      "T_sigma: -20888303.80477663\n",
      "sol_P2_t_2: nan\n",
      "sol_Q2_u_2: nan\n",
      "Ana. solution: [nan nan]\n"
     ]
    },
    {
     "name": "stderr",
     "output_type": "stream",
     "text": [
      "Exception occurred in traits notification handler for event object: TraitChangeEvent(object=<bmcs_shell.folding.geometry.wb_cell.wb_cell_5p_v2.WBCell5ParamV2 object at 0x0000016292ACFCC0>, name='beta', old=1.45972999, new=1.49146323)\n",
      "Traceback (most recent call last):\n",
      "  File \"C:\\Users\\spart\\miniconda3\\envs\\bmcs_env\\lib\\site-packages\\traits\\observation\\_trait_event_notifier.py\", line 122, in __call__\n",
      "    self.dispatcher(handler, event)\n",
      "  File \"C:\\Users\\spart\\miniconda3\\envs\\bmcs_env\\lib\\site-packages\\traits\\observation\\observe.py\", line 27, in dispatch_same\n",
      "    handler(event)\n",
      "  File \"d:\\homam\\synced\\programming\\python\\bmcs_shell\\bmcs_shell\\folding\\geometry\\wb_tessellation\\wb_tessellation_5pv2.py\", line 30, in update_after_wb_cell_GEO_changes\n",
      "    self.update_plot(self.pb)\n",
      "  File \"d:\\homam\\synced\\programming\\python\\bmcs_shell\\bmcs_shell\\folding\\geometry\\wb_tessellation\\wb_num_tessellation.py\", line 105, in update_plot\n",
      "    X_Ia, I_Fi  = self.calc_mesh_for_tessellated_cells()\n",
      "  File \"d:\\homam\\synced\\programming\\python\\bmcs_shell\\bmcs_shell\\folding\\geometry\\wb_tessellation\\wb_num_tessellation.py\", line 87, in calc_mesh_for_tessellated_cells\n",
      "    base_cell_X_Ia = self._get_ul_X_Ia(self._get_ur_X_Ia(next_y_base_cell_X_Ia))\n",
      "  File \"d:\\homam\\synced\\programming\\python\\bmcs_shell\\bmcs_shell\\folding\\geometry\\wb_tessellation\\wb_tessellation_base.py\", line 57, in _get_ul_X_Ia\n",
      "    br_X_Ia = self._get_cell_matching_v1_to_v2(X_Ia, np.array([5, 1]), np.array([4, 6]))\n",
      "  File \"d:\\homam\\synced\\programming\\python\\bmcs_shell\\bmcs_shell\\folding\\geometry\\wb_tessellation\\wb_tessellation_base.py\", line 67, in _get_cell_matching_v1_to_v2\n",
      "    rot, trans = get_best_rot_and_trans_3d(v1_2a, v2_2a)\n",
      "  File \"d:\\homam\\synced\\programming\\python\\bmcs_shell\\bmcs_shell\\folding\\geometry\\math_utils.py\", line 40, in get_best_rot_and_trans_3d\n",
      "    U, S, Vt = np.linalg.svd(H)\n",
      "  File \"<__array_function__ internals>\", line 5, in svd\n",
      "  File \"C:\\Users\\spart\\miniconda3\\envs\\bmcs_env\\lib\\site-packages\\numpy\\linalg\\linalg.py\", line 1660, in svd\n",
      "    u, s, vh = gufunc(a, signature=signature, extobj=extobj)\n",
      "  File \"C:\\Users\\spart\\miniconda3\\envs\\bmcs_env\\lib\\site-packages\\numpy\\linalg\\linalg.py\", line 97, in _raise_linalgerror_svd_nonconvergence\n",
      "    raise LinAlgError(\"SVD did not converge\")\n",
      "numpy.linalg.LinAlgError: SVD did not converge\n"
     ]
    },
    {
     "name": "stdout",
     "output_type": "stream",
     "text": [
      "W: -114354128068.0879\n",
      "T_rho: -53447753.74127343\n",
      "T_sigma: -11626529.956536146\n",
      "sol_P2_t_2: nan\n",
      "sol_Q2_u_2: nan\n",
      "Ana. solution: [nan nan]\n"
     ]
    },
    {
     "name": "stderr",
     "output_type": "stream",
     "text": [
      "Exception occurred in traits notification handler for event object: TraitChangeEvent(object=<bmcs_shell.folding.geometry.wb_cell.wb_cell_5p_v2.WBCell5ParamV2 object at 0x0000016292ACFCC0>, name='beta', old=1.49146323, new=1.58666295)\n",
      "Traceback (most recent call last):\n",
      "  File \"C:\\Users\\spart\\miniconda3\\envs\\bmcs_env\\lib\\site-packages\\traits\\observation\\_trait_event_notifier.py\", line 122, in __call__\n",
      "    self.dispatcher(handler, event)\n",
      "  File \"C:\\Users\\spart\\miniconda3\\envs\\bmcs_env\\lib\\site-packages\\traits\\observation\\observe.py\", line 27, in dispatch_same\n",
      "    handler(event)\n",
      "  File \"d:\\homam\\synced\\programming\\python\\bmcs_shell\\bmcs_shell\\folding\\geometry\\wb_tessellation\\wb_tessellation_5pv2.py\", line 30, in update_after_wb_cell_GEO_changes\n",
      "    self.update_plot(self.pb)\n",
      "  File \"d:\\homam\\synced\\programming\\python\\bmcs_shell\\bmcs_shell\\folding\\geometry\\wb_tessellation\\wb_num_tessellation.py\", line 105, in update_plot\n",
      "    X_Ia, I_Fi  = self.calc_mesh_for_tessellated_cells()\n",
      "  File \"d:\\homam\\synced\\programming\\python\\bmcs_shell\\bmcs_shell\\folding\\geometry\\wb_tessellation\\wb_num_tessellation.py\", line 87, in calc_mesh_for_tessellated_cells\n",
      "    base_cell_X_Ia = self._get_ul_X_Ia(self._get_ur_X_Ia(next_y_base_cell_X_Ia))\n",
      "  File \"d:\\homam\\synced\\programming\\python\\bmcs_shell\\bmcs_shell\\folding\\geometry\\wb_tessellation\\wb_tessellation_base.py\", line 57, in _get_ul_X_Ia\n",
      "    br_X_Ia = self._get_cell_matching_v1_to_v2(X_Ia, np.array([5, 1]), np.array([4, 6]))\n",
      "  File \"d:\\homam\\synced\\programming\\python\\bmcs_shell\\bmcs_shell\\folding\\geometry\\wb_tessellation\\wb_tessellation_base.py\", line 67, in _get_cell_matching_v1_to_v2\n",
      "    rot, trans = get_best_rot_and_trans_3d(v1_2a, v2_2a)\n",
      "  File \"d:\\homam\\synced\\programming\\python\\bmcs_shell\\bmcs_shell\\folding\\geometry\\math_utils.py\", line 40, in get_best_rot_and_trans_3d\n",
      "    U, S, Vt = np.linalg.svd(H)\n",
      "  File \"<__array_function__ internals>\", line 5, in svd\n",
      "  File \"C:\\Users\\spart\\miniconda3\\envs\\bmcs_env\\lib\\site-packages\\numpy\\linalg\\linalg.py\", line 1660, in svd\n",
      "    u, s, vh = gufunc(a, signature=signature, extobj=extobj)\n",
      "  File \"C:\\Users\\spart\\miniconda3\\envs\\bmcs_env\\lib\\site-packages\\numpy\\linalg\\linalg.py\", line 97, in _raise_linalgerror_svd_nonconvergence\n",
      "    raise LinAlgError(\"SVD did not converge\")\n",
      "numpy.linalg.LinAlgError: SVD did not converge\n"
     ]
    },
    {
     "name": "stdout",
     "output_type": "stream",
     "text": [
      "W: -67032195511.39481\n",
      "T_rho: -28381277.063333668\n",
      "T_sigma: 15709043.294528175\n",
      "sol_P2_t_2: nan\n",
      "sol_Q2_u_2: nan\n",
      "Ana. solution: [nan nan]\n"
     ]
    },
    {
     "name": "stderr",
     "output_type": "stream",
     "text": [
      "Exception occurred in traits notification handler for event object: TraitChangeEvent(object=<bmcs_shell.folding.geometry.wb_cell.wb_cell_5p_v2.WBCell5ParamV2 object at 0x0000016292ACFCC0>, name='beta', old=1.58666295, new=1.65012942)\n",
      "Traceback (most recent call last):\n",
      "  File \"C:\\Users\\spart\\miniconda3\\envs\\bmcs_env\\lib\\site-packages\\traits\\observation\\_trait_event_notifier.py\", line 122, in __call__\n",
      "    self.dispatcher(handler, event)\n",
      "  File \"C:\\Users\\spart\\miniconda3\\envs\\bmcs_env\\lib\\site-packages\\traits\\observation\\observe.py\", line 27, in dispatch_same\n",
      "    handler(event)\n",
      "  File \"d:\\homam\\synced\\programming\\python\\bmcs_shell\\bmcs_shell\\folding\\geometry\\wb_tessellation\\wb_tessellation_5pv2.py\", line 30, in update_after_wb_cell_GEO_changes\n",
      "    self.update_plot(self.pb)\n",
      "  File \"d:\\homam\\synced\\programming\\python\\bmcs_shell\\bmcs_shell\\folding\\geometry\\wb_tessellation\\wb_num_tessellation.py\", line 105, in update_plot\n",
      "    X_Ia, I_Fi  = self.calc_mesh_for_tessellated_cells()\n",
      "  File \"d:\\homam\\synced\\programming\\python\\bmcs_shell\\bmcs_shell\\folding\\geometry\\wb_tessellation\\wb_num_tessellation.py\", line 87, in calc_mesh_for_tessellated_cells\n",
      "    base_cell_X_Ia = self._get_ul_X_Ia(self._get_ur_X_Ia(next_y_base_cell_X_Ia))\n",
      "  File \"d:\\homam\\synced\\programming\\python\\bmcs_shell\\bmcs_shell\\folding\\geometry\\wb_tessellation\\wb_tessellation_base.py\", line 57, in _get_ul_X_Ia\n",
      "    br_X_Ia = self._get_cell_matching_v1_to_v2(X_Ia, np.array([5, 1]), np.array([4, 6]))\n",
      "  File \"d:\\homam\\synced\\programming\\python\\bmcs_shell\\bmcs_shell\\folding\\geometry\\wb_tessellation\\wb_tessellation_base.py\", line 67, in _get_cell_matching_v1_to_v2\n",
      "    rot, trans = get_best_rot_and_trans_3d(v1_2a, v2_2a)\n",
      "  File \"d:\\homam\\synced\\programming\\python\\bmcs_shell\\bmcs_shell\\folding\\geometry\\math_utils.py\", line 40, in get_best_rot_and_trans_3d\n",
      "    U, S, Vt = np.linalg.svd(H)\n",
      "  File \"<__array_function__ internals>\", line 5, in svd\n",
      "  File \"C:\\Users\\spart\\miniconda3\\envs\\bmcs_env\\lib\\site-packages\\numpy\\linalg\\linalg.py\", line 1660, in svd\n",
      "    u, s, vh = gufunc(a, signature=signature, extobj=extobj)\n",
      "  File \"C:\\Users\\spart\\miniconda3\\envs\\bmcs_env\\lib\\site-packages\\numpy\\linalg\\linalg.py\", line 97, in _raise_linalgerror_svd_nonconvergence\n",
      "    raise LinAlgError(\"SVD did not converge\")\n",
      "numpy.linalg.LinAlgError: SVD did not converge\n"
     ]
    },
    {
     "name": "stdout",
     "output_type": "stream",
     "text": [
      "W: -38451094587.29175\n",
      "T_rho: -10084508.006558059\n",
      "T_sigma: 31612007.89770164\n",
      "sol_P2_t_2: nan\n",
      "sol_Q2_u_2: nan\n",
      "Ana. solution: [nan nan]\n"
     ]
    },
    {
     "name": "stderr",
     "output_type": "stream",
     "text": [
      "Exception occurred in traits notification handler for event object: TraitChangeEvent(object=<bmcs_shell.folding.geometry.wb_cell.wb_cell_5p_v2.WBCell5ParamV2 object at 0x0000016292ACFCC0>, name='beta', old=1.65012942, new=1.68186266)\n",
      "Traceback (most recent call last):\n",
      "  File \"C:\\Users\\spart\\miniconda3\\envs\\bmcs_env\\lib\\site-packages\\traits\\observation\\_trait_event_notifier.py\", line 122, in __call__\n",
      "    self.dispatcher(handler, event)\n",
      "  File \"C:\\Users\\spart\\miniconda3\\envs\\bmcs_env\\lib\\site-packages\\traits\\observation\\observe.py\", line 27, in dispatch_same\n",
      "    handler(event)\n",
      "  File \"d:\\homam\\synced\\programming\\python\\bmcs_shell\\bmcs_shell\\folding\\geometry\\wb_tessellation\\wb_tessellation_5pv2.py\", line 30, in update_after_wb_cell_GEO_changes\n",
      "    self.update_plot(self.pb)\n",
      "  File \"d:\\homam\\synced\\programming\\python\\bmcs_shell\\bmcs_shell\\folding\\geometry\\wb_tessellation\\wb_num_tessellation.py\", line 105, in update_plot\n",
      "    X_Ia, I_Fi  = self.calc_mesh_for_tessellated_cells()\n",
      "  File \"d:\\homam\\synced\\programming\\python\\bmcs_shell\\bmcs_shell\\folding\\geometry\\wb_tessellation\\wb_num_tessellation.py\", line 87, in calc_mesh_for_tessellated_cells\n",
      "    base_cell_X_Ia = self._get_ul_X_Ia(self._get_ur_X_Ia(next_y_base_cell_X_Ia))\n",
      "  File \"d:\\homam\\synced\\programming\\python\\bmcs_shell\\bmcs_shell\\folding\\geometry\\wb_tessellation\\wb_tessellation_base.py\", line 57, in _get_ul_X_Ia\n",
      "    br_X_Ia = self._get_cell_matching_v1_to_v2(X_Ia, np.array([5, 1]), np.array([4, 6]))\n",
      "  File \"d:\\homam\\synced\\programming\\python\\bmcs_shell\\bmcs_shell\\folding\\geometry\\wb_tessellation\\wb_tessellation_base.py\", line 67, in _get_cell_matching_v1_to_v2\n",
      "    rot, trans = get_best_rot_and_trans_3d(v1_2a, v2_2a)\n",
      "  File \"d:\\homam\\synced\\programming\\python\\bmcs_shell\\bmcs_shell\\folding\\geometry\\math_utils.py\", line 40, in get_best_rot_and_trans_3d\n",
      "    U, S, Vt = np.linalg.svd(H)\n",
      "  File \"<__array_function__ internals>\", line 5, in svd\n",
      "  File \"C:\\Users\\spart\\miniconda3\\envs\\bmcs_env\\lib\\site-packages\\numpy\\linalg\\linalg.py\", line 1660, in svd\n",
      "    u, s, vh = gufunc(a, signature=signature, extobj=extobj)\n",
      "  File \"C:\\Users\\spart\\miniconda3\\envs\\bmcs_env\\lib\\site-packages\\numpy\\linalg\\linalg.py\", line 97, in _raise_linalgerror_svd_nonconvergence\n",
      "    raise LinAlgError(\"SVD did not converge\")\n",
      "numpy.linalg.LinAlgError: SVD did not converge\n"
     ]
    },
    {
     "name": "stdout",
     "output_type": "stream",
     "text": [
      "W: -25556477312.314957\n",
      "T_rho: -795982.8969232523\n",
      "T_sigma: 38332336.911638014\n",
      "sol_P2_t_2: nan\n",
      "sol_Q2_u_2: nan\n",
      "Ana. solution: [nan nan]\n"
     ]
    },
    {
     "name": "stderr",
     "output_type": "stream",
     "text": [
      "Exception occurred in traits notification handler for event object: TraitChangeEvent(object=<bmcs_shell.folding.geometry.wb_cell.wb_cell_5p_v2.WBCell5ParamV2 object at 0x0000016292ACFCC0>, name='beta', old=1.68186266, new=1.7135959)\n",
      "Traceback (most recent call last):\n",
      "  File \"C:\\Users\\spart\\miniconda3\\envs\\bmcs_env\\lib\\site-packages\\traits\\observation\\_trait_event_notifier.py\", line 122, in __call__\n",
      "    self.dispatcher(handler, event)\n",
      "  File \"C:\\Users\\spart\\miniconda3\\envs\\bmcs_env\\lib\\site-packages\\traits\\observation\\observe.py\", line 27, in dispatch_same\n",
      "    handler(event)\n",
      "  File \"d:\\homam\\synced\\programming\\python\\bmcs_shell\\bmcs_shell\\folding\\geometry\\wb_tessellation\\wb_tessellation_5pv2.py\", line 30, in update_after_wb_cell_GEO_changes\n",
      "    self.update_plot(self.pb)\n",
      "  File \"d:\\homam\\synced\\programming\\python\\bmcs_shell\\bmcs_shell\\folding\\geometry\\wb_tessellation\\wb_num_tessellation.py\", line 105, in update_plot\n",
      "    X_Ia, I_Fi  = self.calc_mesh_for_tessellated_cells()\n",
      "  File \"d:\\homam\\synced\\programming\\python\\bmcs_shell\\bmcs_shell\\folding\\geometry\\wb_tessellation\\wb_num_tessellation.py\", line 87, in calc_mesh_for_tessellated_cells\n",
      "    base_cell_X_Ia = self._get_ul_X_Ia(self._get_ur_X_Ia(next_y_base_cell_X_Ia))\n",
      "  File \"d:\\homam\\synced\\programming\\python\\bmcs_shell\\bmcs_shell\\folding\\geometry\\wb_tessellation\\wb_tessellation_base.py\", line 57, in _get_ul_X_Ia\n",
      "    br_X_Ia = self._get_cell_matching_v1_to_v2(X_Ia, np.array([5, 1]), np.array([4, 6]))\n",
      "  File \"d:\\homam\\synced\\programming\\python\\bmcs_shell\\bmcs_shell\\folding\\geometry\\wb_tessellation\\wb_tessellation_base.py\", line 67, in _get_cell_matching_v1_to_v2\n",
      "    rot, trans = get_best_rot_and_trans_3d(v1_2a, v2_2a)\n",
      "  File \"d:\\homam\\synced\\programming\\python\\bmcs_shell\\bmcs_shell\\folding\\geometry\\math_utils.py\", line 40, in get_best_rot_and_trans_3d\n",
      "    U, S, Vt = np.linalg.svd(H)\n",
      "  File \"<__array_function__ internals>\", line 5, in svd\n",
      "  File \"C:\\Users\\spart\\miniconda3\\envs\\bmcs_env\\lib\\site-packages\\numpy\\linalg\\linalg.py\", line 1660, in svd\n",
      "    u, s, vh = gufunc(a, signature=signature, extobj=extobj)\n",
      "  File \"C:\\Users\\spart\\miniconda3\\envs\\bmcs_env\\lib\\site-packages\\numpy\\linalg\\linalg.py\", line 97, in _raise_linalgerror_svd_nonconvergence\n",
      "    raise LinAlgError(\"SVD did not converge\")\n",
      "numpy.linalg.LinAlgError: SVD did not converge\n"
     ]
    },
    {
     "name": "stdout",
     "output_type": "stream",
     "text": [
      "W: -13821392862.995476\n",
      "T_rho: 8398690.442816507\n",
      "T_sigma: 44009241.98048524\n",
      "sol_P2_t_2: nan\n",
      "sol_Q2_u_2: nan\n",
      "Ana. solution: [nan nan]\n",
      "W: 12534256465.521694\n",
      "T_rho: 33668631.15589046\n",
      "T_sigma: 53162437.55566149\n",
      "sol_P2_t_2: 1.0450199959903883\n",
      "sol_Q2_u_2: 1.289014566604575\n",
      "Ana. solution: [-1.82199025 -1.61481812]\n",
      "W: 20463996691.38955\n",
      "T_rho: 46378005.1853695\n",
      "T_sigma: 51082022.97108368\n",
      "sol_P2_t_2: 1.2178513265391298\n",
      "sol_Q2_u_2: 1.2791948002154256\n",
      "Ana. solution: [-1.81457606 -1.76662074]\n",
      "W: 20661799680.571583\n",
      "T_rho: 50639564.26298053\n",
      "T_sigma: 47087186.29427544\n",
      "sol_P2_t_2: 1.273502299042178\n",
      "sol_Q2_u_2: 1.2271387938273237\n",
      "Ana. solution: [-1.77406714 -1.81024562]\n",
      "W: 17812747323.43996\n",
      "T_rho: 53004489.154261574\n",
      "T_sigma: 40887982.79272814\n",
      "sol_P2_t_2: 1.3015494517844517\n",
      "sol_Q2_u_2: 1.1454021403896284\n",
      "Ana. solution: [-1.70613704 -1.83135255]\n",
      "W: 11380378021.562256\n",
      "T_rho: 52996010.4756083\n",
      "T_sigma: 32298797.801210865\n",
      "sol_P2_t_2: 1.2816705334882417\n",
      "sol_Q2_u_2: 1.0246019324571098\n",
      "Ana. solution: [-1.59509811 -1.81645197]\n",
      "W: 655526082.217083\n",
      "T_rho: 50018627.76739449\n",
      "T_sigma: 21124354.926869683\n",
      "sol_P2_t_2: 1.0979462078254343\n",
      "sol_Q2_u_2: 0.7870042649962543\n",
      "Ana. solution: [-1.33353265 -1.664102  ]\n"
     ]
    },
    {
     "name": "stderr",
     "output_type": "stream",
     "text": [
      "Exception occurred in traits notification handler for event object: TraitChangeEvent(object=<bmcs_shell.folding.geometry.wb_cell.wb_cell_5p_v2.WBCell5ParamV2 object at 0x0000016292ACFCC0>, name='beta', old=1.99919505, new=2.03092829)\n",
      "Traceback (most recent call last):\n",
      "  File \"C:\\Users\\spart\\miniconda3\\envs\\bmcs_env\\lib\\site-packages\\traits\\observation\\_trait_event_notifier.py\", line 122, in __call__\n",
      "    self.dispatcher(handler, event)\n",
      "  File \"C:\\Users\\spart\\miniconda3\\envs\\bmcs_env\\lib\\site-packages\\traits\\observation\\observe.py\", line 27, in dispatch_same\n",
      "    handler(event)\n",
      "  File \"d:\\homam\\synced\\programming\\python\\bmcs_shell\\bmcs_shell\\folding\\geometry\\wb_tessellation\\wb_tessellation_5pv2.py\", line 30, in update_after_wb_cell_GEO_changes\n",
      "    self.update_plot(self.pb)\n",
      "  File \"d:\\homam\\synced\\programming\\python\\bmcs_shell\\bmcs_shell\\folding\\geometry\\wb_tessellation\\wb_num_tessellation.py\", line 105, in update_plot\n",
      "    X_Ia, I_Fi  = self.calc_mesh_for_tessellated_cells()\n",
      "  File \"d:\\homam\\synced\\programming\\python\\bmcs_shell\\bmcs_shell\\folding\\geometry\\wb_tessellation\\wb_num_tessellation.py\", line 87, in calc_mesh_for_tessellated_cells\n",
      "    base_cell_X_Ia = self._get_ul_X_Ia(self._get_ur_X_Ia(next_y_base_cell_X_Ia))\n",
      "  File \"d:\\homam\\synced\\programming\\python\\bmcs_shell\\bmcs_shell\\folding\\geometry\\wb_tessellation\\wb_tessellation_base.py\", line 57, in _get_ul_X_Ia\n",
      "    br_X_Ia = self._get_cell_matching_v1_to_v2(X_Ia, np.array([5, 1]), np.array([4, 6]))\n",
      "  File \"d:\\homam\\synced\\programming\\python\\bmcs_shell\\bmcs_shell\\folding\\geometry\\wb_tessellation\\wb_tessellation_base.py\", line 67, in _get_cell_matching_v1_to_v2\n",
      "    rot, trans = get_best_rot_and_trans_3d(v1_2a, v2_2a)\n",
      "  File \"d:\\homam\\synced\\programming\\python\\bmcs_shell\\bmcs_shell\\folding\\geometry\\math_utils.py\", line 40, in get_best_rot_and_trans_3d\n",
      "    U, S, Vt = np.linalg.svd(H)\n",
      "  File \"<__array_function__ internals>\", line 5, in svd\n",
      "  File \"C:\\Users\\spart\\miniconda3\\envs\\bmcs_env\\lib\\site-packages\\numpy\\linalg\\linalg.py\", line 1660, in svd\n",
      "    u, s, vh = gufunc(a, signature=signature, extobj=extobj)\n",
      "  File \"C:\\Users\\spart\\miniconda3\\envs\\bmcs_env\\lib\\site-packages\\numpy\\linalg\\linalg.py\", line 97, in _raise_linalgerror_svd_nonconvergence\n",
      "    raise LinAlgError(\"SVD did not converge\")\n",
      "numpy.linalg.LinAlgError: SVD did not converge\n"
     ]
    },
    {
     "name": "stdout",
     "output_type": "stream",
     "text": [
      "W: -15346541401.422184\n",
      "T_rho: 43302658.32050962\n",
      "T_sigma: 7156412.4246556815\n",
      "sol_P2_t_2: nan\n",
      "sol_Q2_u_2: nan\n",
      "Ana. solution: [nan nan]\n",
      "W: -38093849750.74588\n",
      "T_rho:"
     ]
    },
    {
     "name": "stderr",
     "output_type": "stream",
     "text": [
      "Exception occurred in traits notification handler for event object: TraitChangeEvent(object=<bmcs_shell.folding.geometry.wb_cell.wb_cell_5p_v2.WBCell5ParamV2 object at 0x0000016292ACFCC0>, name='beta', old=2.03092829, new=2.06266153)\n",
      "Traceback (most recent call last):\n",
      "  File \"C:\\Users\\spart\\miniconda3\\envs\\bmcs_env\\lib\\site-packages\\traits\\observation\\_trait_event_notifier.py\", line 122, in __call__\n",
      "    self.dispatcher(handler, event)\n",
      "  File \"C:\\Users\\spart\\miniconda3\\envs\\bmcs_env\\lib\\site-packages\\traits\\observation\\observe.py\", line 27, in dispatch_same\n",
      "    handler(event)\n",
      "  File \"d:\\homam\\synced\\programming\\python\\bmcs_shell\\bmcs_shell\\folding\\geometry\\wb_tessellation\\wb_tessellation_5pv2.py\", line 30, in update_after_wb_cell_GEO_changes\n",
      "    self.update_plot(self.pb)\n",
      "  File \"d:\\homam\\synced\\programming\\python\\bmcs_shell\\bmcs_shell\\folding\\geometry\\wb_tessellation\\wb_num_tessellation.py\", line 105, in update_plot\n",
      "    X_Ia, I_Fi  = self.calc_mesh_for_tessellated_cells()\n",
      "  File \"d:\\homam\\synced\\programming\\python\\bmcs_shell\\bmcs_shell\\folding\\geometry\\wb_tessellation\\wb_num_tessellation.py\", line 87, in calc_mesh_for_tessellated_cells\n",
      "    base_cell_X_Ia = self._get_ul_X_Ia(self._get_ur_X_Ia(next_y_base_cell_X_Ia))\n",
      "  File \"d:\\homam\\synced\\programming\\python\\bmcs_shell\\bmcs_shell\\folding\\geometry\\wb_tessellation\\wb_tessellation_base.py\", line 57, in _get_ul_X_Ia\n",
      "    br_X_Ia = self._get_cell_matching_v1_to_v2(X_Ia, np.array([5, 1]), np.array([4, 6]))\n",
      "  File \"d:\\homam\\synced\\programming\\python\\bmcs_shell\\bmcs_shell\\folding\\geometry\\wb_tessellation\\wb_tessellation_base.py\", line 67, in _get_cell_matching_v1_to_v2\n",
      "    rot, trans = get_best_rot_and_trans_3d(v1_2a, v2_2a)\n",
      "  File \"d:\\homam\\synced\\programming\\python\\bmcs_shell\\bmcs_shell\\folding\\geometry\\math_utils.py\", line 40, in get_best_rot_and_trans_3d\n",
      "    U, S, Vt = np.linalg.svd(H)\n",
      "  File \"<__array_function__ internals>\", line 5, in svd\n",
      "  File \"C:\\Users\\spart\\miniconda3\\envs\\bmcs_env\\lib\\site-packages\\numpy\\linalg\\linalg.py\", line 1660, in svd\n",
      "    u, s, vh = gufunc(a, signature=signature, extobj=extobj)\n",
      "  File \"C:\\Users\\spart\\miniconda3\\envs\\bmcs_env\\lib\\site-packages\\numpy\\linalg\\linalg.py\", line 97, in _raise_linalgerror_svd_nonconvergence\n",
      "    raise LinAlgError(\"SVD did not converge\")\n",
      "numpy.linalg.LinAlgError: SVD did not converge\n"
     ]
    },
    {
     "name": "stdout",
     "output_type": "stream",
     "text": [
      " 31803261.351961266\n",
      "T_sigma: -9836989.536457373\n",
      "sol_P2_t_2: nan\n",
      "sol_Q2_u_2: nan\n",
      "Ana. solution: [nan nan]\n"
     ]
    },
    {
     "name": "stderr",
     "output_type": "stream",
     "text": [
      "Exception occurred in traits notification handler for event object: TraitChangeEvent(object=<bmcs_shell.folding.geometry.wb_cell.wb_cell_5p_v2.WBCell5ParamV2 object at 0x0000016292ACFCC0>, name='beta', old=2.06266153, new=2.09439477)\n",
      "Traceback (most recent call last):\n",
      "  File \"C:\\Users\\spart\\miniconda3\\envs\\bmcs_env\\lib\\site-packages\\traits\\observation\\_trait_event_notifier.py\", line 122, in __call__\n",
      "    self.dispatcher(handler, event)\n",
      "  File \"C:\\Users\\spart\\miniconda3\\envs\\bmcs_env\\lib\\site-packages\\traits\\observation\\observe.py\", line 27, in dispatch_same\n",
      "    handler(event)\n",
      "  File \"d:\\homam\\synced\\programming\\python\\bmcs_shell\\bmcs_shell\\folding\\geometry\\wb_tessellation\\wb_tessellation_5pv2.py\", line 30, in update_after_wb_cell_GEO_changes\n",
      "    self.update_plot(self.pb)\n",
      "  File \"d:\\homam\\synced\\programming\\python\\bmcs_shell\\bmcs_shell\\folding\\geometry\\wb_tessellation\\wb_num_tessellation.py\", line 105, in update_plot\n",
      "    X_Ia, I_Fi  = self.calc_mesh_for_tessellated_cells()\n",
      "  File \"d:\\homam\\synced\\programming\\python\\bmcs_shell\\bmcs_shell\\folding\\geometry\\wb_tessellation\\wb_num_tessellation.py\", line 87, in calc_mesh_for_tessellated_cells\n",
      "    base_cell_X_Ia = self._get_ul_X_Ia(self._get_ur_X_Ia(next_y_base_cell_X_Ia))\n",
      "  File \"d:\\homam\\synced\\programming\\python\\bmcs_shell\\bmcs_shell\\folding\\geometry\\wb_tessellation\\wb_tessellation_base.py\", line 57, in _get_ul_X_Ia\n",
      "    br_X_Ia = self._get_cell_matching_v1_to_v2(X_Ia, np.array([5, 1]), np.array([4, 6]))\n",
      "  File \"d:\\homam\\synced\\programming\\python\\bmcs_shell\\bmcs_shell\\folding\\geometry\\wb_tessellation\\wb_tessellation_base.py\", line 67, in _get_cell_matching_v1_to_v2\n",
      "    rot, trans = get_best_rot_and_trans_3d(v1_2a, v2_2a)\n",
      "  File \"d:\\homam\\synced\\programming\\python\\bmcs_shell\\bmcs_shell\\folding\\geometry\\math_utils.py\", line 40, in get_best_rot_and_trans_3d\n",
      "    U, S, Vt = np.linalg.svd(H)\n",
      "  File \"<__array_function__ internals>\", line 5, in svd\n",
      "  File \"C:\\Users\\spart\\miniconda3\\envs\\bmcs_env\\lib\\site-packages\\numpy\\linalg\\linalg.py\", line 1660, in svd\n",
      "    u, s, vh = gufunc(a, signature=signature, extobj=extobj)\n",
      "  File \"C:\\Users\\spart\\miniconda3\\envs\\bmcs_env\\lib\\site-packages\\numpy\\linalg\\linalg.py\", line 97, in _raise_linalgerror_svd_nonconvergence\n",
      "    raise LinAlgError(\"SVD did not converge\")\n",
      "numpy.linalg.LinAlgError: SVD did not converge\n"
     ]
    },
    {
     "name": "stdout",
     "output_type": "stream",
     "text": [
      "W: -70046978176.79395\n",
      "T_rho: 13983691.649276376\n",
      "T_sigma: -30156531.2784632\n",
      "sol_P2_t_2: nan\n",
      "sol_Q2_u_2: nan\n",
      "Ana. solution: [nan nan]\n",
      "W:"
     ]
    },
    {
     "name": "stderr",
     "output_type": "stream",
     "text": [
      "Exception occurred in traits notification handler for event object: TraitChangeEvent(object=<bmcs_shell.folding.geometry.wb_cell.wb_cell_5p_v2.WBCell5ParamV2 object at 0x0000016292ACFCC0>, name='beta', old=2.09439477, new=2.06266153)\n",
      "Traceback (most recent call last):\n",
      "  File \"C:\\Users\\spart\\miniconda3\\envs\\bmcs_env\\lib\\site-packages\\traits\\observation\\_trait_event_notifier.py\", line 122, in __call__\n",
      "    self.dispatcher(handler, event)\n",
      "  File \"C:\\Users\\spart\\miniconda3\\envs\\bmcs_env\\lib\\site-packages\\traits\\observation\\observe.py\", line 27, in dispatch_same\n",
      "    handler(event)\n",
      "  File \"d:\\homam\\synced\\programming\\python\\bmcs_shell\\bmcs_shell\\folding\\geometry\\wb_tessellation\\wb_tessellation_5pv2.py\", line 30, in update_after_wb_cell_GEO_changes\n",
      "    self.update_plot(self.pb)\n",
      "  File \"d:\\homam\\synced\\programming\\python\\bmcs_shell\\bmcs_shell\\folding\\geometry\\wb_tessellation\\wb_num_tessellation.py\", line 105, in update_plot\n",
      "    X_Ia, I_Fi  = self.calc_mesh_for_tessellated_cells()\n",
      "  File \"d:\\homam\\synced\\programming\\python\\bmcs_shell\\bmcs_shell\\folding\\geometry\\wb_tessellation\\wb_num_tessellation.py\", line 87, in calc_mesh_for_tessellated_cells\n",
      "    base_cell_X_Ia = self._get_ul_X_Ia(self._get_ur_X_Ia(next_y_base_cell_X_Ia))\n",
      "  File \"d:\\homam\\synced\\programming\\python\\bmcs_shell\\bmcs_shell\\folding\\geometry\\wb_tessellation\\wb_tessellation_base.py\", line 57, in _get_ul_X_Ia\n",
      "    br_X_Ia = self._get_cell_matching_v1_to_v2(X_Ia, np.array([5, 1]), np.array([4, 6]))\n",
      "  File \"d:\\homam\\synced\\programming\\python\\bmcs_shell\\bmcs_shell\\folding\\geometry\\wb_tessellation\\wb_tessellation_base.py\", line 67, in _get_cell_matching_v1_to_v2\n",
      "    rot, trans = get_best_rot_and_trans_3d(v1_2a, v2_2a)\n",
      "  File \"d:\\homam\\synced\\programming\\python\\bmcs_shell\\bmcs_shell\\folding\\geometry\\math_utils.py\", line 40, in get_best_rot_and_trans_3d\n",
      "    U, S, Vt = np.linalg.svd(H)\n",
      "  File \"<__array_function__ internals>\", line 5, in svd\n",
      "  File \"C:\\Users\\spart\\miniconda3\\envs\\bmcs_env\\lib\\site-packages\\numpy\\linalg\\linalg.py\", line 1660, in svd\n",
      "    u, s, vh = gufunc(a, signature=signature, extobj=extobj)\n",
      "  File \"C:\\Users\\spart\\miniconda3\\envs\\bmcs_env\\lib\\site-packages\\numpy\\linalg\\linalg.py\", line 97, in _raise_linalgerror_svd_nonconvergence\n",
      "    raise LinAlgError(\"SVD did not converge\")\n",
      "numpy.linalg.LinAlgError: SVD did not converge\n"
     ]
    },
    {
     "name": "stdout",
     "output_type": "stream",
     "text": [
      " -38093849750.74588\n",
      "T_rho: 31803261.351961266\n",
      "T_sigma: -9836989.536457373\n",
      "sol_P2_t_2: nan\n",
      "sol_Q2_u_2: nan\n",
      "Ana. solution: [nan nan]\n"
     ]
    },
    {
     "name": "stderr",
     "output_type": "stream",
     "text": [
      "Exception occurred in traits notification handler for event object: TraitChangeEvent(object=<bmcs_shell.folding.geometry.wb_cell.wb_cell_5p_v2.WBCell5ParamV2 object at 0x0000016292ACFCC0>, name='beta', old=2.06266153, new=2.03092829)\n",
      "Traceback (most recent call last):\n",
      "  File \"C:\\Users\\spart\\miniconda3\\envs\\bmcs_env\\lib\\site-packages\\traits\\observation\\_trait_event_notifier.py\", line 122, in __call__\n",
      "    self.dispatcher(handler, event)\n",
      "  File \"C:\\Users\\spart\\miniconda3\\envs\\bmcs_env\\lib\\site-packages\\traits\\observation\\observe.py\", line 27, in dispatch_same\n",
      "    handler(event)\n",
      "  File \"d:\\homam\\synced\\programming\\python\\bmcs_shell\\bmcs_shell\\folding\\geometry\\wb_tessellation\\wb_tessellation_5pv2.py\", line 30, in update_after_wb_cell_GEO_changes\n",
      "    self.update_plot(self.pb)\n",
      "  File \"d:\\homam\\synced\\programming\\python\\bmcs_shell\\bmcs_shell\\folding\\geometry\\wb_tessellation\\wb_num_tessellation.py\", line 105, in update_plot\n",
      "    X_Ia, I_Fi  = self.calc_mesh_for_tessellated_cells()\n",
      "  File \"d:\\homam\\synced\\programming\\python\\bmcs_shell\\bmcs_shell\\folding\\geometry\\wb_tessellation\\wb_num_tessellation.py\", line 87, in calc_mesh_for_tessellated_cells\n",
      "    base_cell_X_Ia = self._get_ul_X_Ia(self._get_ur_X_Ia(next_y_base_cell_X_Ia))\n",
      "  File \"d:\\homam\\synced\\programming\\python\\bmcs_shell\\bmcs_shell\\folding\\geometry\\wb_tessellation\\wb_tessellation_base.py\", line 57, in _get_ul_X_Ia\n",
      "    br_X_Ia = self._get_cell_matching_v1_to_v2(X_Ia, np.array([5, 1]), np.array([4, 6]))\n",
      "  File \"d:\\homam\\synced\\programming\\python\\bmcs_shell\\bmcs_shell\\folding\\geometry\\wb_tessellation\\wb_tessellation_base.py\", line 67, in _get_cell_matching_v1_to_v2\n",
      "    rot, trans = get_best_rot_and_trans_3d(v1_2a, v2_2a)\n",
      "  File \"d:\\homam\\synced\\programming\\python\\bmcs_shell\\bmcs_shell\\folding\\geometry\\math_utils.py\", line 40, in get_best_rot_and_trans_3d\n",
      "    U, S, Vt = np.linalg.svd(H)\n",
      "  File \"<__array_function__ internals>\", line 5, in svd\n",
      "  File \"C:\\Users\\spart\\miniconda3\\envs\\bmcs_env\\lib\\site-packages\\numpy\\linalg\\linalg.py\", line 1660, in svd\n",
      "    u, s, vh = gufunc(a, signature=signature, extobj=extobj)\n",
      "  File \"C:\\Users\\spart\\miniconda3\\envs\\bmcs_env\\lib\\site-packages\\numpy\\linalg\\linalg.py\", line 97, in _raise_linalgerror_svd_nonconvergence\n",
      "    raise LinAlgError(\"SVD did not converge\")\n",
      "numpy.linalg.LinAlgError: SVD did not converge\n"
     ]
    },
    {
     "name": "stdout",
     "output_type": "stream",
     "text": [
      "W: -15346541401.422184\n",
      "T_rho: 43302658.32050962\n",
      "T_sigma: 7156412.4246556815\n",
      "sol_P2_t_2: nan\n",
      "sol_Q2_u_2: nan\n",
      "Ana. solution: [nan nan]\n",
      "W: 11380378021.562256\n",
      "T_rho: 52996010.4756083\n",
      "T_sigma: 32298797.801210865\n",
      "sol_P2_t_2: 1.2816705334882417\n",
      "sol_Q2_u_2: 1.0246019324571098\n",
      "Ana. solution: [-1.59509811 -1.81645197]\n",
      "W: 12534256465.521694\n",
      "T_rho: 33668631.15589046\n",
      "T_sigma: 53162437.55566149\n",
      "sol_P2_t_2: 1.0450199959903883\n",
      "sol_Q2_u_2: 1.289014566604575\n",
      "Ana. solution: [-1.82199025 -1.61481812]\n"
     ]
    },
    {
     "name": "stderr",
     "output_type": "stream",
     "text": [
      "Exception occurred in traits notification handler for event object: TraitChangeEvent(object=<bmcs_shell.folding.geometry.wb_cell.wb_cell_5p_v2.WBCell5ParamV2 object at 0x0000016292ACFCC0>, name='beta', old=1.80879562, new=1.68186266)\n",
      "Traceback (most recent call last):\n",
      "  File \"C:\\Users\\spart\\miniconda3\\envs\\bmcs_env\\lib\\site-packages\\traits\\observation\\_trait_event_notifier.py\", line 122, in __call__\n",
      "    self.dispatcher(handler, event)\n",
      "  File \"C:\\Users\\spart\\miniconda3\\envs\\bmcs_env\\lib\\site-packages\\traits\\observation\\observe.py\", line 27, in dispatch_same\n",
      "    handler(event)\n",
      "  File \"d:\\homam\\synced\\programming\\python\\bmcs_shell\\bmcs_shell\\folding\\geometry\\wb_tessellation\\wb_tessellation_5pv2.py\", line 30, in update_after_wb_cell_GEO_changes\n",
      "    self.update_plot(self.pb)\n",
      "  File \"d:\\homam\\synced\\programming\\python\\bmcs_shell\\bmcs_shell\\folding\\geometry\\wb_tessellation\\wb_num_tessellation.py\", line 105, in update_plot\n",
      "    X_Ia, I_Fi  = self.calc_mesh_for_tessellated_cells()\n",
      "  File \"d:\\homam\\synced\\programming\\python\\bmcs_shell\\bmcs_shell\\folding\\geometry\\wb_tessellation\\wb_num_tessellation.py\", line 87, in calc_mesh_for_tessellated_cells\n",
      "    base_cell_X_Ia = self._get_ul_X_Ia(self._get_ur_X_Ia(next_y_base_cell_X_Ia))\n",
      "  File \"d:\\homam\\synced\\programming\\python\\bmcs_shell\\bmcs_shell\\folding\\geometry\\wb_tessellation\\wb_tessellation_base.py\", line 57, in _get_ul_X_Ia\n",
      "    br_X_Ia = self._get_cell_matching_v1_to_v2(X_Ia, np.array([5, 1]), np.array([4, 6]))\n",
      "  File \"d:\\homam\\synced\\programming\\python\\bmcs_shell\\bmcs_shell\\folding\\geometry\\wb_tessellation\\wb_tessellation_base.py\", line 67, in _get_cell_matching_v1_to_v2\n",
      "    rot, trans = get_best_rot_and_trans_3d(v1_2a, v2_2a)\n",
      "  File \"d:\\homam\\synced\\programming\\python\\bmcs_shell\\bmcs_shell\\folding\\geometry\\math_utils.py\", line 40, in get_best_rot_and_trans_3d\n",
      "    U, S, Vt = np.linalg.svd(H)\n",
      "  File \"<__array_function__ internals>\", line 5, in svd\n",
      "  File \"C:\\Users\\spart\\miniconda3\\envs\\bmcs_env\\lib\\site-packages\\numpy\\linalg\\linalg.py\", line 1660, in svd\n",
      "    u, s, vh = gufunc(a, signature=signature, extobj=extobj)\n",
      "  File \"C:\\Users\\spart\\miniconda3\\envs\\bmcs_env\\lib\\site-packages\\numpy\\linalg\\linalg.py\", line 97, in _raise_linalgerror_svd_nonconvergence\n",
      "    raise LinAlgError(\"SVD did not converge\")\n",
      "numpy.linalg.LinAlgError: SVD did not converge\n"
     ]
    },
    {
     "name": "stdout",
     "output_type": "stream",
     "text": [
      "W: -25556477312.314957\n",
      "T_rho: -795982.8969232523\n",
      "T_sigma: 38332336.911638014\n",
      "sol_P2_t_2: nan\n",
      "sol_Q2_u_2: nan\n",
      "Ana. solution: [nan nan]\n"
     ]
    }
   ],
   "source": [
    "wbttpv2 = WBTessellation5PV2(wb_cell=WBCell5ParamV2(a = 500, b = 750, c = 400, gamma = 0.9, beta= 1.78), sol_num=4)\n",
    "wbttpv2.interact()"
   ]
  },
  {
   "cell_type": "code",
   "execution_count": null,
   "metadata": {},
   "outputs": [],
   "source": []
  }
 ],
 "metadata": {
  "kernelspec": {
   "display_name": "Python 3 (ipykernel)",
   "language": "python",
   "name": "python3"
  },
  "language_info": {
   "codemirror_mode": {
    "name": "ipython",
    "version": 3
   },
   "file_extension": ".py",
   "mimetype": "text/x-python",
   "name": "python",
   "nbconvert_exporter": "python",
   "pygments_lexer": "ipython3",
   "version": "3.9.7"
  },
  "toc": {
   "base_numbering": 1,
   "nav_menu": {},
   "number_sections": true,
   "sideBar": true,
   "skip_h1_title": true,
   "title_cell": "Table of Contents",
   "title_sidebar": "Contents",
   "toc_cell": false,
   "toc_position": {},
   "toc_section_display": true,
   "toc_window_display": false
  }
 },
 "nbformat": 4,
 "nbformat_minor": 4
}
