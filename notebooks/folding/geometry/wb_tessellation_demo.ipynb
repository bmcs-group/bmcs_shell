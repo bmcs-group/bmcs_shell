{
 "cells": [
  {
   "cell_type": "markdown",
   "metadata": {},
   "source": [
    "# Waterbomb tessellation demo"
   ]
  },
  {
   "cell_type": "code",
   "execution_count": 1,
   "metadata": {},
   "outputs": [],
   "source": [
    "%matplotlib widget\n",
    "from bmcs_shell.api import WBCell5Param, WBTessellation5PV2, WBTessellation4PFlat, WBTessellation4PV2Flat, WBNumTessellation, WBNumTessellationInvest, WBTessellationBase, WBNumTessellationBase, WBCell5ParamV2, WBTessellation4P, WBCell4Param\n",
    "import numpy as np"
   ]
  },
  {
   "cell_type": "markdown",
   "metadata": {},
   "source": [
    "## Analytical tessellation of symmetric waterbomb cell (4P cell)"
   ]
  },
  {
   "cell_type": "code",
   "execution_count": 2,
   "metadata": {
    "scrolled": false
   },
   "outputs": [
    {
     "name": "stderr",
     "output_type": "stream",
     "text": [
      "C:\\Users\\hspartali\\Anaconda3\\envs\\bmcs_env\\lib\\site-packages\\traittypes\\traittypes.py:97: UserWarning: Given trait value dtype \"uint32\" does not match required type \"float32\". A coerced copy has been created.\n",
      "  warnings.warn(\n"
     ]
    },
    {
     "data": {
      "application/vnd.jupyter.widget-view+json": {
       "model_id": "0f2f686a27f0401b937cc3909bd70056",
       "version_major": 2,
       "version_minor": 0
      },
      "text/plain": [
       "VBox(children=(HBox(children=(VBox(children=(Tree(layout=Layout(align_items='stretch', border='solid 1px black…"
      ]
     },
     "metadata": {},
     "output_type": "display_data"
    }
   ],
   "source": [
    "wbt4p = WBTessellation4P()\n",
    "wbt4p.interact()"
   ]
  },
  {
   "cell_type": "markdown",
   "metadata": {},
   "source": [
    "## General numerical tessellation of any wb cell with 6 facets"
   ]
  },
  {
   "cell_type": "code",
   "execution_count": 2,
   "metadata": {
    "scrolled": false
   },
   "outputs": [
    {
     "name": "stdout",
     "output_type": "stream",
     "text": [
      "---------------------------\n",
      "smallest_dist= 0.003999999164875345\n",
      "num_sol= [3.14159265 3.14159265]\n"
     ]
    },
    {
     "name": "stderr",
     "output_type": "stream",
     "text": [
      "C:\\Users\\hspartali\\Anaconda3\\envs\\bmcs_env\\lib\\site-packages\\traittypes\\traittypes.py:97: UserWarning: Given trait value dtype \"uint32\" does not match required type \"float32\". A coerced copy has been created.\n",
      "  warnings.warn(\n"
     ]
    },
    {
     "data": {
      "application/vnd.jupyter.widget-view+json": {
       "model_id": "b3623242439a452993c7771e6fac16b2",
       "version_major": 2,
       "version_minor": 0
      },
      "text/plain": [
       "VBox(children=(HBox(children=(VBox(children=(Tree(layout=Layout(align_items='stretch', border='solid 1px black…"
      ]
     },
     "metadata": {},
     "output_type": "display_data"
    }
   ],
   "source": [
    "wb_num_t = WBNumTessellation()\n",
    "wb_num_t.interact()"
   ]
  },
  {
   "cell_type": "markdown",
   "metadata": {},
   "source": [
    "## Class for investigating 3 cells tessellation manually"
   ]
  },
  {
   "cell_type": "code",
   "execution_count": null,
   "metadata": {
    "scrolled": false
   },
   "outputs": [],
   "source": [
    "wb_num_t_invest = WBNumTessellationInvest()\n",
    "wb_num_t_invest.interact()"
   ]
  },
  {
   "cell_type": "markdown",
   "metadata": {},
   "source": [
    "## Analytical tessellation of 5P cell V2"
   ]
  },
  {
   "cell_type": "code",
   "execution_count": 4,
   "metadata": {
    "scrolled": true
   },
   "outputs": [
    {
     "name": "stdout",
     "output_type": "stream",
     "text": [
      "W: 20923399552.96468\n",
      "T_rho: 49039808.94604914\n",
      "T_sigma: 49039807.773362406\n",
      "sol_P2_t_2: 1.252683695255952\n",
      "sol_Q2_u_2: 1.252683637269059\n",
      "Ana. solution: [-1.79420258 -1.79420262]\n"
     ]
    },
    {
     "data": {
      "application/vnd.jupyter.widget-view+json": {
       "model_id": "398e441fd2b8430ba6b8da63e9976228",
       "version_major": 2,
       "version_minor": 0
      },
      "text/plain": [
       "VBox(children=(HBox(children=(VBox(children=(Tree(layout=Layout(align_items='stretch', border='solid 1px black…"
      ]
     },
     "metadata": {},
     "output_type": "display_data"
    },
    {
     "name": "stdout",
     "output_type": "stream",
     "text": [
      "W: 20923399552.96468\n",
      "T_rho: 49039808.94604914\n",
      "T_sigma: 49039807.773362406\n",
      "sol_P2_t_2: 1.252683695255952\n",
      "sol_Q2_u_2: 1.252683637269059\n",
      "Ana. solution: [-1.79420258 -1.79420262]\n",
      "W: 20923399552.96468\n",
      "T_rho: 49039808.94604914\n",
      "T_sigma: 49039807.773362406\n",
      "sol_P2_t_2: 1.252683695255952\n",
      "sol_Q2_u_2: 1.252683637269059\n",
      "Ana. solution: [-1.79420258 -1.79420262]\n",
      "W: 20923399552.96468\n",
      "T_rho: 49039808.94604914\n",
      "T_sigma: 49039807.773362406\n",
      "sol_P2_t_2: 1.252683695255952\n",
      "sol_Q2_u_2: 1.252683637269059\n",
      "Ana. solution: [-1.79420258 -1.79420262]\n",
      "W: 20923399552.96468\n",
      "T_rho: 49039808.94604914\n",
      "T_sigma: 49039807.773362406\n",
      "sol_P2_t_2: 1.252683695255952\n",
      "sol_Q2_u_2: 1.252683637269059\n",
      "Ana. solution: [-1.79420258 -1.79420262]\n",
      "W: 20923399552.96468\n",
      "T_rho: 49039808.94604914\n",
      "T_sigma: 49039807.773362406\n",
      "sol_P2_t_2: 1.252683695255952\n",
      "sol_Q2_u_2: 1.252683637269059\n",
      "Ana. solution: [-1.79420258 -1.79420262]\n",
      "W: 20923399552.96468\n",
      "T_rho: 49039808.94604914\n",
      "T_sigma: 49039807.773362406\n",
      "sol_P2_t_2: 1.252683695255952\n",
      "sol_Q2_u_2: 1.252683637269059\n",
      "Ana. solution: [-1.79420258 -1.79420262]\n",
      "W: 18792896466.634\n",
      "T_rho: 42572174.72460389\n",
      "T_sigma: 52637581.76163732\n",
      "sol_P2_t_2: 1.1677982354764078\n",
      "sol_Q2_u_2: 1.2981054924102753\n",
      "Ana. solution: [-1.82879155 -1.72529808]\n",
      "W: 92784947.09863567\n",
      "T_rho: 49816119.490249306\n",
      "T_sigma: 20590673.0529484\n",
      "sol_P2_t_2: 1.0543554403609061\n",
      "sol_Q2_u_2: 0.7501370318995029\n",
      "Ana. solution: [-1.28717761 -1.62370125]\n",
      "W: 4056236311.573962\n",
      "T_rho: 51165201.42402452\n",
      "T_sigma: 24440211.550616436\n",
      "sol_P2_t_2: 1.1951372495009038\n",
      "sol_Q2_u_2: 0.8857707630293251\n",
      "Ana. solution: [-1.44979558 -1.74812069]\n",
      "W: 7528786037.041113\n",
      "T_rho: 52167759.12657197\n",
      "T_sigma: 28018273.988564722\n",
      "sol_P2_t_2: 1.2462066461095216\n",
      "sol_Q2_u_2: 0.9554000298299156\n",
      "Ana. solution: [-1.525187   -1.78914462]\n",
      "W: 10541344619.337275\n",
      "T_rho: 52848010.11947794\n",
      "T_sigma: 31331381.458488446\n",
      "sol_P2_t_2: 1.2754191601130869\n",
      "sol_Q2_u_2: 1.0097696605482436\n",
      "Ana. solution: [-1.58051842 -1.8117065 ]\n",
      "W: 13121636796.009909\n",
      "T_rho: 53228202.85154991\n",
      "T_sigma: 34385913.384104975\n",
      "sol_P2_t_2: 1.292194171957336\n",
      "sol_Q2_u_2: 1.0554781578508103\n",
      "Ana. solution: [-1.62476401 -1.82437585]\n",
      "W: 15294675230.404785\n",
      "T_rho: 53328860.67340996\n",
      "T_sigma: 37188124.97677616\n",
      "sol_P2_t_2: 1.30048015755909\n",
      "sol_Q2_u_2: 1.0951259518042133\n",
      "Ana. solution: [-1.66154091 -1.83055831]\n",
      "W: 15294675230.404785\n",
      "T_rho: 53328860.67340996\n",
      "T_sigma: 37188124.97677616\n",
      "sol_P2_t_2: 1.30048015755909\n",
      "sol_Q2_u_2: 1.0951259518042133\n",
      "Ana. solution: [-1.66154091 -1.83055831]\n",
      "W: 15294675230.404785\n",
      "T_rho: 53328860.67340996\n",
      "T_sigma: 37188124.97677616\n",
      "sol_P2_t_2: 1.30048015755909\n",
      "sol_Q2_u_2: 1.0951259518042133\n",
      "Ana. solution: [-1.66154091 -1.83055831]\n",
      "W: 15294675230.404785\n",
      "T_rho: 53328860.67340996\n",
      "T_sigma: 37188124.97677616\n",
      "sol_P2_t_2: 1.30048015755909\n",
      "sol_Q2_u_2: 1.0951259518042133\n",
      "Ana. solution: [-1.66154091 -1.83055831]\n",
      "W: 15294675230.404785\n",
      "T_rho: 53328860.67340996\n",
      "T_sigma: 37188124.97677616\n",
      "sol_P2_t_2: 1.30048015755909\n",
      "sol_Q2_u_2: 1.0951259518042133\n",
      "Ana. solution: [-1.66154091 -1.83055831]\n"
     ]
    }
   ],
   "source": [
    "wbttpv2 = WBTessellation5PV2(wb_cell=WBCell5ParamV2(gamma = 0.9, beta_1= 0), sol_num=4)\n",
    "wbttpv2.interact()"
   ]
  },
  {
   "cell_type": "markdown",
   "metadata": {},
   "source": [
    "## Analytical flat tessellation generator (4P cell)"
   ]
  },
  {
   "cell_type": "code",
   "execution_count": 7,
   "metadata": {
    "scrolled": false
   },
   "outputs": [
    {
     "data": {
      "application/vnd.jupyter.widget-view+json": {
       "model_id": "3414717a70bd44b9a75587fa8244502d",
       "version_major": 2,
       "version_minor": 0
      },
      "text/plain": [
       "VBox(children=(HBox(children=(VBox(children=(Tree(layout=Layout(align_items='stretch', border='solid 1px black…"
      ]
     },
     "metadata": {},
     "output_type": "display_data"
    }
   ],
   "source": [
    "WBTessellation4PFlat().interact()"
   ]
  },
  {
   "cell_type": "markdown",
   "metadata": {},
   "source": [
    "## Analytical flat tessellation generator (modified 4P cell)"
   ]
  },
  {
   "cell_type": "code",
   "execution_count": 5,
   "metadata": {
    "scrolled": false
   },
   "outputs": [
    {
     "data": {
      "application/vnd.jupyter.widget-view+json": {
       "model_id": "3b8e177be31b4993ad557f9ed3aa0ee2",
       "version_major": 2,
       "version_minor": 0
      },
      "text/plain": [
       "VBox(children=(HBox(children=(VBox(children=(Tree(layout=Layout(align_items='stretch', border='solid 1px black…"
      ]
     },
     "metadata": {},
     "output_type": "display_data"
    }
   ],
   "source": [
    "WBTessellation4PV2Flat().interact()"
   ]
  }
 ],
 "metadata": {
  "kernelspec": {
   "display_name": "Python 3 (ipykernel)",
   "language": "python",
   "name": "python3"
  },
  "language_info": {
   "codemirror_mode": {
    "name": "ipython",
    "version": 3
   },
   "file_extension": ".py",
   "mimetype": "text/x-python",
   "name": "python",
   "nbconvert_exporter": "python",
   "pygments_lexer": "ipython3",
   "version": "3.9.12"
  },
  "toc": {
   "base_numbering": 1,
   "nav_menu": {},
   "number_sections": true,
   "sideBar": true,
   "skip_h1_title": true,
   "title_cell": "Table of Contents",
   "title_sidebar": "Contents",
   "toc_cell": false,
   "toc_position": {},
   "toc_section_display": true,
   "toc_window_display": false
  }
 },
 "nbformat": 4,
 "nbformat_minor": 4
}
