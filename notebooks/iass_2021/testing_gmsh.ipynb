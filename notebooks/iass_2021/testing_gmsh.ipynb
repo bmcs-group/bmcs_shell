{
 "cells": [
  {
   "cell_type": "markdown",
   "metadata": {},
   "source": [
    "# pygmsh testing"
   ]
  },
  {
   "cell_type": "code",
   "execution_count": 1,
   "metadata": {
    "pycharm": {
     "name": "#%%\n"
    }
   },
   "outputs": [],
   "source": [
    "%matplotlib widget"
   ]
  },
  {
   "cell_type": "code",
   "execution_count": 2,
   "metadata": {},
   "outputs": [],
   "source": [
    "# from bmcs_shell.folding.wb_model import WBModel\n",
    "# from bmcs_shell.folding.vmats2D_elastic import MATS2DElastic\n",
    "# import bmcs_utils.api as bu\n",
    "import pygmsh\n",
    "import numpy as np\n",
    "import k3d"
   ]
  },
  {
   "cell_type": "code",
   "execution_count": 3,
   "metadata": {},
   "outputs": [
    {
     "name": "stderr",
     "output_type": "stream",
     "text": [
      "C:\\Users\\Homam\\Anaconda3\\envs\\bmcs_env\\lib\\site-packages\\traittypes\\traittypes.py:97: UserWarning: Given trait value dtype \"float64\" does not match required type \"float32\". A coerced copy has been created.\n",
      "  warnings.warn(\n",
      "C:\\Users\\Homam\\Anaconda3\\envs\\bmcs_env\\lib\\site-packages\\traittypes\\traittypes.py:97: UserWarning: Given trait value dtype \"uint64\" does not match required type \"uint32\". A coerced copy has been created.\n",
      "  warnings.warn(\n"
     ]
    },
    {
     "data": {
      "application/vnd.jupyter.widget-view+json": {
       "model_id": "05e090486b9a4d529a86fba487f29453",
       "version_major": 2,
       "version_minor": 0
      },
      "text/plain": [
       "Output()"
      ]
     },
     "metadata": {},
     "output_type": "display_data"
    }
   ],
   "source": [
    "X_Id = np.array([[0,0,0], [1,0,0], [1,1,0], [1, 0, 1]])\n",
    "I_Fi = np.array([[0,1,2], [0,1,3]])\n",
    "mesh_size = 2 * np.linalg.norm(X_Id[1]-X_Id[0])\n",
    "\n",
    "X_Fid = X_Id[I_Fi]\n",
    "with pygmsh.geo.Geometry() as geom:\n",
    "    for X_id in X_Fid:\n",
    "        geom.add_polygon(X_id, mesh_size=3)\n",
    "    mesh = geom.generate_mesh()\n",
    "\n",
    "X_Id_mesh = mesh.points\n",
    "I_Fi_mesh = mesh.cells[1][1]\n",
    "\n",
    "k3d_mesh = k3d.mesh(X_Id_mesh, I_Fi_mesh, side='double', color=0x75ade6)\n",
    "k3d_mesh += k3d.mesh(X_Id_mesh, I_Fi_mesh, side='double', color=0x000000, wireframe=True)\n",
    "k3d_mesh"
   ]
  },
  {
   "cell_type": "code",
   "execution_count": 191,
   "metadata": {},
   "outputs": [
    {
     "data": {
      "text/plain": [
       "<meshio mesh object>\n",
       "  Number of points: 6\n",
       "  Number of cells:\n",
       "    line: 6\n",
       "    triangle: 2\n",
       "    vertex: 6"
      ]
     },
     "execution_count": 191,
     "metadata": {},
     "output_type": "execute_result"
    }
   ],
   "source": [
    "mesh"
   ]
  },
  {
   "cell_type": "markdown",
   "metadata": {},
   "source": [
    "**Note:** From the output of the last cell we see that pygmsh doesn't automatically merges the overlapping mesh (6 lines instead of 5)"
   ]
  },
  {
   "cell_type": "markdown",
   "metadata": {},
   "source": [
    "## Obtaining lines mapping from facets mapping `I_Fi`"
   ]
  },
  {
   "cell_type": "code",
   "execution_count": 101,
   "metadata": {
    "scrolled": true
   },
   "outputs": [
    {
     "data": {
      "text/plain": [
       "array([[0, 1, 2],\n",
       "       [0, 1, 3]])"
      ]
     },
     "execution_count": 101,
     "metadata": {},
     "output_type": "execute_result"
    }
   ],
   "source": [
    "I_Fi"
   ]
  },
  {
   "cell_type": "code",
   "execution_count": 102,
   "metadata": {},
   "outputs": [
    {
     "data": {
      "text/plain": [
       "array([[0, 1],\n",
       "       [0, 1],\n",
       "       [0, 2],\n",
       "       [0, 3],\n",
       "       [1, 2],\n",
       "       [1, 3]])"
      ]
     },
     "execution_count": 102,
     "metadata": {},
     "output_type": "execute_result"
    }
   ],
   "source": [
    "lines1 = I_Fi[:, [0, 1]]\n",
    "lines2 = I_Fi[:, [0, 2]]\n",
    "lines3 = I_Fi[:, [1, 2]]\n",
    "lines = np.vstack((lines1, lines2, lines3))\n",
    "lines"
   ]
  },
  {
   "cell_type": "code",
   "execution_count": 103,
   "metadata": {},
   "outputs": [
    {
     "data": {
      "text/plain": [
       "array([[0, 1],\n",
       "       [0, 1],\n",
       "       [0, 2],\n",
       "       [0, 3],\n",
       "       [1, 2],\n",
       "       [1, 3]])"
      ]
     },
     "execution_count": 103,
     "metadata": {},
     "output_type": "execute_result"
    }
   ],
   "source": [
    "lines = np.sort(lines,axis=1)\n",
    "lines"
   ]
  },
  {
   "cell_type": "code",
   "execution_count": 104,
   "metadata": {},
   "outputs": [
    {
     "data": {
      "text/plain": [
       "array([[0, 1],\n",
       "       [0, 2],\n",
       "       [0, 3],\n",
       "       [1, 2],\n",
       "       [1, 3]])"
      ]
     },
     "execution_count": 104,
     "metadata": {},
     "output_type": "execute_result"
    }
   ],
   "source": [
    "lines = np.unique(a, axis=0)\n",
    "lines"
   ]
  },
  {
   "cell_type": "markdown",
   "metadata": {},
   "source": [
    "### All together"
   ]
  },
  {
   "cell_type": "code",
   "execution_count": 7,
   "metadata": {},
   "outputs": [],
   "source": [
    "def get_lines(I_Fi):\n",
    "    lines1 = I_Fi[:, [0, 1]]\n",
    "    lines2 = I_Fi[:, [0, 2]]\n",
    "    lines3 = I_Fi[:, [1, 2]]\n",
    "    lines = np.vstack((lines1, lines2, lines3))\n",
    "    lines = np.sort(lines,axis=1)\n",
    "    lines = np.unique(lines, axis=0)\n",
    "    return lines"
   ]
  },
  {
   "cell_type": "code",
   "execution_count": 74,
   "metadata": {},
   "outputs": [],
   "source": [
    "import gmsh\n",
    "import sys\n",
    "import numpy as np\n",
    "\n",
    "X_Id = np.array([[0,0,0], [1,0,0], [1,1,0], [1, 0, 1]])\n",
    "I_Fi = np.array([[0,1,2], [0,1,3]])\n",
    "\n",
    "gmsh.initialize()\n",
    "gmsh.model.add(\"t1\")\n",
    "\n",
    "mesh_size = np.full(X_Id.shape[0], 0.1)\n",
    "\n",
    "# TODO here, I'm taking only one surface, take all\n",
    "points_coords = X_Id[I_Fi][0]\n",
    "\n",
    "points = [gmsh.model.geo.add_point(*x, l) for x, l in zip(points_coords, mesh_size)]\n",
    "curves = [gmsh.model.geo.add_line(points[k], points[k + 1]) for k in range(len(points) - 1)] + [gmsh.model.geo.add_line(points[-1], points[0])]\n",
    "\n",
    "curve_loop = gmsh.model.geo.add_curve_loop(curves)\n",
    "surface = gmsh.model.geo.add_plane_surface([curve_loop])\n",
    "\n",
    "gmsh.model.geo.synchronize()\n",
    "\n",
    "# Adding BCs\n",
    "gmsh.model.add_physical_group(1, [1, 2], 555)\n",
    "gmsh.model.set_physical_name(2, 555, \"Fixed support\")\n",
    "\n",
    "gmsh.model.mesh.generate(3)\n",
    "\n",
    "if '-nopopup' not in sys.argv:\n",
    "    gmsh.fltk.run()\n",
    "\n",
    "gmsh.finalize()"
   ]
  },
  {
   "cell_type": "code",
   "execution_count": 65,
   "metadata": {},
   "outputs": [
    {
     "name": "stdout",
     "output_type": "stream",
     "text": [
      "[[1 2]\n",
      " [1 3]\n",
      " [2 3]]\n"
     ]
    }
   ],
   "source": [
    "# Old test\n",
    "import gmsh\n",
    "import sys\n",
    "\n",
    "X_Id = np.array([[0,0,0], [1,0,0], [1,1,0]])\n",
    "I_Fi = np.array([[0,1,2]])\n",
    "\n",
    "gmsh.initialize()\n",
    "gmsh.model.add(\"t1\")\n",
    "\n",
    "X_Fid = X_Id[I_Fi]\n",
    "for point in X_Id:\n",
    "    gmsh.model.geo.add_point(*point, 0.1)\n",
    "    \n",
    "# adding one because default points' tags start with 1\n",
    "lines = get_lines(I_Fi) + 1\n",
    "print(lines)\n",
    "for line in lines:\n",
    "    gmsh.model.geo.add_line(*line)\n",
    "\n",
    "gmsh.model.geo.add_curve_loop([1, -2, 3])\n",
    "gmsh.model.geo.add_plane_surface([1])\n",
    "gmsh.model.geo.synchronize()\n",
    "\n",
    "gmsh.model.mesh.generate(3)\n",
    "\n",
    "if '-nopopup' not in sys.argv:\n",
    "    gmsh.fltk.run()\n",
    "\n",
    "gmsh.finalize()"
   ]
  },
  {
   "cell_type": "markdown",
   "metadata": {},
   "source": [
    "## Test with the wb shell"
   ]
  },
  {
   "cell_type": "code",
   "execution_count": 4,
   "metadata": {},
   "outputs": [],
   "source": [
    "tmodel = MATS2DElastic(E=28000, nu=0.2)\n",
    "n_phi_plus=2\n",
    "n_x_plus=1\n",
    "wbm = WBModel(F=-20000, h=10, tmodel=tmodel)\n",
    "data = dict(alpha=1., a=500, a_high=3000, b=900, b_high=3000, c=400, c_high=2000,\n",
    "            n_phi_plus=n_phi_plus, n_x_plus=n_x_plus, show_nodes=True)\n",
    "wbm.wb_mesh.trait_set(**data);"
   ]
  },
  {
   "cell_type": "code",
   "execution_count": 5,
   "metadata": {},
   "outputs": [
    {
     "data": {
      "application/vnd.jupyter.widget-view+json": {
       "model_id": "c7ad1c357a8940139a7cf865b537ce15",
       "version_major": 2,
       "version_minor": 0
      },
      "text/plain": [
       "HBox(children=(VBox(children=(Tree(layout=Layout(align_items='stretch', border='solid 1px black', display='fle…"
      ]
     },
     "metadata": {},
     "output_type": "display_data"
    }
   ],
   "source": [
    "wbm.app()"
   ]
  },
  {
   "cell_type": "code",
   "execution_count": 5,
   "metadata": {},
   "outputs": [
    {
     "data": {
      "text/plain": [
       "array([[    0.        ,   808.02069092,   -59.7734375 ],\n",
       "       [  500.        ,  1696.42700195,    84.22070312],\n",
       "       [ -500.        ,  1696.42700195,    84.22070312],\n",
       "       [  500.        ,     0.        ,   336.58886719],\n",
       "       [ -500.        ,     0.        ,   336.58886719],\n",
       "       [  216.1209259 ,   857.54797363,   273.15136719],\n",
       "       [ -216.1209259 ,   857.54797363,   273.15136719],\n",
       "       [    0.        ,  -808.02069092,   -59.7734375 ],\n",
       "       [  500.        , -1696.42700195,    84.22070312],\n",
       "       [ -500.        , -1696.42700195,    84.22070312],\n",
       "       [  216.1209259 ,  -857.54797363,   273.15136719],\n",
       "       [ -216.1209259 ,  -857.54797363,   273.15136719]])"
      ]
     },
     "execution_count": 5,
     "metadata": {},
     "output_type": "execute_result"
    }
   ],
   "source": [
    "wbm.wb_mesh.X_Id  # nodal coordinates"
   ]
  },
  {
   "cell_type": "code",
   "execution_count": 6,
   "metadata": {},
   "outputs": [
    {
     "data": {
      "text/plain": [
       "array([[ 0,  1,  2],\n",
       "       [ 0,  3,  4],\n",
       "       [ 0,  1,  5],\n",
       "       [ 0,  2,  6],\n",
       "       [ 0,  3,  5],\n",
       "       [ 0,  4,  6],\n",
       "       [ 7,  3,  4],\n",
       "       [ 7,  8,  9],\n",
       "       [ 7,  3, 10],\n",
       "       [ 7,  4, 11],\n",
       "       [ 7,  8, 10],\n",
       "       [ 7,  9, 11]])"
      ]
     },
     "execution_count": 6,
     "metadata": {},
     "output_type": "execute_result"
    }
   ],
   "source": [
    "wbm.wb_mesh.I_Fi  # elements"
   ]
  },
  {
   "cell_type": "code",
   "execution_count": 17,
   "metadata": {},
   "outputs": [
    {
     "data": {
      "text/plain": [
       "8.089402997184195"
      ]
     },
     "execution_count": 17,
     "metadata": {},
     "output_type": "execute_result"
    }
   ],
   "source": [
    "import numpy as np\n",
    "\n",
    "U_1 = wbm.hist.U_t[-1]\n",
    "# U_max = np.max(np.fabs(U_1))\n",
    "# U_max\n",
    "U_1 \n",
    "U_1.reshape(-1, 3) * 1\n",
    "# _, loaded_nodes, _ = wbm.bc_loaded\n",
    "# wbm.xdomain.I_Ei.astype(np.uint32)\n",
    "bc_fixed, fixed_nodes, fixed_dofs = wbm.bc_fixed\n",
    "bc_fixed[5]\n",
    "\n",
    "U_1 = wbm.hist.U_t[-1]\n",
    "np.max(np.fabs(U_1))"
   ]
  },
  {
   "cell_type": "code",
   "execution_count": null,
   "metadata": {},
   "outputs": [],
   "source": []
  }
 ],
 "metadata": {
  "kernelspec": {
   "display_name": "bmcs_env",
   "language": "python",
   "name": "bmcs_env"
  },
  "language_info": {
   "codemirror_mode": {
    "name": "ipython",
    "version": 3
   },
   "file_extension": ".py",
   "mimetype": "text/x-python",
   "name": "python",
   "nbconvert_exporter": "python",
   "pygments_lexer": "ipython3",
   "version": "3.9.1"
  },
  "toc": {
   "base_numbering": 1,
   "nav_menu": {},
   "number_sections": true,
   "sideBar": true,
   "skip_h1_title": true,
   "title_cell": "Table of Contents",
   "title_sidebar": "Contents",
   "toc_cell": false,
   "toc_position": {
    "height": "calc(100% - 180px)",
    "left": "10px",
    "top": "150px",
    "width": "165px"
   },
   "toc_section_display": true,
   "toc_window_display": false
  }
 },
 "nbformat": 4,
 "nbformat_minor": 4
}