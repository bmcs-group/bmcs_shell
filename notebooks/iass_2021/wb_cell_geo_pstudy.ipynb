{
 "cells": [
  {
   "cell_type": "markdown",
   "metadata": {},
   "source": [
    "# Kinematics of waterbomb folding and derived characteristics"
   ]
  },
  {
   "cell_type": "code",
   "execution_count": 1,
   "metadata": {
    "pycharm": {
     "name": "#%%\n"
    }
   },
   "outputs": [],
   "source": [
    "%matplotlib widget"
   ]
  },
  {
   "cell_type": "markdown",
   "metadata": {},
   "source": [
    "## Cell folding"
   ]
  },
  {
   "cell_type": "code",
   "execution_count": 2,
   "metadata": {},
   "outputs": [],
   "source": [
    "import sympy as sp\n",
    "sp.init_printing()\n",
    "import numpy as np"
   ]
  },
  {
   "cell_type": "code",
   "execution_count": 3,
   "metadata": {},
   "outputs": [
    {
     "data": {
      "image/png": "[encoded data removed]",
      "text/latex": [
       "$\\displaystyle \\left( L^{2} \\eta^{2} + u_{2}^{2} + u_{3}^{2}, \\  u_{2}^{2} + \\left(- L \\eta \\zeta \\sin{\\left(\\alpha \\right)} + u_{3}\\right)^{2} + \\left(- L \\eta \\zeta \\cos{\\left(\\alpha \\right)} + L \\eta\\right)^{2}\\right)$"
      ],
      "text/plain": [
       "⎛ 2  2     2     2    2                       2                        2⎞\n",
       "⎝L ⋅η  + u₂  + u₃ , u₂  + (-L⋅η⋅ζ⋅sin(α) + u₃)  + (-L⋅η⋅ζ⋅cos(α) + L⋅η) ⎠"
      ]
     },
     "execution_count": 3,
     "metadata": {},
     "output_type": "execute_result"
    }
   ],
   "source": [
    "L = sp.symbols('L', positive=True)\n",
    "eta,zeta = sp.symbols(r'eta, zeta', positive=True)\n",
    "u_2, u_3 = sp.symbols('u_2, u_3', positive=True)\n",
    "alpha = sp.symbols('alpha', positive=True)\n",
    "b = L\n",
    "a = eta*L\n",
    "c = zeta*a\n",
    "\n",
    "U0_a = sp.Matrix([a, b, 0])\n",
    "W0_a = sp.Matrix([c, 0, 0])\n",
    "UW0_a = W0_a - U0_a\n",
    "L2_U_0 = (U0_a.T * U0_a)[0]\n",
    "L2_UW_0 = (UW0_a.T * UW0_a)[0]\n",
    "\n",
    "U1_a = sp.Matrix([a, u_2, u_3])\n",
    "W1_a = sp.Matrix([c * sp.cos(alpha), 0, c * sp.sin(alpha)])\n",
    "UW1_a = U1_a - W1_a\n",
    "L2_U_1 = (U1_a.T * U1_a)[0]\n",
    "L2_UW_1 = (UW1_a.T * UW1_a)[0]\n",
    "L2_U_1, L2_UW_1"
   ]
  },
  {
   "cell_type": "code",
   "execution_count": 4,
   "metadata": {},
   "outputs": [
    {
     "data": {
      "image/png": "[encoded data removed]",
      "text/latex": [
       "$\\displaystyle \\left( \\frac{L \\eta \\left(1 - \\cos{\\left(\\alpha \\right)}\\right)}{\\sin{\\left(\\alpha \\right)}}, \\  \\sqrt{- \\frac{L^{2} \\eta^{2} \\left(1 - \\cos{\\left(\\alpha \\right)}\\right)^{2}}{\\sin^{2}{\\left(\\alpha \\right)}} + L^{2}}\\right)$"
      ],
      "text/plain": [
       "⎛                        ____________________________⎞\n",
       "⎜                       ╱    2  2             2      ⎟\n",
       "⎜L⋅η⋅(1 - cos(α))      ╱    L ⋅η ⋅(1 - cos(α))     2 ⎟\n",
       "⎜────────────────,    ╱   - ─────────────────── + L  ⎟\n",
       "⎜     sin(α)         ╱               2               ⎟\n",
       "⎝                  ╲╱             sin (α)            ⎠"
      ]
     },
     "execution_count": 4,
     "metadata": {},
     "output_type": "execute_result"
    }
   ],
   "source": [
    "u2_sol = sp.solve(L2_U_1 - L2_U_0, u_2)[0]\n",
    "u3_sol = sp.solve((L2_UW_1 - L2_UW_0).subs(u_2, u2_sol), u_3)[0]\n",
    "u_3_ = u3_sol\n",
    "u_2_ = u2_sol.subs(u_3, u3_sol)\n",
    "u_3_, u_2_"
   ]
  },
  {
   "cell_type": "code",
   "execution_count": 5,
   "metadata": {},
   "outputs": [],
   "source": [
    "U_pp_a = U1_a.subs({u_2: u_2_, u_3: u_3_})\n",
    "U_mm_a = sp.Matrix([-U_pp_a[0], -U_pp_a[1], U_pp_a[2]])\n",
    "U_mp_a = sp.Matrix([-U_pp_a[0], U_pp_a[1], U_pp_a[2]])\n",
    "U_pm_a = sp.Matrix([U_pp_a[0], -U_pp_a[1], U_pp_a[2]])\n",
    "W_p_a = W1_a.subs({u_2: u_2_, u_3: u_3_})\n",
    "W_m_a = sp.Matrix([-W_p_a[0], W_p_a[1], W_p_a[2]])"
   ]
  },
  {
   "cell_type": "code",
   "execution_count": 6,
   "metadata": {},
   "outputs": [
    {
     "data": {
      "image/png": "[encoded data removed]",
      "text/latex": [
       "$\\displaystyle \\left( \\left[\\begin{matrix}L \\eta\\\\\\sqrt{- \\frac{L^{2} \\eta^{2} \\left(1 - \\cos{\\left(\\alpha \\right)}\\right)^{2}}{\\sin^{2}{\\left(\\alpha \\right)}} + L^{2}}\\\\\\frac{L \\eta \\left(1 - \\cos{\\left(\\alpha \\right)}\\right)}{\\sin{\\left(\\alpha \\right)}}\\end{matrix}\\right], \\  \\left[\\begin{matrix}L \\eta \\zeta \\cos{\\left(\\alpha \\right)}\\\\0\\\\L \\eta \\zeta \\sin{\\left(\\alpha \\right)}\\end{matrix}\\right]\\right)$"
      ],
      "text/plain": [
       "⎛⎡               L⋅η                ⎤                ⎞\n",
       "⎜⎢                                  ⎥                ⎟\n",
       "⎜⎢      ____________________________⎥                ⎟\n",
       "⎜⎢     ╱    2  2             2      ⎥                ⎟\n",
       "⎜⎢    ╱    L ⋅η ⋅(1 - cos(α))     2 ⎥  ⎡L⋅η⋅ζ⋅cos(α)⎤⎟\n",
       "⎜⎢   ╱   - ─────────────────── + L  ⎥  ⎢            ⎥⎟\n",
       "⎜⎢  ╱               2               ⎥, ⎢     0      ⎥⎟\n",
       "⎜⎢╲╱             sin (α)            ⎥  ⎢            ⎥⎟\n",
       "⎜⎢                                  ⎥  ⎣L⋅η⋅ζ⋅sin(α)⎦⎟\n",
       "⎜⎢         L⋅η⋅(1 - cos(α))         ⎥                ⎟\n",
       "⎜⎢         ────────────────         ⎥                ⎟\n",
       "⎝⎣              sin(α)              ⎦                ⎠"
      ]
     },
     "execution_count": 6,
     "metadata": {},
     "output_type": "execute_result"
    }
   ],
   "source": [
    "U_pp_a, W_p_a"
   ]
  },
  {
   "cell_type": "markdown",
   "metadata": {},
   "source": [
    "## Compatible rotation of a cell around $x$ axis"
   ]
  },
  {
   "cell_type": "code",
   "execution_count": 7,
   "metadata": {},
   "outputs": [],
   "source": [
    "V_UW = U_pp_a - W_p_a\n",
    "L_UW = sp.sqrt(V_UW[1] ** 2 + V_UW[2] ** 2)\n",
    "theta_sol = sp.simplify(2 * sp.asin( V_UW[2] / L_UW))"
   ]
  },
  {
   "cell_type": "code",
   "execution_count": 8,
   "metadata": {},
   "outputs": [
    {
     "data": {
      "image/png": "[encoded data removed]",
      "text/latex": [
       "$\\displaystyle - 2 \\operatorname{asin}{\\left(\\frac{\\eta \\left(\\zeta \\sin^{2}{\\left(\\alpha \\right)} + \\cos{\\left(\\alpha \\right)} - 1\\right)}{\\sqrt{\\eta^{2} \\zeta^{2} \\sin^{2}{\\left(\\alpha \\right)} + 2 \\eta^{2} \\zeta \\cos{\\left(\\alpha \\right)} - 2 \\eta^{2} \\zeta + 1} \\sin{\\left(\\alpha \\right)}} \\right)}$"
      ],
      "text/plain": [
       "       ⎛                ⎛     2                ⎞              ⎞\n",
       "       ⎜              η⋅⎝ζ⋅sin (α) + cos(α) - 1⎠              ⎟\n",
       "-2⋅asin⎜──────────────────────────────────────────────────────⎟\n",
       "       ⎜   ____________________________________________       ⎟\n",
       "       ⎜  ╱  2  2    2         2               2              ⎟\n",
       "       ⎝╲╱  η ⋅ζ ⋅sin (α) + 2⋅η ⋅ζ⋅cos(α) - 2⋅η ⋅ζ + 1 ⋅sin(α)⎠"
      ]
     },
     "execution_count": 8,
     "metadata": {},
     "output_type": "execute_result"
    }
   ],
   "source": [
    "theta_sol"
   ]
  },
  {
   "cell_type": "code",
   "execution_count": 9,
   "metadata": {},
   "outputs": [],
   "source": [
    "get_theta = sp.lambdify((alpha,L,eta,zeta), theta_sol)"
   ]
  },
  {
   "cell_type": "markdown",
   "metadata": {
    "pycharm": {
     "name": "#%%\n"
    }
   },
   "source": [
    "## Rotation of a cell  of a shifted cell"
   ]
  },
  {
   "cell_type": "code",
   "execution_count": 10,
   "metadata": {},
   "outputs": [
    {
     "data": {
      "image/png": "[encoded data removed]",
      "text/latex": [
       "$\\displaystyle \\cos{\\left(\\frac{\\theta}{2} \\right)} + \\sin{\\left(\\frac{\\theta}{2} \\right)} i + 0 j + 0 k$"
      ],
      "text/plain": [
       "cos(theta/2) + sin(theta/2)*i + 0*j + 0*k"
      ]
     },
     "execution_count": 10,
     "metadata": {},
     "output_type": "execute_result"
    }
   ],
   "source": [
    "from sympy.algebras.quaternion import Quaternion\n",
    "theta = sp.Symbol(r'theta')\n",
    "q_theta = Quaternion.from_axis_angle([1, 0, 0], theta)\n",
    "q_theta"
   ]
  },
  {
   "cell_type": "code",
   "execution_count": 11,
   "metadata": {},
   "outputs": [],
   "source": [
    "d_1, d_2, d_3 = sp.symbols('d_1, d_2, d_3')\n",
    "D_a = sp.Matrix([d_1, d_2, d_3])"
   ]
  },
  {
   "cell_type": "code",
   "execution_count": 12,
   "metadata": {},
   "outputs": [],
   "source": [
    "UD_pp_a = U_pp_a + D_a\n",
    "WD_p_a = W_p_a + D_a"
   ]
  },
  {
   "cell_type": "code",
   "execution_count": 13,
   "metadata": {},
   "outputs": [
    {
     "data": {
      "image/png": "[encoded data removed]",
      "text/latex": [
       "$\\displaystyle \\left[\\begin{matrix}L \\eta \\zeta \\cos{\\left(\\alpha \\right)} + L \\eta + d_{1}\\\\d_{2} + \\sqrt{- \\frac{L^{2} \\eta^{2} \\left(1 - \\cos{\\left(\\alpha \\right)}\\right)^{2}}{\\sin^{2}{\\left(\\alpha \\right)}} + L^{2}}\\\\- L \\eta \\zeta \\sin{\\left(\\alpha \\right)} + \\frac{L \\eta \\left(1 - \\cos{\\left(\\alpha \\right)}\\right)}{\\sin{\\left(\\alpha \\right)}} + d_{3}\\end{matrix}\\right]$"
      ],
      "text/plain": [
       "⎡        L⋅η⋅ζ⋅cos(α) + L⋅η + d₁        ⎤\n",
       "⎢                                       ⎥\n",
       "⎢           ____________________________⎥\n",
       "⎢          ╱    2  2             2      ⎥\n",
       "⎢         ╱    L ⋅η ⋅(1 - cos(α))     2 ⎥\n",
       "⎢d₂ +    ╱   - ─────────────────── + L  ⎥\n",
       "⎢       ╱               2               ⎥\n",
       "⎢     ╲╱             sin (α)            ⎥\n",
       "⎢                                       ⎥\n",
       "⎢                 L⋅η⋅(1 - cos(α))      ⎥\n",
       "⎢ -L⋅η⋅ζ⋅sin(α) + ──────────────── + d₃ ⎥\n",
       "⎣                      sin(α)           ⎦"
      ]
     },
     "execution_count": 13,
     "metadata": {},
     "output_type": "execute_result"
    }
   ],
   "source": [
    "UD_pp_a - W_m_a"
   ]
  },
  {
   "cell_type": "code",
   "execution_count": 14,
   "metadata": {},
   "outputs": [
    {
     "data": {
      "image/png": "[encoded data removed]",
      "text/latex": [
       "$\\displaystyle \\left\\{ d_{1} : - L \\eta \\zeta \\cos{\\left(\\alpha \\right)} - L \\eta, \\  d_{2} : - \\sqrt{- \\frac{L^{2} \\eta^{2} \\cos^{2}{\\left(\\alpha \\right)}}{\\sin^{2}{\\left(\\alpha \\right)}} + \\frac{2 L^{2} \\eta^{2} \\cos{\\left(\\alpha \\right)}}{\\sin^{2}{\\left(\\alpha \\right)}} - \\frac{L^{2} \\eta^{2}}{\\sin^{2}{\\left(\\alpha \\right)}} + L^{2}}, \\  d_{3} : L \\eta \\zeta \\sin{\\left(\\alpha \\right)} + \\frac{L \\eta \\cos{\\left(\\alpha \\right)}}{\\sin{\\left(\\alpha \\right)}} - \\frac{L \\eta}{\\sin{\\left(\\alpha \\right)}}\\right\\}$"
      ],
      "text/plain": [
       "⎧                                    _________________________________________\n",
       "⎪                                   ╱    2  2    2         2  2            2  \n",
       "⎪                                  ╱    L ⋅η ⋅cos (α)   2⋅L ⋅η ⋅cos(α)    L ⋅η\n",
       "⎨d₁: -L⋅η⋅ζ⋅cos(α) - L⋅η, d₂: -   ╱   - ───────────── + ────────────── - ─────\n",
       "⎪                                ╱            2               2             2 \n",
       "⎪                              ╲╱          sin (α)         sin (α)       sin (\n",
       "⎩                                                                             \n",
       "\n",
       "________                                        ⎫\n",
       "2                                               ⎪\n",
       "      2                      L⋅η⋅cos(α)    L⋅η  ⎪\n",
       "── + L  , d₃: L⋅η⋅ζ⋅sin(α) + ────────── - ──────⎬\n",
       "                               sin(α)     sin(α)⎪\n",
       "α)                                              ⎪\n",
       "                                                ⎭"
      ]
     },
     "execution_count": 14,
     "metadata": {},
     "output_type": "execute_result"
    }
   ],
   "source": [
    "d_subs = sp.solve(UD_pp_a - W_m_a, [d_1, d_2, d_3])\n",
    "d_subs"
   ]
  },
  {
   "cell_type": "markdown",
   "metadata": {},
   "source": [
    "## Rotate by $\\theta$"
   ]
  },
  {
   "cell_type": "markdown",
   "metadata": {},
   "source": [
    "Define the center of rotation"
   ]
  },
  {
   "cell_type": "code",
   "execution_count": 15,
   "metadata": {},
   "outputs": [],
   "source": [
    "UD_pp_a_ = UD_pp_a.subs(d_subs)"
   ]
  },
  {
   "cell_type": "markdown",
   "metadata": {},
   "source": [
    "Rostated point"
   ]
  },
  {
   "cell_type": "code",
   "execution_count": 16,
   "metadata": {},
   "outputs": [],
   "source": [
    "WD_p_a_ = WD_p_a.subs(d_subs)"
   ]
  },
  {
   "cell_type": "markdown",
   "metadata": {},
   "source": [
    "Pull back the point so that the center of rotation is at origin"
   ]
  },
  {
   "cell_type": "code",
   "execution_count": 17,
   "metadata": {},
   "outputs": [
    {
     "data": {
      "image/png": "[encoded data removed]",
      "text/latex": [
       "$\\displaystyle \\left[\\begin{matrix}L \\eta \\zeta \\cos{\\left(\\alpha \\right)} - L \\eta & - \\sqrt{- \\frac{L^{2} \\eta^{2} \\left(1 - \\cos{\\left(\\alpha \\right)}\\right)^{2}}{\\sin^{2}{\\left(\\alpha \\right)}} + L^{2}} & L \\eta \\zeta \\sin{\\left(\\alpha \\right)} - \\frac{L \\eta \\left(1 - \\cos{\\left(\\alpha \\right)}\\right)}{\\sin{\\left(\\alpha \\right)}}\\end{matrix}\\right]$"
      ],
      "text/plain": [
       "⎡                           ____________________________                      \n",
       "⎢                          ╱    2  2             2                            \n",
       "⎢                         ╱    L ⋅η ⋅(1 - cos(α))     2                  L⋅η⋅(\n",
       "⎢L⋅η⋅ζ⋅cos(α) - L⋅η  -   ╱   - ─────────────────── + L    L⋅η⋅ζ⋅sin(α) - ─────\n",
       "⎢                       ╱               2                                     \n",
       "⎣                     ╲╱             sin (α)                                  \n",
       "\n",
       "           ⎤\n",
       "           ⎥\n",
       "1 - cos(α))⎥\n",
       "───────────⎥\n",
       "sin(α)     ⎥\n",
       "           ⎦"
      ]
     },
     "execution_count": 17,
     "metadata": {},
     "output_type": "execute_result"
    }
   ],
   "source": [
    "WD_p_a_pb = WD_p_a_ - UD_pp_a_\n",
    "WD_p_a_pb.T"
   ]
  },
  {
   "cell_type": "markdown",
   "metadata": {},
   "source": [
    "Rotate the point around the quaternion"
   ]
  },
  {
   "cell_type": "code",
   "execution_count": 18,
   "metadata": {},
   "outputs": [],
   "source": [
    "WD_p_a_rot = q_theta.rotate_point(WD_p_a_pb.T, q_theta)"
   ]
  },
  {
   "cell_type": "markdown",
   "metadata": {},
   "source": [
    "Push forward to the center of rotation"
   ]
  },
  {
   "cell_type": "code",
   "execution_count": 19,
   "metadata": {},
   "outputs": [],
   "source": [
    "WD_p_a_pf = sp.Matrix(WD_p_a_rot) + UD_pp_a_\n",
    "WD_p_a_theta = WD_p_a_pf.subs(theta, -theta_sol)"
   ]
  },
  {
   "cell_type": "markdown",
   "metadata": {},
   "source": [
    "Rotate also the midpoint"
   ]
  },
  {
   "cell_type": "code",
   "execution_count": 20,
   "metadata": {},
   "outputs": [],
   "source": [
    "DD_a_pb = D_a.subs(d_subs) - UD_pp_a_\n",
    "DD_a_rot = q_theta.rotate_point(DD_a_pb.T, q_theta)\n",
    "DD_a_pf = sp.simplify(sp.Matrix(DD_a_rot) + UD_pp_a_)\n",
    "DD_a_theta = DD_a_pf.subs(theta, -theta_sol)"
   ]
  },
  {
   "cell_type": "code",
   "execution_count": 21,
   "metadata": {},
   "outputs": [
    {
     "data": {
      "image/png": "[encoded data removed]",
      "text/latex": [
       "$\\displaystyle \\left[\\begin{matrix}- L \\eta \\left(\\zeta \\cos{\\left(\\alpha \\right)} + 1\\right)\\\\L \\left(- \\frac{\\eta \\sin{\\left(2 \\operatorname{asin}{\\left(\\frac{\\eta \\left(\\zeta \\sin^{2}{\\left(\\alpha \\right)} + \\cos{\\left(\\alpha \\right)} - 1\\right)}{\\sqrt{\\eta^{2} \\zeta^{2} \\sin^{2}{\\left(\\alpha \\right)} + 2 \\eta^{2} \\zeta \\cos{\\left(\\alpha \\right)} - 2 \\eta^{2} \\zeta + 1} \\sin{\\left(\\alpha \\right)}} \\right)} \\right)}}{\\tan{\\left(\\alpha \\right)}} + \\frac{\\eta \\sin{\\left(2 \\operatorname{asin}{\\left(\\frac{\\eta \\left(\\zeta \\sin^{2}{\\left(\\alpha \\right)} + \\cos{\\left(\\alpha \\right)} - 1\\right)}{\\sqrt{\\eta^{2} \\zeta^{2} \\sin^{2}{\\left(\\alpha \\right)} + 2 \\eta^{2} \\zeta \\cos{\\left(\\alpha \\right)} - 2 \\eta^{2} \\zeta + 1} \\sin{\\left(\\alpha \\right)}} \\right)} \\right)}}{\\sin{\\left(\\alpha \\right)}} - 2 \\left(- \\frac{\\eta^{2} \\left(\\zeta \\sin^{2}{\\left(\\alpha \\right)} + \\cos{\\left(\\alpha \\right)} - 1\\right)^{2}}{\\left(\\eta^{2} \\zeta^{2} \\sin^{2}{\\left(\\alpha \\right)} + 2 \\eta^{2} \\zeta \\cos{\\left(\\alpha \\right)} - 2 \\eta^{2} \\zeta + 1\\right) \\sin^{2}{\\left(\\alpha \\right)}} + 1\\right) \\sqrt{\\eta^{2} + \\frac{2 \\eta^{2} \\cos{\\left(\\alpha \\right)}}{\\sin^{2}{\\left(\\alpha \\right)}} - \\frac{2 \\eta^{2}}{\\sin^{2}{\\left(\\alpha \\right)}} + 1} + \\sqrt{\\eta^{2} + \\frac{2 \\eta^{2} \\cos{\\left(\\alpha \\right)}}{\\sin^{2}{\\left(\\alpha \\right)}} - \\frac{2 \\eta^{2}}{\\sin^{2}{\\left(\\alpha \\right)}} + 1}\\right)\\\\L \\left(- \\frac{2 \\eta^{3} \\left(\\zeta \\sin^{2}{\\left(\\alpha \\right)} + \\cos{\\left(\\alpha \\right)} - 1\\right)^{2}}{\\left(\\eta^{2} \\zeta^{2} \\sin^{2}{\\left(\\alpha \\right)} + 2 \\eta^{2} \\zeta \\cos{\\left(\\alpha \\right)} - 2 \\eta^{2} \\zeta + 1\\right) \\sin^{2}{\\left(\\alpha \\right)} \\tan{\\left(\\alpha \\right)}} + \\frac{2 \\eta^{3} \\left(\\zeta \\sin^{2}{\\left(\\alpha \\right)} + \\cos{\\left(\\alpha \\right)} - 1\\right)^{2}}{\\left(\\eta^{2} \\zeta^{2} \\sin^{2}{\\left(\\alpha \\right)} + 2 \\eta^{2} \\zeta \\cos{\\left(\\alpha \\right)} - 2 \\eta^{2} \\zeta + 1\\right) \\sin^{3}{\\left(\\alpha \\right)}} + \\eta \\zeta \\sin{\\left(\\alpha \\right)} - \\frac{2 \\eta \\sqrt{- \\frac{\\eta^{2} \\left(\\zeta \\sin^{2}{\\left(\\alpha \\right)} + \\cos{\\left(\\alpha \\right)} - 1\\right)^{2}}{\\left(\\eta^{2} \\zeta^{2} \\sin^{2}{\\left(\\alpha \\right)} + 2 \\eta^{2} \\zeta \\cos{\\left(\\alpha \\right)} - 2 \\eta^{2} \\zeta + 1\\right) \\sin^{2}{\\left(\\alpha \\right)}} + 1} \\left(\\zeta \\sin^{2}{\\left(\\alpha \\right)} + \\cos{\\left(\\alpha \\right)} - 1\\right) \\sqrt{\\eta^{2} + \\frac{2 \\eta^{2} \\cos{\\left(\\alpha \\right)}}{\\sin^{2}{\\left(\\alpha \\right)}} - \\frac{2 \\eta^{2}}{\\sin^{2}{\\left(\\alpha \\right)}} + 1}}{\\sqrt{\\eta^{2} \\zeta^{2} \\sin^{2}{\\left(\\alpha \\right)} + 2 \\eta^{2} \\zeta \\cos{\\left(\\alpha \\right)} - 2 \\eta^{2} \\zeta + 1} \\sin{\\left(\\alpha \\right)}} + \\frac{\\eta}{\\tan{\\left(\\alpha \\right)}} - \\frac{\\eta}{\\sin{\\left(\\alpha \\right)}}\\right)\\end{matrix}\\right]$"
      ],
      "text/plain": [
       "⎡                                                                             \n",
       "⎢                                                                             \n",
       "⎢  ⎛       ⎛      ⎛                ⎛     2                ⎞              ⎞⎞   \n",
       "⎢  ⎜       ⎜      ⎜              η⋅⎝ζ⋅sin (α) + cos(α) - 1⎠              ⎟⎟   \n",
       "⎢  ⎜  η⋅sin⎜2⋅asin⎜──────────────────────────────────────────────────────⎟⎟   \n",
       "⎢  ⎜       ⎜      ⎜   ____________________________________________       ⎟⎟   \n",
       "⎢  ⎜       ⎜      ⎜  ╱  2  2    2         2               2              ⎟⎟   \n",
       "⎢  ⎜       ⎝      ⎝╲╱  η ⋅ζ ⋅sin (α) + 2⋅η ⋅ζ⋅cos(α) - 2⋅η ⋅ζ + 1 ⋅sin(α)⎠⎠   \n",
       "⎢L⋅⎜- ───────────────────────────────────────────────────────────────────── + \n",
       "⎢  ⎜                                  tan(α)                                  \n",
       "⎢  ⎝                                                                          \n",
       "⎢                                                                             \n",
       "⎢   ⎛                                                                         \n",
       "⎢   ⎜                                                                         \n",
       "⎢   ⎜                                                                         \n",
       "⎢   ⎜                                                                         \n",
       "⎢   ⎜                                              2                          \n",
       "⎢   ⎜                    3 ⎛     2                ⎞                           \n",
       "⎢   ⎜                 2⋅η ⋅⎝ζ⋅sin (α) + cos(α) - 1⎠                           \n",
       "⎢ L⋅⎜- ─────────────────────────────────────────────────────────── + ─────────\n",
       "⎢   ⎜  ⎛ 2  2    2         2               2      ⎞    2             ⎛ 2  2   \n",
       "⎢   ⎜  ⎝η ⋅ζ ⋅sin (α) + 2⋅η ⋅ζ⋅cos(α) - 2⋅η ⋅ζ + 1⎠⋅sin (α)⋅tan(α)   ⎝η ⋅ζ ⋅si\n",
       "⎣   ⎝                                                                         \n",
       "\n",
       "                                                           -L⋅η⋅(ζ⋅cos(α) + 1)\n",
       "                                                                              \n",
       "     ⎛      ⎛                ⎛     2                ⎞              ⎞⎞         \n",
       "     ⎜      ⎜              η⋅⎝ζ⋅sin (α) + cos(α) - 1⎠              ⎟⎟         \n",
       "η⋅sin⎜2⋅asin⎜──────────────────────────────────────────────────────⎟⎟         \n",
       "     ⎜      ⎜   ____________________________________________       ⎟⎟     ⎛   \n",
       "     ⎜      ⎜  ╱  2  2    2         2               2              ⎟⎟     ⎜   \n",
       "     ⎝      ⎝╲╱  η ⋅ζ ⋅sin (α) + 2⋅η ⋅ζ⋅cos(α) - 2⋅η ⋅ζ + 1 ⋅sin(α)⎠⎠     ⎜   \n",
       "───────────────────────────────────────────────────────────────────── - 2⋅⎜- ─\n",
       "                                sin(α)                                    ⎜  ⎛\n",
       "                                                                          ⎝  ⎝\n",
       "                                                                              \n",
       "                                                                      ________\n",
       "                                                                     ╱        \n",
       "                                                                    ╱         \n",
       "                                                                   ╱          \n",
       "                               2                           2⋅η⋅   ╱    - ─────\n",
       "     3 ⎛     2                ⎞                                  ╱       ⎛ 2  \n",
       "  2⋅η ⋅⎝ζ⋅sin (α) + cos(α) - 1⎠                                ╲╱        ⎝η ⋅ζ\n",
       "─────────────────────────────────────────── + η⋅ζ⋅sin(α) - ───────────────────\n",
       " 2         2               2      ⎞    3                                      \n",
       "n (α) + 2⋅η ⋅ζ⋅cos(α) - 2⋅η ⋅ζ + 1⎠⋅sin (α)                                   \n",
       "                                                                              \n",
       "\n",
       "                                                                              \n",
       "                                                                              \n",
       "                                                                              \n",
       "                                                                              \n",
       "                                                                              \n",
       "                                      2                ⎞       _______________\n",
       "            2 ⎛     2                ⎞                 ⎟      ╱         2     \n",
       "           η ⋅⎝ζ⋅sin (α) + cos(α) - 1⎠                 ⎟     ╱   2   2⋅η ⋅cos(\n",
       "─────────────────────────────────────────────────── + 1⎟⋅   ╱   η  + ─────────\n",
       " 2  2    2         2               2      ⎞    2       ⎟   ╱              2   \n",
       "η ⋅ζ ⋅sin (α) + 2⋅η ⋅ζ⋅cos(α) - 2⋅η ⋅ζ + 1⎠⋅sin (α)    ⎠ ╲╱            sin (α)\n",
       "                                                                              \n",
       "____________________________________________________                          \n",
       "                                  2                                           \n",
       "        2 ⎛     2                ⎞                                            \n",
       "       η ⋅⎝ζ⋅sin (α) + cos(α) - 1⎠                   ⎛     2                ⎞ \n",
       "─────────────────────────────────────────────── + 1 ⋅⎝ζ⋅sin (α) + cos(α) - 1⎠⋅\n",
       "2    2         2               2      ⎞    2                                  \n",
       " ⋅sin (α) + 2⋅η ⋅ζ⋅cos(α) - 2⋅η ⋅ζ + 1⎠⋅sin (α)                               \n",
       "──────────────────────────────────────────────────────────────────────────────\n",
       "                         ____________________________________________         \n",
       "                        ╱  2  2    2         2               2                \n",
       "                      ╲╱  η ⋅ζ ⋅sin (α) + 2⋅η ⋅ζ⋅cos(α) - 2⋅η ⋅ζ + 1 ⋅sin(α)  \n",
       "\n",
       "                                                           ⎤\n",
       "                                                           ⎥\n",
       "                                                          ⎞⎥\n",
       "                                                          ⎟⎥\n",
       "                                                          ⎟⎥\n",
       "_________________         ________________________________⎟⎥\n",
       "          2              ╱         2               2      ⎟⎥\n",
       "α)     2⋅η              ╱   2   2⋅η ⋅cos(α)     2⋅η       ⎟⎥\n",
       "── - ─────── + 1  +    ╱   η  + ─────────── - ─────── + 1 ⎟⎥\n",
       "        2             ╱              2           2        ⎟⎥\n",
       "     sin (α)        ╲╱            sin (α)     sin (α)     ⎠⎥\n",
       "                                                           ⎥\n",
       "                                                        ⎞  ⎥\n",
       "      ________________________________                  ⎟  ⎥\n",
       "     ╱         2               2                        ⎟  ⎥\n",
       "    ╱   2   2⋅η ⋅cos(α)     2⋅η                         ⎟  ⎥\n",
       "   ╱   η  + ─────────── - ─────── + 1                   ⎟  ⎥\n",
       "  ╱              2           2                          ⎟  ⎥\n",
       "╲╱            sin (α)     sin (α)          η        η   ⎟  ⎥\n",
       "────────────────────────────────────── + ────── - ──────⎟  ⎥\n",
       "                                         tan(α)   sin(α)⎟  ⎥\n",
       "                                                        ⎟  ⎥\n",
       "                                                        ⎠  ⎦"
      ]
     },
     "execution_count": 21,
     "metadata": {},
     "output_type": "execute_result"
    }
   ],
   "source": [
    "DD_a_theta"
   ]
  },
  {
   "cell_type": "code",
   "execution_count": 22,
   "metadata": {},
   "outputs": [],
   "source": [
    "get_U_mm_a = sp.lambdify((alpha, L, eta, zeta), U_mm_a )\n",
    "get_WD_p_a_theta = sp.lambdify((alpha, L, eta, zeta), WD_p_a_theta)"
   ]
  },
  {
   "cell_type": "code",
   "execution_count": 23,
   "metadata": {},
   "outputs": [
    {
     "data": {
      "text/plain": [
       "array([[-6.        ],\n",
       "       [-2.93897709],\n",
       "       [ 0.60200803]])"
      ]
     },
     "execution_count": 23,
     "metadata": {},
     "output_type": "execute_result"
    }
   ],
   "source": [
    "get_U_mm_a(0.2, 3, 2, 0.4)"
   ]
  },
  {
   "cell_type": "code",
   "execution_count": 24,
   "metadata": {},
   "outputs": [
    {
     "data": {
      "text/plain": [
       "array([[-6.        ],\n",
       "       [-2.93897709],\n",
       "       [ 0.60200803]])"
      ]
     },
     "execution_count": 24,
     "metadata": {},
     "output_type": "execute_result"
    }
   ],
   "source": [
    "get_WD_p_a_theta(0.2, 3, 2, 0.4)"
   ]
  },
  {
   "cell_type": "code",
   "execution_count": 25,
   "metadata": {},
   "outputs": [
    {
     "data": {
      "image/png": "[encoded data removed]",
      "text/latex": [
       "$\\displaystyle 0$"
      ],
      "text/plain": [
       "0"
      ]
     },
     "execution_count": 25,
     "metadata": {},
     "output_type": "execute_result"
    }
   ],
   "source": [
    "sp.simplify((WD_p_a_theta - U_mm_a)[0])"
   ]
  },
  {
   "cell_type": "markdown",
   "metadata": {},
   "source": [
    "## Cross sectional height"
   ]
  },
  {
   "cell_type": "code",
   "execution_count": 26,
   "metadata": {},
   "outputs": [
    {
     "data": {
      "image/png": "[encoded data removed]",
      "text/latex": [
       "$\\displaystyle L \\eta \\zeta \\sin{\\left(\\alpha \\right)}$"
      ],
      "text/plain": [
       "L⋅η⋅ζ⋅sin(α)"
      ]
     },
     "execution_count": 26,
     "metadata": {},
     "output_type": "execute_result"
    }
   ],
   "source": [
    "H_sol = W_p_a[2]\n",
    "H_sol"
   ]
  },
  {
   "cell_type": "code",
   "execution_count": 27,
   "metadata": {},
   "outputs": [],
   "source": [
    "get_H = sp.lambdify((alpha, L, eta, zeta), H_sol)"
   ]
  },
  {
   "cell_type": "code",
   "execution_count": 28,
   "metadata": {},
   "outputs": [],
   "source": [
    "V_WD = (WD_p_a_theta - DD_a_theta)\n",
    "Vzy_WD = sp.Matrix([V_WD[1], V_WD[2]])"
   ]
  },
  {
   "cell_type": "code",
   "execution_count": 29,
   "metadata": {},
   "outputs": [],
   "source": [
    "L_WD = Vzy_WD.T * Vzy_WD"
   ]
  },
  {
   "cell_type": "code",
   "execution_count": 30,
   "metadata": {},
   "outputs": [],
   "source": [
    "get_L_WD = sp.lambdify((alpha, L, eta, zeta), L_WD, 'numpy')"
   ]
  },
  {
   "cell_type": "code",
   "execution_count": 31,
   "metadata": {},
   "outputs": [
    {
     "data": {
      "text/plain": [
       "array([[2.6]])"
      ]
     },
     "execution_count": 31,
     "metadata": {},
     "output_type": "execute_result"
    }
   ],
   "source": [
    "np.sqrt(get_L_WD(np.pi/2,2,1,1.3))"
   ]
  },
  {
   "cell_type": "markdown",
   "metadata": {},
   "source": [
    "## Symmetry axis of the cylinder"
   ]
  },
  {
   "cell_type": "code",
   "execution_count": 32,
   "metadata": {},
   "outputs": [],
   "source": [
    "D0_a = sp.Matrix([0,0,0])"
   ]
  },
  {
   "cell_type": "code",
   "execution_count": 33,
   "metadata": {},
   "outputs": [
    {
     "data": {
      "image/png": "[encoded data removed]",
      "text/latex": [
       "$\\displaystyle L \\eta \\zeta \\sin{\\left(\\alpha \\right)}$"
      ],
      "text/plain": [
       "L⋅η⋅ζ⋅sin(α)"
      ]
     },
     "execution_count": 33,
     "metadata": {},
     "output_type": "execute_result"
    }
   ],
   "source": [
    "W_m_a[2]"
   ]
  },
  {
   "cell_type": "code",
   "execution_count": 34,
   "metadata": {},
   "outputs": [
    {
     "data": {
      "image/png": "[encoded data removed]",
      "text/latex": [
       "$\\displaystyle \\frac{L \\eta \\left(1 - \\cos{\\left(\\alpha \\right)}\\right)}{\\sin{\\left(\\alpha \\right)}}$"
      ],
      "text/plain": [
       "L⋅η⋅(1 - cos(α))\n",
       "────────────────\n",
       "     sin(α)     "
      ]
     },
     "execution_count": 34,
     "metadata": {},
     "output_type": "execute_result"
    }
   ],
   "source": [
    "U_mm_a[2]"
   ]
  },
  {
   "cell_type": "code",
   "execution_count": 35,
   "metadata": {},
   "outputs": [
    {
     "data": {
      "image/png": "[encoded data removed]",
      "text/latex": [
       "$\\displaystyle L \\left(- \\frac{2 \\eta^{3} \\left(\\zeta \\sin^{2}{\\left(\\alpha \\right)} + \\cos{\\left(\\alpha \\right)} - 1\\right)^{2}}{\\left(\\eta^{2} \\zeta^{2} \\sin^{2}{\\left(\\alpha \\right)} + 2 \\eta^{2} \\zeta \\cos{\\left(\\alpha \\right)} - 2 \\eta^{2} \\zeta + 1\\right) \\sin^{2}{\\left(\\alpha \\right)} \\tan{\\left(\\alpha \\right)}} + \\frac{2 \\eta^{3} \\left(\\zeta \\sin^{2}{\\left(\\alpha \\right)} + \\cos{\\left(\\alpha \\right)} - 1\\right)^{2}}{\\left(\\eta^{2} \\zeta^{2} \\sin^{2}{\\left(\\alpha \\right)} + 2 \\eta^{2} \\zeta \\cos{\\left(\\alpha \\right)} - 2 \\eta^{2} \\zeta + 1\\right) \\sin^{3}{\\left(\\alpha \\right)}} + \\eta \\zeta \\sin{\\left(\\alpha \\right)} - \\frac{2 \\eta \\sqrt{- \\frac{\\eta^{2} \\left(\\zeta \\sin^{2}{\\left(\\alpha \\right)} + \\cos{\\left(\\alpha \\right)} - 1\\right)^{2}}{\\left(\\eta^{2} \\zeta^{2} \\sin^{2}{\\left(\\alpha \\right)} + 2 \\eta^{2} \\zeta \\cos{\\left(\\alpha \\right)} - 2 \\eta^{2} \\zeta + 1\\right) \\sin^{2}{\\left(\\alpha \\right)}} + 1} \\left(\\zeta \\sin^{2}{\\left(\\alpha \\right)} + \\cos{\\left(\\alpha \\right)} - 1\\right) \\sqrt{\\eta^{2} + \\frac{2 \\eta^{2} \\cos{\\left(\\alpha \\right)}}{\\sin^{2}{\\left(\\alpha \\right)}} - \\frac{2 \\eta^{2}}{\\sin^{2}{\\left(\\alpha \\right)}} + 1}}{\\sqrt{\\eta^{2} \\zeta^{2} \\sin^{2}{\\left(\\alpha \\right)} + 2 \\eta^{2} \\zeta \\cos{\\left(\\alpha \\right)} - 2 \\eta^{2} \\zeta + 1} \\sin{\\left(\\alpha \\right)}} + \\frac{\\eta}{\\tan{\\left(\\alpha \\right)}} - \\frac{\\eta}{\\sin{\\left(\\alpha \\right)}}\\right)$"
      ],
      "text/plain": [
       "  ⎛                                                                           \n",
       "  ⎜                                                                           \n",
       "  ⎜                                                                           \n",
       "  ⎜                                                                           \n",
       "  ⎜                                              2                            \n",
       "  ⎜                    3 ⎛     2                ⎞                             \n",
       "  ⎜                 2⋅η ⋅⎝ζ⋅sin (α) + cos(α) - 1⎠                             \n",
       "L⋅⎜- ─────────────────────────────────────────────────────────── + ───────────\n",
       "  ⎜  ⎛ 2  2    2         2               2      ⎞    2             ⎛ 2  2    2\n",
       "  ⎜  ⎝η ⋅ζ ⋅sin (α) + 2⋅η ⋅ζ⋅cos(α) - 2⋅η ⋅ζ + 1⎠⋅sin (α)⋅tan(α)   ⎝η ⋅ζ ⋅sin \n",
       "  ⎝                                                                           \n",
       "\n",
       "                                                                    __________\n",
       "                                                                   ╱          \n",
       "                                                                  ╱           \n",
       "                                                                 ╱            \n",
       "                             2                           2⋅η⋅   ╱    - ───────\n",
       "   3 ⎛     2                ⎞                                  ╱       ⎛ 2  2 \n",
       "2⋅η ⋅⎝ζ⋅sin (α) + cos(α) - 1⎠                                ╲╱        ⎝η ⋅ζ ⋅\n",
       "───────────────────────────────────────── + η⋅ζ⋅sin(α) - ─────────────────────\n",
       "         2               2      ⎞    3                                        \n",
       "(α) + 2⋅η ⋅ζ⋅cos(α) - 2⋅η ⋅ζ + 1⎠⋅sin (α)                                     \n",
       "                                                                              \n",
       "\n",
       "__________________________________________________                            \n",
       "                                2                                             \n",
       "      2 ⎛     2                ⎞                                              \n",
       "     η ⋅⎝ζ⋅sin (α) + cos(α) - 1⎠                   ⎛     2                ⎞   \n",
       "───────────────────────────────────────────── + 1 ⋅⎝ζ⋅sin (α) + cos(α) - 1⎠⋅  \n",
       "   2         2               2      ⎞    2                                    \n",
       "sin (α) + 2⋅η ⋅ζ⋅cos(α) - 2⋅η ⋅ζ + 1⎠⋅sin (α)                               ╲╱\n",
       "──────────────────────────────────────────────────────────────────────────────\n",
       "                       ____________________________________________           \n",
       "                      ╱  2  2    2         2               2                  \n",
       "                    ╲╱  η ⋅ζ ⋅sin (α) + 2⋅η ⋅ζ⋅cos(α) - 2⋅η ⋅ζ + 1 ⋅sin(α)    \n",
       "\n",
       "                                                      ⎞\n",
       "    ________________________________                  ⎟\n",
       "   ╱         2               2                        ⎟\n",
       "  ╱   2   2⋅η ⋅cos(α)     2⋅η                         ⎟\n",
       " ╱   η  + ─────────── - ─────── + 1                   ⎟\n",
       "╱              2           2                          ⎟\n",
       "            sin (α)     sin (α)          η        η   ⎟\n",
       "──────────────────────────────────── + ────── - ──────⎟\n",
       "                                       tan(α)   sin(α)⎟\n",
       "                                                      ⎟\n",
       "                                                      ⎠"
      ]
     },
     "execution_count": 35,
     "metadata": {},
     "output_type": "execute_result"
    }
   ],
   "source": [
    "DD_a_theta[2]"
   ]
  },
  {
   "cell_type": "markdown",
   "metadata": {},
   "source": [
    "Find the point at which the line connection between\n",
    "\\begin{align}\n",
    " U_{mm} + \\rho (U_{mm} - D)\n",
    "\\end{align}\n",
    "intersects the vertical axis"
   ]
  },
  {
   "cell_type": "code",
   "execution_count": 36,
   "metadata": {},
   "outputs": [],
   "source": [
    "rho = (U_mm_a[2] - DD_a_theta[2]) / (U_mm_a[1] - DD_a_theta[1]) * U_mm_a[1]\n",
    "R_0 = U_mm_a[2] - rho"
   ]
  },
  {
   "cell_type": "code",
   "execution_count": 37,
   "metadata": {},
   "outputs": [],
   "source": [
    "get_U_mm_a = sp.lambdify((alpha, L, eta, zeta), U_mm_a, 'numpy')\n",
    "get_DD_a_theta = sp.lambdify((alpha, L, eta, zeta), DD_a_theta, 'numpy')\n",
    "get_rho = sp.lambdify((alpha, L, eta, zeta), rho, 'numpy')\n",
    "get_R_0 = sp.lambdify((alpha, L, eta, zeta), R_0, 'numpy')"
   ]
  },
  {
   "cell_type": "code",
   "execution_count": 38,
   "metadata": {},
   "outputs": [
    {
     "data": {
      "text/plain": [
       "array([[-1.        ],\n",
       "       [-0.83758796],\n",
       "       [ 0.54630249]])"
      ]
     },
     "execution_count": 38,
     "metadata": {},
     "output_type": "execute_result"
    }
   ],
   "source": [
    "data = dict(alpha=1, L=1, eta=1, zeta=1)\n",
    "get_U_mm_a(**data)"
   ]
  },
  {
   "cell_type": "code",
   "execution_count": 39,
   "metadata": {},
   "outputs": [
    {
     "data": {
      "text/plain": [
       "array([[-1.54030231],\n",
       "       [-0.31003043],\n",
       "       [-0.10925565]])"
      ]
     },
     "execution_count": 39,
     "metadata": {},
     "output_type": "execute_result"
    }
   ],
   "source": [
    "get_DD_a_theta(**data)"
   ]
  },
  {
   "cell_type": "code",
   "execution_count": 40,
   "metadata": {},
   "outputs": [
    {
     "data": {
      "image/png": "[encoded data removed]",
      "text/latex": [
       "$\\displaystyle 1.04081085829607$"
      ],
      "text/plain": [
       "1.0408108582960685"
      ]
     },
     "execution_count": 40,
     "metadata": {},
     "output_type": "execute_result"
    }
   ],
   "source": [
    "get_rho(**data)"
   ]
  },
  {
   "cell_type": "code",
   "execution_count": 41,
   "metadata": {},
   "outputs": [
    {
     "data": {
      "image/png": "[encoded data removed]",
      "text/latex": [
       "$\\displaystyle -0.677627909993229$"
      ],
      "text/plain": [
       "-0.6776279099932292"
      ]
     },
     "execution_count": 41,
     "metadata": {},
     "output_type": "execute_result"
    }
   ],
   "source": [
    "get_theta(**data)"
   ]
  },
  {
   "cell_type": "code",
   "execution_count": 42,
   "metadata": {},
   "outputs": [
    {
     "data": {
      "image/png": "[encoded data removed]",
      "text/latex": [
       "$\\displaystyle -0.494508368452278$"
      ],
      "text/plain": [
       "-0.49450836845227797"
      ]
     },
     "execution_count": 42,
     "metadata": {},
     "output_type": "execute_result"
    }
   ],
   "source": [
    "get_R_0(**data)"
   ]
  },
  {
   "cell_type": "code",
   "execution_count": 43,
   "metadata": {},
   "outputs": [],
   "source": [
    "phi_0 = sp.asin( DD_a_theta[1] / R_0 )"
   ]
  },
  {
   "cell_type": "code",
   "execution_count": 44,
   "metadata": {},
   "outputs": [],
   "source": [
    "get_phi_0 = sp.lambdify((alpha, L, eta, zeta), phi_0, 'numpy')"
   ]
  },
  {
   "cell_type": "code",
   "execution_count": 45,
   "metadata": {},
   "outputs": [
    {
     "data": {
      "image/png": "[encoded data removed]",
      "text/latex": [
       "$\\displaystyle 0.677627909993229$"
      ],
      "text/plain": [
       "0.677627909993229"
      ]
     },
     "execution_count": 45,
     "metadata": {},
     "output_type": "execute_result"
    }
   ],
   "source": [
    "get_phi_0(**data)"
   ]
  },
  {
   "cell_type": "markdown",
   "metadata": {},
   "source": [
    "# Curvature visualizaion"
   ]
  },
  {
   "cell_type": "markdown",
   "metadata": {},
   "source": [
    "\\begin{align}\n",
    "\\eta &= \\frac{b}{a}, & \\zeta = \\frac{c}{b}\\\\[8pt]\n",
    "\\end{align}"
   ]
  },
  {
   "cell_type": "markdown",
   "metadata": {},
   "source": [
    "Curvature can be set identical to the angle $\\theta$. "
   ]
  },
  {
   "cell_type": "markdown",
   "metadata": {},
   "source": [
    "# Parametric Study"
   ]
  },
  {
   "cell_type": "code",
   "execution_count": 79,
   "metadata": {},
   "outputs": [],
   "source": [
    "import numpy as np\n",
    "R_list = []\n",
    "theta_list = []\n",
    "H_list = []\n",
    "alpha_range = [np.pi/4]\n",
    "n = 50\n",
    "eta_range = np.linspace(0.3,0.9,n)\n",
    "zeta_range = np.linspace(0.4,1.1,n)\n",
    "L_ = 1\n",
    "eta_grid, zeta_grid = np.meshgrid(eta_range, zeta_range)\n",
    "for alpha_ in alpha_range:\n",
    "    radius_bc_list = []\n",
    "    R_grid = get_R_0(alpha=alpha_,L=L_,eta=eta_grid,zeta=zeta_grid)\n",
    "    R_list.append(R_grid/L_)\n",
    "    theta_grid = get_theta(alpha=alpha_,L=L_,eta=eta_grid,zeta=zeta_grid)\n",
    "    theta_list.append(theta_grid)\n",
    "    H_grid = get_H(alpha=alpha_,L=L_,eta=eta_grid,zeta=zeta_grid)\n",
    "    H_list.append(H_grid/L_)"
   ]
  },
  {
   "cell_type": "code",
   "execution_count": 80,
   "metadata": {
    "code_folding": [],
    "scrolled": false
   },
   "outputs": [
    {
     "data": {
      "application/vnd.jupyter.widget-view+json": {
       "model_id": "89adc8a216de4cc88dd36579dc5958b6",
       "version_major": 2,
       "version_minor": 0
      },
      "text/plain": [
       "Canvas(toolbar=Toolbar(toolitems=[('Home', 'Reset original view', 'home', 'home'), ('Back', 'Back to previous …"
      ]
     },
     "metadata": {},
     "output_type": "display_data"
    }
   ],
   "source": [
    "from mpl_toolkits.mplot3d import Axes3D\n",
    "import matplotlib.pyplot as plt\n",
    "from matplotlib import cm\n",
    "from matplotlib.ticker import LinearLocator, FormatStrFormatter\n",
    "fig = plt.figure()\n",
    "ax = fig.gca(projection='3d')\n",
    "alpha_colors = ['green','blue','green','orange']\n",
    "for R_grid, theta_grid, H_grid, color in zip(R_list, theta_list, H_list, alpha_colors):\n",
    "    rho_grid = 1/R_grid\n",
    "#     cset = ax.contour(c_grid, b_grid, H_grid, zdir='z', offset=-1, \n",
    "#                       cmap=cm.coolwarm,alpha=1)\n",
    "#     ax.contour(zeta_grid, eta_grid, rho_grid, levels=[0] )\n",
    "#     surf = ax.plot_surface(zeta_grid, eta_grid, rho_grid, \n",
    "#                        color='green',\n",
    "#                        #linewidth=0, antialiased=False)\n",
    "#                     alpha=.6, linewidth=5,\n",
    "#                        #cmap=cm.gist_earth,antialiased=False, \n",
    "#                 shade=False,rstride=1, cstride=1)\n",
    "    surf = ax.plot_surface(zeta_grid, eta_grid, theta_grid, \n",
    "                       color='green',\n",
    "                       #linewidth=0, antialiased=False)\n",
    "                    alpha=.6, linewidth=5,\n",
    "                       #cmap=cm.gist_earth,antialiased=False, \n",
    "                shade=False,rstride=1, cstride=1)\n",
    "    ax.contour(zeta_grid, eta_grid, theta_grid, \n",
    "               levels=[-0.3,-0.2,-0.1,0,0.1], colors=['black'] )\n",
    "#     surf2 = ax.plot_surface(c_grid, b_grid, H_grid ,color='red', \n",
    "#                            #cmap=cm.copper,\n",
    "#                         alpha=.3, linewidth=3,\n",
    "#                            #cmap=cm.gist_earth,antialiased=False, \n",
    "#                     shade=False,rstride=1, cstride=1)\n",
    "#     cset = ax.contour(X, Y, Z, zdir='x', offset=-40, cmap=cm.coolwarm)\n",
    "#     cset = ax.contour(X, Y, Z, zdir='y', offset=40, cmap=cm.coolwarm)\n",
    "#ax.set_zlim(-1,1)\n",
    "ax.set_xlabel(r'$\\zeta~[-]$')\n",
    "ax.set_ylabel(r'$\\eta~[-]$')\n",
    "ax.set_zlabel(r'$\\theta~[-]$');"
   ]
  },
  {
   "cell_type": "code",
   "execution_count": 81,
   "metadata": {},
   "outputs": [
    {
     "data": {
      "image/png": "[encoded data removed]",
      "text/latex": [
       "$\\displaystyle \\left[ 0.785398163397448\\right]$"
      ],
      "text/plain": [
       "[0.7853981633974483]"
      ]
     },
     "execution_count": 81,
     "metadata": {},
     "output_type": "execute_result"
    }
   ],
   "source": [
    "alpha_range"
   ]
  },
  {
   "cell_type": "code",
   "execution_count": 82,
   "metadata": {},
   "outputs": [
    {
     "data": {
      "image/png": "[encoded data removed]",
      "text/latex": [
       "$\\displaystyle - 2 \\operatorname{asin}{\\left(\\frac{\\eta \\left(\\zeta \\sin^{2}{\\left(\\alpha \\right)} + \\cos{\\left(\\alpha \\right)} - 1\\right)}{\\sqrt{\\eta^{2} \\zeta^{2} \\sin^{2}{\\left(\\alpha \\right)} + 2 \\eta^{2} \\zeta \\cos{\\left(\\alpha \\right)} - 2 \\eta^{2} \\zeta + 1} \\sin{\\left(\\alpha \\right)}} \\right)}$"
      ],
      "text/plain": [
       "       ⎛                ⎛     2                ⎞              ⎞\n",
       "       ⎜              η⋅⎝ζ⋅sin (α) + cos(α) - 1⎠              ⎟\n",
       "-2⋅asin⎜──────────────────────────────────────────────────────⎟\n",
       "       ⎜   ____________________________________________       ⎟\n",
       "       ⎜  ╱  2  2    2         2               2              ⎟\n",
       "       ⎝╲╱  η ⋅ζ ⋅sin (α) + 2⋅η ⋅ζ⋅cos(α) - 2⋅η ⋅ζ + 1 ⋅sin(α)⎠"
      ]
     },
     "execution_count": 82,
     "metadata": {},
     "output_type": "execute_result"
    }
   ],
   "source": [
    "sp.simplify(theta_sol.subs({L:1}))"
   ]
  },
  {
   "cell_type": "code",
   "execution_count": 83,
   "metadata": {},
   "outputs": [
    {
     "data": {
      "image/png": "[encoded data removed]",
      "text/latex": [
       "$\\displaystyle - 2 \\operatorname{asin}{\\left(\\frac{\\eta \\left(\\zeta \\sin^{2}{\\left(\\alpha \\right)} + \\cos{\\left(\\alpha \\right)} - 1\\right)}{\\sqrt{\\eta^{2} \\zeta^{2} \\sin^{2}{\\left(\\alpha \\right)} + 2 \\eta^{2} \\zeta \\cos{\\left(\\alpha \\right)} - 2 \\eta^{2} \\zeta + 1} \\sin{\\left(\\alpha \\right)}} \\right)}$"
      ],
      "text/plain": [
       "       ⎛                ⎛     2                ⎞              ⎞\n",
       "       ⎜              η⋅⎝ζ⋅sin (α) + cos(α) - 1⎠              ⎟\n",
       "-2⋅asin⎜──────────────────────────────────────────────────────⎟\n",
       "       ⎜   ____________________________________________       ⎟\n",
       "       ⎜  ╱  2  2    2         2               2              ⎟\n",
       "       ⎝╲╱  η ⋅ζ ⋅sin (α) + 2⋅η ⋅ζ⋅cos(α) - 2⋅η ⋅ζ + 1 ⋅sin(α)⎠"
      ]
     },
     "execution_count": 83,
     "metadata": {},
     "output_type": "execute_result"
    }
   ],
   "source": [
    "theta_normed = sp.simplify(theta_sol)\n",
    "theta_normed"
   ]
  },
  {
   "cell_type": "code",
   "execution_count": 84,
   "metadata": {},
   "outputs": [
    {
     "data": {
      "image/png": "[encoded data removed]",
      "text/latex": [
       "$\\displaystyle \\frac{1 - \\cos{\\left(\\alpha \\right)}}{\\sin^{2}{\\left(\\alpha \\right)}}$"
      ],
      "text/plain": [
       "1 - cos(α)\n",
       "──────────\n",
       "    2     \n",
       " sin (α)  "
      ]
     },
     "execution_count": 84,
     "metadata": {},
     "output_type": "execute_result"
    }
   ],
   "source": [
    "zeta_flat_ = sp.solve(theta_normed.args[1].args[0].args[3],zeta)[0]\n",
    "zeta_flat_"
   ]
  },
  {
   "cell_type": "code",
   "execution_count": 85,
   "metadata": {},
   "outputs": [],
   "source": [
    "get_zeta_flat = sp.lambdify(alpha, zeta_flat_)"
   ]
  },
  {
   "cell_type": "code",
   "execution_count": 86,
   "metadata": {},
   "outputs": [],
   "source": [
    "zeta_0 = get_zeta_flat(alpha_range[0])"
   ]
  },
  {
   "cell_type": "code",
   "execution_count": 87,
   "metadata": {
    "scrolled": false
   },
   "outputs": [
    {
     "data": {
      "application/vnd.jupyter.widget-view+json": {
       "model_id": "1b4623adf50b411a8d2e6e8455542906",
       "version_major": 2,
       "version_minor": 0
      },
      "text/plain": [
       "VBox(children=(HBox(children=(VBox(children=(Tree(layout=Layout(align_items='stretch', border='solid 1px black…"
      ]
     },
     "metadata": {},
     "output_type": "display_data"
    }
   ],
   "source": [
    "from bmcs_shell.folding.wb_cell_4p import WBElem4Param\n",
    "from bmcs_shell.folding.wb_tessellation import WBTessellation\n",
    "b_ = 1\n",
    "a_ = eta_range[-1] * b_\n",
    "#c_ = zeta_range[-1] * a_\n",
    "c_ = zeta_0 * a_ + 1e-3\n",
    "data = dict(alpha=alpha_range[0],a=a_, b=b_, c=c_) # c_range[0])\n",
    "wb = WBElem4Param(**data)\n",
    "ws = WBTessellation(wb_cell=wb, show_wireframe=True, show_nodes=False, **data)\n",
    "ws.interact()"
   ]
  },
  {
   "cell_type": "code",
   "execution_count": 139,
   "metadata": {},
   "outputs": [],
   "source": [
    "import bmcs_utils.api as bu\n",
    "b_ = 1\n",
    "a_ = eta_range[-1] * b_\n",
    "c_ = zeta_range[-1] * a_\n",
    "c_ = zeta_0 * a_ + 1e-3\n",
    "data = dict(alpha=1e-4,a=a_, b=b_, c=c_) # c_range[0])\n",
    "wb = WBElem4Param(show_wireframe=True,**data)\n",
    "app_window = bu.AppWindow(wb)"
   ]
  },
  {
   "cell_type": "code",
   "execution_count": 158,
   "metadata": {},
   "outputs": [],
   "source": [
    "def wb_plot_mpl(eta, zeta, b_=1):\n",
    "    a_ = eta * b_\n",
    "    c_ = zeta * a_\n",
    "    data = dict(alpha=1e-4,a=a_, b=b_, c=c_)\n",
    "    wb = WBElem4Param(show_wireframe=True,**data)\n",
    "    wb_X_Fia = wb.X_Ia[wb.I_Fi,:-1]\n",
    "    wb_X_aiF = np.einsum('Fia->aiF', wb_X_Fia)\n",
    "    wb_X_aLiF = wb_X_aiF[:,[[0,1],[1,2],[2,0]],:]\n",
    "    x_iLF, y_iLF = np.einsum('aLiF->aiLF', wb_X_aLiF)\n",
    "    return x_iLF.reshape(2,-1), y_iLF.reshape(2,-1)"
   ]
  },
  {
   "cell_type": "code",
   "execution_count": 159,
   "metadata": {},
   "outputs": [
    {
     "data": {
      "text/plain": [
       "(array([[ 0.  ,  0.  ,  0.  ,  0.  ,  0.  ,  0.  ,  0.3 ,  0.3 ,  0.3 ,\n",
       "         -0.3 ,  0.3 , -0.3 , -0.3 , -0.3 ,  0.12, -0.12,  0.12, -0.12],\n",
       "        [ 0.3 ,  0.3 ,  0.3 , -0.3 ,  0.3 , -0.3 , -0.3 , -0.3 ,  0.12,\n",
       "         -0.12,  0.12, -0.12,  0.  ,  0.  ,  0.  ,  0.  ,  0.  ,  0.  ]]),\n",
       " array([[ 0.,  0.,  0.,  0.,  0.,  0.,  1., -1.,  1.,  1., -1., -1.,  1.,\n",
       "         -1.,  0.,  0.,  0.,  0.],\n",
       "        [ 1., -1.,  1.,  1., -1., -1.,  1., -1.,  0.,  0.,  0.,  0.,  0.,\n",
       "          0.,  0.,  0.,  0.,  0.]]))"
      ]
     },
     "execution_count": 159,
     "metadata": {},
     "output_type": "execute_result"
    }
   ],
   "source": [
    "wb_plot_mpl(eta_range[0], zeta_range[0])"
   ]
  },
  {
   "cell_type": "code",
   "execution_count": 160,
   "metadata": {},
   "outputs": [
    {
     "data": {
      "application/vnd.jupyter.widget-view+json": {
       "model_id": "de5bc360b243435fa392d83baa9b6a96",
       "version_major": 2,
       "version_minor": 0
      },
      "text/plain": [
       "Canvas(toolbar=Toolbar(toolitems=[('Home', 'Reset original view', 'home', 'home'), ('Back', 'Back to previous …"
      ]
     },
     "metadata": {},
     "output_type": "display_data"
    }
   ],
   "source": [
    "_, axes = plt.subplots(2,3)\n",
    "((ax11,ax12,ax13), (ax21, ax22, ax23)) = axes\n",
    "ax11.plot(*wb_plot_mpl(eta_range[0], zeta_range[0]), color='black')\n",
    "ax12.plot(*wb_plot_mpl(eta_range[0], zeta_0), color='black')\n",
    "ax13.plot(*wb_plot_mpl(eta_range[0], zeta_range[-1]), color='black')\n",
    "ax21.plot(*wb_plot_mpl(eta_range[-1], zeta_range[0]), color='black')\n",
    "ax22.plot(*wb_plot_mpl(eta_range[-1], zeta_0), color='black')\n",
    "ax23.plot(*wb_plot_mpl(eta_range[-1], zeta_range[-1]), color='black')\n",
    "fig.tight_layout = True\n",
    "for ax_row in axes:\n",
    "    for ax in ax_row:\n",
    "        ax.set_aspect('equal', 'box')\n",
    "        ax.axis('off')\n",
    "        ax.set_xlim(-1.2,1.2)"
   ]
  },
  {
   "cell_type": "code",
   "execution_count": 161,
   "metadata": {},
   "outputs": [
    {
     "data": {
      "application/vnd.jupyter.widget-view+json": {
       "model_id": "d2ba43604cfd4111bf6a22929b22b631",
       "version_major": 2,
       "version_minor": 0
      },
      "text/plain": [
       "VBox(children=(HBox(children=(VBox(children=(Tree(layout=Layout(align_items='stretch', border='solid 1px black…"
      ]
     },
     "metadata": {},
     "output_type": "display_data"
    }
   ],
   "source": [
    "app_window.interact()"
   ]
  },
  {
   "cell_type": "code",
   "execution_count": 162,
   "metadata": {},
   "outputs": [],
   "source": [
    "app_window.pb.plot_fig.grid_visible=False"
   ]
  },
  {
   "cell_type": "code",
   "execution_count": 165,
   "metadata": {},
   "outputs": [
    {
     "data": {
      "image/png": "[encoded data removed]",
      "text/latex": [
       "$\\displaystyle L \\eta \\zeta \\sin{\\left(\\alpha \\right)}$"
      ],
      "text/plain": [
       "L⋅η⋅ζ⋅sin(α)"
      ]
     },
     "execution_count": 165,
     "metadata": {},
     "output_type": "execute_result"
    }
   ],
   "source": [
    "H_sol"
   ]
  },
  {
   "cell_type": "code",
   "execution_count": 163,
   "metadata": {},
   "outputs": [],
   "source": [
    "h_normed = (H_sol).subs(c,zeta*a).subs(zeta, zeta_flat_)"
   ]
  },
  {
   "cell_type": "code",
   "execution_count": 164,
   "metadata": {},
   "outputs": [
    {
     "data": {
      "image/png": "[encoded data removed]",
      "text/latex": [
       "$\\displaystyle \\frac{L \\eta \\left(1 - \\cos{\\left(\\alpha \\right)}\\right)}{\\sin{\\left(\\alpha \\right)}}$"
      ],
      "text/plain": [
       "L⋅η⋅(1 - cos(α))\n",
       "────────────────\n",
       "     sin(α)     "
      ]
     },
     "execution_count": 164,
     "metadata": {},
     "output_type": "execute_result"
    }
   ],
   "source": [
    "h_normed"
   ]
  },
  {
   "cell_type": "code",
   "execution_count": 76,
   "metadata": {},
   "outputs": [],
   "source": [
    "get_h_normed = sp.lambdify((alpha,eta,L), h_normed)"
   ]
  },
  {
   "cell_type": "code",
   "execution_count": 77,
   "metadata": {},
   "outputs": [
    {
     "data": {
      "application/vnd.jupyter.widget-view+json": {
       "model_id": "b51ad573ca514b729534dc013ecab6a4",
       "version_major": 2,
       "version_minor": 0
      },
      "text/plain": [
       "Canvas(toolbar=Toolbar(toolitems=[('Home', 'Reset original view', 'home', 'home'), ('Back', 'Back to previous …"
      ]
     },
     "metadata": {},
     "output_type": "display_data"
    },
    {
     "data": {
      "text/plain": [
       "[<matplotlib.lines.Line2D at 0x7fbfc7e8c670>]"
      ]
     },
     "execution_count": 77,
     "metadata": {},
     "output_type": "execute_result"
    }
   ],
   "source": [
    "_, ax = plt.subplots(1,1)\n",
    "alpha_range = np.linspace(1e-5,np.pi/2,100)\n",
    "ax.plot(alpha_range, get_h_normed(alpha_range,0.5,1))"
   ]
  },
  {
   "cell_type": "markdown",
   "metadata": {},
   "source": [
    "# "
   ]
  },
  {
   "cell_type": "code",
   "execution_count": null,
   "metadata": {},
   "outputs": [],
   "source": []
  }
 ],
 "metadata": {
  "kernelspec": {
   "display_name": "bmcs_env",
   "language": "python",
   "name": "bmcs_env"
  },
  "language_info": {
   "codemirror_mode": {
    "name": "ipython",
    "version": 3
   },
   "file_extension": ".py",
   "mimetype": "text/x-python",
   "name": "python",
   "nbconvert_exporter": "python",
   "pygments_lexer": "ipython3",
   "version": "3.9.2"
  },
  "toc": {
   "base_numbering": 1,
   "nav_menu": {},
   "number_sections": true,
   "sideBar": true,
   "skip_h1_title": true,
   "title_cell": "Table of Contents",
   "title_sidebar": "Contents",
   "toc_cell": false,
   "toc_position": {},
   "toc_section_display": true,
   "toc_window_display": false
  }
 },
 "nbformat": 4,
 "nbformat_minor": 1
}
