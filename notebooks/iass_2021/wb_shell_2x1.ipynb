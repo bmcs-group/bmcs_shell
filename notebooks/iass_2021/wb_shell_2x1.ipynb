{
 "cells": [
  {
   "cell_type": "markdown",
   "metadata": {},
   "source": [
    "# IASS 2021 - Waterbomb 4p shell studies"
   ]
  },
  {
   "cell_type": "code",
   "execution_count": 3,
   "metadata": {
    "pycharm": {
     "name": "#%%\n"
    }
   },
   "outputs": [],
   "source": [
    "%matplotlib widget"
   ]
  },
  {
   "cell_type": "code",
   "execution_count": 5,
   "metadata": {},
   "outputs": [],
   "source": [
    "%matplotlib widget\n",
    "from bmcs_shell.folding.wb_shell_analysis import WBShellAnalysis\n",
    "\n",
    "from bmcs_shell.folding.vmats2D_elastic import MATS2DElastic\n",
    "import bmcs_utils.api as bu"
   ]
  },
  {
   "cell_type": "code",
   "execution_count": 6,
   "metadata": {},
   "outputs": [
    {
     "ename": "AttributeError",
     "evalue": "'WBShellAnalysis' object has no attribute 'wb_mesh'",
     "output_type": "error",
     "traceback": [
      "\u001b[0;31m---------------------------------------------------------------------------\u001b[0m",
      "\u001b[0;31mAttributeError\u001b[0m                            Traceback (most recent call last)",
      "\u001b[0;32m<ipython-input-6-4feb87b6ed96>\u001b[0m in \u001b[0;36m<module>\u001b[0;34m\u001b[0m\n\u001b[1;32m      5\u001b[0m data = dict(alpha=1., a=500, a_high=3000, b=900, b_high=3000, c=400, c_high=2000,\n\u001b[1;32m      6\u001b[0m             n_phi_plus=n_phi_plus, n_x_plus=n_x_plus, show_nodes=True)\n\u001b[0;32m----> 7\u001b[0;31m \u001b[0mwbm\u001b[0m\u001b[0;34m.\u001b[0m\u001b[0mwb_mesh\u001b[0m\u001b[0;34m.\u001b[0m\u001b[0mtrait_set\u001b[0m\u001b[0;34m(\u001b[0m\u001b[0;34m**\u001b[0m\u001b[0mdata\u001b[0m\u001b[0;34m)\u001b[0m\u001b[0;34m;\u001b[0m\u001b[0;34m\u001b[0m\u001b[0;34m\u001b[0m\u001b[0m\n\u001b[0m",
      "\u001b[0;31mAttributeError\u001b[0m: 'WBShellAnalysis' object has no attribute 'wb_mesh'"
     ]
    }
   ],
   "source": [
    "tmodel = MATS2DElastic(E=28000, nu=0.2)\n",
    "n_phi_plus=2\n",
    "n_x_plus=1\n",
    "wbm = WBShellAnalysis(F=-20000, h=10, tmodel=tmodel)\n",
    "data = dict(alpha=1., a=500, a_high=3000, b=900, b_high=3000, c=400, c_high=2000,\n",
    "            n_phi_plus=n_phi_plus, n_x_plus=n_x_plus, show_nodes=True)\n",
    "wbm.wb_mesh.trait_set(**data);"
   ]
  },
  {
   "cell_type": "code",
   "execution_count": 18,
   "metadata": {},
   "outputs": [
    {
     "data": {
      "application/vnd.jupyter.widget-view+json": {
       "model_id": "55c026187c694857ada280e02788668c",
       "version_major": 2,
       "version_minor": 0
      },
      "text/plain": [
       "VBox(children=(HBox(children=(VBox(children=(Tree(layout=Layout(align_items='stretch', border='solid 1px black…"
      ]
     },
     "metadata": {},
     "output_type": "display_data"
    }
   ],
   "source": [
    "wbm.app()"
   ]
  },
  {
   "cell_type": "code",
   "execution_count": 19,
   "metadata": {},
   "outputs": [
    {
     "data": {
      "text/plain": [
       "array([[    0.        ,   808.02069092,   -59.7734375 ],\n",
       "       [  500.        ,  1696.42700195,    84.22070312],\n",
       "       [ -500.        ,  1696.42700195,    84.22070312],\n",
       "       [  500.        ,     0.        ,   336.58886719],\n",
       "       [ -500.        ,     0.        ,   336.58886719],\n",
       "       [  216.1209259 ,   857.54797363,   273.15136719],\n",
       "       [ -216.1209259 ,   857.54797363,   273.15136719],\n",
       "       [    0.        ,  -808.02069092,   -59.7734375 ],\n",
       "       [  500.        , -1696.42700195,    84.22070312],\n",
       "       [ -500.        , -1696.42700195,    84.22070312],\n",
       "       [  216.1209259 ,  -857.54797363,   273.15136719],\n",
       "       [ -216.1209259 ,  -857.54797363,   273.15136719]])"
      ]
     },
     "execution_count": 19,
     "metadata": {},
     "output_type": "execute_result"
    }
   ],
   "source": [
    "wbm.wb_mesh.X_Id  # nodal coordinates"
   ]
  },
  {
   "cell_type": "code",
   "execution_count": 20,
   "metadata": {},
   "outputs": [
    {
     "data": {
      "text/plain": [
       "array([[ 0,  1,  2],\n",
       "       [ 0,  3,  4],\n",
       "       [ 0,  1,  5],\n",
       "       [ 0,  2,  6],\n",
       "       [ 0,  3,  5],\n",
       "       [ 0,  4,  6],\n",
       "       [ 7,  3,  4],\n",
       "       [ 7,  8,  9],\n",
       "       [ 7,  3, 10],\n",
       "       [ 7,  4, 11],\n",
       "       [ 7,  8, 10],\n",
       "       [ 7,  9, 11]])"
      ]
     },
     "execution_count": 20,
     "metadata": {},
     "output_type": "execute_result"
    }
   ],
   "source": [
    "wbm.wb_mesh.I_Fi  # elements"
   ]
  },
  {
   "cell_type": "code",
   "execution_count": null,
   "metadata": {},
   "outputs": [],
   "source": []
  }
 ],
 "metadata": {
  "kernelspec": {
   "display_name": "bmcs_env",
   "language": "python",
   "name": "bmcs_env"
  },
  "language_info": {
   "codemirror_mode": {
    "name": "ipython",
    "version": 3
   },
   "file_extension": ".py",
   "mimetype": "text/x-python",
   "name": "python",
   "nbconvert_exporter": "python",
   "pygments_lexer": "ipython3",
   "version": "3.8.8"
  },
  "toc": {
   "base_numbering": 1,
   "nav_menu": {},
   "number_sections": true,
   "sideBar": true,
   "skip_h1_title": true,
   "title_cell": "Table of Contents",
   "title_sidebar": "Contents",
   "toc_cell": false,
   "toc_position": {
    "height": "calc(100% - 180px)",
    "left": "10px",
    "top": "150px",
    "width": "165px"
   },
   "toc_section_display": true,
   "toc_window_display": false
  }
 },
 "nbformat": 4,
 "nbformat_minor": 4
}
